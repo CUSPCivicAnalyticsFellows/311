{
 "cells": [
  {
   "cell_type": "code",
   "execution_count": 63,
   "metadata": {
    "collapsed": false
   },
   "outputs": [
    {
     "name": "stdout",
     "output_type": "stream",
     "text": [
      "Populating the interactive namespace from numpy and matplotlib\n"
     ]
    },
    {
     "name": "stderr",
     "output_type": "stream",
     "text": [
      "WARNING: pylab import has clobbered these variables: ['f']\n",
      "`%matplotlib` prevents importing * from pylab and numpy\n"
     ]
    }
   ],
   "source": [
    "import geopandas as gpd\n",
    "import pandas as pd\n",
    "import numpy as np\n",
    "import sklearn.cluster as cluster\n",
    "from matplotlib.pylab import plt\n",
    "from sklearn.metrics import silhouette_samples, silhouette_score\n",
    "import matplotlib.cm as cm\n",
    "from sklearn.cluster import KMeans\n",
    "from scipy.spatial.distance import cdist, pdist\n",
    "import zipfile\n",
    "%pylab inline"
   ]
  },
  {
   "cell_type": "code",
   "execution_count": 2,
   "metadata": {
    "collapsed": false
   },
   "outputs": [],
   "source": [
    "features = pd.read_csv('../data_processed/acs_merged_features')\n",
    "complaints = pd.read_csv('../data_processed/DOB_count_illegal_conv_2015_ZC')"
   ]
  },
  {
   "cell_type": "code",
   "execution_count": 3,
   "metadata": {
    "collapsed": false
   },
   "outputs": [
    {
     "data": {
      "text/html": [
       "<div>\n",
       "<table border=\"1\" class=\"dataframe\">\n",
       "  <thead>\n",
       "    <tr style=\"text-align: right;\">\n",
       "      <th></th>\n",
       "      <th>Unnamed: 0</th>\n",
       "      <th>Zip Code</th>\n",
       "      <th>Unemployment Rate for Pop &gt; 16 Years (%)</th>\n",
       "      <th>Percentage of Pop &gt; 5 Years Who Don't Speak English at Home and Speak English &lt; 'Very Well'</th>\n",
       "      <th>2015 Median Household Income</th>\n",
       "      <th>Count of Illegal Resident Conversion Violations</th>\n",
       "    </tr>\n",
       "  </thead>\n",
       "  <tbody>\n",
       "    <tr>\n",
       "      <th>0</th>\n",
       "      <td>0</td>\n",
       "      <td>6390.0</td>\n",
       "      <td>9.8</td>\n",
       "      <td>0.0</td>\n",
       "      <td>151083</td>\n",
       "      <td>NaN</td>\n",
       "    </tr>\n",
       "    <tr>\n",
       "      <th>1</th>\n",
       "      <td>1</td>\n",
       "      <td>10001.0</td>\n",
       "      <td>8.4</td>\n",
       "      <td>11.0</td>\n",
       "      <td>86801</td>\n",
       "      <td>0.0</td>\n",
       "    </tr>\n",
       "    <tr>\n",
       "      <th>2</th>\n",
       "      <td>2</td>\n",
       "      <td>10002.0</td>\n",
       "      <td>8.9</td>\n",
       "      <td>37.4</td>\n",
       "      <td>33726</td>\n",
       "      <td>2.0</td>\n",
       "    </tr>\n",
       "    <tr>\n",
       "      <th>3</th>\n",
       "      <td>3</td>\n",
       "      <td>10003.0</td>\n",
       "      <td>6.1</td>\n",
       "      <td>4.9</td>\n",
       "      <td>98151</td>\n",
       "      <td>3.0</td>\n",
       "    </tr>\n",
       "    <tr>\n",
       "      <th>4</th>\n",
       "      <td>4</td>\n",
       "      <td>10004.0</td>\n",
       "      <td>6.1</td>\n",
       "      <td>2.6</td>\n",
       "      <td>119691</td>\n",
       "      <td>0.0</td>\n",
       "    </tr>\n",
       "  </tbody>\n",
       "</table>\n",
       "</div>"
      ],
      "text/plain": [
       "   Unnamed: 0  Zip Code Unemployment Rate for Pop > 16 Years (%)  \\\n",
       "0           0    6390.0                                      9.8   \n",
       "1           1   10001.0                                      8.4   \n",
       "2           2   10002.0                                      8.9   \n",
       "3           3   10003.0                                      6.1   \n",
       "4           4   10004.0                                      6.1   \n",
       "\n",
       "  Percentage of Pop > 5 Years Who Don't Speak English at Home and Speak English < 'Very Well'  \\\n",
       "0                                                0.0                                            \n",
       "1                                               11.0                                            \n",
       "2                                               37.4                                            \n",
       "3                                                4.9                                            \n",
       "4                                                2.6                                            \n",
       "\n",
       "  2015 Median Household Income  \\\n",
       "0                       151083   \n",
       "1                        86801   \n",
       "2                        33726   \n",
       "3                        98151   \n",
       "4                       119691   \n",
       "\n",
       "   Count of Illegal Resident Conversion Violations  \n",
       "0                                              NaN  \n",
       "1                                              0.0  \n",
       "2                                              2.0  \n",
       "3                                              3.0  \n",
       "4                                              0.0  "
      ]
     },
     "execution_count": 3,
     "metadata": {},
     "output_type": "execute_result"
    }
   ],
   "source": [
    "features.head()"
   ]
  },
  {
   "cell_type": "code",
   "execution_count": 4,
   "metadata": {
    "collapsed": false
   },
   "outputs": [
    {
     "data": {
      "text/html": [
       "<div>\n",
       "<table border=\"1\" class=\"dataframe\">\n",
       "  <thead>\n",
       "    <tr style=\"text-align: right;\">\n",
       "      <th></th>\n",
       "      <th>Unnamed: 0</th>\n",
       "      <th>Incident Zip</th>\n",
       "      <th>Count of Complaints</th>\n",
       "    </tr>\n",
       "  </thead>\n",
       "  <tbody>\n",
       "    <tr>\n",
       "      <th>0</th>\n",
       "      <td>92</td>\n",
       "      <td>11208</td>\n",
       "      <td>642</td>\n",
       "    </tr>\n",
       "    <tr>\n",
       "      <th>1</th>\n",
       "      <td>156</td>\n",
       "      <td>11419</td>\n",
       "      <td>617</td>\n",
       "    </tr>\n",
       "    <tr>\n",
       "      <th>2</th>\n",
       "      <td>157</td>\n",
       "      <td>11420</td>\n",
       "      <td>438</td>\n",
       "    </tr>\n",
       "    <tr>\n",
       "      <th>3</th>\n",
       "      <td>125</td>\n",
       "      <td>11355</td>\n",
       "      <td>355</td>\n",
       "    </tr>\n",
       "    <tr>\n",
       "      <th>4</th>\n",
       "      <td>104</td>\n",
       "      <td>11220</td>\n",
       "      <td>331</td>\n",
       "    </tr>\n",
       "  </tbody>\n",
       "</table>\n",
       "</div>"
      ],
      "text/plain": [
       "   Unnamed: 0  Incident Zip  Count of Complaints\n",
       "0          92         11208                  642\n",
       "1         156         11419                  617\n",
       "2         157         11420                  438\n",
       "3         125         11355                  355\n",
       "4         104         11220                  331"
      ]
     },
     "execution_count": 4,
     "metadata": {},
     "output_type": "execute_result"
    }
   ],
   "source": [
    "complaints.head()"
   ]
  },
  {
   "cell_type": "code",
   "execution_count": 5,
   "metadata": {
    "collapsed": true
   },
   "outputs": [],
   "source": [
    "features = features.drop('Unnamed: 0', axis=1)\n",
    "complaints = complaints.drop('Unnamed: 0', axis=1)"
   ]
  },
  {
   "cell_type": "code",
   "execution_count": 6,
   "metadata": {
    "collapsed": true
   },
   "outputs": [],
   "source": [
    "features = pd.merge(features, complaints, how='right', left_on='Zip Code', right_on='Incident Zip')"
   ]
  },
  {
   "cell_type": "code",
   "execution_count": 7,
   "metadata": {
    "collapsed": false
   },
   "outputs": [
    {
     "data": {
      "text/html": [
       "<div>\n",
       "<table border=\"1\" class=\"dataframe\">\n",
       "  <thead>\n",
       "    <tr style=\"text-align: right;\">\n",
       "      <th></th>\n",
       "      <th>Zip Code</th>\n",
       "      <th>Unemployment Rate for Pop &gt; 16 Years (%)</th>\n",
       "      <th>Percentage of Pop &gt; 5 Years Who Don't Speak English at Home and Speak English &lt; 'Very Well'</th>\n",
       "      <th>2015 Median Household Income</th>\n",
       "      <th>Count of Illegal Resident Conversion Violations</th>\n",
       "      <th>Incident Zip</th>\n",
       "      <th>Count of Complaints</th>\n",
       "    </tr>\n",
       "  </thead>\n",
       "  <tbody>\n",
       "    <tr>\n",
       "      <th>0</th>\n",
       "      <td>10001.0</td>\n",
       "      <td>8.4</td>\n",
       "      <td>11.0</td>\n",
       "      <td>86801</td>\n",
       "      <td>0.0</td>\n",
       "      <td>10001</td>\n",
       "      <td>38</td>\n",
       "    </tr>\n",
       "    <tr>\n",
       "      <th>1</th>\n",
       "      <td>10002.0</td>\n",
       "      <td>8.9</td>\n",
       "      <td>37.4</td>\n",
       "      <td>33726</td>\n",
       "      <td>2.0</td>\n",
       "      <td>10002</td>\n",
       "      <td>73</td>\n",
       "    </tr>\n",
       "    <tr>\n",
       "      <th>2</th>\n",
       "      <td>10003.0</td>\n",
       "      <td>6.1</td>\n",
       "      <td>4.9</td>\n",
       "      <td>98151</td>\n",
       "      <td>3.0</td>\n",
       "      <td>10003</td>\n",
       "      <td>56</td>\n",
       "    </tr>\n",
       "    <tr>\n",
       "      <th>3</th>\n",
       "      <td>10004.0</td>\n",
       "      <td>6.1</td>\n",
       "      <td>2.6</td>\n",
       "      <td>119691</td>\n",
       "      <td>0.0</td>\n",
       "      <td>10004</td>\n",
       "      <td>1</td>\n",
       "    </tr>\n",
       "    <tr>\n",
       "      <th>4</th>\n",
       "      <td>10005.0</td>\n",
       "      <td>3.7</td>\n",
       "      <td>3.6</td>\n",
       "      <td>124194</td>\n",
       "      <td>0.0</td>\n",
       "      <td>10005</td>\n",
       "      <td>4</td>\n",
       "    </tr>\n",
       "  </tbody>\n",
       "</table>\n",
       "</div>"
      ],
      "text/plain": [
       "   Zip Code Unemployment Rate for Pop > 16 Years (%)  \\\n",
       "0   10001.0                                      8.4   \n",
       "1   10002.0                                      8.9   \n",
       "2   10003.0                                      6.1   \n",
       "3   10004.0                                      6.1   \n",
       "4   10005.0                                      3.7   \n",
       "\n",
       "  Percentage of Pop > 5 Years Who Don't Speak English at Home and Speak English < 'Very Well'  \\\n",
       "0                                               11.0                                            \n",
       "1                                               37.4                                            \n",
       "2                                                4.9                                            \n",
       "3                                                2.6                                            \n",
       "4                                                3.6                                            \n",
       "\n",
       "  2015 Median Household Income  \\\n",
       "0                        86801   \n",
       "1                        33726   \n",
       "2                        98151   \n",
       "3                       119691   \n",
       "4                       124194   \n",
       "\n",
       "   Count of Illegal Resident Conversion Violations  Incident Zip  \\\n",
       "0                                              0.0         10001   \n",
       "1                                              2.0         10002   \n",
       "2                                              3.0         10003   \n",
       "3                                              0.0         10004   \n",
       "4                                              0.0         10005   \n",
       "\n",
       "   Count of Complaints  \n",
       "0                   38  \n",
       "1                   73  \n",
       "2                   56  \n",
       "3                    1  \n",
       "4                    4  "
      ]
     },
     "execution_count": 7,
     "metadata": {},
     "output_type": "execute_result"
    }
   ],
   "source": [
    "features.head()"
   ]
  },
  {
   "cell_type": "code",
   "execution_count": 8,
   "metadata": {
    "collapsed": false
   },
   "outputs": [
    {
     "data": {
      "text/plain": [
       "Zip Code                                                                                       1\n",
       "Unemployment Rate for Pop > 16 Years (%)                                                       1\n",
       "Percentage of Pop > 5 Years Who Don't Speak English at Home and Speak English < 'Very Well'    1\n",
       "2015 Median Household Income                                                                   1\n",
       "Count of Illegal Resident Conversion Violations                                                1\n",
       "Incident Zip                                                                                   0\n",
       "Count of Complaints                                                                            0\n",
       "dtype: int64"
      ]
     },
     "execution_count": 8,
     "metadata": {},
     "output_type": "execute_result"
    }
   ],
   "source": [
    "features.isnull().sum()"
   ]
  },
  {
   "cell_type": "code",
   "execution_count": 9,
   "metadata": {
    "collapsed": true
   },
   "outputs": [],
   "source": [
    "features = features.rename(columns={'Count of Complaints':'complaints', 'Unemployment Rate for Pop > 16 Years (%)':'unemployment',\"Percentage of Pop > 5 Years Who Don't Speak English at Home and Speak English < 'Very Well'\":'poor_english','2015 Median Household Income':'household_income', 'Count of Illegal Resident Conversion Violations':'violations', 'Count of Complaints':'complaints'})"
   ]
  },
  {
   "cell_type": "code",
   "execution_count": 10,
   "metadata": {
    "collapsed": true
   },
   "outputs": [],
   "source": [
    "features = features.drop('Zip Code', axis=1)"
   ]
  },
  {
   "cell_type": "code",
   "execution_count": 11,
   "metadata": {
    "collapsed": true
   },
   "outputs": [],
   "source": [
    "features = features.set_index('Incident Zip')"
   ]
  },
  {
   "cell_type": "code",
   "execution_count": 12,
   "metadata": {
    "collapsed": false
   },
   "outputs": [
    {
     "name": "stdout",
     "output_type": "stream",
     "text": [
      "176\n"
     ]
    }
   ],
   "source": [
    "print(len(features))"
   ]
  },
  {
   "cell_type": "code",
   "execution_count": 13,
   "metadata": {
    "collapsed": false
   },
   "outputs": [
    {
     "data": {
      "text/html": [
       "<div>\n",
       "<table border=\"1\" class=\"dataframe\">\n",
       "  <thead>\n",
       "    <tr style=\"text-align: right;\">\n",
       "      <th></th>\n",
       "      <th>unemployment</th>\n",
       "      <th>poor_english</th>\n",
       "      <th>household_income</th>\n",
       "      <th>violations</th>\n",
       "      <th>complaints</th>\n",
       "    </tr>\n",
       "    <tr>\n",
       "      <th>Incident Zip</th>\n",
       "      <th></th>\n",
       "      <th></th>\n",
       "      <th></th>\n",
       "      <th></th>\n",
       "      <th></th>\n",
       "    </tr>\n",
       "  </thead>\n",
       "  <tbody>\n",
       "    <tr>\n",
       "      <th>10001</th>\n",
       "      <td>8.4</td>\n",
       "      <td>11.0</td>\n",
       "      <td>86801</td>\n",
       "      <td>0.0</td>\n",
       "      <td>38</td>\n",
       "    </tr>\n",
       "    <tr>\n",
       "      <th>10002</th>\n",
       "      <td>8.9</td>\n",
       "      <td>37.4</td>\n",
       "      <td>33726</td>\n",
       "      <td>2.0</td>\n",
       "      <td>73</td>\n",
       "    </tr>\n",
       "    <tr>\n",
       "      <th>10003</th>\n",
       "      <td>6.1</td>\n",
       "      <td>4.9</td>\n",
       "      <td>98151</td>\n",
       "      <td>3.0</td>\n",
       "      <td>56</td>\n",
       "    </tr>\n",
       "    <tr>\n",
       "      <th>10004</th>\n",
       "      <td>6.1</td>\n",
       "      <td>2.6</td>\n",
       "      <td>119691</td>\n",
       "      <td>0.0</td>\n",
       "      <td>1</td>\n",
       "    </tr>\n",
       "    <tr>\n",
       "      <th>10005</th>\n",
       "      <td>3.7</td>\n",
       "      <td>3.6</td>\n",
       "      <td>124194</td>\n",
       "      <td>0.0</td>\n",
       "      <td>4</td>\n",
       "    </tr>\n",
       "    <tr>\n",
       "      <th>10006</th>\n",
       "      <td>2.7</td>\n",
       "      <td>3.5</td>\n",
       "      <td>123691</td>\n",
       "      <td>0.0</td>\n",
       "      <td>2</td>\n",
       "    </tr>\n",
       "    <tr>\n",
       "      <th>10007</th>\n",
       "      <td>1.5</td>\n",
       "      <td>6.7</td>\n",
       "      <td>250,000+</td>\n",
       "      <td>0.0</td>\n",
       "      <td>2</td>\n",
       "    </tr>\n",
       "    <tr>\n",
       "      <th>10009</th>\n",
       "      <td>5.6</td>\n",
       "      <td>16.8</td>\n",
       "      <td>59090</td>\n",
       "      <td>0.0</td>\n",
       "      <td>45</td>\n",
       "    </tr>\n",
       "    <tr>\n",
       "      <th>10010</th>\n",
       "      <td>5.8</td>\n",
       "      <td>6.1</td>\n",
       "      <td>101718</td>\n",
       "      <td>0.0</td>\n",
       "      <td>17</td>\n",
       "    </tr>\n",
       "    <tr>\n",
       "      <th>10011</th>\n",
       "      <td>4.9</td>\n",
       "      <td>7.1</td>\n",
       "      <td>109818</td>\n",
       "      <td>1.0</td>\n",
       "      <td>36</td>\n",
       "    </tr>\n",
       "  </tbody>\n",
       "</table>\n",
       "</div>"
      ],
      "text/plain": [
       "             unemployment poor_english household_income  violations  \\\n",
       "Incident Zip                                                          \n",
       "10001                 8.4         11.0            86801         0.0   \n",
       "10002                 8.9         37.4            33726         2.0   \n",
       "10003                 6.1          4.9            98151         3.0   \n",
       "10004                 6.1          2.6           119691         0.0   \n",
       "10005                 3.7          3.6           124194         0.0   \n",
       "10006                 2.7          3.5           123691         0.0   \n",
       "10007                 1.5          6.7         250,000+         0.0   \n",
       "10009                 5.6         16.8            59090         0.0   \n",
       "10010                 5.8          6.1           101718         0.0   \n",
       "10011                 4.9          7.1           109818         1.0   \n",
       "\n",
       "              complaints  \n",
       "Incident Zip              \n",
       "10001                 38  \n",
       "10002                 73  \n",
       "10003                 56  \n",
       "10004                  1  \n",
       "10005                  4  \n",
       "10006                  2  \n",
       "10007                  2  \n",
       "10009                 45  \n",
       "10010                 17  \n",
       "10011                 36  "
      ]
     },
     "execution_count": 13,
     "metadata": {},
     "output_type": "execute_result"
    }
   ],
   "source": [
    "features.head(10)"
   ]
  },
  {
   "cell_type": "code",
   "execution_count": 14,
   "metadata": {
    "collapsed": false
   },
   "outputs": [],
   "source": [
    "features = features.apply(pd.to_numeric, errors='coerce')"
   ]
  },
  {
   "cell_type": "code",
   "execution_count": 15,
   "metadata": {
    "collapsed": false
   },
   "outputs": [
    {
     "data": {
      "text/html": [
       "<div>\n",
       "<table border=\"1\" class=\"dataframe\">\n",
       "  <thead>\n",
       "    <tr style=\"text-align: right;\">\n",
       "      <th></th>\n",
       "      <th>unemployment</th>\n",
       "      <th>poor_english</th>\n",
       "      <th>household_income</th>\n",
       "      <th>violations</th>\n",
       "      <th>complaints</th>\n",
       "    </tr>\n",
       "    <tr>\n",
       "      <th>Incident Zip</th>\n",
       "      <th></th>\n",
       "      <th></th>\n",
       "      <th></th>\n",
       "      <th></th>\n",
       "      <th></th>\n",
       "    </tr>\n",
       "  </thead>\n",
       "  <tbody>\n",
       "    <tr>\n",
       "      <th>10001</th>\n",
       "      <td>8.4</td>\n",
       "      <td>11.0</td>\n",
       "      <td>86801.0</td>\n",
       "      <td>0.0</td>\n",
       "      <td>38</td>\n",
       "    </tr>\n",
       "    <tr>\n",
       "      <th>10002</th>\n",
       "      <td>8.9</td>\n",
       "      <td>37.4</td>\n",
       "      <td>33726.0</td>\n",
       "      <td>2.0</td>\n",
       "      <td>73</td>\n",
       "    </tr>\n",
       "    <tr>\n",
       "      <th>10003</th>\n",
       "      <td>6.1</td>\n",
       "      <td>4.9</td>\n",
       "      <td>98151.0</td>\n",
       "      <td>3.0</td>\n",
       "      <td>56</td>\n",
       "    </tr>\n",
       "    <tr>\n",
       "      <th>10004</th>\n",
       "      <td>6.1</td>\n",
       "      <td>2.6</td>\n",
       "      <td>119691.0</td>\n",
       "      <td>0.0</td>\n",
       "      <td>1</td>\n",
       "    </tr>\n",
       "    <tr>\n",
       "      <th>10005</th>\n",
       "      <td>3.7</td>\n",
       "      <td>3.6</td>\n",
       "      <td>124194.0</td>\n",
       "      <td>0.0</td>\n",
       "      <td>4</td>\n",
       "    </tr>\n",
       "    <tr>\n",
       "      <th>10006</th>\n",
       "      <td>2.7</td>\n",
       "      <td>3.5</td>\n",
       "      <td>123691.0</td>\n",
       "      <td>0.0</td>\n",
       "      <td>2</td>\n",
       "    </tr>\n",
       "    <tr>\n",
       "      <th>10007</th>\n",
       "      <td>1.5</td>\n",
       "      <td>6.7</td>\n",
       "      <td>NaN</td>\n",
       "      <td>0.0</td>\n",
       "      <td>2</td>\n",
       "    </tr>\n",
       "    <tr>\n",
       "      <th>10009</th>\n",
       "      <td>5.6</td>\n",
       "      <td>16.8</td>\n",
       "      <td>59090.0</td>\n",
       "      <td>0.0</td>\n",
       "      <td>45</td>\n",
       "    </tr>\n",
       "    <tr>\n",
       "      <th>10010</th>\n",
       "      <td>5.8</td>\n",
       "      <td>6.1</td>\n",
       "      <td>101718.0</td>\n",
       "      <td>0.0</td>\n",
       "      <td>17</td>\n",
       "    </tr>\n",
       "    <tr>\n",
       "      <th>10011</th>\n",
       "      <td>4.9</td>\n",
       "      <td>7.1</td>\n",
       "      <td>109818.0</td>\n",
       "      <td>1.0</td>\n",
       "      <td>36</td>\n",
       "    </tr>\n",
       "  </tbody>\n",
       "</table>\n",
       "</div>"
      ],
      "text/plain": [
       "              unemployment  poor_english  household_income  violations  \\\n",
       "Incident Zip                                                             \n",
       "10001                  8.4          11.0           86801.0         0.0   \n",
       "10002                  8.9          37.4           33726.0         2.0   \n",
       "10003                  6.1           4.9           98151.0         3.0   \n",
       "10004                  6.1           2.6          119691.0         0.0   \n",
       "10005                  3.7           3.6          124194.0         0.0   \n",
       "10006                  2.7           3.5          123691.0         0.0   \n",
       "10007                  1.5           6.7               NaN         0.0   \n",
       "10009                  5.6          16.8           59090.0         0.0   \n",
       "10010                  5.8           6.1          101718.0         0.0   \n",
       "10011                  4.9           7.1          109818.0         1.0   \n",
       "\n",
       "              complaints  \n",
       "Incident Zip              \n",
       "10001                 38  \n",
       "10002                 73  \n",
       "10003                 56  \n",
       "10004                  1  \n",
       "10005                  4  \n",
       "10006                  2  \n",
       "10007                  2  \n",
       "10009                 45  \n",
       "10010                 17  \n",
       "10011                 36  "
      ]
     },
     "execution_count": 15,
     "metadata": {},
     "output_type": "execute_result"
    }
   ],
   "source": [
    "features.head(10)"
   ]
  },
  {
   "cell_type": "code",
   "execution_count": 16,
   "metadata": {
    "collapsed": false
   },
   "outputs": [],
   "source": [
    "#features = features.drop(10007, axis=0)"
   ]
  },
  {
   "cell_type": "code",
   "execution_count": 17,
   "metadata": {
    "collapsed": false
   },
   "outputs": [
    {
     "data": {
      "text/html": [
       "<div>\n",
       "<table border=\"1\" class=\"dataframe\">\n",
       "  <thead>\n",
       "    <tr style=\"text-align: right;\">\n",
       "      <th></th>\n",
       "      <th>unemployment</th>\n",
       "      <th>poor_english</th>\n",
       "      <th>household_income</th>\n",
       "      <th>violations</th>\n",
       "      <th>complaints</th>\n",
       "    </tr>\n",
       "    <tr>\n",
       "      <th>Incident Zip</th>\n",
       "      <th></th>\n",
       "      <th></th>\n",
       "      <th></th>\n",
       "      <th></th>\n",
       "      <th></th>\n",
       "    </tr>\n",
       "  </thead>\n",
       "  <tbody>\n",
       "    <tr>\n",
       "      <th>10001</th>\n",
       "      <td>-0.447367</td>\n",
       "      <td>-0.447300</td>\n",
       "      <td>1.788854</td>\n",
       "      <td>-0.447583</td>\n",
       "      <td>-0.446604</td>\n",
       "    </tr>\n",
       "    <tr>\n",
       "      <th>10002</th>\n",
       "      <td>-0.448635</td>\n",
       "      <td>-0.446743</td>\n",
       "      <td>1.788851</td>\n",
       "      <td>-0.449092</td>\n",
       "      <td>-0.444381</td>\n",
       "    </tr>\n",
       "    <tr>\n",
       "      <th>10003</th>\n",
       "      <td>-0.447473</td>\n",
       "      <td>-0.447501</td>\n",
       "      <td>1.788854</td>\n",
       "      <td>-0.447544</td>\n",
       "      <td>-0.446336</td>\n",
       "    </tr>\n",
       "    <tr>\n",
       "      <th>10004</th>\n",
       "      <td>-0.447145</td>\n",
       "      <td>-0.447210</td>\n",
       "      <td>1.788854</td>\n",
       "      <td>-0.447259</td>\n",
       "      <td>-0.447240</td>\n",
       "    </tr>\n",
       "    <tr>\n",
       "      <th>10005</th>\n",
       "      <td>-0.447198</td>\n",
       "      <td>-0.447200</td>\n",
       "      <td>1.788854</td>\n",
       "      <td>-0.447264</td>\n",
       "      <td>-0.447192</td>\n",
       "    </tr>\n",
       "    <tr>\n",
       "      <th>10006</th>\n",
       "      <td>-0.447202</td>\n",
       "      <td>-0.447187</td>\n",
       "      <td>1.788854</td>\n",
       "      <td>-0.447251</td>\n",
       "      <td>-0.447214</td>\n",
       "    </tr>\n",
       "    <tr>\n",
       "      <th>10007</th>\n",
       "      <td>-0.362789</td>\n",
       "      <td>1.433879</td>\n",
       "      <td>NaN</td>\n",
       "      <td>-0.881058</td>\n",
       "      <td>-0.190032</td>\n",
       "    </tr>\n",
       "    <tr>\n",
       "      <th>10009</th>\n",
       "      <td>-0.447639</td>\n",
       "      <td>-0.447215</td>\n",
       "      <td>1.788854</td>\n",
       "      <td>-0.447851</td>\n",
       "      <td>-0.446148</td>\n",
       "    </tr>\n",
       "    <tr>\n",
       "      <th>10010</th>\n",
       "      <td>-0.447245</td>\n",
       "      <td>-0.447238</td>\n",
       "      <td>1.788854</td>\n",
       "      <td>-0.447372</td>\n",
       "      <td>-0.446999</td>\n",
       "    </tr>\n",
       "    <tr>\n",
       "      <th>10011</th>\n",
       "      <td>-0.447363</td>\n",
       "      <td>-0.447318</td>\n",
       "      <td>1.788854</td>\n",
       "      <td>-0.447443</td>\n",
       "      <td>-0.446730</td>\n",
       "    </tr>\n",
       "  </tbody>\n",
       "</table>\n",
       "</div>"
      ],
      "text/plain": [
       "              unemployment  poor_english  household_income  violations  \\\n",
       "Incident Zip                                                             \n",
       "10001            -0.447367     -0.447300          1.788854   -0.447583   \n",
       "10002            -0.448635     -0.446743          1.788851   -0.449092   \n",
       "10003            -0.447473     -0.447501          1.788854   -0.447544   \n",
       "10004            -0.447145     -0.447210          1.788854   -0.447259   \n",
       "10005            -0.447198     -0.447200          1.788854   -0.447264   \n",
       "10006            -0.447202     -0.447187          1.788854   -0.447251   \n",
       "10007            -0.362789      1.433879               NaN   -0.881058   \n",
       "10009            -0.447639     -0.447215          1.788854   -0.447851   \n",
       "10010            -0.447245     -0.447238          1.788854   -0.447372   \n",
       "10011            -0.447363     -0.447318          1.788854   -0.447443   \n",
       "\n",
       "              complaints  \n",
       "Incident Zip              \n",
       "10001          -0.446604  \n",
       "10002          -0.444381  \n",
       "10003          -0.446336  \n",
       "10004          -0.447240  \n",
       "10005          -0.447192  \n",
       "10006          -0.447214  \n",
       "10007          -0.190032  \n",
       "10009          -0.446148  \n",
       "10010          -0.446999  \n",
       "10011          -0.446730  "
      ]
     },
     "execution_count": 17,
     "metadata": {},
     "output_type": "execute_result"
    }
   ],
   "source": [
    "#standardize features in preparation for cluster analysis\n",
    "features = features.T\n",
    "features_stand = (features - features.mean()) / features.std()\n",
    "features_stand = features_stand.T\n",
    "features_stand.head(10)"
   ]
  },
  {
   "cell_type": "code",
   "execution_count": 18,
   "metadata": {
    "collapsed": false
   },
   "outputs": [
    {
     "data": {
      "text/plain": [
       "unemployment        1\n",
       "poor_english        1\n",
       "household_income    3\n",
       "violations          1\n",
       "complaints          1\n",
       "dtype: int64"
      ]
     },
     "execution_count": 18,
     "metadata": {},
     "output_type": "execute_result"
    }
   ],
   "source": [
    "features_stand.isnull().sum()"
   ]
  },
  {
   "cell_type": "code",
   "execution_count": 19,
   "metadata": {
    "collapsed": true
   },
   "outputs": [],
   "source": [
    "features_stand = features_stand.dropna()"
   ]
  },
  {
   "cell_type": "code",
   "execution_count": null,
   "metadata": {
    "collapsed": true
   },
   "outputs": [],
   "source": []
  },
  {
   "cell_type": "code",
   "execution_count": 20,
   "metadata": {
    "collapsed": false
   },
   "outputs": [
    {
     "name": "stdout",
     "output_type": "stream",
     "text": [
      "For n_clusters =2, the average silhouette_score is :0.673869957328\n",
      "For n_clusters =3, the average silhouette_score is :0.596578174744\n",
      "For n_clusters =4, the average silhouette_score is :0.600342353521\n",
      "For n_clusters =5, the average silhouette_score is :0.535057270634\n",
      "For n_clusters =6, the average silhouette_score is :0.463009000459\n",
      "For n_clusters =7, the average silhouette_score is :0.455271228758\n"
     ]
    }
   ],
   "source": [
    "# determine number of clusters with sillhouette score\n",
    "range_n_clusters = [2, 3, 4, 5, 6, 7]\n",
    "for n_clusters in range_n_clusters:\n",
    "    km = KMeans(n_clusters=n_clusters, random_state=324)\n",
    "    cluster_labels = km.fit_predict(features_stand)\n",
    "    silhouette_avg = silhouette_score(features_stand, cluster_labels)\n",
    "    print(\"For n_clusters ={},\".format(n_clusters)+\" the average silhouette_score is :{}\".format(silhouette_avg))"
   ]
  },
  {
   "cell_type": "code",
   "execution_count": 24,
   "metadata": {
    "collapsed": true
   },
   "outputs": [],
   "source": [
    "n = 4\n",
    "km = cluster.KMeans(n_clusters=n, random_state=324)# cluster=5\n",
    "km.fit(features_stand)\n",
    "features_stand_KM = km.predict(features_stand)\n",
    "centers = km.cluster_centers_\n",
    "labels = km.labels_"
   ]
  },
  {
   "cell_type": "code",
   "execution_count": 26,
   "metadata": {
    "collapsed": false
   },
   "outputs": [],
   "source": [
    "features_stand['cluster_label'] = labels"
   ]
  },
  {
   "cell_type": "code",
   "execution_count": 27,
   "metadata": {
    "collapsed": false
   },
   "outputs": [
    {
     "data": {
      "text/html": [
       "<div>\n",
       "<table border=\"1\" class=\"dataframe\">\n",
       "  <thead>\n",
       "    <tr style=\"text-align: right;\">\n",
       "      <th></th>\n",
       "      <th>unemployment</th>\n",
       "      <th>poor_english</th>\n",
       "      <th>household_income</th>\n",
       "      <th>violations</th>\n",
       "      <th>complaints</th>\n",
       "      <th>cluster_label</th>\n",
       "    </tr>\n",
       "    <tr>\n",
       "      <th>Incident Zip</th>\n",
       "      <th></th>\n",
       "      <th></th>\n",
       "      <th></th>\n",
       "      <th></th>\n",
       "      <th></th>\n",
       "      <th></th>\n",
       "    </tr>\n",
       "  </thead>\n",
       "  <tbody>\n",
       "    <tr>\n",
       "      <th>10001</th>\n",
       "      <td>-0.447367</td>\n",
       "      <td>-0.447300</td>\n",
       "      <td>1.788854</td>\n",
       "      <td>-0.447583</td>\n",
       "      <td>-0.446604</td>\n",
       "      <td>1</td>\n",
       "    </tr>\n",
       "    <tr>\n",
       "      <th>10002</th>\n",
       "      <td>-0.448635</td>\n",
       "      <td>-0.446743</td>\n",
       "      <td>1.788851</td>\n",
       "      <td>-0.449092</td>\n",
       "      <td>-0.444381</td>\n",
       "      <td>1</td>\n",
       "    </tr>\n",
       "    <tr>\n",
       "      <th>10003</th>\n",
       "      <td>-0.447473</td>\n",
       "      <td>-0.447501</td>\n",
       "      <td>1.788854</td>\n",
       "      <td>-0.447544</td>\n",
       "      <td>-0.446336</td>\n",
       "      <td>1</td>\n",
       "    </tr>\n",
       "    <tr>\n",
       "      <th>10004</th>\n",
       "      <td>-0.447145</td>\n",
       "      <td>-0.447210</td>\n",
       "      <td>1.788854</td>\n",
       "      <td>-0.447259</td>\n",
       "      <td>-0.447240</td>\n",
       "      <td>1</td>\n",
       "    </tr>\n",
       "    <tr>\n",
       "      <th>10005</th>\n",
       "      <td>-0.447198</td>\n",
       "      <td>-0.447200</td>\n",
       "      <td>1.788854</td>\n",
       "      <td>-0.447264</td>\n",
       "      <td>-0.447192</td>\n",
       "      <td>1</td>\n",
       "    </tr>\n",
       "    <tr>\n",
       "      <th>10006</th>\n",
       "      <td>-0.447202</td>\n",
       "      <td>-0.447187</td>\n",
       "      <td>1.788854</td>\n",
       "      <td>-0.447251</td>\n",
       "      <td>-0.447214</td>\n",
       "      <td>1</td>\n",
       "    </tr>\n",
       "    <tr>\n",
       "      <th>10009</th>\n",
       "      <td>-0.447639</td>\n",
       "      <td>-0.447215</td>\n",
       "      <td>1.788854</td>\n",
       "      <td>-0.447851</td>\n",
       "      <td>-0.446148</td>\n",
       "      <td>1</td>\n",
       "    </tr>\n",
       "    <tr>\n",
       "      <th>10010</th>\n",
       "      <td>-0.447245</td>\n",
       "      <td>-0.447238</td>\n",
       "      <td>1.788854</td>\n",
       "      <td>-0.447372</td>\n",
       "      <td>-0.446999</td>\n",
       "      <td>1</td>\n",
       "    </tr>\n",
       "    <tr>\n",
       "      <th>10011</th>\n",
       "      <td>-0.447363</td>\n",
       "      <td>-0.447318</td>\n",
       "      <td>1.788854</td>\n",
       "      <td>-0.447443</td>\n",
       "      <td>-0.446730</td>\n",
       "      <td>1</td>\n",
       "    </tr>\n",
       "    <tr>\n",
       "      <th>10012</th>\n",
       "      <td>-0.447354</td>\n",
       "      <td>-0.447283</td>\n",
       "      <td>1.788854</td>\n",
       "      <td>-0.447452</td>\n",
       "      <td>-0.446765</td>\n",
       "      <td>1</td>\n",
       "    </tr>\n",
       "  </tbody>\n",
       "</table>\n",
       "</div>"
      ],
      "text/plain": [
       "              unemployment  poor_english  household_income  violations  \\\n",
       "Incident Zip                                                             \n",
       "10001            -0.447367     -0.447300          1.788854   -0.447583   \n",
       "10002            -0.448635     -0.446743          1.788851   -0.449092   \n",
       "10003            -0.447473     -0.447501          1.788854   -0.447544   \n",
       "10004            -0.447145     -0.447210          1.788854   -0.447259   \n",
       "10005            -0.447198     -0.447200          1.788854   -0.447264   \n",
       "10006            -0.447202     -0.447187          1.788854   -0.447251   \n",
       "10009            -0.447639     -0.447215          1.788854   -0.447851   \n",
       "10010            -0.447245     -0.447238          1.788854   -0.447372   \n",
       "10011            -0.447363     -0.447318          1.788854   -0.447443   \n",
       "10012            -0.447354     -0.447283          1.788854   -0.447452   \n",
       "\n",
       "              complaints  cluster_label  \n",
       "Incident Zip                             \n",
       "10001          -0.446604              1  \n",
       "10002          -0.444381              1  \n",
       "10003          -0.446336              1  \n",
       "10004          -0.447240              1  \n",
       "10005          -0.447192              1  \n",
       "10006          -0.447214              1  \n",
       "10009          -0.446148              1  \n",
       "10010          -0.446999              1  \n",
       "10011          -0.446730              1  \n",
       "10012          -0.446765              1  "
      ]
     },
     "execution_count": 27,
     "metadata": {},
     "output_type": "execute_result"
    }
   ],
   "source": [
    "features_stand.head(10)"
   ]
  },
  {
   "cell_type": "code",
   "execution_count": 34,
   "metadata": {
    "collapsed": false
   },
   "outputs": [],
   "source": [
    "z = zipfile.ZipFile(\"../data_initial/ZIP_CODE_040114.zip\")\n",
    "z.extractall(\"../data_initial/\")\n",
    "zips = gpd.read_file('../data_initial/ZIP_CODE_040114.shx')"
   ]
  },
  {
   "cell_type": "code",
   "execution_count": 37,
   "metadata": {
    "collapsed": false
   },
   "outputs": [],
   "source": [
    "zips = zips.iloc[:,(11,12)]"
   ]
  },
  {
   "cell_type": "code",
   "execution_count": 40,
   "metadata": {
    "collapsed": false
   },
   "outputs": [
    {
     "name": "stderr",
     "output_type": "stream",
     "text": [
      "/anaconda/lib/python2.7/site-packages/ipykernel/__main__.py:1: SettingWithCopyWarning: \n",
      "A value is trying to be set on a copy of a slice from a DataFrame.\n",
      "Try using .loc[row_indexer,col_indexer] = value instead\n",
      "\n",
      "See the caveats in the documentation: http://pandas.pydata.org/pandas-docs/stable/indexing.html#indexing-view-versus-copy\n",
      "  if __name__ == '__main__':\n"
     ]
    }
   ],
   "source": [
    "zips['ZIPCODE'] = zips['ZIPCODE'].astype(float)"
   ]
  },
  {
   "cell_type": "code",
   "execution_count": 42,
   "metadata": {
    "collapsed": true
   },
   "outputs": [],
   "source": [
    "features_stand = features_stand.reset_index()"
   ]
  },
  {
   "cell_type": "code",
   "execution_count": 43,
   "metadata": {
    "collapsed": false
   },
   "outputs": [
    {
     "data": {
      "text/plain": [
       "ZIPCODE     float64\n",
       "geometry     object\n",
       "dtype: object"
      ]
     },
     "execution_count": 43,
     "metadata": {},
     "output_type": "execute_result"
    }
   ],
   "source": [
    "zips.dtypes"
   ]
  },
  {
   "cell_type": "code",
   "execution_count": 44,
   "metadata": {
    "collapsed": true
   },
   "outputs": [],
   "source": [
    "geodf = pd.merge(zips, features_stand, left_on='ZIPCODE', right_on='Incident Zip', how='right')"
   ]
  },
  {
   "cell_type": "code",
   "execution_count": 45,
   "metadata": {
    "collapsed": false
   },
   "outputs": [
    {
     "data": {
      "text/html": [
       "<div>\n",
       "<table border=\"1\" class=\"dataframe\">\n",
       "  <thead>\n",
       "    <tr style=\"text-align: right;\">\n",
       "      <th></th>\n",
       "      <th>ZIPCODE</th>\n",
       "      <th>geometry</th>\n",
       "      <th>Incident Zip</th>\n",
       "      <th>unemployment</th>\n",
       "      <th>poor_english</th>\n",
       "      <th>household_income</th>\n",
       "      <th>violations</th>\n",
       "      <th>complaints</th>\n",
       "      <th>cluster_label</th>\n",
       "    </tr>\n",
       "  </thead>\n",
       "  <tbody>\n",
       "    <tr>\n",
       "      <th>0</th>\n",
       "      <td>11436.0</td>\n",
       "      <td>POLYGON ((1038098.251871482 188138.3800067157,...</td>\n",
       "      <td>11436</td>\n",
       "      <td>-0.448014</td>\n",
       "      <td>-0.448179</td>\n",
       "      <td>1.788852</td>\n",
       "      <td>-0.448235</td>\n",
       "      <td>-0.444424</td>\n",
       "      <td>1</td>\n",
       "    </tr>\n",
       "    <tr>\n",
       "      <th>1</th>\n",
       "      <td>11213.0</td>\n",
       "      <td>POLYGON ((1001613.712964058 186926.4395172149,...</td>\n",
       "      <td>11213</td>\n",
       "      <td>-0.448850</td>\n",
       "      <td>-0.448695</td>\n",
       "      <td>1.788847</td>\n",
       "      <td>-0.449069</td>\n",
       "      <td>-0.442232</td>\n",
       "      <td>0</td>\n",
       "    </tr>\n",
       "    <tr>\n",
       "      <th>2</th>\n",
       "      <td>11212.0</td>\n",
       "      <td>POLYGON ((1011174.275535807 183696.33770971, 1...</td>\n",
       "      <td>11212</td>\n",
       "      <td>-0.450469</td>\n",
       "      <td>-0.450945</td>\n",
       "      <td>1.788817</td>\n",
       "      <td>-0.451446</td>\n",
       "      <td>-0.435957</td>\n",
       "      <td>3</td>\n",
       "    </tr>\n",
       "    <tr>\n",
       "      <th>3</th>\n",
       "      <td>11225.0</td>\n",
       "      <td>POLYGON ((995908.3654508889 183617.6128015518,...</td>\n",
       "      <td>11225</td>\n",
       "      <td>-0.447886</td>\n",
       "      <td>-0.448105</td>\n",
       "      <td>1.788852</td>\n",
       "      <td>-0.448573</td>\n",
       "      <td>-0.444288</td>\n",
       "      <td>1</td>\n",
       "    </tr>\n",
       "    <tr>\n",
       "      <th>4</th>\n",
       "      <td>11218.0</td>\n",
       "      <td>POLYGON ((991997.1134308875 176307.4958601296,...</td>\n",
       "      <td>11218</td>\n",
       "      <td>-0.448691</td>\n",
       "      <td>-0.447802</td>\n",
       "      <td>1.788850</td>\n",
       "      <td>-0.448771</td>\n",
       "      <td>-0.443587</td>\n",
       "      <td>0</td>\n",
       "    </tr>\n",
       "  </tbody>\n",
       "</table>\n",
       "</div>"
      ],
      "text/plain": [
       "   ZIPCODE                                           geometry  Incident Zip  \\\n",
       "0  11436.0  POLYGON ((1038098.251871482 188138.3800067157,...         11436   \n",
       "1  11213.0  POLYGON ((1001613.712964058 186926.4395172149,...         11213   \n",
       "2  11212.0  POLYGON ((1011174.275535807 183696.33770971, 1...         11212   \n",
       "3  11225.0  POLYGON ((995908.3654508889 183617.6128015518,...         11225   \n",
       "4  11218.0  POLYGON ((991997.1134308875 176307.4958601296,...         11218   \n",
       "\n",
       "   unemployment  poor_english  household_income  violations  complaints  \\\n",
       "0     -0.448014     -0.448179          1.788852   -0.448235   -0.444424   \n",
       "1     -0.448850     -0.448695          1.788847   -0.449069   -0.442232   \n",
       "2     -0.450469     -0.450945          1.788817   -0.451446   -0.435957   \n",
       "3     -0.447886     -0.448105          1.788852   -0.448573   -0.444288   \n",
       "4     -0.448691     -0.447802          1.788850   -0.448771   -0.443587   \n",
       "\n",
       "   cluster_label  \n",
       "0              1  \n",
       "1              0  \n",
       "2              3  \n",
       "3              1  \n",
       "4              0  "
      ]
     },
     "execution_count": 45,
     "metadata": {},
     "output_type": "execute_result"
    }
   ],
   "source": [
    "geodf.head()"
   ]
  },
  {
   "cell_type": "code",
   "execution_count": 53,
   "metadata": {
    "collapsed": false
   },
   "outputs": [
    {
     "data": {
      "text/plain": [
       "geopandas.geodataframe.GeoDataFrame"
      ]
     },
     "execution_count": 53,
     "metadata": {},
     "output_type": "execute_result"
    }
   ],
   "source": [
    "type(geodf)"
   ]
  },
  {
   "cell_type": "code",
   "execution_count": 51,
   "metadata": {
    "collapsed": false
   },
   "outputs": [],
   "source": [
    "geodf.crs = {'init' :'epsg:4326'}\n",
    "geodf = geodf.set_geometry('geometry')"
   ]
  },
  {
   "cell_type": "code",
   "execution_count": 86,
   "metadata": {
    "collapsed": false
   },
   "outputs": [
    {
     "data": {
      "text/plain": [
       "<matplotlib.axes._subplots.AxesSubplot at 0x13639f350>"
      ]
     },
     "execution_count": 86,
     "metadata": {},
     "output_type": "execute_result"
    },
    {
     "data": {
      "image/png": "[encoded data removed]",
      "text/plain": [
       "<matplotlib.figure.Figure at 0x1363a6c10>"
      ]
     },
     "metadata": {},
     "output_type": "display_data"
    }
   ],
   "source": [
    "geodf.plot(column='cluster_label', colormap='seismic', categorical=True, linewidth=.5, figsize=(10,10), legend=True)"
   ]
  }
 ],
 "metadata": {
  "kernelspec": {
   "display_name": "Python 2",
   "language": "python",
   "name": "python2"
  },
  "language_info": {
   "codemirror_mode": {
    "name": "ipython",
    "version": 2
   },
   "file_extension": ".py",
   "mimetype": "text/x-python",
   "name": "python",
   "nbconvert_exporter": "python",
   "pygments_lexer": "ipython2",
   "version": "2.7.12"
  }
 },
 "nbformat": 4,
 "nbformat_minor": 1
}
