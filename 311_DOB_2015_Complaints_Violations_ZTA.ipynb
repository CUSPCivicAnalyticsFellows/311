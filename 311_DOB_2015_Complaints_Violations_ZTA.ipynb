{
 "cells": [
  {
   "cell_type": "code",
   "execution_count": 1,
   "metadata": {
    "collapsed": false
   },
   "outputs": [
    {
     "name": "stdout",
     "output_type": "stream",
     "text": [
      "Populating the interactive namespace from numpy and matplotlib\n"
     ]
    },
    {
     "name": "stderr",
     "output_type": "stream",
     "text": [
      "WARNING: pylab import has clobbered these variables: ['plt']\n",
      "`%matplotlib` prevents importing * from pylab and numpy\n"
     ]
    }
   ],
   "source": [
    "import pandas as pd\n",
    "import matplotlib.pylab as plt\n",
    "%pylab inline\n",
    "import numpy as np\n",
    "import geopandas as gpd"
   ]
  },
  {
   "cell_type": "code",
   "execution_count": 2,
   "metadata": {
    "collapsed": false
   },
   "outputs": [
    {
     "name": "stderr",
     "output_type": "stream",
     "text": [
      "//anaconda/lib/python2.7/site-packages/IPython/core/interactiveshell.py:2723: DtypeWarning: Columns (7,11,12,13,14,20,38) have mixed types. Specify dtype option on import or set low_memory=False.\n",
      "  interactivity=interactivity, compiler=compiler, result=result)\n"
     ]
    }
   ],
   "source": [
    "# complaints data imported November, 2016\n",
    "complaints = pd.read_csv('311_Service_Requests_from_2010_to_Present.csv')"
   ]
  },
  {
   "cell_type": "code",
   "execution_count": 3,
   "metadata": {
    "collapsed": true
   },
   "outputs": [],
   "source": [
    "complaints = complaints.drop(['Cross Street 1', 'Cross Street 2', 'City', 'Agency Name', 'Street Name', 'Due Date', 'Borough', 'X Coordinate (State Plane)', 'Y Coordinate (State Plane)', 'Location Type', 'Intersection Street 1', 'Intersection Street 2', 'Landmark', 'Facility Type', 'School Not Found', 'School or Citywide Complaint', 'Vehicle Type', 'Taxi Company Borough', 'Taxi Pick Up Location', 'Bridge Highway Name', 'Bridge Highway Direction', 'Road Ramp', 'Bridge Highway Segment', 'Garage Lot Name', 'Ferry Direction', 'Ferry Terminal Name', 'School Name', 'School Number', 'School Region', 'School Code', 'School Phone Number', 'School Address', 'School City', 'School State', 'School Zip', 'Park Facility Name', 'Park Borough'], axis=1)"
   ]
  },
  {
   "cell_type": "code",
   "execution_count": 4,
   "metadata": {
    "collapsed": false
   },
   "outputs": [],
   "source": [
    "#create a date index to select data from 2015 only\n",
    "dates = [elem for elem in complaints['Created Date']]\n",
    "formatteddates = []\n",
    "for i in range(0,len(dates)):\n",
    "    formatteddates.append(dates[i][:-3])"
   ]
  },
  {
   "cell_type": "code",
   "execution_count": 5,
   "metadata": {
    "collapsed": true
   },
   "outputs": [],
   "source": [
    "complaints['Date Index'] = formatteddates"
   ]
  },
  {
   "cell_type": "code",
   "execution_count": 6,
   "metadata": {
    "collapsed": true
   },
   "outputs": [],
   "source": [
    "complaints['Date Index'] = pd.to_datetime(complaints['Date Index'], format = \"%m/%d/%Y %H:%M:%S\")"
   ]
  },
  {
   "cell_type": "code",
   "execution_count": 7,
   "metadata": {
    "collapsed": false
   },
   "outputs": [],
   "source": [
    "complaints['Incident Zip'] = complaints['Incident Zip'].fillna(0.0).astype(int)"
   ]
  },
  {
   "cell_type": "code",
   "execution_count": 8,
   "metadata": {
    "collapsed": false
   },
   "outputs": [],
   "source": [
    "complaints = complaints[complaints['Incident Zip'] > 0]"
   ]
  },
  {
   "cell_type": "code",
   "execution_count": 9,
   "metadata": {
    "collapsed": false
   },
   "outputs": [],
   "source": [
    "complaints = complaints.set_index('Date Index')"
   ]
  },
  {
   "cell_type": "code",
   "execution_count": 10,
   "metadata": {
    "collapsed": false
   },
   "outputs": [],
   "source": [
    "#select complaints for 2015 only\n",
    "complaints = complaints.loc['2015-01-01':'2016-01-01']"
   ]
  },
  {
   "cell_type": "code",
   "execution_count": 11,
   "metadata": {
    "collapsed": false,
    "scrolled": true
   },
   "outputs": [],
   "source": [
    "complaints = pd.DataFrame(complaints['Unique Key'].groupby([complaints['Incident Zip']]).count())"
   ]
  },
  {
   "cell_type": "code",
   "execution_count": 12,
   "metadata": {
    "collapsed": true
   },
   "outputs": [],
   "source": [
    "complaints = complaints.rename(columns={'Unique Key': 'Count of Complaints'})"
   ]
  },
  {
   "cell_type": "code",
   "execution_count": 13,
   "metadata": {
    "collapsed": true
   },
   "outputs": [],
   "source": [
    "complaints = complaints.reset_index()"
   ]
  },
  {
   "cell_type": "code",
   "execution_count": 14,
   "metadata": {
    "collapsed": false
   },
   "outputs": [
    {
     "data": {
      "text/html": [
       "<div>\n",
       "<table border=\"1\" class=\"dataframe\">\n",
       "  <thead>\n",
       "    <tr style=\"text-align: right;\">\n",
       "      <th></th>\n",
       "      <th>Incident Zip</th>\n",
       "      <th>Count of Complaints</th>\n",
       "    </tr>\n",
       "  </thead>\n",
       "  <tbody>\n",
       "    <tr>\n",
       "      <th>0</th>\n",
       "      <td>10001</td>\n",
       "      <td>611</td>\n",
       "    </tr>\n",
       "    <tr>\n",
       "      <th>1</th>\n",
       "      <td>10002</td>\n",
       "      <td>789</td>\n",
       "    </tr>\n",
       "    <tr>\n",
       "      <th>2</th>\n",
       "      <td>10003</td>\n",
       "      <td>822</td>\n",
       "    </tr>\n",
       "    <tr>\n",
       "      <th>3</th>\n",
       "      <td>10004</td>\n",
       "      <td>52</td>\n",
       "    </tr>\n",
       "    <tr>\n",
       "      <th>4</th>\n",
       "      <td>10005</td>\n",
       "      <td>41</td>\n",
       "    </tr>\n",
       "  </tbody>\n",
       "</table>\n",
       "</div>"
      ],
      "text/plain": [
       "   Incident Zip  Count of Complaints\n",
       "0         10001                  611\n",
       "1         10002                  789\n",
       "2         10003                  822\n",
       "3         10004                   52\n",
       "4         10005                   41"
      ]
     },
     "execution_count": 14,
     "metadata": {},
     "output_type": "execute_result"
    }
   ],
   "source": [
    "complaints.head()"
   ]
  },
  {
   "cell_type": "code",
   "execution_count": 15,
   "metadata": {
    "collapsed": false
   },
   "outputs": [
    {
     "name": "stdout",
     "output_type": "stream",
     "text": [
      "194\n"
     ]
    }
   ],
   "source": [
    "print(len(complaints))"
   ]
  },
  {
   "cell_type": "code",
   "execution_count": 16,
   "metadata": {
    "collapsed": false
   },
   "outputs": [],
   "source": [
    "# 2015 population data imported December, 2016\n",
    "zcpop = pd.read_csv('ACS_15_5YR_B01003/ACS_15_5YR_B01003_with_ann.csv')"
   ]
  },
  {
   "cell_type": "code",
   "execution_count": 17,
   "metadata": {
    "collapsed": false
   },
   "outputs": [],
   "source": [
    "zcpop = zcpop.drop(['GEO.id', 'GEO.display-label', 'HD02_VD01'], axis=1)"
   ]
  },
  {
   "cell_type": "code",
   "execution_count": 18,
   "metadata": {
    "collapsed": true
   },
   "outputs": [],
   "source": [
    "zcpop.rename(columns={'HD01_VD01':'2015 Population Estimate'}, inplace=True)"
   ]
  },
  {
   "cell_type": "code",
   "execution_count": 19,
   "metadata": {
    "collapsed": false
   },
   "outputs": [],
   "source": [
    "zcpop = zcpop.ix[1:]"
   ]
  },
  {
   "cell_type": "code",
   "execution_count": 20,
   "metadata": {
    "collapsed": false
   },
   "outputs": [],
   "source": [
    "zcpop['GEO.id2'] = zcpop['GEO.id2'].astype(int)"
   ]
  },
  {
   "cell_type": "code",
   "execution_count": 21,
   "metadata": {
    "collapsed": false
   },
   "outputs": [
    {
     "data": {
      "text/html": [
       "<div>\n",
       "<table border=\"1\" class=\"dataframe\">\n",
       "  <thead>\n",
       "    <tr style=\"text-align: right;\">\n",
       "      <th></th>\n",
       "      <th>GEO.id2</th>\n",
       "      <th>2015 Population Estimate</th>\n",
       "    </tr>\n",
       "  </thead>\n",
       "  <tbody>\n",
       "    <tr>\n",
       "      <th>1</th>\n",
       "      <td>6390</td>\n",
       "      <td>339</td>\n",
       "    </tr>\n",
       "    <tr>\n",
       "      <th>2</th>\n",
       "      <td>10001</td>\n",
       "      <td>23537</td>\n",
       "    </tr>\n",
       "    <tr>\n",
       "      <th>3</th>\n",
       "      <td>10002</td>\n",
       "      <td>80736</td>\n",
       "    </tr>\n",
       "    <tr>\n",
       "      <th>4</th>\n",
       "      <td>10003</td>\n",
       "      <td>57112</td>\n",
       "    </tr>\n",
       "    <tr>\n",
       "      <th>5</th>\n",
       "      <td>10004</td>\n",
       "      <td>3221</td>\n",
       "    </tr>\n",
       "  </tbody>\n",
       "</table>\n",
       "</div>"
      ],
      "text/plain": [
       "   GEO.id2 2015 Population Estimate\n",
       "1     6390                      339\n",
       "2    10001                    23537\n",
       "3    10002                    80736\n",
       "4    10003                    57112\n",
       "5    10004                     3221"
      ]
     },
     "execution_count": 21,
     "metadata": {},
     "output_type": "execute_result"
    }
   ],
   "source": [
    "zcpop.head()"
   ]
  },
  {
   "cell_type": "code",
   "execution_count": 22,
   "metadata": {
    "collapsed": true
   },
   "outputs": [],
   "source": [
    "# zip code shape file imported December, 2016\n",
    "shp = gpd.read_file('ZIP_CODE_040114/ZIP_CODE_040114.shp')"
   ]
  },
  {
   "cell_type": "code",
   "execution_count": 23,
   "metadata": {
    "collapsed": false
   },
   "outputs": [],
   "source": [
    "shp = shp[['ZIPCODE', 'geometry']]"
   ]
  },
  {
   "cell_type": "code",
   "execution_count": 24,
   "metadata": {
    "collapsed": false
   },
   "outputs": [
    {
     "data": {
      "text/html": [
       "<div>\n",
       "<table border=\"1\" class=\"dataframe\">\n",
       "  <thead>\n",
       "    <tr style=\"text-align: right;\">\n",
       "      <th></th>\n",
       "      <th>ZIPCODE</th>\n",
       "      <th>geometry</th>\n",
       "    </tr>\n",
       "  </thead>\n",
       "  <tbody>\n",
       "    <tr>\n",
       "      <th>0</th>\n",
       "      <td>11436</td>\n",
       "      <td>POLYGON ((1038098.251871482 188138.3800067157,...</td>\n",
       "    </tr>\n",
       "    <tr>\n",
       "      <th>1</th>\n",
       "      <td>11213</td>\n",
       "      <td>POLYGON ((1001613.712964058 186926.4395172149,...</td>\n",
       "    </tr>\n",
       "    <tr>\n",
       "      <th>2</th>\n",
       "      <td>11212</td>\n",
       "      <td>POLYGON ((1011174.275535807 183696.33770971, 1...</td>\n",
       "    </tr>\n",
       "    <tr>\n",
       "      <th>3</th>\n",
       "      <td>11225</td>\n",
       "      <td>POLYGON ((995908.3654508889 183617.6128015518,...</td>\n",
       "    </tr>\n",
       "    <tr>\n",
       "      <th>4</th>\n",
       "      <td>11218</td>\n",
       "      <td>POLYGON ((991997.1134308875 176307.4958601296,...</td>\n",
       "    </tr>\n",
       "  </tbody>\n",
       "</table>\n",
       "</div>"
      ],
      "text/plain": [
       "  ZIPCODE                                           geometry\n",
       "0   11436  POLYGON ((1038098.251871482 188138.3800067157,...\n",
       "1   11213  POLYGON ((1001613.712964058 186926.4395172149,...\n",
       "2   11212  POLYGON ((1011174.275535807 183696.33770971, 1...\n",
       "3   11225  POLYGON ((995908.3654508889 183617.6128015518,...\n",
       "4   11218  POLYGON ((991997.1134308875 176307.4958601296,..."
      ]
     },
     "execution_count": 24,
     "metadata": {},
     "output_type": "execute_result"
    }
   ],
   "source": [
    "shp.head()"
   ]
  },
  {
   "cell_type": "code",
   "execution_count": 25,
   "metadata": {
    "collapsed": false
   },
   "outputs": [],
   "source": [
    "shp['ZIPCODE'] = shp['ZIPCODE'].astype(int)"
   ]
  },
  {
   "cell_type": "code",
   "execution_count": 26,
   "metadata": {
    "collapsed": true
   },
   "outputs": [],
   "source": [
    "# violations"
   ]
  },
  {
   "cell_type": "code",
   "execution_count": 27,
   "metadata": {
    "collapsed": false
   },
   "outputs": [],
   "source": [
    "popshp = pd.merge(shp, zcpop, left_on='ZIPCODE', right_on='GEO.id2', how='left')"
   ]
  },
  {
   "cell_type": "code",
   "execution_count": 28,
   "metadata": {
    "collapsed": false
   },
   "outputs": [
    {
     "data": {
      "text/html": [
       "<div>\n",
       "<table border=\"1\" class=\"dataframe\">\n",
       "  <thead>\n",
       "    <tr style=\"text-align: right;\">\n",
       "      <th></th>\n",
       "      <th>ZIPCODE</th>\n",
       "      <th>geometry</th>\n",
       "      <th>GEO.id2</th>\n",
       "      <th>2015 Population Estimate</th>\n",
       "    </tr>\n",
       "  </thead>\n",
       "  <tbody>\n",
       "    <tr>\n",
       "      <th>54</th>\n",
       "      <td>83</td>\n",
       "      <td>POLYGON ((998309.7254775614 229616.6812362969,...</td>\n",
       "      <td>NaN</td>\n",
       "      <td>NaN</td>\n",
       "    </tr>\n",
       "    <tr>\n",
       "      <th>82</th>\n",
       "      <td>10001</td>\n",
       "      <td>POLYGON ((981958.6472873986 213464.4530421346,...</td>\n",
       "      <td>10001.0</td>\n",
       "      <td>23537</td>\n",
       "    </tr>\n",
       "    <tr>\n",
       "      <th>92</th>\n",
       "      <td>10002</td>\n",
       "      <td>POLYGON ((991339.8703228086 207576.7837151289,...</td>\n",
       "      <td>10002.0</td>\n",
       "      <td>80736</td>\n",
       "    </tr>\n",
       "    <tr>\n",
       "      <th>90</th>\n",
       "      <td>10003</td>\n",
       "      <td>POLYGON ((989830.469142139 207048.1263078749, ...</td>\n",
       "      <td>10003.0</td>\n",
       "      <td>57112</td>\n",
       "    </tr>\n",
       "    <tr>\n",
       "      <th>113</th>\n",
       "      <td>10004</td>\n",
       "      <td>POLYGON ((977542.4500830621 188447.2783390433,...</td>\n",
       "      <td>10004.0</td>\n",
       "      <td>3221</td>\n",
       "    </tr>\n",
       "  </tbody>\n",
       "</table>\n",
       "</div>"
      ],
      "text/plain": [
       "     ZIPCODE                                           geometry  GEO.id2  \\\n",
       "54        83  POLYGON ((998309.7254775614 229616.6812362969,...      NaN   \n",
       "82     10001  POLYGON ((981958.6472873986 213464.4530421346,...  10001.0   \n",
       "92     10002  POLYGON ((991339.8703228086 207576.7837151289,...  10002.0   \n",
       "90     10003  POLYGON ((989830.469142139 207048.1263078749, ...  10003.0   \n",
       "113    10004  POLYGON ((977542.4500830621 188447.2783390433,...  10004.0   \n",
       "\n",
       "    2015 Population Estimate  \n",
       "54                       NaN  \n",
       "82                     23537  \n",
       "92                     80736  \n",
       "90                     57112  \n",
       "113                     3221  "
      ]
     },
     "execution_count": 28,
     "metadata": {},
     "output_type": "execute_result"
    }
   ],
   "source": [
    "popshp.sort_values('ZIPCODE').head()"
   ]
  },
  {
   "cell_type": "code",
   "execution_count": 29,
   "metadata": {
    "collapsed": false
   },
   "outputs": [
    {
     "name": "stdout",
     "output_type": "stream",
     "text": [
      "263\n"
     ]
    }
   ],
   "source": [
    "print(len(popshp))"
   ]
  },
  {
   "cell_type": "code",
   "execution_count": 30,
   "metadata": {
    "collapsed": true
   },
   "outputs": [],
   "source": [
    "complaintshp = pd.merge(complaints, popshp, left_on='Incident Zip', right_on='ZIPCODE', how='right')"
   ]
  },
  {
   "cell_type": "code",
   "execution_count": 31,
   "metadata": {
    "collapsed": false
   },
   "outputs": [],
   "source": [
    "complaintshp = complaintshp.drop(['Incident Zip', 'GEO.id2'], axis=1)"
   ]
  },
  {
   "cell_type": "code",
   "execution_count": 32,
   "metadata": {
    "collapsed": false
   },
   "outputs": [
    {
     "data": {
      "text/html": [
       "<div>\n",
       "<table border=\"1\" class=\"dataframe\">\n",
       "  <thead>\n",
       "    <tr style=\"text-align: right;\">\n",
       "      <th></th>\n",
       "      <th>Count of Complaints</th>\n",
       "      <th>ZIPCODE</th>\n",
       "      <th>geometry</th>\n",
       "      <th>2015 Population Estimate</th>\n",
       "    </tr>\n",
       "  </thead>\n",
       "  <tbody>\n",
       "    <tr>\n",
       "      <th>0</th>\n",
       "      <td>611.0</td>\n",
       "      <td>10001</td>\n",
       "      <td>POLYGON ((981958.6472873986 213464.4530421346,...</td>\n",
       "      <td>23537</td>\n",
       "    </tr>\n",
       "    <tr>\n",
       "      <th>1</th>\n",
       "      <td>789.0</td>\n",
       "      <td>10002</td>\n",
       "      <td>POLYGON ((991339.8703228086 207576.7837151289,...</td>\n",
       "      <td>80736</td>\n",
       "    </tr>\n",
       "    <tr>\n",
       "      <th>2</th>\n",
       "      <td>822.0</td>\n",
       "      <td>10003</td>\n",
       "      <td>POLYGON ((989830.469142139 207048.1263078749, ...</td>\n",
       "      <td>57112</td>\n",
       "    </tr>\n",
       "    <tr>\n",
       "      <th>3</th>\n",
       "      <td>52.0</td>\n",
       "      <td>10004</td>\n",
       "      <td>POLYGON ((981197.408652395 196571.0816452205, ...</td>\n",
       "      <td>3221</td>\n",
       "    </tr>\n",
       "    <tr>\n",
       "      <th>4</th>\n",
       "      <td>52.0</td>\n",
       "      <td>10004</td>\n",
       "      <td>POLYGON ((972696.8446168154 193014.5477478057,...</td>\n",
       "      <td>3221</td>\n",
       "    </tr>\n",
       "  </tbody>\n",
       "</table>\n",
       "</div>"
      ],
      "text/plain": [
       "   Count of Complaints  ZIPCODE  \\\n",
       "0                611.0    10001   \n",
       "1                789.0    10002   \n",
       "2                822.0    10003   \n",
       "3                 52.0    10004   \n",
       "4                 52.0    10004   \n",
       "\n",
       "                                            geometry 2015 Population Estimate  \n",
       "0  POLYGON ((981958.6472873986 213464.4530421346,...                    23537  \n",
       "1  POLYGON ((991339.8703228086 207576.7837151289,...                    80736  \n",
       "2  POLYGON ((989830.469142139 207048.1263078749, ...                    57112  \n",
       "3  POLYGON ((981197.408652395 196571.0816452205, ...                     3221  \n",
       "4  POLYGON ((972696.8446168154 193014.5477478057,...                     3221  "
      ]
     },
     "execution_count": 32,
     "metadata": {},
     "output_type": "execute_result"
    }
   ],
   "source": [
    "complaintshp.head()"
   ]
  },
  {
   "cell_type": "code",
   "execution_count": 33,
   "metadata": {
    "collapsed": false
   },
   "outputs": [],
   "source": [
    "complaintshp['2015 Population Estimate'] = complaintshp['2015 Population Estimate'].fillna(0.0).astype(int)"
   ]
  },
  {
   "cell_type": "code",
   "execution_count": 34,
   "metadata": {
    "collapsed": false
   },
   "outputs": [],
   "source": [
    "complaintshp['Complaints per Person'] = complaintshp['Count of Complaints'].divide(complaintshp['2015 Population Estimate'])"
   ]
  },
  {
   "cell_type": "code",
   "execution_count": 35,
   "metadata": {
    "collapsed": false
   },
   "outputs": [],
   "source": [
    "complaintshp = complaintshp[complaintshp['2015 Population Estimate'] > 0]"
   ]
  },
  {
   "cell_type": "code",
   "execution_count": 36,
   "metadata": {
    "collapsed": false
   },
   "outputs": [],
   "source": [
    "complaintshp = complaintshp.dropna()"
   ]
  },
  {
   "cell_type": "code",
   "execution_count": 37,
   "metadata": {
    "collapsed": false
   },
   "outputs": [],
   "source": [
    "complaintshp = complaintshp.set_geometry('geometry')"
   ]
  },
  {
   "cell_type": "code",
   "execution_count": 38,
   "metadata": {
    "collapsed": false
   },
   "outputs": [
    {
     "name": "stderr",
     "output_type": "stream",
     "text": [
      "//anaconda/lib/python2.7/site-packages/IPython/core/interactiveshell.py:2723: DtypeWarning: Columns (8,13) have mixed types. Specify dtype option on import or set low_memory=False.\n",
      "  interactivity=interactivity, compiler=compiler, result=result)\n"
     ]
    }
   ],
   "source": [
    "# merge violations\n",
    "violations = pd.read_csv('bblvios.csv')"
   ]
  },
  {
   "cell_type": "code",
   "execution_count": 39,
   "metadata": {
    "collapsed": false
   },
   "outputs": [],
   "source": [
    "violations = violations.drop(['ECB_NUMBER', 'Unnamed: 0'], axis=1)"
   ]
  },
  {
   "cell_type": "code",
   "execution_count": 40,
   "metadata": {
    "collapsed": true
   },
   "outputs": [],
   "source": [
    "# create date index to select violations from 2015 only\n",
    "dates = [elem for elem in violations['ISSUE_DATE']]"
   ]
  },
  {
   "cell_type": "code",
   "execution_count": 41,
   "metadata": {
    "collapsed": true
   },
   "outputs": [],
   "source": [
    "t = dates[:500000]\n",
    "z = []\n",
    "for i in range(0,len(t)):\n",
    "    z.append(pd.to_datetime(str(t[i]), format='%Y%m%d', errors='coerce'))"
   ]
  },
  {
   "cell_type": "code",
   "execution_count": 42,
   "metadata": {
    "collapsed": true
   },
   "outputs": [],
   "source": [
    "t = dates[500000:1000000]\n",
    "y = []\n",
    "for i in range(0,len(t)):\n",
    "    y.append(pd.to_datetime(str(t[i]), format='%Y%m%d', errors='coerce'))"
   ]
  },
  {
   "cell_type": "code",
   "execution_count": 43,
   "metadata": {
    "collapsed": true
   },
   "outputs": [],
   "source": [
    "t = dates[1000000:1500000]\n",
    "x = []\n",
    "for i in range(0,len(t)):\n",
    "    x.append(pd.to_datetime(str(t[i]), format='%Y%m%d', errors='coerce'))"
   ]
  },
  {
   "cell_type": "code",
   "execution_count": 44,
   "metadata": {
    "collapsed": true
   },
   "outputs": [],
   "source": [
    "t = dates[1500000:1822219]\n",
    "w = []\n",
    "for i in range(0,len(t)):\n",
    "    w.append(pd.to_datetime(str(t[i]), format='%Y%m%d', errors='coerce'))"
   ]
  },
  {
   "cell_type": "code",
   "execution_count": 45,
   "metadata": {
    "collapsed": true
   },
   "outputs": [],
   "source": [
    "a = z + y + x + w"
   ]
  },
  {
   "cell_type": "code",
   "execution_count": 46,
   "metadata": {
    "collapsed": true
   },
   "outputs": [],
   "source": [
    "violations['Date Index'] = a"
   ]
  },
  {
   "cell_type": "code",
   "execution_count": 47,
   "metadata": {
    "collapsed": true
   },
   "outputs": [],
   "source": [
    "violations.index = violations['Date Index']"
   ]
  },
  {
   "cell_type": "code",
   "execution_count": 48,
   "metadata": {
    "collapsed": false
   },
   "outputs": [],
   "source": [
    "violations = violations.loc['2015-01-01':'2016-01-01']"
   ]
  },
  {
   "cell_type": "code",
   "execution_count": 49,
   "metadata": {
    "collapsed": false
   },
   "outputs": [],
   "source": [
    "violations = violations.drop(['Date Index'], axis=1)"
   ]
  },
  {
   "cell_type": "code",
   "execution_count": 50,
   "metadata": {
    "collapsed": true
   },
   "outputs": [],
   "source": [
    "violations = violations.reset_index()"
   ]
  },
  {
   "cell_type": "code",
   "execution_count": 51,
   "metadata": {
    "collapsed": false
   },
   "outputs": [],
   "source": [
    "violations['zipcode'] = violations['zipcode'].astype(int)"
   ]
  },
  {
   "cell_type": "code",
   "execution_count": 52,
   "metadata": {
    "collapsed": false
   },
   "outputs": [],
   "source": [
    "violations = pd.DataFrame(violations['ISN_DOB_BIS_VIOL'].groupby([violations['zipcode']]).count())"
   ]
  },
  {
   "cell_type": "code",
   "execution_count": 53,
   "metadata": {
    "collapsed": false
   },
   "outputs": [],
   "source": [
    "violations = violations.reset_index()\n",
    "violations = violations.rename(columns={'ISN_DOB_BIS_VIOL': 'Count of Violations'})"
   ]
  },
  {
   "cell_type": "code",
   "execution_count": 54,
   "metadata": {
    "collapsed": false
   },
   "outputs": [],
   "source": [
    "compvioshp = pd.merge(complaintshp, violations, left_on='ZIPCODE', right_on='zipcode')"
   ]
  },
  {
   "cell_type": "code",
   "execution_count": 55,
   "metadata": {
    "collapsed": false
   },
   "outputs": [],
   "source": [
    "compvioshp['Violations per Person'] = compvioshp['Count of Violations'].divide(compvioshp['2015 Population Estimate'])"
   ]
  },
  {
   "cell_type": "code",
   "execution_count": 56,
   "metadata": {
    "collapsed": false
   },
   "outputs": [
    {
     "data": {
      "text/html": [
       "<div>\n",
       "<table border=\"1\" class=\"dataframe\">\n",
       "  <thead>\n",
       "    <tr style=\"text-align: right;\">\n",
       "      <th></th>\n",
       "      <th>Count of Complaints</th>\n",
       "      <th>ZIPCODE</th>\n",
       "      <th>geometry</th>\n",
       "      <th>2015 Population Estimate</th>\n",
       "      <th>Complaints per Person</th>\n",
       "      <th>zipcode</th>\n",
       "      <th>Count of Violations</th>\n",
       "      <th>Violations per Person</th>\n",
       "    </tr>\n",
       "  </thead>\n",
       "  <tbody>\n",
       "    <tr>\n",
       "      <th>0</th>\n",
       "      <td>611.0</td>\n",
       "      <td>10001</td>\n",
       "      <td>POLYGON ((981958.6472873986 213464.4530421346,...</td>\n",
       "      <td>23537</td>\n",
       "      <td>0.025959</td>\n",
       "      <td>10001</td>\n",
       "      <td>906</td>\n",
       "      <td>0.038493</td>\n",
       "    </tr>\n",
       "    <tr>\n",
       "      <th>1</th>\n",
       "      <td>789.0</td>\n",
       "      <td>10002</td>\n",
       "      <td>POLYGON ((991339.8703228086 207576.7837151289,...</td>\n",
       "      <td>80736</td>\n",
       "      <td>0.009773</td>\n",
       "      <td>10002</td>\n",
       "      <td>570</td>\n",
       "      <td>0.007060</td>\n",
       "    </tr>\n",
       "    <tr>\n",
       "      <th>2</th>\n",
       "      <td>822.0</td>\n",
       "      <td>10003</td>\n",
       "      <td>POLYGON ((989830.469142139 207048.1263078749, ...</td>\n",
       "      <td>57112</td>\n",
       "      <td>0.014393</td>\n",
       "      <td>10003</td>\n",
       "      <td>896</td>\n",
       "      <td>0.015688</td>\n",
       "    </tr>\n",
       "    <tr>\n",
       "      <th>3</th>\n",
       "      <td>52.0</td>\n",
       "      <td>10004</td>\n",
       "      <td>POLYGON ((981197.408652395 196571.0816452205, ...</td>\n",
       "      <td>3221</td>\n",
       "      <td>0.016144</td>\n",
       "      <td>10004</td>\n",
       "      <td>160</td>\n",
       "      <td>0.049674</td>\n",
       "    </tr>\n",
       "    <tr>\n",
       "      <th>4</th>\n",
       "      <td>52.0</td>\n",
       "      <td>10004</td>\n",
       "      <td>POLYGON ((972696.8446168154 193014.5477478057,...</td>\n",
       "      <td>3221</td>\n",
       "      <td>0.016144</td>\n",
       "      <td>10004</td>\n",
       "      <td>160</td>\n",
       "      <td>0.049674</td>\n",
       "    </tr>\n",
       "  </tbody>\n",
       "</table>\n",
       "</div>"
      ],
      "text/plain": [
       "   Count of Complaints  ZIPCODE  \\\n",
       "0                611.0    10001   \n",
       "1                789.0    10002   \n",
       "2                822.0    10003   \n",
       "3                 52.0    10004   \n",
       "4                 52.0    10004   \n",
       "\n",
       "                                            geometry  \\\n",
       "0  POLYGON ((981958.6472873986 213464.4530421346,...   \n",
       "1  POLYGON ((991339.8703228086 207576.7837151289,...   \n",
       "2  POLYGON ((989830.469142139 207048.1263078749, ...   \n",
       "3  POLYGON ((981197.408652395 196571.0816452205, ...   \n",
       "4  POLYGON ((972696.8446168154 193014.5477478057,...   \n",
       "\n",
       "   2015 Population Estimate  Complaints per Person  zipcode  \\\n",
       "0                     23537               0.025959    10001   \n",
       "1                     80736               0.009773    10002   \n",
       "2                     57112               0.014393    10003   \n",
       "3                      3221               0.016144    10004   \n",
       "4                      3221               0.016144    10004   \n",
       "\n",
       "   Count of Violations  Violations per Person  \n",
       "0                  906               0.038493  \n",
       "1                  570               0.007060  \n",
       "2                  896               0.015688  \n",
       "3                  160               0.049674  \n",
       "4                  160               0.049674  "
      ]
     },
     "execution_count": 56,
     "metadata": {},
     "output_type": "execute_result"
    }
   ],
   "source": [
    "compvioshp.head()"
   ]
  },
  {
   "cell_type": "code",
   "execution_count": 57,
   "metadata": {
    "collapsed": false
   },
   "outputs": [],
   "source": [
    "compvioshp['Violations per Complaints'] = compvioshp['Count of Violations'].divide(compvioshp['Count of Complaints'])"
   ]
  },
  {
   "cell_type": "code",
   "execution_count": 58,
   "metadata": {
    "collapsed": false
   },
   "outputs": [
    {
     "data": {
      "text/plain": [
       "Count of Complaints          0\n",
       "ZIPCODE                      0\n",
       "geometry                     0\n",
       "2015 Population Estimate     0\n",
       "Complaints per Person        0\n",
       "zipcode                      0\n",
       "Count of Violations          0\n",
       "Violations per Person        0\n",
       "Violations per Complaints    0\n",
       "dtype: int64"
      ]
     },
     "execution_count": 58,
     "metadata": {},
     "output_type": "execute_result"
    }
   ],
   "source": [
    "compvioshp.isnull().sum()"
   ]
  },
  {
   "cell_type": "code",
   "execution_count": 75,
   "metadata": {
    "collapsed": false
   },
   "outputs": [],
   "source": [
    "plotter = compvioshp.sort_values(by='Violations per Complaints', ascending=0).head(10)"
   ]
  },
  {
   "cell_type": "code",
   "execution_count": 76,
   "metadata": {
    "collapsed": false
   },
   "outputs": [
    {
     "data": {
      "text/html": [
       "<div>\n",
       "<table border=\"1\" class=\"dataframe\">\n",
       "  <thead>\n",
       "    <tr style=\"text-align: right;\">\n",
       "      <th></th>\n",
       "      <th>Count of Complaints</th>\n",
       "      <th>ZIPCODE</th>\n",
       "      <th>geometry</th>\n",
       "      <th>2015 Population Estimate</th>\n",
       "      <th>Complaints per Person</th>\n",
       "      <th>zipcode</th>\n",
       "      <th>Count of Violations</th>\n",
       "      <th>Violations per Person</th>\n",
       "      <th>Violations per Complaints</th>\n",
       "    </tr>\n",
       "  </thead>\n",
       "  <tbody>\n",
       "    <tr>\n",
       "      <th>41</th>\n",
       "      <td>11.0</td>\n",
       "      <td>10044</td>\n",
       "      <td>POLYGON ((995262.8605083078 213107.8290834725,...</td>\n",
       "      <td>11783</td>\n",
       "      <td>0.000934</td>\n",
       "      <td>10044</td>\n",
       "      <td>56</td>\n",
       "      <td>0.004753</td>\n",
       "      <td>5.090909</td>\n",
       "    </tr>\n",
       "    <tr>\n",
       "      <th>48</th>\n",
       "      <td>7.0</td>\n",
       "      <td>10282</td>\n",
       "      <td>POLYGON ((979667.1121723056 201103.8596531302,...</td>\n",
       "      <td>5730</td>\n",
       "      <td>0.001222</td>\n",
       "      <td>10282</td>\n",
       "      <td>33</td>\n",
       "      <td>0.005759</td>\n",
       "      <td>4.714286</td>\n",
       "    </tr>\n",
       "    <tr>\n",
       "      <th>7</th>\n",
       "      <td>41.0</td>\n",
       "      <td>10005</td>\n",
       "      <td>POLYGON ((982595.6794779003 195880.7536295503,...</td>\n",
       "      <td>8131</td>\n",
       "      <td>0.005042</td>\n",
       "      <td>10005</td>\n",
       "      <td>190</td>\n",
       "      <td>0.023367</td>\n",
       "      <td>4.634146</td>\n",
       "    </tr>\n",
       "    <tr>\n",
       "      <th>3</th>\n",
       "      <td>52.0</td>\n",
       "      <td>10004</td>\n",
       "      <td>POLYGON ((981197.408652395 196571.0816452205, ...</td>\n",
       "      <td>3221</td>\n",
       "      <td>0.016144</td>\n",
       "      <td>10004</td>\n",
       "      <td>160</td>\n",
       "      <td>0.049674</td>\n",
       "      <td>3.076923</td>\n",
       "    </tr>\n",
       "    <tr>\n",
       "      <th>4</th>\n",
       "      <td>52.0</td>\n",
       "      <td>10004</td>\n",
       "      <td>POLYGON ((972696.8446168154 193014.5477478057,...</td>\n",
       "      <td>3221</td>\n",
       "      <td>0.016144</td>\n",
       "      <td>10004</td>\n",
       "      <td>160</td>\n",
       "      <td>0.049674</td>\n",
       "      <td>3.076923</td>\n",
       "    </tr>\n",
       "    <tr>\n",
       "      <th>5</th>\n",
       "      <td>52.0</td>\n",
       "      <td>10004</td>\n",
       "      <td>POLYGON ((977542.4500830621 188447.2783390433,...</td>\n",
       "      <td>3221</td>\n",
       "      <td>0.016144</td>\n",
       "      <td>10004</td>\n",
       "      <td>160</td>\n",
       "      <td>0.049674</td>\n",
       "      <td>3.076923</td>\n",
       "    </tr>\n",
       "    <tr>\n",
       "      <th>6</th>\n",
       "      <td>52.0</td>\n",
       "      <td>10004</td>\n",
       "      <td>POLYGON ((971218.3702115566 190710.8587856293,...</td>\n",
       "      <td>3221</td>\n",
       "      <td>0.016144</td>\n",
       "      <td>10004</td>\n",
       "      <td>160</td>\n",
       "      <td>0.049674</td>\n",
       "      <td>3.076923</td>\n",
       "    </tr>\n",
       "    <tr>\n",
       "      <th>17</th>\n",
       "      <td>201.0</td>\n",
       "      <td>10017</td>\n",
       "      <td>POLYGON ((990440.5063079 215404.9508015513, 99...</td>\n",
       "      <td>16472</td>\n",
       "      <td>0.012203</td>\n",
       "      <td>10017</td>\n",
       "      <td>593</td>\n",
       "      <td>0.036000</td>\n",
       "      <td>2.950249</td>\n",
       "    </tr>\n",
       "    <tr>\n",
       "      <th>20</th>\n",
       "      <td>290.0</td>\n",
       "      <td>10021</td>\n",
       "      <td>POLYGON ((998204.3503602296 218909.3384778053,...</td>\n",
       "      <td>43573</td>\n",
       "      <td>0.006655</td>\n",
       "      <td>10021</td>\n",
       "      <td>566</td>\n",
       "      <td>0.012990</td>\n",
       "      <td>1.951724</td>\n",
       "    </tr>\n",
       "    <tr>\n",
       "      <th>18</th>\n",
       "      <td>321.0</td>\n",
       "      <td>10018</td>\n",
       "      <td>POLYGON ((983778.6019808054 216668.1490625441,...</td>\n",
       "      <td>9168</td>\n",
       "      <td>0.035013</td>\n",
       "      <td>10018</td>\n",
       "      <td>588</td>\n",
       "      <td>0.064136</td>\n",
       "      <td>1.831776</td>\n",
       "    </tr>\n",
       "  </tbody>\n",
       "</table>\n",
       "</div>"
      ],
      "text/plain": [
       "    Count of Complaints  ZIPCODE  \\\n",
       "41                 11.0    10044   \n",
       "48                  7.0    10282   \n",
       "7                  41.0    10005   \n",
       "3                  52.0    10004   \n",
       "4                  52.0    10004   \n",
       "5                  52.0    10004   \n",
       "6                  52.0    10004   \n",
       "17                201.0    10017   \n",
       "20                290.0    10021   \n",
       "18                321.0    10018   \n",
       "\n",
       "                                             geometry  \\\n",
       "41  POLYGON ((995262.8605083078 213107.8290834725,...   \n",
       "48  POLYGON ((979667.1121723056 201103.8596531302,...   \n",
       "7   POLYGON ((982595.6794779003 195880.7536295503,...   \n",
       "3   POLYGON ((981197.408652395 196571.0816452205, ...   \n",
       "4   POLYGON ((972696.8446168154 193014.5477478057,...   \n",
       "5   POLYGON ((977542.4500830621 188447.2783390433,...   \n",
       "6   POLYGON ((971218.3702115566 190710.8587856293,...   \n",
       "17  POLYGON ((990440.5063079 215404.9508015513, 99...   \n",
       "20  POLYGON ((998204.3503602296 218909.3384778053,...   \n",
       "18  POLYGON ((983778.6019808054 216668.1490625441,...   \n",
       "\n",
       "    2015 Population Estimate  Complaints per Person  zipcode  \\\n",
       "41                     11783               0.000934    10044   \n",
       "48                      5730               0.001222    10282   \n",
       "7                       8131               0.005042    10005   \n",
       "3                       3221               0.016144    10004   \n",
       "4                       3221               0.016144    10004   \n",
       "5                       3221               0.016144    10004   \n",
       "6                       3221               0.016144    10004   \n",
       "17                     16472               0.012203    10017   \n",
       "20                     43573               0.006655    10021   \n",
       "18                      9168               0.035013    10018   \n",
       "\n",
       "    Count of Violations  Violations per Person  Violations per Complaints  \n",
       "41                   56               0.004753                   5.090909  \n",
       "48                   33               0.005759                   4.714286  \n",
       "7                   190               0.023367                   4.634146  \n",
       "3                   160               0.049674                   3.076923  \n",
       "4                   160               0.049674                   3.076923  \n",
       "5                   160               0.049674                   3.076923  \n",
       "6                   160               0.049674                   3.076923  \n",
       "17                  593               0.036000                   2.950249  \n",
       "20                  566               0.012990                   1.951724  \n",
       "18                  588               0.064136                   1.831776  "
      ]
     },
     "execution_count": 76,
     "metadata": {},
     "output_type": "execute_result"
    }
   ],
   "source": [
    "plotter"
   ]
  },
  {
   "cell_type": "code",
   "execution_count": 77,
   "metadata": {
    "collapsed": false
   },
   "outputs": [
    {
     "data": {
      "text/plain": [
       "<matplotlib.text.Text at 0x129d02d10>"
      ]
     },
     "execution_count": 77,
     "metadata": {},
     "output_type": "execute_result"
    },
    {
     "data": {
      "image/png": "[encoded data removed]",
      "text/plain": [
       "<matplotlib.figure.Figure at 0x12465ea90>"
      ]
     },
     "metadata": {},
     "output_type": "display_data"
    }
   ],
   "source": [
    "ax = complaintshp.plot(alpha=0, figsize=(10,10), linewidth=.5)\n",
    "plotter.plot(ax=ax, color='b')\n",
    "ax.set_axis_off()\n",
    "plt.title('New York City Zip Codes With Highest Proportion of Department of Building Violations per Complaints in 2015', fontsize=14)"
   ]
  },
  {
   "cell_type": "code",
   "execution_count": 78,
   "metadata": {
    "collapsed": true
   },
   "outputs": [],
   "source": [
    "plotter = compvioshp.sort_values(by='Complaints per Person', ascending=0).tail(10)"
   ]
  },
  {
   "cell_type": "code",
   "execution_count": 79,
   "metadata": {
    "collapsed": false
   },
   "outputs": [
    {
     "data": {
      "text/html": [
       "<div>\n",
       "<table border=\"1\" class=\"dataframe\">\n",
       "  <thead>\n",
       "    <tr style=\"text-align: right;\">\n",
       "      <th></th>\n",
       "      <th>Count of Complaints</th>\n",
       "      <th>ZIPCODE</th>\n",
       "      <th>geometry</th>\n",
       "      <th>2015 Population Estimate</th>\n",
       "      <th>Complaints per Person</th>\n",
       "      <th>zipcode</th>\n",
       "      <th>Count of Violations</th>\n",
       "      <th>Violations per Person</th>\n",
       "      <th>Violations per Complaints</th>\n",
       "    </tr>\n",
       "  </thead>\n",
       "  <tbody>\n",
       "    <tr>\n",
       "      <th>133</th>\n",
       "      <td>457.0</td>\n",
       "      <td>11236</td>\n",
       "      <td>POLYGON ((1012306.415003806 178457.610326305, ...</td>\n",
       "      <td>98276</td>\n",
       "      <td>0.004650</td>\n",
       "      <td>11236</td>\n",
       "      <td>192</td>\n",
       "      <td>0.001954</td>\n",
       "      <td>0.420131</td>\n",
       "    </tr>\n",
       "    <tr>\n",
       "      <th>33</th>\n",
       "      <td>197.0</td>\n",
       "      <td>10034</td>\n",
       "      <td>POLYGON ((1006203.169008225 257345.6566181332,...</td>\n",
       "      <td>43405</td>\n",
       "      <td>0.004539</td>\n",
       "      <td>10034</td>\n",
       "      <td>97</td>\n",
       "      <td>0.002235</td>\n",
       "      <td>0.492386</td>\n",
       "    </tr>\n",
       "    <tr>\n",
       "      <th>88</th>\n",
       "      <td>135.0</td>\n",
       "      <td>10475</td>\n",
       "      <td>POLYGON ((1032020.225313649 263914.7786504626,...</td>\n",
       "      <td>43913</td>\n",
       "      <td>0.003074</td>\n",
       "      <td>10475</td>\n",
       "      <td>40</td>\n",
       "      <td>0.000911</td>\n",
       "      <td>0.296296</td>\n",
       "    </tr>\n",
       "    <tr>\n",
       "      <th>43</th>\n",
       "      <td>13.0</td>\n",
       "      <td>10069</td>\n",
       "      <td>POLYGON ((987514.9658991396 223898.3058620542,...</td>\n",
       "      <td>5526</td>\n",
       "      <td>0.002353</td>\n",
       "      <td>10069</td>\n",
       "      <td>13</td>\n",
       "      <td>0.002353</td>\n",
       "      <td>1.000000</td>\n",
       "    </tr>\n",
       "    <tr>\n",
       "      <th>89</th>\n",
       "      <td>44.0</td>\n",
       "      <td>11001</td>\n",
       "      <td>POLYGON ((1067113.206636727 208617.5427884609,...</td>\n",
       "      <td>27551</td>\n",
       "      <td>0.001597</td>\n",
       "      <td>11001</td>\n",
       "      <td>6</td>\n",
       "      <td>0.000218</td>\n",
       "      <td>0.136364</td>\n",
       "    </tr>\n",
       "    <tr>\n",
       "      <th>48</th>\n",
       "      <td>7.0</td>\n",
       "      <td>10282</td>\n",
       "      <td>POLYGON ((979667.1121723056 201103.8596531302,...</td>\n",
       "      <td>5730</td>\n",
       "      <td>0.001222</td>\n",
       "      <td>10282</td>\n",
       "      <td>33</td>\n",
       "      <td>0.005759</td>\n",
       "      <td>4.714286</td>\n",
       "    </tr>\n",
       "    <tr>\n",
       "      <th>47</th>\n",
       "      <td>11.0</td>\n",
       "      <td>10280</td>\n",
       "      <td>POLYGON ((979877.9503333122 196867.0823655427,...</td>\n",
       "      <td>9552</td>\n",
       "      <td>0.001152</td>\n",
       "      <td>10280</td>\n",
       "      <td>14</td>\n",
       "      <td>0.001466</td>\n",
       "      <td>1.272727</td>\n",
       "    </tr>\n",
       "    <tr>\n",
       "      <th>41</th>\n",
       "      <td>11.0</td>\n",
       "      <td>10044</td>\n",
       "      <td>POLYGON ((995262.8605083078 213107.8290834725,...</td>\n",
       "      <td>11783</td>\n",
       "      <td>0.000934</td>\n",
       "      <td>10044</td>\n",
       "      <td>56</td>\n",
       "      <td>0.004753</td>\n",
       "      <td>5.090909</td>\n",
       "    </tr>\n",
       "    <tr>\n",
       "      <th>46</th>\n",
       "      <td>1.0</td>\n",
       "      <td>10162</td>\n",
       "      <td>POLYGON ((997731.7607542276 219560.9221483767,...</td>\n",
       "      <td>1289</td>\n",
       "      <td>0.000776</td>\n",
       "      <td>10162</td>\n",
       "      <td>1</td>\n",
       "      <td>0.000776</td>\n",
       "      <td>1.000000</td>\n",
       "    </tr>\n",
       "    <tr>\n",
       "      <th>91</th>\n",
       "      <td>29.0</td>\n",
       "      <td>11040</td>\n",
       "      <td>POLYGON ((1067113.206636727 208617.5427884609,...</td>\n",
       "      <td>41434</td>\n",
       "      <td>0.000700</td>\n",
       "      <td>11040</td>\n",
       "      <td>11</td>\n",
       "      <td>0.000265</td>\n",
       "      <td>0.379310</td>\n",
       "    </tr>\n",
       "  </tbody>\n",
       "</table>\n",
       "</div>"
      ],
      "text/plain": [
       "     Count of Complaints  ZIPCODE  \\\n",
       "133                457.0    11236   \n",
       "33                 197.0    10034   \n",
       "88                 135.0    10475   \n",
       "43                  13.0    10069   \n",
       "89                  44.0    11001   \n",
       "48                   7.0    10282   \n",
       "47                  11.0    10280   \n",
       "41                  11.0    10044   \n",
       "46                   1.0    10162   \n",
       "91                  29.0    11040   \n",
       "\n",
       "                                              geometry  \\\n",
       "133  POLYGON ((1012306.415003806 178457.610326305, ...   \n",
       "33   POLYGON ((1006203.169008225 257345.6566181332,...   \n",
       "88   POLYGON ((1032020.225313649 263914.7786504626,...   \n",
       "43   POLYGON ((987514.9658991396 223898.3058620542,...   \n",
       "89   POLYGON ((1067113.206636727 208617.5427884609,...   \n",
       "48   POLYGON ((979667.1121723056 201103.8596531302,...   \n",
       "47   POLYGON ((979877.9503333122 196867.0823655427,...   \n",
       "41   POLYGON ((995262.8605083078 213107.8290834725,...   \n",
       "46   POLYGON ((997731.7607542276 219560.9221483767,...   \n",
       "91   POLYGON ((1067113.206636727 208617.5427884609,...   \n",
       "\n",
       "     2015 Population Estimate  Complaints per Person  zipcode  \\\n",
       "133                     98276               0.004650    11236   \n",
       "33                      43405               0.004539    10034   \n",
       "88                      43913               0.003074    10475   \n",
       "43                       5526               0.002353    10069   \n",
       "89                      27551               0.001597    11001   \n",
       "48                       5730               0.001222    10282   \n",
       "47                       9552               0.001152    10280   \n",
       "41                      11783               0.000934    10044   \n",
       "46                       1289               0.000776    10162   \n",
       "91                      41434               0.000700    11040   \n",
       "\n",
       "     Count of Violations  Violations per Person  Violations per Complaints  \n",
       "133                  192               0.001954                   0.420131  \n",
       "33                    97               0.002235                   0.492386  \n",
       "88                    40               0.000911                   0.296296  \n",
       "43                    13               0.002353                   1.000000  \n",
       "89                     6               0.000218                   0.136364  \n",
       "48                    33               0.005759                   4.714286  \n",
       "47                    14               0.001466                   1.272727  \n",
       "41                    56               0.004753                   5.090909  \n",
       "46                     1               0.000776                   1.000000  \n",
       "91                    11               0.000265                   0.379310  "
      ]
     },
     "execution_count": 79,
     "metadata": {},
     "output_type": "execute_result"
    }
   ],
   "source": [
    "plotter"
   ]
  },
  {
   "cell_type": "code",
   "execution_count": 80,
   "metadata": {
    "collapsed": false
   },
   "outputs": [
    {
     "data": {
      "text/plain": [
       "<matplotlib.text.Text at 0x129f11d10>"
      ]
     },
     "execution_count": 80,
     "metadata": {},
     "output_type": "execute_result"
    },
    {
     "data": {
      "image/png": "[encoded data removed]",
      "text/plain": [
       "<matplotlib.figure.Figure at 0x129cca150>"
      ]
     },
     "metadata": {},
     "output_type": "display_data"
    }
   ],
   "source": [
    "ax = complaintshp.plot(alpha=0, figsize=(10,10), linewidth=.5)\n",
    "plotter.plot(ax=ax, color='g')\n",
    "ax.set_axis_off()\n",
    "plt.title('New York City Zip Codes With Lowest Proportion of Department of Building Violations per Complaints in 2015', fontsize=14)"
   ]
  }
 ],
 "metadata": {
  "kernelspec": {
   "display_name": "Python 2",
   "language": "python",
   "name": "python2"
  },
  "language_info": {
   "codemirror_mode": {
    "name": "ipython",
    "version": 2
   },
   "file_extension": ".py",
   "mimetype": "text/x-python",
   "name": "python",
   "nbconvert_exporter": "python",
   "pygments_lexer": "ipython2",
   "version": "2.7.12"
  }
 },
 "nbformat": 4,
 "nbformat_minor": 1
}
