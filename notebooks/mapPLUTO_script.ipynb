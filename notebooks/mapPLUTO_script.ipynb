{
 "cells": [
  {
   "cell_type": "code",
   "execution_count": 12,
   "metadata": {
    "collapsed": false
   },
   "outputs": [
    {
     "name": "stdout",
     "output_type": "stream",
     "text": [
      "Populating the interactive namespace from numpy and matplotlib\n"
     ]
    }
   ],
   "source": [
    "import pandas as pd\n",
    "import zipfile\n",
    "import geopandas as gpd\n",
    "%pylab inline"
   ]
  },
  {
   "cell_type": "markdown",
   "metadata": {},
   "source": [
    "Specific features needed from PLUTO are;\n",
    "* SUM(BldgArea)\n",
    "* SUM(ResArea)\n",
    "* SUM(UnitRes)\n",
    "* SUM(ResArea) of non city-owned or federal-owned lots (\"OwnerType\" is not 'C' or 'O')\n",
    "* SUM(UnitsRes) of non city-owned or federal-owned lots (\"OwnerType\" is not 'C' or 'O')\n",
    "* MEAN(AssessTot)"
   ]
  },
  {
   "cell_type": "code",
   "execution_count": 13,
   "metadata": {
    "collapsed": true
   },
   "outputs": [],
   "source": [
    "def pluto(mappluto,censusblockgroup):\n",
    "    z = zipfile.ZipFile(mappluto)\n",
    "    z.extractall('../data_initial/')\n",
    "    \n",
    "    z = zipfile.ZipFile(censusblockgroup)\n",
    "    z.extractall('../data_initial/')\n",
    "    \n",
    "    boroughs = ['Staten_Island', 'Queens', 'Manhattan', 'Bronx', 'Brooklyn']\n",
    "    abreevs = ['SI', 'QN', 'MN', 'BX', 'BK']\n",
    "\n",
    "    pluto = []\n",
    "    i = 0\n",
    "    for elem in boroughs:\n",
    "        temp = gpd.read_file('../data_initial/'+elem+'/'+abreevs[i]+'MapPLUTO.shp')\n",
    "        temp['BBL'] = temp['BBL'].astype(str)\n",
    "        temp = temp.to_crs({'init':'epsg:4326'})\n",
    "        pluto.append(temp)\n",
    "        i+=1  \n",
    "\n",
    "    cbg = gpd.read_file('../data_initial/cb_2013_36_bg_500k.shp')   \n",
    "    cbg = cbg.to_crs({'init':'epsg:4326'})\n",
    "    \n",
    "    cbg = cbg[['geometry','GEOID']]\n",
    "    cbg['GEOID'] = cbg['GEOID'].astype(str)\n",
    "    \n",
    "    abreevsl = [elem.lower() for elem in abreevs]\n",
    "    bbl_cbg = []\n",
    "\n",
    "    for i in range(0,len(pluto)):\n",
    "        for_merge = pluto[i][['BBL','geometry']]\n",
    "        for_merge['BBL'] = for_merge['BBL'].astype(str)\n",
    "        merged = gpd.sjoin(for_merge, cbg)\n",
    "        merged = merged.drop(['geometry','index_right'],axis=1)\n",
    "        bbl_cbg.append(merged)\n",
    "    \n",
    "    bbl_cbg = pd.concat(bbl_cbg)\n",
    "    pluto_updated = pd.concat(pluto)\n",
    "    \n",
    "    pluto_updated['BBL'] = pluto_updated['BBL'].astype(str)\n",
    "    \n",
    "    bldgarea = pd.merge(bbl_cbg, pluto_updated, on='BBL')\n",
    "    bldgarea = pd.DataFrame(bldgarea['BldgArea'].groupby(bldgarea['GEOID']).sum())\n",
    "    bldgarea = bldgarea.reset_index()\n",
    "    \n",
    "    resarea = pd.merge(bbl_cbg, pluto_updated, on='BBL')\n",
    "    resarea = pd.DataFrame(resarea['ResArea'].groupby(resarea['GEOID']).sum())\n",
    "    resarea = resarea.reset_index()\n",
    "    \n",
    "    unitsres = pd.merge(bbl_cbg, pluto_updated, on='BBL')\n",
    "    unitsres = pd.DataFrame(unitsres['UnitsRes'].groupby(unitsres['GEOID']).sum())\n",
    "    unitsres = unitsres.reset_index()\n",
    "    \n",
    "    resarea_ng = pd.merge(bbl_cbg, pluto_updated, on='BBL')\n",
    "    resarea_ng['OwnerType'].astype(str)\n",
    "    resarea_ng = resarea_ng[(resarea_ng['OwnerType'] != 'O') & (resarea_ng['OwnerType'] != 'C')]\n",
    "    resarea_ng = pd.DataFrame(resarea_ng['ResArea'].groupby(resarea_ng['GEOID']).sum())\n",
    "    resarea_ng = resarea_ng.rename(columns={'ResArea':'ResAreaNonGovt'})\n",
    "    resarea_ng = resarea_ng.reset_index()\n",
    "    \n",
    "    resunits_ng = pd.merge(bbl_cbg, pluto_updated, on='BBL')\n",
    "    resunits_ng['OwnerType'].astype(str)\n",
    "    resunits_ng = resunits_ng[(resunits_ng['OwnerType'] != 'O') & (resunits_ng['OwnerType'] != 'C')]\n",
    "    resunits_ng = pd.DataFrame(resunits_ng['UnitsRes'].groupby(resunits_ng['GEOID']).sum())\n",
    "    resunits_ng = resunits_ng.rename(columns={'UnitsRes':'UnitsResNonGovt'})\n",
    "    resunits_ng = resunits_ng.reset_index()\n",
    "    \n",
    "    assessed = pd.merge(bbl_cbg, pluto_updated, on='BBL')\n",
    "    assessed = pd.DataFrame(assessed['AssessTot'].groupby(assessed['GEOID']).mean())\n",
    "    assessed = assessed.reset_index()\n",
    "    \n",
    "    features = pd.merge(bldgarea, cbg, on='GEOID')\n",
    "    features = pd.merge(resarea, features, on='GEOID')\n",
    "    features = pd.merge(unitsres, features, on='GEOID')\n",
    "    features = pd.merge(resarea_ng, features, on='GEOID', how='outer')\n",
    "    features = pd.merge(resunits_ng, features, on='GEOID', how='outer')\n",
    "    features = pd.merge(assessed, features, on='GEOID')\n",
    "    \n",
    "    features = features.fillna(0)\n",
    "    features = features.drop('geometry',axis=1)\n",
    "    \n",
    "    features.to_csv('../data_processed/mapPluto_features_16')\n",
    "    \n",
    "    return features.head()"
   ]
  },
  {
   "cell_type": "code",
   "execution_count": 14,
   "metadata": {
    "collapsed": false
   },
   "outputs": [
    {
     "name": "stderr",
     "output_type": "stream",
     "text": [
      "/anaconda/lib/python2.7/site-packages/ipykernel/__main__.py:31: SettingWithCopyWarning: \n",
      "A value is trying to be set on a copy of a slice from a DataFrame.\n",
      "Try using .loc[row_indexer,col_indexer] = value instead\n",
      "\n",
      "See the caveats in the documentation: http://pandas.pydata.org/pandas-docs/stable/indexing.html#indexing-view-versus-copy\n"
     ]
    },
    {
     "data": {
      "text/html": [
       "<div>\n",
       "<table border=\"1\" class=\"dataframe\">\n",
       "  <thead>\n",
       "    <tr style=\"text-align: right;\">\n",
       "      <th></th>\n",
       "      <th>GEOID</th>\n",
       "      <th>AssessTot</th>\n",
       "      <th>UnitsResNonGovt</th>\n",
       "      <th>ResAreaNonGovt</th>\n",
       "      <th>UnitsRes</th>\n",
       "      <th>ResArea</th>\n",
       "      <th>BldgArea</th>\n",
       "    </tr>\n",
       "  </thead>\n",
       "  <tbody>\n",
       "    <tr>\n",
       "      <th>0</th>\n",
       "      <td>360050001000</td>\n",
       "      <td>2.346083e+08</td>\n",
       "      <td>0.0</td>\n",
       "      <td>0.0</td>\n",
       "      <td>0</td>\n",
       "      <td>0</td>\n",
       "      <td>5502107</td>\n",
       "    </tr>\n",
       "    <tr>\n",
       "      <th>1</th>\n",
       "      <td>360050001001</td>\n",
       "      <td>4.632494e+08</td>\n",
       "      <td>0.0</td>\n",
       "      <td>0.0</td>\n",
       "      <td>0</td>\n",
       "      <td>0</td>\n",
       "      <td>5502107</td>\n",
       "    </tr>\n",
       "    <tr>\n",
       "      <th>2</th>\n",
       "      <td>360050002000</td>\n",
       "      <td>8.608992e+04</td>\n",
       "      <td>13.0</td>\n",
       "      <td>13334.0</td>\n",
       "      <td>13</td>\n",
       "      <td>13334</td>\n",
       "      <td>13334</td>\n",
       "    </tr>\n",
       "    <tr>\n",
       "      <th>3</th>\n",
       "      <td>360050002001</td>\n",
       "      <td>2.353908e+04</td>\n",
       "      <td>382.0</td>\n",
       "      <td>459881.0</td>\n",
       "      <td>382</td>\n",
       "      <td>459881</td>\n",
       "      <td>489440</td>\n",
       "    </tr>\n",
       "    <tr>\n",
       "      <th>4</th>\n",
       "      <td>360050002002</td>\n",
       "      <td>7.073658e+04</td>\n",
       "      <td>607.0</td>\n",
       "      <td>632623.0</td>\n",
       "      <td>607</td>\n",
       "      <td>632623</td>\n",
       "      <td>663363</td>\n",
       "    </tr>\n",
       "  </tbody>\n",
       "</table>\n",
       "</div>"
      ],
      "text/plain": [
       "          GEOID     AssessTot  UnitsResNonGovt  ResAreaNonGovt  UnitsRes  \\\n",
       "0  360050001000  2.346083e+08              0.0             0.0         0   \n",
       "1  360050001001  4.632494e+08              0.0             0.0         0   \n",
       "2  360050002000  8.608992e+04             13.0         13334.0        13   \n",
       "3  360050002001  2.353908e+04            382.0        459881.0       382   \n",
       "4  360050002002  7.073658e+04            607.0        632623.0       607   \n",
       "\n",
       "   ResArea  BldgArea  \n",
       "0        0   5502107  \n",
       "1        0   5502107  \n",
       "2    13334     13334  \n",
       "3   459881    489440  \n",
       "4   632623    663363  "
      ]
     },
     "execution_count": 14,
     "metadata": {},
     "output_type": "execute_result"
    }
   ],
   "source": [
    "pluto('../data_initial/mappluto_16v2.zip','../data_initial/cb_2015_36_bg_500k.zip')"
   ]
  }
 ],
 "metadata": {
  "kernelspec": {
   "display_name": "Python 2",
   "language": "python",
   "name": "python2"
  },
  "language_info": {
   "codemirror_mode": {
    "name": "ipython",
    "version": 2
   },
   "file_extension": ".py",
   "mimetype": "text/x-python",
   "name": "python",
   "nbconvert_exporter": "python",
   "pygments_lexer": "ipython2",
   "version": "2.7.12"
  }
 },
 "nbformat": 4,
 "nbformat_minor": 1
}
