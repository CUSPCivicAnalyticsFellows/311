{
 "cells": [
  {
   "cell_type": "code",
   "execution_count": 25,
   "metadata": {
    "collapsed": true
   },
   "outputs": [],
   "source": [
    "import pandas as pd\n",
    "import geopandas as gpd\n",
    "import zipfile\n",
    "from shapely.geometry import Point"
   ]
  },
  {
   "cell_type": "code",
   "execution_count": 4,
   "metadata": {
    "collapsed": true
   },
   "outputs": [],
   "source": [
    "z = zipfile.ZipFile('../data_initial/NYC Wi-Fi Hotspot Locations.zip')\n",
    "z.extractall('../data_initial/')"
   ]
  },
  {
   "cell_type": "code",
   "execution_count": 5,
   "metadata": {
    "collapsed": true
   },
   "outputs": [],
   "source": [
    "public_wifi = gpd.read_file('../data_initial/geo_export_627c4015-18ba-496e-bc7a-83a5e4e4cdd0.shp')"
   ]
  },
  {
   "cell_type": "code",
   "execution_count": 6,
   "metadata": {
    "collapsed": false
   },
   "outputs": [
    {
     "data": {
      "text/html": [
       "<div>\n",
       "<table border=\"1\" class=\"dataframe\">\n",
       "  <thead>\n",
       "    <tr style=\"text-align: right;\">\n",
       "      <th></th>\n",
       "      <th>boro</th>\n",
       "      <th>city</th>\n",
       "      <th>date_activ</th>\n",
       "      <th>geometry</th>\n",
       "      <th>lat</th>\n",
       "      <th>location</th>\n",
       "      <th>location_t</th>\n",
       "      <th>lon</th>\n",
       "      <th>name</th>\n",
       "      <th>objectid</th>\n",
       "      <th>provider</th>\n",
       "      <th>remarks</th>\n",
       "      <th>sourceid</th>\n",
       "      <th>ssid</th>\n",
       "      <th>time_activ</th>\n",
       "      <th>type</th>\n",
       "      <th>x</th>\n",
       "      <th>y</th>\n",
       "    </tr>\n",
       "  </thead>\n",
       "  <tbody>\n",
       "    <tr>\n",
       "      <th>0</th>\n",
       "      <td>QU</td>\n",
       "      <td>Queens</td>\n",
       "      <td>1899-11-30</td>\n",
       "      <td>POINT (-73.80905000017083 40.77122899977465)</td>\n",
       "      <td>40.771229</td>\n",
       "      <td>155th St between 29th Ave and 32nd Ave</td>\n",
       "      <td>Outdoor TWC Aerial</td>\n",
       "      <td>-73.809050</td>\n",
       "      <td>Bowne Park</td>\n",
       "      <td>848.0</td>\n",
       "      <td>Time Warner Cable</td>\n",
       "      <td>3 free 10 min sessions</td>\n",
       "      <td>0</td>\n",
       "      <td>GuestWiFi</td>\n",
       "      <td>00:00:00.000</td>\n",
       "      <td>Limited Free</td>\n",
       "      <td>1.037140e+06</td>\n",
       "      <td>220313.953779</td>\n",
       "    </tr>\n",
       "    <tr>\n",
       "      <th>1</th>\n",
       "      <td>QU</td>\n",
       "      <td>Queens</td>\n",
       "      <td>1899-11-30</td>\n",
       "      <td>POINT (-73.80874799966239 40.7697510000437)</td>\n",
       "      <td>40.769751</td>\n",
       "      <td>32nd Ave between 155th and 156th St</td>\n",
       "      <td>Outdoor TWC Aerial</td>\n",
       "      <td>-73.808748</td>\n",
       "      <td>Bowne Park</td>\n",
       "      <td>849.0</td>\n",
       "      <td>Time Warner Cable</td>\n",
       "      <td>3 free 10 min sessions</td>\n",
       "      <td>0</td>\n",
       "      <td>GuestWiFi</td>\n",
       "      <td>00:00:00.000</td>\n",
       "      <td>Limited Free</td>\n",
       "      <td>1.037225e+06</td>\n",
       "      <td>219775.653018</td>\n",
       "    </tr>\n",
       "    <tr>\n",
       "      <th>2</th>\n",
       "      <td>QU</td>\n",
       "      <td>Queens</td>\n",
       "      <td>1899-11-30</td>\n",
       "      <td>POINT (-73.80750799982962 40.76965200017256)</td>\n",
       "      <td>40.769652</td>\n",
       "      <td>32nd Ave between 155th and 156th St</td>\n",
       "      <td>Outdoor TWC Aerial</td>\n",
       "      <td>-73.807508</td>\n",
       "      <td>Bowne Park</td>\n",
       "      <td>850.0</td>\n",
       "      <td>Time Warner Cable</td>\n",
       "      <td>3 free 10 min sessions</td>\n",
       "      <td>0</td>\n",
       "      <td>GuestWiFi</td>\n",
       "      <td>00:00:00.000</td>\n",
       "      <td>Limited Free</td>\n",
       "      <td>1.037569e+06</td>\n",
       "      <td>219740.336488</td>\n",
       "    </tr>\n",
       "    <tr>\n",
       "      <th>3</th>\n",
       "      <td>QU</td>\n",
       "      <td>Queens</td>\n",
       "      <td>1899-11-30</td>\n",
       "      <td>POINT (-73.80596799982129 40.76953600017423)</td>\n",
       "      <td>40.769536</td>\n",
       "      <td>32nd Ave between 155th and 156th St</td>\n",
       "      <td>Outdoor TWC Aerial</td>\n",
       "      <td>-73.805968</td>\n",
       "      <td>Bowne Park</td>\n",
       "      <td>851.0</td>\n",
       "      <td>Time Warner Cable</td>\n",
       "      <td>3 free 10 min sessions</td>\n",
       "      <td>0</td>\n",
       "      <td>GuestWiFi</td>\n",
       "      <td>00:00:00.000</td>\n",
       "      <td>Limited Free</td>\n",
       "      <td>1.037995e+06</td>\n",
       "      <td>219699.015048</td>\n",
       "    </tr>\n",
       "    <tr>\n",
       "      <th>4</th>\n",
       "      <td>QU</td>\n",
       "      <td>Queens</td>\n",
       "      <td>1899-11-30</td>\n",
       "      <td>POINT (-73.80550699950203 40.77053199970091)</td>\n",
       "      <td>40.770532</td>\n",
       "      <td>159th St between 29th Ave and 32nd Ave</td>\n",
       "      <td>Outdoor TWC Aerial</td>\n",
       "      <td>-73.805507</td>\n",
       "      <td>Bowne Park</td>\n",
       "      <td>852.0</td>\n",
       "      <td>Time Warner Cable</td>\n",
       "      <td>3 free 10 min sessions</td>\n",
       "      <td>0</td>\n",
       "      <td>GuestWiFi</td>\n",
       "      <td>00:00:00.000</td>\n",
       "      <td>Limited Free</td>\n",
       "      <td>1.038122e+06</td>\n",
       "      <td>220062.173114</td>\n",
       "    </tr>\n",
       "  </tbody>\n",
       "</table>\n",
       "</div>"
      ],
      "text/plain": [
       "  boro    city  date_activ                                      geometry  \\\n",
       "0   QU  Queens  1899-11-30  POINT (-73.80905000017083 40.77122899977465)   \n",
       "1   QU  Queens  1899-11-30   POINT (-73.80874799966239 40.7697510000437)   \n",
       "2   QU  Queens  1899-11-30  POINT (-73.80750799982962 40.76965200017256)   \n",
       "3   QU  Queens  1899-11-30  POINT (-73.80596799982129 40.76953600017423)   \n",
       "4   QU  Queens  1899-11-30  POINT (-73.80550699950203 40.77053199970091)   \n",
       "\n",
       "         lat                                location          location_t  \\\n",
       "0  40.771229  155th St between 29th Ave and 32nd Ave  Outdoor TWC Aerial   \n",
       "1  40.769751     32nd Ave between 155th and 156th St  Outdoor TWC Aerial   \n",
       "2  40.769652     32nd Ave between 155th and 156th St  Outdoor TWC Aerial   \n",
       "3  40.769536     32nd Ave between 155th and 156th St  Outdoor TWC Aerial   \n",
       "4  40.770532  159th St between 29th Ave and 32nd Ave  Outdoor TWC Aerial   \n",
       "\n",
       "         lon        name  objectid           provider                 remarks  \\\n",
       "0 -73.809050  Bowne Park     848.0  Time Warner Cable  3 free 10 min sessions   \n",
       "1 -73.808748  Bowne Park     849.0  Time Warner Cable  3 free 10 min sessions   \n",
       "2 -73.807508  Bowne Park     850.0  Time Warner Cable  3 free 10 min sessions   \n",
       "3 -73.805968  Bowne Park     851.0  Time Warner Cable  3 free 10 min sessions   \n",
       "4 -73.805507  Bowne Park     852.0  Time Warner Cable  3 free 10 min sessions   \n",
       "\n",
       "  sourceid       ssid    time_activ          type             x              y  \n",
       "0        0  GuestWiFi  00:00:00.000  Limited Free  1.037140e+06  220313.953779  \n",
       "1        0  GuestWiFi  00:00:00.000  Limited Free  1.037225e+06  219775.653018  \n",
       "2        0  GuestWiFi  00:00:00.000  Limited Free  1.037569e+06  219740.336488  \n",
       "3        0  GuestWiFi  00:00:00.000  Limited Free  1.037995e+06  219699.015048  \n",
       "4        0  GuestWiFi  00:00:00.000  Limited Free  1.038122e+06  220062.173114  "
      ]
     },
     "execution_count": 6,
     "metadata": {},
     "output_type": "execute_result"
    }
   ],
   "source": [
    "public_wifi.head()"
   ]
  },
  {
   "cell_type": "code",
   "execution_count": 18,
   "metadata": {
    "collapsed": true
   },
   "outputs": [],
   "source": [
    "zips = gpd.read_file('../data_initial/ZIP_CODE_040114.shp')"
   ]
  },
  {
   "cell_type": "code",
   "execution_count": 21,
   "metadata": {
    "collapsed": false
   },
   "outputs": [
    {
     "data": {
      "text/html": [
       "<div>\n",
       "<table border=\"1\" class=\"dataframe\">\n",
       "  <thead>\n",
       "    <tr style=\"text-align: right;\">\n",
       "      <th></th>\n",
       "      <th>ZIPCODE</th>\n",
       "      <th>geometry</th>\n",
       "    </tr>\n",
       "  </thead>\n",
       "  <tbody>\n",
       "    <tr>\n",
       "      <th>0</th>\n",
       "      <td>11436</td>\n",
       "      <td>POLYGON ((1038098.251871482 188138.3800067157,...</td>\n",
       "    </tr>\n",
       "    <tr>\n",
       "      <th>1</th>\n",
       "      <td>11213</td>\n",
       "      <td>POLYGON ((1001613.712964058 186926.4395172149,...</td>\n",
       "    </tr>\n",
       "    <tr>\n",
       "      <th>2</th>\n",
       "      <td>11212</td>\n",
       "      <td>POLYGON ((1011174.275535807 183696.33770971, 1...</td>\n",
       "    </tr>\n",
       "    <tr>\n",
       "      <th>3</th>\n",
       "      <td>11225</td>\n",
       "      <td>POLYGON ((995908.3654508889 183617.6128015518,...</td>\n",
       "    </tr>\n",
       "    <tr>\n",
       "      <th>4</th>\n",
       "      <td>11218</td>\n",
       "      <td>POLYGON ((991997.1134308875 176307.4958601296,...</td>\n",
       "    </tr>\n",
       "  </tbody>\n",
       "</table>\n",
       "</div>"
      ],
      "text/plain": [
       "  ZIPCODE                                           geometry\n",
       "0   11436  POLYGON ((1038098.251871482 188138.3800067157,...\n",
       "1   11213  POLYGON ((1001613.712964058 186926.4395172149,...\n",
       "2   11212  POLYGON ((1011174.275535807 183696.33770971, 1...\n",
       "3   11225  POLYGON ((995908.3654508889 183617.6128015518,...\n",
       "4   11218  POLYGON ((991997.1134308875 176307.4958601296,..."
      ]
     },
     "execution_count": 21,
     "metadata": {},
     "output_type": "execute_result"
    }
   ],
   "source": [
    "zips.head()"
   ]
  },
  {
   "cell_type": "code",
   "execution_count": 20,
   "metadata": {
    "collapsed": false
   },
   "outputs": [],
   "source": [
    "zips = zips.ix[:,11:]"
   ]
  },
  {
   "cell_type": "code",
   "execution_count": 22,
   "metadata": {
    "collapsed": false
   },
   "outputs": [
    {
     "name": "stdout",
     "output_type": "stream",
     "text": [
      "<class 'geopandas.geodataframe.GeoDataFrame'>\n"
     ]
    }
   ],
   "source": [
    "print(type(zips))"
   ]
  },
  {
   "cell_type": "code",
   "execution_count": 23,
   "metadata": {
    "collapsed": true
   },
   "outputs": [],
   "source": [
    "zips = zips.to_crs({'init' :'epsg:4326'})"
   ]
  },
  {
   "cell_type": "code",
   "execution_count": 24,
   "metadata": {
    "collapsed": false
   },
   "outputs": [
    {
     "data": {
      "text/html": [
       "<div>\n",
       "<table border=\"1\" class=\"dataframe\">\n",
       "  <thead>\n",
       "    <tr style=\"text-align: right;\">\n",
       "      <th></th>\n",
       "      <th>ZIPCODE</th>\n",
       "      <th>geometry</th>\n",
       "    </tr>\n",
       "  </thead>\n",
       "  <tbody>\n",
       "    <tr>\n",
       "      <th>0</th>\n",
       "      <td>11436</td>\n",
       "      <td>POLYGON ((-73.80584847647386 40.6829093264758,...</td>\n",
       "    </tr>\n",
       "    <tr>\n",
       "      <th>1</th>\n",
       "      <td>11213</td>\n",
       "      <td>POLYGON ((-73.93739763139808 40.67972958928417...</td>\n",
       "    </tr>\n",
       "    <tr>\n",
       "      <th>2</th>\n",
       "      <td>11212</td>\n",
       "      <td>POLYGON ((-73.90294132545432 40.6708397759334,...</td>\n",
       "    </tr>\n",
       "    <tr>\n",
       "      <th>3</th>\n",
       "      <td>11225</td>\n",
       "      <td>POLYGON ((-73.95797316043479 40.67065695900899...</td>\n",
       "    </tr>\n",
       "    <tr>\n",
       "      <th>4</th>\n",
       "      <td>11218</td>\n",
       "      <td>POLYGON ((-73.97208109564255 40.65059658730944...</td>\n",
       "    </tr>\n",
       "  </tbody>\n",
       "</table>\n",
       "</div>"
      ],
      "text/plain": [
       "  ZIPCODE                                           geometry\n",
       "0   11436  POLYGON ((-73.80584847647386 40.6829093264758,...\n",
       "1   11213  POLYGON ((-73.93739763139808 40.67972958928417...\n",
       "2   11212  POLYGON ((-73.90294132545432 40.6708397759334,...\n",
       "3   11225  POLYGON ((-73.95797316043479 40.67065695900899...\n",
       "4   11218  POLYGON ((-73.97208109564255 40.65059658730944..."
      ]
     },
     "execution_count": 24,
     "metadata": {},
     "output_type": "execute_result"
    }
   ],
   "source": [
    "zips.head()"
   ]
  },
  {
   "cell_type": "code",
   "execution_count": 38,
   "metadata": {
    "collapsed": true
   },
   "outputs": [],
   "source": [
    "public_wifi_geo = gpd.GeoSeries([Point(xy) for xy in zip(public_wifi.lon, public_wifi.lat)])"
   ]
  },
  {
   "cell_type": "code",
   "execution_count": 39,
   "metadata": {
    "collapsed": true
   },
   "outputs": [],
   "source": [
    "public_wifi_geo = gpd.GeoDataFrame(public_wifi, geometry=public_wifi_geo)"
   ]
  },
  {
   "cell_type": "code",
   "execution_count": 46,
   "metadata": {
    "collapsed": true
   },
   "outputs": [],
   "source": [
    "public_wifi_geo.crs = {'init':'epsg:4326'}"
   ]
  },
  {
   "cell_type": "code",
   "execution_count": 47,
   "metadata": {
    "collapsed": false
   },
   "outputs": [
    {
     "data": {
      "text/html": [
       "<div>\n",
       "<table border=\"1\" class=\"dataframe\">\n",
       "  <thead>\n",
       "    <tr style=\"text-align: right;\">\n",
       "      <th></th>\n",
       "      <th>boro</th>\n",
       "      <th>city</th>\n",
       "      <th>date_activ</th>\n",
       "      <th>geometry</th>\n",
       "      <th>lat</th>\n",
       "      <th>location</th>\n",
       "      <th>location_t</th>\n",
       "      <th>lon</th>\n",
       "      <th>name</th>\n",
       "      <th>objectid</th>\n",
       "      <th>provider</th>\n",
       "      <th>remarks</th>\n",
       "      <th>sourceid</th>\n",
       "      <th>ssid</th>\n",
       "      <th>time_activ</th>\n",
       "      <th>type</th>\n",
       "      <th>x</th>\n",
       "      <th>y</th>\n",
       "    </tr>\n",
       "  </thead>\n",
       "  <tbody>\n",
       "    <tr>\n",
       "      <th>0</th>\n",
       "      <td>QU</td>\n",
       "      <td>Queens</td>\n",
       "      <td>1899-11-30</td>\n",
       "      <td>POINT (-73.80905 40.771229)</td>\n",
       "      <td>40.771229</td>\n",
       "      <td>155th St between 29th Ave and 32nd Ave</td>\n",
       "      <td>Outdoor TWC Aerial</td>\n",
       "      <td>-73.809050</td>\n",
       "      <td>Bowne Park</td>\n",
       "      <td>848.0</td>\n",
       "      <td>Time Warner Cable</td>\n",
       "      <td>3 free 10 min sessions</td>\n",
       "      <td>0</td>\n",
       "      <td>GuestWiFi</td>\n",
       "      <td>00:00:00.000</td>\n",
       "      <td>Limited Free</td>\n",
       "      <td>1.037140e+06</td>\n",
       "      <td>220313.953779</td>\n",
       "    </tr>\n",
       "    <tr>\n",
       "      <th>1</th>\n",
       "      <td>QU</td>\n",
       "      <td>Queens</td>\n",
       "      <td>1899-11-30</td>\n",
       "      <td>POINT (-73.80874799999999 40.769751)</td>\n",
       "      <td>40.769751</td>\n",
       "      <td>32nd Ave between 155th and 156th St</td>\n",
       "      <td>Outdoor TWC Aerial</td>\n",
       "      <td>-73.808748</td>\n",
       "      <td>Bowne Park</td>\n",
       "      <td>849.0</td>\n",
       "      <td>Time Warner Cable</td>\n",
       "      <td>3 free 10 min sessions</td>\n",
       "      <td>0</td>\n",
       "      <td>GuestWiFi</td>\n",
       "      <td>00:00:00.000</td>\n",
       "      <td>Limited Free</td>\n",
       "      <td>1.037225e+06</td>\n",
       "      <td>219775.653018</td>\n",
       "    </tr>\n",
       "    <tr>\n",
       "      <th>2</th>\n",
       "      <td>QU</td>\n",
       "      <td>Queens</td>\n",
       "      <td>1899-11-30</td>\n",
       "      <td>POINT (-73.807508 40.769652)</td>\n",
       "      <td>40.769652</td>\n",
       "      <td>32nd Ave between 155th and 156th St</td>\n",
       "      <td>Outdoor TWC Aerial</td>\n",
       "      <td>-73.807508</td>\n",
       "      <td>Bowne Park</td>\n",
       "      <td>850.0</td>\n",
       "      <td>Time Warner Cable</td>\n",
       "      <td>3 free 10 min sessions</td>\n",
       "      <td>0</td>\n",
       "      <td>GuestWiFi</td>\n",
       "      <td>00:00:00.000</td>\n",
       "      <td>Limited Free</td>\n",
       "      <td>1.037569e+06</td>\n",
       "      <td>219740.336488</td>\n",
       "    </tr>\n",
       "    <tr>\n",
       "      <th>3</th>\n",
       "      <td>QU</td>\n",
       "      <td>Queens</td>\n",
       "      <td>1899-11-30</td>\n",
       "      <td>POINT (-73.80596799999999 40.769536)</td>\n",
       "      <td>40.769536</td>\n",
       "      <td>32nd Ave between 155th and 156th St</td>\n",
       "      <td>Outdoor TWC Aerial</td>\n",
       "      <td>-73.805968</td>\n",
       "      <td>Bowne Park</td>\n",
       "      <td>851.0</td>\n",
       "      <td>Time Warner Cable</td>\n",
       "      <td>3 free 10 min sessions</td>\n",
       "      <td>0</td>\n",
       "      <td>GuestWiFi</td>\n",
       "      <td>00:00:00.000</td>\n",
       "      <td>Limited Free</td>\n",
       "      <td>1.037995e+06</td>\n",
       "      <td>219699.015048</td>\n",
       "    </tr>\n",
       "    <tr>\n",
       "      <th>4</th>\n",
       "      <td>QU</td>\n",
       "      <td>Queens</td>\n",
       "      <td>1899-11-30</td>\n",
       "      <td>POINT (-73.80550700000001 40.770532)</td>\n",
       "      <td>40.770532</td>\n",
       "      <td>159th St between 29th Ave and 32nd Ave</td>\n",
       "      <td>Outdoor TWC Aerial</td>\n",
       "      <td>-73.805507</td>\n",
       "      <td>Bowne Park</td>\n",
       "      <td>852.0</td>\n",
       "      <td>Time Warner Cable</td>\n",
       "      <td>3 free 10 min sessions</td>\n",
       "      <td>0</td>\n",
       "      <td>GuestWiFi</td>\n",
       "      <td>00:00:00.000</td>\n",
       "      <td>Limited Free</td>\n",
       "      <td>1.038122e+06</td>\n",
       "      <td>220062.173114</td>\n",
       "    </tr>\n",
       "  </tbody>\n",
       "</table>\n",
       "</div>"
      ],
      "text/plain": [
       "  boro    city  date_activ                              geometry        lat  \\\n",
       "0   QU  Queens  1899-11-30           POINT (-73.80905 40.771229)  40.771229   \n",
       "1   QU  Queens  1899-11-30  POINT (-73.80874799999999 40.769751)  40.769751   \n",
       "2   QU  Queens  1899-11-30          POINT (-73.807508 40.769652)  40.769652   \n",
       "3   QU  Queens  1899-11-30  POINT (-73.80596799999999 40.769536)  40.769536   \n",
       "4   QU  Queens  1899-11-30  POINT (-73.80550700000001 40.770532)  40.770532   \n",
       "\n",
       "                                 location          location_t        lon  \\\n",
       "0  155th St between 29th Ave and 32nd Ave  Outdoor TWC Aerial -73.809050   \n",
       "1     32nd Ave between 155th and 156th St  Outdoor TWC Aerial -73.808748   \n",
       "2     32nd Ave between 155th and 156th St  Outdoor TWC Aerial -73.807508   \n",
       "3     32nd Ave between 155th and 156th St  Outdoor TWC Aerial -73.805968   \n",
       "4  159th St between 29th Ave and 32nd Ave  Outdoor TWC Aerial -73.805507   \n",
       "\n",
       "         name  objectid           provider                 remarks sourceid  \\\n",
       "0  Bowne Park     848.0  Time Warner Cable  3 free 10 min sessions        0   \n",
       "1  Bowne Park     849.0  Time Warner Cable  3 free 10 min sessions        0   \n",
       "2  Bowne Park     850.0  Time Warner Cable  3 free 10 min sessions        0   \n",
       "3  Bowne Park     851.0  Time Warner Cable  3 free 10 min sessions        0   \n",
       "4  Bowne Park     852.0  Time Warner Cable  3 free 10 min sessions        0   \n",
       "\n",
       "        ssid    time_activ          type             x              y  \n",
       "0  GuestWiFi  00:00:00.000  Limited Free  1.037140e+06  220313.953779  \n",
       "1  GuestWiFi  00:00:00.000  Limited Free  1.037225e+06  219775.653018  \n",
       "2  GuestWiFi  00:00:00.000  Limited Free  1.037569e+06  219740.336488  \n",
       "3  GuestWiFi  00:00:00.000  Limited Free  1.037995e+06  219699.015048  \n",
       "4  GuestWiFi  00:00:00.000  Limited Free  1.038122e+06  220062.173114  "
      ]
     },
     "execution_count": 47,
     "metadata": {},
     "output_type": "execute_result"
    }
   ],
   "source": [
    "public_wifi_geo.head()"
   ]
  },
  {
   "cell_type": "code",
   "execution_count": 48,
   "metadata": {
    "collapsed": false
   },
   "outputs": [],
   "source": [
    "public_wifi_geo = public_wifi_geo[public_wifi_geo['date_activ'] < '2016-00-00']"
   ]
  },
  {
   "cell_type": "code",
   "execution_count": 49,
   "metadata": {
    "collapsed": false
   },
   "outputs": [],
   "source": [
    "wifi = gpd.sjoin(public_wifi_geo, zips, how='left', op='intersects')"
   ]
  },
  {
   "cell_type": "code",
   "execution_count": 58,
   "metadata": {
    "collapsed": false
   },
   "outputs": [],
   "source": [
    "wifi_count = wifi['boro'].groupby(wifi['ZIPCODE']).count()\n",
    "wifi_count = wifi_count.reset_index()"
   ]
  },
  {
   "cell_type": "code",
   "execution_count": 59,
   "metadata": {
    "collapsed": false
   },
   "outputs": [
    {
     "data": {
      "text/html": [
       "<div>\n",
       "<table border=\"1\" class=\"dataframe\">\n",
       "  <thead>\n",
       "    <tr style=\"text-align: right;\">\n",
       "      <th></th>\n",
       "      <th>ZIPCODE</th>\n",
       "      <th>boro</th>\n",
       "    </tr>\n",
       "  </thead>\n",
       "  <tbody>\n",
       "    <tr>\n",
       "      <th>0</th>\n",
       "      <td>00083</td>\n",
       "      <td>11</td>\n",
       "    </tr>\n",
       "    <tr>\n",
       "      <th>1</th>\n",
       "      <td>10001</td>\n",
       "      <td>19</td>\n",
       "    </tr>\n",
       "    <tr>\n",
       "      <th>2</th>\n",
       "      <td>10002</td>\n",
       "      <td>12</td>\n",
       "    </tr>\n",
       "    <tr>\n",
       "      <th>3</th>\n",
       "      <td>10003</td>\n",
       "      <td>12</td>\n",
       "    </tr>\n",
       "    <tr>\n",
       "      <th>4</th>\n",
       "      <td>10004</td>\n",
       "      <td>18</td>\n",
       "    </tr>\n",
       "  </tbody>\n",
       "</table>\n",
       "</div>"
      ],
      "text/plain": [
       "  ZIPCODE  boro\n",
       "0   00083    11\n",
       "1   10001    19\n",
       "2   10002    12\n",
       "3   10003    12\n",
       "4   10004    18"
      ]
     },
     "execution_count": 59,
     "metadata": {},
     "output_type": "execute_result"
    }
   ],
   "source": [
    "wifi_count.head()"
   ]
  },
  {
   "cell_type": "code",
   "execution_count": 66,
   "metadata": {
    "collapsed": false
   },
   "outputs": [],
   "source": [
    "wifi_count.to_csv('../data_processed/public_wifi')"
   ]
  }
 ],
 "metadata": {
  "kernelspec": {
   "display_name": "Python 2",
   "language": "python",
   "name": "python2"
  },
  "language_info": {
   "codemirror_mode": {
    "name": "ipython",
    "version": 2
   },
   "file_extension": ".py",
   "mimetype": "text/x-python",
   "name": "python",
   "nbconvert_exporter": "python",
   "pygments_lexer": "ipython2",
   "version": "2.7.12"
  }
 },
 "nbformat": 4,
 "nbformat_minor": 1
}
