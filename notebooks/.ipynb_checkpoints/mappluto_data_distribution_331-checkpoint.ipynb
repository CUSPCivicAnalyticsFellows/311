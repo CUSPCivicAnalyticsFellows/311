{
 "cells": [
  {
   "cell_type": "code",
   "execution_count": 1,
   "metadata": {
    "collapsed": false
   },
   "outputs": [
    {
     "name": "stdout",
     "output_type": "stream",
     "text": [
      "Populating the interactive namespace from numpy and matplotlib\n"
     ]
    }
   ],
   "source": [
    "import pandas as pd\n",
    "import zipfile\n",
    "import geopandas as gpd\n",
    "import numpy as np\n",
    "import matplotlib.pyplot as plt\n",
    "%pylab inline"
   ]
  },
  {
   "cell_type": "markdown",
   "metadata": {},
   "source": [
    "### importing pluto features, complaints, and violations from heating season"
   ]
  },
  {
   "cell_type": "code",
   "execution_count": 2,
   "metadata": {
    "collapsed": false
   },
   "outputs": [],
   "source": [
    "a = pd.read_csv('../data_processed/mappluto_16_features')\n",
    "a = a.drop('Unnamed: 0',axis=1)"
   ]
  },
  {
   "cell_type": "code",
   "execution_count": 3,
   "metadata": {
    "collapsed": false
   },
   "outputs": [
    {
     "data": {
      "text/html": [
       "<div>\n",
       "<table border=\"1\" class=\"dataframe\">\n",
       "  <thead>\n",
       "    <tr style=\"text-align: right;\">\n",
       "      <th></th>\n",
       "      <th>AssessLand</th>\n",
       "      <th>BBL</th>\n",
       "      <th>BsmtCode</th>\n",
       "      <th>BuiltFAR</th>\n",
       "      <th>LandUse</th>\n",
       "      <th>LotType</th>\n",
       "      <th>NumBldgs</th>\n",
       "      <th>NumFloors</th>\n",
       "      <th>OwnerType</th>\n",
       "      <th>ProxCode</th>\n",
       "      <th>ResArea</th>\n",
       "      <th>UnitsRes</th>\n",
       "      <th>YearBuilt</th>\n",
       "      <th>bldgclass_updated</th>\n",
       "      <th>AssessSqft</th>\n",
       "      <th>com_count</th>\n",
       "      <th>vio_count</th>\n",
       "    </tr>\n",
       "  </thead>\n",
       "  <tbody>\n",
       "    <tr>\n",
       "      <th>0</th>\n",
       "      <td>8441.0</td>\n",
       "      <td>5010310021</td>\n",
       "      <td>2.0</td>\n",
       "      <td>0.70</td>\n",
       "      <td>2.0</td>\n",
       "      <td>5.0</td>\n",
       "      <td>1</td>\n",
       "      <td>2.75</td>\n",
       "      <td>NaN</td>\n",
       "      <td>1.0</td>\n",
       "      <td>4710</td>\n",
       "      <td>3</td>\n",
       "      <td>1920</td>\n",
       "      <td>3</td>\n",
       "      <td>4.695966</td>\n",
       "      <td>0.021277</td>\n",
       "      <td>0.000000</td>\n",
       "    </tr>\n",
       "    <tr>\n",
       "      <th>1</th>\n",
       "      <td>6480.0</td>\n",
       "      <td>5012460037</td>\n",
       "      <td>2.0</td>\n",
       "      <td>0.92</td>\n",
       "      <td>1.0</td>\n",
       "      <td>5.0</td>\n",
       "      <td>1</td>\n",
       "      <td>2.00</td>\n",
       "      <td>NaN</td>\n",
       "      <td>1.0</td>\n",
       "      <td>2700</td>\n",
       "      <td>2</td>\n",
       "      <td>2003</td>\n",
       "      <td>2</td>\n",
       "      <td>8.933333</td>\n",
       "      <td>0.042553</td>\n",
       "      <td>0.042553</td>\n",
       "    </tr>\n",
       "  </tbody>\n",
       "</table>\n",
       "</div>"
      ],
      "text/plain": [
       "   AssessLand         BBL  BsmtCode  BuiltFAR  LandUse  LotType  NumBldgs  \\\n",
       "0      8441.0  5010310021       2.0      0.70      2.0      5.0         1   \n",
       "1      6480.0  5012460037       2.0      0.92      1.0      5.0         1   \n",
       "\n",
       "   NumFloors OwnerType  ProxCode  ResArea  UnitsRes  YearBuilt  \\\n",
       "0       2.75       NaN       1.0     4710         3       1920   \n",
       "1       2.00       NaN       1.0     2700         2       2003   \n",
       "\n",
       "   bldgclass_updated  AssessSqft  com_count  vio_count  \n",
       "0                  3    4.695966   0.021277   0.000000  \n",
       "1                  2    8.933333   0.042553   0.042553  "
      ]
     },
     "execution_count": 3,
     "metadata": {},
     "output_type": "execute_result"
    }
   ],
   "source": [
    "a.head(2)"
   ]
  },
  {
   "cell_type": "code",
   "execution_count": 4,
   "metadata": {
    "collapsed": false
   },
   "outputs": [
    {
     "name": "stdout",
     "output_type": "stream",
     "text": [
      "88.55\n"
     ]
    }
   ],
   "source": [
    "print max(a['BuiltFAR'])"
   ]
  },
  {
   "cell_type": "code",
   "execution_count": 5,
   "metadata": {
    "collapsed": false
   },
   "outputs": [
    {
     "name": "stdout",
     "output_type": "stream",
     "text": [
      "51546\n"
     ]
    }
   ],
   "source": [
    "print len(a)"
   ]
  },
  {
   "cell_type": "code",
   "execution_count": 6,
   "metadata": {
    "collapsed": false
   },
   "outputs": [
    {
     "data": {
      "text/plain": [
       "AssessLand               0\n",
       "BBL                      0\n",
       "BsmtCode                 0\n",
       "BuiltFAR                 0\n",
       "LandUse                  0\n",
       "LotType                  0\n",
       "NumBldgs                 0\n",
       "NumFloors                0\n",
       "OwnerType            36821\n",
       "ProxCode                 0\n",
       "ResArea                  0\n",
       "UnitsRes                 0\n",
       "YearBuilt                0\n",
       "bldgclass_updated        0\n",
       "AssessSqft               0\n",
       "com_count                0\n",
       "vio_count                0\n",
       "dtype: int64"
      ]
     },
     "execution_count": 6,
     "metadata": {},
     "output_type": "execute_result"
    }
   ],
   "source": [
    "a.isnull().sum()"
   ]
  },
  {
   "cell_type": "code",
   "execution_count": 7,
   "metadata": {
    "collapsed": false
   },
   "outputs": [],
   "source": [
    "### drop categorical data and anything not pluto\n",
    "a = a[['BBL', 'AssessLand', 'BuiltFAR', 'NumBldgs', 'NumFloors', 'ResArea', 'UnitsRes', 'YearBuilt', 'AssessSqft', 'com_count']]"
   ]
  },
  {
   "cell_type": "code",
   "execution_count": 8,
   "metadata": {
    "collapsed": false
   },
   "outputs": [
    {
     "data": {
      "text/plain": [
       "BBL           0\n",
       "AssessLand    0\n",
       "BuiltFAR      0\n",
       "NumBldgs      0\n",
       "NumFloors     0\n",
       "ResArea       0\n",
       "UnitsRes      0\n",
       "YearBuilt     0\n",
       "AssessSqft    0\n",
       "com_count     0\n",
       "dtype: int64"
      ]
     },
     "execution_count": 8,
     "metadata": {},
     "output_type": "execute_result"
    }
   ],
   "source": [
    "a.isnull().sum()"
   ]
  },
  {
   "cell_type": "code",
   "execution_count": 9,
   "metadata": {
    "collapsed": true
   },
   "outputs": [],
   "source": [
    "a = a.dropna()"
   ]
  },
  {
   "cell_type": "code",
   "execution_count": 10,
   "metadata": {
    "collapsed": false
   },
   "outputs": [
    {
     "data": {
      "text/html": [
       "<div>\n",
       "<table border=\"1\" class=\"dataframe\">\n",
       "  <thead>\n",
       "    <tr style=\"text-align: right;\">\n",
       "      <th></th>\n",
       "      <th>BBL</th>\n",
       "      <th>AssessLand</th>\n",
       "      <th>BuiltFAR</th>\n",
       "      <th>NumBldgs</th>\n",
       "      <th>NumFloors</th>\n",
       "      <th>ResArea</th>\n",
       "      <th>UnitsRes</th>\n",
       "      <th>YearBuilt</th>\n",
       "      <th>AssessSqft</th>\n",
       "      <th>com_count</th>\n",
       "    </tr>\n",
       "  </thead>\n",
       "  <tbody>\n",
       "    <tr>\n",
       "      <th>0</th>\n",
       "      <td>5010310021</td>\n",
       "      <td>8441.0</td>\n",
       "      <td>0.70</td>\n",
       "      <td>1</td>\n",
       "      <td>2.75</td>\n",
       "      <td>4710</td>\n",
       "      <td>3</td>\n",
       "      <td>1920</td>\n",
       "      <td>4.695966</td>\n",
       "      <td>0.021277</td>\n",
       "    </tr>\n",
       "    <tr>\n",
       "      <th>1</th>\n",
       "      <td>5012460037</td>\n",
       "      <td>6480.0</td>\n",
       "      <td>0.92</td>\n",
       "      <td>1</td>\n",
       "      <td>2.00</td>\n",
       "      <td>2700</td>\n",
       "      <td>2</td>\n",
       "      <td>2003</td>\n",
       "      <td>8.933333</td>\n",
       "      <td>0.042553</td>\n",
       "    </tr>\n",
       "  </tbody>\n",
       "</table>\n",
       "</div>"
      ],
      "text/plain": [
       "          BBL  AssessLand  BuiltFAR  NumBldgs  NumFloors  ResArea  UnitsRes  \\\n",
       "0  5010310021      8441.0      0.70         1       2.75     4710         3   \n",
       "1  5012460037      6480.0      0.92         1       2.00     2700         2   \n",
       "\n",
       "   YearBuilt  AssessSqft  com_count  \n",
       "0       1920    4.695966   0.021277  \n",
       "1       2003    8.933333   0.042553  "
      ]
     },
     "execution_count": 10,
     "metadata": {},
     "output_type": "execute_result"
    }
   ],
   "source": [
    "a.head(2)"
   ]
  },
  {
   "cell_type": "code",
   "execution_count": 11,
   "metadata": {
    "collapsed": false
   },
   "outputs": [
    {
     "name": "stdout",
     "output_type": "stream",
     "text": [
      "0.02\n",
      "88.55\n"
     ]
    }
   ],
   "source": [
    "print min(a['BuiltFAR'])\n",
    "print max(a['BuiltFAR'])"
   ]
  },
  {
   "cell_type": "code",
   "execution_count": 12,
   "metadata": {
    "collapsed": false
   },
   "outputs": [
    {
     "data": {
      "text/plain": [
       "(array([  8.23500000e+03,   1.39080000e+04,   8.61800000e+03,\n",
       "          7.84800000e+03,   7.91200000e+03,   3.24000000e+03,\n",
       "          6.70000000e+02,   2.47000000e+02,   1.54000000e+02,\n",
       "          1.05000000e+02,   9.30000000e+01,   9.90000000e+01,\n",
       "          8.90000000e+01,   8.80000000e+01,   6.30000000e+01,\n",
       "          4.70000000e+01,   3.50000000e+01,   1.20000000e+01,\n",
       "          1.60000000e+01,   6.00000000e+00,   7.00000000e+00,\n",
       "          7.00000000e+00,   5.00000000e+00,   7.00000000e+00,\n",
       "          8.00000000e+00,   4.00000000e+00,   2.00000000e+00,\n",
       "          5.00000000e+00,   4.00000000e+00,   0.00000000e+00,\n",
       "          0.00000000e+00,   2.00000000e+00,   2.00000000e+00,\n",
       "          3.00000000e+00,   1.00000000e+00,   1.00000000e+00,\n",
       "          0.00000000e+00,   0.00000000e+00,   0.00000000e+00,\n",
       "          1.00000000e+00,   1.00000000e+00,   0.00000000e+00,\n",
       "          0.00000000e+00,   0.00000000e+00,   0.00000000e+00,\n",
       "          0.00000000e+00,   0.00000000e+00,   0.00000000e+00,\n",
       "          0.00000000e+00,   0.00000000e+00,   0.00000000e+00,\n",
       "          0.00000000e+00,   0.00000000e+00,   0.00000000e+00,\n",
       "          0.00000000e+00,   0.00000000e+00,   0.00000000e+00,\n",
       "          0.00000000e+00,   0.00000000e+00,   0.00000000e+00,\n",
       "          0.00000000e+00,   0.00000000e+00,   0.00000000e+00,\n",
       "          0.00000000e+00,   0.00000000e+00,   0.00000000e+00,\n",
       "          0.00000000e+00,   0.00000000e+00,   0.00000000e+00,\n",
       "          0.00000000e+00,   0.00000000e+00,   0.00000000e+00,\n",
       "          0.00000000e+00,   0.00000000e+00,   0.00000000e+00,\n",
       "          0.00000000e+00,   0.00000000e+00,   0.00000000e+00,\n",
       "          0.00000000e+00,   0.00000000e+00,   0.00000000e+00,\n",
       "          0.00000000e+00,   0.00000000e+00,   0.00000000e+00,\n",
       "          0.00000000e+00,   0.00000000e+00,   0.00000000e+00,\n",
       "          0.00000000e+00,   0.00000000e+00,   0.00000000e+00,\n",
       "          0.00000000e+00,   0.00000000e+00,   0.00000000e+00,\n",
       "          0.00000000e+00,   0.00000000e+00,   0.00000000e+00,\n",
       "          0.00000000e+00,   0.00000000e+00,   0.00000000e+00,\n",
       "          1.00000000e+00]),\n",
       " array([  2.00000000e-02,   9.05300000e-01,   1.79060000e+00,\n",
       "          2.67590000e+00,   3.56120000e+00,   4.44650000e+00,\n",
       "          5.33180000e+00,   6.21710000e+00,   7.10240000e+00,\n",
       "          7.98770000e+00,   8.87300000e+00,   9.75830000e+00,\n",
       "          1.06436000e+01,   1.15289000e+01,   1.24142000e+01,\n",
       "          1.32995000e+01,   1.41848000e+01,   1.50701000e+01,\n",
       "          1.59554000e+01,   1.68407000e+01,   1.77260000e+01,\n",
       "          1.86113000e+01,   1.94966000e+01,   2.03819000e+01,\n",
       "          2.12672000e+01,   2.21525000e+01,   2.30378000e+01,\n",
       "          2.39231000e+01,   2.48084000e+01,   2.56937000e+01,\n",
       "          2.65790000e+01,   2.74643000e+01,   2.83496000e+01,\n",
       "          2.92349000e+01,   3.01202000e+01,   3.10055000e+01,\n",
       "          3.18908000e+01,   3.27761000e+01,   3.36614000e+01,\n",
       "          3.45467000e+01,   3.54320000e+01,   3.63173000e+01,\n",
       "          3.72026000e+01,   3.80879000e+01,   3.89732000e+01,\n",
       "          3.98585000e+01,   4.07438000e+01,   4.16291000e+01,\n",
       "          4.25144000e+01,   4.33997000e+01,   4.42850000e+01,\n",
       "          4.51703000e+01,   4.60556000e+01,   4.69409000e+01,\n",
       "          4.78262000e+01,   4.87115000e+01,   4.95968000e+01,\n",
       "          5.04821000e+01,   5.13674000e+01,   5.22527000e+01,\n",
       "          5.31380000e+01,   5.40233000e+01,   5.49086000e+01,\n",
       "          5.57939000e+01,   5.66792000e+01,   5.75645000e+01,\n",
       "          5.84498000e+01,   5.93351000e+01,   6.02204000e+01,\n",
       "          6.11057000e+01,   6.19910000e+01,   6.28763000e+01,\n",
       "          6.37616000e+01,   6.46469000e+01,   6.55322000e+01,\n",
       "          6.64175000e+01,   6.73028000e+01,   6.81881000e+01,\n",
       "          6.90734000e+01,   6.99587000e+01,   7.08440000e+01,\n",
       "          7.17293000e+01,   7.26146000e+01,   7.34999000e+01,\n",
       "          7.43852000e+01,   7.52705000e+01,   7.61558000e+01,\n",
       "          7.70411000e+01,   7.79264000e+01,   7.88117000e+01,\n",
       "          7.96970000e+01,   8.05823000e+01,   8.14676000e+01,\n",
       "          8.23529000e+01,   8.32382000e+01,   8.41235000e+01,\n",
       "          8.50088000e+01,   8.58941000e+01,   8.67794000e+01,\n",
       "          8.76647000e+01,   8.85500000e+01]),\n",
       " <a list of 100 Patch objects>)"
      ]
     },
     "execution_count": 12,
     "metadata": {},
     "output_type": "execute_result"
    },
    {
     "data": {
      "image/png": "[encoded data removed]",
      "text/plain": [
       "<matplotlib.figure.Figure at 0x114d9f950>"
      ]
     },
     "metadata": {},
     "output_type": "display_data"
    }
   ],
   "source": [
    "plt.figure(figsize=(10,4))\n",
    "plt.hist(a['BuiltFAR'],bins=100)"
   ]
  },
  {
   "cell_type": "code",
   "execution_count": 13,
   "metadata": {
    "collapsed": false
   },
   "outputs": [
    {
     "data": {
      "text/plain": [
       "(array([  1.00000000e+00,   0.00000000e+00,   0.00000000e+00,\n",
       "          0.00000000e+00,   0.00000000e+00,   0.00000000e+00,\n",
       "          0.00000000e+00,   0.00000000e+00,   0.00000000e+00,\n",
       "          0.00000000e+00,   0.00000000e+00,   0.00000000e+00,\n",
       "          0.00000000e+00,   0.00000000e+00,   0.00000000e+00,\n",
       "          0.00000000e+00,   1.00000000e+00,   1.00000000e+00,\n",
       "          0.00000000e+00,   4.00000000e+00,   4.00000000e+00,\n",
       "          2.00000000e+00,   4.00000000e+00,   1.40000000e+01,\n",
       "          6.00000000e+00,   5.00000000e+00,   2.00000000e+01,\n",
       "          1.70000000e+01,   3.60000000e+01,   6.10000000e+01,\n",
       "          7.90000000e+01,   1.04000000e+02,   8.50000000e+01,\n",
       "          1.66000000e+02,   1.83000000e+02,   2.96000000e+02,\n",
       "          2.62000000e+02,   3.82000000e+02,   5.02000000e+02,\n",
       "          7.26000000e+02,   7.56000000e+02,   7.73000000e+02,\n",
       "          9.50000000e+02,   1.16000000e+03,   1.10900000e+03,\n",
       "          1.32200000e+03,   1.39200000e+03,   1.45300000e+03,\n",
       "          1.68200000e+03,   1.96700000e+03,   1.90400000e+03,\n",
       "          1.94100000e+03,   2.02400000e+03,   1.77100000e+03,\n",
       "          1.82600000e+03,   2.03900000e+03,   1.39200000e+03,\n",
       "          1.84200000e+03,   1.84600000e+03,   1.94300000e+03,\n",
       "          2.18500000e+03,   3.32200000e+03,   2.79800000e+03,\n",
       "          3.11000000e+03,   2.55300000e+03,   1.30300000e+03,\n",
       "          7.15000000e+02,   3.23000000e+02,   1.76000000e+02,\n",
       "          1.47000000e+02,   1.18000000e+02,   8.40000000e+01,\n",
       "          8.10000000e+01,   8.80000000e+01,   1.03000000e+02,\n",
       "          8.80000000e+01,   8.90000000e+01,   7.70000000e+01,\n",
       "          3.90000000e+01,   2.30000000e+01,   1.00000000e+01,\n",
       "          1.40000000e+01,   1.20000000e+01,   1.20000000e+01,\n",
       "          1.00000000e+01,   1.00000000e+00,   6.00000000e+00,\n",
       "          3.00000000e+00,   1.00000000e+00,   1.00000000e+00,\n",
       "          0.00000000e+00,   0.00000000e+00,   0.00000000e+00,\n",
       "          0.00000000e+00,   0.00000000e+00,   0.00000000e+00,\n",
       "          0.00000000e+00,   0.00000000e+00,   0.00000000e+00,\n",
       "          1.00000000e+00]),\n",
       " array([-3.91202301, -3.8280671 , -3.7441112 , -3.66015529, -3.57619939,\n",
       "        -3.49224349, -3.40828758, -3.32433168, -3.24037578, -3.15641987,\n",
       "        -3.07246397, -2.98850806, -2.90455216, -2.82059626, -2.73664035,\n",
       "        -2.65268445, -2.56872855, -2.48477264, -2.40081674, -2.31686084,\n",
       "        -2.23290493, -2.14894903, -2.06499312, -1.98103722, -1.89708132,\n",
       "        -1.81312541, -1.72916951, -1.64521361, -1.5612577 , -1.4773018 ,\n",
       "        -1.39334589, -1.30938999, -1.22543409, -1.14147818, -1.05752228,\n",
       "        -0.97356638, -0.88961047, -0.80565457, -0.72169866, -0.63774276,\n",
       "        -0.55378686, -0.46983095, -0.38587505, -0.30191915, -0.21796324,\n",
       "        -0.13400734, -0.05005144,  0.03390447,  0.11786037,  0.20181628,\n",
       "         0.28577218,  0.36972808,  0.45368399,  0.53763989,  0.62159579,\n",
       "         0.7055517 ,  0.7895076 ,  0.87346351,  0.95741941,  1.04137531,\n",
       "         1.12533122,  1.20928712,  1.29324302,  1.37719893,  1.46115483,\n",
       "         1.54511073,  1.62906664,  1.71302254,  1.79697845,  1.88093435,\n",
       "         1.96489025,  2.04884616,  2.13280206,  2.21675796,  2.30071387,\n",
       "         2.38466977,  2.46862568,  2.55258158,  2.63653748,  2.72049339,\n",
       "         2.80444929,  2.88840519,  2.9723611 ,  3.056317  ,  3.14027291,\n",
       "         3.22422881,  3.30818471,  3.39214062,  3.47609652,  3.56005242,\n",
       "         3.64400833,  3.72796423,  3.81192013,  3.89587604,  3.97983194,\n",
       "         4.06378785,  4.14774375,  4.23169965,  4.31565556,  4.39961146,\n",
       "         4.48356736]),\n",
       " <a list of 100 Patch objects>)"
      ]
     },
     "execution_count": 13,
     "metadata": {},
     "output_type": "execute_result"
    },
    {
     "data": {
      "image/png": "[encoded data removed]",
      "text/plain": [
       "<matplotlib.figure.Figure at 0x103c572d0>"
      ]
     },
     "metadata": {},
     "output_type": "display_data"
    }
   ],
   "source": [
    "plt.figure(figsize=(10,4))\n",
    "plt.hist(np.log(a['BuiltFAR']),bins=100)"
   ]
  },
  {
   "cell_type": "code",
   "execution_count": 14,
   "metadata": {
    "collapsed": false
   },
   "outputs": [
    {
     "data": {
      "text/plain": [
       "array([ 1,  3,  2,  8,  9,  5, 11, 60,  4, 46, 16, 26, 21, 14,  6,  7, 10,\n",
       "       12, 13, 31, 51, 25, 22, 28, 23, 93, 78, 36, 74, 15, 24, 18, 19, 45,\n",
       "       54, 41, 32])"
      ]
     },
     "execution_count": 14,
     "metadata": {},
     "output_type": "execute_result"
    }
   ],
   "source": [
    "a['NumBldgs'].unique()"
   ]
  },
  {
   "cell_type": "code",
   "execution_count": 15,
   "metadata": {
    "collapsed": false
   },
   "outputs": [
    {
     "data": {
      "text/plain": [
       "(0, 60)"
      ]
     },
     "execution_count": 15,
     "metadata": {},
     "output_type": "execute_result"
    },
    {
     "data": {
      "image/png": "[encoded data removed]",
      "text/plain": [
       "<matplotlib.figure.Figure at 0x115866590>"
      ]
     },
     "metadata": {},
     "output_type": "display_data"
    }
   ],
   "source": [
    "plt.figure(figsize=(10,4))\n",
    "plt.hist(a['NumBldgs'],bins=1000)\n",
    "plt.xlim(0,60)"
   ]
  },
  {
   "cell_type": "code",
   "execution_count": 16,
   "metadata": {
    "collapsed": false
   },
   "outputs": [
    {
     "data": {
      "text/plain": [
       "(0, 6000)"
      ]
     },
     "execution_count": 16,
     "metadata": {},
     "output_type": "execute_result"
    },
    {
     "data": {
      "image/png": "[encoded data removed]",
      "text/plain": [
       "<matplotlib.figure.Figure at 0x1175dc690>"
      ]
     },
     "metadata": {},
     "output_type": "display_data"
    }
   ],
   "source": [
    "plt.figure(figsize=(10,4))\n",
    "plt.hist(np.log(a['NumBldgs']),bins=1000)\n",
    "plt.xlim(0,60)\n",
    "plt.ylim(0,6000)"
   ]
  },
  {
   "cell_type": "code",
   "execution_count": 17,
   "metadata": {
    "collapsed": false
   },
   "outputs": [
    {
     "name": "stdout",
     "output_type": "stream",
     "text": [
      "1.0\n",
      "78.0\n"
     ]
    },
    {
     "data": {
      "text/plain": [
       "array([  2.75,   2.  ,   3.  ,   2.5 ,   1.75,   1.67,   4.  ,   1.  ,\n",
       "         1.5 ,   6.  ,   3.5 ,   7.  ,  17.  ,   8.  ,   9.  ,   5.  ,\n",
       "        12.  ,  20.  ,  10.  ,  30.  ,  32.  ,  39.  ,  14.  ,  11.  ,\n",
       "        15.  ,  23.  ,   4.5 ,   2.67,  16.  ,  13.  ,  18.  ,  31.  ,\n",
       "        27.  ,   6.5 ,  21.  ,  19.  ,  24.  ,  26.  ,   2.25,   1.9 ,\n",
       "        25.  ,  22.  ,  37.  ,   5.5 ,  34.  ,  36.  ,  29.  ,  40.  ,\n",
       "        33.  ,  35.  ,  50.  ,  57.  ,  45.  ,  46.  ,  43.  ,  38.  ,\n",
       "        44.  ,  42.  ,  53.  ,  41.  ,  48.  ,  47.  ,  78.  ,  11.5 ,\n",
       "         4.75,  51.  ,  28.  ,  60.  ,   5.09,  52.  ,  76.  ,   3.75])"
      ]
     },
     "execution_count": 17,
     "metadata": {},
     "output_type": "execute_result"
    }
   ],
   "source": [
    "print min(a['NumFloors'])\n",
    "print max(a['NumFloors'])\n",
    "a['NumFloors'].unique()"
   ]
  },
  {
   "cell_type": "code",
   "execution_count": 18,
   "metadata": {
    "collapsed": false
   },
   "outputs": [
    {
     "data": {
      "text/plain": [
       "(0, 60)"
      ]
     },
     "execution_count": 18,
     "metadata": {},
     "output_type": "execute_result"
    },
    {
     "data": {
      "image/png": "[encoded data removed]",
      "text/plain": [
       "<matplotlib.figure.Figure at 0x119aabe90>"
      ]
     },
     "metadata": {},
     "output_type": "display_data"
    }
   ],
   "source": [
    "plt.figure(figsize=(10,4))\n",
    "plt.hist(a['NumFloors'],bins=100)\n",
    "plt.xlim(0,60)"
   ]
  },
  {
   "cell_type": "code",
   "execution_count": 19,
   "metadata": {
    "collapsed": false
   },
   "outputs": [
    {
     "data": {
      "text/plain": [
       "(0, 60)"
      ]
     },
     "execution_count": 19,
     "metadata": {},
     "output_type": "execute_result"
    },
    {
     "data": {
      "image/png": "[encoded data removed]",
      "text/plain": [
       "<matplotlib.figure.Figure at 0x1185e3710>"
      ]
     },
     "metadata": {},
     "output_type": "display_data"
    }
   ],
   "source": [
    "plt.figure(figsize=(10,4))\n",
    "plt.hist(np.log(a['NumFloors']),bins=100)\n",
    "plt.xlim(0,60)"
   ]
  },
  {
   "cell_type": "code",
   "execution_count": 20,
   "metadata": {
    "collapsed": false
   },
   "outputs": [
    {
     "name": "stdout",
     "output_type": "stream",
     "text": [
      "320\n",
      "1902493\n"
     ]
    },
    {
     "data": {
      "text/plain": [
       "array([  4710,   2700,   1976, ..., 161000, 144750,    522])"
      ]
     },
     "execution_count": 20,
     "metadata": {},
     "output_type": "execute_result"
    }
   ],
   "source": [
    "print min(a['ResArea'])\n",
    "print max(a['ResArea'])\n",
    "a['ResArea'].unique()"
   ]
  },
  {
   "cell_type": "code",
   "execution_count": 21,
   "metadata": {
    "collapsed": false
   },
   "outputs": [
    {
     "data": {
      "text/plain": [
       "(array([  3.99870000e+04,   4.38900000e+03,   2.83900000e+03,\n",
       "          1.67300000e+03,   8.14000000e+02,   4.99000000e+02,\n",
       "          2.98000000e+02,   2.31000000e+02,   1.38000000e+02,\n",
       "          8.50000000e+01,   7.60000000e+01,   7.50000000e+01,\n",
       "          4.30000000e+01,   5.50000000e+01,   4.20000000e+01,\n",
       "          2.50000000e+01,   2.20000000e+01,   3.10000000e+01,\n",
       "          2.90000000e+01,   1.70000000e+01,   1.20000000e+01,\n",
       "          2.20000000e+01,   1.60000000e+01,   1.20000000e+01,\n",
       "          1.30000000e+01,   1.40000000e+01,   8.00000000e+00,\n",
       "          7.00000000e+00,   5.00000000e+00,   5.00000000e+00,\n",
       "          4.00000000e+00,   2.00000000e+00,   7.00000000e+00,\n",
       "          6.00000000e+00,   2.00000000e+00,   3.00000000e+00,\n",
       "          1.00000000e+00,   3.00000000e+00,   0.00000000e+00,\n",
       "          3.00000000e+00,   1.00000000e+00,   4.00000000e+00,\n",
       "          5.00000000e+00,   0.00000000e+00,   0.00000000e+00,\n",
       "          1.00000000e+00,   1.00000000e+00,   0.00000000e+00,\n",
       "          0.00000000e+00,   0.00000000e+00,   2.00000000e+00,\n",
       "          0.00000000e+00,   3.00000000e+00,   0.00000000e+00,\n",
       "          0.00000000e+00,   1.00000000e+00,   0.00000000e+00,\n",
       "          0.00000000e+00,   0.00000000e+00,   0.00000000e+00,\n",
       "          0.00000000e+00,   1.00000000e+00,   0.00000000e+00,\n",
       "          1.00000000e+00,   1.00000000e+00,   0.00000000e+00,\n",
       "          0.00000000e+00,   0.00000000e+00,   0.00000000e+00,\n",
       "          0.00000000e+00,   0.00000000e+00,   0.00000000e+00,\n",
       "          0.00000000e+00,   0.00000000e+00,   0.00000000e+00,\n",
       "          1.00000000e+00,   0.00000000e+00,   0.00000000e+00,\n",
       "          2.00000000e+00,   1.00000000e+00,   1.00000000e+00,\n",
       "          0.00000000e+00,   0.00000000e+00,   0.00000000e+00,\n",
       "          0.00000000e+00,   1.00000000e+00,   0.00000000e+00,\n",
       "          0.00000000e+00,   1.00000000e+00,   1.00000000e+00,\n",
       "          1.00000000e+00,   0.00000000e+00,   0.00000000e+00,\n",
       "          0.00000000e+00,   1.00000000e+00,   0.00000000e+00,\n",
       "          1.00000000e+00,   0.00000000e+00,   0.00000000e+00,\n",
       "          1.00000000e+00]),\n",
       " array([  3.20000000e+02,   1.93417300e+04,   3.83634600e+04,\n",
       "          5.73851900e+04,   7.64069200e+04,   9.54286500e+04,\n",
       "          1.14450380e+05,   1.33472110e+05,   1.52493840e+05,\n",
       "          1.71515570e+05,   1.90537300e+05,   2.09559030e+05,\n",
       "          2.28580760e+05,   2.47602490e+05,   2.66624220e+05,\n",
       "          2.85645950e+05,   3.04667680e+05,   3.23689410e+05,\n",
       "          3.42711140e+05,   3.61732870e+05,   3.80754600e+05,\n",
       "          3.99776330e+05,   4.18798060e+05,   4.37819790e+05,\n",
       "          4.56841520e+05,   4.75863250e+05,   4.94884980e+05,\n",
       "          5.13906710e+05,   5.32928440e+05,   5.51950170e+05,\n",
       "          5.70971900e+05,   5.89993630e+05,   6.09015360e+05,\n",
       "          6.28037090e+05,   6.47058820e+05,   6.66080550e+05,\n",
       "          6.85102280e+05,   7.04124010e+05,   7.23145740e+05,\n",
       "          7.42167470e+05,   7.61189200e+05,   7.80210930e+05,\n",
       "          7.99232660e+05,   8.18254390e+05,   8.37276120e+05,\n",
       "          8.56297850e+05,   8.75319580e+05,   8.94341310e+05,\n",
       "          9.13363040e+05,   9.32384770e+05,   9.51406500e+05,\n",
       "          9.70428230e+05,   9.89449960e+05,   1.00847169e+06,\n",
       "          1.02749342e+06,   1.04651515e+06,   1.06553688e+06,\n",
       "          1.08455861e+06,   1.10358034e+06,   1.12260207e+06,\n",
       "          1.14162380e+06,   1.16064553e+06,   1.17966726e+06,\n",
       "          1.19868899e+06,   1.21771072e+06,   1.23673245e+06,\n",
       "          1.25575418e+06,   1.27477591e+06,   1.29379764e+06,\n",
       "          1.31281937e+06,   1.33184110e+06,   1.35086283e+06,\n",
       "          1.36988456e+06,   1.38890629e+06,   1.40792802e+06,\n",
       "          1.42694975e+06,   1.44597148e+06,   1.46499321e+06,\n",
       "          1.48401494e+06,   1.50303667e+06,   1.52205840e+06,\n",
       "          1.54108013e+06,   1.56010186e+06,   1.57912359e+06,\n",
       "          1.59814532e+06,   1.61716705e+06,   1.63618878e+06,\n",
       "          1.65521051e+06,   1.67423224e+06,   1.69325397e+06,\n",
       "          1.71227570e+06,   1.73129743e+06,   1.75031916e+06,\n",
       "          1.76934089e+06,   1.78836262e+06,   1.80738435e+06,\n",
       "          1.82640608e+06,   1.84542781e+06,   1.86444954e+06,\n",
       "          1.88347127e+06,   1.90249300e+06]),\n",
       " <a list of 100 Patch objects>)"
      ]
     },
     "execution_count": 21,
     "metadata": {},
     "output_type": "execute_result"
    },
    {
     "data": {
      "image/png": "[encoded data removed]",
      "text/plain": [
       "<matplotlib.figure.Figure at 0x119ccadd0>"
      ]
     },
     "metadata": {},
     "output_type": "display_data"
    }
   ],
   "source": [
    "plt.figure(figsize=(10,4))\n",
    "plt.hist(a['ResArea'],bins=100)"
   ]
  },
  {
   "cell_type": "code",
   "execution_count": 22,
   "metadata": {
    "collapsed": false
   },
   "outputs": [
    {
     "data": {
      "text/plain": [
       "(array([  1.00000000e+00,   3.00000000e+00,   3.00000000e+00,\n",
       "          5.00000000e+00,   2.00000000e+00,   9.00000000e+00,\n",
       "          1.00000000e+01,   1.60000000e+01,   2.20000000e+01,\n",
       "          3.00000000e+01,   5.30000000e+01,   1.12000000e+02,\n",
       "          1.47000000e+02,   2.75000000e+02,   3.44000000e+02,\n",
       "          5.81000000e+02,   6.93000000e+02,   7.43000000e+02,\n",
       "          1.07700000e+03,   1.26200000e+03,   1.35400000e+03,\n",
       "          2.05900000e+03,   1.84500000e+03,   1.89800000e+03,\n",
       "          1.94600000e+03,   2.32500000e+03,   2.80300000e+03,\n",
       "          2.21900000e+03,   1.55200000e+03,   1.39900000e+03,\n",
       "          1.21600000e+03,   1.39200000e+03,   1.38300000e+03,\n",
       "          1.00400000e+03,   8.37000000e+02,   8.80000000e+02,\n",
       "          7.39000000e+02,   9.15000000e+02,   9.68000000e+02,\n",
       "          9.08000000e+02,   6.67000000e+02,   6.25000000e+02,\n",
       "          6.54000000e+02,   7.84000000e+02,   6.58000000e+02,\n",
       "          7.09000000e+02,   7.28000000e+02,   6.04000000e+02,\n",
       "          7.28000000e+02,   4.89000000e+02,   5.05000000e+02,\n",
       "          4.97000000e+02,   5.53000000e+02,   5.10000000e+02,\n",
       "          6.07000000e+02,   5.18000000e+02,   7.04000000e+02,\n",
       "          5.79000000e+02,   6.51000000e+02,   5.66000000e+02,\n",
       "          5.57000000e+02,   5.16000000e+02,   4.48000000e+02,\n",
       "          3.34000000e+02,   3.22000000e+02,   2.94000000e+02,\n",
       "          2.38000000e+02,   1.88000000e+02,   1.71000000e+02,\n",
       "          1.53000000e+02,   1.47000000e+02,   1.03000000e+02,\n",
       "          8.00000000e+01,   6.70000000e+01,   7.50000000e+01,\n",
       "          6.80000000e+01,   5.20000000e+01,   6.30000000e+01,\n",
       "          2.90000000e+01,   3.90000000e+01,   4.30000000e+01,\n",
       "          2.60000000e+01,   3.80000000e+01,   2.50000000e+01,\n",
       "          2.30000000e+01,   1.50000000e+01,   9.00000000e+00,\n",
       "          1.40000000e+01,   7.00000000e+00,   8.00000000e+00,\n",
       "          6.00000000e+00,   1.00000000e+00,   5.00000000e+00,\n",
       "          1.00000000e+00,   3.00000000e+00,   0.00000000e+00,\n",
       "          1.00000000e+00,   4.00000000e+00,   4.00000000e+00,\n",
       "          3.00000000e+00]),\n",
       " array([  5.768321  ,   5.85522454,   5.94212809,   6.02903164,\n",
       "          6.11593518,   6.20283873,   6.28974228,   6.37664582,\n",
       "          6.46354937,   6.55045292,   6.63735647,   6.72426001,\n",
       "          6.81116356,   6.89806711,   6.98497065,   7.0718742 ,\n",
       "          7.15877775,   7.24568129,   7.33258484,   7.41948839,\n",
       "          7.50639193,   7.59329548,   7.68019903,   7.76710258,\n",
       "          7.85400612,   7.94090967,   8.02781322,   8.11471676,\n",
       "          8.20162031,   8.28852386,   8.3754274 ,   8.46233095,\n",
       "          8.5492345 ,   8.63613804,   8.72304159,   8.80994514,\n",
       "          8.89684869,   8.98375223,   9.07065578,   9.15755933,\n",
       "          9.24446287,   9.33136642,   9.41826997,   9.50517351,\n",
       "          9.59207706,   9.67898061,   9.76588415,   9.8527877 ,\n",
       "          9.93969125,  10.0265948 ,  10.11349834,  10.20040189,\n",
       "         10.28730544,  10.37420898,  10.46111253,  10.54801608,\n",
       "         10.63491962,  10.72182317,  10.80872672,  10.89563026,\n",
       "         10.98253381,  11.06943736,  11.15634091,  11.24324445,\n",
       "         11.330148  ,  11.41705155,  11.50395509,  11.59085864,\n",
       "         11.67776219,  11.76466573,  11.85156928,  11.93847283,\n",
       "         12.02537638,  12.11227992,  12.19918347,  12.28608702,\n",
       "         12.37299056,  12.45989411,  12.54679766,  12.6337012 ,\n",
       "         12.72060475,  12.8075083 ,  12.89441184,  12.98131539,\n",
       "         13.06821894,  13.15512249,  13.24202603,  13.32892958,\n",
       "         13.41583313,  13.50273667,  13.58964022,  13.67654377,\n",
       "         13.76344731,  13.85035086,  13.93725441,  14.02415795,\n",
       "         14.1110615 ,  14.19796505,  14.2848686 ,  14.37177214,  14.45867569]),\n",
       " <a list of 100 Patch objects>)"
      ]
     },
     "execution_count": 22,
     "metadata": {},
     "output_type": "execute_result"
    },
    {
     "data": {
      "image/png": "[encoded data removed]",
      "text/plain": [
       "<matplotlib.figure.Figure at 0x11832af50>"
      ]
     },
     "metadata": {},
     "output_type": "display_data"
    }
   ],
   "source": [
    "plt.figure(figsize=(10,4))\n",
    "plt.hist(np.log(a['ResArea']),bins=100)"
   ]
  },
  {
   "cell_type": "code",
   "execution_count": 23,
   "metadata": {
    "collapsed": false
   },
   "outputs": [
    {
     "name": "stdout",
     "output_type": "stream",
     "text": [
      "1\n",
      "3378\n",
      "[   3    2    1   16    8    4   28   93   20    5   84    6   38   18  111\n",
      "  228    7  109  102   67  122   40   72   98   12   10  177   17  150   22\n",
      "   42  147  454   33  403  251   15  148  243  143   32   52   70  322    9\n",
      "   24   31   39   19  136   80  107   30  104   11   60   64  103  165   13\n",
      "  159   14  114  125  306  178  156  385   55   43   61  380  105   96  395\n",
      "  372   83   37   46   58   48   25   36   99   91  578  472  106  495  175\n",
      "   45   23  100   94   88   85   68   82   79   49  140   76   77   29   90\n",
      "   66   73   75   50  120  262   26   59   51   71  158  320   62  154   21\n",
      "  121  101   74  113  214   27   35   53   54  116   41   86  727  241   56\n",
      "   57   63   65   87   44   81  201  617   47  108  128  407   69  181  234\n",
      "  442  145  162   78  216  126  198  270   97  210  219  132   34   89  112\n",
      "  360  204  110  168  144  127  287  192  357  153  235  202  169  138  193\n",
      "  301  152  185  207  224  232  231  237  222  149  189  225  151  492  146\n",
      "  161  139  206  446  417  118 1094  129  184  160  200  157  420  123  135\n",
      "  124  141  133   92  390  179  706  405  174  233  408   95  286  130 1327\n",
      "  213  186  180  375  190  278  208  252  176  173  134  137  256  289  284\n",
      "  285  194  321  191  142  227  211  119  310  240  536  458  248  684  388\n",
      "  215 1199  567  583  245  131  291  346  115  155  300  172  267  917  602\n",
      "  402  569  259  274  342  554  265  651  376  230  292  258  209  517  452\n",
      "  217  510  187  434  921  369  756  361  397  343  485  341  444  546  205\n",
      "  586  525 1641  318  350  263  430  333  196  325  268  195  831  381  203\n",
      "  183  384  422  163  383  695  218 1689  171  182  400  338  311  410  597\n",
      "  244  680  478  545  608  414  914  312  555  223  416  584  328  440  629\n",
      "  387  532  650  336  247  561  326  503  309  770  275  188  348 1510  507\n",
      "  273 1712  197  283  771  476  117  418  250  394  413  299  439  308  164\n",
      "  242  261  396  652  480  363  315  323  303  367  199  280  498  703  290\n",
      "  359  469  415  298  460  353  295  470  288  551  221  329  340  166  260\n",
      "  170  636  354  576  364  594 1594  709 1092  257  239  448  238  497  839\n",
      " 1118  330  936  293  464  459  654  484  331  432  690  465  255  249  411\n",
      "  229  764  389  904 1328  167  929  453  281  254  539  624  948  766  236\n",
      "  314  266  412  269  344  317  355  716  297  339  512  352  401  588 3378\n",
      " 1321 1046  424  520  327  304  631  296  509  347  490  772  423 1168 1164\n",
      "  540 1463  504  272  391  455  462  362  780  572  734  441  528  445 1547\n",
      "  324  640 1610  264]\n"
     ]
    }
   ],
   "source": [
    "print min(a['UnitsRes'])\n",
    "print max(a['UnitsRes'])\n",
    "print a['UnitsRes'].unique()"
   ]
  },
  {
   "cell_type": "code",
   "execution_count": 24,
   "metadata": {
    "collapsed": false
   },
   "outputs": [
    {
     "data": {
      "text/plain": [
       "(array([  4.24290000e+04,   5.65900000e+03,   1.78700000e+03,\n",
       "          6.32000000e+02,   2.97000000e+02,   1.78000000e+02,\n",
       "          1.28000000e+02,   8.90000000e+01,   6.20000000e+01,\n",
       "          4.70000000e+01,   4.30000000e+01,   3.00000000e+01,\n",
       "          3.20000000e+01,   2.20000000e+01,   1.80000000e+01,\n",
       "          1.20000000e+01,   1.30000000e+01,   1.00000000e+01,\n",
       "          6.00000000e+00,   4.00000000e+00,   9.00000000e+00,\n",
       "          3.00000000e+00,   6.00000000e+00,   1.00000000e+00,\n",
       "          2.00000000e+00,   0.00000000e+00,   1.00000000e+00,\n",
       "          5.00000000e+00,   1.00000000e+00,   0.00000000e+00,\n",
       "          1.00000000e+00,   0.00000000e+00,   3.00000000e+00,\n",
       "          1.00000000e+00,   2.00000000e+00,   1.00000000e+00,\n",
       "          0.00000000e+00,   0.00000000e+00,   0.00000000e+00,\n",
       "          3.00000000e+00,   0.00000000e+00,   0.00000000e+00,\n",
       "          0.00000000e+00,   1.00000000e+00,   1.00000000e+00,\n",
       "          1.00000000e+00,   0.00000000e+00,   2.00000000e+00,\n",
       "          1.00000000e+00,   1.00000000e+00,   1.00000000e+00,\n",
       "          0.00000000e+00,   0.00000000e+00,   0.00000000e+00,\n",
       "          0.00000000e+00,   0.00000000e+00,   0.00000000e+00,\n",
       "          0.00000000e+00,   0.00000000e+00,   0.00000000e+00,\n",
       "          0.00000000e+00,   0.00000000e+00,   0.00000000e+00,\n",
       "          0.00000000e+00,   0.00000000e+00,   0.00000000e+00,\n",
       "          0.00000000e+00,   0.00000000e+00,   0.00000000e+00,\n",
       "          0.00000000e+00,   0.00000000e+00,   0.00000000e+00,\n",
       "          0.00000000e+00,   0.00000000e+00,   0.00000000e+00,\n",
       "          0.00000000e+00,   0.00000000e+00,   0.00000000e+00,\n",
       "          0.00000000e+00,   0.00000000e+00,   0.00000000e+00,\n",
       "          0.00000000e+00,   0.00000000e+00,   0.00000000e+00,\n",
       "          0.00000000e+00,   0.00000000e+00,   0.00000000e+00,\n",
       "          0.00000000e+00,   0.00000000e+00,   0.00000000e+00,\n",
       "          0.00000000e+00,   0.00000000e+00,   0.00000000e+00,\n",
       "          0.00000000e+00,   0.00000000e+00,   0.00000000e+00,\n",
       "          0.00000000e+00,   0.00000000e+00,   0.00000000e+00,\n",
       "          1.00000000e+00]),\n",
       " array([  1.00000000e+00,   3.47700000e+01,   6.85400000e+01,\n",
       "          1.02310000e+02,   1.36080000e+02,   1.69850000e+02,\n",
       "          2.03620000e+02,   2.37390000e+02,   2.71160000e+02,\n",
       "          3.04930000e+02,   3.38700000e+02,   3.72470000e+02,\n",
       "          4.06240000e+02,   4.40010000e+02,   4.73780000e+02,\n",
       "          5.07550000e+02,   5.41320000e+02,   5.75090000e+02,\n",
       "          6.08860000e+02,   6.42630000e+02,   6.76400000e+02,\n",
       "          7.10170000e+02,   7.43940000e+02,   7.77710000e+02,\n",
       "          8.11480000e+02,   8.45250000e+02,   8.79020000e+02,\n",
       "          9.12790000e+02,   9.46560000e+02,   9.80330000e+02,\n",
       "          1.01410000e+03,   1.04787000e+03,   1.08164000e+03,\n",
       "          1.11541000e+03,   1.14918000e+03,   1.18295000e+03,\n",
       "          1.21672000e+03,   1.25049000e+03,   1.28426000e+03,\n",
       "          1.31803000e+03,   1.35180000e+03,   1.38557000e+03,\n",
       "          1.41934000e+03,   1.45311000e+03,   1.48688000e+03,\n",
       "          1.52065000e+03,   1.55442000e+03,   1.58819000e+03,\n",
       "          1.62196000e+03,   1.65573000e+03,   1.68950000e+03,\n",
       "          1.72327000e+03,   1.75704000e+03,   1.79081000e+03,\n",
       "          1.82458000e+03,   1.85835000e+03,   1.89212000e+03,\n",
       "          1.92589000e+03,   1.95966000e+03,   1.99343000e+03,\n",
       "          2.02720000e+03,   2.06097000e+03,   2.09474000e+03,\n",
       "          2.12851000e+03,   2.16228000e+03,   2.19605000e+03,\n",
       "          2.22982000e+03,   2.26359000e+03,   2.29736000e+03,\n",
       "          2.33113000e+03,   2.36490000e+03,   2.39867000e+03,\n",
       "          2.43244000e+03,   2.46621000e+03,   2.49998000e+03,\n",
       "          2.53375000e+03,   2.56752000e+03,   2.60129000e+03,\n",
       "          2.63506000e+03,   2.66883000e+03,   2.70260000e+03,\n",
       "          2.73637000e+03,   2.77014000e+03,   2.80391000e+03,\n",
       "          2.83768000e+03,   2.87145000e+03,   2.90522000e+03,\n",
       "          2.93899000e+03,   2.97276000e+03,   3.00653000e+03,\n",
       "          3.04030000e+03,   3.07407000e+03,   3.10784000e+03,\n",
       "          3.14161000e+03,   3.17538000e+03,   3.20915000e+03,\n",
       "          3.24292000e+03,   3.27669000e+03,   3.31046000e+03,\n",
       "          3.34423000e+03,   3.37800000e+03]),\n",
       " <a list of 100 Patch objects>)"
      ]
     },
     "execution_count": 24,
     "metadata": {},
     "output_type": "execute_result"
    },
    {
     "data": {
      "image/png": "[encoded data removed]",
      "text/plain": [
       "<matplotlib.figure.Figure at 0x11a400f10>"
      ]
     },
     "metadata": {},
     "output_type": "display_data"
    }
   ],
   "source": [
    "plt.figure(figsize=(10,4))\n",
    "plt.hist(a['UnitsRes'],bins=100)"
   ]
  },
  {
   "cell_type": "code",
   "execution_count": 25,
   "metadata": {
    "collapsed": false
   },
   "outputs": [
    {
     "data": {
      "text/plain": [
       "(array([  2.62200000e+03,   0.00000000e+00,   0.00000000e+00,\n",
       "          0.00000000e+00,   0.00000000e+00,   0.00000000e+00,\n",
       "          0.00000000e+00,   0.00000000e+00,   1.12820000e+04,\n",
       "          0.00000000e+00,   0.00000000e+00,   0.00000000e+00,\n",
       "          0.00000000e+00,   6.04500000e+03,   0.00000000e+00,\n",
       "          0.00000000e+00,   0.00000000e+00,   3.28100000e+03,\n",
       "          0.00000000e+00,   9.39000000e+02,   0.00000000e+00,\n",
       "          0.00000000e+00,   3.98600000e+03,   6.58000000e+02,\n",
       "          0.00000000e+00,   2.27600000e+03,   0.00000000e+00,\n",
       "          5.87000000e+02,   9.97000000e+02,   3.26000000e+02,\n",
       "          6.88000000e+02,   2.35000000e+02,   3.03000000e+02,\n",
       "          4.74000000e+02,   1.58700000e+03,   4.59000000e+02,\n",
       "          1.55700000e+03,   4.12000000e+02,   6.52000000e+02,\n",
       "          9.45000000e+02,   5.35000000e+02,   8.26000000e+02,\n",
       "          4.98000000e+02,   5.29000000e+02,   6.76000000e+02,\n",
       "          6.28000000e+02,   7.41000000e+02,   8.36000000e+02,\n",
       "          4.93000000e+02,   7.11000000e+02,   7.71000000e+02,\n",
       "          5.33000000e+02,   5.05000000e+02,   3.58000000e+02,\n",
       "          3.72000000e+02,   2.59000000e+02,   2.93000000e+02,\n",
       "          2.30000000e+02,   1.68000000e+02,   1.56000000e+02,\n",
       "          1.37000000e+02,   1.35000000e+02,   8.40000000e+01,\n",
       "          1.03000000e+02,   6.70000000e+01,   7.50000000e+01,\n",
       "          6.10000000e+01,   4.70000000e+01,   6.20000000e+01,\n",
       "          4.80000000e+01,   2.90000000e+01,   4.40000000e+01,\n",
       "          3.20000000e+01,   3.10000000e+01,   3.10000000e+01,\n",
       "          2.60000000e+01,   1.70000000e+01,   1.40000000e+01,\n",
       "          1.60000000e+01,   1.00000000e+01,   1.00000000e+01,\n",
       "          9.00000000e+00,   2.00000000e+00,   3.00000000e+00,\n",
       "          4.00000000e+00,   1.00000000e+00,   6.00000000e+00,\n",
       "          1.00000000e+00,   3.00000000e+00,   1.00000000e+00,\n",
       "          4.00000000e+00,   3.00000000e+00,   0.00000000e+00,\n",
       "          0.00000000e+00,   0.00000000e+00,   0.00000000e+00,\n",
       "          0.00000000e+00,   0.00000000e+00,   0.00000000e+00,\n",
       "          1.00000000e+00]),\n",
       " array([ 0.        ,  0.08125039,  0.16250078,  0.24375117,  0.32500156,\n",
       "         0.40625195,  0.48750235,  0.56875274,  0.65000313,  0.73125352,\n",
       "         0.81250391,  0.8937543 ,  0.97500469,  1.05625508,  1.13750547,\n",
       "         1.21875586,  1.30000626,  1.38125665,  1.46250704,  1.54375743,\n",
       "         1.62500782,  1.70625821,  1.7875086 ,  1.86875899,  1.95000938,\n",
       "         2.03125977,  2.11251017,  2.19376056,  2.27501095,  2.35626134,\n",
       "         2.43751173,  2.51876212,  2.60001251,  2.6812629 ,  2.76251329,\n",
       "         2.84376368,  2.92501408,  3.00626447,  3.08751486,  3.16876525,\n",
       "         3.25001564,  3.33126603,  3.41251642,  3.49376681,  3.5750172 ,\n",
       "         3.65626759,  3.73751798,  3.81876838,  3.90001877,  3.98126916,\n",
       "         4.06251955,  4.14376994,  4.22502033,  4.30627072,  4.38752111,\n",
       "         4.4687715 ,  4.55002189,  4.63127229,  4.71252268,  4.79377307,\n",
       "         4.87502346,  4.95627385,  5.03752424,  5.11877463,  5.20002502,\n",
       "         5.28127541,  5.3625258 ,  5.4437762 ,  5.52502659,  5.60627698,\n",
       "         5.68752737,  5.76877776,  5.85002815,  5.93127854,  6.01252893,\n",
       "         6.09377932,  6.17502971,  6.2562801 ,  6.3375305 ,  6.41878089,\n",
       "         6.50003128,  6.58128167,  6.66253206,  6.74378245,  6.82503284,\n",
       "         6.90628323,  6.98753362,  7.06878401,  7.15003441,  7.2312848 ,\n",
       "         7.31253519,  7.39378558,  7.47503597,  7.55628636,  7.63753675,\n",
       "         7.71878714,  7.80003753,  7.88128792,  7.96253832,  8.04378871,\n",
       "         8.1250391 ]),\n",
       " <a list of 100 Patch objects>)"
      ]
     },
     "execution_count": 25,
     "metadata": {},
     "output_type": "execute_result"
    },
    {
     "data": {
      "image/png": "[encoded data removed]",
      "text/plain": [
       "<matplotlib.figure.Figure at 0x119cd5bd0>"
      ]
     },
     "metadata": {},
     "output_type": "display_data"
    }
   ],
   "source": [
    "plt.figure(figsize=(10,4))\n",
    "plt.hist(np.log(a['UnitsRes']),bins=100)"
   ]
  },
  {
   "cell_type": "code",
   "execution_count": 26,
   "metadata": {
    "collapsed": false
   },
   "outputs": [
    {
     "name": "stdout",
     "output_type": "stream",
     "text": [
      "1800\n",
      "2014\n"
     ]
    },
    {
     "data": {
      "text/plain": [
       "array([1920, 2003, 1955, 1901, 1984, 1940, 1910, 1975, 1981, 1930, 1925,\n",
       "       1915, 1899, 1995, 1983, 1931, 1970, 1966, 1935, 1977, 1960, 1980,\n",
       "       2005, 2000, 2010, 1978, 1900, 1945, 1950, 2004, 1985, 1973, 1994,\n",
       "       1999, 1932, 1965, 1962, 1990, 2002, 1987, 1986, 1992, 2008, 2001,\n",
       "       1982, 1905, 1998, 1972, 1957, 1964, 2006, 1926, 1961, 1944, 1988,\n",
       "       1954, 2007, 1947, 2012, 1969, 1971, 1979, 1948, 1991, 1976, 1963,\n",
       "       2011, 1951, 1943, 1958, 1929, 1989, 1942, 1993, 1860, 1886, 1996,\n",
       "       1938, 1924, 1974, 1997, 1953, 1968, 1967, 1952, 1939, 2009, 1907,\n",
       "       1881, 1890, 1917, 1927, 1923, 1928, 1941, 1936, 1949, 1933, 1937,\n",
       "       1934, 1880, 2014, 2013, 1916, 1922, 1911, 1914, 1921, 1908, 1913,\n",
       "       1918, 1919, 1912, 1870, 1903, 1959, 1956, 1906, 1800, 1946, 1909,\n",
       "       1904, 1864, 1883, 1902, 1856, 1898, 1884, 1892, 1885, 1896, 1897,\n",
       "       1893, 1875, 1895, 1876, 1888, 1855, 1887, 1840, 1849, 1845, 1838,\n",
       "       1848, 1859])"
      ]
     },
     "execution_count": 26,
     "metadata": {},
     "output_type": "execute_result"
    }
   ],
   "source": [
    "print min(a['YearBuilt'])\n",
    "print max(a['YearBuilt'])\n",
    "a['YearBuilt'].unique()"
   ]
  },
  {
   "cell_type": "code",
   "execution_count": 27,
   "metadata": {
    "collapsed": false
   },
   "outputs": [
    {
     "data": {
      "text/plain": [
       "(array([  7.00000000e+00,   0.00000000e+00,   0.00000000e+00,\n",
       "          0.00000000e+00,   0.00000000e+00,   0.00000000e+00,\n",
       "          0.00000000e+00,   0.00000000e+00,   0.00000000e+00,\n",
       "          0.00000000e+00,   0.00000000e+00,   0.00000000e+00,\n",
       "          0.00000000e+00,   0.00000000e+00,   0.00000000e+00,\n",
       "          0.00000000e+00,   0.00000000e+00,   1.00000000e+00,\n",
       "          2.00000000e+00,   0.00000000e+00,   0.00000000e+00,\n",
       "          1.00000000e+00,   2.00000000e+00,   0.00000000e+00,\n",
       "          0.00000000e+00,   2.00000000e+00,   2.00000000e+00,\n",
       "          1.00000000e+00,   7.00000000e+00,   1.00000000e+00,\n",
       "          0.00000000e+00,   0.00000000e+00,   3.00000000e+00,\n",
       "          0.00000000e+00,   0.00000000e+00,   2.00000000e+00,\n",
       "          0.00000000e+00,   2.30000000e+01,   2.00000000e+00,\n",
       "          3.00000000e+00,   2.00000000e+00,   2.00000000e+00,\n",
       "          5.80000000e+01,   2.00000000e+00,   1.10000000e+01,\n",
       "          4.00000000e+00,   3.36000000e+03,   1.73800000e+03,\n",
       "          1.23000000e+02,   1.18000000e+03,   6.44000000e+02,\n",
       "          5.28700000e+03,   5.48000000e+02,   1.48500000e+03,\n",
       "          4.26000000e+02,   1.18000000e+02,   5.56400000e+03,\n",
       "          1.54500000e+03,   3.83100000e+03,   2.48100000e+03,\n",
       "          5.12800000e+03,   5.17600000e+03,   1.57000000e+02,\n",
       "          8.54000000e+02,   5.56000000e+02,   1.08100000e+03,\n",
       "          7.00000000e+01,   3.74000000e+02,   5.30000000e+01,\n",
       "          1.66000000e+02,   9.94000000e+02,   2.08000000e+02,\n",
       "          5.87000000e+02,   1.59000000e+02,   1.08200000e+03,\n",
       "          3.52000000e+02,   3.69000000e+02,   5.64000000e+02,\n",
       "          1.24000000e+02,   3.80000000e+02,   1.01000000e+02,\n",
       "          2.04000000e+02,   4.40000000e+01,   5.50000000e+01,\n",
       "          8.90000000e+01,   9.30000000e+01,   1.39000000e+02,\n",
       "          1.75000000e+02,   1.79000000e+02,   1.25000000e+02,\n",
       "          1.05000000e+02,   1.00000000e+02,   2.42000000e+02,\n",
       "          2.81000000e+02,   3.93000000e+02,   9.29000000e+02,\n",
       "          8.03000000e+02,   3.56000000e+02,   1.18000000e+02,\n",
       "          1.13000000e+02]),\n",
       " array([ 1800.  ,  1802.14,  1804.28,  1806.42,  1808.56,  1810.7 ,\n",
       "         1812.84,  1814.98,  1817.12,  1819.26,  1821.4 ,  1823.54,\n",
       "         1825.68,  1827.82,  1829.96,  1832.1 ,  1834.24,  1836.38,\n",
       "         1838.52,  1840.66,  1842.8 ,  1844.94,  1847.08,  1849.22,\n",
       "         1851.36,  1853.5 ,  1855.64,  1857.78,  1859.92,  1862.06,\n",
       "         1864.2 ,  1866.34,  1868.48,  1870.62,  1872.76,  1874.9 ,\n",
       "         1877.04,  1879.18,  1881.32,  1883.46,  1885.6 ,  1887.74,\n",
       "         1889.88,  1892.02,  1894.16,  1896.3 ,  1898.44,  1900.58,\n",
       "         1902.72,  1904.86,  1907.  ,  1909.14,  1911.28,  1913.42,\n",
       "         1915.56,  1917.7 ,  1919.84,  1921.98,  1924.12,  1926.26,\n",
       "         1928.4 ,  1930.54,  1932.68,  1934.82,  1936.96,  1939.1 ,\n",
       "         1941.24,  1943.38,  1945.52,  1947.66,  1949.8 ,  1951.94,\n",
       "         1954.08,  1956.22,  1958.36,  1960.5 ,  1962.64,  1964.78,\n",
       "         1966.92,  1969.06,  1971.2 ,  1973.34,  1975.48,  1977.62,\n",
       "         1979.76,  1981.9 ,  1984.04,  1986.18,  1988.32,  1990.46,\n",
       "         1992.6 ,  1994.74,  1996.88,  1999.02,  2001.16,  2003.3 ,\n",
       "         2005.44,  2007.58,  2009.72,  2011.86,  2014.  ]),\n",
       " <a list of 100 Patch objects>)"
      ]
     },
     "execution_count": 27,
     "metadata": {},
     "output_type": "execute_result"
    },
    {
     "data": {
      "image/png": "[encoded data removed]",
      "text/plain": [
       "<matplotlib.figure.Figure at 0x1195be090>"
      ]
     },
     "metadata": {},
     "output_type": "display_data"
    }
   ],
   "source": [
    "plt.figure(figsize=(10,4))\n",
    "plt.hist(a['YearBuilt'],bins=100)"
   ]
  },
  {
   "cell_type": "code",
   "execution_count": 28,
   "metadata": {
    "collapsed": false
   },
   "outputs": [
    {
     "name": "stdout",
     "output_type": "stream",
     "text": [
      "0.33530183727\n",
      "2091.25307951\n"
     ]
    },
    {
     "data": {
      "text/plain": [
       "array([  4.69596603,   8.93333333,  15.32034413, ...,  13.90814815,\n",
       "        13.13409703,   5.39893617])"
      ]
     },
     "execution_count": 28,
     "metadata": {},
     "output_type": "execute_result"
    }
   ],
   "source": [
    "print min(a['AssessSqft'])\n",
    "print max(a['AssessSqft'])\n",
    "a['AssessSqft'].unique()"
   ]
  },
  {
   "cell_type": "code",
   "execution_count": 29,
   "metadata": {
    "collapsed": false
   },
   "outputs": [
    {
     "data": {
      "text/plain": [
       "(array([  3.49150000e+04,   9.66200000e+03,   2.53900000e+03,\n",
       "          1.86900000e+03,   1.25500000e+03,   6.83000000e+02,\n",
       "          3.19000000e+02,   1.41000000e+02,   6.20000000e+01,\n",
       "          3.50000000e+01,   2.30000000e+01,   1.40000000e+01,\n",
       "          1.10000000e+01,   4.00000000e+00,   4.00000000e+00,\n",
       "          2.00000000e+00,   1.00000000e+00,   0.00000000e+00,\n",
       "          1.00000000e+00,   0.00000000e+00,   0.00000000e+00,\n",
       "          0.00000000e+00,   1.00000000e+00,   1.00000000e+00,\n",
       "          0.00000000e+00,   0.00000000e+00,   0.00000000e+00,\n",
       "          0.00000000e+00,   0.00000000e+00,   0.00000000e+00,\n",
       "          0.00000000e+00,   0.00000000e+00,   0.00000000e+00,\n",
       "          0.00000000e+00,   0.00000000e+00,   0.00000000e+00,\n",
       "          0.00000000e+00,   0.00000000e+00,   0.00000000e+00,\n",
       "          0.00000000e+00,   1.00000000e+00,   1.00000000e+00,\n",
       "          1.00000000e+00,   0.00000000e+00,   0.00000000e+00,\n",
       "          0.00000000e+00,   0.00000000e+00,   0.00000000e+00,\n",
       "          0.00000000e+00,   0.00000000e+00,   0.00000000e+00,\n",
       "          0.00000000e+00,   0.00000000e+00,   0.00000000e+00,\n",
       "          0.00000000e+00,   0.00000000e+00,   0.00000000e+00,\n",
       "          0.00000000e+00,   0.00000000e+00,   0.00000000e+00,\n",
       "          0.00000000e+00,   0.00000000e+00,   0.00000000e+00,\n",
       "          0.00000000e+00,   0.00000000e+00,   0.00000000e+00,\n",
       "          0.00000000e+00,   0.00000000e+00,   0.00000000e+00,\n",
       "          0.00000000e+00,   0.00000000e+00,   0.00000000e+00,\n",
       "          0.00000000e+00,   0.00000000e+00,   0.00000000e+00,\n",
       "          0.00000000e+00,   0.00000000e+00,   0.00000000e+00,\n",
       "          0.00000000e+00,   0.00000000e+00,   0.00000000e+00,\n",
       "          0.00000000e+00,   0.00000000e+00,   0.00000000e+00,\n",
       "          0.00000000e+00,   0.00000000e+00,   0.00000000e+00,\n",
       "          0.00000000e+00,   0.00000000e+00,   0.00000000e+00,\n",
       "          0.00000000e+00,   0.00000000e+00,   0.00000000e+00,\n",
       "          0.00000000e+00,   0.00000000e+00,   0.00000000e+00,\n",
       "          0.00000000e+00,   0.00000000e+00,   0.00000000e+00,\n",
       "          1.00000000e+00]),\n",
       " array([  3.35301837e-01,   2.12444796e+01,   4.21536574e+01,\n",
       "          6.30628352e+01,   8.39720129e+01,   1.04881191e+02,\n",
       "          1.25790368e+02,   1.46699546e+02,   1.67608724e+02,\n",
       "          1.88517902e+02,   2.09427080e+02,   2.30336257e+02,\n",
       "          2.51245435e+02,   2.72154613e+02,   2.93063791e+02,\n",
       "          3.13972968e+02,   3.34882146e+02,   3.55791324e+02,\n",
       "          3.76700502e+02,   3.97609680e+02,   4.18518857e+02,\n",
       "          4.39428035e+02,   4.60337213e+02,   4.81246391e+02,\n",
       "          5.02155568e+02,   5.23064746e+02,   5.43973924e+02,\n",
       "          5.64883102e+02,   5.85792280e+02,   6.06701457e+02,\n",
       "          6.27610635e+02,   6.48519813e+02,   6.69428991e+02,\n",
       "          6.90338168e+02,   7.11247346e+02,   7.32156524e+02,\n",
       "          7.53065702e+02,   7.73974880e+02,   7.94884057e+02,\n",
       "          8.15793235e+02,   8.36702413e+02,   8.57611591e+02,\n",
       "          8.78520768e+02,   8.99429946e+02,   9.20339124e+02,\n",
       "          9.41248302e+02,   9.62157480e+02,   9.83066657e+02,\n",
       "          1.00397584e+03,   1.02488501e+03,   1.04579419e+03,\n",
       "          1.06670337e+03,   1.08761255e+03,   1.10852172e+03,\n",
       "          1.12943090e+03,   1.15034008e+03,   1.17124926e+03,\n",
       "          1.19215844e+03,   1.21306761e+03,   1.23397679e+03,\n",
       "          1.25488597e+03,   1.27579515e+03,   1.29670432e+03,\n",
       "          1.31761350e+03,   1.33852268e+03,   1.35943186e+03,\n",
       "          1.38034104e+03,   1.40125021e+03,   1.42215939e+03,\n",
       "          1.44306857e+03,   1.46397775e+03,   1.48488692e+03,\n",
       "          1.50579610e+03,   1.52670528e+03,   1.54761446e+03,\n",
       "          1.56852364e+03,   1.58943281e+03,   1.61034199e+03,\n",
       "          1.63125117e+03,   1.65216035e+03,   1.67306952e+03,\n",
       "          1.69397870e+03,   1.71488788e+03,   1.73579706e+03,\n",
       "          1.75670624e+03,   1.77761541e+03,   1.79852459e+03,\n",
       "          1.81943377e+03,   1.84034295e+03,   1.86125212e+03,\n",
       "          1.88216130e+03,   1.90307048e+03,   1.92397966e+03,\n",
       "          1.94488884e+03,   1.96579801e+03,   1.98670719e+03,\n",
       "          2.00761637e+03,   2.02852555e+03,   2.04943472e+03,\n",
       "          2.07034390e+03,   2.09125308e+03]),\n",
       " <a list of 100 Patch objects>)"
      ]
     },
     "execution_count": 29,
     "metadata": {},
     "output_type": "execute_result"
    },
    {
     "data": {
      "image/png": "[encoded data removed]",
      "text/plain": [
       "<matplotlib.figure.Figure at 0x11a04ae50>"
      ]
     },
     "metadata": {},
     "output_type": "display_data"
    }
   ],
   "source": [
    "plt.figure(figsize=(10,4))\n",
    "plt.hist(a['AssessSqft'],bins=100)"
   ]
  },
  {
   "cell_type": "code",
   "execution_count": 30,
   "metadata": {
    "collapsed": false
   },
   "outputs": [
    {
     "data": {
      "text/plain": [
       "(0, 10)"
      ]
     },
     "execution_count": 30,
     "metadata": {},
     "output_type": "execute_result"
    },
    {
     "data": {
      "image/png": "[encoded data removed]",
      "text/plain": [
       "<matplotlib.figure.Figure at 0x1183a8cd0>"
      ]
     },
     "metadata": {},
     "output_type": "display_data"
    }
   ],
   "source": [
    "plt.figure(figsize=(10,4))\n",
    "plt.hist(np.log(a['AssessSqft']),bins=100)\n",
    "plt.xlim(0,10)"
   ]
  },
  {
   "cell_type": "code",
   "execution_count": 31,
   "metadata": {
    "collapsed": false
   },
   "outputs": [
    {
     "name": "stdout",
     "output_type": "stream",
     "text": [
      "0.0\n",
      "47.6595744681\n"
     ]
    },
    {
     "data": {
      "text/plain": [
       "array([  2.12765957e-02,   4.25531915e-02,   8.51063830e-02,\n",
       "         1.06382979e-02,   2.02127660e-01,   3.19148936e-02,\n",
       "         3.82978723e-01,   1.38297872e-01,   5.31914894e-02,\n",
       "         1.59574468e-01,   6.38297872e-02,   3.40425532e-01,\n",
       "         0.00000000e+00,   1.70212766e-01,   3.29787234e-01,\n",
       "         9.57446809e-02,   3.19148936e-01,   7.44680851e-02,\n",
       "         1.27659574e-01,   1.80851064e-01,   1.17021277e-01,\n",
       "         1.06382979e-01,   1.91489362e-01,   2.97872340e-01,\n",
       "         2.55319149e-01,   3.61702128e-01,   2.44680851e-01,\n",
       "         5.10638298e-01,   2.65957447e-01,   4.25531915e-01,\n",
       "         5.00000000e-01,   9.25531915e-01,   7.65957447e-01,\n",
       "         5.21276596e-01,   2.87234043e-01,   2.76595745e-01,\n",
       "         5.95744681e-01,   8.93617021e-01,   4.57446809e-01,\n",
       "         3.93617021e-01,   1.07446809e+00,   2.23404255e-01,\n",
       "         4.14893617e-01,   1.04255319e+00,   4.89361702e-01,\n",
       "         4.68085106e-01,   6.59574468e-01,   7.44680851e-01,\n",
       "         3.08510638e-01,   1.48936170e-01,   3.51063830e-01,\n",
       "         1.11702128e+00,   1.19148936e+00,   1.12765957e+00,\n",
       "         1.00000000e+00,   2.12765957e-01,   5.74468085e-01,\n",
       "         5.53191489e-01,   2.07446809e+00,   7.76595745e-01,\n",
       "         4.78723404e-01,   3.72340426e-01,   2.34042553e-01,\n",
       "         1.17021277e+00,   8.72340426e-01,   1.22340426e+00,\n",
       "         1.24468085e+00,   8.51063830e-01,   4.46808511e-01,\n",
       "         5.85106383e-01,   5.31914894e-01,   1.51063830e+00,\n",
       "         6.91489362e-01,   7.23404255e-01,   1.46808511e+00,\n",
       "         8.82978723e-01,   1.14893617e+00,   4.04255319e-01,\n",
       "         1.20000000e+01,   1.67021277e+00,   6.80851064e-01,\n",
       "         5.34042553e+00,   8.29787234e-01,   6.06382979e-01,\n",
       "         9.46808511e-01,   1.34042553e+00,   2.69148936e+01,\n",
       "         1.35106383e+00,   1.84042553e+00,   1.31914894e+00,\n",
       "         2.37234043e+00,   7.02127660e-01,   2.27659574e+00,\n",
       "         9.89361702e-01,   1.10638298e+00,   9.36170213e-01,\n",
       "         5.63829787e-01,   2.60638298e+00,   4.36170213e-01,\n",
       "         8.61702128e-01,   7.97872340e-01,   2.52127660e+00,\n",
       "         9.78723404e-01,   1.86170213e+00,   7.12765957e-01,\n",
       "         5.42553191e-01,   7.34042553e-01,   3.05319149e+00,\n",
       "         6.38297872e-01,   5.32978723e+00,   2.56382979e+00,\n",
       "         6.17021277e-01,   8.40425532e-01,   6.48936170e-01,\n",
       "         2.34042553e+00,   1.27659574e+00,   1.47872340e+00,\n",
       "         1.64893617e+00,   3.21276596e+00,   3.07446809e+00,\n",
       "         1.79787234e+00,   9.04255319e-01,   1.02127660e+00,\n",
       "         1.08510638e+00,   1.44680851e+00,   2.22340426e+00,\n",
       "         1.96808511e+00,   1.65957447e+00,   7.55319149e-01,\n",
       "         1.57446809e+00,   8.03191489e+00,   8.08510638e-01,\n",
       "         2.13829787e+00,   1.42553191e+00,   4.09574468e+00,\n",
       "         1.05319149e+00,   2.96808511e+00,   1.29787234e+00,\n",
       "         1.58510638e+00,   3.29787234e+00,   3.63829787e+00,\n",
       "         1.77659574e+00,   1.26595745e+00,   1.43617021e+00,\n",
       "         1.18085106e+00,   1.52127660e+00,   1.25531915e+00,\n",
       "         2.11702128e+00,   2.48936170e+00,   1.70212766e+00,\n",
       "         2.28723404e+00,   1.61702128e+00,   1.01063830e+00,\n",
       "         6.70212766e-01,   1.85106383e+00,   6.27659574e-01,\n",
       "         9.68085106e-01,   2.14893617e+00,   3.55319149e+00,\n",
       "         1.59574468e+00,   1.78723404e+00,   3.91489362e+00,\n",
       "         9.14893617e-01,   3.67021277e+00,   2.41489362e+00,\n",
       "         2.02127660e+00,   8.19148936e-01,   1.56382979e+00,\n",
       "         1.71276596e+00,   1.63829787e+00,   1.15957447e+00,\n",
       "         1.21276596e+00,   9.57446809e-01,   7.87234043e-01,\n",
       "         1.41489362e+00,   2.00000000e+00,   1.95744681e+00,\n",
       "         4.55319149e+00,   1.75531915e+00,   2.21276596e+00,\n",
       "         1.06382979e+00,   1.74468085e+00,   5.75531915e+00,\n",
       "         1.13829787e+00,   2.44680851e+00,   2.04255319e+00,\n",
       "         2.78723404e+00,   1.40425532e+00,   1.89361702e+00,\n",
       "         1.20212766e+00,   1.37234043e+00,   2.88297872e+00,\n",
       "         3.93617021e+00,   2.01063830e+00,   2.71276596e+00,\n",
       "         1.81914894e+00,   5.04255319e+00,   3.06382979e+00,\n",
       "         4.76595745e+01,   1.32978723e+00,   4.84042553e+00,\n",
       "         1.03191489e+00,   3.04255319e+00,   2.76595745e+00,\n",
       "         2.50000000e+00,   1.28723404e+00,   4.07446809e+00,\n",
       "         1.39361702e+00,   1.73404255e+00,   1.92553191e+00,\n",
       "         1.09574468e+00,   1.23404255e+00,   3.01063830e+00,\n",
       "         4.21276596e+00,   1.82978723e+00,   2.03191489e+00,\n",
       "         1.68085106e+00,   1.38297872e+00,   1.45744681e+00,\n",
       "         3.06382979e+01,   4.73404255e+00,   2.45744681e+00,\n",
       "         1.50851064e+01,   1.53191489e+00,   1.36170213e+00,\n",
       "         3.35106383e+00,   4.25531915e+00,   2.24468085e+00,\n",
       "         6.54255319e+00,   1.06170213e+01,   5.26595745e+00,\n",
       "         1.94361702e+01,   1.07978723e+01,   1.55319149e+00,\n",
       "         1.90425532e+00,   6.78723404e+00,   5.10638298e+00,\n",
       "         2.87234043e+00,   1.30851064e+00,   1.62765957e+00,\n",
       "         2.46808511e+00,   1.93617021e+00,   2.89361702e+00,\n",
       "         3.50000000e+00,   1.60638298e+00,   2.23404255e+00,\n",
       "         3.72340426e+00,   3.77659574e+00,   1.50000000e+00,\n",
       "         5.93617021e+00,   1.97872340e+00,   5.06382979e+00,\n",
       "         2.58510638e+00,   3.53191489e+00,   2.30851064e+00,\n",
       "         3.69148936e+00,   4.67021277e+00,   6.67021277e+00,\n",
       "         2.42553191e+00,   7.67021277e+00,   2.18085106e+00,\n",
       "         4.56382979e+00,   2.32978723e+00,   2.43617021e+00,\n",
       "         2.53191489e+00,   1.80851064e+00,   4.43617021e+00,\n",
       "         1.48936170e+00,   1.54255319e+00,   2.39361702e+00,\n",
       "         2.09574468e+00,   1.94680851e+00,   2.10638298e+00,\n",
       "         1.76595745e+00,   2.31914894e+00,   2.05319149e+00,\n",
       "         1.56489362e+01,   2.06382979e+00,   1.37553191e+01,\n",
       "         3.62765957e+00,   1.28723404e+01,   2.86170213e+00,\n",
       "         2.93617021e+00,   5.86170213e+00,   2.15957447e+00,\n",
       "         3.31914894e+00,   7.48936170e+00,   3.02127660e+00,\n",
       "         4.02127660e+00,   7.84042553e+00,   1.88297872e+00,\n",
       "         2.36170213e+00,   2.35106383e+00,   2.40425532e+00,\n",
       "         5.41489362e+00,   1.18829787e+01,   6.05319149e+00,\n",
       "         3.64893617e+00,   8.38297872e+00,   2.08510638e+00,\n",
       "         4.69148936e+00,   2.62765957e+00,   4.85106383e+00,\n",
       "         3.24468085e+00,   3.25531915e+00,   2.25531915e+00,\n",
       "         2.19148936e+00,   6.53191489e+00,   1.72340426e+00,\n",
       "         1.55106383e+01,   6.85106383e+00,   2.90425532e+00,\n",
       "         1.98936170e+00,   2.84042553e+00,   2.72340426e+00,\n",
       "         3.79787234e+00])"
      ]
     },
     "execution_count": 31,
     "metadata": {},
     "output_type": "execute_result"
    }
   ],
   "source": [
    "print min(a['com_count'])\n",
    "print max(a['com_count'])\n",
    "a['com_count'].unique()"
   ]
  },
  {
   "cell_type": "code",
   "execution_count": 32,
   "metadata": {
    "collapsed": false
   },
   "outputs": [
    {
     "data": {
      "text/plain": [
       "(-1, 2)"
      ]
     },
     "execution_count": 32,
     "metadata": {},
     "output_type": "execute_result"
    },
    {
     "data": {
      "image/png": "[encoded data removed]",
      "text/plain": [
       "<matplotlib.figure.Figure at 0x117bcbd50>"
      ]
     },
     "metadata": {},
     "output_type": "display_data"
    }
   ],
   "source": [
    "plt.figure(figsize=(10,4))\n",
    "b = a[a['com_count']>0]\n",
    "plt.hist(b['com_count'],bins=1000)\n",
    "plt.xlim(-1,2)"
   ]
  },
  {
   "cell_type": "code",
   "execution_count": 33,
   "metadata": {
    "collapsed": false
   },
   "outputs": [
    {
     "data": {
      "text/plain": [
       "(array([  1.74400000e+04,   0.00000000e+00,   0.00000000e+00,\n",
       "          0.00000000e+00,   0.00000000e+00,   0.00000000e+00,\n",
       "          0.00000000e+00,   0.00000000e+00,   7.48100000e+03,\n",
       "          0.00000000e+00,   0.00000000e+00,   0.00000000e+00,\n",
       "          0.00000000e+00,   4.50700000e+03,   0.00000000e+00,\n",
       "          0.00000000e+00,   3.14000000e+03,   0.00000000e+00,\n",
       "          0.00000000e+00,   2.30000000e+03,   0.00000000e+00,\n",
       "          1.70000000e+03,   0.00000000e+00,   1.29800000e+03,\n",
       "          1.15400000e+03,   0.00000000e+00,   9.05000000e+02,\n",
       "          8.10000000e+02,   6.67000000e+02,   5.38000000e+02,\n",
       "          5.16000000e+02,   4.47000000e+02,   7.82000000e+02,\n",
       "          3.26000000e+02,   3.09000000e+02,   5.22000000e+02,\n",
       "          4.53000000e+02,   3.91000000e+02,   3.41000000e+02,\n",
       "          2.88000000e+02,   4.03000000e+02,   3.52000000e+02,\n",
       "          2.62000000e+02,   2.54000000e+02,   2.27000000e+02,\n",
       "          2.13000000e+02,   2.42000000e+02,   1.38000000e+02,\n",
       "          1.65000000e+02,   1.40000000e+02,   1.51000000e+02,\n",
       "          1.13000000e+02,   9.10000000e+01,   9.40000000e+01,\n",
       "          9.10000000e+01,   8.30000000e+01,   5.40000000e+01,\n",
       "          6.00000000e+01,   4.70000000e+01,   5.40000000e+01,\n",
       "          3.70000000e+01,   4.40000000e+01,   2.70000000e+01,\n",
       "          2.50000000e+01,   2.20000000e+01,   9.00000000e+00,\n",
       "          1.20000000e+01,   1.00000000e+01,   6.00000000e+00,\n",
       "          1.30000000e+01,   7.00000000e+00,   3.00000000e+00,\n",
       "          8.00000000e+00,   6.00000000e+00,   2.00000000e+00,\n",
       "          3.00000000e+00,   5.00000000e+00,   1.00000000e+00,\n",
       "          3.00000000e+00,   1.00000000e+00,   0.00000000e+00,\n",
       "          0.00000000e+00,   2.00000000e+00,   2.00000000e+00,\n",
       "          1.00000000e+00,   1.00000000e+00,   3.00000000e+00,\n",
       "          0.00000000e+00,   0.00000000e+00,   1.00000000e+00,\n",
       "          0.00000000e+00,   0.00000000e+00,   0.00000000e+00,\n",
       "          1.00000000e+00,   1.00000000e+00,   0.00000000e+00,\n",
       "          0.00000000e+00,   0.00000000e+00,   0.00000000e+00,\n",
       "          1.00000000e+00]),\n",
       " array([ -4.54329478e+00,  -4.45922100e+00,  -4.37514722e+00,\n",
       "         -4.29107343e+00,  -4.20699965e+00,  -4.12292587e+00,\n",
       "         -4.03885208e+00,  -3.95477830e+00,  -3.87070452e+00,\n",
       "         -3.78663073e+00,  -3.70255695e+00,  -3.61848317e+00,\n",
       "         -3.53440938e+00,  -3.45033560e+00,  -3.36626182e+00,\n",
       "         -3.28218803e+00,  -3.19811425e+00,  -3.11404047e+00,\n",
       "         -3.02996668e+00,  -2.94589290e+00,  -2.86181912e+00,\n",
       "         -2.77774533e+00,  -2.69367155e+00,  -2.60959777e+00,\n",
       "         -2.52552398e+00,  -2.44145020e+00,  -2.35737642e+00,\n",
       "         -2.27330263e+00,  -2.18922885e+00,  -2.10515507e+00,\n",
       "         -2.02108128e+00,  -1.93700750e+00,  -1.85293372e+00,\n",
       "         -1.76885993e+00,  -1.68478615e+00,  -1.60071237e+00,\n",
       "         -1.51663859e+00,  -1.43256480e+00,  -1.34849102e+00,\n",
       "         -1.26441724e+00,  -1.18034345e+00,  -1.09626967e+00,\n",
       "         -1.01219589e+00,  -9.28122102e-01,  -8.44048319e-01,\n",
       "         -7.59974536e-01,  -6.75900753e-01,  -5.91826969e-01,\n",
       "         -5.07753186e-01,  -4.23679403e-01,  -3.39605620e-01,\n",
       "         -2.55531836e-01,  -1.71458053e-01,  -8.73842698e-02,\n",
       "         -3.31048655e-03,   8.07632967e-02,   1.64837080e-01,\n",
       "          2.48910863e-01,   3.32984646e-01,   4.17058430e-01,\n",
       "          5.01132213e-01,   5.85205996e-01,   6.69279779e-01,\n",
       "          7.53353563e-01,   8.37427346e-01,   9.21501129e-01,\n",
       "          1.00557491e+00,   1.08964870e+00,   1.17372248e+00,\n",
       "          1.25779626e+00,   1.34187005e+00,   1.42594383e+00,\n",
       "          1.51001761e+00,   1.59409140e+00,   1.67816518e+00,\n",
       "          1.76223896e+00,   1.84631275e+00,   1.93038653e+00,\n",
       "          2.01446031e+00,   2.09853409e+00,   2.18260788e+00,\n",
       "          2.26668166e+00,   2.35075544e+00,   2.43482923e+00,\n",
       "          2.51890301e+00,   2.60297679e+00,   2.68705058e+00,\n",
       "          2.77112436e+00,   2.85519814e+00,   2.93927193e+00,\n",
       "          3.02334571e+00,   3.10741949e+00,   3.19149328e+00,\n",
       "          3.27556706e+00,   3.35964084e+00,   3.44371463e+00,\n",
       "          3.52778841e+00,   3.61186219e+00,   3.69593598e+00,\n",
       "          3.78000976e+00,   3.86408354e+00]),\n",
       " <a list of 100 Patch objects>)"
      ]
     },
     "execution_count": 33,
     "metadata": {},
     "output_type": "execute_result"
    },
    {
     "data": {
      "image/png": "[encoded data removed]",
      "text/plain": [
       "<matplotlib.figure.Figure at 0x11a708a10>"
      ]
     },
     "metadata": {},
     "output_type": "display_data"
    }
   ],
   "source": [
    "plt.figure(figsize=(10,4))\n",
    "plt.hist(np.log(b['com_count']),bins=100)\n",
    "#plt.xlim(-1,2)"
   ]
  },
  {
   "cell_type": "code",
   "execution_count": 34,
   "metadata": {
    "collapsed": true
   },
   "outputs": [],
   "source": [
    "from scipy import stats\n",
    "from sklearn.model_selection import train_test_split\n",
    "from sklearn import linear_model"
   ]
  },
  {
   "cell_type": "code",
   "execution_count": 35,
   "metadata": {
    "collapsed": true
   },
   "outputs": [],
   "source": [
    "### transformed data\n",
    "transformed = pd.DataFrame()\n",
    "transformed['BBL'] = a['BBL']\n",
    "transformed['com_count'] = a['com_count']\n",
    "transformed['BuiltFAR'] = np.log(a['BuiltFAR'])\n",
    "transformed['NumBldgs'] = np.log(a['NumBldgs'])\n",
    "transformed['NumFloors'] = np.log(a['NumFloors'])\n",
    "transformed['ResArea'] = np.log(a['ResArea'])\n",
    "transformed['UnitsRes'] = np.log(a['UnitsRes'])\n",
    "transformed['YearBuilt'] = a['YearBuilt']\n",
    "transformed['AssessSqft'] = np.log(a['AssessSqft'])\n",
    "transformed['AssessLand'] = np.log(a['AssessLand'])"
   ]
  },
  {
   "cell_type": "code",
   "execution_count": 36,
   "metadata": {
    "collapsed": false
   },
   "outputs": [
    {
     "data": {
      "text/html": [
       "<div>\n",
       "<table border=\"1\" class=\"dataframe\">\n",
       "  <thead>\n",
       "    <tr style=\"text-align: right;\">\n",
       "      <th></th>\n",
       "      <th>BBL</th>\n",
       "      <th>com_count</th>\n",
       "      <th>BuiltFAR</th>\n",
       "      <th>NumBldgs</th>\n",
       "      <th>NumFloors</th>\n",
       "      <th>ResArea</th>\n",
       "      <th>UnitsRes</th>\n",
       "      <th>YearBuilt</th>\n",
       "      <th>AssessSqft</th>\n",
       "      <th>AssessLand</th>\n",
       "    </tr>\n",
       "  </thead>\n",
       "  <tbody>\n",
       "    <tr>\n",
       "      <th>0</th>\n",
       "      <td>5010310021</td>\n",
       "      <td>0.021277</td>\n",
       "      <td>-0.356675</td>\n",
       "      <td>0.0</td>\n",
       "      <td>1.011601</td>\n",
       "      <td>8.457443</td>\n",
       "      <td>1.098612</td>\n",
       "      <td>1920</td>\n",
       "      <td>1.546704</td>\n",
       "      <td>9.040856</td>\n",
       "    </tr>\n",
       "    <tr>\n",
       "      <th>1</th>\n",
       "      <td>5012460037</td>\n",
       "      <td>0.042553</td>\n",
       "      <td>-0.083382</td>\n",
       "      <td>0.0</td>\n",
       "      <td>0.693147</td>\n",
       "      <td>7.901007</td>\n",
       "      <td>0.693147</td>\n",
       "      <td>2003</td>\n",
       "      <td>2.189790</td>\n",
       "      <td>8.776476</td>\n",
       "    </tr>\n",
       "  </tbody>\n",
       "</table>\n",
       "</div>"
      ],
      "text/plain": [
       "          BBL  com_count  BuiltFAR  NumBldgs  NumFloors   ResArea  UnitsRes  \\\n",
       "0  5010310021   0.021277 -0.356675       0.0   1.011601  8.457443  1.098612   \n",
       "1  5012460037   0.042553 -0.083382       0.0   0.693147  7.901007  0.693147   \n",
       "\n",
       "   YearBuilt  AssessSqft  AssessLand  \n",
       "0       1920    1.546704    9.040856  \n",
       "1       2003    2.189790    8.776476  "
      ]
     },
     "execution_count": 36,
     "metadata": {},
     "output_type": "execute_result"
    }
   ],
   "source": [
    "transformed.head(2)"
   ]
  },
  {
   "cell_type": "code",
   "execution_count": 37,
   "metadata": {
    "collapsed": false
   },
   "outputs": [],
   "source": [
    "t  = pd.DataFrame()\n",
    "t['com_norm'] = np.log((transformed['com_count']+1)/transformed['UnitsRes'].astype(float))"
   ]
  },
  {
   "cell_type": "code",
   "execution_count": 38,
   "metadata": {
    "collapsed": false
   },
   "outputs": [
    {
     "data": {
      "text/html": [
       "<div>\n",
       "<table border=\"1\" class=\"dataframe\">\n",
       "  <thead>\n",
       "    <tr style=\"text-align: right;\">\n",
       "      <th></th>\n",
       "      <th>BBL</th>\n",
       "      <th>com_count</th>\n",
       "      <th>BuiltFAR</th>\n",
       "      <th>NumBldgs</th>\n",
       "      <th>NumFloors</th>\n",
       "      <th>ResArea</th>\n",
       "      <th>UnitsRes</th>\n",
       "      <th>YearBuilt</th>\n",
       "      <th>AssessSqft</th>\n",
       "      <th>AssessLand</th>\n",
       "    </tr>\n",
       "  </thead>\n",
       "  <tbody>\n",
       "    <tr>\n",
       "      <th>3</th>\n",
       "      <td>5000810024</td>\n",
       "      <td>0.085106</td>\n",
       "      <td>-0.616186</td>\n",
       "      <td>0.000000</td>\n",
       "      <td>0.693147</td>\n",
       "      <td>7.203406</td>\n",
       "      <td>0.0</td>\n",
       "      <td>1901</td>\n",
       "      <td>2.133039</td>\n",
       "      <td>8.289037</td>\n",
       "    </tr>\n",
       "    <tr>\n",
       "      <th>7</th>\n",
       "      <td>5028460102</td>\n",
       "      <td>0.010638</td>\n",
       "      <td>-0.941609</td>\n",
       "      <td>0.000000</td>\n",
       "      <td>0.693147</td>\n",
       "      <td>7.049255</td>\n",
       "      <td>0.0</td>\n",
       "      <td>1975</td>\n",
       "      <td>2.700090</td>\n",
       "      <td>8.766394</td>\n",
       "    </tr>\n",
       "    <tr>\n",
       "      <th>9</th>\n",
       "      <td>5030980025</td>\n",
       "      <td>0.010638</td>\n",
       "      <td>-0.328504</td>\n",
       "      <td>0.000000</td>\n",
       "      <td>0.693147</td>\n",
       "      <td>6.915723</td>\n",
       "      <td>0.0</td>\n",
       "      <td>2003</td>\n",
       "      <td>2.915516</td>\n",
       "      <td>8.500454</td>\n",
       "    </tr>\n",
       "    <tr>\n",
       "      <th>10</th>\n",
       "      <td>5016220044</td>\n",
       "      <td>0.031915</td>\n",
       "      <td>-0.210721</td>\n",
       "      <td>0.000000</td>\n",
       "      <td>0.693147</td>\n",
       "      <td>7.629490</td>\n",
       "      <td>0.0</td>\n",
       "      <td>1981</td>\n",
       "      <td>2.446942</td>\n",
       "      <td>8.797397</td>\n",
       "    </tr>\n",
       "    <tr>\n",
       "      <th>16</th>\n",
       "      <td>5000310029</td>\n",
       "      <td>0.010638</td>\n",
       "      <td>-0.287682</td>\n",
       "      <td>0.000000</td>\n",
       "      <td>0.916291</td>\n",
       "      <td>7.496652</td>\n",
       "      <td>0.0</td>\n",
       "      <td>1925</td>\n",
       "      <td>2.107080</td>\n",
       "      <td>8.525161</td>\n",
       "    </tr>\n",
       "    <tr>\n",
       "      <th>19</th>\n",
       "      <td>5005650072</td>\n",
       "      <td>0.010638</td>\n",
       "      <td>-1.272966</td>\n",
       "      <td>0.000000</td>\n",
       "      <td>0.916291</td>\n",
       "      <td>6.976348</td>\n",
       "      <td>0.0</td>\n",
       "      <td>1899</td>\n",
       "      <td>2.590127</td>\n",
       "      <td>8.993800</td>\n",
       "    </tr>\n",
       "    <tr>\n",
       "      <th>25</th>\n",
       "      <td>5001550007</td>\n",
       "      <td>0.010638</td>\n",
       "      <td>-0.755023</td>\n",
       "      <td>0.693147</td>\n",
       "      <td>0.693147</td>\n",
       "      <td>7.176255</td>\n",
       "      <td>0.0</td>\n",
       "      <td>1920</td>\n",
       "      <td>1.708639</td>\n",
       "      <td>8.493105</td>\n",
       "    </tr>\n",
       "    <tr>\n",
       "      <th>33</th>\n",
       "      <td>5002020004</td>\n",
       "      <td>0.042553</td>\n",
       "      <td>-1.427116</td>\n",
       "      <td>0.693147</td>\n",
       "      <td>0.916291</td>\n",
       "      <td>7.313220</td>\n",
       "      <td>0.0</td>\n",
       "      <td>1901</td>\n",
       "      <td>2.483294</td>\n",
       "      <td>9.150803</td>\n",
       "    </tr>\n",
       "    <tr>\n",
       "      <th>35</th>\n",
       "      <td>5005300047</td>\n",
       "      <td>0.010638</td>\n",
       "      <td>-1.139434</td>\n",
       "      <td>0.693147</td>\n",
       "      <td>0.405465</td>\n",
       "      <td>7.142037</td>\n",
       "      <td>0.0</td>\n",
       "      <td>1935</td>\n",
       "      <td>2.578189</td>\n",
       "      <td>8.470521</td>\n",
       "    </tr>\n",
       "    <tr>\n",
       "      <th>50</th>\n",
       "      <td>5016960052</td>\n",
       "      <td>0.010638</td>\n",
       "      <td>-0.994252</td>\n",
       "      <td>0.000000</td>\n",
       "      <td>0.916291</td>\n",
       "      <td>7.426549</td>\n",
       "      <td>0.0</td>\n",
       "      <td>1930</td>\n",
       "      <td>2.425803</td>\n",
       "      <td>8.877940</td>\n",
       "    </tr>\n",
       "    <tr>\n",
       "      <th>52</th>\n",
       "      <td>5010940048</td>\n",
       "      <td>0.010638</td>\n",
       "      <td>-0.733969</td>\n",
       "      <td>0.000000</td>\n",
       "      <td>0.916291</td>\n",
       "      <td>7.221105</td>\n",
       "      <td>0.0</td>\n",
       "      <td>1920</td>\n",
       "      <td>2.414503</td>\n",
       "      <td>8.856518</td>\n",
       "    </tr>\n",
       "    <tr>\n",
       "      <th>53</th>\n",
       "      <td>5023900526</td>\n",
       "      <td>0.010638</td>\n",
       "      <td>-0.634878</td>\n",
       "      <td>0.000000</td>\n",
       "      <td>0.693147</td>\n",
       "      <td>7.226936</td>\n",
       "      <td>0.0</td>\n",
       "      <td>1975</td>\n",
       "      <td>2.752262</td>\n",
       "      <td>8.837536</td>\n",
       "    </tr>\n",
       "    <tr>\n",
       "      <th>58</th>\n",
       "      <td>5007280037</td>\n",
       "      <td>0.010638</td>\n",
       "      <td>-1.514128</td>\n",
       "      <td>0.000000</td>\n",
       "      <td>0.405465</td>\n",
       "      <td>7.196687</td>\n",
       "      <td>0.0</td>\n",
       "      <td>1955</td>\n",
       "      <td>2.874009</td>\n",
       "      <td>9.681593</td>\n",
       "    </tr>\n",
       "    <tr>\n",
       "      <th>59</th>\n",
       "      <td>5010180031</td>\n",
       "      <td>0.063830</td>\n",
       "      <td>-0.478036</td>\n",
       "      <td>0.000000</td>\n",
       "      <td>0.916291</td>\n",
       "      <td>7.182352</td>\n",
       "      <td>0.0</td>\n",
       "      <td>1915</td>\n",
       "      <td>2.425556</td>\n",
       "      <td>8.455105</td>\n",
       "    </tr>\n",
       "    <tr>\n",
       "      <th>67</th>\n",
       "      <td>5011880135</td>\n",
       "      <td>0.010638</td>\n",
       "      <td>-0.094311</td>\n",
       "      <td>0.000000</td>\n",
       "      <td>0.693147</td>\n",
       "      <td>7.901007</td>\n",
       "      <td>0.0</td>\n",
       "      <td>2000</td>\n",
       "      <td>2.006721</td>\n",
       "      <td>8.732466</td>\n",
       "    </tr>\n",
       "    <tr>\n",
       "      <th>69</th>\n",
       "      <td>5012370007</td>\n",
       "      <td>0.010638</td>\n",
       "      <td>0.139762</td>\n",
       "      <td>0.000000</td>\n",
       "      <td>0.693147</td>\n",
       "      <td>7.649693</td>\n",
       "      <td>0.0</td>\n",
       "      <td>2003</td>\n",
       "      <td>2.024382</td>\n",
       "      <td>8.371011</td>\n",
       "    </tr>\n",
       "    <tr>\n",
       "      <th>76</th>\n",
       "      <td>5005970049</td>\n",
       "      <td>0.010638</td>\n",
       "      <td>-1.309333</td>\n",
       "      <td>0.000000</td>\n",
       "      <td>0.405465</td>\n",
       "      <td>7.200425</td>\n",
       "      <td>0.0</td>\n",
       "      <td>1955</td>\n",
       "      <td>2.966964</td>\n",
       "      <td>9.357035</td>\n",
       "    </tr>\n",
       "    <tr>\n",
       "      <th>77</th>\n",
       "      <td>5000350035</td>\n",
       "      <td>0.021277</td>\n",
       "      <td>-1.139434</td>\n",
       "      <td>0.000000</td>\n",
       "      <td>0.405465</td>\n",
       "      <td>7.385231</td>\n",
       "      <td>0.0</td>\n",
       "      <td>1925</td>\n",
       "      <td>2.253249</td>\n",
       "      <td>8.771060</td>\n",
       "    </tr>\n",
       "    <tr>\n",
       "      <th>78</th>\n",
       "      <td>5010940052</td>\n",
       "      <td>0.010638</td>\n",
       "      <td>-0.634878</td>\n",
       "      <td>0.693147</td>\n",
       "      <td>0.693147</td>\n",
       "      <td>6.533789</td>\n",
       "      <td>0.0</td>\n",
       "      <td>1931</td>\n",
       "      <td>2.073154</td>\n",
       "      <td>8.536604</td>\n",
       "    </tr>\n",
       "    <tr>\n",
       "      <th>80</th>\n",
       "      <td>5010180060</td>\n",
       "      <td>0.021277</td>\n",
       "      <td>-0.820981</td>\n",
       "      <td>0.000000</td>\n",
       "      <td>0.916291</td>\n",
       "      <td>7.238497</td>\n",
       "      <td>0.0</td>\n",
       "      <td>1915</td>\n",
       "      <td>2.381765</td>\n",
       "      <td>8.762490</td>\n",
       "    </tr>\n",
       "    <tr>\n",
       "      <th>87</th>\n",
       "      <td>5002150083</td>\n",
       "      <td>0.010638</td>\n",
       "      <td>-0.798508</td>\n",
       "      <td>0.693147</td>\n",
       "      <td>0.916291</td>\n",
       "      <td>7.215240</td>\n",
       "      <td>0.0</td>\n",
       "      <td>1931</td>\n",
       "      <td>1.865262</td>\n",
       "      <td>9.212338</td>\n",
       "    </tr>\n",
       "    <tr>\n",
       "      <th>89</th>\n",
       "      <td>5005600044</td>\n",
       "      <td>0.000000</td>\n",
       "      <td>0.198851</td>\n",
       "      <td>0.000000</td>\n",
       "      <td>0.693147</td>\n",
       "      <td>7.286192</td>\n",
       "      <td>0.0</td>\n",
       "      <td>2004</td>\n",
       "      <td>2.353330</td>\n",
       "      <td>8.188689</td>\n",
       "    </tr>\n",
       "    <tr>\n",
       "      <th>92</th>\n",
       "      <td>5012780059</td>\n",
       "      <td>0.010638</td>\n",
       "      <td>-0.150823</td>\n",
       "      <td>0.000000</td>\n",
       "      <td>0.916291</td>\n",
       "      <td>7.207860</td>\n",
       "      <td>0.0</td>\n",
       "      <td>1985</td>\n",
       "      <td>2.112948</td>\n",
       "      <td>8.234830</td>\n",
       "    </tr>\n",
       "    <tr>\n",
       "      <th>97</th>\n",
       "      <td>5016800120</td>\n",
       "      <td>0.010638</td>\n",
       "      <td>0.292670</td>\n",
       "      <td>0.000000</td>\n",
       "      <td>0.693147</td>\n",
       "      <td>7.939872</td>\n",
       "      <td>0.0</td>\n",
       "      <td>1999</td>\n",
       "      <td>1.998017</td>\n",
       "      <td>8.501064</td>\n",
       "    </tr>\n",
       "    <tr>\n",
       "      <th>107</th>\n",
       "      <td>5005620002</td>\n",
       "      <td>0.021277</td>\n",
       "      <td>-1.427116</td>\n",
       "      <td>0.000000</td>\n",
       "      <td>0.693147</td>\n",
       "      <td>6.648985</td>\n",
       "      <td>0.0</td>\n",
       "      <td>1920</td>\n",
       "      <td>2.610146</td>\n",
       "      <td>8.626944</td>\n",
       "    </tr>\n",
       "    <tr>\n",
       "      <th>118</th>\n",
       "      <td>5010950026</td>\n",
       "      <td>0.021277</td>\n",
       "      <td>-0.733969</td>\n",
       "      <td>0.000000</td>\n",
       "      <td>0.916291</td>\n",
       "      <td>7.244228</td>\n",
       "      <td>0.0</td>\n",
       "      <td>1920</td>\n",
       "      <td>2.359505</td>\n",
       "      <td>8.812843</td>\n",
       "    </tr>\n",
       "    <tr>\n",
       "      <th>125</th>\n",
       "      <td>5002110047</td>\n",
       "      <td>0.021277</td>\n",
       "      <td>-0.616186</td>\n",
       "      <td>0.000000</td>\n",
       "      <td>0.916291</td>\n",
       "      <td>6.951772</td>\n",
       "      <td>0.0</td>\n",
       "      <td>1925</td>\n",
       "      <td>2.531340</td>\n",
       "      <td>8.431199</td>\n",
       "    </tr>\n",
       "    <tr>\n",
       "      <th>126</th>\n",
       "      <td>5001490274</td>\n",
       "      <td>0.000000</td>\n",
       "      <td>-0.494296</td>\n",
       "      <td>0.000000</td>\n",
       "      <td>0.693147</td>\n",
       "      <td>6.984716</td>\n",
       "      <td>0.0</td>\n",
       "      <td>1990</td>\n",
       "      <td>2.720808</td>\n",
       "      <td>8.612867</td>\n",
       "    </tr>\n",
       "    <tr>\n",
       "      <th>130</th>\n",
       "      <td>5006250045</td>\n",
       "      <td>0.000000</td>\n",
       "      <td>0.198851</td>\n",
       "      <td>0.000000</td>\n",
       "      <td>0.693147</td>\n",
       "      <td>7.824046</td>\n",
       "      <td>0.0</td>\n",
       "      <td>1999</td>\n",
       "      <td>2.218334</td>\n",
       "      <td>8.548692</td>\n",
       "    </tr>\n",
       "    <tr>\n",
       "      <th>135</th>\n",
       "      <td>5019850127</td>\n",
       "      <td>0.010638</td>\n",
       "      <td>-0.186330</td>\n",
       "      <td>0.000000</td>\n",
       "      <td>0.693147</td>\n",
       "      <td>7.590852</td>\n",
       "      <td>0.0</td>\n",
       "      <td>1980</td>\n",
       "      <td>2.395137</td>\n",
       "      <td>8.785692</td>\n",
       "    </tr>\n",
       "    <tr>\n",
       "      <th>...</th>\n",
       "      <td>...</td>\n",
       "      <td>...</td>\n",
       "      <td>...</td>\n",
       "      <td>...</td>\n",
       "      <td>...</td>\n",
       "      <td>...</td>\n",
       "      <td>...</td>\n",
       "      <td>...</td>\n",
       "      <td>...</td>\n",
       "      <td>...</td>\n",
       "    </tr>\n",
       "    <tr>\n",
       "      <th>51225</th>\n",
       "      <td>3083660130</td>\n",
       "      <td>0.010638</td>\n",
       "      <td>-0.527633</td>\n",
       "      <td>0.000000</td>\n",
       "      <td>0.693147</td>\n",
       "      <td>7.813996</td>\n",
       "      <td>0.0</td>\n",
       "      <td>1996</td>\n",
       "      <td>1.563891</td>\n",
       "      <td>8.709630</td>\n",
       "    </tr>\n",
       "    <tr>\n",
       "      <th>51250</th>\n",
       "      <td>3084090029</td>\n",
       "      <td>0.159574</td>\n",
       "      <td>-0.127833</td>\n",
       "      <td>0.000000</td>\n",
       "      <td>0.693147</td>\n",
       "      <td>7.367709</td>\n",
       "      <td>0.0</td>\n",
       "      <td>1960</td>\n",
       "      <td>2.656225</td>\n",
       "      <td>9.156940</td>\n",
       "    </tr>\n",
       "    <tr>\n",
       "      <th>51253</th>\n",
       "      <td>3084070033</td>\n",
       "      <td>0.021277</td>\n",
       "      <td>-0.430783</td>\n",
       "      <td>0.693147</td>\n",
       "      <td>0.916291</td>\n",
       "      <td>7.177019</td>\n",
       "      <td>0.0</td>\n",
       "      <td>1930</td>\n",
       "      <td>2.719444</td>\n",
       "      <td>9.057189</td>\n",
       "    </tr>\n",
       "    <tr>\n",
       "      <th>51262</th>\n",
       "      <td>3084390032</td>\n",
       "      <td>0.063830</td>\n",
       "      <td>-0.415515</td>\n",
       "      <td>0.000000</td>\n",
       "      <td>0.693147</td>\n",
       "      <td>7.428333</td>\n",
       "      <td>0.0</td>\n",
       "      <td>1960</td>\n",
       "      <td>2.777479</td>\n",
       "      <td>9.417355</td>\n",
       "    </tr>\n",
       "    <tr>\n",
       "      <th>51267</th>\n",
       "      <td>3084150026</td>\n",
       "      <td>0.010638</td>\n",
       "      <td>-0.597837</td>\n",
       "      <td>0.000000</td>\n",
       "      <td>0.693147</td>\n",
       "      <td>6.995766</td>\n",
       "      <td>0.0</td>\n",
       "      <td>1925</td>\n",
       "      <td>2.857480</td>\n",
       "      <td>9.077951</td>\n",
       "    </tr>\n",
       "    <tr>\n",
       "      <th>51281</th>\n",
       "      <td>3084840055</td>\n",
       "      <td>0.010638</td>\n",
       "      <td>-0.478036</td>\n",
       "      <td>0.000000</td>\n",
       "      <td>0.000000</td>\n",
       "      <td>7.120444</td>\n",
       "      <td>0.0</td>\n",
       "      <td>1950</td>\n",
       "      <td>2.908794</td>\n",
       "      <td>9.212338</td>\n",
       "    </tr>\n",
       "    <tr>\n",
       "      <th>51283</th>\n",
       "      <td>3084930064</td>\n",
       "      <td>0.010638</td>\n",
       "      <td>0.009950</td>\n",
       "      <td>0.000000</td>\n",
       "      <td>0.693147</td>\n",
       "      <td>7.505492</td>\n",
       "      <td>0.0</td>\n",
       "      <td>1955</td>\n",
       "      <td>2.325425</td>\n",
       "      <td>8.922658</td>\n",
       "    </tr>\n",
       "    <tr>\n",
       "      <th>51288</th>\n",
       "      <td>3085010011</td>\n",
       "      <td>0.010638</td>\n",
       "      <td>0.425268</td>\n",
       "      <td>0.000000</td>\n",
       "      <td>0.693147</td>\n",
       "      <td>7.118826</td>\n",
       "      <td>0.0</td>\n",
       "      <td>1928</td>\n",
       "      <td>2.053812</td>\n",
       "      <td>9.264829</td>\n",
       "    </tr>\n",
       "    <tr>\n",
       "      <th>51291</th>\n",
       "      <td>3085190045</td>\n",
       "      <td>0.031915</td>\n",
       "      <td>-0.116534</td>\n",
       "      <td>0.000000</td>\n",
       "      <td>0.693147</td>\n",
       "      <td>7.669962</td>\n",
       "      <td>0.0</td>\n",
       "      <td>1935</td>\n",
       "      <td>2.606123</td>\n",
       "      <td>9.328923</td>\n",
       "    </tr>\n",
       "    <tr>\n",
       "      <th>51293</th>\n",
       "      <td>3085010057</td>\n",
       "      <td>0.010638</td>\n",
       "      <td>-0.616186</td>\n",
       "      <td>0.000000</td>\n",
       "      <td>0.693147</td>\n",
       "      <td>6.887553</td>\n",
       "      <td>0.0</td>\n",
       "      <td>1925</td>\n",
       "      <td>3.052267</td>\n",
       "      <td>9.233568</td>\n",
       "    </tr>\n",
       "    <tr>\n",
       "      <th>51302</th>\n",
       "      <td>3085280014</td>\n",
       "      <td>0.010638</td>\n",
       "      <td>-0.693147</td>\n",
       "      <td>0.000000</td>\n",
       "      <td>0.693147</td>\n",
       "      <td>7.145196</td>\n",
       "      <td>0.0</td>\n",
       "      <td>1945</td>\n",
       "      <td>3.056171</td>\n",
       "      <td>9.422221</td>\n",
       "    </tr>\n",
       "    <tr>\n",
       "      <th>51313</th>\n",
       "      <td>3085440015</td>\n",
       "      <td>0.010638</td>\n",
       "      <td>-0.371064</td>\n",
       "      <td>0.000000</td>\n",
       "      <td>0.693147</td>\n",
       "      <td>7.226936</td>\n",
       "      <td>0.0</td>\n",
       "      <td>1935</td>\n",
       "      <td>2.756287</td>\n",
       "      <td>9.098291</td>\n",
       "    </tr>\n",
       "    <tr>\n",
       "      <th>51316</th>\n",
       "      <td>3086270051</td>\n",
       "      <td>0.010638</td>\n",
       "      <td>-0.597837</td>\n",
       "      <td>0.000000</td>\n",
       "      <td>0.000000</td>\n",
       "      <td>7.966933</td>\n",
       "      <td>0.0</td>\n",
       "      <td>1965</td>\n",
       "      <td>2.837934</td>\n",
       "      <td>10.005141</td>\n",
       "    </tr>\n",
       "    <tr>\n",
       "      <th>51321</th>\n",
       "      <td>3086490059</td>\n",
       "      <td>0.010638</td>\n",
       "      <td>-0.634878</td>\n",
       "      <td>0.000000</td>\n",
       "      <td>0.000000</td>\n",
       "      <td>7.657283</td>\n",
       "      <td>0.0</td>\n",
       "      <td>1960</td>\n",
       "      <td>2.948807</td>\n",
       "      <td>9.808077</td>\n",
       "    </tr>\n",
       "    <tr>\n",
       "      <th>51322</th>\n",
       "      <td>3086370009</td>\n",
       "      <td>0.010638</td>\n",
       "      <td>-1.609438</td>\n",
       "      <td>0.000000</td>\n",
       "      <td>0.000000</td>\n",
       "      <td>6.879356</td>\n",
       "      <td>0.0</td>\n",
       "      <td>1950</td>\n",
       "      <td>3.607185</td>\n",
       "      <td>9.987277</td>\n",
       "    </tr>\n",
       "    <tr>\n",
       "      <th>51325</th>\n",
       "      <td>3086710030</td>\n",
       "      <td>0.010638</td>\n",
       "      <td>-0.653926</td>\n",
       "      <td>0.000000</td>\n",
       "      <td>0.000000</td>\n",
       "      <td>6.664409</td>\n",
       "      <td>0.0</td>\n",
       "      <td>1901</td>\n",
       "      <td>2.974071</td>\n",
       "      <td>8.798907</td>\n",
       "    </tr>\n",
       "    <tr>\n",
       "      <th>51329</th>\n",
       "      <td>3086520004</td>\n",
       "      <td>0.010638</td>\n",
       "      <td>-0.415515</td>\n",
       "      <td>0.000000</td>\n",
       "      <td>0.693147</td>\n",
       "      <td>7.080026</td>\n",
       "      <td>0.0</td>\n",
       "      <td>1960</td>\n",
       "      <td>2.849129</td>\n",
       "      <td>9.188095</td>\n",
       "    </tr>\n",
       "    <tr>\n",
       "      <th>51335</th>\n",
       "      <td>3086650596</td>\n",
       "      <td>0.010638</td>\n",
       "      <td>-0.186330</td>\n",
       "      <td>0.000000</td>\n",
       "      <td>0.000000</td>\n",
       "      <td>7.593878</td>\n",
       "      <td>0.0</td>\n",
       "      <td>1940</td>\n",
       "      <td>2.075342</td>\n",
       "      <td>9.241839</td>\n",
       "    </tr>\n",
       "    <tr>\n",
       "      <th>51339</th>\n",
       "      <td>3086680839</td>\n",
       "      <td>0.010638</td>\n",
       "      <td>-0.248461</td>\n",
       "      <td>0.000000</td>\n",
       "      <td>0.693147</td>\n",
       "      <td>6.363028</td>\n",
       "      <td>0.0</td>\n",
       "      <td>1939</td>\n",
       "      <td>4.399726</td>\n",
       "      <td>10.186785</td>\n",
       "    </tr>\n",
       "    <tr>\n",
       "      <th>51359</th>\n",
       "      <td>3086640393</td>\n",
       "      <td>0.031915</td>\n",
       "      <td>-0.776529</td>\n",
       "      <td>0.000000</td>\n",
       "      <td>0.000000</td>\n",
       "      <td>6.621406</td>\n",
       "      <td>0.0</td>\n",
       "      <td>1940</td>\n",
       "      <td>3.006328</td>\n",
       "      <td>8.977146</td>\n",
       "    </tr>\n",
       "    <tr>\n",
       "      <th>51371</th>\n",
       "      <td>3087010066</td>\n",
       "      <td>0.265957</td>\n",
       "      <td>0.039221</td>\n",
       "      <td>0.000000</td>\n",
       "      <td>0.000000</td>\n",
       "      <td>7.539027</td>\n",
       "      <td>0.0</td>\n",
       "      <td>1930</td>\n",
       "      <td>2.227208</td>\n",
       "      <td>8.706821</td>\n",
       "    </tr>\n",
       "    <tr>\n",
       "      <th>51395</th>\n",
       "      <td>3086640476</td>\n",
       "      <td>0.031915</td>\n",
       "      <td>-0.755023</td>\n",
       "      <td>0.000000</td>\n",
       "      <td>0.000000</td>\n",
       "      <td>6.747587</td>\n",
       "      <td>0.0</td>\n",
       "      <td>1940</td>\n",
       "      <td>2.854188</td>\n",
       "      <td>8.854522</td>\n",
       "    </tr>\n",
       "    <tr>\n",
       "      <th>51443</th>\n",
       "      <td>3087070017</td>\n",
       "      <td>0.010638</td>\n",
       "      <td>-0.235722</td>\n",
       "      <td>0.000000</td>\n",
       "      <td>0.000000</td>\n",
       "      <td>7.545918</td>\n",
       "      <td>0.0</td>\n",
       "      <td>1930</td>\n",
       "      <td>2.203894</td>\n",
       "      <td>8.815667</td>\n",
       "    </tr>\n",
       "    <tr>\n",
       "      <th>51466</th>\n",
       "      <td>3087360015</td>\n",
       "      <td>0.010638</td>\n",
       "      <td>-0.891598</td>\n",
       "      <td>0.693147</td>\n",
       "      <td>0.916291</td>\n",
       "      <td>7.812783</td>\n",
       "      <td>0.0</td>\n",
       "      <td>1930</td>\n",
       "      <td>3.142051</td>\n",
       "      <td>10.207769</td>\n",
       "    </tr>\n",
       "    <tr>\n",
       "      <th>51511</th>\n",
       "      <td>3087920074</td>\n",
       "      <td>0.000000</td>\n",
       "      <td>-0.478036</td>\n",
       "      <td>0.000000</td>\n",
       "      <td>0.405465</td>\n",
       "      <td>7.659171</td>\n",
       "      <td>0.0</td>\n",
       "      <td>1920</td>\n",
       "      <td>2.313236</td>\n",
       "      <td>9.119540</td>\n",
       "    </tr>\n",
       "    <tr>\n",
       "      <th>51535</th>\n",
       "      <td>3087970094</td>\n",
       "      <td>0.010638</td>\n",
       "      <td>-0.040822</td>\n",
       "      <td>0.000000</td>\n",
       "      <td>0.000000</td>\n",
       "      <td>7.203406</td>\n",
       "      <td>0.0</td>\n",
       "      <td>1920</td>\n",
       "      <td>2.638738</td>\n",
       "      <td>8.921725</td>\n",
       "    </tr>\n",
       "    <tr>\n",
       "      <th>51540</th>\n",
       "      <td>3089000960</td>\n",
       "      <td>0.010638</td>\n",
       "      <td>-0.371064</td>\n",
       "      <td>0.000000</td>\n",
       "      <td>0.693147</td>\n",
       "      <td>7.122867</td>\n",
       "      <td>0.0</td>\n",
       "      <td>1925</td>\n",
       "      <td>2.672312</td>\n",
       "      <td>8.923858</td>\n",
       "    </tr>\n",
       "    <tr>\n",
       "      <th>51542</th>\n",
       "      <td>3088762710</td>\n",
       "      <td>0.010638</td>\n",
       "      <td>-1.171183</td>\n",
       "      <td>0.000000</td>\n",
       "      <td>0.000000</td>\n",
       "      <td>6.257668</td>\n",
       "      <td>0.0</td>\n",
       "      <td>1925</td>\n",
       "      <td>3.057033</td>\n",
       "      <td>8.748305</td>\n",
       "    </tr>\n",
       "    <tr>\n",
       "      <th>51543</th>\n",
       "      <td>3088762656</td>\n",
       "      <td>0.000000</td>\n",
       "      <td>-0.287682</td>\n",
       "      <td>0.000000</td>\n",
       "      <td>0.693147</td>\n",
       "      <td>7.207860</td>\n",
       "      <td>0.0</td>\n",
       "      <td>2005</td>\n",
       "      <td>2.632475</td>\n",
       "      <td>9.144307</td>\n",
       "    </tr>\n",
       "    <tr>\n",
       "      <th>51545</th>\n",
       "      <td>3089250164</td>\n",
       "      <td>0.010638</td>\n",
       "      <td>0.582216</td>\n",
       "      <td>0.000000</td>\n",
       "      <td>0.693147</td>\n",
       "      <td>7.028201</td>\n",
       "      <td>0.0</td>\n",
       "      <td>1920</td>\n",
       "      <td>1.686202</td>\n",
       "      <td>8.803875</td>\n",
       "    </tr>\n",
       "  </tbody>\n",
       "</table>\n",
       "<p>2622 rows × 10 columns</p>\n",
       "</div>"
      ],
      "text/plain": [
       "              BBL  com_count  BuiltFAR  NumBldgs  NumFloors   ResArea  \\\n",
       "3      5000810024   0.085106 -0.616186  0.000000   0.693147  7.203406   \n",
       "7      5028460102   0.010638 -0.941609  0.000000   0.693147  7.049255   \n",
       "9      5030980025   0.010638 -0.328504  0.000000   0.693147  6.915723   \n",
       "10     5016220044   0.031915 -0.210721  0.000000   0.693147  7.629490   \n",
       "16     5000310029   0.010638 -0.287682  0.000000   0.916291  7.496652   \n",
       "19     5005650072   0.010638 -1.272966  0.000000   0.916291  6.976348   \n",
       "25     5001550007   0.010638 -0.755023  0.693147   0.693147  7.176255   \n",
       "33     5002020004   0.042553 -1.427116  0.693147   0.916291  7.313220   \n",
       "35     5005300047   0.010638 -1.139434  0.693147   0.405465  7.142037   \n",
       "50     5016960052   0.010638 -0.994252  0.000000   0.916291  7.426549   \n",
       "52     5010940048   0.010638 -0.733969  0.000000   0.916291  7.221105   \n",
       "53     5023900526   0.010638 -0.634878  0.000000   0.693147  7.226936   \n",
       "58     5007280037   0.010638 -1.514128  0.000000   0.405465  7.196687   \n",
       "59     5010180031   0.063830 -0.478036  0.000000   0.916291  7.182352   \n",
       "67     5011880135   0.010638 -0.094311  0.000000   0.693147  7.901007   \n",
       "69     5012370007   0.010638  0.139762  0.000000   0.693147  7.649693   \n",
       "76     5005970049   0.010638 -1.309333  0.000000   0.405465  7.200425   \n",
       "77     5000350035   0.021277 -1.139434  0.000000   0.405465  7.385231   \n",
       "78     5010940052   0.010638 -0.634878  0.693147   0.693147  6.533789   \n",
       "80     5010180060   0.021277 -0.820981  0.000000   0.916291  7.238497   \n",
       "87     5002150083   0.010638 -0.798508  0.693147   0.916291  7.215240   \n",
       "89     5005600044   0.000000  0.198851  0.000000   0.693147  7.286192   \n",
       "92     5012780059   0.010638 -0.150823  0.000000   0.916291  7.207860   \n",
       "97     5016800120   0.010638  0.292670  0.000000   0.693147  7.939872   \n",
       "107    5005620002   0.021277 -1.427116  0.000000   0.693147  6.648985   \n",
       "118    5010950026   0.021277 -0.733969  0.000000   0.916291  7.244228   \n",
       "125    5002110047   0.021277 -0.616186  0.000000   0.916291  6.951772   \n",
       "126    5001490274   0.000000 -0.494296  0.000000   0.693147  6.984716   \n",
       "130    5006250045   0.000000  0.198851  0.000000   0.693147  7.824046   \n",
       "135    5019850127   0.010638 -0.186330  0.000000   0.693147  7.590852   \n",
       "...           ...        ...       ...       ...        ...       ...   \n",
       "51225  3083660130   0.010638 -0.527633  0.000000   0.693147  7.813996   \n",
       "51250  3084090029   0.159574 -0.127833  0.000000   0.693147  7.367709   \n",
       "51253  3084070033   0.021277 -0.430783  0.693147   0.916291  7.177019   \n",
       "51262  3084390032   0.063830 -0.415515  0.000000   0.693147  7.428333   \n",
       "51267  3084150026   0.010638 -0.597837  0.000000   0.693147  6.995766   \n",
       "51281  3084840055   0.010638 -0.478036  0.000000   0.000000  7.120444   \n",
       "51283  3084930064   0.010638  0.009950  0.000000   0.693147  7.505492   \n",
       "51288  3085010011   0.010638  0.425268  0.000000   0.693147  7.118826   \n",
       "51291  3085190045   0.031915 -0.116534  0.000000   0.693147  7.669962   \n",
       "51293  3085010057   0.010638 -0.616186  0.000000   0.693147  6.887553   \n",
       "51302  3085280014   0.010638 -0.693147  0.000000   0.693147  7.145196   \n",
       "51313  3085440015   0.010638 -0.371064  0.000000   0.693147  7.226936   \n",
       "51316  3086270051   0.010638 -0.597837  0.000000   0.000000  7.966933   \n",
       "51321  3086490059   0.010638 -0.634878  0.000000   0.000000  7.657283   \n",
       "51322  3086370009   0.010638 -1.609438  0.000000   0.000000  6.879356   \n",
       "51325  3086710030   0.010638 -0.653926  0.000000   0.000000  6.664409   \n",
       "51329  3086520004   0.010638 -0.415515  0.000000   0.693147  7.080026   \n",
       "51335  3086650596   0.010638 -0.186330  0.000000   0.000000  7.593878   \n",
       "51339  3086680839   0.010638 -0.248461  0.000000   0.693147  6.363028   \n",
       "51359  3086640393   0.031915 -0.776529  0.000000   0.000000  6.621406   \n",
       "51371  3087010066   0.265957  0.039221  0.000000   0.000000  7.539027   \n",
       "51395  3086640476   0.031915 -0.755023  0.000000   0.000000  6.747587   \n",
       "51443  3087070017   0.010638 -0.235722  0.000000   0.000000  7.545918   \n",
       "51466  3087360015   0.010638 -0.891598  0.693147   0.916291  7.812783   \n",
       "51511  3087920074   0.000000 -0.478036  0.000000   0.405465  7.659171   \n",
       "51535  3087970094   0.010638 -0.040822  0.000000   0.000000  7.203406   \n",
       "51540  3089000960   0.010638 -0.371064  0.000000   0.693147  7.122867   \n",
       "51542  3088762710   0.010638 -1.171183  0.000000   0.000000  6.257668   \n",
       "51543  3088762656   0.000000 -0.287682  0.000000   0.693147  7.207860   \n",
       "51545  3089250164   0.010638  0.582216  0.000000   0.693147  7.028201   \n",
       "\n",
       "       UnitsRes  YearBuilt  AssessSqft  AssessLand  \n",
       "3           0.0       1901    2.133039    8.289037  \n",
       "7           0.0       1975    2.700090    8.766394  \n",
       "9           0.0       2003    2.915516    8.500454  \n",
       "10          0.0       1981    2.446942    8.797397  \n",
       "16          0.0       1925    2.107080    8.525161  \n",
       "19          0.0       1899    2.590127    8.993800  \n",
       "25          0.0       1920    1.708639    8.493105  \n",
       "33          0.0       1901    2.483294    9.150803  \n",
       "35          0.0       1935    2.578189    8.470521  \n",
       "50          0.0       1930    2.425803    8.877940  \n",
       "52          0.0       1920    2.414503    8.856518  \n",
       "53          0.0       1975    2.752262    8.837536  \n",
       "58          0.0       1955    2.874009    9.681593  \n",
       "59          0.0       1915    2.425556    8.455105  \n",
       "67          0.0       2000    2.006721    8.732466  \n",
       "69          0.0       2003    2.024382    8.371011  \n",
       "76          0.0       1955    2.966964    9.357035  \n",
       "77          0.0       1925    2.253249    8.771060  \n",
       "78          0.0       1931    2.073154    8.536604  \n",
       "80          0.0       1915    2.381765    8.762490  \n",
       "87          0.0       1931    1.865262    9.212338  \n",
       "89          0.0       2004    2.353330    8.188689  \n",
       "92          0.0       1985    2.112948    8.234830  \n",
       "97          0.0       1999    1.998017    8.501064  \n",
       "107         0.0       1920    2.610146    8.626944  \n",
       "118         0.0       1920    2.359505    8.812843  \n",
       "125         0.0       1925    2.531340    8.431199  \n",
       "126         0.0       1990    2.720808    8.612867  \n",
       "130         0.0       1999    2.218334    8.548692  \n",
       "135         0.0       1980    2.395137    8.785692  \n",
       "...         ...        ...         ...         ...  \n",
       "51225       0.0       1996    1.563891    8.709630  \n",
       "51250       0.0       1960    2.656225    9.156940  \n",
       "51253       0.0       1930    2.719444    9.057189  \n",
       "51262       0.0       1960    2.777479    9.417355  \n",
       "51267       0.0       1925    2.857480    9.077951  \n",
       "51281       0.0       1950    2.908794    9.212338  \n",
       "51283       0.0       1955    2.325425    8.922658  \n",
       "51288       0.0       1928    2.053812    9.264829  \n",
       "51291       0.0       1935    2.606123    9.328923  \n",
       "51293       0.0       1925    3.052267    9.233568  \n",
       "51302       0.0       1945    3.056171    9.422221  \n",
       "51313       0.0       1935    2.756287    9.098291  \n",
       "51316       0.0       1965    2.837934   10.005141  \n",
       "51321       0.0       1960    2.948807    9.808077  \n",
       "51322       0.0       1950    3.607185    9.987277  \n",
       "51325       0.0       1901    2.974071    8.798907  \n",
       "51329       0.0       1960    2.849129    9.188095  \n",
       "51335       0.0       1940    2.075342    9.241839  \n",
       "51339       0.0       1939    4.399726   10.186785  \n",
       "51359       0.0       1940    3.006328    8.977146  \n",
       "51371       0.0       1930    2.227208    8.706821  \n",
       "51395       0.0       1940    2.854188    8.854522  \n",
       "51443       0.0       1930    2.203894    8.815667  \n",
       "51466       0.0       1930    3.142051   10.207769  \n",
       "51511       0.0       1920    2.313236    9.119540  \n",
       "51535       0.0       1920    2.638738    8.921725  \n",
       "51540       0.0       1925    2.672312    8.923858  \n",
       "51542       0.0       1925    3.057033    8.748305  \n",
       "51543       0.0       2005    2.632475    9.144307  \n",
       "51545       0.0       1920    1.686202    8.803875  \n",
       "\n",
       "[2622 rows x 10 columns]"
      ]
     },
     "execution_count": 38,
     "metadata": {},
     "output_type": "execute_result"
    }
   ],
   "source": [
    "transformed[transformed['UnitsRes']==0]"
   ]
  },
  {
   "cell_type": "code",
   "execution_count": 39,
   "metadata": {
    "collapsed": true
   },
   "outputs": [],
   "source": [
    "t['com_norm'] = t['com_norm'].replace([np.inf, -np.inf], np.nan)"
   ]
  },
  {
   "cell_type": "code",
   "execution_count": 40,
   "metadata": {
    "collapsed": false
   },
   "outputs": [],
   "source": [
    "t = t.dropna()"
   ]
  },
  {
   "cell_type": "code",
   "execution_count": 41,
   "metadata": {
    "collapsed": false
   },
   "outputs": [
    {
     "data": {
      "text/plain": [
       "(array([  6.00000000e+00,   8.00000000e+00,   7.00000000e+00,\n",
       "          2.80000000e+01,   5.00000000e+01,   7.10000000e+01,\n",
       "          9.10000000e+01,   1.28000000e+02,   1.58000000e+02,\n",
       "          1.96000000e+02,   2.78000000e+02,   4.01000000e+02,\n",
       "          5.02000000e+02,   7.15000000e+02,   8.74000000e+02,\n",
       "          1.02500000e+03,   1.11800000e+03,   1.12900000e+03,\n",
       "          1.23000000e+03,   1.36800000e+03,   1.67500000e+03,\n",
       "          1.43200000e+03,   1.63500000e+03,   1.08500000e+03,\n",
       "          9.53000000e+02,   8.00000000e+02,   1.03200000e+03,\n",
       "          8.42000000e+02,   1.48700000e+03,   8.71000000e+02,\n",
       "          8.95000000e+02,   4.59000000e+02,   3.18000000e+03,\n",
       "          5.63000000e+02,   1.00300000e+03,   3.17000000e+02,\n",
       "          1.88000000e+02,   1.61700000e+03,   1.43700000e+03,\n",
       "          2.59000000e+02,   1.46000000e+02,   9.40000000e+01,\n",
       "          3.37000000e+02,   5.06000000e+03,   4.07000000e+02,\n",
       "          2.05000000e+02,   7.70000000e+01,   5.20000000e+01,\n",
       "          2.40000000e+01,   2.50000000e+01,   1.60000000e+01,\n",
       "          1.20000000e+01,   1.10000000e+01,   8.98700000e+03,\n",
       "          1.67900000e+03,   3.04000000e+02,   1.53000000e+02,\n",
       "          7.70000000e+01,   3.90000000e+01,   3.50000000e+01,\n",
       "          1.80000000e+01,   8.00000000e+00,   7.00000000e+00,\n",
       "          7.00000000e+00,   3.00000000e+00,   4.00000000e+00,\n",
       "          3.00000000e+00,   3.00000000e+00,   3.00000000e+00,\n",
       "          1.00000000e+00,   1.00000000e+00,   0.00000000e+00,\n",
       "          0.00000000e+00,   2.00000000e+00,   2.00000000e+00,\n",
       "          1.00000000e+00,   1.00000000e+00,   1.00000000e+00,\n",
       "          0.00000000e+00,   1.00000000e+00,   0.00000000e+00,\n",
       "          0.00000000e+00,   0.00000000e+00,   0.00000000e+00,\n",
       "          0.00000000e+00,   1.00000000e+00,   0.00000000e+00,\n",
       "          0.00000000e+00,   0.00000000e+00,   1.00000000e+00,\n",
       "          1.00000000e+00,   1.00000000e+00,   0.00000000e+00,\n",
       "          0.00000000e+00,   0.00000000e+00,   0.00000000e+00,\n",
       "          0.00000000e+00,   0.00000000e+00,   0.00000000e+00,\n",
       "          1.00000000e+00]),\n",
       " array([-1.99519835, -1.95075989, -1.90632143, -1.86188298, -1.81744452,\n",
       "        -1.77300606, -1.7285676 , -1.68412915, -1.63969069, -1.59525223,\n",
       "        -1.55081377, -1.50637532, -1.46193686, -1.4174984 , -1.37305994,\n",
       "        -1.32862149, -1.28418303, -1.23974457, -1.19530611, -1.15086766,\n",
       "        -1.1064292 , -1.06199074, -1.01755228, -0.97311383, -0.92867537,\n",
       "        -0.88423691, -0.83979845, -0.79536   , -0.75092154, -0.70648308,\n",
       "        -0.66204462, -0.61760617, -0.57316771, -0.52872925, -0.48429079,\n",
       "        -0.43985234, -0.39541388, -0.35097542, -0.30653696, -0.26209851,\n",
       "        -0.21766005, -0.17322159, -0.12878313, -0.08434468, -0.03990622,\n",
       "         0.00453224,  0.0489707 ,  0.09340915,  0.13784761,  0.18228607,\n",
       "         0.22672453,  0.27116298,  0.31560144,  0.3600399 ,  0.40447836,\n",
       "         0.44891681,  0.49335527,  0.53779373,  0.58223219,  0.62667064,\n",
       "         0.6711091 ,  0.71554756,  0.75998602,  0.80442447,  0.84886293,\n",
       "         0.89330139,  0.93773985,  0.9821783 ,  1.02661676,  1.07105522,\n",
       "         1.11549368,  1.15993213,  1.20437059,  1.24880905,  1.29324751,\n",
       "         1.33768596,  1.38212442,  1.42656288,  1.47100134,  1.51543979,\n",
       "         1.55987825,  1.60431671,  1.64875517,  1.69319362,  1.73763208,\n",
       "         1.78207054,  1.826509  ,  1.87094745,  1.91538591,  1.95982437,\n",
       "         2.00426283,  2.04870128,  2.09313974,  2.1375782 ,  2.18201666,\n",
       "         2.22645511,  2.27089357,  2.31533203,  2.35977049,  2.40420894,\n",
       "         2.4486474 ]),\n",
       " <a list of 100 Patch objects>)"
      ]
     },
     "execution_count": 41,
     "metadata": {},
     "output_type": "execute_result"
    },
    {
     "data": {
      "image/png": "[encoded data removed]",
      "text/plain": [
       "<matplotlib.figure.Figure at 0x117896610>"
      ]
     },
     "metadata": {},
     "output_type": "display_data"
    }
   ],
   "source": [
    "plt.hist(t['com_norm'],bins=100)"
   ]
  },
  {
   "cell_type": "code",
   "execution_count": 77,
   "metadata": {
    "collapsed": true
   },
   "outputs": [],
   "source": [
    "x = transformed.iloc[:,2:]\n",
    "y = transformed.iloc[:,1]"
   ]
  },
  {
   "cell_type": "code",
   "execution_count": 78,
   "metadata": {
    "collapsed": false
   },
   "outputs": [
    {
     "data": {
      "text/html": [
       "<div>\n",
       "<table border=\"1\" class=\"dataframe\">\n",
       "  <thead>\n",
       "    <tr style=\"text-align: right;\">\n",
       "      <th></th>\n",
       "      <th>BuiltFAR</th>\n",
       "      <th>NumBldgs</th>\n",
       "      <th>NumFloors</th>\n",
       "      <th>ResArea</th>\n",
       "      <th>UnitsRes</th>\n",
       "      <th>YearBuilt</th>\n",
       "      <th>AssessSqft</th>\n",
       "      <th>AssessLand</th>\n",
       "    </tr>\n",
       "  </thead>\n",
       "  <tbody>\n",
       "    <tr>\n",
       "      <th>0</th>\n",
       "      <td>-0.356675</td>\n",
       "      <td>0.0</td>\n",
       "      <td>1.011601</td>\n",
       "      <td>8.457443</td>\n",
       "      <td>1.098612</td>\n",
       "      <td>1920</td>\n",
       "      <td>1.546704</td>\n",
       "      <td>9.040856</td>\n",
       "    </tr>\n",
       "    <tr>\n",
       "      <th>1</th>\n",
       "      <td>-0.083382</td>\n",
       "      <td>0.0</td>\n",
       "      <td>0.693147</td>\n",
       "      <td>7.901007</td>\n",
       "      <td>0.693147</td>\n",
       "      <td>2003</td>\n",
       "      <td>2.189790</td>\n",
       "      <td>8.776476</td>\n",
       "    </tr>\n",
       "  </tbody>\n",
       "</table>\n",
       "</div>"
      ],
      "text/plain": [
       "   BuiltFAR  NumBldgs  NumFloors   ResArea  UnitsRes  YearBuilt  AssessSqft  \\\n",
       "0 -0.356675       0.0   1.011601  8.457443  1.098612       1920    1.546704   \n",
       "1 -0.083382       0.0   0.693147  7.901007  0.693147       2003    2.189790   \n",
       "\n",
       "   AssessLand  \n",
       "0    9.040856  \n",
       "1    8.776476  "
      ]
     },
     "execution_count": 78,
     "metadata": {},
     "output_type": "execute_result"
    }
   ],
   "source": [
    "x.head(2)"
   ]
  },
  {
   "cell_type": "code",
   "execution_count": 79,
   "metadata": {
    "collapsed": false
   },
   "outputs": [
    {
     "data": {
      "text/plain": [
       "Index([u'BBL', u'AssessLand', u'BuiltFAR', u'NumBldgs', u'NumFloors',\n",
       "       u'ResArea', u'UnitsRes', u'YearBuilt', u'AssessSqft', u'com_count'],\n",
       "      dtype='object')"
      ]
     },
     "execution_count": 79,
     "metadata": {},
     "output_type": "execute_result"
    }
   ],
   "source": [
    "a.columns"
   ]
  },
  {
   "cell_type": "markdown",
   "metadata": {},
   "source": [
    "### split the data"
   ]
  },
  {
   "cell_type": "code",
   "execution_count": 80,
   "metadata": {
    "collapsed": true
   },
   "outputs": [],
   "source": [
    "X_train, X_test, y_train, y_test = train_test_split(x,y, test_size = 0.3, random_state =200)"
   ]
  },
  {
   "cell_type": "markdown",
   "metadata": {},
   "source": [
    "### parameter selection"
   ]
  },
  {
   "cell_type": "code",
   "execution_count": 81,
   "metadata": {
    "collapsed": true
   },
   "outputs": [],
   "source": [
    "#Find the Alpha and report best test performance for Ridge/Lasso.\n",
    "def Regularization_fit_lambda(model,X_train,y_train,lambdas,p=0.4,Graph=False, logl=False):\n",
    "    #model = 1-Ridge, 2-Lasso\n",
    "    #lambdas: a list of lambda values to try\n",
    "    #p: ratio of the validation sample size / total training size\n",
    "    #Graph: plot the graph of R^2 values for different lambda\n",
    "\n",
    "    R_2_OS=[]\n",
    "    X_train0, X_valid, y_train0, y_valid = train_test_split(X_train,\n",
    "                                    y_train, test_size = 0.3, random_state = 200)\n",
    "\n",
    "    if model==1:\n",
    "        RM = lambda a: linear_model.Ridge(fit_intercept=True, alpha=a)\n",
    "        model_label='Ridge'\n",
    "    else:\n",
    "        RM = lambda a: linear_model.Lasso(fit_intercept=True, alpha=a)\n",
    "        model_label='Lasso'\n",
    "    \n",
    "    best_R2 = -1\n",
    "    best_lambda = lambdas[0]\n",
    "    \n",
    "    for i in lambdas:\n",
    "        lm = RM(i)\n",
    "        lm.fit(X_train0,y_train0)  #fit the regularization model\n",
    "        y_predict=lm.predict(X_valid) #compute the prediction for the validation sample \n",
    "        err_OS=y_predict-y_valid\n",
    "        R_2_OS_=1-np.var(err_OS)/np.var(y_valid)\n",
    "        R_2_OS.append(R_2_OS_)\n",
    "        if R_2_OS_ > best_R2:\n",
    "            best_R2 = R_2_OS_\n",
    "            best_lambda = i\n",
    "    return best_lambda"
   ]
  },
  {
   "cell_type": "code",
   "execution_count": 82,
   "metadata": {
    "collapsed": false
   },
   "outputs": [
    {
     "name": "stdout",
     "output_type": "stream",
     "text": [
      "52\n"
     ]
    }
   ],
   "source": [
    "#ridge lambda\n",
    "lambdas = [42, 43, 44, 45, 46, 47, 48, 50, 51, 52]\n",
    "lambda_r_optimal=Regularization_fit_lambda(1,X_train,y_train,lambdas,p=0.4,Graph=True)\n",
    "print lambda_r_optimal"
   ]
  },
  {
   "cell_type": "code",
   "execution_count": 83,
   "metadata": {
    "collapsed": false
   },
   "outputs": [
    {
     "name": "stdout",
     "output_type": "stream",
     "text": [
      "0.001\n"
     ]
    }
   ],
   "source": [
    "#lasso lambda\n",
    "lambdas = [.000001, .00001, .0001, .001, .01]\n",
    "lambda_l_optimal=Regularization_fit_lambda(2,X_train,y_train,lambdas,p=0.4,Graph=True)\n",
    "print lambda_l_optimal"
   ]
  },
  {
   "cell_type": "code",
   "execution_count": 84,
   "metadata": {
    "collapsed": false
   },
   "outputs": [
    {
     "name": "stdout",
     "output_type": "stream",
     "text": [
      "R-squared score: 0.0484840968486\n",
      "The R-squared we found for IS Ridge is: 0.0484840968488\n",
      "R-squared score: 0.0515787574946\n",
      "The R-squared we found for OS Ridge is: 0.0517715290893\n"
     ]
    }
   ],
   "source": [
    "Ridge = linear_model.Ridge(fit_intercept=True,alpha=lambda_r_optimal) #try Ridge with a selected regularization parameter lambda\n",
    "\n",
    "Ridge.fit(X_train,y_train)\n",
    "# In the sample:\n",
    "p_IS=Ridge.predict(X_train)\n",
    "err_IS=p_IS-y_train\n",
    "R_2_IS_Ridge=1-np.var(err_IS)/np.var(y_train)\n",
    "print('R-squared score: {0}'.format(Ridge.score(X_train,y_train)))\n",
    "print(\"The R-squared we found for IS Ridge is: {0}\".format(R_2_IS_Ridge))\n",
    "\n",
    "Ridge_coef=Ridge.coef_\n",
    "#Out of sample\n",
    "p_OS=Ridge.predict(X_test)\n",
    "err_OS=p_OS-y_test\n",
    "R_2_OS_Ridge=1-np.var(err_OS)/np.var(y_test)\n",
    "print('R-squared score: {0}'.format(Ridge.score(X_test,y_test)))\n",
    "print(\"The R-squared we found for OS Ridge is: {0}\".format(R_2_OS_Ridge))"
   ]
  },
  {
   "cell_type": "code",
   "execution_count": 85,
   "metadata": {
    "collapsed": false
   },
   "outputs": [
    {
     "name": "stdout",
     "output_type": "stream",
     "text": [
      "R-squared score: 0.048224696021\n",
      "The R-squared we found for IS Lasso is: 0.0482246960211\n",
      "R-squared score: 0.0516397943223\n",
      "The R-squared we found for OS Lasso is: 0.0518356210035\n"
     ]
    }
   ],
   "source": [
    "Lasso=linear_model.Lasso(fit_intercept=True,alpha=lambda_l_optimal)\n",
    "#try Ridge with a selected regularization parameter lambda\n",
    "\n",
    "Lasso.fit(X_train,y_train)\n",
    "# In the sample:\n",
    "p_IS=Lasso.predict(X_train)\n",
    "err_IS=p_IS-y_train\n",
    "R_2_IS_Lasso=1-np.var(err_IS)/np.var(y_train)\n",
    "print('R-squared score: {0}'.format(Lasso.score(X_train,y_train)))\n",
    "print(\"The R-squared we found for IS Lasso is: {0}\".format(R_2_IS_Lasso))\n",
    "\n",
    "Lasso_coef=Lasso.coef_\n",
    "#Out of sample\n",
    "p_OS=Lasso.predict(X_test)\n",
    "err_OS=p_OS-y_test\n",
    "R_2_OS_Lasso=1-np.var(err_OS)/np.var(y_test)\n",
    "print('R-squared score: {0}'.format(Lasso.score(X_test,y_test)))\n",
    "print(\"The R-squared we found for OS Lasso is: {0}\".format(R_2_OS_Lasso))"
   ]
  },
  {
   "cell_type": "code",
   "execution_count": 86,
   "metadata": {
    "collapsed": false
   },
   "outputs": [
    {
     "name": "stdout",
     "output_type": "stream",
     "text": [
      "R-squared IS score: 0.0484851890168\n",
      "R-squared OS score: 0.0515421748474\n"
     ]
    }
   ],
   "source": [
    "Linear=linear_model.LinearRegression()\n",
    "#try Ridge with a selected regularization parameter lambda\n",
    "\n",
    "Linear.fit(X_train,y_train)\n",
    "# In the sample:\n",
    "p_IS=Linear.predict(X_train)\n",
    "err_IS=p_IS-y_train\n",
    "R_2_IS_Linear=1-np.var(err_IS)/np.var(y_train)\n",
    "print('R-squared IS score: {0}'.format(Linear.score(X_train,y_train)))\n",
    "\n",
    "Linear_coef=Linear.coef_\n",
    "#Out of sample\n",
    "p_OS=Linear.predict(X_test)\n",
    "err_OS=p_OS-y_test\n",
    "R_2_OS_Linear=1-np.var(err_OS)/np.var(y_test)\n",
    "print('R-squared OS score: {0}'.format(Linear.score(X_test,y_test)))"
   ]
  },
  {
   "cell_type": "code",
   "execution_count": 87,
   "metadata": {
    "collapsed": false
   },
   "outputs": [],
   "source": [
    "v = pd.DataFrame()\n",
    "v['var_names'] = [elem for elem in x.columns]\n",
    "v['linear'] = [elem for elem in Linear_coef]\n",
    "v['ridge'] = [elem for elem in Ridge_coef]\n",
    "v['lasso'] = [elem for elem in Lasso_coef]"
   ]
  },
  {
   "cell_type": "code",
   "execution_count": 88,
   "metadata": {
    "collapsed": false
   },
   "outputs": [
    {
     "data": {
      "text/html": [
       "<div>\n",
       "<table border=\"1\" class=\"dataframe\">\n",
       "  <thead>\n",
       "    <tr style=\"text-align: right;\">\n",
       "      <th></th>\n",
       "      <th>var_names</th>\n",
       "      <th>linear</th>\n",
       "      <th>ridge</th>\n",
       "      <th>lasso</th>\n",
       "    </tr>\n",
       "  </thead>\n",
       "  <tbody>\n",
       "    <tr>\n",
       "      <th>3</th>\n",
       "      <td>ResArea</td>\n",
       "      <td>0.065976</td>\n",
       "      <td>0.065175</td>\n",
       "      <td>0.060254</td>\n",
       "    </tr>\n",
       "    <tr>\n",
       "      <th>4</th>\n",
       "      <td>UnitsRes</td>\n",
       "      <td>0.040255</td>\n",
       "      <td>0.040449</td>\n",
       "      <td>0.036565</td>\n",
       "    </tr>\n",
       "    <tr>\n",
       "      <th>7</th>\n",
       "      <td>AssessLand</td>\n",
       "      <td>-0.000152</td>\n",
       "      <td>-0.000119</td>\n",
       "      <td>-0.000000</td>\n",
       "    </tr>\n",
       "    <tr>\n",
       "      <th>5</th>\n",
       "      <td>YearBuilt</td>\n",
       "      <td>-0.000395</td>\n",
       "      <td>-0.000392</td>\n",
       "      <td>-0.000359</td>\n",
       "    </tr>\n",
       "    <tr>\n",
       "      <th>6</th>\n",
       "      <td>AssessSqft</td>\n",
       "      <td>-0.031998</td>\n",
       "      <td>-0.032166</td>\n",
       "      <td>-0.032492</td>\n",
       "    </tr>\n",
       "    <tr>\n",
       "      <th>0</th>\n",
       "      <td>BuiltFAR</td>\n",
       "      <td>-0.035128</td>\n",
       "      <td>-0.034714</td>\n",
       "      <td>-0.029149</td>\n",
       "    </tr>\n",
       "    <tr>\n",
       "      <th>2</th>\n",
       "      <td>NumFloors</td>\n",
       "      <td>-0.037240</td>\n",
       "      <td>-0.036044</td>\n",
       "      <td>-0.017469</td>\n",
       "    </tr>\n",
       "    <tr>\n",
       "      <th>1</th>\n",
       "      <td>NumBldgs</td>\n",
       "      <td>-0.048291</td>\n",
       "      <td>-0.047088</td>\n",
       "      <td>-0.030406</td>\n",
       "    </tr>\n",
       "  </tbody>\n",
       "</table>\n",
       "</div>"
      ],
      "text/plain": [
       "    var_names    linear     ridge     lasso\n",
       "3     ResArea  0.065976  0.065175  0.060254\n",
       "4    UnitsRes  0.040255  0.040449  0.036565\n",
       "7  AssessLand -0.000152 -0.000119 -0.000000\n",
       "5   YearBuilt -0.000395 -0.000392 -0.000359\n",
       "6  AssessSqft -0.031998 -0.032166 -0.032492\n",
       "0    BuiltFAR -0.035128 -0.034714 -0.029149\n",
       "2   NumFloors -0.037240 -0.036044 -0.017469\n",
       "1    NumBldgs -0.048291 -0.047088 -0.030406"
      ]
     },
     "execution_count": 88,
     "metadata": {},
     "output_type": "execute_result"
    }
   ],
   "source": [
    "v.sort_values(by='linear',ascending=False)"
   ]
  },
  {
   "cell_type": "code",
   "execution_count": 89,
   "metadata": {
    "collapsed": false
   },
   "outputs": [
    {
     "name": "stdout",
     "output_type": "stream",
     "text": [
      "0.0495229157805\n",
      "0.0495229491857\n",
      "-0.00010216928172\n"
     ]
    }
   ],
   "source": [
    "OS_linear_score = []\n",
    "OS_ridge_score = []\n",
    "OS_lasso_score = []\n",
    "linear_coefs = []\n",
    "ri_coefs = []\n",
    "ls_coefs = []\n",
    "\n",
    "for i in range(10):\n",
    "    X_train, X_test, y_train, y_test = train_test_split(x,\n",
    "                            y, test_size = 0.3, random_state =i)\n",
    "    lm=linear_model.LinearRegression()\n",
    "    lm.fit(X_train,y_train)\n",
    "    linear_coefs.append(lm.coef_)\n",
    "    OS_linear_score.append(lm.score(X_test,y_test))\n",
    "    \n",
    "    ri=linear_model.Ridge()\n",
    "    ri.fit(X_train,y_train)\n",
    "    ri_coefs.append(ri.coef_)\n",
    "    OS_ridge_score.append(ri.score(X_test,y_test))\n",
    "    \n",
    "    ls = linear_model.Lasso()\n",
    "    ls.fit(X_train,y_train)\n",
    "    ls_coefs.append(ls.coef_)\n",
    "    OS_lasso_score.append(ls.score(X_test,y_test))\n",
    "    \n",
    "print np.mean(OS_linear_score)\n",
    "print np.mean(OS_ridge_score)\n",
    "print np.mean(OS_lasso_score)\n",
    "variables = pd.DataFrame()\n",
    "variables['var_names'] = [elem for elem in x.columns]\n",
    "variables['linear'] = [elem for elem in np.mean(linear_coefs, axis=0)]\n",
    "variables['ridge'] = [elem for elem in np.mean(ri_coefs, axis=0)]\n",
    "variables['lasso'] = [elem for elem in np.mean(ls_coefs, axis=0)]"
   ]
  },
  {
   "cell_type": "code",
   "execution_count": 90,
   "metadata": {
    "collapsed": false
   },
   "outputs": [
    {
     "name": "stdout",
     "output_type": "stream",
     "text": [
      "0.0776773598782\n",
      "0.0776790566049\n",
      "-1.01396582752e-06\n"
     ]
    }
   ],
   "source": [
    "print max(OS_linear_score)\n",
    "print max(OS_ridge_score)\n",
    "print max(OS_lasso_score)"
   ]
  },
  {
   "cell_type": "code",
   "execution_count": 91,
   "metadata": {
    "collapsed": false
   },
   "outputs": [
    {
     "data": {
      "text/html": [
       "<div>\n",
       "<table border=\"1\" class=\"dataframe\">\n",
       "  <thead>\n",
       "    <tr style=\"text-align: right;\">\n",
       "      <th></th>\n",
       "      <th>var_names</th>\n",
       "      <th>linear</th>\n",
       "      <th>ridge</th>\n",
       "      <th>lasso</th>\n",
       "    </tr>\n",
       "  </thead>\n",
       "  <tbody>\n",
       "    <tr>\n",
       "      <th>3</th>\n",
       "      <td>ResArea</td>\n",
       "      <td>0.058926</td>\n",
       "      <td>0.058913</td>\n",
       "      <td>0.0</td>\n",
       "    </tr>\n",
       "    <tr>\n",
       "      <th>4</th>\n",
       "      <td>UnitsRes</td>\n",
       "      <td>0.041001</td>\n",
       "      <td>0.041003</td>\n",
       "      <td>0.0</td>\n",
       "    </tr>\n",
       "    <tr>\n",
       "      <th>7</th>\n",
       "      <td>AssessLand</td>\n",
       "      <td>0.000287</td>\n",
       "      <td>0.000288</td>\n",
       "      <td>0.0</td>\n",
       "    </tr>\n",
       "    <tr>\n",
       "      <th>5</th>\n",
       "      <td>YearBuilt</td>\n",
       "      <td>-0.000391</td>\n",
       "      <td>-0.000391</td>\n",
       "      <td>0.0</td>\n",
       "    </tr>\n",
       "    <tr>\n",
       "      <th>0</th>\n",
       "      <td>BuiltFAR</td>\n",
       "      <td>-0.028801</td>\n",
       "      <td>-0.028795</td>\n",
       "      <td>0.0</td>\n",
       "    </tr>\n",
       "    <tr>\n",
       "      <th>6</th>\n",
       "      <td>AssessSqft</td>\n",
       "      <td>-0.031031</td>\n",
       "      <td>-0.031034</td>\n",
       "      <td>0.0</td>\n",
       "    </tr>\n",
       "    <tr>\n",
       "      <th>2</th>\n",
       "      <td>NumFloors</td>\n",
       "      <td>-0.038700</td>\n",
       "      <td>-0.038675</td>\n",
       "      <td>0.0</td>\n",
       "    </tr>\n",
       "    <tr>\n",
       "      <th>1</th>\n",
       "      <td>NumBldgs</td>\n",
       "      <td>-0.046345</td>\n",
       "      <td>-0.046322</td>\n",
       "      <td>0.0</td>\n",
       "    </tr>\n",
       "  </tbody>\n",
       "</table>\n",
       "</div>"
      ],
      "text/plain": [
       "    var_names    linear     ridge  lasso\n",
       "3     ResArea  0.058926  0.058913    0.0\n",
       "4    UnitsRes  0.041001  0.041003    0.0\n",
       "7  AssessLand  0.000287  0.000288    0.0\n",
       "5   YearBuilt -0.000391 -0.000391    0.0\n",
       "0    BuiltFAR -0.028801 -0.028795    0.0\n",
       "6  AssessSqft -0.031031 -0.031034    0.0\n",
       "2   NumFloors -0.038700 -0.038675    0.0\n",
       "1    NumBldgs -0.046345 -0.046322    0.0"
      ]
     },
     "execution_count": 91,
     "metadata": {},
     "output_type": "execute_result"
    }
   ],
   "source": [
    "variables.sort_values(by='linear',ascending=False)"
   ]
  },
  {
   "cell_type": "code",
   "execution_count": 92,
   "metadata": {
    "collapsed": false
   },
   "outputs": [
    {
     "data": {
      "text/html": [
       "<div>\n",
       "<table border=\"1\" class=\"dataframe\">\n",
       "  <thead>\n",
       "    <tr style=\"text-align: right;\">\n",
       "      <th></th>\n",
       "      <th>BBL</th>\n",
       "      <th>AssessLand</th>\n",
       "      <th>BuiltFAR</th>\n",
       "      <th>NumBldgs</th>\n",
       "      <th>NumFloors</th>\n",
       "      <th>ResArea</th>\n",
       "      <th>UnitsRes</th>\n",
       "      <th>YearBuilt</th>\n",
       "      <th>AssessSqft</th>\n",
       "      <th>com_count</th>\n",
       "    </tr>\n",
       "  </thead>\n",
       "  <tbody>\n",
       "    <tr>\n",
       "      <th>BBL</th>\n",
       "      <td>1.000000</td>\n",
       "      <td>-0.156301</td>\n",
       "      <td>-0.491294</td>\n",
       "      <td>0.067513</td>\n",
       "      <td>-0.370648</td>\n",
       "      <td>-0.120213</td>\n",
       "      <td>-0.134086</td>\n",
       "      <td>0.245390</td>\n",
       "      <td>-0.416192</td>\n",
       "      <td>-0.068416</td>\n",
       "    </tr>\n",
       "    <tr>\n",
       "      <th>AssessLand</th>\n",
       "      <td>-0.156301</td>\n",
       "      <td>1.000000</td>\n",
       "      <td>0.413075</td>\n",
       "      <td>0.092511</td>\n",
       "      <td>0.625562</td>\n",
       "      <td>0.656083</td>\n",
       "      <td>0.615903</td>\n",
       "      <td>0.105600</td>\n",
       "      <td>0.284968</td>\n",
       "      <td>0.016891</td>\n",
       "    </tr>\n",
       "    <tr>\n",
       "      <th>BuiltFAR</th>\n",
       "      <td>-0.491294</td>\n",
       "      <td>0.413075</td>\n",
       "      <td>1.000000</td>\n",
       "      <td>-0.064414</td>\n",
       "      <td>0.783645</td>\n",
       "      <td>0.447886</td>\n",
       "      <td>0.456237</td>\n",
       "      <td>-0.026913</td>\n",
       "      <td>0.401311</td>\n",
       "      <td>0.117140</td>\n",
       "    </tr>\n",
       "    <tr>\n",
       "      <th>NumBldgs</th>\n",
       "      <td>0.067513</td>\n",
       "      <td>0.092511</td>\n",
       "      <td>-0.064414</td>\n",
       "      <td>1.000000</td>\n",
       "      <td>-0.010482</td>\n",
       "      <td>0.175571</td>\n",
       "      <td>0.217474</td>\n",
       "      <td>0.022985</td>\n",
       "      <td>0.000571</td>\n",
       "      <td>-0.009461</td>\n",
       "    </tr>\n",
       "    <tr>\n",
       "      <th>NumFloors</th>\n",
       "      <td>-0.370648</td>\n",
       "      <td>0.625562</td>\n",
       "      <td>0.783645</td>\n",
       "      <td>-0.010482</td>\n",
       "      <td>1.000000</td>\n",
       "      <td>0.686500</td>\n",
       "      <td>0.672023</td>\n",
       "      <td>0.111455</td>\n",
       "      <td>0.365744</td>\n",
       "      <td>0.106387</td>\n",
       "    </tr>\n",
       "    <tr>\n",
       "      <th>ResArea</th>\n",
       "      <td>-0.120213</td>\n",
       "      <td>0.656083</td>\n",
       "      <td>0.447886</td>\n",
       "      <td>0.175571</td>\n",
       "      <td>0.686500</td>\n",
       "      <td>1.000000</td>\n",
       "      <td>0.934371</td>\n",
       "      <td>0.162033</td>\n",
       "      <td>0.125262</td>\n",
       "      <td>0.123555</td>\n",
       "    </tr>\n",
       "    <tr>\n",
       "      <th>UnitsRes</th>\n",
       "      <td>-0.134086</td>\n",
       "      <td>0.615903</td>\n",
       "      <td>0.456237</td>\n",
       "      <td>0.217474</td>\n",
       "      <td>0.672023</td>\n",
       "      <td>0.934371</td>\n",
       "      <td>1.000000</td>\n",
       "      <td>0.151264</td>\n",
       "      <td>0.167548</td>\n",
       "      <td>0.121995</td>\n",
       "    </tr>\n",
       "    <tr>\n",
       "      <th>YearBuilt</th>\n",
       "      <td>0.245390</td>\n",
       "      <td>0.105600</td>\n",
       "      <td>-0.026913</td>\n",
       "      <td>0.022985</td>\n",
       "      <td>0.111455</td>\n",
       "      <td>0.162033</td>\n",
       "      <td>0.151264</td>\n",
       "      <td>1.000000</td>\n",
       "      <td>-0.062790</td>\n",
       "      <td>-0.004225</td>\n",
       "    </tr>\n",
       "    <tr>\n",
       "      <th>AssessSqft</th>\n",
       "      <td>-0.416192</td>\n",
       "      <td>0.284968</td>\n",
       "      <td>0.401311</td>\n",
       "      <td>0.000571</td>\n",
       "      <td>0.365744</td>\n",
       "      <td>0.125262</td>\n",
       "      <td>0.167548</td>\n",
       "      <td>-0.062790</td>\n",
       "      <td>1.000000</td>\n",
       "      <td>-0.002176</td>\n",
       "    </tr>\n",
       "    <tr>\n",
       "      <th>com_count</th>\n",
       "      <td>-0.068416</td>\n",
       "      <td>0.016891</td>\n",
       "      <td>0.117140</td>\n",
       "      <td>-0.009461</td>\n",
       "      <td>0.106387</td>\n",
       "      <td>0.123555</td>\n",
       "      <td>0.121995</td>\n",
       "      <td>-0.004225</td>\n",
       "      <td>-0.002176</td>\n",
       "      <td>1.000000</td>\n",
       "    </tr>\n",
       "  </tbody>\n",
       "</table>\n",
       "</div>"
      ],
      "text/plain": [
       "                 BBL  AssessLand  BuiltFAR  NumBldgs  NumFloors   ResArea  \\\n",
       "BBL         1.000000   -0.156301 -0.491294  0.067513  -0.370648 -0.120213   \n",
       "AssessLand -0.156301    1.000000  0.413075  0.092511   0.625562  0.656083   \n",
       "BuiltFAR   -0.491294    0.413075  1.000000 -0.064414   0.783645  0.447886   \n",
       "NumBldgs    0.067513    0.092511 -0.064414  1.000000  -0.010482  0.175571   \n",
       "NumFloors  -0.370648    0.625562  0.783645 -0.010482   1.000000  0.686500   \n",
       "ResArea    -0.120213    0.656083  0.447886  0.175571   0.686500  1.000000   \n",
       "UnitsRes   -0.134086    0.615903  0.456237  0.217474   0.672023  0.934371   \n",
       "YearBuilt   0.245390    0.105600 -0.026913  0.022985   0.111455  0.162033   \n",
       "AssessSqft -0.416192    0.284968  0.401311  0.000571   0.365744  0.125262   \n",
       "com_count  -0.068416    0.016891  0.117140 -0.009461   0.106387  0.123555   \n",
       "\n",
       "            UnitsRes  YearBuilt  AssessSqft  com_count  \n",
       "BBL        -0.134086   0.245390   -0.416192  -0.068416  \n",
       "AssessLand  0.615903   0.105600    0.284968   0.016891  \n",
       "BuiltFAR    0.456237  -0.026913    0.401311   0.117140  \n",
       "NumBldgs    0.217474   0.022985    0.000571  -0.009461  \n",
       "NumFloors   0.672023   0.111455    0.365744   0.106387  \n",
       "ResArea     0.934371   0.162033    0.125262   0.123555  \n",
       "UnitsRes    1.000000   0.151264    0.167548   0.121995  \n",
       "YearBuilt   0.151264   1.000000   -0.062790  -0.004225  \n",
       "AssessSqft  0.167548  -0.062790    1.000000  -0.002176  \n",
       "com_count   0.121995  -0.004225   -0.002176   1.000000  "
      ]
     },
     "execution_count": 92,
     "metadata": {},
     "output_type": "execute_result"
    }
   ],
   "source": [
    "a.corr()"
   ]
  },
  {
   "cell_type": "markdown",
   "metadata": {},
   "source": [
    "### results from correlation matrix\n",
    "1. AssessLand is strongly correlated with NumFloors (.63), ResArea (.65), and UnitsRes (.61)\n",
    "2. BuiltFAR is strongly correlated with NumFloors (.78)\n",
    "3. NumBldgs is strongly correlated with nothing\n",
    "4. NumFloors is strongly correlated with AssessLand (.63), BuiltFAR (.78), ResArea (.69), and UnitsRes (.67)\n",
    "5. ResArea is strongly correlated with AssessLand (.66), NumFloors (.69), and UnitsRes (.93)\n",
    "5. UnitsRes is strongly correlated with AssessLand (.62), NumFloors (.67), and ResArea (.93)\n",
    "6. YearBuilt is strongly correlated with nothing\n",
    "7. AssessSqft is strongly correlated with nothing"
   ]
  },
  {
   "cell_type": "code",
   "execution_count": 93,
   "metadata": {
    "collapsed": false
   },
   "outputs": [
    {
     "data": {
      "text/html": [
       "<div>\n",
       "<table border=\"1\" class=\"dataframe\">\n",
       "  <thead>\n",
       "    <tr style=\"text-align: right;\">\n",
       "      <th></th>\n",
       "      <th>AssessLand</th>\n",
       "      <th>NumFloors</th>\n",
       "      <th>ResArea</th>\n",
       "      <th>UnitsRes</th>\n",
       "      <th>BuiltFAR</th>\n",
       "    </tr>\n",
       "  </thead>\n",
       "  <tbody>\n",
       "    <tr>\n",
       "      <th>AssessLand</th>\n",
       "      <td>1.000000</td>\n",
       "      <td>0.625562</td>\n",
       "      <td>0.656083</td>\n",
       "      <td>0.615903</td>\n",
       "      <td>0.413075</td>\n",
       "    </tr>\n",
       "    <tr>\n",
       "      <th>NumFloors</th>\n",
       "      <td>0.625562</td>\n",
       "      <td>1.000000</td>\n",
       "      <td>0.686500</td>\n",
       "      <td>0.672023</td>\n",
       "      <td>0.783645</td>\n",
       "    </tr>\n",
       "    <tr>\n",
       "      <th>ResArea</th>\n",
       "      <td>0.656083</td>\n",
       "      <td>0.686500</td>\n",
       "      <td>1.000000</td>\n",
       "      <td>0.934371</td>\n",
       "      <td>0.447886</td>\n",
       "    </tr>\n",
       "    <tr>\n",
       "      <th>UnitsRes</th>\n",
       "      <td>0.615903</td>\n",
       "      <td>0.672023</td>\n",
       "      <td>0.934371</td>\n",
       "      <td>1.000000</td>\n",
       "      <td>0.456237</td>\n",
       "    </tr>\n",
       "    <tr>\n",
       "      <th>BuiltFAR</th>\n",
       "      <td>0.413075</td>\n",
       "      <td>0.783645</td>\n",
       "      <td>0.447886</td>\n",
       "      <td>0.456237</td>\n",
       "      <td>1.000000</td>\n",
       "    </tr>\n",
       "  </tbody>\n",
       "</table>\n",
       "</div>"
      ],
      "text/plain": [
       "            AssessLand  NumFloors   ResArea  UnitsRes  BuiltFAR\n",
       "AssessLand    1.000000   0.625562  0.656083  0.615903  0.413075\n",
       "NumFloors     0.625562   1.000000  0.686500  0.672023  0.783645\n",
       "ResArea       0.656083   0.686500  1.000000  0.934371  0.447886\n",
       "UnitsRes      0.615903   0.672023  0.934371  1.000000  0.456237\n",
       "BuiltFAR      0.413075   0.783645  0.447886  0.456237  1.000000"
      ]
     },
     "execution_count": 93,
     "metadata": {},
     "output_type": "execute_result"
    }
   ],
   "source": [
    "correlated = a[['AssessLand','NumFloors','ResArea','UnitsRes','BuiltFAR']]\n",
    "correlated.corr()"
   ]
  },
  {
   "cell_type": "markdown",
   "metadata": {},
   "source": [
    "### features selected\n",
    "AssessLand, NumFloors, ResArea, and UnitsRes are all strongly positively correlated - with UnitsRes/ResArea most strongly correlated, followed by BuiltFAR and NumFloors. \n",
    "1. ResArea not UnitsRes\n",
    "2. NumFloors not BuiltFAR \n",
    "3. YearBuilt\n",
    "4. AssessSqft"
   ]
  },
  {
   "cell_type": "markdown",
   "metadata": {},
   "source": [
    "#### model with reduced features ResArea, NumFloors, YearBuilt, AssessSqft"
   ]
  },
  {
   "cell_type": "code",
   "execution_count": 94,
   "metadata": {
    "collapsed": false
   },
   "outputs": [
    {
     "data": {
      "text/plain": [
       "0    0.021277\n",
       "1    0.042553\n",
       "Name: com_count, dtype: float64"
      ]
     },
     "execution_count": 94,
     "metadata": {},
     "output_type": "execute_result"
    }
   ],
   "source": [
    "#transformed.iloc[:,2:].head(2)\n",
    "transformed.iloc[:,1].head(2)"
   ]
  },
  {
   "cell_type": "code",
   "execution_count": 95,
   "metadata": {
    "collapsed": true
   },
   "outputs": [],
   "source": [
    "reduced = transformed[['ResArea','NumFloors','YearBuilt','AssessSqft', 'com_count']]"
   ]
  },
  {
   "cell_type": "code",
   "execution_count": 96,
   "metadata": {
    "collapsed": false
   },
   "outputs": [
    {
     "data": {
      "text/plain": [
       "0    0.021277\n",
       "1    0.042553\n",
       "Name: com_count, dtype: float64"
      ]
     },
     "execution_count": 96,
     "metadata": {},
     "output_type": "execute_result"
    }
   ],
   "source": [
    "reduced.iloc[:,4].head(2)"
   ]
  },
  {
   "cell_type": "code",
   "execution_count": 97,
   "metadata": {
    "collapsed": false
   },
   "outputs": [
    {
     "name": "stdout",
     "output_type": "stream",
     "text": [
      "R-squared IS score: 0.0464976104796\n",
      "R-squared OS score: 0.0491304664762\n"
     ]
    }
   ],
   "source": [
    "X_train, X_test, y_train, y_test = train_test_split(reduced.iloc[:,:4],reduced.iloc[:,4], test_size = 0.3, random_state =200)\n",
    "Linear=linear_model.LinearRegression()\n",
    "#try Ridge with a selected regularization parameter lambda\n",
    "\n",
    "Linear.fit(X_train,y_train)\n",
    "# In the sample:\n",
    "p_IS=Linear.predict(X_train)\n",
    "err_IS=p_IS-y_train\n",
    "R_2_IS_Linear=1-np.var(err_IS)/np.var(y_train)\n",
    "print('R-squared IS score: {0}'.format(Linear.score(X_train,y_train)))\n",
    "\n",
    "Linear_coef=Linear.coef_\n",
    "#Out of sample\n",
    "p_OS=Linear.predict(X_test)\n",
    "err_OS=p_OS-y_test\n",
    "R_2_OS_Linear=1-np.var(err_OS)/np.var(y_test)\n",
    "print('R-squared OS score: {0}'.format(Linear.score(X_test,y_test)))"
   ]
  },
  {
   "cell_type": "markdown",
   "metadata": {},
   "source": [
    "### next steps for pluto\n",
    "1. Drop UnitsRes = 0\n",
    "2. Create building age variable from builtyear\n",
    "3. Try log(normalizing the complaint by unitsres)\n",
    "\n",
    "### next steps for acs \n",
    "1. minority population \n",
    "2. race diversity"
   ]
  }
 ],
 "metadata": {
  "kernelspec": {
   "display_name": "Python 2",
   "language": "python",
   "name": "python2"
  },
  "language_info": {
   "codemirror_mode": {
    "name": "ipython",
    "version": 2
   },
   "file_extension": ".py",
   "mimetype": "text/x-python",
   "name": "python",
   "nbconvert_exporter": "python",
   "pygments_lexer": "ipython2",
   "version": "2.7.12"
  }
 },
 "nbformat": 4,
 "nbformat_minor": 1
}
