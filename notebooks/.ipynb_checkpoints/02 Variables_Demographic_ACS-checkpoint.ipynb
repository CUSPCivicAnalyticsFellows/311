{
 "cells": [
  {
   "cell_type": "markdown",
   "metadata": {},
   "source": [
    "# Demographics related variables\n",
    "* socio-econnomic"
   ]
  },
  {
   "cell_type": "code",
   "execution_count": 2,
   "metadata": {
    "collapsed": false
   },
   "outputs": [
    {
     "name": "stdout",
     "output_type": "stream",
     "text": [
      "Populating the interactive namespace from numpy and matplotlib\n"
     ]
    }
   ],
   "source": [
    "#Data management\n",
    "import pandas as pd\n",
    "from sklearn.preprocessing import StandardScaler\n",
    "import numpy as np\n",
    "import geopandas as gpd\n",
    "\n",
    "#Data visualization\n",
    "import pylab as pl\n",
    "from matplotlib import ticker\n",
    "%pylab inline"
   ]
  },
  {
   "cell_type": "markdown",
   "metadata": {},
   "source": [
    "## 2015-5-Year estimate data\n",
    "* Census Block Group level"
   ]
  },
  {
   "cell_type": "markdown",
   "metadata": {},
   "source": [
    "* Total population\n",
    "* Percentage of female population\n",
    "* Percentage of elderly over 75"
   ]
  },
  {
   "cell_type": "code",
   "execution_count": 3,
   "metadata": {
    "collapsed": false
   },
   "outputs": [
    {
     "ename": "IOError",
     "evalue": "File ../data/rawdata/ACS/ACS_15_5YR_B01001_with_ann.csv does not exist",
     "output_type": "error",
     "traceback": [
      "\u001b[0;31m---------------------------------------------------------------------------\u001b[0m",
      "\u001b[0;31mIOError\u001b[0m                                   Traceback (most recent call last)",
      "\u001b[0;32m<ipython-input-3-f389a1fcd8e2>\u001b[0m in \u001b[0;36m<module>\u001b[0;34m()\u001b[0m\n\u001b[1;32m      1\u001b[0m \u001b[0;31m# Total pop + Female pop ratio + Elderly pop ratio\u001b[0m\u001b[0;34m\u001b[0m\u001b[0;34m\u001b[0m\u001b[0m\n\u001b[0;32m----> 2\u001b[0;31m \u001b[0mdf\u001b[0m \u001b[0;34m=\u001b[0m \u001b[0mpd\u001b[0m\u001b[0;34m.\u001b[0m\u001b[0mread_csv\u001b[0m\u001b[0;34m(\u001b[0m\u001b[0;34m'../data/rawdata/ACS/ACS_15_5YR_B01001_with_ann.csv'\u001b[0m\u001b[0;34m,\u001b[0m \u001b[0mheader\u001b[0m \u001b[0;34m=\u001b[0m \u001b[0mNone\u001b[0m\u001b[0;34m)\u001b[0m\u001b[0;34m\u001b[0m\u001b[0m\n\u001b[0m\u001b[1;32m      3\u001b[0m \u001b[0mnew_header\u001b[0m \u001b[0;34m=\u001b[0m \u001b[0mdf\u001b[0m\u001b[0;34m.\u001b[0m\u001b[0miloc\u001b[0m\u001b[0;34m[\u001b[0m\u001b[0;36m1\u001b[0m\u001b[0;34m]\u001b[0m \u001b[0;31m#grab the first row for the header\u001b[0m\u001b[0;34m\u001b[0m\u001b[0m\n\u001b[1;32m      4\u001b[0m \u001b[0mdf\u001b[0m \u001b[0;34m=\u001b[0m \u001b[0mdf\u001b[0m\u001b[0;34m[\u001b[0m\u001b[0;36m1\u001b[0m\u001b[0;34m:\u001b[0m\u001b[0;34m]\u001b[0m \u001b[0;31m#take the data less the header row\u001b[0m\u001b[0;34m\u001b[0m\u001b[0m\n\u001b[1;32m      5\u001b[0m \u001b[0mdf\u001b[0m \u001b[0;34m=\u001b[0m \u001b[0mdf\u001b[0m\u001b[0;34m.\u001b[0m\u001b[0mrename\u001b[0m\u001b[0;34m(\u001b[0m\u001b[0mcolumns\u001b[0m \u001b[0;34m=\u001b[0m \u001b[0mnew_header\u001b[0m\u001b[0;34m)\u001b[0m \u001b[0;31m#set the header row as the df header\u001b[0m\u001b[0;34m\u001b[0m\u001b[0m\n",
      "\u001b[0;32m/Users/kristikorsberg/devel/venv/lib/python2.7/site-packages/pandas/io/parsers.pyc\u001b[0m in \u001b[0;36mparser_f\u001b[0;34m(filepath_or_buffer, sep, delimiter, header, names, index_col, usecols, squeeze, prefix, mangle_dupe_cols, dtype, engine, converters, true_values, false_values, skipinitialspace, skiprows, nrows, na_values, keep_default_na, na_filter, verbose, skip_blank_lines, parse_dates, infer_datetime_format, keep_date_col, date_parser, dayfirst, iterator, chunksize, compression, thousands, decimal, lineterminator, quotechar, quoting, escapechar, comment, encoding, dialect, tupleize_cols, error_bad_lines, warn_bad_lines, skipfooter, skip_footer, doublequote, delim_whitespace, as_recarray, compact_ints, use_unsigned, low_memory, buffer_lines, memory_map, float_precision)\u001b[0m\n\u001b[1;32m    643\u001b[0m                     skip_blank_lines=skip_blank_lines)\n\u001b[1;32m    644\u001b[0m \u001b[0;34m\u001b[0m\u001b[0m\n\u001b[0;32m--> 645\u001b[0;31m         \u001b[0;32mreturn\u001b[0m \u001b[0m_read\u001b[0m\u001b[0;34m(\u001b[0m\u001b[0mfilepath_or_buffer\u001b[0m\u001b[0;34m,\u001b[0m \u001b[0mkwds\u001b[0m\u001b[0;34m)\u001b[0m\u001b[0;34m\u001b[0m\u001b[0m\n\u001b[0m\u001b[1;32m    646\u001b[0m \u001b[0;34m\u001b[0m\u001b[0m\n\u001b[1;32m    647\u001b[0m     \u001b[0mparser_f\u001b[0m\u001b[0;34m.\u001b[0m\u001b[0m__name__\u001b[0m \u001b[0;34m=\u001b[0m \u001b[0mname\u001b[0m\u001b[0;34m\u001b[0m\u001b[0m\n",
      "\u001b[0;32m/Users/kristikorsberg/devel/venv/lib/python2.7/site-packages/pandas/io/parsers.pyc\u001b[0m in \u001b[0;36m_read\u001b[0;34m(filepath_or_buffer, kwds)\u001b[0m\n\u001b[1;32m    386\u001b[0m \u001b[0;34m\u001b[0m\u001b[0m\n\u001b[1;32m    387\u001b[0m     \u001b[0;31m# Create the parser.\u001b[0m\u001b[0;34m\u001b[0m\u001b[0;34m\u001b[0m\u001b[0m\n\u001b[0;32m--> 388\u001b[0;31m     \u001b[0mparser\u001b[0m \u001b[0;34m=\u001b[0m \u001b[0mTextFileReader\u001b[0m\u001b[0;34m(\u001b[0m\u001b[0mfilepath_or_buffer\u001b[0m\u001b[0;34m,\u001b[0m \u001b[0;34m**\u001b[0m\u001b[0mkwds\u001b[0m\u001b[0;34m)\u001b[0m\u001b[0;34m\u001b[0m\u001b[0m\n\u001b[0m\u001b[1;32m    389\u001b[0m \u001b[0;34m\u001b[0m\u001b[0m\n\u001b[1;32m    390\u001b[0m     \u001b[0;32mif\u001b[0m \u001b[0;34m(\u001b[0m\u001b[0mnrows\u001b[0m \u001b[0;32mis\u001b[0m \u001b[0;32mnot\u001b[0m \u001b[0mNone\u001b[0m\u001b[0;34m)\u001b[0m \u001b[0;32mand\u001b[0m \u001b[0;34m(\u001b[0m\u001b[0mchunksize\u001b[0m \u001b[0;32mis\u001b[0m \u001b[0;32mnot\u001b[0m \u001b[0mNone\u001b[0m\u001b[0;34m)\u001b[0m\u001b[0;34m:\u001b[0m\u001b[0;34m\u001b[0m\u001b[0m\n",
      "\u001b[0;32m/Users/kristikorsberg/devel/venv/lib/python2.7/site-packages/pandas/io/parsers.pyc\u001b[0m in \u001b[0;36m__init__\u001b[0;34m(self, f, engine, **kwds)\u001b[0m\n\u001b[1;32m    727\u001b[0m             \u001b[0mself\u001b[0m\u001b[0;34m.\u001b[0m\u001b[0moptions\u001b[0m\u001b[0;34m[\u001b[0m\u001b[0;34m'has_index_names'\u001b[0m\u001b[0;34m]\u001b[0m \u001b[0;34m=\u001b[0m \u001b[0mkwds\u001b[0m\u001b[0;34m[\u001b[0m\u001b[0;34m'has_index_names'\u001b[0m\u001b[0;34m]\u001b[0m\u001b[0;34m\u001b[0m\u001b[0m\n\u001b[1;32m    728\u001b[0m \u001b[0;34m\u001b[0m\u001b[0m\n\u001b[0;32m--> 729\u001b[0;31m         \u001b[0mself\u001b[0m\u001b[0;34m.\u001b[0m\u001b[0m_make_engine\u001b[0m\u001b[0;34m(\u001b[0m\u001b[0mself\u001b[0m\u001b[0;34m.\u001b[0m\u001b[0mengine\u001b[0m\u001b[0;34m)\u001b[0m\u001b[0;34m\u001b[0m\u001b[0m\n\u001b[0m\u001b[1;32m    730\u001b[0m \u001b[0;34m\u001b[0m\u001b[0m\n\u001b[1;32m    731\u001b[0m     \u001b[0;32mdef\u001b[0m \u001b[0mclose\u001b[0m\u001b[0;34m(\u001b[0m\u001b[0mself\u001b[0m\u001b[0;34m)\u001b[0m\u001b[0;34m:\u001b[0m\u001b[0;34m\u001b[0m\u001b[0m\n",
      "\u001b[0;32m/Users/kristikorsberg/devel/venv/lib/python2.7/site-packages/pandas/io/parsers.pyc\u001b[0m in \u001b[0;36m_make_engine\u001b[0;34m(self, engine)\u001b[0m\n\u001b[1;32m    920\u001b[0m     \u001b[0;32mdef\u001b[0m \u001b[0m_make_engine\u001b[0m\u001b[0;34m(\u001b[0m\u001b[0mself\u001b[0m\u001b[0;34m,\u001b[0m \u001b[0mengine\u001b[0m\u001b[0;34m=\u001b[0m\u001b[0;34m'c'\u001b[0m\u001b[0;34m)\u001b[0m\u001b[0;34m:\u001b[0m\u001b[0;34m\u001b[0m\u001b[0m\n\u001b[1;32m    921\u001b[0m         \u001b[0;32mif\u001b[0m \u001b[0mengine\u001b[0m \u001b[0;34m==\u001b[0m \u001b[0;34m'c'\u001b[0m\u001b[0;34m:\u001b[0m\u001b[0;34m\u001b[0m\u001b[0m\n\u001b[0;32m--> 922\u001b[0;31m             \u001b[0mself\u001b[0m\u001b[0;34m.\u001b[0m\u001b[0m_engine\u001b[0m \u001b[0;34m=\u001b[0m \u001b[0mCParserWrapper\u001b[0m\u001b[0;34m(\u001b[0m\u001b[0mself\u001b[0m\u001b[0;34m.\u001b[0m\u001b[0mf\u001b[0m\u001b[0;34m,\u001b[0m \u001b[0;34m**\u001b[0m\u001b[0mself\u001b[0m\u001b[0;34m.\u001b[0m\u001b[0moptions\u001b[0m\u001b[0;34m)\u001b[0m\u001b[0;34m\u001b[0m\u001b[0m\n\u001b[0m\u001b[1;32m    923\u001b[0m         \u001b[0;32melse\u001b[0m\u001b[0;34m:\u001b[0m\u001b[0;34m\u001b[0m\u001b[0m\n\u001b[1;32m    924\u001b[0m             \u001b[0;32mif\u001b[0m \u001b[0mengine\u001b[0m \u001b[0;34m==\u001b[0m \u001b[0;34m'python'\u001b[0m\u001b[0;34m:\u001b[0m\u001b[0;34m\u001b[0m\u001b[0m\n",
      "\u001b[0;32m/Users/kristikorsberg/devel/venv/lib/python2.7/site-packages/pandas/io/parsers.pyc\u001b[0m in \u001b[0;36m__init__\u001b[0;34m(self, src, **kwds)\u001b[0m\n\u001b[1;32m   1387\u001b[0m         \u001b[0mkwds\u001b[0m\u001b[0;34m[\u001b[0m\u001b[0;34m'allow_leading_cols'\u001b[0m\u001b[0;34m]\u001b[0m \u001b[0;34m=\u001b[0m \u001b[0mself\u001b[0m\u001b[0;34m.\u001b[0m\u001b[0mindex_col\u001b[0m \u001b[0;32mis\u001b[0m \u001b[0;32mnot\u001b[0m \u001b[0mFalse\u001b[0m\u001b[0;34m\u001b[0m\u001b[0m\n\u001b[1;32m   1388\u001b[0m \u001b[0;34m\u001b[0m\u001b[0m\n\u001b[0;32m-> 1389\u001b[0;31m         \u001b[0mself\u001b[0m\u001b[0;34m.\u001b[0m\u001b[0m_reader\u001b[0m \u001b[0;34m=\u001b[0m \u001b[0m_parser\u001b[0m\u001b[0;34m.\u001b[0m\u001b[0mTextReader\u001b[0m\u001b[0;34m(\u001b[0m\u001b[0msrc\u001b[0m\u001b[0;34m,\u001b[0m \u001b[0;34m**\u001b[0m\u001b[0mkwds\u001b[0m\u001b[0;34m)\u001b[0m\u001b[0;34m\u001b[0m\u001b[0m\n\u001b[0m\u001b[1;32m   1390\u001b[0m \u001b[0;34m\u001b[0m\u001b[0m\n\u001b[1;32m   1391\u001b[0m         \u001b[0;31m# XXX\u001b[0m\u001b[0;34m\u001b[0m\u001b[0;34m\u001b[0m\u001b[0m\n",
      "\u001b[0;32mpandas/parser.pyx\u001b[0m in \u001b[0;36mpandas.parser.TextReader.__cinit__ (pandas/parser.c:4019)\u001b[0;34m()\u001b[0m\n",
      "\u001b[0;32mpandas/parser.pyx\u001b[0m in \u001b[0;36mpandas.parser.TextReader._setup_parser_source (pandas/parser.c:7967)\u001b[0;34m()\u001b[0m\n",
      "\u001b[0;31mIOError\u001b[0m: File ../data/rawdata/ACS/ACS_15_5YR_B01001_with_ann.csv does not exist"
     ]
    }
   ],
   "source": [
    "# Total pop + Female pop ratio + Elderly pop ratio\n",
    "df = pd.read_csv('../data/rawdata/ACS/ACS_15_5YR_B01001_with_ann.csv', header = None)\n",
    "new_header = df.iloc[1] #grab the first row for the header\n",
    "df = df[1:] #take the data less the header row\n",
    "df = df.rename(columns = new_header) #set the header row as the df header\n",
    "df = df[1:]\n",
    "\n",
    "df['pop'] = df['Estimate; Total:'].astype(float)\n",
    "df['female_r'] = df['Estimate; Female:'].astype(float) / df['Estimate; Total:'].astype(float)\n",
    "df['elderly_r'] = (df['Estimate; Male: - 70 to 74 years'].astype(float) + df['Estimate; Male: - 75 to 79 years'].astype(float) +\n",
    "                  df['Estimate; Male: - 80 to 84 years'].astype(float) + df['Estimate; Male: - 85 years and over'].astype(float) +\n",
    "                  df['Estimate; Female: - 70 to 74 years'].astype(float) + df['Estimate; Female: - 75 to 79 years'].astype(float) +\n",
    "                  df['Estimate; Female: - 80 to 84 years'].astype(float) + \n",
    "                   df['Estimate; Female: - 85 years and over'].astype(float)) / df['Estimate; Total:'].astype(float)\n",
    "\n",
    "df_female_elderly = df[[ 'Id2', 'pop', 'female_r', 'elderly_r']]\n",
    "print df_female_elderly.dtypes\n",
    "\n",
    "df_female_elderly['Id2'] = df_female_elderly['Id2'].astype(str)\n",
    "df_female_elderly.head(2)"
   ]
  },
  {
   "cell_type": "markdown",
   "metadata": {},
   "source": [
    "* Race"
   ]
  },
  {
   "cell_type": "code",
   "execution_count": 21,
   "metadata": {
    "collapsed": false
   },
   "outputs": [
    {
     "name": "stderr",
     "output_type": "stream",
     "text": [
      "/Users/bh1555/anaconda/lib/python2.7/site-packages/ipykernel/__main__.py:16: SettingWithCopyWarning: \n",
      "A value is trying to be set on a copy of a slice from a DataFrame.\n",
      "Try using .loc[row_indexer,col_indexer] = value instead\n",
      "\n",
      "See the caveats in the documentation: http://pandas.pydata.org/pandas-docs/stable/indexing.html#indexing-view-versus-copy\n"
     ]
    },
    {
     "data": {
      "text/html": [
       "<div>\n",
       "<table border=\"1\" class=\"dataframe\">\n",
       "  <thead>\n",
       "    <tr style=\"text-align: right;\">\n",
       "      <th></th>\n",
       "      <th>Id2</th>\n",
       "      <th>white_r</th>\n",
       "      <th>black_r</th>\n",
       "      <th>asian_r</th>\n",
       "    </tr>\n",
       "  </thead>\n",
       "  <tbody>\n",
       "    <tr>\n",
       "      <th>2</th>\n",
       "      <td>360010001001</td>\n",
       "      <td>0.307190</td>\n",
       "      <td>0.526144</td>\n",
       "      <td>0.015251</td>\n",
       "    </tr>\n",
       "    <tr>\n",
       "      <th>3</th>\n",
       "      <td>360010001002</td>\n",
       "      <td>0.204063</td>\n",
       "      <td>0.688827</td>\n",
       "      <td>0.031394</td>\n",
       "    </tr>\n",
       "  </tbody>\n",
       "</table>\n",
       "</div>"
      ],
      "text/plain": [
       "            Id2   white_r   black_r   asian_r\n",
       "2  360010001001  0.307190  0.526144  0.015251\n",
       "3  360010001002  0.204063  0.688827  0.031394"
      ]
     },
     "execution_count": 21,
     "metadata": {},
     "output_type": "execute_result"
    }
   ],
   "source": [
    "# Race\n",
    "df = pd.read_csv('../data/rawdata/ACS/ACS_15_5YR_B02001_with_ann.csv', header = None)\n",
    "new_header = df.iloc[1] #grab the first row for the header\n",
    "df = df[1:] #take the data less the header row\n",
    "df = df.rename(columns = new_header) #set the header row as the df header\n",
    "df = df[1:]\n",
    "\n",
    "df = df[['Id', 'Id2', 'Estimate; Total:', 'Estimate; Total: - White alone', 'Estimate; Total: - Black or African American alone', \n",
    "         'Estimate; Total: - Asian alone']]\n",
    "\n",
    "df['white_r'] = df['Estimate; Total: - White alone'].astype(float) / df['Estimate; Total:'].astype(float)\n",
    "df['black_r'] = df['Estimate; Total: - Black or African American alone'].astype(float) / df['Estimate; Total:'].astype(float)\n",
    "df['asian_r'] = df['Estimate; Total: - Asian alone'].astype(float) / df['Estimate; Total:'].astype(float)\n",
    "\n",
    "df_race = df[[ 'Id2', 'white_r', 'black_r', 'asian_r']]\n",
    "df_race['Id2'] = df_race['Id2'].astype(str)\n",
    "df_race.head(2)"
   ]
  },
  {
   "cell_type": "markdown",
   "metadata": {},
   "source": [
    "* The number of households\n",
    "* Households with children under 6"
   ]
  },
  {
   "cell_type": "code",
   "execution_count": 22,
   "metadata": {
    "collapsed": false
   },
   "outputs": [
    {
     "name": "stderr",
     "output_type": "stream",
     "text": [
      "/Users/bh1555/anaconda/lib/python2.7/site-packages/ipykernel/__main__.py:17: SettingWithCopyWarning: \n",
      "A value is trying to be set on a copy of a slice from a DataFrame.\n",
      "Try using .loc[row_indexer,col_indexer] = value instead\n",
      "\n",
      "See the caveats in the documentation: http://pandas.pydata.org/pandas-docs/stable/indexing.html#indexing-view-versus-copy\n"
     ]
    },
    {
     "data": {
      "text/html": [
       "<div>\n",
       "<table border=\"1\" class=\"dataframe\">\n",
       "  <thead>\n",
       "    <tr style=\"text-align: right;\">\n",
       "      <th></th>\n",
       "      <th>Id2</th>\n",
       "      <th>hh</th>\n",
       "      <th>hh_child_6_r</th>\n",
       "    </tr>\n",
       "  </thead>\n",
       "  <tbody>\n",
       "    <tr>\n",
       "      <th>2</th>\n",
       "      <td>360010001001</td>\n",
       "      <td>218.0</td>\n",
       "      <td>0.00000</td>\n",
       "    </tr>\n",
       "    <tr>\n",
       "      <th>3</th>\n",
       "      <td>360010001002</td>\n",
       "      <td>299.0</td>\n",
       "      <td>0.09699</td>\n",
       "    </tr>\n",
       "  </tbody>\n",
       "</table>\n",
       "</div>"
      ],
      "text/plain": [
       "            Id2     hh  hh_child_6_r\n",
       "2  360010001001  218.0       0.00000\n",
       "3  360010001002  299.0       0.09699"
      ]
     },
     "execution_count": 22,
     "metadata": {},
     "output_type": "execute_result"
    }
   ],
   "source": [
    "# Family with children under 6\n",
    "df = pd.read_csv('../data/rawdata/ACS/ACS_15_5YR_B09002_with_ann.csv', header = None)\n",
    "new_header = df.iloc[1] #grab the first row for the header\n",
    "df = df[1:] #take the data less the header row\n",
    "df = df.rename(columns = new_header) #set the header row as the df header\n",
    "df = df[1:]\n",
    "\n",
    "df = df[['Id', 'Id2', 'Estimate; Total:', 'Estimate; In married-couple families: - Under 3 years', \n",
    "         'Estimate; In married-couple families: - 3 and 4 years', 'Estimate; In married-couple families: - 5 years']]\n",
    "\n",
    "df['hh'] = df['Estimate; Total:'].astype(float)\n",
    "df['hh_child_6_r'] = (df['Estimate; In married-couple families: - Under 3 years'].astype(float) + \n",
    "                      df['Estimate; In married-couple families: - 3 and 4 years'].astype(float) + \n",
    "                      df['Estimate; In married-couple families: - 5 years'].astype(float)) / df['Estimate; Total:'].astype(float)\n",
    "\n",
    "df_child = df[[ 'Id2', 'hh', 'hh_child_6_r']]\n",
    "df_child['Id2'] = df_child['Id2'].astype(str)\n",
    "df_child.head(2)"
   ]
  },
  {
   "cell_type": "markdown",
   "metadata": {},
   "source": [
    "* Percentage of Households living alone"
   ]
  },
  {
   "cell_type": "code",
   "execution_count": 23,
   "metadata": {
    "collapsed": false
   },
   "outputs": [
    {
     "name": "stderr",
     "output_type": "stream",
     "text": [
      "/Users/bh1555/anaconda/lib/python2.7/site-packages/ipykernel/__main__.py:12: SettingWithCopyWarning: \n",
      "A value is trying to be set on a copy of a slice from a DataFrame.\n",
      "Try using .loc[row_indexer,col_indexer] = value instead\n",
      "\n",
      "See the caveats in the documentation: http://pandas.pydata.org/pandas-docs/stable/indexing.html#indexing-view-versus-copy\n"
     ]
    },
    {
     "data": {
      "text/html": [
       "<div>\n",
       "<table border=\"1\" class=\"dataframe\">\n",
       "  <thead>\n",
       "    <tr style=\"text-align: right;\">\n",
       "      <th></th>\n",
       "      <th>Id2</th>\n",
       "      <th>hh_living_alone_r</th>\n",
       "    </tr>\n",
       "  </thead>\n",
       "  <tbody>\n",
       "    <tr>\n",
       "      <th>2</th>\n",
       "      <td>360010001001</td>\n",
       "      <td>0.394022</td>\n",
       "    </tr>\n",
       "    <tr>\n",
       "      <th>3</th>\n",
       "      <td>360010001002</td>\n",
       "      <td>0.348993</td>\n",
       "    </tr>\n",
       "  </tbody>\n",
       "</table>\n",
       "</div>"
      ],
      "text/plain": [
       "            Id2  hh_living_alone_r\n",
       "2  360010001001           0.394022\n",
       "3  360010001002           0.348993"
      ]
     },
     "execution_count": 23,
     "metadata": {},
     "output_type": "execute_result"
    }
   ],
   "source": [
    "# Households livng alone\n",
    "df = pd.read_csv('../data/rawdata/ACS/ACS_15_5YR_B11001_with_ann.csv', header = None)\n",
    "new_header = df.iloc[1] #grab the first row for the header\n",
    "df = df[1:] #take the data less the header row\n",
    "df = df.rename(columns = new_header) #set the header row as the df header\n",
    "df = df[1:]\n",
    "\n",
    "df = df[['Id', 'Id2', 'Estimate; Total:', 'Estimate; Nonfamily households: - Householder living alone']]\n",
    "df['hh_living_alone_r'] = df['Estimate; Nonfamily households: - Householder living alone'].astype(float) / df['Estimate; Total:'].astype(float)\n",
    "\n",
    "df_living_alone = df[[ 'Id2', 'hh_living_alone_r']]\n",
    "df_living_alone['Id2'] = df_living_alone['Id2'].astype(str)\n",
    "df_living_alone.head(2)"
   ]
  },
  {
   "cell_type": "markdown",
   "metadata": {},
   "source": [
    "* Education attainment (Percentage of people attained at leat Bachelor's degree)"
   ]
  },
  {
   "cell_type": "code",
   "execution_count": 24,
   "metadata": {
    "collapsed": false
   },
   "outputs": [
    {
     "name": "stderr",
     "output_type": "stream",
     "text": [
      "/Users/bh1555/anaconda/lib/python2.7/site-packages/ipykernel/__main__.py:16: SettingWithCopyWarning: \n",
      "A value is trying to be set on a copy of a slice from a DataFrame.\n",
      "Try using .loc[row_indexer,col_indexer] = value instead\n",
      "\n",
      "See the caveats in the documentation: http://pandas.pydata.org/pandas-docs/stable/indexing.html#indexing-view-versus-copy\n"
     ]
    },
    {
     "data": {
      "text/html": [
       "<div>\n",
       "<table border=\"1\" class=\"dataframe\">\n",
       "  <thead>\n",
       "    <tr style=\"text-align: right;\">\n",
       "      <th></th>\n",
       "      <th>Id2</th>\n",
       "      <th>edu_high_r</th>\n",
       "    </tr>\n",
       "  </thead>\n",
       "  <tbody>\n",
       "    <tr>\n",
       "      <th>2</th>\n",
       "      <td>360010001001</td>\n",
       "      <td>0.163851</td>\n",
       "    </tr>\n",
       "    <tr>\n",
       "      <th>3</th>\n",
       "      <td>360010001002</td>\n",
       "      <td>0.102686</td>\n",
       "    </tr>\n",
       "  </tbody>\n",
       "</table>\n",
       "</div>"
      ],
      "text/plain": [
       "            Id2  edu_high_r\n",
       "2  360010001001    0.163851\n",
       "3  360010001002    0.102686"
      ]
     },
     "execution_count": 24,
     "metadata": {},
     "output_type": "execute_result"
    }
   ],
   "source": [
    "# Education attainment\n",
    "df = pd.read_csv('../data/rawdata/ACS/ACS_15_5YR_B15003_with_ann.csv', header = None)\n",
    "new_header = df.iloc[1] #grab the first row for the header\n",
    "df = df[1:] #take the data less the header row\n",
    "df = df.rename(columns = new_header) #set the header row as the df header\n",
    "df = df[1:]\n",
    "\n",
    "df = df[[\"Id\", \"Id2\", \"Estimate; Total:\", \"Estimate; Total: - Bachelor's degree\", \"Estimate; Total: - Master's degree\", \n",
    "        \"Estimate; Total: - Professional school degree\", \"Estimate; Total: - Doctorate degree\"]]\n",
    "\n",
    "df['edu_high_r'] = (df[\"Estimate; Total: - Bachelor's degree\"].astype(float) +\n",
    "                    df[\"Estimate; Total: - Master's degree\"].astype(float) + \n",
    "                    df[\"Estimate; Total: - Professional school degree\"].astype(float)) / df['Estimate; Total:'].astype(float)\n",
    "\n",
    "df_edu = df[[ 'Id2', 'edu_high_r']]\n",
    "df_edu['Id2'] = df_edu['Id2'].astype(str)\n",
    "df_edu.head(2)"
   ]
  },
  {
   "cell_type": "markdown",
   "metadata": {},
   "source": [
    "* Language barrier (percentage of people who limited speak in English)"
   ]
  },
  {
   "cell_type": "code",
   "execution_count": 25,
   "metadata": {
    "collapsed": false
   },
   "outputs": [
    {
     "name": "stderr",
     "output_type": "stream",
     "text": [
      "/Users/bh1555/anaconda/lib/python2.7/site-packages/ipykernel/__main__.py:19: SettingWithCopyWarning: \n",
      "A value is trying to be set on a copy of a slice from a DataFrame.\n",
      "Try using .loc[row_indexer,col_indexer] = value instead\n",
      "\n",
      "See the caveats in the documentation: http://pandas.pydata.org/pandas-docs/stable/indexing.html#indexing-view-versus-copy\n"
     ]
    },
    {
     "data": {
      "text/html": [
       "<div>\n",
       "<table border=\"1\" class=\"dataframe\">\n",
       "  <thead>\n",
       "    <tr style=\"text-align: right;\">\n",
       "      <th></th>\n",
       "      <th>Id2</th>\n",
       "      <th>non_eng_r</th>\n",
       "    </tr>\n",
       "  </thead>\n",
       "  <tbody>\n",
       "    <tr>\n",
       "      <th>2</th>\n",
       "      <td>360010001001</td>\n",
       "      <td>0.067935</td>\n",
       "    </tr>\n",
       "    <tr>\n",
       "      <th>3</th>\n",
       "      <td>360010001002</td>\n",
       "      <td>0.000000</td>\n",
       "    </tr>\n",
       "  </tbody>\n",
       "</table>\n",
       "</div>"
      ],
      "text/plain": [
       "            Id2  non_eng_r\n",
       "2  360010001001   0.067935\n",
       "3  360010001002   0.000000"
      ]
     },
     "execution_count": 25,
     "metadata": {},
     "output_type": "execute_result"
    }
   ],
   "source": [
    "# Language barrier\n",
    "df = pd.read_csv('../data/rawdata/ACS/ACS_15_5YR_B16002_with_ann.csv', header = None)\n",
    "new_header = df.iloc[1] #grab the first row for the header\n",
    "df = df[1:] #take the data less the header row\n",
    "df = df.rename(columns = new_header) #set the header row as the df header\n",
    "df = df[1:]\n",
    "\n",
    "df = df[['Id', 'Id2', 'Estimate; Total:', 'Estimate; Total: - Spanish: - Limited English speaking household', \n",
    "        'Estimate; Total: - Other Indo-European languages: - Limited English speaking household', \n",
    "        'Estimate; Total: - Asian and Pacific Island languages: - Limited English speaking household', \n",
    "        'Estimate; Total: - Other languages: - Limited English speaking household']]\n",
    "\n",
    "df['non_eng_r'] = (df['Estimate; Total: - Spanish: - Limited English speaking household'].astype(float) +\n",
    "                  df['Estimate; Total: - Other Indo-European languages: - Limited English speaking household'].astype(float) +\n",
    "                  df['Estimate; Total: - Asian and Pacific Island languages: - Limited English speaking household'].astype(float) +\n",
    "                  df['Estimate; Total: - Other languages: - Limited English speaking household'].astype(float)) / df['Estimate; Total:'].astype(float)\n",
    "\n",
    "df_eng = df[[ 'Id2', 'non_eng_r']]\n",
    "df_eng['Id2'] = df_eng['Id2'].astype(str)\n",
    "df_eng.head(2)"
   ]
  },
  {
   "cell_type": "markdown",
   "metadata": {},
   "source": [
    "* Median household income"
   ]
  },
  {
   "cell_type": "code",
   "execution_count": 26,
   "metadata": {
    "collapsed": false
   },
   "outputs": [
    {
     "name": "stderr",
     "output_type": "stream",
     "text": [
      "/Users/bh1555/anaconda/lib/python2.7/site-packages/ipykernel/__main__.py:12: SettingWithCopyWarning: \n",
      "A value is trying to be set on a copy of a slice from a DataFrame.\n",
      "Try using .loc[row_indexer,col_indexer] = value instead\n",
      "\n",
      "See the caveats in the documentation: http://pandas.pydata.org/pandas-docs/stable/indexing.html#indexing-view-versus-copy\n"
     ]
    },
    {
     "data": {
      "text/html": [
       "<div>\n",
       "<table border=\"1\" class=\"dataframe\">\n",
       "  <thead>\n",
       "    <tr style=\"text-align: right;\">\n",
       "      <th></th>\n",
       "      <th>Id2</th>\n",
       "      <th>med_income</th>\n",
       "    </tr>\n",
       "  </thead>\n",
       "  <tbody>\n",
       "    <tr>\n",
       "      <th>2</th>\n",
       "      <td>360010001001</td>\n",
       "      <td>36250.0</td>\n",
       "    </tr>\n",
       "    <tr>\n",
       "      <th>3</th>\n",
       "      <td>360010001002</td>\n",
       "      <td>21065.0</td>\n",
       "    </tr>\n",
       "  </tbody>\n",
       "</table>\n",
       "</div>"
      ],
      "text/plain": [
       "            Id2  med_income\n",
       "2  360010001001     36250.0\n",
       "3  360010001002     21065.0"
      ]
     },
     "execution_count": 26,
     "metadata": {},
     "output_type": "execute_result"
    }
   ],
   "source": [
    "# Median income\n",
    "df = pd.read_csv('../data/rawdata/ACS/ACS_15_5YR_B19013_with_ann.csv', header = None)\n",
    "new_header = df.iloc[1] #grab the first row for the header\n",
    "df = df[1:] #take the data less the header row\n",
    "df = df.rename(columns = new_header) #set the header row as the df header\n",
    "df = df[1:]\n",
    "\n",
    "df = df.replace(['-', '250,000+', '2,500-'], ['0', '255555', '2499'])\n",
    "df['med_income'] = df[\"Estimate; Median household income in the past 12 months (in 2015 Inflation-adjusted dollars)\"].astype(float)\n",
    "\n",
    "df_income = df[[ 'Id2', 'med_income']]\n",
    "df_income['Id2'] = df_income['Id2'].astype(str)\n",
    "df_income.head(2)"
   ]
  },
  {
   "cell_type": "markdown",
   "metadata": {},
   "source": [
    "* Unemployment rate"
   ]
  },
  {
   "cell_type": "code",
   "execution_count": 27,
   "metadata": {
    "collapsed": false
   },
   "outputs": [
    {
     "name": "stderr",
     "output_type": "stream",
     "text": [
      "/Users/bh1555/anaconda/lib/python2.7/site-packages/ipykernel/__main__.py:12: SettingWithCopyWarning: \n",
      "A value is trying to be set on a copy of a slice from a DataFrame.\n",
      "Try using .loc[row_indexer,col_indexer] = value instead\n",
      "\n",
      "See the caveats in the documentation: http://pandas.pydata.org/pandas-docs/stable/indexing.html#indexing-view-versus-copy\n"
     ]
    },
    {
     "data": {
      "text/html": [
       "<div>\n",
       "<table border=\"1\" class=\"dataframe\">\n",
       "  <thead>\n",
       "    <tr style=\"text-align: right;\">\n",
       "      <th></th>\n",
       "      <th>Id2</th>\n",
       "      <th>unemployed_r</th>\n",
       "    </tr>\n",
       "  </thead>\n",
       "  <tbody>\n",
       "    <tr>\n",
       "      <th>2</th>\n",
       "      <td>360010001001</td>\n",
       "      <td>0.146730</td>\n",
       "    </tr>\n",
       "    <tr>\n",
       "      <th>3</th>\n",
       "      <td>360010001002</td>\n",
       "      <td>0.089664</td>\n",
       "    </tr>\n",
       "  </tbody>\n",
       "</table>\n",
       "</div>"
      ],
      "text/plain": [
       "            Id2  unemployed_r\n",
       "2  360010001001      0.146730\n",
       "3  360010001002      0.089664"
      ]
     },
     "execution_count": 27,
     "metadata": {},
     "output_type": "execute_result"
    }
   ],
   "source": [
    "# Employment status\n",
    "df = pd.read_csv('../data/rawdata/ACS/ACS_15_5YR_B23025_with_ann.csv', header = None)\n",
    "new_header = df.iloc[1] #grab the first row for the header\n",
    "df = df[1:] #take the data less the header row\n",
    "df = df.rename(columns = new_header) #set the header row as the df header\n",
    "df = df[1:]\n",
    "\n",
    "df = df[['Id', 'Id2', 'Estimate; Total:', 'Estimate; In labor force: - Civilian labor force: - Unemployed']]\n",
    "df['unemployed_r'] = df['Estimate; In labor force: - Civilian labor force: - Unemployed'].astype(float) / df['Estimate; Total:'].astype(float)\n",
    "\n",
    "df_unemployed = df[[ 'Id2', 'unemployed_r']]\n",
    "df_unemployed['Id2'] = df_unemployed['Id2'].astype(str)\n",
    "df_unemployed.head(2)"
   ]
  },
  {
   "cell_type": "markdown",
   "metadata": {},
   "source": [
    "* Vacancy rate"
   ]
  },
  {
   "cell_type": "code",
   "execution_count": 28,
   "metadata": {
    "collapsed": false
   },
   "outputs": [
    {
     "name": "stderr",
     "output_type": "stream",
     "text": [
      "/Users/bh1555/anaconda/lib/python2.7/site-packages/ipykernel/__main__.py:12: SettingWithCopyWarning: \n",
      "A value is trying to be set on a copy of a slice from a DataFrame.\n",
      "Try using .loc[row_indexer,col_indexer] = value instead\n",
      "\n",
      "See the caveats in the documentation: http://pandas.pydata.org/pandas-docs/stable/indexing.html#indexing-view-versus-copy\n"
     ]
    },
    {
     "data": {
      "text/html": [
       "<div>\n",
       "<table border=\"1\" class=\"dataframe\">\n",
       "  <thead>\n",
       "    <tr style=\"text-align: right;\">\n",
       "      <th></th>\n",
       "      <th>Id2</th>\n",
       "      <th>vacancy_r</th>\n",
       "    </tr>\n",
       "  </thead>\n",
       "  <tbody>\n",
       "    <tr>\n",
       "      <th>2</th>\n",
       "      <td>360010001001</td>\n",
       "      <td>0.150115</td>\n",
       "    </tr>\n",
       "    <tr>\n",
       "      <th>3</th>\n",
       "      <td>360010001002</td>\n",
       "      <td>0.140385</td>\n",
       "    </tr>\n",
       "  </tbody>\n",
       "</table>\n",
       "</div>"
      ],
      "text/plain": [
       "            Id2  vacancy_r\n",
       "2  360010001001   0.150115\n",
       "3  360010001002   0.140385"
      ]
     },
     "execution_count": 28,
     "metadata": {},
     "output_type": "execute_result"
    }
   ],
   "source": [
    "# Vacancy\n",
    "df = pd.read_csv('../data/rawdata/ACS/ACS_15_5YR_B25002_with_ann.csv', header = None)\n",
    "new_header = df.iloc[1] #grab the first row for the header\n",
    "df = df[1:] #take the data less the header row\n",
    "df = df.rename(columns = new_header) #set the header row as the df header\n",
    "df = df[1:]\n",
    "\n",
    "df = df[['Id', 'Id2', 'Estimate; Total:', 'Estimate; Total: - Vacant']]\n",
    "df['vacancy_r'] = df['Estimate; Total: - Vacant'].astype(float) / df['Estimate; Total:'].astype(float)\n",
    "\n",
    "df_vacancy = df[['Id2', 'vacancy_r']]\n",
    "df_vacancy['Id2'] = df_vacancy['Id2'].astype(str)\n",
    "df_vacancy.head(2)"
   ]
  },
  {
   "cell_type": "markdown",
   "metadata": {},
   "source": [
    "* Median rent"
   ]
  },
  {
   "cell_type": "code",
   "execution_count": 29,
   "metadata": {
    "collapsed": false
   },
   "outputs": [
    {
     "name": "stderr",
     "output_type": "stream",
     "text": [
      "/Users/bh1555/anaconda/lib/python2.7/site-packages/ipykernel/__main__.py:14: SettingWithCopyWarning: \n",
      "A value is trying to be set on a copy of a slice from a DataFrame.\n",
      "Try using .loc[row_indexer,col_indexer] = value instead\n",
      "\n",
      "See the caveats in the documentation: http://pandas.pydata.org/pandas-docs/stable/indexing.html#indexing-view-versus-copy\n"
     ]
    },
    {
     "data": {
      "text/html": [
       "<div>\n",
       "<table border=\"1\" class=\"dataframe\">\n",
       "  <thead>\n",
       "    <tr style=\"text-align: right;\">\n",
       "      <th></th>\n",
       "      <th>Id2</th>\n",
       "      <th>med_rent</th>\n",
       "    </tr>\n",
       "  </thead>\n",
       "  <tbody>\n",
       "    <tr>\n",
       "      <th>2</th>\n",
       "      <td>360010001001</td>\n",
       "      <td>658.0</td>\n",
       "    </tr>\n",
       "    <tr>\n",
       "      <th>3</th>\n",
       "      <td>360010001002</td>\n",
       "      <td>624.0</td>\n",
       "    </tr>\n",
       "  </tbody>\n",
       "</table>\n",
       "</div>"
      ],
      "text/plain": [
       "            Id2  med_rent\n",
       "2  360010001001     658.0\n",
       "3  360010001002     624.0"
      ]
     },
     "execution_count": 29,
     "metadata": {},
     "output_type": "execute_result"
    }
   ],
   "source": [
    "# Median rent\n",
    "df = pd.read_csv('../data/rawdata/ACS/ACS_15_5YR_B25058_with_ann.csv', header = None)\n",
    "new_header = df.iloc[1] #grab the first row for the header\n",
    "df = df[1:] #take the data less the header row\n",
    "df = df.rename(columns = new_header) #set the header row as the df header\n",
    "df = df[1:]\n",
    "\n",
    "df = df.replace(['-'], ['0'])\n",
    "df = df.replace(['3,500+'], ['3600'])\n",
    "df = df.replace(['100-'], ['90'])\n",
    "df['med_rent'] = df['Estimate; Median contract rent'].astype(float)\n",
    "\n",
    "df_medrent = df[['Id2', 'med_rent']]\n",
    "df_medrent['Id2'] = df_medrent['Id2'].astype(str)\n",
    "\n",
    "df_medrent.head(2)"
   ]
  },
  {
   "cell_type": "markdown",
   "metadata": {},
   "source": [
    "* Marital status"
   ]
  },
  {
   "cell_type": "code",
   "execution_count": 30,
   "metadata": {
    "collapsed": false
   },
   "outputs": [
    {
     "name": "stderr",
     "output_type": "stream",
     "text": [
      "/Users/bh1555/anaconda/lib/python2.7/site-packages/ipykernel/__main__.py:12: SettingWithCopyWarning: \n",
      "A value is trying to be set on a copy of a slice from a DataFrame.\n",
      "Try using .loc[row_indexer,col_indexer] = value instead\n",
      "\n",
      "See the caveats in the documentation: http://pandas.pydata.org/pandas-docs/stable/indexing.html#indexing-view-versus-copy\n"
     ]
    },
    {
     "data": {
      "text/html": [
       "<div>\n",
       "<table border=\"1\" class=\"dataframe\">\n",
       "  <thead>\n",
       "    <tr style=\"text-align: right;\">\n",
       "      <th></th>\n",
       "      <th>Id2</th>\n",
       "      <th>merried_r</th>\n",
       "    </tr>\n",
       "  </thead>\n",
       "  <tbody>\n",
       "    <tr>\n",
       "      <th>2</th>\n",
       "      <td>360010001001</td>\n",
       "      <td>0.272727</td>\n",
       "    </tr>\n",
       "    <tr>\n",
       "      <th>3</th>\n",
       "      <td>360010001002</td>\n",
       "      <td>0.289100</td>\n",
       "    </tr>\n",
       "  </tbody>\n",
       "</table>\n",
       "</div>"
      ],
      "text/plain": [
       "            Id2  merried_r\n",
       "2  360010001001   0.272727\n",
       "3  360010001002   0.289100"
      ]
     },
     "execution_count": 30,
     "metadata": {},
     "output_type": "execute_result"
    }
   ],
   "source": [
    "# Marital status\n",
    "df = pd.read_csv('../data/rawdata/ACS/ACS_15_5YR_B12001_with_ann.csv', header = None)\n",
    "new_header = df.iloc[1] #grab the first row for the header\n",
    "df = df[1:] #take the data less the header row\n",
    "df = df.rename(columns = new_header) #set the header row as the df header\n",
    "df = df[1:]\n",
    "\n",
    "df['merried_r'] = (df['Estimate; Male: - Now married:'].astype(float) \n",
    "                   + df['Estimate; Female: - Now married:'].astype(float)) / df['Estimate; Total:'].astype(float)\n",
    "\n",
    "df_marital = df[['Id2', 'merried_r']]\n",
    "df_marital['Id2'] = df_marital['Id2'].astype(str)\n",
    "\n",
    "df_marital.head(2)"
   ]
  },
  {
   "cell_type": "markdown",
   "metadata": {},
   "source": [
    "* Percentage of employees whose travel time to work is over 40 minutes"
   ]
  },
  {
   "cell_type": "code",
   "execution_count": 31,
   "metadata": {
    "collapsed": false
   },
   "outputs": [
    {
     "name": "stderr",
     "output_type": "stream",
     "text": [
      "/Users/bh1555/anaconda/lib/python2.7/site-packages/ipykernel/__main__.py:13: SettingWithCopyWarning: \n",
      "A value is trying to be set on a copy of a slice from a DataFrame.\n",
      "Try using .loc[row_indexer,col_indexer] = value instead\n",
      "\n",
      "See the caveats in the documentation: http://pandas.pydata.org/pandas-docs/stable/indexing.html#indexing-view-versus-copy\n"
     ]
    },
    {
     "data": {
      "text/html": [
       "<div>\n",
       "<table border=\"1\" class=\"dataframe\">\n",
       "  <thead>\n",
       "    <tr style=\"text-align: right;\">\n",
       "      <th></th>\n",
       "      <th>Id2</th>\n",
       "      <th>longercommute_r</th>\n",
       "    </tr>\n",
       "  </thead>\n",
       "  <tbody>\n",
       "    <tr>\n",
       "      <th>2</th>\n",
       "      <td>360010001001</td>\n",
       "      <td>0.174061</td>\n",
       "    </tr>\n",
       "    <tr>\n",
       "      <th>3</th>\n",
       "      <td>360010001002</td>\n",
       "      <td>0.056047</td>\n",
       "    </tr>\n",
       "  </tbody>\n",
       "</table>\n",
       "</div>"
      ],
      "text/plain": [
       "            Id2  longercommute_r\n",
       "2  360010001001         0.174061\n",
       "3  360010001002         0.056047"
      ]
     },
     "execution_count": 31,
     "metadata": {},
     "output_type": "execute_result"
    }
   ],
   "source": [
    "# Longer time commuters\n",
    "df = pd.read_csv('../data/rawdata/ACS/ACS_15_5YR_B08303_with_ann.csv', header = None)\n",
    "new_header = df.iloc[1] #grab the first row for the header\n",
    "df = df[1:] #take the data less the header row\n",
    "df = df.rename(columns = new_header) #set the header row as the df header\n",
    "df = df[1:]\n",
    "\n",
    "df['longercommute_r'] = (df['Estimate; Total: - 40 to 44 minutes'].astype(float) + \n",
    "                         df['Estimate; Total: - 45 to 59 minutes'].astype(float) +\n",
    "                         df['Estimate; Total: - 60 to 89 minutes'].astype(float) +\n",
    "                         df['Estimate; Total: - 90 or more minutes'].astype(float)) / df['Estimate; Total:'].astype(float)\n",
    "df_commute = df[['Id2', 'longercommute_r']]\n",
    "df_commute['Id2'] = df_marital['Id2'].astype(str)\n",
    "\n",
    "df_commute.head(2)"
   ]
  },
  {
   "cell_type": "markdown",
   "metadata": {},
   "source": [
    "### Join all data at CBG level"
   ]
  },
  {
   "cell_type": "code",
   "execution_count": 32,
   "metadata": {
    "collapsed": true
   },
   "outputs": [],
   "source": [
    "#cbg_acs = pd.merge(cbg_nyc, df_female_elderly, how='left', on='Id2')\n",
    "cbg_acs = pd.merge(df_female_elderly, df_race, how='left', on='Id2')\n",
    "cbg_acs = pd.merge(cbg_acs, df_child, how='left', on='Id2')\n",
    "cbg_acs = pd.merge(cbg_acs, df_living_alone, how='left', on='Id2')\n",
    "cbg_acs = pd.merge(cbg_acs, df_edu, how='left', on='Id2')\n",
    "cbg_acs = pd.merge(cbg_acs, df_eng, how='left', on='Id2')\n",
    "cbg_acs = pd.merge(cbg_acs, df_unemployed, how='left', on='Id2')\n",
    "cbg_acs = pd.merge(cbg_acs, df_vacancy, how='left', on='Id2')\n",
    "cbg_acs = pd.merge(cbg_acs, df_medrent, how='left', on='Id2')\n",
    "cbg_acs = pd.merge(cbg_acs, df_income, how='left', on='Id2')\n",
    "cbg_acs = pd.merge(cbg_acs, df_marital, how='left', on='Id2')\n",
    "cbg_acs = pd.merge(cbg_acs, df_commute, how='left', on='Id2')"
   ]
  },
  {
   "cell_type": "code",
   "execution_count": 33,
   "metadata": {
    "collapsed": false
   },
   "outputs": [
    {
     "data": {
      "text/html": [
       "<div>\n",
       "<table border=\"1\" class=\"dataframe\">\n",
       "  <thead>\n",
       "    <tr style=\"text-align: right;\">\n",
       "      <th></th>\n",
       "      <th>Id2</th>\n",
       "      <th>pop</th>\n",
       "      <th>female_r</th>\n",
       "      <th>elderly_r</th>\n",
       "      <th>white_r</th>\n",
       "      <th>black_r</th>\n",
       "      <th>asian_r</th>\n",
       "      <th>hh</th>\n",
       "      <th>hh_child_6_r</th>\n",
       "      <th>hh_living_alone_r</th>\n",
       "      <th>edu_high_r</th>\n",
       "      <th>non_eng_r</th>\n",
       "      <th>unemployed_r</th>\n",
       "      <th>vacancy_r</th>\n",
       "      <th>med_rent</th>\n",
       "      <th>med_income</th>\n",
       "      <th>merried_r</th>\n",
       "      <th>longercommute_r</th>\n",
       "      <th>year</th>\n",
       "    </tr>\n",
       "  </thead>\n",
       "  <tbody>\n",
       "    <tr>\n",
       "      <th>0</th>\n",
       "      <td>360010001001</td>\n",
       "      <td>918.0</td>\n",
       "      <td>0.558824</td>\n",
       "      <td>0.078431</td>\n",
       "      <td>0.307190</td>\n",
       "      <td>0.526144</td>\n",
       "      <td>0.015251</td>\n",
       "      <td>218.0</td>\n",
       "      <td>0.00000</td>\n",
       "      <td>0.394022</td>\n",
       "      <td>0.163851</td>\n",
       "      <td>0.067935</td>\n",
       "      <td>0.146730</td>\n",
       "      <td>0.150115</td>\n",
       "      <td>658.0</td>\n",
       "      <td>36250.0</td>\n",
       "      <td>0.272727</td>\n",
       "      <td>0.174061</td>\n",
       "      <td>2015</td>\n",
       "    </tr>\n",
       "    <tr>\n",
       "      <th>1</th>\n",
       "      <td>360010001002</td>\n",
       "      <td>1083.0</td>\n",
       "      <td>0.572484</td>\n",
       "      <td>0.062789</td>\n",
       "      <td>0.204063</td>\n",
       "      <td>0.688827</td>\n",
       "      <td>0.031394</td>\n",
       "      <td>299.0</td>\n",
       "      <td>0.09699</td>\n",
       "      <td>0.348993</td>\n",
       "      <td>0.102686</td>\n",
       "      <td>0.000000</td>\n",
       "      <td>0.089664</td>\n",
       "      <td>0.140385</td>\n",
       "      <td>624.0</td>\n",
       "      <td>21065.0</td>\n",
       "      <td>0.289100</td>\n",
       "      <td>0.056047</td>\n",
       "      <td>2015</td>\n",
       "    </tr>\n",
       "  </tbody>\n",
       "</table>\n",
       "</div>"
      ],
      "text/plain": [
       "            Id2     pop  female_r  elderly_r   white_r   black_r   asian_r  \\\n",
       "0  360010001001   918.0  0.558824   0.078431  0.307190  0.526144  0.015251   \n",
       "1  360010001002  1083.0  0.572484   0.062789  0.204063  0.688827  0.031394   \n",
       "\n",
       "      hh  hh_child_6_r  hh_living_alone_r  edu_high_r  non_eng_r  \\\n",
       "0  218.0       0.00000           0.394022    0.163851   0.067935   \n",
       "1  299.0       0.09699           0.348993    0.102686   0.000000   \n",
       "\n",
       "   unemployed_r  vacancy_r  med_rent  med_income  merried_r  longercommute_r  \\\n",
       "0      0.146730   0.150115     658.0     36250.0   0.272727         0.174061   \n",
       "1      0.089664   0.140385     624.0     21065.0   0.289100         0.056047   \n",
       "\n",
       "   year  \n",
       "0  2015  \n",
       "1  2015  "
      ]
     },
     "execution_count": 33,
     "metadata": {},
     "output_type": "execute_result"
    }
   ],
   "source": [
    "cbg_acs['year'] = 2015\n",
    "cbg_acs.head(2)"
   ]
  },
  {
   "cell_type": "code",
   "execution_count": 34,
   "metadata": {
    "collapsed": true
   },
   "outputs": [],
   "source": [
    "cbg_acs.to_csv('../data/output/00VAR_Demographic_ACS_CBG_2015.csv')"
   ]
  },
  {
   "cell_type": "markdown",
   "metadata": {},
   "source": [
    "## 2014-5-Year estimate data\n",
    "* Census Block Group level"
   ]
  },
  {
   "cell_type": "code",
   "execution_count": 35,
   "metadata": {
    "collapsed": false
   },
   "outputs": [
    {
     "name": "stderr",
     "output_type": "stream",
     "text": [
      "/Users/bh1555/anaconda/lib/python2.7/site-packages/ipykernel/__main__.py:18: SettingWithCopyWarning: \n",
      "A value is trying to be set on a copy of a slice from a DataFrame.\n",
      "Try using .loc[row_indexer,col_indexer] = value instead\n",
      "\n",
      "See the caveats in the documentation: http://pandas.pydata.org/pandas-docs/stable/indexing.html#indexing-view-versus-copy\n",
      "/Users/bh1555/anaconda/lib/python2.7/site-packages/ipykernel/__main__.py:40: SettingWithCopyWarning: \n",
      "A value is trying to be set on a copy of a slice from a DataFrame.\n",
      "Try using .loc[row_indexer,col_indexer] = value instead\n",
      "\n",
      "See the caveats in the documentation: http://pandas.pydata.org/pandas-docs/stable/indexing.html#indexing-view-versus-copy\n",
      "/Users/bh1555/anaconda/lib/python2.7/site-packages/ipykernel/__main__.py:63: SettingWithCopyWarning: \n",
      "A value is trying to be set on a copy of a slice from a DataFrame.\n",
      "Try using .loc[row_indexer,col_indexer] = value instead\n",
      "\n",
      "See the caveats in the documentation: http://pandas.pydata.org/pandas-docs/stable/indexing.html#indexing-view-versus-copy\n",
      "/Users/bh1555/anaconda/lib/python2.7/site-packages/ipykernel/__main__.py:80: SettingWithCopyWarning: \n",
      "A value is trying to be set on a copy of a slice from a DataFrame.\n",
      "Try using .loc[row_indexer,col_indexer] = value instead\n",
      "\n",
      "See the caveats in the documentation: http://pandas.pydata.org/pandas-docs/stable/indexing.html#indexing-view-versus-copy\n",
      "/Users/bh1555/anaconda/lib/python2.7/site-packages/ipykernel/__main__.py:102: SettingWithCopyWarning: \n",
      "A value is trying to be set on a copy of a slice from a DataFrame.\n",
      "Try using .loc[row_indexer,col_indexer] = value instead\n",
      "\n",
      "See the caveats in the documentation: http://pandas.pydata.org/pandas-docs/stable/indexing.html#indexing-view-versus-copy\n",
      "/Users/bh1555/anaconda/lib/python2.7/site-packages/ipykernel/__main__.py:126: SettingWithCopyWarning: \n",
      "A value is trying to be set on a copy of a slice from a DataFrame.\n",
      "Try using .loc[row_indexer,col_indexer] = value instead\n",
      "\n",
      "See the caveats in the documentation: http://pandas.pydata.org/pandas-docs/stable/indexing.html#indexing-view-versus-copy\n",
      "/Users/bh1555/anaconda/lib/python2.7/site-packages/ipykernel/__main__.py:145: SettingWithCopyWarning: \n",
      "A value is trying to be set on a copy of a slice from a DataFrame.\n",
      "Try using .loc[row_indexer,col_indexer] = value instead\n",
      "\n",
      "See the caveats in the documentation: http://pandas.pydata.org/pandas-docs/stable/indexing.html#indexing-view-versus-copy\n",
      "/Users/bh1555/anaconda/lib/python2.7/site-packages/ipykernel/__main__.py:164: SettingWithCopyWarning: \n",
      "A value is trying to be set on a copy of a slice from a DataFrame.\n",
      "Try using .loc[row_indexer,col_indexer] = value instead\n",
      "\n",
      "See the caveats in the documentation: http://pandas.pydata.org/pandas-docs/stable/indexing.html#indexing-view-versus-copy\n",
      "/Users/bh1555/anaconda/lib/python2.7/site-packages/ipykernel/__main__.py:182: SettingWithCopyWarning: \n",
      "A value is trying to be set on a copy of a slice from a DataFrame.\n",
      "Try using .loc[row_indexer,col_indexer] = value instead\n",
      "\n",
      "See the caveats in the documentation: http://pandas.pydata.org/pandas-docs/stable/indexing.html#indexing-view-versus-copy\n",
      "/Users/bh1555/anaconda/lib/python2.7/site-packages/ipykernel/__main__.py:203: SettingWithCopyWarning: \n",
      "A value is trying to be set on a copy of a slice from a DataFrame.\n",
      "Try using .loc[row_indexer,col_indexer] = value instead\n",
      "\n",
      "See the caveats in the documentation: http://pandas.pydata.org/pandas-docs/stable/indexing.html#indexing-view-versus-copy\n",
      "/Users/bh1555/anaconda/lib/python2.7/site-packages/ipykernel/__main__.py:222: SettingWithCopyWarning: \n",
      "A value is trying to be set on a copy of a slice from a DataFrame.\n",
      "Try using .loc[row_indexer,col_indexer] = value instead\n",
      "\n",
      "See the caveats in the documentation: http://pandas.pydata.org/pandas-docs/stable/indexing.html#indexing-view-versus-copy\n",
      "/Users/bh1555/anaconda/lib/python2.7/site-packages/ipykernel/__main__.py:243: SettingWithCopyWarning: \n",
      "A value is trying to be set on a copy of a slice from a DataFrame.\n",
      "Try using .loc[row_indexer,col_indexer] = value instead\n",
      "\n",
      "See the caveats in the documentation: http://pandas.pydata.org/pandas-docs/stable/indexing.html#indexing-view-versus-copy\n"
     ]
    },
    {
     "data": {
      "text/html": [
       "<div>\n",
       "<table border=\"1\" class=\"dataframe\">\n",
       "  <thead>\n",
       "    <tr style=\"text-align: right;\">\n",
       "      <th></th>\n",
       "      <th>Id2</th>\n",
       "      <th>pop</th>\n",
       "      <th>female_r</th>\n",
       "      <th>elderly_r</th>\n",
       "      <th>white_r</th>\n",
       "      <th>black_r</th>\n",
       "      <th>asian_r</th>\n",
       "      <th>hh</th>\n",
       "      <th>hh_child_6_r</th>\n",
       "      <th>hh_living_alone_r</th>\n",
       "      <th>edu_high_r</th>\n",
       "      <th>non_eng_r</th>\n",
       "      <th>unemployed_r</th>\n",
       "      <th>vacancy_r</th>\n",
       "      <th>med_rent</th>\n",
       "      <th>med_income</th>\n",
       "      <th>merried_r</th>\n",
       "      <th>longercommute_r</th>\n",
       "      <th>year</th>\n",
       "    </tr>\n",
       "  </thead>\n",
       "  <tbody>\n",
       "    <tr>\n",
       "      <th>0</th>\n",
       "      <td>360010001001</td>\n",
       "      <td>1158.0</td>\n",
       "      <td>0.613990</td>\n",
       "      <td>0.076857</td>\n",
       "      <td>0.290155</td>\n",
       "      <td>0.489637</td>\n",
       "      <td>0.016408</td>\n",
       "      <td>240.0</td>\n",
       "      <td>0.000000</td>\n",
       "      <td>0.311404</td>\n",
       "      <td>0.185526</td>\n",
       "      <td>0.08114</td>\n",
       "      <td>0.105618</td>\n",
       "      <td>0.142857</td>\n",
       "      <td>615.0</td>\n",
       "      <td>40781.0</td>\n",
       "      <td>0.282022</td>\n",
       "      <td>0.254860</td>\n",
       "      <td>2014</td>\n",
       "    </tr>\n",
       "    <tr>\n",
       "      <th>1</th>\n",
       "      <td>360010001002</td>\n",
       "      <td>1043.0</td>\n",
       "      <td>0.566635</td>\n",
       "      <td>0.085331</td>\n",
       "      <td>0.380633</td>\n",
       "      <td>0.543624</td>\n",
       "      <td>0.027804</td>\n",
       "      <td>332.0</td>\n",
       "      <td>0.313253</td>\n",
       "      <td>0.284916</td>\n",
       "      <td>0.102941</td>\n",
       "      <td>0.00000</td>\n",
       "      <td>0.078189</td>\n",
       "      <td>0.191874</td>\n",
       "      <td>659.0</td>\n",
       "      <td>28700.0</td>\n",
       "      <td>0.363755</td>\n",
       "      <td>0.088608</td>\n",
       "      <td>2014</td>\n",
       "    </tr>\n",
       "  </tbody>\n",
       "</table>\n",
       "</div>"
      ],
      "text/plain": [
       "            Id2     pop  female_r  elderly_r   white_r   black_r   asian_r  \\\n",
       "0  360010001001  1158.0  0.613990   0.076857  0.290155  0.489637  0.016408   \n",
       "1  360010001002  1043.0  0.566635   0.085331  0.380633  0.543624  0.027804   \n",
       "\n",
       "      hh  hh_child_6_r  hh_living_alone_r  edu_high_r  non_eng_r  \\\n",
       "0  240.0      0.000000           0.311404    0.185526    0.08114   \n",
       "1  332.0      0.313253           0.284916    0.102941    0.00000   \n",
       "\n",
       "   unemployed_r  vacancy_r  med_rent  med_income  merried_r  longercommute_r  \\\n",
       "0      0.105618   0.142857     615.0     40781.0   0.282022         0.254860   \n",
       "1      0.078189   0.191874     659.0     28700.0   0.363755         0.088608   \n",
       "\n",
       "   year  \n",
       "0  2014  \n",
       "1  2014  "
      ]
     },
     "execution_count": 35,
     "metadata": {},
     "output_type": "execute_result"
    }
   ],
   "source": [
    "# Total pop + Female pop ratio + Elderly pop ratio\n",
    "df = pd.read_csv('../data/rawdata/ACS/ACS_14_5YR_B01001_with_ann.csv', header = None)\n",
    "new_header = df.iloc[1] #grab the first row for the header\n",
    "df = df[1:] #take the data less the header row\n",
    "df = df.rename(columns = new_header) #set the header row as the df header\n",
    "df = df[1:]\n",
    "\n",
    "df['pop'] = df['Estimate; Total:'].astype(float)\n",
    "df['female_r'] = df['Estimate; Female:'].astype(float) / df['Estimate; Total:'].astype(float)\n",
    "df['elderly_r'] = (df['Estimate; Male: - 70 to 74 years'].astype(float) + df['Estimate; Male: - 75 to 79 years'].astype(float) +\n",
    "                  df['Estimate; Male: - 80 to 84 years'].astype(float) + df['Estimate; Male: - 85 years and over'].astype(float) +\n",
    "                  df['Estimate; Female: - 70 to 74 years'].astype(float) + df['Estimate; Female: - 75 to 79 years'].astype(float) +\n",
    "                  df['Estimate; Female: - 80 to 84 years'].astype(float) + \n",
    "                   df['Estimate; Female: - 85 years and over'].astype(float)) / df['Estimate; Total:'].astype(float)\n",
    "\n",
    "df_female_elderly = df[[ 'Id2', 'pop', 'female_r', 'elderly_r']]\n",
    "#print df_female_elderly.dtypes\n",
    "df_female_elderly['Id2'] = df_female_elderly['Id2'].astype(str)\n",
    "\n",
    "\n",
    "\n",
    "\n",
    "\n",
    "\n",
    "# Race\n",
    "df = pd.read_csv('../data/rawdata/ACS/ACS_14_5YR_B02001_with_ann.csv', header = None)\n",
    "new_header = df.iloc[1] #grab the first row for the header\n",
    "df = df[1:] #take the data less the header row\n",
    "df = df.rename(columns = new_header) #set the header row as the df header\n",
    "df = df[1:]\n",
    "\n",
    "df = df[['Id', 'Id2', 'Estimate; Total:', 'Estimate; Total: - White alone', 'Estimate; Total: - Black or African American alone', \n",
    "         'Estimate; Total: - Asian alone']]\n",
    "\n",
    "df['white_r'] = df['Estimate; Total: - White alone'].astype(float) / df['Estimate; Total:'].astype(float)\n",
    "df['black_r'] = df['Estimate; Total: - Black or African American alone'].astype(float) / df['Estimate; Total:'].astype(float)\n",
    "df['asian_r'] = df['Estimate; Total: - Asian alone'].astype(float) / df['Estimate; Total:'].astype(float)\n",
    "\n",
    "df_race = df[[ 'Id2', 'white_r', 'black_r', 'asian_r']]\n",
    "df_race['Id2'] = df_race['Id2'].astype(str)\n",
    "\n",
    "\n",
    "\n",
    "\n",
    "\n",
    "\n",
    "# Family with children under 6\n",
    "df = pd.read_csv('../data/rawdata/ACS/ACS_14_5YR_B09002_with_ann.csv', header = None)\n",
    "new_header = df.iloc[1] #grab the first row for the header\n",
    "df = df[1:] #take the data less the header row\n",
    "df = df.rename(columns = new_header) #set the header row as the df header\n",
    "df = df[1:]\n",
    "\n",
    "df = df[['Id', 'Id2', 'Estimate; Total:', 'Estimate; In married-couple families: - Under 3 years', \n",
    "         'Estimate; In married-couple families: - 3 and 4 years', 'Estimate; In married-couple families: - 5 years']]\n",
    "\n",
    "df['hh'] = df['Estimate; Total:'].astype(float)\n",
    "df['hh_child_6_r'] = (df['Estimate; In married-couple families: - Under 3 years'].astype(float) + \n",
    "                      df['Estimate; In married-couple families: - 3 and 4 years'].astype(float) + \n",
    "                      df['Estimate; In married-couple families: - 5 years'].astype(float)) / df['Estimate; Total:'].astype(float)\n",
    "\n",
    "df_child = df[[ 'Id2', 'hh', 'hh_child_6_r']]\n",
    "df_child['Id2'] = df_child['Id2'].astype(str)\n",
    "\n",
    "\n",
    "\n",
    "\n",
    "\n",
    "# Households livng alone\n",
    "df = pd.read_csv('../data/rawdata/ACS/ACS_14_5YR_B11001_with_ann.csv', header = None)\n",
    "new_header = df.iloc[1] #grab the first row for the header\n",
    "df = df[1:] #take the data less the header row\n",
    "df = df.rename(columns = new_header) #set the header row as the df header\n",
    "df = df[1:]\n",
    "\n",
    "df = df[['Id', 'Id2', 'Estimate; Total:', 'Estimate; Nonfamily households: - Householder living alone']]\n",
    "df['hh_living_alone_r'] = df['Estimate; Nonfamily households: - Householder living alone'].astype(float) / df['Estimate; Total:'].astype(float)\n",
    "\n",
    "df_living_alone = df[[ 'Id2', 'hh_living_alone_r']]\n",
    "df_living_alone['Id2'] = df_living_alone['Id2'].astype(str)\n",
    "\n",
    "\n",
    "\n",
    "\n",
    "\n",
    "\n",
    "# Education attainment\n",
    "df = pd.read_csv('../data/rawdata/ACS/ACS_14_5YR_B15003_with_ann.csv', header = None)\n",
    "new_header = df.iloc[1] #grab the first row for the header\n",
    "df = df[1:] #take the data less the header row\n",
    "df = df.rename(columns = new_header) #set the header row as the df header\n",
    "df = df[1:]\n",
    "\n",
    "df = df[[\"Id\", \"Id2\", \"Estimate; Total:\", \"Estimate; Total: - Bachelor's degree\", \"Estimate; Total: - Master's degree\", \n",
    "        \"Estimate; Total: - Professional school degree\", \"Estimate; Total: - Doctorate degree\"]]\n",
    "\n",
    "df['edu_high_r'] = (df[\"Estimate; Total: - Bachelor's degree\"].astype(float) +\n",
    "                    df[\"Estimate; Total: - Master's degree\"].astype(float) + \n",
    "                    df[\"Estimate; Total: - Professional school degree\"].astype(float)) / df['Estimate; Total:'].astype(float)\n",
    "\n",
    "df_edu = df[[ 'Id2', 'edu_high_r']]\n",
    "df_edu['Id2'] = df_edu['Id2'].astype(str)\n",
    "\n",
    "\n",
    "\n",
    "\n",
    "\n",
    "# Language barrier\n",
    "df = pd.read_csv('../data/rawdata/ACS/ACS_14_5YR_B16002_with_ann.csv', header = None)\n",
    "new_header = df.iloc[1] #grab the first row for the header\n",
    "df = df[1:] #take the data less the header row\n",
    "df = df.rename(columns = new_header) #set the header row as the df header\n",
    "df = df[1:]\n",
    "\n",
    "df = df[['Id', 'Id2', 'Estimate; Total:', 'Estimate; Total: - Spanish: - Limited English speaking household', \n",
    "        'Estimate; Total: - Other Indo-European languages: - Limited English speaking household', \n",
    "        'Estimate; Total: - Asian and Pacific Island languages: - Limited English speaking household', \n",
    "        'Estimate; Total: - Other languages: - Limited English speaking household']]\n",
    "\n",
    "df['non_eng_r'] = (df['Estimate; Total: - Spanish: - Limited English speaking household'].astype(float) +\n",
    "                  df['Estimate; Total: - Other Indo-European languages: - Limited English speaking household'].astype(float) +\n",
    "                  df['Estimate; Total: - Asian and Pacific Island languages: - Limited English speaking household'].astype(float) +\n",
    "                  df['Estimate; Total: - Other languages: - Limited English speaking household'].astype(float)) / df['Estimate; Total:'].astype(float)\n",
    "\n",
    "df_eng = df[[ 'Id2', 'non_eng_r']]\n",
    "df_eng['Id2'] = df_eng['Id2'].astype(str)\n",
    "\n",
    "\n",
    "\n",
    "\n",
    "\n",
    "\n",
    "\n",
    "# Median income\n",
    "df = pd.read_csv('../data/rawdata/ACS/ACS_14_5YR_B19013_with_ann.csv', header = None)\n",
    "new_header = df.iloc[1] #grab the first row for the header\n",
    "df = df[1:] #take the data less the header row\n",
    "df = df.rename(columns = new_header) #set the header row as the df header\n",
    "df = df[1:]\n",
    "\n",
    "df = df.replace(['-', '250,000+', '2,500-'], ['0', '255555', '2499'])\n",
    "df['med_income'] = df[\"Estimate; Median household income in the past 12 months (in 2014 Inflation-adjusted dollars)\"].astype(float)\n",
    "\n",
    "df_income = df[[ 'Id2', 'med_income']]\n",
    "df_income['Id2'] = df_income['Id2'].astype(str)\n",
    "\n",
    "\n",
    "\n",
    "\n",
    "\n",
    "\n",
    "\n",
    "# Employment status\n",
    "df = pd.read_csv('../data/rawdata/ACS/ACS_14_5YR_B23025_with_ann.csv', header = None)\n",
    "new_header = df.iloc[1] #grab the first row for the header\n",
    "df = df[1:] #take the data less the header row\n",
    "df = df.rename(columns = new_header) #set the header row as the df header\n",
    "df = df[1:]\n",
    "\n",
    "df = df[['Id', 'Id2', 'Estimate; Total:', 'Estimate; In labor force: - Civilian labor force: - Unemployed']]\n",
    "df['unemployed_r'] = df['Estimate; In labor force: - Civilian labor force: - Unemployed'].astype(float) / df['Estimate; Total:'].astype(float)\n",
    "\n",
    "df_unemployed = df[[ 'Id2', 'unemployed_r']]\n",
    "df_unemployed['Id2'] = df_unemployed['Id2'].astype(str)\n",
    "\n",
    "\n",
    "\n",
    "\n",
    "\n",
    "\n",
    "# Vacancy\n",
    "df = pd.read_csv('../data/rawdata/ACS/ACS_14_5YR_B25002_with_ann.csv', header = None)\n",
    "new_header = df.iloc[1] #grab the first row for the header\n",
    "df = df[1:] #take the data less the header row\n",
    "df = df.rename(columns = new_header) #set the header row as the df header\n",
    "df = df[1:]\n",
    "\n",
    "df = df[['Id', 'Id2', 'Estimate; Total:', 'Estimate; Total: - Vacant']]\n",
    "df['vacancy_r'] = df['Estimate; Total: - Vacant'].astype(float) / df['Estimate; Total:'].astype(float)\n",
    "\n",
    "df_vacancy = df[['Id2', 'vacancy_r']]\n",
    "df_vacancy['Id2'] = df_vacancy['Id2'].astype(str)\n",
    "\n",
    "\n",
    "\n",
    "\n",
    "\n",
    "\n",
    "\n",
    "# Median rent\n",
    "df = pd.read_csv('../data/rawdata/ACS/ACS_14_5YR_B25058_with_ann.csv', header = None)\n",
    "new_header = df.iloc[1] #grab the first row for the header\n",
    "df = df[1:] #take the data less the header row\n",
    "df = df.rename(columns = new_header) #set the header row as the df header\n",
    "df = df[1:]\n",
    "\n",
    "df = df.replace(['-'], ['0'])\n",
    "df = df.replace(['2,000+'], ['2500'])\n",
    "df = df.replace(['100-'], ['90'])\n",
    "df['med_rent'] = df['Estimate; Median contract rent'].astype(float)\n",
    "\n",
    "df_medrent = df[['Id2', 'med_rent']]\n",
    "df_medrent['Id2'] = df_medrent['Id2'].astype(str)\n",
    "\n",
    "\n",
    "\n",
    "\n",
    "\n",
    "\n",
    "\n",
    "# Marital status\n",
    "df = pd.read_csv('../data/rawdata/ACS/ACS_14_5YR_B12001_with_ann.csv', header = None)\n",
    "new_header = df.iloc[1] #grab the first row for the header\n",
    "df = df[1:] #take the data less the header row\n",
    "df = df.rename(columns = new_header) #set the header row as the df header\n",
    "df = df[1:]\n",
    "\n",
    "df['merried_r'] = (df['Estimate; Male: - Now married:'].astype(float) \n",
    "                   + df['Estimate; Female: - Now married:'].astype(float)) / df['Estimate; Total:'].astype(float)\n",
    "\n",
    "df_marital = df[['Id2', 'merried_r']]\n",
    "df_marital['Id2'] = df_marital['Id2'].astype(str)\n",
    "\n",
    "\n",
    "\n",
    "\n",
    "\n",
    "\n",
    "\n",
    "\n",
    "# Longer time commuters\n",
    "df = pd.read_csv('../data/rawdata/ACS/ACS_14_5YR_B08303_with_ann.csv', header = None)\n",
    "new_header = df.iloc[1] #grab the first row for the header\n",
    "df = df[1:] #take the data less the header row\n",
    "df = df.rename(columns = new_header) #set the header row as the df header\n",
    "df = df[1:]\n",
    "\n",
    "df['longercommute_r'] = (df['Estimate; Total: - 40 to 44 minutes'].astype(float) + \n",
    "                         df['Estimate; Total: - 45 to 59 minutes'].astype(float) +\n",
    "                         df['Estimate; Total: - 60 to 89 minutes'].astype(float) +\n",
    "                         df['Estimate; Total: - 90 or more minutes'].astype(float)) / df['Estimate; Total:'].astype(float)\n",
    "df_commute = df[['Id2', 'longercommute_r']]\n",
    "df_commute['Id2'] = df_marital['Id2'].astype(str)\n",
    "\n",
    "\n",
    "\n",
    "\n",
    "\n",
    "# Join all the dataset\n",
    "cbg_acs = pd.merge(df_female_elderly, df_race, how='left', on='Id2')\n",
    "cbg_acs = pd.merge(cbg_acs, df_child, how='left', on='Id2')\n",
    "cbg_acs = pd.merge(cbg_acs, df_living_alone, how='left', on='Id2')\n",
    "cbg_acs = pd.merge(cbg_acs, df_edu, how='left', on='Id2')\n",
    "cbg_acs = pd.merge(cbg_acs, df_eng, how='left', on='Id2')\n",
    "cbg_acs = pd.merge(cbg_acs, df_unemployed, how='left', on='Id2')\n",
    "cbg_acs = pd.merge(cbg_acs, df_vacancy, how='left', on='Id2')\n",
    "cbg_acs = pd.merge(cbg_acs, df_medrent, how='left', on='Id2')\n",
    "cbg_acs = pd.merge(cbg_acs, df_income, how='left', on='Id2')\n",
    "cbg_acs = pd.merge(cbg_acs, df_marital, how='left', on='Id2')\n",
    "cbg_acs = pd.merge(cbg_acs, df_commute, how='left', on='Id2')\n",
    "\n",
    "cbg_acs['year'] = 2014\n",
    "cbg_acs.head(2)"
   ]
  },
  {
   "cell_type": "code",
   "execution_count": 36,
   "metadata": {
    "collapsed": true
   },
   "outputs": [],
   "source": [
    "cbg_acs.to_csv('../data/output/00VAR_Demographic_ACS_CBG_2014.csv')"
   ]
  },
  {
   "cell_type": "code",
   "execution_count": null,
   "metadata": {
    "collapsed": true
   },
   "outputs": [],
   "source": []
  }
 ],
 "metadata": {
  "kernelspec": {
   "display_name": "Python 2",
   "language": "python",
   "name": "python2"
  },
  "language_info": {
   "codemirror_mode": {
    "name": "ipython",
    "version": 2
   },
   "file_extension": ".py",
   "mimetype": "text/x-python",
   "name": "python",
   "nbconvert_exporter": "python",
   "pygments_lexer": "ipython2",
   "version": "2.7.12"
  }
 },
 "nbformat": 4,
 "nbformat_minor": 2
}
