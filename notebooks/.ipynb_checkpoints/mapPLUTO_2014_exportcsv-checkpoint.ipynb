{
 "cells": [
  {
   "cell_type": "code",
   "execution_count": 2,
   "metadata": {
    "collapsed": false
   },
   "outputs": [
    {
     "name": "stdout",
     "output_type": "stream",
     "text": [
      "Populating the interactive namespace from numpy and matplotlib\n"
     ]
    }
   ],
   "source": [
    "import pandas as pd\n",
    "import zipfile\n",
    "import geopandas as gpd\n",
    "%pylab inline"
   ]
  },
  {
   "cell_type": "code",
   "execution_count": 3,
   "metadata": {
    "collapsed": true
   },
   "outputs": [],
   "source": [
    "z = zipfile.ZipFile('../data_initial/mappluto_14v2.zip')\n",
    "z.extractall('../data_initial/')"
   ]
  },
  {
   "cell_type": "code",
   "execution_count": 4,
   "metadata": {
    "collapsed": false
   },
   "outputs": [],
   "source": [
    "boroughs = ['Staten_Island', 'Queens', 'Manhattan', 'Bronx', 'Brooklyn']\n",
    "abreevs = ['SI', 'QN', 'MN', 'BX', 'BK']\n",
    "\n",
    "pluto = []\n",
    "i = 0\n",
    "for elem in boroughs:\n",
    "    temp = gpd.read_file('../data_initial/'+elem+'/'+abreevs[i]+'MapPLUTO.shp')\n",
    "    temp['BBL'] = temp['BBL'].astype(str)\n",
    "    temp = temp.to_crs({'init':'epsg:4326'})\n",
    "    pluto.append(temp)\n",
    "    i+=1"
   ]
  },
  {
   "cell_type": "code",
   "execution_count": 5,
   "metadata": {
    "collapsed": true
   },
   "outputs": [],
   "source": [
    "z = zipfile.ZipFile('../data_initial/cb_2014_36_bg_500k.zip')\n",
    "z.extractall('../data_initial/')"
   ]
  },
  {
   "cell_type": "code",
   "execution_count": 6,
   "metadata": {
    "collapsed": true
   },
   "outputs": [],
   "source": [
    "cbg = gpd.read_file('../data_initial/cb_2014_36_bg_500k.shp')"
   ]
  },
  {
   "cell_type": "code",
   "execution_count": 7,
   "metadata": {
    "collapsed": true
   },
   "outputs": [],
   "source": [
    "cbg = cbg.to_crs({'init':'epsg:4326'})"
   ]
  },
  {
   "cell_type": "code",
   "execution_count": 8,
   "metadata": {
    "collapsed": false
   },
   "outputs": [],
   "source": [
    "cbg = cbg[['geometry','GEOID']]\n",
    "cbg['GEOID'] = cbg['GEOID'].astype(str)"
   ]
  },
  {
   "cell_type": "code",
   "execution_count": 21,
   "metadata": {
    "collapsed": false
   },
   "outputs": [
    {
     "name": "stderr",
     "output_type": "stream",
     "text": [
      "/anaconda/lib/python2.7/site-packages/ipykernel/__main__.py:6: SettingWithCopyWarning: \n",
      "A value is trying to be set on a copy of a slice from a DataFrame.\n",
      "Try using .loc[row_indexer,col_indexer] = value instead\n",
      "\n",
      "See the caveats in the documentation: http://pandas.pydata.org/pandas-docs/stable/indexing.html#indexing-view-versus-copy\n"
     ]
    }
   ],
   "source": [
    "abreevsl = [elem.lower() for elem in abreevs]\n",
    "bbl_cbg = []\n",
    "\n",
    "for i in range(0,len(pluto)):\n",
    "    for_merge = pluto[i][['BBL','geometry']]\n",
    "    for_merge['BBL'] = for_merge['BBL'].astype(str)\n",
    "    merged = gpd.sjoin(for_merge, cbg)\n",
    "    merged = merged.drop(['geometry','index_right'],axis=1)\n",
    "    bbl_cbg.append(merged)"
   ]
  },
  {
   "cell_type": "code",
   "execution_count": 22,
   "metadata": {
    "collapsed": false
   },
   "outputs": [
    {
     "data": {
      "text/html": [
       "<div>\n",
       "<table border=\"1\" class=\"dataframe\">\n",
       "  <thead>\n",
       "    <tr style=\"text-align: right;\">\n",
       "      <th></th>\n",
       "      <th>BBL</th>\n",
       "      <th>GEOID</th>\n",
       "    </tr>\n",
       "  </thead>\n",
       "  <tbody>\n",
       "    <tr>\n",
       "      <th>0</th>\n",
       "      <td>5007470028.0</td>\n",
       "      <td>360850189012</td>\n",
       "    </tr>\n",
       "    <tr>\n",
       "      <th>80</th>\n",
       "      <td>5007510245.0</td>\n",
       "      <td>360850189012</td>\n",
       "    </tr>\n",
       "    <tr>\n",
       "      <th>325</th>\n",
       "      <td>5004770074.0</td>\n",
       "      <td>360850189012</td>\n",
       "    </tr>\n",
       "    <tr>\n",
       "      <th>379</th>\n",
       "      <td>5004790001.0</td>\n",
       "      <td>360850189012</td>\n",
       "    </tr>\n",
       "    <tr>\n",
       "      <th>404</th>\n",
       "      <td>5004760035.0</td>\n",
       "      <td>360850189012</td>\n",
       "    </tr>\n",
       "  </tbody>\n",
       "</table>\n",
       "</div>"
      ],
      "text/plain": [
       "              BBL         GEOID\n",
       "0    5007470028.0  360850189012\n",
       "80   5007510245.0  360850189012\n",
       "325  5004770074.0  360850189012\n",
       "379  5004790001.0  360850189012\n",
       "404  5004760035.0  360850189012"
      ]
     },
     "execution_count": 22,
     "metadata": {},
     "output_type": "execute_result"
    }
   ],
   "source": [
    "bbl_cbg[0].head()"
   ]
  },
  {
   "cell_type": "code",
   "execution_count": 23,
   "metadata": {
    "collapsed": true
   },
   "outputs": [],
   "source": [
    "bbl_cbg = pd.concat(bbl_cbg)"
   ]
  },
  {
   "cell_type": "code",
   "execution_count": 24,
   "metadata": {
    "collapsed": false
   },
   "outputs": [
    {
     "data": {
      "text/plain": [
       "873395"
      ]
     },
     "execution_count": 24,
     "metadata": {},
     "output_type": "execute_result"
    }
   ],
   "source": [
    "len(bbl_cbg)"
   ]
  },
  {
   "cell_type": "code",
   "execution_count": 27,
   "metadata": {
    "collapsed": true
   },
   "outputs": [],
   "source": [
    "pluto_updated = pd.concat(pluto)"
   ]
  },
  {
   "cell_type": "markdown",
   "metadata": {},
   "source": [
    "Specific features needed from PLUTO are;\n",
    "* SUM(BldgArea)\n",
    "* SUM(ResArea)\n",
    "* SUM(UnitRes)\n",
    "* SUM(ResArea) of non city-owned or federal-owned lots (\"OwnerType\" is not 'C' or 'O')\n",
    "* SUM(UnitsRes) of non city-owned or federal-owned lots (\"OwnerType\" is not 'C' or 'O')\n",
    "* MEAN(AssessTot)"
   ]
  },
  {
   "cell_type": "code",
   "execution_count": 31,
   "metadata": {
    "collapsed": false
   },
   "outputs": [],
   "source": [
    "pluto_updated['BBL'] = pluto_updated['BBL'].astype(str)"
   ]
  },
  {
   "cell_type": "code",
   "execution_count": 38,
   "metadata": {
    "collapsed": false
   },
   "outputs": [
    {
     "data": {
      "text/plain": [
       "857513"
      ]
     },
     "execution_count": 38,
     "metadata": {},
     "output_type": "execute_result"
    }
   ],
   "source": [
    "len(pluto_updated)"
   ]
  },
  {
   "cell_type": "code",
   "execution_count": 47,
   "metadata": {
    "collapsed": false
   },
   "outputs": [],
   "source": [
    "#bbl_cbg = bbl_cbg.reset_index()"
   ]
  },
  {
   "cell_type": "code",
   "execution_count": 49,
   "metadata": {
    "collapsed": true
   },
   "outputs": [],
   "source": [
    "#pluto_updated = pluto_updated.reset_index()"
   ]
  },
  {
   "cell_type": "code",
   "execution_count": 58,
   "metadata": {
    "collapsed": true
   },
   "outputs": [],
   "source": [
    "bldgarea = pd.merge(bbl_cbg, pluto_updated, on='BBL')\n",
    "bldgarea = pd.DataFrame(bldgarea['BldgArea'].groupby(bldgarea['GEOID']).sum())\n",
    "bldgarea = bldgarea.reset_index()"
   ]
  },
  {
   "cell_type": "code",
   "execution_count": 59,
   "metadata": {
    "collapsed": false
   },
   "outputs": [
    {
     "data": {
      "text/plain": [
       "6450"
      ]
     },
     "execution_count": 59,
     "metadata": {},
     "output_type": "execute_result"
    }
   ],
   "source": [
    "len(bldgarea)"
   ]
  },
  {
   "cell_type": "code",
   "execution_count": 60,
   "metadata": {
    "collapsed": true
   },
   "outputs": [],
   "source": [
    "resarea = pd.merge(bbl_cbg, pluto_updated, on='BBL')\n",
    "resarea = pd.DataFrame(resarea['ResArea'].groupby(resarea['GEOID']).sum())\n",
    "resarea = resarea.reset_index()"
   ]
  },
  {
   "cell_type": "code",
   "execution_count": 61,
   "metadata": {
    "collapsed": false
   },
   "outputs": [
    {
     "data": {
      "text/plain": [
       "6450"
      ]
     },
     "execution_count": 61,
     "metadata": {},
     "output_type": "execute_result"
    }
   ],
   "source": [
    "len(resarea)"
   ]
  },
  {
   "cell_type": "code",
   "execution_count": 62,
   "metadata": {
    "collapsed": false
   },
   "outputs": [],
   "source": [
    "unitsres = pd.merge(bbl_cbg, pluto_updated, on='BBL')\n",
    "unitsres = pd.DataFrame(unitsres['UnitsRes'].groupby(unitsres['GEOID']).sum())\n",
    "unitsres = unitsres.reset_index()"
   ]
  },
  {
   "cell_type": "code",
   "execution_count": 63,
   "metadata": {
    "collapsed": false
   },
   "outputs": [
    {
     "data": {
      "text/plain": [
       "6450"
      ]
     },
     "execution_count": 63,
     "metadata": {},
     "output_type": "execute_result"
    }
   ],
   "source": [
    "len(unitsres)"
   ]
  },
  {
   "cell_type": "code",
   "execution_count": 64,
   "metadata": {
    "collapsed": false
   },
   "outputs": [],
   "source": [
    "resarea_ng = pd.merge(bbl_cbg, pluto_updated, on='BBL')\n",
    "resarea_ng['OwnerType'].astype(str)\n",
    "resarea_ng = resarea_ng[(resarea_ng['OwnerType'] != 'O') & (resarea_ng['OwnerType'] != 'C')]\n",
    "resarea_ng = pd.DataFrame(resarea_ng['ResArea'].groupby(resarea_ng['GEOID']).sum())\n",
    "resarea_ng = resarea_ng.rename(columns={'ResArea':'ResAreaNonGovt'})\n",
    "resarea_ng = resarea_ng.reset_index()"
   ]
  },
  {
   "cell_type": "code",
   "execution_count": 89,
   "metadata": {
    "collapsed": false
   },
   "outputs": [
    {
     "data": {
      "text/plain": [
       "6269"
      ]
     },
     "execution_count": 89,
     "metadata": {},
     "output_type": "execute_result"
    }
   ],
   "source": [
    "len(resarea_ng)"
   ]
  },
  {
   "cell_type": "code",
   "execution_count": 65,
   "metadata": {
    "collapsed": false
   },
   "outputs": [],
   "source": [
    "resunits_ng = pd.merge(bbl_cbg, pluto_updated, on='BBL')\n",
    "resunits_ng['OwnerType'].astype(str)\n",
    "resunits_ng = resunits_ng[(resunits_ng['OwnerType'] != 'O') & (resunits_ng['OwnerType'] != 'C')]\n",
    "resunits_ng = pd.DataFrame(resunits_ng['UnitsRes'].groupby(resunits_ng['GEOID']).sum())\n",
    "resunits_ng = resunits_ng.rename(columns={'UnitsRes':'UnitsResNonGovt'})\n",
    "resunits_ng = resunits_ng.reset_index()"
   ]
  },
  {
   "cell_type": "code",
   "execution_count": 92,
   "metadata": {
    "collapsed": false
   },
   "outputs": [
    {
     "data": {
      "text/plain": [
       "6269"
      ]
     },
     "execution_count": 92,
     "metadata": {},
     "output_type": "execute_result"
    }
   ],
   "source": [
    "len(resunits_ng)"
   ]
  },
  {
   "cell_type": "code",
   "execution_count": 66,
   "metadata": {
    "collapsed": false
   },
   "outputs": [],
   "source": [
    "assessed = pd.merge(bbl_cbg, pluto_updated, on='BBL')\n",
    "assessed = pd.DataFrame(assessed['AssessTot'].groupby(assessed['GEOID']).mean())\n",
    "assessed = assessed.reset_index()"
   ]
  },
  {
   "cell_type": "code",
   "execution_count": 79,
   "metadata": {
    "collapsed": false
   },
   "outputs": [
    {
     "data": {
      "text/plain": [
       "6450"
      ]
     },
     "execution_count": 79,
     "metadata": {},
     "output_type": "execute_result"
    }
   ],
   "source": [
    "len(assessed)"
   ]
  },
  {
   "cell_type": "code",
   "execution_count": 115,
   "metadata": {
    "collapsed": true
   },
   "outputs": [],
   "source": [
    "#merge features from disparate dfs to one on GEOID\n",
    "features = pd.merge(bldgarea, cbg, on='GEOID')"
   ]
  },
  {
   "cell_type": "code",
   "execution_count": 116,
   "metadata": {
    "collapsed": false
   },
   "outputs": [
    {
     "data": {
      "text/html": [
       "<div>\n",
       "<table border=\"1\" class=\"dataframe\">\n",
       "  <thead>\n",
       "    <tr style=\"text-align: right;\">\n",
       "      <th></th>\n",
       "      <th>GEOID</th>\n",
       "      <th>BldgArea</th>\n",
       "      <th>geometry</th>\n",
       "    </tr>\n",
       "  </thead>\n",
       "  <tbody>\n",
       "    <tr>\n",
       "      <th>0</th>\n",
       "      <td>360050001000</td>\n",
       "      <td>5502107</td>\n",
       "      <td>POLYGON Z ((-73.892504 40.80120600000001 0, -7...</td>\n",
       "    </tr>\n",
       "    <tr>\n",
       "      <th>1</th>\n",
       "      <td>360050001001</td>\n",
       "      <td>5502107</td>\n",
       "      <td>POLYGON Z ((-73.89276599999999 40.792836 0, -7...</td>\n",
       "    </tr>\n",
       "  </tbody>\n",
       "</table>\n",
       "</div>"
      ],
      "text/plain": [
       "          GEOID  BldgArea                                           geometry\n",
       "0  360050001000   5502107  POLYGON Z ((-73.892504 40.80120600000001 0, -7...\n",
       "1  360050001001   5502107  POLYGON Z ((-73.89276599999999 40.792836 0, -7..."
      ]
     },
     "execution_count": 116,
     "metadata": {},
     "output_type": "execute_result"
    }
   ],
   "source": [
    "features.head(2)"
   ]
  },
  {
   "cell_type": "code",
   "execution_count": 117,
   "metadata": {
    "collapsed": false
   },
   "outputs": [
    {
     "data": {
      "text/plain": [
       "6450"
      ]
     },
     "execution_count": 117,
     "metadata": {},
     "output_type": "execute_result"
    }
   ],
   "source": [
    "len(features)"
   ]
  },
  {
   "cell_type": "code",
   "execution_count": 118,
   "metadata": {
    "collapsed": true
   },
   "outputs": [],
   "source": [
    "features = pd.merge(resarea, features, on='GEOID')"
   ]
  },
  {
   "cell_type": "code",
   "execution_count": 119,
   "metadata": {
    "collapsed": false
   },
   "outputs": [
    {
     "data": {
      "text/html": [
       "<div>\n",
       "<table border=\"1\" class=\"dataframe\">\n",
       "  <thead>\n",
       "    <tr style=\"text-align: right;\">\n",
       "      <th></th>\n",
       "      <th>GEOID</th>\n",
       "      <th>ResArea</th>\n",
       "      <th>BldgArea</th>\n",
       "      <th>geometry</th>\n",
       "    </tr>\n",
       "  </thead>\n",
       "  <tbody>\n",
       "    <tr>\n",
       "      <th>0</th>\n",
       "      <td>360050001000</td>\n",
       "      <td>0</td>\n",
       "      <td>5502107</td>\n",
       "      <td>POLYGON Z ((-73.892504 40.80120600000001 0, -7...</td>\n",
       "    </tr>\n",
       "    <tr>\n",
       "      <th>1</th>\n",
       "      <td>360050001001</td>\n",
       "      <td>0</td>\n",
       "      <td>5502107</td>\n",
       "      <td>POLYGON Z ((-73.89276599999999 40.792836 0, -7...</td>\n",
       "    </tr>\n",
       "  </tbody>\n",
       "</table>\n",
       "</div>"
      ],
      "text/plain": [
       "          GEOID  ResArea  BldgArea  \\\n",
       "0  360050001000        0   5502107   \n",
       "1  360050001001        0   5502107   \n",
       "\n",
       "                                            geometry  \n",
       "0  POLYGON Z ((-73.892504 40.80120600000001 0, -7...  \n",
       "1  POLYGON Z ((-73.89276599999999 40.792836 0, -7...  "
      ]
     },
     "execution_count": 119,
     "metadata": {},
     "output_type": "execute_result"
    }
   ],
   "source": [
    "features.head(2)"
   ]
  },
  {
   "cell_type": "code",
   "execution_count": 120,
   "metadata": {
    "collapsed": false
   },
   "outputs": [
    {
     "data": {
      "text/plain": [
       "6450"
      ]
     },
     "execution_count": 120,
     "metadata": {},
     "output_type": "execute_result"
    }
   ],
   "source": [
    "len(features)"
   ]
  },
  {
   "cell_type": "code",
   "execution_count": 121,
   "metadata": {
    "collapsed": true
   },
   "outputs": [],
   "source": [
    "features = pd.merge(unitsres, features, on='GEOID')"
   ]
  },
  {
   "cell_type": "code",
   "execution_count": 122,
   "metadata": {
    "collapsed": false
   },
   "outputs": [
    {
     "data": {
      "text/html": [
       "<div>\n",
       "<table border=\"1\" class=\"dataframe\">\n",
       "  <thead>\n",
       "    <tr style=\"text-align: right;\">\n",
       "      <th></th>\n",
       "      <th>GEOID</th>\n",
       "      <th>UnitsRes</th>\n",
       "      <th>ResArea</th>\n",
       "      <th>BldgArea</th>\n",
       "      <th>geometry</th>\n",
       "    </tr>\n",
       "  </thead>\n",
       "  <tbody>\n",
       "    <tr>\n",
       "      <th>0</th>\n",
       "      <td>360050001000</td>\n",
       "      <td>0</td>\n",
       "      <td>0</td>\n",
       "      <td>5502107</td>\n",
       "      <td>POLYGON Z ((-73.892504 40.80120600000001 0, -7...</td>\n",
       "    </tr>\n",
       "    <tr>\n",
       "      <th>1</th>\n",
       "      <td>360050001001</td>\n",
       "      <td>0</td>\n",
       "      <td>0</td>\n",
       "      <td>5502107</td>\n",
       "      <td>POLYGON Z ((-73.89276599999999 40.792836 0, -7...</td>\n",
       "    </tr>\n",
       "  </tbody>\n",
       "</table>\n",
       "</div>"
      ],
      "text/plain": [
       "          GEOID  UnitsRes  ResArea  BldgArea  \\\n",
       "0  360050001000         0        0   5502107   \n",
       "1  360050001001         0        0   5502107   \n",
       "\n",
       "                                            geometry  \n",
       "0  POLYGON Z ((-73.892504 40.80120600000001 0, -7...  \n",
       "1  POLYGON Z ((-73.89276599999999 40.792836 0, -7...  "
      ]
     },
     "execution_count": 122,
     "metadata": {},
     "output_type": "execute_result"
    }
   ],
   "source": [
    "features.head(2)"
   ]
  },
  {
   "cell_type": "code",
   "execution_count": 123,
   "metadata": {
    "collapsed": false
   },
   "outputs": [
    {
     "data": {
      "text/plain": [
       "6450"
      ]
     },
     "execution_count": 123,
     "metadata": {},
     "output_type": "execute_result"
    }
   ],
   "source": [
    "len(features)"
   ]
  },
  {
   "cell_type": "code",
   "execution_count": 124,
   "metadata": {
    "collapsed": true
   },
   "outputs": [],
   "source": [
    "features = pd.merge(resarea_ng, features, on='GEOID', how='outer')"
   ]
  },
  {
   "cell_type": "code",
   "execution_count": 125,
   "metadata": {
    "collapsed": false
   },
   "outputs": [
    {
     "data": {
      "text/html": [
       "<div>\n",
       "<table border=\"1\" class=\"dataframe\">\n",
       "  <thead>\n",
       "    <tr style=\"text-align: right;\">\n",
       "      <th></th>\n",
       "      <th>GEOID</th>\n",
       "      <th>ResAreaNonGovt</th>\n",
       "      <th>UnitsRes</th>\n",
       "      <th>ResArea</th>\n",
       "      <th>BldgArea</th>\n",
       "      <th>geometry</th>\n",
       "    </tr>\n",
       "  </thead>\n",
       "  <tbody>\n",
       "    <tr>\n",
       "      <th>0</th>\n",
       "      <td>360050002000</td>\n",
       "      <td>0.0</td>\n",
       "      <td>0</td>\n",
       "      <td>0</td>\n",
       "      <td>0</td>\n",
       "      <td>POLYGON Z ((-73.866484 40.805901 0, -73.862309...</td>\n",
       "    </tr>\n",
       "    <tr>\n",
       "      <th>1</th>\n",
       "      <td>360050002001</td>\n",
       "      <td>456559.0</td>\n",
       "      <td>382</td>\n",
       "      <td>456559</td>\n",
       "      <td>489868</td>\n",
       "      <td>POLYGON Z ((-73.86332899999999 40.814782 0, -7...</td>\n",
       "    </tr>\n",
       "    <tr>\n",
       "      <th>2</th>\n",
       "      <td>360050002002</td>\n",
       "      <td>655173.0</td>\n",
       "      <td>625</td>\n",
       "      <td>656253</td>\n",
       "      <td>686993</td>\n",
       "      <td>POLYGON Z ((-73.865218 40.814529 0, -73.864255...</td>\n",
       "    </tr>\n",
       "    <tr>\n",
       "      <th>3</th>\n",
       "      <td>360050002003</td>\n",
       "      <td>511832.0</td>\n",
       "      <td>432</td>\n",
       "      <td>511832</td>\n",
       "      <td>544790</td>\n",
       "      <td>POLYGON Z ((-73.858665 40.806833 0, -73.857508...</td>\n",
       "    </tr>\n",
       "    <tr>\n",
       "      <th>4</th>\n",
       "      <td>360050004000</td>\n",
       "      <td>318977.0</td>\n",
       "      <td>275</td>\n",
       "      <td>318977</td>\n",
       "      <td>322442</td>\n",
       "      <td>POLYGON Z ((-73.855256 40.80460799999999 0, -7...</td>\n",
       "    </tr>\n",
       "  </tbody>\n",
       "</table>\n",
       "</div>"
      ],
      "text/plain": [
       "          GEOID  ResAreaNonGovt  UnitsRes  ResArea  BldgArea  \\\n",
       "0  360050002000             0.0         0        0         0   \n",
       "1  360050002001        456559.0       382   456559    489868   \n",
       "2  360050002002        655173.0       625   656253    686993   \n",
       "3  360050002003        511832.0       432   511832    544790   \n",
       "4  360050004000        318977.0       275   318977    322442   \n",
       "\n",
       "                                            geometry  \n",
       "0  POLYGON Z ((-73.866484 40.805901 0, -73.862309...  \n",
       "1  POLYGON Z ((-73.86332899999999 40.814782 0, -7...  \n",
       "2  POLYGON Z ((-73.865218 40.814529 0, -73.864255...  \n",
       "3  POLYGON Z ((-73.858665 40.806833 0, -73.857508...  \n",
       "4  POLYGON Z ((-73.855256 40.80460799999999 0, -7...  "
      ]
     },
     "execution_count": 125,
     "metadata": {},
     "output_type": "execute_result"
    }
   ],
   "source": [
    "features.head()"
   ]
  },
  {
   "cell_type": "code",
   "execution_count": 126,
   "metadata": {
    "collapsed": false
   },
   "outputs": [
    {
     "data": {
      "text/plain": [
       "6450"
      ]
     },
     "execution_count": 126,
     "metadata": {},
     "output_type": "execute_result"
    }
   ],
   "source": [
    "len(features)"
   ]
  },
  {
   "cell_type": "code",
   "execution_count": 127,
   "metadata": {
    "collapsed": true
   },
   "outputs": [],
   "source": [
    "features = pd.merge(resunits_ng, features, on='GEOID', how='outer')"
   ]
  },
  {
   "cell_type": "code",
   "execution_count": 128,
   "metadata": {
    "collapsed": false
   },
   "outputs": [
    {
     "data": {
      "text/html": [
       "<div>\n",
       "<table border=\"1\" class=\"dataframe\">\n",
       "  <thead>\n",
       "    <tr style=\"text-align: right;\">\n",
       "      <th></th>\n",
       "      <th>GEOID</th>\n",
       "      <th>UnitsResNonGovt</th>\n",
       "      <th>ResAreaNonGovt</th>\n",
       "      <th>UnitsRes</th>\n",
       "      <th>ResArea</th>\n",
       "      <th>BldgArea</th>\n",
       "      <th>geometry</th>\n",
       "    </tr>\n",
       "  </thead>\n",
       "  <tbody>\n",
       "    <tr>\n",
       "      <th>0</th>\n",
       "      <td>360050002000</td>\n",
       "      <td>0.0</td>\n",
       "      <td>0.0</td>\n",
       "      <td>0</td>\n",
       "      <td>0</td>\n",
       "      <td>0</td>\n",
       "      <td>POLYGON Z ((-73.866484 40.805901 0, -73.862309...</td>\n",
       "    </tr>\n",
       "    <tr>\n",
       "      <th>1</th>\n",
       "      <td>360050002001</td>\n",
       "      <td>382.0</td>\n",
       "      <td>456559.0</td>\n",
       "      <td>382</td>\n",
       "      <td>456559</td>\n",
       "      <td>489868</td>\n",
       "      <td>POLYGON Z ((-73.86332899999999 40.814782 0, -7...</td>\n",
       "    </tr>\n",
       "  </tbody>\n",
       "</table>\n",
       "</div>"
      ],
      "text/plain": [
       "          GEOID  UnitsResNonGovt  ResAreaNonGovt  UnitsRes  ResArea  BldgArea  \\\n",
       "0  360050002000              0.0             0.0         0        0         0   \n",
       "1  360050002001            382.0        456559.0       382   456559    489868   \n",
       "\n",
       "                                            geometry  \n",
       "0  POLYGON Z ((-73.866484 40.805901 0, -73.862309...  \n",
       "1  POLYGON Z ((-73.86332899999999 40.814782 0, -7...  "
      ]
     },
     "execution_count": 128,
     "metadata": {},
     "output_type": "execute_result"
    }
   ],
   "source": [
    "features.head(2)"
   ]
  },
  {
   "cell_type": "code",
   "execution_count": 129,
   "metadata": {
    "collapsed": false
   },
   "outputs": [
    {
     "data": {
      "text/plain": [
       "6450"
      ]
     },
     "execution_count": 129,
     "metadata": {},
     "output_type": "execute_result"
    }
   ],
   "source": [
    "len(features)"
   ]
  },
  {
   "cell_type": "code",
   "execution_count": 130,
   "metadata": {
    "collapsed": false
   },
   "outputs": [],
   "source": [
    "features = pd.merge(assessed, features, on='GEOID')"
   ]
  },
  {
   "cell_type": "code",
   "execution_count": 131,
   "metadata": {
    "collapsed": false
   },
   "outputs": [
    {
     "data": {
      "text/html": [
       "<div>\n",
       "<table border=\"1\" class=\"dataframe\">\n",
       "  <thead>\n",
       "    <tr style=\"text-align: right;\">\n",
       "      <th></th>\n",
       "      <th>GEOID</th>\n",
       "      <th>AssessTot</th>\n",
       "      <th>UnitsResNonGovt</th>\n",
       "      <th>ResAreaNonGovt</th>\n",
       "      <th>UnitsRes</th>\n",
       "      <th>ResArea</th>\n",
       "      <th>BldgArea</th>\n",
       "      <th>geometry</th>\n",
       "    </tr>\n",
       "  </thead>\n",
       "  <tbody>\n",
       "    <tr>\n",
       "      <th>0</th>\n",
       "      <td>360050001000</td>\n",
       "      <td>240764625.0</td>\n",
       "      <td>NaN</td>\n",
       "      <td>NaN</td>\n",
       "      <td>0</td>\n",
       "      <td>0</td>\n",
       "      <td>5502107</td>\n",
       "      <td>POLYGON Z ((-73.892504 40.80120600000001 0, -7...</td>\n",
       "    </tr>\n",
       "    <tr>\n",
       "      <th>1</th>\n",
       "      <td>360050001001</td>\n",
       "      <td>474367500.0</td>\n",
       "      <td>NaN</td>\n",
       "      <td>NaN</td>\n",
       "      <td>0</td>\n",
       "      <td>0</td>\n",
       "      <td>5502107</td>\n",
       "      <td>POLYGON Z ((-73.89276599999999 40.792836 0, -7...</td>\n",
       "    </tr>\n",
       "  </tbody>\n",
       "</table>\n",
       "</div>"
      ],
      "text/plain": [
       "          GEOID    AssessTot  UnitsResNonGovt  ResAreaNonGovt  UnitsRes  \\\n",
       "0  360050001000  240764625.0              NaN             NaN         0   \n",
       "1  360050001001  474367500.0              NaN             NaN         0   \n",
       "\n",
       "   ResArea  BldgArea                                           geometry  \n",
       "0        0   5502107  POLYGON Z ((-73.892504 40.80120600000001 0, -7...  \n",
       "1        0   5502107  POLYGON Z ((-73.89276599999999 40.792836 0, -7...  "
      ]
     },
     "execution_count": 131,
     "metadata": {},
     "output_type": "execute_result"
    }
   ],
   "source": [
    "features.head(2)"
   ]
  },
  {
   "cell_type": "code",
   "execution_count": 132,
   "metadata": {
    "collapsed": false
   },
   "outputs": [
    {
     "data": {
      "text/plain": [
       "6450"
      ]
     },
     "execution_count": 132,
     "metadata": {},
     "output_type": "execute_result"
    }
   ],
   "source": [
    "len(features)"
   ]
  },
  {
   "cell_type": "code",
   "execution_count": 139,
   "metadata": {
    "collapsed": false
   },
   "outputs": [],
   "source": [
    "features = features.fillna(0)"
   ]
  },
  {
   "cell_type": "code",
   "execution_count": 140,
   "metadata": {
    "collapsed": false
   },
   "outputs": [
    {
     "data": {
      "text/html": [
       "<div>\n",
       "<table border=\"1\" class=\"dataframe\">\n",
       "  <thead>\n",
       "    <tr style=\"text-align: right;\">\n",
       "      <th></th>\n",
       "      <th>GEOID</th>\n",
       "      <th>AssessTot</th>\n",
       "      <th>UnitsResNonGovt</th>\n",
       "      <th>ResAreaNonGovt</th>\n",
       "      <th>UnitsRes</th>\n",
       "      <th>ResArea</th>\n",
       "      <th>BldgArea</th>\n",
       "      <th>geometry</th>\n",
       "    </tr>\n",
       "  </thead>\n",
       "  <tbody>\n",
       "    <tr>\n",
       "      <th>0</th>\n",
       "      <td>360050001000</td>\n",
       "      <td>240764625.0</td>\n",
       "      <td>0.0</td>\n",
       "      <td>0.0</td>\n",
       "      <td>0</td>\n",
       "      <td>0</td>\n",
       "      <td>5502107</td>\n",
       "      <td>POLYGON Z ((-73.892504 40.80120600000001 0, -7...</td>\n",
       "    </tr>\n",
       "    <tr>\n",
       "      <th>1</th>\n",
       "      <td>360050001001</td>\n",
       "      <td>474367500.0</td>\n",
       "      <td>0.0</td>\n",
       "      <td>0.0</td>\n",
       "      <td>0</td>\n",
       "      <td>0</td>\n",
       "      <td>5502107</td>\n",
       "      <td>POLYGON Z ((-73.89276599999999 40.792836 0, -7...</td>\n",
       "    </tr>\n",
       "  </tbody>\n",
       "</table>\n",
       "</div>"
      ],
      "text/plain": [
       "          GEOID    AssessTot  UnitsResNonGovt  ResAreaNonGovt  UnitsRes  \\\n",
       "0  360050001000  240764625.0              0.0             0.0         0   \n",
       "1  360050001001  474367500.0              0.0             0.0         0   \n",
       "\n",
       "   ResArea  BldgArea                                           geometry  \n",
       "0        0   5502107  POLYGON Z ((-73.892504 40.80120600000001 0, -7...  \n",
       "1        0   5502107  POLYGON Z ((-73.89276599999999 40.792836 0, -7...  "
      ]
     },
     "execution_count": 140,
     "metadata": {},
     "output_type": "execute_result"
    }
   ],
   "source": [
    "features.head(2)"
   ]
  },
  {
   "cell_type": "code",
   "execution_count": 141,
   "metadata": {
    "collapsed": false
   },
   "outputs": [
    {
     "data": {
      "text/plain": [
       "GEOID              0\n",
       "AssessTot          0\n",
       "UnitsResNonGovt    0\n",
       "ResAreaNonGovt     0\n",
       "UnitsRes           0\n",
       "ResArea            0\n",
       "BldgArea           0\n",
       "geometry           0\n",
       "dtype: int64"
      ]
     },
     "execution_count": 141,
     "metadata": {},
     "output_type": "execute_result"
    }
   ],
   "source": [
    "features.isnull().sum()"
   ]
  },
  {
   "cell_type": "code",
   "execution_count": 142,
   "metadata": {
    "collapsed": true
   },
   "outputs": [],
   "source": [
    "features = features.drop('geometry',axis=1)"
   ]
  },
  {
   "cell_type": "code",
   "execution_count": 143,
   "metadata": {
    "collapsed": false
   },
   "outputs": [
    {
     "data": {
      "text/html": [
       "<div>\n",
       "<table border=\"1\" class=\"dataframe\">\n",
       "  <thead>\n",
       "    <tr style=\"text-align: right;\">\n",
       "      <th></th>\n",
       "      <th>GEOID</th>\n",
       "      <th>AssessTot</th>\n",
       "      <th>UnitsResNonGovt</th>\n",
       "      <th>ResAreaNonGovt</th>\n",
       "      <th>UnitsRes</th>\n",
       "      <th>ResArea</th>\n",
       "      <th>BldgArea</th>\n",
       "    </tr>\n",
       "  </thead>\n",
       "  <tbody>\n",
       "    <tr>\n",
       "      <th>0</th>\n",
       "      <td>360050001000</td>\n",
       "      <td>240764625.0</td>\n",
       "      <td>0.0</td>\n",
       "      <td>0.0</td>\n",
       "      <td>0</td>\n",
       "      <td>0</td>\n",
       "      <td>5502107</td>\n",
       "    </tr>\n",
       "    <tr>\n",
       "      <th>1</th>\n",
       "      <td>360050001001</td>\n",
       "      <td>474367500.0</td>\n",
       "      <td>0.0</td>\n",
       "      <td>0.0</td>\n",
       "      <td>0</td>\n",
       "      <td>0</td>\n",
       "      <td>5502107</td>\n",
       "    </tr>\n",
       "  </tbody>\n",
       "</table>\n",
       "</div>"
      ],
      "text/plain": [
       "          GEOID    AssessTot  UnitsResNonGovt  ResAreaNonGovt  UnitsRes  \\\n",
       "0  360050001000  240764625.0              0.0             0.0         0   \n",
       "1  360050001001  474367500.0              0.0             0.0         0   \n",
       "\n",
       "   ResArea  BldgArea  \n",
       "0        0   5502107  \n",
       "1        0   5502107  "
      ]
     },
     "execution_count": 143,
     "metadata": {},
     "output_type": "execute_result"
    }
   ],
   "source": [
    "features.head(2)"
   ]
  },
  {
   "cell_type": "code",
   "execution_count": 144,
   "metadata": {
    "collapsed": false
   },
   "outputs": [],
   "source": [
    "features.to_csv('../data_processed/mapPluto_14')"
   ]
  }
 ],
 "metadata": {
  "kernelspec": {
   "display_name": "Python 2",
   "language": "python",
   "name": "python2"
  },
  "language_info": {
   "codemirror_mode": {
    "name": "ipython",
    "version": 2
   },
   "file_extension": ".py",
   "mimetype": "text/x-python",
   "name": "python",
   "nbconvert_exporter": "python",
   "pygments_lexer": "ipython2",
   "version": "2.7.12"
  }
 },
 "nbformat": 4,
 "nbformat_minor": 1
}
