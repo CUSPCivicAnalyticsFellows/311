{
 "cells": [
  {
   "cell_type": "code",
   "execution_count": 109,
   "metadata": {
    "collapsed": true
   },
   "outputs": [],
   "source": [
    "import zipfile\n",
    "import pandas as pd"
   ]
  },
  {
   "cell_type": "markdown",
   "metadata": {},
   "source": [
    "### Import occupancy by homeowner\n",
    "ACS Table B25009"
   ]
  },
  {
   "cell_type": "code",
   "execution_count": 110,
   "metadata": {
    "collapsed": false
   },
   "outputs": [],
   "source": [
    "z = zipfile.ZipFile('../data_initial/ACS_14_5YR_B25009.zip')\n",
    "z.extractall('../data_processed/')"
   ]
  },
  {
   "cell_type": "code",
   "execution_count": 111,
   "metadata": {
    "collapsed": true
   },
   "outputs": [],
   "source": [
    "homeowner = pd.read_csv('../data_processed/ACS_14_5YR_B25009_with_ann.csv', header=1)"
   ]
  },
  {
   "cell_type": "code",
   "execution_count": 112,
   "metadata": {
    "collapsed": false
   },
   "outputs": [
    {
     "data": {
      "text/html": [
       "<div>\n",
       "<table border=\"1\" class=\"dataframe\">\n",
       "  <thead>\n",
       "    <tr style=\"text-align: right;\">\n",
       "      <th></th>\n",
       "      <th>Id</th>\n",
       "      <th>Id2</th>\n",
       "      <th>Geography</th>\n",
       "      <th>Estimate; Total:</th>\n",
       "      <th>Margin of Error; Total:</th>\n",
       "      <th>Estimate; Owner occupied:</th>\n",
       "      <th>Margin of Error; Owner occupied:</th>\n",
       "      <th>Estimate; Owner occupied: - 1-person household</th>\n",
       "      <th>Margin of Error; Owner occupied: - 1-person household</th>\n",
       "      <th>Estimate; Owner occupied: - 2-person household</th>\n",
       "      <th>...</th>\n",
       "      <th>Estimate; Renter occupied: - 3-person household</th>\n",
       "      <th>Margin of Error; Renter occupied: - 3-person household</th>\n",
       "      <th>Estimate; Renter occupied: - 4-person household</th>\n",
       "      <th>Margin of Error; Renter occupied: - 4-person household</th>\n",
       "      <th>Estimate; Renter occupied: - 5-person household</th>\n",
       "      <th>Margin of Error; Renter occupied: - 5-person household</th>\n",
       "      <th>Estimate; Renter occupied: - 6-person household</th>\n",
       "      <th>Margin of Error; Renter occupied: - 6-person household</th>\n",
       "      <th>Estimate; Renter occupied: - 7-or-more person household</th>\n",
       "      <th>Margin of Error; Renter occupied: - 7-or-more person household</th>\n",
       "    </tr>\n",
       "  </thead>\n",
       "  <tbody>\n",
       "    <tr>\n",
       "      <th>0</th>\n",
       "      <td>1500000US360050001000</td>\n",
       "      <td>360050001000</td>\n",
       "      <td>Block Group 0, Census Tract 1, Bronx County, N...</td>\n",
       "      <td>0</td>\n",
       "      <td>11</td>\n",
       "      <td>0</td>\n",
       "      <td>11</td>\n",
       "      <td>0</td>\n",
       "      <td>11</td>\n",
       "      <td>0</td>\n",
       "      <td>...</td>\n",
       "      <td>0</td>\n",
       "      <td>11</td>\n",
       "      <td>0</td>\n",
       "      <td>11</td>\n",
       "      <td>0</td>\n",
       "      <td>11</td>\n",
       "      <td>0</td>\n",
       "      <td>11</td>\n",
       "      <td>0</td>\n",
       "      <td>11</td>\n",
       "    </tr>\n",
       "    <tr>\n",
       "      <th>1</th>\n",
       "      <td>1500000US360050001001</td>\n",
       "      <td>360050001001</td>\n",
       "      <td>Block Group 1, Census Tract 1, Bronx County, N...</td>\n",
       "      <td>0</td>\n",
       "      <td>16</td>\n",
       "      <td>0</td>\n",
       "      <td>16</td>\n",
       "      <td>0</td>\n",
       "      <td>16</td>\n",
       "      <td>0</td>\n",
       "      <td>...</td>\n",
       "      <td>0</td>\n",
       "      <td>16</td>\n",
       "      <td>0</td>\n",
       "      <td>16</td>\n",
       "      <td>0</td>\n",
       "      <td>16</td>\n",
       "      <td>0</td>\n",
       "      <td>16</td>\n",
       "      <td>0</td>\n",
       "      <td>16</td>\n",
       "    </tr>\n",
       "    <tr>\n",
       "      <th>2</th>\n",
       "      <td>1500000US360050002000</td>\n",
       "      <td>360050002000</td>\n",
       "      <td>Block Group 0, Census Tract 2, Bronx County, N...</td>\n",
       "      <td>0</td>\n",
       "      <td>11</td>\n",
       "      <td>0</td>\n",
       "      <td>11</td>\n",
       "      <td>0</td>\n",
       "      <td>11</td>\n",
       "      <td>0</td>\n",
       "      <td>...</td>\n",
       "      <td>0</td>\n",
       "      <td>11</td>\n",
       "      <td>0</td>\n",
       "      <td>11</td>\n",
       "      <td>0</td>\n",
       "      <td>11</td>\n",
       "      <td>0</td>\n",
       "      <td>11</td>\n",
       "      <td>0</td>\n",
       "      <td>11</td>\n",
       "    </tr>\n",
       "    <tr>\n",
       "      <th>3</th>\n",
       "      <td>1500000US360050002001</td>\n",
       "      <td>360050002001</td>\n",
       "      <td>Block Group 1, Census Tract 2, Bronx County, N...</td>\n",
       "      <td>460</td>\n",
       "      <td>91</td>\n",
       "      <td>302</td>\n",
       "      <td>88</td>\n",
       "      <td>49</td>\n",
       "      <td>36</td>\n",
       "      <td>67</td>\n",
       "      <td>...</td>\n",
       "      <td>12</td>\n",
       "      <td>20</td>\n",
       "      <td>26</td>\n",
       "      <td>29</td>\n",
       "      <td>52</td>\n",
       "      <td>51</td>\n",
       "      <td>0</td>\n",
       "      <td>11</td>\n",
       "      <td>0</td>\n",
       "      <td>11</td>\n",
       "    </tr>\n",
       "    <tr>\n",
       "      <th>4</th>\n",
       "      <td>1500000US360050002002</td>\n",
       "      <td>360050002002</td>\n",
       "      <td>Block Group 2, Census Tract 2, Bronx County, N...</td>\n",
       "      <td>475</td>\n",
       "      <td>87</td>\n",
       "      <td>270</td>\n",
       "      <td>77</td>\n",
       "      <td>10</td>\n",
       "      <td>15</td>\n",
       "      <td>56</td>\n",
       "      <td>...</td>\n",
       "      <td>39</td>\n",
       "      <td>46</td>\n",
       "      <td>47</td>\n",
       "      <td>45</td>\n",
       "      <td>6</td>\n",
       "      <td>10</td>\n",
       "      <td>10</td>\n",
       "      <td>15</td>\n",
       "      <td>9</td>\n",
       "      <td>13</td>\n",
       "    </tr>\n",
       "  </tbody>\n",
       "</table>\n",
       "<p>5 rows × 37 columns</p>\n",
       "</div>"
      ],
      "text/plain": [
       "                      Id           Id2  \\\n",
       "0  1500000US360050001000  360050001000   \n",
       "1  1500000US360050001001  360050001001   \n",
       "2  1500000US360050002000  360050002000   \n",
       "3  1500000US360050002001  360050002001   \n",
       "4  1500000US360050002002  360050002002   \n",
       "\n",
       "                                           Geography  Estimate; Total:  \\\n",
       "0  Block Group 0, Census Tract 1, Bronx County, N...                 0   \n",
       "1  Block Group 1, Census Tract 1, Bronx County, N...                 0   \n",
       "2  Block Group 0, Census Tract 2, Bronx County, N...                 0   \n",
       "3  Block Group 1, Census Tract 2, Bronx County, N...               460   \n",
       "4  Block Group 2, Census Tract 2, Bronx County, N...               475   \n",
       "\n",
       "   Margin of Error; Total:  Estimate; Owner occupied:  \\\n",
       "0                       11                          0   \n",
       "1                       16                          0   \n",
       "2                       11                          0   \n",
       "3                       91                        302   \n",
       "4                       87                        270   \n",
       "\n",
       "   Margin of Error; Owner occupied:  \\\n",
       "0                                11   \n",
       "1                                16   \n",
       "2                                11   \n",
       "3                                88   \n",
       "4                                77   \n",
       "\n",
       "   Estimate; Owner occupied: - 1-person household  \\\n",
       "0                                               0   \n",
       "1                                               0   \n",
       "2                                               0   \n",
       "3                                              49   \n",
       "4                                              10   \n",
       "\n",
       "   Margin of Error; Owner occupied: - 1-person household  \\\n",
       "0                                                 11       \n",
       "1                                                 16       \n",
       "2                                                 11       \n",
       "3                                                 36       \n",
       "4                                                 15       \n",
       "\n",
       "   Estimate; Owner occupied: - 2-person household  \\\n",
       "0                                               0   \n",
       "1                                               0   \n",
       "2                                               0   \n",
       "3                                              67   \n",
       "4                                              56   \n",
       "\n",
       "                                ...                                \\\n",
       "0                               ...                                 \n",
       "1                               ...                                 \n",
       "2                               ...                                 \n",
       "3                               ...                                 \n",
       "4                               ...                                 \n",
       "\n",
       "   Estimate; Renter occupied: - 3-person household  \\\n",
       "0                                                0   \n",
       "1                                                0   \n",
       "2                                                0   \n",
       "3                                               12   \n",
       "4                                               39   \n",
       "\n",
       "   Margin of Error; Renter occupied: - 3-person household  \\\n",
       "0                                                 11        \n",
       "1                                                 16        \n",
       "2                                                 11        \n",
       "3                                                 20        \n",
       "4                                                 46        \n",
       "\n",
       "   Estimate; Renter occupied: - 4-person household  \\\n",
       "0                                                0   \n",
       "1                                                0   \n",
       "2                                                0   \n",
       "3                                               26   \n",
       "4                                               47   \n",
       "\n",
       "   Margin of Error; Renter occupied: - 4-person household  \\\n",
       "0                                                 11        \n",
       "1                                                 16        \n",
       "2                                                 11        \n",
       "3                                                 29        \n",
       "4                                                 45        \n",
       "\n",
       "   Estimate; Renter occupied: - 5-person household  \\\n",
       "0                                                0   \n",
       "1                                                0   \n",
       "2                                                0   \n",
       "3                                               52   \n",
       "4                                                6   \n",
       "\n",
       "   Margin of Error; Renter occupied: - 5-person household  \\\n",
       "0                                                 11        \n",
       "1                                                 16        \n",
       "2                                                 11        \n",
       "3                                                 51        \n",
       "4                                                 10        \n",
       "\n",
       "   Estimate; Renter occupied: - 6-person household  \\\n",
       "0                                                0   \n",
       "1                                                0   \n",
       "2                                                0   \n",
       "3                                                0   \n",
       "4                                               10   \n",
       "\n",
       "   Margin of Error; Renter occupied: - 6-person household  \\\n",
       "0                                                 11        \n",
       "1                                                 16        \n",
       "2                                                 11        \n",
       "3                                                 11        \n",
       "4                                                 15        \n",
       "\n",
       "   Estimate; Renter occupied: - 7-or-more person household  \\\n",
       "0                                                  0         \n",
       "1                                                  0         \n",
       "2                                                  0         \n",
       "3                                                  0         \n",
       "4                                                  9         \n",
       "\n",
       "   Margin of Error; Renter occupied: - 7-or-more person household  \n",
       "0                                                 11               \n",
       "1                                                 16               \n",
       "2                                                 11               \n",
       "3                                                 11               \n",
       "4                                                 13               \n",
       "\n",
       "[5 rows x 37 columns]"
      ]
     },
     "execution_count": 112,
     "metadata": {},
     "output_type": "execute_result"
    }
   ],
   "source": [
    "homeowner.head()"
   ]
  },
  {
   "cell_type": "code",
   "execution_count": 113,
   "metadata": {
    "collapsed": true
   },
   "outputs": [],
   "source": [
    "homeowner = homeowner[['Id2', 'Geography', 'Estimate; Total:', 'Estimate; Owner occupied:']]"
   ]
  },
  {
   "cell_type": "code",
   "execution_count": 114,
   "metadata": {
    "collapsed": false
   },
   "outputs": [
    {
     "data": {
      "text/html": [
       "<div>\n",
       "<table border=\"1\" class=\"dataframe\">\n",
       "  <thead>\n",
       "    <tr style=\"text-align: right;\">\n",
       "      <th></th>\n",
       "      <th>Id2</th>\n",
       "      <th>Geography</th>\n",
       "      <th>homeowner_r</th>\n",
       "    </tr>\n",
       "  </thead>\n",
       "  <tbody>\n",
       "    <tr>\n",
       "      <th>0</th>\n",
       "      <td>360050001000</td>\n",
       "      <td>Block Group 0, Census Tract 1, Bronx County, N...</td>\n",
       "      <td>NaN</td>\n",
       "    </tr>\n",
       "    <tr>\n",
       "      <th>1</th>\n",
       "      <td>360050001001</td>\n",
       "      <td>Block Group 1, Census Tract 1, Bronx County, N...</td>\n",
       "      <td>NaN</td>\n",
       "    </tr>\n",
       "    <tr>\n",
       "      <th>2</th>\n",
       "      <td>360050002000</td>\n",
       "      <td>Block Group 0, Census Tract 2, Bronx County, N...</td>\n",
       "      <td>NaN</td>\n",
       "    </tr>\n",
       "    <tr>\n",
       "      <th>3</th>\n",
       "      <td>360050002001</td>\n",
       "      <td>Block Group 1, Census Tract 2, Bronx County, N...</td>\n",
       "      <td>0.656522</td>\n",
       "    </tr>\n",
       "    <tr>\n",
       "      <th>4</th>\n",
       "      <td>360050002002</td>\n",
       "      <td>Block Group 2, Census Tract 2, Bronx County, N...</td>\n",
       "      <td>0.568421</td>\n",
       "    </tr>\n",
       "  </tbody>\n",
       "</table>\n",
       "</div>"
      ],
      "text/plain": [
       "            Id2                                          Geography  \\\n",
       "0  360050001000  Block Group 0, Census Tract 1, Bronx County, N...   \n",
       "1  360050001001  Block Group 1, Census Tract 1, Bronx County, N...   \n",
       "2  360050002000  Block Group 0, Census Tract 2, Bronx County, N...   \n",
       "3  360050002001  Block Group 1, Census Tract 2, Bronx County, N...   \n",
       "4  360050002002  Block Group 2, Census Tract 2, Bronx County, N...   \n",
       "\n",
       "   homeowner_r  \n",
       "0          NaN  \n",
       "1          NaN  \n",
       "2          NaN  \n",
       "3     0.656522  \n",
       "4     0.568421  "
      ]
     },
     "execution_count": 114,
     "metadata": {},
     "output_type": "execute_result"
    }
   ],
   "source": [
    "homeowner['homeowner_r'] = homeowner['Estimate; Owner occupied:']/homeowner['Estimate; Total:']\n",
    "homeowner = homeowner[['Id2', 'Geography', 'homeowner_r']]\n",
    "homeowner.head()"
   ]
  },
  {
   "cell_type": "markdown",
   "metadata": {},
   "source": [
    "### Import building age\n",
    "Table B25034"
   ]
  },
  {
   "cell_type": "code",
   "execution_count": 115,
   "metadata": {
    "collapsed": true
   },
   "outputs": [],
   "source": [
    "z = zipfile.ZipFile('../data_initial/ACS_14_5YR_B25034.zip')\n",
    "z.extractall('../data_initial/')"
   ]
  },
  {
   "cell_type": "code",
   "execution_count": 116,
   "metadata": {
    "collapsed": false
   },
   "outputs": [],
   "source": [
    "bldng_age = pd.read_csv('../data_initial/ACS_14_5YR_B25034_with_ann.csv', header=1)\n",
    "#bldng_age.head()"
   ]
  },
  {
   "cell_type": "code",
   "execution_count": 117,
   "metadata": {
    "collapsed": false
   },
   "outputs": [],
   "source": [
    "bldng_age = bldng_age[['Geography', 'Id2', 'Estimate; Total:', 'Estimate; Total: - Built 2010 or later', 'Estimate; Total: - Built 2000 to 2009', 'Estimate; Total: - Built 1990 to 1999', 'Estimate; Total: - Built 1980 to 1989', 'Estimate; Total: - Built 1970 to 1979', 'Estimate; Total: - Built 1960 to 1969', 'Estimate; Total: - Built 1950 to 1959', 'Estimate; Total: - Built 1940 to 1949', 'Estimate; Total: - Built 1939 or earlier']]"
   ]
  },
  {
   "cell_type": "code",
   "execution_count": 118,
   "metadata": {
    "collapsed": false
   },
   "outputs": [
    {
     "data": {
      "text/plain": [
       "Index([u'Geography', u'Id2', u'Estimate; Total:',\n",
       "       u'Estimate; Total: - Built 2010 or later',\n",
       "       u'Estimate; Total: - Built 2000 to 2009',\n",
       "       u'Estimate; Total: - Built 1990 to 1999',\n",
       "       u'Estimate; Total: - Built 1980 to 1989',\n",
       "       u'Estimate; Total: - Built 1970 to 1979',\n",
       "       u'Estimate; Total: - Built 1960 to 1969',\n",
       "       u'Estimate; Total: - Built 1950 to 1959',\n",
       "       u'Estimate; Total: - Built 1940 to 1949',\n",
       "       u'Estimate; Total: - Built 1939 or earlier'],\n",
       "      dtype='object')"
      ]
     },
     "execution_count": 118,
     "metadata": {},
     "output_type": "execute_result"
    }
   ],
   "source": [
    "bldng_age.columns"
   ]
  },
  {
   "cell_type": "code",
   "execution_count": 119,
   "metadata": {
    "collapsed": false
   },
   "outputs": [],
   "source": [
    "#take weighted average\n",
    "bldng_age['avg_bldng_age'] = 2014 - ((bldng_age['Estimate; Total: - Built 2010 or later']*2010 + bldng_age['Estimate; Total: - Built 2000 to 2009']*2005 + bldng_age['Estimate; Total: - Built 1990 to 1999']*1995 + bldng_age['Estimate; Total: - Built 1980 to 1989']*1985 + bldng_age['Estimate; Total: - Built 1970 to 1979']*1975 + bldng_age['Estimate; Total: - Built 1960 to 1969']*1965 + bldng_age['Estimate; Total: - Built 1950 to 1959']*1955 + bldng_age['Estimate; Total: - Built 1940 to 1949']*1945 + bldng_age['Estimate; Total: - Built 1939 or earlier']*1939) / bldng_age['Estimate; Total:'])\n",
    "bldng_age = bldng_age[['Id2', 'avg_bldng_age']]"
   ]
  },
  {
   "cell_type": "code",
   "execution_count": 120,
   "metadata": {
    "collapsed": false
   },
   "outputs": [
    {
     "data": {
      "text/html": [
       "<div>\n",
       "<table border=\"1\" class=\"dataframe\">\n",
       "  <thead>\n",
       "    <tr style=\"text-align: right;\">\n",
       "      <th></th>\n",
       "      <th>Id2</th>\n",
       "      <th>avg_bldng_age</th>\n",
       "    </tr>\n",
       "  </thead>\n",
       "  <tbody>\n",
       "    <tr>\n",
       "      <th>0</th>\n",
       "      <td>360050001000</td>\n",
       "      <td>NaN</td>\n",
       "    </tr>\n",
       "    <tr>\n",
       "      <th>1</th>\n",
       "      <td>360050001001</td>\n",
       "      <td>NaN</td>\n",
       "    </tr>\n",
       "    <tr>\n",
       "      <th>2</th>\n",
       "      <td>360050002000</td>\n",
       "      <td>NaN</td>\n",
       "    </tr>\n",
       "    <tr>\n",
       "      <th>3</th>\n",
       "      <td>360050002001</td>\n",
       "      <td>63.282609</td>\n",
       "    </tr>\n",
       "    <tr>\n",
       "      <th>4</th>\n",
       "      <td>360050002002</td>\n",
       "      <td>56.682836</td>\n",
       "    </tr>\n",
       "    <tr>\n",
       "      <th>5</th>\n",
       "      <td>360050002003</td>\n",
       "      <td>33.354906</td>\n",
       "    </tr>\n",
       "    <tr>\n",
       "      <th>6</th>\n",
       "      <td>360050004000</td>\n",
       "      <td>NaN</td>\n",
       "    </tr>\n",
       "    <tr>\n",
       "      <th>7</th>\n",
       "      <td>360050004001</td>\n",
       "      <td>48.741325</td>\n",
       "    </tr>\n",
       "    <tr>\n",
       "      <th>8</th>\n",
       "      <td>360050004002</td>\n",
       "      <td>52.872428</td>\n",
       "    </tr>\n",
       "    <tr>\n",
       "      <th>9</th>\n",
       "      <td>360050004003</td>\n",
       "      <td>24.045010</td>\n",
       "    </tr>\n",
       "  </tbody>\n",
       "</table>\n",
       "</div>"
      ],
      "text/plain": [
       "            Id2  avg_bldng_age\n",
       "0  360050001000            NaN\n",
       "1  360050001001            NaN\n",
       "2  360050002000            NaN\n",
       "3  360050002001      63.282609\n",
       "4  360050002002      56.682836\n",
       "5  360050002003      33.354906\n",
       "6  360050004000            NaN\n",
       "7  360050004001      48.741325\n",
       "8  360050004002      52.872428\n",
       "9  360050004003      24.045010"
      ]
     },
     "execution_count": 120,
     "metadata": {},
     "output_type": "execute_result"
    }
   ],
   "source": [
    "bldng_age.head(10)"
   ]
  },
  {
   "cell_type": "markdown",
   "metadata": {},
   "source": [
    "### Import house heating fuel\n",
    "Table B25040"
   ]
  },
  {
   "cell_type": "code",
   "execution_count": 121,
   "metadata": {
    "collapsed": true
   },
   "outputs": [],
   "source": [
    "z = zipfile.ZipFile('../data_initial/ACS_14_5YR_B25040.zip')\n",
    "z.extractall('../data_initial/')"
   ]
  },
  {
   "cell_type": "code",
   "execution_count": 122,
   "metadata": {
    "collapsed": false
   },
   "outputs": [
    {
     "data": {
      "text/html": [
       "<div>\n",
       "<table border=\"1\" class=\"dataframe\">\n",
       "  <thead>\n",
       "    <tr style=\"text-align: right;\">\n",
       "      <th></th>\n",
       "      <th>Id</th>\n",
       "      <th>Id2</th>\n",
       "      <th>Geography</th>\n",
       "      <th>Estimate; Total:</th>\n",
       "      <th>Margin of Error; Total:</th>\n",
       "      <th>Estimate; Total: - Utility gas</th>\n",
       "      <th>Margin of Error; Total: - Utility gas</th>\n",
       "      <th>Estimate; Total: - Bottled, tank, or LP gas</th>\n",
       "      <th>Margin of Error; Total: - Bottled, tank, or LP gas</th>\n",
       "      <th>Estimate; Total: - Electricity</th>\n",
       "      <th>...</th>\n",
       "      <th>Estimate; Total: - Coal or coke</th>\n",
       "      <th>Margin of Error; Total: - Coal or coke</th>\n",
       "      <th>Estimate; Total: - Wood</th>\n",
       "      <th>Margin of Error; Total: - Wood</th>\n",
       "      <th>Estimate; Total: - Solar energy</th>\n",
       "      <th>Margin of Error; Total: - Solar energy</th>\n",
       "      <th>Estimate; Total: - Other fuel</th>\n",
       "      <th>Margin of Error; Total: - Other fuel</th>\n",
       "      <th>Estimate; Total: - No fuel used</th>\n",
       "      <th>Margin of Error; Total: - No fuel used</th>\n",
       "    </tr>\n",
       "  </thead>\n",
       "  <tbody>\n",
       "    <tr>\n",
       "      <th>0</th>\n",
       "      <td>1500000US360050001000</td>\n",
       "      <td>360050001000</td>\n",
       "      <td>Block Group 0, Census Tract 1, Bronx County, N...</td>\n",
       "      <td>0</td>\n",
       "      <td>11</td>\n",
       "      <td>0</td>\n",
       "      <td>11</td>\n",
       "      <td>0</td>\n",
       "      <td>11</td>\n",
       "      <td>0</td>\n",
       "      <td>...</td>\n",
       "      <td>0</td>\n",
       "      <td>11</td>\n",
       "      <td>0</td>\n",
       "      <td>11</td>\n",
       "      <td>0</td>\n",
       "      <td>11</td>\n",
       "      <td>0</td>\n",
       "      <td>11</td>\n",
       "      <td>0</td>\n",
       "      <td>11</td>\n",
       "    </tr>\n",
       "    <tr>\n",
       "      <th>1</th>\n",
       "      <td>1500000US360050001001</td>\n",
       "      <td>360050001001</td>\n",
       "      <td>Block Group 1, Census Tract 1, Bronx County, N...</td>\n",
       "      <td>0</td>\n",
       "      <td>16</td>\n",
       "      <td>0</td>\n",
       "      <td>16</td>\n",
       "      <td>0</td>\n",
       "      <td>16</td>\n",
       "      <td>0</td>\n",
       "      <td>...</td>\n",
       "      <td>0</td>\n",
       "      <td>16</td>\n",
       "      <td>0</td>\n",
       "      <td>16</td>\n",
       "      <td>0</td>\n",
       "      <td>16</td>\n",
       "      <td>0</td>\n",
       "      <td>16</td>\n",
       "      <td>0</td>\n",
       "      <td>16</td>\n",
       "    </tr>\n",
       "  </tbody>\n",
       "</table>\n",
       "<p>2 rows × 23 columns</p>\n",
       "</div>"
      ],
      "text/plain": [
       "                      Id           Id2  \\\n",
       "0  1500000US360050001000  360050001000   \n",
       "1  1500000US360050001001  360050001001   \n",
       "\n",
       "                                           Geography  Estimate; Total:  \\\n",
       "0  Block Group 0, Census Tract 1, Bronx County, N...                 0   \n",
       "1  Block Group 1, Census Tract 1, Bronx County, N...                 0   \n",
       "\n",
       "   Margin of Error; Total:  Estimate; Total: - Utility gas  \\\n",
       "0                       11                               0   \n",
       "1                       16                               0   \n",
       "\n",
       "   Margin of Error; Total: - Utility gas  \\\n",
       "0                                     11   \n",
       "1                                     16   \n",
       "\n",
       "   Estimate; Total: - Bottled, tank, or LP gas  \\\n",
       "0                                            0   \n",
       "1                                            0   \n",
       "\n",
       "   Margin of Error; Total: - Bottled, tank, or LP gas  \\\n",
       "0                                                 11    \n",
       "1                                                 16    \n",
       "\n",
       "   Estimate; Total: - Electricity                   ...                    \\\n",
       "0                               0                   ...                     \n",
       "1                               0                   ...                     \n",
       "\n",
       "   Estimate; Total: - Coal or coke  Margin of Error; Total: - Coal or coke  \\\n",
       "0                                0                                      11   \n",
       "1                                0                                      16   \n",
       "\n",
       "   Estimate; Total: - Wood  Margin of Error; Total: - Wood  \\\n",
       "0                        0                              11   \n",
       "1                        0                              16   \n",
       "\n",
       "   Estimate; Total: - Solar energy  Margin of Error; Total: - Solar energy  \\\n",
       "0                                0                                      11   \n",
       "1                                0                                      16   \n",
       "\n",
       "   Estimate; Total: - Other fuel  Margin of Error; Total: - Other fuel  \\\n",
       "0                              0                                    11   \n",
       "1                              0                                    16   \n",
       "\n",
       "   Estimate; Total: - No fuel used  Margin of Error; Total: - No fuel used  \n",
       "0                                0                                      11  \n",
       "1                                0                                      16  \n",
       "\n",
       "[2 rows x 23 columns]"
      ]
     },
     "execution_count": 122,
     "metadata": {},
     "output_type": "execute_result"
    }
   ],
   "source": [
    "heat_fuel = pd.read_csv('../data_initial/ACS_14_5YR_B25040_with_ann.csv', header=1)\n",
    "heat_fuel.head(2)"
   ]
  },
  {
   "cell_type": "code",
   "execution_count": 123,
   "metadata": {
    "collapsed": false
   },
   "outputs": [],
   "source": [
    "heat_fuel = heat_fuel[['Id2', 'Estimate; Total: - Utility gas', 'Estimate; Total:']]\n",
    "heat_fuel['utility_gas_r'] = heat_fuel['Estimate; Total: - Utility gas'] / heat_fuel['Estimate; Total:']\n",
    "heat_fuel = heat_fuel[['Id2', 'utility_gas_r']]"
   ]
  },
  {
   "cell_type": "code",
   "execution_count": 129,
   "metadata": {
    "collapsed": false
   },
   "outputs": [
    {
     "data": {
      "text/plain": [
       "Id2                0\n",
       "utility_gas_r    280\n",
       "dtype: int64"
      ]
     },
     "execution_count": 129,
     "metadata": {},
     "output_type": "execute_result"
    }
   ],
   "source": [
    "heat_fuel.isnull().sum()"
   ]
  },
  {
   "cell_type": "code",
   "execution_count": 124,
   "metadata": {
    "collapsed": false
   },
   "outputs": [
    {
     "data": {
      "text/html": [
       "<div>\n",
       "<table border=\"1\" class=\"dataframe\">\n",
       "  <thead>\n",
       "    <tr style=\"text-align: right;\">\n",
       "      <th></th>\n",
       "      <th>Id2</th>\n",
       "      <th>utility_gas_r</th>\n",
       "    </tr>\n",
       "  </thead>\n",
       "  <tbody>\n",
       "    <tr>\n",
       "      <th>0</th>\n",
       "      <td>360050001000</td>\n",
       "      <td>NaN</td>\n",
       "    </tr>\n",
       "    <tr>\n",
       "      <th>1</th>\n",
       "      <td>360050001001</td>\n",
       "      <td>NaN</td>\n",
       "    </tr>\n",
       "    <tr>\n",
       "      <th>2</th>\n",
       "      <td>360050002000</td>\n",
       "      <td>NaN</td>\n",
       "    </tr>\n",
       "    <tr>\n",
       "      <th>3</th>\n",
       "      <td>360050002001</td>\n",
       "      <td>0.813043</td>\n",
       "    </tr>\n",
       "    <tr>\n",
       "      <th>4</th>\n",
       "      <td>360050002002</td>\n",
       "      <td>0.711579</td>\n",
       "    </tr>\n",
       "  </tbody>\n",
       "</table>\n",
       "</div>"
      ],
      "text/plain": [
       "            Id2  utility_gas_r\n",
       "0  360050001000            NaN\n",
       "1  360050001001            NaN\n",
       "2  360050002000            NaN\n",
       "3  360050002001       0.813043\n",
       "4  360050002002       0.711579"
      ]
     },
     "execution_count": 124,
     "metadata": {},
     "output_type": "execute_result"
    }
   ],
   "source": [
    "heat_fuel.head()"
   ]
  },
  {
   "cell_type": "code",
   "execution_count": 125,
   "metadata": {
    "collapsed": true
   },
   "outputs": [],
   "source": [
    "merge1 = pd.merge(heat_fuel, homeowner, on='Id2', how='outer')"
   ]
  },
  {
   "cell_type": "code",
   "execution_count": 126,
   "metadata": {
    "collapsed": true
   },
   "outputs": [],
   "source": [
    "phys_cond_14 = pd.merge(merge1, bldng_age, on='Id2', how='outer')"
   ]
  },
  {
   "cell_type": "code",
   "execution_count": 127,
   "metadata": {
    "collapsed": true
   },
   "outputs": [],
   "source": [
    "phys_cond_14.to_csv('../data_processed/phys_cond_14')"
   ]
  },
  {
   "cell_type": "code",
   "execution_count": 128,
   "metadata": {
    "collapsed": false
   },
   "outputs": [
    {
     "data": {
      "text/html": [
       "<div>\n",
       "<table border=\"1\" class=\"dataframe\">\n",
       "  <thead>\n",
       "    <tr style=\"text-align: right;\">\n",
       "      <th></th>\n",
       "      <th>Id2</th>\n",
       "      <th>utility_gas_r</th>\n",
       "      <th>Geography</th>\n",
       "      <th>homeowner_r</th>\n",
       "      <th>avg_bldng_age</th>\n",
       "    </tr>\n",
       "  </thead>\n",
       "  <tbody>\n",
       "    <tr>\n",
       "      <th>0</th>\n",
       "      <td>360050001000</td>\n",
       "      <td>NaN</td>\n",
       "      <td>Block Group 0, Census Tract 1, Bronx County, N...</td>\n",
       "      <td>NaN</td>\n",
       "      <td>NaN</td>\n",
       "    </tr>\n",
       "    <tr>\n",
       "      <th>1</th>\n",
       "      <td>360050001001</td>\n",
       "      <td>NaN</td>\n",
       "      <td>Block Group 1, Census Tract 1, Bronx County, N...</td>\n",
       "      <td>NaN</td>\n",
       "      <td>NaN</td>\n",
       "    </tr>\n",
       "  </tbody>\n",
       "</table>\n",
       "</div>"
      ],
      "text/plain": [
       "            Id2  utility_gas_r  \\\n",
       "0  360050001000            NaN   \n",
       "1  360050001001            NaN   \n",
       "\n",
       "                                           Geography  homeowner_r  \\\n",
       "0  Block Group 0, Census Tract 1, Bronx County, N...          NaN   \n",
       "1  Block Group 1, Census Tract 1, Bronx County, N...          NaN   \n",
       "\n",
       "   avg_bldng_age  \n",
       "0            NaN  \n",
       "1            NaN  "
      ]
     },
     "execution_count": 128,
     "metadata": {},
     "output_type": "execute_result"
    }
   ],
   "source": [
    "phys_cond_14.head(2)"
   ]
  },
  {
   "cell_type": "code",
   "execution_count": 130,
   "metadata": {
    "collapsed": false
   },
   "outputs": [
    {
     "data": {
      "text/plain": [
       "Id2                0\n",
       "utility_gas_r    280\n",
       "Geography          0\n",
       "homeowner_r      280\n",
       "avg_bldng_age    278\n",
       "dtype: int64"
      ]
     },
     "execution_count": 130,
     "metadata": {},
     "output_type": "execute_result"
    }
   ],
   "source": [
    "phys_cond_14.isnull().sum()"
   ]
  },
  {
   "cell_type": "code",
   "execution_count": 131,
   "metadata": {
    "collapsed": false
   },
   "outputs": [
    {
     "data": {
      "text/plain": [
       "6493"
      ]
     },
     "execution_count": 131,
     "metadata": {},
     "output_type": "execute_result"
    }
   ],
   "source": [
    "len(phys_cond_14)"
   ]
  }
 ],
 "metadata": {
  "kernelspec": {
   "display_name": "Python 2",
   "language": "python",
   "name": "python2"
  },
  "language_info": {
   "codemirror_mode": {
    "name": "ipython",
    "version": 2
   },
   "file_extension": ".py",
   "mimetype": "text/x-python",
   "name": "python",
   "nbconvert_exporter": "python",
   "pygments_lexer": "ipython2",
   "version": "2.7.12"
  }
 },
 "nbformat": 4,
 "nbformat_minor": 1
}
