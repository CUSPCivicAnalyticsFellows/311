{
 "cells": [
  {
   "cell_type": "code",
   "execution_count": 1,
   "metadata": {
    "collapsed": false
   },
   "outputs": [
    {
     "name": "stdout",
     "output_type": "stream",
     "text": [
      "Populating the interactive namespace from numpy and matplotlib\n"
     ]
    }
   ],
   "source": [
    "import pandas as pd\n",
    "import zipfile\n",
    "import geopandas as gpd\n",
    "%pylab inline"
   ]
  },
  {
   "cell_type": "markdown",
   "metadata": {},
   "source": [
    "Specific features needed from PLUTO are;\n",
    "* BldgArea of non city-owned or federal-owned lots\n",
    "* Drop ResArea of non city-owned and non-federal owned lots = 0 \n",
    "* ResArea of non city-owned or federal-owned lots (\"OwnerName\" is not \"NYC Housing Authority\" or \"NYC Housing\")\n",
    "* UnitsRes of non city-owned or federal-owned lots (\"OwnerName\" is not \"NYC Housing Authority\" or \"NYC Housing\")\n",
    "* AssessTot\n",
    "* Built year\n",
    "* Building class\n",
    "* Num floors"
   ]
  },
  {
   "cell_type": "code",
   "execution_count": 2,
   "metadata": {
    "collapsed": false
   },
   "outputs": [],
   "source": [
    "def pluto(mappluto):\n",
    "    z = zipfile.ZipFile(mappluto)\n",
    "    z.extractall('../data_initial/')\n",
    "    \n",
    "    boroughs = ['Staten_Island', 'Queens', 'Manhattan', 'Bronx', 'Brooklyn']\n",
    "    abreevs = ['SI', 'QN', 'MN', 'BX', 'BK']\n",
    "\n",
    "    pluto = []\n",
    "    i = 0\n",
    "    for elem in boroughs:\n",
    "        temp = gpd.read_file('../data_initial/'+elem+'/'+abreevs[i]+'MapPLUTO.shp')\n",
    "        temp['BBL'] = temp['BBL'].astype(str)\n",
    "        #temp = temp.to_crs({'init':'epsg:4326'})\n",
    "        pluto.append(temp)\n",
    "        i+=1  \n",
    "\n",
    "    global pluto_updated\n",
    "    pluto_updated = pd.concat(pluto)\n",
    "\n",
    "    return pluto_updated.head()"
   ]
  },
  {
   "cell_type": "code",
   "execution_count": 3,
   "metadata": {
    "collapsed": false
   },
   "outputs": [
    {
     "data": {
      "text/html": [
       "<div>\n",
       "<table border=\"1\" class=\"dataframe\">\n",
       "  <thead>\n",
       "    <tr style=\"text-align: right;\">\n",
       "      <th></th>\n",
       "      <th>APPBBL</th>\n",
       "      <th>APPDate</th>\n",
       "      <th>Address</th>\n",
       "      <th>AllZoning1</th>\n",
       "      <th>AllZoning2</th>\n",
       "      <th>AreaSource</th>\n",
       "      <th>AssessLand</th>\n",
       "      <th>AssessTot</th>\n",
       "      <th>BBL</th>\n",
       "      <th>BldgArea</th>\n",
       "      <th>...</th>\n",
       "      <th>YearAlter2</th>\n",
       "      <th>YearBuilt</th>\n",
       "      <th>ZMCode</th>\n",
       "      <th>ZipCode</th>\n",
       "      <th>ZoneDist1</th>\n",
       "      <th>ZoneDist2</th>\n",
       "      <th>ZoneDist3</th>\n",
       "      <th>ZoneDist4</th>\n",
       "      <th>ZoneMap</th>\n",
       "      <th>geometry</th>\n",
       "    </tr>\n",
       "  </thead>\n",
       "  <tbody>\n",
       "    <tr>\n",
       "      <th>0</th>\n",
       "      <td>0.0</td>\n",
       "      <td>None</td>\n",
       "      <td>437 PURDY AVENUE</td>\n",
       "      <td>R3-1</td>\n",
       "      <td>None</td>\n",
       "      <td>7</td>\n",
       "      <td>15120.0</td>\n",
       "      <td>23400.0</td>\n",
       "      <td>5007470028.0</td>\n",
       "      <td>1488</td>\n",
       "      <td>...</td>\n",
       "      <td>0</td>\n",
       "      <td>1960</td>\n",
       "      <td>None</td>\n",
       "      <td>10314</td>\n",
       "      <td>R3-1</td>\n",
       "      <td>None</td>\n",
       "      <td>None</td>\n",
       "      <td>None</td>\n",
       "      <td>20d</td>\n",
       "      <td>POLYGON ((944681.4200000018 161477.381400004, ...</td>\n",
       "    </tr>\n",
       "    <tr>\n",
       "      <th>1</th>\n",
       "      <td>0.0</td>\n",
       "      <td>None</td>\n",
       "      <td>CUNARD AVENUE</td>\n",
       "      <td>R3A/HS</td>\n",
       "      <td>None</td>\n",
       "      <td>4</td>\n",
       "      <td>21518.0</td>\n",
       "      <td>21518.0</td>\n",
       "      <td>5006230252.0</td>\n",
       "      <td>0</td>\n",
       "      <td>...</td>\n",
       "      <td>0</td>\n",
       "      <td>0</td>\n",
       "      <td>None</td>\n",
       "      <td>10304</td>\n",
       "      <td>R3A</td>\n",
       "      <td>None</td>\n",
       "      <td>None</td>\n",
       "      <td>None</td>\n",
       "      <td>21d</td>\n",
       "      <td>POLYGON ((959872.0577999949 162992.5866000056,...</td>\n",
       "    </tr>\n",
       "    <tr>\n",
       "      <th>2</th>\n",
       "      <td>0.0</td>\n",
       "      <td>None</td>\n",
       "      <td>121 MOUNTAINVIEW AVENUE</td>\n",
       "      <td>R3-1</td>\n",
       "      <td>None</td>\n",
       "      <td>7</td>\n",
       "      <td>13561.0</td>\n",
       "      <td>22602.0</td>\n",
       "      <td>5007130017.0</td>\n",
       "      <td>1316</td>\n",
       "      <td>...</td>\n",
       "      <td>0</td>\n",
       "      <td>1920</td>\n",
       "      <td>None</td>\n",
       "      <td>10314</td>\n",
       "      <td>R3-1</td>\n",
       "      <td>None</td>\n",
       "      <td>None</td>\n",
       "      <td>None</td>\n",
       "      <td>21b</td>\n",
       "      <td>POLYGON ((949278.1987999976 161346.9971999973,...</td>\n",
       "    </tr>\n",
       "    <tr>\n",
       "      <th>3</th>\n",
       "      <td>0.0</td>\n",
       "      <td>None</td>\n",
       "      <td>26 FANNING STREET</td>\n",
       "      <td>R3X</td>\n",
       "      <td>None</td>\n",
       "      <td>7</td>\n",
       "      <td>9720.0</td>\n",
       "      <td>28740.0</td>\n",
       "      <td>5007140091.0</td>\n",
       "      <td>2188</td>\n",
       "      <td>...</td>\n",
       "      <td>0</td>\n",
       "      <td>1975</td>\n",
       "      <td>None</td>\n",
       "      <td>10314</td>\n",
       "      <td>R3X</td>\n",
       "      <td>None</td>\n",
       "      <td>None</td>\n",
       "      <td>None</td>\n",
       "      <td>21b</td>\n",
       "      <td>POLYGON ((950061.0491999984 160815.3023999929,...</td>\n",
       "    </tr>\n",
       "    <tr>\n",
       "      <th>4</th>\n",
       "      <td>0.0</td>\n",
       "      <td>None</td>\n",
       "      <td>335 SIMONSON AVENUE</td>\n",
       "      <td>R3A</td>\n",
       "      <td>None</td>\n",
       "      <td>7</td>\n",
       "      <td>7617.0</td>\n",
       "      <td>22118.0</td>\n",
       "      <td>5011840039.0</td>\n",
       "      <td>2392</td>\n",
       "      <td>...</td>\n",
       "      <td>0</td>\n",
       "      <td>1965</td>\n",
       "      <td>None</td>\n",
       "      <td>10303</td>\n",
       "      <td>R3A</td>\n",
       "      <td>None</td>\n",
       "      <td>None</td>\n",
       "      <td>None</td>\n",
       "      <td>20c</td>\n",
       "      <td>POLYGON ((941981.4906000048 168120.2173999995,...</td>\n",
       "    </tr>\n",
       "  </tbody>\n",
       "</table>\n",
       "<p>5 rows × 87 columns</p>\n",
       "</div>"
      ],
      "text/plain": [
       "   APPBBL APPDate                  Address AllZoning1 AllZoning2 AreaSource  \\\n",
       "0     0.0    None         437 PURDY AVENUE       R3-1       None          7   \n",
       "1     0.0    None            CUNARD AVENUE     R3A/HS       None          4   \n",
       "2     0.0    None  121 MOUNTAINVIEW AVENUE       R3-1       None          7   \n",
       "3     0.0    None        26 FANNING STREET        R3X       None          7   \n",
       "4     0.0    None      335 SIMONSON AVENUE        R3A       None          7   \n",
       "\n",
       "   AssessLand  AssessTot           BBL  BldgArea  \\\n",
       "0     15120.0    23400.0  5007470028.0      1488   \n",
       "1     21518.0    21518.0  5006230252.0         0   \n",
       "2     13561.0    22602.0  5007130017.0      1316   \n",
       "3      9720.0    28740.0  5007140091.0      2188   \n",
       "4      7617.0    22118.0  5011840039.0      2392   \n",
       "\n",
       "                         ...                         YearAlter2  YearBuilt  \\\n",
       "0                        ...                                  0       1960   \n",
       "1                        ...                                  0          0   \n",
       "2                        ...                                  0       1920   \n",
       "3                        ...                                  0       1975   \n",
       "4                        ...                                  0       1965   \n",
       "\n",
       "   ZMCode  ZipCode  ZoneDist1 ZoneDist2 ZoneDist3 ZoneDist4  ZoneMap  \\\n",
       "0    None    10314       R3-1      None      None      None      20d   \n",
       "1    None    10304        R3A      None      None      None      21d   \n",
       "2    None    10314       R3-1      None      None      None      21b   \n",
       "3    None    10314        R3X      None      None      None      21b   \n",
       "4    None    10303        R3A      None      None      None      20c   \n",
       "\n",
       "                                            geometry  \n",
       "0  POLYGON ((944681.4200000018 161477.381400004, ...  \n",
       "1  POLYGON ((959872.0577999949 162992.5866000056,...  \n",
       "2  POLYGON ((949278.1987999976 161346.9971999973,...  \n",
       "3  POLYGON ((950061.0491999984 160815.3023999929,...  \n",
       "4  POLYGON ((941981.4906000048 168120.2173999995,...  \n",
       "\n",
       "[5 rows x 87 columns]"
      ]
     },
     "execution_count": 3,
     "metadata": {},
     "output_type": "execute_result"
    }
   ],
   "source": [
    "pluto('../data_initial/mappluto_16v2.zip')"
   ]
  },
  {
   "cell_type": "code",
   "execution_count": 161,
   "metadata": {
    "collapsed": true
   },
   "outputs": [],
   "source": [
    "pluto_updated.to_csv('../data_processed/pluto_16')"
   ]
  },
  {
   "cell_type": "markdown",
   "metadata": {},
   "source": [
    "### there are no 'ownernames' with 'nyc housing authority' or 'nyc housing' so using ownertype instead"
   ]
  },
  {
   "cell_type": "code",
   "execution_count": 223,
   "metadata": {
    "collapsed": false
   },
   "outputs": [],
   "source": [
    "t1 = pluto_updated[pluto_updated['UnitsRes'] != 0]\n",
    "t1 = t1[(t1['OwnerType'] != 'O') & (t1['OwnerType'] != 'C')]"
   ]
  },
  {
   "cell_type": "code",
   "execution_count": 162,
   "metadata": {
    "collapsed": false
   },
   "outputs": [
    {
     "data": {
      "text/plain": [
       "array([None, u'X', u'P', u'M'], dtype=object)"
      ]
     },
     "execution_count": 162,
     "metadata": {},
     "output_type": "execute_result"
    }
   ],
   "source": [
    "t1['OwnerType'].unique()"
   ]
  },
  {
   "cell_type": "code",
   "execution_count": 28,
   "metadata": {
    "collapsed": false
   },
   "outputs": [
    {
     "data": {
      "text/plain": [
       "759588"
      ]
     },
     "execution_count": 28,
     "metadata": {},
     "output_type": "execute_result"
    }
   ],
   "source": [
    "len(t1)"
   ]
  },
  {
   "cell_type": "code",
   "execution_count": 35,
   "metadata": {
    "collapsed": true
   },
   "outputs": [],
   "source": [
    "t2 = pluto_updated[pluto_updated['ResArea'] != 0]\n",
    "t2 = t2[(t2['OwnerType'] != 'O') & (t2['OwnerType'] != 'C')]"
   ]
  },
  {
   "cell_type": "code",
   "execution_count": 36,
   "metadata": {
    "collapsed": false
   },
   "outputs": [
    {
     "data": {
      "text/plain": [
       "756934"
      ]
     },
     "execution_count": 36,
     "metadata": {},
     "output_type": "execute_result"
    }
   ],
   "source": [
    "len(t2)"
   ]
  },
  {
   "cell_type": "markdown",
   "metadata": {},
   "source": [
    "### selecting to use 'unitsres' as the value for not equalling zero because there are more rows included"
   ]
  },
  {
   "cell_type": "code",
   "execution_count": 224,
   "metadata": {
    "collapsed": false
   },
   "outputs": [
    {
     "data": {
      "text/plain": [
       "Index([    u'APPBBL',    u'APPDate',    u'Address', u'AllZoning1',\n",
       "       u'AllZoning2', u'AreaSource', u'AssessLand',  u'AssessTot',\n",
       "              u'BBL',   u'BldgArea',  u'BldgClass',  u'BldgDepth',\n",
       "        u'BldgFront',      u'Block',   u'BoroCode',    u'Borough',\n",
       "         u'BsmtCode',  u'BuiltCode',   u'BuiltFAR',     u'CB2010',\n",
       "               u'CD',     u'CT2010',    u'ComArea',    u'CommFAR',\n",
       "          u'CondoNo',    u'Council',  u'EDesigNum',  u'Easements',\n",
       "       u'ExemptLand',  u'ExemptTot',        u'Ext',   u'FacilFAR',\n",
       "       u'FactryArea',   u'FireComp', u'GarageArea', u'HealthArea',\n",
       "         u'HistDist', u'IrrLotCode',    u'LandUse',   u'Landmark',\n",
       "              u'Lot',    u'LotArea',   u'LotDepth',   u'LotFront',\n",
       "          u'LotType',  u'LtdHeight', u'MAPPLUTO_F',   u'NumBldgs',\n",
       "        u'NumFloors', u'OfficeArea',  u'OtherArea',   u'Overlay1',\n",
       "         u'Overlay2',  u'OwnerName',  u'OwnerType', u'PLUTOMapID',\n",
       "       u'PolicePrct',   u'ProxCode',    u'ResArea',   u'ResidFAR',\n",
       "       u'RetailArea', u'SHAPE_Area', u'SHAPE_Leng',    u'SPDist1',\n",
       "          u'SPDist2',    u'Sanborn', u'SchoolDist',  u'SplitZone',\n",
       "        u'StrgeArea',     u'TaxMap',  u'Tract2010',   u'UnitsRes',\n",
       "       u'UnitsTotal',    u'Version',     u'XCoord',     u'YCoord',\n",
       "       u'YearAlter1', u'YearAlter2',  u'YearBuilt',     u'ZMCode',\n",
       "          u'ZipCode',  u'ZoneDist1',  u'ZoneDist2',  u'ZoneDist3',\n",
       "        u'ZoneDist4',    u'ZoneMap',   u'geometry'],\n",
       "      dtype='object')"
      ]
     },
     "execution_count": 224,
     "metadata": {},
     "output_type": "execute_result"
    }
   ],
   "source": [
    "t1.columns"
   ]
  },
  {
   "cell_type": "code",
   "execution_count": 225,
   "metadata": {
    "collapsed": false
   },
   "outputs": [],
   "source": [
    "t1 = t1.drop(['APPBBL', 'APPDate', 'Address', 'AreaSource', 'BldgDepth', 'BldgFront', \\\n",
    "                                   'Block', 'BoroCode', 'Borough', 'CB2010', 'CD', 'CT2010', 'ComArea', \\\n",
    "                                   'CommFAR', 'CondoNo', 'Council', 'EDesigNum', 'FacilFAR', 'FactryArea', \\\n",
    "                                   'FireComp', 'GarageArea', 'HealthArea', 'HistDist', 'IrrLotCode', 'Landmark', \\\n",
    "                                   'Lot', 'LotArea', 'LotDepth', 'LotFront', 'LtdHeight', 'MAPPLUTO_F', \\\n",
    "             'OfficeArea', 'OtherArea', 'Overlay1', 'Overlay2', 'PLUTOMapID', 'PolicePrct', 'ResidFAR', \\\n",
    "             'RetailArea', 'Sanborn', 'SchoolDist', 'StrgeArea', 'TaxMap', 'Tract2010', 'YearAlter1', \\\n",
    "             'YearAlter2', 'ZoneDist1', 'ZipCode', 'ZoneDist2', 'ZoneDist3', 'ZoneDist4', 'ZoneMap', \\\n",
    "             'XCoord', 'Version', 'YCoord', 'ZMCode', 'SPDist1', 'SPDist2', 'ExemptTot', 'BuiltCode', \\\n",
    "             'AllZoning1', 'AllZoning2', 'ExemptLand', 'geometry', 'Easements', 'SHAPE_Area', 'SHAPE_Leng', \\\n",
    "             'OwnerName', 'Ext', 'SplitZone'], axis=1)"
   ]
  },
  {
   "cell_type": "code",
   "execution_count": 226,
   "metadata": {
    "collapsed": false
   },
   "outputs": [
    {
     "data": {
      "text/plain": [
       "Index([u'AssessLand', u'AssessTot', u'BBL', u'BldgArea', u'BldgClass',\n",
       "       u'BsmtCode', u'BuiltFAR', u'LandUse', u'LotType', u'NumBldgs',\n",
       "       u'NumFloors', u'OwnerType', u'ProxCode', u'ResArea', u'UnitsRes',\n",
       "       u'UnitsTotal', u'YearBuilt'],\n",
       "      dtype='object')"
      ]
     },
     "execution_count": 226,
     "metadata": {},
     "output_type": "execute_result"
    }
   ],
   "source": [
    "t1.columns"
   ]
  },
  {
   "cell_type": "markdown",
   "metadata": {},
   "source": [
    "### explanation of variables in dataset\n",
    "* assessland -  tentative assessed land value for Fiscal Year 2017\n",
    "* assesstot - tentative assessed total value for Fiscal Year 2017\n",
    "* bldgarea - total gross area in square feet\n",
    "* bldgclass - code describing the major use of structures on the tax lot\n",
    "* bsmtcode - code describing the basement type/grade - 0: no basement, 1: full basement above grade, 2: full basement below grade, 3: partial basement above grade, 4: partial basement below grade, 5: unknown\n",
    "* landuse - code for the tax lot's land use category (01-09)\n",
    "* lottype - code indicating the location of the tax lot to another tax lot and/or the water (1-9)\n",
    "* numbldgs - number of buildings in the tax lot\n",
    "* numfloors - the tallest building on the tax lot, the number of full and partial stories starting from the ground floor\n",
    "* ownertype - M: mix city and private ownership, P: private ownership, X: mixed (excludes C, M, O, or P ownerships), blank: unknown\n",
    "* proxcode - physical relationship of the building to neighboring buildings - 0: not available, 1: detatched, 2: semi-attached, 3: attached\n",
    "* resarea - estimate of the exterior dimensions of the portion of the structure(s) allocated for residential use\n",
    "* unitsres - sum of residential units in all buildings on the tax lot\n",
    "* unitstotal - sum of residential and non-residential (offices, retail stores, etc.) units in all buildings on the tax lot\n",
    "* yearbuilt - year structure was built"
   ]
  },
  {
   "cell_type": "markdown",
   "metadata": {},
   "source": [
    "### merge pluto with complaint data"
   ]
  },
  {
   "cell_type": "code",
   "execution_count": 227,
   "metadata": {
    "collapsed": false
   },
   "outputs": [
    {
     "data": {
      "text/html": [
       "<div>\n",
       "<table border=\"1\" class=\"dataframe\">\n",
       "  <thead>\n",
       "    <tr style=\"text-align: right;\">\n",
       "      <th></th>\n",
       "      <th>BBL</th>\n",
       "      <th>com_count</th>\n",
       "      <th>BBL.1</th>\n",
       "    </tr>\n",
       "  </thead>\n",
       "  <tbody>\n",
       "    <tr>\n",
       "      <th>0</th>\n",
       "      <td>1000047501</td>\n",
       "      <td>0.020408</td>\n",
       "      <td>1000047501</td>\n",
       "    </tr>\n",
       "    <tr>\n",
       "      <th>1</th>\n",
       "      <td>1000100032</td>\n",
       "      <td>0.006803</td>\n",
       "      <td>1000100032</td>\n",
       "    </tr>\n",
       "    <tr>\n",
       "      <th>2</th>\n",
       "      <td>1000150022</td>\n",
       "      <td>0.006803</td>\n",
       "      <td>1000150022</td>\n",
       "    </tr>\n",
       "    <tr>\n",
       "      <th>3</th>\n",
       "      <td>1000160015</td>\n",
       "      <td>0.006803</td>\n",
       "      <td>1000160015</td>\n",
       "    </tr>\n",
       "    <tr>\n",
       "      <th>4</th>\n",
       "      <td>1000160020</td>\n",
       "      <td>0.013605</td>\n",
       "      <td>1000160020</td>\n",
       "    </tr>\n",
       "  </tbody>\n",
       "</table>\n",
       "</div>"
      ],
      "text/plain": [
       "          BBL  com_count       BBL.1\n",
       "0  1000047501   0.020408  1000047501\n",
       "1  1000100032   0.006803  1000100032\n",
       "2  1000150022   0.006803  1000150022\n",
       "3  1000160015   0.006803  1000160015\n",
       "4  1000160020   0.013605  1000160020"
      ]
     },
     "execution_count": 227,
     "metadata": {},
     "output_type": "execute_result"
    }
   ],
   "source": [
    "comp = pd.read_csv('../data_processed/311_heathotwater_2014_2016_BBL_WEEK_AVG.csv')\n",
    "comp.head()"
   ]
  },
  {
   "cell_type": "code",
   "execution_count": 228,
   "metadata": {
    "collapsed": true
   },
   "outputs": [],
   "source": [
    "comp = comp.drop('BBL.1',axis=1)"
   ]
  },
  {
   "cell_type": "code",
   "execution_count": 229,
   "metadata": {
    "collapsed": false
   },
   "outputs": [
    {
     "name": "stdout",
     "output_type": "stream",
     "text": [
      "int64\n",
      "object\n"
     ]
    }
   ],
   "source": [
    "print comp['BBL'].dtypes\n",
    "print t1['BBL'].dtypes"
   ]
  },
  {
   "cell_type": "code",
   "execution_count": 230,
   "metadata": {
    "collapsed": true
   },
   "outputs": [],
   "source": [
    "import numpy as np"
   ]
  },
  {
   "cell_type": "code",
   "execution_count": 231,
   "metadata": {
    "collapsed": true
   },
   "outputs": [],
   "source": [
    "t1['BBL'] = pd.to_numeric(t1['BBL'])"
   ]
  },
  {
   "cell_type": "code",
   "execution_count": 232,
   "metadata": {
    "collapsed": false
   },
   "outputs": [],
   "source": [
    "bbl = np.array(t1['BBL'])\n",
    "bbl = bbl.astype(int)"
   ]
  },
  {
   "cell_type": "code",
   "execution_count": 233,
   "metadata": {
    "collapsed": false
   },
   "outputs": [],
   "source": [
    "t1['BBL'] = bbl"
   ]
  },
  {
   "cell_type": "code",
   "execution_count": 234,
   "metadata": {
    "collapsed": false
   },
   "outputs": [
    {
     "name": "stdout",
     "output_type": "stream",
     "text": [
      "int64\n",
      "int64\n"
     ]
    }
   ],
   "source": [
    "print comp['BBL'].dtypes\n",
    "print t1['BBL'].dtypes"
   ]
  },
  {
   "cell_type": "code",
   "execution_count": 321,
   "metadata": {
    "collapsed": false
   },
   "outputs": [],
   "source": [
    "features = pd.merge(t1, comp, on ='BBL')"
   ]
  },
  {
   "cell_type": "code",
   "execution_count": 322,
   "metadata": {
    "collapsed": false
   },
   "outputs": [
    {
     "name": "stdout",
     "output_type": "stream",
     "text": [
      "758026\n",
      "53310\n",
      "51584\n"
     ]
    }
   ],
   "source": [
    "print len(t1)\n",
    "print len(comp)\n",
    "print len(features)"
   ]
  },
  {
   "cell_type": "code",
   "execution_count": 237,
   "metadata": {
    "collapsed": false
   },
   "outputs": [
    {
     "data": {
      "text/html": [
       "<div>\n",
       "<table border=\"1\" class=\"dataframe\">\n",
       "  <thead>\n",
       "    <tr style=\"text-align: right;\">\n",
       "      <th></th>\n",
       "      <th>AssessLand</th>\n",
       "      <th>AssessTot</th>\n",
       "      <th>BBL</th>\n",
       "      <th>BldgArea</th>\n",
       "      <th>BldgClass</th>\n",
       "      <th>BsmtCode</th>\n",
       "      <th>BuiltFAR</th>\n",
       "      <th>LandUse</th>\n",
       "      <th>LotType</th>\n",
       "      <th>NumBldgs</th>\n",
       "      <th>NumFloors</th>\n",
       "      <th>OwnerType</th>\n",
       "      <th>ProxCode</th>\n",
       "      <th>ResArea</th>\n",
       "      <th>UnitsRes</th>\n",
       "      <th>UnitsTotal</th>\n",
       "      <th>YearBuilt</th>\n",
       "      <th>com_count</th>\n",
       "    </tr>\n",
       "  </thead>\n",
       "  <tbody>\n",
       "    <tr>\n",
       "      <th>0</th>\n",
       "      <td>8441.0</td>\n",
       "      <td>22118.0</td>\n",
       "      <td>5010310021</td>\n",
       "      <td>4710</td>\n",
       "      <td>C0</td>\n",
       "      <td>2</td>\n",
       "      <td>0.70</td>\n",
       "      <td>02</td>\n",
       "      <td>5</td>\n",
       "      <td>1</td>\n",
       "      <td>2.75</td>\n",
       "      <td>None</td>\n",
       "      <td>1</td>\n",
       "      <td>4710</td>\n",
       "      <td>3</td>\n",
       "      <td>3</td>\n",
       "      <td>1920</td>\n",
       "      <td>0.013605</td>\n",
       "    </tr>\n",
       "    <tr>\n",
       "      <th>1</th>\n",
       "      <td>6480.0</td>\n",
       "      <td>24120.0</td>\n",
       "      <td>5012460037</td>\n",
       "      <td>2700</td>\n",
       "      <td>B2</td>\n",
       "      <td>2</td>\n",
       "      <td>0.92</td>\n",
       "      <td>01</td>\n",
       "      <td>5</td>\n",
       "      <td>1</td>\n",
       "      <td>2.00</td>\n",
       "      <td>None</td>\n",
       "      <td>1</td>\n",
       "      <td>2700</td>\n",
       "      <td>2</td>\n",
       "      <td>2</td>\n",
       "      <td>2003</td>\n",
       "      <td>0.034014</td>\n",
       "    </tr>\n",
       "    <tr>\n",
       "      <th>2</th>\n",
       "      <td>9007.0</td>\n",
       "      <td>30273.0</td>\n",
       "      <td>5033390088</td>\n",
       "      <td>1976</td>\n",
       "      <td>B1</td>\n",
       "      <td>2</td>\n",
       "      <td>0.48</td>\n",
       "      <td>01</td>\n",
       "      <td>5</td>\n",
       "      <td>1</td>\n",
       "      <td>2.00</td>\n",
       "      <td>None</td>\n",
       "      <td>1</td>\n",
       "      <td>1976</td>\n",
       "      <td>2</td>\n",
       "      <td>2</td>\n",
       "      <td>1955</td>\n",
       "      <td>0.054422</td>\n",
       "    </tr>\n",
       "    <tr>\n",
       "      <th>3</th>\n",
       "      <td>3980.0</td>\n",
       "      <td>11344.0</td>\n",
       "      <td>5000810024</td>\n",
       "      <td>1344</td>\n",
       "      <td>A1</td>\n",
       "      <td>2</td>\n",
       "      <td>0.54</td>\n",
       "      <td>01</td>\n",
       "      <td>5</td>\n",
       "      <td>1</td>\n",
       "      <td>2.00</td>\n",
       "      <td>None</td>\n",
       "      <td>1</td>\n",
       "      <td>1344</td>\n",
       "      <td>1</td>\n",
       "      <td>1</td>\n",
       "      <td>1901</td>\n",
       "      <td>0.074830</td>\n",
       "    </tr>\n",
       "    <tr>\n",
       "      <th>4</th>\n",
       "      <td>96750.0</td>\n",
       "      <td>324900.0</td>\n",
       "      <td>5000440001</td>\n",
       "      <td>14156</td>\n",
       "      <td>C9</td>\n",
       "      <td>5</td>\n",
       "      <td>0.66</td>\n",
       "      <td>02</td>\n",
       "      <td>3</td>\n",
       "      <td>1</td>\n",
       "      <td>2.00</td>\n",
       "      <td>P</td>\n",
       "      <td>0</td>\n",
       "      <td>14156</td>\n",
       "      <td>16</td>\n",
       "      <td>16</td>\n",
       "      <td>1984</td>\n",
       "      <td>0.006803</td>\n",
       "    </tr>\n",
       "  </tbody>\n",
       "</table>\n",
       "</div>"
      ],
      "text/plain": [
       "   AssessLand  AssessTot         BBL  BldgArea BldgClass BsmtCode  BuiltFAR  \\\n",
       "0      8441.0    22118.0  5010310021      4710        C0        2      0.70   \n",
       "1      6480.0    24120.0  5012460037      2700        B2        2      0.92   \n",
       "2      9007.0    30273.0  5033390088      1976        B1        2      0.48   \n",
       "3      3980.0    11344.0  5000810024      1344        A1        2      0.54   \n",
       "4     96750.0   324900.0  5000440001     14156        C9        5      0.66   \n",
       "\n",
       "  LandUse LotType  NumBldgs  NumFloors OwnerType ProxCode  ResArea  UnitsRes  \\\n",
       "0      02       5         1       2.75      None        1     4710         3   \n",
       "1      01       5         1       2.00      None        1     2700         2   \n",
       "2      01       5         1       2.00      None        1     1976         2   \n",
       "3      01       5         1       2.00      None        1     1344         1   \n",
       "4      02       3         1       2.00         P        0    14156        16   \n",
       "\n",
       "   UnitsTotal  YearBuilt  com_count  \n",
       "0           3       1920   0.013605  \n",
       "1           2       2003   0.034014  \n",
       "2           2       1955   0.054422  \n",
       "3           1       1901   0.074830  \n",
       "4          16       1984   0.006803  "
      ]
     },
     "execution_count": 237,
     "metadata": {},
     "output_type": "execute_result"
    }
   ],
   "source": [
    "features.head()"
   ]
  },
  {
   "cell_type": "code",
   "execution_count": 323,
   "metadata": {
    "collapsed": true
   },
   "outputs": [],
   "source": [
    "features = features.drop('BBL',axis=1)"
   ]
  },
  {
   "cell_type": "code",
   "execution_count": 326,
   "metadata": {
    "collapsed": true
   },
   "outputs": [],
   "source": [
    "from sklearn import metrics\n",
    "from sklearn.ensemble import ExtraTreesClassifier\n",
    "from sklearn import preprocessing"
   ]
  },
  {
   "cell_type": "code",
   "execution_count": 327,
   "metadata": {
    "collapsed": true
   },
   "outputs": [],
   "source": [
    "le = preprocessing.LabelEncoder()"
   ]
  },
  {
   "cell_type": "code",
   "execution_count": 343,
   "metadata": {
    "collapsed": false
   },
   "outputs": [],
   "source": [
    "le.fit([elem for elem in features['BldgClass'].unique()])\n",
    "features['bc_updated'] = le.transform([elem for elem in features['BldgClass']])\n",
    "le.fit([elem for elem in features['OwnerType'].unique()])\n",
    "features['ot_updated'] = le.transform([elem for elem in features['OwnerType']])"
   ]
  },
  {
   "cell_type": "code",
   "execution_count": 346,
   "metadata": {
    "collapsed": true
   },
   "outputs": [],
   "source": [
    "features = features.drop(['BldgClass', 'OwnerType'],axis=1)"
   ]
  },
  {
   "cell_type": "code",
   "execution_count": 347,
   "metadata": {
    "collapsed": false
   },
   "outputs": [
    {
     "data": {
      "text/plain": [
       "AssessLand    float64\n",
       "AssessTot     float64\n",
       "BldgArea        int64\n",
       "BsmtCode       object\n",
       "BuiltFAR      float64\n",
       "LandUse        object\n",
       "LotType        object\n",
       "NumBldgs        int64\n",
       "NumFloors     float64\n",
       "ProxCode       object\n",
       "ResArea         int64\n",
       "UnitsRes        int64\n",
       "UnitsTotal      int64\n",
       "YearBuilt       int64\n",
       "com_count     float64\n",
       "bc_updated      int64\n",
       "ot_updated      int64\n",
       "dtype: object"
      ]
     },
     "execution_count": 347,
     "metadata": {},
     "output_type": "execute_result"
    }
   ],
   "source": [
    "features.dtypes"
   ]
  },
  {
   "cell_type": "code",
   "execution_count": 354,
   "metadata": {
    "collapsed": true
   },
   "outputs": [],
   "source": [
    "features = features.apply(pd.to_numeric)\n",
    "features = features.astype(int)"
   ]
  },
  {
   "cell_type": "code",
   "execution_count": 352,
   "metadata": {
    "collapsed": false
   },
   "outputs": [
    {
     "data": {
      "text/html": [
       "<div>\n",
       "<table border=\"1\" class=\"dataframe\">\n",
       "  <thead>\n",
       "    <tr style=\"text-align: right;\">\n",
       "      <th></th>\n",
       "      <th>AssessLand</th>\n",
       "      <th>AssessTot</th>\n",
       "      <th>BldgArea</th>\n",
       "      <th>BsmtCode</th>\n",
       "      <th>BuiltFAR</th>\n",
       "      <th>LandUse</th>\n",
       "      <th>LotType</th>\n",
       "      <th>NumBldgs</th>\n",
       "      <th>NumFloors</th>\n",
       "      <th>ProxCode</th>\n",
       "      <th>ResArea</th>\n",
       "      <th>UnitsRes</th>\n",
       "      <th>UnitsTotal</th>\n",
       "      <th>YearBuilt</th>\n",
       "      <th>bc_updated</th>\n",
       "      <th>ot_updated</th>\n",
       "    </tr>\n",
       "  </thead>\n",
       "  <tbody>\n",
       "    <tr>\n",
       "      <th>0</th>\n",
       "      <td>8441.0</td>\n",
       "      <td>22118.0</td>\n",
       "      <td>4710</td>\n",
       "      <td>2</td>\n",
       "      <td>0.70</td>\n",
       "      <td>2</td>\n",
       "      <td>5</td>\n",
       "      <td>1</td>\n",
       "      <td>2.75</td>\n",
       "      <td>1</td>\n",
       "      <td>4710</td>\n",
       "      <td>3</td>\n",
       "      <td>3</td>\n",
       "      <td>1920</td>\n",
       "      <td>12</td>\n",
       "      <td>0</td>\n",
       "    </tr>\n",
       "    <tr>\n",
       "      <th>1</th>\n",
       "      <td>6480.0</td>\n",
       "      <td>24120.0</td>\n",
       "      <td>2700</td>\n",
       "      <td>2</td>\n",
       "      <td>0.92</td>\n",
       "      <td>1</td>\n",
       "      <td>5</td>\n",
       "      <td>1</td>\n",
       "      <td>2.00</td>\n",
       "      <td>1</td>\n",
       "      <td>2700</td>\n",
       "      <td>2</td>\n",
       "      <td>2</td>\n",
       "      <td>2003</td>\n",
       "      <td>9</td>\n",
       "      <td>0</td>\n",
       "    </tr>\n",
       "  </tbody>\n",
       "</table>\n",
       "</div>"
      ],
      "text/plain": [
       "   AssessLand  AssessTot  BldgArea  BsmtCode  BuiltFAR  LandUse  LotType  \\\n",
       "0      8441.0    22118.0      4710         2      0.70        2        5   \n",
       "1      6480.0    24120.0      2700         2      0.92        1        5   \n",
       "\n",
       "   NumBldgs  NumFloors  ProxCode  ResArea  UnitsRes  UnitsTotal  YearBuilt  \\\n",
       "0         1       2.75         1     4710         3           3       1920   \n",
       "1         1       2.00         1     2700         2           2       2003   \n",
       "\n",
       "   bc_updated  ot_updated  \n",
       "0          12           0  \n",
       "1           9           0  "
      ]
     },
     "execution_count": 352,
     "metadata": {},
     "output_type": "execute_result"
    }
   ],
   "source": [
    ".head(2)"
   ]
  },
  {
   "cell_type": "code",
   "execution_count": 355,
   "metadata": {
    "collapsed": false
   },
   "outputs": [
    {
     "name": "stdout",
     "output_type": "stream",
     "text": [
      "[ 0.11442359  0.12250932  0.11442473  0.0178226   0.05994776  0.01506585\n",
      "  0.02753915  0.0096054   0.03552453  0.01432124  0.11699965  0.09904208\n",
      "  0.1013609   0.10013728  0.03617979  0.01509612]\n"
     ]
    }
   ],
   "source": [
    "model = ExtraTreesClassifier()\n",
    "model.fit(features.ix[:,[0, 1, 2, 3, 4, 5, 6, 7, 8, 9, 10, 11, 12, 13, 15, 16]], features.ix[:,-3])\n",
    "# display the relative importance of each attribute\n",
    "print(model.feature_importances_)"
   ]
  },
  {
   "cell_type": "code",
   "execution_count": 362,
   "metadata": {
    "collapsed": false
   },
   "outputs": [],
   "source": [
    "significance = pd.DataFrame()\n",
    "significance['feature_name'] = features.ix[:,[0, 1, 2, 3, 4, 5, 6, 7, 8, 9, 10, 11, 12, 13, 15, 16]].columns\n",
    "significance['value'] = model.feature_importances_"
   ]
  },
  {
   "cell_type": "code",
   "execution_count": 366,
   "metadata": {
    "collapsed": false
   },
   "outputs": [
    {
     "data": {
      "text/html": [
       "<div>\n",
       "<table border=\"1\" class=\"dataframe\">\n",
       "  <thead>\n",
       "    <tr style=\"text-align: right;\">\n",
       "      <th></th>\n",
       "      <th>feature_name</th>\n",
       "      <th>value</th>\n",
       "    </tr>\n",
       "  </thead>\n",
       "  <tbody>\n",
       "    <tr>\n",
       "      <th>1</th>\n",
       "      <td>AssessTot</td>\n",
       "      <td>0.122509</td>\n",
       "    </tr>\n",
       "    <tr>\n",
       "      <th>10</th>\n",
       "      <td>ResArea</td>\n",
       "      <td>0.117000</td>\n",
       "    </tr>\n",
       "    <tr>\n",
       "      <th>2</th>\n",
       "      <td>BldgArea</td>\n",
       "      <td>0.114425</td>\n",
       "    </tr>\n",
       "    <tr>\n",
       "      <th>0</th>\n",
       "      <td>AssessLand</td>\n",
       "      <td>0.114424</td>\n",
       "    </tr>\n",
       "    <tr>\n",
       "      <th>12</th>\n",
       "      <td>UnitsTotal</td>\n",
       "      <td>0.101361</td>\n",
       "    </tr>\n",
       "    <tr>\n",
       "      <th>13</th>\n",
       "      <td>YearBuilt</td>\n",
       "      <td>0.100137</td>\n",
       "    </tr>\n",
       "    <tr>\n",
       "      <th>11</th>\n",
       "      <td>UnitsRes</td>\n",
       "      <td>0.099042</td>\n",
       "    </tr>\n",
       "    <tr>\n",
       "      <th>4</th>\n",
       "      <td>BuiltFAR</td>\n",
       "      <td>0.059948</td>\n",
       "    </tr>\n",
       "    <tr>\n",
       "      <th>14</th>\n",
       "      <td>bc_updated</td>\n",
       "      <td>0.036180</td>\n",
       "    </tr>\n",
       "    <tr>\n",
       "      <th>8</th>\n",
       "      <td>NumFloors</td>\n",
       "      <td>0.035525</td>\n",
       "    </tr>\n",
       "    <tr>\n",
       "      <th>6</th>\n",
       "      <td>LotType</td>\n",
       "      <td>0.027539</td>\n",
       "    </tr>\n",
       "    <tr>\n",
       "      <th>3</th>\n",
       "      <td>BsmtCode</td>\n",
       "      <td>0.017823</td>\n",
       "    </tr>\n",
       "    <tr>\n",
       "      <th>15</th>\n",
       "      <td>ot_updated</td>\n",
       "      <td>0.015096</td>\n",
       "    </tr>\n",
       "    <tr>\n",
       "      <th>5</th>\n",
       "      <td>LandUse</td>\n",
       "      <td>0.015066</td>\n",
       "    </tr>\n",
       "    <tr>\n",
       "      <th>9</th>\n",
       "      <td>ProxCode</td>\n",
       "      <td>0.014321</td>\n",
       "    </tr>\n",
       "    <tr>\n",
       "      <th>7</th>\n",
       "      <td>NumBldgs</td>\n",
       "      <td>0.009605</td>\n",
       "    </tr>\n",
       "  </tbody>\n",
       "</table>\n",
       "</div>"
      ],
      "text/plain": [
       "   feature_name     value\n",
       "1     AssessTot  0.122509\n",
       "10      ResArea  0.117000\n",
       "2      BldgArea  0.114425\n",
       "0    AssessLand  0.114424\n",
       "12   UnitsTotal  0.101361\n",
       "13    YearBuilt  0.100137\n",
       "11     UnitsRes  0.099042\n",
       "4      BuiltFAR  0.059948\n",
       "14   bc_updated  0.036180\n",
       "8     NumFloors  0.035525\n",
       "6       LotType  0.027539\n",
       "3      BsmtCode  0.017823\n",
       "15   ot_updated  0.015096\n",
       "5       LandUse  0.015066\n",
       "9      ProxCode  0.014321\n",
       "7      NumBldgs  0.009605"
      ]
     },
     "execution_count": 366,
     "metadata": {},
     "output_type": "execute_result"
    }
   ],
   "source": [
    "significance = significance.sort_values('value',ascending=False)\n",
    "significance"
   ]
  },
  {
   "cell_type": "markdown",
   "metadata": {},
   "source": [
    "### create dummy variables for strings and categorical variables"
   ]
  },
  {
   "cell_type": "code",
   "execution_count": 242,
   "metadata": {
    "collapsed": false
   },
   "outputs": [],
   "source": [
    "var = []\n",
    "for elem in features['BldgClass']:\n",
    "    var.append(elem)\n",
    "var2 = []\n",
    "for i in range(0,len(var)):\n",
    "    var2.append(('bc_' + var[i][0]))\n",
    "features['bldgclass_updated'] = var2\n",
    "\n",
    "var = []\n",
    "for elem in features['BsmtCode']:\n",
    "    var.append(elem)\n",
    "var2 = []\n",
    "for i in range(0,len(var)):\n",
    "    if var[i] == '0':\n",
    "        var2.append('no_bsmt')\n",
    "    elif var[i] == '1':\n",
    "        var2.append('fbag')\n",
    "    elif var[i] == '2':\n",
    "        var2.append('fbbg')\n",
    "    elif var[i] == '3':\n",
    "        var2.append('pbag')\n",
    "    elif var[i] == '4':\n",
    "        var2.append('pbbg')\n",
    "    elif var[i] == '5':\n",
    "        var2.append('unknwon_bsmt')\n",
    "features['bsmtcode_updated'] = var2"
   ]
  },
  {
   "cell_type": "code",
   "execution_count": 243,
   "metadata": {
    "collapsed": true
   },
   "outputs": [],
   "source": [
    "var = []\n",
    "for elem in features['OwnerType']:\n",
    "    var.append(elem)\n",
    "var2 = []\n",
    "for i in range(0,len(var)):\n",
    "    if var[i] == 'X':\n",
    "        var2.append('ot_m')\n",
    "    elif var[i] == 'P':\n",
    "        var2.append('ot_p')\n",
    "    elif var[i] == 'M':\n",
    "        var2.append('ot_mcp')\n",
    "    elif var[i] == None:\n",
    "        var2.append('ot_unknown')\n",
    "features['ownertype_updated'] = var2"
   ]
  },
  {
   "cell_type": "code",
   "execution_count": 244,
   "metadata": {
    "collapsed": false
   },
   "outputs": [],
   "source": [
    "var = []\n",
    "for elem in features['LandUse']:\n",
    "    var.append(elem)\n",
    "var2 = []\n",
    "for i in range(0,len(var)):\n",
    "    if var[i] == '01':\n",
    "        var2.append('lu_1_2_fam')\n",
    "    elif var[i] == '02':\n",
    "        var2.append('lu_mf_wu')\n",
    "    elif var[i] == '03':\n",
    "        var2.append('lu_fam_el')\n",
    "    elif var[i] == '04':\n",
    "        var2.append('lu_mrc')\n",
    "    elif var[i] == '05':\n",
    "        var2.append('lu_co')\n",
    "    elif var[i] == '06':\n",
    "        var2.append('lu_im')\n",
    "    elif var[i] == '07':\n",
    "        var2.append('lu_tu')\n",
    "    elif var[i] == '08':\n",
    "        var2.append('lu_fi')\n",
    "    elif var[i] == '09':\n",
    "        var2.append('lu_os_or')\n",
    "    elif var[i] == '10':\n",
    "        var2.append('lu_pf')\n",
    "    elif var[i] == '11':\n",
    "        var2.append('lu_v')\n",
    "features['landuse_updated'] = var2"
   ]
  },
  {
   "cell_type": "code",
   "execution_count": 245,
   "metadata": {
    "collapsed": true
   },
   "outputs": [],
   "source": [
    "var = []\n",
    "for elem in features['LotType']:\n",
    "    var.append(elem)\n",
    "var2 = []\n",
    "for i in range(0,len(var)):\n",
    "    if var[i] == '0':\n",
    "        var2.append('lt_unk')\n",
    "    elif var[i] == '1':\n",
    "        var2.append('lt_ba')\n",
    "    elif var[i] == '2':\n",
    "        var2.append('lt_wf')\n",
    "    elif var[i] == '3':\n",
    "        var2.append('lt_c')\n",
    "    elif var[i] == '4':\n",
    "        var2.append('lt_thr')\n",
    "    elif var[i] == '5':\n",
    "        var2.append('lt_ins')\n",
    "    elif var[i] == '6':\n",
    "        var2.append('lt_int')\n",
    "    elif var[i] == '7':\n",
    "        var2.append('lt_isl')\n",
    "    elif var[i] == '8':\n",
    "        var2.append('lt_alley')\n",
    "    elif var[i] == '9':\n",
    "        var2.append('lt_sub')\n",
    "features['lottype_updated'] = var2"
   ]
  },
  {
   "cell_type": "code",
   "execution_count": 246,
   "metadata": {
    "collapsed": false
   },
   "outputs": [],
   "source": [
    "var = []\n",
    "for elem in features['ProxCode']:\n",
    "    var.append(elem)\n",
    "var2 = []\n",
    "for i in range(0,len(var)):\n",
    "    if var[i] == '0':\n",
    "        var2.append('pc_unavail')\n",
    "    elif var[i] == '1':\n",
    "        var2.append('pc_det')\n",
    "    elif var[i] == '2':\n",
    "        var2.append('pc_sa')\n",
    "    elif var[i] == '3':\n",
    "        var2.append('pc_att')\n",
    "features['proxcode_updated'] = var2"
   ]
  },
  {
   "cell_type": "code",
   "execution_count": 247,
   "metadata": {
    "collapsed": false
   },
   "outputs": [],
   "source": [
    "features = features.drop(['BldgClass', 'BsmtCode', 'LandUse', 'LotType', 'ProxCode'], axis=1)"
   ]
  },
  {
   "cell_type": "code",
   "execution_count": 248,
   "metadata": {
    "collapsed": true
   },
   "outputs": [],
   "source": [
    "pc = pd.get_dummies(features['proxcode_updated'])\n",
    "lt = pd.get_dummies(features['lottype_updated'])\n",
    "lu = pd.get_dummies(features['landuse_updated'])\n",
    "ot = pd.get_dummies(features['ownertype_updated'])\n",
    "btc = pd.get_dummies(features['bsmtcode_updated'])\n",
    "bc = pd.get_dummies(features['bldgclass_updated'])"
   ]
  },
  {
   "cell_type": "code",
   "execution_count": 249,
   "metadata": {
    "collapsed": false
   },
   "outputs": [],
   "source": [
    "dummies = pd.concat([pc, lt, lu, ot, btc, bc], axis=1)"
   ]
  },
  {
   "cell_type": "code",
   "execution_count": 251,
   "metadata": {
    "collapsed": true
   },
   "outputs": [],
   "source": [
    "features = features.drop(['proxcode_updated', 'lottype_updated', 'landuse_updated', 'ownertype_updated',\\\n",
    "                         'bsmtcode_updated', 'bldgclass_updated'], axis=1)"
   ]
  },
  {
   "cell_type": "code",
   "execution_count": 256,
   "metadata": {
    "collapsed": false
   },
   "outputs": [],
   "source": [
    "up = pd.concat([dummies, features], axis=1)"
   ]
  },
  {
   "cell_type": "code",
   "execution_count": 257,
   "metadata": {
    "collapsed": true
   },
   "outputs": [],
   "source": [
    "up = up.drop('BBL', axis=1)"
   ]
  },
  {
   "cell_type": "code",
   "execution_count": 258,
   "metadata": {
    "collapsed": false
   },
   "outputs": [
    {
     "data": {
      "text/html": [
       "<div>\n",
       "<table border=\"1\" class=\"dataframe\">\n",
       "  <thead>\n",
       "    <tr style=\"text-align: right;\">\n",
       "      <th></th>\n",
       "      <th>pc_att</th>\n",
       "      <th>pc_det</th>\n",
       "      <th>pc_sa</th>\n",
       "      <th>pc_unavail</th>\n",
       "      <th>lt_alley</th>\n",
       "      <th>lt_ba</th>\n",
       "      <th>lt_c</th>\n",
       "      <th>lt_ins</th>\n",
       "      <th>lt_int</th>\n",
       "      <th>lt_isl</th>\n",
       "      <th>...</th>\n",
       "      <th>BldgArea</th>\n",
       "      <th>BuiltFAR</th>\n",
       "      <th>NumBldgs</th>\n",
       "      <th>NumFloors</th>\n",
       "      <th>OwnerType</th>\n",
       "      <th>ResArea</th>\n",
       "      <th>UnitsRes</th>\n",
       "      <th>UnitsTotal</th>\n",
       "      <th>YearBuilt</th>\n",
       "      <th>com_count</th>\n",
       "    </tr>\n",
       "  </thead>\n",
       "  <tbody>\n",
       "    <tr>\n",
       "      <th>0</th>\n",
       "      <td>0</td>\n",
       "      <td>1</td>\n",
       "      <td>0</td>\n",
       "      <td>0</td>\n",
       "      <td>0</td>\n",
       "      <td>0</td>\n",
       "      <td>0</td>\n",
       "      <td>1</td>\n",
       "      <td>0</td>\n",
       "      <td>0</td>\n",
       "      <td>...</td>\n",
       "      <td>4710</td>\n",
       "      <td>0.70</td>\n",
       "      <td>1</td>\n",
       "      <td>2.75</td>\n",
       "      <td>None</td>\n",
       "      <td>4710</td>\n",
       "      <td>3</td>\n",
       "      <td>3</td>\n",
       "      <td>1920</td>\n",
       "      <td>0.013605</td>\n",
       "    </tr>\n",
       "    <tr>\n",
       "      <th>1</th>\n",
       "      <td>0</td>\n",
       "      <td>1</td>\n",
       "      <td>0</td>\n",
       "      <td>0</td>\n",
       "      <td>0</td>\n",
       "      <td>0</td>\n",
       "      <td>0</td>\n",
       "      <td>1</td>\n",
       "      <td>0</td>\n",
       "      <td>0</td>\n",
       "      <td>...</td>\n",
       "      <td>2700</td>\n",
       "      <td>0.92</td>\n",
       "      <td>1</td>\n",
       "      <td>2.00</td>\n",
       "      <td>None</td>\n",
       "      <td>2700</td>\n",
       "      <td>2</td>\n",
       "      <td>2</td>\n",
       "      <td>2003</td>\n",
       "      <td>0.034014</td>\n",
       "    </tr>\n",
       "  </tbody>\n",
       "</table>\n",
       "<p>2 rows × 62 columns</p>\n",
       "</div>"
      ],
      "text/plain": [
       "   pc_att  pc_det  pc_sa  pc_unavail  lt_alley  lt_ba  lt_c  lt_ins  lt_int  \\\n",
       "0       0       1      0           0         0      0     0       1       0   \n",
       "1       0       1      0           0         0      0     0       1       0   \n",
       "\n",
       "   lt_isl    ...      BldgArea  BuiltFAR  NumBldgs  NumFloors  OwnerType  \\\n",
       "0       0    ...          4710      0.70         1       2.75       None   \n",
       "1       0    ...          2700      0.92         1       2.00       None   \n",
       "\n",
       "   ResArea  UnitsRes  UnitsTotal  YearBuilt  com_count  \n",
       "0     4710         3           3       1920   0.013605  \n",
       "1     2700         2           2       2003   0.034014  \n",
       "\n",
       "[2 rows x 62 columns]"
      ]
     },
     "execution_count": 258,
     "metadata": {},
     "output_type": "execute_result"
    }
   ],
   "source": [
    "up.head(2)"
   ]
  },
  {
   "cell_type": "code",
   "execution_count": 268,
   "metadata": {
    "collapsed": false
   },
   "outputs": [],
   "source": [
    "up = up.drop('OwnerType',axis=1)"
   ]
  },
  {
   "cell_type": "code",
   "execution_count": 284,
   "metadata": {
    "collapsed": false
   },
   "outputs": [
    {
     "data": {
      "text/html": [
       "<div>\n",
       "<table border=\"1\" class=\"dataframe\">\n",
       "  <thead>\n",
       "    <tr style=\"text-align: right;\">\n",
       "      <th></th>\n",
       "      <th>AssessLand</th>\n",
       "      <th>AssessTot</th>\n",
       "      <th>BldgArea</th>\n",
       "      <th>BuiltFAR</th>\n",
       "      <th>NumBldgs</th>\n",
       "      <th>NumFloors</th>\n",
       "      <th>ResArea</th>\n",
       "      <th>UnitsRes</th>\n",
       "      <th>UnitsTotal</th>\n",
       "      <th>YearBuilt</th>\n",
       "    </tr>\n",
       "  </thead>\n",
       "  <tbody>\n",
       "    <tr>\n",
       "      <th>0</th>\n",
       "      <td>8441.0</td>\n",
       "      <td>22118.0</td>\n",
       "      <td>4710</td>\n",
       "      <td>0.70</td>\n",
       "      <td>1</td>\n",
       "      <td>2.75</td>\n",
       "      <td>4710</td>\n",
       "      <td>3</td>\n",
       "      <td>3</td>\n",
       "      <td>1920</td>\n",
       "    </tr>\n",
       "    <tr>\n",
       "      <th>1</th>\n",
       "      <td>6480.0</td>\n",
       "      <td>24120.0</td>\n",
       "      <td>2700</td>\n",
       "      <td>0.92</td>\n",
       "      <td>1</td>\n",
       "      <td>2.00</td>\n",
       "      <td>2700</td>\n",
       "      <td>2</td>\n",
       "      <td>2</td>\n",
       "      <td>2003</td>\n",
       "    </tr>\n",
       "  </tbody>\n",
       "</table>\n",
       "</div>"
      ],
      "text/plain": [
       "   AssessLand  AssessTot  BldgArea  BuiltFAR  NumBldgs  NumFloors  ResArea  \\\n",
       "0      8441.0    22118.0      4710      0.70         1       2.75     4710   \n",
       "1      6480.0    24120.0      2700      0.92         1       2.00     2700   \n",
       "\n",
       "   UnitsRes  UnitsTotal  YearBuilt  \n",
       "0         3           3       1920  \n",
       "1         2           2       2003  "
      ]
     },
     "execution_count": 284,
     "metadata": {},
     "output_type": "execute_result"
    }
   ],
   "source": [
    "up.ix[:,50:-1].head(2)"
   ]
  },
  {
   "cell_type": "code",
   "execution_count": 299,
   "metadata": {
    "collapsed": true
   },
   "outputs": [],
   "source": [
    "from sklearn import metrics\n",
    "from sklearn.ensemble import ExtraTreesClassifier"
   ]
  },
  {
   "cell_type": "code",
   "execution_count": 317,
   "metadata": {
    "collapsed": false
   },
   "outputs": [],
   "source": [
    "test = test.apply(pd.to_numeric)\n",
    "test = test.astype(int)"
   ]
  },
  {
   "cell_type": "code",
   "execution_count": 303,
   "metadata": {
    "collapsed": false
   },
   "outputs": [],
   "source": [
    "test = features.drop('BBL',axis=1)"
   ]
  },
  {
   "cell_type": "code",
   "execution_count": 307,
   "metadata": {
    "collapsed": true
   },
   "outputs": [],
   "source": [
    "test = test.drop('OwnerType', axis=1)"
   ]
  },
  {
   "cell_type": "code",
   "execution_count": 318,
   "metadata": {
    "collapsed": false,
    "scrolled": true
   },
   "outputs": [
    {
     "name": "stdout",
     "output_type": "stream",
     "text": [
      "[ 0.13799181  0.14341042  0.13986274  0.06278452  0.01048316  0.04490474\n",
      "  0.13652342  0.10589554  0.10309685  0.1150468 ]\n"
     ]
    }
   ],
   "source": [
    "model = ExtraTreesClassifier()\n",
    "model.fit(test.ix[:,:-1], test.ix[:,-1])\n",
    "# display the relative importance of each attribute\n",
    "print(model.feature_importances_)"
   ]
  },
  {
   "cell_type": "code",
   "execution_count": 319,
   "metadata": {
    "collapsed": false
   },
   "outputs": [
    {
     "data": {
      "text/html": [
       "<div>\n",
       "<table border=\"1\" class=\"dataframe\">\n",
       "  <thead>\n",
       "    <tr style=\"text-align: right;\">\n",
       "      <th></th>\n",
       "      <th>AssessLand</th>\n",
       "      <th>AssessTot</th>\n",
       "      <th>BldgArea</th>\n",
       "      <th>BuiltFAR</th>\n",
       "      <th>NumBldgs</th>\n",
       "      <th>NumFloors</th>\n",
       "      <th>ResArea</th>\n",
       "      <th>UnitsRes</th>\n",
       "      <th>UnitsTotal</th>\n",
       "      <th>YearBuilt</th>\n",
       "      <th>com_count</th>\n",
       "    </tr>\n",
       "  </thead>\n",
       "  <tbody>\n",
       "    <tr>\n",
       "      <th>0</th>\n",
       "      <td>8441</td>\n",
       "      <td>22118</td>\n",
       "      <td>4710</td>\n",
       "      <td>0</td>\n",
       "      <td>1</td>\n",
       "      <td>2</td>\n",
       "      <td>4710</td>\n",
       "      <td>3</td>\n",
       "      <td>3</td>\n",
       "      <td>1920</td>\n",
       "      <td>0</td>\n",
       "    </tr>\n",
       "    <tr>\n",
       "      <th>1</th>\n",
       "      <td>6480</td>\n",
       "      <td>24120</td>\n",
       "      <td>2700</td>\n",
       "      <td>0</td>\n",
       "      <td>1</td>\n",
       "      <td>2</td>\n",
       "      <td>2700</td>\n",
       "      <td>2</td>\n",
       "      <td>2</td>\n",
       "      <td>2003</td>\n",
       "      <td>0</td>\n",
       "    </tr>\n",
       "    <tr>\n",
       "      <th>2</th>\n",
       "      <td>9007</td>\n",
       "      <td>30273</td>\n",
       "      <td>1976</td>\n",
       "      <td>0</td>\n",
       "      <td>1</td>\n",
       "      <td>2</td>\n",
       "      <td>1976</td>\n",
       "      <td>2</td>\n",
       "      <td>2</td>\n",
       "      <td>1955</td>\n",
       "      <td>0</td>\n",
       "    </tr>\n",
       "    <tr>\n",
       "      <th>3</th>\n",
       "      <td>3980</td>\n",
       "      <td>11344</td>\n",
       "      <td>1344</td>\n",
       "      <td>0</td>\n",
       "      <td>1</td>\n",
       "      <td>2</td>\n",
       "      <td>1344</td>\n",
       "      <td>1</td>\n",
       "      <td>1</td>\n",
       "      <td>1901</td>\n",
       "      <td>0</td>\n",
       "    </tr>\n",
       "    <tr>\n",
       "      <th>4</th>\n",
       "      <td>96750</td>\n",
       "      <td>324900</td>\n",
       "      <td>14156</td>\n",
       "      <td>0</td>\n",
       "      <td>1</td>\n",
       "      <td>2</td>\n",
       "      <td>14156</td>\n",
       "      <td>16</td>\n",
       "      <td>16</td>\n",
       "      <td>1984</td>\n",
       "      <td>0</td>\n",
       "    </tr>\n",
       "  </tbody>\n",
       "</table>\n",
       "</div>"
      ],
      "text/plain": [
       "   AssessLand  AssessTot  BldgArea  BuiltFAR  NumBldgs  NumFloors  ResArea  \\\n",
       "0        8441      22118      4710         0         1          2     4710   \n",
       "1        6480      24120      2700         0         1          2     2700   \n",
       "2        9007      30273      1976         0         1          2     1976   \n",
       "3        3980      11344      1344         0         1          2     1344   \n",
       "4       96750     324900     14156         0         1          2    14156   \n",
       "\n",
       "   UnitsRes  UnitsTotal  YearBuilt  com_count  \n",
       "0         3           3       1920          0  \n",
       "1         2           2       2003          0  \n",
       "2         2           2       1955          0  \n",
       "3         1           1       1901          0  \n",
       "4        16          16       1984          0  "
      ]
     },
     "execution_count": 319,
     "metadata": {},
     "output_type": "execute_result"
    }
   ],
   "source": [
    "test.head()"
   ]
  },
  {
   "cell_type": "code",
   "execution_count": null,
   "metadata": {
    "collapsed": true
   },
   "outputs": [],
   "source": []
  },
  {
   "cell_type": "code",
   "execution_count": null,
   "metadata": {
    "collapsed": true
   },
   "outputs": [],
   "source": []
  },
  {
   "cell_type": "markdown",
   "metadata": {},
   "source": [
    "### use ridge and lasso for feature selection"
   ]
  },
  {
   "cell_type": "code",
   "execution_count": 269,
   "metadata": {
    "collapsed": true
   },
   "outputs": [],
   "source": [
    "from sklearn.model_selection import train_test_split\n",
    "from sklearn import linear_model"
   ]
  },
  {
   "cell_type": "code",
   "execution_count": 291,
   "metadata": {
    "collapsed": true
   },
   "outputs": [],
   "source": [
    "X_train, X_test, y_train, y_test = train_test_split(up.ix[:,:-1],\n",
    "                                    up.ix[:,-1], test_size = 0.4, random_state = 200)"
   ]
  },
  {
   "cell_type": "code",
   "execution_count": 292,
   "metadata": {
    "collapsed": true
   },
   "outputs": [],
   "source": [
    "#Find the Alpha and report best test performance for Ridge/Lasso.\n",
    "\n",
    "def Regularization_fit_lambda(model,X_train,y_train,lambdas,p=0.4,Graph=False, logl=False):\n",
    "    #model = 1-Ridge, 2-Lasso\n",
    "    #lambdas: a list of lambda values to try\n",
    "    #p: ratio of the validation sample size / total training size\n",
    "    #Graph: plot the graph of R^2 values for different lambda\n",
    "\n",
    "    R_2_OS=[]\n",
    "    X_train0, X_valid, y_train0, y_valid = train_test_split(X_train,\n",
    "                                    y_train, test_size = 0.4, random_state = 200)\n",
    "\n",
    "    if model==1:\n",
    "        RM = lambda a: linear_model.Ridge(fit_intercept=True, alpha=a)\n",
    "        model_label='Ridge'\n",
    "    else:\n",
    "        RM = lambda a: linear_model.Lasso(fit_intercept=True, alpha=a)\n",
    "        model_label='Lasso'\n",
    "    \n",
    "    best_R2 = -1\n",
    "    best_lambda = lambdas[0]\n",
    "    \n",
    "    for i in lambdas:\n",
    "        lm = RM(i)\n",
    "        lm.fit(X_train0,y_train0)  #fit the regularization model\n",
    "        y_predict=lm.predict(X_valid) #compute the prediction for the validation sample \n",
    "        err_OS=y_predict-y_valid\n",
    "        R_2_OS_=1-np.var(err_OS)/np.var(y_valid)\n",
    "        R_2_OS.append(R_2_OS_)\n",
    "        if R_2_OS_ > best_R2:\n",
    "            best_R2 = R_2_OS_\n",
    "            best_lambda = i\n",
    "    \n",
    "    if Graph==True:\n",
    "        plt.title('IS R-squared vs OS-R-squared for different Lambda')\n",
    "        if logl:\n",
    "            plt.xlabel('ln(Lambda)')\n",
    "            l=log(lambdas)\n",
    "            bl=log(best_lambda)\n",
    "        else:\n",
    "            plt.xlabel('Lambda')\n",
    "            l=lambdas\n",
    "            bl=best_lambda\n",
    "        plt.plot(l,R_2_OS,'b',label=model_label)\n",
    "        plt.legend(loc='upper right')\n",
    "        plt.ylabel('R-squared')\n",
    "        plt.axvline(bl,color='r',linestyle='--')\n",
    "\n",
    "        plt.show()\n",
    "    \n",
    "    return best_lambda"
   ]
  },
  {
   "cell_type": "code",
   "execution_count": 298,
   "metadata": {
    "collapsed": false
   },
   "outputs": [
    {
     "data": {
      "image/png": "[encoded data removed]",
      "text/plain": [
       "<matplotlib.figure.Figure at 0x21ed00810>"
      ]
     },
     "metadata": {},
     "output_type": "display_data"
    },
    {
     "name": "stdout",
     "output_type": "stream",
     "text": [
      "Optimal lambda for Ridge=15.0\n"
     ]
    }
   ],
   "source": [
    "#select best lambda for Ridge\n",
    "lambdas = np.linspace(-10,15,200)\n",
    "lambda_r_optimal=Regularization_fit_lambda(1,X_train,y_train,lambdas,p=0.4,Graph=True)\n",
    "print('Optimal lambda for Ridge={0}'.format(lambda_r_optimal))\n",
    "#y axis is the validation r squared and x is the lambda"
   ]
  },
  {
   "cell_type": "code",
   "execution_count": 294,
   "metadata": {
    "collapsed": false
   },
   "outputs": [
    {
     "name": "stdout",
     "output_type": "stream",
     "text": [
      "The R-squared we found for IS Ridge is: 0.0531247666653\n",
      "The R-squared we found for OS Ridge is: -0.129194974679\n"
     ]
    }
   ],
   "source": [
    "Ridge = linear_model.Ridge(fit_intercept=True,alpha=lambda_r_optimal) #try Ridge with a selected regularization parameter lambda\n",
    "\n",
    "Ridge.fit(X_train,y_train)\n",
    "# In the sample:\n",
    "p_IS=Ridge.predict(X_train)\n",
    "err_IS=p_IS-y_train\n",
    "R_2_IS_Ridge=1-np.var(err_IS)/np.var(y_train)\n",
    "print(\"The R-squared we found for IS Ridge is: {0}\".format(R_2_IS_Ridge))\n",
    "\n",
    "Ridge_coef=Ridge.coef_\n",
    "#Out of sample\n",
    "p_OS=Ridge.predict(X_test)\n",
    "err_OS=p_OS-y_test\n",
    "R_2_OS_Ridge=1-np.var(err_OS)/np.var(y_test)\n",
    "print(\"The R-squared we found for OS Ridge is: {0}\".format(R_2_OS_Ridge))"
   ]
  },
  {
   "cell_type": "code",
   "execution_count": 295,
   "metadata": {
    "collapsed": false
   },
   "outputs": [
    {
     "name": "stdout",
     "output_type": "stream",
     "text": [
      "The R-squared we found for IS Lasso is: 0.0531247666653\n",
      "The R-squared we found for OS Lasso is: 0.0164181569475\n"
     ]
    }
   ],
   "source": [
    "Lasso=linear_model.Lasso(fit_intercept=True,alpha=100)\n",
    "#try Ridge with a selected regularization parameter lambda\n",
    "\n",
    "Lasso.fit(X_train,y_train)\n",
    "# In the sample:\n",
    "p_IS=Lasso.predict(X_train)\n",
    "err_IS=p_IS-y_train\n",
    "R_2_IS_Lasso=1-np.var(err_IS)/np.var(y_train)\n",
    "print(\"The R-squared we found for IS Lasso is: {0}\".format(R_2_IS_Ridge))\n",
    "\n",
    "Lasso_coef=Lasso.coef_\n",
    "#Out of sample\n",
    "p_OS=Lasso.predict(X_test)\n",
    "err_OS=p_OS-y_test\n",
    "R_2_OS_Lasso=1-np.var(err_OS)/np.var(y_test)\n",
    "print(\"The R-squared we found for OS Lasso is: {0}\".format(R_2_OS_Lasso))"
   ]
  },
  {
   "cell_type": "code",
   "execution_count": 296,
   "metadata": {
    "collapsed": false
   },
   "outputs": [
    {
     "name": "stderr",
     "output_type": "stream",
     "text": [
      "/Users/kristikorsberg/devel/venv/lib/python2.7/site-packages/sklearn/linear_model/coordinate_descent.py:479: ConvergenceWarning: Objective did not converge. You might want to increase the number of iterations. Fitting data with very small alpha may cause precision problems.\n",
      "  ConvergenceWarning)\n"
     ]
    },
    {
     "data": {
      "image/png": "[encoded data removed]",
      "text/plain": [
       "<matplotlib.figure.Figure at 0x21971cf90>"
      ]
     },
     "metadata": {},
     "output_type": "display_data"
    },
    {
     "name": "stdout",
     "output_type": "stream",
     "text": [
      "Optimal lambda for Lasso=0.00673794699909\n"
     ]
    }
   ],
   "source": [
    "lambdas=np.exp(np.linspace(-5,6.5,200))\n",
    "lambda_l_optimal=Regularization_fit_lambda(2,X_train,y_train,lambdas,p=0.4,Graph=True)\n",
    "print('Optimal lambda for Lasso={0}'.format(lambda_l_optimal))"
   ]
  },
  {
   "cell_type": "code",
   "execution_count": 297,
   "metadata": {
    "collapsed": false
   },
   "outputs": [
    {
     "name": "stdout",
     "output_type": "stream",
     "text": [
      "The R-squared we found for IS Lasso is: 0.0531247666653\n",
      "The R-squared we found for OS Lasso is: -0.44820514454\n"
     ]
    }
   ],
   "source": [
    "Lasso=linear_model.Lasso(fit_intercept=True,alpha=lambda_l_optimal)\n",
    "#try Ridge with a selected regularization parameter lambda\n",
    "\n",
    "Lasso.fit(X_train,y_train)\n",
    "# In the sample:\n",
    "p_IS=Lasso.predict(X_train)\n",
    "err_IS=p_IS-y_train\n",
    "R_2_IS_Lasso=1-np.var(err_IS)/np.var(y_train)\n",
    "print(\"The R-squared we found for IS Lasso is: {0}\".format(R_2_IS_Ridge))\n",
    "\n",
    "Lasso_coef=Lasso.coef_\n",
    "#Out of sample\n",
    "p_OS=Lasso.predict(X_test)\n",
    "err_OS=p_OS-y_test\n",
    "R_2_OS_Lasso=1-np.var(err_OS)/np.var(y_test)\n",
    "print(\"The R-squared we found for OS Lasso is: {0}\".format(R_2_OS_Lasso))"
   ]
  },
  {
   "cell_type": "code",
   "execution_count": null,
   "metadata": {
    "collapsed": true
   },
   "outputs": [],
   "source": []
  }
 ],
 "metadata": {
  "kernelspec": {
   "display_name": "Python 2",
   "language": "python",
   "name": "python2"
  },
  "language_info": {
   "codemirror_mode": {
    "name": "ipython",
    "version": 2
   },
   "file_extension": ".py",
   "mimetype": "text/x-python",
   "name": "python",
   "nbconvert_exporter": "python",
   "pygments_lexer": "ipython2",
   "version": "2.7.12"
  }
 },
 "nbformat": 4,
 "nbformat_minor": 1
}
