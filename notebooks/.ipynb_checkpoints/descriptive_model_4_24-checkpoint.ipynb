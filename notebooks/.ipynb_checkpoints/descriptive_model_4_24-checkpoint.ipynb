{
 "cells": [
  {
   "cell_type": "code",
   "execution_count": 65,
   "metadata": {
    "collapsed": false
   },
   "outputs": [
    {
     "name": "stdout",
     "output_type": "stream",
     "text": [
      "Populating the interactive namespace from numpy and matplotlib\n"
     ]
    },
    {
     "name": "stderr",
     "output_type": "stream",
     "text": [
      "WARNING: pylab import has clobbered these variables: ['f', 'plt']\n",
      "`%matplotlib` prevents importing * from pylab and numpy\n"
     ]
    }
   ],
   "source": [
    "import pandas as pd\n",
    "import numpy as np\n",
    "import matplotlib.pylab as plt\n",
    "%pylab inline\n",
    "import seaborn as sns\n",
    "import statsmodels.formula.api as smf\n",
    "from sklearn.cross_validation import train_test_split\n",
    "from imblearn.over_sampling import SMOTE\n",
    "from sklearn.metrics import confusion_matrix\n",
    "from sklearn.metrics import classification_report"
   ]
  },
  {
   "cell_type": "markdown",
   "metadata": {},
   "source": [
    "### multiple dwelling registration"
   ]
  },
  {
   "cell_type": "markdown",
   "metadata": {},
   "source": [
    "You can find Multiple Dwelling Registration data including OwnerTypes and Site Manager information from the attached file. Followings are the description of columns:\n",
    "* Owner: There is only 0. All BBLs of this data is living without owner in their buildings\n",
    "* Ownership: Types of specific owners\n",
    "    * Corp: Corporation (each unit is owned by individual owner)\n",
    "    * Ind: Individual Owner\n",
    "    * Off: Owned by company\n",
    "    * Joint: Shared Owner (multiple owners)\n",
    "    * Agent: Yes or No of representative agent of the building\n",
    "    * SiteManager: Yes or No of site manager (super)\n",
    "There are some NaN in \"Agent\" and \"SiteManager\" columns. \n",
    "\n",
    "You can replace those as 0 or drop. The results (before dropping and after dropping) were not that different. "
   ]
  },
  {
   "cell_type": "code",
   "execution_count": 66,
   "metadata": {
    "collapsed": false
   },
   "outputs": [
    {
     "data": {
      "text/html": [
       "<div>\n",
       "<table border=\"1\" class=\"dataframe\">\n",
       "  <thead>\n",
       "    <tr style=\"text-align: right;\">\n",
       "      <th></th>\n",
       "      <th>BBL</th>\n",
       "      <th>Owner</th>\n",
       "      <th>Ownership</th>\n",
       "      <th>Agent</th>\n",
       "      <th>SiteManager</th>\n",
       "      <th>boiler</th>\n",
       "      <th>boiler_age</th>\n",
       "    </tr>\n",
       "  </thead>\n",
       "  <tbody>\n",
       "    <tr>\n",
       "      <th>0</th>\n",
       "      <td>4086640052</td>\n",
       "      <td>0</td>\n",
       "      <td>Ind</td>\n",
       "      <td>0.0</td>\n",
       "      <td>1.0</td>\n",
       "      <td>0</td>\n",
       "      <td>27.174765</td>\n",
       "    </tr>\n",
       "    <tr>\n",
       "      <th>1</th>\n",
       "      <td>4057400139</td>\n",
       "      <td>0</td>\n",
       "      <td>Corp</td>\n",
       "      <td>1.0</td>\n",
       "      <td>1.0</td>\n",
       "      <td>0</td>\n",
       "      <td>27.174765</td>\n",
       "    </tr>\n",
       "    <tr>\n",
       "      <th>2</th>\n",
       "      <td>3034570006</td>\n",
       "      <td>0</td>\n",
       "      <td>Corp</td>\n",
       "      <td>1.0</td>\n",
       "      <td>1.0</td>\n",
       "      <td>0</td>\n",
       "      <td>27.174765</td>\n",
       "    </tr>\n",
       "    <tr>\n",
       "      <th>3</th>\n",
       "      <td>1021160061</td>\n",
       "      <td>0</td>\n",
       "      <td>Corp</td>\n",
       "      <td>1.0</td>\n",
       "      <td>1.0</td>\n",
       "      <td>0</td>\n",
       "      <td>27.174765</td>\n",
       "    </tr>\n",
       "    <tr>\n",
       "      <th>4</th>\n",
       "      <td>1004360020</td>\n",
       "      <td>0</td>\n",
       "      <td>Corp</td>\n",
       "      <td>1.0</td>\n",
       "      <td>1.0</td>\n",
       "      <td>0</td>\n",
       "      <td>27.174765</td>\n",
       "    </tr>\n",
       "  </tbody>\n",
       "</table>\n",
       "</div>"
      ],
      "text/plain": [
       "          BBL  Owner Ownership  Agent  SiteManager  boiler  boiler_age\n",
       "0  4086640052      0       Ind    0.0          1.0       0   27.174765\n",
       "1  4057400139      0      Corp    1.0          1.0       0   27.174765\n",
       "2  3034570006      0      Corp    1.0          1.0       0   27.174765\n",
       "3  1021160061      0      Corp    1.0          1.0       0   27.174765\n",
       "4  1004360020      0      Corp    1.0          1.0       0   27.174765"
      ]
     },
     "execution_count": 66,
     "metadata": {},
     "output_type": "execute_result"
    }
   ],
   "source": [
    "dwell = pd.read_csv('../data_processed/Multiple_Dwelling_Registration_OwnerType_Boiler_Joined.csv')\n",
    "dwell = dwell.drop('Unnamed: 0',axis=1)\n",
    "dwell.head()"
   ]
  },
  {
   "cell_type": "code",
   "execution_count": 99,
   "metadata": {
    "collapsed": false
   },
   "outputs": [
    {
     "data": {
      "text/plain": [
       "array([0, 1, 2])"
      ]
     },
     "execution_count": 99,
     "metadata": {},
     "output_type": "execute_result"
    }
   ],
   "source": [
    "dwell.boiler.unique()"
   ]
  },
  {
   "cell_type": "code",
   "execution_count": 67,
   "metadata": {
    "collapsed": false
   },
   "outputs": [
    {
     "data": {
      "text/plain": [
       "147075"
      ]
     },
     "execution_count": 67,
     "metadata": {},
     "output_type": "execute_result"
    }
   ],
   "source": [
    "len(dwell)"
   ]
  },
  {
   "cell_type": "code",
   "execution_count": 68,
   "metadata": {
    "collapsed": false
   },
   "outputs": [],
   "source": [
    "dwell = dwell.dropna()\n",
    "dwell = dwell.drop('Owner',axis=1)"
   ]
  },
  {
   "cell_type": "code",
   "execution_count": 69,
   "metadata": {
    "collapsed": false
   },
   "outputs": [
    {
     "data": {
      "text/plain": [
       "144838"
      ]
     },
     "execution_count": 69,
     "metadata": {},
     "output_type": "execute_result"
    }
   ],
   "source": [
    "len(dwell)"
   ]
  },
  {
   "cell_type": "code",
   "execution_count": 70,
   "metadata": {
    "collapsed": false
   },
   "outputs": [
    {
     "data": {
      "text/plain": [
       "array(['Ind', 'Corp', 'Off', 'Joint'], dtype=object)"
      ]
     },
     "execution_count": 70,
     "metadata": {},
     "output_type": "execute_result"
    }
   ],
   "source": [
    "dwell.Ownership.unique()"
   ]
  },
  {
   "cell_type": "code",
   "execution_count": 71,
   "metadata": {
    "collapsed": true
   },
   "outputs": [],
   "source": [
    "dwell['Ownership'] = dwell['Ownership'].replace('Ind',0)\n",
    "dwell['Ownership'] = dwell['Ownership'].replace('Corp',1)\n",
    "dwell['Ownership'] = dwell['Ownership'].replace('Off',2)\n",
    "dwell['Ownership'] = dwell['Ownership'].replace('Joint',3)"
   ]
  },
  {
   "cell_type": "markdown",
   "metadata": {},
   "source": [
    "### pluto"
   ]
  },
  {
   "cell_type": "markdown",
   "metadata": {},
   "source": [
    "mapPLUTO\n",
    "* AssessSqft\n",
    "* UnitsRes\n",
    "* ResArea\n",
    "* ResArea_perunit\n",
    "* Res_r\n",
    "* NumFloors\n",
    "* Bldg_nrr\n",
    "* Bldg_age\n",
    "* BsmtCode\n",
    "* ProxCode\n",
    "* BldgClass_dummy"
   ]
  },
  {
   "cell_type": "code",
   "execution_count": 72,
   "metadata": {
    "collapsed": false
   },
   "outputs": [
    {
     "data": {
      "text/html": [
       "<div>\n",
       "<table border=\"1\" class=\"dataframe\">\n",
       "  <thead>\n",
       "    <tr style=\"text-align: right;\">\n",
       "      <th></th>\n",
       "      <th>APPBBL</th>\n",
       "      <th>APPDate</th>\n",
       "      <th>Address</th>\n",
       "      <th>AllZoning1</th>\n",
       "      <th>AllZoning2</th>\n",
       "      <th>AreaSource</th>\n",
       "      <th>AssessLand</th>\n",
       "      <th>AssessTot</th>\n",
       "      <th>BBL</th>\n",
       "      <th>BldgArea</th>\n",
       "      <th>...</th>\n",
       "      <th>YearAlter2</th>\n",
       "      <th>YearBuilt</th>\n",
       "      <th>ZMCode</th>\n",
       "      <th>ZipCode</th>\n",
       "      <th>ZoneDist1</th>\n",
       "      <th>ZoneDist2</th>\n",
       "      <th>ZoneDist3</th>\n",
       "      <th>ZoneDist4</th>\n",
       "      <th>ZoneMap</th>\n",
       "      <th>geometry</th>\n",
       "    </tr>\n",
       "  </thead>\n",
       "  <tbody>\n",
       "    <tr>\n",
       "      <th>0</th>\n",
       "      <td>0.0</td>\n",
       "      <td>NaN</td>\n",
       "      <td>437 PURDY AVENUE</td>\n",
       "      <td>R3-1</td>\n",
       "      <td>NaN</td>\n",
       "      <td>7</td>\n",
       "      <td>15120.0</td>\n",
       "      <td>23400.0</td>\n",
       "      <td>5.007470e+09</td>\n",
       "      <td>1488</td>\n",
       "      <td>...</td>\n",
       "      <td>0</td>\n",
       "      <td>1960</td>\n",
       "      <td>NaN</td>\n",
       "      <td>10314</td>\n",
       "      <td>R3-1</td>\n",
       "      <td>NaN</td>\n",
       "      <td>NaN</td>\n",
       "      <td>NaN</td>\n",
       "      <td>20d</td>\n",
       "      <td>POLYGON ((944681.4200000018 161477.381400004, ...</td>\n",
       "    </tr>\n",
       "    <tr>\n",
       "      <th>1</th>\n",
       "      <td>0.0</td>\n",
       "      <td>NaN</td>\n",
       "      <td>CUNARD AVENUE</td>\n",
       "      <td>R3A/HS</td>\n",
       "      <td>NaN</td>\n",
       "      <td>4</td>\n",
       "      <td>21518.0</td>\n",
       "      <td>21518.0</td>\n",
       "      <td>5.006230e+09</td>\n",
       "      <td>0</td>\n",
       "      <td>...</td>\n",
       "      <td>0</td>\n",
       "      <td>0</td>\n",
       "      <td>NaN</td>\n",
       "      <td>10304</td>\n",
       "      <td>R3A</td>\n",
       "      <td>NaN</td>\n",
       "      <td>NaN</td>\n",
       "      <td>NaN</td>\n",
       "      <td>21d</td>\n",
       "      <td>POLYGON ((959872.0577999949 162992.5866000056,...</td>\n",
       "    </tr>\n",
       "    <tr>\n",
       "      <th>2</th>\n",
       "      <td>0.0</td>\n",
       "      <td>NaN</td>\n",
       "      <td>121 MOUNTAINVIEW AVENUE</td>\n",
       "      <td>R3-1</td>\n",
       "      <td>NaN</td>\n",
       "      <td>7</td>\n",
       "      <td>13561.0</td>\n",
       "      <td>22602.0</td>\n",
       "      <td>5.007130e+09</td>\n",
       "      <td>1316</td>\n",
       "      <td>...</td>\n",
       "      <td>0</td>\n",
       "      <td>1920</td>\n",
       "      <td>NaN</td>\n",
       "      <td>10314</td>\n",
       "      <td>R3-1</td>\n",
       "      <td>NaN</td>\n",
       "      <td>NaN</td>\n",
       "      <td>NaN</td>\n",
       "      <td>21b</td>\n",
       "      <td>POLYGON ((949278.1987999976 161346.9971999973,...</td>\n",
       "    </tr>\n",
       "    <tr>\n",
       "      <th>3</th>\n",
       "      <td>0.0</td>\n",
       "      <td>NaN</td>\n",
       "      <td>26 FANNING STREET</td>\n",
       "      <td>R3X</td>\n",
       "      <td>NaN</td>\n",
       "      <td>7</td>\n",
       "      <td>9720.0</td>\n",
       "      <td>28740.0</td>\n",
       "      <td>5.007140e+09</td>\n",
       "      <td>2188</td>\n",
       "      <td>...</td>\n",
       "      <td>0</td>\n",
       "      <td>1975</td>\n",
       "      <td>NaN</td>\n",
       "      <td>10314</td>\n",
       "      <td>R3X</td>\n",
       "      <td>NaN</td>\n",
       "      <td>NaN</td>\n",
       "      <td>NaN</td>\n",
       "      <td>21b</td>\n",
       "      <td>POLYGON ((950061.0491999984 160815.3023999929,...</td>\n",
       "    </tr>\n",
       "    <tr>\n",
       "      <th>4</th>\n",
       "      <td>0.0</td>\n",
       "      <td>NaN</td>\n",
       "      <td>335 SIMONSON AVENUE</td>\n",
       "      <td>R3A</td>\n",
       "      <td>NaN</td>\n",
       "      <td>7</td>\n",
       "      <td>7617.0</td>\n",
       "      <td>22118.0</td>\n",
       "      <td>5.011840e+09</td>\n",
       "      <td>2392</td>\n",
       "      <td>...</td>\n",
       "      <td>0</td>\n",
       "      <td>1965</td>\n",
       "      <td>NaN</td>\n",
       "      <td>10303</td>\n",
       "      <td>R3A</td>\n",
       "      <td>NaN</td>\n",
       "      <td>NaN</td>\n",
       "      <td>NaN</td>\n",
       "      <td>20c</td>\n",
       "      <td>POLYGON ((941981.4906000048 168120.2173999995,...</td>\n",
       "    </tr>\n",
       "  </tbody>\n",
       "</table>\n",
       "<p>5 rows × 87 columns</p>\n",
       "</div>"
      ],
      "text/plain": [
       "   APPBBL APPDate                  Address AllZoning1 AllZoning2  AreaSource  \\\n",
       "0     0.0     NaN         437 PURDY AVENUE       R3-1        NaN           7   \n",
       "1     0.0     NaN            CUNARD AVENUE     R3A/HS        NaN           4   \n",
       "2     0.0     NaN  121 MOUNTAINVIEW AVENUE       R3-1        NaN           7   \n",
       "3     0.0     NaN        26 FANNING STREET        R3X        NaN           7   \n",
       "4     0.0     NaN      335 SIMONSON AVENUE        R3A        NaN           7   \n",
       "\n",
       "   AssessLand  AssessTot           BBL  BldgArea  \\\n",
       "0     15120.0    23400.0  5.007470e+09      1488   \n",
       "1     21518.0    21518.0  5.006230e+09         0   \n",
       "2     13561.0    22602.0  5.007130e+09      1316   \n",
       "3      9720.0    28740.0  5.007140e+09      2188   \n",
       "4      7617.0    22118.0  5.011840e+09      2392   \n",
       "\n",
       "                         ...                         YearAlter2  YearBuilt  \\\n",
       "0                        ...                                  0       1960   \n",
       "1                        ...                                  0          0   \n",
       "2                        ...                                  0       1920   \n",
       "3                        ...                                  0       1975   \n",
       "4                        ...                                  0       1965   \n",
       "\n",
       "   ZMCode  ZipCode  ZoneDist1 ZoneDist2  ZoneDist3 ZoneDist4  ZoneMap  \\\n",
       "0     NaN    10314       R3-1       NaN        NaN       NaN      20d   \n",
       "1     NaN    10304        R3A       NaN        NaN       NaN      21d   \n",
       "2     NaN    10314       R3-1       NaN        NaN       NaN      21b   \n",
       "3     NaN    10314        R3X       NaN        NaN       NaN      21b   \n",
       "4     NaN    10303        R3A       NaN        NaN       NaN      20c   \n",
       "\n",
       "                                            geometry  \n",
       "0  POLYGON ((944681.4200000018 161477.381400004, ...  \n",
       "1  POLYGON ((959872.0577999949 162992.5866000056,...  \n",
       "2  POLYGON ((949278.1987999976 161346.9971999973,...  \n",
       "3  POLYGON ((950061.0491999984 160815.3023999929,...  \n",
       "4  POLYGON ((941981.4906000048 168120.2173999995,...  \n",
       "\n",
       "[5 rows x 87 columns]"
      ]
     },
     "execution_count": 72,
     "metadata": {},
     "output_type": "execute_result"
    }
   ],
   "source": [
    "pluto = pd.read_csv('../data_processed/pluto_16')\n",
    "pluto = pluto.drop('Unnamed: 0',axis=1)\n",
    "pluto.head()"
   ]
  },
  {
   "cell_type": "markdown",
   "metadata": {},
   "source": [
    "#### remove outliers"
   ]
  },
  {
   "cell_type": "code",
   "execution_count": 73,
   "metadata": {
    "collapsed": false
   },
   "outputs": [],
   "source": [
    "pluto = pluto[pluto['YearBuilt']>1750]\n",
    "pluto = pluto[pluto['AssessLand']> 0]\n",
    "pluto = pluto[pluto['NumBldgs'] > 0]\n",
    "pluto = pluto[pluto['NumFloors'] > 0]\n",
    "pluto = pluto[pluto['ResArea'] > 0]\n",
    "pluto = pluto[pluto['UnitsRes'] < 8000]\n",
    "pluto = pluto[pluto['UnitsRes'] > 0]\n",
    "pluto = pluto[pluto['BldgFront'] > 0]"
   ]
  },
  {
   "cell_type": "markdown",
   "metadata": {},
   "source": [
    "#### adjust features"
   ]
  },
  {
   "cell_type": "code",
   "execution_count": 74,
   "metadata": {
    "collapsed": false
   },
   "outputs": [],
   "source": [
    "pluto['AssessSqft'] = pluto['AssessTot']/pluto['BldgArea']\n",
    "pluto = pluto[pluto['AssessSqft'] > 0]\n",
    "\n",
    "pluto['BldgAge'] = 2017-pluto['YearBuilt']\n",
    "pluto = pluto.drop('YearBuilt',axis=1)\n",
    "\n",
    "pluto['Bldg_nrr'] = pluto['BldgDepth']/pluto['BldgFront'].astype(float)\n",
    "\n",
    "#proxcode\n",
    "#0 = unknown, 1 = detatched, 2 = attached or semi=attached\n",
    "pluto['ProxCode'] = pluto['ProxCode'].replace(3, 2)\n",
    "\n",
    "#bsmtcode\n",
    "#0 = no basement, 1 = full or partial basement, 5 = unknown\n",
    "pluto['BsmtCode'] = pluto['BsmtCode'].replace(2, 1)\n",
    "pluto['BsmtCode'] = pluto['BsmtCode'].replace(3, 1)\n",
    "pluto['BsmtCode'] = pluto['BsmtCode'].replace(4, 1)\n",
    "pluto['Res_r'] = pluto['ResArea']/pluto['BldgArea'].astype(float)\n",
    "pluto['ResArea_perunit'] = pluto['ResArea']/pluto['UnitsRes'].astype(float)\n",
    "\n",
    "bldgclass = []\n",
    "for elem in pluto['BldgClass']:\n",
    "    bldgclass.append(str(elem[0]))\n",
    "bldgclasscat = []\n",
    "for elem in bldgclass:\n",
    "    if elem == 'A':\n",
    "        bldgclasscat.append(1)\n",
    "    elif elem == 'B':\n",
    "        bldgclasscat.append(2)\n",
    "    elif elem == 'C':\n",
    "        bldgclasscat.append(3)\n",
    "    elif elem == 'S':\n",
    "        bldgclasscat.append(3)\n",
    "    elif elem == 'D':\n",
    "        bldgclasscat.append(4)\n",
    "    elif elem == 'O8':\n",
    "        bldgclasscat.append(4)\n",
    "    elif elem == 'R':\n",
    "        bldgclasscat.append(4)\n",
    "    elif elem == 'L':\n",
    "        bldgclasscat.append(4) \n",
    "    else:\n",
    "        bldgclasscat.append(0)\n",
    "pluto['BldgClass_dummy'] = bldgclasscat"
   ]
  },
  {
   "cell_type": "markdown",
   "metadata": {},
   "source": [
    "proxcode = []\n",
    "for elem in pluto['ProxCode']:\n",
    "    proxcode.append(elem)\n",
    "proxcodecat = []\n",
    "for elem in proxcode:\n",
    "    if elem == 0:\n",
    "        proxcodecat.append('pc0')\n",
    "    elif elem == 1:\n",
    "        proxcodecat.append('pc1')\n",
    "    elif elem == 2:\n",
    "        proxcodecat.append('pc2')\n",
    "pluto['ProxCode_dummy'] = proxcodecat\n",
    "\n",
    "bsmtcode = []\n",
    "for elem in pluto['BsmtCode']:\n",
    "    bsmtcode.append(elem)\n",
    "bsmtcodecat = []\n",
    "for elem in bsmtcode:\n",
    "    if elem == 0:\n",
    "        bsmtcodecat.append('bsmt0')\n",
    "    elif elem == 1:\n",
    "        bsmtcodecat.append('bsmt1')\n",
    "    elif elem == 5:\n",
    "        bsmtcodecat.append('bsmt5')\n",
    "pluto['BsmtCode_dummy'] = bsmtcodecat"
   ]
  },
  {
   "cell_type": "markdown",
   "metadata": {},
   "source": [
    "BldgClass\n",
    " 1: A (one family housing)\n",
    " 2: B (two family housing)\n",
    " 3: C + S (walk up + mixed use)\n",
    " 4: D + O8 (elevator apartment + apt with office)\n",
    " 5: R (condominium)\n",
    " 6: L (loft)\n",
    " 0: Others"
   ]
  },
  {
   "cell_type": "code",
   "execution_count": 75,
   "metadata": {
    "collapsed": false
   },
   "outputs": [
    {
     "data": {
      "text/html": [
       "<div>\n",
       "<table border=\"1\" class=\"dataframe\">\n",
       "  <thead>\n",
       "    <tr style=\"text-align: right;\">\n",
       "      <th></th>\n",
       "      <th>APPBBL</th>\n",
       "      <th>APPDate</th>\n",
       "      <th>Address</th>\n",
       "      <th>AllZoning1</th>\n",
       "      <th>AllZoning2</th>\n",
       "      <th>AreaSource</th>\n",
       "      <th>AssessLand</th>\n",
       "      <th>AssessTot</th>\n",
       "      <th>BBL</th>\n",
       "      <th>BldgArea</th>\n",
       "      <th>...</th>\n",
       "      <th>ZoneDist3</th>\n",
       "      <th>ZoneDist4</th>\n",
       "      <th>ZoneMap</th>\n",
       "      <th>geometry</th>\n",
       "      <th>AssessSqft</th>\n",
       "      <th>BldgAge</th>\n",
       "      <th>Bldg_nrr</th>\n",
       "      <th>Res_r</th>\n",
       "      <th>ResArea_perunit</th>\n",
       "      <th>BldgClass_dummy</th>\n",
       "    </tr>\n",
       "  </thead>\n",
       "  <tbody>\n",
       "    <tr>\n",
       "      <th>0</th>\n",
       "      <td>0.0</td>\n",
       "      <td>NaN</td>\n",
       "      <td>437 PURDY AVENUE</td>\n",
       "      <td>R3-1</td>\n",
       "      <td>NaN</td>\n",
       "      <td>7</td>\n",
       "      <td>15120.0</td>\n",
       "      <td>23400.0</td>\n",
       "      <td>5.007470e+09</td>\n",
       "      <td>1488</td>\n",
       "      <td>...</td>\n",
       "      <td>NaN</td>\n",
       "      <td>NaN</td>\n",
       "      <td>20d</td>\n",
       "      <td>POLYGON ((944681.4200000018 161477.381400004, ...</td>\n",
       "      <td>15.725806</td>\n",
       "      <td>57</td>\n",
       "      <td>2.583333</td>\n",
       "      <td>1.0</td>\n",
       "      <td>744.0</td>\n",
       "      <td>2</td>\n",
       "    </tr>\n",
       "    <tr>\n",
       "      <th>2</th>\n",
       "      <td>0.0</td>\n",
       "      <td>NaN</td>\n",
       "      <td>121 MOUNTAINVIEW AVENUE</td>\n",
       "      <td>R3-1</td>\n",
       "      <td>NaN</td>\n",
       "      <td>7</td>\n",
       "      <td>13561.0</td>\n",
       "      <td>22602.0</td>\n",
       "      <td>5.007130e+09</td>\n",
       "      <td>1316</td>\n",
       "      <td>...</td>\n",
       "      <td>NaN</td>\n",
       "      <td>NaN</td>\n",
       "      <td>21b</td>\n",
       "      <td>POLYGON ((949278.1987999976 161346.9971999973,...</td>\n",
       "      <td>17.174772</td>\n",
       "      <td>97</td>\n",
       "      <td>1.588235</td>\n",
       "      <td>1.0</td>\n",
       "      <td>1316.0</td>\n",
       "      <td>1</td>\n",
       "    </tr>\n",
       "  </tbody>\n",
       "</table>\n",
       "<p>2 rows × 92 columns</p>\n",
       "</div>"
      ],
      "text/plain": [
       "   APPBBL APPDate                  Address AllZoning1 AllZoning2  AreaSource  \\\n",
       "0     0.0     NaN         437 PURDY AVENUE       R3-1        NaN           7   \n",
       "2     0.0     NaN  121 MOUNTAINVIEW AVENUE       R3-1        NaN           7   \n",
       "\n",
       "   AssessLand  AssessTot           BBL  BldgArea       ...        ZoneDist3  \\\n",
       "0     15120.0    23400.0  5.007470e+09      1488       ...              NaN   \n",
       "2     13561.0    22602.0  5.007130e+09      1316       ...              NaN   \n",
       "\n",
       "   ZoneDist4  ZoneMap                                           geometry  \\\n",
       "0        NaN      20d  POLYGON ((944681.4200000018 161477.381400004, ...   \n",
       "2        NaN      21b  POLYGON ((949278.1987999976 161346.9971999973,...   \n",
       "\n",
       "   AssessSqft BldgAge  Bldg_nrr Res_r  ResArea_perunit  BldgClass_dummy  \n",
       "0   15.725806      57  2.583333   1.0            744.0                2  \n",
       "2   17.174772      97  1.588235   1.0           1316.0                1  \n",
       "\n",
       "[2 rows x 92 columns]"
      ]
     },
     "execution_count": 75,
     "metadata": {},
     "output_type": "execute_result"
    }
   ],
   "source": [
    "pluto.head(2)"
   ]
  },
  {
   "cell_type": "code",
   "execution_count": 76,
   "metadata": {
    "collapsed": false
   },
   "outputs": [
    {
     "data": {
      "text/plain": [
       "Index([u'APPBBL', u'APPDate', u'Address', u'AllZoning1', u'AllZoning2',\n",
       "       u'AreaSource', u'AssessLand', u'AssessTot', u'BBL', u'BldgArea',\n",
       "       u'BldgClass', u'BldgDepth', u'BldgFront', u'Block', u'BoroCode',\n",
       "       u'Borough', u'BsmtCode', u'BuiltCode', u'BuiltFAR', u'CB2010', u'CD',\n",
       "       u'CT2010', u'ComArea', u'CommFAR', u'CondoNo', u'Council', u'EDesigNum',\n",
       "       u'Easements', u'ExemptLand', u'ExemptTot', u'Ext', u'FacilFAR',\n",
       "       u'FactryArea', u'FireComp', u'GarageArea', u'HealthArea', u'HistDist',\n",
       "       u'IrrLotCode', u'LandUse', u'Landmark', u'Lot', u'LotArea', u'LotDepth',\n",
       "       u'LotFront', u'LotType', u'LtdHeight', u'MAPPLUTO_F', u'NumBldgs',\n",
       "       u'NumFloors', u'OfficeArea', u'OtherArea', u'Overlay1', u'Overlay2',\n",
       "       u'OwnerName', u'OwnerType', u'PLUTOMapID', u'PolicePrct', u'ProxCode',\n",
       "       u'ResArea', u'ResidFAR', u'RetailArea', u'SHAPE_Area', u'SHAPE_Leng',\n",
       "       u'SPDist1', u'SPDist2', u'Sanborn', u'SchoolDist', u'SplitZone',\n",
       "       u'StrgeArea', u'TaxMap', u'Tract2010', u'UnitsRes', u'UnitsTotal',\n",
       "       u'Version', u'XCoord', u'YCoord', u'YearAlter1', u'YearAlter2',\n",
       "       u'ZMCode', u'ZipCode', u'ZoneDist1', u'ZoneDist2', u'ZoneDist3',\n",
       "       u'ZoneDist4', u'ZoneMap', u'geometry', u'AssessSqft', u'BldgAge',\n",
       "       u'Bldg_nrr', u'Res_r', u'ResArea_perunit', u'BldgClass_dummy'],\n",
       "      dtype='object')"
      ]
     },
     "execution_count": 76,
     "metadata": {},
     "output_type": "execute_result"
    }
   ],
   "source": [
    "pluto.columns"
   ]
  },
  {
   "cell_type": "markdown",
   "metadata": {},
   "source": [
    "#### drop irrelevant features"
   ]
  },
  {
   "cell_type": "code",
   "execution_count": 77,
   "metadata": {
    "collapsed": false
   },
   "outputs": [],
   "source": [
    "pluto = pluto[['BBL', 'AssessSqft', 'UnitsRes', 'ResArea_perunit', 'Res_r', \\\n",
    "               'NumFloors', 'Bldg_nrr', 'BldgAge', 'BsmtCode', 'ProxCode', 'BldgClass_dummy']]"
   ]
  },
  {
   "cell_type": "markdown",
   "metadata": {},
   "source": [
    "### import violations"
   ]
  },
  {
   "cell_type": "code",
   "execution_count": 78,
   "metadata": {
    "collapsed": true
   },
   "outputs": [],
   "source": [
    "vios = pd.read_csv('../data_processed/VIOLATION_HEATHOTWATER_by_bbl_season.csv')\n",
    "vios = vios.drop('Unnamed: 0',axis=1)"
   ]
  },
  {
   "cell_type": "code",
   "execution_count": 79,
   "metadata": {
    "collapsed": false
   },
   "outputs": [
    {
     "data": {
      "text/html": [
       "<div>\n",
       "<table border=\"1\" class=\"dataframe\">\n",
       "  <thead>\n",
       "    <tr style=\"text-align: right;\">\n",
       "      <th></th>\n",
       "      <th>BBL</th>\n",
       "      <th>Sum_season_vio</th>\n",
       "      <th>Avg_season_vio</th>\n",
       "    </tr>\n",
       "  </thead>\n",
       "  <tbody>\n",
       "    <tr>\n",
       "      <th>0</th>\n",
       "      <td>1000160100</td>\n",
       "      <td>2</td>\n",
       "      <td>0.50</td>\n",
       "    </tr>\n",
       "    <tr>\n",
       "      <th>1</th>\n",
       "      <td>1000167509</td>\n",
       "      <td>1</td>\n",
       "      <td>0.25</td>\n",
       "    </tr>\n",
       "    <tr>\n",
       "      <th>2</th>\n",
       "      <td>1000170029</td>\n",
       "      <td>1</td>\n",
       "      <td>0.25</td>\n",
       "    </tr>\n",
       "    <tr>\n",
       "      <th>3</th>\n",
       "      <td>1000297501</td>\n",
       "      <td>1</td>\n",
       "      <td>0.25</td>\n",
       "    </tr>\n",
       "    <tr>\n",
       "      <th>4</th>\n",
       "      <td>1000530006</td>\n",
       "      <td>12</td>\n",
       "      <td>3.00</td>\n",
       "    </tr>\n",
       "  </tbody>\n",
       "</table>\n",
       "</div>"
      ],
      "text/plain": [
       "          BBL  Sum_season_vio  Avg_season_vio\n",
       "0  1000160100               2            0.50\n",
       "1  1000167509               1            0.25\n",
       "2  1000170029               1            0.25\n",
       "3  1000297501               1            0.25\n",
       "4  1000530006              12            3.00"
      ]
     },
     "execution_count": 79,
     "metadata": {},
     "output_type": "execute_result"
    }
   ],
   "source": [
    "vios.head()"
   ]
  },
  {
   "cell_type": "markdown",
   "metadata": {},
   "source": [
    "### view datasets"
   ]
  },
  {
   "cell_type": "code",
   "execution_count": 80,
   "metadata": {
    "collapsed": false
   },
   "outputs": [
    {
     "data": {
      "text/html": [
       "<div>\n",
       "<table border=\"1\" class=\"dataframe\">\n",
       "  <thead>\n",
       "    <tr style=\"text-align: right;\">\n",
       "      <th></th>\n",
       "      <th>BBL</th>\n",
       "      <th>AssessSqft</th>\n",
       "      <th>UnitsRes</th>\n",
       "      <th>ResArea_perunit</th>\n",
       "      <th>Res_r</th>\n",
       "      <th>NumFloors</th>\n",
       "      <th>Bldg_nrr</th>\n",
       "      <th>BldgAge</th>\n",
       "      <th>BsmtCode</th>\n",
       "      <th>ProxCode</th>\n",
       "      <th>BldgClass_dummy</th>\n",
       "    </tr>\n",
       "  </thead>\n",
       "  <tbody>\n",
       "    <tr>\n",
       "      <th>0</th>\n",
       "      <td>5.007470e+09</td>\n",
       "      <td>15.725806</td>\n",
       "      <td>2</td>\n",
       "      <td>744.0</td>\n",
       "      <td>1.0</td>\n",
       "      <td>1.0</td>\n",
       "      <td>2.583333</td>\n",
       "      <td>57</td>\n",
       "      <td>1.0</td>\n",
       "      <td>1.0</td>\n",
       "      <td>2</td>\n",
       "    </tr>\n",
       "    <tr>\n",
       "      <th>2</th>\n",
       "      <td>5.007130e+09</td>\n",
       "      <td>17.174772</td>\n",
       "      <td>1</td>\n",
       "      <td>1316.0</td>\n",
       "      <td>1.0</td>\n",
       "      <td>2.5</td>\n",
       "      <td>1.588235</td>\n",
       "      <td>97</td>\n",
       "      <td>1.0</td>\n",
       "      <td>1.0</td>\n",
       "      <td>1</td>\n",
       "    </tr>\n",
       "    <tr>\n",
       "      <th>3</th>\n",
       "      <td>5.007140e+09</td>\n",
       "      <td>13.135283</td>\n",
       "      <td>2</td>\n",
       "      <td>1094.0</td>\n",
       "      <td>1.0</td>\n",
       "      <td>2.0</td>\n",
       "      <td>1.923077</td>\n",
       "      <td>42</td>\n",
       "      <td>0.0</td>\n",
       "      <td>1.0</td>\n",
       "      <td>2</td>\n",
       "    </tr>\n",
       "    <tr>\n",
       "      <th>4</th>\n",
       "      <td>5.011840e+09</td>\n",
       "      <td>9.246656</td>\n",
       "      <td>1</td>\n",
       "      <td>2392.0</td>\n",
       "      <td>1.0</td>\n",
       "      <td>2.0</td>\n",
       "      <td>1.769231</td>\n",
       "      <td>52</td>\n",
       "      <td>0.0</td>\n",
       "      <td>1.0</td>\n",
       "      <td>1</td>\n",
       "    </tr>\n",
       "    <tr>\n",
       "      <th>5</th>\n",
       "      <td>5.007650e+09</td>\n",
       "      <td>17.458111</td>\n",
       "      <td>1</td>\n",
       "      <td>1122.0</td>\n",
       "      <td>1.0</td>\n",
       "      <td>2.5</td>\n",
       "      <td>1.764706</td>\n",
       "      <td>92</td>\n",
       "      <td>1.0</td>\n",
       "      <td>1.0</td>\n",
       "      <td>1</td>\n",
       "    </tr>\n",
       "  </tbody>\n",
       "</table>\n",
       "</div>"
      ],
      "text/plain": [
       "            BBL  AssessSqft  UnitsRes  ResArea_perunit  Res_r  NumFloors  \\\n",
       "0  5.007470e+09   15.725806         2            744.0    1.0        1.0   \n",
       "2  5.007130e+09   17.174772         1           1316.0    1.0        2.5   \n",
       "3  5.007140e+09   13.135283         2           1094.0    1.0        2.0   \n",
       "4  5.011840e+09    9.246656         1           2392.0    1.0        2.0   \n",
       "5  5.007650e+09   17.458111         1           1122.0    1.0        2.5   \n",
       "\n",
       "   Bldg_nrr  BldgAge  BsmtCode  ProxCode  BldgClass_dummy  \n",
       "0  2.583333       57       1.0       1.0                2  \n",
       "2  1.588235       97       1.0       1.0                1  \n",
       "3  1.923077       42       0.0       1.0                2  \n",
       "4  1.769231       52       0.0       1.0                1  \n",
       "5  1.764706       92       1.0       1.0                1  "
      ]
     },
     "execution_count": 80,
     "metadata": {},
     "output_type": "execute_result"
    }
   ],
   "source": [
    "pluto.head()"
   ]
  },
  {
   "cell_type": "code",
   "execution_count": 81,
   "metadata": {
    "collapsed": true
   },
   "outputs": [],
   "source": [
    "pluto = pluto.reset_index()\n",
    "pluto = pluto.drop('index',axis=1)"
   ]
  },
  {
   "cell_type": "code",
   "execution_count": 82,
   "metadata": {
    "collapsed": false
   },
   "outputs": [
    {
     "data": {
      "text/html": [
       "<div>\n",
       "<table border=\"1\" class=\"dataframe\">\n",
       "  <thead>\n",
       "    <tr style=\"text-align: right;\">\n",
       "      <th></th>\n",
       "      <th>BBL</th>\n",
       "      <th>Ownership</th>\n",
       "      <th>Agent</th>\n",
       "      <th>SiteManager</th>\n",
       "      <th>boiler</th>\n",
       "      <th>boiler_age</th>\n",
       "    </tr>\n",
       "  </thead>\n",
       "  <tbody>\n",
       "    <tr>\n",
       "      <th>0</th>\n",
       "      <td>4086640052</td>\n",
       "      <td>0</td>\n",
       "      <td>0.0</td>\n",
       "      <td>1.0</td>\n",
       "      <td>0</td>\n",
       "      <td>27.174765</td>\n",
       "    </tr>\n",
       "    <tr>\n",
       "      <th>1</th>\n",
       "      <td>4057400139</td>\n",
       "      <td>1</td>\n",
       "      <td>1.0</td>\n",
       "      <td>1.0</td>\n",
       "      <td>0</td>\n",
       "      <td>27.174765</td>\n",
       "    </tr>\n",
       "    <tr>\n",
       "      <th>2</th>\n",
       "      <td>3034570006</td>\n",
       "      <td>1</td>\n",
       "      <td>1.0</td>\n",
       "      <td>1.0</td>\n",
       "      <td>0</td>\n",
       "      <td>27.174765</td>\n",
       "    </tr>\n",
       "    <tr>\n",
       "      <th>3</th>\n",
       "      <td>1021160061</td>\n",
       "      <td>1</td>\n",
       "      <td>1.0</td>\n",
       "      <td>1.0</td>\n",
       "      <td>0</td>\n",
       "      <td>27.174765</td>\n",
       "    </tr>\n",
       "    <tr>\n",
       "      <th>4</th>\n",
       "      <td>1004360020</td>\n",
       "      <td>1</td>\n",
       "      <td>1.0</td>\n",
       "      <td>1.0</td>\n",
       "      <td>0</td>\n",
       "      <td>27.174765</td>\n",
       "    </tr>\n",
       "  </tbody>\n",
       "</table>\n",
       "</div>"
      ],
      "text/plain": [
       "          BBL  Ownership  Agent  SiteManager  boiler  boiler_age\n",
       "0  4086640052          0    0.0          1.0       0   27.174765\n",
       "1  4057400139          1    1.0          1.0       0   27.174765\n",
       "2  3034570006          1    1.0          1.0       0   27.174765\n",
       "3  1021160061          1    1.0          1.0       0   27.174765\n",
       "4  1004360020          1    1.0          1.0       0   27.174765"
      ]
     },
     "execution_count": 82,
     "metadata": {},
     "output_type": "execute_result"
    }
   ],
   "source": [
    "dwell.head()"
   ]
  },
  {
   "cell_type": "code",
   "execution_count": 83,
   "metadata": {
    "collapsed": false
   },
   "outputs": [
    {
     "data": {
      "text/html": [
       "<div>\n",
       "<table border=\"1\" class=\"dataframe\">\n",
       "  <thead>\n",
       "    <tr style=\"text-align: right;\">\n",
       "      <th></th>\n",
       "      <th>BBL</th>\n",
       "      <th>Sum_season_vio</th>\n",
       "      <th>Avg_season_vio</th>\n",
       "    </tr>\n",
       "  </thead>\n",
       "  <tbody>\n",
       "    <tr>\n",
       "      <th>0</th>\n",
       "      <td>1000160100</td>\n",
       "      <td>2</td>\n",
       "      <td>0.50</td>\n",
       "    </tr>\n",
       "    <tr>\n",
       "      <th>1</th>\n",
       "      <td>1000167509</td>\n",
       "      <td>1</td>\n",
       "      <td>0.25</td>\n",
       "    </tr>\n",
       "    <tr>\n",
       "      <th>2</th>\n",
       "      <td>1000170029</td>\n",
       "      <td>1</td>\n",
       "      <td>0.25</td>\n",
       "    </tr>\n",
       "    <tr>\n",
       "      <th>3</th>\n",
       "      <td>1000297501</td>\n",
       "      <td>1</td>\n",
       "      <td>0.25</td>\n",
       "    </tr>\n",
       "    <tr>\n",
       "      <th>4</th>\n",
       "      <td>1000530006</td>\n",
       "      <td>12</td>\n",
       "      <td>3.00</td>\n",
       "    </tr>\n",
       "  </tbody>\n",
       "</table>\n",
       "</div>"
      ],
      "text/plain": [
       "          BBL  Sum_season_vio  Avg_season_vio\n",
       "0  1000160100               2            0.50\n",
       "1  1000167509               1            0.25\n",
       "2  1000170029               1            0.25\n",
       "3  1000297501               1            0.25\n",
       "4  1000530006              12            3.00"
      ]
     },
     "execution_count": 83,
     "metadata": {},
     "output_type": "execute_result"
    }
   ],
   "source": [
    "vios.head()"
   ]
  },
  {
   "cell_type": "code",
   "execution_count": 84,
   "metadata": {
    "collapsed": false
   },
   "outputs": [
    {
     "name": "stdout",
     "output_type": "stream",
     "text": [
      "int64\n",
      "int64\n",
      "float64\n"
     ]
    }
   ],
   "source": [
    "print dwell.BBL.dtypes\n",
    "print vios.BBL.dtypes\n",
    "print pluto.BBL.dtypes"
   ]
  },
  {
   "cell_type": "code",
   "execution_count": 85,
   "metadata": {
    "collapsed": false
   },
   "outputs": [
    {
     "name": "stdout",
     "output_type": "stream",
     "text": [
      "144838\n",
      "17472\n",
      "753540\n"
     ]
    }
   ],
   "source": [
    "print len(dwell)\n",
    "print len(vios)\n",
    "print len(pluto)"
   ]
  },
  {
   "cell_type": "markdown",
   "metadata": {},
   "source": [
    "### merge on BBL"
   ]
  },
  {
   "cell_type": "code",
   "execution_count": 86,
   "metadata": {
    "collapsed": true
   },
   "outputs": [],
   "source": [
    "pluto['BBL'] = pluto['BBL'].astype(int)"
   ]
  },
  {
   "cell_type": "code",
   "execution_count": 87,
   "metadata": {
    "collapsed": false
   },
   "outputs": [
    {
     "name": "stdout",
     "output_type": "stream",
     "text": [
      "int64\n",
      "int64\n",
      "int64\n"
     ]
    }
   ],
   "source": [
    "print dwell.BBL.dtypes\n",
    "print vios.BBL.dtypes\n",
    "print pluto.BBL.dtypes"
   ]
  },
  {
   "cell_type": "code",
   "execution_count": 88,
   "metadata": {
    "collapsed": true
   },
   "outputs": [],
   "source": [
    "vios_dwell = pd.merge(vios, dwell, on='BBL', how='right')"
   ]
  },
  {
   "cell_type": "code",
   "execution_count": 89,
   "metadata": {
    "collapsed": false
   },
   "outputs": [
    {
     "data": {
      "text/plain": [
       "BBL                    0\n",
       "Sum_season_vio    130185\n",
       "Avg_season_vio    130185\n",
       "Ownership              0\n",
       "Agent                  0\n",
       "SiteManager            0\n",
       "boiler                 0\n",
       "boiler_age             0\n",
       "dtype: int64"
      ]
     },
     "execution_count": 89,
     "metadata": {},
     "output_type": "execute_result"
    }
   ],
   "source": [
    "vios_dwell.isnull().sum()"
   ]
  },
  {
   "cell_type": "code",
   "execution_count": 90,
   "metadata": {
    "collapsed": true
   },
   "outputs": [],
   "source": [
    "vios_dwell = vios_dwell.replace(np.nan, 0)"
   ]
  },
  {
   "cell_type": "code",
   "execution_count": 91,
   "metadata": {
    "collapsed": true
   },
   "outputs": [],
   "source": [
    "dvp = pd.merge(pluto, vios_dwell, on='BBL', how='right')"
   ]
  },
  {
   "cell_type": "code",
   "execution_count": 92,
   "metadata": {
    "collapsed": false
   },
   "outputs": [
    {
     "data": {
      "text/plain": [
       "BBL                   0\n",
       "AssessSqft         5976\n",
       "UnitsRes           5976\n",
       "ResArea_perunit    5976\n",
       "Res_r              5976\n",
       "NumFloors          5976\n",
       "Bldg_nrr           5976\n",
       "BldgAge            5976\n",
       "BsmtCode           5976\n",
       "ProxCode           5976\n",
       "BldgClass_dummy    5976\n",
       "Sum_season_vio        0\n",
       "Avg_season_vio        0\n",
       "Ownership             0\n",
       "Agent                 0\n",
       "SiteManager           0\n",
       "boiler                0\n",
       "boiler_age            0\n",
       "dtype: int64"
      ]
     },
     "execution_count": 92,
     "metadata": {},
     "output_type": "execute_result"
    }
   ],
   "source": [
    "dvp.isnull().sum()"
   ]
  },
  {
   "cell_type": "code",
   "execution_count": 93,
   "metadata": {
    "collapsed": false
   },
   "outputs": [],
   "source": [
    "dvp  = pvd.dropna()"
   ]
  },
  {
   "cell_type": "code",
   "execution_count": 94,
   "metadata": {
    "collapsed": false
   },
   "outputs": [
    {
     "data": {
      "text/plain": [
       "138862"
      ]
     },
     "execution_count": 94,
     "metadata": {},
     "output_type": "execute_result"
    }
   ],
   "source": [
    "len(pvd)"
   ]
  },
  {
   "cell_type": "code",
   "execution_count": 95,
   "metadata": {
    "collapsed": true
   },
   "outputs": [],
   "source": [
    "dvp['vio_binary'] = [1 if x > 0 else 0 for x in dvp['Avg_season_vio']]"
   ]
  },
  {
   "cell_type": "markdown",
   "metadata": {},
   "source": [
    "#### descriptive analysis"
   ]
  },
  {
   "cell_type": "code",
   "execution_count": 96,
   "metadata": {
    "collapsed": false
   },
   "outputs": [
    {
     "data": {
      "text/html": [
       "<div>\n",
       "<table border=\"1\" class=\"dataframe\">\n",
       "  <thead>\n",
       "    <tr style=\"text-align: right;\">\n",
       "      <th></th>\n",
       "      <th>BBL</th>\n",
       "      <th>AssessSqft</th>\n",
       "      <th>UnitsRes</th>\n",
       "      <th>ResArea</th>\n",
       "      <th>ResArea_perunit</th>\n",
       "      <th>Res_r</th>\n",
       "      <th>NumFloors</th>\n",
       "      <th>Bldg_nrr</th>\n",
       "      <th>BldgAge</th>\n",
       "      <th>BsmtCode</th>\n",
       "      <th>ProxCode</th>\n",
       "      <th>BldgClass_dummy</th>\n",
       "      <th>Sum_season_vio</th>\n",
       "      <th>Avg_season_vio</th>\n",
       "      <th>Ownership</th>\n",
       "      <th>Agent</th>\n",
       "      <th>SiteManager</th>\n",
       "      <th>boiler</th>\n",
       "      <th>boiler_age</th>\n",
       "      <th>vio_binary</th>\n",
       "    </tr>\n",
       "  </thead>\n",
       "  <tbody>\n",
       "    <tr>\n",
       "      <th>count</th>\n",
       "      <td>1.388620e+05</td>\n",
       "      <td>138862.000000</td>\n",
       "      <td>138862.000000</td>\n",
       "      <td>1.388620e+05</td>\n",
       "      <td>138862.000000</td>\n",
       "      <td>138862.000000</td>\n",
       "      <td>138862.000000</td>\n",
       "      <td>138862.000000</td>\n",
       "      <td>138862.000000</td>\n",
       "      <td>138862.000000</td>\n",
       "      <td>138862.000000</td>\n",
       "      <td>138862.000000</td>\n",
       "      <td>138862.000000</td>\n",
       "      <td>138862.000000</td>\n",
       "      <td>138862.000000</td>\n",
       "      <td>138862.000000</td>\n",
       "      <td>138862.00000</td>\n",
       "      <td>138862.000000</td>\n",
       "      <td>138862.000000</td>\n",
       "      <td>138862.000000</td>\n",
       "    </tr>\n",
       "    <tr>\n",
       "      <th>mean</th>\n",
       "      <td>2.782979e+09</td>\n",
       "      <td>24.915142</td>\n",
       "      <td>14.520711</td>\n",
       "      <td>1.365001e+04</td>\n",
       "      <td>986.590534</td>\n",
       "      <td>0.950295</td>\n",
       "      <td>3.673191</td>\n",
       "      <td>2.424622</td>\n",
       "      <td>85.507259</td>\n",
       "      <td>2.565475</td>\n",
       "      <td>1.074873</td>\n",
       "      <td>3.001361</td>\n",
       "      <td>0.362468</td>\n",
       "      <td>0.090617</td>\n",
       "      <td>0.962805</td>\n",
       "      <td>0.756002</td>\n",
       "      <td>0.80315</td>\n",
       "      <td>0.012610</td>\n",
       "      <td>27.180528</td>\n",
       "      <td>0.103340</td>\n",
       "    </tr>\n",
       "    <tr>\n",
       "      <th>std</th>\n",
       "      <td>1.034708e+09</td>\n",
       "      <td>31.273412</td>\n",
       "      <td>45.622941</td>\n",
       "      <td>4.724897e+04</td>\n",
       "      <td>1060.044417</td>\n",
       "      <td>0.126208</td>\n",
       "      <td>2.623617</td>\n",
       "      <td>1.535914</td>\n",
       "      <td>30.144591</td>\n",
       "      <td>1.998596</td>\n",
       "      <td>0.940011</td>\n",
       "      <td>0.550689</td>\n",
       "      <td>1.789059</td>\n",
       "      <td>0.447265</td>\n",
       "      <td>0.962415</td>\n",
       "      <td>0.429493</td>\n",
       "      <td>0.39762</td>\n",
       "      <td>0.134845</td>\n",
       "      <td>8.989871</td>\n",
       "      <td>0.304404</td>\n",
       "    </tr>\n",
       "    <tr>\n",
       "      <th>min</th>\n",
       "      <td>1.000070e+09</td>\n",
       "      <td>0.315600</td>\n",
       "      <td>1.000000</td>\n",
       "      <td>1.070000e+02</td>\n",
       "      <td>26.000000</td>\n",
       "      <td>0.009232</td>\n",
       "      <td>1.000000</td>\n",
       "      <td>0.000000</td>\n",
       "      <td>2.000000</td>\n",
       "      <td>0.000000</td>\n",
       "      <td>0.000000</td>\n",
       "      <td>0.000000</td>\n",
       "      <td>0.000000</td>\n",
       "      <td>0.000000</td>\n",
       "      <td>0.000000</td>\n",
       "      <td>0.000000</td>\n",
       "      <td>0.00000</td>\n",
       "      <td>0.000000</td>\n",
       "      <td>2.000000</td>\n",
       "      <td>0.000000</td>\n",
       "    </tr>\n",
       "    <tr>\n",
       "      <th>25%</th>\n",
       "      <td>2.037130e+09</td>\n",
       "      <td>9.665155</td>\n",
       "      <td>3.000000</td>\n",
       "      <td>2.964000e+03</td>\n",
       "      <td>745.000000</td>\n",
       "      <td>1.000000</td>\n",
       "      <td>2.500000</td>\n",
       "      <td>1.900000</td>\n",
       "      <td>86.000000</td>\n",
       "      <td>1.000000</td>\n",
       "      <td>0.000000</td>\n",
       "      <td>3.000000</td>\n",
       "      <td>0.000000</td>\n",
       "      <td>0.000000</td>\n",
       "      <td>0.000000</td>\n",
       "      <td>1.000000</td>\n",
       "      <td>1.00000</td>\n",
       "      <td>0.000000</td>\n",
       "      <td>27.174765</td>\n",
       "      <td>0.000000</td>\n",
       "    </tr>\n",
       "    <tr>\n",
       "      <th>50%</th>\n",
       "      <td>3.023030e+09</td>\n",
       "      <td>14.950067</td>\n",
       "      <td>4.000000</td>\n",
       "      <td>3.808000e+03</td>\n",
       "      <td>900.000000</td>\n",
       "      <td>1.000000</td>\n",
       "      <td>3.000000</td>\n",
       "      <td>2.444444</td>\n",
       "      <td>92.000000</td>\n",
       "      <td>1.000000</td>\n",
       "      <td>1.000000</td>\n",
       "      <td>3.000000</td>\n",
       "      <td>0.000000</td>\n",
       "      <td>0.000000</td>\n",
       "      <td>1.000000</td>\n",
       "      <td>1.000000</td>\n",
       "      <td>1.00000</td>\n",
       "      <td>0.000000</td>\n",
       "      <td>27.174765</td>\n",
       "      <td>0.000000</td>\n",
       "    </tr>\n",
       "    <tr>\n",
       "      <th>75%</th>\n",
       "      <td>3.071688e+09</td>\n",
       "      <td>26.052529</td>\n",
       "      <td>9.000000</td>\n",
       "      <td>7.358000e+03</td>\n",
       "      <td>1120.000000</td>\n",
       "      <td>1.000000</td>\n",
       "      <td>4.000000</td>\n",
       "      <td>3.000000</td>\n",
       "      <td>107.000000</td>\n",
       "      <td>5.000000</td>\n",
       "      <td>2.000000</td>\n",
       "      <td>3.000000</td>\n",
       "      <td>0.000000</td>\n",
       "      <td>0.000000</td>\n",
       "      <td>1.000000</td>\n",
       "      <td>1.000000</td>\n",
       "      <td>1.00000</td>\n",
       "      <td>0.000000</td>\n",
       "      <td>27.174765</td>\n",
       "      <td>0.000000</td>\n",
       "    </tr>\n",
       "    <tr>\n",
       "      <th>max</th>\n",
       "      <td>5.080500e+09</td>\n",
       "      <td>3775.858779</td>\n",
       "      <td>5860.000000</td>\n",
       "      <td>6.698000e+06</td>\n",
       "      <td>330434.000000</td>\n",
       "      <td>15.071305</td>\n",
       "      <td>76.000000</td>\n",
       "      <td>331.823529</td>\n",
       "      <td>219.000000</td>\n",
       "      <td>5.000000</td>\n",
       "      <td>2.000000</td>\n",
       "      <td>4.000000</td>\n",
       "      <td>81.000000</td>\n",
       "      <td>20.250000</td>\n",
       "      <td>3.000000</td>\n",
       "      <td>1.000000</td>\n",
       "      <td>1.00000</td>\n",
       "      <td>2.000000</td>\n",
       "      <td>2012.000000</td>\n",
       "      <td>1.000000</td>\n",
       "    </tr>\n",
       "  </tbody>\n",
       "</table>\n",
       "</div>"
      ],
      "text/plain": [
       "                BBL     AssessSqft       UnitsRes       ResArea  \\\n",
       "count  1.388620e+05  138862.000000  138862.000000  1.388620e+05   \n",
       "mean   2.782979e+09      24.915142      14.520711  1.365001e+04   \n",
       "std    1.034708e+09      31.273412      45.622941  4.724897e+04   \n",
       "min    1.000070e+09       0.315600       1.000000  1.070000e+02   \n",
       "25%    2.037130e+09       9.665155       3.000000  2.964000e+03   \n",
       "50%    3.023030e+09      14.950067       4.000000  3.808000e+03   \n",
       "75%    3.071688e+09      26.052529       9.000000  7.358000e+03   \n",
       "max    5.080500e+09    3775.858779    5860.000000  6.698000e+06   \n",
       "\n",
       "       ResArea_perunit          Res_r      NumFloors       Bldg_nrr  \\\n",
       "count    138862.000000  138862.000000  138862.000000  138862.000000   \n",
       "mean        986.590534       0.950295       3.673191       2.424622   \n",
       "std        1060.044417       0.126208       2.623617       1.535914   \n",
       "min          26.000000       0.009232       1.000000       0.000000   \n",
       "25%         745.000000       1.000000       2.500000       1.900000   \n",
       "50%         900.000000       1.000000       3.000000       2.444444   \n",
       "75%        1120.000000       1.000000       4.000000       3.000000   \n",
       "max      330434.000000      15.071305      76.000000     331.823529   \n",
       "\n",
       "             BldgAge       BsmtCode       ProxCode  BldgClass_dummy  \\\n",
       "count  138862.000000  138862.000000  138862.000000    138862.000000   \n",
       "mean       85.507259       2.565475       1.074873         3.001361   \n",
       "std        30.144591       1.998596       0.940011         0.550689   \n",
       "min         2.000000       0.000000       0.000000         0.000000   \n",
       "25%        86.000000       1.000000       0.000000         3.000000   \n",
       "50%        92.000000       1.000000       1.000000         3.000000   \n",
       "75%       107.000000       5.000000       2.000000         3.000000   \n",
       "max       219.000000       5.000000       2.000000         4.000000   \n",
       "\n",
       "       Sum_season_vio  Avg_season_vio      Ownership          Agent  \\\n",
       "count   138862.000000   138862.000000  138862.000000  138862.000000   \n",
       "mean         0.362468        0.090617       0.962805       0.756002   \n",
       "std          1.789059        0.447265       0.962415       0.429493   \n",
       "min          0.000000        0.000000       0.000000       0.000000   \n",
       "25%          0.000000        0.000000       0.000000       1.000000   \n",
       "50%          0.000000        0.000000       1.000000       1.000000   \n",
       "75%          0.000000        0.000000       1.000000       1.000000   \n",
       "max         81.000000       20.250000       3.000000       1.000000   \n",
       "\n",
       "        SiteManager         boiler     boiler_age     vio_binary  \n",
       "count  138862.00000  138862.000000  138862.000000  138862.000000  \n",
       "mean        0.80315       0.012610      27.180528       0.103340  \n",
       "std         0.39762       0.134845       8.989871       0.304404  \n",
       "min         0.00000       0.000000       2.000000       0.000000  \n",
       "25%         1.00000       0.000000      27.174765       0.000000  \n",
       "50%         1.00000       0.000000      27.174765       0.000000  \n",
       "75%         1.00000       0.000000      27.174765       0.000000  \n",
       "max         1.00000       2.000000    2012.000000       1.000000  "
      ]
     },
     "execution_count": 96,
     "metadata": {},
     "output_type": "execute_result"
    }
   ],
   "source": [
    "dvp.describe()"
   ]
  },
  {
   "cell_type": "markdown",
   "metadata": {},
   "source": [
    "#### continuous var relationship with dep"
   ]
  },
  {
   "cell_type": "code",
   "execution_count": 97,
   "metadata": {
    "collapsed": false,
    "scrolled": true
   },
   "outputs": [
    {
     "data": {
      "image/png": "[encoded data removed]",
      "text/plain": [
       "<matplotlib.figure.Figure at 0x11af7ab90>"
      ]
     },
     "metadata": {},
     "output_type": "display_data"
    },
    {
     "data": {
      "image/png": "[encoded data removed]",
      "text/plain": [
       "<matplotlib.figure.Figure at 0x183ec1890>"
      ]
     },
     "metadata": {},
     "output_type": "display_data"
    },
    {
     "data": {
      "image/png": "[encoded data removed]",
      "text/plain": [
       "<matplotlib.figure.Figure at 0x183ec1950>"
      ]
     },
     "metadata": {},
     "output_type": "display_data"
    },
    {
     "data": {
      "image/png": "[encoded data removed]",
      "text/plain": [
       "<matplotlib.figure.Figure at 0x183ec12d0>"
      ]
     },
     "metadata": {},
     "output_type": "display_data"
    },
    {
     "data": {
      "image/png": "[encoded data removed]",
      "text/plain": [
       "<matplotlib.figure.Figure at 0x117631ad0>"
      ]
     },
     "metadata": {},
     "output_type": "display_data"
    },
    {
     "data": {
      "image/png": "[encoded data removed]",
      "text/plain": [
       "<matplotlib.figure.Figure at 0x153a03a90>"
      ]
     },
     "metadata": {},
     "output_type": "display_data"
    },
    {
     "data": {
      "image/png": "[encoded data removed]",
      "text/plain": [
       "<matplotlib.figure.Figure at 0x153a6bfd0>"
      ]
     },
     "metadata": {},
     "output_type": "display_data"
    }
   ],
   "source": [
    "cols = ['AssessSqft','UnitsRes', 'ResArea_perunit','Res_r','NumFloors','Bldg_nrr',\\\n",
    "       'BldgAge']\n",
    "for elem in cols:\n",
    "    plt.figure(figsize=(8,6))\n",
    "    plt.plot(dvp[elem],dvp['Sum_season_vio'], '.')\n",
    "    plt.title(elem + ' and SumSeasonalViolation')\n",
    "    plt.xlabel(elem)\n",
    "    plt.ylabel('SumSeasonalViolation')\n",
    "    plt.xlim(min(dvp[elem]),max(dvp[elem]))\n",
    "    plt.ylim(min(dvp['Sum_season_vio']),max(dvp['Sum_season_vio']))"
   ]
  },
  {
   "cell_type": "code",
   "execution_count": 98,
   "metadata": {
    "collapsed": false
   },
   "outputs": [
    {
     "data": {
      "text/plain": [
       "<matplotlib.axes._subplots.AxesSubplot at 0x15d4d3410>"
      ]
     },
     "execution_count": 98,
     "metadata": {},
     "output_type": "execute_result"
    },
    {
     "data": {
      "image/png": "[encoded data removed]",
      "text/plain": [
       "<matplotlib.figure.Figure at 0x11af0e210>"
      ]
     },
     "metadata": {},
     "output_type": "display_data"
    }
   ],
   "source": [
    "corr = dvp.corr()\n",
    "\n",
    "# Generate a mask for the upper triangle\n",
    "mask = np.zeros_like(corr, dtype=np.bool)\n",
    "mask[np.triu_indices_from(mask)] = True\n",
    "\n",
    "# Set up the matplotlib figure\n",
    "f, ax = plt.subplots(figsize=(11, 9))\n",
    "\n",
    "# Generate a custom diverging colormap\n",
    "cmap = sns.diverging_palette(220, 10, as_cmap=True)\n",
    "\n",
    "# Draw the heatmap with the mask and correct aspect ratio\n",
    "sns.heatmap(corr, mask=mask, cmap=cmap, vmax=.3,\n",
    "            square=True, ax=ax)\n"
   ]
  },
  {
   "cell_type": "markdown",
   "metadata": {
    "collapsed": false
   },
   "source": [
    "#### logistic regression"
   ]
  },
  {
   "cell_type": "code",
   "execution_count": 100,
   "metadata": {
    "collapsed": false
   },
   "outputs": [
    {
     "name": "stdout",
     "output_type": "stream",
     "text": [
      "0.896659993375\n",
      "0.103340006625\n"
     ]
    }
   ],
   "source": [
    "print len(dvp[dvp['vio_binary']==0])/float(len(dvp))\n",
    "print len(dvp[dvp['vio_binary']==1])/float(len(dvp))"
   ]
  },
  {
   "cell_type": "code",
   "execution_count": 93,
   "metadata": {
    "collapsed": false
   },
   "outputs": [
    {
     "data": {
      "text/plain": [
       "Index([u'BBL', u'AssessSqft', u'UnitsRes', u'ResArea', u'ResArea_perunit',\n",
       "       u'Res_r', u'NumFloors', u'Bldg_nrr', u'BldgAge', u'BsmtCode',\n",
       "       u'ProxCode', u'BldgClass_dummy', u'Ownership', u'Agent', u'SiteManager',\n",
       "       u'boiler', u'boiler_age', u'Sum_season_vio', u'Avg_season_vio',\n",
       "       u'vio_binary'],\n",
       "      dtype='object')"
      ]
     },
     "execution_count": 93,
     "metadata": {},
     "output_type": "execute_result"
    }
   ],
   "source": [
    "dvp.columns"
   ]
  },
  {
   "cell_type": "markdown",
   "metadata": {},
   "source": [
    "The percentage of correctly classified datapoints, or accuracy, can be calculated with the following formula: ACC = (TP + TN) / (TP + TN + FP + FN). The percentage of incorrectly classified datapoints over the test set can be calculated with the following formula: (FP + FN) / (TP + TN + FP + FN), or 1 - ACC."
   ]
  },
  {
   "cell_type": "code",
   "execution_count": 101,
   "metadata": {
    "collapsed": false
   },
   "outputs": [
    {
     "name": "stdout",
     "output_type": "stream",
     "text": [
      "Optimization terminated successfully.\n",
      "         Current function value: 0.303616\n",
      "         Iterations 7\n",
      "Optimization terminated successfully.\n",
      "         Current function value: 0.304981\n",
      "         Iterations 7\n",
      "Optimization terminated successfully.\n",
      "         Current function value: 0.303768\n",
      "         Iterations 7\n",
      "Optimization terminated successfully.\n",
      "         Current function value: 0.303313\n",
      "         Iterations 7\n",
      "Optimization terminated successfully.\n",
      "         Current function value: 0.304803\n",
      "         Iterations 7\n",
      "Optimization terminated successfully.\n",
      "         Current function value: 0.303247\n",
      "         Iterations 7\n",
      "Optimization terminated successfully.\n",
      "         Current function value: 0.305010\n",
      "         Iterations 7\n",
      "Optimization terminated successfully.\n",
      "         Current function value: 0.301122\n",
      "         Iterations 7\n",
      "Optimization terminated successfully.\n",
      "         Current function value: 0.304405\n",
      "         Iterations 7\n",
      "Optimization terminated successfully.\n",
      "         Current function value: 0.302997\n",
      "         Iterations 7\n",
      "Optimization terminated successfully.\n",
      "         Current function value: 0.303522\n",
      "         Iterations 7\n",
      "Optimization terminated successfully.\n",
      "         Current function value: 0.305299\n",
      "         Iterations 7\n",
      "Optimization terminated successfully.\n",
      "         Current function value: 0.303761\n",
      "         Iterations 7\n",
      "Warning: Maximum number of iterations has been exceeded.\n",
      "         Current function value: 0.307722\n",
      "         Iterations: 35\n"
     ]
    },
    {
     "name": "stderr",
     "output_type": "stream",
     "text": [
      "//anaconda/lib/python2.7/site-packages/statsmodels-0.8.0-py2.7-macosx-10.6-x86_64.egg/statsmodels/base/model.py:496: ConvergenceWarning: Maximum Likelihood optimization failed to converge. Check mle_retvals\n",
      "  \"Check mle_retvals\", ConvergenceWarning)\n"
     ]
    },
    {
     "name": "stdout",
     "output_type": "stream",
     "text": [
      "Optimization terminated successfully.\n",
      "         Current function value: 0.304283\n",
      "         Iterations 7\n",
      "Average in sample psuedo rsquared: 0.0859387995101\n",
      "Average percentage of correctly classified out of sample data points: 0.895960720131\n",
      "Average percentage of incorrectly classified out of sample data points: 0.997513729769\n"
     ]
    }
   ],
   "source": [
    "X = dvp.loc[:,['AssessSqft', 'UnitsRes', 'ResArea_perunit', 'Res_r', 'NumFloors', 'Bldg_nrr', 'BldgAge', \\\n",
    "               'BsmtCode', 'ProxCode', 'BldgClass_dummy', 'Ownership', 'Agent', 'SiteManager', 'boiler', 'boiler_age']]\n",
    "y = dvp.loc[:,['vio_binary']]\n",
    "is_rsquared = []\n",
    "os_acc = []\n",
    "os_inacc = []\n",
    "TN = []\n",
    "FN = []\n",
    "TP = []\n",
    "FP = []\n",
    "for i in np.arange(1,300,20):\n",
    "    X_train, X_test, y_train, y_test = train_test_split(X, y, test_size=0.33, random_state=i)\n",
    "    mod = smf.Logit(y_train, X_train)\n",
    "    res = mod.fit()\n",
    "    is_rsquared.append(res.prsquared)\n",
    "    y_pred = res.predict(X_test)\n",
    "    results = pd.concat([y_test,y_pred],axis=1)\n",
    "    results = results.rename(columns={0:'y_pred'})\n",
    "    results['vio_pred'] = [1 if x >= 0.5 else 0 for x in y_pred]\n",
    "    confusion = confusion_matrix(results['vio_binary'], results['vio_pred'])\n",
    "    TN.append(confusion[0][0])\n",
    "    FN.append(confusion[1][0])\n",
    "    TP.append(confusion[1][1])\n",
    "    FP.append(confusion[0][1])\n",
    "    os_acc.append((confusion[1][1]+confusion[0][0])/float((confusion[0][0]+confusion[1][0]+confusion[1][1]+confusion[0][1])))\n",
    "    os_inacc.append((confusion[1][0]+confusion[0][0])/float((confusion[0][0]+confusion[1][0]+confusion[1][1]+confusion[0][1])))\n",
    "print 'Average in sample psuedo rsquared: '+str(np.mean(is_rsquared))\n",
    "print 'Average percentage of correctly classified out of sample data points: '+str(np.mean(os_acc))\n",
    "print 'Average percentage of incorrectly classified out of sample data points: '+str(np.mean(os_inacc))\n",
    "#print 'Mean true negative: '+str(np.mean(TN))\n",
    "#print 'Mean false negative: '+str(np.mean(FN))\n",
    "#print 'Mean true positive: '+str(np.mean(TP))\n",
    "#print 'Mean false positive: '+str(np.mean(FP))"
   ]
  },
  {
   "cell_type": "markdown",
   "metadata": {},
   "source": [
    "#### try logistic regression with undersampling the majority class"
   ]
  },
  {
   "cell_type": "code",
   "execution_count": 136,
   "metadata": {
    "collapsed": false
   },
   "outputs": [
    {
     "name": "stdout",
     "output_type": "stream",
     "text": [
      "Optimization terminated successfully.\n",
      "         Current function value: 0.611668\n",
      "         Iterations 7\n",
      "Optimization terminated successfully.\n",
      "         Current function value: 0.612571\n",
      "         Iterations 7\n",
      "Optimization terminated successfully.\n",
      "         Current function value: 0.606031\n",
      "         Iterations 7\n",
      "Optimization terminated successfully.\n",
      "         Current function value: 0.613905\n",
      "         Iterations 7\n",
      "Optimization terminated successfully.\n",
      "         Current function value: 0.611192\n",
      "         Iterations 7\n",
      "Optimization terminated successfully.\n",
      "         Current function value: 0.612836\n",
      "         Iterations 7\n",
      "Optimization terminated successfully.\n",
      "         Current function value: 0.610371\n",
      "         Iterations 7\n",
      "Optimization terminated successfully.\n",
      "         Current function value: 0.608542\n",
      "         Iterations 7\n",
      "Optimization terminated successfully.\n",
      "         Current function value: 0.612224\n",
      "         Iterations 7\n",
      "Optimization terminated successfully.\n",
      "         Current function value: 0.605478\n",
      "         Iterations 7\n",
      "Optimization terminated successfully.\n",
      "         Current function value: 0.609611\n",
      "         Iterations 7\n",
      "Optimization terminated successfully.\n",
      "         Current function value: 0.610273\n",
      "         Iterations 7\n",
      "Optimization terminated successfully.\n",
      "         Current function value: 0.608637\n",
      "         Iterations 7\n",
      "Optimization terminated successfully.\n",
      "         Current function value: 0.610296\n",
      "         Iterations 7\n",
      "Optimization terminated successfully.\n",
      "         Current function value: 0.611483\n",
      "         Iterations 6\n",
      "Average in sample psuedo rsquared: 0.119455163282\n",
      "Average percentage of correctly classified out of sample data points: 0.68529898286\n",
      "Average percentage of incorrectly classified out of sample data points: 0.471572871573\n"
     ]
    }
   ],
   "source": [
    "is_rsquared = []\n",
    "os_acc = []\n",
    "os_inacc = []\n",
    "TN = []\n",
    "FN = []\n",
    "TP = []\n",
    "FP = []\n",
    "odds = []\n",
    "pvalues = []\n",
    "for i in np.arange(1,300,20):\n",
    "    zeros = dvp[dvp['vio_binary']==0]\n",
    "    sample_zeros = zeros.sample(n=len(dvp[dvp['vio_binary']==1]))\n",
    "    newdf = pd.concat([dvp[dvp['vio_binary']==1], sample_zeros])\n",
    "    X = newdf.loc[:,['AssessSqft', 'UnitsRes', 'ResArea_perunit',\n",
    "           'Res_r', 'NumFloors', 'Bldg_nrr', 'BldgAge', 'BsmtCode',\n",
    "           'ProxCode', 'BldgClass_dummy', 'Ownership', 'Agent', 'SiteManager', 'boiler', 'boiler_age']]\n",
    "    y = newdf.loc[:,['vio_binary']]\n",
    "    X_train, X_test, y_train, y_test = train_test_split(X, y, test_size=0.33, random_state=i)\n",
    "    mod = smf.Logit(y_train, X_train)\n",
    "    res = mod.fit()\n",
    "    odds.append(np.exp(res.params))\n",
    "    pvalues.append(res.pvalues)\n",
    "    is_rsquared.append(res.prsquared)\n",
    "    y_pred = res.predict(X_test)\n",
    "    results = pd.concat([y_test,y_pred],axis=1)\n",
    "    results = results.rename(columns={0:'y_pred'})\n",
    "    results['vio_pred'] = [1 if x >= 0.5 else 0 for x in y_pred]\n",
    "    confusion = confusion_matrix(results['vio_binary'], results['vio_pred'])\n",
    "    TN.append(confusion[0][0])\n",
    "    FN.append(confusion[1][0])\n",
    "    TP.append(confusion[1][1])\n",
    "    FP.append(confusion[0][1])\n",
    "    os_acc.append((confusion[1][1]+confusion[0][0])/float((confusion[0][0]+confusion[1][0]+confusion[1][1]+confusion[0][1])))\n",
    "    os_inacc.append((confusion[1][0]+confusion[0][0])/float((confusion[0][0]+confusion[1][0]+confusion[1][1]+confusion[0][1])))\n",
    "print 'Average in sample psuedo rsquared: '+str(np.mean(is_rsquared))\n",
    "print 'Average percentage of correctly classified out of sample data points: '+str(np.mean(os_acc))\n",
    "print 'Average percentage of incorrectly classified out of sample data points: '+str(np.mean(os_inacc))\n",
    "pvaluedf = pd.concat([elem for elem in pvalues],axis=1)\n",
    "pvaluedf['avg_pvalue'] = pvaluedf.mean(axis=1)\n",
    "pvaluedf = pvaluedf.reset_index()\n",
    "pvaluedf = pvaluedf[['index','avg_pvalue']]\n",
    "pvaluedf = pvaluedf.rename(columns={'index':'variable_name'})\n",
    "pvaluedf['avg_pvalue'] = pvaluedf['avg_pvalue'].map('{:,.2f}'.format)\n",
    "\n",
    "oddsdf = pd.concat([elem for elem in odds],axis=1)\n",
    "oddsdf['avg_oddsratio'] = oddsdf.mean(axis=1)\n",
    "oddsdf = oddsdf.reset_index()\n",
    "oddsdf = oddsdf[['index','avg_oddsratio']]\n",
    "oddsdf = oddsdf.rename(columns={'index':'variable_name'})\n",
    "oddsdf['avg_oddsratio'] = oddsdf['avg_oddsratio'].map('{:,.2f}'.format)"
   ]
  },
  {
   "cell_type": "code",
   "execution_count": 138,
   "metadata": {
    "collapsed": false
   },
   "outputs": [
    {
     "data": {
      "text/html": [
       "<div>\n",
       "<table border=\"1\" class=\"dataframe\">\n",
       "  <thead>\n",
       "    <tr style=\"text-align: right;\">\n",
       "      <th></th>\n",
       "      <th>variable_name</th>\n",
       "      <th>avg_pvalue</th>\n",
       "    </tr>\n",
       "  </thead>\n",
       "  <tbody>\n",
       "    <tr>\n",
       "      <th>0</th>\n",
       "      <td>AssessSqft</td>\n",
       "      <td>0.00</td>\n",
       "    </tr>\n",
       "    <tr>\n",
       "      <th>1</th>\n",
       "      <td>UnitsRes</td>\n",
       "      <td>0.00</td>\n",
       "    </tr>\n",
       "    <tr>\n",
       "      <th>2</th>\n",
       "      <td>ResArea_perunit</td>\n",
       "      <td>0.00</td>\n",
       "    </tr>\n",
       "    <tr>\n",
       "      <th>3</th>\n",
       "      <td>Res_r</td>\n",
       "      <td>0.26</td>\n",
       "    </tr>\n",
       "    <tr>\n",
       "      <th>4</th>\n",
       "      <td>NumFloors</td>\n",
       "      <td>0.00</td>\n",
       "    </tr>\n",
       "    <tr>\n",
       "      <th>5</th>\n",
       "      <td>Bldg_nrr</td>\n",
       "      <td>0.00</td>\n",
       "    </tr>\n",
       "    <tr>\n",
       "      <th>6</th>\n",
       "      <td>BldgAge</td>\n",
       "      <td>0.00</td>\n",
       "    </tr>\n",
       "    <tr>\n",
       "      <th>7</th>\n",
       "      <td>BsmtCode</td>\n",
       "      <td>0.01</td>\n",
       "    </tr>\n",
       "    <tr>\n",
       "      <th>8</th>\n",
       "      <td>ProxCode</td>\n",
       "      <td>0.00</td>\n",
       "    </tr>\n",
       "    <tr>\n",
       "      <th>9</th>\n",
       "      <td>BldgClass_dummy</td>\n",
       "      <td>0.14</td>\n",
       "    </tr>\n",
       "    <tr>\n",
       "      <th>10</th>\n",
       "      <td>Ownership</td>\n",
       "      <td>0.00</td>\n",
       "    </tr>\n",
       "    <tr>\n",
       "      <th>11</th>\n",
       "      <td>Agent</td>\n",
       "      <td>0.00</td>\n",
       "    </tr>\n",
       "    <tr>\n",
       "      <th>12</th>\n",
       "      <td>SiteManager</td>\n",
       "      <td>0.46</td>\n",
       "    </tr>\n",
       "    <tr>\n",
       "      <th>13</th>\n",
       "      <td>boiler</td>\n",
       "      <td>0.58</td>\n",
       "    </tr>\n",
       "    <tr>\n",
       "      <th>14</th>\n",
       "      <td>boiler_age</td>\n",
       "      <td>0.69</td>\n",
       "    </tr>\n",
       "  </tbody>\n",
       "</table>\n",
       "</div>"
      ],
      "text/plain": [
       "      variable_name avg_pvalue\n",
       "0        AssessSqft       0.00\n",
       "1          UnitsRes       0.00\n",
       "2   ResArea_perunit       0.00\n",
       "3             Res_r       0.26\n",
       "4         NumFloors       0.00\n",
       "5          Bldg_nrr       0.00\n",
       "6           BldgAge       0.00\n",
       "7          BsmtCode       0.01\n",
       "8          ProxCode       0.00\n",
       "9   BldgClass_dummy       0.14\n",
       "10        Ownership       0.00\n",
       "11            Agent       0.00\n",
       "12      SiteManager       0.46\n",
       "13           boiler       0.58\n",
       "14       boiler_age       0.69"
      ]
     },
     "execution_count": 138,
     "metadata": {},
     "output_type": "execute_result"
    }
   ],
   "source": [
    "pvaluedf"
   ]
  },
  {
   "cell_type": "code",
   "execution_count": 137,
   "metadata": {
    "collapsed": false
   },
   "outputs": [
    {
     "data": {
      "text/html": [
       "<div>\n",
       "<table border=\"1\" class=\"dataframe\">\n",
       "  <thead>\n",
       "    <tr style=\"text-align: right;\">\n",
       "      <th></th>\n",
       "      <th>variable_name</th>\n",
       "      <th>avg_oddsratio</th>\n",
       "    </tr>\n",
       "  </thead>\n",
       "  <tbody>\n",
       "    <tr>\n",
       "      <th>0</th>\n",
       "      <td>AssessSqft</td>\n",
       "      <td>0.99</td>\n",
       "    </tr>\n",
       "    <tr>\n",
       "      <th>1</th>\n",
       "      <td>UnitsRes</td>\n",
       "      <td>1.01</td>\n",
       "    </tr>\n",
       "    <tr>\n",
       "      <th>2</th>\n",
       "      <td>ResArea_perunit</td>\n",
       "      <td>1.00</td>\n",
       "    </tr>\n",
       "    <tr>\n",
       "      <th>3</th>\n",
       "      <td>Res_r</td>\n",
       "      <td>1.15</td>\n",
       "    </tr>\n",
       "    <tr>\n",
       "      <th>4</th>\n",
       "      <td>NumFloors</td>\n",
       "      <td>1.12</td>\n",
       "    </tr>\n",
       "    <tr>\n",
       "      <th>5</th>\n",
       "      <td>Bldg_nrr</td>\n",
       "      <td>0.79</td>\n",
       "    </tr>\n",
       "    <tr>\n",
       "      <th>6</th>\n",
       "      <td>BldgAge</td>\n",
       "      <td>1.01</td>\n",
       "    </tr>\n",
       "    <tr>\n",
       "      <th>7</th>\n",
       "      <td>BsmtCode</td>\n",
       "      <td>0.97</td>\n",
       "    </tr>\n",
       "    <tr>\n",
       "      <th>8</th>\n",
       "      <td>ProxCode</td>\n",
       "      <td>0.76</td>\n",
       "    </tr>\n",
       "    <tr>\n",
       "      <th>9</th>\n",
       "      <td>BldgClass_dummy</td>\n",
       "      <td>0.94</td>\n",
       "    </tr>\n",
       "    <tr>\n",
       "      <th>10</th>\n",
       "      <td>Ownership</td>\n",
       "      <td>0.68</td>\n",
       "    </tr>\n",
       "    <tr>\n",
       "      <th>11</th>\n",
       "      <td>Agent</td>\n",
       "      <td>3.71</td>\n",
       "    </tr>\n",
       "    <tr>\n",
       "      <th>12</th>\n",
       "      <td>SiteManager</td>\n",
       "      <td>0.98</td>\n",
       "    </tr>\n",
       "    <tr>\n",
       "      <th>13</th>\n",
       "      <td>boiler</td>\n",
       "      <td>0.97</td>\n",
       "    </tr>\n",
       "    <tr>\n",
       "      <th>14</th>\n",
       "      <td>boiler_age</td>\n",
       "      <td>1.00</td>\n",
       "    </tr>\n",
       "  </tbody>\n",
       "</table>\n",
       "</div>"
      ],
      "text/plain": [
       "      variable_name avg_oddsratio\n",
       "0        AssessSqft          0.99\n",
       "1          UnitsRes          1.01\n",
       "2   ResArea_perunit          1.00\n",
       "3             Res_r          1.15\n",
       "4         NumFloors          1.12\n",
       "5          Bldg_nrr          0.79\n",
       "6           BldgAge          1.01\n",
       "7          BsmtCode          0.97\n",
       "8          ProxCode          0.76\n",
       "9   BldgClass_dummy          0.94\n",
       "10        Ownership          0.68\n",
       "11            Agent          3.71\n",
       "12      SiteManager          0.98\n",
       "13           boiler          0.97\n",
       "14       boiler_age          1.00"
      ]
     },
     "execution_count": 137,
     "metadata": {},
     "output_type": "execute_result"
    }
   ],
   "source": [
    "oddsdf"
   ]
  },
  {
   "cell_type": "markdown",
   "metadata": {},
   "source": [
    "#### try logistic with oversampling minority class"
   ]
  },
  {
   "cell_type": "code",
   "execution_count": 139,
   "metadata": {
    "collapsed": false
   },
   "outputs": [
    {
     "name": "stderr",
     "output_type": "stream",
     "text": [
      "/Users/kristikorsberg/devel/venv/lib/python2.7/site-packages/sklearn/utils/validation.py:526: DataConversionWarning: A column-vector y was passed when a 1d array was expected. Please change the shape of y to (n_samples, ), for example using ravel().\n",
      "  y = column_or_1d(y, warn=True)\n"
     ]
    },
    {
     "name": "stdout",
     "output_type": "stream",
     "text": [
      "Optimization terminated successfully.\n",
      "         Current function value: 0.603184\n",
      "         Iterations 7\n",
      "Optimization terminated successfully.\n",
      "         Current function value: 0.604782\n",
      "         Iterations 7\n",
      "Optimization terminated successfully.\n",
      "         Current function value: 0.606717\n",
      "         Iterations 6\n",
      "Optimization terminated successfully.\n",
      "         Current function value: 0.602608\n",
      "         Iterations 7\n",
      "Optimization terminated successfully.\n",
      "         Current function value: 0.606125\n",
      "         Iterations 6\n",
      "Optimization terminated successfully.\n",
      "         Current function value: 0.604253\n",
      "         Iterations 7\n",
      "Optimization terminated successfully.\n",
      "         Current function value: 0.605318\n",
      "         Iterations 6\n",
      "Optimization terminated successfully.\n",
      "         Current function value: 0.606786\n",
      "         Iterations 6\n",
      "Optimization terminated successfully.\n",
      "         Current function value: 0.606813\n",
      "         Iterations 6\n",
      "Optimization terminated successfully.\n",
      "         Current function value: 0.602855\n",
      "         Iterations 7\n",
      "Optimization terminated successfully.\n",
      "         Current function value: 0.604150\n",
      "         Iterations 6\n",
      "Optimization terminated successfully.\n",
      "         Current function value: 0.607946\n",
      "         Iterations 6\n",
      "Optimization terminated successfully.\n",
      "         Current function value: 0.604251\n",
      "         Iterations 6\n",
      "Optimization terminated successfully.\n",
      "         Current function value: 0.606748\n",
      "         Iterations 7\n",
      "Optimization terminated successfully.\n",
      "         Current function value: 0.608444\n",
      "         Iterations 6\n",
      "Average in sample psuedo rsquared: 0.126594420602\n",
      "Average percentage of correctly classified out of sample data points: 0.658439457599\n",
      "Average percentage of incorrectly classified out of sample data points: 0.614037716184\n"
     ]
    }
   ],
   "source": [
    "X = dvp.loc[:,['AssessSqft', 'UnitsRes', 'ResArea_perunit', 'Res_r', 'NumFloors', 'Bldg_nrr', 'BldgAge', \\\n",
    "                 'BsmtCode', 'ProxCode', 'BldgClass_dummy', 'Ownership', 'Agent', 'SiteManager']]\n",
    "y = dvp.loc[:,['vio_binary']]\n",
    "is_rsquared = []\n",
    "os_acc = []\n",
    "os_inacc = []\n",
    "TN = []\n",
    "FN = []\n",
    "TP = []\n",
    "FP = []\n",
    "for i in np.arange(1,300,20):\n",
    "    X_train, X_test, y_train, y_test = train_test_split(X, y, test_size=0.33, random_state=i)\n",
    "    X_train_1, X_vali, y_train_1, y_vali = train_test_split(X_train, y_train, test_size=0.33, random_state=i)\n",
    "    sm = SMOTE(random_state=i, ratio = 1.0)\n",
    "    #re-read this\n",
    "    X_train_res, y_train_res = sm.fit_sample(X_train_1, y_train_1)\n",
    "    mod = smf.Logit(y_train_res, X_train_res)\n",
    "    res = mod.fit()\n",
    "    is_rsquared.append(res.prsquared)\n",
    "    #predict test, not validation\n",
    "    y_pred = res.predict(X_vali)\n",
    "    results = pd.concat([y_vali,y_pred],axis=1)\n",
    "    results = results.rename(columns={0:'y_pred'})\n",
    "    results['vio_pred'] = [1 if x >= 0.5 else 0 for x in y_pred]\n",
    "    confusion = confusion_matrix(results['vio_binary'], results['vio_pred'])\n",
    "    TN.append(confusion[0][0])\n",
    "    FN.append(confusion[1][0])\n",
    "    TP.append(confusion[1][1])\n",
    "    FP.append(confusion[0][1])\n",
    "    os_acc.append((confusion[1][1]+confusion[0][0])/float((confusion[0][0]+confusion[1][0]+confusion[1][1]+confusion[0][1])))\n",
    "    os_inacc.append((confusion[1][0]+confusion[0][0])/float((confusion[0][0]+confusion[1][0]+confusion[1][1]+confusion[0][1])))\n",
    "print 'Average in sample psuedo rsquared: '+str(np.mean(is_rsquared))\n",
    "print 'Average percentage of correctly classified out of sample data points: '+str(np.mean(os_acc))\n",
    "print 'Average percentage of incorrectly classified out of sample data points: '+str(np.mean(os_inacc))"
   ]
  },
  {
   "cell_type": "code",
   "execution_count": null,
   "metadata": {
    "collapsed": true
   },
   "outputs": [],
   "source": []
  }
 ],
 "metadata": {
  "kernelspec": {
   "display_name": "Python 2",
   "language": "python",
   "name": "python2"
  },
  "language_info": {
   "codemirror_mode": {
    "name": "ipython",
    "version": 2
   },
   "file_extension": ".py",
   "mimetype": "text/x-python",
   "name": "python",
   "nbconvert_exporter": "python",
   "pygments_lexer": "ipython2",
   "version": "2.7.12"
  }
 },
 "nbformat": 4,
 "nbformat_minor": 1
}
