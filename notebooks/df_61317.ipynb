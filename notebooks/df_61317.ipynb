{
 "cells": [
  {
   "cell_type": "code",
   "execution_count": 1,
   "metadata": {
    "collapsed": false
   },
   "outputs": [
    {
     "name": "stdout",
     "output_type": "stream",
     "text": [
      "Populating the interactive namespace from numpy and matplotlib\n"
     ]
    },
    {
     "name": "stderr",
     "output_type": "stream",
     "text": [
      "WARNING: pylab import has clobbered these variables: ['plt']\n",
      "`%matplotlib` prevents importing * from pylab and numpy\n"
     ]
    }
   ],
   "source": [
    "import pandas as pd\n",
    "import numpy as np\n",
    "import matplotlib.pylab as plt\n",
    "%pylab inline\n",
    "import seaborn as sns"
   ]
  },
  {
   "cell_type": "markdown",
   "metadata": {},
   "source": [
    "### multiple dwelling registration"
   ]
  },
  {
   "cell_type": "markdown",
   "metadata": {},
   "source": [
    "You can find Multiple Dwelling Registration data including OwnerTypes and Site Manager information from the attached file. Followings are the description of columns:\n",
    "* Owner: There is only 0. All BBLs of this data is living without owner in their buildings\n",
    "* Ownership: Types of specific owners\n",
    "    * Corp: Corporation (each unit is owned by individual owner)\n",
    "    * Ind: Individual Owner\n",
    "    * Off: Owned by company\n",
    "    * Joint: Shared Owner (multiple owners)\n",
    "    * Agent: Yes or No of representative agent of the building\n",
    "    * SiteManager: Yes or No of site manager (super)\n",
    "There are some NaN in \"Agent\" and \"SiteManager\" columns. \n",
    "\n",
    "You can replace those as 0 or drop. The results (before dropping and after dropping) were not that different. "
   ]
  },
  {
   "cell_type": "code",
   "execution_count": 2,
   "metadata": {
    "collapsed": false
   },
   "outputs": [
    {
     "data": {
      "text/html": [
       "<div>\n",
       "<table border=\"1\" class=\"dataframe\">\n",
       "  <thead>\n",
       "    <tr style=\"text-align: right;\">\n",
       "      <th></th>\n",
       "      <th>BBL</th>\n",
       "      <th>Owner</th>\n",
       "      <th>Ownership</th>\n",
       "      <th>Agent</th>\n",
       "      <th>SiteManager</th>\n",
       "      <th>boiler</th>\n",
       "      <th>boiler_age</th>\n",
       "    </tr>\n",
       "  </thead>\n",
       "  <tbody>\n",
       "    <tr>\n",
       "      <th>0</th>\n",
       "      <td>4086640052</td>\n",
       "      <td>0</td>\n",
       "      <td>Ind</td>\n",
       "      <td>0.0</td>\n",
       "      <td>1.0</td>\n",
       "      <td>0</td>\n",
       "      <td>27.174765</td>\n",
       "    </tr>\n",
       "    <tr>\n",
       "      <th>1</th>\n",
       "      <td>4057400139</td>\n",
       "      <td>0</td>\n",
       "      <td>Corp</td>\n",
       "      <td>1.0</td>\n",
       "      <td>1.0</td>\n",
       "      <td>0</td>\n",
       "      <td>27.174765</td>\n",
       "    </tr>\n",
       "    <tr>\n",
       "      <th>2</th>\n",
       "      <td>3034570006</td>\n",
       "      <td>0</td>\n",
       "      <td>Corp</td>\n",
       "      <td>1.0</td>\n",
       "      <td>1.0</td>\n",
       "      <td>0</td>\n",
       "      <td>27.174765</td>\n",
       "    </tr>\n",
       "    <tr>\n",
       "      <th>3</th>\n",
       "      <td>1021160061</td>\n",
       "      <td>0</td>\n",
       "      <td>Corp</td>\n",
       "      <td>1.0</td>\n",
       "      <td>1.0</td>\n",
       "      <td>0</td>\n",
       "      <td>27.174765</td>\n",
       "    </tr>\n",
       "    <tr>\n",
       "      <th>4</th>\n",
       "      <td>1004360020</td>\n",
       "      <td>0</td>\n",
       "      <td>Corp</td>\n",
       "      <td>1.0</td>\n",
       "      <td>1.0</td>\n",
       "      <td>0</td>\n",
       "      <td>27.174765</td>\n",
       "    </tr>\n",
       "  </tbody>\n",
       "</table>\n",
       "</div>"
      ],
      "text/plain": [
       "          BBL  Owner Ownership  Agent  SiteManager  boiler  boiler_age\n",
       "0  4086640052      0       Ind    0.0          1.0       0   27.174765\n",
       "1  4057400139      0      Corp    1.0          1.0       0   27.174765\n",
       "2  3034570006      0      Corp    1.0          1.0       0   27.174765\n",
       "3  1021160061      0      Corp    1.0          1.0       0   27.174765\n",
       "4  1004360020      0      Corp    1.0          1.0       0   27.174765"
      ]
     },
     "execution_count": 2,
     "metadata": {},
     "output_type": "execute_result"
    }
   ],
   "source": [
    "dwell = pd.read_csv('../data_processed/Multiple_Dwelling_Registration_OwnerType_Boiler_Joined.csv')\n",
    "dwell = dwell.drop('Unnamed: 0',axis=1)\n",
    "dwell.head()"
   ]
  },
  {
   "cell_type": "code",
   "execution_count": 3,
   "metadata": {
    "collapsed": false
   },
   "outputs": [
    {
     "data": {
      "text/plain": [
       "array([0, 1, 2])"
      ]
     },
     "execution_count": 3,
     "metadata": {},
     "output_type": "execute_result"
    }
   ],
   "source": [
    "dwell.boiler.unique()"
   ]
  },
  {
   "cell_type": "code",
   "execution_count": 4,
   "metadata": {
    "collapsed": false
   },
   "outputs": [
    {
     "name": "stdout",
     "output_type": "stream",
     "text": [
      "147075\n",
      "146438\n"
     ]
    }
   ],
   "source": [
    "print len(dwell)\n",
    "print len(dwell.BBL.unique())"
   ]
  },
  {
   "cell_type": "code",
   "execution_count": 5,
   "metadata": {
    "collapsed": false
   },
   "outputs": [
    {
     "data": {
      "text/plain": [
       "4010307501    8\n",
       "4022527501    7\n",
       "2026330047    4\n",
       "4039077501    4\n",
       "3086730012    4\n",
       "Name: BBL, dtype: int64"
      ]
     },
     "execution_count": 5,
     "metadata": {},
     "output_type": "execute_result"
    }
   ],
   "source": [
    "dwell.BBL.value_counts().head()"
   ]
  },
  {
   "cell_type": "code",
   "execution_count": 6,
   "metadata": {
    "collapsed": false
   },
   "outputs": [
    {
     "data": {
      "text/html": [
       "<div>\n",
       "<table border=\"1\" class=\"dataframe\">\n",
       "  <thead>\n",
       "    <tr style=\"text-align: right;\">\n",
       "      <th></th>\n",
       "      <th>BBL</th>\n",
       "      <th>Owner</th>\n",
       "      <th>Ownership</th>\n",
       "      <th>Agent</th>\n",
       "      <th>SiteManager</th>\n",
       "      <th>boiler</th>\n",
       "      <th>boiler_age</th>\n",
       "    </tr>\n",
       "  </thead>\n",
       "  <tbody>\n",
       "    <tr>\n",
       "      <th>6710</th>\n",
       "      <td>4010307501</td>\n",
       "      <td>0</td>\n",
       "      <td>Ind</td>\n",
       "      <td>1.0</td>\n",
       "      <td>0.0</td>\n",
       "      <td>0</td>\n",
       "      <td>27.174765</td>\n",
       "    </tr>\n",
       "    <tr>\n",
       "      <th>26746</th>\n",
       "      <td>4010307501</td>\n",
       "      <td>0</td>\n",
       "      <td>Joint</td>\n",
       "      <td>1.0</td>\n",
       "      <td>1.0</td>\n",
       "      <td>0</td>\n",
       "      <td>27.174765</td>\n",
       "    </tr>\n",
       "    <tr>\n",
       "      <th>27864</th>\n",
       "      <td>4010307501</td>\n",
       "      <td>0</td>\n",
       "      <td>Ind</td>\n",
       "      <td>0.0</td>\n",
       "      <td>0.0</td>\n",
       "      <td>0</td>\n",
       "      <td>27.174765</td>\n",
       "    </tr>\n",
       "    <tr>\n",
       "      <th>28780</th>\n",
       "      <td>4010307501</td>\n",
       "      <td>0</td>\n",
       "      <td>Ind</td>\n",
       "      <td>0.0</td>\n",
       "      <td>1.0</td>\n",
       "      <td>0</td>\n",
       "      <td>27.174765</td>\n",
       "    </tr>\n",
       "    <tr>\n",
       "      <th>39079</th>\n",
       "      <td>4010307501</td>\n",
       "      <td>0</td>\n",
       "      <td>NaN</td>\n",
       "      <td>NaN</td>\n",
       "      <td>NaN</td>\n",
       "      <td>0</td>\n",
       "      <td>27.174765</td>\n",
       "    </tr>\n",
       "    <tr>\n",
       "      <th>46142</th>\n",
       "      <td>4010307501</td>\n",
       "      <td>0</td>\n",
       "      <td>Corp</td>\n",
       "      <td>1.0</td>\n",
       "      <td>0.0</td>\n",
       "      <td>0</td>\n",
       "      <td>27.174765</td>\n",
       "    </tr>\n",
       "    <tr>\n",
       "      <th>49931</th>\n",
       "      <td>4010307501</td>\n",
       "      <td>0</td>\n",
       "      <td>Off</td>\n",
       "      <td>1.0</td>\n",
       "      <td>0.0</td>\n",
       "      <td>0</td>\n",
       "      <td>27.174765</td>\n",
       "    </tr>\n",
       "    <tr>\n",
       "      <th>111216</th>\n",
       "      <td>4010307501</td>\n",
       "      <td>0</td>\n",
       "      <td>Ind</td>\n",
       "      <td>1.0</td>\n",
       "      <td>1.0</td>\n",
       "      <td>0</td>\n",
       "      <td>27.174765</td>\n",
       "    </tr>\n",
       "  </tbody>\n",
       "</table>\n",
       "</div>"
      ],
      "text/plain": [
       "               BBL  Owner Ownership  Agent  SiteManager  boiler  boiler_age\n",
       "6710    4010307501      0       Ind    1.0          0.0       0   27.174765\n",
       "26746   4010307501      0     Joint    1.0          1.0       0   27.174765\n",
       "27864   4010307501      0       Ind    0.0          0.0       0   27.174765\n",
       "28780   4010307501      0       Ind    0.0          1.0       0   27.174765\n",
       "39079   4010307501      0       NaN    NaN          NaN       0   27.174765\n",
       "46142   4010307501      0      Corp    1.0          0.0       0   27.174765\n",
       "49931   4010307501      0       Off    1.0          0.0       0   27.174765\n",
       "111216  4010307501      0       Ind    1.0          1.0       0   27.174765"
      ]
     },
     "execution_count": 6,
     "metadata": {},
     "output_type": "execute_result"
    }
   ],
   "source": [
    "dwell[dwell.BBL ==4010307501]"
   ]
  },
  {
   "cell_type": "code",
   "execution_count": 7,
   "metadata": {
    "collapsed": false
   },
   "outputs": [],
   "source": [
    "dwell = dwell.dropna()\n",
    "dwell = dwell.drop('Owner',axis=1)"
   ]
  },
  {
   "cell_type": "code",
   "execution_count": 8,
   "metadata": {
    "collapsed": false
   },
   "outputs": [
    {
     "name": "stdout",
     "output_type": "stream",
     "text": [
      "144304\n"
     ]
    }
   ],
   "source": [
    "print len(dwell.BBL.unique())"
   ]
  },
  {
   "cell_type": "code",
   "execution_count": 9,
   "metadata": {
    "collapsed": false
   },
   "outputs": [
    {
     "data": {
      "text/html": [
       "<div>\n",
       "<table border=\"1\" class=\"dataframe\">\n",
       "  <thead>\n",
       "    <tr style=\"text-align: right;\">\n",
       "      <th></th>\n",
       "      <th>BBL</th>\n",
       "    </tr>\n",
       "  </thead>\n",
       "  <tbody>\n",
       "    <tr>\n",
       "      <th>0</th>\n",
       "      <td>3018030086</td>\n",
       "    </tr>\n",
       "    <tr>\n",
       "      <th>1</th>\n",
       "      <td>2043190025</td>\n",
       "    </tr>\n",
       "    <tr>\n",
       "      <th>2</th>\n",
       "      <td>3020740016</td>\n",
       "    </tr>\n",
       "    <tr>\n",
       "      <th>3</th>\n",
       "      <td>1013990010</td>\n",
       "    </tr>\n",
       "    <tr>\n",
       "      <th>4</th>\n",
       "      <td>3068190001</td>\n",
       "    </tr>\n",
       "  </tbody>\n",
       "</table>\n",
       "</div>"
      ],
      "text/plain": [
       "          BBL\n",
       "0  3018030086\n",
       "1  2043190025\n",
       "2  3020740016\n",
       "3  1013990010\n",
       "4  3068190001"
      ]
     },
     "execution_count": 9,
     "metadata": {},
     "output_type": "execute_result"
    }
   ],
   "source": [
    "test = pd.DataFrame(dwell.BBL.value_counts().reset_index(name=\"count\").query(\"count == 1\")[\"index\"])\n",
    "test = test.rename(columns={'index':'BBL'})\n",
    "test = test.reset_index().drop('index',axis=1)\n",
    "test.head()"
   ]
  },
  {
   "cell_type": "code",
   "execution_count": 10,
   "metadata": {
    "collapsed": true
   },
   "outputs": [],
   "source": [
    "dwell = pd.merge(test, dwell, on='BBL', how='left')"
   ]
  },
  {
   "cell_type": "code",
   "execution_count": 11,
   "metadata": {
    "collapsed": false
   },
   "outputs": [
    {
     "data": {
      "text/plain": [
       "143798"
      ]
     },
     "execution_count": 11,
     "metadata": {},
     "output_type": "execute_result"
    }
   ],
   "source": [
    "len(dwell)"
   ]
  },
  {
   "cell_type": "code",
   "execution_count": 12,
   "metadata": {
    "collapsed": false
   },
   "outputs": [
    {
     "data": {
      "text/plain": [
       "506"
      ]
     },
     "execution_count": 12,
     "metadata": {},
     "output_type": "execute_result"
    }
   ],
   "source": [
    "144304-143798"
   ]
  },
  {
   "cell_type": "code",
   "execution_count": 13,
   "metadata": {
    "collapsed": false
   },
   "outputs": [],
   "source": [
    "dwell = pd.concat([dwell, pd.get_dummies(dwell['Ownership'])],axis=1)\n",
    "dwell = pd.concat([dwell, pd.get_dummies(dwell['boiler'],prefix='boiler')],axis=1)"
   ]
  },
  {
   "cell_type": "code",
   "execution_count": 14,
   "metadata": {
    "collapsed": false
   },
   "outputs": [
    {
     "data": {
      "text/plain": [
       "Index([u'BBL', u'Ownership', u'Agent', u'SiteManager', u'boiler',\n",
       "       u'boiler_age', u'Corp', u'Ind', u'Joint', u'Off', u'boiler_0',\n",
       "       u'boiler_1', u'boiler_2'],\n",
       "      dtype='object')"
      ]
     },
     "execution_count": 14,
     "metadata": {},
     "output_type": "execute_result"
    }
   ],
   "source": [
    "dwell.columns"
   ]
  },
  {
   "cell_type": "code",
   "execution_count": 15,
   "metadata": {
    "collapsed": false
   },
   "outputs": [
    {
     "name": "stdout",
     "output_type": "stream",
     "text": [
      "boiler_0: 0.989763418128\n",
      "boiler_1: 0.00703765003686\n",
      "boiler_2: 0.00319893183494\n",
      "corp own: 0.503588367015\n",
      "individual own: 0.333697269781\n",
      "joint own: 0.133270281923\n",
      "off own: 0.0294440812807\n"
     ]
    }
   ],
   "source": [
    "###identify majority class for dummy variables\n",
    "print 'boiler_0:', len(dwell[dwell['boiler_0']==1])/float(len(dwell))\n",
    "print 'boiler_1:', len(dwell[dwell['boiler_1']==1])/float(len(dwell))\n",
    "print 'boiler_2:', len(dwell[dwell['boiler_2']==1])/float(len(dwell))\n",
    "print 'corp own:',  len(dwell[dwell['Corp']==1])/float(len(dwell))\n",
    "print 'individual own:',  len(dwell[dwell['Ind']==1])/float(len(dwell))\n",
    "print 'joint own:',  len(dwell[dwell['Joint']==1])/float(len(dwell))\n",
    "print 'off own:',  len(dwell[dwell['Off']==1])/float(len(dwell))"
   ]
  },
  {
   "cell_type": "code",
   "execution_count": 16,
   "metadata": {
    "collapsed": false
   },
   "outputs": [
    {
     "data": {
      "text/html": [
       "<div>\n",
       "<table border=\"1\" class=\"dataframe\">\n",
       "  <thead>\n",
       "    <tr style=\"text-align: right;\">\n",
       "      <th></th>\n",
       "      <th>BBL</th>\n",
       "      <th>Ownership</th>\n",
       "      <th>Agent</th>\n",
       "      <th>SiteManager</th>\n",
       "      <th>boiler</th>\n",
       "      <th>boiler_age</th>\n",
       "      <th>Corp</th>\n",
       "      <th>Ind</th>\n",
       "      <th>Joint</th>\n",
       "      <th>Off</th>\n",
       "      <th>boiler_0</th>\n",
       "      <th>boiler_1</th>\n",
       "      <th>boiler_2</th>\n",
       "    </tr>\n",
       "  </thead>\n",
       "  <tbody>\n",
       "    <tr>\n",
       "      <th>0</th>\n",
       "      <td>3018030086</td>\n",
       "      <td>Corp</td>\n",
       "      <td>1.0</td>\n",
       "      <td>1.0</td>\n",
       "      <td>0</td>\n",
       "      <td>27.174765</td>\n",
       "      <td>1</td>\n",
       "      <td>0</td>\n",
       "      <td>0</td>\n",
       "      <td>0</td>\n",
       "      <td>1</td>\n",
       "      <td>0</td>\n",
       "      <td>0</td>\n",
       "    </tr>\n",
       "    <tr>\n",
       "      <th>1</th>\n",
       "      <td>2043190025</td>\n",
       "      <td>Corp</td>\n",
       "      <td>1.0</td>\n",
       "      <td>1.0</td>\n",
       "      <td>0</td>\n",
       "      <td>27.174765</td>\n",
       "      <td>1</td>\n",
       "      <td>0</td>\n",
       "      <td>0</td>\n",
       "      <td>0</td>\n",
       "      <td>1</td>\n",
       "      <td>0</td>\n",
       "      <td>0</td>\n",
       "    </tr>\n",
       "    <tr>\n",
       "      <th>2</th>\n",
       "      <td>3020740016</td>\n",
       "      <td>Ind</td>\n",
       "      <td>0.0</td>\n",
       "      <td>1.0</td>\n",
       "      <td>0</td>\n",
       "      <td>27.174765</td>\n",
       "      <td>0</td>\n",
       "      <td>1</td>\n",
       "      <td>0</td>\n",
       "      <td>0</td>\n",
       "      <td>1</td>\n",
       "      <td>0</td>\n",
       "      <td>0</td>\n",
       "    </tr>\n",
       "    <tr>\n",
       "      <th>3</th>\n",
       "      <td>1013990010</td>\n",
       "      <td>Corp</td>\n",
       "      <td>1.0</td>\n",
       "      <td>1.0</td>\n",
       "      <td>0</td>\n",
       "      <td>27.174765</td>\n",
       "      <td>1</td>\n",
       "      <td>0</td>\n",
       "      <td>0</td>\n",
       "      <td>0</td>\n",
       "      <td>1</td>\n",
       "      <td>0</td>\n",
       "      <td>0</td>\n",
       "    </tr>\n",
       "    <tr>\n",
       "      <th>4</th>\n",
       "      <td>3068190001</td>\n",
       "      <td>Corp</td>\n",
       "      <td>1.0</td>\n",
       "      <td>0.0</td>\n",
       "      <td>0</td>\n",
       "      <td>27.174765</td>\n",
       "      <td>1</td>\n",
       "      <td>0</td>\n",
       "      <td>0</td>\n",
       "      <td>0</td>\n",
       "      <td>1</td>\n",
       "      <td>0</td>\n",
       "      <td>0</td>\n",
       "    </tr>\n",
       "  </tbody>\n",
       "</table>\n",
       "</div>"
      ],
      "text/plain": [
       "          BBL Ownership  Agent  SiteManager  boiler  boiler_age  Corp  Ind  \\\n",
       "0  3018030086      Corp    1.0          1.0       0   27.174765     1    0   \n",
       "1  2043190025      Corp    1.0          1.0       0   27.174765     1    0   \n",
       "2  3020740016       Ind    0.0          1.0       0   27.174765     0    1   \n",
       "3  1013990010      Corp    1.0          1.0       0   27.174765     1    0   \n",
       "4  3068190001      Corp    1.0          0.0       0   27.174765     1    0   \n",
       "\n",
       "   Joint  Off  boiler_0  boiler_1  boiler_2  \n",
       "0      0    0         1         0         0  \n",
       "1      0    0         1         0         0  \n",
       "2      0    0         1         0         0  \n",
       "3      0    0         1         0         0  \n",
       "4      0    0         1         0         0  "
      ]
     },
     "execution_count": 16,
     "metadata": {},
     "output_type": "execute_result"
    }
   ],
   "source": [
    "dwell.head()"
   ]
  },
  {
   "cell_type": "markdown",
   "metadata": {},
   "source": [
    "### pluto"
   ]
  },
  {
   "cell_type": "markdown",
   "metadata": {},
   "source": [
    "mapPLUTO\n",
    "* AssessSqft\n",
    "* UnitsRes\n",
    "* ResArea\n",
    "* ResArea_perunit\n",
    "* Res_r\n",
    "* NumFloors\n",
    "* Bldg_nrr\n",
    "* Bldg_age\n",
    "* BsmtCode\n",
    "* ProxCode\n",
    "* BldgClass_dummy"
   ]
  },
  {
   "cell_type": "code",
   "execution_count": 17,
   "metadata": {
    "collapsed": false
   },
   "outputs": [
    {
     "name": "stderr",
     "output_type": "stream",
     "text": [
      "//anaconda/lib/python2.7/site-packages/IPython/core/interactiveshell.py:2723: DtypeWarning: Columns (27,37,40,46,53,64,65,84,85) have mixed types. Specify dtype option on import or set low_memory=False.\n",
      "  interactivity=interactivity, compiler=compiler, result=result)\n"
     ]
    },
    {
     "data": {
      "text/html": [
       "<div>\n",
       "<table border=\"1\" class=\"dataframe\">\n",
       "  <thead>\n",
       "    <tr style=\"text-align: right;\">\n",
       "      <th></th>\n",
       "      <th>APPBBL</th>\n",
       "      <th>APPDate</th>\n",
       "      <th>Address</th>\n",
       "      <th>AllZoning1</th>\n",
       "      <th>AllZoning2</th>\n",
       "      <th>AreaSource</th>\n",
       "      <th>AssessLand</th>\n",
       "      <th>AssessTot</th>\n",
       "      <th>BBL</th>\n",
       "      <th>BldgArea</th>\n",
       "      <th>...</th>\n",
       "      <th>YearAlter2</th>\n",
       "      <th>YearBuilt</th>\n",
       "      <th>ZMCode</th>\n",
       "      <th>ZipCode</th>\n",
       "      <th>ZoneDist1</th>\n",
       "      <th>ZoneDist2</th>\n",
       "      <th>ZoneDist3</th>\n",
       "      <th>ZoneDist4</th>\n",
       "      <th>ZoneMap</th>\n",
       "      <th>geometry</th>\n",
       "    </tr>\n",
       "  </thead>\n",
       "  <tbody>\n",
       "    <tr>\n",
       "      <th>0</th>\n",
       "      <td>0.0</td>\n",
       "      <td>NaN</td>\n",
       "      <td>437 PURDY AVENUE</td>\n",
       "      <td>R3-1</td>\n",
       "      <td>NaN</td>\n",
       "      <td>7</td>\n",
       "      <td>15120.0</td>\n",
       "      <td>23400.0</td>\n",
       "      <td>5.007470e+09</td>\n",
       "      <td>1488</td>\n",
       "      <td>...</td>\n",
       "      <td>0</td>\n",
       "      <td>1960</td>\n",
       "      <td>NaN</td>\n",
       "      <td>10314</td>\n",
       "      <td>R3-1</td>\n",
       "      <td>NaN</td>\n",
       "      <td>NaN</td>\n",
       "      <td>NaN</td>\n",
       "      <td>20d</td>\n",
       "      <td>POLYGON ((944681.4200000018 161477.381400004, ...</td>\n",
       "    </tr>\n",
       "    <tr>\n",
       "      <th>1</th>\n",
       "      <td>0.0</td>\n",
       "      <td>NaN</td>\n",
       "      <td>CUNARD AVENUE</td>\n",
       "      <td>R3A/HS</td>\n",
       "      <td>NaN</td>\n",
       "      <td>4</td>\n",
       "      <td>21518.0</td>\n",
       "      <td>21518.0</td>\n",
       "      <td>5.006230e+09</td>\n",
       "      <td>0</td>\n",
       "      <td>...</td>\n",
       "      <td>0</td>\n",
       "      <td>0</td>\n",
       "      <td>NaN</td>\n",
       "      <td>10304</td>\n",
       "      <td>R3A</td>\n",
       "      <td>NaN</td>\n",
       "      <td>NaN</td>\n",
       "      <td>NaN</td>\n",
       "      <td>21d</td>\n",
       "      <td>POLYGON ((959872.0577999949 162992.5866000056,...</td>\n",
       "    </tr>\n",
       "    <tr>\n",
       "      <th>2</th>\n",
       "      <td>0.0</td>\n",
       "      <td>NaN</td>\n",
       "      <td>121 MOUNTAINVIEW AVENUE</td>\n",
       "      <td>R3-1</td>\n",
       "      <td>NaN</td>\n",
       "      <td>7</td>\n",
       "      <td>13561.0</td>\n",
       "      <td>22602.0</td>\n",
       "      <td>5.007130e+09</td>\n",
       "      <td>1316</td>\n",
       "      <td>...</td>\n",
       "      <td>0</td>\n",
       "      <td>1920</td>\n",
       "      <td>NaN</td>\n",
       "      <td>10314</td>\n",
       "      <td>R3-1</td>\n",
       "      <td>NaN</td>\n",
       "      <td>NaN</td>\n",
       "      <td>NaN</td>\n",
       "      <td>21b</td>\n",
       "      <td>POLYGON ((949278.1987999976 161346.9971999973,...</td>\n",
       "    </tr>\n",
       "    <tr>\n",
       "      <th>3</th>\n",
       "      <td>0.0</td>\n",
       "      <td>NaN</td>\n",
       "      <td>26 FANNING STREET</td>\n",
       "      <td>R3X</td>\n",
       "      <td>NaN</td>\n",
       "      <td>7</td>\n",
       "      <td>9720.0</td>\n",
       "      <td>28740.0</td>\n",
       "      <td>5.007140e+09</td>\n",
       "      <td>2188</td>\n",
       "      <td>...</td>\n",
       "      <td>0</td>\n",
       "      <td>1975</td>\n",
       "      <td>NaN</td>\n",
       "      <td>10314</td>\n",
       "      <td>R3X</td>\n",
       "      <td>NaN</td>\n",
       "      <td>NaN</td>\n",
       "      <td>NaN</td>\n",
       "      <td>21b</td>\n",
       "      <td>POLYGON ((950061.0491999984 160815.3023999929,...</td>\n",
       "    </tr>\n",
       "    <tr>\n",
       "      <th>4</th>\n",
       "      <td>0.0</td>\n",
       "      <td>NaN</td>\n",
       "      <td>335 SIMONSON AVENUE</td>\n",
       "      <td>R3A</td>\n",
       "      <td>NaN</td>\n",
       "      <td>7</td>\n",
       "      <td>7617.0</td>\n",
       "      <td>22118.0</td>\n",
       "      <td>5.011840e+09</td>\n",
       "      <td>2392</td>\n",
       "      <td>...</td>\n",
       "      <td>0</td>\n",
       "      <td>1965</td>\n",
       "      <td>NaN</td>\n",
       "      <td>10303</td>\n",
       "      <td>R3A</td>\n",
       "      <td>NaN</td>\n",
       "      <td>NaN</td>\n",
       "      <td>NaN</td>\n",
       "      <td>20c</td>\n",
       "      <td>POLYGON ((941981.4906000048 168120.2173999995,...</td>\n",
       "    </tr>\n",
       "  </tbody>\n",
       "</table>\n",
       "<p>5 rows × 87 columns</p>\n",
       "</div>"
      ],
      "text/plain": [
       "   APPBBL APPDate                  Address AllZoning1 AllZoning2  AreaSource  \\\n",
       "0     0.0     NaN         437 PURDY AVENUE       R3-1        NaN           7   \n",
       "1     0.0     NaN            CUNARD AVENUE     R3A/HS        NaN           4   \n",
       "2     0.0     NaN  121 MOUNTAINVIEW AVENUE       R3-1        NaN           7   \n",
       "3     0.0     NaN        26 FANNING STREET        R3X        NaN           7   \n",
       "4     0.0     NaN      335 SIMONSON AVENUE        R3A        NaN           7   \n",
       "\n",
       "   AssessLand  AssessTot           BBL  BldgArea  \\\n",
       "0     15120.0    23400.0  5.007470e+09      1488   \n",
       "1     21518.0    21518.0  5.006230e+09         0   \n",
       "2     13561.0    22602.0  5.007130e+09      1316   \n",
       "3      9720.0    28740.0  5.007140e+09      2188   \n",
       "4      7617.0    22118.0  5.011840e+09      2392   \n",
       "\n",
       "                         ...                         YearAlter2  YearBuilt  \\\n",
       "0                        ...                                  0       1960   \n",
       "1                        ...                                  0          0   \n",
       "2                        ...                                  0       1920   \n",
       "3                        ...                                  0       1975   \n",
       "4                        ...                                  0       1965   \n",
       "\n",
       "   ZMCode  ZipCode  ZoneDist1 ZoneDist2  ZoneDist3 ZoneDist4  ZoneMap  \\\n",
       "0     NaN    10314       R3-1       NaN        NaN       NaN      20d   \n",
       "1     NaN    10304        R3A       NaN        NaN       NaN      21d   \n",
       "2     NaN    10314       R3-1       NaN        NaN       NaN      21b   \n",
       "3     NaN    10314        R3X       NaN        NaN       NaN      21b   \n",
       "4     NaN    10303        R3A       NaN        NaN       NaN      20c   \n",
       "\n",
       "                                            geometry  \n",
       "0  POLYGON ((944681.4200000018 161477.381400004, ...  \n",
       "1  POLYGON ((959872.0577999949 162992.5866000056,...  \n",
       "2  POLYGON ((949278.1987999976 161346.9971999973,...  \n",
       "3  POLYGON ((950061.0491999984 160815.3023999929,...  \n",
       "4  POLYGON ((941981.4906000048 168120.2173999995,...  \n",
       "\n",
       "[5 rows x 87 columns]"
      ]
     },
     "execution_count": 17,
     "metadata": {},
     "output_type": "execute_result"
    }
   ],
   "source": [
    "pluto = pd.read_csv('../data_processed/pluto_16')\n",
    "pluto = pluto.drop('Unnamed: 0',axis=1)\n",
    "pluto.head()"
   ]
  },
  {
   "cell_type": "code",
   "execution_count": 18,
   "metadata": {
    "collapsed": false
   },
   "outputs": [
    {
     "name": "stdout",
     "output_type": "stream",
     "text": [
      "857513\n",
      "857513\n"
     ]
    }
   ],
   "source": [
    "print len(pluto)\n",
    "print len(pluto.BBL.unique())"
   ]
  },
  {
   "cell_type": "markdown",
   "metadata": {},
   "source": [
    "#### remove outliers"
   ]
  },
  {
   "cell_type": "code",
   "execution_count": 19,
   "metadata": {
    "collapsed": false
   },
   "outputs": [],
   "source": [
    "pluto = pluto[pluto['YearBuilt']>1750]\n",
    "pluto = pluto[pluto['AssessLand']> 0]\n",
    "pluto = pluto[pluto['NumBldgs'] > 0]\n",
    "pluto = pluto[pluto['NumFloors'] > 0]\n",
    "pluto = pluto[pluto['ResArea'] > 0]\n",
    "pluto = pluto[pluto['UnitsRes'] < 8000]\n",
    "pluto = pluto[pluto['UnitsRes'] > 0]\n",
    "pluto = pluto[pluto['BldgFront'] > 0]"
   ]
  },
  {
   "cell_type": "markdown",
   "metadata": {},
   "source": [
    "#### adjust features"
   ]
  },
  {
   "cell_type": "code",
   "execution_count": 20,
   "metadata": {
    "collapsed": false
   },
   "outputs": [],
   "source": [
    "pluto['AssessSqft'] = pluto['AssessTot']/pluto['BldgArea']\n",
    "pluto = pluto[pluto['AssessSqft'] > 0]\n",
    "\n",
    "pluto['BldgAge'] = 2017-pluto['YearBuilt']\n",
    "pluto = pluto.drop('YearBuilt',axis=1)\n",
    "\n",
    "pluto['Bldg_nrr'] = pluto['BldgDepth']/pluto['BldgFront'].astype(float)\n",
    "\n",
    "#proxcode\n",
    "#0 = unknown, 1 = detatched, 2 = attached or semi=attached\n",
    "pluto['ProxCode'] = pluto['ProxCode'].replace(3, 2)\n",
    "\n",
    "#bsmtcode\n",
    "#0 = no basement, 1 = full or partial basement, 5 = unknown\n",
    "pluto['BsmtCode'] = pluto['BsmtCode'].replace(2, 1)\n",
    "pluto['BsmtCode'] = pluto['BsmtCode'].replace(3, 1)\n",
    "pluto['BsmtCode'] = pluto['BsmtCode'].replace(4, 1)\n",
    "pluto['Res_r'] = pluto['ResArea']/pluto['BldgArea'].astype(float)\n",
    "pluto['ResArea_perunit'] = pluto['ResArea']/pluto['UnitsRes'].astype(float)\n",
    "\n",
    "bldgclass = []\n",
    "for elem in pluto['BldgClass']:\n",
    "    bldgclass.append(str(elem[0]))\n",
    "bldgclasscat = []\n",
    "for elem in bldgclass:\n",
    "    if elem == 'A':\n",
    "        bldgclasscat.append(1)\n",
    "    elif elem == 'B':\n",
    "        bldgclasscat.append(2)\n",
    "    elif elem == 'C':\n",
    "        bldgclasscat.append(3)\n",
    "    elif elem == 'D':\n",
    "        bldgclasscat.append(4)\n",
    "    else:\n",
    "        bldgclasscat.append(0)\n",
    "pluto['BldgClass_dummy'] = bldgclasscat"
   ]
  },
  {
   "cell_type": "code",
   "execution_count": 21,
   "metadata": {
    "collapsed": false
   },
   "outputs": [
    {
     "name": "stdout",
     "output_type": "stream",
     "text": [
      "753540\n",
      "753540\n"
     ]
    }
   ],
   "source": [
    "print len(pluto)\n",
    "print len(pluto.BBL.unique())"
   ]
  },
  {
   "cell_type": "code",
   "execution_count": 22,
   "metadata": {
    "collapsed": true
   },
   "outputs": [],
   "source": [
    "pluto = pd.concat([pluto, pd.get_dummies(pluto['BldgClass_dummy'], prefix='bc'), \\\n",
    "                    pd.get_dummies(pluto['ProxCode'], prefix='pc'), \\\n",
    "                   pd.get_dummies(pluto['BsmtCode'], prefix='bsmt')],axis=1)"
   ]
  },
  {
   "cell_type": "code",
   "execution_count": 23,
   "metadata": {
    "collapsed": false
   },
   "outputs": [
    {
     "name": "stdout",
     "output_type": "stream",
     "text": [
      "753540\n",
      "753540\n"
     ]
    }
   ],
   "source": [
    "print len(pluto)\n",
    "print len(pluto.BBL.unique())"
   ]
  },
  {
   "cell_type": "markdown",
   "metadata": {},
   "source": [
    "proxcode = []\n",
    "for elem in pluto['ProxCode']:\n",
    "    proxcode.append(elem)\n",
    "proxcodecat = []\n",
    "for elem in proxcode:\n",
    "    if elem == 0:\n",
    "        proxcodecat.append('pc0')\n",
    "    elif elem == 1:\n",
    "        proxcodecat.append('pc1')\n",
    "    elif elem == 2:\n",
    "        proxcodecat.append('pc2')\n",
    "pluto['ProxCode_dummy'] = proxcodecat\n",
    "\n",
    "bsmtcode = []\n",
    "for elem in pluto['BsmtCode']:\n",
    "    bsmtcode.append(elem)\n",
    "bsmtcodecat = []\n",
    "for elem in bsmtcode:\n",
    "    if elem == 0:\n",
    "        bsmtcodecat.append('bsmt0')\n",
    "    elif elem == 1:\n",
    "        bsmtcodecat.append('bsmt1')\n",
    "    elif elem == 5:\n",
    "        bsmtcodecat.append('bsmt5')\n",
    "pluto['BsmtCode_dummy'] = bsmtcodecat"
   ]
  },
  {
   "cell_type": "markdown",
   "metadata": {},
   "source": [
    "#### Pre 5/29/2017\n",
    "BldgClass\n",
    " 1: A (one family housing)\n",
    " 2: B (two family housing)\n",
    " 3: C + S (walk up + mixed use)\n",
    " 4: D + O8 (elevator apartment + apt with office)\n",
    " 5: R (condominium)\n",
    " 6: L (loft)\n",
    " 0: Others\n",
    " \n",
    "#### Post 5/29/2017\n",
    "BldgClass\n",
    " 1: A (one family housing)\n",
    " 2: B (two family housing)\n",
    " 3: C (walk up)\n",
    " 4: D (elevator apartment)\n",
    " 0: Others (loft (L), mixed use (S), apt with office (O8), condo (R))\n",
    " \n",
    "#### Post 6/7/17\n",
    "Remove all rows with others as a building class"
   ]
  },
  {
   "cell_type": "code",
   "execution_count": 24,
   "metadata": {
    "collapsed": false
   },
   "outputs": [
    {
     "data": {
      "text/html": [
       "<div>\n",
       "<table border=\"1\" class=\"dataframe\">\n",
       "  <thead>\n",
       "    <tr style=\"text-align: right;\">\n",
       "      <th></th>\n",
       "      <th>APPBBL</th>\n",
       "      <th>APPDate</th>\n",
       "      <th>Address</th>\n",
       "      <th>AllZoning1</th>\n",
       "      <th>AllZoning2</th>\n",
       "      <th>AreaSource</th>\n",
       "      <th>AssessLand</th>\n",
       "      <th>AssessTot</th>\n",
       "      <th>BBL</th>\n",
       "      <th>BldgArea</th>\n",
       "      <th>...</th>\n",
       "      <th>bc_1</th>\n",
       "      <th>bc_2</th>\n",
       "      <th>bc_3</th>\n",
       "      <th>bc_4</th>\n",
       "      <th>pc_0.0</th>\n",
       "      <th>pc_1.0</th>\n",
       "      <th>pc_2.0</th>\n",
       "      <th>bsmt_0.0</th>\n",
       "      <th>bsmt_1.0</th>\n",
       "      <th>bsmt_5.0</th>\n",
       "    </tr>\n",
       "  </thead>\n",
       "  <tbody>\n",
       "    <tr>\n",
       "      <th>0</th>\n",
       "      <td>0.0</td>\n",
       "      <td>NaN</td>\n",
       "      <td>437 PURDY AVENUE</td>\n",
       "      <td>R3-1</td>\n",
       "      <td>NaN</td>\n",
       "      <td>7</td>\n",
       "      <td>15120.0</td>\n",
       "      <td>23400.0</td>\n",
       "      <td>5.007470e+09</td>\n",
       "      <td>1488</td>\n",
       "      <td>...</td>\n",
       "      <td>0</td>\n",
       "      <td>1</td>\n",
       "      <td>0</td>\n",
       "      <td>0</td>\n",
       "      <td>0</td>\n",
       "      <td>1</td>\n",
       "      <td>0</td>\n",
       "      <td>0</td>\n",
       "      <td>1</td>\n",
       "      <td>0</td>\n",
       "    </tr>\n",
       "    <tr>\n",
       "      <th>2</th>\n",
       "      <td>0.0</td>\n",
       "      <td>NaN</td>\n",
       "      <td>121 MOUNTAINVIEW AVENUE</td>\n",
       "      <td>R3-1</td>\n",
       "      <td>NaN</td>\n",
       "      <td>7</td>\n",
       "      <td>13561.0</td>\n",
       "      <td>22602.0</td>\n",
       "      <td>5.007130e+09</td>\n",
       "      <td>1316</td>\n",
       "      <td>...</td>\n",
       "      <td>1</td>\n",
       "      <td>0</td>\n",
       "      <td>0</td>\n",
       "      <td>0</td>\n",
       "      <td>0</td>\n",
       "      <td>1</td>\n",
       "      <td>0</td>\n",
       "      <td>0</td>\n",
       "      <td>1</td>\n",
       "      <td>0</td>\n",
       "    </tr>\n",
       "  </tbody>\n",
       "</table>\n",
       "<p>2 rows × 103 columns</p>\n",
       "</div>"
      ],
      "text/plain": [
       "   APPBBL APPDate                  Address AllZoning1 AllZoning2  AreaSource  \\\n",
       "0     0.0     NaN         437 PURDY AVENUE       R3-1        NaN           7   \n",
       "2     0.0     NaN  121 MOUNTAINVIEW AVENUE       R3-1        NaN           7   \n",
       "\n",
       "   AssessLand  AssessTot           BBL  BldgArea    ...    bc_1  bc_2  bc_3  \\\n",
       "0     15120.0    23400.0  5.007470e+09      1488    ...       0     1     0   \n",
       "2     13561.0    22602.0  5.007130e+09      1316    ...       1     0     0   \n",
       "\n",
       "   bc_4  pc_0.0 pc_1.0  pc_2.0 bsmt_0.0  bsmt_1.0  bsmt_5.0  \n",
       "0     0       0      1       0        0         1         0  \n",
       "2     0       0      1       0        0         1         0  \n",
       "\n",
       "[2 rows x 103 columns]"
      ]
     },
     "execution_count": 24,
     "metadata": {},
     "output_type": "execute_result"
    }
   ],
   "source": [
    "pluto.head(2)"
   ]
  },
  {
   "cell_type": "code",
   "execution_count": 25,
   "metadata": {
    "collapsed": false
   },
   "outputs": [
    {
     "name": "stdout",
     "output_type": "stream",
     "text": [
      "753540\n",
      "753540\n"
     ]
    }
   ],
   "source": [
    "print len(pluto)\n",
    "print len(pluto.BBL.unique())"
   ]
  },
  {
   "cell_type": "code",
   "execution_count": 26,
   "metadata": {
    "collapsed": true
   },
   "outputs": [],
   "source": [
    "test = pluto[pluto.bc_0 == 0]"
   ]
  },
  {
   "cell_type": "code",
   "execution_count": 27,
   "metadata": {
    "collapsed": false
   },
   "outputs": [
    {
     "name": "stdout",
     "output_type": "stream",
     "text": [
      "[0]\n",
      "len pluto:  753540\n",
      "len pluto_bbl_unique:  753540\n",
      "711029\n",
      "0.0564150542771\n"
     ]
    }
   ],
   "source": [
    "print test.bc_0.unique()\n",
    "print 'len pluto: ', len(pluto)\n",
    "print 'len pluto_bbl_unique: ', len(pluto.BBL.unique())\n",
    "print len(test)\n",
    "print 1 - len(test)/float(len(pluto))"
   ]
  },
  {
   "cell_type": "code",
   "execution_count": 28,
   "metadata": {
    "collapsed": false
   },
   "outputs": [
    {
     "name": "stdout",
     "output_type": "stream",
     "text": [
      "753540\n"
     ]
    }
   ],
   "source": [
    "print len(pluto)"
   ]
  },
  {
   "cell_type": "markdown",
   "metadata": {},
   "source": [
    "#### drop irrelevant features"
   ]
  },
  {
   "cell_type": "code",
   "execution_count": 29,
   "metadata": {
    "collapsed": false
   },
   "outputs": [
    {
     "name": "stdout",
     "output_type": "stream",
     "text": [
      "bc_1: 0.418589590466\n",
      "bc_2: 0.329113252117\n",
      "bc_3: 0.178408578178\n",
      "bc_4: 0.0174735249622 \n",
      "\n",
      "pc_0.0: 0.096988879157\n",
      "pc_1.0: 0.401743769408\n",
      "pc_2.0: 0.501267351435 \n",
      "\n",
      "bsmt_0.0: 0.0582570268333\n",
      "bsmt_1.0: 0.846394351992\n",
      "bsmt_5.0: 0.0953486211747 \n",
      "\n"
     ]
    }
   ],
   "source": [
    "###identify  majority class for bc, pc, and bsmt\n",
    "print 'bc_1:', len(pluto[pluto['bc_1']==1])/float(len(pluto))\n",
    "print 'bc_2:', len(pluto[pluto['bc_2']==1])/float(len(pluto))\n",
    "print 'bc_3:', len(pluto[pluto['bc_3']==1])/float(len(pluto))\n",
    "print 'bc_4:', len(pluto[pluto['bc_4']==1])/float(len(pluto)), '\\n'\n",
    "\n",
    "print 'pc_0.0:', len(pluto[pluto['pc_0.0']==1])/float(len(pluto))\n",
    "print 'pc_1.0:', len(pluto[pluto['pc_1.0']==1])/float(len(pluto))\n",
    "print 'pc_2.0:', len(pluto[pluto['pc_2.0']==1])/float(len(pluto)), '\\n'\n",
    "\n",
    "print 'bsmt_0.0:', len(pluto[pluto['bsmt_0.0']==1])/float(len(pluto))\n",
    "print 'bsmt_1.0:', len(pluto[pluto['bsmt_1.0']==1])/float(len(pluto))\n",
    "print 'bsmt_5.0:', len(pluto[pluto['bsmt_5.0']==1])/float(len(pluto)), '\\n'"
   ]
  },
  {
   "cell_type": "markdown",
   "metadata": {},
   "source": [
    "#### keeping only necessary columns"
   ]
  },
  {
   "cell_type": "code",
   "execution_count": 30,
   "metadata": {
    "collapsed": false
   },
   "outputs": [],
   "source": [
    "pluto = pluto[['BBL', 'AssessSqft', 'UnitsRes', 'ResArea_perunit', 'Res_r', \\\n",
    "               'NumFloors', 'Bldg_nrr', 'BldgAge', 'bc_1', 'bc_0', \\\n",
    "              'bc_2', 'bc_3', 'bc_4', 'pc_2.0', 'pc_1.0', 'pc_0.0', 'bsmt_0.0', 'bsmt_5.0', \\\n",
    "               'bsmt_1.0', 'geometry']]"
   ]
  },
  {
   "cell_type": "markdown",
   "metadata": {},
   "source": [
    "### view datasets"
   ]
  },
  {
   "cell_type": "code",
   "execution_count": 31,
   "metadata": {
    "collapsed": false
   },
   "outputs": [
    {
     "data": {
      "text/html": [
       "<div>\n",
       "<table border=\"1\" class=\"dataframe\">\n",
       "  <thead>\n",
       "    <tr style=\"text-align: right;\">\n",
       "      <th></th>\n",
       "      <th>BBL</th>\n",
       "      <th>AssessSqft</th>\n",
       "      <th>UnitsRes</th>\n",
       "      <th>ResArea_perunit</th>\n",
       "      <th>Res_r</th>\n",
       "      <th>NumFloors</th>\n",
       "      <th>Bldg_nrr</th>\n",
       "      <th>BldgAge</th>\n",
       "      <th>bc_1</th>\n",
       "      <th>bc_0</th>\n",
       "      <th>bc_2</th>\n",
       "      <th>bc_3</th>\n",
       "      <th>bc_4</th>\n",
       "      <th>pc_2.0</th>\n",
       "      <th>pc_1.0</th>\n",
       "      <th>pc_0.0</th>\n",
       "      <th>bsmt_0.0</th>\n",
       "      <th>bsmt_5.0</th>\n",
       "      <th>bsmt_1.0</th>\n",
       "      <th>geometry</th>\n",
       "    </tr>\n",
       "  </thead>\n",
       "  <tbody>\n",
       "    <tr>\n",
       "      <th>0</th>\n",
       "      <td>5.007470e+09</td>\n",
       "      <td>15.725806</td>\n",
       "      <td>2</td>\n",
       "      <td>744.0</td>\n",
       "      <td>1.0</td>\n",
       "      <td>1.0</td>\n",
       "      <td>2.583333</td>\n",
       "      <td>57</td>\n",
       "      <td>0</td>\n",
       "      <td>0</td>\n",
       "      <td>1</td>\n",
       "      <td>0</td>\n",
       "      <td>0</td>\n",
       "      <td>0</td>\n",
       "      <td>1</td>\n",
       "      <td>0</td>\n",
       "      <td>0</td>\n",
       "      <td>0</td>\n",
       "      <td>1</td>\n",
       "      <td>POLYGON ((944681.4200000018 161477.381400004, ...</td>\n",
       "    </tr>\n",
       "    <tr>\n",
       "      <th>2</th>\n",
       "      <td>5.007130e+09</td>\n",
       "      <td>17.174772</td>\n",
       "      <td>1</td>\n",
       "      <td>1316.0</td>\n",
       "      <td>1.0</td>\n",
       "      <td>2.5</td>\n",
       "      <td>1.588235</td>\n",
       "      <td>97</td>\n",
       "      <td>1</td>\n",
       "      <td>0</td>\n",
       "      <td>0</td>\n",
       "      <td>0</td>\n",
       "      <td>0</td>\n",
       "      <td>0</td>\n",
       "      <td>1</td>\n",
       "      <td>0</td>\n",
       "      <td>0</td>\n",
       "      <td>0</td>\n",
       "      <td>1</td>\n",
       "      <td>POLYGON ((949278.1987999976 161346.9971999973,...</td>\n",
       "    </tr>\n",
       "    <tr>\n",
       "      <th>3</th>\n",
       "      <td>5.007140e+09</td>\n",
       "      <td>13.135283</td>\n",
       "      <td>2</td>\n",
       "      <td>1094.0</td>\n",
       "      <td>1.0</td>\n",
       "      <td>2.0</td>\n",
       "      <td>1.923077</td>\n",
       "      <td>42</td>\n",
       "      <td>0</td>\n",
       "      <td>0</td>\n",
       "      <td>1</td>\n",
       "      <td>0</td>\n",
       "      <td>0</td>\n",
       "      <td>0</td>\n",
       "      <td>1</td>\n",
       "      <td>0</td>\n",
       "      <td>1</td>\n",
       "      <td>0</td>\n",
       "      <td>0</td>\n",
       "      <td>POLYGON ((950061.0491999984 160815.3023999929,...</td>\n",
       "    </tr>\n",
       "    <tr>\n",
       "      <th>4</th>\n",
       "      <td>5.011840e+09</td>\n",
       "      <td>9.246656</td>\n",
       "      <td>1</td>\n",
       "      <td>2392.0</td>\n",
       "      <td>1.0</td>\n",
       "      <td>2.0</td>\n",
       "      <td>1.769231</td>\n",
       "      <td>52</td>\n",
       "      <td>1</td>\n",
       "      <td>0</td>\n",
       "      <td>0</td>\n",
       "      <td>0</td>\n",
       "      <td>0</td>\n",
       "      <td>0</td>\n",
       "      <td>1</td>\n",
       "      <td>0</td>\n",
       "      <td>1</td>\n",
       "      <td>0</td>\n",
       "      <td>0</td>\n",
       "      <td>POLYGON ((941981.4906000048 168120.2173999995,...</td>\n",
       "    </tr>\n",
       "    <tr>\n",
       "      <th>5</th>\n",
       "      <td>5.007650e+09</td>\n",
       "      <td>17.458111</td>\n",
       "      <td>1</td>\n",
       "      <td>1122.0</td>\n",
       "      <td>1.0</td>\n",
       "      <td>2.5</td>\n",
       "      <td>1.764706</td>\n",
       "      <td>92</td>\n",
       "      <td>1</td>\n",
       "      <td>0</td>\n",
       "      <td>0</td>\n",
       "      <td>0</td>\n",
       "      <td>0</td>\n",
       "      <td>0</td>\n",
       "      <td>1</td>\n",
       "      <td>0</td>\n",
       "      <td>0</td>\n",
       "      <td>0</td>\n",
       "      <td>1</td>\n",
       "      <td>POLYGON ((948064.1299999952 160645.2319999933,...</td>\n",
       "    </tr>\n",
       "  </tbody>\n",
       "</table>\n",
       "</div>"
      ],
      "text/plain": [
       "            BBL  AssessSqft  UnitsRes  ResArea_perunit  Res_r  NumFloors  \\\n",
       "0  5.007470e+09   15.725806         2            744.0    1.0        1.0   \n",
       "2  5.007130e+09   17.174772         1           1316.0    1.0        2.5   \n",
       "3  5.007140e+09   13.135283         2           1094.0    1.0        2.0   \n",
       "4  5.011840e+09    9.246656         1           2392.0    1.0        2.0   \n",
       "5  5.007650e+09   17.458111         1           1122.0    1.0        2.5   \n",
       "\n",
       "   Bldg_nrr  BldgAge  bc_1  bc_0  bc_2  bc_3  bc_4  pc_2.0  pc_1.0  pc_0.0  \\\n",
       "0  2.583333       57     0     0     1     0     0       0       1       0   \n",
       "2  1.588235       97     1     0     0     0     0       0       1       0   \n",
       "3  1.923077       42     0     0     1     0     0       0       1       0   \n",
       "4  1.769231       52     1     0     0     0     0       0       1       0   \n",
       "5  1.764706       92     1     0     0     0     0       0       1       0   \n",
       "\n",
       "   bsmt_0.0  bsmt_5.0  bsmt_1.0  \\\n",
       "0         0         0         1   \n",
       "2         0         0         1   \n",
       "3         1         0         0   \n",
       "4         1         0         0   \n",
       "5         0         0         1   \n",
       "\n",
       "                                            geometry  \n",
       "0  POLYGON ((944681.4200000018 161477.381400004, ...  \n",
       "2  POLYGON ((949278.1987999976 161346.9971999973,...  \n",
       "3  POLYGON ((950061.0491999984 160815.3023999929,...  \n",
       "4  POLYGON ((941981.4906000048 168120.2173999995,...  \n",
       "5  POLYGON ((948064.1299999952 160645.2319999933,...  "
      ]
     },
     "execution_count": 31,
     "metadata": {},
     "output_type": "execute_result"
    }
   ],
   "source": [
    "pluto.head()"
   ]
  },
  {
   "cell_type": "code",
   "execution_count": 32,
   "metadata": {
    "collapsed": true
   },
   "outputs": [],
   "source": [
    "pluto = pluto.reset_index()\n",
    "pluto = pluto.drop('index',axis=1)"
   ]
  },
  {
   "cell_type": "code",
   "execution_count": 33,
   "metadata": {
    "collapsed": false
   },
   "outputs": [
    {
     "data": {
      "text/html": [
       "<div>\n",
       "<table border=\"1\" class=\"dataframe\">\n",
       "  <thead>\n",
       "    <tr style=\"text-align: right;\">\n",
       "      <th></th>\n",
       "      <th>BBL</th>\n",
       "      <th>Ownership</th>\n",
       "      <th>Agent</th>\n",
       "      <th>SiteManager</th>\n",
       "      <th>boiler</th>\n",
       "      <th>boiler_age</th>\n",
       "      <th>Corp</th>\n",
       "      <th>Ind</th>\n",
       "      <th>Joint</th>\n",
       "      <th>Off</th>\n",
       "      <th>boiler_0</th>\n",
       "      <th>boiler_1</th>\n",
       "      <th>boiler_2</th>\n",
       "    </tr>\n",
       "  </thead>\n",
       "  <tbody>\n",
       "    <tr>\n",
       "      <th>0</th>\n",
       "      <td>3018030086</td>\n",
       "      <td>Corp</td>\n",
       "      <td>1.0</td>\n",
       "      <td>1.0</td>\n",
       "      <td>0</td>\n",
       "      <td>27.174765</td>\n",
       "      <td>1</td>\n",
       "      <td>0</td>\n",
       "      <td>0</td>\n",
       "      <td>0</td>\n",
       "      <td>1</td>\n",
       "      <td>0</td>\n",
       "      <td>0</td>\n",
       "    </tr>\n",
       "    <tr>\n",
       "      <th>1</th>\n",
       "      <td>2043190025</td>\n",
       "      <td>Corp</td>\n",
       "      <td>1.0</td>\n",
       "      <td>1.0</td>\n",
       "      <td>0</td>\n",
       "      <td>27.174765</td>\n",
       "      <td>1</td>\n",
       "      <td>0</td>\n",
       "      <td>0</td>\n",
       "      <td>0</td>\n",
       "      <td>1</td>\n",
       "      <td>0</td>\n",
       "      <td>0</td>\n",
       "    </tr>\n",
       "    <tr>\n",
       "      <th>2</th>\n",
       "      <td>3020740016</td>\n",
       "      <td>Ind</td>\n",
       "      <td>0.0</td>\n",
       "      <td>1.0</td>\n",
       "      <td>0</td>\n",
       "      <td>27.174765</td>\n",
       "      <td>0</td>\n",
       "      <td>1</td>\n",
       "      <td>0</td>\n",
       "      <td>0</td>\n",
       "      <td>1</td>\n",
       "      <td>0</td>\n",
       "      <td>0</td>\n",
       "    </tr>\n",
       "    <tr>\n",
       "      <th>3</th>\n",
       "      <td>1013990010</td>\n",
       "      <td>Corp</td>\n",
       "      <td>1.0</td>\n",
       "      <td>1.0</td>\n",
       "      <td>0</td>\n",
       "      <td>27.174765</td>\n",
       "      <td>1</td>\n",
       "      <td>0</td>\n",
       "      <td>0</td>\n",
       "      <td>0</td>\n",
       "      <td>1</td>\n",
       "      <td>0</td>\n",
       "      <td>0</td>\n",
       "    </tr>\n",
       "    <tr>\n",
       "      <th>4</th>\n",
       "      <td>3068190001</td>\n",
       "      <td>Corp</td>\n",
       "      <td>1.0</td>\n",
       "      <td>0.0</td>\n",
       "      <td>0</td>\n",
       "      <td>27.174765</td>\n",
       "      <td>1</td>\n",
       "      <td>0</td>\n",
       "      <td>0</td>\n",
       "      <td>0</td>\n",
       "      <td>1</td>\n",
       "      <td>0</td>\n",
       "      <td>0</td>\n",
       "    </tr>\n",
       "  </tbody>\n",
       "</table>\n",
       "</div>"
      ],
      "text/plain": [
       "          BBL Ownership  Agent  SiteManager  boiler  boiler_age  Corp  Ind  \\\n",
       "0  3018030086      Corp    1.0          1.0       0   27.174765     1    0   \n",
       "1  2043190025      Corp    1.0          1.0       0   27.174765     1    0   \n",
       "2  3020740016       Ind    0.0          1.0       0   27.174765     0    1   \n",
       "3  1013990010      Corp    1.0          1.0       0   27.174765     1    0   \n",
       "4  3068190001      Corp    1.0          0.0       0   27.174765     1    0   \n",
       "\n",
       "   Joint  Off  boiler_0  boiler_1  boiler_2  \n",
       "0      0    0         1         0         0  \n",
       "1      0    0         1         0         0  \n",
       "2      0    0         1         0         0  \n",
       "3      0    0         1         0         0  \n",
       "4      0    0         1         0         0  "
      ]
     },
     "execution_count": 33,
     "metadata": {},
     "output_type": "execute_result"
    }
   ],
   "source": [
    "dwell.head()"
   ]
  },
  {
   "cell_type": "code",
   "execution_count": 34,
   "metadata": {
    "collapsed": false
   },
   "outputs": [
    {
     "name": "stdout",
     "output_type": "stream",
     "text": [
      "int64\n",
      "float64\n"
     ]
    }
   ],
   "source": [
    "print dwell.BBL.dtypes\n",
    "print pluto.BBL.dtypes"
   ]
  },
  {
   "cell_type": "code",
   "execution_count": 35,
   "metadata": {
    "collapsed": false
   },
   "outputs": [
    {
     "name": "stdout",
     "output_type": "stream",
     "text": [
      "143798\n",
      "753540\n"
     ]
    }
   ],
   "source": [
    "print len(dwell)\n",
    "print len(pluto)"
   ]
  },
  {
   "cell_type": "markdown",
   "metadata": {},
   "source": [
    "### merge on BBL"
   ]
  },
  {
   "cell_type": "code",
   "execution_count": 36,
   "metadata": {
    "collapsed": true
   },
   "outputs": [],
   "source": [
    "pluto['BBL'] = pluto['BBL'].astype(int)"
   ]
  },
  {
   "cell_type": "code",
   "execution_count": 37,
   "metadata": {
    "collapsed": false
   },
   "outputs": [
    {
     "name": "stdout",
     "output_type": "stream",
     "text": [
      "int64\n",
      "int64\n"
     ]
    }
   ],
   "source": [
    "print dwell.BBL.dtypes\n",
    "print pluto.BBL.dtypes"
   ]
  },
  {
   "cell_type": "code",
   "execution_count": 38,
   "metadata": {
    "collapsed": true
   },
   "outputs": [],
   "source": [
    "dwell_pluto = pd.merge(pluto, dwell, on='BBL', how='right')"
   ]
  },
  {
   "cell_type": "code",
   "execution_count": 39,
   "metadata": {
    "collapsed": false
   },
   "outputs": [
    {
     "name": "stdout",
     "output_type": "stream",
     "text": [
      "143798\n"
     ]
    }
   ],
   "source": [
    "print len(dwell_pluto)"
   ]
  },
  {
   "cell_type": "code",
   "execution_count": 40,
   "metadata": {
    "collapsed": false
   },
   "outputs": [
    {
     "data": {
      "text/plain": [
       "BBL                   0\n",
       "AssessSqft         5856\n",
       "UnitsRes           5856\n",
       "ResArea_perunit    5856\n",
       "Res_r              5856\n",
       "NumFloors          5856\n",
       "Bldg_nrr           5856\n",
       "BldgAge            5856\n",
       "bc_1               5856\n",
       "bc_0               5856\n",
       "bc_2               5856\n",
       "bc_3               5856\n",
       "bc_4               5856\n",
       "pc_2.0             5856\n",
       "pc_1.0             5856\n",
       "pc_0.0             5856\n",
       "bsmt_0.0           5856\n",
       "bsmt_5.0           5856\n",
       "bsmt_1.0           5856\n",
       "geometry           5856\n",
       "Ownership             0\n",
       "Agent                 0\n",
       "SiteManager           0\n",
       "boiler                0\n",
       "boiler_age            0\n",
       "Corp                  0\n",
       "Ind                   0\n",
       "Joint                 0\n",
       "Off                   0\n",
       "boiler_0              0\n",
       "boiler_1              0\n",
       "boiler_2              0\n",
       "dtype: int64"
      ]
     },
     "execution_count": 40,
     "metadata": {},
     "output_type": "execute_result"
    }
   ],
   "source": [
    "#must be the case that some dwellings are not comprised within the parameters of reduced pluto df\n",
    "dwell_pluto.isnull().sum()"
   ]
  },
  {
   "cell_type": "code",
   "execution_count": 41,
   "metadata": {
    "collapsed": false
   },
   "outputs": [],
   "source": [
    "dwell_pluto  = dwell_pluto.dropna()"
   ]
  },
  {
   "cell_type": "code",
   "execution_count": 42,
   "metadata": {
    "collapsed": false
   },
   "outputs": [
    {
     "name": "stdout",
     "output_type": "stream",
     "text": [
      "137942\n",
      "137942\n"
     ]
    }
   ],
   "source": [
    "print len(dwell_pluto)\n",
    "print len(dwell_pluto.BBL.unique())"
   ]
  },
  {
   "cell_type": "code",
   "execution_count": 43,
   "metadata": {
    "collapsed": false
   },
   "outputs": [
    {
     "data": {
      "text/plain": [
       "Index([u'BBL', u'AssessSqft', u'UnitsRes', u'ResArea_perunit', u'Res_r',\n",
       "       u'NumFloors', u'Bldg_nrr', u'BldgAge', u'bc_1', u'bc_0', u'bc_2',\n",
       "       u'bc_3', u'bc_4', u'pc_2.0', u'pc_1.0', u'pc_0.0', u'bsmt_0.0',\n",
       "       u'bsmt_5.0', u'bsmt_1.0', u'geometry', u'Ownership', u'Agent',\n",
       "       u'SiteManager', u'boiler', u'boiler_age', u'Corp', u'Ind', u'Joint',\n",
       "       u'Off', u'boiler_0', u'boiler_1', u'boiler_2'],\n",
       "      dtype='object')"
      ]
     },
     "execution_count": 43,
     "metadata": {},
     "output_type": "execute_result"
    }
   ],
   "source": [
    "dwell_pluto.columns"
   ]
  },
  {
   "cell_type": "markdown",
   "metadata": {},
   "source": [
    "#### import results from Bo's model 6.7.17"
   ]
  },
  {
   "cell_type": "code",
   "execution_count": 44,
   "metadata": {
    "collapsed": false
   },
   "outputs": [
    {
     "data": {
      "text/html": [
       "<div>\n",
       "<table border=\"1\" class=\"dataframe\">\n",
       "  <thead>\n",
       "    <tr style=\"text-align: right;\">\n",
       "      <th></th>\n",
       "      <th>BBL</th>\n",
       "      <th>Y_predict_prob</th>\n",
       "      <th>Y_predict</th>\n",
       "      <th>Y_actual</th>\n",
       "      <th>vio_count_actual</th>\n",
       "      <th>NumResUnits</th>\n",
       "      <th>Mark</th>\n",
       "      <th>com_count</th>\n",
       "      <th>com_pu</th>\n",
       "      <th>com_class</th>\n",
       "      <th>Result</th>\n",
       "    </tr>\n",
       "  </thead>\n",
       "  <tbody>\n",
       "    <tr>\n",
       "      <th>0</th>\n",
       "      <td>1011470007</td>\n",
       "      <td>0.199449</td>\n",
       "      <td>0</td>\n",
       "      <td>0</td>\n",
       "      <td>0.0</td>\n",
       "      <td>10</td>\n",
       "      <td>TN</td>\n",
       "      <td>0.0</td>\n",
       "      <td>0.0</td>\n",
       "      <td>0.0</td>\n",
       "      <td>V0C0</td>\n",
       "    </tr>\n",
       "    <tr>\n",
       "      <th>1</th>\n",
       "      <td>3018440034</td>\n",
       "      <td>0.115293</td>\n",
       "      <td>0</td>\n",
       "      <td>0</td>\n",
       "      <td>0.0</td>\n",
       "      <td>3</td>\n",
       "      <td>TN</td>\n",
       "      <td>0.0</td>\n",
       "      <td>0.0</td>\n",
       "      <td>0.0</td>\n",
       "      <td>V0C0</td>\n",
       "    </tr>\n",
       "  </tbody>\n",
       "</table>\n",
       "</div>"
      ],
      "text/plain": [
       "          BBL  Y_predict_prob  Y_predict  Y_actual  vio_count_actual  \\\n",
       "0  1011470007        0.199449          0         0               0.0   \n",
       "1  3018440034        0.115293          0         0               0.0   \n",
       "\n",
       "   NumResUnits Mark  com_count  com_pu  com_class Result  \n",
       "0           10   TN        0.0     0.0        0.0   V0C0  \n",
       "1            3   TN        0.0     0.0        0.0   V0C0  "
      ]
     },
     "execution_count": 44,
     "metadata": {},
     "output_type": "execute_result"
    }
   ],
   "source": [
    "results = pd.read_csv('../data_processed/00RESULT_2016_2017_season_predVIO_reptCOM_v2.csv')\n",
    "results = results.drop('Unnamed: 0',axis=1)\n",
    "results.head(2)"
   ]
  },
  {
   "cell_type": "code",
   "execution_count": 45,
   "metadata": {
    "collapsed": false
   },
   "outputs": [
    {
     "name": "stdout",
     "output_type": "stream",
     "text": [
      "22159\n",
      "117405\n",
      "139769\n"
     ]
    }
   ],
   "source": [
    "print len(results[results.com_count>0])\n",
    "print len(results[results.com_count==0])\n",
    "print len(results)"
   ]
  },
  {
   "cell_type": "markdown",
   "metadata": {},
   "source": [
    "#### Plus, I am sending you output csv. You can find 'Result' column in a dataframe;\n",
    "* V0C0: no vio, no com\n",
    "* V0C1: no vio, yes com (less than median)\n",
    "* V0C1: no vio, yes com (higher than median)\n",
    "* V1C0: yes vio, no com\n",
    "* V1C1: yes vio, yes com (less than median)\n",
    "* V1C2: yes vio, yes com (higher than median)\n",
    "\n",
    "#### FYI, other columns of the data are as followings:\n",
    "* BBL: BBL id\n",
    "* Y_predicted_prob: probability of potential violation in 2016-2017 season\n",
    "* Y_predict: 0 or 1 based on previous column (threshold: 0.5)\n",
    "* Y_actual: binary representative of real violation inspected in 2016-2017 season\n",
    "* vio_count_actual: # of actual violation in 2016-1027 season\n",
    "* NumResUnits: # of residential units\n",
    "* Mark: Predictive model result (TP, TN, FP, FN)\n",
    "* com_count: actual complaints\n",
    "* com_pu: # of complaint per unit (normalized value)\n",
    "* com_class: 0 (no complaint), 1 (yes com, less than median), 2 (yes com, higher than median)\n",
    "* Result: combination of predicted violation and reported complaint "
   ]
  },
  {
   "cell_type": "code",
   "execution_count": 46,
   "metadata": {
    "collapsed": false
   },
   "outputs": [
    {
     "data": {
      "text/plain": [
       "array(['V0C0', 'V1C0', 'V1C1', 'V0C2', 'V1C2', 'V0C1'], dtype=object)"
      ]
     },
     "execution_count": 46,
     "metadata": {},
     "output_type": "execute_result"
    }
   ],
   "source": [
    "results.Result.unique()"
   ]
  },
  {
   "cell_type": "markdown",
   "metadata": {},
   "source": [
    "#### results and total "
   ]
  },
  {
   "cell_type": "code",
   "execution_count": 47,
   "metadata": {
    "collapsed": false
   },
   "outputs": [
    {
     "name": "stdout",
     "output_type": "stream",
     "text": [
      "int64\n",
      "int64\n"
     ]
    }
   ],
   "source": [
    "print results.BBL.dtypes\n",
    "print dwell_pluto.BBL.dtypes"
   ]
  },
  {
   "cell_type": "code",
   "execution_count": 48,
   "metadata": {
    "collapsed": true
   },
   "outputs": [],
   "source": [
    "df = pd.merge(results, dwell_pluto, on='BBL')"
   ]
  },
  {
   "cell_type": "code",
   "execution_count": 49,
   "metadata": {
    "collapsed": false
   },
   "outputs": [
    {
     "name": "stdout",
     "output_type": "stream",
     "text": [
      "139230\n",
      "137942\n",
      "136952\n",
      "137029\n"
     ]
    }
   ],
   "source": [
    "print len(results.BBL.unique())\n",
    "print len(dwell_pluto.BBL.unique())\n",
    "print len(df.BBL.unique())\n",
    "print len(df)"
   ]
  },
  {
   "cell_type": "code",
   "execution_count": 50,
   "metadata": {
    "collapsed": false
   },
   "outputs": [
    {
     "data": {
      "text/plain": [
       "BBL                   0\n",
       "Y_predict_prob        0\n",
       "Y_predict             0\n",
       "Y_actual              0\n",
       "vio_count_actual      0\n",
       "NumResUnits           0\n",
       "Mark                  0\n",
       "com_count           191\n",
       "com_pu              191\n",
       "com_class             0\n",
       "Result                0\n",
       "AssessSqft            0\n",
       "UnitsRes              0\n",
       "ResArea_perunit       0\n",
       "Res_r                 0\n",
       "NumFloors             0\n",
       "Bldg_nrr              0\n",
       "BldgAge               0\n",
       "bc_1                  0\n",
       "bc_0                  0\n",
       "bc_2                  0\n",
       "bc_3                  0\n",
       "bc_4                  0\n",
       "pc_2.0                0\n",
       "pc_1.0                0\n",
       "pc_0.0                0\n",
       "bsmt_0.0              0\n",
       "bsmt_5.0              0\n",
       "bsmt_1.0              0\n",
       "geometry              0\n",
       "Ownership             0\n",
       "Agent                 0\n",
       "SiteManager           0\n",
       "boiler                0\n",
       "boiler_age            0\n",
       "Corp                  0\n",
       "Ind                   0\n",
       "Joint                 0\n",
       "Off                   0\n",
       "boiler_0              0\n",
       "boiler_1              0\n",
       "boiler_2              0\n",
       "dtype: int64"
      ]
     },
     "execution_count": 50,
     "metadata": {},
     "output_type": "execute_result"
    }
   ],
   "source": [
    "df.isnull().sum()"
   ]
  },
  {
   "cell_type": "code",
   "execution_count": 51,
   "metadata": {
    "collapsed": false
   },
   "outputs": [
    {
     "name": "stdout",
     "output_type": "stream",
     "text": [
      "114899\n",
      "117405\n"
     ]
    }
   ],
   "source": [
    "print len(df[df.com_count==0])\n",
    "print len(results[results.com_count==0])"
   ]
  },
  {
   "cell_type": "markdown",
   "metadata": {},
   "source": [
    "Building Class\n",
    "* 1: A (one family housing) \n",
    "* 2: B (two family housing) \n",
    "* 3: C (walk up) \n",
    "* 4: D (elevator apartment) \n",
    "* 0: Others (loft (L), mixed use (S), apt with office (O8), condo (R))"
   ]
  },
  {
   "cell_type": "code",
   "execution_count": 52,
   "metadata": {
    "collapsed": false
   },
   "outputs": [
    {
     "name": "stdout",
     "output_type": "stream",
     "text": [
      "one family 2250\n",
      "two family 8100\n",
      "walk up 98913\n",
      "elevator 12355\n",
      "other 15411\n",
      "total 137029\n"
     ]
    }
   ],
   "source": [
    "#number of bbls by dwelling type\n",
    "print 'one family', len(df[df.bc_1==1])\n",
    "print 'two family', len(df[df.bc_2==1])\n",
    "print 'walk up', len(df[df.bc_3==1])\n",
    "print 'elevator', len(df[df.bc_4==1])\n",
    "print 'other', len(df[df.bc_0==1])\n",
    "print 'total', len(df)"
   ]
  },
  {
   "cell_type": "code",
   "execution_count": 53,
   "metadata": {
    "collapsed": false
   },
   "outputs": [
    {
     "name": "stdout",
     "output_type": "stream",
     "text": [
      "one family 75\n",
      "two family 492\n",
      "walk up 14089\n",
      "elevator 5893\n",
      "other 1390\n",
      "total 21939\n"
     ]
    }
   ],
   "source": [
    "#number of bbls with at least one complaint by bbl\n",
    "print 'one family', len(df.ix[(df['bc_1'] == 1) & (df['com_count'] >= 1)])\n",
    "print 'two family', len(df.ix[(df['bc_2'] == 1) & (df['com_count'] >= 1)])\n",
    "print 'walk up', len(df.ix[(df['bc_3'] == 1) & (df['com_count'] >= 1)])\n",
    "print 'elevator', len(df.ix[(df['bc_4'] == 1) & (df['com_count'] >= 1)])\n",
    "print 'other', len(df.ix[(df['bc_0'] == 1) & (df['com_count'] >= 1)])\n",
    "print 'total', len(df[df.com_count>=1])"
   ]
  },
  {
   "cell_type": "code",
   "execution_count": 54,
   "metadata": {
    "collapsed": false
   },
   "outputs": [
    {
     "name": "stdout",
     "output_type": "stream",
     "text": [
      "one family 32\n",
      "two family 215\n",
      "walk up 4722\n",
      "elevator 1696\n",
      "other 380\n",
      "total 7045\n"
     ]
    }
   ],
   "source": [
    "#number of bbls with at least one violation by bbl\n",
    "print 'one family', len(df.ix[(df['bc_1'] == 1) & (df['vio_count_actual'] >= 1)])\n",
    "print 'two family', len(df.ix[(df['bc_2'] == 1) & (df['vio_count_actual'] >= 1)])\n",
    "print 'walk up', len(df.ix[(df['bc_3'] == 1) & (df['vio_count_actual'] >= 1)])\n",
    "print 'elevator', len(df.ix[(df['bc_4'] == 1) & (df['vio_count_actual'] >= 1)])\n",
    "print 'other', len(df.ix[(df['bc_0'] == 1) & (df['vio_count_actual'] >= 1)])\n",
    "print 'total', len(df[df.vio_count_actual >= 1])"
   ]
  }
 ],
 "metadata": {
  "kernelspec": {
   "display_name": "Python 2",
   "language": "python",
   "name": "python2"
  },
  "language_info": {
   "codemirror_mode": {
    "name": "ipython",
    "version": 2
   },
   "file_extension": ".py",
   "mimetype": "text/x-python",
   "name": "python",
   "nbconvert_exporter": "python",
   "pygments_lexer": "ipython2",
   "version": "2.7.12"
  }
 },
 "nbformat": 4,
 "nbformat_minor": 1
}
