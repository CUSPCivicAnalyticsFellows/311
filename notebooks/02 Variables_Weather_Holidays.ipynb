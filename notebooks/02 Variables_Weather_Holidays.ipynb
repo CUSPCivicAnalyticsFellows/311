{
 "cells": [
  {
   "cell_type": "markdown",
   "metadata": {},
   "source": [
    "# Seasonal changes related variables\n",
    "* Weather underground\n",
    "* U.S. holidays"
   ]
  },
  {
   "cell_type": "code",
   "execution_count": 12,
   "metadata": {
    "collapsed": false
   },
   "outputs": [
    {
     "name": "stdout",
     "output_type": "stream",
     "text": [
      "Populating the interactive namespace from numpy and matplotlib\n"
     ]
    },
    {
     "name": "stderr",
     "output_type": "stream",
     "text": [
      "/Users/bh1555/anaconda/lib/python2.7/site-packages/IPython/core/magics/pylab.py:161: UserWarning: pylab import has clobbered these variables: ['datetime']\n",
      "`%matplotlib` prevents importing * from pylab and numpy\n",
      "  \"\\n`%matplotlib` prevents importing * from pylab and numpy\"\n"
     ]
    }
   ],
   "source": [
    "#Data management\n",
    "import pandas as pd\n",
    "from sklearn.preprocessing import StandardScaler\n",
    "import numpy as np\n",
    "import geopandas as gpd\n",
    "\n",
    "#Data visualization\n",
    "import pylab as pl\n",
    "from matplotlib import ticker\n",
    "%pylab inline"
   ]
  },
  {
   "cell_type": "markdown",
   "metadata": {},
   "source": [
    "### Weather underground\n",
    "* Weather related variables\n",
    "* The number of weather events per week"
   ]
  },
  {
   "cell_type": "code",
   "execution_count": 13,
   "metadata": {
    "collapsed": true
   },
   "outputs": [],
   "source": [
    "# Weekly Weather Data\n",
    "weather = pd.read_csv('../data/dataprocessing/NYC_Weekly_Weather_Data_1316.csv', parse_dates = ['Unnamed: 0']) # weather data\n",
    "weather_events = pd.read_csv('../data/dataprocessing/NYC_Weekly_Weather_Events_1316.csv', parse_dates = ['Date']) # weather events"
   ]
  },
  {
   "cell_type": "code",
   "execution_count": 14,
   "metadata": {
    "collapsed": false
   },
   "outputs": [],
   "source": [
    "weather['Date'] = weather['Unnamed: 0']\n",
    "weather = weather.drop(['Unnamed: 0', 'Temp_mean (F)','Temp_max (F)','Temp_DewPoint (F)',\n",
    "                       'Prep_mean (in)','WindGust (mph)' ], axis =1)\n",
    "weather_events = weather_events.drop(['Unnamed: 0'], axis =1)"
   ]
  },
  {
   "cell_type": "code",
   "execution_count": 15,
   "metadata": {
    "collapsed": true
   },
   "outputs": [],
   "source": [
    "wv = pd.merge(weather, weather_events, how = 'left', on='Date')\n",
    "wv = wv.fillna(0)\n",
    "wv['Date'] = pd.to_datetime(wv['Date'])"
   ]
  },
  {
   "cell_type": "code",
   "execution_count": 16,
   "metadata": {
    "collapsed": false
   },
   "outputs": [
    {
     "data": {
      "text/html": [
       "<div>\n",
       "<table border=\"1\" class=\"dataframe\">\n",
       "  <thead>\n",
       "    <tr style=\"text-align: right;\">\n",
       "      <th></th>\n",
       "      <th>Temp_min (F)</th>\n",
       "      <th>Prep_sum (in)</th>\n",
       "      <th>Snow (in)</th>\n",
       "      <th>WindSpeed (mph)</th>\n",
       "      <th>Date</th>\n",
       "      <th>Weather_events</th>\n",
       "    </tr>\n",
       "  </thead>\n",
       "  <tbody>\n",
       "    <tr>\n",
       "      <th>0</th>\n",
       "      <td>23.0</td>\n",
       "      <td>0.00</td>\n",
       "      <td>0.0</td>\n",
       "      <td>16.0</td>\n",
       "      <td>2012-12-31</td>\n",
       "      <td>0.0</td>\n",
       "    </tr>\n",
       "    <tr>\n",
       "      <th>1</th>\n",
       "      <td>30.0</td>\n",
       "      <td>0.64</td>\n",
       "      <td>0.0</td>\n",
       "      <td>9.0</td>\n",
       "      <td>2013-01-07</td>\n",
       "      <td>0.0</td>\n",
       "    </tr>\n",
       "  </tbody>\n",
       "</table>\n",
       "</div>"
      ],
      "text/plain": [
       "   Temp_min (F)  Prep_sum (in)  Snow (in)  WindSpeed (mph)       Date  \\\n",
       "0          23.0           0.00        0.0             16.0 2012-12-31   \n",
       "1          30.0           0.64        0.0              9.0 2013-01-07   \n",
       "\n",
       "   Weather_events  \n",
       "0             0.0  \n",
       "1             0.0  "
      ]
     },
     "execution_count": 16,
     "metadata": {},
     "output_type": "execute_result"
    }
   ],
   "source": [
    "wv.head(2)"
   ]
  },
  {
   "cell_type": "markdown",
   "metadata": {},
   "source": [
    "### U.S. holidays "
   ]
  },
  {
   "cell_type": "code",
   "execution_count": 17,
   "metadata": {
    "collapsed": false
   },
   "outputs": [
    {
     "data": {
      "text/plain": [
       "[Holiday: Labor Day (month=9, day=1, offset=<DateOffset: kwds={'weekday': MO(+1)}>),\n",
       " Holiday: Presidents Day (month=2, day=1, offset=<DateOffset: kwds={'weekday': MO(+3)}>),\n",
       " Holiday: Columbus Day (month=10, day=1, offset=<DateOffset: kwds={'weekday': MO(+2)}>),\n",
       " Holiday: Veterans Day (month=11, day=11, observance=<function nearest_workday at 0x116e382a8>),\n",
       " Holiday: Good Friday (month=1, day=1, offset=[<Easter>, <-2 * Days>]),\n",
       " Holiday: Dr. Martin Luther King Jr. (month=1, day=1, offset=<DateOffset: kwds={'weekday': MO(+3)}>),\n",
       " Holiday: New Years Day (month=1, day=1, observance=<function nearest_workday at 0x116e382a8>),\n",
       " Holiday: Thanksgiving (month=11, day=1, offset=<DateOffset: kwds={'weekday': TH(+4)}>),\n",
       " Holiday: July 4th (month=7, day=4, observance=<function nearest_workday at 0x116e382a8>),\n",
       " Holiday: Christmas (month=12, day=25, observance=<function nearest_workday at 0x116e382a8>),\n",
       " Holiday: MemorialDay (month=5, day=31, offset=<DateOffset: kwds={'weekday': MO(-1)}>)]"
      ]
     },
     "execution_count": 17,
     "metadata": {},
     "output_type": "execute_result"
    }
   ],
   "source": [
    "from pandas.tseries.holiday import get_calendar, USFederalHolidayCalendar,\\\n",
    "HolidayCalendarFactory, GoodFriday, AbstractHolidayCalendar\n",
    "from datetime import datetime\n",
    "\n",
    "days = pd.date_range('1/01/2013', periods=(365 * 4), freq='D')\n",
    "weeks = pd.date_range('1/01/2013', periods=(52 * 4), freq='W')\n",
    "\n",
    "cal = get_calendar('USFederalHolidayCalendar')  # Create calendar instance\n",
    "tradingCal = HolidayCalendarFactory('TradingCalendar', cal, GoodFriday)\n",
    "\n",
    "tradingCal.rules"
   ]
  },
  {
   "cell_type": "code",
   "execution_count": 18,
   "metadata": {
    "collapsed": false
   },
   "outputs": [
    {
     "name": "stdout",
     "output_type": "stream",
     "text": [
      "DatetimeIndex(['2013-01-01', '2013-01-21', '2013-02-18', '2013-05-27',\n",
      "               '2013-07-04', '2013-09-02', '2013-10-14', '2013-11-11',\n",
      "               '2013-11-28', '2013-12-25', '2014-01-01', '2014-01-20',\n",
      "               '2014-02-17', '2014-05-26', '2014-07-04', '2014-09-01',\n",
      "               '2014-10-13', '2014-11-11', '2014-11-27', '2014-12-25',\n",
      "               '2015-01-01', '2015-01-19', '2015-02-16', '2015-05-25',\n",
      "               '2015-07-03', '2015-09-07', '2015-10-12', '2015-11-11',\n",
      "               '2015-11-26', '2015-12-25', '2016-01-01', '2016-01-18',\n",
      "               '2016-02-15', '2016-05-30', '2016-07-04', '2016-09-05',\n",
      "               '2016-10-10', '2016-11-11', '2016-11-24', '2016-12-26'],\n",
      "              dtype='datetime64[ns]', freq=None)\n"
     ]
    }
   ],
   "source": [
    "holidays = cal.holidays(datetime(2013, 1, 1), datetime(2016, 12, 31))\n",
    "print holidays"
   ]
  },
  {
   "cell_type": "code",
   "execution_count": 19,
   "metadata": {
    "collapsed": false
   },
   "outputs": [
    {
     "data": {
      "text/html": [
       "<div>\n",
       "<table border=\"1\" class=\"dataframe\">\n",
       "  <thead>\n",
       "    <tr style=\"text-align: right;\">\n",
       "      <th></th>\n",
       "      <th>Date</th>\n",
       "      <th>Holiday_Count</th>\n",
       "    </tr>\n",
       "  </thead>\n",
       "  <tbody>\n",
       "    <tr>\n",
       "      <th>0</th>\n",
       "      <td>2013-01-07</td>\n",
       "      <td>1.0</td>\n",
       "    </tr>\n",
       "    <tr>\n",
       "      <th>1</th>\n",
       "      <td>2013-01-14</td>\n",
       "      <td>0.0</td>\n",
       "    </tr>\n",
       "  </tbody>\n",
       "</table>\n",
       "</div>"
      ],
      "text/plain": [
       "        Date  Holiday_Count\n",
       "0 2013-01-07            1.0\n",
       "1 2013-01-14            0.0"
      ]
     },
     "execution_count": 19,
     "metadata": {},
     "output_type": "execute_result"
    }
   ],
   "source": [
    "holiday = pd.DataFrame()\n",
    "holiday['Date'] = holidays\n",
    "holiday['Holiday_Count'] = 1\n",
    "\n",
    "# In order to do 'resample', Index of dataframe should be as datetime type\n",
    "index = holiday['Date']\n",
    "holiday.index = index\n",
    "\n",
    "holiday = holiday.resample('W-MON')['Holiday_Count'].sum()\n",
    "\n",
    "# Series to Dataframe\n",
    "holiday = holiday.to_frame().reset_index()\n",
    "\n",
    "# Fillna as O (which is non record of Heat and hot water complaints)\n",
    "holiday = holiday.fillna(0)\n",
    "\n",
    "holiday.head(2)"
   ]
  },
  {
   "cell_type": "markdown",
   "metadata": {},
   "source": [
    "### Join Weather + Holiday dataset"
   ]
  },
  {
   "cell_type": "code",
   "execution_count": 20,
   "metadata": {
    "collapsed": false
   },
   "outputs": [
    {
     "name": "stdout",
     "output_type": "stream",
     "text": [
      "210\n",
      "208\n",
      "210\n"
     ]
    }
   ],
   "source": [
    "print len(wv)\n",
    "print len(holiday)\n",
    "weather_holiday = pd.merge(wv, holiday, how = 'left', on = 'Date')\n",
    "weather_holiday['Holiday_Count'] = weather_holiday['Holiday_Count'].fillna(0)\n",
    "print len(weather_holiday)"
   ]
  },
  {
   "cell_type": "code",
   "execution_count": 21,
   "metadata": {
    "collapsed": false
   },
   "outputs": [
    {
     "data": {
      "text/html": [
       "<div>\n",
       "<table border=\"1\" class=\"dataframe\">\n",
       "  <thead>\n",
       "    <tr style=\"text-align: right;\">\n",
       "      <th></th>\n",
       "      <th>Temp_min (F)</th>\n",
       "      <th>Prep_sum (in)</th>\n",
       "      <th>Snow (in)</th>\n",
       "      <th>WindSpeed (mph)</th>\n",
       "      <th>Date</th>\n",
       "      <th>Weather_events</th>\n",
       "      <th>Holiday_Count</th>\n",
       "    </tr>\n",
       "  </thead>\n",
       "  <tbody>\n",
       "    <tr>\n",
       "      <th>0</th>\n",
       "      <td>23.0</td>\n",
       "      <td>0.00</td>\n",
       "      <td>0.0</td>\n",
       "      <td>16.0</td>\n",
       "      <td>2012-12-31</td>\n",
       "      <td>0.0</td>\n",
       "      <td>0.0</td>\n",
       "    </tr>\n",
       "    <tr>\n",
       "      <th>1</th>\n",
       "      <td>30.0</td>\n",
       "      <td>0.64</td>\n",
       "      <td>0.0</td>\n",
       "      <td>9.0</td>\n",
       "      <td>2013-01-07</td>\n",
       "      <td>0.0</td>\n",
       "      <td>1.0</td>\n",
       "    </tr>\n",
       "  </tbody>\n",
       "</table>\n",
       "</div>"
      ],
      "text/plain": [
       "   Temp_min (F)  Prep_sum (in)  Snow (in)  WindSpeed (mph)       Date  \\\n",
       "0          23.0           0.00        0.0             16.0 2012-12-31   \n",
       "1          30.0           0.64        0.0              9.0 2013-01-07   \n",
       "\n",
       "   Weather_events  Holiday_Count  \n",
       "0             0.0            0.0  \n",
       "1             0.0            1.0  "
      ]
     },
     "execution_count": 21,
     "metadata": {},
     "output_type": "execute_result"
    }
   ],
   "source": [
    "weather_holiday.head(2)"
   ]
  },
  {
   "cell_type": "code",
   "execution_count": 22,
   "metadata": {
    "collapsed": true
   },
   "outputs": [],
   "source": [
    "weather_holiday.to_csv('../data/output/00VAR_weather_holiday_2013_2016.csv')"
   ]
  },
  {
   "cell_type": "code",
   "execution_count": null,
   "metadata": {
    "collapsed": true
   },
   "outputs": [],
   "source": []
  }
 ],
 "metadata": {
  "kernelspec": {
   "display_name": "Python [default]",
   "language": "python",
   "name": "python2"
  },
  "language_info": {
   "codemirror_mode": {
    "name": "ipython",
    "version": 2
   },
   "file_extension": ".py",
   "mimetype": "text/x-python",
   "name": "python",
   "nbconvert_exporter": "python",
   "pygments_lexer": "ipython2",
   "version": "2.7.13"
  }
 },
 "nbformat": 4,
 "nbformat_minor": 2
}
