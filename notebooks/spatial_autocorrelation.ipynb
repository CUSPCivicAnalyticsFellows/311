{
 "cells": [
  {
   "cell_type": "code",
   "execution_count": 1,
   "metadata": {
    "collapsed": true
   },
   "outputs": [],
   "source": [
    "import pysal as ps"
   ]
  },
  {
   "cell_type": "code",
   "execution_count": 2,
   "metadata": {
    "collapsed": true
   },
   "outputs": [],
   "source": [
    "w=ps.lat2W()"
   ]
  },
  {
   "cell_type": "code",
   "execution_count": 3,
   "metadata": {
    "collapsed": false,
    "scrolled": false
   },
   "outputs": [
    {
     "name": "stdout",
     "output_type": "stream",
     "text": [
      "Help on W in module pysal.weights.weights object:\n",
      "\n",
      "class W(__builtin__.object)\n",
      " |  Spatial weights.\n",
      " |  \n",
      " |  Parameters\n",
      " |  ----------\n",
      " |  neighbors       : dictionary\n",
      " |                    key is region ID, value is a list of neighbor IDS\n",
      " |                    Example:  {'a':['b'],'b':['a','c'],'c':['b']}\n",
      " |  weights : dictionary\n",
      " |                    key is region ID, value is a list of edge weights\n",
      " |                    If not supplied all edge weights are assumed to have a weight of 1.\n",
      " |                    Example: {'a':[0.5],'b':[0.5,1.5],'c':[1.5]}\n",
      " |  id_order : list\n",
      " |                    An ordered list of ids, defines the order of\n",
      " |                    observations when iterating over W if not set,\n",
      " |                    lexicographical ordering is used to iterate and the\n",
      " |                    id_order_set property will return False.  This can be\n",
      " |                    set after creation by setting the 'id_order' property.\n",
      " |  silent_island_warning   : boolean\n",
      " |                          By default PySAL will print a warning if the\n",
      " |                          dataset contains any disconnected observations or\n",
      " |                          islands. To silence this warning set this\n",
      " |                          parameter to True.\n",
      " |  ids : list\n",
      " |                    values to use for keys of the neighbors and weights dicts\n",
      " |  \n",
      " |  Attributes\n",
      " |  ----------\n",
      " |  \n",
      " |  asymmetries         : list\n",
      " |                        of\n",
      " |  cardinalities       : dictionary\n",
      " |                        of\n",
      " |  diagW2              : array\n",
      " |                        of\n",
      " |  diagWtW             : array\n",
      " |                        of\n",
      " |  diagWtW_WW          : array\n",
      " |                        of\n",
      " |  histogram           : dictionary\n",
      " |                        of\n",
      " |  id2i                : dictionary\n",
      " |                        of\n",
      " |  id_order            : list\n",
      " |                        of\n",
      " |  id_order_set        : boolean\n",
      " |                        True if\n",
      " |  islands             : list\n",
      " |                        of\n",
      " |  \n",
      " |  max_neighbors       : int\n",
      " |                        maximum number of neighbors\n",
      " |  \n",
      " |  mean_neighbors      : int\n",
      " |                        mean number of neighbors\n",
      " |  \n",
      " |  min_neighbors       : int\n",
      " |                        minimum neighbor count\n",
      " |  n                   : int\n",
      " |                        of\n",
      " |  \n",
      " |  neighbor_offsets    : list\n",
      " |                        ids of neighbors to a region in id_order\n",
      " |  nonzero             : int\n",
      " |                        Number of non-zero entries\n",
      " |  pct_nonzero         : float\n",
      " |                        Percentage of nonzero neighbor counts\n",
      " |  s0                  : float\n",
      " |                        of\n",
      " |  s1                  : float\n",
      " |                        of\n",
      " |  s2                  : float\n",
      " |                        of\n",
      " |  s2array             : array\n",
      " |                        of\n",
      " |  sd                  : float\n",
      " |                        of\n",
      " |  sparse              : sparse_matrix\n",
      " |                        SciPy sparse matrix instance\n",
      " |  trcW2               : float\n",
      " |                        of\n",
      " |  trcWtW              : float\n",
      " |                        of\n",
      " |  trcWtW_WW           : float\n",
      " |                        of\n",
      " |  transform           : string\n",
      " |                        of\n",
      " |  \n",
      " |  Examples\n",
      " |  --------\n",
      " |  >>> from pysal import W, lat2W\n",
      " |  >>> neighbors = {0: [3, 1], 1: [0, 4, 2], 2: [1, 5], 3: [0, 6, 4], 4: [1, 3, 7, 5], 5: [2, 4, 8], 6: [3, 7], 7: [4, 6, 8], 8: [5, 7]}\n",
      " |  >>> weights = {0: [1, 1], 1: [1, 1, 1], 2: [1, 1], 3: [1, 1, 1], 4: [1, 1, 1, 1], 5: [1, 1, 1], 6: [1, 1], 7: [1, 1, 1], 8: [1, 1]}\n",
      " |  >>> w = W(neighbors, weights)\n",
      " |  >>> \"%.3f\"%w.pct_nonzero\n",
      " |  '29.630'\n",
      " |  \n",
      " |  Read from external gal file\n",
      " |  \n",
      " |  >>> import pysal\n",
      " |  >>> w = pysal.open(pysal.examples.get_path(\"stl.gal\")).read()\n",
      " |  >>> w.n\n",
      " |  78\n",
      " |  >>> \"%.3f\"%w.pct_nonzero\n",
      " |  '6.542'\n",
      " |  \n",
      " |  Set weights implicitly\n",
      " |  \n",
      " |  >>> neighbors = {0: [3, 1], 1: [0, 4, 2], 2: [1, 5], 3: [0, 6, 4], 4: [1, 3, 7, 5], 5: [2, 4, 8], 6: [3, 7], 7: [4, 6, 8], 8: [5, 7]}\n",
      " |  >>> w = W(neighbors)\n",
      " |  >>> round(w.pct_nonzero,3)\n",
      " |  29.63\n",
      " |  >>> w = lat2W(100, 100)\n",
      " |  >>> w.trcW2\n",
      " |  39600.0\n",
      " |  >>> w.trcWtW\n",
      " |  39600.0\n",
      " |  >>> w.transform='r'\n",
      " |  >>> round(w.trcW2, 3)\n",
      " |  2530.722\n",
      " |  >>> round(w.trcWtW, 3)\n",
      " |  2533.667\n",
      " |  \n",
      " |  Cardinality Histogram\n",
      " |  \n",
      " |  >>> w=pysal.rook_from_shapefile(pysal.examples.get_path(\"sacramentot2.shp\"))\n",
      " |  >>> w.histogram\n",
      " |  [(1, 1), (2, 6), (3, 33), (4, 103), (5, 114), (6, 73), (7, 35), (8, 17), (9, 9), (10, 4), (11, 4), (12, 3), (13, 0), (14, 1)]\n",
      " |  \n",
      " |  Disconnected observations (islands)\n",
      " |  \n",
      " |  >>> w = pysal.W({1:[0],0:[1],2:[], 3:[]})\n",
      " |  WARNING: there are 2 disconnected observations\n",
      " |  Island ids:  [2, 3]\n",
      " |  \n",
      " |  Methods defined here:\n",
      " |  \n",
      " |  __getitem__(self, key)\n",
      " |      Allow a dictionary like interaction with the weights class.\n",
      " |      \n",
      " |      Examples\n",
      " |      --------\n",
      " |      >>> from pysal import rook_from_shapefile as rfs\n",
      " |      >>> w = rfs(pysal.examples.get_path(\"10740.shp\"))\n",
      " |      WARNING: there is one disconnected observation (no neighbors)\n",
      " |      Island id:  [163]\n",
      " |      >>> w[163]\n",
      " |      {}\n",
      " |      >>> w[0]\n",
      " |      {1: 1.0, 4: 1.0, 101: 1.0, 85: 1.0, 5: 1.0}\n",
      " |  \n",
      " |  __init__(self, neighbors, weights=None, id_order=None, silent_island_warning=False, ids=None)\n",
      " |  \n",
      " |  __iter__(self)\n",
      " |      Support iteration over weights.\n",
      " |      \n",
      " |      Examples\n",
      " |      --------\n",
      " |      >>> import pysal\n",
      " |      >>> w=pysal.lat2W(3,3)\n",
      " |      >>> for i,wi in enumerate(w):\n",
      " |      ...     print i,wi\n",
      " |      ...\n",
      " |      0 (0, {1: 1.0, 3: 1.0})\n",
      " |      1 (1, {0: 1.0, 2: 1.0, 4: 1.0})\n",
      " |      2 (2, {1: 1.0, 5: 1.0})\n",
      " |      3 (3, {0: 1.0, 4: 1.0, 6: 1.0})\n",
      " |      4 (4, {1: 1.0, 3: 1.0, 5: 1.0, 7: 1.0})\n",
      " |      5 (5, {8: 1.0, 2: 1.0, 4: 1.0})\n",
      " |      6 (6, {3: 1.0, 7: 1.0})\n",
      " |      7 (7, {8: 1.0, 4: 1.0, 6: 1.0})\n",
      " |      8 (8, {5: 1.0, 7: 1.0})\n",
      " |      >>>\n",
      " |  \n",
      " |  asymmetry(self, intrinsic=True)\n",
      " |      Asymmetry check.\n",
      " |      \n",
      " |      Parameters\n",
      " |      ----------\n",
      " |      intrinsic   :   boolean\n",
      " |                      default=True\n",
      " |      \n",
      " |              intrinsic symmetry:\n",
      " |                    :math:`w_{i,j} == w_{j,i}`\n",
      " |      \n",
      " |              if intrisic is False:\n",
      " |                  symmetry is defined as :math:`i \\in N_j \\ AND \\ j \\in N_i` where\n",
      " |                  :math:`N_j` is the set of neighbors for j.\n",
      " |      \n",
      " |      Returns\n",
      " |      -------\n",
      " |      asymmetries : list\n",
      " |                    empty if no asymmetries are found\n",
      " |                    if asymmetries, then a list of (i,j) tuples is returned\n",
      " |      \n",
      " |      Examples\n",
      " |      --------\n",
      " |      \n",
      " |      >>> from pysal import lat2W\n",
      " |      >>> w=lat2W(3,3)\n",
      " |      >>> w.asymmetry()\n",
      " |      []\n",
      " |      >>> w.transform='r'\n",
      " |      >>> w.asymmetry()\n",
      " |      [(0, 1), (0, 3), (1, 0), (1, 2), (1, 4), (2, 1), (2, 5), (3, 0), (3, 4), (3, 6), (4, 1), (4, 3), (4, 5), (4, 7), (5, 2), (5, 4), (5, 8), (6, 3), (6, 7), (7, 4), (7, 6), (7, 8), (8, 5), (8, 7)]\n",
      " |      >>> result = w.asymmetry(intrinsic=False)\n",
      " |      >>> result\n",
      " |      []\n",
      " |      >>> neighbors={0:[1,2,3], 1:[1,2,3], 2:[0,1], 3:[0,1]}\n",
      " |      >>> weights={0:[1,1,1], 1:[1,1,1], 2:[1,1], 3:[1,1]}\n",
      " |      >>> w=W(neighbors,weights)\n",
      " |      >>> w.asymmetry()\n",
      " |      [(0, 1), (1, 0)]\n",
      " |  \n",
      " |  full(self)\n",
      " |      Generate a full numpy array.\n",
      " |      \n",
      " |      Returns\n",
      " |      -------\n",
      " |      \n",
      " |      implicit : tuple\n",
      " |                 first element being the full numpy array and second element\n",
      " |                 keys being the ids associated with each row in the array.\n",
      " |      \n",
      " |      Examples\n",
      " |      --------\n",
      " |      >>> from pysal import W\n",
      " |      >>> neighbors={'first':['second'],'second':['first','third'],'third':['second']}\n",
      " |      >>> weights={'first':[1],'second':[1,1],'third':[1]}\n",
      " |      >>> w=W(neighbors,weights)\n",
      " |      >>> wf,ids=w.full()\n",
      " |      >>> wf\n",
      " |      array([[ 0.,  1.,  0.],\n",
      " |             [ 1.,  0.,  1.],\n",
      " |             [ 0.,  1.,  0.]])\n",
      " |      >>> ids\n",
      " |      ['first', 'second', 'third']\n",
      " |      \n",
      " |      See also\n",
      " |      --------\n",
      " |      full\n",
      " |  \n",
      " |  get_transform(self)\n",
      " |      Getter for transform property.\n",
      " |      \n",
      " |      Returns\n",
      " |      -------\n",
      " |      transformation : string (or none)\n",
      " |      \n",
      " |      Examples\n",
      " |      --------\n",
      " |      >>> from pysal import lat2W\n",
      " |      >>> w=lat2W()\n",
      " |      >>> w.weights[0]\n",
      " |      [1.0, 1.0]\n",
      " |      >>> w.transform\n",
      " |      'O'\n",
      " |      >>> w.transform='r'\n",
      " |      >>> w.weights[0]\n",
      " |      [0.5, 0.5]\n",
      " |      >>> w.transform='b'\n",
      " |      >>> w.weights[0]\n",
      " |      [1.0, 1.0]\n",
      " |      >>>\n",
      " |  \n",
      " |  remap_ids(self, new_ids)\n",
      " |      In place modification throughout `W` of id values from `w.id_order` to\n",
      " |      `new_ids` in all\n",
      " |      \n",
      " |      ...\n",
      " |      \n",
      " |      Arguments\n",
      " |      ---------\n",
      " |      \n",
      " |      new_ids     :   list\n",
      " |                      /ndarray\n",
      " |                      Aligned list of new ids to be inserted. Note that first\n",
      " |                      element of new_ids will replace first element of\n",
      " |                      w.id_order, second element of new_ids replaces second\n",
      " |                      element of w.id_order and so on.\n",
      " |      \n",
      " |      Example\n",
      " |      -------\n",
      " |      \n",
      " |      >>> import pysal as ps\n",
      " |      >>> w = ps.lat2W(3, 3)\n",
      " |      >>> w.id_order\n",
      " |      [0, 1, 2, 3, 4, 5, 6, 7, 8]\n",
      " |      >>> w.neighbors[0]\n",
      " |      [3, 1]\n",
      " |      >>> new_ids = ['id%i'%id for id in w.id_order]\n",
      " |      >>> _ = w.remap_ids(new_ids)\n",
      " |      >>> w.id_order\n",
      " |      ['id0', 'id1', 'id2', 'id3', 'id4', 'id5', 'id6', 'id7', 'id8']\n",
      " |      >>> w.neighbors['id0']\n",
      " |      ['id3', 'id1']\n",
      " |  \n",
      " |  set_shapefile(self, shapefile, idVariable=None, full=False)\n",
      " |      Adding meta data for writing headers of gal and gwt files.\n",
      " |      \n",
      " |      Parameters\n",
      " |      ----------\n",
      " |      \n",
      " |      shapefile :     string\n",
      " |                      shapefile name used to construct weights\n",
      " |      \n",
      " |      idVariable :    string\n",
      " |                      name of attribute in shapefile to associate with ids in the weights\n",
      " |      \n",
      " |      full :          boolean\n",
      " |                      True - write out entire path for shapefile, False\n",
      " |                      (default) only base of shapefile without extension\n",
      " |  \n",
      " |  set_transform(self, value='B')\n",
      " |      Transformations of weights.\n",
      " |      \n",
      " |      Notes\n",
      " |      -----\n",
      " |      \n",
      " |      Transformations are applied only to the value of the weights at\n",
      " |      instantiation. Chaining of transformations cannot be done on a W\n",
      " |      instance.\n",
      " |      \n",
      " |      Parameters\n",
      " |      ----------\n",
      " |      transform   :   string\n",
      " |                      not case sensitive)\n",
      " |      \n",
      " |      .. table::\n",
      " |      \n",
      " |          ================   ======================================================\n",
      " |          transform string   value\n",
      " |          ================   ======================================================\n",
      " |          B                  Binary\n",
      " |          R                  Row-standardization (global sum=n)\n",
      " |          D                  Double-standardization (global sum=1)\n",
      " |          V                  Variance stabilizing\n",
      " |          O                  Restore original transformation (from instantiation)\n",
      " |          ================   ======================================================\n",
      " |      \n",
      " |      Examples\n",
      " |      --------\n",
      " |      >>> from pysal import lat2W\n",
      " |      >>> w=lat2W()\n",
      " |      >>> w.weights[0]\n",
      " |      [1.0, 1.0]\n",
      " |      >>> w.transform\n",
      " |      'O'\n",
      " |      >>> w.transform='r'\n",
      " |      >>> w.weights[0]\n",
      " |      [0.5, 0.5]\n",
      " |      >>> w.transform='b'\n",
      " |      >>> w.weights[0]\n",
      " |      [1.0, 1.0]\n",
      " |      >>>\n",
      " |  \n",
      " |  to_WSP = towsp(self)\n",
      " |  \n",
      " |  towsp(self)\n",
      " |      Generate a WSP object.\n",
      " |      \n",
      " |      Returns\n",
      " |      -------\n",
      " |      \n",
      " |      implicit : pysal.WSP\n",
      " |                 Thin W class\n",
      " |      \n",
      " |      Examples\n",
      " |      --------\n",
      " |      >>> import pysal as ps\n",
      " |      >>> from pysal import W\n",
      " |      >>> neighbors={'first':['second'],'second':['first','third'],'third':['second']}\n",
      " |      >>> weights={'first':[1],'second':[1,1],'third':[1]}\n",
      " |      >>> w=W(neighbors,weights)\n",
      " |      >>> wsp=w.towsp()\n",
      " |      >>> isinstance(wsp, ps.weights.weights.WSP)\n",
      " |      True\n",
      " |      >>> wsp.n\n",
      " |      3\n",
      " |      >>> wsp.s0\n",
      " |      4\n",
      " |      \n",
      " |      See also\n",
      " |      --------\n",
      " |      WSP\n",
      " |  \n",
      " |  ----------------------------------------------------------------------\n",
      " |  Class methods defined here:\n",
      " |  \n",
      " |  from_WSP(cls, WSP, silent_island_warning=True) from __builtin__.type\n",
      " |  \n",
      " |  from_file(cls, path='', format=None, **kwargs) from __builtin__.type\n",
      " |  \n",
      " |  from_shapefile(cls, *args, **kwargs) from __builtin__.type\n",
      " |  \n",
      " |  ----------------------------------------------------------------------\n",
      " |  Data descriptors defined here:\n",
      " |  \n",
      " |  __dict__\n",
      " |      dictionary for instance variables (if defined)\n",
      " |  \n",
      " |  __weakref__\n",
      " |      list of weak references to the object (if defined)\n",
      " |  \n",
      " |  asymmetries\n",
      " |      List of id pairs with asymmetric weights.\n",
      " |  \n",
      " |  cardinalities\n",
      " |      Number of neighbors for each observation.\n",
      " |  \n",
      " |  diagW2\n",
      " |      Diagonal of :math:`WW`.\n",
      " |      \n",
      " |      See Also\n",
      " |      --------\n",
      " |      trcW2\n",
      " |  \n",
      " |  diagWtW\n",
      " |      Diagonal of :math:`W^{'}W`.\n",
      " |      \n",
      " |      See Also\n",
      " |      --------\n",
      " |      trcWtW\n",
      " |  \n",
      " |  diagWtW_WW\n",
      " |      Diagonal of :math:`W^{'}W + WW`.\n",
      " |  \n",
      " |  histogram\n",
      " |      Cardinality histogram as a dictionary where key is the id and\n",
      " |      value is the number of neighbors for that unit.\n",
      " |  \n",
      " |  id2i\n",
      " |      Dictionary where the key is an ID and the value is that ID's\n",
      " |      index in W.id_order.\n",
      " |  \n",
      " |  id_order\n",
      " |      Returns the ids for the observations in the order in which they\n",
      " |      would be encountered if iterating over the weights.\n",
      " |  \n",
      " |  id_order_set\n",
      " |      Returns True if user has set id_order, False if not.\n",
      " |      \n",
      " |      Examples\n",
      " |      --------\n",
      " |      >>> from pysal import lat2W\n",
      " |      >>> w=lat2W()\n",
      " |      >>> w.id_order_set\n",
      " |      True\n",
      " |  \n",
      " |  islands\n",
      " |      List of ids without any neighbors.\n",
      " |  \n",
      " |  max_neighbors\n",
      " |      Largest number of neighbors.\n",
      " |  \n",
      " |  mean_neighbors\n",
      " |      Average number of neighbors.\n",
      " |  \n",
      " |  min_neighbors\n",
      " |      Minimum number of neighbors.\n",
      " |  \n",
      " |  n\n",
      " |      Number of units.\n",
      " |  \n",
      " |  neighbor_offsets\n",
      " |      Given the current id_order, neighbor_offsets[id] is the offsets of the\n",
      " |      id's neighbors in id_order.\n",
      " |      \n",
      " |      Returns\n",
      " |      -------\n",
      " |      list\n",
      " |              offsets of the id's neighbors in id_order\n",
      " |      \n",
      " |      Examples\n",
      " |      --------\n",
      " |      >>> from pysal import W\n",
      " |      >>> neighbors={'c': ['b'], 'b': ['c', 'a'], 'a': ['b']}\n",
      " |      >>> weights ={'c': [1.0], 'b': [1.0, 1.0], 'a': [1.0]}\n",
      " |      >>> w=W(neighbors,weights)\n",
      " |      >>> w.id_order = ['a','b','c']\n",
      " |      >>> w.neighbor_offsets['b']\n",
      " |      [2, 0]\n",
      " |      >>> w.id_order = ['b','a','c']\n",
      " |      >>> w.neighbor_offsets['b']\n",
      " |      [2, 1]\n",
      " |  \n",
      " |  nonzero\n",
      " |      Number of nonzero weights.\n",
      " |  \n",
      " |  pct_nonzero\n",
      " |      Percentage of nonzero weights.\n",
      " |  \n",
      " |  s0\n",
      " |      s0 is defined as\n",
      " |      \n",
      " |      .. math::\n",
      " |      \n",
      " |             s0=\\sum_i \\sum_j w_{i,j}\n",
      " |  \n",
      " |  s1\n",
      " |      s1 is defined as\n",
      " |      \n",
      " |      .. math::\n",
      " |      \n",
      " |             s1=1/2 \\sum_i \\sum_j (w_{i,j} + w_{j,i})^2\n",
      " |  \n",
      " |  s2\n",
      " |      s2 is defined as\n",
      " |      \n",
      " |      .. math::\n",
      " |      \n",
      " |              s2=\\sum_j (\\sum_i w_{i,j} + \\sum_i w_{j,i})^2\n",
      " |  \n",
      " |  s2array\n",
      " |      Individual elements comprising s2.\n",
      " |      \n",
      " |      See Also\n",
      " |      --------\n",
      " |      s2\n",
      " |  \n",
      " |  sd\n",
      " |      Standard deviation of number of neighbors.\n",
      " |  \n",
      " |  sparse\n",
      " |      Sparse matrix object.\n",
      " |      \n",
      " |      For any matrix manipulations required for w, w.sparse should be\n",
      " |      used. This is based on scipy.sparse.\n",
      " |  \n",
      " |  transform\n",
      " |      Getter for transform property.\n",
      " |      \n",
      " |      Returns\n",
      " |      -------\n",
      " |      transformation : string (or none)\n",
      " |      \n",
      " |      Examples\n",
      " |      --------\n",
      " |      >>> from pysal import lat2W\n",
      " |      >>> w=lat2W()\n",
      " |      >>> w.weights[0]\n",
      " |      [1.0, 1.0]\n",
      " |      >>> w.transform\n",
      " |      'O'\n",
      " |      >>> w.transform='r'\n",
      " |      >>> w.weights[0]\n",
      " |      [0.5, 0.5]\n",
      " |      >>> w.transform='b'\n",
      " |      >>> w.weights[0]\n",
      " |      [1.0, 1.0]\n",
      " |      >>>\n",
      " |  \n",
      " |  trcW2\n",
      " |      Trace of :math:`WW`.\n",
      " |      \n",
      " |      See Also\n",
      " |      --------\n",
      " |      diagW2\n",
      " |  \n",
      " |  trcWtW\n",
      " |      Trace of :math:`W^{'}W`.\n",
      " |      \n",
      " |      See Also\n",
      " |      --------\n",
      " |      diagWtW\n",
      " |  \n",
      " |  trcWtW_WW\n",
      " |      Trace of :math:`W^{'}W + WW`.\n",
      "\n"
     ]
    }
   ],
   "source": [
    "help(w)"
   ]
  },
  {
   "cell_type": "markdown",
   "metadata": {},
   "source": [
    "The below, 'ps.lat2W()' defaults to contiguity conditions set by rook, which takes as neighbors any pair of cells that share an edge. "
   ]
  },
  {
   "cell_type": "code",
   "execution_count": 5,
   "metadata": {
    "collapsed": false
   },
   "outputs": [],
   "source": [
    "w = ps.lat2W(5, 5)"
   ]
  },
  {
   "cell_type": "code",
   "execution_count": 6,
   "metadata": {
    "collapsed": false
   },
   "outputs": [
    {
     "data": {
      "text/plain": [
       "25"
      ]
     },
     "execution_count": 6,
     "metadata": {},
     "output_type": "execute_result"
    }
   ],
   "source": [
    "w.n"
   ]
  },
  {
   "cell_type": "code",
   "execution_count": 7,
   "metadata": {
    "collapsed": false
   },
   "outputs": [
    {
     "data": {
      "text/plain": [
       "12.8"
      ]
     },
     "execution_count": 7,
     "metadata": {},
     "output_type": "execute_result"
    }
   ],
   "source": [
    "w.pct_nonzero"
   ]
  },
  {
   "cell_type": "code",
   "execution_count": 8,
   "metadata": {
    "collapsed": false
   },
   "outputs": [
    {
     "data": {
      "text/plain": [
       "{0: [1.0, 1.0],\n",
       " 1: [1.0, 1.0, 1.0],\n",
       " 2: [1.0, 1.0, 1.0],\n",
       " 3: [1.0, 1.0, 1.0],\n",
       " 4: [1.0, 1.0],\n",
       " 5: [1.0, 1.0, 1.0],\n",
       " 6: [1.0, 1.0, 1.0, 1.0],\n",
       " 7: [1.0, 1.0, 1.0, 1.0],\n",
       " 8: [1.0, 1.0, 1.0, 1.0],\n",
       " 9: [1.0, 1.0, 1.0],\n",
       " 10: [1.0, 1.0, 1.0],\n",
       " 11: [1.0, 1.0, 1.0, 1.0],\n",
       " 12: [1.0, 1.0, 1.0, 1.0],\n",
       " 13: [1.0, 1.0, 1.0, 1.0],\n",
       " 14: [1.0, 1.0, 1.0],\n",
       " 15: [1.0, 1.0, 1.0],\n",
       " 16: [1.0, 1.0, 1.0, 1.0],\n",
       " 17: [1.0, 1.0, 1.0, 1.0],\n",
       " 18: [1.0, 1.0, 1.0, 1.0],\n",
       " 19: [1.0, 1.0, 1.0],\n",
       " 20: [1.0, 1.0],\n",
       " 21: [1.0, 1.0, 1.0],\n",
       " 22: [1.0, 1.0, 1.0],\n",
       " 23: [1.0, 1.0, 1.0],\n",
       " 24: [1.0, 1.0]}"
      ]
     },
     "execution_count": 8,
     "metadata": {},
     "output_type": "execute_result"
    }
   ],
   "source": [
    "w.weights"
   ]
  },
  {
   "cell_type": "code",
   "execution_count": 9,
   "metadata": {
    "collapsed": false
   },
   "outputs": [
    {
     "data": {
      "text/plain": [
       "{0: [5, 1],\n",
       " 1: [0, 6, 2],\n",
       " 2: [1, 7, 3],\n",
       " 3: [2, 8, 4],\n",
       " 4: [3, 9],\n",
       " 5: [0, 10, 6],\n",
       " 6: [1, 5, 11, 7],\n",
       " 7: [2, 6, 12, 8],\n",
       " 8: [3, 7, 13, 9],\n",
       " 9: [4, 8, 14],\n",
       " 10: [5, 15, 11],\n",
       " 11: [6, 10, 16, 12],\n",
       " 12: [7, 11, 17, 13],\n",
       " 13: [8, 12, 18, 14],\n",
       " 14: [9, 13, 19],\n",
       " 15: [10, 20, 16],\n",
       " 16: [11, 15, 21, 17],\n",
       " 17: [12, 16, 22, 18],\n",
       " 18: [13, 17, 23, 19],\n",
       " 19: [14, 18, 24],\n",
       " 20: [15, 21],\n",
       " 21: [16, 20, 22],\n",
       " 22: [17, 21, 23],\n",
       " 23: [18, 22, 24],\n",
       " 24: [19, 23]}"
      ]
     },
     "execution_count": 9,
     "metadata": {},
     "output_type": "execute_result"
    }
   ],
   "source": [
    "w.neighbors"
   ]
  },
  {
   "cell_type": "markdown",
   "metadata": {},
   "source": [
    "For example, position 0 has two neighbors, positions 1 and 5, both with a weight of 1."
   ]
  },
  {
   "cell_type": "code",
   "execution_count": 10,
   "metadata": {
    "collapsed": false
   },
   "outputs": [
    {
     "data": {
      "text/plain": [
       "[(2, 4), (3, 12), (4, 9)]"
      ]
     },
     "execution_count": 10,
     "metadata": {},
     "output_type": "execute_result"
    }
   ],
   "source": [
    "w.histogram"
   ]
  },
  {
   "cell_type": "markdown",
   "metadata": {},
   "source": [
    "The histogram result indicates that we have four units with two neighbors (corner cells), 12 units with 3 neighbors (edge cells), and nine units with four neighbors (internal cells)."
   ]
  },
  {
   "cell_type": "markdown",
   "metadata": {},
   "source": [
    "If you want to set the contiguity criterion to queen, then you must change the syntax to 'ps.lat2W(rook = False). A bishop contiguity weight could be calculated as the difference between the queen and the rook, as it defines as neighbors only those cells which share a vertex.  "
   ]
  },
  {
   "cell_type": "code",
   "execution_count": 11,
   "metadata": {
    "collapsed": true
   },
   "outputs": [],
   "source": [
    "wq = ps.lat2W(rook = False)"
   ]
  },
  {
   "cell_type": "code",
   "execution_count": 12,
   "metadata": {
    "collapsed": false
   },
   "outputs": [
    {
     "data": {
      "text/plain": [
       "{0: [5, 1, 6],\n",
       " 1: [0, 6, 2, 7, 5],\n",
       " 2: [1, 7, 3, 8, 6],\n",
       " 3: [2, 8, 4, 9, 7],\n",
       " 4: [3, 9, 8],\n",
       " 5: [0, 1, 10, 6, 11],\n",
       " 6: [0, 1, 2, 5, 11, 7, 12, 10],\n",
       " 7: [1, 2, 3, 6, 12, 8, 13, 11],\n",
       " 8: [2, 3, 4, 7, 13, 9, 14, 12],\n",
       " 9: [3, 4, 8, 14, 13],\n",
       " 10: [5, 6, 15, 11, 16],\n",
       " 11: [5, 6, 7, 10, 16, 12, 17, 15],\n",
       " 12: [6, 7, 8, 11, 17, 13, 18, 16],\n",
       " 13: [7, 8, 9, 12, 18, 14, 19, 17],\n",
       " 14: [8, 9, 13, 19, 18],\n",
       " 15: [10, 11, 20, 16, 21],\n",
       " 16: [10, 11, 12, 15, 21, 17, 22, 20],\n",
       " 17: [11, 12, 13, 16, 22, 18, 23, 21],\n",
       " 18: [12, 13, 14, 17, 23, 19, 24, 22],\n",
       " 19: [13, 14, 18, 24, 23],\n",
       " 20: [15, 16, 21],\n",
       " 21: [15, 16, 17, 20, 22],\n",
       " 22: [16, 17, 18, 21, 23],\n",
       " 23: [17, 18, 19, 22, 24],\n",
       " 24: [18, 19, 23]}"
      ]
     },
     "execution_count": 12,
     "metadata": {},
     "output_type": "execute_result"
    }
   ],
   "source": [
    "wq.neighbors"
   ]
  },
  {
   "cell_type": "code",
   "execution_count": 13,
   "metadata": {
    "collapsed": false
   },
   "outputs": [
    {
     "data": {
      "text/plain": [
       "{0: [1.0, 1.0, 1.0],\n",
       " 1: [1.0, 1.0, 1.0, 1.0, 1.0],\n",
       " 2: [1.0, 1.0, 1.0, 1.0, 1.0],\n",
       " 3: [1.0, 1.0, 1.0, 1.0, 1.0],\n",
       " 4: [1.0, 1.0, 1.0],\n",
       " 5: [1.0, 1.0, 1.0, 1.0, 1.0],\n",
       " 6: [1.0, 1.0, 1.0, 1.0, 1.0, 1.0, 1.0, 1.0],\n",
       " 7: [1.0, 1.0, 1.0, 1.0, 1.0, 1.0, 1.0, 1.0],\n",
       " 8: [1.0, 1.0, 1.0, 1.0, 1.0, 1.0, 1.0, 1.0],\n",
       " 9: [1.0, 1.0, 1.0, 1.0, 1.0],\n",
       " 10: [1.0, 1.0, 1.0, 1.0, 1.0],\n",
       " 11: [1.0, 1.0, 1.0, 1.0, 1.0, 1.0, 1.0, 1.0],\n",
       " 12: [1.0, 1.0, 1.0, 1.0, 1.0, 1.0, 1.0, 1.0],\n",
       " 13: [1.0, 1.0, 1.0, 1.0, 1.0, 1.0, 1.0, 1.0],\n",
       " 14: [1.0, 1.0, 1.0, 1.0, 1.0],\n",
       " 15: [1.0, 1.0, 1.0, 1.0, 1.0],\n",
       " 16: [1.0, 1.0, 1.0, 1.0, 1.0, 1.0, 1.0, 1.0],\n",
       " 17: [1.0, 1.0, 1.0, 1.0, 1.0, 1.0, 1.0, 1.0],\n",
       " 18: [1.0, 1.0, 1.0, 1.0, 1.0, 1.0, 1.0, 1.0],\n",
       " 19: [1.0, 1.0, 1.0, 1.0, 1.0],\n",
       " 20: [1.0, 1.0, 1.0],\n",
       " 21: [1.0, 1.0, 1.0, 1.0, 1.0],\n",
       " 22: [1.0, 1.0, 1.0, 1.0, 1.0],\n",
       " 23: [1.0, 1.0, 1.0, 1.0, 1.0],\n",
       " 24: [1.0, 1.0, 1.0]}"
      ]
     },
     "execution_count": 13,
     "metadata": {},
     "output_type": "execute_result"
    }
   ],
   "source": [
    "wq.weights"
   ]
  },
  {
   "cell_type": "code",
   "execution_count": 14,
   "metadata": {
    "collapsed": true
   },
   "outputs": [],
   "source": [
    "wf = w.full()"
   ]
  },
  {
   "cell_type": "code",
   "execution_count": 19,
   "metadata": {
    "collapsed": false
   },
   "outputs": [
    {
     "data": {
      "text/plain": [
       "array([ 0.,  0.,  0.,  0.,  0.,  0.,  0.,  0.,  0.,  0.,  0.,  0.,  0.,\n",
       "        0.,  0.,  0.,  0.,  0.,  0.,  1.,  0.,  0.,  0.,  1.,  0.])"
      ]
     },
     "execution_count": 19,
     "metadata": {},
     "output_type": "execute_result"
    }
   ],
   "source": [
    "wf[0][24]"
   ]
  },
  {
   "cell_type": "code",
   "execution_count": 22,
   "metadata": {
    "collapsed": false
   },
   "outputs": [
    {
     "data": {
      "text/plain": [
       "array([ 0,  1,  2,  3,  4,  5,  6,  7,  8,  9, 10, 11, 12, 13, 14, 15, 16,\n",
       "       17, 18, 19, 20, 21, 22, 23, 24])"
      ]
     },
     "execution_count": 22,
     "metadata": {},
     "output_type": "execute_result"
    }
   ],
   "source": [
    "import numpy as np\n",
    "y = np.arange(w.n)\n",
    "y"
   ]
  },
  {
   "cell_type": "code",
   "execution_count": 23,
   "metadata": {
    "collapsed": true
   },
   "outputs": [],
   "source": [
    "yl = ps.lag_spatial(w,y)"
   ]
  },
  {
   "cell_type": "code",
   "execution_count": 24,
   "metadata": {
    "collapsed": false
   },
   "outputs": [
    {
     "data": {
      "text/plain": [
       "array([  6.,   8.,  11.,  14.,  12.,  16.,  24.,  28.,  32.,  26.,  31.,\n",
       "        44.,  48.,  52.,  41.,  46.,  64.,  68.,  72.,  56.,  36.,  58.,\n",
       "        61.,  64.,  42.])"
      ]
     },
     "execution_count": 24,
     "metadata": {},
     "output_type": "execute_result"
    }
   ],
   "source": [
    "yl"
   ]
  },
  {
   "cell_type": "markdown",
   "metadata": {},
   "source": [
    "First, I should calculate if there is global spatial autocorrelation:"
   ]
  },
  {
   "cell_type": "code",
   "execution_count": 30,
   "metadata": {
    "collapsed": false
   },
   "outputs": [],
   "source": [
    "import geopandas as gpd\n",
    "import pandas as pd"
   ]
  },
  {
   "cell_type": "code",
   "execution_count": 70,
   "metadata": {
    "collapsed": false
   },
   "outputs": [
    {
     "data": {
      "text/html": [
       "<div>\n",
       "<table border=\"1\" class=\"dataframe\">\n",
       "  <thead>\n",
       "    <tr style=\"text-align: right;\">\n",
       "      <th></th>\n",
       "      <th>Unnamed: 0</th>\n",
       "      <th>ZIPCODE</th>\n",
       "      <th>complaints</th>\n",
       "      <th>household_income</th>\n",
       "      <th>violations_2014</th>\n",
       "      <th>POPULATION</th>\n",
       "      <th>edu_low_r</th>\n",
       "      <th>hh_with6_r</th>\n",
       "      <th>utility_gas_r</th>\n",
       "      <th>occupied_hu_own_r</th>\n",
       "      <th>built_before1980_r</th>\n",
       "      <th>married_r</th>\n",
       "      <th>female_pop_r</th>\n",
       "      <th>elder_pop_r</th>\n",
       "      <th>white_r</th>\n",
       "      <th>public_wifi_points</th>\n",
       "    </tr>\n",
       "  </thead>\n",
       "  <tbody>\n",
       "    <tr>\n",
       "      <th>0</th>\n",
       "      <td>0</td>\n",
       "      <td>11208.0</td>\n",
       "      <td>642</td>\n",
       "      <td>35698.0</td>\n",
       "      <td>67.0</td>\n",
       "      <td>94410.0</td>\n",
       "      <td>0.456</td>\n",
       "      <td>0.000580</td>\n",
       "      <td>0.853</td>\n",
       "      <td>0.246695</td>\n",
       "      <td>0.799</td>\n",
       "      <td>0.335</td>\n",
       "      <td>0.535318</td>\n",
       "      <td>0.000083</td>\n",
       "      <td>0.266093</td>\n",
       "      <td>4.0</td>\n",
       "    </tr>\n",
       "    <tr>\n",
       "      <th>1</th>\n",
       "      <td>1</td>\n",
       "      <td>11419.0</td>\n",
       "      <td>617</td>\n",
       "      <td>58266.0</td>\n",
       "      <td>73.0</td>\n",
       "      <td>47054.0</td>\n",
       "      <td>0.363</td>\n",
       "      <td>0.001416</td>\n",
       "      <td>0.842</td>\n",
       "      <td>0.553451</td>\n",
       "      <td>0.907</td>\n",
       "      <td>0.492</td>\n",
       "      <td>0.500284</td>\n",
       "      <td>0.000187</td>\n",
       "      <td>0.110392</td>\n",
       "      <td>6.0</td>\n",
       "    </tr>\n",
       "    <tr>\n",
       "      <th>2</th>\n",
       "      <td>2</td>\n",
       "      <td>11420.0</td>\n",
       "      <td>438</td>\n",
       "      <td>59660.0</td>\n",
       "      <td>49.0</td>\n",
       "      <td>44538.0</td>\n",
       "      <td>0.328</td>\n",
       "      <td>0.001277</td>\n",
       "      <td>0.831</td>\n",
       "      <td>0.664020</td>\n",
       "      <td>0.912</td>\n",
       "      <td>0.456</td>\n",
       "      <td>0.525108</td>\n",
       "      <td>0.000211</td>\n",
       "      <td>0.161118</td>\n",
       "      <td>1.0</td>\n",
       "    </tr>\n",
       "    <tr>\n",
       "      <th>3</th>\n",
       "      <td>3</td>\n",
       "      <td>11355.0</td>\n",
       "      <td>355</td>\n",
       "      <td>39168.0</td>\n",
       "      <td>99.0</td>\n",
       "      <td>82809.0</td>\n",
       "      <td>0.280</td>\n",
       "      <td>0.000910</td>\n",
       "      <td>0.722</td>\n",
       "      <td>0.317065</td>\n",
       "      <td>0.785</td>\n",
       "      <td>0.548</td>\n",
       "      <td>0.520039</td>\n",
       "      <td>0.000182</td>\n",
       "      <td>0.138797</td>\n",
       "      <td>10.0</td>\n",
       "    </tr>\n",
       "    <tr>\n",
       "      <th>4</th>\n",
       "      <td>4</td>\n",
       "      <td>11220.0</td>\n",
       "      <td>331</td>\n",
       "      <td>38893.0</td>\n",
       "      <td>60.0</td>\n",
       "      <td>97257.0</td>\n",
       "      <td>0.211</td>\n",
       "      <td>0.000759</td>\n",
       "      <td>0.804</td>\n",
       "      <td>0.230416</td>\n",
       "      <td>0.904</td>\n",
       "      <td>0.483</td>\n",
       "      <td>0.488160</td>\n",
       "      <td>0.000088</td>\n",
       "      <td>0.267989</td>\n",
       "      <td>6.0</td>\n",
       "    </tr>\n",
       "  </tbody>\n",
       "</table>\n",
       "</div>"
      ],
      "text/plain": [
       "   Unnamed: 0  ZIPCODE  complaints  household_income  violations_2014  \\\n",
       "0           0  11208.0         642           35698.0             67.0   \n",
       "1           1  11419.0         617           58266.0             73.0   \n",
       "2           2  11420.0         438           59660.0             49.0   \n",
       "3           3  11355.0         355           39168.0             99.0   \n",
       "4           4  11220.0         331           38893.0             60.0   \n",
       "\n",
       "   POPULATION  edu_low_r  hh_with6_r  utility_gas_r  occupied_hu_own_r  \\\n",
       "0     94410.0      0.456    0.000580          0.853           0.246695   \n",
       "1     47054.0      0.363    0.001416          0.842           0.553451   \n",
       "2     44538.0      0.328    0.001277          0.831           0.664020   \n",
       "3     82809.0      0.280    0.000910          0.722           0.317065   \n",
       "4     97257.0      0.211    0.000759          0.804           0.230416   \n",
       "\n",
       "   built_before1980_r  married_r  female_pop_r  elder_pop_r   white_r  \\\n",
       "0               0.799      0.335      0.535318     0.000083  0.266093   \n",
       "1               0.907      0.492      0.500284     0.000187  0.110392   \n",
       "2               0.912      0.456      0.525108     0.000211  0.161118   \n",
       "3               0.785      0.548      0.520039     0.000182  0.138797   \n",
       "4               0.904      0.483      0.488160     0.000088  0.267989   \n",
       "\n",
       "   public_wifi_points  \n",
       "0                 4.0  \n",
       "1                 6.0  \n",
       "2                 1.0  \n",
       "3                10.0  \n",
       "4                 6.0  "
      ]
     },
     "execution_count": 70,
     "metadata": {},
     "output_type": "execute_result"
    }
   ],
   "source": [
    "features = pd.read_csv('../data_processed/all_features')\n",
    "features.head()"
   ]
  },
  {
   "cell_type": "code",
   "execution_count": 79,
   "metadata": {
    "collapsed": false
   },
   "outputs": [],
   "source": [
    "zips = gpd.read_file('../data_initial/ZIP_CODE_040114.shp')"
   ]
  },
  {
   "cell_type": "code",
   "execution_count": 80,
   "metadata": {
    "collapsed": false
   },
   "outputs": [],
   "source": [
    "zips = zips.iloc[:,(11,12)]\n",
    "zips['ZIPCODE'] = zips['ZIPCODE'].astype(float)\n",
    "geodf = pd.merge(zips, features, left_on='ZIPCODE', right_on='ZIPCODE', how='right')\n",
    "geodf = geodf.drop('Unnamed: 0',axis=1)"
   ]
  },
  {
   "cell_type": "code",
   "execution_count": 81,
   "metadata": {
    "collapsed": false
   },
   "outputs": [
    {
     "data": {
      "text/html": [
       "<div>\n",
       "<table border=\"1\" class=\"dataframe\">\n",
       "  <thead>\n",
       "    <tr style=\"text-align: right;\">\n",
       "      <th></th>\n",
       "      <th>ZIPCODE</th>\n",
       "      <th>geometry</th>\n",
       "      <th>complaints</th>\n",
       "      <th>household_income</th>\n",
       "      <th>violations_2014</th>\n",
       "      <th>POPULATION</th>\n",
       "      <th>edu_low_r</th>\n",
       "      <th>hh_with6_r</th>\n",
       "      <th>utility_gas_r</th>\n",
       "      <th>occupied_hu_own_r</th>\n",
       "      <th>built_before1980_r</th>\n",
       "      <th>married_r</th>\n",
       "      <th>female_pop_r</th>\n",
       "      <th>elder_pop_r</th>\n",
       "      <th>white_r</th>\n",
       "      <th>public_wifi_points</th>\n",
       "    </tr>\n",
       "  </thead>\n",
       "  <tbody>\n",
       "    <tr>\n",
       "      <th>0</th>\n",
       "      <td>11436.0</td>\n",
       "      <td>POLYGON ((1038098.251871482 188138.3800067157,...</td>\n",
       "      <td>115</td>\n",
       "      <td>64005.0</td>\n",
       "      <td>30.0</td>\n",
       "      <td>18681.0</td>\n",
       "      <td>0.357</td>\n",
       "      <td>0.002915</td>\n",
       "      <td>0.814</td>\n",
       "      <td>0.679685</td>\n",
       "      <td>0.857</td>\n",
       "      <td>0.375</td>\n",
       "      <td>0.510064</td>\n",
       "      <td>0.000587</td>\n",
       "      <td>0.062445</td>\n",
       "      <td>4.0</td>\n",
       "    </tr>\n",
       "    <tr>\n",
       "      <th>1</th>\n",
       "      <td>11213.0</td>\n",
       "      <td>POLYGON ((1001613.712964058 186926.4395172149,...</td>\n",
       "      <td>113</td>\n",
       "      <td>34701.0</td>\n",
       "      <td>23.0</td>\n",
       "      <td>62426.0</td>\n",
       "      <td>0.310</td>\n",
       "      <td>0.000857</td>\n",
       "      <td>0.781</td>\n",
       "      <td>0.138642</td>\n",
       "      <td>0.897</td>\n",
       "      <td>0.300</td>\n",
       "      <td>0.545362</td>\n",
       "      <td>0.000170</td>\n",
       "      <td>0.199464</td>\n",
       "      <td>15.0</td>\n",
       "    </tr>\n",
       "    <tr>\n",
       "      <th>2</th>\n",
       "      <td>11212.0</td>\n",
       "      <td>POLYGON ((1011174.275535807 183696.33770971, 1...</td>\n",
       "      <td>197</td>\n",
       "      <td>28207.0</td>\n",
       "      <td>56.0</td>\n",
       "      <td>83866.0</td>\n",
       "      <td>0.366</td>\n",
       "      <td>0.000681</td>\n",
       "      <td>0.801</td>\n",
       "      <td>0.148904</td>\n",
       "      <td>0.851</td>\n",
       "      <td>0.244</td>\n",
       "      <td>0.577638</td>\n",
       "      <td>0.000130</td>\n",
       "      <td>0.049409</td>\n",
       "      <td>12.0</td>\n",
       "    </tr>\n",
       "    <tr>\n",
       "      <th>3</th>\n",
       "      <td>11225.0</td>\n",
       "      <td>POLYGON ((995908.3654508889 183617.6128015518,...</td>\n",
       "      <td>88</td>\n",
       "      <td>44911.0</td>\n",
       "      <td>20.0</td>\n",
       "      <td>56527.0</td>\n",
       "      <td>0.252</td>\n",
       "      <td>0.000990</td>\n",
       "      <td>0.648</td>\n",
       "      <td>0.141486</td>\n",
       "      <td>0.953</td>\n",
       "      <td>0.311</td>\n",
       "      <td>0.544500</td>\n",
       "      <td>0.000189</td>\n",
       "      <td>0.208109</td>\n",
       "      <td>7.0</td>\n",
       "    </tr>\n",
       "    <tr>\n",
       "      <th>4</th>\n",
       "      <td>11218.0</td>\n",
       "      <td>POLYGON ((991997.1134308875 176307.4958601296,...</td>\n",
       "      <td>135</td>\n",
       "      <td>56120.0</td>\n",
       "      <td>17.0</td>\n",
       "      <td>72280.0</td>\n",
       "      <td>0.212</td>\n",
       "      <td>0.001104</td>\n",
       "      <td>0.674</td>\n",
       "      <td>0.333614</td>\n",
       "      <td>0.927</td>\n",
       "      <td>0.493</td>\n",
       "      <td>0.507498</td>\n",
       "      <td>0.000137</td>\n",
       "      <td>0.572750</td>\n",
       "      <td>4.0</td>\n",
       "    </tr>\n",
       "  </tbody>\n",
       "</table>\n",
       "</div>"
      ],
      "text/plain": [
       "   ZIPCODE                                           geometry  complaints  \\\n",
       "0  11436.0  POLYGON ((1038098.251871482 188138.3800067157,...         115   \n",
       "1  11213.0  POLYGON ((1001613.712964058 186926.4395172149,...         113   \n",
       "2  11212.0  POLYGON ((1011174.275535807 183696.33770971, 1...         197   \n",
       "3  11225.0  POLYGON ((995908.3654508889 183617.6128015518,...          88   \n",
       "4  11218.0  POLYGON ((991997.1134308875 176307.4958601296,...         135   \n",
       "\n",
       "   household_income  violations_2014  POPULATION  edu_low_r  hh_with6_r  \\\n",
       "0           64005.0             30.0     18681.0      0.357    0.002915   \n",
       "1           34701.0             23.0     62426.0      0.310    0.000857   \n",
       "2           28207.0             56.0     83866.0      0.366    0.000681   \n",
       "3           44911.0             20.0     56527.0      0.252    0.000990   \n",
       "4           56120.0             17.0     72280.0      0.212    0.001104   \n",
       "\n",
       "   utility_gas_r  occupied_hu_own_r  built_before1980_r  married_r  \\\n",
       "0          0.814           0.679685               0.857      0.375   \n",
       "1          0.781           0.138642               0.897      0.300   \n",
       "2          0.801           0.148904               0.851      0.244   \n",
       "3          0.648           0.141486               0.953      0.311   \n",
       "4          0.674           0.333614               0.927      0.493   \n",
       "\n",
       "   female_pop_r  elder_pop_r   white_r  public_wifi_points  \n",
       "0      0.510064     0.000587  0.062445                 4.0  \n",
       "1      0.545362     0.000170  0.199464                15.0  \n",
       "2      0.577638     0.000130  0.049409                12.0  \n",
       "3      0.544500     0.000189  0.208109                 7.0  \n",
       "4      0.507498     0.000137  0.572750                 4.0  "
      ]
     },
     "execution_count": 81,
     "metadata": {},
     "output_type": "execute_result"
    }
   ],
   "source": [
    "geodf.head()"
   ]
  },
  {
   "cell_type": "code",
   "execution_count": 98,
   "metadata": {
    "collapsed": false
   },
   "outputs": [],
   "source": [
    "#path = 'test.shp'\n",
    "test = geodf.to_file('../data_processed/test.shp', driver='ESRI Shapefile')"
   ]
  },
  {
   "cell_type": "code",
   "execution_count": 99,
   "metadata": {
    "collapsed": false
   },
   "outputs": [
    {
     "name": "stdout",
     "output_type": "stream",
     "text": [
      "WARNING: there are 10 disconnected observations\n",
      "('Island ids: ', [18, 19, 50, 84, 91, 92, 105, 117, 118, 120])\n"
     ]
    }
   ],
   "source": [
    "queen = ps.queen_from_shapefile('../data_processed/test.shp')"
   ]
  },
  {
   "cell_type": "code",
   "execution_count": null,
   "metadata": {
    "collapsed": true
   },
   "outputs": [],
   "source": []
  }
 ],
 "metadata": {
  "kernelspec": {
   "display_name": "Python 2",
   "language": "python",
   "name": "python2"
  },
  "language_info": {
   "codemirror_mode": {
    "name": "ipython",
    "version": 2
   },
   "file_extension": ".py",
   "mimetype": "text/x-python",
   "name": "python",
   "nbconvert_exporter": "python",
   "pygments_lexer": "ipython2",
   "version": "2.7.12"
  }
 },
 "nbformat": 4,
 "nbformat_minor": 1
}
