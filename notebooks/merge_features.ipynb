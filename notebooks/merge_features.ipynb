{
 "cells": [
  {
   "cell_type": "code",
   "execution_count": 2,
   "metadata": {
    "collapsed": true
   },
   "outputs": [],
   "source": [
    "import pandas as pd"
   ]
  },
  {
   "cell_type": "code",
   "execution_count": 3,
   "metadata": {
    "collapsed": true
   },
   "outputs": [],
   "source": [
    "employment = pd.read_csv('../data_processed/2015_acs_employment')\n",
    "language = pd.read_csv('../data_processed/2015_acs_language')\n",
    "income = pd.read_csv('../data_processed/2015_acs_income')\n",
    "violations = pd.read_csv('../data_processed/violations_complaints_ratio')"
   ]
  },
  {
   "cell_type": "code",
   "execution_count": 14,
   "metadata": {
    "collapsed": false
   },
   "outputs": [],
   "source": [
    "features = [employment, language, income, violations]\n",
    "names = ['employment', 'language', 'income', 'violations']\n",
    "for elem in features:\n",
    "    elem = elem.drop('Unnamed: 0', axis=1)"
   ]
  },
  {
   "cell_type": "code",
   "execution_count": 15,
   "metadata": {
    "collapsed": false
   },
   "outputs": [
    {
     "data": {
      "text/html": [
       "<div>\n",
       "<table border=\"1\" class=\"dataframe\">\n",
       "  <thead>\n",
       "    <tr style=\"text-align: right;\">\n",
       "      <th></th>\n",
       "      <th>Unnamed: 0</th>\n",
       "      <th>Zip Code</th>\n",
       "      <th>Employment/Pop Ratio for Pop &gt; 16 Years(%)</th>\n",
       "      <th>Unemployment Rate for Pop &gt; 16 Years (%)</th>\n",
       "    </tr>\n",
       "  </thead>\n",
       "  <tbody>\n",
       "    <tr>\n",
       "      <th>0</th>\n",
       "      <td>0</td>\n",
       "      <td>6390</td>\n",
       "      <td>65.6</td>\n",
       "      <td>9.8</td>\n",
       "    </tr>\n",
       "    <tr>\n",
       "      <th>1</th>\n",
       "      <td>1</td>\n",
       "      <td>10001</td>\n",
       "      <td>64.7</td>\n",
       "      <td>8.4</td>\n",
       "    </tr>\n",
       "    <tr>\n",
       "      <th>2</th>\n",
       "      <td>2</td>\n",
       "      <td>10002</td>\n",
       "      <td>51.0</td>\n",
       "      <td>8.9</td>\n",
       "    </tr>\n",
       "    <tr>\n",
       "      <th>3</th>\n",
       "      <td>3</td>\n",
       "      <td>10003</td>\n",
       "      <td>63.5</td>\n",
       "      <td>6.1</td>\n",
       "    </tr>\n",
       "    <tr>\n",
       "      <th>4</th>\n",
       "      <td>4</td>\n",
       "      <td>10004</td>\n",
       "      <td>79.3</td>\n",
       "      <td>6.1</td>\n",
       "    </tr>\n",
       "  </tbody>\n",
       "</table>\n",
       "</div>"
      ],
      "text/plain": [
       "   Unnamed: 0  Zip Code Employment/Pop Ratio for Pop > 16 Years(%)  \\\n",
       "0           0      6390                                       65.6   \n",
       "1           1     10001                                       64.7   \n",
       "2           2     10002                                       51.0   \n",
       "3           3     10003                                       63.5   \n",
       "4           4     10004                                       79.3   \n",
       "\n",
       "  Unemployment Rate for Pop > 16 Years (%)  \n",
       "0                                      9.8  \n",
       "1                                      8.4  \n",
       "2                                      8.9  \n",
       "3                                      6.1  \n",
       "4                                      6.1  "
      ]
     },
     "execution_count": 15,
     "metadata": {},
     "output_type": "execute_result"
    }
   ],
   "source": [
    "employment.head()"
   ]
  },
  {
   "cell_type": "code",
   "execution_count": 28,
   "metadata": {
    "collapsed": false
   },
   "outputs": [
    {
     "name": "stdout",
     "output_type": "stream",
     "text": [
      "Zip Code                                      0\n",
      "Employment/Pop Ratio for Pop > 16 Years(%)    0\n",
      "Unemployment Rate for Pop > 16 Years (%)      0\n",
      "dtype: int64\n",
      "Length of DF: 1794\n",
      "\n",
      "\n",
      "Zip Code                                                                                       0\n",
      "Percentage of Pop > 5 Years Who Don't Speak English at Home and Speak English < 'Very Well'    0\n",
      "dtype: int64\n",
      "Length of DF: 1794\n",
      "\n",
      "\n",
      "Zip Code                        0\n",
      "2015 Median Household Income    0\n",
      "dtype: int64\n",
      "Length of DF: 1746\n",
      "\n",
      "\n",
      "Count of Illegal Resident Conversion Violations    0\n",
      "Incident Zip                                       0\n",
      "Count of Complaints                                0\n",
      "viol_comp_ratio                                    0\n",
      "dtype: int64\n",
      "Length of DF: 176\n",
      "\n",
      "\n"
     ]
    }
   ],
   "source": [
    "for elem in features:\n",
    "    #print('Length of ' + names(i).upper() + ' DF: ' + str(len(elem)))\n",
    "    elem = elem.iloc[:,1:]\n",
    "    print(elem.isnull().sum())\n",
    "    print('Length of DF: ' + str(len(elem)))\n",
    "    print('\\n')"
   ]
  },
  {
   "cell_type": "code",
   "execution_count": 30,
   "metadata": {
    "collapsed": false
   },
   "outputs": [],
   "source": [
    "merged_features = pd.merge(employment, language, on='Zip Code', how='outer')"
   ]
  },
  {
   "cell_type": "code",
   "execution_count": 31,
   "metadata": {
    "collapsed": false
   },
   "outputs": [],
   "source": [
    "merged_features = pd.merge(merged_features, income, on='Zip Code', how='left')"
   ]
  },
  {
   "cell_type": "code",
   "execution_count": 32,
   "metadata": {
    "collapsed": true
   },
   "outputs": [],
   "source": [
    "merged_features = pd.merge(merged_features, violations, left_on='Zip Code', right_on='Incident Zip', how='outer')"
   ]
  },
  {
   "cell_type": "code",
   "execution_count": 33,
   "metadata": {
    "collapsed": false
   },
   "outputs": [
    {
     "data": {
      "text/plain": [
       "Index([u'Unnamed: 0_x', u'Zip Code',\n",
       "       u'Employment/Pop Ratio for Pop > 16 Years(%)',\n",
       "       u'Unemployment Rate for Pop > 16 Years (%)', u'Unnamed: 0_y',\n",
       "       u'Percentage of Pop > 5 Years Who Don't Speak English at Home and Speak English < 'Very Well'',\n",
       "       u'Unnamed: 0_x', u'2015 Median Household Income', u'Unnamed: 0_y',\n",
       "       u'Count of Illegal Resident Conversion Violations', u'Incident Zip',\n",
       "       u'Count of Complaints', u'viol_comp_ratio'],\n",
       "      dtype='object')"
      ]
     },
     "execution_count": 33,
     "metadata": {},
     "output_type": "execute_result"
    }
   ],
   "source": [
    "merged_features.columns"
   ]
  },
  {
   "cell_type": "code",
   "execution_count": 34,
   "metadata": {
    "collapsed": false
   },
   "outputs": [
    {
     "data": {
      "text/plain": [
       "Unnamed: 0_x                                                                                      1\n",
       "Zip Code                                                                                          1\n",
       "Employment/Pop Ratio for Pop > 16 Years(%)                                                        1\n",
       "Unemployment Rate for Pop > 16 Years (%)                                                          1\n",
       "Unnamed: 0_y                                                                                      1\n",
       "Percentage of Pop > 5 Years Who Don't Speak English at Home and Speak English < 'Very Well'       1\n",
       "Unnamed: 0_x                                                                                     49\n",
       "2015 Median Household Income                                                                     49\n",
       "Unnamed: 0_y                                                                                   1619\n",
       "Count of Illegal Resident Conversion Violations                                                1619\n",
       "Incident Zip                                                                                   1619\n",
       "Count of Complaints                                                                            1619\n",
       "viol_comp_ratio                                                                                1619\n",
       "dtype: int64"
      ]
     },
     "execution_count": 34,
     "metadata": {},
     "output_type": "execute_result"
    }
   ],
   "source": [
    "merged_features.isnull().sum()"
   ]
  },
  {
   "cell_type": "code",
   "execution_count": 35,
   "metadata": {
    "collapsed": true
   },
   "outputs": [],
   "source": [
    "merged_features = merged_features.drop(['Unnamed: 0_x', 'Unnamed: 0_y', 'Unnamed: 0', 'Employment/Pop Ratio for Pop > 16 Years(%)', 'viol_comp_ratio', 'Incident Zip', 'Count of Complaints'], axis=1)"
   ]
  },
  {
   "cell_type": "code",
   "execution_count": 36,
   "metadata": {
    "collapsed": false
   },
   "outputs": [
    {
     "name": "stdout",
     "output_type": "stream",
     "text": [
      "Length of Merged Features DF: 1795\n",
      "Zip Code                                                                                          1\n",
      "Unemployment Rate for Pop > 16 Years (%)                                                          1\n",
      "Percentage of Pop > 5 Years Who Don't Speak English at Home and Speak English < 'Very Well'       1\n",
      "2015 Median Household Income                                                                     49\n",
      "Count of Illegal Resident Conversion Violations                                                1619\n",
      "dtype: int64\n"
     ]
    }
   ],
   "source": [
    "print(\"Length of Merged Features DF: \" + str(len(merged_features)))\n",
    "print(merged_features.isnull().sum())"
   ]
  },
  {
   "cell_type": "code",
   "execution_count": 37,
   "metadata": {
    "collapsed": false
   },
   "outputs": [
    {
     "data": {
      "text/html": [
       "<div>\n",
       "<table border=\"1\" class=\"dataframe\">\n",
       "  <thead>\n",
       "    <tr style=\"text-align: right;\">\n",
       "      <th></th>\n",
       "      <th>Zip Code</th>\n",
       "      <th>Unemployment Rate for Pop &gt; 16 Years (%)</th>\n",
       "      <th>Percentage of Pop &gt; 5 Years Who Don't Speak English at Home and Speak English &lt; 'Very Well'</th>\n",
       "      <th>2015 Median Household Income</th>\n",
       "      <th>Count of Illegal Resident Conversion Violations</th>\n",
       "    </tr>\n",
       "  </thead>\n",
       "  <tbody>\n",
       "    <tr>\n",
       "      <th>0</th>\n",
       "      <td>6390.0</td>\n",
       "      <td>9.8</td>\n",
       "      <td>0.0</td>\n",
       "      <td>151083</td>\n",
       "      <td>NaN</td>\n",
       "    </tr>\n",
       "    <tr>\n",
       "      <th>1</th>\n",
       "      <td>10001.0</td>\n",
       "      <td>8.4</td>\n",
       "      <td>11.0</td>\n",
       "      <td>86801</td>\n",
       "      <td>0.0</td>\n",
       "    </tr>\n",
       "    <tr>\n",
       "      <th>2</th>\n",
       "      <td>10002.0</td>\n",
       "      <td>8.9</td>\n",
       "      <td>37.4</td>\n",
       "      <td>33726</td>\n",
       "      <td>2.0</td>\n",
       "    </tr>\n",
       "    <tr>\n",
       "      <th>3</th>\n",
       "      <td>10003.0</td>\n",
       "      <td>6.1</td>\n",
       "      <td>4.9</td>\n",
       "      <td>98151</td>\n",
       "      <td>3.0</td>\n",
       "    </tr>\n",
       "    <tr>\n",
       "      <th>4</th>\n",
       "      <td>10004.0</td>\n",
       "      <td>6.1</td>\n",
       "      <td>2.6</td>\n",
       "      <td>119691</td>\n",
       "      <td>0.0</td>\n",
       "    </tr>\n",
       "  </tbody>\n",
       "</table>\n",
       "</div>"
      ],
      "text/plain": [
       "   Zip Code Unemployment Rate for Pop > 16 Years (%)  \\\n",
       "0    6390.0                                      9.8   \n",
       "1   10001.0                                      8.4   \n",
       "2   10002.0                                      8.9   \n",
       "3   10003.0                                      6.1   \n",
       "4   10004.0                                      6.1   \n",
       "\n",
       "  Percentage of Pop > 5 Years Who Don't Speak English at Home and Speak English < 'Very Well'  \\\n",
       "0                                                0.0                                            \n",
       "1                                               11.0                                            \n",
       "2                                               37.4                                            \n",
       "3                                                4.9                                            \n",
       "4                                                2.6                                            \n",
       "\n",
       "  2015 Median Household Income  \\\n",
       "0                       151083   \n",
       "1                        86801   \n",
       "2                        33726   \n",
       "3                        98151   \n",
       "4                       119691   \n",
       "\n",
       "   Count of Illegal Resident Conversion Violations  \n",
       "0                                              NaN  \n",
       "1                                              0.0  \n",
       "2                                              2.0  \n",
       "3                                              3.0  \n",
       "4                                              0.0  "
      ]
     },
     "execution_count": 37,
     "metadata": {},
     "output_type": "execute_result"
    }
   ],
   "source": [
    "merged_features.head()"
   ]
  },
  {
   "cell_type": "code",
   "execution_count": 38,
   "metadata": {
    "collapsed": true
   },
   "outputs": [],
   "source": [
    "merged_features.to_csv('../data_processed/acs_merged_features')"
   ]
  }
 ],
 "metadata": {
  "kernelspec": {
   "display_name": "Python 2",
   "language": "python",
   "name": "python2"
  },
  "language_info": {
   "codemirror_mode": {
    "name": "ipython",
    "version": 2
   },
   "file_extension": ".py",
   "mimetype": "text/x-python",
   "name": "python",
   "nbconvert_exporter": "python",
   "pygments_lexer": "ipython2",
   "version": "2.7.12"
  }
 },
 "nbformat": 4,
 "nbformat_minor": 1
}
