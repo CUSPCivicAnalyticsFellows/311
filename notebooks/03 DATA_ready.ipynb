{
 "cells": [
  {
   "cell_type": "code",
   "execution_count": 1,
   "metadata": {
    "collapsed": false
   },
   "outputs": [
    {
     "name": "stdout",
     "output_type": "stream",
     "text": [
      "Populating the interactive namespace from numpy and matplotlib\n"
     ]
    },
    {
     "name": "stderr",
     "output_type": "stream",
     "text": [
      "/Users/bh1555/anaconda/lib/python2.7/site-packages/sklearn/cross_validation.py:44: DeprecationWarning: This module was deprecated in version 0.18 in favor of the model_selection module into which all the refactored classes and functions are moved. Also note that the interface of the new CV iterators are different from that of this module. This module will be removed in 0.20.\n",
      "  \"This module will be removed in 0.20.\", DeprecationWarning)\n"
     ]
    }
   ],
   "source": [
    "#Data Management\n",
    "import numpy as np\n",
    "import pandas as pd\n",
    "from sklearn.preprocessing import StandardScaler\n",
    "import geopandas as gpd\n",
    "\n",
    "#Data visualization\n",
    "import pylab as pl\n",
    "%pylab inline\n",
    "\n",
    "#Feature selection\n",
    "from scipy import stats\n",
    "from sklearn import cross_validation\n",
    "import statsmodels.formula.api as smf"
   ]
  },
  {
   "cell_type": "markdown",
   "metadata": {},
   "source": [
    "# Heat/hot water complaints and Class C violations\n",
    "* weekly\n",
    "* CBG level\n",
    "* 2014-2016"
   ]
  },
  {
   "cell_type": "code",
   "execution_count": 2,
   "metadata": {
    "collapsed": false
   },
   "outputs": [],
   "source": [
    "comvio = pd.read_csv('../data/output/00JOIN_COM_VIO_CBG_WEEK.csv', dtype = {'CBG': str},\n",
    "                    parse_dates = ['Date'])\n",
    "comvio = comvio.drop(['Unnamed: 0'], axis = 1)\n",
    "comvio['year'] = comvio['Date'].dt.year"
   ]
  },
  {
   "cell_type": "code",
   "execution_count": 3,
   "metadata": {
    "collapsed": false
   },
   "outputs": [
    {
     "data": {
      "text/html": [
       "<div>\n",
       "<table border=\"1\" class=\"dataframe\">\n",
       "  <thead>\n",
       "    <tr style=\"text-align: right;\">\n",
       "      <th></th>\n",
       "      <th>CBG</th>\n",
       "      <th>com_count</th>\n",
       "      <th>Date</th>\n",
       "      <th>vio_count</th>\n",
       "      <th>year</th>\n",
       "    </tr>\n",
       "  </thead>\n",
       "  <tbody>\n",
       "    <tr>\n",
       "      <th>0</th>\n",
       "      <td>360050001001</td>\n",
       "      <td>0.0</td>\n",
       "      <td>2014-03-17</td>\n",
       "      <td>0.0</td>\n",
       "      <td>2014</td>\n",
       "    </tr>\n",
       "    <tr>\n",
       "      <th>1</th>\n",
       "      <td>360050002001</td>\n",
       "      <td>0.0</td>\n",
       "      <td>2014-03-17</td>\n",
       "      <td>0.0</td>\n",
       "      <td>2014</td>\n",
       "    </tr>\n",
       "  </tbody>\n",
       "</table>\n",
       "</div>"
      ],
      "text/plain": [
       "            CBG  com_count       Date  vio_count  year\n",
       "0  360050001001        0.0 2014-03-17        0.0  2014\n",
       "1  360050002001        0.0 2014-03-17        0.0  2014"
      ]
     },
     "execution_count": 3,
     "metadata": {},
     "output_type": "execute_result"
    }
   ],
   "source": [
    "comvio.head(2)"
   ]
  },
  {
   "cell_type": "code",
   "execution_count": 4,
   "metadata": {
    "collapsed": false
   },
   "outputs": [
    {
     "data": {
      "text/plain": [
       "CBG                  object\n",
       "com_count           float64\n",
       "Date         datetime64[ns]\n",
       "vio_count           float64\n",
       "year                  int64\n",
       "dtype: object"
      ]
     },
     "execution_count": 4,
     "metadata": {},
     "output_type": "execute_result"
    }
   ],
   "source": [
    "comvio.dtypes"
   ]
  },
  {
   "cell_type": "markdown",
   "metadata": {},
   "source": [
    "# Demographic variables\n",
    "* ACS"
   ]
  },
  {
   "cell_type": "code",
   "execution_count": 5,
   "metadata": {
    "collapsed": true
   },
   "outputs": [],
   "source": [
    "demo_2014 = pd.read_csv('../data/output/00VAR_Demographic_ACS_CBG_2014.csv', dtype = {'Id2': str})\n",
    "demo_2015 = pd.read_csv('../data/output/00VAR_Demographic_ACS_CBG_2015.csv', dtype = {'Id2': str})\n",
    "demo_2014['CBG'] = demo_2014['Id2']\n",
    "demo_2015['CBG'] = demo_2015['Id2']\n",
    "demo_2014 = demo_2014.drop(['Unnamed: 0', 'Id2'], axis = 1)\n",
    "demo_2015 = demo_2015.drop(['Unnamed: 0', 'Id2'], axis = 1)\n",
    "demo_2016 = demo_2015\n",
    "demo_2016['year'] = 2016"
   ]
  },
  {
   "cell_type": "code",
   "execution_count": 6,
   "metadata": {
    "collapsed": true
   },
   "outputs": [],
   "source": [
    "frames = [demo_2014, demo_2015, demo_2016]\n",
    "demo = pd.concat(frames)\n",
    "demo = demo.fillna(0)\n",
    "demo = demo.replace(np.inf, 0)\n",
    "demo = demo.replace(-np.inf, 0)"
   ]
  },
  {
   "cell_type": "code",
   "execution_count": 7,
   "metadata": {
    "collapsed": false
   },
   "outputs": [
    {
     "data": {
      "text/html": [
       "<div>\n",
       "<table border=\"1\" class=\"dataframe\">\n",
       "  <thead>\n",
       "    <tr style=\"text-align: right;\">\n",
       "      <th></th>\n",
       "      <th>pop</th>\n",
       "      <th>female_r</th>\n",
       "      <th>elderly_r</th>\n",
       "      <th>white_r</th>\n",
       "      <th>black_r</th>\n",
       "      <th>asian_r</th>\n",
       "      <th>hh</th>\n",
       "      <th>hh_child_6_r</th>\n",
       "      <th>hh_living_alone_r</th>\n",
       "      <th>edu_high_r</th>\n",
       "      <th>non_eng_r</th>\n",
       "      <th>unemployed_r</th>\n",
       "      <th>vacancy_r</th>\n",
       "      <th>med_rent</th>\n",
       "      <th>med_income</th>\n",
       "      <th>merried_r</th>\n",
       "      <th>longercommute_r</th>\n",
       "      <th>year</th>\n",
       "      <th>CBG</th>\n",
       "    </tr>\n",
       "  </thead>\n",
       "  <tbody>\n",
       "    <tr>\n",
       "      <th>0</th>\n",
       "      <td>1158.0</td>\n",
       "      <td>0.613990</td>\n",
       "      <td>0.076857</td>\n",
       "      <td>0.290155</td>\n",
       "      <td>0.489637</td>\n",
       "      <td>0.016408</td>\n",
       "      <td>240.0</td>\n",
       "      <td>0.000000</td>\n",
       "      <td>0.311404</td>\n",
       "      <td>0.185526</td>\n",
       "      <td>0.08114</td>\n",
       "      <td>0.105618</td>\n",
       "      <td>0.142857</td>\n",
       "      <td>615.0</td>\n",
       "      <td>40781.0</td>\n",
       "      <td>0.282022</td>\n",
       "      <td>0.254860</td>\n",
       "      <td>2014</td>\n",
       "      <td>360010001001</td>\n",
       "    </tr>\n",
       "    <tr>\n",
       "      <th>1</th>\n",
       "      <td>1043.0</td>\n",
       "      <td>0.566635</td>\n",
       "      <td>0.085331</td>\n",
       "      <td>0.380633</td>\n",
       "      <td>0.543624</td>\n",
       "      <td>0.027804</td>\n",
       "      <td>332.0</td>\n",
       "      <td>0.313253</td>\n",
       "      <td>0.284916</td>\n",
       "      <td>0.102941</td>\n",
       "      <td>0.00000</td>\n",
       "      <td>0.078189</td>\n",
       "      <td>0.191874</td>\n",
       "      <td>659.0</td>\n",
       "      <td>28700.0</td>\n",
       "      <td>0.363755</td>\n",
       "      <td>0.088608</td>\n",
       "      <td>2014</td>\n",
       "      <td>360010001002</td>\n",
       "    </tr>\n",
       "  </tbody>\n",
       "</table>\n",
       "</div>"
      ],
      "text/plain": [
       "      pop  female_r  elderly_r   white_r   black_r   asian_r     hh  \\\n",
       "0  1158.0  0.613990   0.076857  0.290155  0.489637  0.016408  240.0   \n",
       "1  1043.0  0.566635   0.085331  0.380633  0.543624  0.027804  332.0   \n",
       "\n",
       "   hh_child_6_r  hh_living_alone_r  edu_high_r  non_eng_r  unemployed_r  \\\n",
       "0      0.000000           0.311404    0.185526    0.08114      0.105618   \n",
       "1      0.313253           0.284916    0.102941    0.00000      0.078189   \n",
       "\n",
       "   vacancy_r  med_rent  med_income  merried_r  longercommute_r  year  \\\n",
       "0   0.142857     615.0     40781.0   0.282022         0.254860  2014   \n",
       "1   0.191874     659.0     28700.0   0.363755         0.088608  2014   \n",
       "\n",
       "            CBG  \n",
       "0  360010001001  \n",
       "1  360010001002  "
      ]
     },
     "execution_count": 7,
     "metadata": {},
     "output_type": "execute_result"
    }
   ],
   "source": [
    "demo.head(2)"
   ]
  },
  {
   "cell_type": "code",
   "execution_count": 8,
   "metadata": {
    "collapsed": false
   },
   "outputs": [
    {
     "name": "stdout",
     "output_type": "stream",
     "text": [
      "15463\n",
      "15463\n",
      "15463\n",
      "46389\n",
      "46389\n"
     ]
    }
   ],
   "source": [
    "print len(demo_2016)\n",
    "print len(demo_2016)\n",
    "print len(demo_2016)\n",
    "print len(demo_2014) + len(demo_2015) + len(demo_2016)\n",
    "print len(demo)"
   ]
  },
  {
   "cell_type": "markdown",
   "metadata": {},
   "source": [
    "# Physical condition variables\n",
    "* ACS"
   ]
  },
  {
   "cell_type": "code",
   "execution_count": 9,
   "metadata": {
    "collapsed": true
   },
   "outputs": [],
   "source": [
    "phys_2014 = pd.read_csv('../data/output/phys_cond_14.csv', dtype = {'Id2': str})"
   ]
  },
  {
   "cell_type": "code",
   "execution_count": 13,
   "metadata": {
    "collapsed": false
   },
   "outputs": [
    {
     "data": {
      "text/html": [
       "<div>\n",
       "<table border=\"1\" class=\"dataframe\">\n",
       "  <thead>\n",
       "    <tr style=\"text-align: right;\">\n",
       "      <th></th>\n",
       "      <th>Unnamed: 0</th>\n",
       "      <th>Id2</th>\n",
       "      <th>gas_utility_r</th>\n",
       "      <th>Geography</th>\n",
       "      <th>ownership_r</th>\n",
       "      <th>avg_bldng_age</th>\n",
       "    </tr>\n",
       "  </thead>\n",
       "  <tbody>\n",
       "    <tr>\n",
       "      <th>0</th>\n",
       "      <td>0</td>\n",
       "      <td>360050001000</td>\n",
       "      <td>NaN</td>\n",
       "      <td>Block Group 0, Census Tract 1, Bronx County, N...</td>\n",
       "      <td>NaN</td>\n",
       "      <td>NaN</td>\n",
       "    </tr>\n",
       "    <tr>\n",
       "      <th>1</th>\n",
       "      <td>1</td>\n",
       "      <td>360050001001</td>\n",
       "      <td>NaN</td>\n",
       "      <td>Block Group 1, Census Tract 1, Bronx County, N...</td>\n",
       "      <td>NaN</td>\n",
       "      <td>NaN</td>\n",
       "    </tr>\n",
       "  </tbody>\n",
       "</table>\n",
       "</div>"
      ],
      "text/plain": [
       "   Unnamed: 0           Id2  gas_utility_r  \\\n",
       "0           0  360050001000            NaN   \n",
       "1           1  360050001001            NaN   \n",
       "\n",
       "                                           Geography  ownership_r  \\\n",
       "0  Block Group 0, Census Tract 1, Bronx County, N...          NaN   \n",
       "1  Block Group 1, Census Tract 1, Bronx County, N...          NaN   \n",
       "\n",
       "   avg_bldng_age  \n",
       "0            NaN  \n",
       "1            NaN  "
      ]
     },
     "execution_count": 13,
     "metadata": {},
     "output_type": "execute_result"
    }
   ],
   "source": [
    "phys_2014 = phys_2014.rename(columns = {'utility_gas_r': 'gas_utility_r', 'homeowner_r': 'ownership_r'})\n",
    "phys_2014.head(2)"
   ]
  },
  {
   "cell_type": "code",
   "execution_count": 11,
   "metadata": {
    "collapsed": true
   },
   "outputs": [],
   "source": [
    "phys_2015 = pd.read_csv('../data/output/phys_cond_15.csv', dtype = {'Id2': str})"
   ]
  },
  {
   "cell_type": "code",
   "execution_count": 12,
   "metadata": {
    "collapsed": false
   },
   "outputs": [
    {
     "data": {
      "text/html": [
       "<div>\n",
       "<table border=\"1\" class=\"dataframe\">\n",
       "  <thead>\n",
       "    <tr style=\"text-align: right;\">\n",
       "      <th></th>\n",
       "      <th>Unnamed: 0</th>\n",
       "      <th>Id2</th>\n",
       "      <th>Geography</th>\n",
       "      <th>gas_utility_r</th>\n",
       "      <th>avg_bldng_age</th>\n",
       "      <th>ownership_r</th>\n",
       "    </tr>\n",
       "  </thead>\n",
       "  <tbody>\n",
       "    <tr>\n",
       "      <th>0</th>\n",
       "      <td>0</td>\n",
       "      <td>360050001000</td>\n",
       "      <td>Block Group 0, Census Tract 1, Bronx County, N...</td>\n",
       "      <td>NaN</td>\n",
       "      <td>NaN</td>\n",
       "      <td>NaN</td>\n",
       "    </tr>\n",
       "    <tr>\n",
       "      <th>1</th>\n",
       "      <td>1</td>\n",
       "      <td>360050001001</td>\n",
       "      <td>Block Group 1, Census Tract 1, Bronx County, N...</td>\n",
       "      <td>NaN</td>\n",
       "      <td>NaN</td>\n",
       "      <td>NaN</td>\n",
       "    </tr>\n",
       "  </tbody>\n",
       "</table>\n",
       "</div>"
      ],
      "text/plain": [
       "   Unnamed: 0           Id2  \\\n",
       "0           0  360050001000   \n",
       "1           1  360050001001   \n",
       "\n",
       "                                           Geography  gas_utility_r  \\\n",
       "0  Block Group 0, Census Tract 1, Bronx County, N...            NaN   \n",
       "1  Block Group 1, Census Tract 1, Bronx County, N...            NaN   \n",
       "\n",
       "   avg_bldng_age  ownership_r  \n",
       "0            NaN          NaN  \n",
       "1            NaN          NaN  "
      ]
     },
     "execution_count": 12,
     "metadata": {},
     "output_type": "execute_result"
    }
   ],
   "source": [
    "phys_2015.head(2)"
   ]
  },
  {
   "cell_type": "code",
   "execution_count": 14,
   "metadata": {
    "collapsed": false
   },
   "outputs": [],
   "source": [
    "phys_2014['CBG'] = phys_2014['Id2']\n",
    "phys_2015['CBG'] = phys_2015['Id2']\n",
    "phys_2014 = phys_2014.drop(['Unnamed: 0', 'Id2'], axis = 1)\n",
    "phys_2015 = phys_2015.drop(['Unnamed: 0', 'Id2'], axis = 1)\n",
    "phys_2016 = phys_2015\n",
    "phys_2014['year'] = 2014\n",
    "phys_2015['year'] = 2015\n",
    "phys_2016['year'] = 2016"
   ]
  },
  {
   "cell_type": "code",
   "execution_count": 15,
   "metadata": {
    "collapsed": true
   },
   "outputs": [],
   "source": [
    "frames = [phys_2014, phys_2015, phys_2016]\n",
    "phys = pd.concat(frames)\n",
    "phys = phys.fillna(0)\n",
    "phys = phys.replace(np.inf, 0)\n",
    "phys = phys.replace(-np.inf, 0)"
   ]
  },
  {
   "cell_type": "code",
   "execution_count": 16,
   "metadata": {
    "collapsed": false
   },
   "outputs": [
    {
     "data": {
      "text/html": [
       "<div>\n",
       "<table border=\"1\" class=\"dataframe\">\n",
       "  <thead>\n",
       "    <tr style=\"text-align: right;\">\n",
       "      <th></th>\n",
       "      <th>CBG</th>\n",
       "      <th>Geography</th>\n",
       "      <th>avg_bldng_age</th>\n",
       "      <th>gas_utility_r</th>\n",
       "      <th>ownership_r</th>\n",
       "      <th>year</th>\n",
       "    </tr>\n",
       "  </thead>\n",
       "  <tbody>\n",
       "    <tr>\n",
       "      <th>0</th>\n",
       "      <td>360050001000</td>\n",
       "      <td>Block Group 0, Census Tract 1, Bronx County, N...</td>\n",
       "      <td>0.0</td>\n",
       "      <td>0.0</td>\n",
       "      <td>0.0</td>\n",
       "      <td>2014</td>\n",
       "    </tr>\n",
       "    <tr>\n",
       "      <th>1</th>\n",
       "      <td>360050001001</td>\n",
       "      <td>Block Group 1, Census Tract 1, Bronx County, N...</td>\n",
       "      <td>0.0</td>\n",
       "      <td>0.0</td>\n",
       "      <td>0.0</td>\n",
       "      <td>2014</td>\n",
       "    </tr>\n",
       "  </tbody>\n",
       "</table>\n",
       "</div>"
      ],
      "text/plain": [
       "            CBG                                          Geography  \\\n",
       "0  360050001000  Block Group 0, Census Tract 1, Bronx County, N...   \n",
       "1  360050001001  Block Group 1, Census Tract 1, Bronx County, N...   \n",
       "\n",
       "   avg_bldng_age  gas_utility_r  ownership_r  year  \n",
       "0            0.0            0.0          0.0  2014  \n",
       "1            0.0            0.0          0.0  2014  "
      ]
     },
     "execution_count": 16,
     "metadata": {},
     "output_type": "execute_result"
    }
   ],
   "source": [
    "phys.head(2)"
   ]
  },
  {
   "cell_type": "code",
   "execution_count": 17,
   "metadata": {
    "collapsed": false
   },
   "outputs": [
    {
     "name": "stdout",
     "output_type": "stream",
     "text": [
      "6493\n",
      "6493\n",
      "6493\n",
      "19479\n",
      "19479\n"
     ]
    }
   ],
   "source": [
    "print len(phys_2014)\n",
    "print len(phys_2015)\n",
    "print len(phys_2016)\n",
    "print len(phys_2014) + len(phys_2015) +  len(phys_2016)\n",
    "print len(phys)"
   ]
  },
  {
   "cell_type": "code",
   "execution_count": 18,
   "metadata": {
    "collapsed": false
   },
   "outputs": [
    {
     "data": {
      "text/html": [
       "<div>\n",
       "<table border=\"1\" class=\"dataframe\">\n",
       "  <thead>\n",
       "    <tr style=\"text-align: right;\">\n",
       "      <th></th>\n",
       "      <th>CBG</th>\n",
       "      <th>avg_bldng_age</th>\n",
       "      <th>gas_utility_r</th>\n",
       "      <th>ownership_r</th>\n",
       "      <th>year</th>\n",
       "    </tr>\n",
       "  </thead>\n",
       "  <tbody>\n",
       "    <tr>\n",
       "      <th>0</th>\n",
       "      <td>360050001000</td>\n",
       "      <td>0.0</td>\n",
       "      <td>0.0</td>\n",
       "      <td>0.0</td>\n",
       "      <td>2014</td>\n",
       "    </tr>\n",
       "    <tr>\n",
       "      <th>1</th>\n",
       "      <td>360050001001</td>\n",
       "      <td>0.0</td>\n",
       "      <td>0.0</td>\n",
       "      <td>0.0</td>\n",
       "      <td>2014</td>\n",
       "    </tr>\n",
       "  </tbody>\n",
       "</table>\n",
       "</div>"
      ],
      "text/plain": [
       "            CBG  avg_bldng_age  gas_utility_r  ownership_r  year\n",
       "0  360050001000            0.0            0.0          0.0  2014\n",
       "1  360050001001            0.0            0.0          0.0  2014"
      ]
     },
     "execution_count": 18,
     "metadata": {},
     "output_type": "execute_result"
    }
   ],
   "source": [
    "phys = phys.drop(['Geography'], axis = 1)\n",
    "phys.head(2)"
   ]
  },
  {
   "cell_type": "markdown",
   "metadata": {},
   "source": [
    "# Join demographic + physical condition"
   ]
  },
  {
   "cell_type": "code",
   "execution_count": 19,
   "metadata": {
    "collapsed": true
   },
   "outputs": [],
   "source": [
    "iv = pd.merge(demo, phys, how = 'left', on = ['CBG', 'year'])"
   ]
  },
  {
   "cell_type": "code",
   "execution_count": 20,
   "metadata": {
    "collapsed": false
   },
   "outputs": [
    {
     "data": {
      "text/html": [
       "<div>\n",
       "<table border=\"1\" class=\"dataframe\">\n",
       "  <thead>\n",
       "    <tr style=\"text-align: right;\">\n",
       "      <th></th>\n",
       "      <th>pop</th>\n",
       "      <th>female_r</th>\n",
       "      <th>elderly_r</th>\n",
       "      <th>white_r</th>\n",
       "      <th>black_r</th>\n",
       "      <th>asian_r</th>\n",
       "      <th>hh</th>\n",
       "      <th>hh_child_6_r</th>\n",
       "      <th>hh_living_alone_r</th>\n",
       "      <th>edu_high_r</th>\n",
       "      <th>...</th>\n",
       "      <th>vacancy_r</th>\n",
       "      <th>med_rent</th>\n",
       "      <th>med_income</th>\n",
       "      <th>merried_r</th>\n",
       "      <th>longercommute_r</th>\n",
       "      <th>year</th>\n",
       "      <th>CBG</th>\n",
       "      <th>avg_bldng_age</th>\n",
       "      <th>gas_utility_r</th>\n",
       "      <th>ownership_r</th>\n",
       "    </tr>\n",
       "  </thead>\n",
       "  <tbody>\n",
       "    <tr>\n",
       "      <th>0</th>\n",
       "      <td>1158.0</td>\n",
       "      <td>0.613990</td>\n",
       "      <td>0.076857</td>\n",
       "      <td>0.290155</td>\n",
       "      <td>0.489637</td>\n",
       "      <td>0.016408</td>\n",
       "      <td>240.0</td>\n",
       "      <td>0.000000</td>\n",
       "      <td>0.311404</td>\n",
       "      <td>0.185526</td>\n",
       "      <td>...</td>\n",
       "      <td>0.142857</td>\n",
       "      <td>615.0</td>\n",
       "      <td>40781.0</td>\n",
       "      <td>0.282022</td>\n",
       "      <td>0.254860</td>\n",
       "      <td>2014</td>\n",
       "      <td>360010001001</td>\n",
       "      <td>NaN</td>\n",
       "      <td>NaN</td>\n",
       "      <td>NaN</td>\n",
       "    </tr>\n",
       "    <tr>\n",
       "      <th>1</th>\n",
       "      <td>1043.0</td>\n",
       "      <td>0.566635</td>\n",
       "      <td>0.085331</td>\n",
       "      <td>0.380633</td>\n",
       "      <td>0.543624</td>\n",
       "      <td>0.027804</td>\n",
       "      <td>332.0</td>\n",
       "      <td>0.313253</td>\n",
       "      <td>0.284916</td>\n",
       "      <td>0.102941</td>\n",
       "      <td>...</td>\n",
       "      <td>0.191874</td>\n",
       "      <td>659.0</td>\n",
       "      <td>28700.0</td>\n",
       "      <td>0.363755</td>\n",
       "      <td>0.088608</td>\n",
       "      <td>2014</td>\n",
       "      <td>360010001002</td>\n",
       "      <td>NaN</td>\n",
       "      <td>NaN</td>\n",
       "      <td>NaN</td>\n",
       "    </tr>\n",
       "  </tbody>\n",
       "</table>\n",
       "<p>2 rows × 22 columns</p>\n",
       "</div>"
      ],
      "text/plain": [
       "      pop  female_r  elderly_r   white_r   black_r   asian_r     hh  \\\n",
       "0  1158.0  0.613990   0.076857  0.290155  0.489637  0.016408  240.0   \n",
       "1  1043.0  0.566635   0.085331  0.380633  0.543624  0.027804  332.0   \n",
       "\n",
       "   hh_child_6_r  hh_living_alone_r  edu_high_r     ...       vacancy_r  \\\n",
       "0      0.000000           0.311404    0.185526     ...        0.142857   \n",
       "1      0.313253           0.284916    0.102941     ...        0.191874   \n",
       "\n",
       "   med_rent  med_income  merried_r  longercommute_r  year           CBG  \\\n",
       "0     615.0     40781.0   0.282022         0.254860  2014  360010001001   \n",
       "1     659.0     28700.0   0.363755         0.088608  2014  360010001002   \n",
       "\n",
       "   avg_bldng_age gas_utility_r  ownership_r  \n",
       "0            NaN           NaN          NaN  \n",
       "1            NaN           NaN          NaN  \n",
       "\n",
       "[2 rows x 22 columns]"
      ]
     },
     "execution_count": 20,
     "metadata": {},
     "output_type": "execute_result"
    }
   ],
   "source": [
    "iv.head(2)"
   ]
  },
  {
   "cell_type": "code",
   "execution_count": 21,
   "metadata": {
    "collapsed": false
   },
   "outputs": [
    {
     "name": "stdout",
     "output_type": "stream",
     "text": [
      "30926\n"
     ]
    }
   ],
   "source": [
    "iv = iv.drop_duplicates()\n",
    "print len(iv)"
   ]
  },
  {
   "cell_type": "code",
   "execution_count": null,
   "metadata": {
    "collapsed": true
   },
   "outputs": [],
   "source": []
  },
  {
   "cell_type": "markdown",
   "metadata": {},
   "source": [
    "# Urban Form data (MapPLUTO)\n",
    "* from MapPLUTO \n",
    "* CBG level"
   ]
  },
  {
   "cell_type": "code",
   "execution_count": null,
   "metadata": {
    "collapsed": true
   },
   "outputs": [],
   "source": [
    "# Data will be loaded"
   ]
  },
  {
   "cell_type": "code",
   "execution_count": null,
   "metadata": {
    "collapsed": true
   },
   "outputs": [],
   "source": []
  },
  {
   "cell_type": "code",
   "execution_count": null,
   "metadata": {
    "collapsed": true
   },
   "outputs": [],
   "source": []
  },
  {
   "cell_type": "markdown",
   "metadata": {},
   "source": [
    "# Weather condition and holiday data\n",
    "* open source"
   ]
  },
  {
   "cell_type": "code",
   "execution_count": 22,
   "metadata": {
    "collapsed": false
   },
   "outputs": [],
   "source": [
    "wh = pd.read_csv('../data/output/00VAR_weather_holiday_2013_2016.csv', parse_dates = ['Date'])\n",
    "wh = wh.drop(['Unnamed: 0'], axis = 1)"
   ]
  },
  {
   "cell_type": "code",
   "execution_count": 23,
   "metadata": {
    "collapsed": false
   },
   "outputs": [
    {
     "data": {
      "text/html": [
       "<div>\n",
       "<table border=\"1\" class=\"dataframe\">\n",
       "  <thead>\n",
       "    <tr style=\"text-align: right;\">\n",
       "      <th></th>\n",
       "      <th>Temp_min (F)</th>\n",
       "      <th>Prep_sum (in)</th>\n",
       "      <th>Snow (in)</th>\n",
       "      <th>WindSpeed (mph)</th>\n",
       "      <th>Date</th>\n",
       "      <th>Weather_events</th>\n",
       "      <th>Holiday_Count</th>\n",
       "    </tr>\n",
       "  </thead>\n",
       "  <tbody>\n",
       "    <tr>\n",
       "      <th>0</th>\n",
       "      <td>23.0</td>\n",
       "      <td>0.00</td>\n",
       "      <td>0.0</td>\n",
       "      <td>16.0</td>\n",
       "      <td>2012-12-31</td>\n",
       "      <td>0.0</td>\n",
       "      <td>0.0</td>\n",
       "    </tr>\n",
       "    <tr>\n",
       "      <th>1</th>\n",
       "      <td>30.0</td>\n",
       "      <td>0.64</td>\n",
       "      <td>0.0</td>\n",
       "      <td>9.0</td>\n",
       "      <td>2013-01-07</td>\n",
       "      <td>0.0</td>\n",
       "      <td>1.0</td>\n",
       "    </tr>\n",
       "  </tbody>\n",
       "</table>\n",
       "</div>"
      ],
      "text/plain": [
       "   Temp_min (F)  Prep_sum (in)  Snow (in)  WindSpeed (mph)       Date  \\\n",
       "0          23.0           0.00        0.0             16.0 2012-12-31   \n",
       "1          30.0           0.64        0.0              9.0 2013-01-07   \n",
       "\n",
       "   Weather_events  Holiday_Count  \n",
       "0             0.0            0.0  \n",
       "1             0.0            1.0  "
      ]
     },
     "execution_count": 23,
     "metadata": {},
     "output_type": "execute_result"
    }
   ],
   "source": [
    "wh.head(2)"
   ]
  },
  {
   "cell_type": "markdown",
   "metadata": {},
   "source": [
    "# Join all data\n",
    "* Dependent variavle (weekly heat/hot water complaints at CBG level)\n",
    "* Independent variables (Demographic + Physical condition + Weather and holidays)"
   ]
  },
  {
   "cell_type": "code",
   "execution_count": 24,
   "metadata": {
    "collapsed": false
   },
   "outputs": [
    {
     "name": "stdout",
     "output_type": "stream",
     "text": [
      "869064\n",
      "869064\n"
     ]
    }
   ],
   "source": [
    "df = pd.merge(comvio, iv, how = 'left', on = ['CBG', 'year'])\n",
    "df = df.drop_duplicates()\n",
    "print len(df)\n",
    "print len(comvio)"
   ]
  },
  {
   "cell_type": "code",
   "execution_count": 25,
   "metadata": {
    "collapsed": false
   },
   "outputs": [
    {
     "name": "stdout",
     "output_type": "stream",
     "text": [
      "869064\n",
      "869064\n"
     ]
    }
   ],
   "source": [
    "df = pd.merge(df, wh, how ='left', on = 'Date')\n",
    "df = df.drop_duplicates()\n",
    "print len(df)\n",
    "print len(comvio)"
   ]
  },
  {
   "cell_type": "code",
   "execution_count": 26,
   "metadata": {
    "collapsed": false
   },
   "outputs": [
    {
     "data": {
      "text/html": [
       "<div>\n",
       "<table border=\"1\" class=\"dataframe\">\n",
       "  <thead>\n",
       "    <tr style=\"text-align: right;\">\n",
       "      <th></th>\n",
       "      <th>CBG</th>\n",
       "      <th>com_count</th>\n",
       "      <th>Date</th>\n",
       "      <th>vio_count</th>\n",
       "      <th>year</th>\n",
       "      <th>pop</th>\n",
       "      <th>female_r</th>\n",
       "      <th>elderly_r</th>\n",
       "      <th>white_r</th>\n",
       "      <th>black_r</th>\n",
       "      <th>...</th>\n",
       "      <th>longercommute_r</th>\n",
       "      <th>avg_bldng_age</th>\n",
       "      <th>gas_utility_r</th>\n",
       "      <th>ownership_r</th>\n",
       "      <th>Temp_min (F)</th>\n",
       "      <th>Prep_sum (in)</th>\n",
       "      <th>Snow (in)</th>\n",
       "      <th>WindSpeed (mph)</th>\n",
       "      <th>Weather_events</th>\n",
       "      <th>Holiday_Count</th>\n",
       "    </tr>\n",
       "  </thead>\n",
       "  <tbody>\n",
       "    <tr>\n",
       "      <th>0</th>\n",
       "      <td>360050001001</td>\n",
       "      <td>0.0</td>\n",
       "      <td>2014-03-17</td>\n",
       "      <td>0.0</td>\n",
       "      <td>2014</td>\n",
       "      <td>8430.0</td>\n",
       "      <td>0.092052</td>\n",
       "      <td>0.003440</td>\n",
       "      <td>0.140451</td>\n",
       "      <td>0.575445</td>\n",
       "      <td>...</td>\n",
       "      <td>0.000000</td>\n",
       "      <td>0.000000</td>\n",
       "      <td>0.000000</td>\n",
       "      <td>0.000000</td>\n",
       "      <td>25.0</td>\n",
       "      <td>0.72</td>\n",
       "      <td>0.0</td>\n",
       "      <td>14.0</td>\n",
       "      <td>0.0</td>\n",
       "      <td>0.0</td>\n",
       "    </tr>\n",
       "    <tr>\n",
       "      <th>1</th>\n",
       "      <td>360050002001</td>\n",
       "      <td>0.0</td>\n",
       "      <td>2014-03-17</td>\n",
       "      <td>0.0</td>\n",
       "      <td>2014</td>\n",
       "      <td>1519.0</td>\n",
       "      <td>0.516129</td>\n",
       "      <td>0.143515</td>\n",
       "      <td>0.134957</td>\n",
       "      <td>0.420013</td>\n",
       "      <td>...</td>\n",
       "      <td>0.623209</td>\n",
       "      <td>63.282609</td>\n",
       "      <td>0.813043</td>\n",
       "      <td>0.656522</td>\n",
       "      <td>25.0</td>\n",
       "      <td>0.72</td>\n",
       "      <td>0.0</td>\n",
       "      <td>14.0</td>\n",
       "      <td>0.0</td>\n",
       "      <td>0.0</td>\n",
       "    </tr>\n",
       "  </tbody>\n",
       "</table>\n",
       "<p>2 rows × 31 columns</p>\n",
       "</div>"
      ],
      "text/plain": [
       "            CBG  com_count       Date  vio_count  year     pop  female_r  \\\n",
       "0  360050001001        0.0 2014-03-17        0.0  2014  8430.0  0.092052   \n",
       "1  360050002001        0.0 2014-03-17        0.0  2014  1519.0  0.516129   \n",
       "\n",
       "   elderly_r   white_r   black_r      ...        longercommute_r  \\\n",
       "0   0.003440  0.140451  0.575445      ...               0.000000   \n",
       "1   0.143515  0.134957  0.420013      ...               0.623209   \n",
       "\n",
       "   avg_bldng_age  gas_utility_r  ownership_r  Temp_min (F)  Prep_sum (in)  \\\n",
       "0       0.000000       0.000000     0.000000          25.0           0.72   \n",
       "1      63.282609       0.813043     0.656522          25.0           0.72   \n",
       "\n",
       "   Snow (in)  WindSpeed (mph)  Weather_events  Holiday_Count  \n",
       "0        0.0             14.0             0.0            0.0  \n",
       "1        0.0             14.0             0.0            0.0  \n",
       "\n",
       "[2 rows x 31 columns]"
      ]
     },
     "execution_count": 26,
     "metadata": {},
     "output_type": "execute_result"
    }
   ],
   "source": [
    "df.head(2)"
   ]
  },
  {
   "cell_type": "markdown",
   "metadata": {},
   "source": [
    "### Export dataset for modeling"
   ]
  },
  {
   "cell_type": "code",
   "execution_count": 27,
   "metadata": {
    "collapsed": true
   },
   "outputs": [],
   "source": [
    "df.to_csv('../data/output/00DATASET_READY.csv')"
   ]
  },
  {
   "cell_type": "code",
   "execution_count": null,
   "metadata": {
    "collapsed": true
   },
   "outputs": [],
   "source": []
  }
 ],
 "metadata": {
  "kernelspec": {
   "display_name": "Python [default]",
   "language": "python",
   "name": "python2"
  },
  "language_info": {
   "codemirror_mode": {
    "name": "ipython",
    "version": 2
   },
   "file_extension": ".py",
   "mimetype": "text/x-python",
   "name": "python",
   "nbconvert_exporter": "python",
   "pygments_lexer": "ipython2",
   "version": "2.7.13"
  }
 },
 "nbformat": 4,
 "nbformat_minor": 2
}
