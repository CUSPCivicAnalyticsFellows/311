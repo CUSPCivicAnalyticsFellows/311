{
 "cells": [
  {
   "cell_type": "code",
   "execution_count": 1,
   "metadata": {
    "collapsed": false
   },
   "outputs": [
    {
     "name": "stdout",
     "output_type": "stream",
     "text": [
      "Populating the interactive namespace from numpy and matplotlib\n"
     ]
    },
    {
     "name": "stderr",
     "output_type": "stream",
     "text": [
      "WARNING: pylab import has clobbered these variables: ['plt']\n",
      "`%matplotlib` prevents importing * from pylab and numpy\n",
      "/Users/kristikorsberg/devel/venv/lib/python2.7/site-packages/sklearn/cross_validation.py:44: DeprecationWarning: This module was deprecated in version 0.18 in favor of the model_selection module into which all the refactored classes and functions are moved. Also note that the interface of the new CV iterators are different from that of this module. This module will be removed in 0.20.\n",
      "  \"This module will be removed in 0.20.\", DeprecationWarning)\n"
     ]
    }
   ],
   "source": [
    "import pandas as pd\n",
    "import numpy as np\n",
    "import matplotlib.pylab as plt\n",
    "%pylab inline\n",
    "import geopandas as gpd\n",
    "import zipfile\n",
    "from sklearn.metrics import cohen_kappa_score\n",
    "import statsmodels.formula.api as smf\n",
    "from sklearn.cross_validation import train_test_split\n",
    "from sklearn.metrics import confusion_matrix"
   ]
  },
  {
   "cell_type": "raw",
   "metadata": {
    "collapsed": true
   },
   "source": [
    "def pluto(mappluto):\n",
    "    z = zipfile.ZipFile(mappluto)\n",
    "    z.extractall('../data_initial/')\n",
    "\n",
    "    boroughs = ['Staten_Island', 'Queens', 'Manhattan', 'Bronx', 'Brooklyn']\n",
    "    abreevs = ['SI', 'QN', 'MN', 'BX', 'BK']\n",
    "\n",
    "    pluto = []\n",
    "    i = 0\n",
    "    for elem in boroughs:\n",
    "        temp = gpd.read_file('../data_initial/'+elem+'/'+abreevs[i]+'MapPLUTO.shp')\n",
    "        temp = temp[['BBL','geometry']]\n",
    "        temp['BBL'] = temp['BBL'].astype(int)\n",
    "        temp = temp.to_crs({'init':'epsg:4326'})\n",
    "        pluto.append(temp)\n",
    "        i+=1  \n",
    "    \n",
    "    global pluto_updated\n",
    "    pluto_updated = pd.concat(pluto)\n",
    "    \n",
    "    pluto_updated['BBL'] = pluto_updated['BBL'].astype(str)\n",
    "    \n",
    "    return pluto_updated.head()"
   ]
  },
  {
   "cell_type": "raw",
   "metadata": {
    "collapsed": false
   },
   "source": [
    "pluto('../data_initial/mappluto_16v2.zip')"
   ]
  },
  {
   "cell_type": "raw",
   "metadata": {
    "collapsed": true
   },
   "source": [
    "pluto_updated = pluto_updated.reset_index()\n",
    "pluto_updated.to_file('../data_processed/test.shp', driver='ESRI Shapefile')"
   ]
  },
  {
   "cell_type": "raw",
   "metadata": {
    "collapsed": true
   },
   "source": [
    "pluto_updated.to_file('../data_processed/pluto16.shp', driver='ESRI Shapefile')"
   ]
  },
  {
   "cell_type": "code",
   "execution_count": 2,
   "metadata": {
    "collapsed": false
   },
   "outputs": [],
   "source": [
    "pluto_updated = gpd.read_file('../data_processed/pluto16.shp')"
   ]
  },
  {
   "cell_type": "code",
   "execution_count": 3,
   "metadata": {
    "collapsed": false
   },
   "outputs": [
    {
     "data": {
      "text/html": [
       "<div>\n",
       "<table border=\"1\" class=\"dataframe\">\n",
       "  <thead>\n",
       "    <tr style=\"text-align: right;\">\n",
       "      <th></th>\n",
       "      <th>BBL</th>\n",
       "      <th>geometry</th>\n",
       "    </tr>\n",
       "  </thead>\n",
       "  <tbody>\n",
       "    <tr>\n",
       "      <th>0</th>\n",
       "      <td>5007470028</td>\n",
       "      <td>POLYGON ((-74.14250944979312 40.60980609846242...</td>\n",
       "    </tr>\n",
       "    <tr>\n",
       "      <th>1</th>\n",
       "      <td>5006230252</td>\n",
       "      <td>POLYGON ((-74.08780465394567 40.61401983466899...</td>\n",
       "    </tr>\n",
       "  </tbody>\n",
       "</table>\n",
       "</div>"
      ],
      "text/plain": [
       "          BBL                                           geometry\n",
       "0  5007470028  POLYGON ((-74.14250944979312 40.60980609846242...\n",
       "1  5006230252  POLYGON ((-74.08780465394567 40.61401983466899..."
      ]
     },
     "execution_count": 3,
     "metadata": {},
     "output_type": "execute_result"
    }
   ],
   "source": [
    "pluto_updated.head(2)"
   ]
  },
  {
   "cell_type": "code",
   "execution_count": 4,
   "metadata": {
    "collapsed": false
   },
   "outputs": [
    {
     "name": "stderr",
     "output_type": "stream",
     "text": [
      "//anaconda/lib/python2.7/site-packages/IPython/core/interactiveshell.py:2723: DtypeWarning: Columns (27,37,40,46,53,64,65,84,85) have mixed types. Specify dtype option on import or set low_memory=False.\n",
      "  interactivity=interactivity, compiler=compiler, result=result)\n"
     ]
    }
   ],
   "source": [
    "features = pd.read_csv('../data_processed/pluto_16')"
   ]
  },
  {
   "cell_type": "code",
   "execution_count": 5,
   "metadata": {
    "collapsed": false
   },
   "outputs": [
    {
     "data": {
      "text/html": [
       "<div>\n",
       "<table border=\"1\" class=\"dataframe\">\n",
       "  <thead>\n",
       "    <tr style=\"text-align: right;\">\n",
       "      <th></th>\n",
       "      <th>Unnamed: 0</th>\n",
       "      <th>APPBBL</th>\n",
       "      <th>APPDate</th>\n",
       "      <th>Address</th>\n",
       "      <th>AllZoning1</th>\n",
       "      <th>AllZoning2</th>\n",
       "      <th>AreaSource</th>\n",
       "      <th>AssessLand</th>\n",
       "      <th>AssessTot</th>\n",
       "      <th>BBL</th>\n",
       "      <th>...</th>\n",
       "      <th>YearAlter2</th>\n",
       "      <th>YearBuilt</th>\n",
       "      <th>ZMCode</th>\n",
       "      <th>ZipCode</th>\n",
       "      <th>ZoneDist1</th>\n",
       "      <th>ZoneDist2</th>\n",
       "      <th>ZoneDist3</th>\n",
       "      <th>ZoneDist4</th>\n",
       "      <th>ZoneMap</th>\n",
       "      <th>geometry</th>\n",
       "    </tr>\n",
       "  </thead>\n",
       "  <tbody>\n",
       "    <tr>\n",
       "      <th>0</th>\n",
       "      <td>0</td>\n",
       "      <td>0.0</td>\n",
       "      <td>NaN</td>\n",
       "      <td>437 PURDY AVENUE</td>\n",
       "      <td>R3-1</td>\n",
       "      <td>NaN</td>\n",
       "      <td>7</td>\n",
       "      <td>15120.0</td>\n",
       "      <td>23400.0</td>\n",
       "      <td>5.007470e+09</td>\n",
       "      <td>...</td>\n",
       "      <td>0</td>\n",
       "      <td>1960</td>\n",
       "      <td>NaN</td>\n",
       "      <td>10314</td>\n",
       "      <td>R3-1</td>\n",
       "      <td>NaN</td>\n",
       "      <td>NaN</td>\n",
       "      <td>NaN</td>\n",
       "      <td>20d</td>\n",
       "      <td>POLYGON ((944681.4200000018 161477.381400004, ...</td>\n",
       "    </tr>\n",
       "    <tr>\n",
       "      <th>1</th>\n",
       "      <td>1</td>\n",
       "      <td>0.0</td>\n",
       "      <td>NaN</td>\n",
       "      <td>CUNARD AVENUE</td>\n",
       "      <td>R3A/HS</td>\n",
       "      <td>NaN</td>\n",
       "      <td>4</td>\n",
       "      <td>21518.0</td>\n",
       "      <td>21518.0</td>\n",
       "      <td>5.006230e+09</td>\n",
       "      <td>...</td>\n",
       "      <td>0</td>\n",
       "      <td>0</td>\n",
       "      <td>NaN</td>\n",
       "      <td>10304</td>\n",
       "      <td>R3A</td>\n",
       "      <td>NaN</td>\n",
       "      <td>NaN</td>\n",
       "      <td>NaN</td>\n",
       "      <td>21d</td>\n",
       "      <td>POLYGON ((959872.0577999949 162992.5866000056,...</td>\n",
       "    </tr>\n",
       "  </tbody>\n",
       "</table>\n",
       "<p>2 rows × 88 columns</p>\n",
       "</div>"
      ],
      "text/plain": [
       "   Unnamed: 0  APPBBL APPDate           Address AllZoning1 AllZoning2  \\\n",
       "0           0     0.0     NaN  437 PURDY AVENUE       R3-1        NaN   \n",
       "1           1     0.0     NaN     CUNARD AVENUE     R3A/HS        NaN   \n",
       "\n",
       "   AreaSource  AssessLand  AssessTot           BBL  \\\n",
       "0           7     15120.0    23400.0  5.007470e+09   \n",
       "1           4     21518.0    21518.0  5.006230e+09   \n",
       "\n",
       "                         ...                          YearAlter2 YearBuilt  \\\n",
       "0                        ...                                   0      1960   \n",
       "1                        ...                                   0         0   \n",
       "\n",
       "   ZMCode  ZipCode  ZoneDist1  ZoneDist2 ZoneDist3  ZoneDist4 ZoneMap  \\\n",
       "0     NaN    10314       R3-1        NaN       NaN        NaN     20d   \n",
       "1     NaN    10304        R3A        NaN       NaN        NaN     21d   \n",
       "\n",
       "                                            geometry  \n",
       "0  POLYGON ((944681.4200000018 161477.381400004, ...  \n",
       "1  POLYGON ((959872.0577999949 162992.5866000056,...  \n",
       "\n",
       "[2 rows x 88 columns]"
      ]
     },
     "execution_count": 5,
     "metadata": {},
     "output_type": "execute_result"
    }
   ],
   "source": [
    "features.head(2)"
   ]
  },
  {
   "cell_type": "code",
   "execution_count": 6,
   "metadata": {
    "collapsed": false
   },
   "outputs": [],
   "source": [
    "features['AssessSqft'] = features['AssessTot']/features['BldgArea']\n",
    "features = features[features['YearBuilt']>1750]\n",
    "features = features[features['AssessLand']> 0]\n",
    "features = features[features['AssessSqft'] > 0]\n",
    "features = features[(features['BuiltFAR'] > 0) & (features['BuiltFAR'] < 2088)]\n",
    "features = features[features['NumBldgs'] > 0]\n",
    "features = features[features['NumFloors'] > 0]\n",
    "features = features[features['ResArea'] > 0]\n",
    "features = features[features['UnitsRes'] < 8000]\n",
    "features = features[features['UnitsRes'] > 0]"
   ]
  },
  {
   "cell_type": "code",
   "execution_count": 7,
   "metadata": {
    "collapsed": false
   },
   "outputs": [
    {
     "data": {
      "text/plain": [
       "756433"
      ]
     },
     "execution_count": 7,
     "metadata": {},
     "output_type": "execute_result"
    }
   ],
   "source": [
    "len(features)"
   ]
  },
  {
   "cell_type": "code",
   "execution_count": 8,
   "metadata": {
    "collapsed": false
   },
   "outputs": [
    {
     "data": {
      "text/html": [
       "<div>\n",
       "<table border=\"1\" class=\"dataframe\">\n",
       "  <thead>\n",
       "    <tr style=\"text-align: right;\">\n",
       "      <th></th>\n",
       "      <th>BBL</th>\n",
       "      <th>geometry</th>\n",
       "    </tr>\n",
       "  </thead>\n",
       "  <tbody>\n",
       "    <tr>\n",
       "      <th>0</th>\n",
       "      <td>5007470028</td>\n",
       "      <td>POLYGON ((-74.14250944979312 40.60980609846242...</td>\n",
       "    </tr>\n",
       "    <tr>\n",
       "      <th>1</th>\n",
       "      <td>5006230252</td>\n",
       "      <td>POLYGON ((-74.08780465394567 40.61401983466899...</td>\n",
       "    </tr>\n",
       "  </tbody>\n",
       "</table>\n",
       "</div>"
      ],
      "text/plain": [
       "          BBL                                           geometry\n",
       "0  5007470028  POLYGON ((-74.14250944979312 40.60980609846242...\n",
       "1  5006230252  POLYGON ((-74.08780465394567 40.61401983466899..."
      ]
     },
     "execution_count": 8,
     "metadata": {},
     "output_type": "execute_result"
    }
   ],
   "source": [
    "pluto_updated.head(2)"
   ]
  },
  {
   "cell_type": "code",
   "execution_count": 9,
   "metadata": {
    "collapsed": false
   },
   "outputs": [],
   "source": [
    "#print(len(pluto_updated))"
   ]
  },
  {
   "cell_type": "code",
   "execution_count": 10,
   "metadata": {
    "collapsed": false
   },
   "outputs": [],
   "source": [
    "v = pd.read_csv('../data_processed/VIOLATION_HEATHOTWATER_by_bbl_season.csv')\n",
    "v = v.drop('Unnamed: 0',axis=1)"
   ]
  },
  {
   "cell_type": "code",
   "execution_count": 11,
   "metadata": {
    "collapsed": false
   },
   "outputs": [
    {
     "data": {
      "text/plain": [
       "Index([u'Unnamed: 0', u'APPBBL', u'APPDate', u'Address', u'AllZoning1',\n",
       "       u'AllZoning2', u'AreaSource', u'AssessLand', u'AssessTot', u'BBL',\n",
       "       u'BldgArea', u'BldgClass', u'BldgDepth', u'BldgFront', u'Block',\n",
       "       u'BoroCode', u'Borough', u'BsmtCode', u'BuiltCode', u'BuiltFAR',\n",
       "       u'CB2010', u'CD', u'CT2010', u'ComArea', u'CommFAR', u'CondoNo',\n",
       "       u'Council', u'EDesigNum', u'Easements', u'ExemptLand', u'ExemptTot',\n",
       "       u'Ext', u'FacilFAR', u'FactryArea', u'FireComp', u'GarageArea',\n",
       "       u'HealthArea', u'HistDist', u'IrrLotCode', u'LandUse', u'Landmark',\n",
       "       u'Lot', u'LotArea', u'LotDepth', u'LotFront', u'LotType', u'LtdHeight',\n",
       "       u'MAPPLUTO_F', u'NumBldgs', u'NumFloors', u'OfficeArea', u'OtherArea',\n",
       "       u'Overlay1', u'Overlay2', u'OwnerName', u'OwnerType', u'PLUTOMapID',\n",
       "       u'PolicePrct', u'ProxCode', u'ResArea', u'ResidFAR', u'RetailArea',\n",
       "       u'SHAPE_Area', u'SHAPE_Leng', u'SPDist1', u'SPDist2', u'Sanborn',\n",
       "       u'SchoolDist', u'SplitZone', u'StrgeArea', u'TaxMap', u'Tract2010',\n",
       "       u'UnitsRes', u'UnitsTotal', u'Version', u'XCoord', u'YCoord',\n",
       "       u'YearAlter1', u'YearAlter2', u'YearBuilt', u'ZMCode', u'ZipCode',\n",
       "       u'ZoneDist1', u'ZoneDist2', u'ZoneDist3', u'ZoneDist4', u'ZoneMap',\n",
       "       u'geometry', u'AssessSqft'],\n",
       "      dtype='object')"
      ]
     },
     "execution_count": 11,
     "metadata": {},
     "output_type": "execute_result"
    }
   ],
   "source": [
    "features.columns"
   ]
  },
  {
   "cell_type": "code",
   "execution_count": 14,
   "metadata": {
    "collapsed": false
   },
   "outputs": [
    {
     "name": "stdout",
     "output_type": "stream",
     "text": [
      "756433\n",
      "17472\n"
     ]
    }
   ],
   "source": [
    "print len(features)\n",
    "print len(v)"
   ]
  },
  {
   "cell_type": "code",
   "execution_count": 15,
   "metadata": {
    "collapsed": true
   },
   "outputs": [],
   "source": [
    "features['ResArea_PerUnit'] = features['ResArea']/features['UnitsRes']"
   ]
  },
  {
   "cell_type": "code",
   "execution_count": 16,
   "metadata": {
    "collapsed": false
   },
   "outputs": [],
   "source": [
    "### drop categorical data and anything not pluto\n",
    "features = features[['BBL', 'NumBldgs', 'NumFloors', 'ResArea', 'YearBuilt', 'AssessSqft', 'ResArea_PerUnit']]"
   ]
  },
  {
   "cell_type": "code",
   "execution_count": 17,
   "metadata": {
    "collapsed": false
   },
   "outputs": [
    {
     "data": {
      "text/plain": [
       "Index([u'BBL', u'NumBldgs', u'NumFloors', u'ResArea', u'YearBuilt',\n",
       "       u'AssessSqft', u'ResArea_PerUnit'],\n",
       "      dtype='object')"
      ]
     },
     "execution_count": 17,
     "metadata": {},
     "output_type": "execute_result"
    }
   ],
   "source": [
    "features.columns"
   ]
  },
  {
   "cell_type": "code",
   "execution_count": 18,
   "metadata": {
    "collapsed": false
   },
   "outputs": [],
   "source": [
    "features['BuildingAge'] = 2017-features['YearBuilt']\n",
    "features = features.drop('YearBuilt',axis=1)"
   ]
  },
  {
   "cell_type": "code",
   "execution_count": 19,
   "metadata": {
    "collapsed": false
   },
   "outputs": [
    {
     "data": {
      "text/html": [
       "<div>\n",
       "<table border=\"1\" class=\"dataframe\">\n",
       "  <thead>\n",
       "    <tr style=\"text-align: right;\">\n",
       "      <th></th>\n",
       "      <th>BBL</th>\n",
       "      <th>NumBldgs</th>\n",
       "      <th>NumFloors</th>\n",
       "      <th>ResArea</th>\n",
       "      <th>AssessSqft</th>\n",
       "      <th>ResArea_PerUnit</th>\n",
       "      <th>BuildingAge</th>\n",
       "    </tr>\n",
       "  </thead>\n",
       "  <tbody>\n",
       "    <tr>\n",
       "      <th>0</th>\n",
       "      <td>5.007470e+09</td>\n",
       "      <td>1</td>\n",
       "      <td>1.0</td>\n",
       "      <td>1488</td>\n",
       "      <td>15.725806</td>\n",
       "      <td>744.0</td>\n",
       "      <td>57</td>\n",
       "    </tr>\n",
       "    <tr>\n",
       "      <th>2</th>\n",
       "      <td>5.007130e+09</td>\n",
       "      <td>2</td>\n",
       "      <td>2.5</td>\n",
       "      <td>1316</td>\n",
       "      <td>17.174772</td>\n",
       "      <td>1316.0</td>\n",
       "      <td>97</td>\n",
       "    </tr>\n",
       "  </tbody>\n",
       "</table>\n",
       "</div>"
      ],
      "text/plain": [
       "            BBL  NumBldgs  NumFloors  ResArea  AssessSqft  ResArea_PerUnit  \\\n",
       "0  5.007470e+09         1        1.0     1488   15.725806            744.0   \n",
       "2  5.007130e+09         2        2.5     1316   17.174772           1316.0   \n",
       "\n",
       "   BuildingAge  \n",
       "0           57  \n",
       "2           97  "
      ]
     },
     "execution_count": 19,
     "metadata": {},
     "output_type": "execute_result"
    }
   ],
   "source": [
    "features.head(2)"
   ]
  },
  {
   "cell_type": "code",
   "execution_count": 20,
   "metadata": {
    "collapsed": false
   },
   "outputs": [
    {
     "name": "stdout",
     "output_type": "stream",
     "text": [
      "float64\n",
      "int64\n",
      "object\n"
     ]
    }
   ],
   "source": [
    "print features['BBL'].dtypes\n",
    "print v['BBL'].dtypes\n",
    "print pluto_updated['BBL'].dtypes"
   ]
  },
  {
   "cell_type": "code",
   "execution_count": 21,
   "metadata": {
    "collapsed": true
   },
   "outputs": [],
   "source": [
    "fv = pd.merge(features, v, how='left', on='BBL')"
   ]
  },
  {
   "cell_type": "code",
   "execution_count": 22,
   "metadata": {
    "collapsed": false
   },
   "outputs": [
    {
     "name": "stdout",
     "output_type": "stream",
     "text": [
      "756433\n"
     ]
    }
   ],
   "source": [
    "print len(fv)"
   ]
  },
  {
   "cell_type": "code",
   "execution_count": 23,
   "metadata": {
    "collapsed": false
   },
   "outputs": [
    {
     "data": {
      "text/plain": [
       "BBL                0\n",
       "NumBldgs           0\n",
       "NumFloors          0\n",
       "ResArea            0\n",
       "AssessSqft         0\n",
       "ResArea_PerUnit    0\n",
       "BuildingAge        0\n",
       "dtype: int64"
      ]
     },
     "execution_count": 23,
     "metadata": {},
     "output_type": "execute_result"
    }
   ],
   "source": [
    "features.isnull().sum()"
   ]
  },
  {
   "cell_type": "code",
   "execution_count": 24,
   "metadata": {
    "collapsed": false
   },
   "outputs": [
    {
     "data": {
      "text/plain": [
       "BBL                     0\n",
       "NumBldgs                0\n",
       "NumFloors               0\n",
       "ResArea                 0\n",
       "AssessSqft              0\n",
       "ResArea_PerUnit         0\n",
       "BuildingAge             0\n",
       "Sum_season_vio     739199\n",
       "Avg_season_vio     739199\n",
       "dtype: int64"
      ]
     },
     "execution_count": 24,
     "metadata": {},
     "output_type": "execute_result"
    }
   ],
   "source": [
    "fv.isnull().sum()"
   ]
  },
  {
   "cell_type": "code",
   "execution_count": 25,
   "metadata": {
    "collapsed": true
   },
   "outputs": [],
   "source": [
    "fv = fv.fillna(value=0.0)"
   ]
  },
  {
   "cell_type": "code",
   "execution_count": 26,
   "metadata": {
    "collapsed": false
   },
   "outputs": [
    {
     "data": {
      "text/plain": [
       "BBL                0\n",
       "NumBldgs           0\n",
       "NumFloors          0\n",
       "ResArea            0\n",
       "AssessSqft         0\n",
       "ResArea_PerUnit    0\n",
       "BuildingAge        0\n",
       "Sum_season_vio     0\n",
       "Avg_season_vio     0\n",
       "dtype: int64"
      ]
     },
     "execution_count": 26,
     "metadata": {},
     "output_type": "execute_result"
    }
   ],
   "source": [
    "fv.isnull().sum()"
   ]
  },
  {
   "cell_type": "code",
   "execution_count": 27,
   "metadata": {
    "collapsed": true
   },
   "outputs": [],
   "source": [
    "pluto_updated = pluto_updated.reset_index()"
   ]
  },
  {
   "cell_type": "code",
   "execution_count": 28,
   "metadata": {
    "collapsed": true
   },
   "outputs": [],
   "source": [
    "pluto_updated = pluto_updated.drop('index',axis=1)"
   ]
  },
  {
   "cell_type": "code",
   "execution_count": 29,
   "metadata": {
    "collapsed": true
   },
   "outputs": [],
   "source": [
    "fv = fv.reset_index()\n",
    "fv = fv.drop('index',axis=1)"
   ]
  },
  {
   "cell_type": "code",
   "execution_count": 30,
   "metadata": {
    "collapsed": false
   },
   "outputs": [],
   "source": [
    "pluto_updated['BBL'] = pluto_updated['BBL'].astype(str)\n",
    "fv['BBL'] = fv['BBL'].astype(float)\n",
    "fv['BBL'] = fv['BBL'].astype(int)\n",
    "fv['BBL'] = fv['BBL'].astype(str)"
   ]
  },
  {
   "cell_type": "code",
   "execution_count": 31,
   "metadata": {
    "collapsed": false
   },
   "outputs": [
    {
     "data": {
      "text/plain": [
       "0    5007470028\n",
       "1    5006230252\n",
       "2    5007130017\n",
       "3    5007140091\n",
       "4    5011840039\n",
       "Name: BBL, dtype: object"
      ]
     },
     "execution_count": 31,
     "metadata": {},
     "output_type": "execute_result"
    }
   ],
   "source": [
    "pluto_updated['BBL'].head()"
   ]
  },
  {
   "cell_type": "code",
   "execution_count": 32,
   "metadata": {
    "collapsed": false
   },
   "outputs": [
    {
     "data": {
      "text/plain": [
       "0    5007470028\n",
       "1    5007130017\n",
       "2    5007140091\n",
       "3    5011840039\n",
       "4    5007650033\n",
       "Name: BBL, dtype: object"
      ]
     },
     "execution_count": 32,
     "metadata": {},
     "output_type": "execute_result"
    }
   ],
   "source": [
    "fv['BBL'].head()"
   ]
  },
  {
   "cell_type": "code",
   "execution_count": 33,
   "metadata": {
    "collapsed": true
   },
   "outputs": [],
   "source": [
    "av_shp = pd.merge(pluto_updated, fv, on='BBL', how='right')"
   ]
  },
  {
   "cell_type": "code",
   "execution_count": 34,
   "metadata": {
    "collapsed": false
   },
   "outputs": [],
   "source": [
    "#test = []\n",
    "#for i in range(0,len(av_shp)):\n",
    "    #if type(av_shp['geometry'][i])!=type(av_shp['geometry'][0]):\n",
    "        #test.append(zeros['geometry'][i])"
   ]
  },
  {
   "cell_type": "code",
   "execution_count": 35,
   "metadata": {
    "collapsed": false
   },
   "outputs": [
    {
     "name": "stdout",
     "output_type": "stream",
     "text": [
      "{'init': u'epsg:4326'}\n",
      "<class 'geopandas.geodataframe.GeoDataFrame'>\n"
     ]
    }
   ],
   "source": [
    "print(av_shp.crs)\n",
    "print(type(av_shp))"
   ]
  },
  {
   "cell_type": "code",
   "execution_count": 36,
   "metadata": {
    "collapsed": false
   },
   "outputs": [
    {
     "name": "stdout",
     "output_type": "stream",
     "text": [
      "756433\n"
     ]
    }
   ],
   "source": [
    "print(len(av_shp))"
   ]
  },
  {
   "cell_type": "code",
   "execution_count": 37,
   "metadata": {
    "collapsed": false
   },
   "outputs": [
    {
     "name": "stdout",
     "output_type": "stream",
     "text": [
      "<class 'geopandas.geodataframe.GeoDataFrame'>\n"
     ]
    }
   ],
   "source": [
    "print(type(av_shp))"
   ]
  },
  {
   "cell_type": "code",
   "execution_count": 38,
   "metadata": {
    "collapsed": false
   },
   "outputs": [
    {
     "data": {
      "text/html": [
       "<div>\n",
       "<table border=\"1\" class=\"dataframe\">\n",
       "  <thead>\n",
       "    <tr style=\"text-align: right;\">\n",
       "      <th></th>\n",
       "      <th>BBL</th>\n",
       "      <th>geometry</th>\n",
       "      <th>NumBldgs</th>\n",
       "      <th>NumFloors</th>\n",
       "      <th>ResArea</th>\n",
       "      <th>AssessSqft</th>\n",
       "      <th>ResArea_PerUnit</th>\n",
       "      <th>BuildingAge</th>\n",
       "      <th>Sum_season_vio</th>\n",
       "      <th>Avg_season_vio</th>\n",
       "    </tr>\n",
       "  </thead>\n",
       "  <tbody>\n",
       "    <tr>\n",
       "      <th>0</th>\n",
       "      <td>5007470028</td>\n",
       "      <td>POLYGON ((-74.14250944979312 40.60980609846242...</td>\n",
       "      <td>1</td>\n",
       "      <td>1.0</td>\n",
       "      <td>1488</td>\n",
       "      <td>15.725806</td>\n",
       "      <td>744.0</td>\n",
       "      <td>57</td>\n",
       "      <td>0.0</td>\n",
       "      <td>0.0</td>\n",
       "    </tr>\n",
       "    <tr>\n",
       "      <th>1</th>\n",
       "      <td>5007130017</td>\n",
       "      <td>POLYGON ((-74.12595312726884 40.60946755523582...</td>\n",
       "      <td>2</td>\n",
       "      <td>2.5</td>\n",
       "      <td>1316</td>\n",
       "      <td>17.174772</td>\n",
       "      <td>1316.0</td>\n",
       "      <td>97</td>\n",
       "      <td>0.0</td>\n",
       "      <td>0.0</td>\n",
       "    </tr>\n",
       "  </tbody>\n",
       "</table>\n",
       "</div>"
      ],
      "text/plain": [
       "          BBL                                           geometry  NumBldgs  \\\n",
       "0  5007470028  POLYGON ((-74.14250944979312 40.60980609846242...         1   \n",
       "1  5007130017  POLYGON ((-74.12595312726884 40.60946755523582...         2   \n",
       "\n",
       "   NumFloors  ResArea  AssessSqft  ResArea_PerUnit  BuildingAge  \\\n",
       "0        1.0     1488   15.725806            744.0           57   \n",
       "1        2.5     1316   17.174772           1316.0           97   \n",
       "\n",
       "   Sum_season_vio  Avg_season_vio  \n",
       "0             0.0             0.0  \n",
       "1             0.0             0.0  "
      ]
     },
     "execution_count": 38,
     "metadata": {},
     "output_type": "execute_result"
    }
   ],
   "source": [
    "av_shp.head(2)"
   ]
  },
  {
   "cell_type": "code",
   "execution_count": 39,
   "metadata": {
    "collapsed": true
   },
   "outputs": [],
   "source": [
    "av_shp['Sum_season_vio'] = av_shp['Sum_season_vio'].astype(int)"
   ]
  },
  {
   "cell_type": "raw",
   "metadata": {
    "collapsed": false
   },
   "source": [
    "av_shp.to_file('../data_processed/bbl_vios_sum_season.shp', driver='ESRI Shapefile')"
   ]
  },
  {
   "cell_type": "code",
   "execution_count": 40,
   "metadata": {
    "collapsed": true
   },
   "outputs": [],
   "source": [
    "av_shp = gpd.read_file('../data_processed/bbl_vios_sum_season.shp')"
   ]
  },
  {
   "cell_type": "code",
   "execution_count": 41,
   "metadata": {
    "collapsed": false
   },
   "outputs": [
    {
     "data": {
      "text/html": [
       "<div>\n",
       "<table border=\"1\" class=\"dataframe\">\n",
       "  <thead>\n",
       "    <tr style=\"text-align: right;\">\n",
       "      <th></th>\n",
       "      <th>AssessSqft</th>\n",
       "      <th>Avg_season</th>\n",
       "      <th>BBL</th>\n",
       "      <th>BuildingAg</th>\n",
       "      <th>NumBldgs</th>\n",
       "      <th>NumFloors</th>\n",
       "      <th>ResArea</th>\n",
       "      <th>ResArea_Pe</th>\n",
       "      <th>Sum_season</th>\n",
       "      <th>geometry</th>\n",
       "    </tr>\n",
       "  </thead>\n",
       "  <tbody>\n",
       "    <tr>\n",
       "      <th>0</th>\n",
       "      <td>15.725806</td>\n",
       "      <td>0.0</td>\n",
       "      <td>5007470028</td>\n",
       "      <td>57</td>\n",
       "      <td>1</td>\n",
       "      <td>1.0</td>\n",
       "      <td>1488</td>\n",
       "      <td>744.0</td>\n",
       "      <td>0</td>\n",
       "      <td>POLYGON ((-74.14250944979312 40.60980609846242...</td>\n",
       "    </tr>\n",
       "    <tr>\n",
       "      <th>1</th>\n",
       "      <td>17.174772</td>\n",
       "      <td>0.0</td>\n",
       "      <td>5007130017</td>\n",
       "      <td>97</td>\n",
       "      <td>2</td>\n",
       "      <td>2.5</td>\n",
       "      <td>1316</td>\n",
       "      <td>1316.0</td>\n",
       "      <td>0</td>\n",
       "      <td>POLYGON ((-74.12595312726884 40.60946755523582...</td>\n",
       "    </tr>\n",
       "    <tr>\n",
       "      <th>2</th>\n",
       "      <td>13.135283</td>\n",
       "      <td>0.0</td>\n",
       "      <td>5007140091</td>\n",
       "      <td>42</td>\n",
       "      <td>1</td>\n",
       "      <td>2.0</td>\n",
       "      <td>2188</td>\n",
       "      <td>1094.0</td>\n",
       "      <td>0</td>\n",
       "      <td>POLYGON ((-74.12313095467215 40.60801121850653...</td>\n",
       "    </tr>\n",
       "    <tr>\n",
       "      <th>3</th>\n",
       "      <td>9.246656</td>\n",
       "      <td>0.0</td>\n",
       "      <td>5011840039</td>\n",
       "      <td>52</td>\n",
       "      <td>1</td>\n",
       "      <td>2.0</td>\n",
       "      <td>2392</td>\n",
       "      <td>2392.0</td>\n",
       "      <td>0</td>\n",
       "      <td>POLYGON ((-74.15227503511518 40.62802680723158...</td>\n",
       "    </tr>\n",
       "    <tr>\n",
       "      <th>4</th>\n",
       "      <td>17.458111</td>\n",
       "      <td>0.0</td>\n",
       "      <td>5007650033</td>\n",
       "      <td>92</td>\n",
       "      <td>2</td>\n",
       "      <td>2.5</td>\n",
       "      <td>1122</td>\n",
       "      <td>1122.0</td>\n",
       "      <td>0</td>\n",
       "      <td>POLYGON ((-74.13032190538277 40.60753648104292...</td>\n",
       "    </tr>\n",
       "  </tbody>\n",
       "</table>\n",
       "</div>"
      ],
      "text/plain": [
       "   AssessSqft  Avg_season         BBL  BuildingAg  NumBldgs  NumFloors  \\\n",
       "0   15.725806         0.0  5007470028          57         1        1.0   \n",
       "1   17.174772         0.0  5007130017          97         2        2.5   \n",
       "2   13.135283         0.0  5007140091          42         1        2.0   \n",
       "3    9.246656         0.0  5011840039          52         1        2.0   \n",
       "4   17.458111         0.0  5007650033          92         2        2.5   \n",
       "\n",
       "   ResArea  ResArea_Pe  Sum_season  \\\n",
       "0     1488       744.0           0   \n",
       "1     1316      1316.0           0   \n",
       "2     2188      1094.0           0   \n",
       "3     2392      2392.0           0   \n",
       "4     1122      1122.0           0   \n",
       "\n",
       "                                            geometry  \n",
       "0  POLYGON ((-74.14250944979312 40.60980609846242...  \n",
       "1  POLYGON ((-74.12595312726884 40.60946755523582...  \n",
       "2  POLYGON ((-74.12313095467215 40.60801121850653...  \n",
       "3  POLYGON ((-74.15227503511518 40.62802680723158...  \n",
       "4  POLYGON ((-74.13032190538277 40.60753648104292...  "
      ]
     },
     "execution_count": 41,
     "metadata": {},
     "output_type": "execute_result"
    }
   ],
   "source": [
    "av_shp.head()"
   ]
  },
  {
   "cell_type": "code",
   "execution_count": 42,
   "metadata": {
    "collapsed": true
   },
   "outputs": [],
   "source": [
    "av_shp = av_shp.rename(columns={'Sum_season':'Sum_season_vio','Avg_season':'Avg_season_vio', \\\n",
    "                               'BuildingAg':'BuildingAge', 'ResArea_Pe':'ResArea_PerUnit'})"
   ]
  },
  {
   "cell_type": "markdown",
   "metadata": {
    "collapsed": true
   },
   "source": [
    "#### linear model predicting total volume of seasonal heat and hot water violations"
   ]
  },
  {
   "cell_type": "code",
   "execution_count": 43,
   "metadata": {
    "collapsed": false
   },
   "outputs": [
    {
     "name": "stdout",
     "output_type": "stream",
     "text": [
      "                            OLS Regression Results                            \n",
      "==============================================================================\n",
      "Dep. Variable:         Sum_season_vio   R-squared:                       0.021\n",
      "Model:                            OLS   Adj. R-squared:                  0.021\n",
      "Method:                 Least Squares   F-statistic:                     2651.\n",
      "Date:                Sat, 15 Apr 2017   Prob (F-statistic):               0.00\n",
      "Time:                        16:19:22   Log-Likelihood:            -8.9470e+05\n",
      "No. Observations:              756433   AIC:                         1.789e+06\n",
      "Df Residuals:                  756426   BIC:                         1.789e+06\n",
      "Df Model:                           6                                         \n",
      "Covariance Type:            nonrobust                                         \n",
      "===================================================================================\n",
      "                      coef    std err          t      P>|t|      [0.025      0.975]\n",
      "-----------------------------------------------------------------------------------\n",
      "Intercept          -0.0634      0.004    -17.505      0.000      -0.070      -0.056\n",
      "NumBldgs           -0.0022      0.001     -3.618      0.000      -0.003      -0.001\n",
      "NumFloors           0.0490      0.001     64.285      0.000       0.047       0.050\n",
      "ResArea          1.769e-06    4.4e-08     40.182      0.000    1.68e-06    1.86e-06\n",
      "AssessSqft         -0.0009   5.17e-05    -16.576      0.000      -0.001      -0.001\n",
      "ResArea_PerUnit -3.969e-05   1.11e-06    -35.873      0.000   -4.19e-05   -3.75e-05\n",
      "BuildingAge         0.0011    3.2e-05     33.106      0.000       0.001       0.001\n",
      "==============================================================================\n",
      "Omnibus:                  1831138.886   Durbin-Watson:                   1.969\n",
      "Prob(Omnibus):                  0.000   Jarque-Bera (JB):      39963404961.423\n",
      "Skew:                          25.166   Prob(JB):                         0.00\n",
      "Kurtosis:                    1127.909   Cond. No.                     1.04e+05\n",
      "==============================================================================\n",
      "\n",
      "Warnings:\n",
      "[1] Standard Errors assume that the covariance matrix of the errors is correctly specified.\n",
      "[2] The condition number is large, 1.04e+05. This might indicate that there are\n",
      "strong multicollinearity or other numerical problems.\n"
     ]
    }
   ],
   "source": [
    "mod = smf.ols(formula='Sum_season_vio ~ NumBldgs + NumFloors + ResArea + AssessSqft + ResArea_PerUnit + BuildingAge'\\\n",
    "              , data=av_shp)\n",
    "res = mod.fit()\n",
    "print res.summary()"
   ]
  },
  {
   "cell_type": "markdown",
   "metadata": {},
   "source": [
    "#### linear model predicting average seasonal heat and hot water violations"
   ]
  },
  {
   "cell_type": "code",
   "execution_count": 44,
   "metadata": {
    "collapsed": false
   },
   "outputs": [
    {
     "name": "stdout",
     "output_type": "stream",
     "text": [
      "                            OLS Regression Results                            \n",
      "==============================================================================\n",
      "Dep. Variable:         Avg_season_vio   R-squared:                       0.021\n",
      "Model:                            OLS   Adj. R-squared:                  0.021\n",
      "Method:                 Least Squares   F-statistic:                     2651.\n",
      "Date:                Sat, 15 Apr 2017   Prob (F-statistic):               0.00\n",
      "Time:                        16:19:23   Log-Likelihood:             1.5394e+05\n",
      "No. Observations:              756433   AIC:                        -3.079e+05\n",
      "Df Residuals:                  756426   BIC:                        -3.078e+05\n",
      "Df Model:                           6                                         \n",
      "Covariance Type:            nonrobust                                         \n",
      "===================================================================================\n",
      "                      coef    std err          t      P>|t|      [0.025      0.975]\n",
      "-----------------------------------------------------------------------------------\n",
      "Intercept          -0.0158      0.001    -17.505      0.000      -0.018      -0.014\n",
      "NumBldgs           -0.0005      0.000     -3.618      0.000      -0.001      -0.000\n",
      "NumFloors           0.0122      0.000     64.285      0.000       0.012       0.013\n",
      "ResArea          4.423e-07    1.1e-08     40.182      0.000    4.21e-07    4.64e-07\n",
      "AssessSqft         -0.0002   1.29e-05    -16.576      0.000      -0.000      -0.000\n",
      "ResArea_PerUnit -9.924e-06   2.77e-07    -35.873      0.000   -1.05e-05   -9.38e-06\n",
      "BuildingAge         0.0003   8.01e-06     33.106      0.000       0.000       0.000\n",
      "==============================================================================\n",
      "Omnibus:                  1831138.886   Durbin-Watson:                   1.969\n",
      "Prob(Omnibus):                  0.000   Jarque-Bera (JB):      39963404961.423\n",
      "Skew:                          25.166   Prob(JB):                         0.00\n",
      "Kurtosis:                    1127.909   Cond. No.                     1.04e+05\n",
      "==============================================================================\n",
      "\n",
      "Warnings:\n",
      "[1] Standard Errors assume that the covariance matrix of the errors is correctly specified.\n",
      "[2] The condition number is large, 1.04e+05. This might indicate that there are\n",
      "strong multicollinearity or other numerical problems.\n"
     ]
    }
   ],
   "source": [
    "mod = smf.ols(formula='Avg_season_vio ~ NumBldgs + NumFloors + ResArea + AssessSqft + ResArea_PerUnit + BuildingAge'\\\n",
    "              , data=av_shp)\n",
    "res = mod.fit()\n",
    "print res.summary()"
   ]
  },
  {
   "cell_type": "markdown",
   "metadata": {},
   "source": [
    "#### import boilers dataset"
   ]
  },
  {
   "cell_type": "code",
   "execution_count": 45,
   "metadata": {
    "collapsed": true
   },
   "outputs": [],
   "source": [
    "boilers = pd.read_csv('../data_processed/boilers.csv')\n",
    "boilers = boilers.drop('Unnamed: 0',axis=1)"
   ]
  },
  {
   "cell_type": "code",
   "execution_count": 46,
   "metadata": {
    "collapsed": false
   },
   "outputs": [
    {
     "data": {
      "text/html": [
       "<div>\n",
       "<table border=\"1\" class=\"dataframe\">\n",
       "  <thead>\n",
       "    <tr style=\"text-align: right;\">\n",
       "      <th></th>\n",
       "      <th>BBL</th>\n",
       "      <th>avg_consumption</th>\n",
       "      <th>avg_boiler_age</th>\n",
       "      <th>avg_boiler_capacity</th>\n",
       "    </tr>\n",
       "  </thead>\n",
       "  <tbody>\n",
       "    <tr>\n",
       "      <th>0</th>\n",
       "      <td>1000087501</td>\n",
       "      <td>69806.0</td>\n",
       "      <td>26.0</td>\n",
       "      <td>17.92</td>\n",
       "    </tr>\n",
       "    <tr>\n",
       "      <th>1</th>\n",
       "      <td>1000130001</td>\n",
       "      <td>45900.0</td>\n",
       "      <td>47.0</td>\n",
       "      <td>16.80</td>\n",
       "    </tr>\n",
       "  </tbody>\n",
       "</table>\n",
       "</div>"
      ],
      "text/plain": [
       "          BBL  avg_consumption  avg_boiler_age  avg_boiler_capacity\n",
       "0  1000087501          69806.0            26.0                17.92\n",
       "1  1000130001          45900.0            47.0                16.80"
      ]
     },
     "execution_count": 46,
     "metadata": {},
     "output_type": "execute_result"
    }
   ],
   "source": [
    "boilers.head(2)"
   ]
  },
  {
   "cell_type": "code",
   "execution_count": 47,
   "metadata": {
    "collapsed": false
   },
   "outputs": [
    {
     "name": "stdout",
     "output_type": "stream",
     "text": [
      "object\n",
      "int64\n"
     ]
    }
   ],
   "source": [
    "print av_shp['BBL'].dtypes\n",
    "print boilers['BBL'].dtypes"
   ]
  },
  {
   "cell_type": "code",
   "execution_count": 48,
   "metadata": {
    "collapsed": true
   },
   "outputs": [],
   "source": [
    "av_shp['BBL'] = av_shp['BBL'].astype(int)"
   ]
  },
  {
   "cell_type": "code",
   "execution_count": 49,
   "metadata": {
    "collapsed": true
   },
   "outputs": [],
   "source": [
    "boilers = pd.merge(boilers, av_shp, on='BBL')"
   ]
  },
  {
   "cell_type": "code",
   "execution_count": 50,
   "metadata": {
    "collapsed": false
   },
   "outputs": [
    {
     "data": {
      "text/plain": [
       "6296"
      ]
     },
     "execution_count": 50,
     "metadata": {},
     "output_type": "execute_result"
    }
   ],
   "source": [
    "len(boilers)"
   ]
  },
  {
   "cell_type": "code",
   "execution_count": 51,
   "metadata": {
    "collapsed": false,
    "scrolled": true
   },
   "outputs": [
    {
     "data": {
      "text/plain": [
       "Index([                u'BBL',     u'avg_consumption',      u'avg_boiler_age',\n",
       "       u'avg_boiler_capacity',          u'AssessSqft',      u'Avg_season_vio',\n",
       "               u'BuildingAge',            u'NumBldgs',           u'NumFloors',\n",
       "                   u'ResArea',     u'ResArea_PerUnit',      u'Sum_season_vio',\n",
       "                  u'geometry'],\n",
       "      dtype='object')"
      ]
     },
     "execution_count": 51,
     "metadata": {},
     "output_type": "execute_result"
    }
   ],
   "source": [
    "boilers.columns"
   ]
  },
  {
   "cell_type": "markdown",
   "metadata": {},
   "source": [
    "#### predict average seasonal heat and hot water violations with boiler characteristics "
   ]
  },
  {
   "cell_type": "code",
   "execution_count": 52,
   "metadata": {
    "collapsed": false
   },
   "outputs": [
    {
     "name": "stdout",
     "output_type": "stream",
     "text": [
      "                            OLS Regression Results                            \n",
      "==============================================================================\n",
      "Dep. Variable:         Avg_season_vio   R-squared:                       0.037\n",
      "Model:                            OLS   Adj. R-squared:                  0.036\n",
      "Method:                 Least Squares   F-statistic:                     30.43\n",
      "Date:                Sat, 15 Apr 2017   Prob (F-statistic):           3.81e-47\n",
      "Time:                        16:19:24   Log-Likelihood:                -8187.6\n",
      "No. Observations:                6296   AIC:                         1.639e+04\n",
      "Df Residuals:                    6287   BIC:                         1.645e+04\n",
      "Df Model:                           8                                         \n",
      "Covariance Type:            nonrobust                                         \n",
      "=======================================================================================\n",
      "                          coef    std err          t      P>|t|      [0.025      0.975]\n",
      "---------------------------------------------------------------------------------------\n",
      "Intercept               0.6738      0.043     15.524      0.000       0.589       0.759\n",
      "NumBldgs               -0.0043      0.002     -2.532      0.011      -0.008      -0.001\n",
      "NumFloors              -0.0241      0.003     -8.255      0.000      -0.030      -0.018\n",
      "ResArea              6.396e-07   1.62e-07      3.951      0.000    3.22e-07    9.57e-07\n",
      "AssessSqft             -0.0018      0.000     -7.296      0.000      -0.002      -0.001\n",
      "ResArea_PerUnit     -6.792e-05   1.95e-05     -3.485      0.000      -0.000   -2.97e-05\n",
      "avg_consumption      1.506e-07   2.23e-07      0.675      0.500   -2.87e-07    5.88e-07\n",
      "avg_boiler_age         -0.0012      0.001     -0.979      0.327      -0.004       0.001\n",
      "avg_boiler_capacity -2.163e-09   7.03e-08     -0.031      0.975    -1.4e-07    1.36e-07\n",
      "==============================================================================\n",
      "Omnibus:                     7432.121   Durbin-Watson:                   1.816\n",
      "Prob(Omnibus):                  0.000   Jarque-Bera (JB):          1210805.330\n",
      "Skew:                           6.113   Prob(JB):                         0.00\n",
      "Kurtosis:                      69.828   Cond. No.                     6.19e+05\n",
      "==============================================================================\n",
      "\n",
      "Warnings:\n",
      "[1] Standard Errors assume that the covariance matrix of the errors is correctly specified.\n",
      "[2] The condition number is large, 6.19e+05. This might indicate that there are\n",
      "strong multicollinearity or other numerical problems.\n"
     ]
    }
   ],
   "source": [
    "mod = smf.ols(formula='Avg_season_vio ~ NumBldgs + NumFloors + ResArea + AssessSqft + ResArea_PerUnit + avg_consumption + avg_boiler_age + avg_boiler_capacity'\\\n",
    "              , data=boilers)\n",
    "res = mod.fit()\n",
    "print res.summary()"
   ]
  },
  {
   "cell_type": "markdown",
   "metadata": {},
   "source": [
    "#### predict total seasonal heat and hot water violations with boiler characteristics"
   ]
  },
  {
   "cell_type": "code",
   "execution_count": 53,
   "metadata": {
    "collapsed": false,
    "scrolled": false
   },
   "outputs": [
    {
     "name": "stdout",
     "output_type": "stream",
     "text": [
      "                            OLS Regression Results                            \n",
      "==============================================================================\n",
      "Dep. Variable:         Sum_season_vio   R-squared:                       0.037\n",
      "Model:                            OLS   Adj. R-squared:                  0.036\n",
      "Method:                 Least Squares   F-statistic:                     30.43\n",
      "Date:                Sat, 15 Apr 2017   Prob (F-statistic):           3.81e-47\n",
      "Time:                        16:19:24   Log-Likelihood:                -16916.\n",
      "No. Observations:                6296   AIC:                         3.385e+04\n",
      "Df Residuals:                    6287   BIC:                         3.391e+04\n",
      "Df Model:                           8                                         \n",
      "Covariance Type:            nonrobust                                         \n",
      "=======================================================================================\n",
      "                          coef    std err          t      P>|t|      [0.025      0.975]\n",
      "---------------------------------------------------------------------------------------\n",
      "Intercept               2.6950      0.174     15.524      0.000       2.355       3.035\n",
      "NumBldgs               -0.0173      0.007     -2.532      0.011      -0.031      -0.004\n",
      "NumFloors              -0.0962      0.012     -8.255      0.000      -0.119      -0.073\n",
      "ResArea              2.558e-06   6.48e-07      3.951      0.000    1.29e-06    3.83e-06\n",
      "AssessSqft             -0.0072      0.001     -7.296      0.000      -0.009      -0.005\n",
      "ResArea_PerUnit        -0.0003    7.8e-05     -3.485      0.000      -0.000      -0.000\n",
      "avg_consumption      6.024e-07   8.92e-07      0.675      0.500   -1.15e-06    2.35e-06\n",
      "avg_boiler_age         -0.0049      0.005     -0.979      0.327      -0.015       0.005\n",
      "avg_boiler_capacity -8.653e-09   2.81e-07     -0.031      0.975    -5.6e-07    5.42e-07\n",
      "==============================================================================\n",
      "Omnibus:                     7432.121   Durbin-Watson:                   1.816\n",
      "Prob(Omnibus):                  0.000   Jarque-Bera (JB):          1210805.330\n",
      "Skew:                           6.113   Prob(JB):                         0.00\n",
      "Kurtosis:                      69.828   Cond. No.                     6.19e+05\n",
      "==============================================================================\n",
      "\n",
      "Warnings:\n",
      "[1] Standard Errors assume that the covariance matrix of the errors is correctly specified.\n",
      "[2] The condition number is large, 6.19e+05. This might indicate that there are\n",
      "strong multicollinearity or other numerical problems.\n"
     ]
    }
   ],
   "source": [
    "mod = smf.ols(formula='Sum_season_vio ~ NumBldgs + NumFloors + ResArea + AssessSqft + ResArea_PerUnit + avg_consumption + avg_boiler_age + avg_boiler_capacity'\\\n",
    "              , data=boilers)\n",
    "res = mod.fit()\n",
    "print res.summary()"
   ]
  },
  {
   "cell_type": "markdown",
   "metadata": {},
   "source": [
    "#### try linear model on bbls with violations"
   ]
  },
  {
   "cell_type": "code",
   "execution_count": 54,
   "metadata": {
    "collapsed": true
   },
   "outputs": [],
   "source": [
    "non_zeros = av_shp[av_shp['Avg_season_vio'] > 0]"
   ]
  },
  {
   "cell_type": "code",
   "execution_count": 55,
   "metadata": {
    "collapsed": false
   },
   "outputs": [
    {
     "name": "stdout",
     "output_type": "stream",
     "text": [
      "                            OLS Regression Results                            \n",
      "==============================================================================\n",
      "Dep. Variable:         Avg_season_vio   R-squared:                       0.014\n",
      "Model:                            OLS   Adj. R-squared:                  0.014\n",
      "Method:                 Least Squares   F-statistic:                     41.58\n",
      "Date:                Sat, 15 Apr 2017   Prob (F-statistic):           1.27e-50\n",
      "Time:                        16:19:25   Log-Likelihood:                -25152.\n",
      "No. Observations:               17234   AIC:                         5.032e+04\n",
      "Df Residuals:                   17227   BIC:                         5.037e+04\n",
      "Df Model:                           6                                         \n",
      "Covariance Type:            nonrobust                                         \n",
      "===================================================================================\n",
      "                      coef    std err          t      P>|t|      [0.025      0.975]\n",
      "-----------------------------------------------------------------------------------\n",
      "Intercept           0.4090      0.035     11.763      0.000       0.341       0.477\n",
      "NumBldgs            0.0026      0.002      1.120      0.263      -0.002       0.007\n",
      "NumFloors           0.0314      0.004      8.398      0.000       0.024       0.039\n",
      "ResArea          3.531e-07   9.87e-08      3.578      0.000     1.6e-07    5.47e-07\n",
      "AssessSqft         -0.0020      0.000     -5.632      0.000      -0.003      -0.001\n",
      "ResArea_PerUnit -1.054e-05   7.47e-06     -1.410      0.158   -2.52e-05    4.11e-06\n",
      "BuildingAge         0.0036      0.000     11.063      0.000       0.003       0.004\n",
      "==============================================================================\n",
      "Omnibus:                    17347.762   Durbin-Watson:                   1.968\n",
      "Prob(Omnibus):                  0.000   Jarque-Bera (JB):          1374307.384\n",
      "Skew:                           4.885   Prob(JB):                         0.00\n",
      "Kurtosis:                      45.643   Cond. No.                     4.35e+05\n",
      "==============================================================================\n",
      "\n",
      "Warnings:\n",
      "[1] Standard Errors assume that the covariance matrix of the errors is correctly specified.\n",
      "[2] The condition number is large, 4.35e+05. This might indicate that there are\n",
      "strong multicollinearity or other numerical problems.\n"
     ]
    }
   ],
   "source": [
    "mod = smf.ols(formula='Avg_season_vio ~ NumBldgs + NumFloors + ResArea + AssessSqft + ResArea_PerUnit + BuildingAge'\\\n",
    "              , data=non_zeros)\n",
    "res = mod.fit()\n",
    "print res.summary()"
   ]
  },
  {
   "cell_type": "markdown",
   "metadata": {},
   "source": [
    "#### try linear model on bbls with violations, including boiler characteristics"
   ]
  },
  {
   "cell_type": "code",
   "execution_count": 56,
   "metadata": {
    "collapsed": true
   },
   "outputs": [],
   "source": [
    "non_zeros_boiler = boilers[boilers['Avg_season_vio']>0]"
   ]
  },
  {
   "cell_type": "code",
   "execution_count": 57,
   "metadata": {
    "collapsed": false
   },
   "outputs": [
    {
     "name": "stdout",
     "output_type": "stream",
     "text": [
      "                            OLS Regression Results                            \n",
      "==============================================================================\n",
      "Dep. Variable:         Avg_season_vio   R-squared:                       0.022\n",
      "Model:                            OLS   Adj. R-squared:                  0.019\n",
      "Method:                 Least Squares   F-statistic:                     6.039\n",
      "Date:                Sat, 15 Apr 2017   Prob (F-statistic):           1.06e-07\n",
      "Time:                        16:19:25   Log-Likelihood:                -3576.2\n",
      "No. Observations:                2136   AIC:                             7170.\n",
      "Df Residuals:                    2127   BIC:                             7221.\n",
      "Df Model:                           8                                         \n",
      "Covariance Type:            nonrobust                                         \n",
      "=======================================================================================\n",
      "                          coef    std err          t      P>|t|      [0.025      0.975]\n",
      "---------------------------------------------------------------------------------------\n",
      "Intercept               1.4037      0.159      8.828      0.000       1.092       1.716\n",
      "NumBldgs               -0.0024      0.006     -0.384      0.701      -0.015       0.010\n",
      "NumFloors              -0.0517      0.013     -4.001      0.000      -0.077      -0.026\n",
      "ResArea              1.918e-06   5.11e-07      3.750      0.000    9.15e-07    2.92e-06\n",
      "AssessSqft             -0.0044      0.002     -2.672      0.008      -0.008      -0.001\n",
      "ResArea_PerUnit     -6.862e-05      0.000     -0.548      0.583      -0.000       0.000\n",
      "avg_consumption      3.013e-07   7.09e-07      0.425      0.671   -1.09e-06    1.69e-06\n",
      "avg_boiler_age         -0.0004      0.003     -0.129      0.898      -0.007       0.006\n",
      "avg_boiler_capacity -2.065e-08   2.21e-07     -0.093      0.926   -4.54e-07    4.13e-07\n",
      "==============================================================================\n",
      "Omnibus:                     1929.210   Durbin-Watson:                   1.882\n",
      "Prob(Omnibus):                  0.000   Jarque-Bera (JB):            89114.544\n",
      "Skew:                           4.138   Prob(JB):                         0.00\n",
      "Kurtosis:                      33.542   Cond. No.                     7.32e+05\n",
      "==============================================================================\n",
      "\n",
      "Warnings:\n",
      "[1] Standard Errors assume that the covariance matrix of the errors is correctly specified.\n",
      "[2] The condition number is large, 7.32e+05. This might indicate that there are\n",
      "strong multicollinearity or other numerical problems.\n"
     ]
    }
   ],
   "source": [
    "mod = smf.ols(formula='Avg_season_vio ~ NumBldgs + NumFloors + ResArea + AssessSqft + ResArea_PerUnit + avg_consumption + avg_boiler_age + avg_boiler_capacity'\\\n",
    "              , data=non_zeros_boiler)\n",
    "res = mod.fit()\n",
    "print res.summary()"
   ]
  },
  {
   "cell_type": "markdown",
   "metadata": {},
   "source": [
    "#### create new df from log transformations identified in notebook 'mappluto_data_distribution_331'"
   ]
  },
  {
   "cell_type": "code",
   "execution_count": 58,
   "metadata": {
    "collapsed": false
   },
   "outputs": [],
   "source": [
    "### transformed data\n",
    "transformed = pd.DataFrame()\n",
    "transformed['BBL'] = av_shp['BBL']\n",
    "transformed['Avg_season_vio'] = av_shp['Avg_season_vio']\n",
    "transformed['Sum_season_vio'] = av_shp['Sum_season_vio']\n",
    "#transformed['BuiltFAR'] = np.log(a['BuiltFAR'])\n",
    "transformed['NumBldgs'] = np.log(av_shp['NumBldgs'])\n",
    "transformed['NumFloors'] = np.log(av_shp['NumFloors'])\n",
    "transformed['ResArea'] = np.log(av_shp['ResArea'])\n",
    "#transformed['UnitsRes'] = np.log(a['UnitsRes'])\n",
    "transformed['BuildingAge'] = av_shp['BuildingAge']\n",
    "transformed['AssessSqft'] = np.log(av_shp['AssessSqft'])\n",
    "#transformed['AssessLand'] = np.log(a['AssessLand'])\n",
    "transformed['ResArea_PerUnit'] = np.log(av_shp['ResArea_PerUnit'])\n",
    "transformed['Avg_season_vio_normed'] = transformed['Avg_season_vio']/av_shp['NumBldgs']"
   ]
  },
  {
   "cell_type": "markdown",
   "metadata": {},
   "source": [
    "#### linear model on transformed data"
   ]
  },
  {
   "cell_type": "code",
   "execution_count": 59,
   "metadata": {
    "collapsed": false
   },
   "outputs": [
    {
     "name": "stdout",
     "output_type": "stream",
     "text": [
      "                            OLS Regression Results                            \n",
      "==============================================================================\n",
      "Dep. Variable:         Avg_season_vio   R-squared:                       0.052\n",
      "Model:                            OLS   Adj. R-squared:                  0.052\n",
      "Method:                 Least Squares   F-statistic:                     6968.\n",
      "Date:                Sat, 15 Apr 2017   Prob (F-statistic):               0.00\n",
      "Time:                        16:19:26   Log-Likelihood:             1.6642e+05\n",
      "No. Observations:              756433   AIC:                        -3.328e+05\n",
      "Df Residuals:                  756426   BIC:                        -3.327e+05\n",
      "Df Model:                           6                                         \n",
      "Covariance Type:            nonrobust                                         \n",
      "===================================================================================\n",
      "                      coef    std err          t      P>|t|      [0.025      0.975]\n",
      "-----------------------------------------------------------------------------------\n",
      "Intercept          -0.1702      0.005    -33.521      0.000      -0.180      -0.160\n",
      "NumBldgs           -0.0043      0.001     -6.161      0.000      -0.006      -0.003\n",
      "NumFloors          -0.0108      0.001    -12.377      0.000      -0.013      -0.009\n",
      "ResArea             0.0621      0.000    144.256      0.000       0.061       0.063\n",
      "AssessSqft         -0.0064      0.000    -14.787      0.000      -0.007      -0.006\n",
      "ResArea_PerUnit    -0.0397      0.001    -69.620      0.000      -0.041      -0.039\n",
      "BuildingAge         0.0002   8.16e-06     25.973      0.000       0.000       0.000\n",
      "==============================================================================\n",
      "Omnibus:                  1835431.536   Durbin-Watson:                   1.976\n",
      "Prob(Omnibus):                  0.000   Jarque-Bera (JB):      42376508003.264\n",
      "Skew:                          25.288   Prob(JB):                         0.00\n",
      "Kurtosis:                    1161.429   Cond. No.                     1.89e+03\n",
      "==============================================================================\n",
      "\n",
      "Warnings:\n",
      "[1] Standard Errors assume that the covariance matrix of the errors is correctly specified.\n",
      "[2] The condition number is large, 1.89e+03. This might indicate that there are\n",
      "strong multicollinearity or other numerical problems.\n"
     ]
    }
   ],
   "source": [
    "mod = smf.ols(formula='Avg_season_vio ~ NumBldgs + NumFloors + ResArea + AssessSqft + ResArea_PerUnit + BuildingAge'\\\n",
    "              , data=transformed)\n",
    "res = mod.fit()\n",
    "print res.summary()"
   ]
  },
  {
   "cell_type": "code",
   "execution_count": 60,
   "metadata": {
    "collapsed": false
   },
   "outputs": [
    {
     "name": "stdout",
     "output_type": "stream",
     "text": [
      "                            OLS Regression Results                            \n",
      "==============================================================================\n",
      "Dep. Variable:         Sum_season_vio   R-squared:                       0.052\n",
      "Model:                            OLS   Adj. R-squared:                  0.052\n",
      "Method:                 Least Squares   F-statistic:                     6968.\n",
      "Date:                Sat, 15 Apr 2017   Prob (F-statistic):               0.00\n",
      "Time:                        16:19:27   Log-Likelihood:            -8.8222e+05\n",
      "No. Observations:              756433   AIC:                         1.764e+06\n",
      "Df Residuals:                  756426   BIC:                         1.765e+06\n",
      "Df Model:                           6                                         \n",
      "Covariance Type:            nonrobust                                         \n",
      "===================================================================================\n",
      "                      coef    std err          t      P>|t|      [0.025      0.975]\n",
      "-----------------------------------------------------------------------------------\n",
      "Intercept          -0.6807      0.020    -33.521      0.000      -0.720      -0.641\n",
      "NumBldgs           -0.0172      0.003     -6.161      0.000      -0.023      -0.012\n",
      "NumFloors          -0.0433      0.003    -12.377      0.000      -0.050      -0.036\n",
      "ResArea             0.2483      0.002    144.256      0.000       0.245       0.252\n",
      "AssessSqft         -0.0257      0.002    -14.787      0.000      -0.029      -0.022\n",
      "ResArea_PerUnit    -0.1587      0.002    -69.620      0.000      -0.163      -0.154\n",
      "BuildingAge         0.0008   3.26e-05     25.973      0.000       0.001       0.001\n",
      "==============================================================================\n",
      "Omnibus:                  1835431.536   Durbin-Watson:                   1.976\n",
      "Prob(Omnibus):                  0.000   Jarque-Bera (JB):      42376508003.264\n",
      "Skew:                          25.288   Prob(JB):                         0.00\n",
      "Kurtosis:                    1161.429   Cond. No.                     1.89e+03\n",
      "==============================================================================\n",
      "\n",
      "Warnings:\n",
      "[1] Standard Errors assume that the covariance matrix of the errors is correctly specified.\n",
      "[2] The condition number is large, 1.89e+03. This might indicate that there are\n",
      "strong multicollinearity or other numerical problems.\n"
     ]
    }
   ],
   "source": [
    "mod = smf.ols(formula='Sum_season_vio ~ NumBldgs + NumFloors + ResArea + AssessSqft + ResArea_PerUnit + BuildingAge'\\\n",
    "              , data=transformed)\n",
    "res = mod.fit()\n",
    "print res.summary()"
   ]
  },
  {
   "cell_type": "markdown",
   "metadata": {},
   "source": [
    "#### linear model on transformed data and normalized violation dependent variable by # of buildings, which was then dropped from the feature space"
   ]
  },
  {
   "cell_type": "code",
   "execution_count": 61,
   "metadata": {
    "collapsed": false
   },
   "outputs": [
    {
     "name": "stdout",
     "output_type": "stream",
     "text": [
      "                              OLS Regression Results                             \n",
      "=================================================================================\n",
      "Dep. Variable:     Avg_season_vio_normed   R-squared:                       0.050\n",
      "Model:                               OLS   Adj. R-squared:                  0.050\n",
      "Method:                    Least Squares   F-statistic:                     7905.\n",
      "Date:                   Sat, 15 Apr 2017   Prob (F-statistic):               0.00\n",
      "Time:                           16:19:27   Log-Likelihood:             2.1861e+05\n",
      "No. Observations:                 756433   AIC:                        -4.372e+05\n",
      "Df Residuals:                     756427   BIC:                        -4.371e+05\n",
      "Df Model:                              5                                         \n",
      "Covariance Type:               nonrobust                                         \n",
      "===================================================================================\n",
      "                      coef    std err          t      P>|t|      [0.025      0.975]\n",
      "-----------------------------------------------------------------------------------\n",
      "Intercept          -0.1397      0.005    -29.588      0.000      -0.149      -0.130\n",
      "NumFloors          -0.0050      0.001     -6.158      0.000      -0.007      -0.003\n",
      "ResArea             0.0547      0.000    136.248      0.000       0.054       0.055\n",
      "AssessSqft         -0.0069      0.000    -17.105      0.000      -0.008      -0.006\n",
      "ResArea_PerUnit    -0.0365      0.001    -68.939      0.000      -0.038      -0.035\n",
      "BuildingAge         0.0002   7.48e-06     25.642      0.000       0.000       0.000\n",
      "==============================================================================\n",
      "Omnibus:                  1778423.207   Durbin-Watson:                   1.974\n",
      "Prob(Omnibus):                  0.000   Jarque-Bera (JB):      25489852437.670\n",
      "Skew:                          23.559   Prob(JB):                         0.00\n",
      "Kurtosis:                     901.064   Cond. No.                     1.89e+03\n",
      "==============================================================================\n",
      "\n",
      "Warnings:\n",
      "[1] Standard Errors assume that the covariance matrix of the errors is correctly specified.\n",
      "[2] The condition number is large, 1.89e+03. This might indicate that there are\n",
      "strong multicollinearity or other numerical problems.\n"
     ]
    }
   ],
   "source": [
    "mod = smf.ols(formula='Avg_season_vio_normed ~ NumFloors + ResArea + AssessSqft + ResArea_PerUnit + BuildingAge'\\\n",
    "              , data=transformed)\n",
    "res = mod.fit()\n",
    "print res.summary()"
   ]
  },
  {
   "cell_type": "markdown",
   "metadata": {},
   "source": [
    "#### check the percentage of bbls which had at least one violation"
   ]
  },
  {
   "cell_type": "code",
   "execution_count": 62,
   "metadata": {
    "collapsed": false
   },
   "outputs": [
    {
     "name": "stdout",
     "output_type": "stream",
     "text": [
      "17234\n",
      "0.994040450377\n"
     ]
    }
   ],
   "source": [
    "print len(transformed[transformed['Avg_season_vio']>0])\n",
    "print len(transformed[transformed['Avg_season_vio']<1])/float(len(transformed))"
   ]
  },
  {
   "cell_type": "code",
   "execution_count": 63,
   "metadata": {
    "collapsed": false
   },
   "outputs": [
    {
     "name": "stdout",
     "output_type": "stream",
     "text": [
      "17234\n",
      "0.994040450377\n"
     ]
    }
   ],
   "source": [
    "print len(av_shp[av_shp['Avg_season_vio']>0])\n",
    "print len(av_shp[av_shp['Avg_season_vio']<1])/float(len(transformed))"
   ]
  },
  {
   "cell_type": "markdown",
   "metadata": {},
   "source": [
    "#### create new dependent variable, which captures violation/no violation as binary options (to run logistic regression)"
   ]
  },
  {
   "cell_type": "code",
   "execution_count": 64,
   "metadata": {
    "collapsed": false
   },
   "outputs": [],
   "source": [
    "transformed['vio_binary'] = [1 if x > 0 else 0 for x in transformed['Avg_season_vio']]"
   ]
  },
  {
   "cell_type": "code",
   "execution_count": 65,
   "metadata": {
    "collapsed": false
   },
   "outputs": [
    {
     "data": {
      "text/html": [
       "<div>\n",
       "<table border=\"1\" class=\"dataframe\">\n",
       "  <thead>\n",
       "    <tr style=\"text-align: right;\">\n",
       "      <th></th>\n",
       "      <th>BBL</th>\n",
       "      <th>Avg_season_vio</th>\n",
       "      <th>Sum_season_vio</th>\n",
       "      <th>NumBldgs</th>\n",
       "      <th>NumFloors</th>\n",
       "      <th>ResArea</th>\n",
       "      <th>BuildingAge</th>\n",
       "      <th>AssessSqft</th>\n",
       "      <th>ResArea_PerUnit</th>\n",
       "      <th>Avg_season_vio_normed</th>\n",
       "      <th>vio_binary</th>\n",
       "    </tr>\n",
       "  </thead>\n",
       "  <tbody>\n",
       "    <tr>\n",
       "      <th>36</th>\n",
       "      <td>5012780045</td>\n",
       "      <td>0.75</td>\n",
       "      <td>3</td>\n",
       "      <td>0.000000</td>\n",
       "      <td>0.916291</td>\n",
       "      <td>7.408531</td>\n",
       "      <td>32</td>\n",
       "      <td>2.145400</td>\n",
       "      <td>6.715383</td>\n",
       "      <td>0.75</td>\n",
       "      <td>1</td>\n",
       "    </tr>\n",
       "    <tr>\n",
       "      <th>151</th>\n",
       "      <td>5012460037</td>\n",
       "      <td>0.50</td>\n",
       "      <td>2</td>\n",
       "      <td>0.000000</td>\n",
       "      <td>0.693147</td>\n",
       "      <td>7.901007</td>\n",
       "      <td>14</td>\n",
       "      <td>2.189790</td>\n",
       "      <td>7.207860</td>\n",
       "      <td>0.50</td>\n",
       "      <td>1</td>\n",
       "    </tr>\n",
       "    <tr>\n",
       "      <th>462</th>\n",
       "      <td>5003520078</td>\n",
       "      <td>0.25</td>\n",
       "      <td>1</td>\n",
       "      <td>0.000000</td>\n",
       "      <td>0.693147</td>\n",
       "      <td>7.103322</td>\n",
       "      <td>47</td>\n",
       "      <td>2.794499</td>\n",
       "      <td>6.410175</td>\n",
       "      <td>0.25</td>\n",
       "      <td>1</td>\n",
       "    </tr>\n",
       "    <tr>\n",
       "      <th>468</th>\n",
       "      <td>5002090055</td>\n",
       "      <td>1.00</td>\n",
       "      <td>4</td>\n",
       "      <td>0.693147</td>\n",
       "      <td>1.098612</td>\n",
       "      <td>7.396335</td>\n",
       "      <td>97</td>\n",
       "      <td>1.660731</td>\n",
       "      <td>6.703188</td>\n",
       "      <td>0.50</td>\n",
       "      <td>1</td>\n",
       "    </tr>\n",
       "    <tr>\n",
       "      <th>715</th>\n",
       "      <td>5008970017</td>\n",
       "      <td>0.25</td>\n",
       "      <td>1</td>\n",
       "      <td>0.000000</td>\n",
       "      <td>1.098612</td>\n",
       "      <td>8.342840</td>\n",
       "      <td>77</td>\n",
       "      <td>3.603853</td>\n",
       "      <td>6.263398</td>\n",
       "      <td>0.25</td>\n",
       "      <td>1</td>\n",
       "    </tr>\n",
       "  </tbody>\n",
       "</table>\n",
       "</div>"
      ],
      "text/plain": [
       "            BBL  Avg_season_vio  Sum_season_vio  NumBldgs  NumFloors  \\\n",
       "36   5012780045            0.75               3  0.000000   0.916291   \n",
       "151  5012460037            0.50               2  0.000000   0.693147   \n",
       "462  5003520078            0.25               1  0.000000   0.693147   \n",
       "468  5002090055            1.00               4  0.693147   1.098612   \n",
       "715  5008970017            0.25               1  0.000000   1.098612   \n",
       "\n",
       "      ResArea  BuildingAge  AssessSqft  ResArea_PerUnit  \\\n",
       "36   7.408531           32    2.145400         6.715383   \n",
       "151  7.901007           14    2.189790         7.207860   \n",
       "462  7.103322           47    2.794499         6.410175   \n",
       "468  7.396335           97    1.660731         6.703188   \n",
       "715  8.342840           77    3.603853         6.263398   \n",
       "\n",
       "     Avg_season_vio_normed  vio_binary  \n",
       "36                    0.75           1  \n",
       "151                   0.50           1  \n",
       "462                   0.25           1  \n",
       "468                   0.50           1  \n",
       "715                   0.25           1  "
      ]
     },
     "execution_count": 65,
     "metadata": {},
     "output_type": "execute_result"
    }
   ],
   "source": [
    "transformed[transformed['Avg_season_vio']>0].head()"
   ]
  },
  {
   "cell_type": "markdown",
   "metadata": {},
   "source": [
    "#### run logistic regression on transformed variables and new binary outcome variable"
   ]
  },
  {
   "cell_type": "code",
   "execution_count": 66,
   "metadata": {
    "collapsed": true
   },
   "outputs": [],
   "source": [
    "X = transformed[['NumBldgs', 'NumFloors', 'ResArea', 'BuildingAge', 'AssessSqft', 'ResArea_PerUnit']]\n",
    "y = transformed['vio_binary']"
   ]
  },
  {
   "cell_type": "code",
   "execution_count": 67,
   "metadata": {
    "collapsed": false
   },
   "outputs": [
    {
     "name": "stdout",
     "output_type": "stream",
     "text": [
      "Optimization terminated successfully.\n",
      "         Current function value: 0.079096\n",
      "         Iterations 9\n",
      "                           Logit Regression Results                           \n",
      "==============================================================================\n",
      "Dep. Variable:             vio_binary   No. Observations:               756433\n",
      "Model:                          Logit   Df Residuals:                   756427\n",
      "Method:                           MLE   Df Model:                            5\n",
      "Date:                Sat, 15 Apr 2017   Pseudo R-squ.:                  0.2722\n",
      "Time:                        16:19:31   Log-Likelihood:                -59831.\n",
      "converged:                       True   LL-Null:                       -82210.\n",
      "                                        LLR p-value:                     0.000\n",
      "===================================================================================\n",
      "                      coef    std err          z      P>|z|      [0.025      0.975]\n",
      "-----------------------------------------------------------------------------------\n",
      "NumBldgs           -0.7615      0.027    -28.511      0.000      -0.814      -0.709\n",
      "NumFloors          -0.1551      0.031     -4.926      0.000      -0.217      -0.093\n",
      "ResArea             1.2666      0.012    106.201      0.000       1.243       1.290\n",
      "BuildingAge         0.0149      0.000     45.149      0.000       0.014       0.016\n",
      "AssessSqft         -0.6679      0.012    -56.594      0.000      -0.691      -0.645\n",
      "ResArea_PerUnit    -1.9297      0.012   -163.949      0.000      -1.953      -1.907\n",
      "===================================================================================\n"
     ]
    }
   ],
   "source": [
    "mod = smf.Logit(y, X)\n",
    "res = mod.fit()\n",
    "print res.summary()"
   ]
  },
  {
   "cell_type": "code",
   "execution_count": 68,
   "metadata": {
    "collapsed": false
   },
   "outputs": [
    {
     "data": {
      "text/plain": [
       "0.27222397464512949"
      ]
     },
     "execution_count": 68,
     "metadata": {},
     "output_type": "execute_result"
    }
   ],
   "source": [
    "res.prsquared"
   ]
  },
  {
   "cell_type": "code",
   "execution_count": 69,
   "metadata": {
    "collapsed": false
   },
   "outputs": [],
   "source": [
    "results = pd.DataFrame()\n",
    "results['y_act'] = transformed['vio_binary']\n",
    "results['y_pred'] = res.predict(X)\n",
    "results['y_pred_binary'] = [1 if x > 0.5 else 0 for x in res.predict(X)]"
   ]
  },
  {
   "cell_type": "code",
   "execution_count": 70,
   "metadata": {
    "collapsed": false
   },
   "outputs": [
    {
     "data": {
      "text/html": [
       "<div>\n",
       "<table border=\"1\" class=\"dataframe\">\n",
       "  <thead>\n",
       "    <tr style=\"text-align: right;\">\n",
       "      <th></th>\n",
       "      <th>y_act</th>\n",
       "      <th>y_pred</th>\n",
       "      <th>y_pred_binary</th>\n",
       "    </tr>\n",
       "  </thead>\n",
       "  <tbody>\n",
       "    <tr>\n",
       "      <th>0</th>\n",
       "      <td>0</td>\n",
       "      <td>0.010990</td>\n",
       "      <td>0</td>\n",
       "    </tr>\n",
       "    <tr>\n",
       "      <th>1</th>\n",
       "      <td>0</td>\n",
       "      <td>0.002758</td>\n",
       "      <td>0</td>\n",
       "    </tr>\n",
       "    <tr>\n",
       "      <th>2</th>\n",
       "      <td>0</td>\n",
       "      <td>0.006926</td>\n",
       "      <td>0</td>\n",
       "    </tr>\n",
       "    <tr>\n",
       "      <th>3</th>\n",
       "      <td>0</td>\n",
       "      <td>0.002524</td>\n",
       "      <td>0</td>\n",
       "    </tr>\n",
       "    <tr>\n",
       "      <th>4</th>\n",
       "      <td>0</td>\n",
       "      <td>0.002815</td>\n",
       "      <td>0</td>\n",
       "    </tr>\n",
       "  </tbody>\n",
       "</table>\n",
       "</div>"
      ],
      "text/plain": [
       "   y_act    y_pred  y_pred_binary\n",
       "0      0  0.010990              0\n",
       "1      0  0.002758              0\n",
       "2      0  0.006926              0\n",
       "3      0  0.002524              0\n",
       "4      0  0.002815              0"
      ]
     },
     "execution_count": 70,
     "metadata": {},
     "output_type": "execute_result"
    }
   ],
   "source": [
    "results.head()"
   ]
  },
  {
   "cell_type": "code",
   "execution_count": 71,
   "metadata": {
    "collapsed": false
   },
   "outputs": [
    {
     "name": "stdout",
     "output_type": "stream",
     "text": [
      "Optimization terminated successfully.\n",
      "         Current function value: 0.079096\n",
      "         Iterations 9\n",
      "Optimization terminated successfully.\n",
      "         Current function value: 0.079096\n",
      "         Iterations 9\n",
      "Optimization terminated successfully.\n",
      "         Current function value: 0.079096\n",
      "         Iterations 9\n",
      "Optimization terminated successfully.\n",
      "         Current function value: 0.079096\n",
      "         Iterations 9\n",
      "Optimization terminated successfully.\n",
      "         Current function value: 0.079096\n",
      "         Iterations 9\n",
      "Optimization terminated successfully.\n",
      "         Current function value: 0.079096\n",
      "         Iterations 9\n",
      "Optimization terminated successfully.\n",
      "         Current function value: 0.079096\n",
      "         Iterations 9\n",
      "Optimization terminated successfully.\n",
      "         Current function value: 0.079096\n",
      "         Iterations 9\n",
      "Optimization terminated successfully.\n",
      "         Current function value: 0.079096\n",
      "         Iterations 9\n",
      "0.272223974645\n"
     ]
    }
   ],
   "source": [
    "is_acc = []\n",
    "for i in range(1,10):\n",
    "    mod = smf.Logit(y, X)\n",
    "    res = mod.fit()\n",
    "    is_acc.append(res.prsquared)\n",
    "print sum(is_acc)/float(len(is_acc))"
   ]
  },
  {
   "cell_type": "markdown",
   "metadata": {},
   "source": [
    "#### use cohen's statistic to identify predictive accuracy of model as it compares to randomly selecting values\n",
    "https://stats.stackexchange.com/questions/82162/cohens-kappa-in-plain-english"
   ]
  },
  {
   "cell_type": "code",
   "execution_count": 72,
   "metadata": {
    "collapsed": false
   },
   "outputs": [
    {
     "name": "stdout",
     "output_type": "stream",
     "text": [
      "Optimization terminated successfully.\n",
      "         Current function value: 0.078527\n",
      "         Iterations 9\n"
     ]
    }
   ],
   "source": [
    "X_train, X_test, y_train, y_test = train_test_split(X, y, test_size=0.33, random_state=42)\n",
    "mod = smf.Logit(y_train, X_train)\n",
    "res = mod.fit()\n",
    "results=pd.DataFrame()\n",
    "results['y_act'] = y_test\n",
    "y_pred = res.predict(X_test)\n",
    "results['y_pred_binary'] = [1 if x >= 0.5 else 0 for x in y_pred]"
   ]
  },
  {
   "cell_type": "code",
   "execution_count": 73,
   "metadata": {
    "collapsed": false
   },
   "outputs": [
    {
     "data": {
      "text/html": [
       "<div>\n",
       "<table border=\"1\" class=\"dataframe\">\n",
       "  <thead>\n",
       "    <tr style=\"text-align: right;\">\n",
       "      <th></th>\n",
       "      <th>y_act</th>\n",
       "      <th>y_pred_binary</th>\n",
       "    </tr>\n",
       "  </thead>\n",
       "  <tbody>\n",
       "    <tr>\n",
       "      <th>476010</th>\n",
       "      <td>0</td>\n",
       "      <td>0</td>\n",
       "    </tr>\n",
       "    <tr>\n",
       "      <th>404830</th>\n",
       "      <td>1</td>\n",
       "      <td>0</td>\n",
       "    </tr>\n",
       "    <tr>\n",
       "      <th>318659</th>\n",
       "      <td>0</td>\n",
       "      <td>0</td>\n",
       "    </tr>\n",
       "    <tr>\n",
       "      <th>313593</th>\n",
       "      <td>0</td>\n",
       "      <td>0</td>\n",
       "    </tr>\n",
       "    <tr>\n",
       "      <th>353032</th>\n",
       "      <td>0</td>\n",
       "      <td>0</td>\n",
       "    </tr>\n",
       "  </tbody>\n",
       "</table>\n",
       "</div>"
      ],
      "text/plain": [
       "        y_act  y_pred_binary\n",
       "476010      0              0\n",
       "404830      1              0\n",
       "318659      0              0\n",
       "313593      0              0\n",
       "353032      0              0"
      ]
     },
     "execution_count": 73,
     "metadata": {},
     "output_type": "execute_result"
    }
   ],
   "source": [
    "results.head()"
   ]
  },
  {
   "cell_type": "code",
   "execution_count": 74,
   "metadata": {
    "collapsed": false
   },
   "outputs": [
    {
     "data": {
      "text/plain": [
       "array([[243273,    592],\n",
       "       [  5429,    329]])"
      ]
     },
     "execution_count": 74,
     "metadata": {},
     "output_type": "execute_result"
    }
   ],
   "source": [
    "confusion_matrix(results['y_act'], results['y_pred_binary'])"
   ]
  },
  {
   "cell_type": "code",
   "execution_count": 75,
   "metadata": {
    "collapsed": false
   },
   "outputs": [
    {
     "data": {
      "text/plain": [
       "0.092746171019537083"
      ]
     },
     "execution_count": 75,
     "metadata": {},
     "output_type": "execute_result"
    }
   ],
   "source": [
    "cohen_kappa_score(results['y_act'], results['y_pred_binary'])"
   ]
  },
  {
   "cell_type": "markdown",
   "metadata": {},
   "source": [
    "#### improve the model accuracy by undersampling the majority class\n",
    "http://www.marcoaltini.com/blog/dealing-with-imbalanced-data-undersampling-oversampling-and-proper-cross-validation"
   ]
  },
  {
   "cell_type": "code",
   "execution_count": 76,
   "metadata": {
    "collapsed": false
   },
   "outputs": [
    {
     "name": "stdout",
     "output_type": "stream",
     "text": [
      "Optimization terminated successfully.\n",
      "         Current function value: 0.415092\n",
      "         Iterations 7\n",
      "Optimization terminated successfully.\n",
      "         Current function value: 0.416465\n",
      "         Iterations 7\n",
      "Optimization terminated successfully.\n",
      "         Current function value: 0.420586\n",
      "         Iterations 7\n",
      "Optimization terminated successfully.\n",
      "         Current function value: 0.415293\n",
      "         Iterations 7\n",
      "Optimization terminated successfully.\n",
      "         Current function value: 0.420261\n",
      "         Iterations 7\n",
      "Optimization terminated successfully.\n",
      "         Current function value: 0.419586\n",
      "         Iterations 7\n",
      "Optimization terminated successfully.\n",
      "         Current function value: 0.415959\n",
      "         Iterations 7\n",
      "Optimization terminated successfully.\n",
      "         Current function value: 0.421159\n",
      "         Iterations 7\n",
      "Optimization terminated successfully.\n",
      "         Current function value: 0.421375\n",
      "         Iterations 7\n",
      "Optimization terminated successfully.\n",
      "         Current function value: 0.415577\n",
      "         Iterations 7\n",
      "0.396750110819\n",
      "0.623788991461\n"
     ]
    }
   ],
   "source": [
    "is_rsquared = []\n",
    "cohen = []\n",
    "for i in range(0,10):\n",
    "    zeros = transformed[transformed['vio_binary']==0]\n",
    "    sample_zeros = zeros.sample(n=17234)\n",
    "    newdf = pd.concat([transformed[transformed['vio_binary']==1], sample_zeros])\n",
    "    X = newdf[['NumBldgs', 'NumFloors', 'ResArea', 'BuildingAge', 'AssessSqft', 'ResArea_PerUnit']]\n",
    "    y = newdf['vio_binary']\n",
    "    X_train, X_test, y_train, y_test = train_test_split(X, y, test_size=0.33, random_state=42)\n",
    "    mod = smf.Logit(y_train, X_train)\n",
    "    res = mod.fit()\n",
    "    is_rsquared.append(res.prsquared)\n",
    "    results=pd.DataFrame()\n",
    "    results['y_act'] = y_test\n",
    "    y_pred = res.predict(X_test)\n",
    "    results['y_pred_binary'] = [1 if x >= 0.5 else 0 for x in y_pred]\n",
    "    cohen.append(cohen_kappa_score(results['y_act'], results['y_pred_binary']))\n",
    "print(sum(is_rsquared)/float(len(is_rsquared)))\n",
    "print(sum(cohen)/float(len(cohen)))"
   ]
  },
  {
   "cell_type": "code",
   "execution_count": 78,
   "metadata": {
    "collapsed": false
   },
   "outputs": [
    {
     "name": "stdout",
     "output_type": "stream",
     "text": [
      "0.161100709115\n"
     ]
    }
   ],
   "source": [
    "is_rsquared = []\n",
    "for i in range(0,10):\n",
    "    zeros = transformed[transformed['Avg_season_vio_normed']==0]\n",
    "    sample_zeros = zeros.sample(n=17234)\n",
    "    newdf = pd.concat([transformed[transformed['Avg_season_vio_normed']>0], sample_zeros])\n",
    "    X = newdf[['NumBldgs', 'NumFloors', 'ResArea', 'BuildingAge', 'AssessSqft', 'ResArea_PerUnit']]\n",
    "    y = newdf['Avg_season_vio_normed']\n",
    "    X_train, X_test, y_train, y_test = train_test_split(X, y, test_size=0.33, random_state=42)\n",
    "    train = pd.concat([X_train, y_train],axis=1)\n",
    "    mod = smf.ols(formula='Avg_season_vio_normed ~ NumFloors + ResArea + AssessSqft + ResArea_PerUnit + BuildingAge'\\\n",
    "              , data=train)\n",
    "    res = mod.fit()\n",
    "    is_rsquared.append(res.rsquared)\n",
    "    results=pd.DataFrame()\n",
    "    results['y_act'] = y_test\n",
    "    y_pred = res.predict(X_test)\n",
    "    results['y_pred_binary'] = [1 if x >= 0.5 else 0 for x in y_pred]\n",
    "print(sum(is_rsquared)/float(len(is_rsquared)))"
   ]
  },
  {
   "cell_type": "markdown",
   "metadata": {},
   "source": [
    "#### oversample the minority class - must finish"
   ]
  },
  {
   "cell_type": "code",
   "execution_count": null,
   "metadata": {
    "collapsed": true
   },
   "outputs": [],
   "source": [
    "X = transformed[['NumBldgs', 'NumFloors', 'ResArea', 'BuildingAge', 'AssessSqft', 'ResArea_PerUnit']]\n",
    "y = transformed['vio_binary']\n",
    "\n",
    "X_train, X_test, y_train, y_test = train_test_split(X, y, test_size=0.33, random_state=42)\n",
    "X_train_1, X_vali, y_train_1, y_vali = train_test_split(X_train, y_train, test_size=0.33, random_state=42)"
   ]
  }
 ],
 "metadata": {
  "kernelspec": {
   "display_name": "Python 2",
   "language": "python",
   "name": "python2"
  },
  "language_info": {
   "codemirror_mode": {
    "name": "ipython",
    "version": 2
   },
   "file_extension": ".py",
   "mimetype": "text/x-python",
   "name": "python",
   "nbconvert_exporter": "python",
   "pygments_lexer": "ipython2",
   "version": "2.7.12"
  }
 },
 "nbformat": 4,
 "nbformat_minor": 1
}
