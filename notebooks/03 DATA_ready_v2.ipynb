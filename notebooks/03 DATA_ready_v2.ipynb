{
 "cells": [
  {
   "cell_type": "code",
   "execution_count": 1,
   "metadata": {
    "collapsed": false
   },
   "outputs": [
    {
     "name": "stdout",
     "output_type": "stream",
     "text": [
      "Populating the interactive namespace from numpy and matplotlib\n"
     ]
    }
   ],
   "source": [
    "import numpy as np\n",
    "import pandas as pd\n",
    "import datetime\n",
    "import matplotlib.pyplot as plt\n",
    "import scipy\n",
    "from scipy import stats\n",
    "%pylab inline\n",
    "from matplotlib import pyplot as plt"
   ]
  },
  {
   "cell_type": "markdown",
   "metadata": {},
   "source": [
    "## MapPLUTO data \n",
    "* Load data\n",
    "* Excluding non-residential BBLs & outliers\n",
    "* Make new additional features\n",
    "* Convert BldgClass to dummy variable\n",
    "* Make 4 copies and update \"Season\" cells"
   ]
  },
  {
   "cell_type": "code",
   "execution_count": 2,
   "metadata": {
    "collapsed": false
   },
   "outputs": [
    {
     "name": "stderr",
     "output_type": "stream",
     "text": [
      "/Users/bh1555/anaconda/lib/python2.7/site-packages/IPython/core/interactiveshell.py:2717: DtypeWarning: Columns (27,37,40,46,53,64,65,84,85) have mixed types. Specify dtype option on import or set low_memory=False.\n",
      "  interactivity=interactivity, compiler=compiler, result=result)\n"
     ]
    },
    {
     "name": "stdout",
     "output_type": "stream",
     "text": [
      "756433\n"
     ]
    }
   ],
   "source": [
    "pluto = pd.read_csv('../data/dataprocessing/pluto_16.csv', index_col=0, dtype = {'BBL' : str})\n",
    "\n",
    "# Adjusting BBL format\n",
    "pluto['BBL'] = pluto['BBL'].str[0:10]\n",
    "\n",
    "# Extracting only Residential BBLs\n",
    "pluto = pluto[pluto['ResArea']>0]\n",
    "pluto = pluto[pluto['UnitsRes']>0]\n",
    "\n",
    "\n",
    "# Excluding outliers\n",
    "pluto = pluto[pluto['AssessLand']>0]\n",
    "pluto = pluto[pluto['YearBuilt']>1750]\n",
    "pluto = pluto[(pluto['BuiltFAR'] > 0) & (pluto['BuiltFAR'] < 2088)]\n",
    "pluto = pluto[pluto['NumBldgs'] > 0]\n",
    "pluto = pluto[pluto['NumFloors'] > 0]\n",
    "pluto = pluto[pluto['UnitsRes'] < 8000]\n",
    "\n",
    "print len(pluto)"
   ]
  },
  {
   "cell_type": "code",
   "execution_count": 3,
   "metadata": {
    "collapsed": false
   },
   "outputs": [],
   "source": [
    "# Make new features based on current features\n",
    "pluto['AssessSqft'] = pluto['AssessTot'] / pluto['BldgArea']\n",
    "pluto['Res_r'] = pluto['ResArea'] / pluto['BldgArea']\n",
    "pluto['Bldg_age'] = 2017 - pluto['YearBuilt']\n",
    "pluto['Bldg_nrr'] = pluto['BldgDepth'] / pluto['BldgFront'] # How narrow bldg?"
   ]
  },
  {
   "cell_type": "code",
   "execution_count": 4,
   "metadata": {
    "collapsed": false
   },
   "outputs": [],
   "source": [
    "# Transform BldgClass code to dummy variable (Refined)\n",
    "var = []\n",
    "i=0\n",
    "for elem in pluto['BldgClass']:\n",
    "    if elem[i][0] == 'A':\n",
    "        var.append(1)\n",
    "    elif elem[i][0] == 'B':\n",
    "        var.append(2)\n",
    "\n",
    "    elif elem[i][0] == 'C':\n",
    "        var.append(3)\n",
    "    elif elem[i][0] == 'S':\n",
    "        var.append(3)\n",
    "    elif elem[i] == 'R1': #R1, R2, R3, R6\n",
    "        var.append(3)               \n",
    "    elif elem[i] == 'R2':\n",
    "        var.append(3)\n",
    "    elif elem[i] == 'R3':\n",
    "        var.append(3)\n",
    "    elif elem[i] == 'R6':\n",
    "        var.append(3)\n",
    "    \n",
    "    \n",
    "    elif elem[i][0] == 'D': #R0, R4, R9, RM, RR, RX, RZ\n",
    "        var.append(4)\n",
    "    elif elem[i] == 'O8':\n",
    "        var.append(4)\n",
    "    elif elem[i] == 'R0':\n",
    "        var.append(4)\n",
    "    elif elem[i] == 'R4':\n",
    "        var.append(4)\n",
    "    elif elem[i] == 'R9':\n",
    "        var.append(4)\n",
    "    elif elem[i] == 'RM':\n",
    "        var.append(4)\n",
    "    elif elem[i] == 'RR':\n",
    "        var.append(4)\n",
    "    elif elem[i] == 'RX':\n",
    "        var.append(4)\n",
    "    elif elem[i] == 'RZ':\n",
    "        var.append(4)\n",
    "        \n",
    "    #others (non residential main type + Loft) \n",
    "    elif elem[i][0] == 'L':\n",
    "        var.append(0)\n",
    "    else:\n",
    "        var.append(0) \n",
    "        \n",
    "\n",
    "pluto['BldgClass_dummy'] = var"
   ]
  },
  {
   "cell_type": "code",
   "execution_count": 5,
   "metadata": {
    "collapsed": false
   },
   "outputs": [],
   "source": [
    "pluto = pluto[['BBL', 'Borough', 'Address', 'AssessTot', 'BldgArea', 'AssessSqft', \n",
    "               'BldgClass', 'BldgClass_dummy', 'UnitsRes', 'ResArea', 'Res_r',\n",
    "              'NumFloors', 'BldgFront', 'BldgDepth', 'Bldg_nrr', 'ProxCode', 'BsmtCode',\n",
    "              'YearBuilt', 'Bldg_age']]"
   ]
  },
  {
   "cell_type": "code",
   "execution_count": 6,
   "metadata": {
    "collapsed": false
   },
   "outputs": [
    {
     "data": {
      "text/html": [
       "<div>\n",
       "<table border=\"1\" class=\"dataframe\">\n",
       "  <thead>\n",
       "    <tr style=\"text-align: right;\">\n",
       "      <th></th>\n",
       "      <th>BBL</th>\n",
       "      <th>Borough</th>\n",
       "      <th>Address</th>\n",
       "      <th>AssessTot</th>\n",
       "      <th>BldgArea</th>\n",
       "      <th>AssessSqft</th>\n",
       "      <th>BldgClass</th>\n",
       "      <th>BldgClass_dummy</th>\n",
       "      <th>UnitsRes</th>\n",
       "      <th>ResArea</th>\n",
       "      <th>Res_r</th>\n",
       "      <th>NumFloors</th>\n",
       "      <th>BldgFront</th>\n",
       "      <th>BldgDepth</th>\n",
       "      <th>Bldg_nrr</th>\n",
       "      <th>ProxCode</th>\n",
       "      <th>BsmtCode</th>\n",
       "      <th>YearBuilt</th>\n",
       "      <th>Bldg_age</th>\n",
       "    </tr>\n",
       "  </thead>\n",
       "  <tbody>\n",
       "    <tr>\n",
       "      <th>0</th>\n",
       "      <td>5007470028</td>\n",
       "      <td>SI</td>\n",
       "      <td>437 PURDY AVENUE</td>\n",
       "      <td>23400.0</td>\n",
       "      <td>1488</td>\n",
       "      <td>15.725806</td>\n",
       "      <td>B2</td>\n",
       "      <td>2</td>\n",
       "      <td>2</td>\n",
       "      <td>1488</td>\n",
       "      <td>1.0</td>\n",
       "      <td>1.0</td>\n",
       "      <td>24.0</td>\n",
       "      <td>62.0</td>\n",
       "      <td>2.583333</td>\n",
       "      <td>1.0</td>\n",
       "      <td>2.0</td>\n",
       "      <td>1960</td>\n",
       "      <td>57</td>\n",
       "    </tr>\n",
       "    <tr>\n",
       "      <th>2</th>\n",
       "      <td>5007130017</td>\n",
       "      <td>SI</td>\n",
       "      <td>121 MOUNTAINVIEW AVENUE</td>\n",
       "      <td>22602.0</td>\n",
       "      <td>1316</td>\n",
       "      <td>17.174772</td>\n",
       "      <td>A1</td>\n",
       "      <td>1</td>\n",
       "      <td>1</td>\n",
       "      <td>1316</td>\n",
       "      <td>1.0</td>\n",
       "      <td>2.5</td>\n",
       "      <td>17.0</td>\n",
       "      <td>27.0</td>\n",
       "      <td>1.588235</td>\n",
       "      <td>1.0</td>\n",
       "      <td>2.0</td>\n",
       "      <td>1920</td>\n",
       "      <td>97</td>\n",
       "    </tr>\n",
       "  </tbody>\n",
       "</table>\n",
       "</div>"
      ],
      "text/plain": [
       "          BBL Borough                  Address  AssessTot  BldgArea  \\\n",
       "0  5007470028      SI         437 PURDY AVENUE    23400.0      1488   \n",
       "2  5007130017      SI  121 MOUNTAINVIEW AVENUE    22602.0      1316   \n",
       "\n",
       "   AssessSqft BldgClass  BldgClass_dummy  UnitsRes  ResArea  Res_r  NumFloors  \\\n",
       "0   15.725806        B2                2         2     1488    1.0        1.0   \n",
       "2   17.174772        A1                1         1     1316    1.0        2.5   \n",
       "\n",
       "   BldgFront  BldgDepth  Bldg_nrr  ProxCode  BsmtCode  YearBuilt  Bldg_age  \n",
       "0       24.0       62.0  2.583333       1.0       2.0       1960        57  \n",
       "2       17.0       27.0  1.588235       1.0       2.0       1920        97  "
      ]
     },
     "execution_count": 6,
     "metadata": {},
     "output_type": "execute_result"
    }
   ],
   "source": [
    "pluto.head(2)"
   ]
  },
  {
   "cell_type": "code",
   "execution_count": 7,
   "metadata": {
    "collapsed": false
   },
   "outputs": [
    {
     "name": "stdout",
     "output_type": "stream",
     "text": [
      "315432\n",
      "248086\n",
      "167791\n",
      "13422\n",
      "11702\n"
     ]
    }
   ],
   "source": [
    "print len(pluto[pluto['BldgClass_dummy']==1]) # onefmaily\n",
    "print len(pluto[pluto['BldgClass_dummy']==2]) # twofamily\n",
    "print len(pluto[pluto['BldgClass_dummy']==3]) # Walkup\n",
    "print len(pluto[pluto['BldgClass_dummy']==4]) # Elevator apartment\n",
    "print len(pluto[pluto['BldgClass_dummy']==0]) #others + Loft"
   ]
  },
  {
   "cell_type": "code",
   "execution_count": 9,
   "metadata": {
    "collapsed": false
   },
   "outputs": [],
   "source": [
    "# Copy pluto data to make differnt heating season data\n",
    "df_1213 = pluto.copy()\n",
    "df_1213['Season'] = \"2012-2013\"\n",
    "df_1314 = pluto.copy()\n",
    "df_1314['Season'] = \"2013-2014\"\n",
    "df_1415 = pluto.copy()\n",
    "df_1415['Season'] = \"2014-2015\"\n",
    "df_1516 = pluto.copy()\n",
    "df_1516['Season'] = \"2015-2016\""
   ]
  },
  {
   "cell_type": "markdown",
   "metadata": {},
   "source": [
    "## Concat 4 dataframes \n",
    "* df_1213\n",
    "* df_1314\n",
    "* df_1415\n",
    "* df_1516"
   ]
  },
  {
   "cell_type": "code",
   "execution_count": 10,
   "metadata": {
    "collapsed": false
   },
   "outputs": [
    {
     "name": "stdout",
     "output_type": "stream",
     "text": [
      "3026028\n",
      "3026028\n"
     ]
    }
   ],
   "source": [
    "print len(df_1213) + len(df_1314) + len(df_1415) + len(df_1516)\n",
    "frames = [df_1213, df_1314, df_1415, df_1516]\n",
    "df = pd.concat(frames)\n",
    "print len(df)"
   ]
  },
  {
   "cell_type": "code",
   "execution_count": 11,
   "metadata": {
    "collapsed": false
   },
   "outputs": [
    {
     "name": "stdout",
     "output_type": "stream",
     "text": [
      "Total residential BBLs in NYC :  756507\n",
      "756507\n"
     ]
    }
   ],
   "source": [
    "print \"Total residential BBLs in NYC : \", len(df['BBL'].unique())\n",
    "print len(pluto)"
   ]
  },
  {
   "cell_type": "code",
   "execution_count": 12,
   "metadata": {
    "collapsed": false
   },
   "outputs": [
    {
     "data": {
      "text/plain": [
       "array(['B2', 'A1', 'B3', 'A2', 'A5', 'A9', 'B9', 'S1', 'A3', 'B1', 'A0',\n",
       "       'C0', 'C1', 'C2', 'A7', 'S2', 'M1', 'K4', 'C9', 'C3', 'O8', 'S9',\n",
       "       'C6', 'R3', 'S0', 'A6', 'R4', 'D3', 'RD', 'S4', 'C7', 'G9', 'K2',\n",
       "       'S5', 'D0', 'D1', 'C5', 'S3', 'RM', 'K5', 'R2', 'E9', 'D4', 'O9',\n",
       "       'C4', 'D5', 'I5', 'W9', 'I7', 'F9', 'K9', 'Y4', 'F5', 'M9', 'E3',\n",
       "       'Q1', 'D6', 'D7', 'R6', 'A4', 'D9', 'E4', 'O7', 'E7', 'P9', 'Q9',\n",
       "       'M3', 'Q0', 'K1', 'G0', 'G3', 'D8', 'R1', 'L9', 'H6', 'D2', 'R9',\n",
       "       'F1', 'P5', 'RX', 'G2', 'N2', 'W8', 'I9', 'Z9', 'Z8', 'E1', 'F4',\n",
       "       'W2', 'O1', 'N9', 'G4', 'Q8', 'H4', 'W6', 'O6', 'K7', 'P2', 'L8',\n",
       "       'C8', 'L1', 'I4', 'N4', 'H3', 'RZ', 'W1', 'J9', 'RR', 'O3', 'L2',\n",
       "       'H1', 'H9', 'J5', 'I1', 'HH', 'P8', 'O2', 'Z4', 'P7', 'HB', 'H2',\n",
       "       'HS', 'W3', 'I6', 'G1', 'A8', 'M4', 'J6', 'N3', 'M2', 'W4', 'O5'], dtype=object)"
      ]
     },
     "execution_count": 12,
     "metadata": {},
     "output_type": "execute_result"
    }
   ],
   "source": [
    "df['BldgClass'].unique()"
   ]
  },
  {
   "cell_type": "code",
   "execution_count": 13,
   "metadata": {
    "collapsed": false
   },
   "outputs": [
    {
     "data": {
      "text/plain": [
       "array([2, 1, 3, 0, 4])"
      ]
     },
     "execution_count": 13,
     "metadata": {},
     "output_type": "execute_result"
    }
   ],
   "source": [
    "df['BldgClass_dummy'].unique()"
   ]
  },
  {
   "cell_type": "markdown",
   "metadata": {},
   "source": [
    "## Laod BBL&HeatingSeason-level Heat related violation data"
   ]
  },
  {
   "cell_type": "code",
   "execution_count": 14,
   "metadata": {
    "collapsed": false
   },
   "outputs": [
    {
     "data": {
      "text/html": [
       "<div>\n",
       "<table border=\"1\" class=\"dataframe\">\n",
       "  <thead>\n",
       "    <tr style=\"text-align: right;\">\n",
       "      <th></th>\n",
       "      <th>BBL</th>\n",
       "      <th>Season</th>\n",
       "      <th>vio_count</th>\n",
       "    </tr>\n",
       "  </thead>\n",
       "  <tbody>\n",
       "    <tr>\n",
       "      <th>0</th>\n",
       "      <td>1000160100</td>\n",
       "      <td>2013-2014</td>\n",
       "      <td>1</td>\n",
       "    </tr>\n",
       "    <tr>\n",
       "      <th>1</th>\n",
       "      <td>1000160100</td>\n",
       "      <td>2014-2015</td>\n",
       "      <td>1</td>\n",
       "    </tr>\n",
       "  </tbody>\n",
       "</table>\n",
       "</div>"
      ],
      "text/plain": [
       "          BBL     Season  vio_count\n",
       "0  1000160100  2013-2014          1\n",
       "1  1000160100  2014-2015          1"
      ]
     },
     "execution_count": 14,
     "metadata": {},
     "output_type": "execute_result"
    }
   ],
   "source": [
    "vio = pd.read_csv('../data/dataprocessing/VIOLATION_HEATHOTWATER_2013_2016_BBL_onlyheatingseason_groupbyseasonandbbl.csv',\n",
    "                 index_col = 0, dtype = {'BBL' : str})\n",
    "vio.head(2)"
   ]
  },
  {
   "cell_type": "code",
   "execution_count": 15,
   "metadata": {
    "collapsed": false
   },
   "outputs": [
    {
     "name": "stdout",
     "output_type": "stream",
     "text": [
      "22961\n",
      "The number of BBLs had heat/how water related issues for 2013-2016 :  17472\n"
     ]
    }
   ],
   "source": [
    "print len(vio)\n",
    "print \"The number of BBLs had heat/how water related issues for 2013-2016 : \", len(vio['BBL'].unique())"
   ]
  },
  {
   "cell_type": "code",
   "execution_count": 16,
   "metadata": {
    "collapsed": false
   },
   "outputs": [
    {
     "name": "stdout",
     "output_type": "stream",
     "text": [
      "          BBL\n",
      "0  1000160100\n",
      "1  1000160100\n",
      "22961\n"
     ]
    }
   ],
   "source": [
    "vio_bbl = vio.drop(['Season', 'vio_count'], axis = 1)\n",
    "print vio_bbl.head(2)\n",
    "print len(vio_bbl)"
   ]
  },
  {
   "cell_type": "code",
   "execution_count": 17,
   "metadata": {
    "collapsed": false
   },
   "outputs": [
    {
     "name": "stdout",
     "output_type": "stream",
     "text": [
      "17472\n",
      "          BBL\n",
      "0  1000160100\n",
      "3  1000167509\n"
     ]
    }
   ],
   "source": [
    "vio_bbl = vio_bbl.drop_duplicates()\n",
    "print len(vio_bbl)\n",
    "print vio_bbl.head(2)"
   ]
  },
  {
   "cell_type": "code",
   "execution_count": 18,
   "metadata": {
    "collapsed": true
   },
   "outputs": [],
   "source": [
    "vio_bbl['vio_YN'] = 'Y'"
   ]
  },
  {
   "cell_type": "code",
   "execution_count": 19,
   "metadata": {
    "collapsed": false
   },
   "outputs": [
    {
     "data": {
      "text/html": [
       "<div>\n",
       "<table border=\"1\" class=\"dataframe\">\n",
       "  <thead>\n",
       "    <tr style=\"text-align: right;\">\n",
       "      <th></th>\n",
       "      <th>BBL</th>\n",
       "      <th>vio_YN</th>\n",
       "    </tr>\n",
       "  </thead>\n",
       "  <tbody>\n",
       "    <tr>\n",
       "      <th>0</th>\n",
       "      <td>1000160100</td>\n",
       "      <td>Y</td>\n",
       "    </tr>\n",
       "    <tr>\n",
       "      <th>3</th>\n",
       "      <td>1000167509</td>\n",
       "      <td>Y</td>\n",
       "    </tr>\n",
       "  </tbody>\n",
       "</table>\n",
       "</div>"
      ],
      "text/plain": [
       "          BBL vio_YN\n",
       "0  1000160100      Y\n",
       "3  1000167509      Y"
      ]
     },
     "execution_count": 19,
     "metadata": {},
     "output_type": "execute_result"
    }
   ],
   "source": [
    "vio_bbl.head(2)"
   ]
  },
  {
   "cell_type": "code",
   "execution_count": 20,
   "metadata": {
    "collapsed": false
   },
   "outputs": [
    {
     "name": "stdout",
     "output_type": "stream",
     "text": [
      "756507\n",
      "756507\n"
     ]
    }
   ],
   "source": [
    "print len(pluto)\n",
    "pluto = pd.merge(pluto, vio_bbl, how = 'left',  on= 'BBL')\n",
    "print len(pluto)"
   ]
  },
  {
   "cell_type": "code",
   "execution_count": 21,
   "metadata": {
    "collapsed": false
   },
   "outputs": [
    {
     "data": {
      "text/html": [
       "<div>\n",
       "<table border=\"1\" class=\"dataframe\">\n",
       "  <thead>\n",
       "    <tr style=\"text-align: right;\">\n",
       "      <th></th>\n",
       "      <th>BBL</th>\n",
       "      <th>Borough</th>\n",
       "      <th>Address</th>\n",
       "      <th>AssessTot</th>\n",
       "      <th>BldgArea</th>\n",
       "      <th>AssessSqft</th>\n",
       "      <th>BldgClass</th>\n",
       "      <th>BldgClass_dummy</th>\n",
       "      <th>UnitsRes</th>\n",
       "      <th>ResArea</th>\n",
       "      <th>Res_r</th>\n",
       "      <th>NumFloors</th>\n",
       "      <th>BldgFront</th>\n",
       "      <th>BldgDepth</th>\n",
       "      <th>Bldg_nrr</th>\n",
       "      <th>ProxCode</th>\n",
       "      <th>BsmtCode</th>\n",
       "      <th>YearBuilt</th>\n",
       "      <th>Bldg_age</th>\n",
       "      <th>vio_YN</th>\n",
       "    </tr>\n",
       "  </thead>\n",
       "  <tbody>\n",
       "    <tr>\n",
       "      <th>0</th>\n",
       "      <td>5007470028</td>\n",
       "      <td>SI</td>\n",
       "      <td>437 PURDY AVENUE</td>\n",
       "      <td>23400.0</td>\n",
       "      <td>1488</td>\n",
       "      <td>15.725806</td>\n",
       "      <td>B2</td>\n",
       "      <td>2</td>\n",
       "      <td>2</td>\n",
       "      <td>1488</td>\n",
       "      <td>1.0</td>\n",
       "      <td>1.0</td>\n",
       "      <td>24.0</td>\n",
       "      <td>62.0</td>\n",
       "      <td>2.583333</td>\n",
       "      <td>1.0</td>\n",
       "      <td>2.0</td>\n",
       "      <td>1960</td>\n",
       "      <td>57</td>\n",
       "      <td>N</td>\n",
       "    </tr>\n",
       "    <tr>\n",
       "      <th>1</th>\n",
       "      <td>5007130017</td>\n",
       "      <td>SI</td>\n",
       "      <td>121 MOUNTAINVIEW AVENUE</td>\n",
       "      <td>22602.0</td>\n",
       "      <td>1316</td>\n",
       "      <td>17.174772</td>\n",
       "      <td>A1</td>\n",
       "      <td>1</td>\n",
       "      <td>1</td>\n",
       "      <td>1316</td>\n",
       "      <td>1.0</td>\n",
       "      <td>2.5</td>\n",
       "      <td>17.0</td>\n",
       "      <td>27.0</td>\n",
       "      <td>1.588235</td>\n",
       "      <td>1.0</td>\n",
       "      <td>2.0</td>\n",
       "      <td>1920</td>\n",
       "      <td>97</td>\n",
       "      <td>N</td>\n",
       "    </tr>\n",
       "  </tbody>\n",
       "</table>\n",
       "</div>"
      ],
      "text/plain": [
       "          BBL Borough                  Address  AssessTot  BldgArea  \\\n",
       "0  5007470028      SI         437 PURDY AVENUE    23400.0      1488   \n",
       "1  5007130017      SI  121 MOUNTAINVIEW AVENUE    22602.0      1316   \n",
       "\n",
       "   AssessSqft BldgClass  BldgClass_dummy  UnitsRes  ResArea  Res_r  NumFloors  \\\n",
       "0   15.725806        B2                2         2     1488    1.0        1.0   \n",
       "1   17.174772        A1                1         1     1316    1.0        2.5   \n",
       "\n",
       "   BldgFront  BldgDepth  Bldg_nrr  ProxCode  BsmtCode  YearBuilt  Bldg_age  \\\n",
       "0       24.0       62.0  2.583333       1.0       2.0       1960        57   \n",
       "1       17.0       27.0  1.588235       1.0       2.0       1920        97   \n",
       "\n",
       "  vio_YN  \n",
       "0      N  \n",
       "1      N  "
      ]
     },
     "execution_count": 21,
     "metadata": {},
     "output_type": "execute_result"
    }
   ],
   "source": [
    "pluto['vio_YN'] = pluto['vio_YN'].replace(np.nan, 'N')\n",
    "pluto.head(2)"
   ]
  },
  {
   "cell_type": "code",
   "execution_count": 22,
   "metadata": {
    "collapsed": false
   },
   "outputs": [
    {
     "name": "stdout",
     "output_type": "stream",
     "text": [
      "17235\n",
      "739272\n"
     ]
    }
   ],
   "source": [
    "print len(pluto[pluto['vio_YN']=='Y'])\n",
    "print len(pluto[pluto['vio_YN']=='N'])"
   ]
  },
  {
   "cell_type": "code",
   "execution_count": 23,
   "metadata": {
    "collapsed": true
   },
   "outputs": [],
   "source": [
    "pluto.to_csv('../data/output/PLUTO_VIO_YN.csv')"
   ]
  },
  {
   "cell_type": "code",
   "execution_count": 24,
   "metadata": {
    "collapsed": false
   },
   "outputs": [
    {
     "name": "stdout",
     "output_type": "stream",
     "text": [
      "456\n",
      "314985\n"
     ]
    }
   ],
   "source": [
    "# vio YES or NO of One family housing\n",
    "print len(pluto[(pluto['BldgClass_dummy']==1)&(pluto['vio_YN']=='Y')])\n",
    "print len(pluto[(pluto['BldgClass_dummy']==1)&(pluto['vio_YN']=='N')])"
   ]
  },
  {
   "cell_type": "code",
   "execution_count": 25,
   "metadata": {
    "collapsed": false
   },
   "outputs": [
    {
     "name": "stdout",
     "output_type": "stream",
     "text": [
      "2235\n",
      "245872\n"
     ]
    }
   ],
   "source": [
    "# vio YES or NO of Two family housing\n",
    "print len(pluto[(pluto['BldgClass_dummy']==2)&(pluto['vio_YN']=='Y')])\n",
    "print len(pluto[(pluto['BldgClass_dummy']==2)&(pluto['vio_YN']=='N')])"
   ]
  },
  {
   "cell_type": "code",
   "execution_count": 26,
   "metadata": {
    "collapsed": false
   },
   "outputs": [
    {
     "name": "stdout",
     "output_type": "stream",
     "text": [
      "11095\n",
      "156716\n"
     ]
    }
   ],
   "source": [
    "# vio YES or NO of walk up\n",
    "print len(pluto[(pluto['BldgClass_dummy']==3)&(pluto['vio_YN']=='Y')])\n",
    "print len(pluto[(pluto['BldgClass_dummy']==3)&(pluto['vio_YN']=='N')])"
   ]
  },
  {
   "cell_type": "code",
   "execution_count": 27,
   "metadata": {
    "collapsed": false
   },
   "outputs": [
    {
     "name": "stdout",
     "output_type": "stream",
     "text": [
      "3141\n",
      "10281\n"
     ]
    }
   ],
   "source": [
    "# vio YES or NO of APT\n",
    "print len(pluto[(pluto['BldgClass_dummy']==4)&(pluto['vio_YN']=='Y')])\n",
    "print len(pluto[(pluto['BldgClass_dummy']==4)&(pluto['vio_YN']=='N')])"
   ]
  },
  {
   "cell_type": "code",
   "execution_count": 28,
   "metadata": {
    "collapsed": false
   },
   "outputs": [
    {
     "name": "stdout",
     "output_type": "stream",
     "text": [
      "221\n",
      "6189\n"
     ]
    }
   ],
   "source": [
    "# vio YES or NO of Condo\n",
    "print len(pluto[(pluto['BldgClass_dummy']==5)&(pluto['vio_YN']=='Y')])\n",
    "print len(pluto[(pluto['BldgClass_dummy']==5)&(pluto['vio_YN']=='N')])"
   ]
  },
  {
   "cell_type": "code",
   "execution_count": 29,
   "metadata": {
    "collapsed": false
   },
   "outputs": [
    {
     "name": "stdout",
     "output_type": "stream",
     "text": [
      "6\n",
      "151\n"
     ]
    }
   ],
   "source": [
    "# vio YES or NO of Loft\n",
    "print len(pluto[(pluto['BldgClass_dummy']==6)&(pluto['vio_YN']=='Y')])\n",
    "print len(pluto[(pluto['BldgClass_dummy']==6)&(pluto['vio_YN']=='N')])"
   ]
  },
  {
   "cell_type": "code",
   "execution_count": 30,
   "metadata": {
    "collapsed": false
   },
   "outputs": [
    {
     "name": "stdout",
     "output_type": "stream",
     "text": [
      "81\n",
      "5078\n"
     ]
    }
   ],
   "source": [
    "# vio YES or NO of Others\n",
    "print len(pluto[(pluto['BldgClass_dummy']==0)&(pluto['vio_YN']=='Y')])\n",
    "print len(pluto[(pluto['BldgClass_dummy']==0)&(pluto['vio_YN']=='N')])"
   ]
  },
  {
   "cell_type": "code",
   "execution_count": null,
   "metadata": {
    "collapsed": true
   },
   "outputs": [],
   "source": []
  }
 ],
 "metadata": {
  "kernelspec": {
   "display_name": "Python [default]",
   "language": "python",
   "name": "python2"
  },
  "language_info": {
   "codemirror_mode": {
    "name": "ipython",
    "version": 2
   },
   "file_extension": ".py",
   "mimetype": "text/x-python",
   "name": "python",
   "nbconvert_exporter": "python",
   "pygments_lexer": "ipython2",
   "version": "2.7.13"
  }
 },
 "nbformat": 4,
 "nbformat_minor": 2
}
