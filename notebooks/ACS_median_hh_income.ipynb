{
 "cells": [
  {
   "cell_type": "code",
   "execution_count": 2,
   "metadata": {
    "collapsed": false
   },
   "outputs": [],
   "source": [
    "import pandas as pd\n",
    "import numpy as np\n",
    "import zipfile"
   ]
  },
  {
   "cell_type": "code",
   "execution_count": 6,
   "metadata": {
    "collapsed": true
   },
   "outputs": [],
   "source": [
    "#data source\n",
    "#MEDIAN HOUSEHOLD INCOME IN THE PAST 12 MONTHS (IN 2015 INFLATION-ADJUSTED DOLLARS)\n",
    "#Universe: Households  more information\n",
    "#2011-2015 American Community Survey 5-Year Estimates\n",
    "#Table 'ACS_15_5YR_B19013'"
   ]
  },
  {
   "cell_type": "code",
   "execution_count": 9,
   "metadata": {
    "collapsed": false
   },
   "outputs": [],
   "source": [
    "z = zipfile.ZipFile(\"ACS_15_5YR_B19013.zip\")\n",
    "z.extractall()"
   ]
  },
  {
   "cell_type": "code",
   "execution_count": 3,
   "metadata": {
    "collapsed": false
   },
   "outputs": [
    {
     "data": {
      "text/html": [
       "<div>\n",
       "<table border=\"1\" class=\"dataframe\">\n",
       "  <thead>\n",
       "    <tr style=\"text-align: right;\">\n",
       "      <th></th>\n",
       "      <th>GEO.id</th>\n",
       "      <th>GEO.id2</th>\n",
       "      <th>GEO.display-label</th>\n",
       "      <th>HD01_VD01</th>\n",
       "      <th>HD02_VD01</th>\n",
       "    </tr>\n",
       "  </thead>\n",
       "  <tbody>\n",
       "    <tr>\n",
       "      <th>0</th>\n",
       "      <td>Id</td>\n",
       "      <td>Id2</td>\n",
       "      <td>Geography</td>\n",
       "      <td>Estimate; Median household income in the past ...</td>\n",
       "      <td>Margin of Error; Median household income in th...</td>\n",
       "    </tr>\n",
       "    <tr>\n",
       "      <th>1</th>\n",
       "      <td>8600000US06390</td>\n",
       "      <td>06390</td>\n",
       "      <td>ZCTA5 06390</td>\n",
       "      <td>151083</td>\n",
       "      <td>13297</td>\n",
       "    </tr>\n",
       "    <tr>\n",
       "      <th>2</th>\n",
       "      <td>8600000US10001</td>\n",
       "      <td>10001</td>\n",
       "      <td>ZCTA5 10001</td>\n",
       "      <td>86801</td>\n",
       "      <td>10346</td>\n",
       "    </tr>\n",
       "    <tr>\n",
       "      <th>3</th>\n",
       "      <td>8600000US10002</td>\n",
       "      <td>10002</td>\n",
       "      <td>ZCTA5 10002</td>\n",
       "      <td>33726</td>\n",
       "      <td>3127</td>\n",
       "    </tr>\n",
       "    <tr>\n",
       "      <th>4</th>\n",
       "      <td>8600000US10003</td>\n",
       "      <td>10003</td>\n",
       "      <td>ZCTA5 10003</td>\n",
       "      <td>98151</td>\n",
       "      <td>5628</td>\n",
       "    </tr>\n",
       "  </tbody>\n",
       "</table>\n",
       "</div>"
      ],
      "text/plain": [
       "           GEO.id GEO.id2 GEO.display-label  \\\n",
       "0              Id     Id2         Geography   \n",
       "1  8600000US06390   06390       ZCTA5 06390   \n",
       "2  8600000US10001   10001       ZCTA5 10001   \n",
       "3  8600000US10002   10002       ZCTA5 10002   \n",
       "4  8600000US10003   10003       ZCTA5 10003   \n",
       "\n",
       "                                           HD01_VD01  \\\n",
       "0  Estimate; Median household income in the past ...   \n",
       "1                                             151083   \n",
       "2                                              86801   \n",
       "3                                              33726   \n",
       "4                                              98151   \n",
       "\n",
       "                                           HD02_VD01  \n",
       "0  Margin of Error; Median household income in th...  \n",
       "1                                              13297  \n",
       "2                                              10346  \n",
       "3                                               3127  \n",
       "4                                               5628  "
      ]
     },
     "execution_count": 3,
     "metadata": {},
     "output_type": "execute_result"
    }
   ],
   "source": [
    "income = pd.read_csv(\"ACS_15_5YR_B19013_with_ann.csv\")\n",
    "income.head()"
   ]
  },
  {
   "cell_type": "code",
   "execution_count": 4,
   "metadata": {
    "collapsed": false
   },
   "outputs": [
    {
     "data": {
      "text/html": [
       "<div>\n",
       "<table border=\"1\" class=\"dataframe\">\n",
       "  <thead>\n",
       "    <tr style=\"text-align: right;\">\n",
       "      <th></th>\n",
       "      <th>Zip Code</th>\n",
       "      <th>2015 Median Household Income</th>\n",
       "    </tr>\n",
       "  </thead>\n",
       "  <tbody>\n",
       "    <tr>\n",
       "      <th>1</th>\n",
       "      <td>06390</td>\n",
       "      <td>151083</td>\n",
       "    </tr>\n",
       "    <tr>\n",
       "      <th>2</th>\n",
       "      <td>10001</td>\n",
       "      <td>86801</td>\n",
       "    </tr>\n",
       "    <tr>\n",
       "      <th>3</th>\n",
       "      <td>10002</td>\n",
       "      <td>33726</td>\n",
       "    </tr>\n",
       "    <tr>\n",
       "      <th>4</th>\n",
       "      <td>10003</td>\n",
       "      <td>98151</td>\n",
       "    </tr>\n",
       "    <tr>\n",
       "      <th>5</th>\n",
       "      <td>10004</td>\n",
       "      <td>119691</td>\n",
       "    </tr>\n",
       "  </tbody>\n",
       "</table>\n",
       "</div>"
      ],
      "text/plain": [
       "  Zip Code 2015 Median Household Income\n",
       "1    06390                       151083\n",
       "2    10001                        86801\n",
       "3    10002                        33726\n",
       "4    10003                        98151\n",
       "5    10004                       119691"
      ]
     },
     "execution_count": 4,
     "metadata": {},
     "output_type": "execute_result"
    }
   ],
   "source": [
    "income = income.loc[1:]\n",
    "income = income.drop(['GEO.id', 'GEO.display-label', 'HD02_VD01'], axis=1)\n",
    "income = income.rename(columns={'GEO.id2' : 'Zip Code', 'HD01_VD01' : '2015 Median Household Income'})\n",
    "income.head()"
   ]
  },
  {
   "cell_type": "code",
   "execution_count": 5,
   "metadata": {
    "collapsed": false
   },
   "outputs": [],
   "source": [
    "income.to_csv('2015_acs_income')"
   ]
  }
 ],
 "metadata": {
  "kernelspec": {
   "display_name": "Python 2",
   "language": "python",
   "name": "python2"
  },
  "language_info": {
   "codemirror_mode": {
    "name": "ipython",
    "version": 2
   },
   "file_extension": ".py",
   "mimetype": "text/x-python",
   "name": "python",
   "nbconvert_exporter": "python",
   "pygments_lexer": "ipython2",
   "version": "2.7.12"
  }
 },
 "nbformat": 4,
 "nbformat_minor": 1
}
