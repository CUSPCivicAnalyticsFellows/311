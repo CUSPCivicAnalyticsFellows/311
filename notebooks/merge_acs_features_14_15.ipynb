{
 "cells": [
  {
   "cell_type": "code",
   "execution_count": 10,
   "metadata": {
    "collapsed": true
   },
   "outputs": [],
   "source": [
    "import pandas as pd"
   ]
  },
  {
   "cell_type": "code",
   "execution_count": 15,
   "metadata": {
    "collapsed": true
   },
   "outputs": [],
   "source": [
    "phys_cond_14 = pd.read_csv('../data_processed/phys_cond_14')\n",
    "phys_cond_14 = phys_cond_14.drop('Unnamed: 0', axis=1)\n",
    "phys_cond_15 = pd.read_csv('../data_processed/phys_cond_15')\n",
    "phys_cond_15 = phys_cond_15.drop('Unnamed: 0', axis=1)\n",
    "demos_14 = pd.read_csv('../data_processed/00VAR_Demographic_ACS_CBG_2014.csv')\n",
    "demos_14 = demos_14.drop('Unnamed: 0', axis=1)\n",
    "demos_15 = pd.read_csv('../data_processed/00VAR_Demographic_ACS_CBG_2015.csv')\n",
    "demos_15 = demos_15.drop('Unnamed: 0', axis=1)"
   ]
  },
  {
   "cell_type": "code",
   "execution_count": 16,
   "metadata": {
    "collapsed": false
   },
   "outputs": [
    {
     "data": {
      "text/html": [
       "<div>\n",
       "<table border=\"1\" class=\"dataframe\">\n",
       "  <thead>\n",
       "    <tr style=\"text-align: right;\">\n",
       "      <th></th>\n",
       "      <th>Id2</th>\n",
       "      <th>utility_gas_r</th>\n",
       "      <th>Geography</th>\n",
       "      <th>homeowner_r</th>\n",
       "      <th>avg_bldng_age</th>\n",
       "    </tr>\n",
       "  </thead>\n",
       "  <tbody>\n",
       "    <tr>\n",
       "      <th>0</th>\n",
       "      <td>360050001000</td>\n",
       "      <td>NaN</td>\n",
       "      <td>Block Group 0, Census Tract 1, Bronx County, N...</td>\n",
       "      <td>NaN</td>\n",
       "      <td>NaN</td>\n",
       "    </tr>\n",
       "    <tr>\n",
       "      <th>1</th>\n",
       "      <td>360050001001</td>\n",
       "      <td>NaN</td>\n",
       "      <td>Block Group 1, Census Tract 1, Bronx County, N...</td>\n",
       "      <td>NaN</td>\n",
       "      <td>NaN</td>\n",
       "    </tr>\n",
       "    <tr>\n",
       "      <th>2</th>\n",
       "      <td>360050002000</td>\n",
       "      <td>NaN</td>\n",
       "      <td>Block Group 0, Census Tract 2, Bronx County, N...</td>\n",
       "      <td>NaN</td>\n",
       "      <td>NaN</td>\n",
       "    </tr>\n",
       "  </tbody>\n",
       "</table>\n",
       "</div>"
      ],
      "text/plain": [
       "            Id2  utility_gas_r  \\\n",
       "0  360050001000            NaN   \n",
       "1  360050001001            NaN   \n",
       "2  360050002000            NaN   \n",
       "\n",
       "                                           Geography  homeowner_r  \\\n",
       "0  Block Group 0, Census Tract 1, Bronx County, N...          NaN   \n",
       "1  Block Group 1, Census Tract 1, Bronx County, N...          NaN   \n",
       "2  Block Group 0, Census Tract 2, Bronx County, N...          NaN   \n",
       "\n",
       "   avg_bldng_age  \n",
       "0            NaN  \n",
       "1            NaN  \n",
       "2            NaN  "
      ]
     },
     "execution_count": 16,
     "metadata": {},
     "output_type": "execute_result"
    }
   ],
   "source": [
    "phys_cond_14.head(3)"
   ]
  },
  {
   "cell_type": "code",
   "execution_count": 17,
   "metadata": {
    "collapsed": false
   },
   "outputs": [
    {
     "data": {
      "text/html": [
       "<div>\n",
       "<table border=\"1\" class=\"dataframe\">\n",
       "  <thead>\n",
       "    <tr style=\"text-align: right;\">\n",
       "      <th></th>\n",
       "      <th>Id2</th>\n",
       "      <th>Geography</th>\n",
       "      <th>gas_utility_r</th>\n",
       "      <th>avg_bldng_age</th>\n",
       "      <th>ownership_r</th>\n",
       "    </tr>\n",
       "  </thead>\n",
       "  <tbody>\n",
       "    <tr>\n",
       "      <th>0</th>\n",
       "      <td>360050001000</td>\n",
       "      <td>Block Group 0, Census Tract 1, Bronx County, N...</td>\n",
       "      <td>NaN</td>\n",
       "      <td>NaN</td>\n",
       "      <td>NaN</td>\n",
       "    </tr>\n",
       "    <tr>\n",
       "      <th>1</th>\n",
       "      <td>360050001001</td>\n",
       "      <td>Block Group 1, Census Tract 1, Bronx County, N...</td>\n",
       "      <td>NaN</td>\n",
       "      <td>NaN</td>\n",
       "      <td>NaN</td>\n",
       "    </tr>\n",
       "    <tr>\n",
       "      <th>2</th>\n",
       "      <td>360050002000</td>\n",
       "      <td>Block Group 0, Census Tract 2, Bronx County, N...</td>\n",
       "      <td>NaN</td>\n",
       "      <td>NaN</td>\n",
       "      <td>NaN</td>\n",
       "    </tr>\n",
       "  </tbody>\n",
       "</table>\n",
       "</div>"
      ],
      "text/plain": [
       "            Id2                                          Geography  \\\n",
       "0  360050001000  Block Group 0, Census Tract 1, Bronx County, N...   \n",
       "1  360050001001  Block Group 1, Census Tract 1, Bronx County, N...   \n",
       "2  360050002000  Block Group 0, Census Tract 2, Bronx County, N...   \n",
       "\n",
       "   gas_utility_r  avg_bldng_age  ownership_r  \n",
       "0            NaN            NaN          NaN  \n",
       "1            NaN            NaN          NaN  \n",
       "2            NaN            NaN          NaN  "
      ]
     },
     "execution_count": 17,
     "metadata": {},
     "output_type": "execute_result"
    }
   ],
   "source": [
    "phys_cond_15.head(3)"
   ]
  },
  {
   "cell_type": "code",
   "execution_count": 18,
   "metadata": {
    "collapsed": false
   },
   "outputs": [
    {
     "data": {
      "text/html": [
       "<div>\n",
       "<table border=\"1\" class=\"dataframe\">\n",
       "  <thead>\n",
       "    <tr style=\"text-align: right;\">\n",
       "      <th></th>\n",
       "      <th>Id2</th>\n",
       "      <th>pop</th>\n",
       "      <th>female_r</th>\n",
       "      <th>elderly_r</th>\n",
       "      <th>white_r</th>\n",
       "      <th>black_r</th>\n",
       "      <th>asian_r</th>\n",
       "      <th>hh</th>\n",
       "      <th>hh_child_6_r</th>\n",
       "      <th>hh_living_alone_r</th>\n",
       "      <th>edu_high_r</th>\n",
       "      <th>non_eng_r</th>\n",
       "      <th>unemployed_r</th>\n",
       "      <th>vacancy_r</th>\n",
       "      <th>med_rent</th>\n",
       "      <th>med_income</th>\n",
       "      <th>merried_r</th>\n",
       "      <th>longercommute_r</th>\n",
       "      <th>year</th>\n",
       "    </tr>\n",
       "  </thead>\n",
       "  <tbody>\n",
       "    <tr>\n",
       "      <th>0</th>\n",
       "      <td>360010001001</td>\n",
       "      <td>1158.0</td>\n",
       "      <td>0.613990</td>\n",
       "      <td>0.076857</td>\n",
       "      <td>0.290155</td>\n",
       "      <td>0.489637</td>\n",
       "      <td>0.016408</td>\n",
       "      <td>240.0</td>\n",
       "      <td>0.000000</td>\n",
       "      <td>0.311404</td>\n",
       "      <td>0.185526</td>\n",
       "      <td>0.08114</td>\n",
       "      <td>0.105618</td>\n",
       "      <td>0.142857</td>\n",
       "      <td>615.0</td>\n",
       "      <td>40781.0</td>\n",
       "      <td>0.282022</td>\n",
       "      <td>0.254860</td>\n",
       "      <td>2014</td>\n",
       "    </tr>\n",
       "    <tr>\n",
       "      <th>1</th>\n",
       "      <td>360010001002</td>\n",
       "      <td>1043.0</td>\n",
       "      <td>0.566635</td>\n",
       "      <td>0.085331</td>\n",
       "      <td>0.380633</td>\n",
       "      <td>0.543624</td>\n",
       "      <td>0.027804</td>\n",
       "      <td>332.0</td>\n",
       "      <td>0.313253</td>\n",
       "      <td>0.284916</td>\n",
       "      <td>0.102941</td>\n",
       "      <td>0.00000</td>\n",
       "      <td>0.078189</td>\n",
       "      <td>0.191874</td>\n",
       "      <td>659.0</td>\n",
       "      <td>28700.0</td>\n",
       "      <td>0.363755</td>\n",
       "      <td>0.088608</td>\n",
       "      <td>2014</td>\n",
       "    </tr>\n",
       "    <tr>\n",
       "      <th>2</th>\n",
       "      <td>360010002001</td>\n",
       "      <td>2716.0</td>\n",
       "      <td>0.516200</td>\n",
       "      <td>0.032769</td>\n",
       "      <td>0.053756</td>\n",
       "      <td>0.829529</td>\n",
       "      <td>0.000000</td>\n",
       "      <td>797.0</td>\n",
       "      <td>0.094103</td>\n",
       "      <td>0.431550</td>\n",
       "      <td>0.037383</td>\n",
       "      <td>0.00000</td>\n",
       "      <td>0.069195</td>\n",
       "      <td>0.086164</td>\n",
       "      <td>296.0</td>\n",
       "      <td>15671.0</td>\n",
       "      <td>0.254717</td>\n",
       "      <td>0.132804</td>\n",
       "      <td>2014</td>\n",
       "    </tr>\n",
       "  </tbody>\n",
       "</table>\n",
       "</div>"
      ],
      "text/plain": [
       "            Id2     pop  female_r  elderly_r   white_r   black_r   asian_r  \\\n",
       "0  360010001001  1158.0  0.613990   0.076857  0.290155  0.489637  0.016408   \n",
       "1  360010001002  1043.0  0.566635   0.085331  0.380633  0.543624  0.027804   \n",
       "2  360010002001  2716.0  0.516200   0.032769  0.053756  0.829529  0.000000   \n",
       "\n",
       "      hh  hh_child_6_r  hh_living_alone_r  edu_high_r  non_eng_r  \\\n",
       "0  240.0      0.000000           0.311404    0.185526    0.08114   \n",
       "1  332.0      0.313253           0.284916    0.102941    0.00000   \n",
       "2  797.0      0.094103           0.431550    0.037383    0.00000   \n",
       "\n",
       "   unemployed_r  vacancy_r  med_rent  med_income  merried_r  longercommute_r  \\\n",
       "0      0.105618   0.142857     615.0     40781.0   0.282022         0.254860   \n",
       "1      0.078189   0.191874     659.0     28700.0   0.363755         0.088608   \n",
       "2      0.069195   0.086164     296.0     15671.0   0.254717         0.132804   \n",
       "\n",
       "   year  \n",
       "0  2014  \n",
       "1  2014  \n",
       "2  2014  "
      ]
     },
     "execution_count": 18,
     "metadata": {},
     "output_type": "execute_result"
    }
   ],
   "source": [
    "demos_14.head(3)"
   ]
  },
  {
   "cell_type": "code",
   "execution_count": 19,
   "metadata": {
    "collapsed": true
   },
   "outputs": [],
   "source": [
    "features_14 = pd.merge(phys_cond_14, demos_14, on='Id2', how='outer')"
   ]
  },
  {
   "cell_type": "code",
   "execution_count": 29,
   "metadata": {
    "collapsed": false
   },
   "outputs": [
    {
     "data": {
      "text/plain": [
       "dtype('int64')"
      ]
     },
     "execution_count": 29,
     "metadata": {},
     "output_type": "execute_result"
    }
   ],
   "source": [
    "phys_cond_14.Id2.dtypes"
   ]
  },
  {
   "cell_type": "code",
   "execution_count": 32,
   "metadata": {
    "collapsed": false
   },
   "outputs": [
    {
     "data": {
      "text/plain": [
       "6493"
      ]
     },
     "execution_count": 32,
     "metadata": {},
     "output_type": "execute_result"
    }
   ],
   "source": [
    "len(phys_cond_14)"
   ]
  },
  {
   "cell_type": "code",
   "execution_count": 31,
   "metadata": {
    "collapsed": false
   },
   "outputs": [
    {
     "data": {
      "text/plain": [
       "dtype('int64')"
      ]
     },
     "execution_count": 31,
     "metadata": {},
     "output_type": "execute_result"
    }
   ],
   "source": [
    "demos_14.Id2.dtypes"
   ]
  },
  {
   "cell_type": "code",
   "execution_count": 35,
   "metadata": {
    "collapsed": false
   },
   "outputs": [
    {
     "data": {
      "text/plain": [
       "15463"
      ]
     },
     "execution_count": 35,
     "metadata": {},
     "output_type": "execute_result"
    }
   ],
   "source": [
    "len(demos_14.Id2.unique())"
   ]
  },
  {
   "cell_type": "code",
   "execution_count": 33,
   "metadata": {
    "collapsed": false
   },
   "outputs": [
    {
     "data": {
      "text/plain": [
       "15463"
      ]
     },
     "execution_count": 33,
     "metadata": {},
     "output_type": "execute_result"
    }
   ],
   "source": [
    "len(demos_14)"
   ]
  },
  {
   "cell_type": "code",
   "execution_count": 20,
   "metadata": {
    "collapsed": false
   },
   "outputs": [
    {
     "data": {
      "text/html": [
       "<div>\n",
       "<table border=\"1\" class=\"dataframe\">\n",
       "  <thead>\n",
       "    <tr style=\"text-align: right;\">\n",
       "      <th></th>\n",
       "      <th>Id2</th>\n",
       "      <th>utility_gas_r</th>\n",
       "      <th>Geography</th>\n",
       "      <th>homeowner_r</th>\n",
       "      <th>avg_bldng_age</th>\n",
       "      <th>pop</th>\n",
       "      <th>female_r</th>\n",
       "      <th>elderly_r</th>\n",
       "      <th>white_r</th>\n",
       "      <th>black_r</th>\n",
       "      <th>...</th>\n",
       "      <th>hh_living_alone_r</th>\n",
       "      <th>edu_high_r</th>\n",
       "      <th>non_eng_r</th>\n",
       "      <th>unemployed_r</th>\n",
       "      <th>vacancy_r</th>\n",
       "      <th>med_rent</th>\n",
       "      <th>med_income</th>\n",
       "      <th>merried_r</th>\n",
       "      <th>longercommute_r</th>\n",
       "      <th>year</th>\n",
       "    </tr>\n",
       "  </thead>\n",
       "  <tbody>\n",
       "    <tr>\n",
       "      <th>0</th>\n",
       "      <td>360050001000</td>\n",
       "      <td>NaN</td>\n",
       "      <td>Block Group 0, Census Tract 1, Bronx County, N...</td>\n",
       "      <td>NaN</td>\n",
       "      <td>NaN</td>\n",
       "      <td>0.0</td>\n",
       "      <td>NaN</td>\n",
       "      <td>NaN</td>\n",
       "      <td>NaN</td>\n",
       "      <td>NaN</td>\n",
       "      <td>...</td>\n",
       "      <td>NaN</td>\n",
       "      <td>NaN</td>\n",
       "      <td>NaN</td>\n",
       "      <td>NaN</td>\n",
       "      <td>NaN</td>\n",
       "      <td>0.0</td>\n",
       "      <td>0.0</td>\n",
       "      <td>NaN</td>\n",
       "      <td>NaN</td>\n",
       "      <td>2014</td>\n",
       "    </tr>\n",
       "    <tr>\n",
       "      <th>1</th>\n",
       "      <td>360050001001</td>\n",
       "      <td>NaN</td>\n",
       "      <td>Block Group 1, Census Tract 1, Bronx County, N...</td>\n",
       "      <td>NaN</td>\n",
       "      <td>NaN</td>\n",
       "      <td>8430.0</td>\n",
       "      <td>0.092052</td>\n",
       "      <td>0.00344</td>\n",
       "      <td>0.140451</td>\n",
       "      <td>0.575445</td>\n",
       "      <td>...</td>\n",
       "      <td>NaN</td>\n",
       "      <td>0.021901</td>\n",
       "      <td>NaN</td>\n",
       "      <td>0.0</td>\n",
       "      <td>NaN</td>\n",
       "      <td>0.0</td>\n",
       "      <td>0.0</td>\n",
       "      <td>0.127639</td>\n",
       "      <td>NaN</td>\n",
       "      <td>2014</td>\n",
       "    </tr>\n",
       "  </tbody>\n",
       "</table>\n",
       "<p>2 rows × 23 columns</p>\n",
       "</div>"
      ],
      "text/plain": [
       "            Id2  utility_gas_r  \\\n",
       "0  360050001000            NaN   \n",
       "1  360050001001            NaN   \n",
       "\n",
       "                                           Geography  homeowner_r  \\\n",
       "0  Block Group 0, Census Tract 1, Bronx County, N...          NaN   \n",
       "1  Block Group 1, Census Tract 1, Bronx County, N...          NaN   \n",
       "\n",
       "   avg_bldng_age     pop  female_r  elderly_r   white_r   black_r  ...   \\\n",
       "0            NaN     0.0       NaN        NaN       NaN       NaN  ...    \n",
       "1            NaN  8430.0  0.092052    0.00344  0.140451  0.575445  ...    \n",
       "\n",
       "   hh_living_alone_r  edu_high_r  non_eng_r  unemployed_r  vacancy_r  \\\n",
       "0                NaN         NaN        NaN           NaN        NaN   \n",
       "1                NaN    0.021901        NaN           0.0        NaN   \n",
       "\n",
       "   med_rent  med_income  merried_r  longercommute_r  year  \n",
       "0       0.0         0.0        NaN              NaN  2014  \n",
       "1       0.0         0.0   0.127639              NaN  2014  \n",
       "\n",
       "[2 rows x 23 columns]"
      ]
     },
     "execution_count": 20,
     "metadata": {},
     "output_type": "execute_result"
    }
   ],
   "source": [
    "features_14.head(2)"
   ]
  },
  {
   "cell_type": "code",
   "execution_count": 21,
   "metadata": {
    "collapsed": true
   },
   "outputs": [],
   "source": [
    "features_15 = pd.merge(phys_cond_15, demos_15, on='Id2', how='outer')"
   ]
  },
  {
   "cell_type": "code",
   "execution_count": 22,
   "metadata": {
    "collapsed": false
   },
   "outputs": [
    {
     "data": {
      "text/html": [
       "<div>\n",
       "<table border=\"1\" class=\"dataframe\">\n",
       "  <thead>\n",
       "    <tr style=\"text-align: right;\">\n",
       "      <th></th>\n",
       "      <th>Id2</th>\n",
       "      <th>Geography</th>\n",
       "      <th>gas_utility_r</th>\n",
       "      <th>avg_bldng_age</th>\n",
       "      <th>ownership_r</th>\n",
       "      <th>pop</th>\n",
       "      <th>female_r</th>\n",
       "      <th>elderly_r</th>\n",
       "      <th>white_r</th>\n",
       "      <th>black_r</th>\n",
       "      <th>...</th>\n",
       "      <th>hh_living_alone_r</th>\n",
       "      <th>edu_high_r</th>\n",
       "      <th>non_eng_r</th>\n",
       "      <th>unemployed_r</th>\n",
       "      <th>vacancy_r</th>\n",
       "      <th>med_rent</th>\n",
       "      <th>med_income</th>\n",
       "      <th>merried_r</th>\n",
       "      <th>longercommute_r</th>\n",
       "      <th>year</th>\n",
       "    </tr>\n",
       "  </thead>\n",
       "  <tbody>\n",
       "    <tr>\n",
       "      <th>0</th>\n",
       "      <td>360050001000</td>\n",
       "      <td>Block Group 0, Census Tract 1, Bronx County, N...</td>\n",
       "      <td>NaN</td>\n",
       "      <td>NaN</td>\n",
       "      <td>NaN</td>\n",
       "      <td>0.0</td>\n",
       "      <td>NaN</td>\n",
       "      <td>NaN</td>\n",
       "      <td>NaN</td>\n",
       "      <td>NaN</td>\n",
       "      <td>...</td>\n",
       "      <td>NaN</td>\n",
       "      <td>NaN</td>\n",
       "      <td>NaN</td>\n",
       "      <td>NaN</td>\n",
       "      <td>NaN</td>\n",
       "      <td>0.0</td>\n",
       "      <td>0.0</td>\n",
       "      <td>NaN</td>\n",
       "      <td>NaN</td>\n",
       "      <td>2015</td>\n",
       "    </tr>\n",
       "    <tr>\n",
       "      <th>1</th>\n",
       "      <td>360050001001</td>\n",
       "      <td>Block Group 1, Census Tract 1, Bronx County, N...</td>\n",
       "      <td>NaN</td>\n",
       "      <td>NaN</td>\n",
       "      <td>NaN</td>\n",
       "      <td>7703.0</td>\n",
       "      <td>0.073997</td>\n",
       "      <td>0.002726</td>\n",
       "      <td>0.099052</td>\n",
       "      <td>0.629106</td>\n",
       "      <td>...</td>\n",
       "      <td>NaN</td>\n",
       "      <td>0.012699</td>\n",
       "      <td>NaN</td>\n",
       "      <td>0.0</td>\n",
       "      <td>NaN</td>\n",
       "      <td>0.0</td>\n",
       "      <td>0.0</td>\n",
       "      <td>0.12229</td>\n",
       "      <td>NaN</td>\n",
       "      <td>2015</td>\n",
       "    </tr>\n",
       "  </tbody>\n",
       "</table>\n",
       "<p>2 rows × 23 columns</p>\n",
       "</div>"
      ],
      "text/plain": [
       "            Id2                                          Geography  \\\n",
       "0  360050001000  Block Group 0, Census Tract 1, Bronx County, N...   \n",
       "1  360050001001  Block Group 1, Census Tract 1, Bronx County, N...   \n",
       "\n",
       "   gas_utility_r  avg_bldng_age  ownership_r     pop  female_r  elderly_r  \\\n",
       "0            NaN            NaN          NaN     0.0       NaN        NaN   \n",
       "1            NaN            NaN          NaN  7703.0  0.073997   0.002726   \n",
       "\n",
       "    white_r   black_r  ...   hh_living_alone_r  edu_high_r  non_eng_r  \\\n",
       "0       NaN       NaN  ...                 NaN         NaN        NaN   \n",
       "1  0.099052  0.629106  ...                 NaN    0.012699        NaN   \n",
       "\n",
       "   unemployed_r  vacancy_r  med_rent  med_income  merried_r  longercommute_r  \\\n",
       "0           NaN        NaN       0.0         0.0        NaN              NaN   \n",
       "1           0.0        NaN       0.0         0.0    0.12229              NaN   \n",
       "\n",
       "   year  \n",
       "0  2015  \n",
       "1  2015  \n",
       "\n",
       "[2 rows x 23 columns]"
      ]
     },
     "execution_count": 22,
     "metadata": {},
     "output_type": "execute_result"
    }
   ],
   "source": [
    "features_15.head(2)"
   ]
  },
  {
   "cell_type": "code",
   "execution_count": 24,
   "metadata": {
    "collapsed": false
   },
   "outputs": [
    {
     "data": {
      "text/plain": [
       "Id2                     0\n",
       "utility_gas_r        9250\n",
       "Geography            8970\n",
       "homeowner_r          9250\n",
       "avg_bldng_age        9248\n",
       "pop                     0\n",
       "female_r              292\n",
       "elderly_r             292\n",
       "white_r               292\n",
       "black_r               292\n",
       "asian_r               292\n",
       "hh                      0\n",
       "hh_child_6_r          545\n",
       "hh_living_alone_r     343\n",
       "edu_high_r            293\n",
       "non_eng_r             343\n",
       "unemployed_r          292\n",
       "vacancy_r             337\n",
       "med_rent                0\n",
       "med_income              0\n",
       "merried_r             292\n",
       "longercommute_r       319\n",
       "year                    0\n",
       "dtype: int64"
      ]
     },
     "execution_count": 24,
     "metadata": {},
     "output_type": "execute_result"
    }
   ],
   "source": [
    "features_14.isnull().sum()"
   ]
  },
  {
   "cell_type": "code",
   "execution_count": 25,
   "metadata": {
    "collapsed": false
   },
   "outputs": [
    {
     "data": {
      "text/plain": [
       "15463"
      ]
     },
     "execution_count": 25,
     "metadata": {},
     "output_type": "execute_result"
    }
   ],
   "source": [
    "len(features_14)"
   ]
  },
  {
   "cell_type": "code",
   "execution_count": 27,
   "metadata": {
    "collapsed": false
   },
   "outputs": [],
   "source": [
    "features_14 = features_14.dropna()"
   ]
  },
  {
   "cell_type": "code",
   "execution_count": 28,
   "metadata": {
    "collapsed": false
   },
   "outputs": [
    {
     "data": {
      "text/plain": [
       "6093"
      ]
     },
     "execution_count": 28,
     "metadata": {},
     "output_type": "execute_result"
    }
   ],
   "source": [
    "len(features_14)"
   ]
  },
  {
   "cell_type": "code",
   "execution_count": null,
   "metadata": {
    "collapsed": true
   },
   "outputs": [],
   "source": []
  }
 ],
 "metadata": {
  "kernelspec": {
   "display_name": "Python 2",
   "language": "python",
   "name": "python2"
  },
  "language_info": {
   "codemirror_mode": {
    "name": "ipython",
    "version": 2
   },
   "file_extension": ".py",
   "mimetype": "text/x-python",
   "name": "python",
   "nbconvert_exporter": "python",
   "pygments_lexer": "ipython2",
   "version": "2.7.12"
  }
 },
 "nbformat": 4,
 "nbformat_minor": 1
}
