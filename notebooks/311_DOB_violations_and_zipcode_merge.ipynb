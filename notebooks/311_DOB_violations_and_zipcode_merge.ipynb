{
 "cells": [
  {
   "cell_type": "code",
   "execution_count": 1,
   "metadata": {
    "collapsed": true
   },
   "outputs": [],
   "source": [
    "import pandas as pd\n",
    "import numpy as np"
   ]
  },
  {
   "cell_type": "code",
   "execution_count": 2,
   "metadata": {
    "collapsed": false
   },
   "outputs": [
    {
     "name": "stderr",
     "output_type": "stream",
     "text": [
      "//anaconda/lib/python2.7/site-packages/IPython/core/interactiveshell.py:2723: DtypeWarning: Columns (20) have mixed types. Specify dtype option on import or set low_memory=False.\n",
      "  interactivity=interactivity, compiler=compiler, result=result)\n"
     ]
    }
   ],
   "source": [
    "#https://data.cityofnewyork.us/City-Government/Property-Address-Directory/bc8t-ecyu\n",
    "bbl = pd.read_csv('/Users/kristikorsberg/Downloads/pad16c/bobaadr.txt', sep=',')"
   ]
  },
  {
   "cell_type": "code",
   "execution_count": 3,
   "metadata": {
    "collapsed": false
   },
   "outputs": [
    {
     "data": {
      "text/html": [
       "<div>\n",
       "<table border=\"1\" class=\"dataframe\">\n",
       "  <thead>\n",
       "    <tr style=\"text-align: right;\">\n",
       "      <th></th>\n",
       "      <th>boro</th>\n",
       "      <th>block</th>\n",
       "      <th>lot</th>\n",
       "      <th>bin</th>\n",
       "      <th>lhnd</th>\n",
       "      <th>lhns</th>\n",
       "      <th>lcontpar</th>\n",
       "      <th>lsos</th>\n",
       "      <th>hhnd</th>\n",
       "      <th>hhns</th>\n",
       "      <th>...</th>\n",
       "      <th>sc5</th>\n",
       "      <th>sclgc</th>\n",
       "      <th>stname</th>\n",
       "      <th>addrtype</th>\n",
       "      <th>realb7sc</th>\n",
       "      <th>validlgcs</th>\n",
       "      <th>parity</th>\n",
       "      <th>b10sc</th>\n",
       "      <th>segid</th>\n",
       "      <th>zipcode</th>\n",
       "    </tr>\n",
       "  </thead>\n",
       "  <tbody>\n",
       "    <tr>\n",
       "      <th>0</th>\n",
       "      <td>1</td>\n",
       "      <td>1</td>\n",
       "      <td>10</td>\n",
       "      <td>1000000</td>\n",
       "      <td>38</td>\n",
       "      <td>000038000AA</td>\n",
       "      <td></td>\n",
       "      <td></td>\n",
       "      <td>38</td>\n",
       "      <td>000038000AA</td>\n",
       "      <td>...</td>\n",
       "      <td>12630</td>\n",
       "      <td>1</td>\n",
       "      <td>BARRY ROAD</td>\n",
       "      <td></td>\n",
       "      <td></td>\n",
       "      <td></td>\n",
       "      <td>2</td>\n",
       "      <td>11263001010</td>\n",
       "      <td></td>\n",
       "      <td></td>\n",
       "    </tr>\n",
       "    <tr>\n",
       "      <th>1</th>\n",
       "      <td>1</td>\n",
       "      <td>1</td>\n",
       "      <td>10</td>\n",
       "      <td>1000000</td>\n",
       "      <td></td>\n",
       "      <td></td>\n",
       "      <td></td>\n",
       "      <td>R</td>\n",
       "      <td></td>\n",
       "      <td></td>\n",
       "      <td>...</td>\n",
       "      <td>13860</td>\n",
       "      <td>1</td>\n",
       "      <td>PIER  101 GOVERNORS ISLAND</td>\n",
       "      <td>N</td>\n",
       "      <td></td>\n",
       "      <td>01</td>\n",
       "      <td>0</td>\n",
       "      <td>11386001010</td>\n",
       "      <td>0105848</td>\n",
       "      <td>10004</td>\n",
       "    </tr>\n",
       "    <tr>\n",
       "      <th>2</th>\n",
       "      <td>1</td>\n",
       "      <td>1</td>\n",
       "      <td>10</td>\n",
       "      <td>1000000</td>\n",
       "      <td>39A</td>\n",
       "      <td>000039000MB</td>\n",
       "      <td>L</td>\n",
       "      <td>L</td>\n",
       "      <td>39A</td>\n",
       "      <td>000039000MB</td>\n",
       "      <td>...</td>\n",
       "      <td>45603</td>\n",
       "      <td>1</td>\n",
       "      <td>GOVERNORS ISLAND</td>\n",
       "      <td></td>\n",
       "      <td></td>\n",
       "      <td>01</td>\n",
       "      <td>1</td>\n",
       "      <td>14560301010</td>\n",
       "      <td>0117705</td>\n",
       "      <td>10004</td>\n",
       "    </tr>\n",
       "    <tr>\n",
       "      <th>3</th>\n",
       "      <td>1</td>\n",
       "      <td>1</td>\n",
       "      <td>10</td>\n",
       "      <td>1000000</td>\n",
       "      <td>39B</td>\n",
       "      <td>000039000MC</td>\n",
       "      <td>L</td>\n",
       "      <td>L</td>\n",
       "      <td>39B</td>\n",
       "      <td>000039000MC</td>\n",
       "      <td>...</td>\n",
       "      <td>45603</td>\n",
       "      <td>1</td>\n",
       "      <td>GOVERNORS ISLAND</td>\n",
       "      <td></td>\n",
       "      <td></td>\n",
       "      <td>01</td>\n",
       "      <td>1</td>\n",
       "      <td>14560301010</td>\n",
       "      <td>0117705</td>\n",
       "      <td>10004</td>\n",
       "    </tr>\n",
       "    <tr>\n",
       "      <th>4</th>\n",
       "      <td>1</td>\n",
       "      <td>1</td>\n",
       "      <td>10</td>\n",
       "      <td>1086268</td>\n",
       "      <td></td>\n",
       "      <td></td>\n",
       "      <td></td>\n",
       "      <td></td>\n",
       "      <td></td>\n",
       "      <td></td>\n",
       "      <td>...</td>\n",
       "      <td>22110</td>\n",
       "      <td>1</td>\n",
       "      <td>HALF MOON ROAD</td>\n",
       "      <td>W</td>\n",
       "      <td></td>\n",
       "      <td></td>\n",
       "      <td></td>\n",
       "      <td>12211001010</td>\n",
       "      <td></td>\n",
       "      <td></td>\n",
       "    </tr>\n",
       "  </tbody>\n",
       "</table>\n",
       "<p>5 rows × 23 columns</p>\n",
       "</div>"
      ],
      "text/plain": [
       "   boro  block  lot      bin          lhnd         lhns lcontpar lsos  \\\n",
       "0     1      1   10  1000000  38            000038000AA                 \n",
       "1     1      1   10  1000000                                        R   \n",
       "2     1      1   10  1000000  39A           000039000MB        L    L   \n",
       "3     1      1   10  1000000  39B           000039000MC        L    L   \n",
       "4     1      1   10  1086268                                            \n",
       "\n",
       "           hhnd         hhns   ...      sc5 sclgc  \\\n",
       "0  38            000038000AA   ...    12630     1   \n",
       "1                              ...    13860     1   \n",
       "2  39A           000039000MB   ...    45603     1   \n",
       "3  39B           000039000MC   ...    45603     1   \n",
       "4                              ...    22110     1   \n",
       "\n",
       "                             stname  addrtype  realb7sc validlgcs parity  \\\n",
       "0  BARRY ROAD                                                          2   \n",
       "1  PIER  101 GOVERNORS ISLAND               N            01            0   \n",
       "2  GOVERNORS ISLAND                                      01            1   \n",
       "3  GOVERNORS ISLAND                                      01            1   \n",
       "4  HALF MOON ROAD                           W                              \n",
       "\n",
       "         b10sc    segid zipcode  \n",
       "0  11263001010                   \n",
       "1  11386001010  0105848   10004  \n",
       "2  14560301010  0117705   10004  \n",
       "3  14560301010  0117705   10004  \n",
       "4  12211001010                   \n",
       "\n",
       "[5 rows x 23 columns]"
      ]
     },
     "execution_count": 3,
     "metadata": {},
     "output_type": "execute_result"
    }
   ],
   "source": [
    "bbl.head()"
   ]
  },
  {
   "cell_type": "code",
   "execution_count": 4,
   "metadata": {
    "collapsed": false
   },
   "outputs": [
    {
     "data": {
      "text/plain": [
       "Index([u'boro', u'block', u'lot', u'bin', u'lhnd', u'lhns', u'lcontpar',\n",
       "       u'lsos', u'hhnd', u'hhns', u'hcontpar', u'hsos', u'scboro', u'sc5',\n",
       "       u'sclgc', u'stname', u'addrtype', u'realb7sc', u'validlgcs', u'parity',\n",
       "       u'b10sc', u'segid', u'zipcode'],\n",
       "      dtype='object')"
      ]
     },
     "execution_count": 4,
     "metadata": {},
     "output_type": "execute_result"
    }
   ],
   "source": [
    "bbl.columns"
   ]
  },
  {
   "cell_type": "code",
   "execution_count": 5,
   "metadata": {
    "collapsed": false
   },
   "outputs": [],
   "source": [
    "bbl = bbl[['boro', 'block', 'lot', 'zipcode']]"
   ]
  },
  {
   "cell_type": "code",
   "execution_count": 6,
   "metadata": {
    "collapsed": false
   },
   "outputs": [
    {
     "name": "stderr",
     "output_type": "stream",
     "text": [
      "/anaconda/lib/python2.7/site-packages/ipykernel/__main__.py:1: FutureWarning: convert_objects is deprecated.  Use the data-type specific converters pd.to_datetime, pd.to_timedelta and pd.to_numeric.\n",
      "  if __name__ == '__main__':\n"
     ]
    }
   ],
   "source": [
    "bbl = bbl.convert_objects(convert_numeric=True)"
   ]
  },
  {
   "cell_type": "code",
   "execution_count": 7,
   "metadata": {
    "collapsed": true
   },
   "outputs": [],
   "source": [
    "bbl['block'] = bbl['block'].astype(str)"
   ]
  },
  {
   "cell_type": "code",
   "execution_count": 8,
   "metadata": {
    "collapsed": true
   },
   "outputs": [],
   "source": [
    "bbl['lot'] = bbl['lot'].astype(str)"
   ]
  },
  {
   "cell_type": "code",
   "execution_count": 9,
   "metadata": {
    "collapsed": false
   },
   "outputs": [],
   "source": [
    "bbl['block'] = bbl['block'].str.zfill(5)"
   ]
  },
  {
   "cell_type": "code",
   "execution_count": 10,
   "metadata": {
    "collapsed": false
   },
   "outputs": [],
   "source": [
    "bbl['lot'] = bbl['lot'].str.zfill(5)"
   ]
  },
  {
   "cell_type": "code",
   "execution_count": 11,
   "metadata": {
    "collapsed": false
   },
   "outputs": [],
   "source": [
    "bbl['bbl'] = bbl['boro'].astype(str) + bbl['block'] + bbl['lot']"
   ]
  },
  {
   "cell_type": "code",
   "execution_count": 38,
   "metadata": {
    "collapsed": false
   },
   "outputs": [
    {
     "data": {
      "text/html": [
       "<div>\n",
       "<table border=\"1\" class=\"dataframe\">\n",
       "  <thead>\n",
       "    <tr style=\"text-align: right;\">\n",
       "      <th></th>\n",
       "      <th>zipcode</th>\n",
       "      <th>bbl</th>\n",
       "    </tr>\n",
       "  </thead>\n",
       "  <tbody>\n",
       "  </tbody>\n",
       "</table>\n",
       "</div>"
      ],
      "text/plain": [
       "Empty DataFrame\n",
       "Columns: [zipcode, bbl]\n",
       "Index: []"
      ]
     },
     "execution_count": 38,
     "metadata": {},
     "output_type": "execute_result"
    }
   ],
   "source": [
    "bbl[bbl['bbl'] == '40186307502']"
   ]
  },
  {
   "cell_type": "code",
   "execution_count": 13,
   "metadata": {
    "collapsed": false
   },
   "outputs": [
    {
     "name": "stderr",
     "output_type": "stream",
     "text": [
      "//anaconda/lib/python2.7/site-packages/IPython/core/interactiveshell.py:2723: DtypeWarning: Columns (1,3,5,10) have mixed types. Specify dtype option on import or set low_memory=False.\n",
      "  interactivity=interactivity, compiler=compiler, result=result)\n"
     ]
    }
   ],
   "source": [
    "violations = pd.read_csv('DOB_Violations.csv')"
   ]
  },
  {
   "cell_type": "code",
   "execution_count": 14,
   "metadata": {
    "collapsed": true
   },
   "outputs": [],
   "source": [
    "violations['bbl'] = violations['BORO'].astype(str) + violations['BLOCK'].astype(str) + violations['LOT'].astype(str)"
   ]
  },
  {
   "cell_type": "code",
   "execution_count": 15,
   "metadata": {
    "collapsed": false
   },
   "outputs": [
    {
     "data": {
      "text/html": [
       "<div>\n",
       "<table border=\"1\" class=\"dataframe\">\n",
       "  <thead>\n",
       "    <tr style=\"text-align: right;\">\n",
       "      <th></th>\n",
       "      <th>ISN_DOB_BIS_VIOL</th>\n",
       "      <th>BORO</th>\n",
       "      <th>BIN</th>\n",
       "      <th>BLOCK</th>\n",
       "      <th>LOT</th>\n",
       "      <th>ISSUE_DATE</th>\n",
       "      <th>VIOLATION_TYPE_CODE</th>\n",
       "      <th>VIOLATION_NUMBER</th>\n",
       "      <th>HOUSE_NUMBER</th>\n",
       "      <th>STREET</th>\n",
       "      <th>DISPOSITION_DATE</th>\n",
       "      <th>DISPOSITION_COMMENTS</th>\n",
       "      <th>DEVICE_NUMBER</th>\n",
       "      <th>DESCRIPTION</th>\n",
       "      <th>ECB_NUMBER</th>\n",
       "      <th>NUMBER</th>\n",
       "      <th>VIOLATION_CATEGORY</th>\n",
       "      <th>VIOLATION_TYPE</th>\n",
       "      <th>bbl</th>\n",
       "    </tr>\n",
       "  </thead>\n",
       "  <tbody>\n",
       "    <tr>\n",
       "      <th>0</th>\n",
       "      <td>1853880</td>\n",
       "      <td>4</td>\n",
       "      <td>4314540.0</td>\n",
       "      <td>01863</td>\n",
       "      <td>07502</td>\n",
       "      <td>20140515</td>\n",
       "      <td>LBLVIO</td>\n",
       "      <td>19551</td>\n",
       "      <td>48-21</td>\n",
       "      <td>92 STREET</td>\n",
       "      <td>2.01605e+07</td>\n",
       "      <td>CIAKMH DISMISSED, INV #61675679</td>\n",
       "      <td>00067775</td>\n",
       "      <td>VIOLATION ISSUED FOR FAILURE TO FILE ANNUAL BO...</td>\n",
       "      <td>NaN</td>\n",
       "      <td>V*051514LBLVIO19551</td>\n",
       "      <td>V*-DOB VIOLATION - DISMISSED</td>\n",
       "      <td>LBLVIO-LOW PRESSURE BOILER</td>\n",
       "      <td>40186307502</td>\n",
       "    </tr>\n",
       "    <tr>\n",
       "      <th>1</th>\n",
       "      <td>2009641</td>\n",
       "      <td>5</td>\n",
       "      <td>5121944.0</td>\n",
       "      <td>04441</td>\n",
       "      <td>00001</td>\n",
       "      <td>20151001</td>\n",
       "      <td>LBLVIO</td>\n",
       "      <td>14723</td>\n",
       "      <td>303</td>\n",
       "      <td>CENTER STREET</td>\n",
       "      <td>2.01605e+07</td>\n",
       "      <td>CIAKMH CANCELLED, CITY OWNED PROPERTY CURRENT ...</td>\n",
       "      <td>00076420</td>\n",
       "      <td>VIOLATION ISSUED FOR FAILURE TO FILE ANNUAL BO...</td>\n",
       "      <td>NaN</td>\n",
       "      <td>V*100115LBLVIO14723</td>\n",
       "      <td>V*-DOB VIOLATION - DISMISSED</td>\n",
       "      <td>LBLVIO-LOW PRESSURE BOILER</td>\n",
       "      <td>50444100001</td>\n",
       "    </tr>\n",
       "    <tr>\n",
       "      <th>2</th>\n",
       "      <td>142871</td>\n",
       "      <td>3</td>\n",
       "      <td>3117400.0</td>\n",
       "      <td>05111</td>\n",
       "      <td>00024</td>\n",
       "      <td>19920407</td>\n",
       "      <td>LL1081</td>\n",
       "      <td>02749</td>\n",
       "      <td>2820</td>\n",
       "      <td>SNYDER AVENUE</td>\n",
       "      <td>2.01605e+07</td>\n",
       "      <td>JMA    CAT 5 PERFORMED 5-14-15</td>\n",
       "      <td>E9202749</td>\n",
       "      <td>1</td>\n",
       "      <td>NaN</td>\n",
       "      <td>V*040792LL108102749</td>\n",
       "      <td>V*-DOB VIOLATION - DISMISSED</td>\n",
       "      <td>LL1081-LOCAL LAW 10/81 - ELEVATOR</td>\n",
       "      <td>30511100024</td>\n",
       "    </tr>\n",
       "    <tr>\n",
       "      <th>3</th>\n",
       "      <td>1311958</td>\n",
       "      <td>5</td>\n",
       "      <td>5121944.0</td>\n",
       "      <td>04441</td>\n",
       "      <td>00001</td>\n",
       "      <td>20080103</td>\n",
       "      <td>LL6291</td>\n",
       "      <td>26494</td>\n",
       "      <td>276</td>\n",
       "      <td>CENTER STREET</td>\n",
       "      <td>2.01605e+07</td>\n",
       "      <td>CIAKMH CANCELLED, CITY OWNED PROPERTY CURRENT ...</td>\n",
       "      <td>00076420</td>\n",
       "      <td>NaN</td>\n",
       "      <td>NaN</td>\n",
       "      <td>V*010308LL629126494</td>\n",
       "      <td>V*-DOB VIOLATION - DISMISSED</td>\n",
       "      <td>LL6291-LOCAL LAW 62/91 - BOILERS</td>\n",
       "      <td>50444100001</td>\n",
       "    </tr>\n",
       "    <tr>\n",
       "      <th>4</th>\n",
       "      <td>348436</td>\n",
       "      <td>4</td>\n",
       "      <td>4054168.0</td>\n",
       "      <td>02344</td>\n",
       "      <td>00030</td>\n",
       "      <td>19950417</td>\n",
       "      <td>LL1081</td>\n",
       "      <td>03715</td>\n",
       "      <td>59-06</td>\n",
       "      <td>LAUREL HILL BOULEVARD</td>\n",
       "      <td>2.01605e+07</td>\n",
       "      <td>JMA    2015 SAT CAT 1 PERFORMED 3-4-15</td>\n",
       "      <td>E9503715</td>\n",
       "      <td>NaN</td>\n",
       "      <td>NaN</td>\n",
       "      <td>V*041795LL108103715</td>\n",
       "      <td>V*-DOB VIOLATION - DISMISSED</td>\n",
       "      <td>LL1081-LOCAL LAW 10/81 - ELEVATOR</td>\n",
       "      <td>40234400030</td>\n",
       "    </tr>\n",
       "  </tbody>\n",
       "</table>\n",
       "</div>"
      ],
      "text/plain": [
       "   ISN_DOB_BIS_VIOL BORO        BIN  BLOCK    LOT ISSUE_DATE  \\\n",
       "0           1853880    4  4314540.0  01863  07502   20140515   \n",
       "1           2009641    5  5121944.0  04441  00001   20151001   \n",
       "2            142871    3  3117400.0  05111  00024   19920407   \n",
       "3           1311958    5  5121944.0  04441  00001   20080103   \n",
       "4            348436    4  4054168.0  02344  00030   19950417   \n",
       "\n",
       "  VIOLATION_TYPE_CODE VIOLATION_NUMBER HOUSE_NUMBER                 STREET  \\\n",
       "0              LBLVIO            19551        48-21              92 STREET   \n",
       "1              LBLVIO            14723          303          CENTER STREET   \n",
       "2              LL1081            02749         2820          SNYDER AVENUE   \n",
       "3              LL6291            26494          276          CENTER STREET   \n",
       "4              LL1081            03715        59-06  LAUREL HILL BOULEVARD   \n",
       "\n",
       "  DISPOSITION_DATE                               DISPOSITION_COMMENTS  \\\n",
       "0      2.01605e+07                    CIAKMH DISMISSED, INV #61675679   \n",
       "1      2.01605e+07  CIAKMH CANCELLED, CITY OWNED PROPERTY CURRENT ...   \n",
       "2      2.01605e+07                     JMA    CAT 5 PERFORMED 5-14-15   \n",
       "3      2.01605e+07  CIAKMH CANCELLED, CITY OWNED PROPERTY CURRENT ...   \n",
       "4      2.01605e+07             JMA    2015 SAT CAT 1 PERFORMED 3-4-15   \n",
       "\n",
       "  DEVICE_NUMBER                                        DESCRIPTION ECB_NUMBER  \\\n",
       "0      00067775  VIOLATION ISSUED FOR FAILURE TO FILE ANNUAL BO...        NaN   \n",
       "1      00076420  VIOLATION ISSUED FOR FAILURE TO FILE ANNUAL BO...        NaN   \n",
       "2      E9202749                                                  1        NaN   \n",
       "3      00076420                                                NaN        NaN   \n",
       "4      E9503715                                                NaN        NaN   \n",
       "\n",
       "                NUMBER            VIOLATION_CATEGORY  \\\n",
       "0  V*051514LBLVIO19551  V*-DOB VIOLATION - DISMISSED   \n",
       "1  V*100115LBLVIO14723  V*-DOB VIOLATION - DISMISSED   \n",
       "2  V*040792LL108102749  V*-DOB VIOLATION - DISMISSED   \n",
       "3  V*010308LL629126494  V*-DOB VIOLATION - DISMISSED   \n",
       "4  V*041795LL108103715  V*-DOB VIOLATION - DISMISSED   \n",
       "\n",
       "                      VIOLATION_TYPE          bbl  \n",
       "0         LBLVIO-LOW PRESSURE BOILER  40186307502  \n",
       "1         LBLVIO-LOW PRESSURE BOILER  50444100001  \n",
       "2  LL1081-LOCAL LAW 10/81 - ELEVATOR  30511100024  \n",
       "3   LL6291-LOCAL LAW 62/91 - BOILERS  50444100001  \n",
       "4  LL1081-LOCAL LAW 10/81 - ELEVATOR  40234400030  "
      ]
     },
     "execution_count": 15,
     "metadata": {},
     "output_type": "execute_result"
    }
   ],
   "source": [
    "violations.head()"
   ]
  },
  {
   "cell_type": "code",
   "execution_count": 16,
   "metadata": {
    "collapsed": false
   },
   "outputs": [
    {
     "name": "stdout",
     "output_type": "stream",
     "text": [
      "1830086\n"
     ]
    }
   ],
   "source": [
    "print(len(violations))"
   ]
  },
  {
   "cell_type": "code",
   "execution_count": 17,
   "metadata": {
    "collapsed": false
   },
   "outputs": [],
   "source": [
    "bbl = bbl.dropna()"
   ]
  },
  {
   "cell_type": "code",
   "execution_count": 18,
   "metadata": {
    "collapsed": false
   },
   "outputs": [],
   "source": [
    "bbl = bbl.drop_duplicates()"
   ]
  },
  {
   "cell_type": "code",
   "execution_count": 19,
   "metadata": {
    "collapsed": false
   },
   "outputs": [],
   "source": [
    "bbl = bbl.drop(['boro', 'block', 'lot'], axis=1)"
   ]
  },
  {
   "cell_type": "code",
   "execution_count": 23,
   "metadata": {
    "collapsed": true
   },
   "outputs": [],
   "source": [
    "bblvios = pd.merge(bbl, violations, on='bbl', how='right')"
   ]
  },
  {
   "cell_type": "code",
   "execution_count": 24,
   "metadata": {
    "collapsed": false
   },
   "outputs": [
    {
     "data": {
      "text/html": [
       "<div>\n",
       "<table border=\"1\" class=\"dataframe\">\n",
       "  <thead>\n",
       "    <tr style=\"text-align: right;\">\n",
       "      <th></th>\n",
       "      <th>zipcode</th>\n",
       "      <th>bbl</th>\n",
       "      <th>ISN_DOB_BIS_VIOL</th>\n",
       "      <th>BORO</th>\n",
       "      <th>BIN</th>\n",
       "      <th>BLOCK</th>\n",
       "      <th>LOT</th>\n",
       "      <th>ISSUE_DATE</th>\n",
       "      <th>VIOLATION_TYPE_CODE</th>\n",
       "      <th>VIOLATION_NUMBER</th>\n",
       "      <th>HOUSE_NUMBER</th>\n",
       "      <th>STREET</th>\n",
       "      <th>DISPOSITION_DATE</th>\n",
       "      <th>DISPOSITION_COMMENTS</th>\n",
       "      <th>DEVICE_NUMBER</th>\n",
       "      <th>DESCRIPTION</th>\n",
       "      <th>ECB_NUMBER</th>\n",
       "      <th>NUMBER</th>\n",
       "      <th>VIOLATION_CATEGORY</th>\n",
       "      <th>VIOLATION_TYPE</th>\n",
       "    </tr>\n",
       "  </thead>\n",
       "  <tbody>\n",
       "    <tr>\n",
       "      <th>0</th>\n",
       "      <td>10004.0</td>\n",
       "      <td>10000100010</td>\n",
       "      <td>2095088</td>\n",
       "      <td>1</td>\n",
       "      <td>1086340.0</td>\n",
       "      <td>00001</td>\n",
       "      <td>00010</td>\n",
       "      <td>20161114</td>\n",
       "      <td>ACC1</td>\n",
       "      <td>10920</td>\n",
       "      <td>550</td>\n",
       "      <td>SHORT AVENUE</td>\n",
       "      <td>NaN</td>\n",
       "      <td>NaN</td>\n",
       "      <td>1P45807</td>\n",
       "      <td>VIO ISSUED TO ELEVATOR - FAIL TO CORRECT DEFEC...</td>\n",
       "      <td>NaN</td>\n",
       "      <td>V111416ACC110920</td>\n",
       "      <td>V-DOB VIOLATION - ACTIVE</td>\n",
       "      <td>ACC1-(OTHER BLDGS TYPES) - ELEVATOR AFFIRMATIO...</td>\n",
       "    </tr>\n",
       "    <tr>\n",
       "      <th>1</th>\n",
       "      <td>10004.0</td>\n",
       "      <td>10000100010</td>\n",
       "      <td>2095087</td>\n",
       "      <td>1</td>\n",
       "      <td>1086340.0</td>\n",
       "      <td>00001</td>\n",
       "      <td>00010</td>\n",
       "      <td>20161114</td>\n",
       "      <td>ACC1</td>\n",
       "      <td>10919</td>\n",
       "      <td>550</td>\n",
       "      <td>SHORT AVENUE</td>\n",
       "      <td>NaN</td>\n",
       "      <td>NaN</td>\n",
       "      <td>1P45806</td>\n",
       "      <td>VIO ISSUED TO ELEVATOR - FAIL TO CORRECT DEFEC...</td>\n",
       "      <td>NaN</td>\n",
       "      <td>V111416ACC110919</td>\n",
       "      <td>V-DOB VIOLATION - ACTIVE</td>\n",
       "      <td>ACC1-(OTHER BLDGS TYPES) - ELEVATOR AFFIRMATIO...</td>\n",
       "    </tr>\n",
       "    <tr>\n",
       "      <th>2</th>\n",
       "      <td>10004.0</td>\n",
       "      <td>10000100010</td>\n",
       "      <td>1906285</td>\n",
       "      <td>1</td>\n",
       "      <td>1086417.0</td>\n",
       "      <td>00001</td>\n",
       "      <td>00010</td>\n",
       "      <td>20141126</td>\n",
       "      <td>C</td>\n",
       "      <td>FEU101TDL01</td>\n",
       "      <td>109</td>\n",
       "      <td>ANDES ROAD</td>\n",
       "      <td>20150106</td>\n",
       "      <td>OKAY TO DISMISS AS PER TIMOTHY LYNCH    _____9TLX</td>\n",
       "      <td>NaN</td>\n",
       "      <td>FAILURE TO MAINTAIN.THERE ARE TWO ROOF TRUSSES...</td>\n",
       "      <td>NaN</td>\n",
       "      <td>V*112614CFEU101TDL01</td>\n",
       "      <td>V*-DOB VIOLATION - DISMISSED</td>\n",
       "      <td>C-CONSTRUCTION</td>\n",
       "    </tr>\n",
       "    <tr>\n",
       "      <th>3</th>\n",
       "      <td>10004.0</td>\n",
       "      <td>10000100010</td>\n",
       "      <td>1930051</td>\n",
       "      <td>1</td>\n",
       "      <td>1086419.0</td>\n",
       "      <td>00001</td>\n",
       "      <td>00010</td>\n",
       "      <td>20150303</td>\n",
       "      <td>LBLVIO</td>\n",
       "      <td>00750</td>\n",
       "      <td>140</td>\n",
       "      <td>CARDER ROAD</td>\n",
       "      <td>NaN</td>\n",
       "      <td>NaN</td>\n",
       "      <td>00171504</td>\n",
       "      <td>VIOLATION ISSUED FOR FAILURE TO FILE ANNUAL BO...</td>\n",
       "      <td>NaN</td>\n",
       "      <td>V030315LBLVIO00750</td>\n",
       "      <td>V-DOB VIOLATION - ACTIVE</td>\n",
       "      <td>LBLVIO-LOW PRESSURE BOILER</td>\n",
       "    </tr>\n",
       "    <tr>\n",
       "      <th>4</th>\n",
       "      <td>10004.0</td>\n",
       "      <td>10000100010</td>\n",
       "      <td>1529598</td>\n",
       "      <td>1</td>\n",
       "      <td>1086340.0</td>\n",
       "      <td>00001</td>\n",
       "      <td>00010</td>\n",
       "      <td>20100930</td>\n",
       "      <td>E</td>\n",
       "      <td>9028/359163</td>\n",
       "      <td>550</td>\n",
       "      <td>SHORT AVENUE</td>\n",
       "      <td>2.01011e+07</td>\n",
       "      <td>CIAAFA CAT 1 PERFORMED ON 102910 DOE</td>\n",
       "      <td>01P45807</td>\n",
       "      <td>NaN</td>\n",
       "      <td>NaN</td>\n",
       "      <td>V*093010E9028/359163</td>\n",
       "      <td>V*-DOB VIOLATION - Resolved</td>\n",
       "      <td>E-ELEVATOR</td>\n",
       "    </tr>\n",
       "  </tbody>\n",
       "</table>\n",
       "</div>"
      ],
      "text/plain": [
       "   zipcode          bbl  ISN_DOB_BIS_VIOL BORO        BIN  BLOCK    LOT  \\\n",
       "0  10004.0  10000100010           2095088    1  1086340.0  00001  00010   \n",
       "1  10004.0  10000100010           2095087    1  1086340.0  00001  00010   \n",
       "2  10004.0  10000100010           1906285    1  1086417.0  00001  00010   \n",
       "3  10004.0  10000100010           1930051    1  1086419.0  00001  00010   \n",
       "4  10004.0  10000100010           1529598    1  1086340.0  00001  00010   \n",
       "\n",
       "  ISSUE_DATE VIOLATION_TYPE_CODE VIOLATION_NUMBER HOUSE_NUMBER        STREET  \\\n",
       "0   20161114                ACC1            10920          550  SHORT AVENUE   \n",
       "1   20161114                ACC1            10919          550  SHORT AVENUE   \n",
       "2   20141126                   C      FEU101TDL01          109    ANDES ROAD   \n",
       "3   20150303              LBLVIO            00750          140   CARDER ROAD   \n",
       "4   20100930                   E      9028/359163          550  SHORT AVENUE   \n",
       "\n",
       "  DISPOSITION_DATE                               DISPOSITION_COMMENTS  \\\n",
       "0              NaN                                                NaN   \n",
       "1              NaN                                                NaN   \n",
       "2         20150106  OKAY TO DISMISS AS PER TIMOTHY LYNCH    _____9TLX   \n",
       "3              NaN                                                NaN   \n",
       "4      2.01011e+07               CIAAFA CAT 1 PERFORMED ON 102910 DOE   \n",
       "\n",
       "  DEVICE_NUMBER                                        DESCRIPTION ECB_NUMBER  \\\n",
       "0       1P45807  VIO ISSUED TO ELEVATOR - FAIL TO CORRECT DEFEC...        NaN   \n",
       "1       1P45806  VIO ISSUED TO ELEVATOR - FAIL TO CORRECT DEFEC...        NaN   \n",
       "2           NaN  FAILURE TO MAINTAIN.THERE ARE TWO ROOF TRUSSES...        NaN   \n",
       "3      00171504  VIOLATION ISSUED FOR FAILURE TO FILE ANNUAL BO...        NaN   \n",
       "4      01P45807                                                NaN        NaN   \n",
       "\n",
       "                 NUMBER            VIOLATION_CATEGORY  \\\n",
       "0      V111416ACC110920      V-DOB VIOLATION - ACTIVE   \n",
       "1      V111416ACC110919      V-DOB VIOLATION - ACTIVE   \n",
       "2  V*112614CFEU101TDL01  V*-DOB VIOLATION - DISMISSED   \n",
       "3    V030315LBLVIO00750      V-DOB VIOLATION - ACTIVE   \n",
       "4  V*093010E9028/359163   V*-DOB VIOLATION - Resolved   \n",
       "\n",
       "                                      VIOLATION_TYPE  \n",
       "0  ACC1-(OTHER BLDGS TYPES) - ELEVATOR AFFIRMATIO...  \n",
       "1  ACC1-(OTHER BLDGS TYPES) - ELEVATOR AFFIRMATIO...  \n",
       "2                                     C-CONSTRUCTION  \n",
       "3                         LBLVIO-LOW PRESSURE BOILER  \n",
       "4                                         E-ELEVATOR  "
      ]
     },
     "execution_count": 24,
     "metadata": {},
     "output_type": "execute_result"
    }
   ],
   "source": [
    "bblvios.head()"
   ]
  },
  {
   "cell_type": "code",
   "execution_count": 25,
   "metadata": {
    "collapsed": false
   },
   "outputs": [
    {
     "name": "stdout",
     "output_type": "stream",
     "text": [
      "1878907\n"
     ]
    }
   ],
   "source": [
    "print(len(bblvios))"
   ]
  },
  {
   "cell_type": "code",
   "execution_count": 26,
   "metadata": {
    "collapsed": false
   },
   "outputs": [
    {
     "data": {
      "text/plain": [
       "zipcode                  615326\n",
       "bbl                           0\n",
       "ISN_DOB_BIS_VIOL              0\n",
       "BORO                          0\n",
       "BIN                        3382\n",
       "BLOCK                     12774\n",
       "LOT                       12052\n",
       "ISSUE_DATE                    1\n",
       "VIOLATION_TYPE_CODE           0\n",
       "VIOLATION_NUMBER              9\n",
       "HOUSE_NUMBER                721\n",
       "STREET                    17588\n",
       "DISPOSITION_DATE         541302\n",
       "DISPOSITION_COMMENTS     581529\n",
       "DEVICE_NUMBER            430216\n",
       "DESCRIPTION             1451684\n",
       "ECB_NUMBER              1767271\n",
       "NUMBER                       46\n",
       "VIOLATION_CATEGORY         3097\n",
       "VIOLATION_TYPE             5283\n",
       "dtype: int64"
      ]
     },
     "execution_count": 26,
     "metadata": {},
     "output_type": "execute_result"
    }
   ],
   "source": [
    "bblvios.isnull().sum()"
   ]
  },
  {
   "cell_type": "code",
   "execution_count": 31,
   "metadata": {
    "collapsed": false
   },
   "outputs": [
    {
     "data": {
      "text/plain": [
       "(array([1263581, 1263582, 1263583, ..., 1878904, 1878905, 1878906]),)"
      ]
     },
     "execution_count": 31,
     "metadata": {},
     "output_type": "execute_result"
    }
   ],
   "source": [
    "np.where(bblvios['zipcode'].isnull())"
   ]
  },
  {
   "cell_type": "code",
   "execution_count": 35,
   "metadata": {
    "collapsed": false
   },
   "outputs": [
    {
     "data": {
      "text/plain": [
       "zipcode                                                               NaN\n",
       "bbl                                                           40186307502\n",
       "ISN_DOB_BIS_VIOL                                                  1853880\n",
       "BORO                                                                    4\n",
       "BIN                                                           4.31454e+06\n",
       "BLOCK                                                               01863\n",
       "LOT                                                                 07502\n",
       "ISSUE_DATE                                                       20140515\n",
       "VIOLATION_TYPE_CODE                                                LBLVIO\n",
       "VIOLATION_NUMBER                                                    19551\n",
       "HOUSE_NUMBER                                                        48-21\n",
       "STREET                                                          92 STREET\n",
       "DISPOSITION_DATE                                              2.01605e+07\n",
       "DISPOSITION_COMMENTS                      CIAKMH DISMISSED, INV #61675679\n",
       "DEVICE_NUMBER                                                    00067775\n",
       "DESCRIPTION             VIOLATION ISSUED FOR FAILURE TO FILE ANNUAL BO...\n",
       "ECB_NUMBER                                                            NaN\n",
       "NUMBER                                                V*051514LBLVIO19551\n",
       "VIOLATION_CATEGORY                           V*-DOB VIOLATION - DISMISSED\n",
       "VIOLATION_TYPE                                 LBLVIO-LOW PRESSURE BOILER\n",
       "Name: 1263581, dtype: object"
      ]
     },
     "execution_count": 35,
     "metadata": {},
     "output_type": "execute_result"
    }
   ],
   "source": [
    "bblvios.ix[1263581]"
   ]
  },
  {
   "cell_type": "code",
   "execution_count": null,
   "metadata": {
    "collapsed": true
   },
   "outputs": [],
   "source": [
    "bblvios.to_csv('bblvios.csv')"
   ]
  }
 ],
 "metadata": {
  "kernelspec": {
   "display_name": "Python 2",
   "language": "python",
   "name": "python2"
  },
  "language_info": {
   "codemirror_mode": {
    "name": "ipython",
    "version": 2
   },
   "file_extension": ".py",
   "mimetype": "text/x-python",
   "name": "python",
   "nbconvert_exporter": "python",
   "pygments_lexer": "ipython2",
   "version": "2.7.12"
  }
 },
 "nbformat": 4,
 "nbformat_minor": 1
}
