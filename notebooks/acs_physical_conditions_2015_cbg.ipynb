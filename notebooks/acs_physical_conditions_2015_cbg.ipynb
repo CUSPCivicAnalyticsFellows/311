{
 "cells": [
  {
   "cell_type": "code",
   "execution_count": 71,
   "metadata": {
    "collapsed": true
   },
   "outputs": [],
   "source": [
    "import pandas as pd\n",
    "import zipfile"
   ]
  },
  {
   "cell_type": "code",
   "execution_count": 72,
   "metadata": {
    "collapsed": true
   },
   "outputs": [],
   "source": [
    "z = zipfile.ZipFile('../data_initial/ACS_15_5YR_B25009.zip')\n",
    "z.extractall('../data_initial/')"
   ]
  },
  {
   "cell_type": "code",
   "execution_count": 73,
   "metadata": {
    "collapsed": false
   },
   "outputs": [
    {
     "data": {
      "text/html": [
       "<div>\n",
       "<table border=\"1\" class=\"dataframe\">\n",
       "  <thead>\n",
       "    <tr style=\"text-align: right;\">\n",
       "      <th></th>\n",
       "      <th>Id</th>\n",
       "      <th>Id2</th>\n",
       "      <th>Geography</th>\n",
       "      <th>Estimate; Total:</th>\n",
       "      <th>Margin of Error; Total:</th>\n",
       "      <th>Estimate; Owner occupied:</th>\n",
       "      <th>Margin of Error; Owner occupied:</th>\n",
       "      <th>Estimate; Owner occupied: - 1-person household</th>\n",
       "      <th>Margin of Error; Owner occupied: - 1-person household</th>\n",
       "      <th>Estimate; Owner occupied: - 2-person household</th>\n",
       "      <th>...</th>\n",
       "      <th>Estimate; Renter occupied: - 3-person household</th>\n",
       "      <th>Margin of Error; Renter occupied: - 3-person household</th>\n",
       "      <th>Estimate; Renter occupied: - 4-person household</th>\n",
       "      <th>Margin of Error; Renter occupied: - 4-person household</th>\n",
       "      <th>Estimate; Renter occupied: - 5-person household</th>\n",
       "      <th>Margin of Error; Renter occupied: - 5-person household</th>\n",
       "      <th>Estimate; Renter occupied: - 6-person household</th>\n",
       "      <th>Margin of Error; Renter occupied: - 6-person household</th>\n",
       "      <th>Estimate; Renter occupied: - 7-or-more person household</th>\n",
       "      <th>Margin of Error; Renter occupied: - 7-or-more person household</th>\n",
       "    </tr>\n",
       "  </thead>\n",
       "  <tbody>\n",
       "    <tr>\n",
       "      <th>0</th>\n",
       "      <td>1500000US360050001000</td>\n",
       "      <td>360050001000</td>\n",
       "      <td>Block Group 0, Census Tract 1, Bronx County, N...</td>\n",
       "      <td>0</td>\n",
       "      <td>11</td>\n",
       "      <td>0</td>\n",
       "      <td>11</td>\n",
       "      <td>0</td>\n",
       "      <td>11</td>\n",
       "      <td>0</td>\n",
       "      <td>...</td>\n",
       "      <td>0</td>\n",
       "      <td>11</td>\n",
       "      <td>0</td>\n",
       "      <td>11</td>\n",
       "      <td>0</td>\n",
       "      <td>11</td>\n",
       "      <td>0</td>\n",
       "      <td>11</td>\n",
       "      <td>0</td>\n",
       "      <td>11</td>\n",
       "    </tr>\n",
       "    <tr>\n",
       "      <th>1</th>\n",
       "      <td>1500000US360050001001</td>\n",
       "      <td>360050001001</td>\n",
       "      <td>Block Group 1, Census Tract 1, Bronx County, N...</td>\n",
       "      <td>0</td>\n",
       "      <td>16</td>\n",
       "      <td>0</td>\n",
       "      <td>16</td>\n",
       "      <td>0</td>\n",
       "      <td>16</td>\n",
       "      <td>0</td>\n",
       "      <td>...</td>\n",
       "      <td>0</td>\n",
       "      <td>16</td>\n",
       "      <td>0</td>\n",
       "      <td>16</td>\n",
       "      <td>0</td>\n",
       "      <td>16</td>\n",
       "      <td>0</td>\n",
       "      <td>16</td>\n",
       "      <td>0</td>\n",
       "      <td>16</td>\n",
       "    </tr>\n",
       "    <tr>\n",
       "      <th>2</th>\n",
       "      <td>1500000US360050002000</td>\n",
       "      <td>360050002000</td>\n",
       "      <td>Block Group 0, Census Tract 2, Bronx County, N...</td>\n",
       "      <td>0</td>\n",
       "      <td>11</td>\n",
       "      <td>0</td>\n",
       "      <td>11</td>\n",
       "      <td>0</td>\n",
       "      <td>11</td>\n",
       "      <td>0</td>\n",
       "      <td>...</td>\n",
       "      <td>0</td>\n",
       "      <td>11</td>\n",
       "      <td>0</td>\n",
       "      <td>11</td>\n",
       "      <td>0</td>\n",
       "      <td>11</td>\n",
       "      <td>0</td>\n",
       "      <td>11</td>\n",
       "      <td>0</td>\n",
       "      <td>11</td>\n",
       "    </tr>\n",
       "    <tr>\n",
       "      <th>3</th>\n",
       "      <td>1500000US360050002001</td>\n",
       "      <td>360050002001</td>\n",
       "      <td>Block Group 1, Census Tract 2, Bronx County, N...</td>\n",
       "      <td>483</td>\n",
       "      <td>83</td>\n",
       "      <td>252</td>\n",
       "      <td>86</td>\n",
       "      <td>49</td>\n",
       "      <td>36</td>\n",
       "      <td>47</td>\n",
       "      <td>...</td>\n",
       "      <td>36</td>\n",
       "      <td>47</td>\n",
       "      <td>30</td>\n",
       "      <td>33</td>\n",
       "      <td>57</td>\n",
       "      <td>60</td>\n",
       "      <td>35</td>\n",
       "      <td>41</td>\n",
       "      <td>19</td>\n",
       "      <td>30</td>\n",
       "    </tr>\n",
       "    <tr>\n",
       "      <th>4</th>\n",
       "      <td>1500000US360050002002</td>\n",
       "      <td>360050002002</td>\n",
       "      <td>Block Group 2, Census Tract 2, Bronx County, N...</td>\n",
       "      <td>556</td>\n",
       "      <td>105</td>\n",
       "      <td>247</td>\n",
       "      <td>78</td>\n",
       "      <td>10</td>\n",
       "      <td>16</td>\n",
       "      <td>20</td>\n",
       "      <td>...</td>\n",
       "      <td>50</td>\n",
       "      <td>49</td>\n",
       "      <td>52</td>\n",
       "      <td>42</td>\n",
       "      <td>8</td>\n",
       "      <td>13</td>\n",
       "      <td>0</td>\n",
       "      <td>11</td>\n",
       "      <td>28</td>\n",
       "      <td>26</td>\n",
       "    </tr>\n",
       "  </tbody>\n",
       "</table>\n",
       "<p>5 rows × 37 columns</p>\n",
       "</div>"
      ],
      "text/plain": [
       "                      Id           Id2  \\\n",
       "0  1500000US360050001000  360050001000   \n",
       "1  1500000US360050001001  360050001001   \n",
       "2  1500000US360050002000  360050002000   \n",
       "3  1500000US360050002001  360050002001   \n",
       "4  1500000US360050002002  360050002002   \n",
       "\n",
       "                                           Geography  Estimate; Total:  \\\n",
       "0  Block Group 0, Census Tract 1, Bronx County, N...                 0   \n",
       "1  Block Group 1, Census Tract 1, Bronx County, N...                 0   \n",
       "2  Block Group 0, Census Tract 2, Bronx County, N...                 0   \n",
       "3  Block Group 1, Census Tract 2, Bronx County, N...               483   \n",
       "4  Block Group 2, Census Tract 2, Bronx County, N...               556   \n",
       "\n",
       "   Margin of Error; Total:  Estimate; Owner occupied:  \\\n",
       "0                       11                          0   \n",
       "1                       16                          0   \n",
       "2                       11                          0   \n",
       "3                       83                        252   \n",
       "4                      105                        247   \n",
       "\n",
       "   Margin of Error; Owner occupied:  \\\n",
       "0                                11   \n",
       "1                                16   \n",
       "2                                11   \n",
       "3                                86   \n",
       "4                                78   \n",
       "\n",
       "   Estimate; Owner occupied: - 1-person household  \\\n",
       "0                                               0   \n",
       "1                                               0   \n",
       "2                                               0   \n",
       "3                                              49   \n",
       "4                                              10   \n",
       "\n",
       "   Margin of Error; Owner occupied: - 1-person household  \\\n",
       "0                                                 11       \n",
       "1                                                 16       \n",
       "2                                                 11       \n",
       "3                                                 36       \n",
       "4                                                 16       \n",
       "\n",
       "   Estimate; Owner occupied: - 2-person household  \\\n",
       "0                                               0   \n",
       "1                                               0   \n",
       "2                                               0   \n",
       "3                                              47   \n",
       "4                                              20   \n",
       "\n",
       "                                ...                                \\\n",
       "0                               ...                                 \n",
       "1                               ...                                 \n",
       "2                               ...                                 \n",
       "3                               ...                                 \n",
       "4                               ...                                 \n",
       "\n",
       "   Estimate; Renter occupied: - 3-person household  \\\n",
       "0                                                0   \n",
       "1                                                0   \n",
       "2                                                0   \n",
       "3                                               36   \n",
       "4                                               50   \n",
       "\n",
       "   Margin of Error; Renter occupied: - 3-person household  \\\n",
       "0                                                 11        \n",
       "1                                                 16        \n",
       "2                                                 11        \n",
       "3                                                 47        \n",
       "4                                                 49        \n",
       "\n",
       "   Estimate; Renter occupied: - 4-person household  \\\n",
       "0                                                0   \n",
       "1                                                0   \n",
       "2                                                0   \n",
       "3                                               30   \n",
       "4                                               52   \n",
       "\n",
       "   Margin of Error; Renter occupied: - 4-person household  \\\n",
       "0                                                 11        \n",
       "1                                                 16        \n",
       "2                                                 11        \n",
       "3                                                 33        \n",
       "4                                                 42        \n",
       "\n",
       "   Estimate; Renter occupied: - 5-person household  \\\n",
       "0                                                0   \n",
       "1                                                0   \n",
       "2                                                0   \n",
       "3                                               57   \n",
       "4                                                8   \n",
       "\n",
       "   Margin of Error; Renter occupied: - 5-person household  \\\n",
       "0                                                 11        \n",
       "1                                                 16        \n",
       "2                                                 11        \n",
       "3                                                 60        \n",
       "4                                                 13        \n",
       "\n",
       "   Estimate; Renter occupied: - 6-person household  \\\n",
       "0                                                0   \n",
       "1                                                0   \n",
       "2                                                0   \n",
       "3                                               35   \n",
       "4                                                0   \n",
       "\n",
       "   Margin of Error; Renter occupied: - 6-person household  \\\n",
       "0                                                 11        \n",
       "1                                                 16        \n",
       "2                                                 11        \n",
       "3                                                 41        \n",
       "4                                                 11        \n",
       "\n",
       "   Estimate; Renter occupied: - 7-or-more person household  \\\n",
       "0                                                  0         \n",
       "1                                                  0         \n",
       "2                                                  0         \n",
       "3                                                 19         \n",
       "4                                                 28         \n",
       "\n",
       "   Margin of Error; Renter occupied: - 7-or-more person household  \n",
       "0                                                 11               \n",
       "1                                                 16               \n",
       "2                                                 11               \n",
       "3                                                 30               \n",
       "4                                                 26               \n",
       "\n",
       "[5 rows x 37 columns]"
      ]
     },
     "execution_count": 73,
     "metadata": {},
     "output_type": "execute_result"
    }
   ],
   "source": [
    "homeownership = pd.read_csv('../data_initial/ACS_15_5YR_B25009_with_ann.csv', header=1)\n",
    "homeownership.head()"
   ]
  },
  {
   "cell_type": "code",
   "execution_count": 74,
   "metadata": {
    "collapsed": false
   },
   "outputs": [
    {
     "data": {
      "text/html": [
       "<div>\n",
       "<table border=\"1\" class=\"dataframe\">\n",
       "  <thead>\n",
       "    <tr style=\"text-align: right;\">\n",
       "      <th></th>\n",
       "      <th>Id2</th>\n",
       "      <th>ownership_r</th>\n",
       "    </tr>\n",
       "  </thead>\n",
       "  <tbody>\n",
       "    <tr>\n",
       "      <th>0</th>\n",
       "      <td>360050001000</td>\n",
       "      <td>NaN</td>\n",
       "    </tr>\n",
       "    <tr>\n",
       "      <th>1</th>\n",
       "      <td>360050001001</td>\n",
       "      <td>NaN</td>\n",
       "    </tr>\n",
       "    <tr>\n",
       "      <th>2</th>\n",
       "      <td>360050002000</td>\n",
       "      <td>NaN</td>\n",
       "    </tr>\n",
       "    <tr>\n",
       "      <th>3</th>\n",
       "      <td>360050002001</td>\n",
       "      <td>0.521739</td>\n",
       "    </tr>\n",
       "    <tr>\n",
       "      <th>4</th>\n",
       "      <td>360050002002</td>\n",
       "      <td>0.444245</td>\n",
       "    </tr>\n",
       "  </tbody>\n",
       "</table>\n",
       "</div>"
      ],
      "text/plain": [
       "            Id2  ownership_r\n",
       "0  360050001000          NaN\n",
       "1  360050001001          NaN\n",
       "2  360050002000          NaN\n",
       "3  360050002001     0.521739\n",
       "4  360050002002     0.444245"
      ]
     },
     "execution_count": 74,
     "metadata": {},
     "output_type": "execute_result"
    }
   ],
   "source": [
    "homeownership = homeownership[['Id2', 'Geography', 'Estimate; Total:', 'Estimate; Owner occupied:']]\n",
    "homeownership['ownership_r'] = homeownership['Estimate; Owner occupied:']/homeownership['Estimate; Total:']\n",
    "homeownership = homeownership[['Id2', 'ownership_r']]\n",
    "homeownership.head()"
   ]
  },
  {
   "cell_type": "markdown",
   "metadata": {},
   "source": [
    "### Import building age\n",
    "Table B25034"
   ]
  },
  {
   "cell_type": "code",
   "execution_count": 75,
   "metadata": {
    "collapsed": true
   },
   "outputs": [],
   "source": [
    "z = zipfile.ZipFile('../data_initial/ACS_15_5YR_B25034.zip')\n",
    "z.extractall('../data_initial/')"
   ]
  },
  {
   "cell_type": "code",
   "execution_count": 76,
   "metadata": {
    "collapsed": false
   },
   "outputs": [
    {
     "data": {
      "text/plain": [
       "Index([u'Id', u'Id2', u'Geography', u'Estimate; Total:',\n",
       "       u'Margin of Error; Total:', u'Estimate; Total: - Built 2014 or later',\n",
       "       u'Margin of Error; Total: - Built 2014 or later',\n",
       "       u'Estimate; Total: - Built 2010 to 2013',\n",
       "       u'Margin of Error; Total: - Built 2010 to 2013',\n",
       "       u'Estimate; Total: - Built 2000 to 2009',\n",
       "       u'Margin of Error; Total: - Built 2000 to 2009',\n",
       "       u'Estimate; Total: - Built 1990 to 1999',\n",
       "       u'Margin of Error; Total: - Built 1990 to 1999',\n",
       "       u'Estimate; Total: - Built 1980 to 1989',\n",
       "       u'Margin of Error; Total: - Built 1980 to 1989',\n",
       "       u'Estimate; Total: - Built 1970 to 1979',\n",
       "       u'Margin of Error; Total: - Built 1970 to 1979',\n",
       "       u'Estimate; Total: - Built 1960 to 1969',\n",
       "       u'Margin of Error; Total: - Built 1960 to 1969',\n",
       "       u'Estimate; Total: - Built 1950 to 1959',\n",
       "       u'Margin of Error; Total: - Built 1950 to 1959',\n",
       "       u'Estimate; Total: - Built 1940 to 1949',\n",
       "       u'Margin of Error; Total: - Built 1940 to 1949',\n",
       "       u'Estimate; Total: - Built 1939 or earlier',\n",
       "       u'Margin of Error; Total: - Built 1939 or earlier'],\n",
       "      dtype='object')"
      ]
     },
     "execution_count": 76,
     "metadata": {},
     "output_type": "execute_result"
    }
   ],
   "source": [
    "bldng_age = pd.read_csv('../data_initial/ACS_15_5YR_B25034_with_ann.csv', header=1)\n",
    "bldng_age.columns"
   ]
  },
  {
   "cell_type": "code",
   "execution_count": 77,
   "metadata": {
    "collapsed": true
   },
   "outputs": [],
   "source": [
    "bldng_age = bldng_age = bldng_age = bldng_age[['Id2', 'Geography', 'Estimate; Total:', 'Estimate; Total: - Built 2014 or later', 'Estimate; Total: - Built 2010 to 2013', 'Estimate; Total: - Built 2000 to 2009', 'Estimate; Total: - Built 1990 to 1999', 'Estimate; Total: - Built 1980 to 1989', 'Estimate; Total: - Built 1970 to 1979', 'Estimate; Total: - Built 1960 to 1969', 'Estimate; Total: - Built 1950 to 1959', 'Estimate; Total: - Built 1940 to 1949', 'Estimate; Total: - Built 1939 or earlier']]"
   ]
  },
  {
   "cell_type": "code",
   "execution_count": 78,
   "metadata": {
    "collapsed": true
   },
   "outputs": [],
   "source": [
    "#take weighted average\n",
    "bldng_age['avg_bldng_age'] = 2015 - ((bldng_age['Estimate; Total: - Built 2014 or later']*2014 + bldng_age['Estimate; Total: - Built 2010 to 2013']*2012 + bldng_age['Estimate; Total: - Built 2000 to 2009']*2005 + bldng_age['Estimate; Total: - Built 1990 to 1999']*1995 + bldng_age['Estimate; Total: - Built 1980 to 1989']*1985 + bldng_age['Estimate; Total: - Built 1970 to 1979']*1975 + bldng_age['Estimate; Total: - Built 1960 to 1969']*1965 + bldng_age['Estimate; Total: - Built 1950 to 1959']*1955 + bldng_age['Estimate; Total: - Built 1940 to 1949']*1945 + bldng_age['Estimate; Total: - Built 1939 or earlier']*1939) / bldng_age['Estimate; Total:'])\n",
    "bldng_age = bldng_age[['Id2', 'avg_bldng_age']]"
   ]
  },
  {
   "cell_type": "code",
   "execution_count": 79,
   "metadata": {
    "collapsed": false
   },
   "outputs": [
    {
     "data": {
      "text/html": [
       "<div>\n",
       "<table border=\"1\" class=\"dataframe\">\n",
       "  <thead>\n",
       "    <tr style=\"text-align: right;\">\n",
       "      <th></th>\n",
       "      <th>Id2</th>\n",
       "      <th>avg_bldng_age</th>\n",
       "    </tr>\n",
       "  </thead>\n",
       "  <tbody>\n",
       "    <tr>\n",
       "      <th>0</th>\n",
       "      <td>360050001000</td>\n",
       "      <td>NaN</td>\n",
       "    </tr>\n",
       "    <tr>\n",
       "      <th>1</th>\n",
       "      <td>360050001001</td>\n",
       "      <td>NaN</td>\n",
       "    </tr>\n",
       "    <tr>\n",
       "      <th>2</th>\n",
       "      <td>360050002000</td>\n",
       "      <td>NaN</td>\n",
       "    </tr>\n",
       "    <tr>\n",
       "      <th>3</th>\n",
       "      <td>360050002001</td>\n",
       "      <td>60.368530</td>\n",
       "    </tr>\n",
       "    <tr>\n",
       "      <th>4</th>\n",
       "      <td>360050002002</td>\n",
       "      <td>55.491086</td>\n",
       "    </tr>\n",
       "    <tr>\n",
       "      <th>5</th>\n",
       "      <td>360050002003</td>\n",
       "      <td>34.688776</td>\n",
       "    </tr>\n",
       "    <tr>\n",
       "      <th>6</th>\n",
       "      <td>360050004000</td>\n",
       "      <td>NaN</td>\n",
       "    </tr>\n",
       "    <tr>\n",
       "      <th>7</th>\n",
       "      <td>360050004001</td>\n",
       "      <td>48.718121</td>\n",
       "    </tr>\n",
       "    <tr>\n",
       "      <th>8</th>\n",
       "      <td>360050004002</td>\n",
       "      <td>53.836364</td>\n",
       "    </tr>\n",
       "    <tr>\n",
       "      <th>9</th>\n",
       "      <td>360050004003</td>\n",
       "      <td>25.478381</td>\n",
       "    </tr>\n",
       "  </tbody>\n",
       "</table>\n",
       "</div>"
      ],
      "text/plain": [
       "            Id2  avg_bldng_age\n",
       "0  360050001000            NaN\n",
       "1  360050001001            NaN\n",
       "2  360050002000            NaN\n",
       "3  360050002001      60.368530\n",
       "4  360050002002      55.491086\n",
       "5  360050002003      34.688776\n",
       "6  360050004000            NaN\n",
       "7  360050004001      48.718121\n",
       "8  360050004002      53.836364\n",
       "9  360050004003      25.478381"
      ]
     },
     "execution_count": 79,
     "metadata": {},
     "output_type": "execute_result"
    }
   ],
   "source": [
    "bldng_age.head(10)"
   ]
  },
  {
   "cell_type": "markdown",
   "metadata": {},
   "source": [
    "### Import house heating fuel\n",
    "Table B25040"
   ]
  },
  {
   "cell_type": "code",
   "execution_count": 80,
   "metadata": {
    "collapsed": false
   },
   "outputs": [],
   "source": [
    "z = zipfile.ZipFile('../data_initial/ACS_15_5YR_B25040.zip')\n",
    "z.extractall('../data_initial/')"
   ]
  },
  {
   "cell_type": "code",
   "execution_count": 81,
   "metadata": {
    "collapsed": false
   },
   "outputs": [
    {
     "data": {
      "text/html": [
       "<div>\n",
       "<table border=\"1\" class=\"dataframe\">\n",
       "  <thead>\n",
       "    <tr style=\"text-align: right;\">\n",
       "      <th></th>\n",
       "      <th>Id</th>\n",
       "      <th>Id2</th>\n",
       "      <th>Geography</th>\n",
       "      <th>Estimate; Total:</th>\n",
       "      <th>Margin of Error; Total:</th>\n",
       "      <th>Estimate; Total: - Utility gas</th>\n",
       "      <th>Margin of Error; Total: - Utility gas</th>\n",
       "      <th>Estimate; Total: - Bottled, tank, or LP gas</th>\n",
       "      <th>Margin of Error; Total: - Bottled, tank, or LP gas</th>\n",
       "      <th>Estimate; Total: - Electricity</th>\n",
       "      <th>...</th>\n",
       "      <th>Estimate; Total: - Coal or coke</th>\n",
       "      <th>Margin of Error; Total: - Coal or coke</th>\n",
       "      <th>Estimate; Total: - Wood</th>\n",
       "      <th>Margin of Error; Total: - Wood</th>\n",
       "      <th>Estimate; Total: - Solar energy</th>\n",
       "      <th>Margin of Error; Total: - Solar energy</th>\n",
       "      <th>Estimate; Total: - Other fuel</th>\n",
       "      <th>Margin of Error; Total: - Other fuel</th>\n",
       "      <th>Estimate; Total: - No fuel used</th>\n",
       "      <th>Margin of Error; Total: - No fuel used</th>\n",
       "    </tr>\n",
       "  </thead>\n",
       "  <tbody>\n",
       "    <tr>\n",
       "      <th>0</th>\n",
       "      <td>1500000US360050001000</td>\n",
       "      <td>360050001000</td>\n",
       "      <td>Block Group 0, Census Tract 1, Bronx County, N...</td>\n",
       "      <td>0</td>\n",
       "      <td>11</td>\n",
       "      <td>0</td>\n",
       "      <td>11</td>\n",
       "      <td>0</td>\n",
       "      <td>11</td>\n",
       "      <td>0</td>\n",
       "      <td>...</td>\n",
       "      <td>0</td>\n",
       "      <td>11</td>\n",
       "      <td>0</td>\n",
       "      <td>11</td>\n",
       "      <td>0</td>\n",
       "      <td>11</td>\n",
       "      <td>0</td>\n",
       "      <td>11</td>\n",
       "      <td>0</td>\n",
       "      <td>11</td>\n",
       "    </tr>\n",
       "    <tr>\n",
       "      <th>1</th>\n",
       "      <td>1500000US360050001001</td>\n",
       "      <td>360050001001</td>\n",
       "      <td>Block Group 1, Census Tract 1, Bronx County, N...</td>\n",
       "      <td>0</td>\n",
       "      <td>16</td>\n",
       "      <td>0</td>\n",
       "      <td>16</td>\n",
       "      <td>0</td>\n",
       "      <td>16</td>\n",
       "      <td>0</td>\n",
       "      <td>...</td>\n",
       "      <td>0</td>\n",
       "      <td>16</td>\n",
       "      <td>0</td>\n",
       "      <td>16</td>\n",
       "      <td>0</td>\n",
       "      <td>16</td>\n",
       "      <td>0</td>\n",
       "      <td>16</td>\n",
       "      <td>0</td>\n",
       "      <td>16</td>\n",
       "    </tr>\n",
       "  </tbody>\n",
       "</table>\n",
       "<p>2 rows × 23 columns</p>\n",
       "</div>"
      ],
      "text/plain": [
       "                      Id           Id2  \\\n",
       "0  1500000US360050001000  360050001000   \n",
       "1  1500000US360050001001  360050001001   \n",
       "\n",
       "                                           Geography  Estimate; Total:  \\\n",
       "0  Block Group 0, Census Tract 1, Bronx County, N...                 0   \n",
       "1  Block Group 1, Census Tract 1, Bronx County, N...                 0   \n",
       "\n",
       "   Margin of Error; Total:  Estimate; Total: - Utility gas  \\\n",
       "0                       11                               0   \n",
       "1                       16                               0   \n",
       "\n",
       "   Margin of Error; Total: - Utility gas  \\\n",
       "0                                     11   \n",
       "1                                     16   \n",
       "\n",
       "   Estimate; Total: - Bottled, tank, or LP gas  \\\n",
       "0                                            0   \n",
       "1                                            0   \n",
       "\n",
       "   Margin of Error; Total: - Bottled, tank, or LP gas  \\\n",
       "0                                                 11    \n",
       "1                                                 16    \n",
       "\n",
       "   Estimate; Total: - Electricity                   ...                    \\\n",
       "0                               0                   ...                     \n",
       "1                               0                   ...                     \n",
       "\n",
       "   Estimate; Total: - Coal or coke  Margin of Error; Total: - Coal or coke  \\\n",
       "0                                0                                      11   \n",
       "1                                0                                      16   \n",
       "\n",
       "   Estimate; Total: - Wood  Margin of Error; Total: - Wood  \\\n",
       "0                        0                              11   \n",
       "1                        0                              16   \n",
       "\n",
       "   Estimate; Total: - Solar energy  Margin of Error; Total: - Solar energy  \\\n",
       "0                                0                                      11   \n",
       "1                                0                                      16   \n",
       "\n",
       "   Estimate; Total: - Other fuel  Margin of Error; Total: - Other fuel  \\\n",
       "0                              0                                    11   \n",
       "1                              0                                    16   \n",
       "\n",
       "   Estimate; Total: - No fuel used  Margin of Error; Total: - No fuel used  \n",
       "0                                0                                      11  \n",
       "1                                0                                      16  \n",
       "\n",
       "[2 rows x 23 columns]"
      ]
     },
     "execution_count": 81,
     "metadata": {},
     "output_type": "execute_result"
    }
   ],
   "source": [
    "heat_fuel = pd.read_csv('../data_initial/ACS_15_5YR_B25040_with_ann.csv', header=1)\n",
    "heat_fuel.head(2)"
   ]
  },
  {
   "cell_type": "code",
   "execution_count": 82,
   "metadata": {
    "collapsed": false
   },
   "outputs": [],
   "source": [
    "heat_fuel = heat_fuel[['Id2', 'Geography', 'Estimate; Total:', 'Estimate; Total: - Utility gas']]\n",
    "heat_fuel['gas_utility_r'] = heat_fuel['Estimate; Total: - Utility gas'] / heat_fuel['Estimate; Total:']\n",
    "heat_fuel = heat_fuel[['Id2' ,'Geography', 'gas_utility_r']]"
   ]
  },
  {
   "cell_type": "code",
   "execution_count": 83,
   "metadata": {
    "collapsed": false
   },
   "outputs": [
    {
     "data": {
      "text/html": [
       "<div>\n",
       "<table border=\"1\" class=\"dataframe\">\n",
       "  <thead>\n",
       "    <tr style=\"text-align: right;\">\n",
       "      <th></th>\n",
       "      <th>Id2</th>\n",
       "      <th>Geography</th>\n",
       "      <th>gas_utility_r</th>\n",
       "    </tr>\n",
       "  </thead>\n",
       "  <tbody>\n",
       "    <tr>\n",
       "      <th>0</th>\n",
       "      <td>360050001000</td>\n",
       "      <td>Block Group 0, Census Tract 1, Bronx County, N...</td>\n",
       "      <td>NaN</td>\n",
       "    </tr>\n",
       "    <tr>\n",
       "      <th>1</th>\n",
       "      <td>360050001001</td>\n",
       "      <td>Block Group 1, Census Tract 1, Bronx County, N...</td>\n",
       "      <td>NaN</td>\n",
       "    </tr>\n",
       "    <tr>\n",
       "      <th>2</th>\n",
       "      <td>360050002000</td>\n",
       "      <td>Block Group 0, Census Tract 2, Bronx County, N...</td>\n",
       "      <td>NaN</td>\n",
       "    </tr>\n",
       "    <tr>\n",
       "      <th>3</th>\n",
       "      <td>360050002001</td>\n",
       "      <td>Block Group 1, Census Tract 2, Bronx County, N...</td>\n",
       "      <td>0.917184</td>\n",
       "    </tr>\n",
       "    <tr>\n",
       "      <th>4</th>\n",
       "      <td>360050002002</td>\n",
       "      <td>Block Group 2, Census Tract 2, Bronx County, N...</td>\n",
       "      <td>0.598921</td>\n",
       "    </tr>\n",
       "  </tbody>\n",
       "</table>\n",
       "</div>"
      ],
      "text/plain": [
       "            Id2                                          Geography  \\\n",
       "0  360050001000  Block Group 0, Census Tract 1, Bronx County, N...   \n",
       "1  360050001001  Block Group 1, Census Tract 1, Bronx County, N...   \n",
       "2  360050002000  Block Group 0, Census Tract 2, Bronx County, N...   \n",
       "3  360050002001  Block Group 1, Census Tract 2, Bronx County, N...   \n",
       "4  360050002002  Block Group 2, Census Tract 2, Bronx County, N...   \n",
       "\n",
       "   gas_utility_r  \n",
       "0            NaN  \n",
       "1            NaN  \n",
       "2            NaN  \n",
       "3       0.917184  \n",
       "4       0.598921  "
      ]
     },
     "execution_count": 83,
     "metadata": {},
     "output_type": "execute_result"
    }
   ],
   "source": [
    "heat_fuel.head()"
   ]
  },
  {
   "cell_type": "code",
   "execution_count": 84,
   "metadata": {
    "collapsed": true
   },
   "outputs": [],
   "source": [
    "merge1 = pd.merge(heat_fuel, bldng_age, on='Id2', how='outer')"
   ]
  },
  {
   "cell_type": "code",
   "execution_count": 85,
   "metadata": {
    "collapsed": false
   },
   "outputs": [
    {
     "data": {
      "text/html": [
       "<div>\n",
       "<table border=\"1\" class=\"dataframe\">\n",
       "  <thead>\n",
       "    <tr style=\"text-align: right;\">\n",
       "      <th></th>\n",
       "      <th>Id2</th>\n",
       "      <th>Geography</th>\n",
       "      <th>gas_utility_r</th>\n",
       "      <th>avg_bldng_age</th>\n",
       "    </tr>\n",
       "  </thead>\n",
       "  <tbody>\n",
       "    <tr>\n",
       "      <th>0</th>\n",
       "      <td>360050001000</td>\n",
       "      <td>Block Group 0, Census Tract 1, Bronx County, N...</td>\n",
       "      <td>NaN</td>\n",
       "      <td>NaN</td>\n",
       "    </tr>\n",
       "    <tr>\n",
       "      <th>1</th>\n",
       "      <td>360050001001</td>\n",
       "      <td>Block Group 1, Census Tract 1, Bronx County, N...</td>\n",
       "      <td>NaN</td>\n",
       "      <td>NaN</td>\n",
       "    </tr>\n",
       "  </tbody>\n",
       "</table>\n",
       "</div>"
      ],
      "text/plain": [
       "            Id2                                          Geography  \\\n",
       "0  360050001000  Block Group 0, Census Tract 1, Bronx County, N...   \n",
       "1  360050001001  Block Group 1, Census Tract 1, Bronx County, N...   \n",
       "\n",
       "   gas_utility_r  avg_bldng_age  \n",
       "0            NaN            NaN  \n",
       "1            NaN            NaN  "
      ]
     },
     "execution_count": 85,
     "metadata": {},
     "output_type": "execute_result"
    }
   ],
   "source": [
    "merge1.head(2)"
   ]
  },
  {
   "cell_type": "code",
   "execution_count": 86,
   "metadata": {
    "collapsed": true
   },
   "outputs": [],
   "source": [
    "phys_cond_15 = pd.merge(merge1, homeownership, on='Id2', how='outer')"
   ]
  },
  {
   "cell_type": "code",
   "execution_count": 87,
   "metadata": {
    "collapsed": false
   },
   "outputs": [
    {
     "data": {
      "text/html": [
       "<div>\n",
       "<table border=\"1\" class=\"dataframe\">\n",
       "  <thead>\n",
       "    <tr style=\"text-align: right;\">\n",
       "      <th></th>\n",
       "      <th>Id2</th>\n",
       "      <th>Geography</th>\n",
       "      <th>gas_utility_r</th>\n",
       "      <th>avg_bldng_age</th>\n",
       "      <th>ownership_r</th>\n",
       "    </tr>\n",
       "  </thead>\n",
       "  <tbody>\n",
       "    <tr>\n",
       "      <th>0</th>\n",
       "      <td>360050001000</td>\n",
       "      <td>Block Group 0, Census Tract 1, Bronx County, N...</td>\n",
       "      <td>NaN</td>\n",
       "      <td>NaN</td>\n",
       "      <td>NaN</td>\n",
       "    </tr>\n",
       "    <tr>\n",
       "      <th>1</th>\n",
       "      <td>360050001001</td>\n",
       "      <td>Block Group 1, Census Tract 1, Bronx County, N...</td>\n",
       "      <td>NaN</td>\n",
       "      <td>NaN</td>\n",
       "      <td>NaN</td>\n",
       "    </tr>\n",
       "  </tbody>\n",
       "</table>\n",
       "</div>"
      ],
      "text/plain": [
       "            Id2                                          Geography  \\\n",
       "0  360050001000  Block Group 0, Census Tract 1, Bronx County, N...   \n",
       "1  360050001001  Block Group 1, Census Tract 1, Bronx County, N...   \n",
       "\n",
       "   gas_utility_r  avg_bldng_age  ownership_r  \n",
       "0            NaN            NaN          NaN  \n",
       "1            NaN            NaN          NaN  "
      ]
     },
     "execution_count": 87,
     "metadata": {},
     "output_type": "execute_result"
    }
   ],
   "source": [
    "phys_cond_15.head(2)"
   ]
  },
  {
   "cell_type": "code",
   "execution_count": 91,
   "metadata": {
    "collapsed": true
   },
   "outputs": [],
   "source": [
    "phys_cond_15.to_csv('../data_processed/phys_cond_15')"
   ]
  },
  {
   "cell_type": "code",
   "execution_count": 89,
   "metadata": {
    "collapsed": false
   },
   "outputs": [
    {
     "data": {
      "text/html": [
       "<div>\n",
       "<table border=\"1\" class=\"dataframe\">\n",
       "  <thead>\n",
       "    <tr style=\"text-align: right;\">\n",
       "      <th></th>\n",
       "      <th>Id2</th>\n",
       "      <th>Geography</th>\n",
       "      <th>gas_utility_r</th>\n",
       "      <th>avg_bldng_age</th>\n",
       "      <th>ownership_r</th>\n",
       "    </tr>\n",
       "  </thead>\n",
       "  <tbody>\n",
       "    <tr>\n",
       "      <th>0</th>\n",
       "      <td>360050001000</td>\n",
       "      <td>Block Group 0, Census Tract 1, Bronx County, N...</td>\n",
       "      <td>NaN</td>\n",
       "      <td>NaN</td>\n",
       "      <td>NaN</td>\n",
       "    </tr>\n",
       "    <tr>\n",
       "      <th>1</th>\n",
       "      <td>360050001001</td>\n",
       "      <td>Block Group 1, Census Tract 1, Bronx County, N...</td>\n",
       "      <td>NaN</td>\n",
       "      <td>NaN</td>\n",
       "      <td>NaN</td>\n",
       "    </tr>\n",
       "  </tbody>\n",
       "</table>\n",
       "</div>"
      ],
      "text/plain": [
       "            Id2                                          Geography  \\\n",
       "0  360050001000  Block Group 0, Census Tract 1, Bronx County, N...   \n",
       "1  360050001001  Block Group 1, Census Tract 1, Bronx County, N...   \n",
       "\n",
       "   gas_utility_r  avg_bldng_age  ownership_r  \n",
       "0            NaN            NaN          NaN  \n",
       "1            NaN            NaN          NaN  "
      ]
     },
     "execution_count": 89,
     "metadata": {},
     "output_type": "execute_result"
    }
   ],
   "source": [
    "phys_cond_15.head(2)"
   ]
  }
 ],
 "metadata": {
  "kernelspec": {
   "display_name": "Python 2",
   "language": "python",
   "name": "python2"
  },
  "language_info": {
   "codemirror_mode": {
    "name": "ipython",
    "version": 2
   },
   "file_extension": ".py",
   "mimetype": "text/x-python",
   "name": "python",
   "nbconvert_exporter": "python",
   "pygments_lexer": "ipython2",
   "version": "2.7.12"
  }
 },
 "nbformat": 4,
 "nbformat_minor": 1
}
