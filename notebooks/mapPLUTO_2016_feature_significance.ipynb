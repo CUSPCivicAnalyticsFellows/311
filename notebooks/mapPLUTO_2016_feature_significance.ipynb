{
 "cells": [
  {
   "cell_type": "code",
   "execution_count": 1,
   "metadata": {
    "collapsed": false
   },
   "outputs": [
    {
     "name": "stdout",
     "output_type": "stream",
     "text": [
      "Populating the interactive namespace from numpy and matplotlib\n"
     ]
    }
   ],
   "source": [
    "import pandas as pd\n",
    "import zipfile\n",
    "import geopandas as gpd\n",
    "%pylab inline"
   ]
  },
  {
   "cell_type": "code",
   "execution_count": 2,
   "metadata": {
    "collapsed": false
   },
   "outputs": [],
   "source": [
    "def pluto(mappluto):\n",
    "    z = zipfile.ZipFile(mappluto)\n",
    "    z.extractall('../data_initial/')\n",
    "    \n",
    "    boroughs = ['Staten_Island', 'Queens', 'Manhattan', 'Bronx', 'Brooklyn']\n",
    "    abreevs = ['SI', 'QN', 'MN', 'BX', 'BK']\n",
    "\n",
    "    pluto = []\n",
    "    i = 0\n",
    "    for elem in boroughs:\n",
    "        temp = gpd.read_file('../data_initial/'+elem+'/'+abreevs[i]+'MapPLUTO.shp')\n",
    "        temp['BBL'] = temp['BBL'].astype(str)\n",
    "        #temp = temp.to_crs({'init':'epsg:4326'})\n",
    "        pluto.append(temp)\n",
    "        i+=1  \n",
    "\n",
    "    global pluto_updated\n",
    "    pluto_updated = pd.concat(pluto)\n",
    "\n",
    "    return pluto_updated.head()"
   ]
  },
  {
   "cell_type": "code",
   "execution_count": 3,
   "metadata": {
    "collapsed": false
   },
   "outputs": [
    {
     "data": {
      "text/html": [
       "<div>\n",
       "<table border=\"1\" class=\"dataframe\">\n",
       "  <thead>\n",
       "    <tr style=\"text-align: right;\">\n",
       "      <th></th>\n",
       "      <th>APPBBL</th>\n",
       "      <th>APPDate</th>\n",
       "      <th>Address</th>\n",
       "      <th>AllZoning1</th>\n",
       "      <th>AllZoning2</th>\n",
       "      <th>AreaSource</th>\n",
       "      <th>AssessLand</th>\n",
       "      <th>AssessTot</th>\n",
       "      <th>BBL</th>\n",
       "      <th>BldgArea</th>\n",
       "      <th>...</th>\n",
       "      <th>YearAlter2</th>\n",
       "      <th>YearBuilt</th>\n",
       "      <th>ZMCode</th>\n",
       "      <th>ZipCode</th>\n",
       "      <th>ZoneDist1</th>\n",
       "      <th>ZoneDist2</th>\n",
       "      <th>ZoneDist3</th>\n",
       "      <th>ZoneDist4</th>\n",
       "      <th>ZoneMap</th>\n",
       "      <th>geometry</th>\n",
       "    </tr>\n",
       "  </thead>\n",
       "  <tbody>\n",
       "    <tr>\n",
       "      <th>0</th>\n",
       "      <td>0.0</td>\n",
       "      <td>None</td>\n",
       "      <td>437 PURDY AVENUE</td>\n",
       "      <td>R3-1</td>\n",
       "      <td>None</td>\n",
       "      <td>7</td>\n",
       "      <td>15120.0</td>\n",
       "      <td>23400.0</td>\n",
       "      <td>5007470028.0</td>\n",
       "      <td>1488</td>\n",
       "      <td>...</td>\n",
       "      <td>0</td>\n",
       "      <td>1960</td>\n",
       "      <td>None</td>\n",
       "      <td>10314</td>\n",
       "      <td>R3-1</td>\n",
       "      <td>None</td>\n",
       "      <td>None</td>\n",
       "      <td>None</td>\n",
       "      <td>20d</td>\n",
       "      <td>POLYGON ((944681.4200000018 161477.381400004, ...</td>\n",
       "    </tr>\n",
       "    <tr>\n",
       "      <th>1</th>\n",
       "      <td>0.0</td>\n",
       "      <td>None</td>\n",
       "      <td>CUNARD AVENUE</td>\n",
       "      <td>R3A/HS</td>\n",
       "      <td>None</td>\n",
       "      <td>4</td>\n",
       "      <td>21518.0</td>\n",
       "      <td>21518.0</td>\n",
       "      <td>5006230252.0</td>\n",
       "      <td>0</td>\n",
       "      <td>...</td>\n",
       "      <td>0</td>\n",
       "      <td>0</td>\n",
       "      <td>None</td>\n",
       "      <td>10304</td>\n",
       "      <td>R3A</td>\n",
       "      <td>None</td>\n",
       "      <td>None</td>\n",
       "      <td>None</td>\n",
       "      <td>21d</td>\n",
       "      <td>POLYGON ((959872.0577999949 162992.5866000056,...</td>\n",
       "    </tr>\n",
       "    <tr>\n",
       "      <th>2</th>\n",
       "      <td>0.0</td>\n",
       "      <td>None</td>\n",
       "      <td>121 MOUNTAINVIEW AVENUE</td>\n",
       "      <td>R3-1</td>\n",
       "      <td>None</td>\n",
       "      <td>7</td>\n",
       "      <td>13561.0</td>\n",
       "      <td>22602.0</td>\n",
       "      <td>5007130017.0</td>\n",
       "      <td>1316</td>\n",
       "      <td>...</td>\n",
       "      <td>0</td>\n",
       "      <td>1920</td>\n",
       "      <td>None</td>\n",
       "      <td>10314</td>\n",
       "      <td>R3-1</td>\n",
       "      <td>None</td>\n",
       "      <td>None</td>\n",
       "      <td>None</td>\n",
       "      <td>21b</td>\n",
       "      <td>POLYGON ((949278.1987999976 161346.9971999973,...</td>\n",
       "    </tr>\n",
       "    <tr>\n",
       "      <th>3</th>\n",
       "      <td>0.0</td>\n",
       "      <td>None</td>\n",
       "      <td>26 FANNING STREET</td>\n",
       "      <td>R3X</td>\n",
       "      <td>None</td>\n",
       "      <td>7</td>\n",
       "      <td>9720.0</td>\n",
       "      <td>28740.0</td>\n",
       "      <td>5007140091.0</td>\n",
       "      <td>2188</td>\n",
       "      <td>...</td>\n",
       "      <td>0</td>\n",
       "      <td>1975</td>\n",
       "      <td>None</td>\n",
       "      <td>10314</td>\n",
       "      <td>R3X</td>\n",
       "      <td>None</td>\n",
       "      <td>None</td>\n",
       "      <td>None</td>\n",
       "      <td>21b</td>\n",
       "      <td>POLYGON ((950061.0491999984 160815.3023999929,...</td>\n",
       "    </tr>\n",
       "    <tr>\n",
       "      <th>4</th>\n",
       "      <td>0.0</td>\n",
       "      <td>None</td>\n",
       "      <td>335 SIMONSON AVENUE</td>\n",
       "      <td>R3A</td>\n",
       "      <td>None</td>\n",
       "      <td>7</td>\n",
       "      <td>7617.0</td>\n",
       "      <td>22118.0</td>\n",
       "      <td>5011840039.0</td>\n",
       "      <td>2392</td>\n",
       "      <td>...</td>\n",
       "      <td>0</td>\n",
       "      <td>1965</td>\n",
       "      <td>None</td>\n",
       "      <td>10303</td>\n",
       "      <td>R3A</td>\n",
       "      <td>None</td>\n",
       "      <td>None</td>\n",
       "      <td>None</td>\n",
       "      <td>20c</td>\n",
       "      <td>POLYGON ((941981.4906000048 168120.2173999995,...</td>\n",
       "    </tr>\n",
       "  </tbody>\n",
       "</table>\n",
       "<p>5 rows × 87 columns</p>\n",
       "</div>"
      ],
      "text/plain": [
       "   APPBBL APPDate                  Address AllZoning1 AllZoning2 AreaSource  \\\n",
       "0     0.0    None         437 PURDY AVENUE       R3-1       None          7   \n",
       "1     0.0    None            CUNARD AVENUE     R3A/HS       None          4   \n",
       "2     0.0    None  121 MOUNTAINVIEW AVENUE       R3-1       None          7   \n",
       "3     0.0    None        26 FANNING STREET        R3X       None          7   \n",
       "4     0.0    None      335 SIMONSON AVENUE        R3A       None          7   \n",
       "\n",
       "   AssessLand  AssessTot           BBL  BldgArea  \\\n",
       "0     15120.0    23400.0  5007470028.0      1488   \n",
       "1     21518.0    21518.0  5006230252.0         0   \n",
       "2     13561.0    22602.0  5007130017.0      1316   \n",
       "3      9720.0    28740.0  5007140091.0      2188   \n",
       "4      7617.0    22118.0  5011840039.0      2392   \n",
       "\n",
       "                         ...                         YearAlter2  YearBuilt  \\\n",
       "0                        ...                                  0       1960   \n",
       "1                        ...                                  0          0   \n",
       "2                        ...                                  0       1920   \n",
       "3                        ...                                  0       1975   \n",
       "4                        ...                                  0       1965   \n",
       "\n",
       "   ZMCode  ZipCode  ZoneDist1 ZoneDist2 ZoneDist3 ZoneDist4  ZoneMap  \\\n",
       "0    None    10314       R3-1      None      None      None      20d   \n",
       "1    None    10304        R3A      None      None      None      21d   \n",
       "2    None    10314       R3-1      None      None      None      21b   \n",
       "3    None    10314        R3X      None      None      None      21b   \n",
       "4    None    10303        R3A      None      None      None      20c   \n",
       "\n",
       "                                            geometry  \n",
       "0  POLYGON ((944681.4200000018 161477.381400004, ...  \n",
       "1  POLYGON ((959872.0577999949 162992.5866000056,...  \n",
       "2  POLYGON ((949278.1987999976 161346.9971999973,...  \n",
       "3  POLYGON ((950061.0491999984 160815.3023999929,...  \n",
       "4  POLYGON ((941981.4906000048 168120.2173999995,...  \n",
       "\n",
       "[5 rows x 87 columns]"
      ]
     },
     "execution_count": 3,
     "metadata": {},
     "output_type": "execute_result"
    }
   ],
   "source": [
    "pluto('../data_initial/mappluto_16v2.zip')"
   ]
  },
  {
   "cell_type": "code",
   "execution_count": 4,
   "metadata": {
    "collapsed": false
   },
   "outputs": [],
   "source": [
    "pluto_updated.to_csv('../data_processed/pluto_16')"
   ]
  },
  {
   "cell_type": "markdown",
   "metadata": {},
   "source": [
    "### there are no 'ownernames' with 'nyc housing authority' or 'nyc housing' so using ownertype instead"
   ]
  },
  {
   "cell_type": "code",
   "execution_count": 5,
   "metadata": {
    "collapsed": false
   },
   "outputs": [
    {
     "name": "stderr",
     "output_type": "stream",
     "text": [
      "//anaconda/lib/python2.7/site-packages/IPython/core/interactiveshell.py:2723: DtypeWarning: Columns (27,37,40,46,53,64,65,84,85) have mixed types. Specify dtype option on import or set low_memory=False.\n",
      "  interactivity=interactivity, compiler=compiler, result=result)\n"
     ]
    }
   ],
   "source": [
    "pluto_updated = pd.read_csv('../data_processed/pluto_16')"
   ]
  },
  {
   "cell_type": "code",
   "execution_count": 6,
   "metadata": {
    "collapsed": false
   },
   "outputs": [],
   "source": [
    "pluto_updated = pluto_updated.drop('Unnamed: 0',axis=1)"
   ]
  },
  {
   "cell_type": "code",
   "execution_count": 7,
   "metadata": {
    "collapsed": false
   },
   "outputs": [
    {
     "data": {
      "text/html": [
       "<div>\n",
       "<table border=\"1\" class=\"dataframe\">\n",
       "  <thead>\n",
       "    <tr style=\"text-align: right;\">\n",
       "      <th></th>\n",
       "      <th>APPBBL</th>\n",
       "      <th>APPDate</th>\n",
       "      <th>Address</th>\n",
       "      <th>AllZoning1</th>\n",
       "      <th>AllZoning2</th>\n",
       "      <th>AreaSource</th>\n",
       "      <th>AssessLand</th>\n",
       "      <th>AssessTot</th>\n",
       "      <th>BBL</th>\n",
       "      <th>BldgArea</th>\n",
       "      <th>...</th>\n",
       "      <th>YearAlter2</th>\n",
       "      <th>YearBuilt</th>\n",
       "      <th>ZMCode</th>\n",
       "      <th>ZipCode</th>\n",
       "      <th>ZoneDist1</th>\n",
       "      <th>ZoneDist2</th>\n",
       "      <th>ZoneDist3</th>\n",
       "      <th>ZoneDist4</th>\n",
       "      <th>ZoneMap</th>\n",
       "      <th>geometry</th>\n",
       "    </tr>\n",
       "  </thead>\n",
       "  <tbody>\n",
       "    <tr>\n",
       "      <th>0</th>\n",
       "      <td>0.0</td>\n",
       "      <td>NaN</td>\n",
       "      <td>437 PURDY AVENUE</td>\n",
       "      <td>R3-1</td>\n",
       "      <td>NaN</td>\n",
       "      <td>7</td>\n",
       "      <td>15120.0</td>\n",
       "      <td>23400.0</td>\n",
       "      <td>5.007470e+09</td>\n",
       "      <td>1488</td>\n",
       "      <td>...</td>\n",
       "      <td>0</td>\n",
       "      <td>1960</td>\n",
       "      <td>NaN</td>\n",
       "      <td>10314</td>\n",
       "      <td>R3-1</td>\n",
       "      <td>NaN</td>\n",
       "      <td>NaN</td>\n",
       "      <td>NaN</td>\n",
       "      <td>20d</td>\n",
       "      <td>POLYGON ((944681.4200000018 161477.381400004, ...</td>\n",
       "    </tr>\n",
       "    <tr>\n",
       "      <th>1</th>\n",
       "      <td>0.0</td>\n",
       "      <td>NaN</td>\n",
       "      <td>CUNARD AVENUE</td>\n",
       "      <td>R3A/HS</td>\n",
       "      <td>NaN</td>\n",
       "      <td>4</td>\n",
       "      <td>21518.0</td>\n",
       "      <td>21518.0</td>\n",
       "      <td>5.006230e+09</td>\n",
       "      <td>0</td>\n",
       "      <td>...</td>\n",
       "      <td>0</td>\n",
       "      <td>0</td>\n",
       "      <td>NaN</td>\n",
       "      <td>10304</td>\n",
       "      <td>R3A</td>\n",
       "      <td>NaN</td>\n",
       "      <td>NaN</td>\n",
       "      <td>NaN</td>\n",
       "      <td>21d</td>\n",
       "      <td>POLYGON ((959872.0577999949 162992.5866000056,...</td>\n",
       "    </tr>\n",
       "  </tbody>\n",
       "</table>\n",
       "<p>2 rows × 87 columns</p>\n",
       "</div>"
      ],
      "text/plain": [
       "   APPBBL APPDate           Address AllZoning1 AllZoning2  AreaSource  \\\n",
       "0     0.0     NaN  437 PURDY AVENUE       R3-1        NaN           7   \n",
       "1     0.0     NaN     CUNARD AVENUE     R3A/HS        NaN           4   \n",
       "\n",
       "   AssessLand  AssessTot           BBL  BldgArea  \\\n",
       "0     15120.0    23400.0  5.007470e+09      1488   \n",
       "1     21518.0    21518.0  5.006230e+09         0   \n",
       "\n",
       "                         ...                         YearAlter2  YearBuilt  \\\n",
       "0                        ...                                  0       1960   \n",
       "1                        ...                                  0          0   \n",
       "\n",
       "   ZMCode  ZipCode  ZoneDist1 ZoneDist2  ZoneDist3 ZoneDist4  ZoneMap  \\\n",
       "0     NaN    10314       R3-1       NaN        NaN       NaN      20d   \n",
       "1     NaN    10304        R3A       NaN        NaN       NaN      21d   \n",
       "\n",
       "                                            geometry  \n",
       "0  POLYGON ((944681.4200000018 161477.381400004, ...  \n",
       "1  POLYGON ((959872.0577999949 162992.5866000056,...  \n",
       "\n",
       "[2 rows x 87 columns]"
      ]
     },
     "execution_count": 7,
     "metadata": {},
     "output_type": "execute_result"
    }
   ],
   "source": [
    "pluto_updated.head(2)"
   ]
  },
  {
   "cell_type": "code",
   "execution_count": 8,
   "metadata": {
    "collapsed": false
   },
   "outputs": [],
   "source": [
    "t1 = pluto_updated[pluto_updated['UnitsRes'] != 0]\n",
    "#t1 = t1[(t1['OwnerName'] != 'NYC HOUSING AUTHORITY') & (t1['OwnerName'] != 'NYC HOUSING')]"
   ]
  },
  {
   "cell_type": "markdown",
   "metadata": {},
   "source": [
    "### create categorical variables from building class feature"
   ]
  },
  {
   "cell_type": "code",
   "execution_count": 9,
   "metadata": {
    "collapsed": true
   },
   "outputs": [],
   "source": [
    "var = []\n",
    "i=0\n",
    "for elem in t1['BldgClass']:\n",
    "    if elem[i][0] == 'A':\n",
    "        var.append(1)\n",
    "    elif elem[i][0] == 'B':\n",
    "        var.append(2)\n",
    "    elif elem[i][0] == 'C':\n",
    "        var.append(3)\n",
    "    elif elem[i][0] == 'S':\n",
    "        var.append(3)\n",
    "    elif elem[i][0] == 'D':\n",
    "        var.append(4)\n",
    "    elif elem[i] == 'O8':\n",
    "        var.append(4)\n",
    "    elif elem[i][0] == 'L':\n",
    "        var.append(6)\n",
    "    elif elem[i][0] == 'R':\n",
    "        var.append(5)\n",
    "    else:\n",
    "        var.append(0)"
   ]
  },
  {
   "cell_type": "code",
   "execution_count": 10,
   "metadata": {
    "collapsed": false
   },
   "outputs": [
    {
     "name": "stderr",
     "output_type": "stream",
     "text": [
      "/anaconda/lib/python2.7/site-packages/ipykernel/__main__.py:1: SettingWithCopyWarning: \n",
      "A value is trying to be set on a copy of a slice from a DataFrame.\n",
      "Try using .loc[row_indexer,col_indexer] = value instead\n",
      "\n",
      "See the caveats in the documentation: http://pandas.pydata.org/pandas-docs/stable/indexing.html#indexing-view-versus-copy\n",
      "  if __name__ == '__main__':\n"
     ]
    }
   ],
   "source": [
    "t1['bldgclass_updated'] = var"
   ]
  },
  {
   "cell_type": "code",
   "execution_count": 11,
   "metadata": {
    "collapsed": false
   },
   "outputs": [
    {
     "data": {
      "text/html": [
       "<div>\n",
       "<table border=\"1\" class=\"dataframe\">\n",
       "  <thead>\n",
       "    <tr style=\"text-align: right;\">\n",
       "      <th></th>\n",
       "      <th>APPBBL</th>\n",
       "      <th>APPDate</th>\n",
       "      <th>Address</th>\n",
       "      <th>AllZoning1</th>\n",
       "      <th>AllZoning2</th>\n",
       "      <th>AreaSource</th>\n",
       "      <th>AssessLand</th>\n",
       "      <th>AssessTot</th>\n",
       "      <th>BBL</th>\n",
       "      <th>BldgArea</th>\n",
       "      <th>...</th>\n",
       "      <th>YearBuilt</th>\n",
       "      <th>ZMCode</th>\n",
       "      <th>ZipCode</th>\n",
       "      <th>ZoneDist1</th>\n",
       "      <th>ZoneDist2</th>\n",
       "      <th>ZoneDist3</th>\n",
       "      <th>ZoneDist4</th>\n",
       "      <th>ZoneMap</th>\n",
       "      <th>geometry</th>\n",
       "      <th>bldgclass_updated</th>\n",
       "    </tr>\n",
       "  </thead>\n",
       "  <tbody>\n",
       "    <tr>\n",
       "      <th>0</th>\n",
       "      <td>0.0</td>\n",
       "      <td>NaN</td>\n",
       "      <td>437 PURDY AVENUE</td>\n",
       "      <td>R3-1</td>\n",
       "      <td>NaN</td>\n",
       "      <td>7</td>\n",
       "      <td>15120.0</td>\n",
       "      <td>23400.0</td>\n",
       "      <td>5.007470e+09</td>\n",
       "      <td>1488</td>\n",
       "      <td>...</td>\n",
       "      <td>1960</td>\n",
       "      <td>NaN</td>\n",
       "      <td>10314</td>\n",
       "      <td>R3-1</td>\n",
       "      <td>NaN</td>\n",
       "      <td>NaN</td>\n",
       "      <td>NaN</td>\n",
       "      <td>20d</td>\n",
       "      <td>POLYGON ((944681.4200000018 161477.381400004, ...</td>\n",
       "      <td>2</td>\n",
       "    </tr>\n",
       "    <tr>\n",
       "      <th>2</th>\n",
       "      <td>0.0</td>\n",
       "      <td>NaN</td>\n",
       "      <td>121 MOUNTAINVIEW AVENUE</td>\n",
       "      <td>R3-1</td>\n",
       "      <td>NaN</td>\n",
       "      <td>7</td>\n",
       "      <td>13561.0</td>\n",
       "      <td>22602.0</td>\n",
       "      <td>5.007130e+09</td>\n",
       "      <td>1316</td>\n",
       "      <td>...</td>\n",
       "      <td>1920</td>\n",
       "      <td>NaN</td>\n",
       "      <td>10314</td>\n",
       "      <td>R3-1</td>\n",
       "      <td>NaN</td>\n",
       "      <td>NaN</td>\n",
       "      <td>NaN</td>\n",
       "      <td>21b</td>\n",
       "      <td>POLYGON ((949278.1987999976 161346.9971999973,...</td>\n",
       "      <td>1</td>\n",
       "    </tr>\n",
       "  </tbody>\n",
       "</table>\n",
       "<p>2 rows × 88 columns</p>\n",
       "</div>"
      ],
      "text/plain": [
       "   APPBBL APPDate                  Address AllZoning1 AllZoning2  AreaSource  \\\n",
       "0     0.0     NaN         437 PURDY AVENUE       R3-1        NaN           7   \n",
       "2     0.0     NaN  121 MOUNTAINVIEW AVENUE       R3-1        NaN           7   \n",
       "\n",
       "   AssessLand  AssessTot           BBL  BldgArea        ...         YearBuilt  \\\n",
       "0     15120.0    23400.0  5.007470e+09      1488        ...              1960   \n",
       "2     13561.0    22602.0  5.007130e+09      1316        ...              1920   \n",
       "\n",
       "   ZMCode  ZipCode  ZoneDist1  ZoneDist2 ZoneDist3  ZoneDist4 ZoneMap  \\\n",
       "0     NaN    10314       R3-1        NaN       NaN        NaN     20d   \n",
       "2     NaN    10314       R3-1        NaN       NaN        NaN     21b   \n",
       "\n",
       "                                            geometry  bldgclass_updated  \n",
       "0  POLYGON ((944681.4200000018 161477.381400004, ...                  2  \n",
       "2  POLYGON ((949278.1987999976 161346.9971999973,...                  1  \n",
       "\n",
       "[2 rows x 88 columns]"
      ]
     },
     "execution_count": 11,
     "metadata": {},
     "output_type": "execute_result"
    }
   ],
   "source": [
    "t1.head(2)"
   ]
  },
  {
   "cell_type": "code",
   "execution_count": 12,
   "metadata": {
    "collapsed": false
   },
   "outputs": [
    {
     "data": {
      "text/plain": [
       "759588"
      ]
     },
     "execution_count": 12,
     "metadata": {},
     "output_type": "execute_result"
    }
   ],
   "source": [
    "len(t1)"
   ]
  },
  {
   "cell_type": "code",
   "execution_count": 13,
   "metadata": {
    "collapsed": true
   },
   "outputs": [],
   "source": [
    "t2 = pluto_updated[pluto_updated['ResArea'] != 0]\n",
    "#t2 = t2[(t2['OwnerType'] != 'O') & (t2['OwnerType'] != 'C')]"
   ]
  },
  {
   "cell_type": "code",
   "execution_count": 14,
   "metadata": {
    "collapsed": false
   },
   "outputs": [
    {
     "data": {
      "text/plain": [
       "758493"
      ]
     },
     "execution_count": 14,
     "metadata": {},
     "output_type": "execute_result"
    }
   ],
   "source": [
    "len(t2)"
   ]
  },
  {
   "cell_type": "markdown",
   "metadata": {},
   "source": [
    "### selecting to use 'unitsres' as the value for not equalling zero because there are more rows included"
   ]
  },
  {
   "cell_type": "code",
   "execution_count": 15,
   "metadata": {
    "collapsed": false
   },
   "outputs": [
    {
     "data": {
      "text/plain": [
       "Index([u'APPBBL', u'APPDate', u'Address', u'AllZoning1', u'AllZoning2',\n",
       "       u'AreaSource', u'AssessLand', u'AssessTot', u'BBL', u'BldgArea',\n",
       "       u'BldgClass', u'BldgDepth', u'BldgFront', u'Block', u'BoroCode',\n",
       "       u'Borough', u'BsmtCode', u'BuiltCode', u'BuiltFAR', u'CB2010', u'CD',\n",
       "       u'CT2010', u'ComArea', u'CommFAR', u'CondoNo', u'Council', u'EDesigNum',\n",
       "       u'Easements', u'ExemptLand', u'ExemptTot', u'Ext', u'FacilFAR',\n",
       "       u'FactryArea', u'FireComp', u'GarageArea', u'HealthArea', u'HistDist',\n",
       "       u'IrrLotCode', u'LandUse', u'Landmark', u'Lot', u'LotArea', u'LotDepth',\n",
       "       u'LotFront', u'LotType', u'LtdHeight', u'MAPPLUTO_F', u'NumBldgs',\n",
       "       u'NumFloors', u'OfficeArea', u'OtherArea', u'Overlay1', u'Overlay2',\n",
       "       u'OwnerName', u'OwnerType', u'PLUTOMapID', u'PolicePrct', u'ProxCode',\n",
       "       u'ResArea', u'ResidFAR', u'RetailArea', u'SHAPE_Area', u'SHAPE_Leng',\n",
       "       u'SPDist1', u'SPDist2', u'Sanborn', u'SchoolDist', u'SplitZone',\n",
       "       u'StrgeArea', u'TaxMap', u'Tract2010', u'UnitsRes', u'UnitsTotal',\n",
       "       u'Version', u'XCoord', u'YCoord', u'YearAlter1', u'YearAlter2',\n",
       "       u'YearBuilt', u'ZMCode', u'ZipCode', u'ZoneDist1', u'ZoneDist2',\n",
       "       u'ZoneDist3', u'ZoneDist4', u'ZoneMap', u'geometry',\n",
       "       u'bldgclass_updated'],\n",
       "      dtype='object')"
      ]
     },
     "execution_count": 15,
     "metadata": {},
     "output_type": "execute_result"
    }
   ],
   "source": [
    "t1.columns"
   ]
  },
  {
   "cell_type": "code",
   "execution_count": 16,
   "metadata": {
    "collapsed": false
   },
   "outputs": [
    {
     "name": "stderr",
     "output_type": "stream",
     "text": [
      "/anaconda/lib/python2.7/site-packages/ipykernel/__main__.py:1: SettingWithCopyWarning: \n",
      "A value is trying to be set on a copy of a slice from a DataFrame.\n",
      "Try using .loc[row_indexer,col_indexer] = value instead\n",
      "\n",
      "See the caveats in the documentation: http://pandas.pydata.org/pandas-docs/stable/indexing.html#indexing-view-versus-copy\n",
      "  if __name__ == '__main__':\n"
     ]
    }
   ],
   "source": [
    "t1['AssessSqft'] = t1['AssessTot'] / t1['BldgArea']"
   ]
  },
  {
   "cell_type": "code",
   "execution_count": 17,
   "metadata": {
    "collapsed": false
   },
   "outputs": [
    {
     "data": {
      "text/html": [
       "<div>\n",
       "<table border=\"1\" class=\"dataframe\">\n",
       "  <thead>\n",
       "    <tr style=\"text-align: right;\">\n",
       "      <th></th>\n",
       "      <th>APPBBL</th>\n",
       "      <th>APPDate</th>\n",
       "      <th>Address</th>\n",
       "      <th>AllZoning1</th>\n",
       "      <th>AllZoning2</th>\n",
       "      <th>AreaSource</th>\n",
       "      <th>AssessLand</th>\n",
       "      <th>AssessTot</th>\n",
       "      <th>BBL</th>\n",
       "      <th>BldgArea</th>\n",
       "      <th>...</th>\n",
       "      <th>ZMCode</th>\n",
       "      <th>ZipCode</th>\n",
       "      <th>ZoneDist1</th>\n",
       "      <th>ZoneDist2</th>\n",
       "      <th>ZoneDist3</th>\n",
       "      <th>ZoneDist4</th>\n",
       "      <th>ZoneMap</th>\n",
       "      <th>geometry</th>\n",
       "      <th>bldgclass_updated</th>\n",
       "      <th>AssessSqft</th>\n",
       "    </tr>\n",
       "  </thead>\n",
       "  <tbody>\n",
       "    <tr>\n",
       "      <th>0</th>\n",
       "      <td>0.0</td>\n",
       "      <td>NaN</td>\n",
       "      <td>437 PURDY AVENUE</td>\n",
       "      <td>R3-1</td>\n",
       "      <td>NaN</td>\n",
       "      <td>7</td>\n",
       "      <td>15120.0</td>\n",
       "      <td>23400.0</td>\n",
       "      <td>5.007470e+09</td>\n",
       "      <td>1488</td>\n",
       "      <td>...</td>\n",
       "      <td>NaN</td>\n",
       "      <td>10314</td>\n",
       "      <td>R3-1</td>\n",
       "      <td>NaN</td>\n",
       "      <td>NaN</td>\n",
       "      <td>NaN</td>\n",
       "      <td>20d</td>\n",
       "      <td>POLYGON ((944681.4200000018 161477.381400004, ...</td>\n",
       "      <td>2</td>\n",
       "      <td>15.725806</td>\n",
       "    </tr>\n",
       "    <tr>\n",
       "      <th>2</th>\n",
       "      <td>0.0</td>\n",
       "      <td>NaN</td>\n",
       "      <td>121 MOUNTAINVIEW AVENUE</td>\n",
       "      <td>R3-1</td>\n",
       "      <td>NaN</td>\n",
       "      <td>7</td>\n",
       "      <td>13561.0</td>\n",
       "      <td>22602.0</td>\n",
       "      <td>5.007130e+09</td>\n",
       "      <td>1316</td>\n",
       "      <td>...</td>\n",
       "      <td>NaN</td>\n",
       "      <td>10314</td>\n",
       "      <td>R3-1</td>\n",
       "      <td>NaN</td>\n",
       "      <td>NaN</td>\n",
       "      <td>NaN</td>\n",
       "      <td>21b</td>\n",
       "      <td>POLYGON ((949278.1987999976 161346.9971999973,...</td>\n",
       "      <td>1</td>\n",
       "      <td>17.174772</td>\n",
       "    </tr>\n",
       "  </tbody>\n",
       "</table>\n",
       "<p>2 rows × 89 columns</p>\n",
       "</div>"
      ],
      "text/plain": [
       "   APPBBL APPDate                  Address AllZoning1 AllZoning2  AreaSource  \\\n",
       "0     0.0     NaN         437 PURDY AVENUE       R3-1        NaN           7   \n",
       "2     0.0     NaN  121 MOUNTAINVIEW AVENUE       R3-1        NaN           7   \n",
       "\n",
       "   AssessLand  AssessTot           BBL  BldgArea     ...     ZMCode  ZipCode  \\\n",
       "0     15120.0    23400.0  5.007470e+09      1488     ...        NaN    10314   \n",
       "2     13561.0    22602.0  5.007130e+09      1316     ...        NaN    10314   \n",
       "\n",
       "   ZoneDist1  ZoneDist2  ZoneDist3 ZoneDist4  ZoneMap  \\\n",
       "0       R3-1        NaN        NaN       NaN      20d   \n",
       "2       R3-1        NaN        NaN       NaN      21b   \n",
       "\n",
       "                                            geometry  bldgclass_updated  \\\n",
       "0  POLYGON ((944681.4200000018 161477.381400004, ...                  2   \n",
       "2  POLYGON ((949278.1987999976 161346.9971999973,...                  1   \n",
       "\n",
       "   AssessSqft  \n",
       "0   15.725806  \n",
       "2   17.174772  \n",
       "\n",
       "[2 rows x 89 columns]"
      ]
     },
     "execution_count": 17,
     "metadata": {},
     "output_type": "execute_result"
    }
   ],
   "source": [
    "t1.head(2)"
   ]
  },
  {
   "cell_type": "code",
   "execution_count": 18,
   "metadata": {
    "collapsed": false
   },
   "outputs": [],
   "source": [
    "t1 = t1.drop(['APPBBL', 'APPDate', 'Address', 'AreaSource', 'BldgDepth', 'BldgFront', \\\n",
    "                                   'Block', 'BoroCode', 'Borough', 'CB2010', 'CD', 'CT2010', 'ComArea', \\\n",
    "                                   'CommFAR', 'CondoNo', 'Council', 'EDesigNum', 'FacilFAR', 'FactryArea', \\\n",
    "                                   'FireComp', 'GarageArea', 'HealthArea', 'HistDist', 'IrrLotCode', 'Landmark', \\\n",
    "                                   'Lot', 'LotArea', 'LotDepth', 'LotFront', 'LtdHeight', 'MAPPLUTO_F', \\\n",
    "             'OfficeArea', 'OtherArea', 'Overlay1', 'Overlay2', 'PLUTOMapID', 'PolicePrct', 'ResidFAR', \\\n",
    "             'RetailArea', 'Sanborn', 'SchoolDist', 'StrgeArea', 'TaxMap', 'Tract2010', 'YearAlter1', \\\n",
    "             'YearAlter2', 'ZoneDist1', 'ZipCode', 'ZoneDist2', 'ZoneDist3', 'ZoneDist4', 'ZoneMap', \\\n",
    "             'XCoord', 'Version', 'YCoord', 'ZMCode', 'SPDist1', 'SPDist2', 'ExemptTot', 'BuiltCode', \\\n",
    "             'AllZoning1', 'AllZoning2', 'ExemptLand', 'geometry', 'Easements', 'SHAPE_Area', 'SHAPE_Leng', \\\n",
    "             'OwnerName', 'Ext', 'SplitZone', 'BldgClass', 'AssessTot', 'BldgArea', 'UnitsTotal'], axis=1)"
   ]
  },
  {
   "cell_type": "code",
   "execution_count": 19,
   "metadata": {
    "collapsed": false
   },
   "outputs": [
    {
     "data": {
      "text/plain": [
       "Index([u'AssessLand', u'BBL', u'BsmtCode', u'BuiltFAR', u'LandUse', u'LotType',\n",
       "       u'NumBldgs', u'NumFloors', u'OwnerType', u'ProxCode', u'ResArea',\n",
       "       u'UnitsRes', u'YearBuilt', u'bldgclass_updated', u'AssessSqft'],\n",
       "      dtype='object')"
      ]
     },
     "execution_count": 19,
     "metadata": {},
     "output_type": "execute_result"
    }
   ],
   "source": [
    "t1.columns"
   ]
  },
  {
   "cell_type": "markdown",
   "metadata": {},
   "source": [
    "### explanation of variables in dataset\n",
    "* assessland -  tentative assessed land value for Fiscal Year 2017\n",
    "* assesstot - tentative assessed total value for Fiscal Year 2017\n",
    "* bldgarea - total gross area in square feet\n",
    "* bldgclass - code describing the major use of structures on the tax lot\n",
    "* bsmtcode - code describing the basement type/grade - 0: no basement, 1: full basement above grade, 2: full basement below grade, 3: partial basement above grade, 4: partial basement below grade, 5: unknown\n",
    "* landuse - code for the tax lot's land use category (01-09)\n",
    "* lottype - code indicating the location of the tax lot to another tax lot and/or the water (1-9)\n",
    "* numbldgs - number of buildings in the tax lot\n",
    "* numfloors - the tallest building on the tax lot, the number of full and partial stories starting from the ground floor\n",
    "* ownertype - M: mix city and private ownership, P: private ownership, X: mixed (excludes C, M, O, or P ownerships), blank: unknown\n",
    "* proxcode - physical relationship of the building to neighboring buildings - 0: not available, 1: detatched, 2: semi-attached, 3: attached\n",
    "* resarea - estimate of the exterior dimensions of the portion of the structure(s) allocated for residential use\n",
    "* unitsres - sum of residential units in all buildings on the tax lot\n",
    "* unitstotal - sum of residential and non-residential (offices, retail stores, etc.) units in all buildings on the tax lot\n",
    "* yearbuilt - year structure was built"
   ]
  },
  {
   "cell_type": "markdown",
   "metadata": {},
   "source": [
    "### merge pluto with complaint data"
   ]
  },
  {
   "cell_type": "code",
   "execution_count": 20,
   "metadata": {
    "collapsed": false
   },
   "outputs": [
    {
     "data": {
      "text/html": [
       "<div>\n",
       "<table border=\"1\" class=\"dataframe\">\n",
       "  <thead>\n",
       "    <tr style=\"text-align: right;\">\n",
       "      <th></th>\n",
       "      <th>BBL</th>\n",
       "      <th>com_count</th>\n",
       "      <th>BBL.1</th>\n",
       "    </tr>\n",
       "  </thead>\n",
       "  <tbody>\n",
       "    <tr>\n",
       "      <th>0</th>\n",
       "      <td>1000047501</td>\n",
       "      <td>0.020408</td>\n",
       "      <td>1000047501</td>\n",
       "    </tr>\n",
       "    <tr>\n",
       "      <th>1</th>\n",
       "      <td>1000100032</td>\n",
       "      <td>0.006803</td>\n",
       "      <td>1000100032</td>\n",
       "    </tr>\n",
       "    <tr>\n",
       "      <th>2</th>\n",
       "      <td>1000150022</td>\n",
       "      <td>0.006803</td>\n",
       "      <td>1000150022</td>\n",
       "    </tr>\n",
       "    <tr>\n",
       "      <th>3</th>\n",
       "      <td>1000160015</td>\n",
       "      <td>0.006803</td>\n",
       "      <td>1000160015</td>\n",
       "    </tr>\n",
       "    <tr>\n",
       "      <th>4</th>\n",
       "      <td>1000160020</td>\n",
       "      <td>0.013605</td>\n",
       "      <td>1000160020</td>\n",
       "    </tr>\n",
       "  </tbody>\n",
       "</table>\n",
       "</div>"
      ],
      "text/plain": [
       "          BBL  com_count       BBL.1\n",
       "0  1000047501   0.020408  1000047501\n",
       "1  1000100032   0.006803  1000100032\n",
       "2  1000150022   0.006803  1000150022\n",
       "3  1000160015   0.006803  1000160015\n",
       "4  1000160020   0.013605  1000160020"
      ]
     },
     "execution_count": 20,
     "metadata": {},
     "output_type": "execute_result"
    }
   ],
   "source": [
    "comp = pd.read_csv('../data_processed/311_heathotwater_2014_2016_BBL_WEEK_AVG.csv')\n",
    "comp.head()"
   ]
  },
  {
   "cell_type": "code",
   "execution_count": 21,
   "metadata": {
    "collapsed": true
   },
   "outputs": [],
   "source": [
    "comp = comp.drop('BBL.1',axis=1)"
   ]
  },
  {
   "cell_type": "code",
   "execution_count": 22,
   "metadata": {
    "collapsed": false
   },
   "outputs": [
    {
     "name": "stdout",
     "output_type": "stream",
     "text": [
      "int64\n",
      "float64\n"
     ]
    }
   ],
   "source": [
    "print comp['BBL'].dtypes\n",
    "print t1['BBL'].dtypes"
   ]
  },
  {
   "cell_type": "code",
   "execution_count": 23,
   "metadata": {
    "collapsed": true
   },
   "outputs": [],
   "source": [
    "import numpy as np"
   ]
  },
  {
   "cell_type": "code",
   "execution_count": 24,
   "metadata": {
    "collapsed": true
   },
   "outputs": [],
   "source": [
    "t1['BBL'] = pd.to_numeric(t1['BBL']).astype(int)"
   ]
  },
  {
   "cell_type": "code",
   "execution_count": 25,
   "metadata": {
    "collapsed": false
   },
   "outputs": [
    {
     "name": "stdout",
     "output_type": "stream",
     "text": [
      "int64\n",
      "int64\n"
     ]
    }
   ],
   "source": [
    "print comp['BBL'].dtypes\n",
    "print t1['BBL'].dtypes"
   ]
  },
  {
   "cell_type": "code",
   "execution_count": 26,
   "metadata": {
    "collapsed": false
   },
   "outputs": [],
   "source": [
    "features = pd.merge(t1, comp, on ='BBL')"
   ]
  },
  {
   "cell_type": "code",
   "execution_count": 27,
   "metadata": {
    "collapsed": false
   },
   "outputs": [
    {
     "name": "stdout",
     "output_type": "stream",
     "text": [
      "759588\n",
      "53310\n",
      "51782\n"
     ]
    }
   ],
   "source": [
    "print len(t1)\n",
    "print len(comp)\n",
    "print len(features)"
   ]
  },
  {
   "cell_type": "code",
   "execution_count": 28,
   "metadata": {
    "collapsed": false
   },
   "outputs": [
    {
     "data": {
      "text/html": [
       "<div>\n",
       "<table border=\"1\" class=\"dataframe\">\n",
       "  <thead>\n",
       "    <tr style=\"text-align: right;\">\n",
       "      <th></th>\n",
       "      <th>AssessLand</th>\n",
       "      <th>BBL</th>\n",
       "      <th>BsmtCode</th>\n",
       "      <th>BuiltFAR</th>\n",
       "      <th>LandUse</th>\n",
       "      <th>LotType</th>\n",
       "      <th>NumBldgs</th>\n",
       "      <th>NumFloors</th>\n",
       "      <th>OwnerType</th>\n",
       "      <th>ProxCode</th>\n",
       "      <th>ResArea</th>\n",
       "      <th>UnitsRes</th>\n",
       "      <th>YearBuilt</th>\n",
       "      <th>bldgclass_updated</th>\n",
       "      <th>AssessSqft</th>\n",
       "      <th>com_count</th>\n",
       "    </tr>\n",
       "  </thead>\n",
       "  <tbody>\n",
       "    <tr>\n",
       "      <th>0</th>\n",
       "      <td>8441.0</td>\n",
       "      <td>5010310021</td>\n",
       "      <td>2.0</td>\n",
       "      <td>0.70</td>\n",
       "      <td>2.0</td>\n",
       "      <td>5.0</td>\n",
       "      <td>1</td>\n",
       "      <td>2.75</td>\n",
       "      <td>NaN</td>\n",
       "      <td>1.0</td>\n",
       "      <td>4710</td>\n",
       "      <td>3</td>\n",
       "      <td>1920</td>\n",
       "      <td>3</td>\n",
       "      <td>4.695966</td>\n",
       "      <td>0.013605</td>\n",
       "    </tr>\n",
       "    <tr>\n",
       "      <th>1</th>\n",
       "      <td>6480.0</td>\n",
       "      <td>5012460037</td>\n",
       "      <td>2.0</td>\n",
       "      <td>0.92</td>\n",
       "      <td>1.0</td>\n",
       "      <td>5.0</td>\n",
       "      <td>1</td>\n",
       "      <td>2.00</td>\n",
       "      <td>NaN</td>\n",
       "      <td>1.0</td>\n",
       "      <td>2700</td>\n",
       "      <td>2</td>\n",
       "      <td>2003</td>\n",
       "      <td>2</td>\n",
       "      <td>8.933333</td>\n",
       "      <td>0.034014</td>\n",
       "    </tr>\n",
       "    <tr>\n",
       "      <th>2</th>\n",
       "      <td>9007.0</td>\n",
       "      <td>5033390088</td>\n",
       "      <td>2.0</td>\n",
       "      <td>0.48</td>\n",
       "      <td>1.0</td>\n",
       "      <td>5.0</td>\n",
       "      <td>1</td>\n",
       "      <td>2.00</td>\n",
       "      <td>NaN</td>\n",
       "      <td>1.0</td>\n",
       "      <td>1976</td>\n",
       "      <td>2</td>\n",
       "      <td>1955</td>\n",
       "      <td>2</td>\n",
       "      <td>15.320344</td>\n",
       "      <td>0.054422</td>\n",
       "    </tr>\n",
       "    <tr>\n",
       "      <th>3</th>\n",
       "      <td>3980.0</td>\n",
       "      <td>5000810024</td>\n",
       "      <td>2.0</td>\n",
       "      <td>0.54</td>\n",
       "      <td>1.0</td>\n",
       "      <td>5.0</td>\n",
       "      <td>1</td>\n",
       "      <td>2.00</td>\n",
       "      <td>NaN</td>\n",
       "      <td>1.0</td>\n",
       "      <td>1344</td>\n",
       "      <td>1</td>\n",
       "      <td>1901</td>\n",
       "      <td>1</td>\n",
       "      <td>8.440476</td>\n",
       "      <td>0.074830</td>\n",
       "    </tr>\n",
       "    <tr>\n",
       "      <th>4</th>\n",
       "      <td>96750.0</td>\n",
       "      <td>5000440001</td>\n",
       "      <td>5.0</td>\n",
       "      <td>0.66</td>\n",
       "      <td>2.0</td>\n",
       "      <td>3.0</td>\n",
       "      <td>1</td>\n",
       "      <td>2.00</td>\n",
       "      <td>P</td>\n",
       "      <td>0.0</td>\n",
       "      <td>14156</td>\n",
       "      <td>16</td>\n",
       "      <td>1984</td>\n",
       "      <td>3</td>\n",
       "      <td>22.951399</td>\n",
       "      <td>0.006803</td>\n",
       "    </tr>\n",
       "  </tbody>\n",
       "</table>\n",
       "</div>"
      ],
      "text/plain": [
       "   AssessLand         BBL  BsmtCode  BuiltFAR  LandUse  LotType  NumBldgs  \\\n",
       "0      8441.0  5010310021       2.0      0.70      2.0      5.0         1   \n",
       "1      6480.0  5012460037       2.0      0.92      1.0      5.0         1   \n",
       "2      9007.0  5033390088       2.0      0.48      1.0      5.0         1   \n",
       "3      3980.0  5000810024       2.0      0.54      1.0      5.0         1   \n",
       "4     96750.0  5000440001       5.0      0.66      2.0      3.0         1   \n",
       "\n",
       "   NumFloors OwnerType  ProxCode  ResArea  UnitsRes  YearBuilt  \\\n",
       "0       2.75       NaN       1.0     4710         3       1920   \n",
       "1       2.00       NaN       1.0     2700         2       2003   \n",
       "2       2.00       NaN       1.0     1976         2       1955   \n",
       "3       2.00       NaN       1.0     1344         1       1901   \n",
       "4       2.00         P       0.0    14156        16       1984   \n",
       "\n",
       "   bldgclass_updated  AssessSqft  com_count  \n",
       "0                  3    4.695966   0.013605  \n",
       "1                  2    8.933333   0.034014  \n",
       "2                  2   15.320344   0.054422  \n",
       "3                  1    8.440476   0.074830  \n",
       "4                  3   22.951399   0.006803  "
      ]
     },
     "execution_count": 28,
     "metadata": {},
     "output_type": "execute_result"
    }
   ],
   "source": [
    "features.head()"
   ]
  },
  {
   "cell_type": "markdown",
   "metadata": {},
   "source": [
    "### check to see if original pluto dataframe has the same features as merged dataframe"
   ]
  },
  {
   "cell_type": "code",
   "execution_count": 29,
   "metadata": {
    "collapsed": false
   },
   "outputs": [
    {
     "data": {
      "text/html": [
       "<div>\n",
       "<table border=\"1\" class=\"dataframe\">\n",
       "  <thead>\n",
       "    <tr style=\"text-align: right;\">\n",
       "      <th></th>\n",
       "      <th>AssessLand</th>\n",
       "      <th>BBL</th>\n",
       "      <th>BsmtCode</th>\n",
       "      <th>BuiltFAR</th>\n",
       "      <th>LandUse</th>\n",
       "      <th>LotType</th>\n",
       "      <th>NumBldgs</th>\n",
       "      <th>NumFloors</th>\n",
       "      <th>OwnerType</th>\n",
       "      <th>ProxCode</th>\n",
       "      <th>ResArea</th>\n",
       "      <th>UnitsRes</th>\n",
       "      <th>YearBuilt</th>\n",
       "      <th>bldgclass_updated</th>\n",
       "      <th>AssessSqft</th>\n",
       "    </tr>\n",
       "  </thead>\n",
       "  <tbody>\n",
       "    <tr>\n",
       "      <th>87</th>\n",
       "      <td>8441.0</td>\n",
       "      <td>5010310021</td>\n",
       "      <td>2.0</td>\n",
       "      <td>0.7</td>\n",
       "      <td>2.0</td>\n",
       "      <td>5.0</td>\n",
       "      <td>1</td>\n",
       "      <td>2.75</td>\n",
       "      <td>NaN</td>\n",
       "      <td>1.0</td>\n",
       "      <td>4710</td>\n",
       "      <td>3</td>\n",
       "      <td>1920</td>\n",
       "      <td>3</td>\n",
       "      <td>4.695966</td>\n",
       "    </tr>\n",
       "  </tbody>\n",
       "</table>\n",
       "</div>"
      ],
      "text/plain": [
       "    AssessLand         BBL  BsmtCode  BuiltFAR  LandUse  LotType  NumBldgs  \\\n",
       "87      8441.0  5010310021       2.0       0.7      2.0      5.0         1   \n",
       "\n",
       "    NumFloors OwnerType  ProxCode  ResArea  UnitsRes  YearBuilt  \\\n",
       "87       2.75       NaN       1.0     4710         3       1920   \n",
       "\n",
       "    bldgclass_updated  AssessSqft  \n",
       "87                  3    4.695966  "
      ]
     },
     "execution_count": 29,
     "metadata": {},
     "output_type": "execute_result"
    }
   ],
   "source": [
    "t1[t1['BBL'] == 5010310021]"
   ]
  },
  {
   "cell_type": "code",
   "execution_count": 30,
   "metadata": {
    "collapsed": true
   },
   "outputs": [],
   "source": [
    "features.to_csv('../data_processed/mappluto_16_features')"
   ]
  },
  {
   "cell_type": "markdown",
   "metadata": {},
   "source": [
    "### select features with ensemble decision tree and random forest classifiers"
   ]
  },
  {
   "cell_type": "code",
   "execution_count": 31,
   "metadata": {
    "collapsed": true
   },
   "outputs": [],
   "source": [
    "from sklearn import metrics\n",
    "from sklearn.ensemble import ExtraTreesClassifier\n",
    "from sklearn import preprocessing\n",
    "from sklearn.ensemble import RandomForestClassifier\n",
    "from sklearn.ensemble import RandomForestRegressor\n",
    "from sklearn.ensemble import ExtraTreesRegressor"
   ]
  },
  {
   "cell_type": "code",
   "execution_count": 32,
   "metadata": {
    "collapsed": true
   },
   "outputs": [],
   "source": [
    "import random\n",
    "random.seed(123)"
   ]
  },
  {
   "cell_type": "code",
   "execution_count": 33,
   "metadata": {
    "collapsed": true
   },
   "outputs": [],
   "source": [
    "le = preprocessing.LabelEncoder()"
   ]
  },
  {
   "cell_type": "code",
   "execution_count": 34,
   "metadata": {
    "collapsed": false
   },
   "outputs": [],
   "source": [
    "le.fit([elem for elem in features['OwnerType'].unique()])\n",
    "features['ownertype_updated'] = le.transform([elem for elem in features['OwnerType']])"
   ]
  },
  {
   "cell_type": "code",
   "execution_count": 35,
   "metadata": {
    "collapsed": false
   },
   "outputs": [],
   "source": [
    "features = features.drop('OwnerType',axis=1)"
   ]
  },
  {
   "cell_type": "code",
   "execution_count": 36,
   "metadata": {
    "collapsed": false
   },
   "outputs": [
    {
     "data": {
      "text/plain": [
       "AssessLand           0\n",
       "BBL                  0\n",
       "BsmtCode             0\n",
       "BuiltFAR             0\n",
       "LandUse              0\n",
       "LotType              0\n",
       "NumBldgs             0\n",
       "NumFloors            0\n",
       "ProxCode             0\n",
       "ResArea              0\n",
       "UnitsRes             0\n",
       "YearBuilt            0\n",
       "bldgclass_updated    0\n",
       "AssessSqft           3\n",
       "com_count            0\n",
       "ownertype_updated    0\n",
       "dtype: int64"
      ]
     },
     "execution_count": 36,
     "metadata": {},
     "output_type": "execute_result"
    }
   ],
   "source": [
    "features.isnull().sum()"
   ]
  },
  {
   "cell_type": "code",
   "execution_count": 37,
   "metadata": {
    "collapsed": true
   },
   "outputs": [],
   "source": [
    "features = features.dropna()"
   ]
  },
  {
   "cell_type": "code",
   "execution_count": 38,
   "metadata": {
    "collapsed": false
   },
   "outputs": [],
   "source": [
    "features = features.apply(pd.to_numeric)\n",
    "features = features.astype(int)"
   ]
  },
  {
   "cell_type": "code",
   "execution_count": 39,
   "metadata": {
    "collapsed": false
   },
   "outputs": [
    {
     "data": {
      "text/html": [
       "<div>\n",
       "<table border=\"1\" class=\"dataframe\">\n",
       "  <thead>\n",
       "    <tr style=\"text-align: right;\">\n",
       "      <th></th>\n",
       "      <th>AssessLand</th>\n",
       "      <th>BBL</th>\n",
       "      <th>BsmtCode</th>\n",
       "      <th>BuiltFAR</th>\n",
       "      <th>LandUse</th>\n",
       "      <th>LotType</th>\n",
       "      <th>NumBldgs</th>\n",
       "      <th>NumFloors</th>\n",
       "      <th>ProxCode</th>\n",
       "      <th>ResArea</th>\n",
       "      <th>UnitsRes</th>\n",
       "      <th>YearBuilt</th>\n",
       "      <th>bldgclass_updated</th>\n",
       "      <th>AssessSqft</th>\n",
       "      <th>com_count</th>\n",
       "      <th>ownertype_updated</th>\n",
       "    </tr>\n",
       "  </thead>\n",
       "  <tbody>\n",
       "    <tr>\n",
       "      <th>0</th>\n",
       "      <td>8441</td>\n",
       "      <td>5010310021</td>\n",
       "      <td>2</td>\n",
       "      <td>0</td>\n",
       "      <td>2</td>\n",
       "      <td>5</td>\n",
       "      <td>1</td>\n",
       "      <td>2</td>\n",
       "      <td>1</td>\n",
       "      <td>4710</td>\n",
       "      <td>3</td>\n",
       "      <td>1920</td>\n",
       "      <td>3</td>\n",
       "      <td>4</td>\n",
       "      <td>0</td>\n",
       "      <td>5</td>\n",
       "    </tr>\n",
       "    <tr>\n",
       "      <th>1</th>\n",
       "      <td>6480</td>\n",
       "      <td>5012460037</td>\n",
       "      <td>2</td>\n",
       "      <td>0</td>\n",
       "      <td>1</td>\n",
       "      <td>5</td>\n",
       "      <td>1</td>\n",
       "      <td>2</td>\n",
       "      <td>1</td>\n",
       "      <td>2700</td>\n",
       "      <td>2</td>\n",
       "      <td>2003</td>\n",
       "      <td>2</td>\n",
       "      <td>8</td>\n",
       "      <td>0</td>\n",
       "      <td>5</td>\n",
       "    </tr>\n",
       "    <tr>\n",
       "      <th>2</th>\n",
       "      <td>9007</td>\n",
       "      <td>5033390088</td>\n",
       "      <td>2</td>\n",
       "      <td>0</td>\n",
       "      <td>1</td>\n",
       "      <td>5</td>\n",
       "      <td>1</td>\n",
       "      <td>2</td>\n",
       "      <td>1</td>\n",
       "      <td>1976</td>\n",
       "      <td>2</td>\n",
       "      <td>1955</td>\n",
       "      <td>2</td>\n",
       "      <td>15</td>\n",
       "      <td>0</td>\n",
       "      <td>5</td>\n",
       "    </tr>\n",
       "    <tr>\n",
       "      <th>3</th>\n",
       "      <td>3980</td>\n",
       "      <td>5000810024</td>\n",
       "      <td>2</td>\n",
       "      <td>0</td>\n",
       "      <td>1</td>\n",
       "      <td>5</td>\n",
       "      <td>1</td>\n",
       "      <td>2</td>\n",
       "      <td>1</td>\n",
       "      <td>1344</td>\n",
       "      <td>1</td>\n",
       "      <td>1901</td>\n",
       "      <td>1</td>\n",
       "      <td>8</td>\n",
       "      <td>0</td>\n",
       "      <td>5</td>\n",
       "    </tr>\n",
       "    <tr>\n",
       "      <th>4</th>\n",
       "      <td>96750</td>\n",
       "      <td>5000440001</td>\n",
       "      <td>5</td>\n",
       "      <td>0</td>\n",
       "      <td>2</td>\n",
       "      <td>3</td>\n",
       "      <td>1</td>\n",
       "      <td>2</td>\n",
       "      <td>0</td>\n",
       "      <td>14156</td>\n",
       "      <td>16</td>\n",
       "      <td>1984</td>\n",
       "      <td>3</td>\n",
       "      <td>22</td>\n",
       "      <td>0</td>\n",
       "      <td>3</td>\n",
       "    </tr>\n",
       "  </tbody>\n",
       "</table>\n",
       "</div>"
      ],
      "text/plain": [
       "   AssessLand         BBL  BsmtCode  BuiltFAR  LandUse  LotType  NumBldgs  \\\n",
       "0        8441  5010310021         2         0        2        5         1   \n",
       "1        6480  5012460037         2         0        1        5         1   \n",
       "2        9007  5033390088         2         0        1        5         1   \n",
       "3        3980  5000810024         2         0        1        5         1   \n",
       "4       96750  5000440001         5         0        2        3         1   \n",
       "\n",
       "   NumFloors  ProxCode  ResArea  UnitsRes  YearBuilt  bldgclass_updated  \\\n",
       "0          2         1     4710         3       1920                  3   \n",
       "1          2         1     2700         2       2003                  2   \n",
       "2          2         1     1976         2       1955                  2   \n",
       "3          2         1     1344         1       1901                  1   \n",
       "4          2         0    14156        16       1984                  3   \n",
       "\n",
       "   AssessSqft  com_count  ownertype_updated  \n",
       "0           4          0                  5  \n",
       "1           8          0                  5  \n",
       "2          15          0                  5  \n",
       "3           8          0                  5  \n",
       "4          22          0                  3  "
      ]
     },
     "execution_count": 39,
     "metadata": {},
     "output_type": "execute_result"
    }
   ],
   "source": [
    "features.head()"
   ]
  },
  {
   "cell_type": "code",
   "execution_count": 40,
   "metadata": {
    "collapsed": true
   },
   "outputs": [],
   "source": [
    "features.to_csv('../data_processed/mappluto_16_features_categorical')"
   ]
  },
  {
   "cell_type": "code",
   "execution_count": 41,
   "metadata": {
    "collapsed": false
   },
   "outputs": [],
   "source": [
    "x = features.iloc[:,[0,2,3,4,5,6,7,8,9,10,11,13,15]]\n",
    "y = features.iloc[:,14]"
   ]
  },
  {
   "cell_type": "code",
   "execution_count": 42,
   "metadata": {
    "collapsed": false
   },
   "outputs": [
    {
     "data": {
      "text/html": [
       "<div>\n",
       "<table border=\"1\" class=\"dataframe\">\n",
       "  <thead>\n",
       "    <tr style=\"text-align: right;\">\n",
       "      <th></th>\n",
       "      <th>AssessLand</th>\n",
       "      <th>BsmtCode</th>\n",
       "      <th>BuiltFAR</th>\n",
       "      <th>LandUse</th>\n",
       "      <th>LotType</th>\n",
       "      <th>NumBldgs</th>\n",
       "      <th>NumFloors</th>\n",
       "      <th>ProxCode</th>\n",
       "      <th>ResArea</th>\n",
       "      <th>UnitsRes</th>\n",
       "      <th>YearBuilt</th>\n",
       "      <th>AssessSqft</th>\n",
       "      <th>ownertype_updated</th>\n",
       "    </tr>\n",
       "  </thead>\n",
       "  <tbody>\n",
       "    <tr>\n",
       "      <th>0</th>\n",
       "      <td>8441</td>\n",
       "      <td>2</td>\n",
       "      <td>0</td>\n",
       "      <td>2</td>\n",
       "      <td>5</td>\n",
       "      <td>1</td>\n",
       "      <td>2</td>\n",
       "      <td>1</td>\n",
       "      <td>4710</td>\n",
       "      <td>3</td>\n",
       "      <td>1920</td>\n",
       "      <td>4</td>\n",
       "      <td>5</td>\n",
       "    </tr>\n",
       "    <tr>\n",
       "      <th>1</th>\n",
       "      <td>6480</td>\n",
       "      <td>2</td>\n",
       "      <td>0</td>\n",
       "      <td>1</td>\n",
       "      <td>5</td>\n",
       "      <td>1</td>\n",
       "      <td>2</td>\n",
       "      <td>1</td>\n",
       "      <td>2700</td>\n",
       "      <td>2</td>\n",
       "      <td>2003</td>\n",
       "      <td>8</td>\n",
       "      <td>5</td>\n",
       "    </tr>\n",
       "  </tbody>\n",
       "</table>\n",
       "</div>"
      ],
      "text/plain": [
       "   AssessLand  BsmtCode  BuiltFAR  LandUse  LotType  NumBldgs  NumFloors  \\\n",
       "0        8441         2         0        2        5         1          2   \n",
       "1        6480         2         0        1        5         1          2   \n",
       "\n",
       "   ProxCode  ResArea  UnitsRes  YearBuilt  AssessSqft  ownertype_updated  \n",
       "0         1     4710         3       1920           4                  5  \n",
       "1         1     2700         2       2003           8                  5  "
      ]
     },
     "execution_count": 42,
     "metadata": {},
     "output_type": "execute_result"
    }
   ],
   "source": [
    "x.head(2)"
   ]
  },
  {
   "cell_type": "code",
   "execution_count": 43,
   "metadata": {
    "collapsed": false
   },
   "outputs": [
    {
     "data": {
      "text/plain": [
       "0    0\n",
       "1    0\n",
       "Name: com_count, dtype: int64"
      ]
     },
     "execution_count": 43,
     "metadata": {},
     "output_type": "execute_result"
    }
   ],
   "source": [
    "y.head(2)"
   ]
  },
  {
   "cell_type": "code",
   "execution_count": 44,
   "metadata": {
    "collapsed": false
   },
   "outputs": [
    {
     "name": "stdout",
     "output_type": "stream",
     "text": [
      "[ 0.16579516  0.02143697  0.07397675  0.02694875  0.01668861  0.01438316\n",
      "  0.04555646  0.00948353  0.18293217  0.15315496  0.1307815   0.14745473\n",
      "  0.01140723]\n"
     ]
    }
   ],
   "source": [
    "model = ExtraTreesClassifier()\n",
    "model.fit(x, y)\n",
    "# display the relative importance of each attribute\n",
    "print(model.feature_importances_)"
   ]
  },
  {
   "cell_type": "code",
   "execution_count": 45,
   "metadata": {
    "collapsed": false
   },
   "outputs": [],
   "source": [
    "etc = pd.DataFrame()\n",
    "etc['feature_name'] = x.columns\n",
    "etc['etc_value'] = model.feature_importances_"
   ]
  },
  {
   "cell_type": "code",
   "execution_count": 46,
   "metadata": {
    "collapsed": false
   },
   "outputs": [
    {
     "data": {
      "text/html": [
       "<div>\n",
       "<table border=\"1\" class=\"dataframe\">\n",
       "  <thead>\n",
       "    <tr style=\"text-align: right;\">\n",
       "      <th></th>\n",
       "      <th>feature_name</th>\n",
       "      <th>etc_value</th>\n",
       "    </tr>\n",
       "  </thead>\n",
       "  <tbody>\n",
       "    <tr>\n",
       "      <th>8</th>\n",
       "      <td>ResArea</td>\n",
       "      <td>0.182932</td>\n",
       "    </tr>\n",
       "    <tr>\n",
       "      <th>0</th>\n",
       "      <td>AssessLand</td>\n",
       "      <td>0.165795</td>\n",
       "    </tr>\n",
       "    <tr>\n",
       "      <th>9</th>\n",
       "      <td>UnitsRes</td>\n",
       "      <td>0.153155</td>\n",
       "    </tr>\n",
       "    <tr>\n",
       "      <th>11</th>\n",
       "      <td>AssessSqft</td>\n",
       "      <td>0.147455</td>\n",
       "    </tr>\n",
       "    <tr>\n",
       "      <th>10</th>\n",
       "      <td>YearBuilt</td>\n",
       "      <td>0.130782</td>\n",
       "    </tr>\n",
       "    <tr>\n",
       "      <th>2</th>\n",
       "      <td>BuiltFAR</td>\n",
       "      <td>0.073977</td>\n",
       "    </tr>\n",
       "    <tr>\n",
       "      <th>6</th>\n",
       "      <td>NumFloors</td>\n",
       "      <td>0.045556</td>\n",
       "    </tr>\n",
       "    <tr>\n",
       "      <th>3</th>\n",
       "      <td>LandUse</td>\n",
       "      <td>0.026949</td>\n",
       "    </tr>\n",
       "    <tr>\n",
       "      <th>1</th>\n",
       "      <td>BsmtCode</td>\n",
       "      <td>0.021437</td>\n",
       "    </tr>\n",
       "    <tr>\n",
       "      <th>4</th>\n",
       "      <td>LotType</td>\n",
       "      <td>0.016689</td>\n",
       "    </tr>\n",
       "    <tr>\n",
       "      <th>5</th>\n",
       "      <td>NumBldgs</td>\n",
       "      <td>0.014383</td>\n",
       "    </tr>\n",
       "    <tr>\n",
       "      <th>12</th>\n",
       "      <td>ownertype_updated</td>\n",
       "      <td>0.011407</td>\n",
       "    </tr>\n",
       "    <tr>\n",
       "      <th>7</th>\n",
       "      <td>ProxCode</td>\n",
       "      <td>0.009484</td>\n",
       "    </tr>\n",
       "  </tbody>\n",
       "</table>\n",
       "</div>"
      ],
      "text/plain": [
       "         feature_name  etc_value\n",
       "8             ResArea   0.182932\n",
       "0          AssessLand   0.165795\n",
       "9            UnitsRes   0.153155\n",
       "11         AssessSqft   0.147455\n",
       "10          YearBuilt   0.130782\n",
       "2            BuiltFAR   0.073977\n",
       "6           NumFloors   0.045556\n",
       "3             LandUse   0.026949\n",
       "1            BsmtCode   0.021437\n",
       "4             LotType   0.016689\n",
       "5            NumBldgs   0.014383\n",
       "12  ownertype_updated   0.011407\n",
       "7            ProxCode   0.009484"
      ]
     },
     "execution_count": 46,
     "metadata": {},
     "output_type": "execute_result"
    }
   ],
   "source": [
    "etc = etc.sort_values('etc_value',ascending=False)\n",
    "etc"
   ]
  },
  {
   "cell_type": "code",
   "execution_count": 47,
   "metadata": {
    "collapsed": false
   },
   "outputs": [
    {
     "name": "stdout",
     "output_type": "stream",
     "text": [
      "[ 0.20377021  0.01408104  0.05406205  0.02912958  0.0126609   0.02107833\n",
      "  0.02483232  0.01181731  0.15416106  0.15372237  0.11745947  0.17594129\n",
      "  0.02728407]\n"
     ]
    }
   ],
   "source": [
    "model = ExtraTreesRegressor()\n",
    "model.fit(x, y)\n",
    "# display the relative importance of each attribute\n",
    "print(model.feature_importances_)"
   ]
  },
  {
   "cell_type": "code",
   "execution_count": 48,
   "metadata": {
    "collapsed": true
   },
   "outputs": [],
   "source": [
    "etr = pd.DataFrame()\n",
    "etr['feature_name'] = x.columns\n",
    "etr['etr_value'] = model.feature_importances_"
   ]
  },
  {
   "cell_type": "code",
   "execution_count": 49,
   "metadata": {
    "collapsed": false
   },
   "outputs": [
    {
     "data": {
      "text/html": [
       "<div>\n",
       "<table border=\"1\" class=\"dataframe\">\n",
       "  <thead>\n",
       "    <tr style=\"text-align: right;\">\n",
       "      <th></th>\n",
       "      <th>feature_name</th>\n",
       "      <th>etr_value</th>\n",
       "    </tr>\n",
       "  </thead>\n",
       "  <tbody>\n",
       "    <tr>\n",
       "      <th>0</th>\n",
       "      <td>AssessLand</td>\n",
       "      <td>0.203770</td>\n",
       "    </tr>\n",
       "    <tr>\n",
       "      <th>11</th>\n",
       "      <td>AssessSqft</td>\n",
       "      <td>0.175941</td>\n",
       "    </tr>\n",
       "    <tr>\n",
       "      <th>8</th>\n",
       "      <td>ResArea</td>\n",
       "      <td>0.154161</td>\n",
       "    </tr>\n",
       "    <tr>\n",
       "      <th>9</th>\n",
       "      <td>UnitsRes</td>\n",
       "      <td>0.153722</td>\n",
       "    </tr>\n",
       "    <tr>\n",
       "      <th>10</th>\n",
       "      <td>YearBuilt</td>\n",
       "      <td>0.117459</td>\n",
       "    </tr>\n",
       "    <tr>\n",
       "      <th>2</th>\n",
       "      <td>BuiltFAR</td>\n",
       "      <td>0.054062</td>\n",
       "    </tr>\n",
       "    <tr>\n",
       "      <th>3</th>\n",
       "      <td>LandUse</td>\n",
       "      <td>0.029130</td>\n",
       "    </tr>\n",
       "    <tr>\n",
       "      <th>12</th>\n",
       "      <td>ownertype_updated</td>\n",
       "      <td>0.027284</td>\n",
       "    </tr>\n",
       "    <tr>\n",
       "      <th>6</th>\n",
       "      <td>NumFloors</td>\n",
       "      <td>0.024832</td>\n",
       "    </tr>\n",
       "    <tr>\n",
       "      <th>5</th>\n",
       "      <td>NumBldgs</td>\n",
       "      <td>0.021078</td>\n",
       "    </tr>\n",
       "    <tr>\n",
       "      <th>1</th>\n",
       "      <td>BsmtCode</td>\n",
       "      <td>0.014081</td>\n",
       "    </tr>\n",
       "    <tr>\n",
       "      <th>4</th>\n",
       "      <td>LotType</td>\n",
       "      <td>0.012661</td>\n",
       "    </tr>\n",
       "    <tr>\n",
       "      <th>7</th>\n",
       "      <td>ProxCode</td>\n",
       "      <td>0.011817</td>\n",
       "    </tr>\n",
       "  </tbody>\n",
       "</table>\n",
       "</div>"
      ],
      "text/plain": [
       "         feature_name  etr_value\n",
       "0          AssessLand   0.203770\n",
       "11         AssessSqft   0.175941\n",
       "8             ResArea   0.154161\n",
       "9            UnitsRes   0.153722\n",
       "10          YearBuilt   0.117459\n",
       "2            BuiltFAR   0.054062\n",
       "3             LandUse   0.029130\n",
       "12  ownertype_updated   0.027284\n",
       "6           NumFloors   0.024832\n",
       "5            NumBldgs   0.021078\n",
       "1            BsmtCode   0.014081\n",
       "4             LotType   0.012661\n",
       "7            ProxCode   0.011817"
      ]
     },
     "execution_count": 49,
     "metadata": {},
     "output_type": "execute_result"
    }
   ],
   "source": [
    "etr = etr.sort_values('etr_value',ascending=False)\n",
    "etr"
   ]
  },
  {
   "cell_type": "code",
   "execution_count": 50,
   "metadata": {
    "collapsed": false
   },
   "outputs": [
    {
     "name": "stdout",
     "output_type": "stream",
     "text": [
      "[ 0.18218634  0.02568957  0.04974996  0.02573224  0.03041843  0.0117765\n",
      "  0.03297621  0.02235934  0.22120558  0.13426654  0.11636397  0.12210613\n",
      "  0.02516918]\n"
     ]
    }
   ],
   "source": [
    "model = RandomForestClassifier()\n",
    "model.fit(x, y)\n",
    "# display the relative importance of each attribute\n",
    "print(model.feature_importances_)"
   ]
  },
  {
   "cell_type": "code",
   "execution_count": 51,
   "metadata": {
    "collapsed": true
   },
   "outputs": [],
   "source": [
    "rfc = pd.DataFrame()\n",
    "rfc['feature_name'] = x.columns\n",
    "rfc['rfc_value'] = model.feature_importances_"
   ]
  },
  {
   "cell_type": "code",
   "execution_count": 52,
   "metadata": {
    "collapsed": false
   },
   "outputs": [
    {
     "data": {
      "text/html": [
       "<div>\n",
       "<table border=\"1\" class=\"dataframe\">\n",
       "  <thead>\n",
       "    <tr style=\"text-align: right;\">\n",
       "      <th></th>\n",
       "      <th>feature_name</th>\n",
       "      <th>rfc_value</th>\n",
       "    </tr>\n",
       "  </thead>\n",
       "  <tbody>\n",
       "    <tr>\n",
       "      <th>8</th>\n",
       "      <td>ResArea</td>\n",
       "      <td>0.221206</td>\n",
       "    </tr>\n",
       "    <tr>\n",
       "      <th>0</th>\n",
       "      <td>AssessLand</td>\n",
       "      <td>0.182186</td>\n",
       "    </tr>\n",
       "    <tr>\n",
       "      <th>9</th>\n",
       "      <td>UnitsRes</td>\n",
       "      <td>0.134267</td>\n",
       "    </tr>\n",
       "    <tr>\n",
       "      <th>11</th>\n",
       "      <td>AssessSqft</td>\n",
       "      <td>0.122106</td>\n",
       "    </tr>\n",
       "    <tr>\n",
       "      <th>10</th>\n",
       "      <td>YearBuilt</td>\n",
       "      <td>0.116364</td>\n",
       "    </tr>\n",
       "    <tr>\n",
       "      <th>2</th>\n",
       "      <td>BuiltFAR</td>\n",
       "      <td>0.049750</td>\n",
       "    </tr>\n",
       "    <tr>\n",
       "      <th>6</th>\n",
       "      <td>NumFloors</td>\n",
       "      <td>0.032976</td>\n",
       "    </tr>\n",
       "    <tr>\n",
       "      <th>4</th>\n",
       "      <td>LotType</td>\n",
       "      <td>0.030418</td>\n",
       "    </tr>\n",
       "    <tr>\n",
       "      <th>3</th>\n",
       "      <td>LandUse</td>\n",
       "      <td>0.025732</td>\n",
       "    </tr>\n",
       "    <tr>\n",
       "      <th>1</th>\n",
       "      <td>BsmtCode</td>\n",
       "      <td>0.025690</td>\n",
       "    </tr>\n",
       "    <tr>\n",
       "      <th>12</th>\n",
       "      <td>ownertype_updated</td>\n",
       "      <td>0.025169</td>\n",
       "    </tr>\n",
       "    <tr>\n",
       "      <th>7</th>\n",
       "      <td>ProxCode</td>\n",
       "      <td>0.022359</td>\n",
       "    </tr>\n",
       "    <tr>\n",
       "      <th>5</th>\n",
       "      <td>NumBldgs</td>\n",
       "      <td>0.011777</td>\n",
       "    </tr>\n",
       "  </tbody>\n",
       "</table>\n",
       "</div>"
      ],
      "text/plain": [
       "         feature_name  rfc_value\n",
       "8             ResArea   0.221206\n",
       "0          AssessLand   0.182186\n",
       "9            UnitsRes   0.134267\n",
       "11         AssessSqft   0.122106\n",
       "10          YearBuilt   0.116364\n",
       "2            BuiltFAR   0.049750\n",
       "6           NumFloors   0.032976\n",
       "4             LotType   0.030418\n",
       "3             LandUse   0.025732\n",
       "1            BsmtCode   0.025690\n",
       "12  ownertype_updated   0.025169\n",
       "7            ProxCode   0.022359\n",
       "5            NumBldgs   0.011777"
      ]
     },
     "execution_count": 52,
     "metadata": {},
     "output_type": "execute_result"
    }
   ],
   "source": [
    "rfc = rfc.sort_values('rfc_value',ascending=False)\n",
    "rfc"
   ]
  },
  {
   "cell_type": "code",
   "execution_count": 53,
   "metadata": {
    "collapsed": false
   },
   "outputs": [
    {
     "name": "stdout",
     "output_type": "stream",
     "text": [
      "[ 0.20276057  0.04383504  0.0313354   0.05101948  0.01968096  0.00379301\n",
      "  0.01260815  0.03489879  0.19821222  0.13076383  0.10852796  0.14626868\n",
      "  0.01629592]\n"
     ]
    }
   ],
   "source": [
    "model = RandomForestRegressor()\n",
    "model.fit(x, y)\n",
    "# display the relative importance of each attribute\n",
    "print(model.feature_importances_)"
   ]
  },
  {
   "cell_type": "code",
   "execution_count": 54,
   "metadata": {
    "collapsed": true
   },
   "outputs": [],
   "source": [
    "rfr = pd.DataFrame()\n",
    "rfr['feature_name'] = x.columns\n",
    "rfr['rfr_value'] = model.feature_importances_"
   ]
  },
  {
   "cell_type": "code",
   "execution_count": 55,
   "metadata": {
    "collapsed": false
   },
   "outputs": [
    {
     "data": {
      "text/html": [
       "<div>\n",
       "<table border=\"1\" class=\"dataframe\">\n",
       "  <thead>\n",
       "    <tr style=\"text-align: right;\">\n",
       "      <th></th>\n",
       "      <th>feature_name</th>\n",
       "      <th>rfr_value</th>\n",
       "    </tr>\n",
       "  </thead>\n",
       "  <tbody>\n",
       "    <tr>\n",
       "      <th>0</th>\n",
       "      <td>AssessLand</td>\n",
       "      <td>0.202761</td>\n",
       "    </tr>\n",
       "    <tr>\n",
       "      <th>8</th>\n",
       "      <td>ResArea</td>\n",
       "      <td>0.198212</td>\n",
       "    </tr>\n",
       "    <tr>\n",
       "      <th>11</th>\n",
       "      <td>AssessSqft</td>\n",
       "      <td>0.146269</td>\n",
       "    </tr>\n",
       "    <tr>\n",
       "      <th>9</th>\n",
       "      <td>UnitsRes</td>\n",
       "      <td>0.130764</td>\n",
       "    </tr>\n",
       "    <tr>\n",
       "      <th>10</th>\n",
       "      <td>YearBuilt</td>\n",
       "      <td>0.108528</td>\n",
       "    </tr>\n",
       "    <tr>\n",
       "      <th>3</th>\n",
       "      <td>LandUse</td>\n",
       "      <td>0.051019</td>\n",
       "    </tr>\n",
       "    <tr>\n",
       "      <th>1</th>\n",
       "      <td>BsmtCode</td>\n",
       "      <td>0.043835</td>\n",
       "    </tr>\n",
       "    <tr>\n",
       "      <th>7</th>\n",
       "      <td>ProxCode</td>\n",
       "      <td>0.034899</td>\n",
       "    </tr>\n",
       "    <tr>\n",
       "      <th>2</th>\n",
       "      <td>BuiltFAR</td>\n",
       "      <td>0.031335</td>\n",
       "    </tr>\n",
       "    <tr>\n",
       "      <th>4</th>\n",
       "      <td>LotType</td>\n",
       "      <td>0.019681</td>\n",
       "    </tr>\n",
       "    <tr>\n",
       "      <th>12</th>\n",
       "      <td>ownertype_updated</td>\n",
       "      <td>0.016296</td>\n",
       "    </tr>\n",
       "    <tr>\n",
       "      <th>6</th>\n",
       "      <td>NumFloors</td>\n",
       "      <td>0.012608</td>\n",
       "    </tr>\n",
       "    <tr>\n",
       "      <th>5</th>\n",
       "      <td>NumBldgs</td>\n",
       "      <td>0.003793</td>\n",
       "    </tr>\n",
       "  </tbody>\n",
       "</table>\n",
       "</div>"
      ],
      "text/plain": [
       "         feature_name  rfr_value\n",
       "0          AssessLand   0.202761\n",
       "8             ResArea   0.198212\n",
       "11         AssessSqft   0.146269\n",
       "9            UnitsRes   0.130764\n",
       "10          YearBuilt   0.108528\n",
       "3             LandUse   0.051019\n",
       "1            BsmtCode   0.043835\n",
       "7            ProxCode   0.034899\n",
       "2            BuiltFAR   0.031335\n",
       "4             LotType   0.019681\n",
       "12  ownertype_updated   0.016296\n",
       "6           NumFloors   0.012608\n",
       "5            NumBldgs   0.003793"
      ]
     },
     "execution_count": 55,
     "metadata": {},
     "output_type": "execute_result"
    }
   ],
   "source": [
    "rfr = rfr.sort_values('rfr_value',ascending=False)\n",
    "rfr"
   ]
  },
  {
   "cell_type": "code",
   "execution_count": 56,
   "metadata": {
    "collapsed": true
   },
   "outputs": [],
   "source": [
    "merged = pd.merge(etc, rfc, on='feature_name')"
   ]
  },
  {
   "cell_type": "code",
   "execution_count": 57,
   "metadata": {
    "collapsed": true
   },
   "outputs": [],
   "source": [
    "merged = pd.merge(merged, rfr, on='feature_name')"
   ]
  },
  {
   "cell_type": "code",
   "execution_count": 58,
   "metadata": {
    "collapsed": true
   },
   "outputs": [],
   "source": [
    "merged = pd.merge(merged, etr, on ='feature_name')"
   ]
  },
  {
   "cell_type": "code",
   "execution_count": 59,
   "metadata": {
    "collapsed": false
   },
   "outputs": [],
   "source": [
    "merged['avg'] = merged.mean(axis=1)"
   ]
  },
  {
   "cell_type": "code",
   "execution_count": 60,
   "metadata": {
    "collapsed": false
   },
   "outputs": [],
   "source": [
    "merged = merged.sort_values('avg', ascending=False)"
   ]
  },
  {
   "cell_type": "code",
   "execution_count": 61,
   "metadata": {
    "collapsed": false
   },
   "outputs": [
    {
     "data": {
      "text/html": [
       "<div>\n",
       "<table border=\"1\" class=\"dataframe\">\n",
       "  <thead>\n",
       "    <tr style=\"text-align: right;\">\n",
       "      <th></th>\n",
       "      <th>feature_name</th>\n",
       "      <th>etc_value</th>\n",
       "      <th>rfc_value</th>\n",
       "      <th>rfr_value</th>\n",
       "      <th>etr_value</th>\n",
       "      <th>avg</th>\n",
       "    </tr>\n",
       "  </thead>\n",
       "  <tbody>\n",
       "    <tr>\n",
       "      <th>0</th>\n",
       "      <td>ResArea</td>\n",
       "      <td>0.182932</td>\n",
       "      <td>0.221206</td>\n",
       "      <td>0.198212</td>\n",
       "      <td>0.154161</td>\n",
       "      <td>0.189128</td>\n",
       "    </tr>\n",
       "    <tr>\n",
       "      <th>1</th>\n",
       "      <td>AssessLand</td>\n",
       "      <td>0.165795</td>\n",
       "      <td>0.182186</td>\n",
       "      <td>0.202761</td>\n",
       "      <td>0.203770</td>\n",
       "      <td>0.188628</td>\n",
       "    </tr>\n",
       "    <tr>\n",
       "      <th>3</th>\n",
       "      <td>AssessSqft</td>\n",
       "      <td>0.147455</td>\n",
       "      <td>0.122106</td>\n",
       "      <td>0.146269</td>\n",
       "      <td>0.175941</td>\n",
       "      <td>0.147943</td>\n",
       "    </tr>\n",
       "    <tr>\n",
       "      <th>2</th>\n",
       "      <td>UnitsRes</td>\n",
       "      <td>0.153155</td>\n",
       "      <td>0.134267</td>\n",
       "      <td>0.130764</td>\n",
       "      <td>0.153722</td>\n",
       "      <td>0.142977</td>\n",
       "    </tr>\n",
       "    <tr>\n",
       "      <th>4</th>\n",
       "      <td>YearBuilt</td>\n",
       "      <td>0.130782</td>\n",
       "      <td>0.116364</td>\n",
       "      <td>0.108528</td>\n",
       "      <td>0.117459</td>\n",
       "      <td>0.118283</td>\n",
       "    </tr>\n",
       "    <tr>\n",
       "      <th>5</th>\n",
       "      <td>BuiltFAR</td>\n",
       "      <td>0.073977</td>\n",
       "      <td>0.049750</td>\n",
       "      <td>0.031335</td>\n",
       "      <td>0.054062</td>\n",
       "      <td>0.052281</td>\n",
       "    </tr>\n",
       "    <tr>\n",
       "      <th>7</th>\n",
       "      <td>LandUse</td>\n",
       "      <td>0.026949</td>\n",
       "      <td>0.025732</td>\n",
       "      <td>0.051019</td>\n",
       "      <td>0.029130</td>\n",
       "      <td>0.033208</td>\n",
       "    </tr>\n",
       "    <tr>\n",
       "      <th>6</th>\n",
       "      <td>NumFloors</td>\n",
       "      <td>0.045556</td>\n",
       "      <td>0.032976</td>\n",
       "      <td>0.012608</td>\n",
       "      <td>0.024832</td>\n",
       "      <td>0.028993</td>\n",
       "    </tr>\n",
       "    <tr>\n",
       "      <th>8</th>\n",
       "      <td>BsmtCode</td>\n",
       "      <td>0.021437</td>\n",
       "      <td>0.025690</td>\n",
       "      <td>0.043835</td>\n",
       "      <td>0.014081</td>\n",
       "      <td>0.026261</td>\n",
       "    </tr>\n",
       "    <tr>\n",
       "      <th>11</th>\n",
       "      <td>ownertype_updated</td>\n",
       "      <td>0.011407</td>\n",
       "      <td>0.025169</td>\n",
       "      <td>0.016296</td>\n",
       "      <td>0.027284</td>\n",
       "      <td>0.020039</td>\n",
       "    </tr>\n",
       "    <tr>\n",
       "      <th>9</th>\n",
       "      <td>LotType</td>\n",
       "      <td>0.016689</td>\n",
       "      <td>0.030418</td>\n",
       "      <td>0.019681</td>\n",
       "      <td>0.012661</td>\n",
       "      <td>0.019862</td>\n",
       "    </tr>\n",
       "    <tr>\n",
       "      <th>12</th>\n",
       "      <td>ProxCode</td>\n",
       "      <td>0.009484</td>\n",
       "      <td>0.022359</td>\n",
       "      <td>0.034899</td>\n",
       "      <td>0.011817</td>\n",
       "      <td>0.019640</td>\n",
       "    </tr>\n",
       "    <tr>\n",
       "      <th>10</th>\n",
       "      <td>NumBldgs</td>\n",
       "      <td>0.014383</td>\n",
       "      <td>0.011777</td>\n",
       "      <td>0.003793</td>\n",
       "      <td>0.021078</td>\n",
       "      <td>0.012758</td>\n",
       "    </tr>\n",
       "  </tbody>\n",
       "</table>\n",
       "</div>"
      ],
      "text/plain": [
       "         feature_name  etc_value  rfc_value  rfr_value  etr_value       avg\n",
       "0             ResArea   0.182932   0.221206   0.198212   0.154161  0.189128\n",
       "1          AssessLand   0.165795   0.182186   0.202761   0.203770  0.188628\n",
       "3          AssessSqft   0.147455   0.122106   0.146269   0.175941  0.147943\n",
       "2            UnitsRes   0.153155   0.134267   0.130764   0.153722  0.142977\n",
       "4           YearBuilt   0.130782   0.116364   0.108528   0.117459  0.118283\n",
       "5            BuiltFAR   0.073977   0.049750   0.031335   0.054062  0.052281\n",
       "7             LandUse   0.026949   0.025732   0.051019   0.029130  0.033208\n",
       "6           NumFloors   0.045556   0.032976   0.012608   0.024832  0.028993\n",
       "8            BsmtCode   0.021437   0.025690   0.043835   0.014081  0.026261\n",
       "11  ownertype_updated   0.011407   0.025169   0.016296   0.027284  0.020039\n",
       "9             LotType   0.016689   0.030418   0.019681   0.012661  0.019862\n",
       "12           ProxCode   0.009484   0.022359   0.034899   0.011817  0.019640\n",
       "10           NumBldgs   0.014383   0.011777   0.003793   0.021078  0.012758"
      ]
     },
     "execution_count": 61,
     "metadata": {},
     "output_type": "execute_result"
    }
   ],
   "source": [
    "merged"
   ]
  },
  {
   "cell_type": "code",
   "execution_count": 62,
   "metadata": {
    "collapsed": false
   },
   "outputs": [
    {
     "data": {
      "text/plain": [
       "array([ 0,  1,  7,  3, 17,  2,  5, 30, 20,  9,  4,  6, 12, 10,  8])"
      ]
     },
     "execution_count": 62,
     "metadata": {},
     "output_type": "execute_result"
    }
   ],
   "source": [
    "features['com_count'].unique()"
   ]
  },
  {
   "cell_type": "code",
   "execution_count": 63,
   "metadata": {
    "collapsed": true
   },
   "outputs": [],
   "source": [
    "test = pd.read_csv('../data_processed/mappluto_16_features_categorical')"
   ]
  },
  {
   "cell_type": "code",
   "execution_count": 64,
   "metadata": {
    "collapsed": false
   },
   "outputs": [
    {
     "data": {
      "text/html": [
       "<div>\n",
       "<table border=\"1\" class=\"dataframe\">\n",
       "  <thead>\n",
       "    <tr style=\"text-align: right;\">\n",
       "      <th></th>\n",
       "      <th>Unnamed: 0</th>\n",
       "      <th>AssessLand</th>\n",
       "      <th>BBL</th>\n",
       "      <th>BsmtCode</th>\n",
       "      <th>BuiltFAR</th>\n",
       "      <th>LandUse</th>\n",
       "      <th>LotType</th>\n",
       "      <th>NumBldgs</th>\n",
       "      <th>NumFloors</th>\n",
       "      <th>ProxCode</th>\n",
       "      <th>ResArea</th>\n",
       "      <th>UnitsRes</th>\n",
       "      <th>YearBuilt</th>\n",
       "      <th>bldgclass_updated</th>\n",
       "      <th>AssessSqft</th>\n",
       "      <th>com_count</th>\n",
       "      <th>ownertype_updated</th>\n",
       "    </tr>\n",
       "  </thead>\n",
       "  <tbody>\n",
       "    <tr>\n",
       "      <th>0</th>\n",
       "      <td>0</td>\n",
       "      <td>8441</td>\n",
       "      <td>5010310021</td>\n",
       "      <td>2</td>\n",
       "      <td>0</td>\n",
       "      <td>2</td>\n",
       "      <td>5</td>\n",
       "      <td>1</td>\n",
       "      <td>2</td>\n",
       "      <td>1</td>\n",
       "      <td>4710</td>\n",
       "      <td>3</td>\n",
       "      <td>1920</td>\n",
       "      <td>3</td>\n",
       "      <td>4</td>\n",
       "      <td>0</td>\n",
       "      <td>5</td>\n",
       "    </tr>\n",
       "    <tr>\n",
       "      <th>1</th>\n",
       "      <td>1</td>\n",
       "      <td>6480</td>\n",
       "      <td>5012460037</td>\n",
       "      <td>2</td>\n",
       "      <td>0</td>\n",
       "      <td>1</td>\n",
       "      <td>5</td>\n",
       "      <td>1</td>\n",
       "      <td>2</td>\n",
       "      <td>1</td>\n",
       "      <td>2700</td>\n",
       "      <td>2</td>\n",
       "      <td>2003</td>\n",
       "      <td>2</td>\n",
       "      <td>8</td>\n",
       "      <td>0</td>\n",
       "      <td>5</td>\n",
       "    </tr>\n",
       "  </tbody>\n",
       "</table>\n",
       "</div>"
      ],
      "text/plain": [
       "   Unnamed: 0  AssessLand         BBL  BsmtCode  BuiltFAR  LandUse  LotType  \\\n",
       "0           0        8441  5010310021         2         0        2        5   \n",
       "1           1        6480  5012460037         2         0        1        5   \n",
       "\n",
       "   NumBldgs  NumFloors  ProxCode  ResArea  UnitsRes  YearBuilt  \\\n",
       "0         1          2         1     4710         3       1920   \n",
       "1         1          2         1     2700         2       2003   \n",
       "\n",
       "   bldgclass_updated  AssessSqft  com_count  ownertype_updated  \n",
       "0                  3           4          0                  5  \n",
       "1                  2           8          0                  5  "
      ]
     },
     "execution_count": 64,
     "metadata": {},
     "output_type": "execute_result"
    }
   ],
   "source": [
    "test.head(2)"
   ]
  },
  {
   "cell_type": "markdown",
   "metadata": {},
   "source": [
    "### ridge, lasso, linear model feature significance"
   ]
  },
  {
   "cell_type": "code",
   "execution_count": 65,
   "metadata": {
    "collapsed": true
   },
   "outputs": [],
   "source": [
    "from sklearn.model_selection import train_test_split\n",
    "from sklearn.model_selection import GridSearchCV\n",
    "from sklearn import linear_model"
   ]
  },
  {
   "cell_type": "code",
   "execution_count": 66,
   "metadata": {
    "collapsed": false
   },
   "outputs": [
    {
     "data": {
      "text/html": [
       "<div>\n",
       "<table border=\"1\" class=\"dataframe\">\n",
       "  <thead>\n",
       "    <tr style=\"text-align: right;\">\n",
       "      <th></th>\n",
       "      <th>AssessLand</th>\n",
       "      <th>BsmtCode</th>\n",
       "      <th>BuiltFAR</th>\n",
       "      <th>LandUse</th>\n",
       "      <th>LotType</th>\n",
       "      <th>NumBldgs</th>\n",
       "      <th>NumFloors</th>\n",
       "      <th>ProxCode</th>\n",
       "      <th>ResArea</th>\n",
       "      <th>UnitsRes</th>\n",
       "      <th>YearBuilt</th>\n",
       "      <th>AssessSqft</th>\n",
       "      <th>ownertype_updated</th>\n",
       "    </tr>\n",
       "  </thead>\n",
       "  <tbody>\n",
       "    <tr>\n",
       "      <th>0</th>\n",
       "      <td>8441</td>\n",
       "      <td>2</td>\n",
       "      <td>0</td>\n",
       "      <td>2</td>\n",
       "      <td>5</td>\n",
       "      <td>1</td>\n",
       "      <td>2</td>\n",
       "      <td>1</td>\n",
       "      <td>4710</td>\n",
       "      <td>3</td>\n",
       "      <td>1920</td>\n",
       "      <td>4</td>\n",
       "      <td>5</td>\n",
       "    </tr>\n",
       "    <tr>\n",
       "      <th>1</th>\n",
       "      <td>6480</td>\n",
       "      <td>2</td>\n",
       "      <td>0</td>\n",
       "      <td>1</td>\n",
       "      <td>5</td>\n",
       "      <td>1</td>\n",
       "      <td>2</td>\n",
       "      <td>1</td>\n",
       "      <td>2700</td>\n",
       "      <td>2</td>\n",
       "      <td>2003</td>\n",
       "      <td>8</td>\n",
       "      <td>5</td>\n",
       "    </tr>\n",
       "  </tbody>\n",
       "</table>\n",
       "</div>"
      ],
      "text/plain": [
       "   AssessLand  BsmtCode  BuiltFAR  LandUse  LotType  NumBldgs  NumFloors  \\\n",
       "0        8441         2         0        2        5         1          2   \n",
       "1        6480         2         0        1        5         1          2   \n",
       "\n",
       "   ProxCode  ResArea  UnitsRes  YearBuilt  AssessSqft  ownertype_updated  \n",
       "0         1     4710         3       1920           4                  5  \n",
       "1         1     2700         2       2003           8                  5  "
      ]
     },
     "execution_count": 66,
     "metadata": {},
     "output_type": "execute_result"
    }
   ],
   "source": [
    "x.head(2)"
   ]
  },
  {
   "cell_type": "code",
   "execution_count": 67,
   "metadata": {
    "collapsed": false
   },
   "outputs": [
    {
     "data": {
      "text/plain": [
       "0    0\n",
       "1    0\n",
       "Name: com_count, dtype: int64"
      ]
     },
     "execution_count": 67,
     "metadata": {},
     "output_type": "execute_result"
    }
   ],
   "source": [
    "y.head(2)"
   ]
  },
  {
   "cell_type": "code",
   "execution_count": 78,
   "metadata": {
    "collapsed": false
   },
   "outputs": [
    {
     "name": "stdout",
     "output_type": "stream",
     "text": [
      "-0.00401690318169\n",
      "-0.018397206697\n",
      "-0.000458414050682\n"
     ]
    }
   ],
   "source": [
    "OS_linear=[]\n",
    "OS_ridge=[]\n",
    "OS_lasso=[]\n",
    "linear_coefs = []\n",
    "ri_coefs = []\n",
    "ls_coefs = []\n",
    "\n",
    "for i in range(20):\n",
    "    X_train, X_test, y_train, y_test = train_test_split(x,\n",
    "                            y, test_size = 0.3, random_state =i)\n",
    "    lm=linear_model.LinearRegression()\n",
    "    lm.fit(X_train,y_train)\n",
    "    linear_coefs.append(lm.coef_)\n",
    "    OS_linear.append(1-((lm.predict(X_test)-y_test)**2).mean()/y_test.var())\n",
    "    \n",
    "    ri=linear_model.Ridge(alpha=10E+5)\n",
    "    ri.fit(X_train,y_train)\n",
    "    ri_coefs.append(ri.coef_)\n",
    "    OS_ridge.append(1-((ri.predict(X_test)-y_test)**2).mean()/y_test.var())\n",
    "    \n",
    "    ls = linear_model.Lasso()\n",
    "    ls.fit(X_train,y_train)\n",
    "    ls_coefs.append(ls.coef_)\n",
    "    OS_lasso.append(1-((ls.predict(X_test)-y_test)**2).mean()/y_test.var())\n",
    "    \n",
    "print np.mean(OS_linear)\n",
    "print np.mean(OS_ridge)\n",
    "print np.mean(OS_lasso)\n",
    "variables = pd.DataFrame()\n",
    "variables['var_names'] = [elem for elem in x.columns]\n",
    "variables['linear'] = [elem for elem in np.mean(linear_coefs, axis=0)]\n",
    "variables['ridge'] = [elem for elem in np.mean(ri_coefs, axis=0)]\n",
    "variables['lasso'] = [elem for elem in np.mean(ls_coefs, axis=0)]"
   ]
  },
  {
   "cell_type": "markdown",
   "metadata": {},
   "source": [
    "### q for bo: should i remove the duplicative features and re-run the model? use assesssqft not assessland and use either unitsres or resarea?"
   ]
  },
  {
   "cell_type": "code",
   "execution_count": 79,
   "metadata": {
    "collapsed": false
   },
   "outputs": [
    {
     "data": {
      "text/html": [
       "<div>\n",
       "<table border=\"1\" class=\"dataframe\">\n",
       "  <thead>\n",
       "    <tr style=\"text-align: right;\">\n",
       "      <th></th>\n",
       "      <th>var_names</th>\n",
       "      <th>linear</th>\n",
       "      <th>ridge</th>\n",
       "      <th>lasso</th>\n",
       "    </tr>\n",
       "  </thead>\n",
       "  <tbody>\n",
       "    <tr>\n",
       "      <th>0</th>\n",
       "      <td>AssessLand</td>\n",
       "      <td>-9.436725e-09</td>\n",
       "      <td>-1.444642e-08</td>\n",
       "      <td>-9.732009e-09</td>\n",
       "    </tr>\n",
       "    <tr>\n",
       "      <th>1</th>\n",
       "      <td>BsmtCode</td>\n",
       "      <td>3.686186e-07</td>\n",
       "      <td>1.222519e-04</td>\n",
       "      <td>0.000000e+00</td>\n",
       "    </tr>\n",
       "    <tr>\n",
       "      <th>2</th>\n",
       "      <td>BuiltFAR</td>\n",
       "      <td>8.079497e-07</td>\n",
       "      <td>4.280871e-05</td>\n",
       "      <td>0.000000e+00</td>\n",
       "    </tr>\n",
       "    <tr>\n",
       "      <th>3</th>\n",
       "      <td>LandUse</td>\n",
       "      <td>4.829061e-07</td>\n",
       "      <td>5.958581e-05</td>\n",
       "      <td>0.000000e+00</td>\n",
       "    </tr>\n",
       "    <tr>\n",
       "      <th>4</th>\n",
       "      <td>LotType</td>\n",
       "      <td>-7.237246e-08</td>\n",
       "      <td>-9.705897e-05</td>\n",
       "      <td>0.000000e+00</td>\n",
       "    </tr>\n",
       "    <tr>\n",
       "      <th>5</th>\n",
       "      <td>NumBldgs</td>\n",
       "      <td>1.836778e-06</td>\n",
       "      <td>-2.431250e-05</td>\n",
       "      <td>0.000000e+00</td>\n",
       "    </tr>\n",
       "    <tr>\n",
       "      <th>6</th>\n",
       "      <td>NumFloors</td>\n",
       "      <td>3.601854e-07</td>\n",
       "      <td>2.217800e-04</td>\n",
       "      <td>0.000000e+00</td>\n",
       "    </tr>\n",
       "    <tr>\n",
       "      <th>7</th>\n",
       "      <td>ProxCode</td>\n",
       "      <td>-2.277639e-07</td>\n",
       "      <td>-1.223378e-04</td>\n",
       "      <td>0.000000e+00</td>\n",
       "    </tr>\n",
       "    <tr>\n",
       "      <th>8</th>\n",
       "      <td>ResArea</td>\n",
       "      <td>1.227576e-07</td>\n",
       "      <td>-6.576555e-07</td>\n",
       "      <td>8.012880e-08</td>\n",
       "    </tr>\n",
       "    <tr>\n",
       "      <th>9</th>\n",
       "      <td>UnitsRes</td>\n",
       "      <td>1.684636e-04</td>\n",
       "      <td>1.006575e-03</td>\n",
       "      <td>2.157827e-04</td>\n",
       "    </tr>\n",
       "    <tr>\n",
       "      <th>10</th>\n",
       "      <td>YearBuilt</td>\n",
       "      <td>6.357278e-07</td>\n",
       "      <td>-2.234712e-06</td>\n",
       "      <td>0.000000e+00</td>\n",
       "    </tr>\n",
       "    <tr>\n",
       "      <th>11</th>\n",
       "      <td>AssessSqft</td>\n",
       "      <td>1.701968e-21</td>\n",
       "      <td>8.551296e-21</td>\n",
       "      <td>1.802620e-21</td>\n",
       "    </tr>\n",
       "    <tr>\n",
       "      <th>12</th>\n",
       "      <td>ownertype_updated</td>\n",
       "      <td>-2.754589e-07</td>\n",
       "      <td>6.430107e-06</td>\n",
       "      <td>0.000000e+00</td>\n",
       "    </tr>\n",
       "  </tbody>\n",
       "</table>\n",
       "</div>"
      ],
      "text/plain": [
       "            var_names        linear         ridge         lasso\n",
       "0          AssessLand -9.436725e-09 -1.444642e-08 -9.732009e-09\n",
       "1            BsmtCode  3.686186e-07  1.222519e-04  0.000000e+00\n",
       "2            BuiltFAR  8.079497e-07  4.280871e-05  0.000000e+00\n",
       "3             LandUse  4.829061e-07  5.958581e-05  0.000000e+00\n",
       "4             LotType -7.237246e-08 -9.705897e-05  0.000000e+00\n",
       "5            NumBldgs  1.836778e-06 -2.431250e-05  0.000000e+00\n",
       "6           NumFloors  3.601854e-07  2.217800e-04  0.000000e+00\n",
       "7            ProxCode -2.277639e-07 -1.223378e-04  0.000000e+00\n",
       "8             ResArea  1.227576e-07 -6.576555e-07  8.012880e-08\n",
       "9            UnitsRes  1.684636e-04  1.006575e-03  2.157827e-04\n",
       "10          YearBuilt  6.357278e-07 -2.234712e-06  0.000000e+00\n",
       "11         AssessSqft  1.701968e-21  8.551296e-21  1.802620e-21\n",
       "12  ownertype_updated -2.754589e-07  6.430107e-06  0.000000e+00"
      ]
     },
     "execution_count": 79,
     "metadata": {},
     "output_type": "execute_result"
    }
   ],
   "source": [
    "variables"
   ]
  },
  {
   "cell_type": "markdown",
   "metadata": {},
   "source": [
    "### random forest regressor"
   ]
  },
  {
   "cell_type": "markdown",
   "metadata": {},
   "source": [
    "#### tuning forest parameters\n",
    "* max_features - the maximum number of features considered in an individual tree (auto/none)\n",
    "* n_estimators - # of trees (try different ones)\n",
    "* min_sample_leaf -  leaf is the end node of a decision tree and a smaller leaf makes the model more prone to capturing noise in train data (try different ones)\n",
    "* n_jobs - tells algorithm how many processors it can use\n",
    "* oob_score - this is a random forest cross validation method, which tags every observation used in different tress. And then it finds out a maximum vote score for every observation based on only trees which did not use this particular observation to train itself (TRUE)"
   ]
  },
  {
   "cell_type": "code",
   "execution_count": 80,
   "metadata": {
    "collapsed": false
   },
   "outputs": [
    {
     "name": "stdout",
     "output_type": "stream",
     "text": [
      "<class 'pandas.core.frame.DataFrame'>\n",
      "<class 'pandas.core.series.Series'>\n",
      "51779\n",
      "51779\n"
     ]
    }
   ],
   "source": [
    "print type(x)\n",
    "print type(y)\n",
    "print len(x)\n",
    "print len(y)"
   ]
  },
  {
   "cell_type": "code",
   "execution_count": 81,
   "metadata": {
    "collapsed": false
   },
   "outputs": [],
   "source": [
    "X_train, X_test, y_train, y_test = train_test_split(x, y, test_size=0.3)\n",
    "#X_train_1, X_vali, y_train_1, y_vali = train_test_split(X_train, y_train, test_size=0.3)"
   ]
  },
  {
   "cell_type": "code",
   "execution_count": 82,
   "metadata": {
    "collapsed": false
   },
   "outputs": [
    {
     "data": {
      "image/png": "[encoded data removed]",
      "text/plain": [
       "<matplotlib.figure.Figure at 0x116849290>"
      ]
     },
     "metadata": {},
     "output_type": "display_data"
    }
   ],
   "source": [
    "#http://blog.yhat.com/posts/comparing-random-forests-in-python-and-r.html\n",
    "rfr = RandomForestRegressor()\n",
    "rfr.fit(X_train,y_train)\n",
    "pred_test = rfr.predict(X_test)\n",
    "pred_train = rfr.predict(X_train)\n",
    "plt.figure(figsize(9,5))\n",
    "plt.scatter(y_test, pred_test, color='blue', label='test')\n",
    "plt.scatter(y_train, pred_train, color='green', label='train', alpha=.5)\n",
    "plt.xlabel('Actual Values of Y')\n",
    "plt.ylabel('Predicted Values of Y')\n",
    "plt.title(\"RandomForest Regression with scikit-learn\")\n",
    "plt.legend()\n",
    "plt.show()"
   ]
  },
  {
   "cell_type": "code",
   "execution_count": 83,
   "metadata": {
    "collapsed": true
   },
   "outputs": [],
   "source": [
    "rfr_df = pd.DataFrame()\n",
    "rfr_df['real_test'] = y_test\n",
    "rfr_df['predicted_test'] = pred_test\n",
    "rfr_df['error_test'] = (rfr_df['real_test'] - rfr_df['predicted_test'])**2"
   ]
  },
  {
   "cell_type": "code",
   "execution_count": 84,
   "metadata": {
    "collapsed": false
   },
   "outputs": [
    {
     "name": "stdout",
     "output_type": "stream",
     "text": [
      "mse of test: 0.0711110551251\n",
      "mse of train: 0.0175644119952\n"
     ]
    }
   ],
   "source": [
    "print 'mse of test: ' + str(sum(rfr_df['error_test'])/len(rfr_df))\n",
    "print 'mse of train: ' + str(sum(((y_train-pred_train)**2)/len(pred_train)))"
   ]
  },
  {
   "cell_type": "code",
   "execution_count": 85,
   "metadata": {
    "collapsed": false
   },
   "outputs": [
    {
     "name": "stdout",
     "output_type": "stream",
     "text": [
      "15534\n",
      "15534\n",
      "36245\n",
      "36245\n"
     ]
    }
   ],
   "source": [
    "print len(pred_test)\n",
    "print len(y_test)\n",
    "print len(y_train)\n",
    "print len(pred_train)"
   ]
  },
  {
   "cell_type": "code",
   "execution_count": 86,
   "metadata": {
    "collapsed": false
   },
   "outputs": [
    {
     "name": "stdout",
     "output_type": "stream",
     "text": [
      "93.4337582078\n"
     ]
    }
   ],
   "source": [
    "correct = 0\n",
    "array_act = np.array(y_test)\n",
    "array_pred = np.array(pred_test)\n",
    "for i in range(0,len(pred_test)):\n",
    "    if array_act[i] == array_pred[i]:\n",
    "        correct+=1\n",
    "print(correct/float(len(pred_test))*100)"
   ]
  }
 ],
 "metadata": {
  "kernelspec": {
   "display_name": "Python 2",
   "language": "python",
   "name": "python2"
  },
  "language_info": {
   "codemirror_mode": {
    "name": "ipython",
    "version": 2
   },
   "file_extension": ".py",
   "mimetype": "text/x-python",
   "name": "python",
   "nbconvert_exporter": "python",
   "pygments_lexer": "ipython2",
   "version": "2.7.12"
  }
 },
 "nbformat": 4,
 "nbformat_minor": 1
}
