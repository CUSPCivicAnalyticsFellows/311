{
 "cells": [
  {
   "cell_type": "code",
   "execution_count": 1,
   "metadata": {
    "collapsed": false
   },
   "outputs": [
    {
     "name": "stdout",
     "output_type": "stream",
     "text": [
      "Populating the interactive namespace from numpy and matplotlib\n"
     ]
    }
   ],
   "source": [
    "import pandas as pd\n",
    "import zipfile\n",
    "import geopandas as gpd\n",
    "%pylab inline"
   ]
  },
  {
   "cell_type": "code",
   "execution_count": 2,
   "metadata": {
    "collapsed": false
   },
   "outputs": [],
   "source": [
    "def pluto(mappluto):\n",
    "    z = zipfile.ZipFile(mappluto)\n",
    "    z.extractall('../data_initial/')\n",
    "    \n",
    "    boroughs = ['Staten_Island', 'Queens', 'Manhattan', 'Bronx', 'Brooklyn']\n",
    "    abreevs = ['SI', 'QN', 'MN', 'BX', 'BK']\n",
    "\n",
    "    pluto = []\n",
    "    i = 0\n",
    "    for elem in boroughs:\n",
    "        temp = gpd.read_file('../data_initial/'+elem+'/'+abreevs[i]+'MapPLUTO.shp')\n",
    "        temp['BBL'] = temp['BBL'].astype(str)\n",
    "        #temp = temp.to_crs({'init':'epsg:4326'})\n",
    "        pluto.append(temp)\n",
    "        i+=1  \n",
    "\n",
    "    global pluto_updated\n",
    "    pluto_updated = pd.concat(pluto)\n",
    "\n",
    "    return pluto_updated.head()"
   ]
  },
  {
   "cell_type": "code",
   "execution_count": 3,
   "metadata": {
    "collapsed": false
   },
   "outputs": [
    {
     "data": {
      "text/html": [
       "<div>\n",
       "<table border=\"1\" class=\"dataframe\">\n",
       "  <thead>\n",
       "    <tr style=\"text-align: right;\">\n",
       "      <th></th>\n",
       "      <th>APPBBL</th>\n",
       "      <th>APPDate</th>\n",
       "      <th>Address</th>\n",
       "      <th>AllZoning1</th>\n",
       "      <th>AllZoning2</th>\n",
       "      <th>AreaSource</th>\n",
       "      <th>AssessLand</th>\n",
       "      <th>AssessTot</th>\n",
       "      <th>BBL</th>\n",
       "      <th>BldgArea</th>\n",
       "      <th>...</th>\n",
       "      <th>YearAlter2</th>\n",
       "      <th>YearBuilt</th>\n",
       "      <th>ZMCode</th>\n",
       "      <th>ZipCode</th>\n",
       "      <th>ZoneDist1</th>\n",
       "      <th>ZoneDist2</th>\n",
       "      <th>ZoneDist3</th>\n",
       "      <th>ZoneDist4</th>\n",
       "      <th>ZoneMap</th>\n",
       "      <th>geometry</th>\n",
       "    </tr>\n",
       "  </thead>\n",
       "  <tbody>\n",
       "    <tr>\n",
       "      <th>0</th>\n",
       "      <td>0.0</td>\n",
       "      <td>None</td>\n",
       "      <td>437 PURDY AVENUE</td>\n",
       "      <td>R3-1</td>\n",
       "      <td>None</td>\n",
       "      <td>7</td>\n",
       "      <td>15120.0</td>\n",
       "      <td>23400.0</td>\n",
       "      <td>5007470028.0</td>\n",
       "      <td>1488</td>\n",
       "      <td>...</td>\n",
       "      <td>0</td>\n",
       "      <td>1960</td>\n",
       "      <td>None</td>\n",
       "      <td>10314</td>\n",
       "      <td>R3-1</td>\n",
       "      <td>None</td>\n",
       "      <td>None</td>\n",
       "      <td>None</td>\n",
       "      <td>20d</td>\n",
       "      <td>POLYGON ((944681.4200000018 161477.381400004, ...</td>\n",
       "    </tr>\n",
       "    <tr>\n",
       "      <th>1</th>\n",
       "      <td>0.0</td>\n",
       "      <td>None</td>\n",
       "      <td>CUNARD AVENUE</td>\n",
       "      <td>R3A/HS</td>\n",
       "      <td>None</td>\n",
       "      <td>4</td>\n",
       "      <td>21518.0</td>\n",
       "      <td>21518.0</td>\n",
       "      <td>5006230252.0</td>\n",
       "      <td>0</td>\n",
       "      <td>...</td>\n",
       "      <td>0</td>\n",
       "      <td>0</td>\n",
       "      <td>None</td>\n",
       "      <td>10304</td>\n",
       "      <td>R3A</td>\n",
       "      <td>None</td>\n",
       "      <td>None</td>\n",
       "      <td>None</td>\n",
       "      <td>21d</td>\n",
       "      <td>POLYGON ((959872.0577999949 162992.5866000056,...</td>\n",
       "    </tr>\n",
       "    <tr>\n",
       "      <th>2</th>\n",
       "      <td>0.0</td>\n",
       "      <td>None</td>\n",
       "      <td>121 MOUNTAINVIEW AVENUE</td>\n",
       "      <td>R3-1</td>\n",
       "      <td>None</td>\n",
       "      <td>7</td>\n",
       "      <td>13561.0</td>\n",
       "      <td>22602.0</td>\n",
       "      <td>5007130017.0</td>\n",
       "      <td>1316</td>\n",
       "      <td>...</td>\n",
       "      <td>0</td>\n",
       "      <td>1920</td>\n",
       "      <td>None</td>\n",
       "      <td>10314</td>\n",
       "      <td>R3-1</td>\n",
       "      <td>None</td>\n",
       "      <td>None</td>\n",
       "      <td>None</td>\n",
       "      <td>21b</td>\n",
       "      <td>POLYGON ((949278.1987999976 161346.9971999973,...</td>\n",
       "    </tr>\n",
       "    <tr>\n",
       "      <th>3</th>\n",
       "      <td>0.0</td>\n",
       "      <td>None</td>\n",
       "      <td>26 FANNING STREET</td>\n",
       "      <td>R3X</td>\n",
       "      <td>None</td>\n",
       "      <td>7</td>\n",
       "      <td>9720.0</td>\n",
       "      <td>28740.0</td>\n",
       "      <td>5007140091.0</td>\n",
       "      <td>2188</td>\n",
       "      <td>...</td>\n",
       "      <td>0</td>\n",
       "      <td>1975</td>\n",
       "      <td>None</td>\n",
       "      <td>10314</td>\n",
       "      <td>R3X</td>\n",
       "      <td>None</td>\n",
       "      <td>None</td>\n",
       "      <td>None</td>\n",
       "      <td>21b</td>\n",
       "      <td>POLYGON ((950061.0491999984 160815.3023999929,...</td>\n",
       "    </tr>\n",
       "    <tr>\n",
       "      <th>4</th>\n",
       "      <td>0.0</td>\n",
       "      <td>None</td>\n",
       "      <td>335 SIMONSON AVENUE</td>\n",
       "      <td>R3A</td>\n",
       "      <td>None</td>\n",
       "      <td>7</td>\n",
       "      <td>7617.0</td>\n",
       "      <td>22118.0</td>\n",
       "      <td>5011840039.0</td>\n",
       "      <td>2392</td>\n",
       "      <td>...</td>\n",
       "      <td>0</td>\n",
       "      <td>1965</td>\n",
       "      <td>None</td>\n",
       "      <td>10303</td>\n",
       "      <td>R3A</td>\n",
       "      <td>None</td>\n",
       "      <td>None</td>\n",
       "      <td>None</td>\n",
       "      <td>20c</td>\n",
       "      <td>POLYGON ((941981.4906000048 168120.2173999995,...</td>\n",
       "    </tr>\n",
       "  </tbody>\n",
       "</table>\n",
       "<p>5 rows × 87 columns</p>\n",
       "</div>"
      ],
      "text/plain": [
       "   APPBBL APPDate                  Address AllZoning1 AllZoning2 AreaSource  \\\n",
       "0     0.0    None         437 PURDY AVENUE       R3-1       None          7   \n",
       "1     0.0    None            CUNARD AVENUE     R3A/HS       None          4   \n",
       "2     0.0    None  121 MOUNTAINVIEW AVENUE       R3-1       None          7   \n",
       "3     0.0    None        26 FANNING STREET        R3X       None          7   \n",
       "4     0.0    None      335 SIMONSON AVENUE        R3A       None          7   \n",
       "\n",
       "   AssessLand  AssessTot           BBL  BldgArea  \\\n",
       "0     15120.0    23400.0  5007470028.0      1488   \n",
       "1     21518.0    21518.0  5006230252.0         0   \n",
       "2     13561.0    22602.0  5007130017.0      1316   \n",
       "3      9720.0    28740.0  5007140091.0      2188   \n",
       "4      7617.0    22118.0  5011840039.0      2392   \n",
       "\n",
       "                         ...                         YearAlter2  YearBuilt  \\\n",
       "0                        ...                                  0       1960   \n",
       "1                        ...                                  0          0   \n",
       "2                        ...                                  0       1920   \n",
       "3                        ...                                  0       1975   \n",
       "4                        ...                                  0       1965   \n",
       "\n",
       "   ZMCode  ZipCode  ZoneDist1 ZoneDist2 ZoneDist3 ZoneDist4  ZoneMap  \\\n",
       "0    None    10314       R3-1      None      None      None      20d   \n",
       "1    None    10304        R3A      None      None      None      21d   \n",
       "2    None    10314       R3-1      None      None      None      21b   \n",
       "3    None    10314        R3X      None      None      None      21b   \n",
       "4    None    10303        R3A      None      None      None      20c   \n",
       "\n",
       "                                            geometry  \n",
       "0  POLYGON ((944681.4200000018 161477.381400004, ...  \n",
       "1  POLYGON ((959872.0577999949 162992.5866000056,...  \n",
       "2  POLYGON ((949278.1987999976 161346.9971999973,...  \n",
       "3  POLYGON ((950061.0491999984 160815.3023999929,...  \n",
       "4  POLYGON ((941981.4906000048 168120.2173999995,...  \n",
       "\n",
       "[5 rows x 87 columns]"
      ]
     },
     "execution_count": 3,
     "metadata": {},
     "output_type": "execute_result"
    }
   ],
   "source": [
    "pluto('../data_initial/mappluto_16v2.zip')"
   ]
  },
  {
   "cell_type": "code",
   "execution_count": 2,
   "metadata": {
    "collapsed": false
   },
   "outputs": [
    {
     "ename": "NameError",
     "evalue": "name 'pluto_updated' is not defined",
     "output_type": "error",
     "traceback": [
      "\u001b[0;31m---------------------------------------------------------------------------\u001b[0m",
      "\u001b[0;31mNameError\u001b[0m                                 Traceback (most recent call last)",
      "\u001b[0;32m<ipython-input-2-b71f0dd70be3>\u001b[0m in \u001b[0;36m<module>\u001b[0;34m()\u001b[0m\n\u001b[0;32m----> 1\u001b[0;31m \u001b[0mpluto_updated\u001b[0m\u001b[0;34m.\u001b[0m\u001b[0mto_csv\u001b[0m\u001b[0;34m(\u001b[0m\u001b[0;34m'../data_processed/pluto_16'\u001b[0m\u001b[0;34m)\u001b[0m\u001b[0;34m\u001b[0m\u001b[0m\n\u001b[0m",
      "\u001b[0;31mNameError\u001b[0m: name 'pluto_updated' is not defined"
     ]
    }
   ],
   "source": [
    "pluto_updated.to_csv('../data_processed/pluto_16')"
   ]
  },
  {
   "cell_type": "markdown",
   "metadata": {},
   "source": [
    "### there are no 'ownernames' with 'nyc housing authority' or 'nyc housing' so using ownertype instead"
   ]
  },
  {
   "cell_type": "code",
   "execution_count": 27,
   "metadata": {
    "collapsed": false
   },
   "outputs": [],
   "source": [
    "pluto_updated = pd.read_csv('../data_processed/pluto_16')"
   ]
  },
  {
   "cell_type": "code",
   "execution_count": 28,
   "metadata": {
    "collapsed": false
   },
   "outputs": [],
   "source": [
    "pluto_updated = pluto_updated.drop('Unnamed: 0',axis=1)"
   ]
  },
  {
   "cell_type": "code",
   "execution_count": 29,
   "metadata": {
    "collapsed": false
   },
   "outputs": [
    {
     "data": {
      "text/html": [
       "<div>\n",
       "<table border=\"1\" class=\"dataframe\">\n",
       "  <thead>\n",
       "    <tr style=\"text-align: right;\">\n",
       "      <th></th>\n",
       "      <th>APPBBL</th>\n",
       "      <th>APPDate</th>\n",
       "      <th>Address</th>\n",
       "      <th>AllZoning1</th>\n",
       "      <th>AllZoning2</th>\n",
       "      <th>AreaSource</th>\n",
       "      <th>AssessLand</th>\n",
       "      <th>AssessTot</th>\n",
       "      <th>BBL</th>\n",
       "      <th>BldgArea</th>\n",
       "      <th>...</th>\n",
       "      <th>YearAlter2</th>\n",
       "      <th>YearBuilt</th>\n",
       "      <th>ZMCode</th>\n",
       "      <th>ZipCode</th>\n",
       "      <th>ZoneDist1</th>\n",
       "      <th>ZoneDist2</th>\n",
       "      <th>ZoneDist3</th>\n",
       "      <th>ZoneDist4</th>\n",
       "      <th>ZoneMap</th>\n",
       "      <th>geometry</th>\n",
       "    </tr>\n",
       "  </thead>\n",
       "  <tbody>\n",
       "    <tr>\n",
       "      <th>0</th>\n",
       "      <td>0.0</td>\n",
       "      <td>NaN</td>\n",
       "      <td>437 PURDY AVENUE</td>\n",
       "      <td>R3-1</td>\n",
       "      <td>NaN</td>\n",
       "      <td>7</td>\n",
       "      <td>15120.0</td>\n",
       "      <td>23400.0</td>\n",
       "      <td>5.007470e+09</td>\n",
       "      <td>1488</td>\n",
       "      <td>...</td>\n",
       "      <td>0</td>\n",
       "      <td>1960</td>\n",
       "      <td>NaN</td>\n",
       "      <td>10314</td>\n",
       "      <td>R3-1</td>\n",
       "      <td>NaN</td>\n",
       "      <td>NaN</td>\n",
       "      <td>NaN</td>\n",
       "      <td>20d</td>\n",
       "      <td>POLYGON ((944681.4200000018 161477.381400004, ...</td>\n",
       "    </tr>\n",
       "    <tr>\n",
       "      <th>1</th>\n",
       "      <td>0.0</td>\n",
       "      <td>NaN</td>\n",
       "      <td>CUNARD AVENUE</td>\n",
       "      <td>R3A/HS</td>\n",
       "      <td>NaN</td>\n",
       "      <td>4</td>\n",
       "      <td>21518.0</td>\n",
       "      <td>21518.0</td>\n",
       "      <td>5.006230e+09</td>\n",
       "      <td>0</td>\n",
       "      <td>...</td>\n",
       "      <td>0</td>\n",
       "      <td>0</td>\n",
       "      <td>NaN</td>\n",
       "      <td>10304</td>\n",
       "      <td>R3A</td>\n",
       "      <td>NaN</td>\n",
       "      <td>NaN</td>\n",
       "      <td>NaN</td>\n",
       "      <td>21d</td>\n",
       "      <td>POLYGON ((959872.0577999949 162992.5866000056,...</td>\n",
       "    </tr>\n",
       "  </tbody>\n",
       "</table>\n",
       "<p>2 rows × 87 columns</p>\n",
       "</div>"
      ],
      "text/plain": [
       "   APPBBL APPDate           Address AllZoning1 AllZoning2  AreaSource  \\\n",
       "0     0.0     NaN  437 PURDY AVENUE       R3-1        NaN           7   \n",
       "1     0.0     NaN     CUNARD AVENUE     R3A/HS        NaN           4   \n",
       "\n",
       "   AssessLand  AssessTot           BBL  BldgArea  \\\n",
       "0     15120.0    23400.0  5.007470e+09      1488   \n",
       "1     21518.0    21518.0  5.006230e+09         0   \n",
       "\n",
       "                         ...                         YearAlter2  YearBuilt  \\\n",
       "0                        ...                                  0       1960   \n",
       "1                        ...                                  0          0   \n",
       "\n",
       "   ZMCode  ZipCode  ZoneDist1 ZoneDist2  ZoneDist3 ZoneDist4  ZoneMap  \\\n",
       "0     NaN    10314       R3-1       NaN        NaN       NaN      20d   \n",
       "1     NaN    10304        R3A       NaN        NaN       NaN      21d   \n",
       "\n",
       "                                            geometry  \n",
       "0  POLYGON ((944681.4200000018 161477.381400004, ...  \n",
       "1  POLYGON ((959872.0577999949 162992.5866000056,...  \n",
       "\n",
       "[2 rows x 87 columns]"
      ]
     },
     "execution_count": 29,
     "metadata": {},
     "output_type": "execute_result"
    }
   ],
   "source": [
    "pluto_updated.head(2)"
   ]
  },
  {
   "cell_type": "code",
   "execution_count": 30,
   "metadata": {
    "collapsed": false
   },
   "outputs": [],
   "source": [
    "t1 = pluto_updated[pluto_updated['UnitsRes'] != 0]\n",
    "#t1 = t1[(t1['OwnerName'] != 'NYC HOUSING AUTHORITY') & (t1['OwnerName'] != 'NYC HOUSING')]"
   ]
  },
  {
   "cell_type": "markdown",
   "metadata": {},
   "source": [
    "### create categorical variables from building class feature"
   ]
  },
  {
   "cell_type": "code",
   "execution_count": 31,
   "metadata": {
    "collapsed": true
   },
   "outputs": [],
   "source": [
    "var = []\n",
    "i=0\n",
    "for elem in t1['BldgClass']:\n",
    "    if elem[i][0] == 'A':\n",
    "        var.append(1)\n",
    "    elif elem[i][0] == 'B':\n",
    "        var.append(2)\n",
    "    elif elem[i][0] == 'C':\n",
    "        var.append(3)\n",
    "    elif elem[i][0] == 'S':\n",
    "        var.append(3)\n",
    "    elif elem[i][0] == 'D':\n",
    "        var.append(4)\n",
    "    elif elem[i] == 'O8':\n",
    "        var.append(4)\n",
    "    elif elem[i][0] == 'L':\n",
    "        var.append(6)\n",
    "    elif elem[i][0] == 'R':\n",
    "        var.append(5)\n",
    "    else:\n",
    "        var.append(0)"
   ]
  },
  {
   "cell_type": "code",
   "execution_count": 32,
   "metadata": {
    "collapsed": false
   },
   "outputs": [
    {
     "name": "stderr",
     "output_type": "stream",
     "text": [
      "/anaconda/lib/python2.7/site-packages/ipykernel/__main__.py:1: SettingWithCopyWarning: \n",
      "A value is trying to be set on a copy of a slice from a DataFrame.\n",
      "Try using .loc[row_indexer,col_indexer] = value instead\n",
      "\n",
      "See the caveats in the documentation: http://pandas.pydata.org/pandas-docs/stable/indexing.html#indexing-view-versus-copy\n",
      "  if __name__ == '__main__':\n"
     ]
    }
   ],
   "source": [
    "t1['bldgclass_updated'] = var"
   ]
  },
  {
   "cell_type": "code",
   "execution_count": 33,
   "metadata": {
    "collapsed": false
   },
   "outputs": [
    {
     "data": {
      "text/html": [
       "<div>\n",
       "<table border=\"1\" class=\"dataframe\">\n",
       "  <thead>\n",
       "    <tr style=\"text-align: right;\">\n",
       "      <th></th>\n",
       "      <th>APPBBL</th>\n",
       "      <th>APPDate</th>\n",
       "      <th>Address</th>\n",
       "      <th>AllZoning1</th>\n",
       "      <th>AllZoning2</th>\n",
       "      <th>AreaSource</th>\n",
       "      <th>AssessLand</th>\n",
       "      <th>AssessTot</th>\n",
       "      <th>BBL</th>\n",
       "      <th>BldgArea</th>\n",
       "      <th>...</th>\n",
       "      <th>YearBuilt</th>\n",
       "      <th>ZMCode</th>\n",
       "      <th>ZipCode</th>\n",
       "      <th>ZoneDist1</th>\n",
       "      <th>ZoneDist2</th>\n",
       "      <th>ZoneDist3</th>\n",
       "      <th>ZoneDist4</th>\n",
       "      <th>ZoneMap</th>\n",
       "      <th>geometry</th>\n",
       "      <th>bldgclass_updated</th>\n",
       "    </tr>\n",
       "  </thead>\n",
       "  <tbody>\n",
       "    <tr>\n",
       "      <th>0</th>\n",
       "      <td>0.0</td>\n",
       "      <td>NaN</td>\n",
       "      <td>437 PURDY AVENUE</td>\n",
       "      <td>R3-1</td>\n",
       "      <td>NaN</td>\n",
       "      <td>7</td>\n",
       "      <td>15120.0</td>\n",
       "      <td>23400.0</td>\n",
       "      <td>5.007470e+09</td>\n",
       "      <td>1488</td>\n",
       "      <td>...</td>\n",
       "      <td>1960</td>\n",
       "      <td>NaN</td>\n",
       "      <td>10314</td>\n",
       "      <td>R3-1</td>\n",
       "      <td>NaN</td>\n",
       "      <td>NaN</td>\n",
       "      <td>NaN</td>\n",
       "      <td>20d</td>\n",
       "      <td>POLYGON ((944681.4200000018 161477.381400004, ...</td>\n",
       "      <td>2</td>\n",
       "    </tr>\n",
       "    <tr>\n",
       "      <th>2</th>\n",
       "      <td>0.0</td>\n",
       "      <td>NaN</td>\n",
       "      <td>121 MOUNTAINVIEW AVENUE</td>\n",
       "      <td>R3-1</td>\n",
       "      <td>NaN</td>\n",
       "      <td>7</td>\n",
       "      <td>13561.0</td>\n",
       "      <td>22602.0</td>\n",
       "      <td>5.007130e+09</td>\n",
       "      <td>1316</td>\n",
       "      <td>...</td>\n",
       "      <td>1920</td>\n",
       "      <td>NaN</td>\n",
       "      <td>10314</td>\n",
       "      <td>R3-1</td>\n",
       "      <td>NaN</td>\n",
       "      <td>NaN</td>\n",
       "      <td>NaN</td>\n",
       "      <td>21b</td>\n",
       "      <td>POLYGON ((949278.1987999976 161346.9971999973,...</td>\n",
       "      <td>1</td>\n",
       "    </tr>\n",
       "  </tbody>\n",
       "</table>\n",
       "<p>2 rows × 88 columns</p>\n",
       "</div>"
      ],
      "text/plain": [
       "   APPBBL APPDate                  Address AllZoning1 AllZoning2  AreaSource  \\\n",
       "0     0.0     NaN         437 PURDY AVENUE       R3-1        NaN           7   \n",
       "2     0.0     NaN  121 MOUNTAINVIEW AVENUE       R3-1        NaN           7   \n",
       "\n",
       "   AssessLand  AssessTot           BBL  BldgArea        ...         YearBuilt  \\\n",
       "0     15120.0    23400.0  5.007470e+09      1488        ...              1960   \n",
       "2     13561.0    22602.0  5.007130e+09      1316        ...              1920   \n",
       "\n",
       "   ZMCode  ZipCode  ZoneDist1  ZoneDist2 ZoneDist3  ZoneDist4 ZoneMap  \\\n",
       "0     NaN    10314       R3-1        NaN       NaN        NaN     20d   \n",
       "2     NaN    10314       R3-1        NaN       NaN        NaN     21b   \n",
       "\n",
       "                                            geometry  bldgclass_updated  \n",
       "0  POLYGON ((944681.4200000018 161477.381400004, ...                  2  \n",
       "2  POLYGON ((949278.1987999976 161346.9971999973,...                  1  \n",
       "\n",
       "[2 rows x 88 columns]"
      ]
     },
     "execution_count": 33,
     "metadata": {},
     "output_type": "execute_result"
    }
   ],
   "source": [
    "t1.head(2)"
   ]
  },
  {
   "cell_type": "code",
   "execution_count": 34,
   "metadata": {
    "collapsed": false
   },
   "outputs": [
    {
     "data": {
      "text/plain": [
       "759588"
      ]
     },
     "execution_count": 34,
     "metadata": {},
     "output_type": "execute_result"
    }
   ],
   "source": [
    "len(t1)"
   ]
  },
  {
   "cell_type": "code",
   "execution_count": 35,
   "metadata": {
    "collapsed": true
   },
   "outputs": [],
   "source": [
    "t2 = pluto_updated[pluto_updated['ResArea'] != 0]\n",
    "#t2 = t2[(t2['OwnerType'] != 'O') & (t2['OwnerType'] != 'C')]"
   ]
  },
  {
   "cell_type": "code",
   "execution_count": 36,
   "metadata": {
    "collapsed": false
   },
   "outputs": [
    {
     "data": {
      "text/plain": [
       "758493"
      ]
     },
     "execution_count": 36,
     "metadata": {},
     "output_type": "execute_result"
    }
   ],
   "source": [
    "len(t2)"
   ]
  },
  {
   "cell_type": "markdown",
   "metadata": {},
   "source": [
    "### selecting to use 'unitsres' as the value for not equalling zero because there are more rows included"
   ]
  },
  {
   "cell_type": "code",
   "execution_count": 37,
   "metadata": {
    "collapsed": false
   },
   "outputs": [
    {
     "data": {
      "text/plain": [
       "Index([u'APPBBL', u'APPDate', u'Address', u'AllZoning1', u'AllZoning2',\n",
       "       u'AreaSource', u'AssessLand', u'AssessTot', u'BBL', u'BldgArea',\n",
       "       u'BldgClass', u'BldgDepth', u'BldgFront', u'Block', u'BoroCode',\n",
       "       u'Borough', u'BsmtCode', u'BuiltCode', u'BuiltFAR', u'CB2010', u'CD',\n",
       "       u'CT2010', u'ComArea', u'CommFAR', u'CondoNo', u'Council', u'EDesigNum',\n",
       "       u'Easements', u'ExemptLand', u'ExemptTot', u'Ext', u'FacilFAR',\n",
       "       u'FactryArea', u'FireComp', u'GarageArea', u'HealthArea', u'HistDist',\n",
       "       u'IrrLotCode', u'LandUse', u'Landmark', u'Lot', u'LotArea', u'LotDepth',\n",
       "       u'LotFront', u'LotType', u'LtdHeight', u'MAPPLUTO_F', u'NumBldgs',\n",
       "       u'NumFloors', u'OfficeArea', u'OtherArea', u'Overlay1', u'Overlay2',\n",
       "       u'OwnerName', u'OwnerType', u'PLUTOMapID', u'PolicePrct', u'ProxCode',\n",
       "       u'ResArea', u'ResidFAR', u'RetailArea', u'SHAPE_Area', u'SHAPE_Leng',\n",
       "       u'SPDist1', u'SPDist2', u'Sanborn', u'SchoolDist', u'SplitZone',\n",
       "       u'StrgeArea', u'TaxMap', u'Tract2010', u'UnitsRes', u'UnitsTotal',\n",
       "       u'Version', u'XCoord', u'YCoord', u'YearAlter1', u'YearAlter2',\n",
       "       u'YearBuilt', u'ZMCode', u'ZipCode', u'ZoneDist1', u'ZoneDist2',\n",
       "       u'ZoneDist3', u'ZoneDist4', u'ZoneMap', u'geometry',\n",
       "       u'bldgclass_updated'],\n",
       "      dtype='object')"
      ]
     },
     "execution_count": 37,
     "metadata": {},
     "output_type": "execute_result"
    }
   ],
   "source": [
    "t1.columns"
   ]
  },
  {
   "cell_type": "code",
   "execution_count": 38,
   "metadata": {
    "collapsed": false
   },
   "outputs": [],
   "source": [
    "t1 = t1.drop(['APPBBL', 'APPDate', 'Address', 'AreaSource', 'BldgDepth', 'BldgFront', \\\n",
    "                                   'Block', 'BoroCode', 'Borough', 'CB2010', 'CD', 'CT2010', 'ComArea', \\\n",
    "                                   'CommFAR', 'CondoNo', 'Council', 'EDesigNum', 'FacilFAR', 'FactryArea', \\\n",
    "                                   'FireComp', 'GarageArea', 'HealthArea', 'HistDist', 'IrrLotCode', 'Landmark', \\\n",
    "                                   'Lot', 'LotArea', 'LotDepth', 'LotFront', 'LtdHeight', 'MAPPLUTO_F', \\\n",
    "             'OfficeArea', 'OtherArea', 'Overlay1', 'Overlay2', 'PLUTOMapID', 'PolicePrct', 'ResidFAR', \\\n",
    "             'RetailArea', 'Sanborn', 'SchoolDist', 'StrgeArea', 'TaxMap', 'Tract2010', 'YearAlter1', \\\n",
    "             'YearAlter2', 'ZoneDist1', 'ZipCode', 'ZoneDist2', 'ZoneDist3', 'ZoneDist4', 'ZoneMap', \\\n",
    "             'XCoord', 'Version', 'YCoord', 'ZMCode', 'SPDist1', 'SPDist2', 'ExemptTot', 'BuiltCode', \\\n",
    "             'AllZoning1', 'AllZoning2', 'ExemptLand', 'geometry', 'Easements', 'SHAPE_Area', 'SHAPE_Leng', \\\n",
    "             'OwnerName', 'Ext', 'SplitZone', 'BldgClass', 'AssessTot', 'BldgArea', 'UnitsTotal'], axis=1)"
   ]
  },
  {
   "cell_type": "code",
   "execution_count": 39,
   "metadata": {
    "collapsed": false
   },
   "outputs": [
    {
     "data": {
      "text/plain": [
       "Index([u'AssessLand', u'BBL', u'BsmtCode', u'BuiltFAR', u'LandUse', u'LotType',\n",
       "       u'NumBldgs', u'NumFloors', u'OwnerType', u'ProxCode', u'ResArea',\n",
       "       u'UnitsRes', u'YearBuilt', u'bldgclass_updated'],\n",
       "      dtype='object')"
      ]
     },
     "execution_count": 39,
     "metadata": {},
     "output_type": "execute_result"
    }
   ],
   "source": [
    "t1.columns"
   ]
  },
  {
   "cell_type": "markdown",
   "metadata": {},
   "source": [
    "### explanation of variables in dataset\n",
    "* assessland -  tentative assessed land value for Fiscal Year 2017\n",
    "* assesstot - tentative assessed total value for Fiscal Year 2017\n",
    "* bldgarea - total gross area in square feet\n",
    "* bldgclass - code describing the major use of structures on the tax lot\n",
    "* bsmtcode - code describing the basement type/grade - 0: no basement, 1: full basement above grade, 2: full basement below grade, 3: partial basement above grade, 4: partial basement below grade, 5: unknown\n",
    "* landuse - code for the tax lot's land use category (01-09)\n",
    "* lottype - code indicating the location of the tax lot to another tax lot and/or the water (1-9)\n",
    "* numbldgs - number of buildings in the tax lot\n",
    "* numfloors - the tallest building on the tax lot, the number of full and partial stories starting from the ground floor\n",
    "* ownertype - M: mix city and private ownership, P: private ownership, X: mixed (excludes C, M, O, or P ownerships), blank: unknown\n",
    "* proxcode - physical relationship of the building to neighboring buildings - 0: not available, 1: detatched, 2: semi-attached, 3: attached\n",
    "* resarea - estimate of the exterior dimensions of the portion of the structure(s) allocated for residential use\n",
    "* unitsres - sum of residential units in all buildings on the tax lot\n",
    "* unitstotal - sum of residential and non-residential (offices, retail stores, etc.) units in all buildings on the tax lot\n",
    "* yearbuilt - year structure was built"
   ]
  },
  {
   "cell_type": "markdown",
   "metadata": {},
   "source": [
    "### merge pluto with complaint data"
   ]
  },
  {
   "cell_type": "code",
   "execution_count": 40,
   "metadata": {
    "collapsed": false
   },
   "outputs": [
    {
     "data": {
      "text/html": [
       "<div>\n",
       "<table border=\"1\" class=\"dataframe\">\n",
       "  <thead>\n",
       "    <tr style=\"text-align: right;\">\n",
       "      <th></th>\n",
       "      <th>BBL</th>\n",
       "      <th>com_count</th>\n",
       "      <th>BBL.1</th>\n",
       "    </tr>\n",
       "  </thead>\n",
       "  <tbody>\n",
       "    <tr>\n",
       "      <th>0</th>\n",
       "      <td>1000047501</td>\n",
       "      <td>0.020408</td>\n",
       "      <td>1000047501</td>\n",
       "    </tr>\n",
       "    <tr>\n",
       "      <th>1</th>\n",
       "      <td>1000100032</td>\n",
       "      <td>0.006803</td>\n",
       "      <td>1000100032</td>\n",
       "    </tr>\n",
       "    <tr>\n",
       "      <th>2</th>\n",
       "      <td>1000150022</td>\n",
       "      <td>0.006803</td>\n",
       "      <td>1000150022</td>\n",
       "    </tr>\n",
       "    <tr>\n",
       "      <th>3</th>\n",
       "      <td>1000160015</td>\n",
       "      <td>0.006803</td>\n",
       "      <td>1000160015</td>\n",
       "    </tr>\n",
       "    <tr>\n",
       "      <th>4</th>\n",
       "      <td>1000160020</td>\n",
       "      <td>0.013605</td>\n",
       "      <td>1000160020</td>\n",
       "    </tr>\n",
       "  </tbody>\n",
       "</table>\n",
       "</div>"
      ],
      "text/plain": [
       "          BBL  com_count       BBL.1\n",
       "0  1000047501   0.020408  1000047501\n",
       "1  1000100032   0.006803  1000100032\n",
       "2  1000150022   0.006803  1000150022\n",
       "3  1000160015   0.006803  1000160015\n",
       "4  1000160020   0.013605  1000160020"
      ]
     },
     "execution_count": 40,
     "metadata": {},
     "output_type": "execute_result"
    }
   ],
   "source": [
    "comp = pd.read_csv('../data_processed/311_heathotwater_2014_2016_BBL_WEEK_AVG.csv')\n",
    "comp.head()"
   ]
  },
  {
   "cell_type": "code",
   "execution_count": 41,
   "metadata": {
    "collapsed": true
   },
   "outputs": [],
   "source": [
    "comp = comp.drop('BBL.1',axis=1)"
   ]
  },
  {
   "cell_type": "code",
   "execution_count": 42,
   "metadata": {
    "collapsed": false
   },
   "outputs": [
    {
     "name": "stdout",
     "output_type": "stream",
     "text": [
      "int64\n",
      "float64\n"
     ]
    }
   ],
   "source": [
    "print comp['BBL'].dtypes\n",
    "print t1['BBL'].dtypes"
   ]
  },
  {
   "cell_type": "code",
   "execution_count": 43,
   "metadata": {
    "collapsed": true
   },
   "outputs": [],
   "source": [
    "import numpy as np"
   ]
  },
  {
   "cell_type": "code",
   "execution_count": 44,
   "metadata": {
    "collapsed": true
   },
   "outputs": [],
   "source": [
    "t1['BBL'] = pd.to_numeric(t1['BBL']).astype(int)"
   ]
  },
  {
   "cell_type": "code",
   "execution_count": 48,
   "metadata": {
    "collapsed": false
   },
   "outputs": [
    {
     "name": "stdout",
     "output_type": "stream",
     "text": [
      "int64\n",
      "int64\n"
     ]
    }
   ],
   "source": [
    "print comp['BBL'].dtypes\n",
    "print t1['BBL'].dtypes"
   ]
  },
  {
   "cell_type": "code",
   "execution_count": 49,
   "metadata": {
    "collapsed": false
   },
   "outputs": [],
   "source": [
    "features = pd.merge(t1, comp, on ='BBL')"
   ]
  },
  {
   "cell_type": "code",
   "execution_count": 50,
   "metadata": {
    "collapsed": false
   },
   "outputs": [
    {
     "name": "stdout",
     "output_type": "stream",
     "text": [
      "759588\n",
      "53310\n",
      "51782\n"
     ]
    }
   ],
   "source": [
    "print len(t1)\n",
    "print len(comp)\n",
    "print len(features)"
   ]
  },
  {
   "cell_type": "code",
   "execution_count": 51,
   "metadata": {
    "collapsed": false
   },
   "outputs": [
    {
     "data": {
      "text/html": [
       "<div>\n",
       "<table border=\"1\" class=\"dataframe\">\n",
       "  <thead>\n",
       "    <tr style=\"text-align: right;\">\n",
       "      <th></th>\n",
       "      <th>AssessLand</th>\n",
       "      <th>BBL</th>\n",
       "      <th>BsmtCode</th>\n",
       "      <th>BuiltFAR</th>\n",
       "      <th>LandUse</th>\n",
       "      <th>LotType</th>\n",
       "      <th>NumBldgs</th>\n",
       "      <th>NumFloors</th>\n",
       "      <th>OwnerType</th>\n",
       "      <th>ProxCode</th>\n",
       "      <th>ResArea</th>\n",
       "      <th>UnitsRes</th>\n",
       "      <th>YearBuilt</th>\n",
       "      <th>bldgclass_updated</th>\n",
       "      <th>com_count</th>\n",
       "    </tr>\n",
       "  </thead>\n",
       "  <tbody>\n",
       "    <tr>\n",
       "      <th>0</th>\n",
       "      <td>8441.0</td>\n",
       "      <td>5010310021</td>\n",
       "      <td>2.0</td>\n",
       "      <td>0.70</td>\n",
       "      <td>2.0</td>\n",
       "      <td>5.0</td>\n",
       "      <td>1</td>\n",
       "      <td>2.75</td>\n",
       "      <td>NaN</td>\n",
       "      <td>1.0</td>\n",
       "      <td>4710</td>\n",
       "      <td>3</td>\n",
       "      <td>1920</td>\n",
       "      <td>3</td>\n",
       "      <td>0.013605</td>\n",
       "    </tr>\n",
       "    <tr>\n",
       "      <th>1</th>\n",
       "      <td>6480.0</td>\n",
       "      <td>5012460037</td>\n",
       "      <td>2.0</td>\n",
       "      <td>0.92</td>\n",
       "      <td>1.0</td>\n",
       "      <td>5.0</td>\n",
       "      <td>1</td>\n",
       "      <td>2.00</td>\n",
       "      <td>NaN</td>\n",
       "      <td>1.0</td>\n",
       "      <td>2700</td>\n",
       "      <td>2</td>\n",
       "      <td>2003</td>\n",
       "      <td>2</td>\n",
       "      <td>0.034014</td>\n",
       "    </tr>\n",
       "    <tr>\n",
       "      <th>2</th>\n",
       "      <td>9007.0</td>\n",
       "      <td>5033390088</td>\n",
       "      <td>2.0</td>\n",
       "      <td>0.48</td>\n",
       "      <td>1.0</td>\n",
       "      <td>5.0</td>\n",
       "      <td>1</td>\n",
       "      <td>2.00</td>\n",
       "      <td>NaN</td>\n",
       "      <td>1.0</td>\n",
       "      <td>1976</td>\n",
       "      <td>2</td>\n",
       "      <td>1955</td>\n",
       "      <td>2</td>\n",
       "      <td>0.054422</td>\n",
       "    </tr>\n",
       "    <tr>\n",
       "      <th>3</th>\n",
       "      <td>3980.0</td>\n",
       "      <td>5000810024</td>\n",
       "      <td>2.0</td>\n",
       "      <td>0.54</td>\n",
       "      <td>1.0</td>\n",
       "      <td>5.0</td>\n",
       "      <td>1</td>\n",
       "      <td>2.00</td>\n",
       "      <td>NaN</td>\n",
       "      <td>1.0</td>\n",
       "      <td>1344</td>\n",
       "      <td>1</td>\n",
       "      <td>1901</td>\n",
       "      <td>1</td>\n",
       "      <td>0.074830</td>\n",
       "    </tr>\n",
       "    <tr>\n",
       "      <th>4</th>\n",
       "      <td>96750.0</td>\n",
       "      <td>5000440001</td>\n",
       "      <td>5.0</td>\n",
       "      <td>0.66</td>\n",
       "      <td>2.0</td>\n",
       "      <td>3.0</td>\n",
       "      <td>1</td>\n",
       "      <td>2.00</td>\n",
       "      <td>P</td>\n",
       "      <td>0.0</td>\n",
       "      <td>14156</td>\n",
       "      <td>16</td>\n",
       "      <td>1984</td>\n",
       "      <td>3</td>\n",
       "      <td>0.006803</td>\n",
       "    </tr>\n",
       "  </tbody>\n",
       "</table>\n",
       "</div>"
      ],
      "text/plain": [
       "   AssessLand         BBL  BsmtCode  BuiltFAR  LandUse  LotType  NumBldgs  \\\n",
       "0      8441.0  5010310021       2.0      0.70      2.0      5.0         1   \n",
       "1      6480.0  5012460037       2.0      0.92      1.0      5.0         1   \n",
       "2      9007.0  5033390088       2.0      0.48      1.0      5.0         1   \n",
       "3      3980.0  5000810024       2.0      0.54      1.0      5.0         1   \n",
       "4     96750.0  5000440001       5.0      0.66      2.0      3.0         1   \n",
       "\n",
       "   NumFloors OwnerType  ProxCode  ResArea  UnitsRes  YearBuilt  \\\n",
       "0       2.75       NaN       1.0     4710         3       1920   \n",
       "1       2.00       NaN       1.0     2700         2       2003   \n",
       "2       2.00       NaN       1.0     1976         2       1955   \n",
       "3       2.00       NaN       1.0     1344         1       1901   \n",
       "4       2.00         P       0.0    14156        16       1984   \n",
       "\n",
       "   bldgclass_updated  com_count  \n",
       "0                  3   0.013605  \n",
       "1                  2   0.034014  \n",
       "2                  2   0.054422  \n",
       "3                  1   0.074830  \n",
       "4                  3   0.006803  "
      ]
     },
     "execution_count": 51,
     "metadata": {},
     "output_type": "execute_result"
    }
   ],
   "source": [
    "features.head()"
   ]
  },
  {
   "cell_type": "code",
   "execution_count": 53,
   "metadata": {
    "collapsed": true
   },
   "outputs": [],
   "source": [
    "features.to_csv('../data_processed/mappluto_16_features')"
   ]
  },
  {
   "cell_type": "markdown",
   "metadata": {},
   "source": [
    "### select features with ensemble decision tree and random forest classifiers"
   ]
  },
  {
   "cell_type": "code",
   "execution_count": 55,
   "metadata": {
    "collapsed": true
   },
   "outputs": [],
   "source": [
    "from sklearn import metrics\n",
    "from sklearn.ensemble import ExtraTreesClassifier\n",
    "from sklearn import preprocessing\n",
    "from sklearn.ensemble import RandomForestClassifier\n",
    "from sklearn.ensemble import RandomForestRegressor\n",
    "from sklearn.ensemble import ExtraTreesRegressor"
   ]
  },
  {
   "cell_type": "code",
   "execution_count": 56,
   "metadata": {
    "collapsed": true
   },
   "outputs": [],
   "source": [
    "import random\n",
    "random.seed(123)"
   ]
  },
  {
   "cell_type": "code",
   "execution_count": 57,
   "metadata": {
    "collapsed": true
   },
   "outputs": [],
   "source": [
    "le = preprocessing.LabelEncoder()"
   ]
  },
  {
   "cell_type": "code",
   "execution_count": 58,
   "metadata": {
    "collapsed": false
   },
   "outputs": [],
   "source": [
    "#le.fit([elem for elem in features['bldgclass_updated'].unique()])\n",
    "#features['bc_updated'] = le.transform([elem for elem in features['bldgclass_updated']])\n",
    "le.fit([elem for elem in features['OwnerType'].unique()])\n",
    "features['ownertype_updated'] = le.transform([elem for elem in features['OwnerType']])"
   ]
  },
  {
   "cell_type": "code",
   "execution_count": 59,
   "metadata": {
    "collapsed": false
   },
   "outputs": [],
   "source": [
    "features = features.drop('OwnerType',axis=1)"
   ]
  },
  {
   "cell_type": "code",
   "execution_count": 60,
   "metadata": {
    "collapsed": true
   },
   "outputs": [],
   "source": [
    "features = features.apply(pd.to_numeric)\n",
    "features = features.astype(int)"
   ]
  },
  {
   "cell_type": "code",
   "execution_count": 61,
   "metadata": {
    "collapsed": false
   },
   "outputs": [
    {
     "data": {
      "text/html": [
       "<div>\n",
       "<table border=\"1\" class=\"dataframe\">\n",
       "  <thead>\n",
       "    <tr style=\"text-align: right;\">\n",
       "      <th></th>\n",
       "      <th>AssessLand</th>\n",
       "      <th>BBL</th>\n",
       "      <th>BsmtCode</th>\n",
       "      <th>BuiltFAR</th>\n",
       "      <th>LandUse</th>\n",
       "      <th>LotType</th>\n",
       "      <th>NumBldgs</th>\n",
       "      <th>NumFloors</th>\n",
       "      <th>ProxCode</th>\n",
       "      <th>ResArea</th>\n",
       "      <th>UnitsRes</th>\n",
       "      <th>YearBuilt</th>\n",
       "      <th>bldgclass_updated</th>\n",
       "      <th>com_count</th>\n",
       "      <th>ownertype_updated</th>\n",
       "    </tr>\n",
       "  </thead>\n",
       "  <tbody>\n",
       "    <tr>\n",
       "      <th>0</th>\n",
       "      <td>8441</td>\n",
       "      <td>5010310021</td>\n",
       "      <td>2</td>\n",
       "      <td>0</td>\n",
       "      <td>2</td>\n",
       "      <td>5</td>\n",
       "      <td>1</td>\n",
       "      <td>2</td>\n",
       "      <td>1</td>\n",
       "      <td>4710</td>\n",
       "      <td>3</td>\n",
       "      <td>1920</td>\n",
       "      <td>3</td>\n",
       "      <td>0</td>\n",
       "      <td>5</td>\n",
       "    </tr>\n",
       "    <tr>\n",
       "      <th>1</th>\n",
       "      <td>6480</td>\n",
       "      <td>5012460037</td>\n",
       "      <td>2</td>\n",
       "      <td>0</td>\n",
       "      <td>1</td>\n",
       "      <td>5</td>\n",
       "      <td>1</td>\n",
       "      <td>2</td>\n",
       "      <td>1</td>\n",
       "      <td>2700</td>\n",
       "      <td>2</td>\n",
       "      <td>2003</td>\n",
       "      <td>2</td>\n",
       "      <td>0</td>\n",
       "      <td>5</td>\n",
       "    </tr>\n",
       "    <tr>\n",
       "      <th>2</th>\n",
       "      <td>9007</td>\n",
       "      <td>5033390088</td>\n",
       "      <td>2</td>\n",
       "      <td>0</td>\n",
       "      <td>1</td>\n",
       "      <td>5</td>\n",
       "      <td>1</td>\n",
       "      <td>2</td>\n",
       "      <td>1</td>\n",
       "      <td>1976</td>\n",
       "      <td>2</td>\n",
       "      <td>1955</td>\n",
       "      <td>2</td>\n",
       "      <td>0</td>\n",
       "      <td>5</td>\n",
       "    </tr>\n",
       "    <tr>\n",
       "      <th>3</th>\n",
       "      <td>3980</td>\n",
       "      <td>5000810024</td>\n",
       "      <td>2</td>\n",
       "      <td>0</td>\n",
       "      <td>1</td>\n",
       "      <td>5</td>\n",
       "      <td>1</td>\n",
       "      <td>2</td>\n",
       "      <td>1</td>\n",
       "      <td>1344</td>\n",
       "      <td>1</td>\n",
       "      <td>1901</td>\n",
       "      <td>1</td>\n",
       "      <td>0</td>\n",
       "      <td>5</td>\n",
       "    </tr>\n",
       "    <tr>\n",
       "      <th>4</th>\n",
       "      <td>96750</td>\n",
       "      <td>5000440001</td>\n",
       "      <td>5</td>\n",
       "      <td>0</td>\n",
       "      <td>2</td>\n",
       "      <td>3</td>\n",
       "      <td>1</td>\n",
       "      <td>2</td>\n",
       "      <td>0</td>\n",
       "      <td>14156</td>\n",
       "      <td>16</td>\n",
       "      <td>1984</td>\n",
       "      <td>3</td>\n",
       "      <td>0</td>\n",
       "      <td>3</td>\n",
       "    </tr>\n",
       "  </tbody>\n",
       "</table>\n",
       "</div>"
      ],
      "text/plain": [
       "   AssessLand         BBL  BsmtCode  BuiltFAR  LandUse  LotType  NumBldgs  \\\n",
       "0        8441  5010310021         2         0        2        5         1   \n",
       "1        6480  5012460037         2         0        1        5         1   \n",
       "2        9007  5033390088         2         0        1        5         1   \n",
       "3        3980  5000810024         2         0        1        5         1   \n",
       "4       96750  5000440001         5         0        2        3         1   \n",
       "\n",
       "   NumFloors  ProxCode  ResArea  UnitsRes  YearBuilt  bldgclass_updated  \\\n",
       "0          2         1     4710         3       1920                  3   \n",
       "1          2         1     2700         2       2003                  2   \n",
       "2          2         1     1976         2       1955                  2   \n",
       "3          2         1     1344         1       1901                  1   \n",
       "4          2         0    14156        16       1984                  3   \n",
       "\n",
       "   com_count  ownertype_updated  \n",
       "0          0                  5  \n",
       "1          0                  5  \n",
       "2          0                  5  \n",
       "3          0                  5  \n",
       "4          0                  3  "
      ]
     },
     "execution_count": 61,
     "metadata": {},
     "output_type": "execute_result"
    }
   ],
   "source": [
    "features.head()"
   ]
  },
  {
   "cell_type": "code",
   "execution_count": 62,
   "metadata": {
    "collapsed": true
   },
   "outputs": [],
   "source": [
    "features.to_csv('../data_processed/mappluto_16_features_categorical')"
   ]
  },
  {
   "cell_type": "code",
   "execution_count": 66,
   "metadata": {
    "collapsed": false
   },
   "outputs": [
    {
     "data": {
      "text/html": [
       "<div>\n",
       "<table border=\"1\" class=\"dataframe\">\n",
       "  <thead>\n",
       "    <tr style=\"text-align: right;\">\n",
       "      <th></th>\n",
       "      <th>AssessLand</th>\n",
       "      <th>BsmtCode</th>\n",
       "      <th>BuiltFAR</th>\n",
       "      <th>LandUse</th>\n",
       "      <th>LotType</th>\n",
       "      <th>NumBldgs</th>\n",
       "      <th>NumFloors</th>\n",
       "      <th>ProxCode</th>\n",
       "      <th>ResArea</th>\n",
       "      <th>UnitsRes</th>\n",
       "      <th>YearBuilt</th>\n",
       "      <th>bldgclass_updated</th>\n",
       "      <th>ownertype_updated</th>\n",
       "    </tr>\n",
       "  </thead>\n",
       "  <tbody>\n",
       "    <tr>\n",
       "      <th>0</th>\n",
       "      <td>8441</td>\n",
       "      <td>2</td>\n",
       "      <td>0</td>\n",
       "      <td>2</td>\n",
       "      <td>5</td>\n",
       "      <td>1</td>\n",
       "      <td>2</td>\n",
       "      <td>1</td>\n",
       "      <td>4710</td>\n",
       "      <td>3</td>\n",
       "      <td>1920</td>\n",
       "      <td>3</td>\n",
       "      <td>5</td>\n",
       "    </tr>\n",
       "    <tr>\n",
       "      <th>1</th>\n",
       "      <td>6480</td>\n",
       "      <td>2</td>\n",
       "      <td>0</td>\n",
       "      <td>1</td>\n",
       "      <td>5</td>\n",
       "      <td>1</td>\n",
       "      <td>2</td>\n",
       "      <td>1</td>\n",
       "      <td>2700</td>\n",
       "      <td>2</td>\n",
       "      <td>2003</td>\n",
       "      <td>2</td>\n",
       "      <td>5</td>\n",
       "    </tr>\n",
       "  </tbody>\n",
       "</table>\n",
       "</div>"
      ],
      "text/plain": [
       "   AssessLand  BsmtCode  BuiltFAR  LandUse  LotType  NumBldgs  NumFloors  \\\n",
       "0        8441         2         0        2        5         1          2   \n",
       "1        6480         2         0        1        5         1          2   \n",
       "\n",
       "   ProxCode  ResArea  UnitsRes  YearBuilt  bldgclass_updated  \\\n",
       "0         1     4710         3       1920                  3   \n",
       "1         1     2700         2       2003                  2   \n",
       "\n",
       "   ownertype_updated  \n",
       "0                  5  \n",
       "1                  5  "
      ]
     },
     "execution_count": 66,
     "metadata": {},
     "output_type": "execute_result"
    }
   ],
   "source": [
    "features.ix[:,[0, 2, 3, 4, 5, 6, 7, 8, 9, 10, 11, 12, 14]].head(2)"
   ]
  },
  {
   "cell_type": "code",
   "execution_count": 68,
   "metadata": {
    "collapsed": false
   },
   "outputs": [
    {
     "data": {
      "text/plain": [
       "0    0\n",
       "1    0\n",
       "Name: com_count, dtype: int64"
      ]
     },
     "execution_count": 68,
     "metadata": {},
     "output_type": "execute_result"
    }
   ],
   "source": [
    "features.ix[:,-2].head(2)"
   ]
  },
  {
   "cell_type": "code",
   "execution_count": 69,
   "metadata": {
    "collapsed": false
   },
   "outputs": [
    {
     "name": "stdout",
     "output_type": "stream",
     "text": [
      "[ 0.19822118  0.022105    0.07427715  0.01440379  0.01988531  0.01580945\n",
      "  0.0425345   0.00970693  0.2313159   0.18359822  0.16195591  0.00727489\n",
      "  0.01891176]\n"
     ]
    }
   ],
   "source": [
    "model = ExtraTreesClassifier()\n",
    "model.fit(features.ix[:,[0, 2, 3, 4, 5, 6, 7, 8, 9, 10, 11, 12, 14]], features.ix[:,-2])\n",
    "# display the relative importance of each attribute\n",
    "print(model.feature_importances_)"
   ]
  },
  {
   "cell_type": "code",
   "execution_count": 70,
   "metadata": {
    "collapsed": false
   },
   "outputs": [],
   "source": [
    "etc = pd.DataFrame()\n",
    "etc['feature_name'] = features.ix[:,[0, 2, 3, 4, 5, 6, 7, 8, 9, 10, 11, 12, 14]].columns\n",
    "etc['etc_value'] = model.feature_importances_"
   ]
  },
  {
   "cell_type": "code",
   "execution_count": 71,
   "metadata": {
    "collapsed": false
   },
   "outputs": [
    {
     "data": {
      "text/html": [
       "<div>\n",
       "<table border=\"1\" class=\"dataframe\">\n",
       "  <thead>\n",
       "    <tr style=\"text-align: right;\">\n",
       "      <th></th>\n",
       "      <th>feature_name</th>\n",
       "      <th>etc_value</th>\n",
       "    </tr>\n",
       "  </thead>\n",
       "  <tbody>\n",
       "    <tr>\n",
       "      <th>8</th>\n",
       "      <td>ResArea</td>\n",
       "      <td>0.231316</td>\n",
       "    </tr>\n",
       "    <tr>\n",
       "      <th>0</th>\n",
       "      <td>AssessLand</td>\n",
       "      <td>0.198221</td>\n",
       "    </tr>\n",
       "    <tr>\n",
       "      <th>9</th>\n",
       "      <td>UnitsRes</td>\n",
       "      <td>0.183598</td>\n",
       "    </tr>\n",
       "    <tr>\n",
       "      <th>10</th>\n",
       "      <td>YearBuilt</td>\n",
       "      <td>0.161956</td>\n",
       "    </tr>\n",
       "    <tr>\n",
       "      <th>2</th>\n",
       "      <td>BuiltFAR</td>\n",
       "      <td>0.074277</td>\n",
       "    </tr>\n",
       "    <tr>\n",
       "      <th>6</th>\n",
       "      <td>NumFloors</td>\n",
       "      <td>0.042534</td>\n",
       "    </tr>\n",
       "    <tr>\n",
       "      <th>1</th>\n",
       "      <td>BsmtCode</td>\n",
       "      <td>0.022105</td>\n",
       "    </tr>\n",
       "    <tr>\n",
       "      <th>4</th>\n",
       "      <td>LotType</td>\n",
       "      <td>0.019885</td>\n",
       "    </tr>\n",
       "    <tr>\n",
       "      <th>12</th>\n",
       "      <td>ownertype_updated</td>\n",
       "      <td>0.018912</td>\n",
       "    </tr>\n",
       "    <tr>\n",
       "      <th>5</th>\n",
       "      <td>NumBldgs</td>\n",
       "      <td>0.015809</td>\n",
       "    </tr>\n",
       "    <tr>\n",
       "      <th>3</th>\n",
       "      <td>LandUse</td>\n",
       "      <td>0.014404</td>\n",
       "    </tr>\n",
       "    <tr>\n",
       "      <th>7</th>\n",
       "      <td>ProxCode</td>\n",
       "      <td>0.009707</td>\n",
       "    </tr>\n",
       "    <tr>\n",
       "      <th>11</th>\n",
       "      <td>bldgclass_updated</td>\n",
       "      <td>0.007275</td>\n",
       "    </tr>\n",
       "  </tbody>\n",
       "</table>\n",
       "</div>"
      ],
      "text/plain": [
       "         feature_name  etc_value\n",
       "8             ResArea   0.231316\n",
       "0          AssessLand   0.198221\n",
       "9            UnitsRes   0.183598\n",
       "10          YearBuilt   0.161956\n",
       "2            BuiltFAR   0.074277\n",
       "6           NumFloors   0.042534\n",
       "1            BsmtCode   0.022105\n",
       "4             LotType   0.019885\n",
       "12  ownertype_updated   0.018912\n",
       "5            NumBldgs   0.015809\n",
       "3             LandUse   0.014404\n",
       "7            ProxCode   0.009707\n",
       "11  bldgclass_updated   0.007275"
      ]
     },
     "execution_count": 71,
     "metadata": {},
     "output_type": "execute_result"
    }
   ],
   "source": [
    "etc = etc.sort_values('etc_value',ascending=False)\n",
    "etc"
   ]
  },
  {
   "cell_type": "code",
   "execution_count": 72,
   "metadata": {
    "collapsed": false
   },
   "outputs": [
    {
     "name": "stdout",
     "output_type": "stream",
     "text": [
      "[ 0.23523728  0.01808518  0.06371347  0.02653446  0.01247727  0.02682717\n",
      "  0.02422541  0.0224416   0.19018595  0.17897991  0.16389868  0.00355192\n",
      "  0.03384169]\n"
     ]
    }
   ],
   "source": [
    "model = ExtraTreesRegressor()\n",
    "model.fit(features.ix[:,[0, 2, 3, 4, 5, 6, 7, 8, 9, 10, 11, 12, 14]], features.ix[:,-2])\n",
    "# display the relative importance of each attribute\n",
    "print(model.feature_importances_)"
   ]
  },
  {
   "cell_type": "code",
   "execution_count": 73,
   "metadata": {
    "collapsed": true
   },
   "outputs": [],
   "source": [
    "etr = pd.DataFrame()\n",
    "etr['feature_name'] = features.ix[:,[0, 2, 3, 4, 5, 6, 7, 8, 9, 10, 11, 12, 14]].columns\n",
    "etr['etr_value'] = model.feature_importances_"
   ]
  },
  {
   "cell_type": "code",
   "execution_count": 74,
   "metadata": {
    "collapsed": false
   },
   "outputs": [
    {
     "data": {
      "text/html": [
       "<div>\n",
       "<table border=\"1\" class=\"dataframe\">\n",
       "  <thead>\n",
       "    <tr style=\"text-align: right;\">\n",
       "      <th></th>\n",
       "      <th>feature_name</th>\n",
       "      <th>etr_value</th>\n",
       "    </tr>\n",
       "  </thead>\n",
       "  <tbody>\n",
       "    <tr>\n",
       "      <th>0</th>\n",
       "      <td>AssessLand</td>\n",
       "      <td>0.235237</td>\n",
       "    </tr>\n",
       "    <tr>\n",
       "      <th>8</th>\n",
       "      <td>ResArea</td>\n",
       "      <td>0.190186</td>\n",
       "    </tr>\n",
       "    <tr>\n",
       "      <th>9</th>\n",
       "      <td>UnitsRes</td>\n",
       "      <td>0.178980</td>\n",
       "    </tr>\n",
       "    <tr>\n",
       "      <th>10</th>\n",
       "      <td>YearBuilt</td>\n",
       "      <td>0.163899</td>\n",
       "    </tr>\n",
       "    <tr>\n",
       "      <th>2</th>\n",
       "      <td>BuiltFAR</td>\n",
       "      <td>0.063713</td>\n",
       "    </tr>\n",
       "    <tr>\n",
       "      <th>12</th>\n",
       "      <td>ownertype_updated</td>\n",
       "      <td>0.033842</td>\n",
       "    </tr>\n",
       "    <tr>\n",
       "      <th>5</th>\n",
       "      <td>NumBldgs</td>\n",
       "      <td>0.026827</td>\n",
       "    </tr>\n",
       "    <tr>\n",
       "      <th>3</th>\n",
       "      <td>LandUse</td>\n",
       "      <td>0.026534</td>\n",
       "    </tr>\n",
       "    <tr>\n",
       "      <th>6</th>\n",
       "      <td>NumFloors</td>\n",
       "      <td>0.024225</td>\n",
       "    </tr>\n",
       "    <tr>\n",
       "      <th>7</th>\n",
       "      <td>ProxCode</td>\n",
       "      <td>0.022442</td>\n",
       "    </tr>\n",
       "    <tr>\n",
       "      <th>1</th>\n",
       "      <td>BsmtCode</td>\n",
       "      <td>0.018085</td>\n",
       "    </tr>\n",
       "    <tr>\n",
       "      <th>4</th>\n",
       "      <td>LotType</td>\n",
       "      <td>0.012477</td>\n",
       "    </tr>\n",
       "    <tr>\n",
       "      <th>11</th>\n",
       "      <td>bldgclass_updated</td>\n",
       "      <td>0.003552</td>\n",
       "    </tr>\n",
       "  </tbody>\n",
       "</table>\n",
       "</div>"
      ],
      "text/plain": [
       "         feature_name  etr_value\n",
       "0          AssessLand   0.235237\n",
       "8             ResArea   0.190186\n",
       "9            UnitsRes   0.178980\n",
       "10          YearBuilt   0.163899\n",
       "2            BuiltFAR   0.063713\n",
       "12  ownertype_updated   0.033842\n",
       "5            NumBldgs   0.026827\n",
       "3             LandUse   0.026534\n",
       "6           NumFloors   0.024225\n",
       "7            ProxCode   0.022442\n",
       "1            BsmtCode   0.018085\n",
       "4             LotType   0.012477\n",
       "11  bldgclass_updated   0.003552"
      ]
     },
     "execution_count": 74,
     "metadata": {},
     "output_type": "execute_result"
    }
   ],
   "source": [
    "etr = etr.sort_values('etr_value',ascending=False)\n",
    "etr"
   ]
  },
  {
   "cell_type": "code",
   "execution_count": 75,
   "metadata": {
    "collapsed": false
   },
   "outputs": [
    {
     "name": "stdout",
     "output_type": "stream",
     "text": [
      "[ 0.21946751  0.02881441  0.05564343  0.02520705  0.03177094  0.01352792\n",
      "  0.03683258  0.02777012  0.24804448  0.1520937   0.12151149  0.0078454\n",
      "  0.03147096]\n"
     ]
    }
   ],
   "source": [
    "model = RandomForestClassifier()\n",
    "model.fit(features.ix[:,[0, 2, 3, 4, 5, 6, 7, 8, 9, 10, 11, 12, 14]], features.ix[:,-2])\n",
    "# display the relative importance of each attribute\n",
    "print(model.feature_importances_)"
   ]
  },
  {
   "cell_type": "code",
   "execution_count": 76,
   "metadata": {
    "collapsed": true
   },
   "outputs": [],
   "source": [
    "rfc = pd.DataFrame()\n",
    "rfc['feature_name'] = features.ix[:,[0, 2, 3, 4, 5, 6, 7, 8, 9, 10, 11, 12, 14]].columns\n",
    "rfc['rfc_value'] = model.feature_importances_"
   ]
  },
  {
   "cell_type": "code",
   "execution_count": 77,
   "metadata": {
    "collapsed": false
   },
   "outputs": [
    {
     "data": {
      "text/html": [
       "<div>\n",
       "<table border=\"1\" class=\"dataframe\">\n",
       "  <thead>\n",
       "    <tr style=\"text-align: right;\">\n",
       "      <th></th>\n",
       "      <th>feature_name</th>\n",
       "      <th>rfc_value</th>\n",
       "    </tr>\n",
       "  </thead>\n",
       "  <tbody>\n",
       "    <tr>\n",
       "      <th>8</th>\n",
       "      <td>ResArea</td>\n",
       "      <td>0.248044</td>\n",
       "    </tr>\n",
       "    <tr>\n",
       "      <th>0</th>\n",
       "      <td>AssessLand</td>\n",
       "      <td>0.219468</td>\n",
       "    </tr>\n",
       "    <tr>\n",
       "      <th>9</th>\n",
       "      <td>UnitsRes</td>\n",
       "      <td>0.152094</td>\n",
       "    </tr>\n",
       "    <tr>\n",
       "      <th>10</th>\n",
       "      <td>YearBuilt</td>\n",
       "      <td>0.121511</td>\n",
       "    </tr>\n",
       "    <tr>\n",
       "      <th>2</th>\n",
       "      <td>BuiltFAR</td>\n",
       "      <td>0.055643</td>\n",
       "    </tr>\n",
       "    <tr>\n",
       "      <th>6</th>\n",
       "      <td>NumFloors</td>\n",
       "      <td>0.036833</td>\n",
       "    </tr>\n",
       "    <tr>\n",
       "      <th>4</th>\n",
       "      <td>LotType</td>\n",
       "      <td>0.031771</td>\n",
       "    </tr>\n",
       "    <tr>\n",
       "      <th>12</th>\n",
       "      <td>ownertype_updated</td>\n",
       "      <td>0.031471</td>\n",
       "    </tr>\n",
       "    <tr>\n",
       "      <th>1</th>\n",
       "      <td>BsmtCode</td>\n",
       "      <td>0.028814</td>\n",
       "    </tr>\n",
       "    <tr>\n",
       "      <th>7</th>\n",
       "      <td>ProxCode</td>\n",
       "      <td>0.027770</td>\n",
       "    </tr>\n",
       "    <tr>\n",
       "      <th>3</th>\n",
       "      <td>LandUse</td>\n",
       "      <td>0.025207</td>\n",
       "    </tr>\n",
       "    <tr>\n",
       "      <th>5</th>\n",
       "      <td>NumBldgs</td>\n",
       "      <td>0.013528</td>\n",
       "    </tr>\n",
       "    <tr>\n",
       "      <th>11</th>\n",
       "      <td>bldgclass_updated</td>\n",
       "      <td>0.007845</td>\n",
       "    </tr>\n",
       "  </tbody>\n",
       "</table>\n",
       "</div>"
      ],
      "text/plain": [
       "         feature_name  rfc_value\n",
       "8             ResArea   0.248044\n",
       "0          AssessLand   0.219468\n",
       "9            UnitsRes   0.152094\n",
       "10          YearBuilt   0.121511\n",
       "2            BuiltFAR   0.055643\n",
       "6           NumFloors   0.036833\n",
       "4             LotType   0.031771\n",
       "12  ownertype_updated   0.031471\n",
       "1            BsmtCode   0.028814\n",
       "7            ProxCode   0.027770\n",
       "3             LandUse   0.025207\n",
       "5            NumBldgs   0.013528\n",
       "11  bldgclass_updated   0.007845"
      ]
     },
     "execution_count": 77,
     "metadata": {},
     "output_type": "execute_result"
    }
   ],
   "source": [
    "rfc = rfc.sort_values('rfc_value',ascending=False)\n",
    "rfc"
   ]
  },
  {
   "cell_type": "code",
   "execution_count": 78,
   "metadata": {
    "collapsed": false
   },
   "outputs": [
    {
     "name": "stdout",
     "output_type": "stream",
     "text": [
      "[ 0.18184329  0.01622371  0.03039818  0.02028158  0.01436526  0.00553049\n",
      "  0.01535538  0.03923957  0.36033623  0.13318154  0.10143328  0.02896817\n",
      "  0.05284332]\n"
     ]
    }
   ],
   "source": [
    "model = RandomForestRegressor()\n",
    "model.fit(features.ix[:,[0, 2, 3, 4, 5, 6, 7, 8, 9, 10, 11, 12, 14]], features.ix[:,-2])\n",
    "# display the relative importance of each attribute\n",
    "print(model.feature_importances_)"
   ]
  },
  {
   "cell_type": "code",
   "execution_count": 79,
   "metadata": {
    "collapsed": true
   },
   "outputs": [],
   "source": [
    "rfr = pd.DataFrame()\n",
    "rfr['feature_name'] = features.ix[:,[0, 2, 3, 4, 5, 6, 7, 8, 9, 10, 11, 12, 14]].columns\n",
    "rfr['rfr_value'] = model.feature_importances_"
   ]
  },
  {
   "cell_type": "code",
   "execution_count": 80,
   "metadata": {
    "collapsed": false
   },
   "outputs": [
    {
     "data": {
      "text/html": [
       "<div>\n",
       "<table border=\"1\" class=\"dataframe\">\n",
       "  <thead>\n",
       "    <tr style=\"text-align: right;\">\n",
       "      <th></th>\n",
       "      <th>feature_name</th>\n",
       "      <th>rfr_value</th>\n",
       "    </tr>\n",
       "  </thead>\n",
       "  <tbody>\n",
       "    <tr>\n",
       "      <th>8</th>\n",
       "      <td>ResArea</td>\n",
       "      <td>0.360336</td>\n",
       "    </tr>\n",
       "    <tr>\n",
       "      <th>0</th>\n",
       "      <td>AssessLand</td>\n",
       "      <td>0.181843</td>\n",
       "    </tr>\n",
       "    <tr>\n",
       "      <th>9</th>\n",
       "      <td>UnitsRes</td>\n",
       "      <td>0.133182</td>\n",
       "    </tr>\n",
       "    <tr>\n",
       "      <th>10</th>\n",
       "      <td>YearBuilt</td>\n",
       "      <td>0.101433</td>\n",
       "    </tr>\n",
       "    <tr>\n",
       "      <th>12</th>\n",
       "      <td>ownertype_updated</td>\n",
       "      <td>0.052843</td>\n",
       "    </tr>\n",
       "    <tr>\n",
       "      <th>7</th>\n",
       "      <td>ProxCode</td>\n",
       "      <td>0.039240</td>\n",
       "    </tr>\n",
       "    <tr>\n",
       "      <th>2</th>\n",
       "      <td>BuiltFAR</td>\n",
       "      <td>0.030398</td>\n",
       "    </tr>\n",
       "    <tr>\n",
       "      <th>11</th>\n",
       "      <td>bldgclass_updated</td>\n",
       "      <td>0.028968</td>\n",
       "    </tr>\n",
       "    <tr>\n",
       "      <th>3</th>\n",
       "      <td>LandUse</td>\n",
       "      <td>0.020282</td>\n",
       "    </tr>\n",
       "    <tr>\n",
       "      <th>1</th>\n",
       "      <td>BsmtCode</td>\n",
       "      <td>0.016224</td>\n",
       "    </tr>\n",
       "    <tr>\n",
       "      <th>6</th>\n",
       "      <td>NumFloors</td>\n",
       "      <td>0.015355</td>\n",
       "    </tr>\n",
       "    <tr>\n",
       "      <th>4</th>\n",
       "      <td>LotType</td>\n",
       "      <td>0.014365</td>\n",
       "    </tr>\n",
       "    <tr>\n",
       "      <th>5</th>\n",
       "      <td>NumBldgs</td>\n",
       "      <td>0.005530</td>\n",
       "    </tr>\n",
       "  </tbody>\n",
       "</table>\n",
       "</div>"
      ],
      "text/plain": [
       "         feature_name  rfr_value\n",
       "8             ResArea   0.360336\n",
       "0          AssessLand   0.181843\n",
       "9            UnitsRes   0.133182\n",
       "10          YearBuilt   0.101433\n",
       "12  ownertype_updated   0.052843\n",
       "7            ProxCode   0.039240\n",
       "2            BuiltFAR   0.030398\n",
       "11  bldgclass_updated   0.028968\n",
       "3             LandUse   0.020282\n",
       "1            BsmtCode   0.016224\n",
       "6           NumFloors   0.015355\n",
       "4             LotType   0.014365\n",
       "5            NumBldgs   0.005530"
      ]
     },
     "execution_count": 80,
     "metadata": {},
     "output_type": "execute_result"
    }
   ],
   "source": [
    "rfr = rfr.sort_values('rfr_value',ascending=False)\n",
    "rfr"
   ]
  },
  {
   "cell_type": "code",
   "execution_count": 81,
   "metadata": {
    "collapsed": true
   },
   "outputs": [],
   "source": [
    "merged = pd.merge(etc, rfc, on='feature_name')"
   ]
  },
  {
   "cell_type": "code",
   "execution_count": 82,
   "metadata": {
    "collapsed": true
   },
   "outputs": [],
   "source": [
    "merged = pd.merge(merged, rfr, on='feature_name')"
   ]
  },
  {
   "cell_type": "code",
   "execution_count": 83,
   "metadata": {
    "collapsed": true
   },
   "outputs": [],
   "source": [
    "merged = pd.merge(merged, etr, on ='feature_name')"
   ]
  },
  {
   "cell_type": "code",
   "execution_count": 84,
   "metadata": {
    "collapsed": false
   },
   "outputs": [],
   "source": [
    "merged['avg'] = merged.mean(axis=1)"
   ]
  },
  {
   "cell_type": "code",
   "execution_count": 85,
   "metadata": {
    "collapsed": false
   },
   "outputs": [],
   "source": [
    "merged = merged.sort_values('avg', ascending=False)"
   ]
  },
  {
   "cell_type": "code",
   "execution_count": 86,
   "metadata": {
    "collapsed": false
   },
   "outputs": [
    {
     "data": {
      "text/html": [
       "<div>\n",
       "<table border=\"1\" class=\"dataframe\">\n",
       "  <thead>\n",
       "    <tr style=\"text-align: right;\">\n",
       "      <th></th>\n",
       "      <th>feature_name</th>\n",
       "      <th>etc_value</th>\n",
       "      <th>rfc_value</th>\n",
       "      <th>rfr_value</th>\n",
       "      <th>etr_value</th>\n",
       "      <th>avg</th>\n",
       "    </tr>\n",
       "  </thead>\n",
       "  <tbody>\n",
       "    <tr>\n",
       "      <th>0</th>\n",
       "      <td>ResArea</td>\n",
       "      <td>0.231316</td>\n",
       "      <td>0.248044</td>\n",
       "      <td>0.360336</td>\n",
       "      <td>0.190186</td>\n",
       "      <td>0.257471</td>\n",
       "    </tr>\n",
       "    <tr>\n",
       "      <th>1</th>\n",
       "      <td>AssessLand</td>\n",
       "      <td>0.198221</td>\n",
       "      <td>0.219468</td>\n",
       "      <td>0.181843</td>\n",
       "      <td>0.235237</td>\n",
       "      <td>0.208692</td>\n",
       "    </tr>\n",
       "    <tr>\n",
       "      <th>2</th>\n",
       "      <td>UnitsRes</td>\n",
       "      <td>0.183598</td>\n",
       "      <td>0.152094</td>\n",
       "      <td>0.133182</td>\n",
       "      <td>0.178980</td>\n",
       "      <td>0.161963</td>\n",
       "    </tr>\n",
       "    <tr>\n",
       "      <th>3</th>\n",
       "      <td>YearBuilt</td>\n",
       "      <td>0.161956</td>\n",
       "      <td>0.121511</td>\n",
       "      <td>0.101433</td>\n",
       "      <td>0.163899</td>\n",
       "      <td>0.137200</td>\n",
       "    </tr>\n",
       "    <tr>\n",
       "      <th>4</th>\n",
       "      <td>BuiltFAR</td>\n",
       "      <td>0.074277</td>\n",
       "      <td>0.055643</td>\n",
       "      <td>0.030398</td>\n",
       "      <td>0.063713</td>\n",
       "      <td>0.056008</td>\n",
       "    </tr>\n",
       "    <tr>\n",
       "      <th>8</th>\n",
       "      <td>ownertype_updated</td>\n",
       "      <td>0.018912</td>\n",
       "      <td>0.031471</td>\n",
       "      <td>0.052843</td>\n",
       "      <td>0.033842</td>\n",
       "      <td>0.034267</td>\n",
       "    </tr>\n",
       "    <tr>\n",
       "      <th>5</th>\n",
       "      <td>NumFloors</td>\n",
       "      <td>0.042534</td>\n",
       "      <td>0.036833</td>\n",
       "      <td>0.015355</td>\n",
       "      <td>0.024225</td>\n",
       "      <td>0.029737</td>\n",
       "    </tr>\n",
       "    <tr>\n",
       "      <th>11</th>\n",
       "      <td>ProxCode</td>\n",
       "      <td>0.009707</td>\n",
       "      <td>0.027770</td>\n",
       "      <td>0.039240</td>\n",
       "      <td>0.022442</td>\n",
       "      <td>0.024790</td>\n",
       "    </tr>\n",
       "    <tr>\n",
       "      <th>10</th>\n",
       "      <td>LandUse</td>\n",
       "      <td>0.014404</td>\n",
       "      <td>0.025207</td>\n",
       "      <td>0.020282</td>\n",
       "      <td>0.026534</td>\n",
       "      <td>0.021607</td>\n",
       "    </tr>\n",
       "    <tr>\n",
       "      <th>6</th>\n",
       "      <td>BsmtCode</td>\n",
       "      <td>0.022105</td>\n",
       "      <td>0.028814</td>\n",
       "      <td>0.016224</td>\n",
       "      <td>0.018085</td>\n",
       "      <td>0.021307</td>\n",
       "    </tr>\n",
       "    <tr>\n",
       "      <th>7</th>\n",
       "      <td>LotType</td>\n",
       "      <td>0.019885</td>\n",
       "      <td>0.031771</td>\n",
       "      <td>0.014365</td>\n",
       "      <td>0.012477</td>\n",
       "      <td>0.019625</td>\n",
       "    </tr>\n",
       "    <tr>\n",
       "      <th>9</th>\n",
       "      <td>NumBldgs</td>\n",
       "      <td>0.015809</td>\n",
       "      <td>0.013528</td>\n",
       "      <td>0.005530</td>\n",
       "      <td>0.026827</td>\n",
       "      <td>0.015424</td>\n",
       "    </tr>\n",
       "    <tr>\n",
       "      <th>12</th>\n",
       "      <td>bldgclass_updated</td>\n",
       "      <td>0.007275</td>\n",
       "      <td>0.007845</td>\n",
       "      <td>0.028968</td>\n",
       "      <td>0.003552</td>\n",
       "      <td>0.011910</td>\n",
       "    </tr>\n",
       "  </tbody>\n",
       "</table>\n",
       "</div>"
      ],
      "text/plain": [
       "         feature_name  etc_value  rfc_value  rfr_value  etr_value       avg\n",
       "0             ResArea   0.231316   0.248044   0.360336   0.190186  0.257471\n",
       "1          AssessLand   0.198221   0.219468   0.181843   0.235237  0.208692\n",
       "2            UnitsRes   0.183598   0.152094   0.133182   0.178980  0.161963\n",
       "3           YearBuilt   0.161956   0.121511   0.101433   0.163899  0.137200\n",
       "4            BuiltFAR   0.074277   0.055643   0.030398   0.063713  0.056008\n",
       "8   ownertype_updated   0.018912   0.031471   0.052843   0.033842  0.034267\n",
       "5           NumFloors   0.042534   0.036833   0.015355   0.024225  0.029737\n",
       "11           ProxCode   0.009707   0.027770   0.039240   0.022442  0.024790\n",
       "10            LandUse   0.014404   0.025207   0.020282   0.026534  0.021607\n",
       "6            BsmtCode   0.022105   0.028814   0.016224   0.018085  0.021307\n",
       "7             LotType   0.019885   0.031771   0.014365   0.012477  0.019625\n",
       "9            NumBldgs   0.015809   0.013528   0.005530   0.026827  0.015424\n",
       "12  bldgclass_updated   0.007275   0.007845   0.028968   0.003552  0.011910"
      ]
     },
     "execution_count": 86,
     "metadata": {},
     "output_type": "execute_result"
    }
   ],
   "source": [
    "merged"
   ]
  },
  {
   "cell_type": "code",
   "execution_count": 87,
   "metadata": {
    "collapsed": false
   },
   "outputs": [
    {
     "data": {
      "text/plain": [
       "array([ 0,  1,  7,  3, 17,  2,  5, 30, 20,  9,  4,  6, 12, 10,  8])"
      ]
     },
     "execution_count": 87,
     "metadata": {},
     "output_type": "execute_result"
    }
   ],
   "source": [
    "features['com_count'].unique()"
   ]
  },
  {
   "cell_type": "code",
   "execution_count": 88,
   "metadata": {
    "collapsed": true
   },
   "outputs": [],
   "source": [
    "test = pd.read_csv('../data_processed/mappluto_16_features_categorical')"
   ]
  },
  {
   "cell_type": "code",
   "execution_count": 89,
   "metadata": {
    "collapsed": false
   },
   "outputs": [
    {
     "data": {
      "text/html": [
       "<div>\n",
       "<table border=\"1\" class=\"dataframe\">\n",
       "  <thead>\n",
       "    <tr style=\"text-align: right;\">\n",
       "      <th></th>\n",
       "      <th>Unnamed: 0</th>\n",
       "      <th>AssessLand</th>\n",
       "      <th>BBL</th>\n",
       "      <th>BsmtCode</th>\n",
       "      <th>BuiltFAR</th>\n",
       "      <th>LandUse</th>\n",
       "      <th>LotType</th>\n",
       "      <th>NumBldgs</th>\n",
       "      <th>NumFloors</th>\n",
       "      <th>ProxCode</th>\n",
       "      <th>ResArea</th>\n",
       "      <th>UnitsRes</th>\n",
       "      <th>YearBuilt</th>\n",
       "      <th>bldgclass_updated</th>\n",
       "      <th>com_count</th>\n",
       "      <th>ownertype_updated</th>\n",
       "    </tr>\n",
       "  </thead>\n",
       "  <tbody>\n",
       "    <tr>\n",
       "      <th>0</th>\n",
       "      <td>0</td>\n",
       "      <td>8441</td>\n",
       "      <td>5010310021</td>\n",
       "      <td>2</td>\n",
       "      <td>0</td>\n",
       "      <td>2</td>\n",
       "      <td>5</td>\n",
       "      <td>1</td>\n",
       "      <td>2</td>\n",
       "      <td>1</td>\n",
       "      <td>4710</td>\n",
       "      <td>3</td>\n",
       "      <td>1920</td>\n",
       "      <td>3</td>\n",
       "      <td>0</td>\n",
       "      <td>5</td>\n",
       "    </tr>\n",
       "    <tr>\n",
       "      <th>1</th>\n",
       "      <td>1</td>\n",
       "      <td>6480</td>\n",
       "      <td>5012460037</td>\n",
       "      <td>2</td>\n",
       "      <td>0</td>\n",
       "      <td>1</td>\n",
       "      <td>5</td>\n",
       "      <td>1</td>\n",
       "      <td>2</td>\n",
       "      <td>1</td>\n",
       "      <td>2700</td>\n",
       "      <td>2</td>\n",
       "      <td>2003</td>\n",
       "      <td>2</td>\n",
       "      <td>0</td>\n",
       "      <td>5</td>\n",
       "    </tr>\n",
       "  </tbody>\n",
       "</table>\n",
       "</div>"
      ],
      "text/plain": [
       "   Unnamed: 0  AssessLand         BBL  BsmtCode  BuiltFAR  LandUse  LotType  \\\n",
       "0           0        8441  5010310021         2         0        2        5   \n",
       "1           1        6480  5012460037         2         0        1        5   \n",
       "\n",
       "   NumBldgs  NumFloors  ProxCode  ResArea  UnitsRes  YearBuilt  \\\n",
       "0         1          2         1     4710         3       1920   \n",
       "1         1          2         1     2700         2       2003   \n",
       "\n",
       "   bldgclass_updated  com_count  ownertype_updated  \n",
       "0                  3          0                  5  \n",
       "1                  2          0                  5  "
      ]
     },
     "execution_count": 89,
     "metadata": {},
     "output_type": "execute_result"
    }
   ],
   "source": [
    "test.head(2)"
   ]
  }
 ],
 "metadata": {
  "kernelspec": {
   "display_name": "Python 2",
   "language": "python",
   "name": "python2"
  },
  "language_info": {
   "codemirror_mode": {
    "name": "ipython",
    "version": 2
   },
   "file_extension": ".py",
   "mimetype": "text/x-python",
   "name": "python",
   "nbconvert_exporter": "python",
   "pygments_lexer": "ipython2",
   "version": "2.7.12"
  }
 },
 "nbformat": 4,
 "nbformat_minor": 1
}
