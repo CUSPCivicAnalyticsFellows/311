{
 "cells": [
  {
   "cell_type": "code",
   "execution_count": 2,
   "metadata": {
    "collapsed": false
   },
   "outputs": [
    {
     "name": "stdout",
     "output_type": "stream",
     "text": [
      "Populating the interactive namespace from numpy and matplotlib\n"
     ]
    }
   ],
   "source": [
    "import pandas as pd\n",
    "import zipfile\n",
    "import geopandas as gpd\n",
    "%pylab inline"
   ]
  },
  {
   "cell_type": "code",
   "execution_count": 2,
   "metadata": {
    "collapsed": false
   },
   "outputs": [],
   "source": [
    "def pluto(mappluto):\n",
    "    z = zipfile.ZipFile(mappluto)\n",
    "    z.extractall('../data_initial/')\n",
    "    \n",
    "    boroughs = ['Staten_Island', 'Queens', 'Manhattan', 'Bronx', 'Brooklyn']\n",
    "    abreevs = ['SI', 'QN', 'MN', 'BX', 'BK']\n",
    "\n",
    "    pluto = []\n",
    "    i = 0\n",
    "    for elem in boroughs:\n",
    "        temp = gpd.read_file('../data_initial/'+elem+'/'+abreevs[i]+'MapPLUTO.shp')\n",
    "        temp['BBL'] = temp['BBL'].astype(str)\n",
    "        #temp = temp.to_crs({'init':'epsg:4326'})\n",
    "        pluto.append(temp)\n",
    "        i+=1  \n",
    "\n",
    "    global pluto_updated\n",
    "    pluto_updated = pd.concat(pluto)\n",
    "\n",
    "    return pluto_updated.head()"
   ]
  },
  {
   "cell_type": "code",
   "execution_count": 3,
   "metadata": {
    "collapsed": false
   },
   "outputs": [
    {
     "data": {
      "text/html": [
       "<div>\n",
       "<table border=\"1\" class=\"dataframe\">\n",
       "  <thead>\n",
       "    <tr style=\"text-align: right;\">\n",
       "      <th></th>\n",
       "      <th>APPBBL</th>\n",
       "      <th>APPDate</th>\n",
       "      <th>Address</th>\n",
       "      <th>AllZoning1</th>\n",
       "      <th>AllZoning2</th>\n",
       "      <th>AreaSource</th>\n",
       "      <th>AssessLand</th>\n",
       "      <th>AssessTot</th>\n",
       "      <th>BBL</th>\n",
       "      <th>BldgArea</th>\n",
       "      <th>...</th>\n",
       "      <th>YearAlter2</th>\n",
       "      <th>YearBuilt</th>\n",
       "      <th>ZMCode</th>\n",
       "      <th>ZipCode</th>\n",
       "      <th>ZoneDist1</th>\n",
       "      <th>ZoneDist2</th>\n",
       "      <th>ZoneDist3</th>\n",
       "      <th>ZoneDist4</th>\n",
       "      <th>ZoneMap</th>\n",
       "      <th>geometry</th>\n",
       "    </tr>\n",
       "  </thead>\n",
       "  <tbody>\n",
       "    <tr>\n",
       "      <th>0</th>\n",
       "      <td>0.0</td>\n",
       "      <td>None</td>\n",
       "      <td>437 PURDY AVENUE</td>\n",
       "      <td>R3-1</td>\n",
       "      <td>None</td>\n",
       "      <td>7</td>\n",
       "      <td>15120.0</td>\n",
       "      <td>23400.0</td>\n",
       "      <td>5007470028.0</td>\n",
       "      <td>1488</td>\n",
       "      <td>...</td>\n",
       "      <td>0</td>\n",
       "      <td>1960</td>\n",
       "      <td>None</td>\n",
       "      <td>10314</td>\n",
       "      <td>R3-1</td>\n",
       "      <td>None</td>\n",
       "      <td>None</td>\n",
       "      <td>None</td>\n",
       "      <td>20d</td>\n",
       "      <td>POLYGON ((944681.4200000018 161477.381400004, ...</td>\n",
       "    </tr>\n",
       "    <tr>\n",
       "      <th>1</th>\n",
       "      <td>0.0</td>\n",
       "      <td>None</td>\n",
       "      <td>CUNARD AVENUE</td>\n",
       "      <td>R3A/HS</td>\n",
       "      <td>None</td>\n",
       "      <td>4</td>\n",
       "      <td>21518.0</td>\n",
       "      <td>21518.0</td>\n",
       "      <td>5006230252.0</td>\n",
       "      <td>0</td>\n",
       "      <td>...</td>\n",
       "      <td>0</td>\n",
       "      <td>0</td>\n",
       "      <td>None</td>\n",
       "      <td>10304</td>\n",
       "      <td>R3A</td>\n",
       "      <td>None</td>\n",
       "      <td>None</td>\n",
       "      <td>None</td>\n",
       "      <td>21d</td>\n",
       "      <td>POLYGON ((959872.0577999949 162992.5866000056,...</td>\n",
       "    </tr>\n",
       "    <tr>\n",
       "      <th>2</th>\n",
       "      <td>0.0</td>\n",
       "      <td>None</td>\n",
       "      <td>121 MOUNTAINVIEW AVENUE</td>\n",
       "      <td>R3-1</td>\n",
       "      <td>None</td>\n",
       "      <td>7</td>\n",
       "      <td>13561.0</td>\n",
       "      <td>22602.0</td>\n",
       "      <td>5007130017.0</td>\n",
       "      <td>1316</td>\n",
       "      <td>...</td>\n",
       "      <td>0</td>\n",
       "      <td>1920</td>\n",
       "      <td>None</td>\n",
       "      <td>10314</td>\n",
       "      <td>R3-1</td>\n",
       "      <td>None</td>\n",
       "      <td>None</td>\n",
       "      <td>None</td>\n",
       "      <td>21b</td>\n",
       "      <td>POLYGON ((949278.1987999976 161346.9971999973,...</td>\n",
       "    </tr>\n",
       "    <tr>\n",
       "      <th>3</th>\n",
       "      <td>0.0</td>\n",
       "      <td>None</td>\n",
       "      <td>26 FANNING STREET</td>\n",
       "      <td>R3X</td>\n",
       "      <td>None</td>\n",
       "      <td>7</td>\n",
       "      <td>9720.0</td>\n",
       "      <td>28740.0</td>\n",
       "      <td>5007140091.0</td>\n",
       "      <td>2188</td>\n",
       "      <td>...</td>\n",
       "      <td>0</td>\n",
       "      <td>1975</td>\n",
       "      <td>None</td>\n",
       "      <td>10314</td>\n",
       "      <td>R3X</td>\n",
       "      <td>None</td>\n",
       "      <td>None</td>\n",
       "      <td>None</td>\n",
       "      <td>21b</td>\n",
       "      <td>POLYGON ((950061.0491999984 160815.3023999929,...</td>\n",
       "    </tr>\n",
       "    <tr>\n",
       "      <th>4</th>\n",
       "      <td>0.0</td>\n",
       "      <td>None</td>\n",
       "      <td>335 SIMONSON AVENUE</td>\n",
       "      <td>R3A</td>\n",
       "      <td>None</td>\n",
       "      <td>7</td>\n",
       "      <td>7617.0</td>\n",
       "      <td>22118.0</td>\n",
       "      <td>5011840039.0</td>\n",
       "      <td>2392</td>\n",
       "      <td>...</td>\n",
       "      <td>0</td>\n",
       "      <td>1965</td>\n",
       "      <td>None</td>\n",
       "      <td>10303</td>\n",
       "      <td>R3A</td>\n",
       "      <td>None</td>\n",
       "      <td>None</td>\n",
       "      <td>None</td>\n",
       "      <td>20c</td>\n",
       "      <td>POLYGON ((941981.4906000048 168120.2173999995,...</td>\n",
       "    </tr>\n",
       "  </tbody>\n",
       "</table>\n",
       "<p>5 rows × 87 columns</p>\n",
       "</div>"
      ],
      "text/plain": [
       "   APPBBL APPDate                  Address AllZoning1 AllZoning2 AreaSource  \\\n",
       "0     0.0    None         437 PURDY AVENUE       R3-1       None          7   \n",
       "1     0.0    None            CUNARD AVENUE     R3A/HS       None          4   \n",
       "2     0.0    None  121 MOUNTAINVIEW AVENUE       R3-1       None          7   \n",
       "3     0.0    None        26 FANNING STREET        R3X       None          7   \n",
       "4     0.0    None      335 SIMONSON AVENUE        R3A       None          7   \n",
       "\n",
       "   AssessLand  AssessTot           BBL  BldgArea  \\\n",
       "0     15120.0    23400.0  5007470028.0      1488   \n",
       "1     21518.0    21518.0  5006230252.0         0   \n",
       "2     13561.0    22602.0  5007130017.0      1316   \n",
       "3      9720.0    28740.0  5007140091.0      2188   \n",
       "4      7617.0    22118.0  5011840039.0      2392   \n",
       "\n",
       "                         ...                         YearAlter2  YearBuilt  \\\n",
       "0                        ...                                  0       1960   \n",
       "1                        ...                                  0          0   \n",
       "2                        ...                                  0       1920   \n",
       "3                        ...                                  0       1975   \n",
       "4                        ...                                  0       1965   \n",
       "\n",
       "   ZMCode  ZipCode  ZoneDist1 ZoneDist2 ZoneDist3 ZoneDist4  ZoneMap  \\\n",
       "0    None    10314       R3-1      None      None      None      20d   \n",
       "1    None    10304        R3A      None      None      None      21d   \n",
       "2    None    10314       R3-1      None      None      None      21b   \n",
       "3    None    10314        R3X      None      None      None      21b   \n",
       "4    None    10303        R3A      None      None      None      20c   \n",
       "\n",
       "                                            geometry  \n",
       "0  POLYGON ((944681.4200000018 161477.381400004, ...  \n",
       "1  POLYGON ((959872.0577999949 162992.5866000056,...  \n",
       "2  POLYGON ((949278.1987999976 161346.9971999973,...  \n",
       "3  POLYGON ((950061.0491999984 160815.3023999929,...  \n",
       "4  POLYGON ((941981.4906000048 168120.2173999995,...  \n",
       "\n",
       "[5 rows x 87 columns]"
      ]
     },
     "execution_count": 3,
     "metadata": {},
     "output_type": "execute_result"
    }
   ],
   "source": [
    "pluto('../data_initial/mappluto_16v2.zip')"
   ]
  },
  {
   "cell_type": "code",
   "execution_count": 161,
   "metadata": {
    "collapsed": true
   },
   "outputs": [],
   "source": [
    "pluto_updated.to_csv('../data_processed/pluto_16')"
   ]
  },
  {
   "cell_type": "markdown",
   "metadata": {},
   "source": [
    "### there are no 'ownernames' with 'nyc housing authority' or 'nyc housing' so using ownertype instead"
   ]
  },
  {
   "cell_type": "code",
   "execution_count": 306,
   "metadata": {
    "collapsed": false
   },
   "outputs": [],
   "source": [
    "pluto_updated = pd.read_csv('../data_processed/pluto_16')"
   ]
  },
  {
   "cell_type": "code",
   "execution_count": 307,
   "metadata": {
    "collapsed": false
   },
   "outputs": [],
   "source": [
    "pluto_updated = pluto_updated.drop('Unnamed: 0',axis=1)"
   ]
  },
  {
   "cell_type": "code",
   "execution_count": 308,
   "metadata": {
    "collapsed": false
   },
   "outputs": [
    {
     "data": {
      "text/html": [
       "<div>\n",
       "<table border=\"1\" class=\"dataframe\">\n",
       "  <thead>\n",
       "    <tr style=\"text-align: right;\">\n",
       "      <th></th>\n",
       "      <th>APPBBL</th>\n",
       "      <th>APPDate</th>\n",
       "      <th>Address</th>\n",
       "      <th>AllZoning1</th>\n",
       "      <th>AllZoning2</th>\n",
       "      <th>AreaSource</th>\n",
       "      <th>AssessLand</th>\n",
       "      <th>AssessTot</th>\n",
       "      <th>BBL</th>\n",
       "      <th>BldgArea</th>\n",
       "      <th>...</th>\n",
       "      <th>YearAlter2</th>\n",
       "      <th>YearBuilt</th>\n",
       "      <th>ZMCode</th>\n",
       "      <th>ZipCode</th>\n",
       "      <th>ZoneDist1</th>\n",
       "      <th>ZoneDist2</th>\n",
       "      <th>ZoneDist3</th>\n",
       "      <th>ZoneDist4</th>\n",
       "      <th>ZoneMap</th>\n",
       "      <th>geometry</th>\n",
       "    </tr>\n",
       "  </thead>\n",
       "  <tbody>\n",
       "    <tr>\n",
       "      <th>0</th>\n",
       "      <td>0.0</td>\n",
       "      <td>NaN</td>\n",
       "      <td>437 PURDY AVENUE</td>\n",
       "      <td>R3-1</td>\n",
       "      <td>NaN</td>\n",
       "      <td>7</td>\n",
       "      <td>15120.0</td>\n",
       "      <td>23400.0</td>\n",
       "      <td>5.007470e+09</td>\n",
       "      <td>1488</td>\n",
       "      <td>...</td>\n",
       "      <td>0</td>\n",
       "      <td>1960</td>\n",
       "      <td>NaN</td>\n",
       "      <td>10314</td>\n",
       "      <td>R3-1</td>\n",
       "      <td>NaN</td>\n",
       "      <td>NaN</td>\n",
       "      <td>NaN</td>\n",
       "      <td>20d</td>\n",
       "      <td>POLYGON ((944681.4200000018 161477.381400004, ...</td>\n",
       "    </tr>\n",
       "    <tr>\n",
       "      <th>1</th>\n",
       "      <td>0.0</td>\n",
       "      <td>NaN</td>\n",
       "      <td>CUNARD AVENUE</td>\n",
       "      <td>R3A/HS</td>\n",
       "      <td>NaN</td>\n",
       "      <td>4</td>\n",
       "      <td>21518.0</td>\n",
       "      <td>21518.0</td>\n",
       "      <td>5.006230e+09</td>\n",
       "      <td>0</td>\n",
       "      <td>...</td>\n",
       "      <td>0</td>\n",
       "      <td>0</td>\n",
       "      <td>NaN</td>\n",
       "      <td>10304</td>\n",
       "      <td>R3A</td>\n",
       "      <td>NaN</td>\n",
       "      <td>NaN</td>\n",
       "      <td>NaN</td>\n",
       "      <td>21d</td>\n",
       "      <td>POLYGON ((959872.0577999949 162992.5866000056,...</td>\n",
       "    </tr>\n",
       "  </tbody>\n",
       "</table>\n",
       "<p>2 rows × 87 columns</p>\n",
       "</div>"
      ],
      "text/plain": [
       "   APPBBL APPDate           Address AllZoning1 AllZoning2  AreaSource  \\\n",
       "0     0.0     NaN  437 PURDY AVENUE       R3-1        NaN           7   \n",
       "1     0.0     NaN     CUNARD AVENUE     R3A/HS        NaN           4   \n",
       "\n",
       "   AssessLand  AssessTot           BBL  BldgArea  \\\n",
       "0     15120.0    23400.0  5.007470e+09      1488   \n",
       "1     21518.0    21518.0  5.006230e+09         0   \n",
       "\n",
       "                         ...                         YearAlter2  YearBuilt  \\\n",
       "0                        ...                                  0       1960   \n",
       "1                        ...                                  0          0   \n",
       "\n",
       "   ZMCode  ZipCode  ZoneDist1 ZoneDist2  ZoneDist3 ZoneDist4  ZoneMap  \\\n",
       "0     NaN    10314       R3-1       NaN        NaN       NaN      20d   \n",
       "1     NaN    10304        R3A       NaN        NaN       NaN      21d   \n",
       "\n",
       "                                            geometry  \n",
       "0  POLYGON ((944681.4200000018 161477.381400004, ...  \n",
       "1  POLYGON ((959872.0577999949 162992.5866000056,...  \n",
       "\n",
       "[2 rows x 87 columns]"
      ]
     },
     "execution_count": 308,
     "metadata": {},
     "output_type": "execute_result"
    }
   ],
   "source": [
    "pluto_updated.head(2)"
   ]
  },
  {
   "cell_type": "code",
   "execution_count": 309,
   "metadata": {
    "collapsed": false
   },
   "outputs": [],
   "source": [
    "t1 = pluto_updated[pluto_updated['UnitsRes'] != 0]\n",
    "#t1 = t1[(t1['OwnerName'] != 'NYC HOUSING AUTHORITY') & (t1['OwnerName'] != 'NYC HOUSING')]"
   ]
  },
  {
   "cell_type": "markdown",
   "metadata": {},
   "source": [
    "### create categorical variables from building class feature"
   ]
  },
  {
   "cell_type": "code",
   "execution_count": 310,
   "metadata": {
    "collapsed": true
   },
   "outputs": [],
   "source": [
    "var = []\n",
    "i=0\n",
    "for elem in t1['BldgClass']:\n",
    "    if elem[i][0] == 'A':\n",
    "        var.append(1)\n",
    "    elif elem[i][0] == 'B':\n",
    "        var.append(2)\n",
    "    elif elem[i][0] == 'C':\n",
    "        var.append(3)\n",
    "    elif elem[i][0] == 'S':\n",
    "        var.append(3)\n",
    "    elif elem[i][0] == 'D':\n",
    "        var.append(4)\n",
    "    elif elem[i] == 'O8':\n",
    "        var.append(4)\n",
    "    elif elem[i][0] == 'L':\n",
    "        var.append(6)\n",
    "    elif elem[i][0] == 'R':\n",
    "        var.append(5)\n",
    "    else:\n",
    "        var.append(0)"
   ]
  },
  {
   "cell_type": "code",
   "execution_count": 311,
   "metadata": {
    "collapsed": false
   },
   "outputs": [
    {
     "name": "stderr",
     "output_type": "stream",
     "text": [
      "/anaconda/lib/python2.7/site-packages/ipykernel/__main__.py:1: SettingWithCopyWarning: \n",
      "A value is trying to be set on a copy of a slice from a DataFrame.\n",
      "Try using .loc[row_indexer,col_indexer] = value instead\n",
      "\n",
      "See the caveats in the documentation: http://pandas.pydata.org/pandas-docs/stable/indexing.html#indexing-view-versus-copy\n",
      "  if __name__ == '__main__':\n"
     ]
    }
   ],
   "source": [
    "t1['bldgclass_updated'] = var"
   ]
  },
  {
   "cell_type": "code",
   "execution_count": 312,
   "metadata": {
    "collapsed": false
   },
   "outputs": [
    {
     "data": {
      "text/html": [
       "<div>\n",
       "<table border=\"1\" class=\"dataframe\">\n",
       "  <thead>\n",
       "    <tr style=\"text-align: right;\">\n",
       "      <th></th>\n",
       "      <th>APPBBL</th>\n",
       "      <th>APPDate</th>\n",
       "      <th>Address</th>\n",
       "      <th>AllZoning1</th>\n",
       "      <th>AllZoning2</th>\n",
       "      <th>AreaSource</th>\n",
       "      <th>AssessLand</th>\n",
       "      <th>AssessTot</th>\n",
       "      <th>BBL</th>\n",
       "      <th>BldgArea</th>\n",
       "      <th>...</th>\n",
       "      <th>YearBuilt</th>\n",
       "      <th>ZMCode</th>\n",
       "      <th>ZipCode</th>\n",
       "      <th>ZoneDist1</th>\n",
       "      <th>ZoneDist2</th>\n",
       "      <th>ZoneDist3</th>\n",
       "      <th>ZoneDist4</th>\n",
       "      <th>ZoneMap</th>\n",
       "      <th>geometry</th>\n",
       "      <th>bldgclass_updated</th>\n",
       "    </tr>\n",
       "  </thead>\n",
       "  <tbody>\n",
       "    <tr>\n",
       "      <th>0</th>\n",
       "      <td>0.0</td>\n",
       "      <td>NaN</td>\n",
       "      <td>437 PURDY AVENUE</td>\n",
       "      <td>R3-1</td>\n",
       "      <td>NaN</td>\n",
       "      <td>7</td>\n",
       "      <td>15120.0</td>\n",
       "      <td>23400.0</td>\n",
       "      <td>5.007470e+09</td>\n",
       "      <td>1488</td>\n",
       "      <td>...</td>\n",
       "      <td>1960</td>\n",
       "      <td>NaN</td>\n",
       "      <td>10314</td>\n",
       "      <td>R3-1</td>\n",
       "      <td>NaN</td>\n",
       "      <td>NaN</td>\n",
       "      <td>NaN</td>\n",
       "      <td>20d</td>\n",
       "      <td>POLYGON ((944681.4200000018 161477.381400004, ...</td>\n",
       "      <td>2</td>\n",
       "    </tr>\n",
       "    <tr>\n",
       "      <th>2</th>\n",
       "      <td>0.0</td>\n",
       "      <td>NaN</td>\n",
       "      <td>121 MOUNTAINVIEW AVENUE</td>\n",
       "      <td>R3-1</td>\n",
       "      <td>NaN</td>\n",
       "      <td>7</td>\n",
       "      <td>13561.0</td>\n",
       "      <td>22602.0</td>\n",
       "      <td>5.007130e+09</td>\n",
       "      <td>1316</td>\n",
       "      <td>...</td>\n",
       "      <td>1920</td>\n",
       "      <td>NaN</td>\n",
       "      <td>10314</td>\n",
       "      <td>R3-1</td>\n",
       "      <td>NaN</td>\n",
       "      <td>NaN</td>\n",
       "      <td>NaN</td>\n",
       "      <td>21b</td>\n",
       "      <td>POLYGON ((949278.1987999976 161346.9971999973,...</td>\n",
       "      <td>1</td>\n",
       "    </tr>\n",
       "  </tbody>\n",
       "</table>\n",
       "<p>2 rows × 88 columns</p>\n",
       "</div>"
      ],
      "text/plain": [
       "   APPBBL APPDate                  Address AllZoning1 AllZoning2  AreaSource  \\\n",
       "0     0.0     NaN         437 PURDY AVENUE       R3-1        NaN           7   \n",
       "2     0.0     NaN  121 MOUNTAINVIEW AVENUE       R3-1        NaN           7   \n",
       "\n",
       "   AssessLand  AssessTot           BBL  BldgArea        ...         YearBuilt  \\\n",
       "0     15120.0    23400.0  5.007470e+09      1488        ...              1960   \n",
       "2     13561.0    22602.0  5.007130e+09      1316        ...              1920   \n",
       "\n",
       "   ZMCode  ZipCode  ZoneDist1  ZoneDist2 ZoneDist3  ZoneDist4 ZoneMap  \\\n",
       "0     NaN    10314       R3-1        NaN       NaN        NaN     20d   \n",
       "2     NaN    10314       R3-1        NaN       NaN        NaN     21b   \n",
       "\n",
       "                                            geometry  bldgclass_updated  \n",
       "0  POLYGON ((944681.4200000018 161477.381400004, ...                  2  \n",
       "2  POLYGON ((949278.1987999976 161346.9971999973,...                  1  \n",
       "\n",
       "[2 rows x 88 columns]"
      ]
     },
     "execution_count": 312,
     "metadata": {},
     "output_type": "execute_result"
    }
   ],
   "source": [
    "t1.head(2)"
   ]
  },
  {
   "cell_type": "code",
   "execution_count": 313,
   "metadata": {
    "collapsed": false
   },
   "outputs": [
    {
     "data": {
      "text/plain": [
       "759588"
      ]
     },
     "execution_count": 313,
     "metadata": {},
     "output_type": "execute_result"
    }
   ],
   "source": [
    "len(t1)"
   ]
  },
  {
   "cell_type": "code",
   "execution_count": 314,
   "metadata": {
    "collapsed": true
   },
   "outputs": [],
   "source": [
    "t2 = pluto_updated[pluto_updated['ResArea'] != 0]\n",
    "#t2 = t2[(t2['OwnerType'] != 'O') & (t2['OwnerType'] != 'C')]"
   ]
  },
  {
   "cell_type": "code",
   "execution_count": 315,
   "metadata": {
    "collapsed": false
   },
   "outputs": [
    {
     "data": {
      "text/plain": [
       "758493"
      ]
     },
     "execution_count": 315,
     "metadata": {},
     "output_type": "execute_result"
    }
   ],
   "source": [
    "len(t2)"
   ]
  },
  {
   "cell_type": "markdown",
   "metadata": {},
   "source": [
    "### selecting to use 'unitsres' as the value for not equalling zero because there are more rows included"
   ]
  },
  {
   "cell_type": "code",
   "execution_count": 316,
   "metadata": {
    "collapsed": false
   },
   "outputs": [
    {
     "data": {
      "text/plain": [
       "Index([u'APPBBL', u'APPDate', u'Address', u'AllZoning1', u'AllZoning2',\n",
       "       u'AreaSource', u'AssessLand', u'AssessTot', u'BBL', u'BldgArea',\n",
       "       u'BldgClass', u'BldgDepth', u'BldgFront', u'Block', u'BoroCode',\n",
       "       u'Borough', u'BsmtCode', u'BuiltCode', u'BuiltFAR', u'CB2010', u'CD',\n",
       "       u'CT2010', u'ComArea', u'CommFAR', u'CondoNo', u'Council', u'EDesigNum',\n",
       "       u'Easements', u'ExemptLand', u'ExemptTot', u'Ext', u'FacilFAR',\n",
       "       u'FactryArea', u'FireComp', u'GarageArea', u'HealthArea', u'HistDist',\n",
       "       u'IrrLotCode', u'LandUse', u'Landmark', u'Lot', u'LotArea', u'LotDepth',\n",
       "       u'LotFront', u'LotType', u'LtdHeight', u'MAPPLUTO_F', u'NumBldgs',\n",
       "       u'NumFloors', u'OfficeArea', u'OtherArea', u'Overlay1', u'Overlay2',\n",
       "       u'OwnerName', u'OwnerType', u'PLUTOMapID', u'PolicePrct', u'ProxCode',\n",
       "       u'ResArea', u'ResidFAR', u'RetailArea', u'SHAPE_Area', u'SHAPE_Leng',\n",
       "       u'SPDist1', u'SPDist2', u'Sanborn', u'SchoolDist', u'SplitZone',\n",
       "       u'StrgeArea', u'TaxMap', u'Tract2010', u'UnitsRes', u'UnitsTotal',\n",
       "       u'Version', u'XCoord', u'YCoord', u'YearAlter1', u'YearAlter2',\n",
       "       u'YearBuilt', u'ZMCode', u'ZipCode', u'ZoneDist1', u'ZoneDist2',\n",
       "       u'ZoneDist3', u'ZoneDist4', u'ZoneMap', u'geometry',\n",
       "       u'bldgclass_updated'],\n",
       "      dtype='object')"
      ]
     },
     "execution_count": 316,
     "metadata": {},
     "output_type": "execute_result"
    }
   ],
   "source": [
    "t1.columns"
   ]
  },
  {
   "cell_type": "code",
   "execution_count": 317,
   "metadata": {
    "collapsed": false
   },
   "outputs": [],
   "source": [
    "t1 = t1.drop(['APPBBL', 'APPDate', 'Address', 'AreaSource', 'BldgDepth', 'BldgFront', \\\n",
    "                                   'Block', 'BoroCode', 'Borough', 'CB2010', 'CD', 'CT2010', 'ComArea', \\\n",
    "                                   'CommFAR', 'CondoNo', 'Council', 'EDesigNum', 'FacilFAR', 'FactryArea', \\\n",
    "                                   'FireComp', 'GarageArea', 'HealthArea', 'HistDist', 'IrrLotCode', 'Landmark', \\\n",
    "                                   'Lot', 'LotArea', 'LotDepth', 'LotFront', 'LtdHeight', 'MAPPLUTO_F', \\\n",
    "             'OfficeArea', 'OtherArea', 'Overlay1', 'Overlay2', 'PLUTOMapID', 'PolicePrct', 'ResidFAR', \\\n",
    "             'RetailArea', 'Sanborn', 'SchoolDist', 'StrgeArea', 'TaxMap', 'Tract2010', 'YearAlter1', \\\n",
    "             'YearAlter2', 'ZoneDist1', 'ZipCode', 'ZoneDist2', 'ZoneDist3', 'ZoneDist4', 'ZoneMap', \\\n",
    "             'XCoord', 'Version', 'YCoord', 'ZMCode', 'SPDist1', 'SPDist2', 'ExemptTot', 'BuiltCode', \\\n",
    "             'AllZoning1', 'AllZoning2', 'ExemptLand', 'geometry', 'Easements', 'SHAPE_Area', 'SHAPE_Leng', \\\n",
    "             'OwnerName', 'Ext', 'SplitZone', 'BldgClass', 'AssessTot', 'BldgArea', 'UnitsTotal'], axis=1)"
   ]
  },
  {
   "cell_type": "code",
   "execution_count": 318,
   "metadata": {
    "collapsed": false
   },
   "outputs": [
    {
     "data": {
      "text/plain": [
       "Index([u'AssessLand', u'BBL', u'BsmtCode', u'BuiltFAR', u'LandUse', u'LotType',\n",
       "       u'NumBldgs', u'NumFloors', u'OwnerType', u'ProxCode', u'ResArea',\n",
       "       u'UnitsRes', u'YearBuilt', u'bldgclass_updated'],\n",
       "      dtype='object')"
      ]
     },
     "execution_count": 318,
     "metadata": {},
     "output_type": "execute_result"
    }
   ],
   "source": [
    "t1.columns"
   ]
  },
  {
   "cell_type": "markdown",
   "metadata": {},
   "source": [
    "### explanation of variables in dataset\n",
    "* assessland -  tentative assessed land value for Fiscal Year 2017\n",
    "* assesstot - tentative assessed total value for Fiscal Year 2017\n",
    "* bldgarea - total gross area in square feet\n",
    "* bldgclass - code describing the major use of structures on the tax lot\n",
    "* bsmtcode - code describing the basement type/grade - 0: no basement, 1: full basement above grade, 2: full basement below grade, 3: partial basement above grade, 4: partial basement below grade, 5: unknown\n",
    "* landuse - code for the tax lot's land use category (01-09)\n",
    "* lottype - code indicating the location of the tax lot to another tax lot and/or the water (1-9)\n",
    "* numbldgs - number of buildings in the tax lot\n",
    "* numfloors - the tallest building on the tax lot, the number of full and partial stories starting from the ground floor\n",
    "* ownertype - M: mix city and private ownership, P: private ownership, X: mixed (excludes C, M, O, or P ownerships), blank: unknown\n",
    "* proxcode - physical relationship of the building to neighboring buildings - 0: not available, 1: detatched, 2: semi-attached, 3: attached\n",
    "* resarea - estimate of the exterior dimensions of the portion of the structure(s) allocated for residential use\n",
    "* unitsres - sum of residential units in all buildings on the tax lot\n",
    "* unitstotal - sum of residential and non-residential (offices, retail stores, etc.) units in all buildings on the tax lot\n",
    "* yearbuilt - year structure was built"
   ]
  },
  {
   "cell_type": "markdown",
   "metadata": {},
   "source": [
    "### merge pluto with complaint data"
   ]
  },
  {
   "cell_type": "code",
   "execution_count": 319,
   "metadata": {
    "collapsed": false
   },
   "outputs": [
    {
     "data": {
      "text/html": [
       "<div>\n",
       "<table border=\"1\" class=\"dataframe\">\n",
       "  <thead>\n",
       "    <tr style=\"text-align: right;\">\n",
       "      <th></th>\n",
       "      <th>BBL</th>\n",
       "      <th>com_count</th>\n",
       "      <th>BBL.1</th>\n",
       "    </tr>\n",
       "  </thead>\n",
       "  <tbody>\n",
       "    <tr>\n",
       "      <th>0</th>\n",
       "      <td>1000047501</td>\n",
       "      <td>0.020408</td>\n",
       "      <td>1000047501</td>\n",
       "    </tr>\n",
       "    <tr>\n",
       "      <th>1</th>\n",
       "      <td>1000100032</td>\n",
       "      <td>0.006803</td>\n",
       "      <td>1000100032</td>\n",
       "    </tr>\n",
       "    <tr>\n",
       "      <th>2</th>\n",
       "      <td>1000150022</td>\n",
       "      <td>0.006803</td>\n",
       "      <td>1000150022</td>\n",
       "    </tr>\n",
       "    <tr>\n",
       "      <th>3</th>\n",
       "      <td>1000160015</td>\n",
       "      <td>0.006803</td>\n",
       "      <td>1000160015</td>\n",
       "    </tr>\n",
       "    <tr>\n",
       "      <th>4</th>\n",
       "      <td>1000160020</td>\n",
       "      <td>0.013605</td>\n",
       "      <td>1000160020</td>\n",
       "    </tr>\n",
       "  </tbody>\n",
       "</table>\n",
       "</div>"
      ],
      "text/plain": [
       "          BBL  com_count       BBL.1\n",
       "0  1000047501   0.020408  1000047501\n",
       "1  1000100032   0.006803  1000100032\n",
       "2  1000150022   0.006803  1000150022\n",
       "3  1000160015   0.006803  1000160015\n",
       "4  1000160020   0.013605  1000160020"
      ]
     },
     "execution_count": 319,
     "metadata": {},
     "output_type": "execute_result"
    }
   ],
   "source": [
    "comp = pd.read_csv('../data_processed/311_heathotwater_2014_2016_BBL_WEEK_AVG.csv')\n",
    "comp.head()"
   ]
  },
  {
   "cell_type": "code",
   "execution_count": 320,
   "metadata": {
    "collapsed": true
   },
   "outputs": [],
   "source": [
    "comp = comp.drop('BBL.1',axis=1)"
   ]
  },
  {
   "cell_type": "code",
   "execution_count": 321,
   "metadata": {
    "collapsed": false
   },
   "outputs": [
    {
     "name": "stdout",
     "output_type": "stream",
     "text": [
      "int64\n",
      "float64\n"
     ]
    }
   ],
   "source": [
    "print comp['BBL'].dtypes\n",
    "print t1['BBL'].dtypes"
   ]
  },
  {
   "cell_type": "code",
   "execution_count": 322,
   "metadata": {
    "collapsed": true
   },
   "outputs": [],
   "source": [
    "import numpy as np"
   ]
  },
  {
   "cell_type": "code",
   "execution_count": 323,
   "metadata": {
    "collapsed": true
   },
   "outputs": [],
   "source": [
    "t1['BBL'] = pd.to_numeric(t1['BBL'])"
   ]
  },
  {
   "cell_type": "code",
   "execution_count": 324,
   "metadata": {
    "collapsed": false
   },
   "outputs": [],
   "source": [
    "bbl = np.array(t1['BBL'])\n",
    "bbl = bbl.astype(int)"
   ]
  },
  {
   "cell_type": "code",
   "execution_count": 325,
   "metadata": {
    "collapsed": false
   },
   "outputs": [],
   "source": [
    "t1['BBL'] = bbl"
   ]
  },
  {
   "cell_type": "code",
   "execution_count": 326,
   "metadata": {
    "collapsed": false
   },
   "outputs": [
    {
     "name": "stdout",
     "output_type": "stream",
     "text": [
      "int64\n",
      "int64\n"
     ]
    }
   ],
   "source": [
    "print comp['BBL'].dtypes\n",
    "print t1['BBL'].dtypes"
   ]
  },
  {
   "cell_type": "code",
   "execution_count": 327,
   "metadata": {
    "collapsed": false
   },
   "outputs": [],
   "source": [
    "features = pd.merge(t1, comp, on ='BBL')"
   ]
  },
  {
   "cell_type": "code",
   "execution_count": 328,
   "metadata": {
    "collapsed": false
   },
   "outputs": [
    {
     "name": "stdout",
     "output_type": "stream",
     "text": [
      "759588\n",
      "53310\n",
      "51782\n"
     ]
    }
   ],
   "source": [
    "print len(t1)\n",
    "print len(comp)\n",
    "print len(features)"
   ]
  },
  {
   "cell_type": "code",
   "execution_count": 329,
   "metadata": {
    "collapsed": false
   },
   "outputs": [
    {
     "data": {
      "text/html": [
       "<div>\n",
       "<table border=\"1\" class=\"dataframe\">\n",
       "  <thead>\n",
       "    <tr style=\"text-align: right;\">\n",
       "      <th></th>\n",
       "      <th>AssessLand</th>\n",
       "      <th>BBL</th>\n",
       "      <th>BsmtCode</th>\n",
       "      <th>BuiltFAR</th>\n",
       "      <th>LandUse</th>\n",
       "      <th>LotType</th>\n",
       "      <th>NumBldgs</th>\n",
       "      <th>NumFloors</th>\n",
       "      <th>OwnerType</th>\n",
       "      <th>ProxCode</th>\n",
       "      <th>ResArea</th>\n",
       "      <th>UnitsRes</th>\n",
       "      <th>YearBuilt</th>\n",
       "      <th>bldgclass_updated</th>\n",
       "      <th>com_count</th>\n",
       "    </tr>\n",
       "  </thead>\n",
       "  <tbody>\n",
       "    <tr>\n",
       "      <th>0</th>\n",
       "      <td>8441.0</td>\n",
       "      <td>5010310021</td>\n",
       "      <td>2.0</td>\n",
       "      <td>0.70</td>\n",
       "      <td>2.0</td>\n",
       "      <td>5.0</td>\n",
       "      <td>1</td>\n",
       "      <td>2.75</td>\n",
       "      <td>NaN</td>\n",
       "      <td>1.0</td>\n",
       "      <td>4710</td>\n",
       "      <td>3</td>\n",
       "      <td>1920</td>\n",
       "      <td>3</td>\n",
       "      <td>0.013605</td>\n",
       "    </tr>\n",
       "    <tr>\n",
       "      <th>1</th>\n",
       "      <td>6480.0</td>\n",
       "      <td>5012460037</td>\n",
       "      <td>2.0</td>\n",
       "      <td>0.92</td>\n",
       "      <td>1.0</td>\n",
       "      <td>5.0</td>\n",
       "      <td>1</td>\n",
       "      <td>2.00</td>\n",
       "      <td>NaN</td>\n",
       "      <td>1.0</td>\n",
       "      <td>2700</td>\n",
       "      <td>2</td>\n",
       "      <td>2003</td>\n",
       "      <td>2</td>\n",
       "      <td>0.034014</td>\n",
       "    </tr>\n",
       "    <tr>\n",
       "      <th>2</th>\n",
       "      <td>9007.0</td>\n",
       "      <td>5033390088</td>\n",
       "      <td>2.0</td>\n",
       "      <td>0.48</td>\n",
       "      <td>1.0</td>\n",
       "      <td>5.0</td>\n",
       "      <td>1</td>\n",
       "      <td>2.00</td>\n",
       "      <td>NaN</td>\n",
       "      <td>1.0</td>\n",
       "      <td>1976</td>\n",
       "      <td>2</td>\n",
       "      <td>1955</td>\n",
       "      <td>2</td>\n",
       "      <td>0.054422</td>\n",
       "    </tr>\n",
       "    <tr>\n",
       "      <th>3</th>\n",
       "      <td>3980.0</td>\n",
       "      <td>5000810024</td>\n",
       "      <td>2.0</td>\n",
       "      <td>0.54</td>\n",
       "      <td>1.0</td>\n",
       "      <td>5.0</td>\n",
       "      <td>1</td>\n",
       "      <td>2.00</td>\n",
       "      <td>NaN</td>\n",
       "      <td>1.0</td>\n",
       "      <td>1344</td>\n",
       "      <td>1</td>\n",
       "      <td>1901</td>\n",
       "      <td>1</td>\n",
       "      <td>0.074830</td>\n",
       "    </tr>\n",
       "    <tr>\n",
       "      <th>4</th>\n",
       "      <td>96750.0</td>\n",
       "      <td>5000440001</td>\n",
       "      <td>5.0</td>\n",
       "      <td>0.66</td>\n",
       "      <td>2.0</td>\n",
       "      <td>3.0</td>\n",
       "      <td>1</td>\n",
       "      <td>2.00</td>\n",
       "      <td>P</td>\n",
       "      <td>0.0</td>\n",
       "      <td>14156</td>\n",
       "      <td>16</td>\n",
       "      <td>1984</td>\n",
       "      <td>3</td>\n",
       "      <td>0.006803</td>\n",
       "    </tr>\n",
       "  </tbody>\n",
       "</table>\n",
       "</div>"
      ],
      "text/plain": [
       "   AssessLand         BBL  BsmtCode  BuiltFAR  LandUse  LotType  NumBldgs  \\\n",
       "0      8441.0  5010310021       2.0      0.70      2.0      5.0         1   \n",
       "1      6480.0  5012460037       2.0      0.92      1.0      5.0         1   \n",
       "2      9007.0  5033390088       2.0      0.48      1.0      5.0         1   \n",
       "3      3980.0  5000810024       2.0      0.54      1.0      5.0         1   \n",
       "4     96750.0  5000440001       5.0      0.66      2.0      3.0         1   \n",
       "\n",
       "   NumFloors OwnerType  ProxCode  ResArea  UnitsRes  YearBuilt  \\\n",
       "0       2.75       NaN       1.0     4710         3       1920   \n",
       "1       2.00       NaN       1.0     2700         2       2003   \n",
       "2       2.00       NaN       1.0     1976         2       1955   \n",
       "3       2.00       NaN       1.0     1344         1       1901   \n",
       "4       2.00         P       0.0    14156        16       1984   \n",
       "\n",
       "   bldgclass_updated  com_count  \n",
       "0                  3   0.013605  \n",
       "1                  2   0.034014  \n",
       "2                  2   0.054422  \n",
       "3                  1   0.074830  \n",
       "4                  3   0.006803  "
      ]
     },
     "execution_count": 329,
     "metadata": {},
     "output_type": "execute_result"
    }
   ],
   "source": [
    "features.head()"
   ]
  },
  {
   "cell_type": "code",
   "execution_count": 330,
   "metadata": {
    "collapsed": true
   },
   "outputs": [],
   "source": [
    "features.to_csv('../data_processed/mappluto_16_features')"
   ]
  },
  {
   "cell_type": "markdown",
   "metadata": {},
   "source": [
    "### select features with ensemble decision tree and random forest classifiers"
   ]
  },
  {
   "cell_type": "code",
   "execution_count": 331,
   "metadata": {
    "collapsed": true
   },
   "outputs": [],
   "source": [
    "features = features.drop('BBL',axis=1)"
   ]
  },
  {
   "cell_type": "code",
   "execution_count": 332,
   "metadata": {
    "collapsed": true
   },
   "outputs": [],
   "source": [
    "from sklearn import metrics\n",
    "from sklearn.ensemble import ExtraTreesClassifier\n",
    "from sklearn import preprocessing\n",
    "from sklearn.ensemble import RandomForestClassifier\n",
    "from sklearn.ensemble import RandomForestRegressor\n",
    "from sklearn.ensemble import ExtraTreesRegressor"
   ]
  },
  {
   "cell_type": "code",
   "execution_count": 333,
   "metadata": {
    "collapsed": true
   },
   "outputs": [],
   "source": [
    "import random\n",
    "random.seed(123)"
   ]
  },
  {
   "cell_type": "code",
   "execution_count": 334,
   "metadata": {
    "collapsed": true
   },
   "outputs": [],
   "source": [
    "le = preprocessing.LabelEncoder()"
   ]
  },
  {
   "cell_type": "code",
   "execution_count": 335,
   "metadata": {
    "collapsed": false
   },
   "outputs": [],
   "source": [
    "#le.fit([elem for elem in features['bldgclass_updated'].unique()])\n",
    "#features['bc_updated'] = le.transform([elem for elem in features['bldgclass_updated']])\n",
    "le.fit([elem for elem in features['OwnerType'].unique()])\n",
    "features['ownertype_updated'] = le.transform([elem for elem in features['OwnerType']])"
   ]
  },
  {
   "cell_type": "code",
   "execution_count": 336,
   "metadata": {
    "collapsed": false
   },
   "outputs": [],
   "source": [
    "features = features.drop('OwnerType',axis=1)"
   ]
  },
  {
   "cell_type": "code",
   "execution_count": 337,
   "metadata": {
    "collapsed": true
   },
   "outputs": [],
   "source": [
    "features = features.apply(pd.to_numeric)\n",
    "features = features.astype(int)"
   ]
  },
  {
   "cell_type": "code",
   "execution_count": 338,
   "metadata": {
    "collapsed": false
   },
   "outputs": [
    {
     "data": {
      "text/html": [
       "<div>\n",
       "<table border=\"1\" class=\"dataframe\">\n",
       "  <thead>\n",
       "    <tr style=\"text-align: right;\">\n",
       "      <th></th>\n",
       "      <th>AssessLand</th>\n",
       "      <th>BsmtCode</th>\n",
       "      <th>BuiltFAR</th>\n",
       "      <th>LandUse</th>\n",
       "      <th>LotType</th>\n",
       "      <th>NumBldgs</th>\n",
       "      <th>NumFloors</th>\n",
       "      <th>ProxCode</th>\n",
       "      <th>ResArea</th>\n",
       "      <th>UnitsRes</th>\n",
       "      <th>YearBuilt</th>\n",
       "      <th>bldgclass_updated</th>\n",
       "      <th>com_count</th>\n",
       "      <th>ownertype_updated</th>\n",
       "    </tr>\n",
       "  </thead>\n",
       "  <tbody>\n",
       "    <tr>\n",
       "      <th>0</th>\n",
       "      <td>8441</td>\n",
       "      <td>2</td>\n",
       "      <td>0</td>\n",
       "      <td>2</td>\n",
       "      <td>5</td>\n",
       "      <td>1</td>\n",
       "      <td>2</td>\n",
       "      <td>1</td>\n",
       "      <td>4710</td>\n",
       "      <td>3</td>\n",
       "      <td>1920</td>\n",
       "      <td>3</td>\n",
       "      <td>0</td>\n",
       "      <td>5</td>\n",
       "    </tr>\n",
       "    <tr>\n",
       "      <th>1</th>\n",
       "      <td>6480</td>\n",
       "      <td>2</td>\n",
       "      <td>0</td>\n",
       "      <td>1</td>\n",
       "      <td>5</td>\n",
       "      <td>1</td>\n",
       "      <td>2</td>\n",
       "      <td>1</td>\n",
       "      <td>2700</td>\n",
       "      <td>2</td>\n",
       "      <td>2003</td>\n",
       "      <td>2</td>\n",
       "      <td>0</td>\n",
       "      <td>5</td>\n",
       "    </tr>\n",
       "    <tr>\n",
       "      <th>2</th>\n",
       "      <td>9007</td>\n",
       "      <td>2</td>\n",
       "      <td>0</td>\n",
       "      <td>1</td>\n",
       "      <td>5</td>\n",
       "      <td>1</td>\n",
       "      <td>2</td>\n",
       "      <td>1</td>\n",
       "      <td>1976</td>\n",
       "      <td>2</td>\n",
       "      <td>1955</td>\n",
       "      <td>2</td>\n",
       "      <td>0</td>\n",
       "      <td>5</td>\n",
       "    </tr>\n",
       "    <tr>\n",
       "      <th>3</th>\n",
       "      <td>3980</td>\n",
       "      <td>2</td>\n",
       "      <td>0</td>\n",
       "      <td>1</td>\n",
       "      <td>5</td>\n",
       "      <td>1</td>\n",
       "      <td>2</td>\n",
       "      <td>1</td>\n",
       "      <td>1344</td>\n",
       "      <td>1</td>\n",
       "      <td>1901</td>\n",
       "      <td>1</td>\n",
       "      <td>0</td>\n",
       "      <td>5</td>\n",
       "    </tr>\n",
       "    <tr>\n",
       "      <th>4</th>\n",
       "      <td>96750</td>\n",
       "      <td>5</td>\n",
       "      <td>0</td>\n",
       "      <td>2</td>\n",
       "      <td>3</td>\n",
       "      <td>1</td>\n",
       "      <td>2</td>\n",
       "      <td>0</td>\n",
       "      <td>14156</td>\n",
       "      <td>16</td>\n",
       "      <td>1984</td>\n",
       "      <td>3</td>\n",
       "      <td>0</td>\n",
       "      <td>3</td>\n",
       "    </tr>\n",
       "  </tbody>\n",
       "</table>\n",
       "</div>"
      ],
      "text/plain": [
       "   AssessLand  BsmtCode  BuiltFAR  LandUse  LotType  NumBldgs  NumFloors  \\\n",
       "0        8441         2         0        2        5         1          2   \n",
       "1        6480         2         0        1        5         1          2   \n",
       "2        9007         2         0        1        5         1          2   \n",
       "3        3980         2         0        1        5         1          2   \n",
       "4       96750         5         0        2        3         1          2   \n",
       "\n",
       "   ProxCode  ResArea  UnitsRes  YearBuilt  bldgclass_updated  com_count  \\\n",
       "0         1     4710         3       1920                  3          0   \n",
       "1         1     2700         2       2003                  2          0   \n",
       "2         1     1976         2       1955                  2          0   \n",
       "3         1     1344         1       1901                  1          0   \n",
       "4         0    14156        16       1984                  3          0   \n",
       "\n",
       "   ownertype_updated  \n",
       "0                  5  \n",
       "1                  5  \n",
       "2                  5  \n",
       "3                  5  \n",
       "4                  3  "
      ]
     },
     "execution_count": 338,
     "metadata": {},
     "output_type": "execute_result"
    }
   ],
   "source": [
    "features.head()"
   ]
  },
  {
   "cell_type": "code",
   "execution_count": 339,
   "metadata": {
    "collapsed": true
   },
   "outputs": [],
   "source": [
    "features['BBL'] = comp['BBL']"
   ]
  },
  {
   "cell_type": "code",
   "execution_count": 340,
   "metadata": {
    "collapsed": false
   },
   "outputs": [
    {
     "data": {
      "text/html": [
       "<div>\n",
       "<table border=\"1\" class=\"dataframe\">\n",
       "  <thead>\n",
       "    <tr style=\"text-align: right;\">\n",
       "      <th></th>\n",
       "      <th>AssessLand</th>\n",
       "      <th>BsmtCode</th>\n",
       "      <th>BuiltFAR</th>\n",
       "      <th>LandUse</th>\n",
       "      <th>LotType</th>\n",
       "      <th>NumBldgs</th>\n",
       "      <th>NumFloors</th>\n",
       "      <th>ProxCode</th>\n",
       "      <th>ResArea</th>\n",
       "      <th>UnitsRes</th>\n",
       "      <th>YearBuilt</th>\n",
       "      <th>bldgclass_updated</th>\n",
       "      <th>com_count</th>\n",
       "      <th>ownertype_updated</th>\n",
       "      <th>BBL</th>\n",
       "    </tr>\n",
       "  </thead>\n",
       "  <tbody>\n",
       "    <tr>\n",
       "      <th>0</th>\n",
       "      <td>8441</td>\n",
       "      <td>2</td>\n",
       "      <td>0</td>\n",
       "      <td>2</td>\n",
       "      <td>5</td>\n",
       "      <td>1</td>\n",
       "      <td>2</td>\n",
       "      <td>1</td>\n",
       "      <td>4710</td>\n",
       "      <td>3</td>\n",
       "      <td>1920</td>\n",
       "      <td>3</td>\n",
       "      <td>0</td>\n",
       "      <td>5</td>\n",
       "      <td>1000047501</td>\n",
       "    </tr>\n",
       "    <tr>\n",
       "      <th>1</th>\n",
       "      <td>6480</td>\n",
       "      <td>2</td>\n",
       "      <td>0</td>\n",
       "      <td>1</td>\n",
       "      <td>5</td>\n",
       "      <td>1</td>\n",
       "      <td>2</td>\n",
       "      <td>1</td>\n",
       "      <td>2700</td>\n",
       "      <td>2</td>\n",
       "      <td>2003</td>\n",
       "      <td>2</td>\n",
       "      <td>0</td>\n",
       "      <td>5</td>\n",
       "      <td>1000100032</td>\n",
       "    </tr>\n",
       "  </tbody>\n",
       "</table>\n",
       "</div>"
      ],
      "text/plain": [
       "   AssessLand  BsmtCode  BuiltFAR  LandUse  LotType  NumBldgs  NumFloors  \\\n",
       "0        8441         2         0        2        5         1          2   \n",
       "1        6480         2         0        1        5         1          2   \n",
       "\n",
       "   ProxCode  ResArea  UnitsRes  YearBuilt  bldgclass_updated  com_count  \\\n",
       "0         1     4710         3       1920                  3          0   \n",
       "1         1     2700         2       2003                  2          0   \n",
       "\n",
       "   ownertype_updated         BBL  \n",
       "0                  5  1000047501  \n",
       "1                  5  1000100032  "
      ]
     },
     "execution_count": 340,
     "metadata": {},
     "output_type": "execute_result"
    }
   ],
   "source": [
    "features.head(2)"
   ]
  },
  {
   "cell_type": "code",
   "execution_count": 341,
   "metadata": {
    "collapsed": true
   },
   "outputs": [],
   "source": [
    "features.to_csv('../data_processed/mappluto_16_features_categorical')"
   ]
  },
  {
   "cell_type": "code",
   "execution_count": 344,
   "metadata": {
    "collapsed": false
   },
   "outputs": [
    {
     "data": {
      "text/html": [
       "<div>\n",
       "<table border=\"1\" class=\"dataframe\">\n",
       "  <thead>\n",
       "    <tr style=\"text-align: right;\">\n",
       "      <th></th>\n",
       "      <th>AssessLand</th>\n",
       "      <th>BsmtCode</th>\n",
       "      <th>BuiltFAR</th>\n",
       "      <th>LandUse</th>\n",
       "      <th>LotType</th>\n",
       "      <th>NumBldgs</th>\n",
       "      <th>NumFloors</th>\n",
       "      <th>ProxCode</th>\n",
       "      <th>ResArea</th>\n",
       "      <th>UnitsRes</th>\n",
       "      <th>YearBuilt</th>\n",
       "      <th>bldgclass_updated</th>\n",
       "      <th>ownertype_updated</th>\n",
       "    </tr>\n",
       "  </thead>\n",
       "  <tbody>\n",
       "    <tr>\n",
       "      <th>0</th>\n",
       "      <td>8441</td>\n",
       "      <td>2</td>\n",
       "      <td>0</td>\n",
       "      <td>2</td>\n",
       "      <td>5</td>\n",
       "      <td>1</td>\n",
       "      <td>2</td>\n",
       "      <td>1</td>\n",
       "      <td>4710</td>\n",
       "      <td>3</td>\n",
       "      <td>1920</td>\n",
       "      <td>3</td>\n",
       "      <td>5</td>\n",
       "    </tr>\n",
       "    <tr>\n",
       "      <th>1</th>\n",
       "      <td>6480</td>\n",
       "      <td>2</td>\n",
       "      <td>0</td>\n",
       "      <td>1</td>\n",
       "      <td>5</td>\n",
       "      <td>1</td>\n",
       "      <td>2</td>\n",
       "      <td>1</td>\n",
       "      <td>2700</td>\n",
       "      <td>2</td>\n",
       "      <td>2003</td>\n",
       "      <td>2</td>\n",
       "      <td>5</td>\n",
       "    </tr>\n",
       "  </tbody>\n",
       "</table>\n",
       "</div>"
      ],
      "text/plain": [
       "   AssessLand  BsmtCode  BuiltFAR  LandUse  LotType  NumBldgs  NumFloors  \\\n",
       "0        8441         2         0        2        5         1          2   \n",
       "1        6480         2         0        1        5         1          2   \n",
       "\n",
       "   ProxCode  ResArea  UnitsRes  YearBuilt  bldgclass_updated  \\\n",
       "0         1     4710         3       1920                  3   \n",
       "1         1     2700         2       2003                  2   \n",
       "\n",
       "   ownertype_updated  \n",
       "0                  5  \n",
       "1                  5  "
      ]
     },
     "execution_count": 344,
     "metadata": {},
     "output_type": "execute_result"
    }
   ],
   "source": [
    "features.ix[:,[0, 1, 2, 3, 4, 5, 6, 7, 8, 9, 10, 11, 13]].head(2)"
   ]
  },
  {
   "cell_type": "code",
   "execution_count": 345,
   "metadata": {
    "collapsed": false
   },
   "outputs": [
    {
     "data": {
      "text/plain": [
       "0    0\n",
       "1    0\n",
       "Name: com_count, dtype: int64"
      ]
     },
     "execution_count": 345,
     "metadata": {},
     "output_type": "execute_result"
    }
   ],
   "source": [
    "features.ix[:,-3].head(2)"
   ]
  },
  {
   "cell_type": "code",
   "execution_count": 346,
   "metadata": {
    "collapsed": false
   },
   "outputs": [
    {
     "name": "stdout",
     "output_type": "stream",
     "text": [
      "[ 0.20120783  0.01823439  0.08186167  0.01875477  0.02798844  0.01722529\n",
      "  0.04156943  0.01090124  0.21431433  0.18595941  0.154979    0.00893061\n",
      "  0.0180736 ]\n"
     ]
    }
   ],
   "source": [
    "model = ExtraTreesClassifier()\n",
    "model.fit(features.ix[:,[0, 1, 2, 3, 4, 5, 6, 7, 8, 9, 10, 11, 13]], features.ix[:,-3])\n",
    "# display the relative importance of each attribute\n",
    "print(model.feature_importances_)"
   ]
  },
  {
   "cell_type": "code",
   "execution_count": 347,
   "metadata": {
    "collapsed": false
   },
   "outputs": [],
   "source": [
    "etc = pd.DataFrame()\n",
    "etc['feature_name'] = features.ix[:,[0, 1, 2, 3, 4, 5, 6, 7, 8, 9, 10, 11, 13]].columns\n",
    "etc['etc_value'] = model.feature_importances_"
   ]
  },
  {
   "cell_type": "code",
   "execution_count": 348,
   "metadata": {
    "collapsed": false
   },
   "outputs": [
    {
     "data": {
      "text/html": [
       "<div>\n",
       "<table border=\"1\" class=\"dataframe\">\n",
       "  <thead>\n",
       "    <tr style=\"text-align: right;\">\n",
       "      <th></th>\n",
       "      <th>feature_name</th>\n",
       "      <th>etc_value</th>\n",
       "    </tr>\n",
       "  </thead>\n",
       "  <tbody>\n",
       "    <tr>\n",
       "      <th>8</th>\n",
       "      <td>ResArea</td>\n",
       "      <td>0.214314</td>\n",
       "    </tr>\n",
       "    <tr>\n",
       "      <th>0</th>\n",
       "      <td>AssessLand</td>\n",
       "      <td>0.201208</td>\n",
       "    </tr>\n",
       "    <tr>\n",
       "      <th>9</th>\n",
       "      <td>UnitsRes</td>\n",
       "      <td>0.185959</td>\n",
       "    </tr>\n",
       "    <tr>\n",
       "      <th>10</th>\n",
       "      <td>YearBuilt</td>\n",
       "      <td>0.154979</td>\n",
       "    </tr>\n",
       "    <tr>\n",
       "      <th>2</th>\n",
       "      <td>BuiltFAR</td>\n",
       "      <td>0.081862</td>\n",
       "    </tr>\n",
       "    <tr>\n",
       "      <th>6</th>\n",
       "      <td>NumFloors</td>\n",
       "      <td>0.041569</td>\n",
       "    </tr>\n",
       "    <tr>\n",
       "      <th>4</th>\n",
       "      <td>LotType</td>\n",
       "      <td>0.027988</td>\n",
       "    </tr>\n",
       "    <tr>\n",
       "      <th>3</th>\n",
       "      <td>LandUse</td>\n",
       "      <td>0.018755</td>\n",
       "    </tr>\n",
       "    <tr>\n",
       "      <th>1</th>\n",
       "      <td>BsmtCode</td>\n",
       "      <td>0.018234</td>\n",
       "    </tr>\n",
       "    <tr>\n",
       "      <th>12</th>\n",
       "      <td>ownertype_updated</td>\n",
       "      <td>0.018074</td>\n",
       "    </tr>\n",
       "    <tr>\n",
       "      <th>5</th>\n",
       "      <td>NumBldgs</td>\n",
       "      <td>0.017225</td>\n",
       "    </tr>\n",
       "    <tr>\n",
       "      <th>7</th>\n",
       "      <td>ProxCode</td>\n",
       "      <td>0.010901</td>\n",
       "    </tr>\n",
       "    <tr>\n",
       "      <th>11</th>\n",
       "      <td>bldgclass_updated</td>\n",
       "      <td>0.008931</td>\n",
       "    </tr>\n",
       "  </tbody>\n",
       "</table>\n",
       "</div>"
      ],
      "text/plain": [
       "         feature_name  etc_value\n",
       "8             ResArea   0.214314\n",
       "0          AssessLand   0.201208\n",
       "9            UnitsRes   0.185959\n",
       "10          YearBuilt   0.154979\n",
       "2            BuiltFAR   0.081862\n",
       "6           NumFloors   0.041569\n",
       "4             LotType   0.027988\n",
       "3             LandUse   0.018755\n",
       "1            BsmtCode   0.018234\n",
       "12  ownertype_updated   0.018074\n",
       "5            NumBldgs   0.017225\n",
       "7            ProxCode   0.010901\n",
       "11  bldgclass_updated   0.008931"
      ]
     },
     "execution_count": 348,
     "metadata": {},
     "output_type": "execute_result"
    }
   ],
   "source": [
    "etc = etc.sort_values('etc_value',ascending=False)\n",
    "etc"
   ]
  },
  {
   "cell_type": "code",
   "execution_count": 349,
   "metadata": {
    "collapsed": false
   },
   "outputs": [
    {
     "name": "stdout",
     "output_type": "stream",
     "text": [
      "[ 0.2408583   0.01476371  0.07176503  0.02379969  0.01092413  0.01600142\n",
      "  0.01947615  0.00776669  0.2546169   0.19682396  0.10921983  0.00327883\n",
      "  0.03070535]\n"
     ]
    }
   ],
   "source": [
    "model = ExtraTreesRegressor()\n",
    "model.fit(features.ix[:,[0, 1, 2, 3, 4, 5, 6, 7, 8, 9, 10, 11, 13]], features.ix[:,-3])\n",
    "# display the relative importance of each attribute\n",
    "print(model.feature_importances_)"
   ]
  },
  {
   "cell_type": "code",
   "execution_count": 350,
   "metadata": {
    "collapsed": true
   },
   "outputs": [],
   "source": [
    "etr = pd.DataFrame()\n",
    "etr['feature_name'] = features.ix[:,[0, 1, 2, 3, 4, 5, 6, 7, 8, 9, 10, 11, 13]].columns\n",
    "etr['etr_value'] = model.feature_importances_"
   ]
  },
  {
   "cell_type": "code",
   "execution_count": 351,
   "metadata": {
    "collapsed": false
   },
   "outputs": [
    {
     "data": {
      "text/html": [
       "<div>\n",
       "<table border=\"1\" class=\"dataframe\">\n",
       "  <thead>\n",
       "    <tr style=\"text-align: right;\">\n",
       "      <th></th>\n",
       "      <th>feature_name</th>\n",
       "      <th>etr_value</th>\n",
       "    </tr>\n",
       "  </thead>\n",
       "  <tbody>\n",
       "    <tr>\n",
       "      <th>8</th>\n",
       "      <td>ResArea</td>\n",
       "      <td>0.254617</td>\n",
       "    </tr>\n",
       "    <tr>\n",
       "      <th>0</th>\n",
       "      <td>AssessLand</td>\n",
       "      <td>0.240858</td>\n",
       "    </tr>\n",
       "    <tr>\n",
       "      <th>9</th>\n",
       "      <td>UnitsRes</td>\n",
       "      <td>0.196824</td>\n",
       "    </tr>\n",
       "    <tr>\n",
       "      <th>10</th>\n",
       "      <td>YearBuilt</td>\n",
       "      <td>0.109220</td>\n",
       "    </tr>\n",
       "    <tr>\n",
       "      <th>2</th>\n",
       "      <td>BuiltFAR</td>\n",
       "      <td>0.071765</td>\n",
       "    </tr>\n",
       "    <tr>\n",
       "      <th>12</th>\n",
       "      <td>ownertype_updated</td>\n",
       "      <td>0.030705</td>\n",
       "    </tr>\n",
       "    <tr>\n",
       "      <th>3</th>\n",
       "      <td>LandUse</td>\n",
       "      <td>0.023800</td>\n",
       "    </tr>\n",
       "    <tr>\n",
       "      <th>6</th>\n",
       "      <td>NumFloors</td>\n",
       "      <td>0.019476</td>\n",
       "    </tr>\n",
       "    <tr>\n",
       "      <th>5</th>\n",
       "      <td>NumBldgs</td>\n",
       "      <td>0.016001</td>\n",
       "    </tr>\n",
       "    <tr>\n",
       "      <th>1</th>\n",
       "      <td>BsmtCode</td>\n",
       "      <td>0.014764</td>\n",
       "    </tr>\n",
       "    <tr>\n",
       "      <th>4</th>\n",
       "      <td>LotType</td>\n",
       "      <td>0.010924</td>\n",
       "    </tr>\n",
       "    <tr>\n",
       "      <th>7</th>\n",
       "      <td>ProxCode</td>\n",
       "      <td>0.007767</td>\n",
       "    </tr>\n",
       "    <tr>\n",
       "      <th>11</th>\n",
       "      <td>bldgclass_updated</td>\n",
       "      <td>0.003279</td>\n",
       "    </tr>\n",
       "  </tbody>\n",
       "</table>\n",
       "</div>"
      ],
      "text/plain": [
       "         feature_name  etr_value\n",
       "8             ResArea   0.254617\n",
       "0          AssessLand   0.240858\n",
       "9            UnitsRes   0.196824\n",
       "10          YearBuilt   0.109220\n",
       "2            BuiltFAR   0.071765\n",
       "12  ownertype_updated   0.030705\n",
       "3             LandUse   0.023800\n",
       "6           NumFloors   0.019476\n",
       "5            NumBldgs   0.016001\n",
       "1            BsmtCode   0.014764\n",
       "4             LotType   0.010924\n",
       "7            ProxCode   0.007767\n",
       "11  bldgclass_updated   0.003279"
      ]
     },
     "execution_count": 351,
     "metadata": {},
     "output_type": "execute_result"
    }
   ],
   "source": [
    "etr = etr.sort_values('etr_value',ascending=False)\n",
    "etr"
   ]
  },
  {
   "cell_type": "code",
   "execution_count": 352,
   "metadata": {
    "collapsed": false
   },
   "outputs": [
    {
     "name": "stdout",
     "output_type": "stream",
     "text": [
      "[ 0.22382016  0.0237243   0.05061796  0.02327499  0.03068092  0.01153825\n",
      "  0.03372831  0.02129329  0.2521057   0.16504263  0.12863069  0.00973632\n",
      "  0.02580647]\n"
     ]
    }
   ],
   "source": [
    "model = RandomForestClassifier()\n",
    "model.fit(features.ix[:,[0, 1, 2, 3, 4, 5, 6, 7, 8, 9, 10, 11, 13]], features.ix[:,-3])\n",
    "# display the relative importance of each attribute\n",
    "print(model.feature_importances_)"
   ]
  },
  {
   "cell_type": "code",
   "execution_count": 353,
   "metadata": {
    "collapsed": true
   },
   "outputs": [],
   "source": [
    "rfc = pd.DataFrame()\n",
    "rfc['feature_name'] = features.ix[:,[0, 1, 2, 3, 4, 5, 6, 7, 8, 9, 10, 11, 13]].columns\n",
    "rfc['rfc_value'] = model.feature_importances_"
   ]
  },
  {
   "cell_type": "code",
   "execution_count": 354,
   "metadata": {
    "collapsed": false
   },
   "outputs": [
    {
     "data": {
      "text/html": [
       "<div>\n",
       "<table border=\"1\" class=\"dataframe\">\n",
       "  <thead>\n",
       "    <tr style=\"text-align: right;\">\n",
       "      <th></th>\n",
       "      <th>feature_name</th>\n",
       "      <th>rfc_value</th>\n",
       "    </tr>\n",
       "  </thead>\n",
       "  <tbody>\n",
       "    <tr>\n",
       "      <th>8</th>\n",
       "      <td>ResArea</td>\n",
       "      <td>0.252106</td>\n",
       "    </tr>\n",
       "    <tr>\n",
       "      <th>0</th>\n",
       "      <td>AssessLand</td>\n",
       "      <td>0.223820</td>\n",
       "    </tr>\n",
       "    <tr>\n",
       "      <th>9</th>\n",
       "      <td>UnitsRes</td>\n",
       "      <td>0.165043</td>\n",
       "    </tr>\n",
       "    <tr>\n",
       "      <th>10</th>\n",
       "      <td>YearBuilt</td>\n",
       "      <td>0.128631</td>\n",
       "    </tr>\n",
       "    <tr>\n",
       "      <th>2</th>\n",
       "      <td>BuiltFAR</td>\n",
       "      <td>0.050618</td>\n",
       "    </tr>\n",
       "    <tr>\n",
       "      <th>6</th>\n",
       "      <td>NumFloors</td>\n",
       "      <td>0.033728</td>\n",
       "    </tr>\n",
       "    <tr>\n",
       "      <th>4</th>\n",
       "      <td>LotType</td>\n",
       "      <td>0.030681</td>\n",
       "    </tr>\n",
       "    <tr>\n",
       "      <th>12</th>\n",
       "      <td>ownertype_updated</td>\n",
       "      <td>0.025806</td>\n",
       "    </tr>\n",
       "    <tr>\n",
       "      <th>1</th>\n",
       "      <td>BsmtCode</td>\n",
       "      <td>0.023724</td>\n",
       "    </tr>\n",
       "    <tr>\n",
       "      <th>3</th>\n",
       "      <td>LandUse</td>\n",
       "      <td>0.023275</td>\n",
       "    </tr>\n",
       "    <tr>\n",
       "      <th>7</th>\n",
       "      <td>ProxCode</td>\n",
       "      <td>0.021293</td>\n",
       "    </tr>\n",
       "    <tr>\n",
       "      <th>5</th>\n",
       "      <td>NumBldgs</td>\n",
       "      <td>0.011538</td>\n",
       "    </tr>\n",
       "    <tr>\n",
       "      <th>11</th>\n",
       "      <td>bldgclass_updated</td>\n",
       "      <td>0.009736</td>\n",
       "    </tr>\n",
       "  </tbody>\n",
       "</table>\n",
       "</div>"
      ],
      "text/plain": [
       "         feature_name  rfc_value\n",
       "8             ResArea   0.252106\n",
       "0          AssessLand   0.223820\n",
       "9            UnitsRes   0.165043\n",
       "10          YearBuilt   0.128631\n",
       "2            BuiltFAR   0.050618\n",
       "6           NumFloors   0.033728\n",
       "4             LotType   0.030681\n",
       "12  ownertype_updated   0.025806\n",
       "1            BsmtCode   0.023724\n",
       "3             LandUse   0.023275\n",
       "7            ProxCode   0.021293\n",
       "5            NumBldgs   0.011538\n",
       "11  bldgclass_updated   0.009736"
      ]
     },
     "execution_count": 354,
     "metadata": {},
     "output_type": "execute_result"
    }
   ],
   "source": [
    "rfc = rfc.sort_values('rfc_value',ascending=False)\n",
    "rfc"
   ]
  },
  {
   "cell_type": "code",
   "execution_count": 355,
   "metadata": {
    "collapsed": false
   },
   "outputs": [
    {
     "name": "stdout",
     "output_type": "stream",
     "text": [
      "[ 0.26246676  0.0165231   0.01950815  0.05296956  0.00642113  0.00695991\n",
      "  0.0172565   0.05817106  0.32756883  0.12781165  0.08103133  0.00710784\n",
      "  0.01620416]\n"
     ]
    }
   ],
   "source": [
    "model = RandomForestRegressor()\n",
    "model.fit(features.ix[:,[0, 1, 2, 3, 4, 5, 6, 7, 8, 9, 10, 11, 13]], features.ix[:,-3])\n",
    "# display the relative importance of each attribute\n",
    "print(model.feature_importances_)"
   ]
  },
  {
   "cell_type": "code",
   "execution_count": 356,
   "metadata": {
    "collapsed": true
   },
   "outputs": [],
   "source": [
    "rfr = pd.DataFrame()\n",
    "rfr['feature_name'] = features.ix[:,[0, 1, 2, 3, 4, 5, 6, 7, 8, 9, 10, 11, 13]].columns\n",
    "rfr['rfr_value'] = model.feature_importances_"
   ]
  },
  {
   "cell_type": "code",
   "execution_count": 357,
   "metadata": {
    "collapsed": false
   },
   "outputs": [
    {
     "data": {
      "text/html": [
       "<div>\n",
       "<table border=\"1\" class=\"dataframe\">\n",
       "  <thead>\n",
       "    <tr style=\"text-align: right;\">\n",
       "      <th></th>\n",
       "      <th>feature_name</th>\n",
       "      <th>rfr_value</th>\n",
       "    </tr>\n",
       "  </thead>\n",
       "  <tbody>\n",
       "    <tr>\n",
       "      <th>8</th>\n",
       "      <td>ResArea</td>\n",
       "      <td>0.327569</td>\n",
       "    </tr>\n",
       "    <tr>\n",
       "      <th>0</th>\n",
       "      <td>AssessLand</td>\n",
       "      <td>0.262467</td>\n",
       "    </tr>\n",
       "    <tr>\n",
       "      <th>9</th>\n",
       "      <td>UnitsRes</td>\n",
       "      <td>0.127812</td>\n",
       "    </tr>\n",
       "    <tr>\n",
       "      <th>10</th>\n",
       "      <td>YearBuilt</td>\n",
       "      <td>0.081031</td>\n",
       "    </tr>\n",
       "    <tr>\n",
       "      <th>7</th>\n",
       "      <td>ProxCode</td>\n",
       "      <td>0.058171</td>\n",
       "    </tr>\n",
       "    <tr>\n",
       "      <th>3</th>\n",
       "      <td>LandUse</td>\n",
       "      <td>0.052970</td>\n",
       "    </tr>\n",
       "    <tr>\n",
       "      <th>2</th>\n",
       "      <td>BuiltFAR</td>\n",
       "      <td>0.019508</td>\n",
       "    </tr>\n",
       "    <tr>\n",
       "      <th>6</th>\n",
       "      <td>NumFloors</td>\n",
       "      <td>0.017257</td>\n",
       "    </tr>\n",
       "    <tr>\n",
       "      <th>1</th>\n",
       "      <td>BsmtCode</td>\n",
       "      <td>0.016523</td>\n",
       "    </tr>\n",
       "    <tr>\n",
       "      <th>12</th>\n",
       "      <td>ownertype_updated</td>\n",
       "      <td>0.016204</td>\n",
       "    </tr>\n",
       "    <tr>\n",
       "      <th>11</th>\n",
       "      <td>bldgclass_updated</td>\n",
       "      <td>0.007108</td>\n",
       "    </tr>\n",
       "    <tr>\n",
       "      <th>5</th>\n",
       "      <td>NumBldgs</td>\n",
       "      <td>0.006960</td>\n",
       "    </tr>\n",
       "    <tr>\n",
       "      <th>4</th>\n",
       "      <td>LotType</td>\n",
       "      <td>0.006421</td>\n",
       "    </tr>\n",
       "  </tbody>\n",
       "</table>\n",
       "</div>"
      ],
      "text/plain": [
       "         feature_name  rfr_value\n",
       "8             ResArea   0.327569\n",
       "0          AssessLand   0.262467\n",
       "9            UnitsRes   0.127812\n",
       "10          YearBuilt   0.081031\n",
       "7            ProxCode   0.058171\n",
       "3             LandUse   0.052970\n",
       "2            BuiltFAR   0.019508\n",
       "6           NumFloors   0.017257\n",
       "1            BsmtCode   0.016523\n",
       "12  ownertype_updated   0.016204\n",
       "11  bldgclass_updated   0.007108\n",
       "5            NumBldgs   0.006960\n",
       "4             LotType   0.006421"
      ]
     },
     "execution_count": 357,
     "metadata": {},
     "output_type": "execute_result"
    }
   ],
   "source": [
    "rfr = rfr.sort_values('rfr_value',ascending=False)\n",
    "rfr"
   ]
  },
  {
   "cell_type": "code",
   "execution_count": 358,
   "metadata": {
    "collapsed": true
   },
   "outputs": [],
   "source": [
    "merged = pd.merge(etc, rfc, on='feature_name')"
   ]
  },
  {
   "cell_type": "code",
   "execution_count": 359,
   "metadata": {
    "collapsed": true
   },
   "outputs": [],
   "source": [
    "merged = pd.merge(merged, rfr, on='feature_name')"
   ]
  },
  {
   "cell_type": "code",
   "execution_count": 360,
   "metadata": {
    "collapsed": true
   },
   "outputs": [],
   "source": [
    "merged = pd.merge(merged, etr, on ='feature_name')"
   ]
  },
  {
   "cell_type": "code",
   "execution_count": 361,
   "metadata": {
    "collapsed": false
   },
   "outputs": [],
   "source": [
    "merged['avg'] = merged.mean(axis=1)"
   ]
  },
  {
   "cell_type": "code",
   "execution_count": 362,
   "metadata": {
    "collapsed": false
   },
   "outputs": [],
   "source": [
    "merged = merged.sort_values('avg', ascending=False)"
   ]
  },
  {
   "cell_type": "code",
   "execution_count": 363,
   "metadata": {
    "collapsed": false
   },
   "outputs": [
    {
     "data": {
      "text/html": [
       "<div>\n",
       "<table border=\"1\" class=\"dataframe\">\n",
       "  <thead>\n",
       "    <tr style=\"text-align: right;\">\n",
       "      <th></th>\n",
       "      <th>feature_name</th>\n",
       "      <th>etc_value</th>\n",
       "      <th>rfc_value</th>\n",
       "      <th>rfr_value</th>\n",
       "      <th>etr_value</th>\n",
       "      <th>avg</th>\n",
       "    </tr>\n",
       "  </thead>\n",
       "  <tbody>\n",
       "    <tr>\n",
       "      <th>0</th>\n",
       "      <td>ResArea</td>\n",
       "      <td>0.214314</td>\n",
       "      <td>0.252106</td>\n",
       "      <td>0.327569</td>\n",
       "      <td>0.254617</td>\n",
       "      <td>0.262151</td>\n",
       "    </tr>\n",
       "    <tr>\n",
       "      <th>1</th>\n",
       "      <td>AssessLand</td>\n",
       "      <td>0.201208</td>\n",
       "      <td>0.223820</td>\n",
       "      <td>0.262467</td>\n",
       "      <td>0.240858</td>\n",
       "      <td>0.232088</td>\n",
       "    </tr>\n",
       "    <tr>\n",
       "      <th>2</th>\n",
       "      <td>UnitsRes</td>\n",
       "      <td>0.185959</td>\n",
       "      <td>0.165043</td>\n",
       "      <td>0.127812</td>\n",
       "      <td>0.196824</td>\n",
       "      <td>0.168909</td>\n",
       "    </tr>\n",
       "    <tr>\n",
       "      <th>3</th>\n",
       "      <td>YearBuilt</td>\n",
       "      <td>0.154979</td>\n",
       "      <td>0.128631</td>\n",
       "      <td>0.081031</td>\n",
       "      <td>0.109220</td>\n",
       "      <td>0.118465</td>\n",
       "    </tr>\n",
       "    <tr>\n",
       "      <th>4</th>\n",
       "      <td>BuiltFAR</td>\n",
       "      <td>0.081862</td>\n",
       "      <td>0.050618</td>\n",
       "      <td>0.019508</td>\n",
       "      <td>0.071765</td>\n",
       "      <td>0.055938</td>\n",
       "    </tr>\n",
       "    <tr>\n",
       "      <th>7</th>\n",
       "      <td>LandUse</td>\n",
       "      <td>0.018755</td>\n",
       "      <td>0.023275</td>\n",
       "      <td>0.052970</td>\n",
       "      <td>0.023800</td>\n",
       "      <td>0.029700</td>\n",
       "    </tr>\n",
       "    <tr>\n",
       "      <th>5</th>\n",
       "      <td>NumFloors</td>\n",
       "      <td>0.041569</td>\n",
       "      <td>0.033728</td>\n",
       "      <td>0.017257</td>\n",
       "      <td>0.019476</td>\n",
       "      <td>0.028008</td>\n",
       "    </tr>\n",
       "    <tr>\n",
       "      <th>11</th>\n",
       "      <td>ProxCode</td>\n",
       "      <td>0.010901</td>\n",
       "      <td>0.021293</td>\n",
       "      <td>0.058171</td>\n",
       "      <td>0.007767</td>\n",
       "      <td>0.024533</td>\n",
       "    </tr>\n",
       "    <tr>\n",
       "      <th>9</th>\n",
       "      <td>ownertype_updated</td>\n",
       "      <td>0.018074</td>\n",
       "      <td>0.025806</td>\n",
       "      <td>0.016204</td>\n",
       "      <td>0.030705</td>\n",
       "      <td>0.022697</td>\n",
       "    </tr>\n",
       "    <tr>\n",
       "      <th>6</th>\n",
       "      <td>LotType</td>\n",
       "      <td>0.027988</td>\n",
       "      <td>0.030681</td>\n",
       "      <td>0.006421</td>\n",
       "      <td>0.010924</td>\n",
       "      <td>0.019004</td>\n",
       "    </tr>\n",
       "    <tr>\n",
       "      <th>8</th>\n",
       "      <td>BsmtCode</td>\n",
       "      <td>0.018234</td>\n",
       "      <td>0.023724</td>\n",
       "      <td>0.016523</td>\n",
       "      <td>0.014764</td>\n",
       "      <td>0.018311</td>\n",
       "    </tr>\n",
       "    <tr>\n",
       "      <th>10</th>\n",
       "      <td>NumBldgs</td>\n",
       "      <td>0.017225</td>\n",
       "      <td>0.011538</td>\n",
       "      <td>0.006960</td>\n",
       "      <td>0.016001</td>\n",
       "      <td>0.012931</td>\n",
       "    </tr>\n",
       "    <tr>\n",
       "      <th>12</th>\n",
       "      <td>bldgclass_updated</td>\n",
       "      <td>0.008931</td>\n",
       "      <td>0.009736</td>\n",
       "      <td>0.007108</td>\n",
       "      <td>0.003279</td>\n",
       "      <td>0.007263</td>\n",
       "    </tr>\n",
       "  </tbody>\n",
       "</table>\n",
       "</div>"
      ],
      "text/plain": [
       "         feature_name  etc_value  rfc_value  rfr_value  etr_value       avg\n",
       "0             ResArea   0.214314   0.252106   0.327569   0.254617  0.262151\n",
       "1          AssessLand   0.201208   0.223820   0.262467   0.240858  0.232088\n",
       "2            UnitsRes   0.185959   0.165043   0.127812   0.196824  0.168909\n",
       "3           YearBuilt   0.154979   0.128631   0.081031   0.109220  0.118465\n",
       "4            BuiltFAR   0.081862   0.050618   0.019508   0.071765  0.055938\n",
       "7             LandUse   0.018755   0.023275   0.052970   0.023800  0.029700\n",
       "5           NumFloors   0.041569   0.033728   0.017257   0.019476  0.028008\n",
       "11           ProxCode   0.010901   0.021293   0.058171   0.007767  0.024533\n",
       "9   ownertype_updated   0.018074   0.025806   0.016204   0.030705  0.022697\n",
       "6             LotType   0.027988   0.030681   0.006421   0.010924  0.019004\n",
       "8            BsmtCode   0.018234   0.023724   0.016523   0.014764  0.018311\n",
       "10           NumBldgs   0.017225   0.011538   0.006960   0.016001  0.012931\n",
       "12  bldgclass_updated   0.008931   0.009736   0.007108   0.003279  0.007263"
      ]
     },
     "execution_count": 363,
     "metadata": {},
     "output_type": "execute_result"
    }
   ],
   "source": [
    "merged"
   ]
  },
  {
   "cell_type": "code",
   "execution_count": 364,
   "metadata": {
    "collapsed": false
   },
   "outputs": [
    {
     "data": {
      "text/plain": [
       "array([ 0,  1,  7,  3, 17,  2,  5, 30, 20,  9,  4,  6, 12, 10,  8])"
      ]
     },
     "execution_count": 364,
     "metadata": {},
     "output_type": "execute_result"
    }
   ],
   "source": [
    "features['com_count'].unique()"
   ]
  }
 ],
 "metadata": {
  "kernelspec": {
   "display_name": "Python 2",
   "language": "python",
   "name": "python2"
  },
  "language_info": {
   "codemirror_mode": {
    "name": "ipython",
    "version": 2
   },
   "file_extension": ".py",
   "mimetype": "text/x-python",
   "name": "python",
   "nbconvert_exporter": "python",
   "pygments_lexer": "ipython2",
   "version": "2.7.12"
  }
 },
 "nbformat": 4,
 "nbformat_minor": 1
}
