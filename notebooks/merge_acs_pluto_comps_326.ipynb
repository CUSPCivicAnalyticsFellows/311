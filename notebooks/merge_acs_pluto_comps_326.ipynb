{
 "cells": [
  {
   "cell_type": "code",
   "execution_count": 1,
   "metadata": {
    "collapsed": true
   },
   "outputs": [],
   "source": [
    "import pandas as pd"
   ]
  },
  {
   "cell_type": "code",
   "execution_count": 2,
   "metadata": {
    "collapsed": false
   },
   "outputs": [],
   "source": [
    "c = pd.read_csv('../data_processed/COM_VIO_2014_2016_BBL_WEEK_AVG_onlyheatingseason.csv')\n",
    "c = c.drop('Unnamed: 0',axis=1)\n",
    "b = pd.read_csv('../data_processed/BBL_ACS_2016.csv')\n",
    "b = b.drop('Unnamed: 0',axis=1)\n",
    "p16 = pd.read_csv('../data_processed/mappluto_16_features_categorical')\n",
    "p16 = p16.drop(['Unnamed: 0','com_count'],axis=1)\n",
    "p14 = pd.read_csv('../data_processed/pluto_cbg14.csv')\n",
    "p14 = p14.drop('Unnamed: 0',axis=1)"
   ]
  },
  {
   "cell_type": "code",
   "execution_count": 3,
   "metadata": {
    "collapsed": false
   },
   "outputs": [
    {
     "data": {
      "text/html": [
       "<div>\n",
       "<table border=\"1\" class=\"dataframe\">\n",
       "  <thead>\n",
       "    <tr style=\"text-align: right;\">\n",
       "      <th></th>\n",
       "      <th>BBL</th>\n",
       "      <th>com_count</th>\n",
       "      <th>vio_count</th>\n",
       "    </tr>\n",
       "  </thead>\n",
       "  <tbody>\n",
       "    <tr>\n",
       "      <th>0</th>\n",
       "      <td>1000047501</td>\n",
       "      <td>0.031915</td>\n",
       "      <td>0.0</td>\n",
       "    </tr>\n",
       "    <tr>\n",
       "      <th>1</th>\n",
       "      <td>1000100032</td>\n",
       "      <td>0.010638</td>\n",
       "      <td>0.0</td>\n",
       "    </tr>\n",
       "  </tbody>\n",
       "</table>\n",
       "</div>"
      ],
      "text/plain": [
       "          BBL  com_count  vio_count\n",
       "0  1000047501   0.031915        0.0\n",
       "1  1000100032   0.010638        0.0"
      ]
     },
     "execution_count": 3,
     "metadata": {},
     "output_type": "execute_result"
    }
   ],
   "source": [
    "c.head(2)"
   ]
  },
  {
   "cell_type": "code",
   "execution_count": 4,
   "metadata": {
    "collapsed": false
   },
   "outputs": [
    {
     "data": {
      "text/html": [
       "<div>\n",
       "<table border=\"1\" class=\"dataframe\">\n",
       "  <thead>\n",
       "    <tr style=\"text-align: right;\">\n",
       "      <th></th>\n",
       "      <th>BBL</th>\n",
       "      <th>CBG</th>\n",
       "      <th>gas_utility_r</th>\n",
       "      <th>avg_bldng_age</th>\n",
       "      <th>ownership_r</th>\n",
       "      <th>year</th>\n",
       "      <th>pop</th>\n",
       "      <th>female_r</th>\n",
       "      <th>elderly_r</th>\n",
       "      <th>white_r</th>\n",
       "      <th>...</th>\n",
       "      <th>hh_child_6_r</th>\n",
       "      <th>hh_living_alone_r</th>\n",
       "      <th>edu_high_r</th>\n",
       "      <th>non_eng_r</th>\n",
       "      <th>unemployed_r</th>\n",
       "      <th>vacancy_r</th>\n",
       "      <th>med_rent</th>\n",
       "      <th>med_income</th>\n",
       "      <th>merried_r</th>\n",
       "      <th>longercommute_r</th>\n",
       "    </tr>\n",
       "  </thead>\n",
       "  <tbody>\n",
       "    <tr>\n",
       "      <th>0</th>\n",
       "      <td>5080500076</td>\n",
       "      <td>360850248001</td>\n",
       "      <td>0.795322</td>\n",
       "      <td>54.249527</td>\n",
       "      <td>0.586745</td>\n",
       "      <td>2016.0</td>\n",
       "      <td>1373.0</td>\n",
       "      <td>0.441369</td>\n",
       "      <td>0.09177</td>\n",
       "      <td>0.962855</td>\n",
       "      <td>...</td>\n",
       "      <td>0.053097</td>\n",
       "      <td>0.284600</td>\n",
       "      <td>0.210817</td>\n",
       "      <td>0.019493</td>\n",
       "      <td>0.042266</td>\n",
       "      <td>0.030246</td>\n",
       "      <td>980.0</td>\n",
       "      <td>51992.0</td>\n",
       "      <td>0.485255</td>\n",
       "      <td>0.446529</td>\n",
       "    </tr>\n",
       "    <tr>\n",
       "      <th>1</th>\n",
       "      <td>5079390055</td>\n",
       "      <td>360850244011</td>\n",
       "      <td>0.876565</td>\n",
       "      <td>35.051878</td>\n",
       "      <td>0.803220</td>\n",
       "      <td>2016.0</td>\n",
       "      <td>1698.0</td>\n",
       "      <td>0.510012</td>\n",
       "      <td>0.14311</td>\n",
       "      <td>0.959364</td>\n",
       "      <td>...</td>\n",
       "      <td>0.423780</td>\n",
       "      <td>0.187835</td>\n",
       "      <td>0.262467</td>\n",
       "      <td>0.000000</td>\n",
       "      <td>0.035823</td>\n",
       "      <td>0.000000</td>\n",
       "      <td>1259.0</td>\n",
       "      <td>84967.0</td>\n",
       "      <td>0.573906</td>\n",
       "      <td>0.450751</td>\n",
       "    </tr>\n",
       "  </tbody>\n",
       "</table>\n",
       "<p>2 rows × 23 columns</p>\n",
       "</div>"
      ],
      "text/plain": [
       "          BBL           CBG  gas_utility_r  avg_bldng_age  ownership_r  \\\n",
       "0  5080500076  360850248001       0.795322      54.249527     0.586745   \n",
       "1  5079390055  360850244011       0.876565      35.051878     0.803220   \n",
       "\n",
       "     year     pop  female_r  elderly_r   white_r       ...         \\\n",
       "0  2016.0  1373.0  0.441369    0.09177  0.962855       ...          \n",
       "1  2016.0  1698.0  0.510012    0.14311  0.959364       ...          \n",
       "\n",
       "   hh_child_6_r  hh_living_alone_r  edu_high_r  non_eng_r  unemployed_r  \\\n",
       "0      0.053097           0.284600    0.210817   0.019493      0.042266   \n",
       "1      0.423780           0.187835    0.262467   0.000000      0.035823   \n",
       "\n",
       "   vacancy_r  med_rent  med_income  merried_r  longercommute_r  \n",
       "0   0.030246     980.0     51992.0   0.485255         0.446529  \n",
       "1   0.000000    1259.0     84967.0   0.573906         0.450751  \n",
       "\n",
       "[2 rows x 23 columns]"
      ]
     },
     "execution_count": 4,
     "metadata": {},
     "output_type": "execute_result"
    }
   ],
   "source": [
    "b.head(2)"
   ]
  },
  {
   "cell_type": "code",
   "execution_count": 5,
   "metadata": {
    "collapsed": false
   },
   "outputs": [
    {
     "data": {
      "text/html": [
       "<div>\n",
       "<table border=\"1\" class=\"dataframe\">\n",
       "  <thead>\n",
       "    <tr style=\"text-align: right;\">\n",
       "      <th></th>\n",
       "      <th>BBL</th>\n",
       "      <th>GEOID</th>\n",
       "    </tr>\n",
       "  </thead>\n",
       "  <tbody>\n",
       "    <tr>\n",
       "      <th>0</th>\n",
       "      <td>5.007470e+09</td>\n",
       "      <td>360850189012</td>\n",
       "    </tr>\n",
       "    <tr>\n",
       "      <th>1</th>\n",
       "      <td>5.007510e+09</td>\n",
       "      <td>360850189012</td>\n",
       "    </tr>\n",
       "  </tbody>\n",
       "</table>\n",
       "</div>"
      ],
      "text/plain": [
       "            BBL         GEOID\n",
       "0  5.007470e+09  360850189012\n",
       "1  5.007510e+09  360850189012"
      ]
     },
     "execution_count": 5,
     "metadata": {},
     "output_type": "execute_result"
    }
   ],
   "source": [
    "p14.head(2)"
   ]
  },
  {
   "cell_type": "code",
   "execution_count": 6,
   "metadata": {
    "collapsed": false
   },
   "outputs": [
    {
     "data": {
      "text/html": [
       "<div>\n",
       "<table border=\"1\" class=\"dataframe\">\n",
       "  <thead>\n",
       "    <tr style=\"text-align: right;\">\n",
       "      <th></th>\n",
       "      <th>AssessLand</th>\n",
       "      <th>BBL</th>\n",
       "      <th>BsmtCode</th>\n",
       "      <th>BuiltFAR</th>\n",
       "      <th>LandUse</th>\n",
       "      <th>LotType</th>\n",
       "      <th>NumBldgs</th>\n",
       "      <th>NumFloors</th>\n",
       "      <th>ProxCode</th>\n",
       "      <th>ResArea</th>\n",
       "      <th>UnitsRes</th>\n",
       "      <th>YearBuilt</th>\n",
       "      <th>bldgclass_updated</th>\n",
       "      <th>AssessSqft</th>\n",
       "      <th>ownertype_updated</th>\n",
       "    </tr>\n",
       "  </thead>\n",
       "  <tbody>\n",
       "    <tr>\n",
       "      <th>0</th>\n",
       "      <td>8441</td>\n",
       "      <td>5010310021</td>\n",
       "      <td>2</td>\n",
       "      <td>0</td>\n",
       "      <td>2</td>\n",
       "      <td>5</td>\n",
       "      <td>1</td>\n",
       "      <td>2</td>\n",
       "      <td>1</td>\n",
       "      <td>4710</td>\n",
       "      <td>3</td>\n",
       "      <td>1920</td>\n",
       "      <td>3</td>\n",
       "      <td>4</td>\n",
       "      <td>5</td>\n",
       "    </tr>\n",
       "    <tr>\n",
       "      <th>1</th>\n",
       "      <td>6480</td>\n",
       "      <td>5012460037</td>\n",
       "      <td>2</td>\n",
       "      <td>0</td>\n",
       "      <td>1</td>\n",
       "      <td>5</td>\n",
       "      <td>1</td>\n",
       "      <td>2</td>\n",
       "      <td>1</td>\n",
       "      <td>2700</td>\n",
       "      <td>2</td>\n",
       "      <td>2003</td>\n",
       "      <td>2</td>\n",
       "      <td>8</td>\n",
       "      <td>5</td>\n",
       "    </tr>\n",
       "  </tbody>\n",
       "</table>\n",
       "</div>"
      ],
      "text/plain": [
       "   AssessLand         BBL  BsmtCode  BuiltFAR  LandUse  LotType  NumBldgs  \\\n",
       "0        8441  5010310021         2         0        2        5         1   \n",
       "1        6480  5012460037         2         0        1        5         1   \n",
       "\n",
       "   NumFloors  ProxCode  ResArea  UnitsRes  YearBuilt  bldgclass_updated  \\\n",
       "0          2         1     4710         3       1920                  3   \n",
       "1          2         1     2700         2       2003                  2   \n",
       "\n",
       "   AssessSqft  ownertype_updated  \n",
       "0           4                  5  \n",
       "1           8                  5  "
      ]
     },
     "execution_count": 6,
     "metadata": {},
     "output_type": "execute_result"
    }
   ],
   "source": [
    "p16.head(2)"
   ]
  },
  {
   "cell_type": "code",
   "execution_count": 7,
   "metadata": {
    "collapsed": false
   },
   "outputs": [],
   "source": [
    "p14['BBL'] = p14['BBL'].astype(int)"
   ]
  },
  {
   "cell_type": "code",
   "execution_count": 15,
   "metadata": {
    "collapsed": false
   },
   "outputs": [],
   "source": [
    "cb = pd.merge(c, b, on='BBL', how='left')\n",
    "cbp14 = pd.merge(cb, p14, on='BBL', how='left')\n",
    "cbp16 = pd.merge(cb, p16, on='BBL', how='left')"
   ]
  },
  {
   "cell_type": "code",
   "execution_count": 16,
   "metadata": {
    "collapsed": false
   },
   "outputs": [
    {
     "name": "stdout",
     "output_type": "stream",
     "text": [
      "length complaints df: 53310\n",
      "length acs df: 857237\n",
      "length complaints and acs: 53310\n",
      "length pluto14 df: 873395\n",
      "length pluto16 df: 51779\n",
      "length merged complaints, acs, pluto14: 54242\n",
      "length merged complaints, acs, pluto16: 53310\n"
     ]
    }
   ],
   "source": [
    "print 'length complaints df: ' + str(len(c))\n",
    "print 'length acs df: ' + str(len(b))\n",
    "print 'length complaints and acs: ' + str(len(cb))\n",
    "print 'length pluto14 df: ' + str(len(p14))\n",
    "print 'length pluto16 df: ' + str(len(p16))\n",
    "print 'length merged complaints, acs, pluto14: ' + str(len(cbp14))\n",
    "print 'length merged complaints, acs, pluto16: ' + str(len(cbp16))"
   ]
  },
  {
   "cell_type": "code",
   "execution_count": 17,
   "metadata": {
    "collapsed": false
   },
   "outputs": [
    {
     "data": {
      "text/plain": [
       "BBL                   0\n",
       "com_count             0\n",
       "vio_count             0\n",
       "CBG                  36\n",
       "gas_utility_r        36\n",
       "avg_bldng_age        36\n",
       "ownership_r          36\n",
       "year                 36\n",
       "pop                  36\n",
       "female_r             36\n",
       "elderly_r            36\n",
       "white_r              36\n",
       "black_r              36\n",
       "asian_r              36\n",
       "hh                   36\n",
       "hh_child_6_r         36\n",
       "hh_living_alone_r    36\n",
       "edu_high_r           36\n",
       "non_eng_r            36\n",
       "unemployed_r         36\n",
       "vacancy_r            36\n",
       "med_rent             36\n",
       "med_income           36\n",
       "merried_r            36\n",
       "longercommute_r      36\n",
       "GEOID                94\n",
       "dtype: int64"
      ]
     },
     "execution_count": 17,
     "metadata": {},
     "output_type": "execute_result"
    }
   ],
   "source": [
    "cbp14.isnull().sum()"
   ]
  },
  {
   "cell_type": "code",
   "execution_count": 18,
   "metadata": {
    "collapsed": false
   },
   "outputs": [
    {
     "data": {
      "text/plain": [
       "BBL                     0\n",
       "com_count               0\n",
       "vio_count               0\n",
       "CBG                    36\n",
       "gas_utility_r          36\n",
       "avg_bldng_age          36\n",
       "ownership_r            36\n",
       "year                   36\n",
       "pop                    36\n",
       "female_r               36\n",
       "elderly_r              36\n",
       "white_r                36\n",
       "black_r                36\n",
       "asian_r                36\n",
       "hh                     36\n",
       "hh_child_6_r           36\n",
       "hh_living_alone_r      36\n",
       "edu_high_r             36\n",
       "non_eng_r              36\n",
       "unemployed_r           36\n",
       "vacancy_r              36\n",
       "med_rent               36\n",
       "med_income             36\n",
       "merried_r              36\n",
       "longercommute_r        36\n",
       "AssessLand           1531\n",
       "BsmtCode             1531\n",
       "BuiltFAR             1531\n",
       "LandUse              1531\n",
       "LotType              1531\n",
       "NumBldgs             1531\n",
       "NumFloors            1531\n",
       "ProxCode             1531\n",
       "ResArea              1531\n",
       "UnitsRes             1531\n",
       "YearBuilt            1531\n",
       "bldgclass_updated    1531\n",
       "AssessSqft           1531\n",
       "ownertype_updated    1531\n",
       "dtype: int64"
      ]
     },
     "execution_count": 18,
     "metadata": {},
     "output_type": "execute_result"
    }
   ],
   "source": [
    "cbp16.isnull().sum()"
   ]
  }
 ],
 "metadata": {
  "kernelspec": {
   "display_name": "Python 2",
   "language": "python",
   "name": "python2"
  },
  "language_info": {
   "codemirror_mode": {
    "name": "ipython",
    "version": 2
   },
   "file_extension": ".py",
   "mimetype": "text/x-python",
   "name": "python",
   "nbconvert_exporter": "python",
   "pygments_lexer": "ipython2",
   "version": "2.7.12"
  }
 },
 "nbformat": 4,
 "nbformat_minor": 1
}
