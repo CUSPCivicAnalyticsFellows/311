{
 "cells": [
  {
   "cell_type": "raw",
   "metadata": {},
   "source": [
    "def pluto(mappluto):\n",
    "    z = zipfile.ZipFile(mappluto)\n",
    "    z.extractall('../data_initial/')\n",
    "    \n",
    "    boroughs = ['Staten_Island', 'Queens', 'Manhattan', 'Bronx', 'Brooklyn']\n",
    "    abreevs = ['SI', 'QN', 'MN', 'BX', 'BK']\n",
    "\n",
    "    pluto = []\n",
    "    i = 0\n",
    "    for elem in boroughs:\n",
    "        temp = gpd.read_file('../data_initial/'+elem+'/'+abreevs[i]+'MapPLUTO.shp')\n",
    "        temp['BBL'] = temp['BBL'].astype(str)\n",
    "        #temp = temp.to_crs({'init':'epsg:4326'})\n",
    "        pluto.append(temp)\n",
    "        i+=1  \n",
    "\n",
    "    global pluto_updated\n",
    "    pluto_updated = pd.concat(pluto)\n",
    "\n",
    "    return pluto_updated.head()"
   ]
  },
  {
   "cell_type": "raw",
   "metadata": {},
   "source": [
    "pluto('../data_initial/mappluto_14v2.zip')\n",
    "pluto_updated.to_csv('../data_processed/pluto_14')"
   ]
  },
  {
   "cell_type": "code",
   "execution_count": 1,
   "metadata": {
    "collapsed": true
   },
   "outputs": [],
   "source": [
    "import pandas as pd\n",
    "import zipfile\n",
    "import geopandas as gpd\n",
    "import numpy as np"
   ]
  },
  {
   "cell_type": "code",
   "execution_count": 2,
   "metadata": {
    "collapsed": false
   },
   "outputs": [],
   "source": [
    "c = pd.read_csv('../data_processed/COM_VIO_2014_2016_BBL_WEEK_AVG_onlyheatingseason.csv')\n",
    "c = c.drop('Unnamed: 0',axis=1)\n",
    "a = pd.read_csv('../data_processed/BBL_ACS_2016.csv')\n",
    "a = a.drop('Unnamed: 0',axis=1)"
   ]
  },
  {
   "cell_type": "code",
   "execution_count": 3,
   "metadata": {
    "collapsed": false
   },
   "outputs": [
    {
     "data": {
      "text/html": [
       "<div>\n",
       "<table border=\"1\" class=\"dataframe\">\n",
       "  <thead>\n",
       "    <tr style=\"text-align: right;\">\n",
       "      <th></th>\n",
       "      <th>BBL</th>\n",
       "      <th>com_count</th>\n",
       "      <th>vio_count</th>\n",
       "    </tr>\n",
       "  </thead>\n",
       "  <tbody>\n",
       "    <tr>\n",
       "      <th>0</th>\n",
       "      <td>1000047501</td>\n",
       "      <td>0.031915</td>\n",
       "      <td>0.0</td>\n",
       "    </tr>\n",
       "    <tr>\n",
       "      <th>1</th>\n",
       "      <td>1000100032</td>\n",
       "      <td>0.010638</td>\n",
       "      <td>0.0</td>\n",
       "    </tr>\n",
       "  </tbody>\n",
       "</table>\n",
       "</div>"
      ],
      "text/plain": [
       "          BBL  com_count  vio_count\n",
       "0  1000047501   0.031915        0.0\n",
       "1  1000100032   0.010638        0.0"
      ]
     },
     "execution_count": 3,
     "metadata": {},
     "output_type": "execute_result"
    }
   ],
   "source": [
    "c.head(2)"
   ]
  },
  {
   "cell_type": "code",
   "execution_count": 4,
   "metadata": {
    "collapsed": false
   },
   "outputs": [
    {
     "data": {
      "text/html": [
       "<div>\n",
       "<table border=\"1\" class=\"dataframe\">\n",
       "  <thead>\n",
       "    <tr style=\"text-align: right;\">\n",
       "      <th></th>\n",
       "      <th>BBL</th>\n",
       "      <th>CBG</th>\n",
       "      <th>gas_utility_r</th>\n",
       "      <th>avg_bldng_age</th>\n",
       "      <th>ownership_r</th>\n",
       "      <th>year</th>\n",
       "      <th>pop</th>\n",
       "      <th>female_r</th>\n",
       "      <th>elderly_r</th>\n",
       "      <th>white_r</th>\n",
       "      <th>...</th>\n",
       "      <th>hh_child_6_r</th>\n",
       "      <th>hh_living_alone_r</th>\n",
       "      <th>edu_high_r</th>\n",
       "      <th>non_eng_r</th>\n",
       "      <th>unemployed_r</th>\n",
       "      <th>vacancy_r</th>\n",
       "      <th>med_rent</th>\n",
       "      <th>med_income</th>\n",
       "      <th>merried_r</th>\n",
       "      <th>longercommute_r</th>\n",
       "    </tr>\n",
       "  </thead>\n",
       "  <tbody>\n",
       "    <tr>\n",
       "      <th>0</th>\n",
       "      <td>5080500076</td>\n",
       "      <td>360850248001</td>\n",
       "      <td>0.795322</td>\n",
       "      <td>54.249527</td>\n",
       "      <td>0.586745</td>\n",
       "      <td>2016.0</td>\n",
       "      <td>1373.0</td>\n",
       "      <td>0.441369</td>\n",
       "      <td>0.09177</td>\n",
       "      <td>0.962855</td>\n",
       "      <td>...</td>\n",
       "      <td>0.053097</td>\n",
       "      <td>0.284600</td>\n",
       "      <td>0.210817</td>\n",
       "      <td>0.019493</td>\n",
       "      <td>0.042266</td>\n",
       "      <td>0.030246</td>\n",
       "      <td>980.0</td>\n",
       "      <td>51992.0</td>\n",
       "      <td>0.485255</td>\n",
       "      <td>0.446529</td>\n",
       "    </tr>\n",
       "    <tr>\n",
       "      <th>1</th>\n",
       "      <td>5079390055</td>\n",
       "      <td>360850244011</td>\n",
       "      <td>0.876565</td>\n",
       "      <td>35.051878</td>\n",
       "      <td>0.803220</td>\n",
       "      <td>2016.0</td>\n",
       "      <td>1698.0</td>\n",
       "      <td>0.510012</td>\n",
       "      <td>0.14311</td>\n",
       "      <td>0.959364</td>\n",
       "      <td>...</td>\n",
       "      <td>0.423780</td>\n",
       "      <td>0.187835</td>\n",
       "      <td>0.262467</td>\n",
       "      <td>0.000000</td>\n",
       "      <td>0.035823</td>\n",
       "      <td>0.000000</td>\n",
       "      <td>1259.0</td>\n",
       "      <td>84967.0</td>\n",
       "      <td>0.573906</td>\n",
       "      <td>0.450751</td>\n",
       "    </tr>\n",
       "  </tbody>\n",
       "</table>\n",
       "<p>2 rows × 23 columns</p>\n",
       "</div>"
      ],
      "text/plain": [
       "          BBL           CBG  gas_utility_r  avg_bldng_age  ownership_r  \\\n",
       "0  5080500076  360850248001       0.795322      54.249527     0.586745   \n",
       "1  5079390055  360850244011       0.876565      35.051878     0.803220   \n",
       "\n",
       "     year     pop  female_r  elderly_r   white_r       ...         \\\n",
       "0  2016.0  1373.0  0.441369    0.09177  0.962855       ...          \n",
       "1  2016.0  1698.0  0.510012    0.14311  0.959364       ...          \n",
       "\n",
       "   hh_child_6_r  hh_living_alone_r  edu_high_r  non_eng_r  unemployed_r  \\\n",
       "0      0.053097           0.284600    0.210817   0.019493      0.042266   \n",
       "1      0.423780           0.187835    0.262467   0.000000      0.035823   \n",
       "\n",
       "   vacancy_r  med_rent  med_income  merried_r  longercommute_r  \n",
       "0   0.030246     980.0     51992.0   0.485255         0.446529  \n",
       "1   0.000000    1259.0     84967.0   0.573906         0.450751  \n",
       "\n",
       "[2 rows x 23 columns]"
      ]
     },
     "execution_count": 4,
     "metadata": {},
     "output_type": "execute_result"
    }
   ],
   "source": [
    "a.head(2)"
   ]
  },
  {
   "cell_type": "code",
   "execution_count": 5,
   "metadata": {
    "collapsed": false
   },
   "outputs": [
    {
     "name": "stdout",
     "output_type": "stream",
     "text": [
      "length complaints df: 53310\n",
      "length acs df: 857237\n"
     ]
    }
   ],
   "source": [
    "print 'length complaints df: ' + str(len(c))\n",
    "print 'length acs df: ' + str(len(a))"
   ]
  },
  {
   "cell_type": "code",
   "execution_count": 6,
   "metadata": {
    "collapsed": false
   },
   "outputs": [
    {
     "name": "stderr",
     "output_type": "stream",
     "text": [
      "//anaconda/lib/python2.7/site-packages/IPython/core/interactiveshell.py:2723: DtypeWarning: Columns (27,37,40,46,53,64,65,84,85) have mixed types. Specify dtype option on import or set low_memory=False.\n",
      "  interactivity=interactivity, compiler=compiler, result=result)\n"
     ]
    },
    {
     "data": {
      "text/html": [
       "<div>\n",
       "<table border=\"1\" class=\"dataframe\">\n",
       "  <thead>\n",
       "    <tr style=\"text-align: right;\">\n",
       "      <th></th>\n",
       "      <th>APPBBL</th>\n",
       "      <th>APPDate</th>\n",
       "      <th>Address</th>\n",
       "      <th>AllZoning1</th>\n",
       "      <th>AllZoning2</th>\n",
       "      <th>AreaSource</th>\n",
       "      <th>AssessLand</th>\n",
       "      <th>AssessTot</th>\n",
       "      <th>BBL</th>\n",
       "      <th>BldgArea</th>\n",
       "      <th>...</th>\n",
       "      <th>YearAlter2</th>\n",
       "      <th>YearBuilt</th>\n",
       "      <th>ZMCode</th>\n",
       "      <th>ZipCode</th>\n",
       "      <th>ZoneDist1</th>\n",
       "      <th>ZoneDist2</th>\n",
       "      <th>ZoneDist3</th>\n",
       "      <th>ZoneDist4</th>\n",
       "      <th>ZoneMap</th>\n",
       "      <th>geometry</th>\n",
       "    </tr>\n",
       "  </thead>\n",
       "  <tbody>\n",
       "    <tr>\n",
       "      <th>0</th>\n",
       "      <td>0.0</td>\n",
       "      <td>NaN</td>\n",
       "      <td>437 PURDY AVENUE</td>\n",
       "      <td>R3-1</td>\n",
       "      <td>NaN</td>\n",
       "      <td>7</td>\n",
       "      <td>15120.0</td>\n",
       "      <td>23400.0</td>\n",
       "      <td>5.007470e+09</td>\n",
       "      <td>1488</td>\n",
       "      <td>...</td>\n",
       "      <td>0</td>\n",
       "      <td>1960</td>\n",
       "      <td>NaN</td>\n",
       "      <td>10314</td>\n",
       "      <td>R3-1</td>\n",
       "      <td>NaN</td>\n",
       "      <td>NaN</td>\n",
       "      <td>NaN</td>\n",
       "      <td>20d</td>\n",
       "      <td>POLYGON ((944681.4200000018 161477.381400004, ...</td>\n",
       "    </tr>\n",
       "    <tr>\n",
       "      <th>1</th>\n",
       "      <td>0.0</td>\n",
       "      <td>NaN</td>\n",
       "      <td>CUNARD AVENUE</td>\n",
       "      <td>R3A/HS</td>\n",
       "      <td>NaN</td>\n",
       "      <td>4</td>\n",
       "      <td>21518.0</td>\n",
       "      <td>21518.0</td>\n",
       "      <td>5.006230e+09</td>\n",
       "      <td>0</td>\n",
       "      <td>...</td>\n",
       "      <td>0</td>\n",
       "      <td>0</td>\n",
       "      <td>NaN</td>\n",
       "      <td>10304</td>\n",
       "      <td>R3A</td>\n",
       "      <td>NaN</td>\n",
       "      <td>NaN</td>\n",
       "      <td>NaN</td>\n",
       "      <td>21d</td>\n",
       "      <td>POLYGON ((959872.0577999949 162992.5866000056,...</td>\n",
       "    </tr>\n",
       "  </tbody>\n",
       "</table>\n",
       "<p>2 rows × 87 columns</p>\n",
       "</div>"
      ],
      "text/plain": [
       "   APPBBL APPDate           Address AllZoning1 AllZoning2  AreaSource  \\\n",
       "0     0.0     NaN  437 PURDY AVENUE       R3-1        NaN           7   \n",
       "1     0.0     NaN     CUNARD AVENUE     R3A/HS        NaN           4   \n",
       "\n",
       "   AssessLand  AssessTot           BBL  BldgArea  \\\n",
       "0     15120.0    23400.0  5.007470e+09      1488   \n",
       "1     21518.0    21518.0  5.006230e+09         0   \n",
       "\n",
       "                         ...                         YearAlter2  YearBuilt  \\\n",
       "0                        ...                                  0       1960   \n",
       "1                        ...                                  0          0   \n",
       "\n",
       "   ZMCode  ZipCode  ZoneDist1 ZoneDist2  ZoneDist3 ZoneDist4  ZoneMap  \\\n",
       "0     NaN    10314       R3-1       NaN        NaN       NaN      20d   \n",
       "1     NaN    10304        R3A       NaN        NaN       NaN      21d   \n",
       "\n",
       "                                            geometry  \n",
       "0  POLYGON ((944681.4200000018 161477.381400004, ...  \n",
       "1  POLYGON ((959872.0577999949 162992.5866000056,...  \n",
       "\n",
       "[2 rows x 87 columns]"
      ]
     },
     "execution_count": 6,
     "metadata": {},
     "output_type": "execute_result"
    }
   ],
   "source": [
    "pluto = pd.read_csv('../data_processed/pluto_14')\n",
    "pluto = pluto.drop('Unnamed: 0',axis=1)\n",
    "pluto.head(2)"
   ]
  },
  {
   "cell_type": "code",
   "execution_count": 7,
   "metadata": {
    "collapsed": true
   },
   "outputs": [],
   "source": [
    "pluto = pluto[pluto['UnitsRes'] != 0]"
   ]
  },
  {
   "cell_type": "code",
   "execution_count": 8,
   "metadata": {
    "collapsed": false
   },
   "outputs": [],
   "source": [
    "pluto['BBL'] = pluto['BBL'].astype(int)"
   ]
  },
  {
   "cell_type": "markdown",
   "metadata": {},
   "source": [
    "### hypothesis: problem with merge isn't that the dataset is insufficient, it's that there are about 1500 bbls without any residential units that have heat/hot water complaints or violations!"
   ]
  },
  {
   "cell_type": "code",
   "execution_count": 9,
   "metadata": {
    "collapsed": true
   },
   "outputs": [],
   "source": [
    "pluto['AssessSqft'] = pluto['AssessTot'] / pluto['BldgArea']"
   ]
  },
  {
   "cell_type": "code",
   "execution_count": 10,
   "metadata": {
    "collapsed": false
   },
   "outputs": [],
   "source": [
    "var = []\n",
    "i=0\n",
    "for elem in pluto['BldgClass']:\n",
    "    if elem[i][0] == 'A':\n",
    "        var.append(1)\n",
    "    elif elem[i][0] == 'B':\n",
    "        var.append(2)\n",
    "    elif elem[i][0] == 'C':\n",
    "        var.append(3)\n",
    "    elif elem[i][0] == 'S':\n",
    "        var.append(3)\n",
    "    elif elem[i][0] == 'D':\n",
    "        var.append(4)\n",
    "    elif elem[i] == 'O8':\n",
    "        var.append(4)\n",
    "    elif elem[i][0] == 'L':\n",
    "        var.append(6)\n",
    "    elif elem[i][0] == 'R':\n",
    "        var.append(5)\n",
    "    else:\n",
    "        var.append(0)\n",
    "pluto['bldgclass_updated'] = var"
   ]
  },
  {
   "cell_type": "code",
   "execution_count": 11,
   "metadata": {
    "collapsed": true
   },
   "outputs": [],
   "source": [
    "pluto = pluto.drop(['APPBBL', 'APPDate', 'Address', 'AreaSource', 'BldgDepth', 'BldgFront', \\\n",
    "                                   'Block', 'BoroCode', 'Borough', 'CB2010', 'CD', 'CT2010', 'ComArea', \\\n",
    "                                   'CommFAR', 'CondoNo', 'Council', 'EDesigNum', 'FacilFAR', 'FactryArea', \\\n",
    "                                   'FireComp', 'GarageArea', 'HealthArea', 'HistDist', 'IrrLotCode', 'Landmark', \\\n",
    "                                   'Lot', 'LotArea', 'LotDepth', 'LotFront', 'LtdHeight', 'MAPPLUTO_F', \\\n",
    "             'OfficeArea', 'OtherArea', 'Overlay1', 'Overlay2', 'PLUTOMapID', 'PolicePrct', 'ResidFAR', \\\n",
    "             'RetailArea', 'Sanborn', 'SchoolDist', 'StrgeArea', 'TaxMap', 'Tract2010', 'YearAlter1', \\\n",
    "             'YearAlter2', 'ZoneDist1', 'ZipCode', 'ZoneDist2', 'ZoneDist3', 'ZoneDist4', 'ZoneMap', \\\n",
    "             'XCoord', 'Version', 'YCoord', 'ZMCode', 'SPDist1', 'SPDist2', 'ExemptTot', 'BuiltCode', \\\n",
    "             'AllZoning1', 'AllZoning2', 'ExemptLand', 'geometry', 'Easements', 'SHAPE_Area', 'SHAPE_Leng', \\\n",
    "             'OwnerName', 'Ext', 'SplitZone', 'BldgClass', 'AssessTot', 'BldgArea', 'UnitsTotal', 'OwnerType', \\\n",
    "                   'AssessLand'], axis=1)"
   ]
  },
  {
   "cell_type": "code",
   "execution_count": 12,
   "metadata": {
    "collapsed": false
   },
   "outputs": [
    {
     "data": {
      "text/html": [
       "<div>\n",
       "<table border=\"1\" class=\"dataframe\">\n",
       "  <thead>\n",
       "    <tr style=\"text-align: right;\">\n",
       "      <th></th>\n",
       "      <th>BBL</th>\n",
       "      <th>BsmtCode</th>\n",
       "      <th>BuiltFAR</th>\n",
       "      <th>LandUse</th>\n",
       "      <th>LotType</th>\n",
       "      <th>NumBldgs</th>\n",
       "      <th>NumFloors</th>\n",
       "      <th>ProxCode</th>\n",
       "      <th>ResArea</th>\n",
       "      <th>UnitsRes</th>\n",
       "      <th>YearBuilt</th>\n",
       "      <th>AssessSqft</th>\n",
       "      <th>bldgclass_updated</th>\n",
       "    </tr>\n",
       "  </thead>\n",
       "  <tbody>\n",
       "    <tr>\n",
       "      <th>0</th>\n",
       "      <td>5007470028</td>\n",
       "      <td>2.0</td>\n",
       "      <td>0.35</td>\n",
       "      <td>1.0</td>\n",
       "      <td>5.0</td>\n",
       "      <td>1</td>\n",
       "      <td>1.0</td>\n",
       "      <td>1.0</td>\n",
       "      <td>1488</td>\n",
       "      <td>2</td>\n",
       "      <td>1960</td>\n",
       "      <td>15.725806</td>\n",
       "      <td>2</td>\n",
       "    </tr>\n",
       "    <tr>\n",
       "      <th>2</th>\n",
       "      <td>5007130017</td>\n",
       "      <td>2.0</td>\n",
       "      <td>0.31</td>\n",
       "      <td>1.0</td>\n",
       "      <td>5.0</td>\n",
       "      <td>2</td>\n",
       "      <td>2.5</td>\n",
       "      <td>1.0</td>\n",
       "      <td>1316</td>\n",
       "      <td>1</td>\n",
       "      <td>1920</td>\n",
       "      <td>17.174772</td>\n",
       "      <td>1</td>\n",
       "    </tr>\n",
       "  </tbody>\n",
       "</table>\n",
       "</div>"
      ],
      "text/plain": [
       "          BBL  BsmtCode  BuiltFAR  LandUse  LotType  NumBldgs  NumFloors  \\\n",
       "0  5007470028       2.0      0.35      1.0      5.0         1        1.0   \n",
       "2  5007130017       2.0      0.31      1.0      5.0         2        2.5   \n",
       "\n",
       "   ProxCode  ResArea  UnitsRes  YearBuilt  AssessSqft  bldgclass_updated  \n",
       "0       1.0     1488         2       1960   15.725806                  2  \n",
       "2       1.0     1316         1       1920   17.174772                  1  "
      ]
     },
     "execution_count": 12,
     "metadata": {},
     "output_type": "execute_result"
    }
   ],
   "source": [
    "pluto.head(2)"
   ]
  },
  {
   "cell_type": "code",
   "execution_count": 13,
   "metadata": {
    "collapsed": false
   },
   "outputs": [
    {
     "data": {
      "text/plain": [
       "BBL                   0\n",
       "BsmtCode              0\n",
       "BuiltFAR              0\n",
       "LandUse              13\n",
       "LotType               0\n",
       "NumBldgs              0\n",
       "NumFloors             0\n",
       "ProxCode              0\n",
       "ResArea               0\n",
       "UnitsRes              0\n",
       "YearBuilt             0\n",
       "AssessSqft           11\n",
       "bldgclass_updated     0\n",
       "dtype: int64"
      ]
     },
     "execution_count": 13,
     "metadata": {},
     "output_type": "execute_result"
    }
   ],
   "source": [
    "pluto.isnull().sum()"
   ]
  },
  {
   "cell_type": "code",
   "execution_count": 14,
   "metadata": {
    "collapsed": true
   },
   "outputs": [],
   "source": [
    "cp = pd.merge(c, pluto, on='BBL', how='left')\n",
    "cpa = pd.merge(cp, a, how='left')"
   ]
  },
  {
   "cell_type": "code",
   "execution_count": 15,
   "metadata": {
    "collapsed": false
   },
   "outputs": [
    {
     "name": "stdout",
     "output_type": "stream",
     "text": [
      "53310\n",
      "53310\n"
     ]
    }
   ],
   "source": [
    "print len(cp)\n",
    "print len(cpa)"
   ]
  },
  {
   "cell_type": "code",
   "execution_count": 16,
   "metadata": {
    "collapsed": false
   },
   "outputs": [
    {
     "data": {
      "text/plain": [
       "BBL                     0\n",
       "com_count               0\n",
       "vio_count               0\n",
       "BsmtCode             1528\n",
       "BuiltFAR             1528\n",
       "LandUse              1528\n",
       "LotType              1528\n",
       "NumBldgs             1528\n",
       "NumFloors            1528\n",
       "ProxCode             1528\n",
       "ResArea              1528\n",
       "UnitsRes             1528\n",
       "YearBuilt            1528\n",
       "AssessSqft           1531\n",
       "bldgclass_updated    1528\n",
       "CBG                    36\n",
       "gas_utility_r          36\n",
       "avg_bldng_age          36\n",
       "ownership_r            36\n",
       "year                   36\n",
       "pop                    36\n",
       "female_r               36\n",
       "elderly_r              36\n",
       "white_r                36\n",
       "black_r                36\n",
       "asian_r                36\n",
       "hh                     36\n",
       "hh_child_6_r           36\n",
       "hh_living_alone_r      36\n",
       "edu_high_r             36\n",
       "non_eng_r              36\n",
       "unemployed_r           36\n",
       "vacancy_r              36\n",
       "med_rent               36\n",
       "med_income             36\n",
       "merried_r              36\n",
       "longercommute_r        36\n",
       "dtype: int64"
      ]
     },
     "execution_count": 16,
     "metadata": {},
     "output_type": "execute_result"
    }
   ],
   "source": [
    "cpa.isnull().sum()"
   ]
  },
  {
   "cell_type": "code",
   "execution_count": 17,
   "metadata": {
    "collapsed": true
   },
   "outputs": [],
   "source": [
    "cpa.to_csv('../data_processed/acs_bbl_complaints')"
   ]
  },
  {
   "cell_type": "code",
   "execution_count": 18,
   "metadata": {
    "collapsed": false
   },
   "outputs": [
    {
     "name": "stdout",
     "output_type": "stream",
     "text": [
      "53310\n",
      "53310\n",
      "BBL                     0\n",
      "com_count               0\n",
      "vio_count               0\n",
      "BsmtCode             1660\n",
      "BuiltFAR             1660\n",
      "LandUse              1660\n",
      "LotType              1660\n",
      "NumBldgs             1660\n",
      "NumFloors            1660\n",
      "ProxCode             1660\n",
      "ResArea              1660\n",
      "UnitsRes             1660\n",
      "YearBuilt            1660\n",
      "AssessSqft           1660\n",
      "bldgclass_updated    1660\n",
      "CBG                    36\n",
      "gas_utility_r          36\n",
      "avg_bldng_age          36\n",
      "ownership_r            36\n",
      "year                   36\n",
      "pop                    36\n",
      "female_r               36\n",
      "elderly_r              36\n",
      "white_r                36\n",
      "black_r                36\n",
      "asian_r                36\n",
      "hh                     36\n",
      "hh_child_6_r           36\n",
      "hh_living_alone_r      36\n",
      "edu_high_r             36\n",
      "non_eng_r              36\n",
      "unemployed_r           36\n",
      "vacancy_r              36\n",
      "med_rent               36\n",
      "med_income             36\n",
      "merried_r              36\n",
      "longercommute_r        36\n",
      "dtype: int64\n"
     ]
    }
   ],
   "source": [
    "pluto2 = pd.read_csv('../data_processed/pluto_14')\n",
    "pluto2 = pluto2.drop('Unnamed: 0',axis=1)\n",
    "pluto2 = pluto2[pluto2['ResArea'] != 0]\n",
    "pluto2['BBL'] = pluto2['BBL'].astype(int)\n",
    "pluto2['AssessSqft'] = pluto2['AssessTot'] / pluto2['BldgArea']\n",
    "pluto2 = pluto2.dropna(subset=['BldgClass'])\n",
    "var = []\n",
    "i=0\n",
    "for elem in pluto2['BldgClass']:\n",
    "    if elem[i][0] == 'A':\n",
    "        var.append(1)\n",
    "    elif elem[i][0] == 'B':\n",
    "        var.append(2)\n",
    "    elif elem[i][0] == 'C':\n",
    "        var.append(3)\n",
    "    elif elem[i][0] == 'S':\n",
    "        var.append(3)\n",
    "    elif elem[i][0] == 'D':\n",
    "        var.append(4)\n",
    "    elif elem[i] == 'O8':\n",
    "        var.append(4)\n",
    "    elif elem[i][0] == 'L':\n",
    "        var.append(6)\n",
    "    elif elem[i][0] == 'R':\n",
    "        var.append(5)\n",
    "    else:\n",
    "        var.append(0)\n",
    "pluto2['bldgclass_updated'] = var\n",
    "pluto2 = pluto2.drop(['APPBBL', 'APPDate', 'Address', 'AreaSource', 'BldgDepth', 'BldgFront', \\\n",
    "                                   'Block', 'BoroCode', 'Borough', 'CB2010', 'CD', 'CT2010', 'ComArea', \\\n",
    "                                   'CommFAR', 'CondoNo', 'Council', 'EDesigNum', 'FacilFAR', 'FactryArea', \\\n",
    "                                   'FireComp', 'GarageArea', 'HealthArea', 'HistDist', 'IrrLotCode', 'Landmark', \\\n",
    "                                   'Lot', 'LotArea', 'LotDepth', 'LotFront', 'LtdHeight', 'MAPPLUTO_F', \\\n",
    "             'OfficeArea', 'OtherArea', 'Overlay1', 'Overlay2', 'PLUTOMapID', 'PolicePrct', 'ResidFAR', \\\n",
    "             'RetailArea', 'Sanborn', 'SchoolDist', 'StrgeArea', 'TaxMap', 'Tract2010', 'YearAlter1', \\\n",
    "             'YearAlter2', 'ZoneDist1', 'ZipCode', 'ZoneDist2', 'ZoneDist3', 'ZoneDist4', 'ZoneMap', \\\n",
    "             'XCoord', 'Version', 'YCoord', 'ZMCode', 'SPDist1', 'SPDist2', 'ExemptTot', 'BuiltCode', \\\n",
    "             'AllZoning1', 'AllZoning2', 'ExemptLand', 'geometry', 'Easements', 'SHAPE_Area', 'SHAPE_Leng', \\\n",
    "             'OwnerName', 'Ext', 'SplitZone', 'BldgClass', 'AssessTot', 'BldgArea', 'UnitsTotal', 'OwnerType', \n",
    "                     'AssessLand'], axis=1)\n",
    "cp2 = pd.merge(c, pluto2, on='BBL', how='left')\n",
    "cpa2 = pd.merge(cp2, a, how='left')\n",
    "print len(cp2)\n",
    "print len(cpa2)\n",
    "print cpa2.isnull().sum()"
   ]
  },
  {
   "cell_type": "code",
   "execution_count": 19,
   "metadata": {
    "collapsed": true
   },
   "outputs": [],
   "source": [
    "cpa = cpa.dropna()"
   ]
  },
  {
   "cell_type": "code",
   "execution_count": 21,
   "metadata": {
    "collapsed": false
   },
   "outputs": [
    {
     "data": {
      "text/html": [
       "<div>\n",
       "<table border=\"1\" class=\"dataframe\">\n",
       "  <thead>\n",
       "    <tr style=\"text-align: right;\">\n",
       "      <th></th>\n",
       "      <th>BBL</th>\n",
       "      <th>com_count</th>\n",
       "      <th>vio_count</th>\n",
       "      <th>BsmtCode</th>\n",
       "      <th>BuiltFAR</th>\n",
       "      <th>LandUse</th>\n",
       "      <th>LotType</th>\n",
       "      <th>NumBldgs</th>\n",
       "      <th>NumFloors</th>\n",
       "      <th>ProxCode</th>\n",
       "      <th>...</th>\n",
       "      <th>hh_child_6_r</th>\n",
       "      <th>hh_living_alone_r</th>\n",
       "      <th>edu_high_r</th>\n",
       "      <th>non_eng_r</th>\n",
       "      <th>unemployed_r</th>\n",
       "      <th>vacancy_r</th>\n",
       "      <th>med_rent</th>\n",
       "      <th>med_income</th>\n",
       "      <th>merried_r</th>\n",
       "      <th>longercommute_r</th>\n",
       "    </tr>\n",
       "  </thead>\n",
       "  <tbody>\n",
       "    <tr>\n",
       "      <th>1</th>\n",
       "      <td>1000100032</td>\n",
       "      <td>0.010638</td>\n",
       "      <td>0.00000</td>\n",
       "      <td>2.0</td>\n",
       "      <td>4.70</td>\n",
       "      <td>4.0</td>\n",
       "      <td>5.0</td>\n",
       "      <td>1.0</td>\n",
       "      <td>5.0</td>\n",
       "      <td>3.0</td>\n",
       "      <td>...</td>\n",
       "      <td>0.504274</td>\n",
       "      <td>0.337731</td>\n",
       "      <td>0.755677</td>\n",
       "      <td>0.030343</td>\n",
       "      <td>0.023172</td>\n",
       "      <td>0.312160</td>\n",
       "      <td>3600.0</td>\n",
       "      <td>147500.0</td>\n",
       "      <td>0.493571</td>\n",
       "      <td>0.149542</td>\n",
       "    </tr>\n",
       "    <tr>\n",
       "      <th>2</th>\n",
       "      <td>1000150022</td>\n",
       "      <td>0.010638</td>\n",
       "      <td>0.00000</td>\n",
       "      <td>5.0</td>\n",
       "      <td>24.93</td>\n",
       "      <td>3.0</td>\n",
       "      <td>3.0</td>\n",
       "      <td>1.0</td>\n",
       "      <td>31.0</td>\n",
       "      <td>0.0</td>\n",
       "      <td>...</td>\n",
       "      <td>0.000000</td>\n",
       "      <td>0.569112</td>\n",
       "      <td>0.905780</td>\n",
       "      <td>0.020077</td>\n",
       "      <td>0.037861</td>\n",
       "      <td>0.262948</td>\n",
       "      <td>2715.0</td>\n",
       "      <td>123832.0</td>\n",
       "      <td>0.274537</td>\n",
       "      <td>0.083185</td>\n",
       "    </tr>\n",
       "    <tr>\n",
       "      <th>3</th>\n",
       "      <td>1000160015</td>\n",
       "      <td>0.010638</td>\n",
       "      <td>0.00000</td>\n",
       "      <td>5.0</td>\n",
       "      <td>7.68</td>\n",
       "      <td>3.0</td>\n",
       "      <td>5.0</td>\n",
       "      <td>1.0</td>\n",
       "      <td>9.0</td>\n",
       "      <td>0.0</td>\n",
       "      <td>...</td>\n",
       "      <td>0.342282</td>\n",
       "      <td>0.286491</td>\n",
       "      <td>0.745763</td>\n",
       "      <td>0.032609</td>\n",
       "      <td>0.051647</td>\n",
       "      <td>0.174888</td>\n",
       "      <td>2954.0</td>\n",
       "      <td>132037.0</td>\n",
       "      <td>0.608503</td>\n",
       "      <td>0.298693</td>\n",
       "    </tr>\n",
       "    <tr>\n",
       "      <th>4</th>\n",
       "      <td>1000160020</td>\n",
       "      <td>0.021277</td>\n",
       "      <td>0.00000</td>\n",
       "      <td>5.0</td>\n",
       "      <td>7.77</td>\n",
       "      <td>3.0</td>\n",
       "      <td>5.0</td>\n",
       "      <td>1.0</td>\n",
       "      <td>9.0</td>\n",
       "      <td>0.0</td>\n",
       "      <td>...</td>\n",
       "      <td>0.342282</td>\n",
       "      <td>0.286491</td>\n",
       "      <td>0.745763</td>\n",
       "      <td>0.032609</td>\n",
       "      <td>0.051647</td>\n",
       "      <td>0.174888</td>\n",
       "      <td>2954.0</td>\n",
       "      <td>132037.0</td>\n",
       "      <td>0.608503</td>\n",
       "      <td>0.298693</td>\n",
       "    </tr>\n",
       "    <tr>\n",
       "      <th>5</th>\n",
       "      <td>1000160100</td>\n",
       "      <td>0.042553</td>\n",
       "      <td>0.56383</td>\n",
       "      <td>5.0</td>\n",
       "      <td>8.52</td>\n",
       "      <td>4.0</td>\n",
       "      <td>5.0</td>\n",
       "      <td>6.0</td>\n",
       "      <td>5.0</td>\n",
       "      <td>0.0</td>\n",
       "      <td>...</td>\n",
       "      <td>0.369863</td>\n",
       "      <td>0.452632</td>\n",
       "      <td>0.784270</td>\n",
       "      <td>0.064912</td>\n",
       "      <td>0.000000</td>\n",
       "      <td>0.113530</td>\n",
       "      <td>2563.0</td>\n",
       "      <td>130294.0</td>\n",
       "      <td>0.576404</td>\n",
       "      <td>0.229050</td>\n",
       "    </tr>\n",
       "  </tbody>\n",
       "</table>\n",
       "<p>5 rows × 37 columns</p>\n",
       "</div>"
      ],
      "text/plain": [
       "          BBL  com_count  vio_count  BsmtCode  BuiltFAR  LandUse  LotType  \\\n",
       "1  1000100032   0.010638    0.00000       2.0      4.70      4.0      5.0   \n",
       "2  1000150022   0.010638    0.00000       5.0     24.93      3.0      3.0   \n",
       "3  1000160015   0.010638    0.00000       5.0      7.68      3.0      5.0   \n",
       "4  1000160020   0.021277    0.00000       5.0      7.77      3.0      5.0   \n",
       "5  1000160100   0.042553    0.56383       5.0      8.52      4.0      5.0   \n",
       "\n",
       "   NumBldgs  NumFloors  ProxCode       ...         hh_child_6_r  \\\n",
       "1       1.0        5.0       3.0       ...             0.504274   \n",
       "2       1.0       31.0       0.0       ...             0.000000   \n",
       "3       1.0        9.0       0.0       ...             0.342282   \n",
       "4       1.0        9.0       0.0       ...             0.342282   \n",
       "5       6.0        5.0       0.0       ...             0.369863   \n",
       "\n",
       "   hh_living_alone_r  edu_high_r  non_eng_r  unemployed_r  vacancy_r  \\\n",
       "1           0.337731    0.755677   0.030343      0.023172   0.312160   \n",
       "2           0.569112    0.905780   0.020077      0.037861   0.262948   \n",
       "3           0.286491    0.745763   0.032609      0.051647   0.174888   \n",
       "4           0.286491    0.745763   0.032609      0.051647   0.174888   \n",
       "5           0.452632    0.784270   0.064912      0.000000   0.113530   \n",
       "\n",
       "   med_rent  med_income  merried_r  longercommute_r  \n",
       "1    3600.0    147500.0   0.493571         0.149542  \n",
       "2    2715.0    123832.0   0.274537         0.083185  \n",
       "3    2954.0    132037.0   0.608503         0.298693  \n",
       "4    2954.0    132037.0   0.608503         0.298693  \n",
       "5    2563.0    130294.0   0.576404         0.229050  \n",
       "\n",
       "[5 rows x 37 columns]"
      ]
     },
     "execution_count": 21,
     "metadata": {},
     "output_type": "execute_result"
    }
   ],
   "source": [
    "cpa.head()"
   ]
  },
  {
   "cell_type": "code",
   "execution_count": 22,
   "metadata": {
    "collapsed": false
   },
   "outputs": [
    {
     "data": {
      "text/plain": [
       "51770"
      ]
     },
     "execution_count": 22,
     "metadata": {},
     "output_type": "execute_result"
    }
   ],
   "source": [
    "len(cpa)"
   ]
  },
  {
   "cell_type": "code",
   "execution_count": 48,
   "metadata": {
    "collapsed": false
   },
   "outputs": [],
   "source": [
    "order = [elem for elem in cpa.columns]"
   ]
  },
  {
   "cell_type": "code",
   "execution_count": 50,
   "metadata": {
    "collapsed": false
   },
   "outputs": [],
   "source": [
    "order = [[order[0]], order[2:], [order[1]]]"
   ]
  },
  {
   "cell_type": "code",
   "execution_count": 52,
   "metadata": {
    "collapsed": false
   },
   "outputs": [],
   "source": [
    "f = [y for x in order for y in x]"
   ]
  },
  {
   "cell_type": "code",
   "execution_count": 55,
   "metadata": {
    "collapsed": false
   },
   "outputs": [],
   "source": [
    "cpa = cpa[f]"
   ]
  },
  {
   "cell_type": "code",
   "execution_count": 57,
   "metadata": {
    "collapsed": false
   },
   "outputs": [
    {
     "data": {
      "text/html": [
       "<div>\n",
       "<table border=\"1\" class=\"dataframe\">\n",
       "  <thead>\n",
       "    <tr style=\"text-align: right;\">\n",
       "      <th></th>\n",
       "      <th>BBL</th>\n",
       "      <th>vio_count</th>\n",
       "      <th>BsmtCode</th>\n",
       "      <th>BuiltFAR</th>\n",
       "      <th>LandUse</th>\n",
       "      <th>LotType</th>\n",
       "      <th>NumBldgs</th>\n",
       "      <th>NumFloors</th>\n",
       "      <th>ProxCode</th>\n",
       "      <th>ResArea</th>\n",
       "      <th>...</th>\n",
       "      <th>hh_living_alone_r</th>\n",
       "      <th>edu_high_r</th>\n",
       "      <th>non_eng_r</th>\n",
       "      <th>unemployed_r</th>\n",
       "      <th>vacancy_r</th>\n",
       "      <th>med_rent</th>\n",
       "      <th>med_income</th>\n",
       "      <th>merried_r</th>\n",
       "      <th>longercommute_r</th>\n",
       "      <th>com_count</th>\n",
       "    </tr>\n",
       "  </thead>\n",
       "  <tbody>\n",
       "    <tr>\n",
       "      <th>1</th>\n",
       "      <td>1000100032</td>\n",
       "      <td>0.00000</td>\n",
       "      <td>2.0</td>\n",
       "      <td>4.70</td>\n",
       "      <td>4.0</td>\n",
       "      <td>5.0</td>\n",
       "      <td>1.0</td>\n",
       "      <td>5.0</td>\n",
       "      <td>3.0</td>\n",
       "      <td>3474.0</td>\n",
       "      <td>...</td>\n",
       "      <td>0.337731</td>\n",
       "      <td>0.755677</td>\n",
       "      <td>0.030343</td>\n",
       "      <td>0.023172</td>\n",
       "      <td>0.312160</td>\n",
       "      <td>3600.0</td>\n",
       "      <td>147500.0</td>\n",
       "      <td>0.493571</td>\n",
       "      <td>0.149542</td>\n",
       "      <td>0.010638</td>\n",
       "    </tr>\n",
       "    <tr>\n",
       "      <th>2</th>\n",
       "      <td>1000150022</td>\n",
       "      <td>0.00000</td>\n",
       "      <td>5.0</td>\n",
       "      <td>24.93</td>\n",
       "      <td>3.0</td>\n",
       "      <td>3.0</td>\n",
       "      <td>1.0</td>\n",
       "      <td>31.0</td>\n",
       "      <td>0.0</td>\n",
       "      <td>331746.0</td>\n",
       "      <td>...</td>\n",
       "      <td>0.569112</td>\n",
       "      <td>0.905780</td>\n",
       "      <td>0.020077</td>\n",
       "      <td>0.037861</td>\n",
       "      <td>0.262948</td>\n",
       "      <td>2715.0</td>\n",
       "      <td>123832.0</td>\n",
       "      <td>0.274537</td>\n",
       "      <td>0.083185</td>\n",
       "      <td>0.010638</td>\n",
       "    </tr>\n",
       "    <tr>\n",
       "      <th>3</th>\n",
       "      <td>1000160015</td>\n",
       "      <td>0.00000</td>\n",
       "      <td>5.0</td>\n",
       "      <td>7.68</td>\n",
       "      <td>3.0</td>\n",
       "      <td>5.0</td>\n",
       "      <td>1.0</td>\n",
       "      <td>9.0</td>\n",
       "      <td>0.0</td>\n",
       "      <td>230765.0</td>\n",
       "      <td>...</td>\n",
       "      <td>0.286491</td>\n",
       "      <td>0.745763</td>\n",
       "      <td>0.032609</td>\n",
       "      <td>0.051647</td>\n",
       "      <td>0.174888</td>\n",
       "      <td>2954.0</td>\n",
       "      <td>132037.0</td>\n",
       "      <td>0.608503</td>\n",
       "      <td>0.298693</td>\n",
       "      <td>0.010638</td>\n",
       "    </tr>\n",
       "    <tr>\n",
       "      <th>4</th>\n",
       "      <td>1000160020</td>\n",
       "      <td>0.00000</td>\n",
       "      <td>5.0</td>\n",
       "      <td>7.77</td>\n",
       "      <td>3.0</td>\n",
       "      <td>5.0</td>\n",
       "      <td>1.0</td>\n",
       "      <td>9.0</td>\n",
       "      <td>0.0</td>\n",
       "      <td>230765.0</td>\n",
       "      <td>...</td>\n",
       "      <td>0.286491</td>\n",
       "      <td>0.745763</td>\n",
       "      <td>0.032609</td>\n",
       "      <td>0.051647</td>\n",
       "      <td>0.174888</td>\n",
       "      <td>2954.0</td>\n",
       "      <td>132037.0</td>\n",
       "      <td>0.608503</td>\n",
       "      <td>0.298693</td>\n",
       "      <td>0.021277</td>\n",
       "    </tr>\n",
       "    <tr>\n",
       "      <th>5</th>\n",
       "      <td>1000160100</td>\n",
       "      <td>0.56383</td>\n",
       "      <td>5.0</td>\n",
       "      <td>8.52</td>\n",
       "      <td>4.0</td>\n",
       "      <td>5.0</td>\n",
       "      <td>6.0</td>\n",
       "      <td>5.0</td>\n",
       "      <td>0.0</td>\n",
       "      <td>1727692.0</td>\n",
       "      <td>...</td>\n",
       "      <td>0.452632</td>\n",
       "      <td>0.784270</td>\n",
       "      <td>0.064912</td>\n",
       "      <td>0.000000</td>\n",
       "      <td>0.113530</td>\n",
       "      <td>2563.0</td>\n",
       "      <td>130294.0</td>\n",
       "      <td>0.576404</td>\n",
       "      <td>0.229050</td>\n",
       "      <td>0.042553</td>\n",
       "    </tr>\n",
       "  </tbody>\n",
       "</table>\n",
       "<p>5 rows × 37 columns</p>\n",
       "</div>"
      ],
      "text/plain": [
       "          BBL  vio_count  BsmtCode  BuiltFAR  LandUse  LotType  NumBldgs  \\\n",
       "1  1000100032    0.00000       2.0      4.70      4.0      5.0       1.0   \n",
       "2  1000150022    0.00000       5.0     24.93      3.0      3.0       1.0   \n",
       "3  1000160015    0.00000       5.0      7.68      3.0      5.0       1.0   \n",
       "4  1000160020    0.00000       5.0      7.77      3.0      5.0       1.0   \n",
       "5  1000160100    0.56383       5.0      8.52      4.0      5.0       6.0   \n",
       "\n",
       "   NumFloors  ProxCode    ResArea    ...      hh_living_alone_r  edu_high_r  \\\n",
       "1        5.0       3.0     3474.0    ...               0.337731    0.755677   \n",
       "2       31.0       0.0   331746.0    ...               0.569112    0.905780   \n",
       "3        9.0       0.0   230765.0    ...               0.286491    0.745763   \n",
       "4        9.0       0.0   230765.0    ...               0.286491    0.745763   \n",
       "5        5.0       0.0  1727692.0    ...               0.452632    0.784270   \n",
       "\n",
       "   non_eng_r  unemployed_r  vacancy_r  med_rent  med_income  merried_r  \\\n",
       "1   0.030343      0.023172   0.312160    3600.0    147500.0   0.493571   \n",
       "2   0.020077      0.037861   0.262948    2715.0    123832.0   0.274537   \n",
       "3   0.032609      0.051647   0.174888    2954.0    132037.0   0.608503   \n",
       "4   0.032609      0.051647   0.174888    2954.0    132037.0   0.608503   \n",
       "5   0.064912      0.000000   0.113530    2563.0    130294.0   0.576404   \n",
       "\n",
       "   longercommute_r  com_count  \n",
       "1         0.149542   0.010638  \n",
       "2         0.083185   0.010638  \n",
       "3         0.298693   0.010638  \n",
       "4         0.298693   0.021277  \n",
       "5         0.229050   0.042553  \n",
       "\n",
       "[5 rows x 37 columns]"
      ]
     },
     "execution_count": 57,
     "metadata": {},
     "output_type": "execute_result"
    }
   ],
   "source": [
    "cpa.head()"
   ]
  },
  {
   "cell_type": "code",
   "execution_count": 59,
   "metadata": {
    "collapsed": true
   },
   "outputs": [],
   "source": [
    "cpa.to_csv('../data_processed/acs_bbl_complaints')"
   ]
  }
 ],
 "metadata": {
  "kernelspec": {
   "display_name": "Python 2",
   "language": "python",
   "name": "python2"
  },
  "language_info": {
   "codemirror_mode": {
    "name": "ipython",
    "version": 2
   },
   "file_extension": ".py",
   "mimetype": "text/x-python",
   "name": "python",
   "nbconvert_exporter": "python",
   "pygments_lexer": "ipython2",
   "version": "2.7.12"
  }
 },
 "nbformat": 4,
 "nbformat_minor": 1
}
