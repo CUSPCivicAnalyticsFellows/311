{
 "cells": [
  {
   "cell_type": "code",
   "execution_count": 1,
   "metadata": {
    "collapsed": false
   },
   "outputs": [
    {
     "name": "stdout",
     "output_type": "stream",
     "text": [
      "Populating the interactive namespace from numpy and matplotlib\n"
     ]
    }
   ],
   "source": [
    "#Data management\n",
    "import pandas as pd\n",
    "from sklearn.preprocessing import StandardScaler\n",
    "import numpy as np\n",
    "\n",
    "#Data visualization\n",
    "import pylab as pl\n",
    "from matplotlib import ticker\n",
    "%pylab inline\n",
    "\n",
    "#Tools for feature selection\n",
    "from sklearn.linear_model import RidgeCV\n",
    "from sklearn.linear_model import Ridge\n",
    "import statsmodels.formula.api as smf\n",
    "import statsmodels.stats.outliers_influence as outl\n",
    "from sklearn import cross_validation"
   ]
  },
  {
   "cell_type": "markdown",
   "metadata": {},
   "source": [
    "# 1_Load Data"
   ]
  },
  {
   "cell_type": "code",
   "execution_count": 2,
   "metadata": {
    "collapsed": true
   },
   "outputs": [],
   "source": [
    "# Load joined data ('data/output/data_ready.csv')\n",
    "data_ready = pd.read_csv('data/output/data_ready.csv', dtype = {'ZIPCODE': str}, parse_dates = ['Date'])"
   ]
  },
  {
   "cell_type": "code",
   "execution_count": 3,
   "metadata": {
    "collapsed": false
   },
   "outputs": [
    {
     "data": {
      "text/html": [
       "<div>\n",
       "<table border=\"1\" class=\"dataframe\">\n",
       "  <thead>\n",
       "    <tr style=\"text-align: right;\">\n",
       "      <th></th>\n",
       "      <th>Unnamed: 0</th>\n",
       "      <th>Count_com</th>\n",
       "      <th>Date</th>\n",
       "      <th>Count_vio</th>\n",
       "      <th>Year</th>\n",
       "      <th>Month</th>\n",
       "      <th>Week</th>\n",
       "      <th>ZIPCODE</th>\n",
       "      <th>POPULATION</th>\n",
       "      <th>disability_r</th>\n",
       "      <th>...</th>\n",
       "      <th>below_poverty_r</th>\n",
       "      <th>pop</th>\n",
       "      <th>male_pop_r</th>\n",
       "      <th>female_pop_r</th>\n",
       "      <th>elder_pop_r</th>\n",
       "      <th>white_r</th>\n",
       "      <th>black_r</th>\n",
       "      <th>asian_r</th>\n",
       "      <th>towork_less30_r</th>\n",
       "      <th>towork_over30_r</th>\n",
       "    </tr>\n",
       "  </thead>\n",
       "  <tbody>\n",
       "    <tr>\n",
       "      <th>0</th>\n",
       "      <td>0</td>\n",
       "      <td>9.0</td>\n",
       "      <td>2014-03-17</td>\n",
       "      <td>0.0</td>\n",
       "      <td>2014</td>\n",
       "      <td>3</td>\n",
       "      <td>12</td>\n",
       "      <td>10001</td>\n",
       "      <td>22413.0</td>\n",
       "      <td>0.078</td>\n",
       "      <td>...</td>\n",
       "      <td>0.204</td>\n",
       "      <td>23537.0</td>\n",
       "      <td>0.502485</td>\n",
       "      <td>0.497515</td>\n",
       "      <td>0.000501</td>\n",
       "      <td>0.602456</td>\n",
       "      <td>0.121893</td>\n",
       "      <td>0.191996</td>\n",
       "      <td>0.624704</td>\n",
       "      <td>0.375296</td>\n",
       "    </tr>\n",
       "    <tr>\n",
       "      <th>1</th>\n",
       "      <td>1</td>\n",
       "      <td>9.0</td>\n",
       "      <td>2014-03-24</td>\n",
       "      <td>1.0</td>\n",
       "      <td>2014</td>\n",
       "      <td>3</td>\n",
       "      <td>13</td>\n",
       "      <td>10001</td>\n",
       "      <td>22413.0</td>\n",
       "      <td>0.078</td>\n",
       "      <td>...</td>\n",
       "      <td>0.204</td>\n",
       "      <td>23537.0</td>\n",
       "      <td>0.502485</td>\n",
       "      <td>0.497515</td>\n",
       "      <td>0.000501</td>\n",
       "      <td>0.602456</td>\n",
       "      <td>0.121893</td>\n",
       "      <td>0.191996</td>\n",
       "      <td>0.624704</td>\n",
       "      <td>0.375296</td>\n",
       "    </tr>\n",
       "  </tbody>\n",
       "</table>\n",
       "<p>2 rows × 36 columns</p>\n",
       "</div>"
      ],
      "text/plain": [
       "   Unnamed: 0  Count_com       Date  Count_vio  Year  Month  Week ZIPCODE  \\\n",
       "0           0        9.0 2014-03-17        0.0  2014      3    12   10001   \n",
       "1           1        9.0 2014-03-24        1.0  2014      3    13   10001   \n",
       "\n",
       "   POPULATION  disability_r       ...         below_poverty_r      pop  \\\n",
       "0     22413.0         0.078       ...                   0.204  23537.0   \n",
       "1     22413.0         0.078       ...                   0.204  23537.0   \n",
       "\n",
       "   male_pop_r  female_pop_r  elder_pop_r   white_r   black_r   asian_r  \\\n",
       "0    0.502485      0.497515     0.000501  0.602456  0.121893  0.191996   \n",
       "1    0.502485      0.497515     0.000501  0.602456  0.121893  0.191996   \n",
       "\n",
       "   towork_less30_r  towork_over30_r  \n",
       "0         0.624704         0.375296  \n",
       "1         0.624704         0.375296  \n",
       "\n",
       "[2 rows x 36 columns]"
      ]
     },
     "execution_count": 3,
     "metadata": {},
     "output_type": "execute_result"
    }
   ],
   "source": [
    "data_ready.head(2)"
   ]
  },
  {
   "cell_type": "code",
   "execution_count": 4,
   "metadata": {
    "collapsed": false
   },
   "outputs": [
    {
     "name": "stdout",
     "output_type": "stream",
     "text": [
      "184\n",
      "         Count_com  Count_vio ZIPCODE\n",
      "ZIPCODE                              \n",
      "10001       1281.0      250.0   10001\n",
      "10002       3598.0     1667.0   10002\n"
     ]
    }
   ],
   "source": [
    "# Keep and aggregate 2015 annual data in order to find causality\n",
    "# The reason why picking 2015 data is 2015 cover all complaints and violations\n",
    "df = data_ready[data_ready['Year'] == 2015]\n",
    "df = data_ready.groupby('ZIPCODE')['Count_com', 'Count_vio'].sum()\n",
    "df['ZIPCODE'] = df.index\n",
    "print len(df)\n",
    "print df.head(2)"
   ]
  },
  {
   "cell_type": "code",
   "execution_count": 5,
   "metadata": {
    "collapsed": true
   },
   "outputs": [],
   "source": [
    "acs_zip = pd.read_csv('data/output/acs_zip.csv', dtype = {'ZIPCODE': str})"
   ]
  },
  {
   "cell_type": "code",
   "execution_count": 6,
   "metadata": {
    "collapsed": false
   },
   "outputs": [],
   "source": [
    "#acs_zip.sort(['ZIPCODE'], ascending = 1)"
   ]
  },
  {
   "cell_type": "code",
   "execution_count": 7,
   "metadata": {
    "collapsed": false
   },
   "outputs": [
    {
     "name": "stdout",
     "output_type": "stream",
     "text": [
      "248\n"
     ]
    }
   ],
   "source": [
    "print len(acs_zip)"
   ]
  },
  {
   "cell_type": "code",
   "execution_count": 8,
   "metadata": {
    "collapsed": false
   },
   "outputs": [],
   "source": [
    "df = pd.merge(df, acs_zip, how='outer', on='ZIPCODE')\n",
    "df = df[df['POPULATION'] > 0]"
   ]
  },
  {
   "cell_type": "code",
   "execution_count": 9,
   "metadata": {
    "collapsed": false
   },
   "outputs": [],
   "source": [
    "#df.sort(['ZIPCODE'], ascending = 1)"
   ]
  },
  {
   "cell_type": "code",
   "execution_count": 10,
   "metadata": {
    "collapsed": false
   },
   "outputs": [],
   "source": [
    "# Drop dulicates \n",
    "df = df.drop_duplicates()\n",
    "df = df.drop(['Unnamed: 0'], axis = 1)"
   ]
  },
  {
   "cell_type": "code",
   "execution_count": 11,
   "metadata": {
    "collapsed": false
   },
   "outputs": [
    {
     "name": "stdout",
     "output_type": "stream",
     "text": [
      "187\n",
      "   Count_com  Count_vio ZIPCODE  POPULATION      Id2  disability_r  \\\n",
      "0     1281.0      250.0   10001     22413.0  10001.0         0.078   \n",
      "1     3598.0     1667.0   10002     81305.0  10002.0         0.156   \n",
      "\n",
      "   edu_high_r  edu_low_r  employment_r       hh       ...             pop  \\\n",
      "0       0.667      0.135         0.647  11639.0       ...         23537.0   \n",
      "1       0.328      0.206         0.510  33348.0       ...         80736.0   \n",
      "\n",
      "   male_pop_r  female_pop_r  elder_pop_r   white_r   black_r   asian_r  \\\n",
      "0    0.502485      0.497515     0.000501  0.602456  0.121893  0.191996   \n",
      "1    0.480752      0.519248     0.000222  0.295605  0.086108  0.432372   \n",
      "\n",
      "   native_r  towork_less30_r  towork_over30_r  \n",
      "0  0.002422         0.624704         0.375296  \n",
      "1  0.002329         0.463618         0.536382  \n",
      "\n",
      "[2 rows x 33 columns]\n"
     ]
    }
   ],
   "source": [
    "print len(df)\n",
    "print df.head(2)"
   ]
  },
  {
   "cell_type": "code",
   "execution_count": 12,
   "metadata": {
    "collapsed": false
   },
   "outputs": [],
   "source": [
    "# Reset index and permutate\n",
    "df_sample = df.reset_index(drop=True)\n",
    "df_sample = df_sample.iloc[np.random.permutation(len(df_sample))].reset_index(drop=True)"
   ]
  },
  {
   "cell_type": "code",
   "execution_count": 13,
   "metadata": {
    "collapsed": false
   },
   "outputs": [
    {
     "data": {
      "text/html": [
       "<div>\n",
       "<table border=\"1\" class=\"dataframe\">\n",
       "  <thead>\n",
       "    <tr style=\"text-align: right;\">\n",
       "      <th></th>\n",
       "      <th>Count_com</th>\n",
       "      <th>Count_vio</th>\n",
       "      <th>ZIPCODE</th>\n",
       "      <th>POPULATION</th>\n",
       "      <th>Id2</th>\n",
       "      <th>disability_r</th>\n",
       "      <th>edu_high_r</th>\n",
       "      <th>edu_low_r</th>\n",
       "      <th>employment_r</th>\n",
       "      <th>hh</th>\n",
       "      <th>...</th>\n",
       "      <th>pop</th>\n",
       "      <th>male_pop_r</th>\n",
       "      <th>female_pop_r</th>\n",
       "      <th>elder_pop_r</th>\n",
       "      <th>white_r</th>\n",
       "      <th>black_r</th>\n",
       "      <th>asian_r</th>\n",
       "      <th>native_r</th>\n",
       "      <th>towork_less30_r</th>\n",
       "      <th>towork_over30_r</th>\n",
       "    </tr>\n",
       "  </thead>\n",
       "  <tbody>\n",
       "    <tr>\n",
       "      <th>0</th>\n",
       "      <td>230.0</td>\n",
       "      <td>27.0</td>\n",
       "      <td>11357</td>\n",
       "      <td>38944.0</td>\n",
       "      <td>11357.0</td>\n",
       "      <td>0.104</td>\n",
       "      <td>0.367</td>\n",
       "      <td>0.266</td>\n",
       "      <td>0.541</td>\n",
       "      <td>14846.0</td>\n",
       "      <td>...</td>\n",
       "      <td>39737.0</td>\n",
       "      <td>0.475023</td>\n",
       "      <td>0.524977</td>\n",
       "      <td>0.000541</td>\n",
       "      <td>0.751315</td>\n",
       "      <td>0.004807</td>\n",
       "      <td>0.192138</td>\n",
       "      <td>0.003724</td>\n",
       "      <td>0.427093</td>\n",
       "      <td>0.572907</td>\n",
       "    </tr>\n",
       "    <tr>\n",
       "      <th>1</th>\n",
       "      <td>9701.0</td>\n",
       "      <td>5012.0</td>\n",
       "      <td>11212</td>\n",
       "      <td>83866.0</td>\n",
       "      <td>11212.0</td>\n",
       "      <td>0.120</td>\n",
       "      <td>0.125</td>\n",
       "      <td>0.366</td>\n",
       "      <td>0.461</td>\n",
       "      <td>31443.0</td>\n",
       "      <td>...</td>\n",
       "      <td>88668.0</td>\n",
       "      <td>0.422362</td>\n",
       "      <td>0.577638</td>\n",
       "      <td>0.000130</td>\n",
       "      <td>0.049409</td>\n",
       "      <td>0.836040</td>\n",
       "      <td>0.012823</td>\n",
       "      <td>0.003259</td>\n",
       "      <td>0.201659</td>\n",
       "      <td>0.798341</td>\n",
       "    </tr>\n",
       "  </tbody>\n",
       "</table>\n",
       "<p>2 rows × 33 columns</p>\n",
       "</div>"
      ],
      "text/plain": [
       "   Count_com  Count_vio ZIPCODE  POPULATION      Id2  disability_r  \\\n",
       "0      230.0       27.0   11357     38944.0  11357.0         0.104   \n",
       "1     9701.0     5012.0   11212     83866.0  11212.0         0.120   \n",
       "\n",
       "   edu_high_r  edu_low_r  employment_r       hh       ...             pop  \\\n",
       "0       0.367      0.266         0.541  14846.0       ...         39737.0   \n",
       "1       0.125      0.366         0.461  31443.0       ...         88668.0   \n",
       "\n",
       "   male_pop_r  female_pop_r  elder_pop_r   white_r   black_r   asian_r  \\\n",
       "0    0.475023      0.524977     0.000541  0.751315  0.004807  0.192138   \n",
       "1    0.422362      0.577638     0.000130  0.049409  0.836040  0.012823   \n",
       "\n",
       "   native_r  towork_less30_r  towork_over30_r  \n",
       "0  0.003724         0.427093         0.572907  \n",
       "1  0.003259         0.201659         0.798341  \n",
       "\n",
       "[2 rows x 33 columns]"
      ]
     },
     "execution_count": 13,
     "metadata": {},
     "output_type": "execute_result"
    }
   ],
   "source": [
    "df_sample.head(2) "
   ]
  },
  {
   "cell_type": "code",
   "execution_count": 14,
   "metadata": {
    "collapsed": false
   },
   "outputs": [
    {
     "data": {
      "text/plain": [
       "187"
      ]
     },
     "execution_count": 14,
     "metadata": {},
     "output_type": "execute_result"
    }
   ],
   "source": [
    "len(df_sample)"
   ]
  },
  {
   "cell_type": "code",
   "execution_count": 15,
   "metadata": {
    "collapsed": true
   },
   "outputs": [],
   "source": [
    "# Compute Heat/hot water complaints per household\n",
    "df_sample['com_ph'] = df_sample['Count_com'] / df_sample['hh']\n",
    "\n",
    "# Compute Class C violations per household\n",
    "df_sample['vio_ph'] = df_sample['Count_vio'] / df_sample['hh']"
   ]
  },
  {
   "cell_type": "code",
   "execution_count": 18,
   "metadata": {
    "collapsed": false
   },
   "outputs": [],
   "source": [
    "# Define the set of variables that are percentages\n",
    "var_pc = ['disability_r', 'edu_high_r', 'employment_r', 'hh_with6_r', 'utility_gas_r', 'tank_gas_r',\n",
    "         'fueloil_r', 'occupied_hu_rent_r',\n",
    "         'built_before1980_r', 'married_r', 'non_eng_r', 'below_poverty_r', 'female_pop_r',\n",
    "         'elder_pop_r', 'white_r', 'black_r', 'asian_r', 'towork_less30_r']\n",
    "\n",
    "# Define the set of variables that are medians\n",
    "var_med = []\n",
    "\n",
    "# Define a set of variables that are neigther percentages nor medians\n",
    "var_add = []\n",
    "\n",
    "# Define the set of variables interested in\n",
    "var_int = var_pc + var_med + var_add"
   ]
  },
  {
   "cell_type": "code",
   "execution_count": 19,
   "metadata": {
    "collapsed": false
   },
   "outputs": [],
   "source": [
    "df_sample.to_csv('data/output/annual_2015.csv')"
   ]
  },
  {
   "cell_type": "code",
   "execution_count": 20,
   "metadata": {
    "collapsed": false
   },
   "outputs": [
    {
     "name": "stderr",
     "output_type": "stream",
     "text": [
      "/Users/bh1555/anaconda/lib/python2.7/site-packages/numpy/lib/function_base.py:3834: RuntimeWarning: Invalid value encountered in percentile\n",
      "  RuntimeWarning)\n"
     ]
    },
    {
     "data": {
      "text/html": [
       "<div>\n",
       "<table border=\"1\" class=\"dataframe\">\n",
       "  <thead>\n",
       "    <tr style=\"text-align: right;\">\n",
       "      <th></th>\n",
       "      <th>Count_com</th>\n",
       "      <th>Count_vio</th>\n",
       "      <th>POPULATION</th>\n",
       "      <th>Id2</th>\n",
       "      <th>disability_r</th>\n",
       "      <th>edu_high_r</th>\n",
       "      <th>edu_low_r</th>\n",
       "      <th>employment_r</th>\n",
       "      <th>hh</th>\n",
       "      <th>hh_with6_r</th>\n",
       "      <th>...</th>\n",
       "      <th>female_pop_r</th>\n",
       "      <th>elder_pop_r</th>\n",
       "      <th>white_r</th>\n",
       "      <th>black_r</th>\n",
       "      <th>asian_r</th>\n",
       "      <th>native_r</th>\n",
       "      <th>towork_less30_r</th>\n",
       "      <th>towork_over30_r</th>\n",
       "      <th>com_ph</th>\n",
       "      <th>vio_ph</th>\n",
       "    </tr>\n",
       "  </thead>\n",
       "  <tbody>\n",
       "    <tr>\n",
       "      <th>count</th>\n",
       "      <td>180.000000</td>\n",
       "      <td>177.000000</td>\n",
       "      <td>187.000000</td>\n",
       "      <td>187.000000</td>\n",
       "      <td>182.000000</td>\n",
       "      <td>182.000000</td>\n",
       "      <td>182.000000</td>\n",
       "      <td>182.000000</td>\n",
       "      <td>182.000000</td>\n",
       "      <td>180.000000</td>\n",
       "      <td>...</td>\n",
       "      <td>182.000000</td>\n",
       "      <td>182.000000</td>\n",
       "      <td>182.000000</td>\n",
       "      <td>182.000000</td>\n",
       "      <td>182.000000</td>\n",
       "      <td>182.000000</td>\n",
       "      <td>182.000000</td>\n",
       "      <td>182.000000</td>\n",
       "      <td>179.000000</td>\n",
       "      <td>176.000000</td>\n",
       "    </tr>\n",
       "    <tr>\n",
       "      <th>mean</th>\n",
       "      <td>3257.272222</td>\n",
       "      <td>1352.864407</td>\n",
       "      <td>43693.080214</td>\n",
       "      <td>10758.973262</td>\n",
       "      <td>0.103538</td>\n",
       "      <td>0.386522</td>\n",
       "      <td>0.232659</td>\n",
       "      <td>0.584505</td>\n",
       "      <td>17226.840659</td>\n",
       "      <td>0.002707</td>\n",
       "      <td>...</td>\n",
       "      <td>0.520116</td>\n",
       "      <td>0.000788</td>\n",
       "      <td>0.472016</td>\n",
       "      <td>0.220062</td>\n",
       "      <td>0.139840</td>\n",
       "      <td>0.004946</td>\n",
       "      <td>0.337751</td>\n",
       "      <td>0.662249</td>\n",
       "      <td>0.158314</td>\n",
       "      <td>0.065863</td>\n",
       "    </tr>\n",
       "    <tr>\n",
       "      <th>std</th>\n",
       "      <td>3952.340027</td>\n",
       "      <td>1872.579945</td>\n",
       "      <td>27057.971990</td>\n",
       "      <td>970.662059</td>\n",
       "      <td>0.043769</td>\n",
       "      <td>0.217644</td>\n",
       "      <td>0.093991</td>\n",
       "      <td>0.088274</td>\n",
       "      <td>9641.484931</td>\n",
       "      <td>0.004584</td>\n",
       "      <td>...</td>\n",
       "      <td>0.039948</td>\n",
       "      <td>0.003597</td>\n",
       "      <td>0.266095</td>\n",
       "      <td>0.254808</td>\n",
       "      <td>0.134766</td>\n",
       "      <td>0.005349</td>\n",
       "      <td>0.122996</td>\n",
       "      <td>0.122996</td>\n",
       "      <td>0.159234</td>\n",
       "      <td>0.078971</td>\n",
       "    </tr>\n",
       "    <tr>\n",
       "      <th>min</th>\n",
       "      <td>7.000000</td>\n",
       "      <td>1.000000</td>\n",
       "      <td>12.000000</td>\n",
       "      <td>83.000000</td>\n",
       "      <td>0.000000</td>\n",
       "      <td>0.086000</td>\n",
       "      <td>0.019000</td>\n",
       "      <td>0.154000</td>\n",
       "      <td>0.000000</td>\n",
       "      <td>0.000484</td>\n",
       "      <td>...</td>\n",
       "      <td>0.134409</td>\n",
       "      <td>0.000000</td>\n",
       "      <td>0.018846</td>\n",
       "      <td>0.000749</td>\n",
       "      <td>0.000000</td>\n",
       "      <td>0.000410</td>\n",
       "      <td>0.144436</td>\n",
       "      <td>0.315239</td>\n",
       "      <td>0.001390</td>\n",
       "      <td>0.000329</td>\n",
       "    </tr>\n",
       "    <tr>\n",
       "      <th>25%</th>\n",
       "      <td>NaN</td>\n",
       "      <td>NaN</td>\n",
       "      <td>23888.500000</td>\n",
       "      <td>10291.500000</td>\n",
       "      <td>NaN</td>\n",
       "      <td>NaN</td>\n",
       "      <td>NaN</td>\n",
       "      <td>NaN</td>\n",
       "      <td>NaN</td>\n",
       "      <td>NaN</td>\n",
       "      <td>...</td>\n",
       "      <td>NaN</td>\n",
       "      <td>NaN</td>\n",
       "      <td>NaN</td>\n",
       "      <td>NaN</td>\n",
       "      <td>NaN</td>\n",
       "      <td>NaN</td>\n",
       "      <td>NaN</td>\n",
       "      <td>NaN</td>\n",
       "      <td>NaN</td>\n",
       "      <td>NaN</td>\n",
       "    </tr>\n",
       "    <tr>\n",
       "      <th>50%</th>\n",
       "      <td>NaN</td>\n",
       "      <td>NaN</td>\n",
       "      <td>39834.000000</td>\n",
       "      <td>11105.000000</td>\n",
       "      <td>NaN</td>\n",
       "      <td>NaN</td>\n",
       "      <td>NaN</td>\n",
       "      <td>NaN</td>\n",
       "      <td>NaN</td>\n",
       "      <td>NaN</td>\n",
       "      <td>...</td>\n",
       "      <td>NaN</td>\n",
       "      <td>NaN</td>\n",
       "      <td>NaN</td>\n",
       "      <td>NaN</td>\n",
       "      <td>NaN</td>\n",
       "      <td>NaN</td>\n",
       "      <td>NaN</td>\n",
       "      <td>NaN</td>\n",
       "      <td>NaN</td>\n",
       "      <td>NaN</td>\n",
       "    </tr>\n",
       "    <tr>\n",
       "      <th>75%</th>\n",
       "      <td>NaN</td>\n",
       "      <td>NaN</td>\n",
       "      <td>62250.500000</td>\n",
       "      <td>11359.000000</td>\n",
       "      <td>NaN</td>\n",
       "      <td>NaN</td>\n",
       "      <td>NaN</td>\n",
       "      <td>NaN</td>\n",
       "      <td>NaN</td>\n",
       "      <td>NaN</td>\n",
       "      <td>...</td>\n",
       "      <td>NaN</td>\n",
       "      <td>NaN</td>\n",
       "      <td>NaN</td>\n",
       "      <td>NaN</td>\n",
       "      <td>NaN</td>\n",
       "      <td>NaN</td>\n",
       "      <td>NaN</td>\n",
       "      <td>NaN</td>\n",
       "      <td>NaN</td>\n",
       "      <td>NaN</td>\n",
       "    </tr>\n",
       "    <tr>\n",
       "      <th>max</th>\n",
       "      <td>18620.000000</td>\n",
       "      <td>8095.000000</td>\n",
       "      <td>109069.000000</td>\n",
       "      <td>11697.000000</td>\n",
       "      <td>0.404000</td>\n",
       "      <td>0.898000</td>\n",
       "      <td>0.456000</td>\n",
       "      <td>0.870000</td>\n",
       "      <td>43456.000000</td>\n",
       "      <td>0.041203</td>\n",
       "      <td>...</td>\n",
       "      <td>0.643554</td>\n",
       "      <td>0.045455</td>\n",
       "      <td>0.989016</td>\n",
       "      <td>0.912797</td>\n",
       "      <td>0.733180</td>\n",
       "      <td>0.059140</td>\n",
       "      <td>0.684761</td>\n",
       "      <td>0.855564</td>\n",
       "      <td>0.863955</td>\n",
       "      <td>0.351942</td>\n",
       "    </tr>\n",
       "  </tbody>\n",
       "</table>\n",
       "<p>8 rows × 34 columns</p>\n",
       "</div>"
      ],
      "text/plain": [
       "          Count_com    Count_vio     POPULATION           Id2  disability_r  \\\n",
       "count    180.000000   177.000000     187.000000    187.000000    182.000000   \n",
       "mean    3257.272222  1352.864407   43693.080214  10758.973262      0.103538   \n",
       "std     3952.340027  1872.579945   27057.971990    970.662059      0.043769   \n",
       "min        7.000000     1.000000      12.000000     83.000000      0.000000   \n",
       "25%             NaN          NaN   23888.500000  10291.500000           NaN   \n",
       "50%             NaN          NaN   39834.000000  11105.000000           NaN   \n",
       "75%             NaN          NaN   62250.500000  11359.000000           NaN   \n",
       "max    18620.000000  8095.000000  109069.000000  11697.000000      0.404000   \n",
       "\n",
       "       edu_high_r   edu_low_r  employment_r            hh  hh_with6_r  \\\n",
       "count  182.000000  182.000000    182.000000    182.000000  180.000000   \n",
       "mean     0.386522    0.232659      0.584505  17226.840659    0.002707   \n",
       "std      0.217644    0.093991      0.088274   9641.484931    0.004584   \n",
       "min      0.086000    0.019000      0.154000      0.000000    0.000484   \n",
       "25%           NaN         NaN           NaN           NaN         NaN   \n",
       "50%           NaN         NaN           NaN           NaN         NaN   \n",
       "75%           NaN         NaN           NaN           NaN         NaN   \n",
       "max      0.898000    0.456000      0.870000  43456.000000    0.041203   \n",
       "\n",
       "          ...      female_pop_r  elder_pop_r     white_r     black_r  \\\n",
       "count     ...        182.000000   182.000000  182.000000  182.000000   \n",
       "mean      ...          0.520116     0.000788    0.472016    0.220062   \n",
       "std       ...          0.039948     0.003597    0.266095    0.254808   \n",
       "min       ...          0.134409     0.000000    0.018846    0.000749   \n",
       "25%       ...               NaN          NaN         NaN         NaN   \n",
       "50%       ...               NaN          NaN         NaN         NaN   \n",
       "75%       ...               NaN          NaN         NaN         NaN   \n",
       "max       ...          0.643554     0.045455    0.989016    0.912797   \n",
       "\n",
       "          asian_r    native_r  towork_less30_r  towork_over30_r      com_ph  \\\n",
       "count  182.000000  182.000000       182.000000       182.000000  179.000000   \n",
       "mean     0.139840    0.004946         0.337751         0.662249    0.158314   \n",
       "std      0.134766    0.005349         0.122996         0.122996    0.159234   \n",
       "min      0.000000    0.000410         0.144436         0.315239    0.001390   \n",
       "25%           NaN         NaN              NaN              NaN         NaN   \n",
       "50%           NaN         NaN              NaN              NaN         NaN   \n",
       "75%           NaN         NaN              NaN              NaN         NaN   \n",
       "max      0.733180    0.059140         0.684761         0.855564    0.863955   \n",
       "\n",
       "           vio_ph  \n",
       "count  176.000000  \n",
       "mean     0.065863  \n",
       "std      0.078971  \n",
       "min      0.000329  \n",
       "25%           NaN  \n",
       "50%           NaN  \n",
       "75%           NaN  \n",
       "max      0.351942  \n",
       "\n",
       "[8 rows x 34 columns]"
      ]
     },
     "execution_count": 20,
     "metadata": {},
     "output_type": "execute_result"
    }
   ],
   "source": [
    "df_sample.describe()"
   ]
  },
  {
   "cell_type": "code",
   "execution_count": 21,
   "metadata": {
    "collapsed": false
   },
   "outputs": [
    {
     "data": {
      "text/plain": [
       "<matplotlib.legend.Legend at 0x11618fed0>"
      ]
     },
     "execution_count": 21,
     "metadata": {},
     "output_type": "execute_result"
    },
    {
     "data": {
      "image/png": "[encoded data removed]",
      "text/plain": [
       "<matplotlib.figure.Figure at 0x115ded290>"
      ]
     },
     "metadata": {},
     "output_type": "display_data"
    }
   ],
   "source": [
    "# Plot the distribution of Heat/hot water complaints (total)\n",
    "\n",
    "fig = pl.figure(figsize = (12,8))\n",
    "df_sample.Count_com.hist(bins = 20)\n",
    "\n",
    "# Plot lines two std from the mean\n",
    "pl.axvline(df_sample.Count_com.mean() + 2*df_sample.Count_com.std(), color = 'red', linewidth = 2.0, linestyle = '--',\n",
    "          label = \"2-std away from mean\")\n",
    "pl.axvline(df_sample.Count_com.mean() - 2*df_sample.Count_com.std(), color = 'red', linewidth = 2.0, linestyle = '--',\n",
    "          label = \"2-std away from mean\")\n",
    "\n",
    "# Plot lines three std from the mean\n",
    "pl.axvline(df_sample.Count_com.mean() + 3*df_sample.Count_com.std(), color = 'green', linewidth = 2.0, linestyle = '--',\n",
    "          label = \"3-std away from mean\")\n",
    "pl.axvline(df_sample.Count_com.mean() - 3*df_sample.Count_com.std(), color = 'green', linewidth = 2.0, linestyle = '--',\n",
    "          label = \"3-std away from mean\")\n",
    "\n",
    "# Y-axis parameters\n",
    "pl.tick_params(axis = 'both', which='major', labelsize=13)\n",
    "pl.ylabel('Number of ZIPCODE', fontsize = 17)\n",
    "\n",
    "# X-axis parameters\n",
    "pl.tick_params(labelsize=15)\n",
    "pl.ylabel('Heat/hot water complaints', fontsize = 17)\n",
    "\n",
    "# Legend, title, and export\n",
    "pl.title('Distribution of Heat/hot water complaints', fontsize=25)\n",
    "pl.legend(fontsize=15)\n",
    "#pl.savefig('data/output/...')"
   ]
  },
  {
   "cell_type": "code",
   "execution_count": 22,
   "metadata": {
    "collapsed": false
   },
   "outputs": [
    {
     "data": {
      "text/plain": [
       "<matplotlib.legend.Legend at 0x11af22850>"
      ]
     },
     "execution_count": 22,
     "metadata": {},
     "output_type": "execute_result"
    },
    {
     "data": {
      "image/png": "[encoded data removed]",
      "text/plain": [
       "<matplotlib.figure.Figure at 0x11632b390>"
      ]
     },
     "metadata": {},
     "output_type": "display_data"
    }
   ],
   "source": [
    "# Plot the distribution of Heat/hot water complaints (per household)\n",
    "\n",
    "fig = pl.figure(figsize = (12,8))\n",
    "df_sample.com_ph.hist(bins = 20)\n",
    "\n",
    "# Plot lines two std from the mean\n",
    "pl.axvline(df_sample.com_ph.mean() + 2*df_sample.com_ph.std(), color = 'red', linewidth = 2.0, linestyle = '--',\n",
    "          label = \"2-std away from mean\")\n",
    "pl.axvline(df_sample.com_ph.mean() - 2*df_sample.com_ph.std(), color = 'red', linewidth = 2.0, linestyle = '--',\n",
    "          label = \"2-std away from mean\")\n",
    "\n",
    "# Plot lines three std from the mean\n",
    "pl.axvline(df_sample.com_ph.mean() + 3*df_sample.com_ph.std(), color = 'green', linewidth = 2.0, linestyle = '--',\n",
    "          label = \"3-std away from mean\")\n",
    "pl.axvline(df_sample.com_ph.mean() - 3*df_sample.com_ph.std(), color = 'green', linewidth = 2.0, linestyle = '--',\n",
    "          label = \"3-std away from mean\")\n",
    "\n",
    "# Y-axis parameters\n",
    "pl.tick_params(axis = 'both', which='major', labelsize=13)\n",
    "pl.ylabel('Number of ZIPCODE', fontsize = 17)\n",
    "\n",
    "# X-axis parameters\n",
    "pl.tick_params(labelsize=15)\n",
    "pl.ylabel('Heat/hot water complaints per household', fontsize = 17)\n",
    "\n",
    "# Legend, title, and export\n",
    "pl.title('Distribution of Heat/hot water complaints', fontsize=25)\n",
    "pl.legend(fontsize=15)\n",
    "#pl.savefig('data/output/...')"
   ]
  },
  {
   "cell_type": "markdown",
   "metadata": {},
   "source": [
    "# 2_Standardize variables"
   ]
  },
  {
   "cell_type": "code",
   "execution_count": 23,
   "metadata": {
    "collapsed": false
   },
   "outputs": [
    {
     "name": "stdout",
     "output_type": "stream",
     "text": [
      "176\n"
     ]
    }
   ],
   "source": [
    "# Drop rows including NaN\n",
    "for var in var_int + ['com_ph', 'vio_ph']:\n",
    "    df_sample = df_sample[pd.notnull(df_sample[var])]\n",
    "\n",
    "# For each independent variables + com_ph + vio_ph    \n",
    "print len(df_sample)\n",
    "\n",
    "# Check whether there are null values\n",
    "for var in var_int + ['vio_ph']:\n",
    "    a = df_sample.loc[df_sample[var].isnull(), var].shape[0]\n",
    "    if a != 0:\n",
    "        print var\n",
    "    else:\n",
    "        pass"
   ]
  },
  {
   "cell_type": "code",
   "execution_count": 24,
   "metadata": {
    "collapsed": false
   },
   "outputs": [],
   "source": [
    "# Due to percentages and medians format variables, need to standardize the variables\n",
    "# Substract the mean and divide by the std\n",
    "var_std = StandardScaler().fit_transform(df_sample[var_int + ['vio_ph']])\n",
    "df_std = pd.DataFrame(var_std, columns=[var_int + ['vio_ph']])\n",
    "\n",
    "# The target variables (com_ph) are not standardized\n",
    "df_std['com_ph'] = df_sample['com_ph']"
   ]
  },
  {
   "cell_type": "code",
   "execution_count": 25,
   "metadata": {
    "collapsed": true
   },
   "outputs": [],
   "source": [
    "# Drop rows including NaN\n",
    "for var in var_int + ['com_ph', 'vio_ph']:\n",
    "    df_std = df_std[pd.notnull(df_std[var])]"
   ]
  },
  {
   "cell_type": "markdown",
   "metadata": {},
   "source": [
    "# 3_Feature selection\n",
    "### Ridge regression"
   ]
  },
  {
   "cell_type": "code",
   "execution_count": 26,
   "metadata": {
    "collapsed": false
   },
   "outputs": [],
   "source": [
    "# Use cross validation to choose a parameter for the ridge regression based on the features\n",
    "ridge_model = RidgeCV(cv = 15, normalize = True)\n",
    "ridge_fit = ridge_model.fit(df_sample[var_int + ['vio_ph']], df_sample.com_ph)\n",
    "ralpha = ridge_fit.alpha_"
   ]
  },
  {
   "cell_type": "code",
   "execution_count": 27,
   "metadata": {
    "collapsed": false
   },
   "outputs": [
    {
     "name": "stdout",
     "output_type": "stream",
     "text": [
      "0.9717 \tvio_ph\n",
      "0.3944 \tfueloil_r\n",
      "0.2485 \toccupied_hu_rent_r\n",
      "0.1803 \tbelow_poverty_r\n",
      "0.161 \tmarried_r\n",
      "0.1299 \tdisability_r\n",
      "0.0862 \tedu_high_r\n",
      "0.072 \tutility_gas_r\n",
      "0.0643 \tfemale_pop_r\n",
      "0.0635 \tasian_r\n",
      "0.0262 \tnon_eng_r\n",
      "0.0258 \twhite_r\n",
      "0.0248 \tbuilt_before1980_r\n",
      "0.0229 \tblack_r\n",
      "0.0177 \temployment_r\n"
     ]
    }
   ],
   "source": [
    "# Run the ridge regression with the chosen alpha\n",
    "ridge = RidgeCV(alphas = [ralpha], cv=15, normalize=True)\n",
    "ridge.fit(df_sample[var_int + ['vio_ph']], df_sample.com_ph)\n",
    "\n",
    "# Sort the features based on their absolute coefficient in the ridge regression, keep only the top 15\n",
    "# Becasue the features are standardized, the ranking of the coefficient corresponds somewhat to the strength\n",
    "# of their link with the target variables (complaints per household)\n",
    "var_ridge = []\n",
    "for i, (k, varb) in enumerate(sorted(zip(map(lambda x: round(x, 4), np.abs(ridge.coef_)), var_int + ['vio_ph']),\n",
    "                                     reverse=True)):\n",
    "    if i < 15:\n",
    "        var_ridge.append(varb)\n",
    "        print k, \"\\t\", varb"
   ]
  },
  {
   "cell_type": "code",
   "execution_count": 56,
   "metadata": {
    "collapsed": false
   },
   "outputs": [
    {
     "name": "stdout",
     "output_type": "stream",
     "text": [
      "--------------------------------\n",
      "R-squared \t 85.16%\n"
     ]
    }
   ],
   "source": [
    "#Compute the y predictions and the R-squared for the Ridge Regression results\n",
    "y_pred = cross_validation.cross_val_predict(ridge, df_sample[var_int + ['vio_ph']], df_sample.com_ph)\n",
    "ssr = np.sum((y_pred-df_sample.com_ph)**2)\n",
    "sst = np.sum((df_sample.com_ph - np.mean(df_sample.com_ph))**2)\n",
    "print \"--------------------------------\"\n",
    "print \"R-squared \\t {0:.2f}%\".format((1 - (ssr/sst))*100)"
   ]
  },
  {
   "cell_type": "markdown",
   "metadata": {},
   "source": [
    "### Variance Inflation Factor"
   ]
  },
  {
   "cell_type": "code",
   "execution_count": 28,
   "metadata": {
    "collapsed": true
   },
   "outputs": [],
   "source": [
    "#Define a function to store Variance Inflation Factors for each feature\n",
    "def vif_func2(in_frame):\n",
    "    \n",
    "    #Load data\n",
    "    in_dat = in_frame\n",
    "    df = np.asarray(in_frame)\n",
    "    vif_final = []\n",
    "    \n",
    "    while df.shape[1]>0:\n",
    "        vif_vals = []\n",
    "        \n",
    "        #Compute the VIF for all 15 \"Ridge\" variables in the set\n",
    "        for i in range(df.shape[1]):\n",
    "            vif_vals.append(outl.variance_inflation_factor(df, i))\n",
    "            \n",
    "        #Select the feature with the highest VIF\n",
    "        vif_max = np.max(vif_vals)\n",
    "        max_name = in_dat.columns[np.argmax(vif_vals)]\n",
    "        vif_final.append([max_name, vif_max])\n",
    "        \n",
    "        #Exclude that feature (with highest VIF) from the list of features\n",
    "        in_dat = in_dat[[c for c in in_dat.columns if c != max_name]]\n",
    "        df = np.asarray(in_dat)\n",
    "        if df.shape[1]==1:\n",
    "            vif_final.append([in_dat.columns[0], 0])\n",
    "            return vif_final\n",
    "            break"
   ]
  },
  {
   "cell_type": "code",
   "execution_count": 29,
   "metadata": {
    "collapsed": false
   },
   "outputs": [
    {
     "data": {
      "text/plain": [
       "<matplotlib.legend.Legend at 0x11af22a50>"
      ]
     },
     "execution_count": 29,
     "metadata": {},
     "output_type": "execute_result"
    },
    {
     "data": {
      "image/png": "[encoded data removed]",
      "text/plain": [
       "<matplotlib.figure.Figure at 0x116032950>"
      ]
     },
     "metadata": {},
     "output_type": "display_data"
    }
   ],
   "source": [
    "#Gather the features names, their coefficient in the Ridge regression\n",
    "rr = pd.DataFrame(data={'varb': var_int + ['vio_ph'], 'ridge': ridge.coef_, 'ridge_abs' : np.abs(ridge.coef_)})\n",
    "rr = rr.sort_values('ridge_abs', ascending=False).reset_index()\n",
    "\n",
    "#Add the VIF for each feature\n",
    "rr = rr.merge(pd.DataFrame(vif_func2(df_sample[var_int]), columns=['varb', 'vif']), on='varb')\n",
    "\n",
    "#Plot ridge coefficient (rescaled from 0 to 100)\n",
    "fig = pl.figure(figsize=(12,6))\n",
    "pl.plot(100*(rr.ridge_abs - rr.ridge_abs.min())/(rr.ridge_abs.max() - rr.ridge_abs.min()), \n",
    "        color='green', label='Ridge coefficient, absolute value')\n",
    "\n",
    "#Plot the VIF of each feature (rescaled from 0 to 100)\n",
    "pl.bar(range(len(rr)), 100*(rr.vif - rr.vif.min())/(rr.vif.max() - rr.vif.min()), label='Variance Inflation Factor')\n",
    "\n",
    "#Plot the usual VIF threshold (features with a VIF above 10 should be excluded)\n",
    "pl.axhline(100*(10-rr.vif.min())/(rr.vif.max() - rr.vif.min()), \n",
    "           color='red', linestyle='--', linewidth=3, label='VIF=10')\n",
    "\n",
    "#Figure parameters\n",
    "pl.xlabel('Rank of the feature in the Ridge regression', fontsize=15)\n",
    "pl.ylabel('Ridge coefficient & VIF, rescaled on 0-100', fontsize=15)\n",
    "pl.title('Selection of Features', fontsize=20)\n",
    "pl.legend(fontsize=12)"
   ]
  },
  {
   "cell_type": "markdown",
   "metadata": {},
   "source": [
    "### Compute VIF step by step & exclude high VIFs\n",
    "* In this section I compute the Variance Inflation Factor for the 15 features selected by the Ridge Regression. If there are features with a VIF above 5, I exclude the one with the highest VIF. I then recompute the VIF for each feature, and if there are features with a VIF above 5, I exclude again the one with the highest VIF. I repeat until there is no feature with a VIF above 5."
   ]
  },
  {
   "cell_type": "code",
   "execution_count": 30,
   "metadata": {
    "collapsed": true
   },
   "outputs": [],
   "source": [
    "#Other VIF function to exclude the variables with a VIF too high\n",
    "def vif_func(in_frame, thresh=10):\n",
    "    df = np.asarray(in_frame)\n",
    "    vif_init = []\n",
    "    \n",
    "    #Initial list of VIF coefficients\n",
    "    for i in range(df.shape[1]):\n",
    "        vif_init.append(outl.variance_inflation_factor(df, i))\n",
    "        \n",
    "    #Find the maximum VIF\n",
    "    vif_max = np.max(vif_init)\n",
    "    \n",
    "    #If the initial VIF is below the threshold, no feature to exclude\n",
    "    if vif_max < thresh:\n",
    "        print \"All variables have VIF < {}\".format(thresh)\n",
    "        print \"Max VIF :\", in_frame.columns[np.argmax(vif_init)], vif_max\n",
    "    \n",
    "    else:\n",
    "        in_dat = in_frame\n",
    "    \n",
    "    #Recursively exclude feature until none has a VIF above the threshold\n",
    "    while vif_max > thresh:\n",
    "        vif_vals = [] \n",
    "        var_names = in_dat.columns\n",
    "        df = np.asarray(in_dat)\n",
    "        \n",
    "        #Compute VIFs\n",
    "        for i in range(df.shape[1]):\n",
    "            vif_vals.append(outl.variance_inflation_factor(df, i))\n",
    "            \n",
    "        #Find the maximum\n",
    "        vif_max = np.max(vif_vals)\n",
    "        \n",
    "        #If all VIFs are below the threshold, return the list of features names\n",
    "        if vif_max < thresh: \n",
    "            return in_dat.columns\n",
    "            break\n",
    "        \n",
    "        #Otherwise, remove the feature with the highest VIF from the list of features\n",
    "        else:\n",
    "            max_name = in_dat.columns[np.argmax(vif_vals)]\n",
    "            print \"Removed: \", max_name, vif_max\n",
    "            in_dat = in_dat[[c for c in in_dat.columns if c != max_name]]"
   ]
  },
  {
   "cell_type": "code",
   "execution_count": 31,
   "metadata": {
    "collapsed": false
   },
   "outputs": [
    {
     "name": "stdout",
     "output_type": "stream",
     "text": [
      "Removed:  female_pop_r 464.805794241\n",
      "Removed:  employment_r 151.168071876\n",
      "Removed:  utility_gas_r 80.4383130487\n",
      "Removed:  occupied_hu_rent_r 54.5976624935\n",
      "Removed:  white_r 44.1604788405\n",
      "Removed:  built_before1980_r 37.0708502375\n",
      "Removed:  non_eng_r 26.9391755481\n",
      "Removed:  disability_r 16.0806020362\n"
     ]
    },
    {
     "data": {
      "text/plain": [
       "Index([u'vio_ph', u'fueloil_r', u'below_poverty_r', u'married_r',\n",
       "       u'edu_high_r', u'asian_r', u'black_r'],\n",
       "      dtype='object')"
      ]
     },
     "execution_count": 31,
     "metadata": {},
     "output_type": "execute_result"
    }
   ],
   "source": [
    "#Exclude the features selected by Ridge that have a VIF above 10\n",
    "vif_func(df_sample[var_ridge], thresh=10)"
   ]
  },
  {
   "cell_type": "markdown",
   "metadata": {},
   "source": [
    "# 4_Causality modeling"
   ]
  },
  {
   "cell_type": "code",
   "execution_count": 58,
   "metadata": {
    "collapsed": false
   },
   "outputs": [
    {
     "data": {
      "text/html": [
       "<table class=\"simpletable\">\n",
       "<caption>OLS Regression Results</caption>\n",
       "<tr>\n",
       "  <th>Dep. Variable:</th>         <td>com_ph</td>      <th>  R-squared:         </th> <td>   0.876</td>\n",
       "</tr>\n",
       "<tr>\n",
       "  <th>Model:</th>                   <td>OLS</td>       <th>  Adj. R-squared:    </th> <td>   0.873</td>\n",
       "</tr>\n",
       "<tr>\n",
       "  <th>Method:</th>             <td>Least Squares</td>  <th>  F-statistic:       </th> <td>   303.1</td>\n",
       "</tr>\n",
       "<tr>\n",
       "  <th>Date:</th>             <td>Tue, 24 Jan 2017</td> <th>  Prob (F-statistic):</th> <td>1.78e-76</td>\n",
       "</tr>\n",
       "<tr>\n",
       "  <th>Time:</th>                 <td>16:49:22</td>     <th>  Log-Likelihood:    </th> <td>  258.08</td>\n",
       "</tr>\n",
       "<tr>\n",
       "  <th>No. Observations:</th>      <td>   176</td>      <th>  AIC:               </th> <td>  -506.2</td>\n",
       "</tr>\n",
       "<tr>\n",
       "  <th>Df Residuals:</th>          <td>   171</td>      <th>  BIC:               </th> <td>  -490.3</td>\n",
       "</tr>\n",
       "<tr>\n",
       "  <th>Df Model:</th>              <td>     4</td>      <th>                     </th>     <td> </td>   \n",
       "</tr>\n",
       "<tr>\n",
       "  <th>Covariance Type:</th>      <td>nonrobust</td>    <th>                     </th>     <td> </td>   \n",
       "</tr>\n",
       "</table>\n",
       "<table class=\"simpletable\">\n",
       "<tr>\n",
       "           <td></td>             <th>coef</th>     <th>std err</th>      <th>t</th>      <th>P>|t|</th> <th>[95.0% Conf. Int.]</th> \n",
       "</tr>\n",
       "<tr>\n",
       "  <th>Intercept</th>          <td>   -0.0881</td> <td>    0.030</td> <td>   -2.960</td> <td> 0.004</td> <td>   -0.147    -0.029</td>\n",
       "</tr>\n",
       "<tr>\n",
       "  <th>vio_ph</th>             <td>    1.3921</td> <td>    0.080</td> <td>   17.480</td> <td> 0.000</td> <td>    1.235     1.549</td>\n",
       "</tr>\n",
       "<tr>\n",
       "  <th>fueloil_r</th>          <td>    0.2272</td> <td>    0.037</td> <td>    6.078</td> <td> 0.000</td> <td>    0.153     0.301</td>\n",
       "</tr>\n",
       "<tr>\n",
       "  <th>occupied_hu_rent_r</th> <td>    0.0738</td> <td>    0.024</td> <td>    3.023</td> <td> 0.003</td> <td>    0.026     0.122</td>\n",
       "</tr>\n",
       "<tr>\n",
       "  <th>built_before1980_r</th> <td>    0.0687</td> <td>    0.031</td> <td>    2.210</td> <td> 0.028</td> <td>    0.007     0.130</td>\n",
       "</tr>\n",
       "</table>\n",
       "<table class=\"simpletable\">\n",
       "<tr>\n",
       "  <th>Omnibus:</th>       <td>120.061</td> <th>  Durbin-Watson:     </th> <td>   1.921</td>\n",
       "</tr>\n",
       "<tr>\n",
       "  <th>Prob(Omnibus):</th> <td> 0.000</td>  <th>  Jarque-Bera (JB):  </th> <td>1488.206</td>\n",
       "</tr>\n",
       "<tr>\n",
       "  <th>Skew:</th>          <td> 2.307</td>  <th>  Prob(JB):          </th> <td>    0.00</td>\n",
       "</tr>\n",
       "<tr>\n",
       "  <th>Kurtosis:</th>      <td>16.477</td>  <th>  Cond. No.          </th> <td>    28.7</td>\n",
       "</tr>\n",
       "</table>"
      ],
      "text/plain": [
       "<class 'statsmodels.iolib.summary.Summary'>\n",
       "\"\"\"\n",
       "                            OLS Regression Results                            \n",
       "==============================================================================\n",
       "Dep. Variable:                 com_ph   R-squared:                       0.876\n",
       "Model:                            OLS   Adj. R-squared:                  0.873\n",
       "Method:                 Least Squares   F-statistic:                     303.1\n",
       "Date:                Tue, 24 Jan 2017   Prob (F-statistic):           1.78e-76\n",
       "Time:                        16:49:22   Log-Likelihood:                 258.08\n",
       "No. Observations:                 176   AIC:                            -506.2\n",
       "Df Residuals:                     171   BIC:                            -490.3\n",
       "Df Model:                           4                                         \n",
       "Covariance Type:            nonrobust                                         \n",
       "======================================================================================\n",
       "                         coef    std err          t      P>|t|      [95.0% Conf. Int.]\n",
       "--------------------------------------------------------------------------------------\n",
       "Intercept             -0.0881      0.030     -2.960      0.004        -0.147    -0.029\n",
       "vio_ph                 1.3921      0.080     17.480      0.000         1.235     1.549\n",
       "fueloil_r              0.2272      0.037      6.078      0.000         0.153     0.301\n",
       "occupied_hu_rent_r     0.0738      0.024      3.023      0.003         0.026     0.122\n",
       "built_before1980_r     0.0687      0.031      2.210      0.028         0.007     0.130\n",
       "==============================================================================\n",
       "Omnibus:                      120.061   Durbin-Watson:                   1.921\n",
       "Prob(Omnibus):                  0.000   Jarque-Bera (JB):             1488.206\n",
       "Skew:                           2.307   Prob(JB):                         0.00\n",
       "Kurtosis:                      16.477   Cond. No.                         28.7\n",
       "==============================================================================\n",
       "\n",
       "Warnings:\n",
       "[1] Standard Errors assume that the covariance matrix of the errors is correctly specified.\n",
       "\"\"\""
      ]
     },
     "execution_count": 58,
     "metadata": {},
     "output_type": "execute_result"
    }
   ],
   "source": [
    "modl = smf.ols(formula = 'com_ph ~  vio_ph + fueloil_r + occupied_hu_rent_r + built_before1980_r',\n",
    "              data = df_sample).fit()\n",
    "modl.summary()"
   ]
  },
  {
   "cell_type": "markdown",
   "metadata": {},
   "source": [
    "* Ridge\n",
    "* Lasso\n",
    "* OLS\n",
    "* VIF\n",
    "* Standardization stuff"
   ]
  },
  {
   "cell_type": "code",
   "execution_count": null,
   "metadata": {
    "collapsed": true
   },
   "outputs": [],
   "source": []
  }
 ],
 "metadata": {
  "kernelspec": {
   "display_name": "Python [default]",
   "language": "python",
   "name": "python2"
  },
  "language_info": {
   "codemirror_mode": {
    "name": "ipython",
    "version": 2
   },
   "file_extension": ".py",
   "mimetype": "text/x-python",
   "name": "python",
   "nbconvert_exporter": "python",
   "pygments_lexer": "ipython2",
   "version": "2.7.12"
  }
 },
 "nbformat": 4,
 "nbformat_minor": 1
}
