{
 "cells": [
  {
   "cell_type": "code",
   "execution_count": 1,
   "metadata": {
    "collapsed": false
   },
   "outputs": [
    {
     "name": "stdout",
     "output_type": "stream",
     "text": [
      "Populating the interactive namespace from numpy and matplotlib\n"
     ]
    }
   ],
   "source": [
    "import pandas as pd\n",
    "import zipfile\n",
    "import geopandas as gpd\n",
    "%pylab inline"
   ]
  },
  {
   "cell_type": "code",
   "execution_count": 2,
   "metadata": {
    "collapsed": true
   },
   "outputs": [],
   "source": [
    "z = zipfile.ZipFile('../data_initial/mappluto_14v2.zip')\n",
    "z.extractall('../data_initial/')"
   ]
  },
  {
   "cell_type": "code",
   "execution_count": 3,
   "metadata": {
    "collapsed": false
   },
   "outputs": [],
   "source": [
    "#boroughs = ['Staten_Island', 'Queens', 'Manhattan', 'Bronx', 'Brooklyn']\n",
    "#abreevs = ['SI', 'QN', 'MN', 'BX', 'BK']\n",
    "\n",
    "boroughs = ['Staten_Island']\n",
    "abreevs = ['SI']\n",
    "\n",
    "pluto = []\n",
    "i = 0\n",
    "for elem in boroughs:\n",
    "    temp = gpd.read_file('../data_initial/'+elem+'/'+abreevs[i]+'MapPLUTO.shp')\n",
    "    temp['BBL'] = temp['BBL'].astype(str)\n",
    "    temp = temp.to_crs({'init':'epsg:4326'})\n",
    "    pluto.append(temp)\n",
    "    i+=1"
   ]
  },
  {
   "cell_type": "code",
   "execution_count": 4,
   "metadata": {
    "collapsed": true
   },
   "outputs": [],
   "source": [
    "z = zipfile.ZipFile('../data_initial/cb_2014_36_bg_500k.zip')\n",
    "z.extractall('../data_initial/')"
   ]
  },
  {
   "cell_type": "code",
   "execution_count": 5,
   "metadata": {
    "collapsed": true
   },
   "outputs": [],
   "source": [
    "cbg = gpd.read_file('../data_initial/cb_2014_36_bg_500k.shp')"
   ]
  },
  {
   "cell_type": "code",
   "execution_count": 6,
   "metadata": {
    "collapsed": true
   },
   "outputs": [],
   "source": [
    "cbg = cbg.to_crs({'init':'epsg:4326'})"
   ]
  },
  {
   "cell_type": "code",
   "execution_count": 7,
   "metadata": {
    "collapsed": false
   },
   "outputs": [],
   "source": [
    "cbg = cbg[['geometry','GEOID']]\n",
    "cbg['GEOID'] = cbg['GEOID'].astype(str)"
   ]
  },
  {
   "cell_type": "code",
   "execution_count": 8,
   "metadata": {
    "collapsed": false
   },
   "outputs": [
    {
     "name": "stderr",
     "output_type": "stream",
     "text": [
      "/anaconda/lib/python2.7/site-packages/ipykernel/__main__.py:7: SettingWithCopyWarning: \n",
      "A value is trying to be set on a copy of a slice from a DataFrame.\n",
      "Try using .loc[row_indexer,col_indexer] = value instead\n",
      "\n",
      "See the caveats in the documentation: http://pandas.pydata.org/pandas-docs/stable/indexing.html#indexing-view-versus-copy\n"
     ]
    }
   ],
   "source": [
    "abreevsl = [elem.lower() for elem in abreevs]\n",
    "bbl_cbg = []\n",
    "missing_bbls = []\n",
    "\n",
    "for i in range(0,len(pluto)):\n",
    "    for_merge = pluto[i][['BBL','geometry']]\n",
    "    for_merge['BBL'] = for_merge['BBL'].astype(str)\n",
    "    merged = gpd.sjoin(for_merge, cbg)\n",
    "    merged = merged.drop(['geometry','index_right'],axis=1)\n",
    "    bbl_cbg.append(merged)\n",
    "    missing_bbls.append(list(set([elem for elem in pluto[i].BBL]) - set([elem for elem in merged.BBL])))"
   ]
  },
  {
   "cell_type": "code",
   "execution_count": 9,
   "metadata": {
    "collapsed": false
   },
   "outputs": [
    {
     "data": {
      "text/html": [
       "<div>\n",
       "<table border=\"1\" class=\"dataframe\">\n",
       "  <thead>\n",
       "    <tr style=\"text-align: right;\">\n",
       "      <th></th>\n",
       "      <th>BBL</th>\n",
       "      <th>GEOID</th>\n",
       "    </tr>\n",
       "  </thead>\n",
       "  <tbody>\n",
       "    <tr>\n",
       "      <th>0</th>\n",
       "      <td>5007470028.0</td>\n",
       "      <td>360850189012</td>\n",
       "    </tr>\n",
       "    <tr>\n",
       "      <th>80</th>\n",
       "      <td>5007510245.0</td>\n",
       "      <td>360850189012</td>\n",
       "    </tr>\n",
       "    <tr>\n",
       "      <th>325</th>\n",
       "      <td>5004770074.0</td>\n",
       "      <td>360850189012</td>\n",
       "    </tr>\n",
       "    <tr>\n",
       "      <th>379</th>\n",
       "      <td>5004790001.0</td>\n",
       "      <td>360850189012</td>\n",
       "    </tr>\n",
       "    <tr>\n",
       "      <th>404</th>\n",
       "      <td>5004760035.0</td>\n",
       "      <td>360850189012</td>\n",
       "    </tr>\n",
       "  </tbody>\n",
       "</table>\n",
       "</div>"
      ],
      "text/plain": [
       "              BBL         GEOID\n",
       "0    5007470028.0  360850189012\n",
       "80   5007510245.0  360850189012\n",
       "325  5004770074.0  360850189012\n",
       "379  5004790001.0  360850189012\n",
       "404  5004760035.0  360850189012"
      ]
     },
     "execution_count": 9,
     "metadata": {},
     "output_type": "execute_result"
    }
   ],
   "source": [
    "bbl_cbg[0].head()"
   ]
  },
  {
   "cell_type": "markdown",
   "metadata": {},
   "source": [
    "Specific features needed from PLUTO are;\n",
    "* SUM(BldgArea)\n",
    "* SUM(ResArea)\n",
    "* SUM(UnitRes)\n",
    "* SUM(ResArea) of non city-owned or federal-owned lots (\"OwnerType\" is not 'C' or 'O')\n",
    "* SUM(UnitsRes) of non city-owned or federal-owned lots (\"OwnerType\" is not 'C' or 'O')"
   ]
  },
  {
   "cell_type": "code",
   "execution_count": 10,
   "metadata": {
    "collapsed": false
   },
   "outputs": [
    {
     "data": {
      "text/plain": [
       "BBL      object\n",
       "GEOID    object\n",
       "dtype: object"
      ]
     },
     "execution_count": 10,
     "metadata": {},
     "output_type": "execute_result"
    }
   ],
   "source": [
    "bbl_cbg[0].dtypes"
   ]
  },
  {
   "cell_type": "code",
   "execution_count": 11,
   "metadata": {
    "collapsed": false
   },
   "outputs": [
    {
     "data": {
      "text/html": [
       "<div>\n",
       "<table border=\"1\" class=\"dataframe\">\n",
       "  <thead>\n",
       "    <tr style=\"text-align: right;\">\n",
       "      <th></th>\n",
       "      <th>APPBBL</th>\n",
       "      <th>APPDate</th>\n",
       "      <th>Address</th>\n",
       "      <th>AllZoning1</th>\n",
       "      <th>AllZoning2</th>\n",
       "      <th>AreaSource</th>\n",
       "      <th>AssessLand</th>\n",
       "      <th>AssessTot</th>\n",
       "      <th>BBL</th>\n",
       "      <th>BldgArea</th>\n",
       "      <th>...</th>\n",
       "      <th>YearAlter2</th>\n",
       "      <th>YearBuilt</th>\n",
       "      <th>ZMCode</th>\n",
       "      <th>ZipCode</th>\n",
       "      <th>ZoneDist1</th>\n",
       "      <th>ZoneDist2</th>\n",
       "      <th>ZoneDist3</th>\n",
       "      <th>ZoneDist4</th>\n",
       "      <th>ZoneMap</th>\n",
       "      <th>geometry</th>\n",
       "    </tr>\n",
       "  </thead>\n",
       "  <tbody>\n",
       "    <tr>\n",
       "      <th>0</th>\n",
       "      <td>0.0</td>\n",
       "      <td>None</td>\n",
       "      <td>437 PURDY AVENUE</td>\n",
       "      <td>R3-1</td>\n",
       "      <td>None</td>\n",
       "      <td>7</td>\n",
       "      <td>15120.0</td>\n",
       "      <td>23400.0</td>\n",
       "      <td>5007470028.0</td>\n",
       "      <td>1488</td>\n",
       "      <td>...</td>\n",
       "      <td>0</td>\n",
       "      <td>1960</td>\n",
       "      <td>None</td>\n",
       "      <td>10314</td>\n",
       "      <td>R3-1</td>\n",
       "      <td>None</td>\n",
       "      <td>None</td>\n",
       "      <td>None</td>\n",
       "      <td>20d</td>\n",
       "      <td>POLYGON ((-74.14250944979312 40.60980609846242...</td>\n",
       "    </tr>\n",
       "    <tr>\n",
       "      <th>1</th>\n",
       "      <td>0.0</td>\n",
       "      <td>None</td>\n",
       "      <td>CUNARD AVENUE</td>\n",
       "      <td>R3A/HS</td>\n",
       "      <td>None</td>\n",
       "      <td>4</td>\n",
       "      <td>21518.0</td>\n",
       "      <td>21518.0</td>\n",
       "      <td>5006230252.0</td>\n",
       "      <td>0</td>\n",
       "      <td>...</td>\n",
       "      <td>0</td>\n",
       "      <td>0</td>\n",
       "      <td>None</td>\n",
       "      <td>10304</td>\n",
       "      <td>R3A</td>\n",
       "      <td>None</td>\n",
       "      <td>None</td>\n",
       "      <td>None</td>\n",
       "      <td>21d</td>\n",
       "      <td>POLYGON ((-74.08780465394567 40.61401983466899...</td>\n",
       "    </tr>\n",
       "  </tbody>\n",
       "</table>\n",
       "<p>2 rows × 87 columns</p>\n",
       "</div>"
      ],
      "text/plain": [
       "   APPBBL APPDate           Address AllZoning1 AllZoning2 AreaSource  \\\n",
       "0     0.0    None  437 PURDY AVENUE       R3-1       None          7   \n",
       "1     0.0    None     CUNARD AVENUE     R3A/HS       None          4   \n",
       "\n",
       "   AssessLand  AssessTot           BBL  BldgArea  \\\n",
       "0     15120.0    23400.0  5007470028.0      1488   \n",
       "1     21518.0    21518.0  5006230252.0         0   \n",
       "\n",
       "                         ...                         YearAlter2  YearBuilt  \\\n",
       "0                        ...                                  0       1960   \n",
       "1                        ...                                  0          0   \n",
       "\n",
       "   ZMCode  ZipCode  ZoneDist1 ZoneDist2 ZoneDist3 ZoneDist4  ZoneMap  \\\n",
       "0    None    10314       R3-1      None      None      None      20d   \n",
       "1    None    10304        R3A      None      None      None      21d   \n",
       "\n",
       "                                            geometry  \n",
       "0  POLYGON ((-74.14250944979312 40.60980609846242...  \n",
       "1  POLYGON ((-74.08780465394567 40.61401983466899...  \n",
       "\n",
       "[2 rows x 87 columns]"
      ]
     },
     "execution_count": 11,
     "metadata": {},
     "output_type": "execute_result"
    }
   ],
   "source": [
    "pluto[0].head(2)"
   ]
  },
  {
   "cell_type": "code",
   "execution_count": 13,
   "metadata": {
    "collapsed": false
   },
   "outputs": [
    {
     "data": {
      "text/plain": [
       "array([ 1488,     0,  1316, ..., 77068, 12786, 93672])"
      ]
     },
     "execution_count": 13,
     "metadata": {},
     "output_type": "execute_result"
    }
   ],
   "source": [
    "pluto[0].ResArea.unique()"
   ]
  },
  {
   "cell_type": "code",
   "execution_count": 61,
   "metadata": {
    "collapsed": false
   },
   "outputs": [
    {
     "data": {
      "text/html": [
       "<div>\n",
       "<table border=\"1\" class=\"dataframe\">\n",
       "  <thead>\n",
       "    <tr style=\"text-align: right;\">\n",
       "      <th></th>\n",
       "      <th>BBL</th>\n",
       "      <th>GEOID</th>\n",
       "    </tr>\n",
       "  </thead>\n",
       "  <tbody>\n",
       "    <tr>\n",
       "      <th>0</th>\n",
       "      <td>5007470028.0</td>\n",
       "      <td>360850189012</td>\n",
       "    </tr>\n",
       "    <tr>\n",
       "      <th>80</th>\n",
       "      <td>5007510245.0</td>\n",
       "      <td>360850189012</td>\n",
       "    </tr>\n",
       "  </tbody>\n",
       "</table>\n",
       "</div>"
      ],
      "text/plain": [
       "             BBL         GEOID\n",
       "0   5007470028.0  360850189012\n",
       "80  5007510245.0  360850189012"
      ]
     },
     "execution_count": 61,
     "metadata": {},
     "output_type": "execute_result"
    }
   ],
   "source": [
    "bbl_cbg[0].head(2)"
   ]
  },
  {
   "cell_type": "code",
   "execution_count": 62,
   "metadata": {
    "collapsed": false
   },
   "outputs": [],
   "source": [
    "bldg_area = []\n",
    "for i in range(0,len(pluto)):\n",
    "    bldgarea = pd.merge(bbl_cbg[i], pluto[i], on='BBL')\n",
    "    bldgarea = pd.DataFrame(bldgarea['BldgArea'].groupby(bldgarea['GEOID']).sum())\n",
    "    bldgarea = bldgarea.reset_index()\n",
    "    bldg_area.append(bldgarea)"
   ]
  },
  {
   "cell_type": "code",
   "execution_count": 63,
   "metadata": {
    "collapsed": true
   },
   "outputs": [],
   "source": [
    "res_area = []\n",
    "for i in range(0,len(pluto)):\n",
    "    resarea = pd.merge(bbl_cbg[i], pluto[i], on='BBL')\n",
    "    resarea = pd.DataFrame(resarea['ResArea'].groupby(resarea['GEOID']).sum())\n",
    "    resarea = resarea.reset_index()\n",
    "    res_area.append(resarea)"
   ]
  },
  {
   "cell_type": "code",
   "execution_count": 64,
   "metadata": {
    "collapsed": false
   },
   "outputs": [],
   "source": [
    "units_res = []\n",
    "for i in range(0,len(pluto)):\n",
    "    unitsres = pd.merge(bbl_cbg[i], pluto[i], on='BBL')\n",
    "    unitsres = pd.DataFrame(unitsres['UnitsRes'].groupby(unitsres['GEOID']).sum())\n",
    "    unitsres = unitsres.reset_index()\n",
    "    units_res.append(unitsres)"
   ]
  },
  {
   "cell_type": "code",
   "execution_count": 65,
   "metadata": {
    "collapsed": false
   },
   "outputs": [],
   "source": [
    "res_area_non_govt = []\n",
    "for i in range(0,len(pluto)):\n",
    "    resarea = pd.merge(bbl_cbg[i], pluto[i], on='BBL')\n",
    "    resarea['OwnerType'].astype(str)\n",
    "    resarea = resarea[(resarea['OwnerType'] != 'O') & (resarea['OwnerType'] != 'C')]\n",
    "    resarea = pd.DataFrame(resarea['ResArea'].groupby(resarea['GEOID']).sum())\n",
    "    resarea = resarea.rename(columns={'ResArea':'ResAreaNonGovt'})\n",
    "    resarea = resarea.reset_index()\n",
    "    res_area_non_govt.append(resarea)"
   ]
  },
  {
   "cell_type": "code",
   "execution_count": 66,
   "metadata": {
    "collapsed": false
   },
   "outputs": [],
   "source": [
    "res_units_non_govt = []\n",
    "for i in range(0,len(pluto)):\n",
    "    resunits = pd.merge(bbl_cbg[i], pluto[i], on='BBL')\n",
    "    resunits['OwnerType'].astype(str)\n",
    "    resunits = resunits[(resunits['OwnerType'] != 'O') & (resunits['OwnerType'] != 'C')]\n",
    "    resunits = pd.DataFrame(resunits['UnitsRes'].groupby(resunits['GEOID']).sum())\n",
    "    resunits = resunits.rename(columns={'UnitsRes':'UnitsResNonGovt'})\n",
    "    resunits = resunits.reset_index()\n",
    "    res_units_non_govt.append(resunits)"
   ]
  },
  {
   "cell_type": "code",
   "execution_count": 67,
   "metadata": {
    "collapsed": false
   },
   "outputs": [],
   "source": [
    "total_assessed = []\n",
    "for i in range(0,len(pluto)):\n",
    "    assessed = pd.merge(bbl_cbg[i], pluto[i], on='BBL')\n",
    "    assessed = pd.DataFrame(assessed['AssessTot'].groupby(assessed['GEOID']).mean())\n",
    "    assessed = assessed.reset_index()\n",
    "    total_assessed.append(assessed)"
   ]
  },
  {
   "cell_type": "code",
   "execution_count": 68,
   "metadata": {
    "collapsed": false
   },
   "outputs": [
    {
     "data": {
      "text/plain": [
       "array([u'BX'], dtype=object)"
      ]
     },
     "execution_count": 68,
     "metadata": {},
     "output_type": "execute_result"
    }
   ],
   "source": [
    "pluto[3]['Borough'].unique()"
   ]
  },
  {
   "cell_type": "code",
   "execution_count": 69,
   "metadata": {
    "collapsed": false
   },
   "outputs": [],
   "source": [
    "#concat each list to create one long list of all boroughs in NYC\n",
    "bldg_area = pd.concat(bldg_area)\n",
    "res_area = pd.concat(res_area)\n",
    "units_res = pd.concat(units_res)\n",
    "res_area_non_govt = pd.concat(res_area_non_govt)\n",
    "res_units_non_govt = pd.concat(res_units_non_govt)\n",
    "total_assessed = pd.concat(total_assessed)"
   ]
  },
  {
   "cell_type": "code",
   "execution_count": 70,
   "metadata": {
    "collapsed": true
   },
   "outputs": [],
   "source": [
    "#merge features from disparate dfs to one on GEOID\n",
    "features = pd.merge(bldg_area, cbg, on='GEOID')"
   ]
  },
  {
   "cell_type": "code",
   "execution_count": 71,
   "metadata": {
    "collapsed": false
   },
   "outputs": [
    {
     "data": {
      "text/html": [
       "<div>\n",
       "<table border=\"1\" class=\"dataframe\">\n",
       "  <thead>\n",
       "    <tr style=\"text-align: right;\">\n",
       "      <th></th>\n",
       "      <th>GEOID</th>\n",
       "      <th>BldgArea</th>\n",
       "      <th>geometry</th>\n",
       "    </tr>\n",
       "  </thead>\n",
       "  <tbody>\n",
       "    <tr>\n",
       "      <th>0</th>\n",
       "      <td>360850003001</td>\n",
       "      <td>1504448</td>\n",
       "      <td>POLYGON Z ((-74.079206 40.643431 0, -74.074681...</td>\n",
       "    </tr>\n",
       "    <tr>\n",
       "      <th>1</th>\n",
       "      <td>360850003002</td>\n",
       "      <td>2761678</td>\n",
       "      <td>POLYGON Z ((-74.078198 40.642115 0, -74.077899...</td>\n",
       "    </tr>\n",
       "  </tbody>\n",
       "</table>\n",
       "</div>"
      ],
      "text/plain": [
       "          GEOID  BldgArea                                           geometry\n",
       "0  360850003001   1504448  POLYGON Z ((-74.079206 40.643431 0, -74.074681...\n",
       "1  360850003002   2761678  POLYGON Z ((-74.078198 40.642115 0, -74.077899..."
      ]
     },
     "execution_count": 71,
     "metadata": {},
     "output_type": "execute_result"
    }
   ],
   "source": [
    "features.head(2)"
   ]
  },
  {
   "cell_type": "code",
   "execution_count": 72,
   "metadata": {
    "collapsed": true
   },
   "outputs": [],
   "source": [
    "features = pd.merge(res_area, features, on='GEOID')"
   ]
  },
  {
   "cell_type": "code",
   "execution_count": 73,
   "metadata": {
    "collapsed": false
   },
   "outputs": [
    {
     "data": {
      "text/html": [
       "<div>\n",
       "<table border=\"1\" class=\"dataframe\">\n",
       "  <thead>\n",
       "    <tr style=\"text-align: right;\">\n",
       "      <th></th>\n",
       "      <th>GEOID</th>\n",
       "      <th>ResArea</th>\n",
       "      <th>BldgArea</th>\n",
       "      <th>geometry</th>\n",
       "    </tr>\n",
       "  </thead>\n",
       "  <tbody>\n",
       "    <tr>\n",
       "      <th>0</th>\n",
       "      <td>360850003001</td>\n",
       "      <td>371603</td>\n",
       "      <td>1504448</td>\n",
       "      <td>POLYGON Z ((-74.079206 40.643431 0, -74.074681...</td>\n",
       "    </tr>\n",
       "    <tr>\n",
       "      <th>1</th>\n",
       "      <td>360850003002</td>\n",
       "      <td>779368</td>\n",
       "      <td>2761678</td>\n",
       "      <td>POLYGON Z ((-74.078198 40.642115 0, -74.077899...</td>\n",
       "    </tr>\n",
       "  </tbody>\n",
       "</table>\n",
       "</div>"
      ],
      "text/plain": [
       "          GEOID  ResArea  BldgArea  \\\n",
       "0  360850003001   371603   1504448   \n",
       "1  360850003002   779368   2761678   \n",
       "\n",
       "                                            geometry  \n",
       "0  POLYGON Z ((-74.079206 40.643431 0, -74.074681...  \n",
       "1  POLYGON Z ((-74.078198 40.642115 0, -74.077899...  "
      ]
     },
     "execution_count": 73,
     "metadata": {},
     "output_type": "execute_result"
    }
   ],
   "source": [
    "features.head(2)"
   ]
  },
  {
   "cell_type": "code",
   "execution_count": 74,
   "metadata": {
    "collapsed": true
   },
   "outputs": [],
   "source": [
    "features = pd.merge(units_res, features, on='GEOID')"
   ]
  },
  {
   "cell_type": "code",
   "execution_count": 75,
   "metadata": {
    "collapsed": false
   },
   "outputs": [
    {
     "data": {
      "text/html": [
       "<div>\n",
       "<table border=\"1\" class=\"dataframe\">\n",
       "  <thead>\n",
       "    <tr style=\"text-align: right;\">\n",
       "      <th></th>\n",
       "      <th>GEOID</th>\n",
       "      <th>UnitsRes</th>\n",
       "      <th>ResArea</th>\n",
       "      <th>BldgArea</th>\n",
       "      <th>geometry</th>\n",
       "    </tr>\n",
       "  </thead>\n",
       "  <tbody>\n",
       "    <tr>\n",
       "      <th>0</th>\n",
       "      <td>360850003001</td>\n",
       "      <td>432</td>\n",
       "      <td>371603</td>\n",
       "      <td>1504448</td>\n",
       "      <td>POLYGON Z ((-74.079206 40.643431 0, -74.074681...</td>\n",
       "    </tr>\n",
       "    <tr>\n",
       "      <th>1</th>\n",
       "      <td>360850003002</td>\n",
       "      <td>694</td>\n",
       "      <td>779368</td>\n",
       "      <td>2761678</td>\n",
       "      <td>POLYGON Z ((-74.078198 40.642115 0, -74.077899...</td>\n",
       "    </tr>\n",
       "  </tbody>\n",
       "</table>\n",
       "</div>"
      ],
      "text/plain": [
       "          GEOID  UnitsRes  ResArea  BldgArea  \\\n",
       "0  360850003001       432   371603   1504448   \n",
       "1  360850003002       694   779368   2761678   \n",
       "\n",
       "                                            geometry  \n",
       "0  POLYGON Z ((-74.079206 40.643431 0, -74.074681...  \n",
       "1  POLYGON Z ((-74.078198 40.642115 0, -74.077899...  "
      ]
     },
     "execution_count": 75,
     "metadata": {},
     "output_type": "execute_result"
    }
   ],
   "source": [
    "features.head(2)"
   ]
  },
  {
   "cell_type": "code",
   "execution_count": 76,
   "metadata": {
    "collapsed": true
   },
   "outputs": [],
   "source": [
    "features = pd.merge(res_area_non_govt, features, on='GEOID')"
   ]
  },
  {
   "cell_type": "code",
   "execution_count": 77,
   "metadata": {
    "collapsed": false
   },
   "outputs": [
    {
     "data": {
      "text/html": [
       "<div>\n",
       "<table border=\"1\" class=\"dataframe\">\n",
       "  <thead>\n",
       "    <tr style=\"text-align: right;\">\n",
       "      <th></th>\n",
       "      <th>GEOID</th>\n",
       "      <th>ResAreaNonGovt</th>\n",
       "      <th>UnitsRes</th>\n",
       "      <th>ResArea</th>\n",
       "      <th>BldgArea</th>\n",
       "      <th>geometry</th>\n",
       "    </tr>\n",
       "  </thead>\n",
       "  <tbody>\n",
       "    <tr>\n",
       "      <th>0</th>\n",
       "      <td>360850003001</td>\n",
       "      <td>371603</td>\n",
       "      <td>432</td>\n",
       "      <td>371603</td>\n",
       "      <td>1504448</td>\n",
       "      <td>POLYGON Z ((-74.079206 40.643431 0, -74.074681...</td>\n",
       "    </tr>\n",
       "    <tr>\n",
       "      <th>1</th>\n",
       "      <td>360850003002</td>\n",
       "      <td>779368</td>\n",
       "      <td>694</td>\n",
       "      <td>779368</td>\n",
       "      <td>2761678</td>\n",
       "      <td>POLYGON Z ((-74.078198 40.642115 0, -74.077899...</td>\n",
       "    </tr>\n",
       "    <tr>\n",
       "      <th>2</th>\n",
       "      <td>360850006001</td>\n",
       "      <td>288227</td>\n",
       "      <td>253</td>\n",
       "      <td>288882</td>\n",
       "      <td>1361189</td>\n",
       "      <td>POLYGON Z ((-74.075647 40.626664 0, -74.068037...</td>\n",
       "    </tr>\n",
       "    <tr>\n",
       "      <th>3</th>\n",
       "      <td>360850006002</td>\n",
       "      <td>962290</td>\n",
       "      <td>1076</td>\n",
       "      <td>1183380</td>\n",
       "      <td>1488942</td>\n",
       "      <td>POLYGON Z ((-74.06613399999999 40.614089000000...</td>\n",
       "    </tr>\n",
       "    <tr>\n",
       "      <th>4</th>\n",
       "      <td>360850007001</td>\n",
       "      <td>118923</td>\n",
       "      <td>601</td>\n",
       "      <td>559638</td>\n",
       "      <td>617093</td>\n",
       "      <td>POLYGON Z ((-74.0899307181427 40.6479466397106...</td>\n",
       "    </tr>\n",
       "  </tbody>\n",
       "</table>\n",
       "</div>"
      ],
      "text/plain": [
       "          GEOID  ResAreaNonGovt  UnitsRes  ResArea  BldgArea  \\\n",
       "0  360850003001          371603       432   371603   1504448   \n",
       "1  360850003002          779368       694   779368   2761678   \n",
       "2  360850006001          288227       253   288882   1361189   \n",
       "3  360850006002          962290      1076  1183380   1488942   \n",
       "4  360850007001          118923       601   559638    617093   \n",
       "\n",
       "                                            geometry  \n",
       "0  POLYGON Z ((-74.079206 40.643431 0, -74.074681...  \n",
       "1  POLYGON Z ((-74.078198 40.642115 0, -74.077899...  \n",
       "2  POLYGON Z ((-74.075647 40.626664 0, -74.068037...  \n",
       "3  POLYGON Z ((-74.06613399999999 40.614089000000...  \n",
       "4  POLYGON Z ((-74.0899307181427 40.6479466397106...  "
      ]
     },
     "execution_count": 77,
     "metadata": {},
     "output_type": "execute_result"
    }
   ],
   "source": [
    "features.head()"
   ]
  },
  {
   "cell_type": "code",
   "execution_count": 78,
   "metadata": {
    "collapsed": true
   },
   "outputs": [],
   "source": [
    "features = pd.merge(res_units_non_govt, features, on='GEOID')"
   ]
  },
  {
   "cell_type": "code",
   "execution_count": 79,
   "metadata": {
    "collapsed": false
   },
   "outputs": [
    {
     "data": {
      "text/html": [
       "<div>\n",
       "<table border=\"1\" class=\"dataframe\">\n",
       "  <thead>\n",
       "    <tr style=\"text-align: right;\">\n",
       "      <th></th>\n",
       "      <th>GEOID</th>\n",
       "      <th>UnitsResNonGovt</th>\n",
       "      <th>ResAreaNonGovt</th>\n",
       "      <th>UnitsRes</th>\n",
       "      <th>ResArea</th>\n",
       "      <th>BldgArea</th>\n",
       "      <th>geometry</th>\n",
       "    </tr>\n",
       "  </thead>\n",
       "  <tbody>\n",
       "    <tr>\n",
       "      <th>0</th>\n",
       "      <td>360850003001</td>\n",
       "      <td>432</td>\n",
       "      <td>371603</td>\n",
       "      <td>432</td>\n",
       "      <td>371603</td>\n",
       "      <td>1504448</td>\n",
       "      <td>POLYGON Z ((-74.079206 40.643431 0, -74.074681...</td>\n",
       "    </tr>\n",
       "    <tr>\n",
       "      <th>1</th>\n",
       "      <td>360850003002</td>\n",
       "      <td>694</td>\n",
       "      <td>779368</td>\n",
       "      <td>694</td>\n",
       "      <td>779368</td>\n",
       "      <td>2761678</td>\n",
       "      <td>POLYGON Z ((-74.078198 40.642115 0, -74.077899...</td>\n",
       "    </tr>\n",
       "  </tbody>\n",
       "</table>\n",
       "</div>"
      ],
      "text/plain": [
       "          GEOID  UnitsResNonGovt  ResAreaNonGovt  UnitsRes  ResArea  BldgArea  \\\n",
       "0  360850003001              432          371603       432   371603   1504448   \n",
       "1  360850003002              694          779368       694   779368   2761678   \n",
       "\n",
       "                                            geometry  \n",
       "0  POLYGON Z ((-74.079206 40.643431 0, -74.074681...  \n",
       "1  POLYGON Z ((-74.078198 40.642115 0, -74.077899...  "
      ]
     },
     "execution_count": 79,
     "metadata": {},
     "output_type": "execute_result"
    }
   ],
   "source": [
    "features.head(2)"
   ]
  },
  {
   "cell_type": "code",
   "execution_count": 80,
   "metadata": {
    "collapsed": false
   },
   "outputs": [],
   "source": [
    "features = pd.merge(total_assessed, features, on='GEOID')"
   ]
  },
  {
   "cell_type": "code",
   "execution_count": 81,
   "metadata": {
    "collapsed": false
   },
   "outputs": [
    {
     "data": {
      "text/html": [
       "<div>\n",
       "<table border=\"1\" class=\"dataframe\">\n",
       "  <thead>\n",
       "    <tr style=\"text-align: right;\">\n",
       "      <th></th>\n",
       "      <th>GEOID</th>\n",
       "      <th>AssessTot</th>\n",
       "      <th>UnitsResNonGovt</th>\n",
       "      <th>ResAreaNonGovt</th>\n",
       "      <th>UnitsRes</th>\n",
       "      <th>ResArea</th>\n",
       "      <th>BldgArea</th>\n",
       "      <th>geometry</th>\n",
       "    </tr>\n",
       "  </thead>\n",
       "  <tbody>\n",
       "    <tr>\n",
       "      <th>0</th>\n",
       "      <td>360850003001</td>\n",
       "      <td>2.288829e+06</td>\n",
       "      <td>432</td>\n",
       "      <td>371603</td>\n",
       "      <td>432</td>\n",
       "      <td>371603</td>\n",
       "      <td>1504448</td>\n",
       "      <td>POLYGON Z ((-74.079206 40.643431 0, -74.074681...</td>\n",
       "    </tr>\n",
       "    <tr>\n",
       "      <th>1</th>\n",
       "      <td>360850003002</td>\n",
       "      <td>8.011592e+05</td>\n",
       "      <td>694</td>\n",
       "      <td>779368</td>\n",
       "      <td>694</td>\n",
       "      <td>779368</td>\n",
       "      <td>2761678</td>\n",
       "      <td>POLYGON Z ((-74.078198 40.642115 0, -74.077899...</td>\n",
       "    </tr>\n",
       "    <tr>\n",
       "      <th>2</th>\n",
       "      <td>360850006001</td>\n",
       "      <td>2.494912e+05</td>\n",
       "      <td>252</td>\n",
       "      <td>288227</td>\n",
       "      <td>253</td>\n",
       "      <td>288882</td>\n",
       "      <td>1361189</td>\n",
       "      <td>POLYGON Z ((-74.075647 40.626664 0, -74.068037...</td>\n",
       "    </tr>\n",
       "    <tr>\n",
       "      <th>3</th>\n",
       "      <td>360850006002</td>\n",
       "      <td>2.016866e+05</td>\n",
       "      <td>798</td>\n",
       "      <td>962290</td>\n",
       "      <td>1076</td>\n",
       "      <td>1183380</td>\n",
       "      <td>1488942</td>\n",
       "      <td>POLYGON Z ((-74.06613399999999 40.614089000000...</td>\n",
       "    </tr>\n",
       "    <tr>\n",
       "      <th>4</th>\n",
       "      <td>360850007001</td>\n",
       "      <td>1.267398e+05</td>\n",
       "      <td>99</td>\n",
       "      <td>118923</td>\n",
       "      <td>601</td>\n",
       "      <td>559638</td>\n",
       "      <td>617093</td>\n",
       "      <td>POLYGON Z ((-74.0899307181427 40.6479466397106...</td>\n",
       "    </tr>\n",
       "  </tbody>\n",
       "</table>\n",
       "</div>"
      ],
      "text/plain": [
       "          GEOID     AssessTot  UnitsResNonGovt  ResAreaNonGovt  UnitsRes  \\\n",
       "0  360850003001  2.288829e+06              432          371603       432   \n",
       "1  360850003002  8.011592e+05              694          779368       694   \n",
       "2  360850006001  2.494912e+05              252          288227       253   \n",
       "3  360850006002  2.016866e+05              798          962290      1076   \n",
       "4  360850007001  1.267398e+05               99          118923       601   \n",
       "\n",
       "   ResArea  BldgArea                                           geometry  \n",
       "0   371603   1504448  POLYGON Z ((-74.079206 40.643431 0, -74.074681...  \n",
       "1   779368   2761678  POLYGON Z ((-74.078198 40.642115 0, -74.077899...  \n",
       "2   288882   1361189  POLYGON Z ((-74.075647 40.626664 0, -74.068037...  \n",
       "3  1183380   1488942  POLYGON Z ((-74.06613399999999 40.614089000000...  \n",
       "4   559638    617093  POLYGON Z ((-74.0899307181427 40.6479466397106...  "
      ]
     },
     "execution_count": 81,
     "metadata": {},
     "output_type": "execute_result"
    }
   ],
   "source": [
    "features.head()"
   ]
  },
  {
   "cell_type": "code",
   "execution_count": 82,
   "metadata": {
    "collapsed": false
   },
   "outputs": [
    {
     "data": {
      "text/plain": [
       "8955"
      ]
     },
     "execution_count": 82,
     "metadata": {},
     "output_type": "execute_result"
    }
   ],
   "source": [
    "len(features)"
   ]
  },
  {
   "cell_type": "code",
   "execution_count": 83,
   "metadata": {
    "collapsed": false
   },
   "outputs": [
    {
     "data": {
      "text/plain": [
       "GEOID              0\n",
       "AssessTot          0\n",
       "UnitsResNonGovt    0\n",
       "ResAreaNonGovt     0\n",
       "UnitsRes           0\n",
       "ResArea            0\n",
       "BldgArea           0\n",
       "geometry           0\n",
       "dtype: int64"
      ]
     },
     "execution_count": 83,
     "metadata": {},
     "output_type": "execute_result"
    }
   ],
   "source": [
    "features.isnull().sum()"
   ]
  },
  {
   "cell_type": "code",
   "execution_count": 84,
   "metadata": {
    "collapsed": false
   },
   "outputs": [
    {
     "data": {
      "text/plain": [
       "pandas.core.frame.DataFrame"
      ]
     },
     "execution_count": 84,
     "metadata": {},
     "output_type": "execute_result"
    }
   ],
   "source": [
    "type(features)"
   ]
  }
 ],
 "metadata": {
  "kernelspec": {
   "display_name": "Python 2",
   "language": "python",
   "name": "python2"
  },
  "language_info": {
   "codemirror_mode": {
    "name": "ipython",
    "version": 2
   },
   "file_extension": ".py",
   "mimetype": "text/x-python",
   "name": "python",
   "nbconvert_exporter": "python",
   "pygments_lexer": "ipython2",
   "version": "2.7.12"
  }
 },
 "nbformat": 4,
 "nbformat_minor": 1
}
