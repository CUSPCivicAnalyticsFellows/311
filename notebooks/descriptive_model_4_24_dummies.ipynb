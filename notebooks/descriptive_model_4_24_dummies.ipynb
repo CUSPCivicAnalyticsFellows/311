{
 "cells": [
  {
   "cell_type": "code",
   "execution_count": 1,
   "metadata": {
    "collapsed": false
   },
   "outputs": [
    {
     "name": "stdout",
     "output_type": "stream",
     "text": [
      "Populating the interactive namespace from numpy and matplotlib\n"
     ]
    },
    {
     "name": "stderr",
     "output_type": "stream",
     "text": [
      "WARNING: pylab import has clobbered these variables: ['plt']\n",
      "`%matplotlib` prevents importing * from pylab and numpy\n",
      "/Users/kristikorsberg/devel/venv/lib/python2.7/site-packages/sklearn/cross_validation.py:44: DeprecationWarning: This module was deprecated in version 0.18 in favor of the model_selection module into which all the refactored classes and functions are moved. Also note that the interface of the new CV iterators are different from that of this module. This module will be removed in 0.20.\n",
      "  \"This module will be removed in 0.20.\", DeprecationWarning)\n"
     ]
    }
   ],
   "source": [
    "import pandas as pd\n",
    "import numpy as np\n",
    "import matplotlib.pylab as plt\n",
    "%pylab inline\n",
    "import seaborn as sns\n",
    "import statsmodels.formula.api as smf\n",
    "from sklearn.cross_validation import train_test_split\n",
    "from imblearn.over_sampling import SMOTE\n",
    "from sklearn.metrics import confusion_matrix\n",
    "from sklearn.metrics import classification_report"
   ]
  },
  {
   "cell_type": "markdown",
   "metadata": {},
   "source": [
    "### multiple dwelling registration"
   ]
  },
  {
   "cell_type": "markdown",
   "metadata": {},
   "source": [
    "You can find Multiple Dwelling Registration data including OwnerTypes and Site Manager information from the attached file. Followings are the description of columns:\n",
    "* Owner: There is only 0. All BBLs of this data is living without owner in their buildings\n",
    "* Ownership: Types of specific owners\n",
    "    * Corp: Corporation (each unit is owned by individual owner)\n",
    "    * Ind: Individual Owner\n",
    "    * Off: Owned by company\n",
    "    * Joint: Shared Owner (multiple owners)\n",
    "    * Agent: Yes or No of representative agent of the building\n",
    "    * SiteManager: Yes or No of site manager (super)\n",
    "There are some NaN in \"Agent\" and \"SiteManager\" columns. \n",
    "\n",
    "You can replace those as 0 or drop. The results (before dropping and after dropping) were not that different. "
   ]
  },
  {
   "cell_type": "code",
   "execution_count": 2,
   "metadata": {
    "collapsed": false
   },
   "outputs": [
    {
     "data": {
      "text/html": [
       "<div>\n",
       "<table border=\"1\" class=\"dataframe\">\n",
       "  <thead>\n",
       "    <tr style=\"text-align: right;\">\n",
       "      <th></th>\n",
       "      <th>BBL</th>\n",
       "      <th>Owner</th>\n",
       "      <th>Ownership</th>\n",
       "      <th>Agent</th>\n",
       "      <th>SiteManager</th>\n",
       "      <th>boiler</th>\n",
       "      <th>boiler_age</th>\n",
       "    </tr>\n",
       "  </thead>\n",
       "  <tbody>\n",
       "    <tr>\n",
       "      <th>0</th>\n",
       "      <td>4086640052</td>\n",
       "      <td>0</td>\n",
       "      <td>Ind</td>\n",
       "      <td>0.0</td>\n",
       "      <td>1.0</td>\n",
       "      <td>0</td>\n",
       "      <td>27.174765</td>\n",
       "    </tr>\n",
       "    <tr>\n",
       "      <th>1</th>\n",
       "      <td>4057400139</td>\n",
       "      <td>0</td>\n",
       "      <td>Corp</td>\n",
       "      <td>1.0</td>\n",
       "      <td>1.0</td>\n",
       "      <td>0</td>\n",
       "      <td>27.174765</td>\n",
       "    </tr>\n",
       "    <tr>\n",
       "      <th>2</th>\n",
       "      <td>3034570006</td>\n",
       "      <td>0</td>\n",
       "      <td>Corp</td>\n",
       "      <td>1.0</td>\n",
       "      <td>1.0</td>\n",
       "      <td>0</td>\n",
       "      <td>27.174765</td>\n",
       "    </tr>\n",
       "    <tr>\n",
       "      <th>3</th>\n",
       "      <td>1021160061</td>\n",
       "      <td>0</td>\n",
       "      <td>Corp</td>\n",
       "      <td>1.0</td>\n",
       "      <td>1.0</td>\n",
       "      <td>0</td>\n",
       "      <td>27.174765</td>\n",
       "    </tr>\n",
       "    <tr>\n",
       "      <th>4</th>\n",
       "      <td>1004360020</td>\n",
       "      <td>0</td>\n",
       "      <td>Corp</td>\n",
       "      <td>1.0</td>\n",
       "      <td>1.0</td>\n",
       "      <td>0</td>\n",
       "      <td>27.174765</td>\n",
       "    </tr>\n",
       "  </tbody>\n",
       "</table>\n",
       "</div>"
      ],
      "text/plain": [
       "          BBL  Owner Ownership  Agent  SiteManager  boiler  boiler_age\n",
       "0  4086640052      0       Ind    0.0          1.0       0   27.174765\n",
       "1  4057400139      0      Corp    1.0          1.0       0   27.174765\n",
       "2  3034570006      0      Corp    1.0          1.0       0   27.174765\n",
       "3  1021160061      0      Corp    1.0          1.0       0   27.174765\n",
       "4  1004360020      0      Corp    1.0          1.0       0   27.174765"
      ]
     },
     "execution_count": 2,
     "metadata": {},
     "output_type": "execute_result"
    }
   ],
   "source": [
    "dwell = pd.read_csv('../data_processed/Multiple_Dwelling_Registration_OwnerType_Boiler_Joined.csv')\n",
    "dwell = dwell.drop('Unnamed: 0',axis=1)\n",
    "dwell.head()"
   ]
  },
  {
   "cell_type": "code",
   "execution_count": 3,
   "metadata": {
    "collapsed": false
   },
   "outputs": [
    {
     "data": {
      "text/plain": [
       "array([0, 1, 2])"
      ]
     },
     "execution_count": 3,
     "metadata": {},
     "output_type": "execute_result"
    }
   ],
   "source": [
    "dwell.boiler.unique()"
   ]
  },
  {
   "cell_type": "code",
   "execution_count": 4,
   "metadata": {
    "collapsed": false
   },
   "outputs": [
    {
     "data": {
      "text/plain": [
       "147075"
      ]
     },
     "execution_count": 4,
     "metadata": {},
     "output_type": "execute_result"
    }
   ],
   "source": [
    "len(dwell)"
   ]
  },
  {
   "cell_type": "code",
   "execution_count": 5,
   "metadata": {
    "collapsed": false
   },
   "outputs": [],
   "source": [
    "dwell = dwell.dropna()\n",
    "dwell = dwell.drop('Owner',axis=1)"
   ]
  },
  {
   "cell_type": "code",
   "execution_count": 6,
   "metadata": {
    "collapsed": false
   },
   "outputs": [
    {
     "data": {
      "text/plain": [
       "144838"
      ]
     },
     "execution_count": 6,
     "metadata": {},
     "output_type": "execute_result"
    }
   ],
   "source": [
    "len(dwell)"
   ]
  },
  {
   "cell_type": "code",
   "execution_count": 7,
   "metadata": {
    "collapsed": false
   },
   "outputs": [
    {
     "data": {
      "text/plain": [
       "array(['Ind', 'Corp', 'Off', 'Joint'], dtype=object)"
      ]
     },
     "execution_count": 7,
     "metadata": {},
     "output_type": "execute_result"
    }
   ],
   "source": [
    "dwell.Ownership.unique()"
   ]
  },
  {
   "cell_type": "code",
   "execution_count": 8,
   "metadata": {
    "collapsed": false
   },
   "outputs": [],
   "source": [
    "dwell = pd.concat([dwell, pd.get_dummies(dwell['Ownership'])],axis=1)\n",
    "dwell = pd.concat([dwell, pd.get_dummies(dwell['boiler'],prefix='boiler')],axis=1)"
   ]
  },
  {
   "cell_type": "code",
   "execution_count": 9,
   "metadata": {
    "collapsed": true
   },
   "outputs": [],
   "source": [
    "###drop boiler_0, and Corp to use as reference columns\n",
    "dwell = dwell.drop(['Ownership', 'boiler', 'boiler_0', 'Corp'],axis=1)"
   ]
  },
  {
   "cell_type": "code",
   "execution_count": 10,
   "metadata": {
    "collapsed": false
   },
   "outputs": [
    {
     "data": {
      "text/html": [
       "<div>\n",
       "<table border=\"1\" class=\"dataframe\">\n",
       "  <thead>\n",
       "    <tr style=\"text-align: right;\">\n",
       "      <th></th>\n",
       "      <th>BBL</th>\n",
       "      <th>Agent</th>\n",
       "      <th>SiteManager</th>\n",
       "      <th>boiler_age</th>\n",
       "      <th>Ind</th>\n",
       "      <th>Joint</th>\n",
       "      <th>Off</th>\n",
       "      <th>boiler_1</th>\n",
       "      <th>boiler_2</th>\n",
       "    </tr>\n",
       "  </thead>\n",
       "  <tbody>\n",
       "    <tr>\n",
       "      <th>0</th>\n",
       "      <td>4086640052</td>\n",
       "      <td>0.0</td>\n",
       "      <td>1.0</td>\n",
       "      <td>27.174765</td>\n",
       "      <td>1</td>\n",
       "      <td>0</td>\n",
       "      <td>0</td>\n",
       "      <td>0</td>\n",
       "      <td>0</td>\n",
       "    </tr>\n",
       "    <tr>\n",
       "      <th>1</th>\n",
       "      <td>4057400139</td>\n",
       "      <td>1.0</td>\n",
       "      <td>1.0</td>\n",
       "      <td>27.174765</td>\n",
       "      <td>0</td>\n",
       "      <td>0</td>\n",
       "      <td>0</td>\n",
       "      <td>0</td>\n",
       "      <td>0</td>\n",
       "    </tr>\n",
       "    <tr>\n",
       "      <th>2</th>\n",
       "      <td>3034570006</td>\n",
       "      <td>1.0</td>\n",
       "      <td>1.0</td>\n",
       "      <td>27.174765</td>\n",
       "      <td>0</td>\n",
       "      <td>0</td>\n",
       "      <td>0</td>\n",
       "      <td>0</td>\n",
       "      <td>0</td>\n",
       "    </tr>\n",
       "    <tr>\n",
       "      <th>3</th>\n",
       "      <td>1021160061</td>\n",
       "      <td>1.0</td>\n",
       "      <td>1.0</td>\n",
       "      <td>27.174765</td>\n",
       "      <td>0</td>\n",
       "      <td>0</td>\n",
       "      <td>0</td>\n",
       "      <td>0</td>\n",
       "      <td>0</td>\n",
       "    </tr>\n",
       "    <tr>\n",
       "      <th>4</th>\n",
       "      <td>1004360020</td>\n",
       "      <td>1.0</td>\n",
       "      <td>1.0</td>\n",
       "      <td>27.174765</td>\n",
       "      <td>0</td>\n",
       "      <td>0</td>\n",
       "      <td>0</td>\n",
       "      <td>0</td>\n",
       "      <td>0</td>\n",
       "    </tr>\n",
       "  </tbody>\n",
       "</table>\n",
       "</div>"
      ],
      "text/plain": [
       "          BBL  Agent  SiteManager  boiler_age  Ind  Joint  Off  boiler_1  \\\n",
       "0  4086640052    0.0          1.0   27.174765    1      0    0         0   \n",
       "1  4057400139    1.0          1.0   27.174765    0      0    0         0   \n",
       "2  3034570006    1.0          1.0   27.174765    0      0    0         0   \n",
       "3  1021160061    1.0          1.0   27.174765    0      0    0         0   \n",
       "4  1004360020    1.0          1.0   27.174765    0      0    0         0   \n",
       "\n",
       "   boiler_2  \n",
       "0         0  \n",
       "1         0  \n",
       "2         0  \n",
       "3         0  \n",
       "4         0  "
      ]
     },
     "execution_count": 10,
     "metadata": {},
     "output_type": "execute_result"
    }
   ],
   "source": [
    "dwell.head()"
   ]
  },
  {
   "cell_type": "markdown",
   "metadata": {},
   "source": [
    "### pluto"
   ]
  },
  {
   "cell_type": "markdown",
   "metadata": {},
   "source": [
    "mapPLUTO\n",
    "* AssessSqft\n",
    "* UnitsRes\n",
    "* ResArea\n",
    "* ResArea_perunit\n",
    "* Res_r\n",
    "* NumFloors\n",
    "* Bldg_nrr\n",
    "* Bldg_age\n",
    "* BsmtCode\n",
    "* ProxCode\n",
    "* BldgClass_dummy"
   ]
  },
  {
   "cell_type": "code",
   "execution_count": 11,
   "metadata": {
    "collapsed": false
   },
   "outputs": [
    {
     "name": "stderr",
     "output_type": "stream",
     "text": [
      "//anaconda/lib/python2.7/site-packages/IPython/core/interactiveshell.py:2723: DtypeWarning: Columns (27,37,40,46,53,64,65,84,85) have mixed types. Specify dtype option on import or set low_memory=False.\n",
      "  interactivity=interactivity, compiler=compiler, result=result)\n"
     ]
    },
    {
     "data": {
      "text/html": [
       "<div>\n",
       "<table border=\"1\" class=\"dataframe\">\n",
       "  <thead>\n",
       "    <tr style=\"text-align: right;\">\n",
       "      <th></th>\n",
       "      <th>APPBBL</th>\n",
       "      <th>APPDate</th>\n",
       "      <th>Address</th>\n",
       "      <th>AllZoning1</th>\n",
       "      <th>AllZoning2</th>\n",
       "      <th>AreaSource</th>\n",
       "      <th>AssessLand</th>\n",
       "      <th>AssessTot</th>\n",
       "      <th>BBL</th>\n",
       "      <th>BldgArea</th>\n",
       "      <th>...</th>\n",
       "      <th>YearAlter2</th>\n",
       "      <th>YearBuilt</th>\n",
       "      <th>ZMCode</th>\n",
       "      <th>ZipCode</th>\n",
       "      <th>ZoneDist1</th>\n",
       "      <th>ZoneDist2</th>\n",
       "      <th>ZoneDist3</th>\n",
       "      <th>ZoneDist4</th>\n",
       "      <th>ZoneMap</th>\n",
       "      <th>geometry</th>\n",
       "    </tr>\n",
       "  </thead>\n",
       "  <tbody>\n",
       "    <tr>\n",
       "      <th>0</th>\n",
       "      <td>0.0</td>\n",
       "      <td>NaN</td>\n",
       "      <td>437 PURDY AVENUE</td>\n",
       "      <td>R3-1</td>\n",
       "      <td>NaN</td>\n",
       "      <td>7</td>\n",
       "      <td>15120.0</td>\n",
       "      <td>23400.0</td>\n",
       "      <td>5.007470e+09</td>\n",
       "      <td>1488</td>\n",
       "      <td>...</td>\n",
       "      <td>0</td>\n",
       "      <td>1960</td>\n",
       "      <td>NaN</td>\n",
       "      <td>10314</td>\n",
       "      <td>R3-1</td>\n",
       "      <td>NaN</td>\n",
       "      <td>NaN</td>\n",
       "      <td>NaN</td>\n",
       "      <td>20d</td>\n",
       "      <td>POLYGON ((944681.4200000018 161477.381400004, ...</td>\n",
       "    </tr>\n",
       "    <tr>\n",
       "      <th>1</th>\n",
       "      <td>0.0</td>\n",
       "      <td>NaN</td>\n",
       "      <td>CUNARD AVENUE</td>\n",
       "      <td>R3A/HS</td>\n",
       "      <td>NaN</td>\n",
       "      <td>4</td>\n",
       "      <td>21518.0</td>\n",
       "      <td>21518.0</td>\n",
       "      <td>5.006230e+09</td>\n",
       "      <td>0</td>\n",
       "      <td>...</td>\n",
       "      <td>0</td>\n",
       "      <td>0</td>\n",
       "      <td>NaN</td>\n",
       "      <td>10304</td>\n",
       "      <td>R3A</td>\n",
       "      <td>NaN</td>\n",
       "      <td>NaN</td>\n",
       "      <td>NaN</td>\n",
       "      <td>21d</td>\n",
       "      <td>POLYGON ((959872.0577999949 162992.5866000056,...</td>\n",
       "    </tr>\n",
       "    <tr>\n",
       "      <th>2</th>\n",
       "      <td>0.0</td>\n",
       "      <td>NaN</td>\n",
       "      <td>121 MOUNTAINVIEW AVENUE</td>\n",
       "      <td>R3-1</td>\n",
       "      <td>NaN</td>\n",
       "      <td>7</td>\n",
       "      <td>13561.0</td>\n",
       "      <td>22602.0</td>\n",
       "      <td>5.007130e+09</td>\n",
       "      <td>1316</td>\n",
       "      <td>...</td>\n",
       "      <td>0</td>\n",
       "      <td>1920</td>\n",
       "      <td>NaN</td>\n",
       "      <td>10314</td>\n",
       "      <td>R3-1</td>\n",
       "      <td>NaN</td>\n",
       "      <td>NaN</td>\n",
       "      <td>NaN</td>\n",
       "      <td>21b</td>\n",
       "      <td>POLYGON ((949278.1987999976 161346.9971999973,...</td>\n",
       "    </tr>\n",
       "    <tr>\n",
       "      <th>3</th>\n",
       "      <td>0.0</td>\n",
       "      <td>NaN</td>\n",
       "      <td>26 FANNING STREET</td>\n",
       "      <td>R3X</td>\n",
       "      <td>NaN</td>\n",
       "      <td>7</td>\n",
       "      <td>9720.0</td>\n",
       "      <td>28740.0</td>\n",
       "      <td>5.007140e+09</td>\n",
       "      <td>2188</td>\n",
       "      <td>...</td>\n",
       "      <td>0</td>\n",
       "      <td>1975</td>\n",
       "      <td>NaN</td>\n",
       "      <td>10314</td>\n",
       "      <td>R3X</td>\n",
       "      <td>NaN</td>\n",
       "      <td>NaN</td>\n",
       "      <td>NaN</td>\n",
       "      <td>21b</td>\n",
       "      <td>POLYGON ((950061.0491999984 160815.3023999929,...</td>\n",
       "    </tr>\n",
       "    <tr>\n",
       "      <th>4</th>\n",
       "      <td>0.0</td>\n",
       "      <td>NaN</td>\n",
       "      <td>335 SIMONSON AVENUE</td>\n",
       "      <td>R3A</td>\n",
       "      <td>NaN</td>\n",
       "      <td>7</td>\n",
       "      <td>7617.0</td>\n",
       "      <td>22118.0</td>\n",
       "      <td>5.011840e+09</td>\n",
       "      <td>2392</td>\n",
       "      <td>...</td>\n",
       "      <td>0</td>\n",
       "      <td>1965</td>\n",
       "      <td>NaN</td>\n",
       "      <td>10303</td>\n",
       "      <td>R3A</td>\n",
       "      <td>NaN</td>\n",
       "      <td>NaN</td>\n",
       "      <td>NaN</td>\n",
       "      <td>20c</td>\n",
       "      <td>POLYGON ((941981.4906000048 168120.2173999995,...</td>\n",
       "    </tr>\n",
       "  </tbody>\n",
       "</table>\n",
       "<p>5 rows × 87 columns</p>\n",
       "</div>"
      ],
      "text/plain": [
       "   APPBBL APPDate                  Address AllZoning1 AllZoning2  AreaSource  \\\n",
       "0     0.0     NaN         437 PURDY AVENUE       R3-1        NaN           7   \n",
       "1     0.0     NaN            CUNARD AVENUE     R3A/HS        NaN           4   \n",
       "2     0.0     NaN  121 MOUNTAINVIEW AVENUE       R3-1        NaN           7   \n",
       "3     0.0     NaN        26 FANNING STREET        R3X        NaN           7   \n",
       "4     0.0     NaN      335 SIMONSON AVENUE        R3A        NaN           7   \n",
       "\n",
       "   AssessLand  AssessTot           BBL  BldgArea  \\\n",
       "0     15120.0    23400.0  5.007470e+09      1488   \n",
       "1     21518.0    21518.0  5.006230e+09         0   \n",
       "2     13561.0    22602.0  5.007130e+09      1316   \n",
       "3      9720.0    28740.0  5.007140e+09      2188   \n",
       "4      7617.0    22118.0  5.011840e+09      2392   \n",
       "\n",
       "                         ...                         YearAlter2  YearBuilt  \\\n",
       "0                        ...                                  0       1960   \n",
       "1                        ...                                  0          0   \n",
       "2                        ...                                  0       1920   \n",
       "3                        ...                                  0       1975   \n",
       "4                        ...                                  0       1965   \n",
       "\n",
       "   ZMCode  ZipCode  ZoneDist1 ZoneDist2  ZoneDist3 ZoneDist4  ZoneMap  \\\n",
       "0     NaN    10314       R3-1       NaN        NaN       NaN      20d   \n",
       "1     NaN    10304        R3A       NaN        NaN       NaN      21d   \n",
       "2     NaN    10314       R3-1       NaN        NaN       NaN      21b   \n",
       "3     NaN    10314        R3X       NaN        NaN       NaN      21b   \n",
       "4     NaN    10303        R3A       NaN        NaN       NaN      20c   \n",
       "\n",
       "                                            geometry  \n",
       "0  POLYGON ((944681.4200000018 161477.381400004, ...  \n",
       "1  POLYGON ((959872.0577999949 162992.5866000056,...  \n",
       "2  POLYGON ((949278.1987999976 161346.9971999973,...  \n",
       "3  POLYGON ((950061.0491999984 160815.3023999929,...  \n",
       "4  POLYGON ((941981.4906000048 168120.2173999995,...  \n",
       "\n",
       "[5 rows x 87 columns]"
      ]
     },
     "execution_count": 11,
     "metadata": {},
     "output_type": "execute_result"
    }
   ],
   "source": [
    "pluto = pd.read_csv('../data_processed/pluto_16')\n",
    "pluto = pluto.drop('Unnamed: 0',axis=1)\n",
    "pluto.head()"
   ]
  },
  {
   "cell_type": "markdown",
   "metadata": {},
   "source": [
    "#### remove outliers"
   ]
  },
  {
   "cell_type": "code",
   "execution_count": 12,
   "metadata": {
    "collapsed": false
   },
   "outputs": [],
   "source": [
    "pluto = pluto[pluto['YearBuilt']>1750]\n",
    "pluto = pluto[pluto['AssessLand']> 0]\n",
    "pluto = pluto[pluto['NumBldgs'] > 0]\n",
    "pluto = pluto[pluto['NumFloors'] > 0]\n",
    "pluto = pluto[pluto['ResArea'] > 0]\n",
    "pluto = pluto[pluto['UnitsRes'] < 8000]\n",
    "pluto = pluto[pluto['UnitsRes'] > 0]\n",
    "pluto = pluto[pluto['BldgFront'] > 0]"
   ]
  },
  {
   "cell_type": "markdown",
   "metadata": {},
   "source": [
    "#### adjust features"
   ]
  },
  {
   "cell_type": "code",
   "execution_count": 13,
   "metadata": {
    "collapsed": false
   },
   "outputs": [],
   "source": [
    "pluto['AssessSqft'] = pluto['AssessTot']/pluto['BldgArea']\n",
    "pluto = pluto[pluto['AssessSqft'] > 0]\n",
    "\n",
    "pluto['BldgAge'] = 2017-pluto['YearBuilt']\n",
    "pluto = pluto.drop('YearBuilt',axis=1)\n",
    "\n",
    "pluto['Bldg_nrr'] = pluto['BldgDepth']/pluto['BldgFront'].astype(float)\n",
    "\n",
    "#proxcode\n",
    "#0 = unknown, 1 = detatched, 2 = attached or semi=attached\n",
    "pluto['ProxCode'] = pluto['ProxCode'].replace(3, 2)\n",
    "\n",
    "#bsmtcode\n",
    "#0 = no basement, 1 = full or partial basement, 5 = unknown\n",
    "pluto['BsmtCode'] = pluto['BsmtCode'].replace(2, 1)\n",
    "pluto['BsmtCode'] = pluto['BsmtCode'].replace(3, 1)\n",
    "pluto['BsmtCode'] = pluto['BsmtCode'].replace(4, 1)\n",
    "pluto['Res_r'] = pluto['ResArea']/pluto['BldgArea'].astype(float)\n",
    "pluto['ResArea_perunit'] = pluto['ResArea']/pluto['UnitsRes'].astype(float)\n",
    "\n",
    "bldgclass = []\n",
    "for elem in pluto['BldgClass']:\n",
    "    bldgclass.append(str(elem[0]))\n",
    "bldgclasscat = []\n",
    "for elem in bldgclass:\n",
    "    if elem == 'A':\n",
    "        bldgclasscat.append(1)\n",
    "    elif elem == 'B':\n",
    "        bldgclasscat.append(2)\n",
    "    elif elem == 'C':\n",
    "        bldgclasscat.append(3)\n",
    "    elif elem == 'S':\n",
    "        bldgclasscat.append(3)\n",
    "    elif elem == 'D':\n",
    "        bldgclasscat.append(4)\n",
    "    elif elem == 'O8':\n",
    "        bldgclasscat.append(4)\n",
    "    elif elem == 'R':\n",
    "        bldgclasscat.append(5)\n",
    "    elif elem == 'L':\n",
    "        bldgclasscat.append(6) \n",
    "    else:\n",
    "        bldgclasscat.append(0)\n",
    "pluto['BldgClass_dummy'] = bldgclasscat"
   ]
  },
  {
   "cell_type": "code",
   "execution_count": 14,
   "metadata": {
    "collapsed": true
   },
   "outputs": [],
   "source": [
    "pluto = pd.concat([pluto, pd.get_dummies(pluto['BldgClass_dummy'], prefix='bc'), \\\n",
    "                    pd.get_dummies(pluto['ProxCode'], prefix='pc'), \\\n",
    "                   pd.get_dummies(pluto['BsmtCode'], prefix='bsmt')],axis=1)"
   ]
  },
  {
   "cell_type": "markdown",
   "metadata": {},
   "source": [
    "proxcode = []\n",
    "for elem in pluto['ProxCode']:\n",
    "    proxcode.append(elem)\n",
    "proxcodecat = []\n",
    "for elem in proxcode:\n",
    "    if elem == 0:\n",
    "        proxcodecat.append('pc0')\n",
    "    elif elem == 1:\n",
    "        proxcodecat.append('pc1')\n",
    "    elif elem == 2:\n",
    "        proxcodecat.append('pc2')\n",
    "pluto['ProxCode_dummy'] = proxcodecat\n",
    "\n",
    "bsmtcode = []\n",
    "for elem in pluto['BsmtCode']:\n",
    "    bsmtcode.append(elem)\n",
    "bsmtcodecat = []\n",
    "for elem in bsmtcode:\n",
    "    if elem == 0:\n",
    "        bsmtcodecat.append('bsmt0')\n",
    "    elif elem == 1:\n",
    "        bsmtcodecat.append('bsmt1')\n",
    "    elif elem == 5:\n",
    "        bsmtcodecat.append('bsmt5')\n",
    "pluto['BsmtCode_dummy'] = bsmtcodecat"
   ]
  },
  {
   "cell_type": "markdown",
   "metadata": {},
   "source": [
    "BldgClass\n",
    " 1: A (one family housing)\n",
    " 2: B (two family housing)\n",
    " 3: C + S (walk up + mixed use)\n",
    " 4: D + O8 (elevator apartment + apt with office)\n",
    " 5: R (condominium)\n",
    " 6: L (loft)\n",
    " 0: Others"
   ]
  },
  {
   "cell_type": "code",
   "execution_count": 15,
   "metadata": {
    "collapsed": false
   },
   "outputs": [
    {
     "data": {
      "text/html": [
       "<div>\n",
       "<table border=\"1\" class=\"dataframe\">\n",
       "  <thead>\n",
       "    <tr style=\"text-align: right;\">\n",
       "      <th></th>\n",
       "      <th>APPBBL</th>\n",
       "      <th>APPDate</th>\n",
       "      <th>Address</th>\n",
       "      <th>AllZoning1</th>\n",
       "      <th>AllZoning2</th>\n",
       "      <th>AreaSource</th>\n",
       "      <th>AssessLand</th>\n",
       "      <th>AssessTot</th>\n",
       "      <th>BBL</th>\n",
       "      <th>BldgArea</th>\n",
       "      <th>...</th>\n",
       "      <th>bc_3</th>\n",
       "      <th>bc_4</th>\n",
       "      <th>bc_5</th>\n",
       "      <th>bc_6</th>\n",
       "      <th>pc_0.0</th>\n",
       "      <th>pc_1.0</th>\n",
       "      <th>pc_2.0</th>\n",
       "      <th>bsmt_0.0</th>\n",
       "      <th>bsmt_1.0</th>\n",
       "      <th>bsmt_5.0</th>\n",
       "    </tr>\n",
       "  </thead>\n",
       "  <tbody>\n",
       "    <tr>\n",
       "      <th>0</th>\n",
       "      <td>0.0</td>\n",
       "      <td>NaN</td>\n",
       "      <td>437 PURDY AVENUE</td>\n",
       "      <td>R3-1</td>\n",
       "      <td>NaN</td>\n",
       "      <td>7</td>\n",
       "      <td>15120.0</td>\n",
       "      <td>23400.0</td>\n",
       "      <td>5.007470e+09</td>\n",
       "      <td>1488</td>\n",
       "      <td>...</td>\n",
       "      <td>0</td>\n",
       "      <td>0</td>\n",
       "      <td>0</td>\n",
       "      <td>0</td>\n",
       "      <td>0</td>\n",
       "      <td>1</td>\n",
       "      <td>0</td>\n",
       "      <td>0</td>\n",
       "      <td>1</td>\n",
       "      <td>0</td>\n",
       "    </tr>\n",
       "    <tr>\n",
       "      <th>2</th>\n",
       "      <td>0.0</td>\n",
       "      <td>NaN</td>\n",
       "      <td>121 MOUNTAINVIEW AVENUE</td>\n",
       "      <td>R3-1</td>\n",
       "      <td>NaN</td>\n",
       "      <td>7</td>\n",
       "      <td>13561.0</td>\n",
       "      <td>22602.0</td>\n",
       "      <td>5.007130e+09</td>\n",
       "      <td>1316</td>\n",
       "      <td>...</td>\n",
       "      <td>0</td>\n",
       "      <td>0</td>\n",
       "      <td>0</td>\n",
       "      <td>0</td>\n",
       "      <td>0</td>\n",
       "      <td>1</td>\n",
       "      <td>0</td>\n",
       "      <td>0</td>\n",
       "      <td>1</td>\n",
       "      <td>0</td>\n",
       "    </tr>\n",
       "  </tbody>\n",
       "</table>\n",
       "<p>2 rows × 105 columns</p>\n",
       "</div>"
      ],
      "text/plain": [
       "   APPBBL APPDate                  Address AllZoning1 AllZoning2  AreaSource  \\\n",
       "0     0.0     NaN         437 PURDY AVENUE       R3-1        NaN           7   \n",
       "2     0.0     NaN  121 MOUNTAINVIEW AVENUE       R3-1        NaN           7   \n",
       "\n",
       "   AssessLand  AssessTot           BBL  BldgArea    ...    bc_3  bc_4  bc_5  \\\n",
       "0     15120.0    23400.0  5.007470e+09      1488    ...       0     0     0   \n",
       "2     13561.0    22602.0  5.007130e+09      1316    ...       0     0     0   \n",
       "\n",
       "   bc_6  pc_0.0 pc_1.0  pc_2.0 bsmt_0.0  bsmt_1.0  bsmt_5.0  \n",
       "0     0       0      1       0        0         1         0  \n",
       "2     0       0      1       0        0         1         0  \n",
       "\n",
       "[2 rows x 105 columns]"
      ]
     },
     "execution_count": 15,
     "metadata": {},
     "output_type": "execute_result"
    }
   ],
   "source": [
    "pluto.head(2)"
   ]
  },
  {
   "cell_type": "code",
   "execution_count": 16,
   "metadata": {
    "collapsed": false
   },
   "outputs": [
    {
     "data": {
      "text/plain": [
       "Index([u'CD', u'CT2010', u'ComArea', u'CommFAR', u'CondoNo', u'Council',\n",
       "       u'EDesigNum', u'Easements', u'ExemptLand', u'ExemptTot', u'Ext',\n",
       "       u'FacilFAR', u'FactryArea', u'FireComp', u'GarageArea', u'HealthArea',\n",
       "       u'HistDist', u'IrrLotCode', u'LandUse', u'Landmark', u'Lot', u'LotArea',\n",
       "       u'LotDepth', u'LotFront', u'LotType', u'LtdHeight', u'MAPPLUTO_F',\n",
       "       u'NumBldgs', u'NumFloors', u'OfficeArea', u'OtherArea', u'Overlay1',\n",
       "       u'Overlay2', u'OwnerName', u'OwnerType', u'PLUTOMapID', u'PolicePrct',\n",
       "       u'ProxCode', u'ResArea', u'ResidFAR', u'RetailArea', u'SHAPE_Area',\n",
       "       u'SHAPE_Leng', u'SPDist1', u'SPDist2', u'Sanborn', u'SchoolDist',\n",
       "       u'SplitZone', u'StrgeArea', u'TaxMap', u'Tract2010', u'UnitsRes',\n",
       "       u'UnitsTotal', u'Version', u'XCoord', u'YCoord', u'YearAlter1',\n",
       "       u'YearAlter2', u'ZMCode', u'ZipCode', u'ZoneDist1', u'ZoneDist2',\n",
       "       u'ZoneDist3', u'ZoneDist4', u'ZoneMap', u'geometry', u'AssessSqft',\n",
       "       u'BldgAge', u'Bldg_nrr', u'Res_r', u'ResArea_perunit',\n",
       "       u'BldgClass_dummy', u'bc_0', u'bc_1', u'bc_2', u'bc_3', u'bc_4',\n",
       "       u'bc_5', u'bc_6', u'pc_0.0', u'pc_1.0', u'pc_2.0', u'bsmt_0.0',\n",
       "       u'bsmt_1.0', u'bsmt_5.0'],\n",
       "      dtype='object')"
      ]
     },
     "execution_count": 16,
     "metadata": {},
     "output_type": "execute_result"
    }
   ],
   "source": [
    "pluto.columns[20:]"
   ]
  },
  {
   "cell_type": "markdown",
   "metadata": {},
   "source": [
    "#### drop irrelevant features"
   ]
  },
  {
   "cell_type": "code",
   "execution_count": 17,
   "metadata": {
    "collapsed": false
   },
   "outputs": [],
   "source": [
    "### dropping bc_0, pc_0.0, and bsmt_0.0 to use as refernce columns\n",
    "pluto = pluto[['BBL', 'AssessSqft', 'UnitsRes', 'ResArea_perunit', 'Res_r', \\\n",
    "               'NumFloors', 'Bldg_nrr', 'BldgAge', \\\n",
    "              'bc_1', 'bc_2', 'bc_3', 'bc_4', 'bc_5', 'bc_6', 'pc_1.0', 'pc_2.0', 'bsmt_1.0', 'bsmt_5.0']]"
   ]
  },
  {
   "cell_type": "markdown",
   "metadata": {},
   "source": [
    "### import violations"
   ]
  },
  {
   "cell_type": "code",
   "execution_count": 18,
   "metadata": {
    "collapsed": true
   },
   "outputs": [],
   "source": [
    "vios = pd.read_csv('../data_processed/VIOLATION_HEATHOTWATER_by_bbl_season.csv')\n",
    "vios = vios.drop('Unnamed: 0',axis=1)"
   ]
  },
  {
   "cell_type": "code",
   "execution_count": 19,
   "metadata": {
    "collapsed": false
   },
   "outputs": [
    {
     "data": {
      "text/html": [
       "<div>\n",
       "<table border=\"1\" class=\"dataframe\">\n",
       "  <thead>\n",
       "    <tr style=\"text-align: right;\">\n",
       "      <th></th>\n",
       "      <th>BBL</th>\n",
       "      <th>Sum_season_vio</th>\n",
       "      <th>Avg_season_vio</th>\n",
       "    </tr>\n",
       "  </thead>\n",
       "  <tbody>\n",
       "    <tr>\n",
       "      <th>0</th>\n",
       "      <td>1000160100</td>\n",
       "      <td>2</td>\n",
       "      <td>0.50</td>\n",
       "    </tr>\n",
       "    <tr>\n",
       "      <th>1</th>\n",
       "      <td>1000167509</td>\n",
       "      <td>1</td>\n",
       "      <td>0.25</td>\n",
       "    </tr>\n",
       "    <tr>\n",
       "      <th>2</th>\n",
       "      <td>1000170029</td>\n",
       "      <td>1</td>\n",
       "      <td>0.25</td>\n",
       "    </tr>\n",
       "    <tr>\n",
       "      <th>3</th>\n",
       "      <td>1000297501</td>\n",
       "      <td>1</td>\n",
       "      <td>0.25</td>\n",
       "    </tr>\n",
       "    <tr>\n",
       "      <th>4</th>\n",
       "      <td>1000530006</td>\n",
       "      <td>12</td>\n",
       "      <td>3.00</td>\n",
       "    </tr>\n",
       "  </tbody>\n",
       "</table>\n",
       "</div>"
      ],
      "text/plain": [
       "          BBL  Sum_season_vio  Avg_season_vio\n",
       "0  1000160100               2            0.50\n",
       "1  1000167509               1            0.25\n",
       "2  1000170029               1            0.25\n",
       "3  1000297501               1            0.25\n",
       "4  1000530006              12            3.00"
      ]
     },
     "execution_count": 19,
     "metadata": {},
     "output_type": "execute_result"
    }
   ],
   "source": [
    "vios.head()"
   ]
  },
  {
   "cell_type": "markdown",
   "metadata": {},
   "source": [
    "### view datasets"
   ]
  },
  {
   "cell_type": "code",
   "execution_count": 20,
   "metadata": {
    "collapsed": false
   },
   "outputs": [
    {
     "data": {
      "text/html": [
       "<div>\n",
       "<table border=\"1\" class=\"dataframe\">\n",
       "  <thead>\n",
       "    <tr style=\"text-align: right;\">\n",
       "      <th></th>\n",
       "      <th>BBL</th>\n",
       "      <th>AssessSqft</th>\n",
       "      <th>UnitsRes</th>\n",
       "      <th>ResArea_perunit</th>\n",
       "      <th>Res_r</th>\n",
       "      <th>NumFloors</th>\n",
       "      <th>Bldg_nrr</th>\n",
       "      <th>BldgAge</th>\n",
       "      <th>bc_1</th>\n",
       "      <th>bc_2</th>\n",
       "      <th>bc_3</th>\n",
       "      <th>bc_4</th>\n",
       "      <th>bc_5</th>\n",
       "      <th>bc_6</th>\n",
       "      <th>pc_1.0</th>\n",
       "      <th>pc_2.0</th>\n",
       "      <th>bsmt_1.0</th>\n",
       "      <th>bsmt_5.0</th>\n",
       "    </tr>\n",
       "  </thead>\n",
       "  <tbody>\n",
       "    <tr>\n",
       "      <th>0</th>\n",
       "      <td>5.007470e+09</td>\n",
       "      <td>15.725806</td>\n",
       "      <td>2</td>\n",
       "      <td>744.0</td>\n",
       "      <td>1.0</td>\n",
       "      <td>1.0</td>\n",
       "      <td>2.583333</td>\n",
       "      <td>57</td>\n",
       "      <td>0</td>\n",
       "      <td>1</td>\n",
       "      <td>0</td>\n",
       "      <td>0</td>\n",
       "      <td>0</td>\n",
       "      <td>0</td>\n",
       "      <td>1</td>\n",
       "      <td>0</td>\n",
       "      <td>1</td>\n",
       "      <td>0</td>\n",
       "    </tr>\n",
       "    <tr>\n",
       "      <th>2</th>\n",
       "      <td>5.007130e+09</td>\n",
       "      <td>17.174772</td>\n",
       "      <td>1</td>\n",
       "      <td>1316.0</td>\n",
       "      <td>1.0</td>\n",
       "      <td>2.5</td>\n",
       "      <td>1.588235</td>\n",
       "      <td>97</td>\n",
       "      <td>1</td>\n",
       "      <td>0</td>\n",
       "      <td>0</td>\n",
       "      <td>0</td>\n",
       "      <td>0</td>\n",
       "      <td>0</td>\n",
       "      <td>1</td>\n",
       "      <td>0</td>\n",
       "      <td>1</td>\n",
       "      <td>0</td>\n",
       "    </tr>\n",
       "    <tr>\n",
       "      <th>3</th>\n",
       "      <td>5.007140e+09</td>\n",
       "      <td>13.135283</td>\n",
       "      <td>2</td>\n",
       "      <td>1094.0</td>\n",
       "      <td>1.0</td>\n",
       "      <td>2.0</td>\n",
       "      <td>1.923077</td>\n",
       "      <td>42</td>\n",
       "      <td>0</td>\n",
       "      <td>1</td>\n",
       "      <td>0</td>\n",
       "      <td>0</td>\n",
       "      <td>0</td>\n",
       "      <td>0</td>\n",
       "      <td>1</td>\n",
       "      <td>0</td>\n",
       "      <td>0</td>\n",
       "      <td>0</td>\n",
       "    </tr>\n",
       "    <tr>\n",
       "      <th>4</th>\n",
       "      <td>5.011840e+09</td>\n",
       "      <td>9.246656</td>\n",
       "      <td>1</td>\n",
       "      <td>2392.0</td>\n",
       "      <td>1.0</td>\n",
       "      <td>2.0</td>\n",
       "      <td>1.769231</td>\n",
       "      <td>52</td>\n",
       "      <td>1</td>\n",
       "      <td>0</td>\n",
       "      <td>0</td>\n",
       "      <td>0</td>\n",
       "      <td>0</td>\n",
       "      <td>0</td>\n",
       "      <td>1</td>\n",
       "      <td>0</td>\n",
       "      <td>0</td>\n",
       "      <td>0</td>\n",
       "    </tr>\n",
       "    <tr>\n",
       "      <th>5</th>\n",
       "      <td>5.007650e+09</td>\n",
       "      <td>17.458111</td>\n",
       "      <td>1</td>\n",
       "      <td>1122.0</td>\n",
       "      <td>1.0</td>\n",
       "      <td>2.5</td>\n",
       "      <td>1.764706</td>\n",
       "      <td>92</td>\n",
       "      <td>1</td>\n",
       "      <td>0</td>\n",
       "      <td>0</td>\n",
       "      <td>0</td>\n",
       "      <td>0</td>\n",
       "      <td>0</td>\n",
       "      <td>1</td>\n",
       "      <td>0</td>\n",
       "      <td>1</td>\n",
       "      <td>0</td>\n",
       "    </tr>\n",
       "  </tbody>\n",
       "</table>\n",
       "</div>"
      ],
      "text/plain": [
       "            BBL  AssessSqft  UnitsRes  ResArea_perunit  Res_r  NumFloors  \\\n",
       "0  5.007470e+09   15.725806         2            744.0    1.0        1.0   \n",
       "2  5.007130e+09   17.174772         1           1316.0    1.0        2.5   \n",
       "3  5.007140e+09   13.135283         2           1094.0    1.0        2.0   \n",
       "4  5.011840e+09    9.246656         1           2392.0    1.0        2.0   \n",
       "5  5.007650e+09   17.458111         1           1122.0    1.0        2.5   \n",
       "\n",
       "   Bldg_nrr  BldgAge  bc_1  bc_2  bc_3  bc_4  bc_5  bc_6  pc_1.0  pc_2.0  \\\n",
       "0  2.583333       57     0     1     0     0     0     0       1       0   \n",
       "2  1.588235       97     1     0     0     0     0     0       1       0   \n",
       "3  1.923077       42     0     1     0     0     0     0       1       0   \n",
       "4  1.769231       52     1     0     0     0     0     0       1       0   \n",
       "5  1.764706       92     1     0     0     0     0     0       1       0   \n",
       "\n",
       "   bsmt_1.0  bsmt_5.0  \n",
       "0         1         0  \n",
       "2         1         0  \n",
       "3         0         0  \n",
       "4         0         0  \n",
       "5         1         0  "
      ]
     },
     "execution_count": 20,
     "metadata": {},
     "output_type": "execute_result"
    }
   ],
   "source": [
    "pluto.head()"
   ]
  },
  {
   "cell_type": "code",
   "execution_count": 21,
   "metadata": {
    "collapsed": true
   },
   "outputs": [],
   "source": [
    "pluto = pluto.reset_index()\n",
    "pluto = pluto.drop('index',axis=1)"
   ]
  },
  {
   "cell_type": "code",
   "execution_count": 22,
   "metadata": {
    "collapsed": false
   },
   "outputs": [
    {
     "data": {
      "text/html": [
       "<div>\n",
       "<table border=\"1\" class=\"dataframe\">\n",
       "  <thead>\n",
       "    <tr style=\"text-align: right;\">\n",
       "      <th></th>\n",
       "      <th>BBL</th>\n",
       "      <th>Agent</th>\n",
       "      <th>SiteManager</th>\n",
       "      <th>boiler_age</th>\n",
       "      <th>Ind</th>\n",
       "      <th>Joint</th>\n",
       "      <th>Off</th>\n",
       "      <th>boiler_1</th>\n",
       "      <th>boiler_2</th>\n",
       "    </tr>\n",
       "  </thead>\n",
       "  <tbody>\n",
       "    <tr>\n",
       "      <th>0</th>\n",
       "      <td>4086640052</td>\n",
       "      <td>0.0</td>\n",
       "      <td>1.0</td>\n",
       "      <td>27.174765</td>\n",
       "      <td>1</td>\n",
       "      <td>0</td>\n",
       "      <td>0</td>\n",
       "      <td>0</td>\n",
       "      <td>0</td>\n",
       "    </tr>\n",
       "    <tr>\n",
       "      <th>1</th>\n",
       "      <td>4057400139</td>\n",
       "      <td>1.0</td>\n",
       "      <td>1.0</td>\n",
       "      <td>27.174765</td>\n",
       "      <td>0</td>\n",
       "      <td>0</td>\n",
       "      <td>0</td>\n",
       "      <td>0</td>\n",
       "      <td>0</td>\n",
       "    </tr>\n",
       "    <tr>\n",
       "      <th>2</th>\n",
       "      <td>3034570006</td>\n",
       "      <td>1.0</td>\n",
       "      <td>1.0</td>\n",
       "      <td>27.174765</td>\n",
       "      <td>0</td>\n",
       "      <td>0</td>\n",
       "      <td>0</td>\n",
       "      <td>0</td>\n",
       "      <td>0</td>\n",
       "    </tr>\n",
       "    <tr>\n",
       "      <th>3</th>\n",
       "      <td>1021160061</td>\n",
       "      <td>1.0</td>\n",
       "      <td>1.0</td>\n",
       "      <td>27.174765</td>\n",
       "      <td>0</td>\n",
       "      <td>0</td>\n",
       "      <td>0</td>\n",
       "      <td>0</td>\n",
       "      <td>0</td>\n",
       "    </tr>\n",
       "    <tr>\n",
       "      <th>4</th>\n",
       "      <td>1004360020</td>\n",
       "      <td>1.0</td>\n",
       "      <td>1.0</td>\n",
       "      <td>27.174765</td>\n",
       "      <td>0</td>\n",
       "      <td>0</td>\n",
       "      <td>0</td>\n",
       "      <td>0</td>\n",
       "      <td>0</td>\n",
       "    </tr>\n",
       "  </tbody>\n",
       "</table>\n",
       "</div>"
      ],
      "text/plain": [
       "          BBL  Agent  SiteManager  boiler_age  Ind  Joint  Off  boiler_1  \\\n",
       "0  4086640052    0.0          1.0   27.174765    1      0    0         0   \n",
       "1  4057400139    1.0          1.0   27.174765    0      0    0         0   \n",
       "2  3034570006    1.0          1.0   27.174765    0      0    0         0   \n",
       "3  1021160061    1.0          1.0   27.174765    0      0    0         0   \n",
       "4  1004360020    1.0          1.0   27.174765    0      0    0         0   \n",
       "\n",
       "   boiler_2  \n",
       "0         0  \n",
       "1         0  \n",
       "2         0  \n",
       "3         0  \n",
       "4         0  "
      ]
     },
     "execution_count": 22,
     "metadata": {},
     "output_type": "execute_result"
    }
   ],
   "source": [
    "dwell.head()"
   ]
  },
  {
   "cell_type": "code",
   "execution_count": 23,
   "metadata": {
    "collapsed": false
   },
   "outputs": [
    {
     "data": {
      "text/html": [
       "<div>\n",
       "<table border=\"1\" class=\"dataframe\">\n",
       "  <thead>\n",
       "    <tr style=\"text-align: right;\">\n",
       "      <th></th>\n",
       "      <th>BBL</th>\n",
       "      <th>Sum_season_vio</th>\n",
       "      <th>Avg_season_vio</th>\n",
       "    </tr>\n",
       "  </thead>\n",
       "  <tbody>\n",
       "    <tr>\n",
       "      <th>0</th>\n",
       "      <td>1000160100</td>\n",
       "      <td>2</td>\n",
       "      <td>0.50</td>\n",
       "    </tr>\n",
       "    <tr>\n",
       "      <th>1</th>\n",
       "      <td>1000167509</td>\n",
       "      <td>1</td>\n",
       "      <td>0.25</td>\n",
       "    </tr>\n",
       "    <tr>\n",
       "      <th>2</th>\n",
       "      <td>1000170029</td>\n",
       "      <td>1</td>\n",
       "      <td>0.25</td>\n",
       "    </tr>\n",
       "    <tr>\n",
       "      <th>3</th>\n",
       "      <td>1000297501</td>\n",
       "      <td>1</td>\n",
       "      <td>0.25</td>\n",
       "    </tr>\n",
       "    <tr>\n",
       "      <th>4</th>\n",
       "      <td>1000530006</td>\n",
       "      <td>12</td>\n",
       "      <td>3.00</td>\n",
       "    </tr>\n",
       "  </tbody>\n",
       "</table>\n",
       "</div>"
      ],
      "text/plain": [
       "          BBL  Sum_season_vio  Avg_season_vio\n",
       "0  1000160100               2            0.50\n",
       "1  1000167509               1            0.25\n",
       "2  1000170029               1            0.25\n",
       "3  1000297501               1            0.25\n",
       "4  1000530006              12            3.00"
      ]
     },
     "execution_count": 23,
     "metadata": {},
     "output_type": "execute_result"
    }
   ],
   "source": [
    "vios.head()"
   ]
  },
  {
   "cell_type": "code",
   "execution_count": 24,
   "metadata": {
    "collapsed": false
   },
   "outputs": [
    {
     "name": "stdout",
     "output_type": "stream",
     "text": [
      "int64\n",
      "int64\n",
      "float64\n"
     ]
    }
   ],
   "source": [
    "print dwell.BBL.dtypes\n",
    "print vios.BBL.dtypes\n",
    "print pluto.BBL.dtypes"
   ]
  },
  {
   "cell_type": "code",
   "execution_count": 25,
   "metadata": {
    "collapsed": false
   },
   "outputs": [
    {
     "name": "stdout",
     "output_type": "stream",
     "text": [
      "144838\n",
      "17472\n",
      "753540\n"
     ]
    }
   ],
   "source": [
    "print len(dwell)\n",
    "print len(vios)\n",
    "print len(pluto)"
   ]
  },
  {
   "cell_type": "markdown",
   "metadata": {},
   "source": [
    "### merge on BBL"
   ]
  },
  {
   "cell_type": "code",
   "execution_count": 26,
   "metadata": {
    "collapsed": true
   },
   "outputs": [],
   "source": [
    "pluto['BBL'] = pluto['BBL'].astype(int)"
   ]
  },
  {
   "cell_type": "code",
   "execution_count": 27,
   "metadata": {
    "collapsed": false
   },
   "outputs": [
    {
     "name": "stdout",
     "output_type": "stream",
     "text": [
      "int64\n",
      "int64\n",
      "int64\n"
     ]
    }
   ],
   "source": [
    "print dwell.BBL.dtypes\n",
    "print vios.BBL.dtypes\n",
    "print pluto.BBL.dtypes"
   ]
  },
  {
   "cell_type": "code",
   "execution_count": 28,
   "metadata": {
    "collapsed": true
   },
   "outputs": [],
   "source": [
    "vios_dwell = pd.merge(vios, dwell, on='BBL', how='right')"
   ]
  },
  {
   "cell_type": "code",
   "execution_count": 29,
   "metadata": {
    "collapsed": false
   },
   "outputs": [
    {
     "data": {
      "text/plain": [
       "BBL                    0\n",
       "Sum_season_vio    130185\n",
       "Avg_season_vio    130185\n",
       "Agent                  0\n",
       "SiteManager            0\n",
       "boiler_age             0\n",
       "Ind                    0\n",
       "Joint                  0\n",
       "Off                    0\n",
       "boiler_1               0\n",
       "boiler_2               0\n",
       "dtype: int64"
      ]
     },
     "execution_count": 29,
     "metadata": {},
     "output_type": "execute_result"
    }
   ],
   "source": [
    "vios_dwell.isnull().sum()"
   ]
  },
  {
   "cell_type": "code",
   "execution_count": 30,
   "metadata": {
    "collapsed": true
   },
   "outputs": [],
   "source": [
    "vios_dwell = vios_dwell.replace(np.nan, 0)"
   ]
  },
  {
   "cell_type": "code",
   "execution_count": 31,
   "metadata": {
    "collapsed": true
   },
   "outputs": [],
   "source": [
    "dvp = pd.merge(pluto, vios_dwell, on='BBL', how='right')"
   ]
  },
  {
   "cell_type": "code",
   "execution_count": 32,
   "metadata": {
    "collapsed": false
   },
   "outputs": [
    {
     "data": {
      "text/plain": [
       "BBL                   0\n",
       "AssessSqft         5976\n",
       "UnitsRes           5976\n",
       "ResArea_perunit    5976\n",
       "Res_r              5976\n",
       "NumFloors          5976\n",
       "Bldg_nrr           5976\n",
       "BldgAge            5976\n",
       "bc_1               5976\n",
       "bc_2               5976\n",
       "bc_3               5976\n",
       "bc_4               5976\n",
       "bc_5               5976\n",
       "bc_6               5976\n",
       "pc_1.0             5976\n",
       "pc_2.0             5976\n",
       "bsmt_1.0           5976\n",
       "bsmt_5.0           5976\n",
       "Sum_season_vio        0\n",
       "Avg_season_vio        0\n",
       "Agent                 0\n",
       "SiteManager           0\n",
       "boiler_age            0\n",
       "Ind                   0\n",
       "Joint                 0\n",
       "Off                   0\n",
       "boiler_1              0\n",
       "boiler_2              0\n",
       "dtype: int64"
      ]
     },
     "execution_count": 32,
     "metadata": {},
     "output_type": "execute_result"
    }
   ],
   "source": [
    "dvp.isnull().sum()"
   ]
  },
  {
   "cell_type": "code",
   "execution_count": 33,
   "metadata": {
    "collapsed": false
   },
   "outputs": [],
   "source": [
    "dvp  = dvp.dropna()"
   ]
  },
  {
   "cell_type": "code",
   "execution_count": 34,
   "metadata": {
    "collapsed": false
   },
   "outputs": [
    {
     "data": {
      "text/plain": [
       "138862"
      ]
     },
     "execution_count": 34,
     "metadata": {},
     "output_type": "execute_result"
    }
   ],
   "source": [
    "len(dvp)"
   ]
  },
  {
   "cell_type": "code",
   "execution_count": 35,
   "metadata": {
    "collapsed": true
   },
   "outputs": [],
   "source": [
    "dvp['vio_binary'] = [1 if x > 0 else 0 for x in dvp['Avg_season_vio']]"
   ]
  },
  {
   "cell_type": "markdown",
   "metadata": {},
   "source": [
    "#### descriptive analysis"
   ]
  },
  {
   "cell_type": "code",
   "execution_count": 36,
   "metadata": {
    "collapsed": false
   },
   "outputs": [
    {
     "data": {
      "text/html": [
       "<div>\n",
       "<table border=\"1\" class=\"dataframe\">\n",
       "  <thead>\n",
       "    <tr style=\"text-align: right;\">\n",
       "      <th></th>\n",
       "      <th>BBL</th>\n",
       "      <th>AssessSqft</th>\n",
       "      <th>UnitsRes</th>\n",
       "      <th>ResArea_perunit</th>\n",
       "      <th>Res_r</th>\n",
       "      <th>NumFloors</th>\n",
       "      <th>Bldg_nrr</th>\n",
       "      <th>BldgAge</th>\n",
       "      <th>bc_1</th>\n",
       "      <th>bc_2</th>\n",
       "      <th>...</th>\n",
       "      <th>Avg_season_vio</th>\n",
       "      <th>Agent</th>\n",
       "      <th>SiteManager</th>\n",
       "      <th>boiler_age</th>\n",
       "      <th>Ind</th>\n",
       "      <th>Joint</th>\n",
       "      <th>Off</th>\n",
       "      <th>boiler_1</th>\n",
       "      <th>boiler_2</th>\n",
       "      <th>vio_binary</th>\n",
       "    </tr>\n",
       "  </thead>\n",
       "  <tbody>\n",
       "    <tr>\n",
       "      <th>count</th>\n",
       "      <td>1.388620e+05</td>\n",
       "      <td>138862.000000</td>\n",
       "      <td>138862.000000</td>\n",
       "      <td>138862.000000</td>\n",
       "      <td>138862.000000</td>\n",
       "      <td>138862.000000</td>\n",
       "      <td>138862.000000</td>\n",
       "      <td>138862.000000</td>\n",
       "      <td>138862.000000</td>\n",
       "      <td>138862.000000</td>\n",
       "      <td>...</td>\n",
       "      <td>138862.000000</td>\n",
       "      <td>138862.000000</td>\n",
       "      <td>138862.00000</td>\n",
       "      <td>138862.000000</td>\n",
       "      <td>138862.000000</td>\n",
       "      <td>138862.000000</td>\n",
       "      <td>138862.000000</td>\n",
       "      <td>138862.000000</td>\n",
       "      <td>138862.000000</td>\n",
       "      <td>138862.000000</td>\n",
       "    </tr>\n",
       "    <tr>\n",
       "      <th>mean</th>\n",
       "      <td>2.782979e+09</td>\n",
       "      <td>24.915142</td>\n",
       "      <td>14.520711</td>\n",
       "      <td>986.590534</td>\n",
       "      <td>0.950295</td>\n",
       "      <td>3.673191</td>\n",
       "      <td>2.424622</td>\n",
       "      <td>85.507259</td>\n",
       "      <td>0.016232</td>\n",
       "      <td>0.058396</td>\n",
       "      <td>...</td>\n",
       "      <td>0.090617</td>\n",
       "      <td>0.756002</td>\n",
       "      <td>0.80315</td>\n",
       "      <td>27.180528</td>\n",
       "      <td>0.344104</td>\n",
       "      <td>0.138303</td>\n",
       "      <td>0.030303</td>\n",
       "      <td>0.006877</td>\n",
       "      <td>0.002866</td>\n",
       "      <td>0.103340</td>\n",
       "    </tr>\n",
       "    <tr>\n",
       "      <th>std</th>\n",
       "      <td>1.034708e+09</td>\n",
       "      <td>31.273412</td>\n",
       "      <td>45.622941</td>\n",
       "      <td>1060.044417</td>\n",
       "      <td>0.126208</td>\n",
       "      <td>2.623617</td>\n",
       "      <td>1.535914</td>\n",
       "      <td>30.144591</td>\n",
       "      <td>0.126367</td>\n",
       "      <td>0.234492</td>\n",
       "      <td>...</td>\n",
       "      <td>0.447265</td>\n",
       "      <td>0.429493</td>\n",
       "      <td>0.39762</td>\n",
       "      <td>8.989871</td>\n",
       "      <td>0.475077</td>\n",
       "      <td>0.345219</td>\n",
       "      <td>0.171422</td>\n",
       "      <td>0.082644</td>\n",
       "      <td>0.053460</td>\n",
       "      <td>0.304404</td>\n",
       "    </tr>\n",
       "    <tr>\n",
       "      <th>min</th>\n",
       "      <td>1.000070e+09</td>\n",
       "      <td>0.315600</td>\n",
       "      <td>1.000000</td>\n",
       "      <td>26.000000</td>\n",
       "      <td>0.009232</td>\n",
       "      <td>1.000000</td>\n",
       "      <td>0.000000</td>\n",
       "      <td>2.000000</td>\n",
       "      <td>0.000000</td>\n",
       "      <td>0.000000</td>\n",
       "      <td>...</td>\n",
       "      <td>0.000000</td>\n",
       "      <td>0.000000</td>\n",
       "      <td>0.00000</td>\n",
       "      <td>2.000000</td>\n",
       "      <td>0.000000</td>\n",
       "      <td>0.000000</td>\n",
       "      <td>0.000000</td>\n",
       "      <td>0.000000</td>\n",
       "      <td>0.000000</td>\n",
       "      <td>0.000000</td>\n",
       "    </tr>\n",
       "    <tr>\n",
       "      <th>25%</th>\n",
       "      <td>2.037130e+09</td>\n",
       "      <td>9.665155</td>\n",
       "      <td>3.000000</td>\n",
       "      <td>745.000000</td>\n",
       "      <td>1.000000</td>\n",
       "      <td>2.500000</td>\n",
       "      <td>1.900000</td>\n",
       "      <td>86.000000</td>\n",
       "      <td>0.000000</td>\n",
       "      <td>0.000000</td>\n",
       "      <td>...</td>\n",
       "      <td>0.000000</td>\n",
       "      <td>1.000000</td>\n",
       "      <td>1.00000</td>\n",
       "      <td>27.174765</td>\n",
       "      <td>0.000000</td>\n",
       "      <td>0.000000</td>\n",
       "      <td>0.000000</td>\n",
       "      <td>0.000000</td>\n",
       "      <td>0.000000</td>\n",
       "      <td>0.000000</td>\n",
       "    </tr>\n",
       "    <tr>\n",
       "      <th>50%</th>\n",
       "      <td>3.023030e+09</td>\n",
       "      <td>14.950067</td>\n",
       "      <td>4.000000</td>\n",
       "      <td>900.000000</td>\n",
       "      <td>1.000000</td>\n",
       "      <td>3.000000</td>\n",
       "      <td>2.444444</td>\n",
       "      <td>92.000000</td>\n",
       "      <td>0.000000</td>\n",
       "      <td>0.000000</td>\n",
       "      <td>...</td>\n",
       "      <td>0.000000</td>\n",
       "      <td>1.000000</td>\n",
       "      <td>1.00000</td>\n",
       "      <td>27.174765</td>\n",
       "      <td>0.000000</td>\n",
       "      <td>0.000000</td>\n",
       "      <td>0.000000</td>\n",
       "      <td>0.000000</td>\n",
       "      <td>0.000000</td>\n",
       "      <td>0.000000</td>\n",
       "    </tr>\n",
       "    <tr>\n",
       "      <th>75%</th>\n",
       "      <td>3.071688e+09</td>\n",
       "      <td>26.052529</td>\n",
       "      <td>9.000000</td>\n",
       "      <td>1120.000000</td>\n",
       "      <td>1.000000</td>\n",
       "      <td>4.000000</td>\n",
       "      <td>3.000000</td>\n",
       "      <td>107.000000</td>\n",
       "      <td>0.000000</td>\n",
       "      <td>0.000000</td>\n",
       "      <td>...</td>\n",
       "      <td>0.000000</td>\n",
       "      <td>1.000000</td>\n",
       "      <td>1.00000</td>\n",
       "      <td>27.174765</td>\n",
       "      <td>1.000000</td>\n",
       "      <td>0.000000</td>\n",
       "      <td>0.000000</td>\n",
       "      <td>0.000000</td>\n",
       "      <td>0.000000</td>\n",
       "      <td>0.000000</td>\n",
       "    </tr>\n",
       "    <tr>\n",
       "      <th>max</th>\n",
       "      <td>5.080500e+09</td>\n",
       "      <td>3775.858779</td>\n",
       "      <td>5860.000000</td>\n",
       "      <td>330434.000000</td>\n",
       "      <td>15.071305</td>\n",
       "      <td>76.000000</td>\n",
       "      <td>331.823529</td>\n",
       "      <td>219.000000</td>\n",
       "      <td>1.000000</td>\n",
       "      <td>1.000000</td>\n",
       "      <td>...</td>\n",
       "      <td>20.250000</td>\n",
       "      <td>1.000000</td>\n",
       "      <td>1.00000</td>\n",
       "      <td>2012.000000</td>\n",
       "      <td>1.000000</td>\n",
       "      <td>1.000000</td>\n",
       "      <td>1.000000</td>\n",
       "      <td>1.000000</td>\n",
       "      <td>1.000000</td>\n",
       "      <td>1.000000</td>\n",
       "    </tr>\n",
       "  </tbody>\n",
       "</table>\n",
       "<p>8 rows × 29 columns</p>\n",
       "</div>"
      ],
      "text/plain": [
       "                BBL     AssessSqft       UnitsRes  ResArea_perunit  \\\n",
       "count  1.388620e+05  138862.000000  138862.000000    138862.000000   \n",
       "mean   2.782979e+09      24.915142      14.520711       986.590534   \n",
       "std    1.034708e+09      31.273412      45.622941      1060.044417   \n",
       "min    1.000070e+09       0.315600       1.000000        26.000000   \n",
       "25%    2.037130e+09       9.665155       3.000000       745.000000   \n",
       "50%    3.023030e+09      14.950067       4.000000       900.000000   \n",
       "75%    3.071688e+09      26.052529       9.000000      1120.000000   \n",
       "max    5.080500e+09    3775.858779    5860.000000    330434.000000   \n",
       "\n",
       "               Res_r      NumFloors       Bldg_nrr        BldgAge  \\\n",
       "count  138862.000000  138862.000000  138862.000000  138862.000000   \n",
       "mean        0.950295       3.673191       2.424622      85.507259   \n",
       "std         0.126208       2.623617       1.535914      30.144591   \n",
       "min         0.009232       1.000000       0.000000       2.000000   \n",
       "25%         1.000000       2.500000       1.900000      86.000000   \n",
       "50%         1.000000       3.000000       2.444444      92.000000   \n",
       "75%         1.000000       4.000000       3.000000     107.000000   \n",
       "max        15.071305      76.000000     331.823529     219.000000   \n",
       "\n",
       "                bc_1           bc_2      ...        Avg_season_vio  \\\n",
       "count  138862.000000  138862.000000      ...         138862.000000   \n",
       "mean        0.016232       0.058396      ...              0.090617   \n",
       "std         0.126367       0.234492      ...              0.447265   \n",
       "min         0.000000       0.000000      ...              0.000000   \n",
       "25%         0.000000       0.000000      ...              0.000000   \n",
       "50%         0.000000       0.000000      ...              0.000000   \n",
       "75%         0.000000       0.000000      ...              0.000000   \n",
       "max         1.000000       1.000000      ...             20.250000   \n",
       "\n",
       "               Agent   SiteManager     boiler_age            Ind  \\\n",
       "count  138862.000000  138862.00000  138862.000000  138862.000000   \n",
       "mean        0.756002       0.80315      27.180528       0.344104   \n",
       "std         0.429493       0.39762       8.989871       0.475077   \n",
       "min         0.000000       0.00000       2.000000       0.000000   \n",
       "25%         1.000000       1.00000      27.174765       0.000000   \n",
       "50%         1.000000       1.00000      27.174765       0.000000   \n",
       "75%         1.000000       1.00000      27.174765       1.000000   \n",
       "max         1.000000       1.00000    2012.000000       1.000000   \n",
       "\n",
       "               Joint            Off       boiler_1       boiler_2  \\\n",
       "count  138862.000000  138862.000000  138862.000000  138862.000000   \n",
       "mean        0.138303       0.030303       0.006877       0.002866   \n",
       "std         0.345219       0.171422       0.082644       0.053460   \n",
       "min         0.000000       0.000000       0.000000       0.000000   \n",
       "25%         0.000000       0.000000       0.000000       0.000000   \n",
       "50%         0.000000       0.000000       0.000000       0.000000   \n",
       "75%         0.000000       0.000000       0.000000       0.000000   \n",
       "max         1.000000       1.000000       1.000000       1.000000   \n",
       "\n",
       "          vio_binary  \n",
       "count  138862.000000  \n",
       "mean        0.103340  \n",
       "std         0.304404  \n",
       "min         0.000000  \n",
       "25%         0.000000  \n",
       "50%         0.000000  \n",
       "75%         0.000000  \n",
       "max         1.000000  \n",
       "\n",
       "[8 rows x 29 columns]"
      ]
     },
     "execution_count": 36,
     "metadata": {},
     "output_type": "execute_result"
    }
   ],
   "source": [
    "dvp.describe()"
   ]
  },
  {
   "cell_type": "markdown",
   "metadata": {},
   "source": [
    "#### continuous var relationship with dep"
   ]
  },
  {
   "cell_type": "code",
   "execution_count": 37,
   "metadata": {
    "collapsed": false,
    "scrolled": true
   },
   "outputs": [
    {
     "data": {
      "image/png": "[encoded data removed]",
      "text/plain": [
       "<matplotlib.figure.Figure at 0x153863150>"
      ]
     },
     "metadata": {},
     "output_type": "display_data"
    },
    {
     "data": {
      "image/png": "[encoded data removed]",
      "text/plain": [
       "<matplotlib.figure.Figure at 0x153a1cb50>"
      ]
     },
     "metadata": {},
     "output_type": "display_data"
    },
    {
     "data": {
      "image/png": "[encoded data removed]",
      "text/plain": [
       "<matplotlib.figure.Figure at 0x153a1cc10>"
      ]
     },
     "metadata": {},
     "output_type": "display_data"
    },
    {
     "data": {
      "image/png": "[encoded data removed]",
      "text/plain": [
       "<matplotlib.figure.Figure at 0x153a1c590>"
      ]
     },
     "metadata": {},
     "output_type": "display_data"
    },
    {
     "data": {
      "image/png": "[encoded data removed]",
      "text/plain": [
       "<matplotlib.figure.Figure at 0x11643c650>"
      ]
     },
     "metadata": {},
     "output_type": "display_data"
    },
    {
     "data": {
      "image/png": "[encoded data removed]",
      "text/plain": [
       "<matplotlib.figure.Figure at 0x1165c7350>"
      ]
     },
     "metadata": {},
     "output_type": "display_data"
    },
    {
     "data": {
      "image/png": "[encoded data removed]",
      "text/plain": [
       "<matplotlib.figure.Figure at 0x116773890>"
      ]
     },
     "metadata": {},
     "output_type": "display_data"
    }
   ],
   "source": [
    "cols = ['AssessSqft','UnitsRes', 'ResArea_perunit','Res_r','NumFloors','Bldg_nrr',\\\n",
    "       'BldgAge']\n",
    "for elem in cols:\n",
    "    plt.figure(figsize=(8,6))\n",
    "    plt.plot(dvp[elem],dvp['Sum_season_vio'], '.')\n",
    "    plt.title(elem + ' and SumSeasonalViolation')\n",
    "    plt.xlabel(elem)\n",
    "    plt.ylabel('SumSeasonalViolation')\n",
    "    plt.xlim(min(dvp[elem]),max(dvp[elem]))\n",
    "    plt.ylim(min(dvp['Sum_season_vio']),max(dvp['Sum_season_vio']))"
   ]
  },
  {
   "cell_type": "code",
   "execution_count": 38,
   "metadata": {
    "collapsed": false
   },
   "outputs": [],
   "source": [
    "dvp_dropped = dvp.drop(['Avg_season_vio','Sum_season_vio'],axis=1)"
   ]
  },
  {
   "cell_type": "code",
   "execution_count": 39,
   "metadata": {
    "collapsed": false
   },
   "outputs": [
    {
     "data": {
      "text/plain": [
       "<matplotlib.axes._subplots.AxesSubplot at 0x117bc4f90>"
      ]
     },
     "execution_count": 39,
     "metadata": {},
     "output_type": "execute_result"
    },
    {
     "data": {
      "image/png": "[encoded data removed]",
      "text/plain": [
       "<matplotlib.figure.Figure at 0x11cca8950>"
      ]
     },
     "metadata": {},
     "output_type": "display_data"
    }
   ],
   "source": [
    "corr = dvp_dropped.corr()\n",
    "\n",
    "# Generate a mask for the upper triangle\n",
    "mask = np.zeros_like(corr, dtype=np.bool)\n",
    "mask[np.triu_indices_from(mask)] = True\n",
    "\n",
    "# Set up the matplotlib figure\n",
    "f, ax = plt.subplots(figsize=(11, 9))\n",
    "\n",
    "# Generate a custom diverging colormap\n",
    "cmap = sns.diverging_palette(220, 10, as_cmap=True)\n",
    "\n",
    "# Draw the heatmap with the mask and correct aspect ratio\n",
    "sns.heatmap(corr, mask=mask, cmap=cmap, vmax=.3,\n",
    "            square=True, ax=ax)\n"
   ]
  },
  {
   "cell_type": "markdown",
   "metadata": {
    "collapsed": false
   },
   "source": [
    "#### logistic regression"
   ]
  },
  {
   "cell_type": "code",
   "execution_count": 40,
   "metadata": {
    "collapsed": false
   },
   "outputs": [
    {
     "name": "stdout",
     "output_type": "stream",
     "text": [
      "0.896659993375\n",
      "0.103340006625\n"
     ]
    }
   ],
   "source": [
    "print len(dvp[dvp['vio_binary']==0])/float(len(dvp))\n",
    "print len(dvp[dvp['vio_binary']==1])/float(len(dvp))"
   ]
  },
  {
   "cell_type": "code",
   "execution_count": 41,
   "metadata": {
    "collapsed": false
   },
   "outputs": [
    {
     "data": {
      "text/plain": [
       "Index([u'BBL', u'AssessSqft', u'UnitsRes', u'ResArea_perunit', u'Res_r',\n",
       "       u'NumFloors', u'Bldg_nrr', u'BldgAge', u'bc_1', u'bc_2', u'bc_3',\n",
       "       u'bc_4', u'bc_5', u'bc_6', u'pc_1.0', u'pc_2.0', u'bsmt_1.0',\n",
       "       u'bsmt_5.0', u'Sum_season_vio', u'Avg_season_vio', u'Agent',\n",
       "       u'SiteManager', u'boiler_age', u'Ind', u'Joint', u'Off', u'boiler_1',\n",
       "       u'boiler_2', u'vio_binary'],\n",
       "      dtype='object')"
      ]
     },
     "execution_count": 41,
     "metadata": {},
     "output_type": "execute_result"
    }
   ],
   "source": [
    "dvp.columns"
   ]
  },
  {
   "cell_type": "markdown",
   "metadata": {},
   "source": [
    "The percentage of correctly classified datapoints, or accuracy, can be calculated with the following formula: ACC = (TP + TN) / (TP + TN + FP + FN). The percentage of incorrectly classified datapoints over the test set can be calculated with the following formula: (FP + FN) / (TP + TN + FP + FN), or 1 - ACC."
   ]
  },
  {
   "cell_type": "code",
   "execution_count": 42,
   "metadata": {
    "collapsed": false
   },
   "outputs": [
    {
     "name": "stdout",
     "output_type": "stream",
     "text": [
      "Optimization terminated successfully.\n",
      "         Current function value: 0.288668\n",
      "         Iterations 8\n",
      "Warning: Maximum number of iterations has been exceeded.\n",
      "         Current function value: 0.291248\n",
      "         Iterations: 35\n"
     ]
    },
    {
     "name": "stderr",
     "output_type": "stream",
     "text": [
      "/Users/kristikorsberg/devel/venv/lib/python2.7/site-packages/statsmodels/base/model.py:496: ConvergenceWarning: Maximum Likelihood optimization failed to converge. Check mle_retvals\n",
      "  \"Check mle_retvals\", ConvergenceWarning)\n"
     ]
    },
    {
     "name": "stdout",
     "output_type": "stream",
     "text": [
      "Optimization terminated successfully.\n",
      "         Current function value: 0.288912\n",
      "         Iterations 8\n",
      "Warning: Maximum number of iterations has been exceeded.\n",
      "         Current function value: 0.289511\n",
      "         Iterations: 35\n"
     ]
    },
    {
     "name": "stderr",
     "output_type": "stream",
     "text": [
      "/Users/kristikorsberg/devel/venv/lib/python2.7/site-packages/statsmodels/base/model.py:496: ConvergenceWarning: Maximum Likelihood optimization failed to converge. Check mle_retvals\n",
      "  \"Check mle_retvals\", ConvergenceWarning)\n"
     ]
    },
    {
     "name": "stdout",
     "output_type": "stream",
     "text": [
      "Optimization terminated successfully.\n",
      "         Current function value: 0.289881\n",
      "         Iterations 11\n",
      "Optimization terminated successfully.\n",
      "         Current function value: 0.289083\n",
      "         Iterations 8\n",
      "Optimization terminated successfully.\n",
      "         Current function value: 0.290387\n",
      "         Iterations 8\n",
      "Optimization terminated successfully.\n",
      "         Current function value: 0.287416\n",
      "         Iterations 8\n",
      "Optimization terminated successfully.\n",
      "         Current function value: 0.290115\n",
      "         Iterations 8\n",
      "Optimization terminated successfully.\n",
      "         Current function value: 0.288208\n",
      "         Iterations 8\n",
      "Optimization terminated successfully.\n",
      "         Current function value: 0.289918\n",
      "         Iterations 8\n",
      "Warning: Maximum number of iterations has been exceeded.\n",
      "         Current function value: 0.292036\n",
      "         Iterations: 35\n"
     ]
    },
    {
     "name": "stderr",
     "output_type": "stream",
     "text": [
      "/Users/kristikorsberg/devel/venv/lib/python2.7/site-packages/statsmodels/base/model.py:496: ConvergenceWarning: Maximum Likelihood optimization failed to converge. Check mle_retvals\n",
      "  \"Check mle_retvals\", ConvergenceWarning)\n"
     ]
    },
    {
     "name": "stdout",
     "output_type": "stream",
     "text": [
      "Warning: Maximum number of iterations has been exceeded.\n",
      "         Current function value: 0.290001\n",
      "         Iterations: 35\n"
     ]
    },
    {
     "name": "stderr",
     "output_type": "stream",
     "text": [
      "/Users/kristikorsberg/devel/venv/lib/python2.7/site-packages/statsmodels/base/model.py:496: ConvergenceWarning: Maximum Likelihood optimization failed to converge. Check mle_retvals\n",
      "  \"Check mle_retvals\", ConvergenceWarning)\n"
     ]
    },
    {
     "name": "stdout",
     "output_type": "stream",
     "text": [
      "Optimization terminated successfully.\n",
      "         Current function value: 0.290055\n",
      "         Iterations 8\n",
      "Optimization terminated successfully.\n",
      "         Current function value: 0.289729\n",
      "         Iterations 8\n",
      "Average in sample psuedo rsquared: 0.129354228496\n",
      "Average percentage of correctly classified out of sample data points: 0.896709947263\n",
      "Average percentage of incorrectly classified out of sample data points: 0.103290052737\n",
      "Average FP: 40.2666666667\n",
      "Average FN: 4693.0\n",
      "TN:  41062\n",
      "FN: 4691\n",
      "TP:  32\n",
      "FP:  40\n",
      "Sensitivity: 0.00677535464747\n",
      "Precision: 0.444444444444\n",
      "[[41062    40]\n",
      " [ 4691    32]]\n"
     ]
    }
   ],
   "source": [
    "X = dvp.loc[:,['AssessSqft', 'UnitsRes', 'ResArea_perunit', 'Res_r', \\\n",
    "               'NumFloors', 'Bldg_nrr', 'BldgAge', 'bc_1', 'bc_2', \\\n",
    "               'bc_3', 'bc_4', 'bc_5', 'bc_6', 'pc_1.0', 'pc_2.0', \\\n",
    "               'bsmt_1.0', 'bsmt_5.0', 'Agent', 'SiteManager', \\\n",
    "               'boiler_age', 'Ind', 'Joint', 'Off', 'boiler_1', 'boiler_2']]\n",
    "y = dvp.loc[:,['vio_binary']]\n",
    "is_rsquared = []\n",
    "os_acc = []\n",
    "os_inacc = []\n",
    "TN = []\n",
    "FN = []\n",
    "TP = []\n",
    "FP = []\n",
    "for i in np.arange(1,300,20):\n",
    "    X_train, X_test, y_train, y_test = train_test_split(X, y, test_size=0.33, random_state=i)\n",
    "    mod = smf.Logit(y_train, X_train)\n",
    "    res = mod.fit()\n",
    "    is_rsquared.append(res.prsquared)\n",
    "    y_pred = res.predict(X_test)\n",
    "    results = pd.concat([y_test,y_pred],axis=1)\n",
    "    results = results.rename(columns={0:'y_pred'})\n",
    "    results['vio_pred'] = [1 if x >= 0.5 else 0 for x in y_pred]\n",
    "    confusion = confusion_matrix(results['vio_binary'], results['vio_pred'])\n",
    "    TN.append(confusion[0][0])\n",
    "    FN.append(confusion[1][0])\n",
    "    TP.append(confusion[1][1])\n",
    "    FP.append(confusion[0][1])\n",
    "    os_acc.append((confusion[1][1]+confusion[0][0])/float((confusion[0][0]+confusion[1][0]+confusion[1][1]+confusion[0][1])))\n",
    "    os_inacc.append((confusion[1][0]+confusion[0][1])/float((confusion[0][0]+confusion[1][0]+confusion[1][1]+confusion[0][1])))\n",
    "print 'Average in sample psuedo rsquared: '+str(np.mean(is_rsquared))\n",
    "print 'Average percentage of correctly classified out of sample data points: '+str(np.mean(os_acc))\n",
    "print 'Average percentage of incorrectly classified out of sample data points: '+str(np.mean(os_inacc))\n",
    "print 'Average FP: '+str(np.mean(FP))\n",
    "print 'Average FN: '+str(np.mean(FN))\n",
    "print 'TN: ', confusion[0][0]\n",
    "print 'FN:', confusion[1][0]\n",
    "print 'TP: ', confusion[1][1]\n",
    "print 'FP: ', confusion[0][1]\n",
    "print 'Sensitivity: '+str(confusion[1][1]/float((confusion[1][1]+confusion[1][0])))\n",
    "print 'Precision: '+str(confusion[1][1]/float((confusion[1][1]+confusion[0][1])))\n",
    "print confusion"
   ]
  },
  {
   "cell_type": "code",
   "execution_count": 43,
   "metadata": {
    "collapsed": false
   },
   "outputs": [
    {
     "name": "stderr",
     "output_type": "stream",
     "text": [
      "/Users/kristikorsberg/devel/venv/lib/python2.7/site-packages/sklearn/utils/validation.py:526: DataConversionWarning: A column-vector y was passed when a 1d array was expected. Please change the shape of y to (n_samples, ), for example using ravel().\n",
      "  y = column_or_1d(y, warn=True)\n"
     ]
    },
    {
     "name": "stdout",
     "output_type": "stream",
     "text": [
      "0.761467807019\n"
     ]
    },
    {
     "data": {
      "image/png": "[encoded data removed]",
      "text/plain": [
       "<matplotlib.figure.Figure at 0x166b23ad0>"
      ]
     },
     "metadata": {},
     "output_type": "display_data"
    },
    {
     "data": {
      "text/plain": [
       "<ggplot: (357426665)>"
      ]
     },
     "execution_count": 43,
     "metadata": {},
     "output_type": "execute_result"
    }
   ],
   "source": [
    "from sklearn.linear_model import LogisticRegression\n",
    "from sklearn import metrics\n",
    "from ggplot import *\n",
    "X = dvp.loc[:,['AssessSqft', 'UnitsRes', 'ResArea_perunit', 'Res_r', \\\n",
    "               'NumFloors', 'Bldg_nrr', 'BldgAge', 'bc_1', 'bc_2', \\\n",
    "               'bc_3', 'bc_4', 'bc_5', 'bc_6', 'pc_1.0', 'pc_2.0', \\\n",
    "               'bsmt_1.0', 'bsmt_5.0', 'Agent', 'SiteManager', \\\n",
    "               'boiler_age', 'Ind', 'Joint', 'Off', 'boiler_1', 'boiler_2']]\n",
    "y = dvp.loc[:,['vio_binary']]\n",
    "X_train, X_test, y_train, y_test = train_test_split(X, y, test_size=0.33, random_state=10)\n",
    "clf = LogisticRegression()\n",
    "clf.fit(X_train, y_train)\n",
    "preds = clf.predict_proba(X_test)[:,1]\n",
    "fpr, tpr, _ = metrics.roc_curve(y_test, preds)\n",
    "df = pd.DataFrame(dict(fpr=fpr, tpr=tpr))\n",
    "print metrics.roc_auc_score(y_test, preds)\n",
    "ggplot(df, aes(x='fpr', y='tpr'))+geom_line()+geom_abline(linetype='dashed')"
   ]
  },
  {
   "cell_type": "markdown",
   "metadata": {},
   "source": [
    "#### try logistic regression with undersampling the majority class"
   ]
  },
  {
   "cell_type": "code",
   "execution_count": 44,
   "metadata": {
    "collapsed": false
   },
   "outputs": [
    {
     "name": "stdout",
     "output_type": "stream",
     "text": [
      "Optimization terminated successfully.\n",
      "         Current function value: 0.582533\n",
      "         Iterations 7\n",
      "Optimization terminated successfully.\n",
      "         Current function value: 0.578051\n",
      "         Iterations 7\n",
      "Optimization terminated successfully.\n",
      "         Current function value: 0.582024\n",
      "         Iterations 8\n",
      "Optimization terminated successfully.\n",
      "         Current function value: 0.579447\n",
      "         Iterations 8\n",
      "Optimization terminated successfully.\n",
      "         Current function value: 0.579529\n",
      "         Iterations 9\n",
      "Optimization terminated successfully.\n",
      "         Current function value: 0.585772\n",
      "         Iterations 8\n",
      "Optimization terminated successfully.\n",
      "         Current function value: 0.583496\n",
      "         Iterations 7\n",
      "Optimization terminated successfully.\n",
      "         Current function value: 0.581701\n",
      "         Iterations 8\n",
      "Optimization terminated successfully.\n",
      "         Current function value: 0.589319\n",
      "         Iterations 7\n",
      "Optimization terminated successfully.\n",
      "         Current function value: 0.583441\n",
      "         Iterations 9\n",
      "Optimization terminated successfully.\n",
      "         Current function value: 0.579228\n",
      "         Iterations 6\n",
      "Optimization terminated successfully.\n",
      "         Current function value: 0.578320\n",
      "         Iterations 7\n",
      "Optimization terminated successfully.\n",
      "         Current function value: 0.580953\n",
      "         Iterations 9\n",
      "Optimization terminated successfully.\n",
      "         Current function value: 0.581079\n",
      "         Iterations 8\n",
      "Optimization terminated successfully.\n",
      "         Current function value: 0.581080\n",
      "         Iterations 7\n",
      "Average in sample psuedo rsquared: 0.160730367224\n",
      "Average percentage of correctly classified out of sample data points: 0.71174462394\n",
      "Average percentage of incorrectly classified out of sample data points: 0.28825537606\n",
      "Average FP: 1543.33333333\n",
      "Average FN: 1186.73333333\n",
      "TN:  3217\n",
      "FN: 1204\n",
      "TP:  3536\n",
      "FP:  1514\n",
      "Sensitivity: 0.745991561181\n",
      "Precision: 0.700198019802\n",
      "[[3217 1514]\n",
      " [1204 3536]]\n"
     ]
    }
   ],
   "source": [
    "is_rsquared = []\n",
    "os_acc = []\n",
    "os_inacc = []\n",
    "TN = []\n",
    "FN = []\n",
    "TP = []\n",
    "FP = []\n",
    "odds = []\n",
    "pvalues = []\n",
    "for i in np.arange(1,300,20):\n",
    "    zeros = dvp[dvp['vio_binary']==0]\n",
    "    sample_zeros = zeros.sample(n=len(dvp[dvp['vio_binary']==1]))\n",
    "    newdf = pd.concat([dvp[dvp['vio_binary']==1], sample_zeros])\n",
    "    X = newdf.loc[:,['AssessSqft', 'UnitsRes', 'ResArea_perunit', 'Res_r', \\\n",
    "               'NumFloors', 'Bldg_nrr', 'BldgAge', 'bc_1', 'bc_2', \\\n",
    "               'bc_3', 'bc_4', 'pc_1.0', 'pc_2.0', \\\n",
    "               'bsmt_1.0', 'bsmt_5.0', 'Agent', 'SiteManager', \\\n",
    "               'boiler_age', 'Ind', 'Joint', 'Off', 'boiler_1', 'boiler_2']]\n",
    "    y = newdf.loc[:,['vio_binary']]\n",
    "    X_train, X_test, y_train, y_test = train_test_split(X, y, test_size=0.33, random_state=i)\n",
    "    mod = smf.Logit(y_train, X_train)\n",
    "    res = mod.fit()\n",
    "    odds.append(np.exp(res.params))\n",
    "    pvalues.append(res.pvalues)\n",
    "    is_rsquared.append(res.prsquared)\n",
    "    y_pred = res.predict(X_test)\n",
    "    results = pd.concat([y_test,y_pred],axis=1)\n",
    "    results = results.rename(columns={0:'y_pred'})\n",
    "    results['vio_pred'] = [1 if x >= 0.5 else 0 for x in y_pred]\n",
    "    confusion = confusion_matrix(results['vio_binary'], results['vio_pred'])\n",
    "    TN.append(confusion[0][0])\n",
    "    FN.append(confusion[1][0])\n",
    "    TP.append(confusion[1][1])\n",
    "    FP.append(confusion[0][1])\n",
    "    os_acc.append((confusion[1][1]+confusion[0][0])/float((confusion[0][0]+confusion[1][0]+confusion[1][1]+confusion[0][1])))\n",
    "    os_inacc.append((confusion[1][0]+confusion[0][1])/float((confusion[0][0]+confusion[1][0]+confusion[1][1]+confusion[0][1])))\n",
    "print 'Average in sample psuedo rsquared: '+str(np.mean(is_rsquared))\n",
    "print 'Average percentage of correctly classified out of sample data points: '+str(np.mean(os_acc))\n",
    "print 'Average percentage of incorrectly classified out of sample data points: '+str(np.mean(os_inacc))\n",
    "print 'Average FP: '+str(np.mean(FP))\n",
    "print 'Average FN: '+str(np.mean(FN))\n",
    "print 'TN: ', confusion[0][0]\n",
    "print 'FN:', confusion[1][0]\n",
    "print 'TP: ', confusion[1][1]\n",
    "print 'FP: ', confusion[0][1]\n",
    "print 'Sensitivity: '+str(confusion[1][1]/float((confusion[1][1]+confusion[1][0])))\n",
    "print 'Precision: '+str(confusion[1][1]/float((confusion[1][1]+confusion[0][1])))\n",
    "print confusion\n",
    "pvaluedf = pd.concat([elem for elem in pvalues],axis=1)\n",
    "pvaluedf['avg_pvalue'] = pvaluedf.mean(axis=1)\n",
    "pvaluedf = pvaluedf.reset_index()\n",
    "pvaluedf = pvaluedf[['index','avg_pvalue']]\n",
    "pvaluedf = pvaluedf.rename(columns={'index':'variable_name'})\n",
    "pvaluedf['avg_pvalue'] = pvaluedf['avg_pvalue'].map('{:,.4f}'.format)\n",
    "\n",
    "oddsdf = pd.concat([elem for elem in odds],axis=1)\n",
    "oddsdf['avg_oddsratio'] = oddsdf.mean(axis=1)\n",
    "oddsdf = oddsdf.reset_index()\n",
    "oddsdf = oddsdf[['index','avg_oddsratio']]\n",
    "oddsdf = oddsdf.rename(columns={'index':'variable_name'})\n",
    "oddsdf['avg_oddsratio'] = oddsdf['avg_oddsratio'].map('{:,.4f}'.format)"
   ]
  },
  {
   "cell_type": "code",
   "execution_count": 45,
   "metadata": {
    "collapsed": false
   },
   "outputs": [
    {
     "data": {
      "text/html": [
       "<div>\n",
       "<table border=\"1\" class=\"dataframe\">\n",
       "  <thead>\n",
       "    <tr style=\"text-align: right;\">\n",
       "      <th></th>\n",
       "      <th>variable_name</th>\n",
       "      <th>avg_pvalue</th>\n",
       "    </tr>\n",
       "  </thead>\n",
       "  <tbody>\n",
       "    <tr>\n",
       "      <th>0</th>\n",
       "      <td>AssessSqft</td>\n",
       "      <td>0.0000</td>\n",
       "    </tr>\n",
       "    <tr>\n",
       "      <th>1</th>\n",
       "      <td>UnitsRes</td>\n",
       "      <td>0.0000</td>\n",
       "    </tr>\n",
       "    <tr>\n",
       "      <th>2</th>\n",
       "      <td>ResArea_perunit</td>\n",
       "      <td>0.0000</td>\n",
       "    </tr>\n",
       "    <tr>\n",
       "      <th>3</th>\n",
       "      <td>Res_r</td>\n",
       "      <td>0.0063</td>\n",
       "    </tr>\n",
       "    <tr>\n",
       "      <th>4</th>\n",
       "      <td>NumFloors</td>\n",
       "      <td>0.0155</td>\n",
       "    </tr>\n",
       "    <tr>\n",
       "      <th>5</th>\n",
       "      <td>Bldg_nrr</td>\n",
       "      <td>0.0000</td>\n",
       "    </tr>\n",
       "    <tr>\n",
       "      <th>6</th>\n",
       "      <td>BldgAge</td>\n",
       "      <td>0.0000</td>\n",
       "    </tr>\n",
       "    <tr>\n",
       "      <th>7</th>\n",
       "      <td>bc_1</td>\n",
       "      <td>0.0035</td>\n",
       "    </tr>\n",
       "    <tr>\n",
       "      <th>8</th>\n",
       "      <td>bc_2</td>\n",
       "      <td>0.0000</td>\n",
       "    </tr>\n",
       "    <tr>\n",
       "      <th>9</th>\n",
       "      <td>bc_3</td>\n",
       "      <td>0.0000</td>\n",
       "    </tr>\n",
       "    <tr>\n",
       "      <th>10</th>\n",
       "      <td>bc_4</td>\n",
       "      <td>0.0000</td>\n",
       "    </tr>\n",
       "    <tr>\n",
       "      <th>11</th>\n",
       "      <td>pc_1.0</td>\n",
       "      <td>0.0000</td>\n",
       "    </tr>\n",
       "    <tr>\n",
       "      <th>12</th>\n",
       "      <td>pc_2.0</td>\n",
       "      <td>0.0000</td>\n",
       "    </tr>\n",
       "    <tr>\n",
       "      <th>13</th>\n",
       "      <td>bsmt_1.0</td>\n",
       "      <td>0.2220</td>\n",
       "    </tr>\n",
       "    <tr>\n",
       "      <th>14</th>\n",
       "      <td>bsmt_5.0</td>\n",
       "      <td>0.0389</td>\n",
       "    </tr>\n",
       "    <tr>\n",
       "      <th>15</th>\n",
       "      <td>Agent</td>\n",
       "      <td>0.2384</td>\n",
       "    </tr>\n",
       "    <tr>\n",
       "      <th>16</th>\n",
       "      <td>SiteManager</td>\n",
       "      <td>0.0668</td>\n",
       "    </tr>\n",
       "    <tr>\n",
       "      <th>17</th>\n",
       "      <td>boiler_age</td>\n",
       "      <td>0.5667</td>\n",
       "    </tr>\n",
       "    <tr>\n",
       "      <th>18</th>\n",
       "      <td>Ind</td>\n",
       "      <td>0.0000</td>\n",
       "    </tr>\n",
       "    <tr>\n",
       "      <th>19</th>\n",
       "      <td>Joint</td>\n",
       "      <td>0.0000</td>\n",
       "    </tr>\n",
       "    <tr>\n",
       "      <th>20</th>\n",
       "      <td>Off</td>\n",
       "      <td>0.0000</td>\n",
       "    </tr>\n",
       "    <tr>\n",
       "      <th>21</th>\n",
       "      <td>boiler_1</td>\n",
       "      <td>0.6233</td>\n",
       "    </tr>\n",
       "    <tr>\n",
       "      <th>22</th>\n",
       "      <td>boiler_2</td>\n",
       "      <td>0.4956</td>\n",
       "    </tr>\n",
       "  </tbody>\n",
       "</table>\n",
       "</div>"
      ],
      "text/plain": [
       "      variable_name avg_pvalue\n",
       "0        AssessSqft     0.0000\n",
       "1          UnitsRes     0.0000\n",
       "2   ResArea_perunit     0.0000\n",
       "3             Res_r     0.0063\n",
       "4         NumFloors     0.0155\n",
       "5          Bldg_nrr     0.0000\n",
       "6           BldgAge     0.0000\n",
       "7              bc_1     0.0035\n",
       "8              bc_2     0.0000\n",
       "9              bc_3     0.0000\n",
       "10             bc_4     0.0000\n",
       "11           pc_1.0     0.0000\n",
       "12           pc_2.0     0.0000\n",
       "13         bsmt_1.0     0.2220\n",
       "14         bsmt_5.0     0.0389\n",
       "15            Agent     0.2384\n",
       "16      SiteManager     0.0668\n",
       "17       boiler_age     0.5667\n",
       "18              Ind     0.0000\n",
       "19            Joint     0.0000\n",
       "20              Off     0.0000\n",
       "21         boiler_1     0.6233\n",
       "22         boiler_2     0.4956"
      ]
     },
     "execution_count": 45,
     "metadata": {},
     "output_type": "execute_result"
    }
   ],
   "source": [
    "pvaluedf"
   ]
  },
  {
   "cell_type": "code",
   "execution_count": 46,
   "metadata": {
    "collapsed": false
   },
   "outputs": [
    {
     "data": {
      "text/html": [
       "<div>\n",
       "<table border=\"1\" class=\"dataframe\">\n",
       "  <thead>\n",
       "    <tr style=\"text-align: right;\">\n",
       "      <th></th>\n",
       "      <th>variable_name</th>\n",
       "      <th>avg_oddsratio</th>\n",
       "    </tr>\n",
       "  </thead>\n",
       "  <tbody>\n",
       "    <tr>\n",
       "      <th>0</th>\n",
       "      <td>AssessSqft</td>\n",
       "      <td>0.9886</td>\n",
       "    </tr>\n",
       "    <tr>\n",
       "      <th>1</th>\n",
       "      <td>UnitsRes</td>\n",
       "      <td>1.0040</td>\n",
       "    </tr>\n",
       "    <tr>\n",
       "      <th>2</th>\n",
       "      <td>ResArea_perunit</td>\n",
       "      <td>0.9994</td>\n",
       "    </tr>\n",
       "    <tr>\n",
       "      <th>3</th>\n",
       "      <td>Res_r</td>\n",
       "      <td>1.5649</td>\n",
       "    </tr>\n",
       "    <tr>\n",
       "      <th>4</th>\n",
       "      <td>NumFloors</td>\n",
       "      <td>1.0397</td>\n",
       "    </tr>\n",
       "    <tr>\n",
       "      <th>5</th>\n",
       "      <td>Bldg_nrr</td>\n",
       "      <td>0.8585</td>\n",
       "    </tr>\n",
       "    <tr>\n",
       "      <th>6</th>\n",
       "      <td>BldgAge</td>\n",
       "      <td>1.0060</td>\n",
       "    </tr>\n",
       "    <tr>\n",
       "      <th>7</th>\n",
       "      <td>bc_1</td>\n",
       "      <td>2.1788</td>\n",
       "    </tr>\n",
       "    <tr>\n",
       "      <th>8</th>\n",
       "      <td>bc_2</td>\n",
       "      <td>3.1599</td>\n",
       "    </tr>\n",
       "    <tr>\n",
       "      <th>9</th>\n",
       "      <td>bc_3</td>\n",
       "      <td>2.4403</td>\n",
       "    </tr>\n",
       "    <tr>\n",
       "      <th>10</th>\n",
       "      <td>bc_4</td>\n",
       "      <td>3.2552</td>\n",
       "    </tr>\n",
       "    <tr>\n",
       "      <th>11</th>\n",
       "      <td>pc_1.0</td>\n",
       "      <td>0.5964</td>\n",
       "    </tr>\n",
       "    <tr>\n",
       "      <th>12</th>\n",
       "      <td>pc_2.0</td>\n",
       "      <td>0.6097</td>\n",
       "    </tr>\n",
       "    <tr>\n",
       "      <th>13</th>\n",
       "      <td>bsmt_1.0</td>\n",
       "      <td>0.8835</td>\n",
       "    </tr>\n",
       "    <tr>\n",
       "      <th>14</th>\n",
       "      <td>bsmt_5.0</td>\n",
       "      <td>0.7848</td>\n",
       "    </tr>\n",
       "    <tr>\n",
       "      <th>15</th>\n",
       "      <td>Agent</td>\n",
       "      <td>1.0989</td>\n",
       "    </tr>\n",
       "    <tr>\n",
       "      <th>16</th>\n",
       "      <td>SiteManager</td>\n",
       "      <td>0.9069</td>\n",
       "    </tr>\n",
       "    <tr>\n",
       "      <th>17</th>\n",
       "      <td>boiler_age</td>\n",
       "      <td>1.0020</td>\n",
       "    </tr>\n",
       "    <tr>\n",
       "      <th>18</th>\n",
       "      <td>Ind</td>\n",
       "      <td>0.2707</td>\n",
       "    </tr>\n",
       "    <tr>\n",
       "      <th>19</th>\n",
       "      <td>Joint</td>\n",
       "      <td>0.1774</td>\n",
       "    </tr>\n",
       "    <tr>\n",
       "      <th>20</th>\n",
       "      <td>Off</td>\n",
       "      <td>0.1238</td>\n",
       "    </tr>\n",
       "    <tr>\n",
       "      <th>21</th>\n",
       "      <td>boiler_1</td>\n",
       "      <td>0.9850</td>\n",
       "    </tr>\n",
       "    <tr>\n",
       "      <th>22</th>\n",
       "      <td>boiler_2</td>\n",
       "      <td>0.8850</td>\n",
       "    </tr>\n",
       "  </tbody>\n",
       "</table>\n",
       "</div>"
      ],
      "text/plain": [
       "      variable_name avg_oddsratio\n",
       "0        AssessSqft        0.9886\n",
       "1          UnitsRes        1.0040\n",
       "2   ResArea_perunit        0.9994\n",
       "3             Res_r        1.5649\n",
       "4         NumFloors        1.0397\n",
       "5          Bldg_nrr        0.8585\n",
       "6           BldgAge        1.0060\n",
       "7              bc_1        2.1788\n",
       "8              bc_2        3.1599\n",
       "9              bc_3        2.4403\n",
       "10             bc_4        3.2552\n",
       "11           pc_1.0        0.5964\n",
       "12           pc_2.0        0.6097\n",
       "13         bsmt_1.0        0.8835\n",
       "14         bsmt_5.0        0.7848\n",
       "15            Agent        1.0989\n",
       "16      SiteManager        0.9069\n",
       "17       boiler_age        1.0020\n",
       "18              Ind        0.2707\n",
       "19            Joint        0.1774\n",
       "20              Off        0.1238\n",
       "21         boiler_1        0.9850\n",
       "22         boiler_2        0.8850"
      ]
     },
     "execution_count": 46,
     "metadata": {},
     "output_type": "execute_result"
    }
   ],
   "source": [
    "oddsdf"
   ]
  },
  {
   "cell_type": "code",
   "execution_count": 47,
   "metadata": {
    "collapsed": false
   },
   "outputs": [
    {
     "name": "stdout",
     "output_type": "stream",
     "text": [
      "0.772478276419\n"
     ]
    },
    {
     "data": {
      "image/png": "[encoded data removed]",
      "text/plain": [
       "<matplotlib.figure.Figure at 0x166b23a50>"
      ]
     },
     "metadata": {},
     "output_type": "display_data"
    },
    {
     "data": {
      "text/plain": [
       "<ggplot: (376120177)>"
      ]
     },
     "execution_count": 47,
     "metadata": {},
     "output_type": "execute_result"
    }
   ],
   "source": [
    "zeros = dvp[dvp['vio_binary']==0]\n",
    "sample_zeros = zeros.sample(n=len(dvp[dvp['vio_binary']==1]))\n",
    "newdf = pd.concat([dvp[dvp['vio_binary']==1], sample_zeros])\n",
    "X = newdf.loc[:,['AssessSqft', 'UnitsRes', 'ResArea_perunit', 'Res_r', \\\n",
    "               'NumFloors', 'Bldg_nrr', 'BldgAge', 'bc_1', 'bc_2', \\\n",
    "               'bc_3', 'bc_4', 'bc_5', 'bc_6', 'pc_1.0', 'pc_2.0', \\\n",
    "               'bsmt_1.0', 'bsmt_5.0', 'Agent', 'SiteManager', \\\n",
    "               'boiler_age', 'Ind', 'Joint', 'Off', 'boiler_1', 'boiler_2']]\n",
    "y = newdf.loc[:,['vio_binary']]\n",
    "X_train, X_test, y_train, y_test = train_test_split(X, y, test_size=0.33, random_state=10)\n",
    "clf = LogisticRegression()\n",
    "clf.fit(X_train, y_train)\n",
    "preds = clf.predict_proba(X_test)[:,1]\n",
    "fpr, tpr, _ = metrics.roc_curve(y_test, preds)\n",
    "df = pd.DataFrame(dict(fpr=fpr, tpr=tpr))\n",
    "print metrics.roc_auc_score(y_test, preds)\n",
    "ggplot(df, aes(x='fpr', y='tpr'))+geom_line()+geom_abline(linetype='dashed')"
   ]
  },
  {
   "cell_type": "markdown",
   "metadata": {},
   "source": [
    "#### try logistic with oversampling minority class"
   ]
  },
  {
   "cell_type": "code",
   "execution_count": 48,
   "metadata": {
    "collapsed": false
   },
   "outputs": [
    {
     "name": "stdout",
     "output_type": "stream",
     "text": [
      "Optimization terminated successfully.\n",
      "         Current function value: 0.571146\n",
      "         Iterations 9\n",
      "Optimization terminated successfully.\n",
      "         Current function value: 0.573344\n",
      "         Iterations 8\n",
      "Optimization terminated successfully.\n",
      "         Current function value: 0.572819\n",
      "         Iterations 7\n",
      "Optimization terminated successfully.\n",
      "         Current function value: 0.570111\n",
      "         Iterations 8\n",
      "Optimization terminated successfully.\n",
      "         Current function value: 0.570870\n",
      "         Iterations 8\n",
      "Optimization terminated successfully.\n",
      "         Current function value: 0.573733\n",
      "         Iterations 7\n",
      "Optimization terminated successfully.\n",
      "         Current function value: 0.573825\n",
      "         Iterations 8\n",
      "Optimization terminated successfully.\n",
      "         Current function value: 0.574410\n",
      "         Iterations 7\n",
      "Optimization terminated successfully.\n",
      "         Current function value: 0.571971\n",
      "         Iterations 8\n",
      "Optimization terminated successfully.\n",
      "         Current function value: 0.570053\n",
      "         Iterations 8\n",
      "Optimization terminated successfully.\n",
      "         Current function value: 0.572096\n",
      "         Iterations 6\n",
      "Optimization terminated successfully.\n",
      "         Current function value: 0.575335\n",
      "         Iterations 8\n",
      "Optimization terminated successfully.\n",
      "         Current function value: 0.572877\n",
      "         Iterations 8\n",
      "Optimization terminated successfully.\n",
      "         Current function value: 0.572309\n",
      "         Iterations 8\n",
      "Optimization terminated successfully.\n",
      "         Current function value: 0.573497\n",
      "         Iterations 8\n",
      "Average in sample psuedo rsquared: 0.173970946334\n",
      "Average percentage of correctly classified out of sample data points: 0.677494817239\n",
      "Average percentage of incorrectly classified out of sample data points: 0.322505182761\n",
      "Average FP: 13585.4666667\n",
      "Average FN: 1193.33333333\n",
      "TN:  27573\n",
      "FN: 1197\n",
      "TP:  3526\n",
      "FP:  13529\n",
      "Sensitivity: 0.746559390218\n",
      "Precision: 0.206742890648\n",
      "[[27573 13529]\n",
      " [ 1197  3526]]\n"
     ]
    }
   ],
   "source": [
    "X = dvp.loc[:,['AssessSqft', 'UnitsRes', 'ResArea_perunit', 'Res_r', \\\n",
    "               'NumFloors', 'Bldg_nrr', 'BldgAge', 'bc_1', 'bc_2', \\\n",
    "               'bc_3', 'bc_4', 'bc_5', 'bc_6', 'pc_1.0', 'pc_2.0', \\\n",
    "               'bsmt_1.0', 'bsmt_5.0', 'Agent', 'SiteManager', \\\n",
    "               'boiler_age', 'Ind', 'Joint', 'Off', 'boiler_1', 'boiler_2']]\n",
    "y = dvp.loc[:,['vio_binary']]\n",
    "is_rsquared = []\n",
    "os_acc = []\n",
    "os_inacc = []\n",
    "TN = []\n",
    "FN = []\n",
    "TP = []\n",
    "FP = []\n",
    "for i in np.arange(1,300,20):\n",
    "    X_train, X_test, y_train, y_test = train_test_split(X, y, test_size=0.33, random_state=i)\n",
    "    sm = SMOTE(random_state=i, ratio = 1.0)\n",
    "    X_train_res, y_train_res = sm.fit_sample(X_train, y_train)\n",
    "    mod = smf.Logit(y_train_res, X_train_res)\n",
    "    res = mod.fit()\n",
    "    is_rsquared.append(res.prsquared)\n",
    "    y_pred = res.predict(X_test)\n",
    "    results = pd.concat([y_test,y_pred],axis=1)\n",
    "    results = results.rename(columns={0:'y_pred'})\n",
    "    results['vio_pred'] = [1 if x >= 0.5 else 0 for x in y_pred]\n",
    "    confusion = confusion_matrix(results['vio_binary'], results['vio_pred'])\n",
    "    TN.append(confusion[0][0])\n",
    "    FN.append(confusion[1][0])\n",
    "    TP.append(confusion[1][1])\n",
    "    FP.append(confusion[0][1])\n",
    "    os_acc.append((confusion[1][1]+confusion[0][0])/float((confusion[0][0]+confusion[1][0]+confusion[1][1]+confusion[0][1])))\n",
    "    os_inacc.append((confusion[1][0]+confusion[0][1])/float((confusion[0][0]+confusion[1][0]+confusion[1][1]+confusion[0][1])))\n",
    "print 'Average in sample psuedo rsquared: '+str(np.mean(is_rsquared))\n",
    "print 'Average percentage of correctly classified out of sample data points: '+str(np.mean(os_acc))\n",
    "print 'Average percentage of incorrectly classified out of sample data points: '+str(np.mean(os_inacc))\n",
    "print 'Average FP: '+str(np.mean(FP))\n",
    "print 'Average FN: '+str(np.mean(FN))\n",
    "print 'TN: ', confusion[0][0]\n",
    "print 'FN:', confusion[1][0]\n",
    "print 'TP: ', confusion[1][1]\n",
    "print 'FP: ', confusion[0][1]\n",
    "print 'Sensitivity: '+str(confusion[1][1]/float((confusion[1][1]+confusion[1][0])))\n",
    "print 'Precision: '+str(confusion[1][1]/float((confusion[1][1]+confusion[0][1])))\n",
    "print confusion"
   ]
  },
  {
   "cell_type": "code",
   "execution_count": 49,
   "metadata": {
    "collapsed": false
   },
   "outputs": [
    {
     "name": "stdout",
     "output_type": "stream",
     "text": [
      "0.765867000549\n"
     ]
    },
    {
     "data": {
      "image/png": "[encoded data removed]",
      "text/plain": [
       "<matplotlib.figure.Figure at 0x152691b90>"
      ]
     },
     "metadata": {},
     "output_type": "display_data"
    },
    {
     "data": {
      "text/plain": [
       "<ggplot: (357464521)>"
      ]
     },
     "execution_count": 49,
     "metadata": {},
     "output_type": "execute_result"
    }
   ],
   "source": [
    "X_train, X_test, y_train, y_test = train_test_split(X, y, test_size=0.33, random_state=10)\n",
    "sm = SMOTE(random_state=i, ratio = 1.0)\n",
    "X_train_res, y_train_res = sm.fit_sample(X_train, y_train)\n",
    "clf = LogisticRegression()\n",
    "clf.fit(X_train_res, y_train_res)\n",
    "preds = clf.predict_proba(X_test)[:,1]\n",
    "fpr, tpr, _ = metrics.roc_curve(y_test, preds)\n",
    "df = pd.DataFrame(dict(fpr=fpr, tpr=tpr))\n",
    "print metrics.roc_auc_score(y_test, preds)\n",
    "ggplot(df, aes(x='fpr', y='tpr'))+geom_line()+geom_abline(linetype='dashed')"
   ]
  }
 ],
 "metadata": {
  "kernelspec": {
   "display_name": "Python 2",
   "language": "python",
   "name": "python2"
  },
  "language_info": {
   "codemirror_mode": {
    "name": "ipython",
    "version": 2
   },
   "file_extension": ".py",
   "mimetype": "text/x-python",
   "name": "python",
   "nbconvert_exporter": "python",
   "pygments_lexer": "ipython2",
   "version": "2.7.12"
  }
 },
 "nbformat": 4,
 "nbformat_minor": 1
}
