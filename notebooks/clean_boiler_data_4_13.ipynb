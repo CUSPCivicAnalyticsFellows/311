{
 "cells": [
  {
   "cell_type": "code",
   "execution_count": 1,
   "metadata": {
    "collapsed": true
   },
   "outputs": [],
   "source": [
    "import pandas as pd\n",
    "import numpy as np"
   ]
  },
  {
   "cell_type": "code",
   "execution_count": 2,
   "metadata": {
    "collapsed": false
   },
   "outputs": [
    {
     "data": {
      "text/plain": [
       "u'/Users/kristikorsberg/devel/MacArthur/311/notebooks'"
      ]
     },
     "execution_count": 2,
     "metadata": {},
     "output_type": "execute_result"
    }
   ],
   "source": [
    "pwd"
   ]
  },
  {
   "cell_type": "code",
   "execution_count": 3,
   "metadata": {
    "collapsed": false
   },
   "outputs": [
    {
     "data": {
      "text/html": [
       "<div>\n",
       "<table border=\"1\" class=\"dataframe\">\n",
       "  <thead>\n",
       "    <tr style=\"text-align: right;\">\n",
       "      <th></th>\n",
       "      <th>Borough, Block and Lot #</th>\n",
       "      <th>Facility Address</th>\n",
       "      <th>Natural Gas Utility (Con Edison or National Grid</th>\n",
       "      <th>Building Manager</th>\n",
       "      <th>Owner</th>\n",
       "      <th>Owner Address</th>\n",
       "      <th>DEP Boiler Application #</th>\n",
       "      <th>Deadline for phasing out #6 oil (i.e. data of next DEP permit renewal after July 1 2012)</th>\n",
       "      <th>Boiler Model</th>\n",
       "      <th>Number of identical boilers</th>\n",
       "      <th>...</th>\n",
       "      <th>Building Type</th>\n",
       "      <th>City Council District</th>\n",
       "      <th>Total area of buildings on lot</th>\n",
       "      <th>Number of buildings on property (tax lot)</th>\n",
       "      <th>Number of floors</th>\n",
       "      <th>Number of residential units</th>\n",
       "      <th>Number of total units</th>\n",
       "      <th>Year constructed</th>\n",
       "      <th>Condominium housing?</th>\n",
       "      <th>Cooperative housing?</th>\n",
       "    </tr>\n",
       "  </thead>\n",
       "  <tbody>\n",
       "    <tr>\n",
       "      <th>8768</th>\n",
       "      <td>4.064820e+09</td>\n",
       "      <td>137 45 68 DRIVE\\nQueens, NY 11367\\n(40.7303230...</td>\n",
       "      <td>National Grid</td>\n",
       "      <td>HYDE PARK GARDENS/METRO MGMT</td>\n",
       "      <td>DAVID TILLMAN</td>\n",
       "      <td>137 07 JEWEL AVENUE\\nQUEENS, NY 11367\\n(40.730...</td>\n",
       "      <td>CA138597K</td>\n",
       "      <td>7/4/05</td>\n",
       "      <td>FEDERAL FST-175</td>\n",
       "      <td>1.0</td>\n",
       "      <td>...</td>\n",
       "      <td>Loft Buildings</td>\n",
       "      <td>24.0</td>\n",
       "      <td>68720.0</td>\n",
       "      <td>5.0</td>\n",
       "      <td>2.0</td>\n",
       "      <td>80.0</td>\n",
       "      <td>80.0</td>\n",
       "      <td>1950.0</td>\n",
       "      <td></td>\n",
       "      <td>YES</td>\n",
       "    </tr>\n",
       "    <tr>\n",
       "      <th>8769</th>\n",
       "      <td>1.005758e+09</td>\n",
       "      <td>31 11 STREET\\nManhattan, NY 10011\\n(40.7344790...</td>\n",
       "      <td>Con Edison</td>\n",
       "      <td>ARNOLD S. WARWICK &amp; CO., LTD</td>\n",
       "      <td>NaN</td>\n",
       "      <td>805 THIRD AVE\\nNEW YORK, NY 10022\\n(40.7555929...</td>\n",
       "      <td>CA308191J</td>\n",
       "      <td>7/5/05</td>\n",
       "      <td>FEDERAL  FST-60</td>\n",
       "      <td>1.0</td>\n",
       "      <td>...</td>\n",
       "      <td>Elevator Apartments</td>\n",
       "      <td>3.0</td>\n",
       "      <td>30263.0</td>\n",
       "      <td>1.0</td>\n",
       "      <td>9.0</td>\n",
       "      <td>17.0</td>\n",
       "      <td>17.0</td>\n",
       "      <td>1912.0</td>\n",
       "      <td></td>\n",
       "      <td></td>\n",
       "    </tr>\n",
       "    <tr>\n",
       "      <th>8770</th>\n",
       "      <td>1.014470e+09</td>\n",
       "      <td>355 72 STREET\\nManhattan, NY 10021\\n(40.768279...</td>\n",
       "      <td>Con Edison</td>\n",
       "      <td>EASTWOOD TOWER, C/O WALTER &amp; SAMUELS, INC.</td>\n",
       "      <td>EASTWOOD TOWERS COMPA</td>\n",
       "      <td>352 PARK AVENUE\\nMANHATTAN, NY 10010\\n(40.7418...</td>\n",
       "      <td>CA110977H</td>\n",
       "      <td>7/5/05</td>\n",
       "      <td>ROCKMILLS MP 250</td>\n",
       "      <td>1.0</td>\n",
       "      <td>...</td>\n",
       "      <td>Elevator Apartments</td>\n",
       "      <td>5.0</td>\n",
       "      <td>165527.0</td>\n",
       "      <td>2.0</td>\n",
       "      <td>19.0</td>\n",
       "      <td>144.0</td>\n",
       "      <td>145.0</td>\n",
       "      <td>1962.0</td>\n",
       "      <td></td>\n",
       "      <td></td>\n",
       "    </tr>\n",
       "    <tr>\n",
       "      <th>8771</th>\n",
       "      <td>2.031970e+09</td>\n",
       "      <td>2275 DAVIDSON AVENUE\\nBronx, NY 10468\\n(40.858...</td>\n",
       "      <td>Con Edison</td>\n",
       "      <td>CHATAN MANAGEMENT CO.INC.</td>\n",
       "      <td>PREETAN REALTY CO INC</td>\n",
       "      <td>2123 WILLIAMSBRIDGE ROAD\\nBRONX, NY 10461\\n(40...</td>\n",
       "      <td>CA332290P</td>\n",
       "      <td>7/6/05</td>\n",
       "      <td>FEDERAL FST 60</td>\n",
       "      <td>1.0</td>\n",
       "      <td>...</td>\n",
       "      <td>Walk-Up Apartments</td>\n",
       "      <td>14.0</td>\n",
       "      <td>31500.0</td>\n",
       "      <td>1.0</td>\n",
       "      <td>5.0</td>\n",
       "      <td>31.0</td>\n",
       "      <td>36.0</td>\n",
       "      <td>1927.0</td>\n",
       "      <td></td>\n",
       "      <td></td>\n",
       "    </tr>\n",
       "    <tr>\n",
       "      <th>8772</th>\n",
       "      <td>1.008230e+09</td>\n",
       "      <td>20 22 STREET\\nManhattan, NY 10010\\n(40.7404356...</td>\n",
       "      <td>Con Edison</td>\n",
       "      <td>20 WEST 22 ST.  ASSOC.LLC.</td>\n",
       "      <td>ELK REALTY LLC</td>\n",
       "      <td>200 PARK AVE\\nMANHATTAN, NY 10003\\n(40.7365835...</td>\n",
       "      <td>CA309388H</td>\n",
       "      <td>7/4/05</td>\n",
       "      <td>ROCKMILLS MP 200</td>\n",
       "      <td>1.0</td>\n",
       "      <td>...</td>\n",
       "      <td>Walk-Up Apartments</td>\n",
       "      <td>3.0</td>\n",
       "      <td>150116.0</td>\n",
       "      <td>1.0</td>\n",
       "      <td>16.0</td>\n",
       "      <td>0.0</td>\n",
       "      <td>75.0</td>\n",
       "      <td>1910.0</td>\n",
       "      <td></td>\n",
       "      <td></td>\n",
       "    </tr>\n",
       "  </tbody>\n",
       "</table>\n",
       "<p>5 rows × 33 columns</p>\n",
       "</div>"
      ],
      "text/plain": [
       "      Borough, Block and Lot #  \\\n",
       "8768              4.064820e+09   \n",
       "8769              1.005758e+09   \n",
       "8770              1.014470e+09   \n",
       "8771              2.031970e+09   \n",
       "8772              1.008230e+09   \n",
       "\n",
       "                                       Facility Address  \\\n",
       "8768  137 45 68 DRIVE\\nQueens, NY 11367\\n(40.7303230...   \n",
       "8769  31 11 STREET\\nManhattan, NY 10011\\n(40.7344790...   \n",
       "8770  355 72 STREET\\nManhattan, NY 10021\\n(40.768279...   \n",
       "8771  2275 DAVIDSON AVENUE\\nBronx, NY 10468\\n(40.858...   \n",
       "8772  20 22 STREET\\nManhattan, NY 10010\\n(40.7404356...   \n",
       "\n",
       "     Natural Gas Utility (Con Edison or National Grid  \\\n",
       "8768                                    National Grid   \n",
       "8769                                       Con Edison   \n",
       "8770                                       Con Edison   \n",
       "8771                                       Con Edison   \n",
       "8772                                       Con Edison   \n",
       "\n",
       "                                Building Manager                  Owner  \\\n",
       "8768               HYDE PARK GARDENS/METRO MGMT           DAVID TILLMAN   \n",
       "8769               ARNOLD S. WARWICK & CO., LTD                     NaN   \n",
       "8770  EASTWOOD TOWER, C/O WALTER & SAMUELS, INC.  EASTWOOD TOWERS COMPA   \n",
       "8771                   CHATAN MANAGEMENT CO.INC.  PREETAN REALTY CO INC   \n",
       "8772                  20 WEST 22 ST.  ASSOC.LLC.         ELK REALTY LLC   \n",
       "\n",
       "                                          Owner Address  \\\n",
       "8768  137 07 JEWEL AVENUE\\nQUEENS, NY 11367\\n(40.730...   \n",
       "8769  805 THIRD AVE\\nNEW YORK, NY 10022\\n(40.7555929...   \n",
       "8770  352 PARK AVENUE\\nMANHATTAN, NY 10010\\n(40.7418...   \n",
       "8771  2123 WILLIAMSBRIDGE ROAD\\nBRONX, NY 10461\\n(40...   \n",
       "8772  200 PARK AVE\\nMANHATTAN, NY 10003\\n(40.7365835...   \n",
       "\n",
       "     DEP Boiler Application #  \\\n",
       "8768                CA138597K   \n",
       "8769                CA308191J   \n",
       "8770                CA110977H   \n",
       "8771                CA332290P   \n",
       "8772                CA309388H   \n",
       "\n",
       "     Deadline for phasing out #6 oil (i.e. data of next DEP permit renewal after July 1 2012)  \\\n",
       "8768                                             7/4/05                                         \n",
       "8769                                             7/5/05                                         \n",
       "8770                                             7/5/05                                         \n",
       "8771                                             7/6/05                                         \n",
       "8772                                             7/4/05                                         \n",
       "\n",
       "          Boiler Model  Number of identical boilers          ...           \\\n",
       "8768   FEDERAL FST-175                          1.0          ...            \n",
       "8769   FEDERAL  FST-60                          1.0          ...            \n",
       "8770  ROCKMILLS MP 250                          1.0          ...            \n",
       "8771    FEDERAL FST 60                          1.0          ...            \n",
       "8772  ROCKMILLS MP 200                          1.0          ...            \n",
       "\n",
       "            Building Type  City Council District  \\\n",
       "8768       Loft Buildings                   24.0   \n",
       "8769  Elevator Apartments                    3.0   \n",
       "8770  Elevator Apartments                    5.0   \n",
       "8771   Walk-Up Apartments                   14.0   \n",
       "8772   Walk-Up Apartments                    3.0   \n",
       "\n",
       "      Total area of buildings on lot  \\\n",
       "8768                         68720.0   \n",
       "8769                         30263.0   \n",
       "8770                        165527.0   \n",
       "8771                         31500.0   \n",
       "8772                        150116.0   \n",
       "\n",
       "     Number of buildings on property (tax lot) Number of floors  \\\n",
       "8768                                       5.0              2.0   \n",
       "8769                                       1.0              9.0   \n",
       "8770                                       2.0             19.0   \n",
       "8771                                       1.0              5.0   \n",
       "8772                                       1.0             16.0   \n",
       "\n",
       "     Number of residential units Number of total units  Year constructed  \\\n",
       "8768                        80.0                  80.0            1950.0   \n",
       "8769                        17.0                  17.0            1912.0   \n",
       "8770                       144.0                 145.0            1962.0   \n",
       "8771                        31.0                  36.0            1927.0   \n",
       "8772                         0.0                  75.0            1910.0   \n",
       "\n",
       "      Condominium housing?  Cooperative housing?  \n",
       "8768                                         YES  \n",
       "8769                                              \n",
       "8770                                              \n",
       "8771                                              \n",
       "8772                                              \n",
       "\n",
       "[5 rows x 33 columns]"
      ]
     },
     "execution_count": 3,
     "metadata": {},
     "output_type": "execute_result"
    }
   ],
   "source": [
    "boilers = pd.read_csv('../data_initial/Oil_Boilers_-_Detailed_Fuel_Consumption_and_Building_Data.csv')\n",
    "boilers.tail(5)"
   ]
  },
  {
   "cell_type": "code",
   "execution_count": 4,
   "metadata": {
    "collapsed": false
   },
   "outputs": [],
   "source": [
    "boilers = boilers.iloc[725:,:]"
   ]
  },
  {
   "cell_type": "code",
   "execution_count": 5,
   "metadata": {
    "collapsed": false
   },
   "outputs": [
    {
     "data": {
      "text/plain": [
       "Borough, Block and Lot #                                                                       0\n",
       "Facility Address                                                                               3\n",
       "Natural Gas Utility (Con Edison or National Grid                                               0\n",
       "Building Manager                                                                               0\n",
       "Owner                                                                                        202\n",
       "Owner Address                                                                                240\n",
       "DEP Boiler Application #                                                                       0\n",
       "Deadline for phasing out #6 oil (i.e. data of next DEP permit renewal after July 1 2012)     170\n",
       "Boiler Model                                                                                   8\n",
       "Number of identical boilers                                                                    0\n",
       "Boiler capacity (Gross BTU)                                                                    0\n",
       "Boiler Installation Date                                                                       0\n",
       "Estimated retirement date of boiler (assuming 35 year average useful life)                     0\n",
       "Is boiler dual fuel capable?                                                                   0\n",
       "Age range of boiler                                                                            0\n",
       "Burner Model                                                                                   8\n",
       "Primary Fuel                                                                                   0\n",
       "Total Estimated Cosumption - High Estimate (Gallons)                                           0\n",
       "Total Estimated Cosumption - Low Estimate (Gallons)                                            0\n",
       "Total Estimated Cosumption - High Estimate (MMBTUs)                                            0\n",
       "Total Estimated Cosumption - Low Estimate  (MMBTUs)                                            0\n",
       "Needs to comply with Greener Greater Buildings Laws?                                        2757\n",
       "Deadline for complying with Audit and Retrocommissioning Law                                2757\n",
       "Building Type                                                                                  0\n",
       "City Council District                                                                          0\n",
       "Total area of buildings on lot                                                                 0\n",
       "Number of buildings on property (tax lot)                                                      0\n",
       "Number of floors                                                                               0\n",
       "Number of residential units                                                                    0\n",
       "Number of total units                                                                          0\n",
       "Year constructed                                                                               0\n",
       "Condominium housing?                                                                           0\n",
       "Cooperative housing?                                                                           0\n",
       "dtype: int64"
      ]
     },
     "execution_count": 5,
     "metadata": {},
     "output_type": "execute_result"
    }
   ],
   "source": [
    "boilers.isnull().sum()"
   ]
  },
  {
   "cell_type": "code",
   "execution_count": 6,
   "metadata": {
    "collapsed": false
   },
   "outputs": [
    {
     "data": {
      "text/plain": [
       "Index([u'Borough, Block and Lot #', u'Facility Address',\n",
       "       u'Natural Gas Utility (Con Edison or National Grid',\n",
       "       u'Building Manager', u'Owner', u'Owner Address',\n",
       "       u'DEP Boiler Application #',\n",
       "       u'Deadline for phasing out #6 oil (i.e. data of next DEP permit renewal after July 1 2012)',\n",
       "       u'Boiler Model', u'Number of identical boilers',\n",
       "       u'Boiler capacity (Gross BTU)', u'Boiler Installation Date',\n",
       "       u'Estimated retirement date of boiler (assuming 35 year average useful life)',\n",
       "       u'Is boiler dual fuel capable?', u'Age range of boiler',\n",
       "       u'Burner Model', u'Primary Fuel',\n",
       "       u'Total Estimated Cosumption - High Estimate (Gallons) ',\n",
       "       u'Total Estimated Cosumption - Low Estimate (Gallons) ',\n",
       "       u'Total Estimated Cosumption - High Estimate (MMBTUs) ',\n",
       "       u'Total Estimated Cosumption - Low Estimate  (MMBTUs) ',\n",
       "       u'Needs to comply with Greener Greater Buildings Laws?',\n",
       "       u'Deadline for complying with Audit and Retrocommissioning Law',\n",
       "       u'Building Type', u'City Council District',\n",
       "       u'Total area of buildings on lot',\n",
       "       u'Number of buildings on property (tax lot)', u'Number of floors',\n",
       "       u'Number of residential units', u'Number of total units',\n",
       "       u'Year constructed', u'Condominium housing?', u'Cooperative housing?'],\n",
       "      dtype='object')"
      ]
     },
     "execution_count": 6,
     "metadata": {},
     "output_type": "execute_result"
    }
   ],
   "source": [
    "boilers.columns"
   ]
  },
  {
   "cell_type": "code",
   "execution_count": 7,
   "metadata": {
    "collapsed": false
   },
   "outputs": [
    {
     "data": {
      "text/plain": [
       "8048"
      ]
     },
     "execution_count": 7,
     "metadata": {},
     "output_type": "execute_result"
    }
   ],
   "source": [
    "len(boilers)"
   ]
  },
  {
   "cell_type": "code",
   "execution_count": 8,
   "metadata": {
    "collapsed": true
   },
   "outputs": [],
   "source": [
    "boilers = boilers.rename(columns={'Natural Gas Utility (Con Edison or National Grid':'Con Edison or National Grid',\\\n",
    "                                 'Deadline for phasing out #6 oil (i.e. data of next DEP permit renewal after July 1 2012)':\\\n",
    "                                 'Date Next DEP Permit Renewal post 7/1/12', 'Estimated retirement date of boiler (assuming 35 year average useful life)':\\\n",
    "                                 'Estimated Retirement Date of Boiler', 'Total Estimated Cosumption - High Estimate (Gallons) ':\\\n",
    "                                  'High Estimate of Consumption (Gal)', 'Total Estimated Cosumption - Low Estimate (Gallons) ':\\\n",
    "                                 'Low Estimate of Consumption (Gal)', 'Total Estimated Cosumption - High Estimate (MMBTUs) ':\\\n",
    "                                 'High Estimate of Consumption (MMBTUs)', 'Total Estimated Cosumption - Low Estimate  (MMBTUs) ':\\\n",
    "                                 'Low Estimate of Consumption (MMBTUs)', 'Condominium housing?':'Condo Housing', 'Cooperative housing?':\\\n",
    "                                 'Coop Housing', 'Borough, Block and Lot #':'BBL'})"
   ]
  },
  {
   "cell_type": "code",
   "execution_count": 9,
   "metadata": {
    "collapsed": false
   },
   "outputs": [
    {
     "data": {
      "text/plain": [
       "Index([u'BBL', u'Facility Address', u'Con Edison or National Grid',\n",
       "       u'Building Manager', u'Owner', u'Owner Address',\n",
       "       u'DEP Boiler Application #',\n",
       "       u'Date Next DEP Permit Renewal post 7/1/12', u'Boiler Model',\n",
       "       u'Number of identical boilers', u'Boiler capacity (Gross BTU)',\n",
       "       u'Boiler Installation Date', u'Estimated Retirement Date of Boiler',\n",
       "       u'Is boiler dual fuel capable?', u'Age range of boiler',\n",
       "       u'Burner Model', u'Primary Fuel', u'High Estimate of Consumption (Gal)',\n",
       "       u'Low Estimate of Consumption (Gal)',\n",
       "       u'High Estimate of Consumption (MMBTUs)',\n",
       "       u'Low Estimate of Consumption (MMBTUs)',\n",
       "       u'Needs to comply with Greener Greater Buildings Laws?',\n",
       "       u'Deadline for complying with Audit and Retrocommissioning Law',\n",
       "       u'Building Type', u'City Council District',\n",
       "       u'Total area of buildings on lot',\n",
       "       u'Number of buildings on property (tax lot)', u'Number of floors',\n",
       "       u'Number of residential units', u'Number of total units',\n",
       "       u'Year constructed', u'Condo Housing', u'Coop Housing'],\n",
       "      dtype='object')"
      ]
     },
     "execution_count": 9,
     "metadata": {},
     "output_type": "execute_result"
    }
   ],
   "source": [
    "boilers.columns"
   ]
  },
  {
   "cell_type": "code",
   "execution_count": 10,
   "metadata": {
    "collapsed": false
   },
   "outputs": [],
   "source": [
    "boilers = boilers.drop(['DEP Boiler Application #', 'Number of buildings on property (tax lot)', 'Number of floors', \\\n",
    "                        'Number of residential units', u'Number of total units', \\\n",
    "                        'Year constructed', 'Condo Housing', 'Coop Housing', \\\n",
    "                       'Date Next DEP Permit Renewal post 7/1/12', 'High Estimate of Consumption (MMBTUs)', \\\n",
    "                        'Low Estimate of Consumption (MMBTUs)', 'Deadline for complying with Audit and Retrocommissioning Law', \\\n",
    "                       'Building Type', 'City Council District', 'Total area of buildings on lot', 'Facility Address', \\\n",
    "                       'Owner Address', 'Needs to comply with Greener Greater Buildings Laws?', \\\n",
    "                       'Estimated Retirement Date of Boiler', 'Number of identical boilers', 'Age range of boiler'],\\\n",
    "                       axis=1)"
   ]
  },
  {
   "cell_type": "code",
   "execution_count": 11,
   "metadata": {
    "collapsed": false
   },
   "outputs": [
    {
     "data": {
      "text/html": [
       "<div>\n",
       "<table border=\"1\" class=\"dataframe\">\n",
       "  <thead>\n",
       "    <tr style=\"text-align: right;\">\n",
       "      <th></th>\n",
       "      <th>BBL</th>\n",
       "      <th>Con Edison or National Grid</th>\n",
       "      <th>Building Manager</th>\n",
       "      <th>Owner</th>\n",
       "      <th>Boiler Model</th>\n",
       "      <th>Boiler capacity (Gross BTU)</th>\n",
       "      <th>Boiler Installation Date</th>\n",
       "      <th>Is boiler dual fuel capable?</th>\n",
       "      <th>Burner Model</th>\n",
       "      <th>Primary Fuel</th>\n",
       "      <th>High Estimate of Consumption (Gal)</th>\n",
       "      <th>Low Estimate of Consumption (Gal)</th>\n",
       "    </tr>\n",
       "  </thead>\n",
       "  <tbody>\n",
       "    <tr>\n",
       "      <th>725</th>\n",
       "      <td>1.007910e+09</td>\n",
       "      <td>Con Edison</td>\n",
       "      <td>J.C. DWIGHT #16</td>\n",
       "      <td>130 W 16 OWNERS INC</td>\n",
       "      <td>ROCKMILLS MP-70</td>\n",
       "      <td>2.8</td>\n",
       "      <td>1979.0</td>\n",
       "      <td></td>\n",
       "      <td>INDUSTRIAL COMBUSTION MEG-34S</td>\n",
       "      <td>#6</td>\n",
       "      <td>32016.0</td>\n",
       "      <td>22411.0</td>\n",
       "    </tr>\n",
       "    <tr>\n",
       "      <th>726</th>\n",
       "      <td>1.012440e+09</td>\n",
       "      <td>Con Edison</td>\n",
       "      <td>LYNDONVILLE PROPERTIES MGMT</td>\n",
       "      <td>ARNAV INDUSTIRES INC</td>\n",
       "      <td>FEDERAL FST-400</td>\n",
       "      <td>14.0</td>\n",
       "      <td>1983.0</td>\n",
       "      <td></td>\n",
       "      <td>ICI DEG 175 P</td>\n",
       "      <td>#6</td>\n",
       "      <td>146000.0</td>\n",
       "      <td>102200.0</td>\n",
       "    </tr>\n",
       "  </tbody>\n",
       "</table>\n",
       "</div>"
      ],
      "text/plain": [
       "              BBL Con Edison or National Grid             Building Manager  \\\n",
       "725  1.007910e+09                  Con Edison              J.C. DWIGHT #16   \n",
       "726  1.012440e+09                  Con Edison  LYNDONVILLE PROPERTIES MGMT   \n",
       "\n",
       "                    Owner     Boiler Model  Boiler capacity (Gross BTU)  \\\n",
       "725   130 W 16 OWNERS INC  ROCKMILLS MP-70                          2.8   \n",
       "726  ARNAV INDUSTIRES INC  FEDERAL FST-400                         14.0   \n",
       "\n",
       "     Boiler Installation Date Is boiler dual fuel capable?  \\\n",
       "725                    1979.0                                \n",
       "726                    1983.0                                \n",
       "\n",
       "                      Burner Model Primary Fuel  \\\n",
       "725  INDUSTRIAL COMBUSTION MEG-34S           #6   \n",
       "726                  ICI DEG 175 P           #6   \n",
       "\n",
       "     High Estimate of Consumption (Gal)  Low Estimate of Consumption (Gal)  \n",
       "725                             32016.0                            22411.0  \n",
       "726                            146000.0                           102200.0  "
      ]
     },
     "execution_count": 11,
     "metadata": {},
     "output_type": "execute_result"
    }
   ],
   "source": [
    "boilers.head(2)"
   ]
  },
  {
   "cell_type": "code",
   "execution_count": 12,
   "metadata": {
    "collapsed": false
   },
   "outputs": [
    {
     "data": {
      "text/plain": [
       "BBL                                     0\n",
       "Con Edison or National Grid             0\n",
       "Building Manager                        0\n",
       "Owner                                 202\n",
       "Boiler Model                            8\n",
       "Boiler capacity (Gross BTU)             0\n",
       "Boiler Installation Date                0\n",
       "Is boiler dual fuel capable?            0\n",
       "Burner Model                            8\n",
       "Primary Fuel                            0\n",
       "High Estimate of Consumption (Gal)      0\n",
       "Low Estimate of Consumption (Gal)       0\n",
       "dtype: int64"
      ]
     },
     "execution_count": 12,
     "metadata": {},
     "output_type": "execute_result"
    }
   ],
   "source": [
    "boilers.isnull().sum()"
   ]
  },
  {
   "cell_type": "code",
   "execution_count": 13,
   "metadata": {
    "collapsed": false
   },
   "outputs": [],
   "source": [
    "boilers['BBL'] = boilers['BBL'].astype(int)\n",
    "boilers['BBL'] = boilers['BBL'].astype(str)"
   ]
  },
  {
   "cell_type": "code",
   "execution_count": 14,
   "metadata": {
    "collapsed": false
   },
   "outputs": [],
   "source": [
    "boilers['Boiler Age'] = 2017 - boilers['Boiler Installation Date']\n",
    "boilers['Average Consumption (Gal)'] = (boilers['High Estimate of Consumption (Gal)'] + boilers['Low Estimate of Consumption (Gal)'])/2.0"
   ]
  },
  {
   "cell_type": "code",
   "execution_count": 15,
   "metadata": {
    "collapsed": true
   },
   "outputs": [],
   "source": [
    "boilers = boilers.drop(['Boiler Installation Date', 'High Estimate of Consumption (Gal)', \\\n",
    "                       'Low Estimate of Consumption (Gal)'], axis=1)"
   ]
  },
  {
   "cell_type": "code",
   "execution_count": 16,
   "metadata": {
    "collapsed": false
   },
   "outputs": [
    {
     "data": {
      "text/html": [
       "<div>\n",
       "<table border=\"1\" class=\"dataframe\">\n",
       "  <thead>\n",
       "    <tr style=\"text-align: right;\">\n",
       "      <th></th>\n",
       "      <th>BBL</th>\n",
       "      <th>Con Edison or National Grid</th>\n",
       "      <th>Building Manager</th>\n",
       "      <th>Owner</th>\n",
       "      <th>Boiler Model</th>\n",
       "      <th>Boiler capacity (Gross BTU)</th>\n",
       "      <th>Is boiler dual fuel capable?</th>\n",
       "      <th>Burner Model</th>\n",
       "      <th>Primary Fuel</th>\n",
       "      <th>Boiler Age</th>\n",
       "      <th>Average Consumption (Gal)</th>\n",
       "    </tr>\n",
       "  </thead>\n",
       "  <tbody>\n",
       "    <tr>\n",
       "      <th>725</th>\n",
       "      <td>1007910062</td>\n",
       "      <td>Con Edison</td>\n",
       "      <td>J.C. DWIGHT #16</td>\n",
       "      <td>130 W 16 OWNERS INC</td>\n",
       "      <td>ROCKMILLS MP-70</td>\n",
       "      <td>2.8</td>\n",
       "      <td></td>\n",
       "      <td>INDUSTRIAL COMBUSTION MEG-34S</td>\n",
       "      <td>#6</td>\n",
       "      <td>38.0</td>\n",
       "      <td>27213.5</td>\n",
       "    </tr>\n",
       "    <tr>\n",
       "      <th>726</th>\n",
       "      <td>1012440072</td>\n",
       "      <td>Con Edison</td>\n",
       "      <td>LYNDONVILLE PROPERTIES MGMT</td>\n",
       "      <td>ARNAV INDUSTIRES INC</td>\n",
       "      <td>FEDERAL FST-400</td>\n",
       "      <td>14.0</td>\n",
       "      <td></td>\n",
       "      <td>ICI DEG 175 P</td>\n",
       "      <td>#6</td>\n",
       "      <td>34.0</td>\n",
       "      <td>124100.0</td>\n",
       "    </tr>\n",
       "  </tbody>\n",
       "</table>\n",
       "</div>"
      ],
      "text/plain": [
       "            BBL Con Edison or National Grid             Building Manager  \\\n",
       "725  1007910062                  Con Edison              J.C. DWIGHT #16   \n",
       "726  1012440072                  Con Edison  LYNDONVILLE PROPERTIES MGMT   \n",
       "\n",
       "                    Owner     Boiler Model  Boiler capacity (Gross BTU)  \\\n",
       "725   130 W 16 OWNERS INC  ROCKMILLS MP-70                          2.8   \n",
       "726  ARNAV INDUSTIRES INC  FEDERAL FST-400                         14.0   \n",
       "\n",
       "    Is boiler dual fuel capable?                   Burner Model Primary Fuel  \\\n",
       "725                               INDUSTRIAL COMBUSTION MEG-34S           #6   \n",
       "726                                               ICI DEG 175 P           #6   \n",
       "\n",
       "     Boiler Age  Average Consumption (Gal)  \n",
       "725        38.0                    27213.5  \n",
       "726        34.0                   124100.0  "
      ]
     },
     "execution_count": 16,
     "metadata": {},
     "output_type": "execute_result"
    }
   ],
   "source": [
    "boilers.head(2)"
   ]
  },
  {
   "cell_type": "code",
   "execution_count": 17,
   "metadata": {
    "collapsed": false
   },
   "outputs": [
    {
     "data": {
      "text/plain": [
       "array([' ', 'DUAL FUEL'], dtype=object)"
      ]
     },
     "execution_count": 17,
     "metadata": {},
     "output_type": "execute_result"
    }
   ],
   "source": [
    "boilers['Is boiler dual fuel capable?'].unique()"
   ]
  },
  {
   "cell_type": "code",
   "execution_count": 18,
   "metadata": {
    "collapsed": true
   },
   "outputs": [],
   "source": [
    "boilers['Is boiler dual fuel capable?'] = boilers['Is boiler dual fuel capable?'].replace(to_replace=' ',value='No')"
   ]
  },
  {
   "cell_type": "code",
   "execution_count": 19,
   "metadata": {
    "collapsed": true
   },
   "outputs": [],
   "source": [
    "boilers['Is boiler dual fuel capable?'] = boilers['Is boiler dual fuel capable?'].replace(to_replace='DUAL FUEL',value='Yes')"
   ]
  },
  {
   "cell_type": "code",
   "execution_count": 20,
   "metadata": {
    "collapsed": false
   },
   "outputs": [
    {
     "data": {
      "text/html": [
       "<div>\n",
       "<table border=\"1\" class=\"dataframe\">\n",
       "  <thead>\n",
       "    <tr style=\"text-align: right;\">\n",
       "      <th></th>\n",
       "      <th>BBL</th>\n",
       "      <th>Con Edison or National Grid</th>\n",
       "      <th>Building Manager</th>\n",
       "      <th>Owner</th>\n",
       "      <th>Boiler Model</th>\n",
       "      <th>Boiler capacity (Gross BTU)</th>\n",
       "      <th>Is boiler dual fuel capable?</th>\n",
       "      <th>Burner Model</th>\n",
       "      <th>Primary Fuel</th>\n",
       "      <th>Boiler Age</th>\n",
       "      <th>Average Consumption (Gal)</th>\n",
       "    </tr>\n",
       "  </thead>\n",
       "  <tbody>\n",
       "    <tr>\n",
       "      <th>725</th>\n",
       "      <td>1007910062</td>\n",
       "      <td>Con Edison</td>\n",
       "      <td>J.C. DWIGHT #16</td>\n",
       "      <td>130 W 16 OWNERS INC</td>\n",
       "      <td>ROCKMILLS MP-70</td>\n",
       "      <td>2.8</td>\n",
       "      <td>No</td>\n",
       "      <td>INDUSTRIAL COMBUSTION MEG-34S</td>\n",
       "      <td>#6</td>\n",
       "      <td>38.0</td>\n",
       "      <td>27213.5</td>\n",
       "    </tr>\n",
       "    <tr>\n",
       "      <th>726</th>\n",
       "      <td>1012440072</td>\n",
       "      <td>Con Edison</td>\n",
       "      <td>LYNDONVILLE PROPERTIES MGMT</td>\n",
       "      <td>ARNAV INDUSTIRES INC</td>\n",
       "      <td>FEDERAL FST-400</td>\n",
       "      <td>14.0</td>\n",
       "      <td>No</td>\n",
       "      <td>ICI DEG 175 P</td>\n",
       "      <td>#6</td>\n",
       "      <td>34.0</td>\n",
       "      <td>124100.0</td>\n",
       "    </tr>\n",
       "  </tbody>\n",
       "</table>\n",
       "</div>"
      ],
      "text/plain": [
       "            BBL Con Edison or National Grid             Building Manager  \\\n",
       "725  1007910062                  Con Edison              J.C. DWIGHT #16   \n",
       "726  1012440072                  Con Edison  LYNDONVILLE PROPERTIES MGMT   \n",
       "\n",
       "                    Owner     Boiler Model  Boiler capacity (Gross BTU)  \\\n",
       "725   130 W 16 OWNERS INC  ROCKMILLS MP-70                          2.8   \n",
       "726  ARNAV INDUSTIRES INC  FEDERAL FST-400                         14.0   \n",
       "\n",
       "    Is boiler dual fuel capable?                   Burner Model Primary Fuel  \\\n",
       "725                           No  INDUSTRIAL COMBUSTION MEG-34S           #6   \n",
       "726                           No                  ICI DEG 175 P           #6   \n",
       "\n",
       "     Boiler Age  Average Consumption (Gal)  \n",
       "725        38.0                    27213.5  \n",
       "726        34.0                   124100.0  "
      ]
     },
     "execution_count": 20,
     "metadata": {},
     "output_type": "execute_result"
    }
   ],
   "source": [
    "boilers.head(2)"
   ]
  },
  {
   "cell_type": "code",
   "execution_count": 21,
   "metadata": {
    "collapsed": false
   },
   "outputs": [
    {
     "data": {
      "text/plain": [
       "array([  27213.5,  124100. ,   26192. , ...,   40767. ,  123630. ,   31654. ])"
      ]
     },
     "execution_count": 21,
     "metadata": {},
     "output_type": "execute_result"
    }
   ],
   "source": [
    "boilers['Average Consumption (Gal)'].unique()"
   ]
  },
  {
   "cell_type": "code",
   "execution_count": 22,
   "metadata": {
    "collapsed": false
   },
   "outputs": [
    {
     "data": {
      "text/plain": [
       "6603"
      ]
     },
     "execution_count": 22,
     "metadata": {},
     "output_type": "execute_result"
    }
   ],
   "source": [
    "len(boilers['Owner'].unique())"
   ]
  },
  {
   "cell_type": "code",
   "execution_count": 23,
   "metadata": {
    "collapsed": false
   },
   "outputs": [
    {
     "data": {
      "text/plain": [
       "7277"
      ]
     },
     "execution_count": 23,
     "metadata": {},
     "output_type": "execute_result"
    }
   ],
   "source": [
    "len(boilers['Building Manager'].unique())"
   ]
  },
  {
   "cell_type": "code",
   "execution_count": 24,
   "metadata": {
    "collapsed": false
   },
   "outputs": [
    {
     "data": {
      "text/html": [
       "<div>\n",
       "<table border=\"1\" class=\"dataframe\">\n",
       "  <thead>\n",
       "    <tr style=\"text-align: right;\">\n",
       "      <th></th>\n",
       "      <th>Boiler capacity (Gross BTU)</th>\n",
       "      <th>Boiler Age</th>\n",
       "      <th>Average Consumption (Gal)</th>\n",
       "    </tr>\n",
       "  </thead>\n",
       "  <tbody>\n",
       "    <tr>\n",
       "      <th>Boiler capacity (Gross BTU)</th>\n",
       "      <td>1.000000</td>\n",
       "      <td>-0.027618</td>\n",
       "      <td>-0.000711</td>\n",
       "    </tr>\n",
       "    <tr>\n",
       "      <th>Boiler Age</th>\n",
       "      <td>-0.027618</td>\n",
       "      <td>1.000000</td>\n",
       "      <td>0.097770</td>\n",
       "    </tr>\n",
       "    <tr>\n",
       "      <th>Average Consumption (Gal)</th>\n",
       "      <td>-0.000711</td>\n",
       "      <td>0.097770</td>\n",
       "      <td>1.000000</td>\n",
       "    </tr>\n",
       "  </tbody>\n",
       "</table>\n",
       "</div>"
      ],
      "text/plain": [
       "                             Boiler capacity (Gross BTU)  Boiler Age  \\\n",
       "Boiler capacity (Gross BTU)                     1.000000   -0.027618   \n",
       "Boiler Age                                     -0.027618    1.000000   \n",
       "Average Consumption (Gal)                      -0.000711    0.097770   \n",
       "\n",
       "                             Average Consumption (Gal)  \n",
       "Boiler capacity (Gross BTU)                  -0.000711  \n",
       "Boiler Age                                    0.097770  \n",
       "Average Consumption (Gal)                     1.000000  "
      ]
     },
     "execution_count": 24,
     "metadata": {},
     "output_type": "execute_result"
    }
   ],
   "source": [
    "boilers.corr()"
   ]
  },
  {
   "cell_type": "code",
   "execution_count": 25,
   "metadata": {
    "collapsed": false
   },
   "outputs": [
    {
     "data": {
      "text/html": [
       "<div>\n",
       "<table border=\"1\" class=\"dataframe\">\n",
       "  <thead>\n",
       "    <tr style=\"text-align: right;\">\n",
       "      <th></th>\n",
       "      <th>BBL</th>\n",
       "      <th>Con Edison or National Grid</th>\n",
       "      <th>Building Manager</th>\n",
       "      <th>Owner</th>\n",
       "      <th>Boiler Model</th>\n",
       "      <th>Boiler capacity (Gross BTU)</th>\n",
       "      <th>Is boiler dual fuel capable?</th>\n",
       "      <th>Burner Model</th>\n",
       "      <th>Primary Fuel</th>\n",
       "      <th>Boiler Age</th>\n",
       "      <th>Average Consumption (Gal)</th>\n",
       "    </tr>\n",
       "  </thead>\n",
       "  <tbody>\n",
       "    <tr>\n",
       "      <th>725</th>\n",
       "      <td>1007910062</td>\n",
       "      <td>Con Edison</td>\n",
       "      <td>J.C. DWIGHT #16</td>\n",
       "      <td>130 W 16 OWNERS INC</td>\n",
       "      <td>ROCKMILLS MP-70</td>\n",
       "      <td>2.8</td>\n",
       "      <td>No</td>\n",
       "      <td>INDUSTRIAL COMBUSTION MEG-34S</td>\n",
       "      <td>#6</td>\n",
       "      <td>38.0</td>\n",
       "      <td>27213.5</td>\n",
       "    </tr>\n",
       "    <tr>\n",
       "      <th>726</th>\n",
       "      <td>1012440072</td>\n",
       "      <td>Con Edison</td>\n",
       "      <td>LYNDONVILLE PROPERTIES MGMT</td>\n",
       "      <td>ARNAV INDUSTIRES INC</td>\n",
       "      <td>FEDERAL FST-400</td>\n",
       "      <td>14.0</td>\n",
       "      <td>No</td>\n",
       "      <td>ICI DEG 175 P</td>\n",
       "      <td>#6</td>\n",
       "      <td>34.0</td>\n",
       "      <td>124100.0</td>\n",
       "    </tr>\n",
       "  </tbody>\n",
       "</table>\n",
       "</div>"
      ],
      "text/plain": [
       "            BBL Con Edison or National Grid             Building Manager  \\\n",
       "725  1007910062                  Con Edison              J.C. DWIGHT #16   \n",
       "726  1012440072                  Con Edison  LYNDONVILLE PROPERTIES MGMT   \n",
       "\n",
       "                    Owner     Boiler Model  Boiler capacity (Gross BTU)  \\\n",
       "725   130 W 16 OWNERS INC  ROCKMILLS MP-70                          2.8   \n",
       "726  ARNAV INDUSTIRES INC  FEDERAL FST-400                         14.0   \n",
       "\n",
       "    Is boiler dual fuel capable?                   Burner Model Primary Fuel  \\\n",
       "725                           No  INDUSTRIAL COMBUSTION MEG-34S           #6   \n",
       "726                           No                  ICI DEG 175 P           #6   \n",
       "\n",
       "     Boiler Age  Average Consumption (Gal)  \n",
       "725        38.0                    27213.5  \n",
       "726        34.0                   124100.0  "
      ]
     },
     "execution_count": 25,
     "metadata": {},
     "output_type": "execute_result"
    }
   ],
   "source": [
    "boilers.head(2)"
   ]
  },
  {
   "cell_type": "code",
   "execution_count": 26,
   "metadata": {
    "collapsed": false
   },
   "outputs": [],
   "source": [
    "updated = pd.DataFrame()\n",
    "updated['avg_consumption'] = boilers['Average Consumption (Gal)'].groupby(boilers['BBL']).sum()\n",
    "updated['avg_boiler_age'] = boilers['Boiler Age'].groupby(boilers['BBL']).mean()\n",
    "updated['avg_boiler_capacity'] = boilers['Boiler capacity (Gross BTU)'].groupby(boilers['BBL']).mean()\n",
    "updated = updated.reset_index()"
   ]
  },
  {
   "cell_type": "code",
   "execution_count": 27,
   "metadata": {
    "collapsed": false
   },
   "outputs": [
    {
     "data": {
      "text/html": [
       "<div>\n",
       "<table border=\"1\" class=\"dataframe\">\n",
       "  <thead>\n",
       "    <tr style=\"text-align: right;\">\n",
       "      <th></th>\n",
       "      <th>BBL</th>\n",
       "      <th>avg_consumption</th>\n",
       "      <th>avg_boiler_age</th>\n",
       "      <th>avg_boiler_capacity</th>\n",
       "    </tr>\n",
       "  </thead>\n",
       "  <tbody>\n",
       "    <tr>\n",
       "      <th>0</th>\n",
       "      <td>1000087501</td>\n",
       "      <td>69806.0</td>\n",
       "      <td>26.0</td>\n",
       "      <td>17.92</td>\n",
       "    </tr>\n",
       "    <tr>\n",
       "      <th>1</th>\n",
       "      <td>1000130001</td>\n",
       "      <td>45900.0</td>\n",
       "      <td>47.0</td>\n",
       "      <td>16.80</td>\n",
       "    </tr>\n",
       "    <tr>\n",
       "      <th>2</th>\n",
       "      <td>1000157501</td>\n",
       "      <td>354569.0</td>\n",
       "      <td>25.0</td>\n",
       "      <td>19.99</td>\n",
       "    </tr>\n",
       "    <tr>\n",
       "      <th>3</th>\n",
       "      <td>1000160080</td>\n",
       "      <td>34000.0</td>\n",
       "      <td>32.0</td>\n",
       "      <td>8.40</td>\n",
       "    </tr>\n",
       "    <tr>\n",
       "      <th>4</th>\n",
       "      <td>1000167508</td>\n",
       "      <td>283900.0</td>\n",
       "      <td>30.0</td>\n",
       "      <td>16.80</td>\n",
       "    </tr>\n",
       "  </tbody>\n",
       "</table>\n",
       "</div>"
      ],
      "text/plain": [
       "          BBL  avg_consumption  avg_boiler_age  avg_boiler_capacity\n",
       "0  1000087501          69806.0            26.0                17.92\n",
       "1  1000130001          45900.0            47.0                16.80\n",
       "2  1000157501         354569.0            25.0                19.99\n",
       "3  1000160080          34000.0            32.0                 8.40\n",
       "4  1000167508         283900.0            30.0                16.80"
      ]
     },
     "execution_count": 27,
     "metadata": {},
     "output_type": "execute_result"
    }
   ],
   "source": [
    "updated.head()"
   ]
  },
  {
   "cell_type": "code",
   "execution_count": 28,
   "metadata": {
    "collapsed": true
   },
   "outputs": [],
   "source": [
    "updated['oil_boiler'] = 1"
   ]
  },
  {
   "cell_type": "code",
   "execution_count": 29,
   "metadata": {
    "collapsed": false
   },
   "outputs": [
    {
     "data": {
      "text/html": [
       "<div>\n",
       "<table border=\"1\" class=\"dataframe\">\n",
       "  <thead>\n",
       "    <tr style=\"text-align: right;\">\n",
       "      <th></th>\n",
       "      <th>BBL</th>\n",
       "      <th>avg_consumption</th>\n",
       "      <th>avg_boiler_age</th>\n",
       "      <th>avg_boiler_capacity</th>\n",
       "      <th>oil_boiler</th>\n",
       "    </tr>\n",
       "  </thead>\n",
       "  <tbody>\n",
       "    <tr>\n",
       "      <th>0</th>\n",
       "      <td>1000087501</td>\n",
       "      <td>69806.0</td>\n",
       "      <td>26.0</td>\n",
       "      <td>17.92</td>\n",
       "      <td>1</td>\n",
       "    </tr>\n",
       "    <tr>\n",
       "      <th>1</th>\n",
       "      <td>1000130001</td>\n",
       "      <td>45900.0</td>\n",
       "      <td>47.0</td>\n",
       "      <td>16.80</td>\n",
       "      <td>1</td>\n",
       "    </tr>\n",
       "  </tbody>\n",
       "</table>\n",
       "</div>"
      ],
      "text/plain": [
       "          BBL  avg_consumption  avg_boiler_age  avg_boiler_capacity  \\\n",
       "0  1000087501          69806.0            26.0                17.92   \n",
       "1  1000130001          45900.0            47.0                16.80   \n",
       "\n",
       "   oil_boiler  \n",
       "0           1  \n",
       "1           1  "
      ]
     },
     "execution_count": 29,
     "metadata": {},
     "output_type": "execute_result"
    }
   ],
   "source": [
    "updated.head(2)"
   ]
  },
  {
   "cell_type": "code",
   "execution_count": 30,
   "metadata": {
    "collapsed": false
   },
   "outputs": [
    {
     "data": {
      "text/plain": [
       "2589"
      ]
     },
     "execution_count": 30,
     "metadata": {},
     "output_type": "execute_result"
    }
   ],
   "source": [
    "len(boilers['Boiler Model'].unique())"
   ]
  },
  {
   "cell_type": "code",
   "execution_count": 31,
   "metadata": {
    "collapsed": false
   },
   "outputs": [
    {
     "data": {
      "text/plain": [
       "7300"
      ]
     },
     "execution_count": 31,
     "metadata": {},
     "output_type": "execute_result"
    }
   ],
   "source": [
    "len(boilers['BBL'].unique())"
   ]
  },
  {
   "cell_type": "code",
   "execution_count": 32,
   "metadata": {
    "collapsed": false
   },
   "outputs": [
    {
     "data": {
      "text/plain": [
       "8048"
      ]
     },
     "execution_count": 32,
     "metadata": {},
     "output_type": "execute_result"
    }
   ],
   "source": [
    "len(boilers)"
   ]
  },
  {
   "cell_type": "code",
   "execution_count": 33,
   "metadata": {
    "collapsed": false
   },
   "outputs": [
    {
     "name": "stderr",
     "output_type": "stream",
     "text": [
      "//anaconda/lib/python2.7/site-packages/IPython/core/interactiveshell.py:2723: DtypeWarning: Columns (27,37,40,46,53,64,65,84,85) have mixed types. Specify dtype option on import or set low_memory=False.\n",
      "  interactivity=interactivity, compiler=compiler, result=result)\n"
     ]
    }
   ],
   "source": [
    "bbl = pd.read_csv('../data_processed/pluto_16')"
   ]
  },
  {
   "cell_type": "code",
   "execution_count": 34,
   "metadata": {
    "collapsed": false
   },
   "outputs": [
    {
     "data": {
      "text/html": [
       "<div>\n",
       "<table border=\"1\" class=\"dataframe\">\n",
       "  <thead>\n",
       "    <tr style=\"text-align: right;\">\n",
       "      <th></th>\n",
       "      <th>Unnamed: 0</th>\n",
       "      <th>APPBBL</th>\n",
       "      <th>APPDate</th>\n",
       "      <th>Address</th>\n",
       "      <th>AllZoning1</th>\n",
       "      <th>AllZoning2</th>\n",
       "      <th>AreaSource</th>\n",
       "      <th>AssessLand</th>\n",
       "      <th>AssessTot</th>\n",
       "      <th>BBL</th>\n",
       "      <th>...</th>\n",
       "      <th>YearAlter2</th>\n",
       "      <th>YearBuilt</th>\n",
       "      <th>ZMCode</th>\n",
       "      <th>ZipCode</th>\n",
       "      <th>ZoneDist1</th>\n",
       "      <th>ZoneDist2</th>\n",
       "      <th>ZoneDist3</th>\n",
       "      <th>ZoneDist4</th>\n",
       "      <th>ZoneMap</th>\n",
       "      <th>geometry</th>\n",
       "    </tr>\n",
       "  </thead>\n",
       "  <tbody>\n",
       "    <tr>\n",
       "      <th>0</th>\n",
       "      <td>0</td>\n",
       "      <td>0.0</td>\n",
       "      <td>NaN</td>\n",
       "      <td>437 PURDY AVENUE</td>\n",
       "      <td>R3-1</td>\n",
       "      <td>NaN</td>\n",
       "      <td>7</td>\n",
       "      <td>15120.0</td>\n",
       "      <td>23400.0</td>\n",
       "      <td>5.007470e+09</td>\n",
       "      <td>...</td>\n",
       "      <td>0</td>\n",
       "      <td>1960</td>\n",
       "      <td>NaN</td>\n",
       "      <td>10314</td>\n",
       "      <td>R3-1</td>\n",
       "      <td>NaN</td>\n",
       "      <td>NaN</td>\n",
       "      <td>NaN</td>\n",
       "      <td>20d</td>\n",
       "      <td>POLYGON ((944681.4200000018 161477.381400004, ...</td>\n",
       "    </tr>\n",
       "    <tr>\n",
       "      <th>1</th>\n",
       "      <td>1</td>\n",
       "      <td>0.0</td>\n",
       "      <td>NaN</td>\n",
       "      <td>CUNARD AVENUE</td>\n",
       "      <td>R3A/HS</td>\n",
       "      <td>NaN</td>\n",
       "      <td>4</td>\n",
       "      <td>21518.0</td>\n",
       "      <td>21518.0</td>\n",
       "      <td>5.006230e+09</td>\n",
       "      <td>...</td>\n",
       "      <td>0</td>\n",
       "      <td>0</td>\n",
       "      <td>NaN</td>\n",
       "      <td>10304</td>\n",
       "      <td>R3A</td>\n",
       "      <td>NaN</td>\n",
       "      <td>NaN</td>\n",
       "      <td>NaN</td>\n",
       "      <td>21d</td>\n",
       "      <td>POLYGON ((959872.0577999949 162992.5866000056,...</td>\n",
       "    </tr>\n",
       "  </tbody>\n",
       "</table>\n",
       "<p>2 rows × 88 columns</p>\n",
       "</div>"
      ],
      "text/plain": [
       "   Unnamed: 0  APPBBL APPDate           Address AllZoning1 AllZoning2  \\\n",
       "0           0     0.0     NaN  437 PURDY AVENUE       R3-1        NaN   \n",
       "1           1     0.0     NaN     CUNARD AVENUE     R3A/HS        NaN   \n",
       "\n",
       "   AreaSource  AssessLand  AssessTot           BBL  \\\n",
       "0           7     15120.0    23400.0  5.007470e+09   \n",
       "1           4     21518.0    21518.0  5.006230e+09   \n",
       "\n",
       "                         ...                          YearAlter2 YearBuilt  \\\n",
       "0                        ...                                   0      1960   \n",
       "1                        ...                                   0         0   \n",
       "\n",
       "   ZMCode  ZipCode  ZoneDist1  ZoneDist2 ZoneDist3  ZoneDist4 ZoneMap  \\\n",
       "0     NaN    10314       R3-1        NaN       NaN        NaN     20d   \n",
       "1     NaN    10304        R3A        NaN       NaN        NaN     21d   \n",
       "\n",
       "                                            geometry  \n",
       "0  POLYGON ((944681.4200000018 161477.381400004, ...  \n",
       "1  POLYGON ((959872.0577999949 162992.5866000056,...  \n",
       "\n",
       "[2 rows x 88 columns]"
      ]
     },
     "execution_count": 34,
     "metadata": {},
     "output_type": "execute_result"
    }
   ],
   "source": [
    "bbl.head(2)"
   ]
  },
  {
   "cell_type": "code",
   "execution_count": 35,
   "metadata": {
    "collapsed": true
   },
   "outputs": [],
   "source": [
    "bbl['BBL'] = bbl['BBL'].astype(int)"
   ]
  },
  {
   "cell_type": "code",
   "execution_count": 36,
   "metadata": {
    "collapsed": false
   },
   "outputs": [
    {
     "data": {
      "text/html": [
       "<div>\n",
       "<table border=\"1\" class=\"dataframe\">\n",
       "  <thead>\n",
       "    <tr style=\"text-align: right;\">\n",
       "      <th></th>\n",
       "      <th>Unnamed: 0</th>\n",
       "      <th>APPBBL</th>\n",
       "      <th>APPDate</th>\n",
       "      <th>Address</th>\n",
       "      <th>AllZoning1</th>\n",
       "      <th>AllZoning2</th>\n",
       "      <th>AreaSource</th>\n",
       "      <th>AssessLand</th>\n",
       "      <th>AssessTot</th>\n",
       "      <th>BBL</th>\n",
       "      <th>...</th>\n",
       "      <th>YearAlter2</th>\n",
       "      <th>YearBuilt</th>\n",
       "      <th>ZMCode</th>\n",
       "      <th>ZipCode</th>\n",
       "      <th>ZoneDist1</th>\n",
       "      <th>ZoneDist2</th>\n",
       "      <th>ZoneDist3</th>\n",
       "      <th>ZoneDist4</th>\n",
       "      <th>ZoneMap</th>\n",
       "      <th>geometry</th>\n",
       "    </tr>\n",
       "  </thead>\n",
       "  <tbody>\n",
       "    <tr>\n",
       "      <th>0</th>\n",
       "      <td>0</td>\n",
       "      <td>0.0</td>\n",
       "      <td>NaN</td>\n",
       "      <td>437 PURDY AVENUE</td>\n",
       "      <td>R3-1</td>\n",
       "      <td>NaN</td>\n",
       "      <td>7</td>\n",
       "      <td>15120.0</td>\n",
       "      <td>23400.0</td>\n",
       "      <td>5007470028</td>\n",
       "      <td>...</td>\n",
       "      <td>0</td>\n",
       "      <td>1960</td>\n",
       "      <td>NaN</td>\n",
       "      <td>10314</td>\n",
       "      <td>R3-1</td>\n",
       "      <td>NaN</td>\n",
       "      <td>NaN</td>\n",
       "      <td>NaN</td>\n",
       "      <td>20d</td>\n",
       "      <td>POLYGON ((944681.4200000018 161477.381400004, ...</td>\n",
       "    </tr>\n",
       "    <tr>\n",
       "      <th>1</th>\n",
       "      <td>1</td>\n",
       "      <td>0.0</td>\n",
       "      <td>NaN</td>\n",
       "      <td>CUNARD AVENUE</td>\n",
       "      <td>R3A/HS</td>\n",
       "      <td>NaN</td>\n",
       "      <td>4</td>\n",
       "      <td>21518.0</td>\n",
       "      <td>21518.0</td>\n",
       "      <td>5006230252</td>\n",
       "      <td>...</td>\n",
       "      <td>0</td>\n",
       "      <td>0</td>\n",
       "      <td>NaN</td>\n",
       "      <td>10304</td>\n",
       "      <td>R3A</td>\n",
       "      <td>NaN</td>\n",
       "      <td>NaN</td>\n",
       "      <td>NaN</td>\n",
       "      <td>21d</td>\n",
       "      <td>POLYGON ((959872.0577999949 162992.5866000056,...</td>\n",
       "    </tr>\n",
       "  </tbody>\n",
       "</table>\n",
       "<p>2 rows × 88 columns</p>\n",
       "</div>"
      ],
      "text/plain": [
       "   Unnamed: 0  APPBBL APPDate           Address AllZoning1 AllZoning2  \\\n",
       "0           0     0.0     NaN  437 PURDY AVENUE       R3-1        NaN   \n",
       "1           1     0.0     NaN     CUNARD AVENUE     R3A/HS        NaN   \n",
       "\n",
       "   AreaSource  AssessLand  AssessTot         BBL  \\\n",
       "0           7     15120.0    23400.0  5007470028   \n",
       "1           4     21518.0    21518.0  5006230252   \n",
       "\n",
       "                         ...                          YearAlter2 YearBuilt  \\\n",
       "0                        ...                                   0      1960   \n",
       "1                        ...                                   0         0   \n",
       "\n",
       "   ZMCode  ZipCode  ZoneDist1  ZoneDist2 ZoneDist3  ZoneDist4 ZoneMap  \\\n",
       "0     NaN    10314       R3-1        NaN       NaN        NaN     20d   \n",
       "1     NaN    10304        R3A        NaN       NaN        NaN     21d   \n",
       "\n",
       "                                            geometry  \n",
       "0  POLYGON ((944681.4200000018 161477.381400004, ...  \n",
       "1  POLYGON ((959872.0577999949 162992.5866000056,...  \n",
       "\n",
       "[2 rows x 88 columns]"
      ]
     },
     "execution_count": 36,
     "metadata": {},
     "output_type": "execute_result"
    }
   ],
   "source": [
    "bbl.head(2)"
   ]
  },
  {
   "cell_type": "code",
   "execution_count": 37,
   "metadata": {
    "collapsed": true
   },
   "outputs": [],
   "source": [
    "bbl = bbl[['BBL','AssessLand']]"
   ]
  },
  {
   "cell_type": "code",
   "execution_count": 38,
   "metadata": {
    "collapsed": false
   },
   "outputs": [],
   "source": [
    "joined = pd.merge(bbl, updated, on='BBL', how='left')"
   ]
  },
  {
   "cell_type": "code",
   "execution_count": 39,
   "metadata": {
    "collapsed": false
   },
   "outputs": [
    {
     "data": {
      "text/plain": [
       "BBL                         0\n",
       "AssessLand                  0\n",
       "avg_consumption        857513\n",
       "avg_boiler_age         857513\n",
       "avg_boiler_capacity    857513\n",
       "oil_boiler             857513\n",
       "dtype: int64"
      ]
     },
     "execution_count": 39,
     "metadata": {},
     "output_type": "execute_result"
    }
   ],
   "source": [
    "joined.isnull().sum()"
   ]
  },
  {
   "cell_type": "code",
   "execution_count": 40,
   "metadata": {
    "collapsed": false
   },
   "outputs": [],
   "source": [
    "joined['oil_boiler']= joined['oil_boiler'].replace(np.nan, 0)"
   ]
  },
  {
   "cell_type": "code",
   "execution_count": 43,
   "metadata": {
    "collapsed": true
   },
   "outputs": [],
   "source": [
    "joined = joined.drop('AssessLand',axis=1)"
   ]
  },
  {
   "cell_type": "code",
   "execution_count": 44,
   "metadata": {
    "collapsed": true
   },
   "outputs": [],
   "source": [
    "joined.to_csv('../data_processed/boilers.csv')"
   ]
  },
  {
   "cell_type": "code",
   "execution_count": 45,
   "metadata": {
    "collapsed": false
   },
   "outputs": [
    {
     "data": {
      "text/html": [
       "<div>\n",
       "<table border=\"1\" class=\"dataframe\">\n",
       "  <thead>\n",
       "    <tr style=\"text-align: right;\">\n",
       "      <th></th>\n",
       "      <th>BBL</th>\n",
       "      <th>avg_consumption</th>\n",
       "      <th>avg_boiler_age</th>\n",
       "      <th>avg_boiler_capacity</th>\n",
       "      <th>oil_boiler</th>\n",
       "    </tr>\n",
       "  </thead>\n",
       "  <tbody>\n",
       "    <tr>\n",
       "      <th>0</th>\n",
       "      <td>5007470028</td>\n",
       "      <td>NaN</td>\n",
       "      <td>NaN</td>\n",
       "      <td>NaN</td>\n",
       "      <td>0.0</td>\n",
       "    </tr>\n",
       "    <tr>\n",
       "      <th>1</th>\n",
       "      <td>5006230252</td>\n",
       "      <td>NaN</td>\n",
       "      <td>NaN</td>\n",
       "      <td>NaN</td>\n",
       "      <td>0.0</td>\n",
       "    </tr>\n",
       "  </tbody>\n",
       "</table>\n",
       "</div>"
      ],
      "text/plain": [
       "          BBL  avg_consumption  avg_boiler_age  avg_boiler_capacity  \\\n",
       "0  5007470028              NaN             NaN                  NaN   \n",
       "1  5006230252              NaN             NaN                  NaN   \n",
       "\n",
       "   oil_boiler  \n",
       "0         0.0  \n",
       "1         0.0  "
      ]
     },
     "execution_count": 45,
     "metadata": {},
     "output_type": "execute_result"
    }
   ],
   "source": [
    "joined.head(2)"
   ]
  }
 ],
 "metadata": {
  "kernelspec": {
   "display_name": "Python 2",
   "language": "python",
   "name": "python2"
  },
  "language_info": {
   "codemirror_mode": {
    "name": "ipython",
    "version": 2
   },
   "file_extension": ".py",
   "mimetype": "text/x-python",
   "name": "python",
   "nbconvert_exporter": "python",
   "pygments_lexer": "ipython2",
   "version": "2.7.12"
  }
 },
 "nbformat": 4,
 "nbformat_minor": 1
}
